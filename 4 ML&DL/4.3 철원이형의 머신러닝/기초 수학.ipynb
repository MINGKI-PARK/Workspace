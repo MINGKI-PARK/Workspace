{
 "cells": [
  {
   "cell_type": "markdown",
   "id": "14a21a9a",
   "metadata": {},
   "source": [
    "## 1. 시그마 Sigma"
   ]
  },
  {
   "cell_type": "code",
   "execution_count": 1,
   "id": "49b3f4a2",
   "metadata": {
    "ExecuteTime": {
     "end_time": "2023-07-17T02:10:32.233385Z",
     "start_time": "2023-07-17T02:10:32.206420Z"
    }
   },
   "outputs": [
    {
     "data": {
      "text/plain": [
       "55"
      ]
     },
     "execution_count": 1,
     "metadata": {},
     "output_type": "execute_result"
    }
   ],
   "source": [
    "res = 0\n",
    "for i in range(1, 11):\n",
    "    res += i\n",
    "res"
   ]
  },
  {
   "cell_type": "code",
   "execution_count": 3,
   "id": "0eed654e",
   "metadata": {
    "ExecuteTime": {
     "end_time": "2023-07-17T02:15:22.425367Z",
     "start_time": "2023-07-17T02:15:22.414469Z"
    }
   },
   "outputs": [
    {
     "data": {
      "text/plain": [
       "24"
      ]
     },
     "execution_count": 3,
     "metadata": {},
     "output_type": "execute_result"
    }
   ],
   "source": [
    "res = 0\n",
    "for i in range(7, 10):\n",
    "    res += i\n",
    "res"
   ]
  },
  {
   "cell_type": "code",
   "execution_count": 4,
   "id": "84130f20",
   "metadata": {
    "ExecuteTime": {
     "end_time": "2023-07-17T02:15:44.885519Z",
     "start_time": "2023-07-17T02:15:44.869895Z"
    }
   },
   "outputs": [
    {
     "data": {
      "text/plain": [
       "30"
      ]
     },
     "execution_count": 4,
     "metadata": {},
     "output_type": "execute_result"
    }
   ],
   "source": [
    "res = 0\n",
    "for i in range(1, 11):\n",
    "    res += 3\n",
    "res"
   ]
  },
  {
   "cell_type": "markdown",
   "id": "87d4c560",
   "metadata": {},
   "source": [
    "### 1.1 제곱함\n",
    "\n",
    "+ 굉장히 중요"
   ]
  },
  {
   "cell_type": "code",
   "execution_count": 6,
   "id": "7fef548d",
   "metadata": {
    "ExecuteTime": {
     "end_time": "2023-07-17T02:16:11.954024Z",
     "start_time": "2023-07-17T02:16:11.940432Z"
    }
   },
   "outputs": [
    {
     "data": {
      "text/plain": [
       "55"
      ]
     },
     "execution_count": 6,
     "metadata": {},
     "output_type": "execute_result"
    }
   ],
   "source": [
    "res = 0\n",
    "\n",
    "for i in range(1, 6):\n",
    "    res += i**2\n",
    "    \n",
    "res"
   ]
  },
  {
   "cell_type": "code",
   "execution_count": 7,
   "id": "361934e9",
   "metadata": {
    "ExecuteTime": {
     "end_time": "2023-07-17T02:16:53.971501Z",
     "start_time": "2023-07-17T02:16:53.951858Z"
    }
   },
   "outputs": [
    {
     "name": "stdout",
     "output_type": "stream",
     "text": [
      "1 1\n",
      "2 5\n",
      "3 14\n",
      "4 30\n",
      "5 55\n"
     ]
    },
    {
     "data": {
      "text/plain": [
       "55"
      ]
     },
     "execution_count": 7,
     "metadata": {},
     "output_type": "execute_result"
    }
   ],
   "source": [
    "# 단계별로 확인하기\n",
    "res = 0\n",
    "for i in range(1, 6):\n",
    "    res += i**2\n",
    "    print(i, res)\n",
    "res"
   ]
  },
  {
   "cell_type": "markdown",
   "id": "be456b57",
   "metadata": {},
   "source": [
    "## 2. 파이 pi"
   ]
  },
  {
   "cell_type": "code",
   "execution_count": 8,
   "id": "f6e1544c",
   "metadata": {
    "ExecuteTime": {
     "end_time": "2023-07-17T02:21:51.961415Z",
     "start_time": "2023-07-17T02:21:51.949171Z"
    }
   },
   "outputs": [
    {
     "data": {
      "text/plain": [
       "3628800"
      ]
     },
     "execution_count": 8,
     "metadata": {},
     "output_type": "execute_result"
    }
   ],
   "source": [
    "res = 1\n",
    "for i in range(1, 11):\n",
    "    res *= i\n",
    "res"
   ]
  },
  {
   "cell_type": "markdown",
   "id": "023042d2",
   "metadata": {},
   "source": [
    "## 3. 팩토리얼 factorial"
   ]
  },
  {
   "cell_type": "code",
   "execution_count": 9,
   "id": "6be9080d",
   "metadata": {
    "ExecuteTime": {
     "end_time": "2023-07-17T02:24:00.469664Z",
     "start_time": "2023-07-17T02:24:00.460724Z"
    }
   },
   "outputs": [
    {
     "data": {
      "text/plain": [
       "120"
      ]
     },
     "execution_count": 9,
     "metadata": {},
     "output_type": "execute_result"
    }
   ],
   "source": [
    "res = 1\n",
    "for i in range(1, 6):\n",
    "    res *= i\n",
    "res"
   ]
  },
  {
   "cell_type": "code",
   "execution_count": 10,
   "id": "d6dbe1ac",
   "metadata": {
    "ExecuteTime": {
     "end_time": "2023-07-17T02:24:47.753205Z",
     "start_time": "2023-07-17T02:24:47.735250Z"
    }
   },
   "outputs": [],
   "source": [
    "# 팩토리얼 함수\n",
    "def fac(n:int):\n",
    "    res = 1\n",
    "    for i in range(1, n+1):\n",
    "        res *= i\n",
    "    return res"
   ]
  },
  {
   "cell_type": "code",
   "execution_count": 13,
   "id": "a97921c3",
   "metadata": {
    "ExecuteTime": {
     "end_time": "2023-07-17T02:25:57.570916Z",
     "start_time": "2023-07-17T02:25:57.558138Z"
    }
   },
   "outputs": [
    {
     "data": {
      "text/plain": [
       "(3628800, 120)"
      ]
     },
     "execution_count": 13,
     "metadata": {},
     "output_type": "execute_result"
    }
   ],
   "source": [
    "fac(10), fac(5)"
   ]
  },
  {
   "cell_type": "code",
   "execution_count": 15,
   "id": "24394092",
   "metadata": {
    "ExecuteTime": {
     "end_time": "2023-07-17T02:26:12.043114Z",
     "start_time": "2023-07-17T02:26:12.028154Z"
    }
   },
   "outputs": [],
   "source": [
    "# 팩토리얼 함수\n",
    "def factorial(n:int):\n",
    "    res = 1\n",
    "    for i in range(1, n+1):\n",
    "        res *= i\n",
    "    return res"
   ]
  },
  {
   "cell_type": "markdown",
   "id": "8709ce92",
   "metadata": {},
   "source": [
    "## 4. 조합 combination"
   ]
  },
  {
   "cell_type": "code",
   "execution_count": 18,
   "id": "53c931a6",
   "metadata": {
    "ExecuteTime": {
     "end_time": "2023-07-17T02:30:23.628607Z",
     "start_time": "2023-07-17T02:30:23.617790Z"
    }
   },
   "outputs": [],
   "source": [
    "def binomial(n, x):\n",
    "    return factorial(n) / (factorial(x) * factorial(n-x))"
   ]
  },
  {
   "cell_type": "code",
   "execution_count": 19,
   "id": "3f218954",
   "metadata": {
    "ExecuteTime": {
     "end_time": "2023-07-17T02:30:25.290439Z",
     "start_time": "2023-07-17T02:30:25.281461Z"
    }
   },
   "outputs": [
    {
     "data": {
      "text/plain": [
       "6.0"
      ]
     },
     "execution_count": 19,
     "metadata": {},
     "output_type": "execute_result"
    }
   ],
   "source": [
    "binomial(4, 2)"
   ]
  },
  {
   "cell_type": "markdown",
   "id": "eac39bac",
   "metadata": {},
   "source": [
    "## 5. 지시 함수 indicator function"
   ]
  },
  {
   "cell_type": "code",
   "execution_count": 20,
   "id": "0bf6d415",
   "metadata": {
    "ExecuteTime": {
     "end_time": "2023-07-17T02:33:40.088464Z",
     "start_time": "2023-07-17T02:33:40.077576Z"
    }
   },
   "outputs": [
    {
     "data": {
      "text/plain": [
       "0"
      ]
     },
     "execution_count": 20,
     "metadata": {},
     "output_type": "execute_result"
    }
   ],
   "source": [
    "x = 13\n",
    "if x < 10:\n",
    "    res = 1\n",
    "else:\n",
    "    res = 0\n",
    "res"
   ]
  },
  {
   "cell_type": "markdown",
   "id": "bf5550c4",
   "metadata": {},
   "source": [
    "## 자연 상수 e\n",
    "\n",
    "+ e = 2.7182818284"
   ]
  },
  {
   "cell_type": "code",
   "execution_count": 21,
   "id": "586c5b9a",
   "metadata": {
    "ExecuteTime": {
     "end_time": "2023-07-17T02:37:08.883564Z",
     "start_time": "2023-07-17T02:37:08.870039Z"
    }
   },
   "outputs": [
    {
     "name": "stdout",
     "output_type": "stream",
     "text": [
      "1.0\n"
     ]
    }
   ],
   "source": [
    "n = 100\n",
    "e = (1 + (1 / n)**n)\n",
    "print(e)"
   ]
  },
  {
   "cell_type": "markdown",
   "id": "55ce2028",
   "metadata": {},
   "source": [
    "## min, argmin\n",
    "\n",
    "+ min x, argmin x"
   ]
  },
  {
   "cell_type": "code",
   "execution_count": null,
   "id": "5c8894f3",
   "metadata": {},
   "outputs": [],
   "source": [
    "x = [4, 2, 8, 9, 3]"
   ]
  },
  {
   "cell_type": "code",
   "execution_count": 24,
   "id": "d624a188",
   "metadata": {
    "ExecuteTime": {
     "end_time": "2023-07-17T02:42:58.437877Z",
     "start_time": "2023-07-17T02:42:58.429933Z"
    }
   },
   "outputs": [
    {
     "data": {
      "text/plain": [
       "2"
      ]
     },
     "execution_count": 24,
     "metadata": {},
     "output_type": "execute_result"
    }
   ],
   "source": [
    "min_value = min(x)\n",
    "min_value"
   ]
  },
  {
   "cell_type": "code",
   "execution_count": 25,
   "id": "be00bc75",
   "metadata": {
    "ExecuteTime": {
     "end_time": "2023-07-17T02:43:16.604461Z",
     "start_time": "2023-07-17T02:43:16.588024Z"
    }
   },
   "outputs": [
    {
     "data": {
      "text/plain": [
       "1"
      ]
     },
     "execution_count": 25,
     "metadata": {},
     "output_type": "execute_result"
    }
   ],
   "source": [
    "x.index(min_value)"
   ]
  },
  {
   "cell_type": "code",
   "execution_count": 22,
   "id": "2c1241e8",
   "metadata": {
    "ExecuteTime": {
     "end_time": "2023-07-17T02:42:05.763527Z",
     "start_time": "2023-07-17T02:42:05.596427Z"
    }
   },
   "outputs": [],
   "source": [
    "import numpy as np"
   ]
  },
  {
   "cell_type": "code",
   "execution_count": 23,
   "id": "385eb33b",
   "metadata": {
    "ExecuteTime": {
     "end_time": "2023-07-17T02:42:17.086384Z",
     "start_time": "2023-07-17T02:42:17.071962Z"
    }
   },
   "outputs": [
    {
     "data": {
      "text/plain": [
       "(2, 1)"
      ]
     },
     "execution_count": 23,
     "metadata": {},
     "output_type": "execute_result"
    }
   ],
   "source": [
    "np.min(x), np.argmin(x)"
   ]
  },
  {
   "cell_type": "markdown",
   "id": "7bbebd40",
   "metadata": {},
   "source": [
    "## max, argmax"
   ]
  },
  {
   "cell_type": "code",
   "execution_count": null,
   "id": "1b80ce00",
   "metadata": {},
   "outputs": [],
   "source": []
  },
  {
   "cell_type": "code",
   "execution_count": null,
   "id": "364a82b1",
   "metadata": {},
   "outputs": [],
   "source": []
  }
 ],
 "metadata": {
  "hide_input": false,
  "kernelspec": {
   "display_name": "Python 3 (ipykernel)",
   "language": "python",
   "name": "python3"
  },
  "language_info": {
   "codemirror_mode": {
    "name": "ipython",
    "version": 3
   },
   "file_extension": ".py",
   "mimetype": "text/x-python",
   "name": "python",
   "nbconvert_exporter": "python",
   "pygments_lexer": "ipython3",
   "version": "3.9.16"
  },
  "toc": {
   "base_numbering": 1,
   "nav_menu": {},
   "number_sections": false,
   "sideBar": true,
   "skip_h1_title": false,
   "title_cell": "Table of Contents",
   "title_sidebar": "Contents",
   "toc_cell": false,
   "toc_position": {},
   "toc_section_display": true,
   "toc_window_display": false
  }
 },
 "nbformat": 4,
 "nbformat_minor": 5
}
