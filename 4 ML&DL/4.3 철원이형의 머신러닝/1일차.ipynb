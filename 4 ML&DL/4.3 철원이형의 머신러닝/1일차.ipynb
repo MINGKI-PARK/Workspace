{
 "cells": [
  {
   "cell_type": "markdown",
   "id": "f1a78fa4",
   "metadata": {},
   "source": [
    "## 선형 대수"
   ]
  },
  {
   "cell_type": "markdown",
   "id": "005e1edf",
   "metadata": {},
   "source": [
    "### 스칼라 실습"
   ]
  },
  {
   "cell_type": "code",
   "execution_count": 1,
   "id": "1bbae134",
   "metadata": {
    "ExecuteTime": {
     "end_time": "2023-07-17T05:03:22.440354Z",
     "start_time": "2023-07-17T05:03:21.641944Z"
    }
   },
   "outputs": [],
   "source": [
    "import numpy as np\n",
    "import pandas as pd"
   ]
  },
  {
   "cell_type": "code",
   "execution_count": 2,
   "id": "b4d8598f",
   "metadata": {
    "ExecuteTime": {
     "end_time": "2023-07-17T05:03:50.775805Z",
     "start_time": "2023-07-17T05:03:50.711832Z"
    }
   },
   "outputs": [
    {
     "data": {
      "text/html": [
       "<div>\n",
       "<style scoped>\n",
       "    .dataframe tbody tr th:only-of-type {\n",
       "        vertical-align: middle;\n",
       "    }\n",
       "\n",
       "    .dataframe tbody tr th {\n",
       "        vertical-align: top;\n",
       "    }\n",
       "\n",
       "    .dataframe thead th {\n",
       "        text-align: right;\n",
       "    }\n",
       "</style>\n",
       "<table border=\"1\" class=\"dataframe\">\n",
       "  <thead>\n",
       "    <tr style=\"text-align: right;\">\n",
       "      <th></th>\n",
       "      <th>CRIM</th>\n",
       "      <th>ZN</th>\n",
       "      <th>INDUS</th>\n",
       "      <th>CHAS</th>\n",
       "      <th>NOX</th>\n",
       "      <th>RM</th>\n",
       "      <th>AGE</th>\n",
       "      <th>DIS</th>\n",
       "      <th>RAD</th>\n",
       "      <th>TAX</th>\n",
       "      <th>PTRATIO</th>\n",
       "      <th>B</th>\n",
       "      <th>LSTAT</th>\n",
       "      <th>MEDV</th>\n",
       "    </tr>\n",
       "  </thead>\n",
       "  <tbody>\n",
       "    <tr>\n",
       "      <th>0</th>\n",
       "      <td>0.00632</td>\n",
       "      <td>18.0</td>\n",
       "      <td>2.31</td>\n",
       "      <td>0</td>\n",
       "      <td>0.538</td>\n",
       "      <td>6.575</td>\n",
       "      <td>65.2</td>\n",
       "      <td>4.0900</td>\n",
       "      <td>1</td>\n",
       "      <td>296</td>\n",
       "      <td>15.3</td>\n",
       "      <td>396.90</td>\n",
       "      <td>4.98</td>\n",
       "      <td>24.0</td>\n",
       "    </tr>\n",
       "    <tr>\n",
       "      <th>1</th>\n",
       "      <td>0.02731</td>\n",
       "      <td>0.0</td>\n",
       "      <td>7.07</td>\n",
       "      <td>0</td>\n",
       "      <td>0.469</td>\n",
       "      <td>6.421</td>\n",
       "      <td>78.9</td>\n",
       "      <td>4.9671</td>\n",
       "      <td>2</td>\n",
       "      <td>242</td>\n",
       "      <td>17.8</td>\n",
       "      <td>396.90</td>\n",
       "      <td>9.14</td>\n",
       "      <td>21.6</td>\n",
       "    </tr>\n",
       "    <tr>\n",
       "      <th>2</th>\n",
       "      <td>0.02729</td>\n",
       "      <td>0.0</td>\n",
       "      <td>7.07</td>\n",
       "      <td>0</td>\n",
       "      <td>0.469</td>\n",
       "      <td>7.185</td>\n",
       "      <td>61.1</td>\n",
       "      <td>4.9671</td>\n",
       "      <td>2</td>\n",
       "      <td>242</td>\n",
       "      <td>17.8</td>\n",
       "      <td>392.83</td>\n",
       "      <td>4.03</td>\n",
       "      <td>34.7</td>\n",
       "    </tr>\n",
       "  </tbody>\n",
       "</table>\n",
       "</div>"
      ],
      "text/plain": [
       "      CRIM    ZN  INDUS  CHAS    NOX     RM   AGE     DIS  RAD  TAX  PTRATIO  \\\n",
       "0  0.00632  18.0   2.31     0  0.538  6.575  65.2  4.0900    1  296     15.3   \n",
       "1  0.02731   0.0   7.07     0  0.469  6.421  78.9  4.9671    2  242     17.8   \n",
       "2  0.02729   0.0   7.07     0  0.469  7.185  61.1  4.9671    2  242     17.8   \n",
       "\n",
       "        B  LSTAT  MEDV  \n",
       "0  396.90   4.98  24.0  \n",
       "1  396.90   9.14  21.6  \n",
       "2  392.83   4.03  34.7  "
      ]
     },
     "execution_count": 2,
     "metadata": {},
     "output_type": "execute_result"
    }
   ],
   "source": [
    "df = pd.read_csv('c:/reposit/data/철원이형/house_prices.csv')\n",
    "df.head(3)"
   ]
  },
  {
   "cell_type": "code",
   "execution_count": 3,
   "id": "b83dedae",
   "metadata": {
    "ExecuteTime": {
     "end_time": "2023-07-17T05:04:08.079112Z",
     "start_time": "2023-07-17T05:04:08.058379Z"
    }
   },
   "outputs": [
    {
     "data": {
      "text/plain": [
       "0.469"
      ]
     },
     "execution_count": 3,
     "metadata": {},
     "output_type": "execute_result"
    }
   ],
   "source": [
    "df.iloc[2, 4]"
   ]
  },
  {
   "cell_type": "code",
   "execution_count": 4,
   "id": "23e36505",
   "metadata": {
    "ExecuteTime": {
     "end_time": "2023-07-17T05:04:15.816080Z",
     "start_time": "2023-07-17T05:04:15.798279Z"
    }
   },
   "outputs": [
    {
     "data": {
      "text/plain": [
       "6.998"
      ]
     },
     "execution_count": 4,
     "metadata": {},
     "output_type": "execute_result"
    }
   ],
   "source": [
    "df.iloc[3, 5]"
   ]
  },
  {
   "cell_type": "code",
   "execution_count": 5,
   "id": "538c491b",
   "metadata": {
    "ExecuteTime": {
     "end_time": "2023-07-17T05:04:31.093492Z",
     "start_time": "2023-07-17T05:04:31.075782Z"
    }
   },
   "outputs": [
    {
     "data": {
      "text/plain": [
       "7.147"
      ]
     },
     "execution_count": 5,
     "metadata": {},
     "output_type": "execute_result"
    }
   ],
   "source": [
    "df.iloc[2, 3] + df.iloc[4, 5]"
   ]
  },
  {
   "cell_type": "code",
   "execution_count": 6,
   "id": "e3142992",
   "metadata": {
    "ExecuteTime": {
     "end_time": "2023-07-17T05:10:02.293241Z",
     "start_time": "2023-07-17T05:10:02.275464Z"
    }
   },
   "outputs": [
    {
     "data": {
      "text/plain": [
       "Index(['CRIM', 'ZN', 'INDUS', 'CHAS', 'NOX', 'RM', 'AGE', 'DIS', 'RAD', 'TAX',\n",
       "       'PTRATIO', 'B', 'LSTAT', 'MEDV'],\n",
       "      dtype='object')"
      ]
     },
     "execution_count": 6,
     "metadata": {},
     "output_type": "execute_result"
    }
   ],
   "source": [
    "df.columns"
   ]
  },
  {
   "cell_type": "code",
   "execution_count": 7,
   "id": "ab07c108",
   "metadata": {
    "ExecuteTime": {
     "end_time": "2023-07-17T05:10:15.710348Z",
     "start_time": "2023-07-17T05:10:15.684545Z"
    }
   },
   "outputs": [
    {
     "data": {
      "text/plain": [
       "(0      0.00632\n",
       " 1      0.02731\n",
       " 2      0.02729\n",
       " 3      0.03237\n",
       " 4      0.06905\n",
       "         ...   \n",
       " 501    0.06263\n",
       " 502    0.04527\n",
       " 503    0.06076\n",
       " 504    0.10959\n",
       " 505    0.04741\n",
       " Name: CRIM, Length: 506, dtype: float64,\n",
       " 0      0.538\n",
       " 1      0.469\n",
       " 2      0.469\n",
       " 3      0.458\n",
       " 4      0.458\n",
       "        ...  \n",
       " 501    0.573\n",
       " 502    0.573\n",
       " 503    0.573\n",
       " 504    0.573\n",
       " 505    0.573\n",
       " Name: NOX, Length: 506, dtype: float64)"
      ]
     },
     "execution_count": 7,
     "metadata": {},
     "output_type": "execute_result"
    }
   ],
   "source": [
    "df['CRIM'], df['NOX']"
   ]
  },
  {
   "cell_type": "code",
   "execution_count": 8,
   "id": "c99b39df",
   "metadata": {
    "ExecuteTime": {
     "end_time": "2023-07-17T05:10:31.040930Z",
     "start_time": "2023-07-17T05:10:31.029057Z"
    }
   },
   "outputs": [
    {
     "data": {
      "text/plain": [
       "0      0.54432\n",
       "1      0.49631\n",
       "2      0.49629\n",
       "3      0.49037\n",
       "4      0.52705\n",
       "        ...   \n",
       "501    0.63563\n",
       "502    0.61827\n",
       "503    0.63376\n",
       "504    0.68259\n",
       "505    0.62041\n",
       "Length: 506, dtype: float64"
      ]
     },
     "execution_count": 8,
     "metadata": {},
     "output_type": "execute_result"
    }
   ],
   "source": [
    "df['CRIM'] + df['NOX']"
   ]
  },
  {
   "cell_type": "code",
   "execution_count": 11,
   "id": "ef25f215",
   "metadata": {
    "ExecuteTime": {
     "end_time": "2023-07-17T05:19:49.964760Z",
     "start_time": "2023-07-17T05:19:49.949720Z"
    }
   },
   "outputs": [
    {
     "name": "stdout",
     "output_type": "stream",
     "text": [
      "(8,)\n"
     ]
    },
    {
     "data": {
      "text/plain": [
       "array([1, 2, 3, 4, 5, 6, 7, 8])"
      ]
     },
     "execution_count": 11,
     "metadata": {},
     "output_type": "execute_result"
    }
   ],
   "source": [
    "A = np.array([1, 2, 3, 4, 5, 6, 7, 8])\n",
    "print(A.shape)\n",
    "A"
   ]
  },
  {
   "cell_type": "code",
   "execution_count": 12,
   "id": "c2088411",
   "metadata": {
    "ExecuteTime": {
     "end_time": "2023-07-17T05:20:12.373224Z",
     "start_time": "2023-07-17T05:20:12.359369Z"
    }
   },
   "outputs": [
    {
     "data": {
      "text/plain": [
       "array([[1],\n",
       "       [2],\n",
       "       [3],\n",
       "       [4],\n",
       "       [5],\n",
       "       [6],\n",
       "       [7],\n",
       "       [8]])"
      ]
     },
     "execution_count": 12,
     "metadata": {},
     "output_type": "execute_result"
    }
   ],
   "source": [
    "A1 = A.reshape(8, 1)\n",
    "A1"
   ]
  },
  {
   "cell_type": "code",
   "execution_count": 13,
   "id": "afefdae0",
   "metadata": {
    "ExecuteTime": {
     "end_time": "2023-07-17T05:34:04.396449Z",
     "start_time": "2023-07-17T05:34:04.380827Z"
    }
   },
   "outputs": [
    {
     "data": {
      "text/plain": [
       "array([[1, 2, 3, 4, 5, 6, 7, 8]])"
      ]
     },
     "execution_count": 13,
     "metadata": {},
     "output_type": "execute_result"
    }
   ],
   "source": [
    "A1.T"
   ]
  },
  {
   "cell_type": "markdown",
   "id": "125e6956",
   "metadata": {},
   "source": [
    "### 전치 행렬 & 대칭 행렬 실습"
   ]
  },
  {
   "cell_type": "code",
   "execution_count": 14,
   "id": "baae78df",
   "metadata": {
    "ExecuteTime": {
     "end_time": "2023-07-17T05:40:04.153879Z",
     "start_time": "2023-07-17T05:40:04.135927Z"
    }
   },
   "outputs": [
    {
     "data": {
      "text/plain": [
       "Index(['CRIM', 'ZN', 'INDUS', 'CHAS', 'NOX', 'RM', 'AGE', 'DIS', 'RAD', 'TAX',\n",
       "       'PTRATIO', 'B', 'LSTAT', 'MEDV'],\n",
       "      dtype='object')"
      ]
     },
     "execution_count": 14,
     "metadata": {},
     "output_type": "execute_result"
    }
   ],
   "source": [
    "df.columns"
   ]
  },
  {
   "cell_type": "code",
   "execution_count": 15,
   "id": "a2b43ee8",
   "metadata": {
    "ExecuteTime": {
     "end_time": "2023-07-17T05:40:37.040801Z",
     "start_time": "2023-07-17T05:40:37.007380Z"
    }
   },
   "outputs": [
    {
     "data": {
      "text/html": [
       "<div>\n",
       "<style scoped>\n",
       "    .dataframe tbody tr th:only-of-type {\n",
       "        vertical-align: middle;\n",
       "    }\n",
       "\n",
       "    .dataframe tbody tr th {\n",
       "        vertical-align: top;\n",
       "    }\n",
       "\n",
       "    .dataframe thead th {\n",
       "        text-align: right;\n",
       "    }\n",
       "</style>\n",
       "<table border=\"1\" class=\"dataframe\">\n",
       "  <thead>\n",
       "    <tr style=\"text-align: right;\">\n",
       "      <th></th>\n",
       "      <th>CRIM</th>\n",
       "      <th>NOX</th>\n",
       "      <th>RM</th>\n",
       "      <th>AGE</th>\n",
       "      <th>TAX</th>\n",
       "    </tr>\n",
       "  </thead>\n",
       "  <tbody>\n",
       "    <tr>\n",
       "      <th>0</th>\n",
       "      <td>0.00632</td>\n",
       "      <td>0.538</td>\n",
       "      <td>6.575</td>\n",
       "      <td>65.2</td>\n",
       "      <td>296</td>\n",
       "    </tr>\n",
       "    <tr>\n",
       "      <th>1</th>\n",
       "      <td>0.02731</td>\n",
       "      <td>0.469</td>\n",
       "      <td>6.421</td>\n",
       "      <td>78.9</td>\n",
       "      <td>242</td>\n",
       "    </tr>\n",
       "    <tr>\n",
       "      <th>2</th>\n",
       "      <td>0.02729</td>\n",
       "      <td>0.469</td>\n",
       "      <td>7.185</td>\n",
       "      <td>61.1</td>\n",
       "      <td>242</td>\n",
       "    </tr>\n",
       "    <tr>\n",
       "      <th>3</th>\n",
       "      <td>0.03237</td>\n",
       "      <td>0.458</td>\n",
       "      <td>6.998</td>\n",
       "      <td>45.8</td>\n",
       "      <td>222</td>\n",
       "    </tr>\n",
       "    <tr>\n",
       "      <th>4</th>\n",
       "      <td>0.06905</td>\n",
       "      <td>0.458</td>\n",
       "      <td>7.147</td>\n",
       "      <td>54.2</td>\n",
       "      <td>222</td>\n",
       "    </tr>\n",
       "    <tr>\n",
       "      <th>...</th>\n",
       "      <td>...</td>\n",
       "      <td>...</td>\n",
       "      <td>...</td>\n",
       "      <td>...</td>\n",
       "      <td>...</td>\n",
       "    </tr>\n",
       "    <tr>\n",
       "      <th>501</th>\n",
       "      <td>0.06263</td>\n",
       "      <td>0.573</td>\n",
       "      <td>6.593</td>\n",
       "      <td>69.1</td>\n",
       "      <td>273</td>\n",
       "    </tr>\n",
       "    <tr>\n",
       "      <th>502</th>\n",
       "      <td>0.04527</td>\n",
       "      <td>0.573</td>\n",
       "      <td>6.120</td>\n",
       "      <td>76.7</td>\n",
       "      <td>273</td>\n",
       "    </tr>\n",
       "    <tr>\n",
       "      <th>503</th>\n",
       "      <td>0.06076</td>\n",
       "      <td>0.573</td>\n",
       "      <td>6.976</td>\n",
       "      <td>91.0</td>\n",
       "      <td>273</td>\n",
       "    </tr>\n",
       "    <tr>\n",
       "      <th>504</th>\n",
       "      <td>0.10959</td>\n",
       "      <td>0.573</td>\n",
       "      <td>6.794</td>\n",
       "      <td>89.3</td>\n",
       "      <td>273</td>\n",
       "    </tr>\n",
       "    <tr>\n",
       "      <th>505</th>\n",
       "      <td>0.04741</td>\n",
       "      <td>0.573</td>\n",
       "      <td>6.030</td>\n",
       "      <td>80.8</td>\n",
       "      <td>273</td>\n",
       "    </tr>\n",
       "  </tbody>\n",
       "</table>\n",
       "<p>506 rows × 5 columns</p>\n",
       "</div>"
      ],
      "text/plain": [
       "        CRIM    NOX     RM   AGE  TAX\n",
       "0    0.00632  0.538  6.575  65.2  296\n",
       "1    0.02731  0.469  6.421  78.9  242\n",
       "2    0.02729  0.469  7.185  61.1  242\n",
       "3    0.03237  0.458  6.998  45.8  222\n",
       "4    0.06905  0.458  7.147  54.2  222\n",
       "..       ...    ...    ...   ...  ...\n",
       "501  0.06263  0.573  6.593  69.1  273\n",
       "502  0.04527  0.573  6.120  76.7  273\n",
       "503  0.06076  0.573  6.976  91.0  273\n",
       "504  0.10959  0.573  6.794  89.3  273\n",
       "505  0.04741  0.573  6.030  80.8  273\n",
       "\n",
       "[506 rows x 5 columns]"
      ]
     },
     "execution_count": 15,
     "metadata": {},
     "output_type": "execute_result"
    }
   ],
   "source": [
    "X = df[['CRIM', 'NOX', 'RM', 'AGE', 'TAX']]\n",
    "X"
   ]
  },
  {
   "cell_type": "code",
   "execution_count": 16,
   "id": "ca7ff1cc",
   "metadata": {
    "ExecuteTime": {
     "end_time": "2023-07-17T05:41:40.117237Z",
     "start_time": "2023-07-17T05:41:40.075824Z"
    }
   },
   "outputs": [
    {
     "data": {
      "text/html": [
       "<div>\n",
       "<style scoped>\n",
       "    .dataframe tbody tr th:only-of-type {\n",
       "        vertical-align: middle;\n",
       "    }\n",
       "\n",
       "    .dataframe tbody tr th {\n",
       "        vertical-align: top;\n",
       "    }\n",
       "\n",
       "    .dataframe thead th {\n",
       "        text-align: right;\n",
       "    }\n",
       "</style>\n",
       "<table border=\"1\" class=\"dataframe\">\n",
       "  <thead>\n",
       "    <tr style=\"text-align: right;\">\n",
       "      <th></th>\n",
       "      <th>0</th>\n",
       "      <th>1</th>\n",
       "      <th>2</th>\n",
       "      <th>3</th>\n",
       "      <th>4</th>\n",
       "      <th>5</th>\n",
       "      <th>6</th>\n",
       "      <th>7</th>\n",
       "      <th>8</th>\n",
       "      <th>9</th>\n",
       "      <th>...</th>\n",
       "      <th>496</th>\n",
       "      <th>497</th>\n",
       "      <th>498</th>\n",
       "      <th>499</th>\n",
       "      <th>500</th>\n",
       "      <th>501</th>\n",
       "      <th>502</th>\n",
       "      <th>503</th>\n",
       "      <th>504</th>\n",
       "      <th>505</th>\n",
       "    </tr>\n",
       "  </thead>\n",
       "  <tbody>\n",
       "    <tr>\n",
       "      <th>CRIM</th>\n",
       "      <td>0.00632</td>\n",
       "      <td>0.02731</td>\n",
       "      <td>0.02729</td>\n",
       "      <td>0.03237</td>\n",
       "      <td>0.06905</td>\n",
       "      <td>0.02985</td>\n",
       "      <td>0.08829</td>\n",
       "      <td>0.14455</td>\n",
       "      <td>0.21124</td>\n",
       "      <td>0.17004</td>\n",
       "      <td>...</td>\n",
       "      <td>0.2896</td>\n",
       "      <td>0.26838</td>\n",
       "      <td>0.23912</td>\n",
       "      <td>0.17783</td>\n",
       "      <td>0.22438</td>\n",
       "      <td>0.06263</td>\n",
       "      <td>0.04527</td>\n",
       "      <td>0.06076</td>\n",
       "      <td>0.10959</td>\n",
       "      <td>0.04741</td>\n",
       "    </tr>\n",
       "    <tr>\n",
       "      <th>NOX</th>\n",
       "      <td>0.53800</td>\n",
       "      <td>0.46900</td>\n",
       "      <td>0.46900</td>\n",
       "      <td>0.45800</td>\n",
       "      <td>0.45800</td>\n",
       "      <td>0.45800</td>\n",
       "      <td>0.52400</td>\n",
       "      <td>0.52400</td>\n",
       "      <td>0.52400</td>\n",
       "      <td>0.52400</td>\n",
       "      <td>...</td>\n",
       "      <td>0.5850</td>\n",
       "      <td>0.58500</td>\n",
       "      <td>0.58500</td>\n",
       "      <td>0.58500</td>\n",
       "      <td>0.58500</td>\n",
       "      <td>0.57300</td>\n",
       "      <td>0.57300</td>\n",
       "      <td>0.57300</td>\n",
       "      <td>0.57300</td>\n",
       "      <td>0.57300</td>\n",
       "    </tr>\n",
       "    <tr>\n",
       "      <th>RM</th>\n",
       "      <td>6.57500</td>\n",
       "      <td>6.42100</td>\n",
       "      <td>7.18500</td>\n",
       "      <td>6.99800</td>\n",
       "      <td>7.14700</td>\n",
       "      <td>6.43000</td>\n",
       "      <td>6.01200</td>\n",
       "      <td>6.17200</td>\n",
       "      <td>5.63100</td>\n",
       "      <td>6.00400</td>\n",
       "      <td>...</td>\n",
       "      <td>5.3900</td>\n",
       "      <td>5.79400</td>\n",
       "      <td>6.01900</td>\n",
       "      <td>5.56900</td>\n",
       "      <td>6.02700</td>\n",
       "      <td>6.59300</td>\n",
       "      <td>6.12000</td>\n",
       "      <td>6.97600</td>\n",
       "      <td>6.79400</td>\n",
       "      <td>6.03000</td>\n",
       "    </tr>\n",
       "    <tr>\n",
       "      <th>AGE</th>\n",
       "      <td>65.20000</td>\n",
       "      <td>78.90000</td>\n",
       "      <td>61.10000</td>\n",
       "      <td>45.80000</td>\n",
       "      <td>54.20000</td>\n",
       "      <td>58.70000</td>\n",
       "      <td>66.60000</td>\n",
       "      <td>96.10000</td>\n",
       "      <td>100.00000</td>\n",
       "      <td>85.90000</td>\n",
       "      <td>...</td>\n",
       "      <td>72.9000</td>\n",
       "      <td>70.60000</td>\n",
       "      <td>65.30000</td>\n",
       "      <td>73.50000</td>\n",
       "      <td>79.70000</td>\n",
       "      <td>69.10000</td>\n",
       "      <td>76.70000</td>\n",
       "      <td>91.00000</td>\n",
       "      <td>89.30000</td>\n",
       "      <td>80.80000</td>\n",
       "    </tr>\n",
       "    <tr>\n",
       "      <th>TAX</th>\n",
       "      <td>296.00000</td>\n",
       "      <td>242.00000</td>\n",
       "      <td>242.00000</td>\n",
       "      <td>222.00000</td>\n",
       "      <td>222.00000</td>\n",
       "      <td>222.00000</td>\n",
       "      <td>311.00000</td>\n",
       "      <td>311.00000</td>\n",
       "      <td>311.00000</td>\n",
       "      <td>311.00000</td>\n",
       "      <td>...</td>\n",
       "      <td>391.0000</td>\n",
       "      <td>391.00000</td>\n",
       "      <td>391.00000</td>\n",
       "      <td>391.00000</td>\n",
       "      <td>391.00000</td>\n",
       "      <td>273.00000</td>\n",
       "      <td>273.00000</td>\n",
       "      <td>273.00000</td>\n",
       "      <td>273.00000</td>\n",
       "      <td>273.00000</td>\n",
       "    </tr>\n",
       "  </tbody>\n",
       "</table>\n",
       "<p>5 rows × 506 columns</p>\n",
       "</div>"
      ],
      "text/plain": [
       "            0          1          2          3          4          5    \\\n",
       "CRIM    0.00632    0.02731    0.02729    0.03237    0.06905    0.02985   \n",
       "NOX     0.53800    0.46900    0.46900    0.45800    0.45800    0.45800   \n",
       "RM      6.57500    6.42100    7.18500    6.99800    7.14700    6.43000   \n",
       "AGE    65.20000   78.90000   61.10000   45.80000   54.20000   58.70000   \n",
       "TAX   296.00000  242.00000  242.00000  222.00000  222.00000  222.00000   \n",
       "\n",
       "            6          7          8          9    ...       496        497  \\\n",
       "CRIM    0.08829    0.14455    0.21124    0.17004  ...    0.2896    0.26838   \n",
       "NOX     0.52400    0.52400    0.52400    0.52400  ...    0.5850    0.58500   \n",
       "RM      6.01200    6.17200    5.63100    6.00400  ...    5.3900    5.79400   \n",
       "AGE    66.60000   96.10000  100.00000   85.90000  ...   72.9000   70.60000   \n",
       "TAX   311.00000  311.00000  311.00000  311.00000  ...  391.0000  391.00000   \n",
       "\n",
       "            498        499        500        501        502        503  \\\n",
       "CRIM    0.23912    0.17783    0.22438    0.06263    0.04527    0.06076   \n",
       "NOX     0.58500    0.58500    0.58500    0.57300    0.57300    0.57300   \n",
       "RM      6.01900    5.56900    6.02700    6.59300    6.12000    6.97600   \n",
       "AGE    65.30000   73.50000   79.70000   69.10000   76.70000   91.00000   \n",
       "TAX   391.00000  391.00000  391.00000  273.00000  273.00000  273.00000   \n",
       "\n",
       "            504        505  \n",
       "CRIM    0.10959    0.04741  \n",
       "NOX     0.57300    0.57300  \n",
       "RM      6.79400    6.03000  \n",
       "AGE    89.30000   80.80000  \n",
       "TAX   273.00000  273.00000  \n",
       "\n",
       "[5 rows x 506 columns]"
      ]
     },
     "execution_count": 16,
     "metadata": {},
     "output_type": "execute_result"
    }
   ],
   "source": [
    "X_t = np.transpose(X)\n",
    "X_t"
   ]
  },
  {
   "cell_type": "code",
   "execution_count": 17,
   "id": "39521409",
   "metadata": {
    "ExecuteTime": {
     "end_time": "2023-07-17T05:41:53.611874Z",
     "start_time": "2023-07-17T05:41:53.572368Z"
    }
   },
   "outputs": [
    {
     "data": {
      "text/html": [
       "<div>\n",
       "<style scoped>\n",
       "    .dataframe tbody tr th:only-of-type {\n",
       "        vertical-align: middle;\n",
       "    }\n",
       "\n",
       "    .dataframe tbody tr th {\n",
       "        vertical-align: top;\n",
       "    }\n",
       "\n",
       "    .dataframe thead th {\n",
       "        text-align: right;\n",
       "    }\n",
       "</style>\n",
       "<table border=\"1\" class=\"dataframe\">\n",
       "  <thead>\n",
       "    <tr style=\"text-align: right;\">\n",
       "      <th></th>\n",
       "      <th>0</th>\n",
       "      <th>1</th>\n",
       "      <th>2</th>\n",
       "      <th>3</th>\n",
       "      <th>4</th>\n",
       "      <th>5</th>\n",
       "      <th>6</th>\n",
       "      <th>7</th>\n",
       "      <th>8</th>\n",
       "      <th>9</th>\n",
       "      <th>...</th>\n",
       "      <th>496</th>\n",
       "      <th>497</th>\n",
       "      <th>498</th>\n",
       "      <th>499</th>\n",
       "      <th>500</th>\n",
       "      <th>501</th>\n",
       "      <th>502</th>\n",
       "      <th>503</th>\n",
       "      <th>504</th>\n",
       "      <th>505</th>\n",
       "    </tr>\n",
       "  </thead>\n",
       "  <tbody>\n",
       "    <tr>\n",
       "      <th>CRIM</th>\n",
       "      <td>0.00632</td>\n",
       "      <td>0.02731</td>\n",
       "      <td>0.02729</td>\n",
       "      <td>0.03237</td>\n",
       "      <td>0.06905</td>\n",
       "      <td>0.02985</td>\n",
       "      <td>0.08829</td>\n",
       "      <td>0.14455</td>\n",
       "      <td>0.21124</td>\n",
       "      <td>0.17004</td>\n",
       "      <td>...</td>\n",
       "      <td>0.2896</td>\n",
       "      <td>0.26838</td>\n",
       "      <td>0.23912</td>\n",
       "      <td>0.17783</td>\n",
       "      <td>0.22438</td>\n",
       "      <td>0.06263</td>\n",
       "      <td>0.04527</td>\n",
       "      <td>0.06076</td>\n",
       "      <td>0.10959</td>\n",
       "      <td>0.04741</td>\n",
       "    </tr>\n",
       "    <tr>\n",
       "      <th>NOX</th>\n",
       "      <td>0.53800</td>\n",
       "      <td>0.46900</td>\n",
       "      <td>0.46900</td>\n",
       "      <td>0.45800</td>\n",
       "      <td>0.45800</td>\n",
       "      <td>0.45800</td>\n",
       "      <td>0.52400</td>\n",
       "      <td>0.52400</td>\n",
       "      <td>0.52400</td>\n",
       "      <td>0.52400</td>\n",
       "      <td>...</td>\n",
       "      <td>0.5850</td>\n",
       "      <td>0.58500</td>\n",
       "      <td>0.58500</td>\n",
       "      <td>0.58500</td>\n",
       "      <td>0.58500</td>\n",
       "      <td>0.57300</td>\n",
       "      <td>0.57300</td>\n",
       "      <td>0.57300</td>\n",
       "      <td>0.57300</td>\n",
       "      <td>0.57300</td>\n",
       "    </tr>\n",
       "    <tr>\n",
       "      <th>RM</th>\n",
       "      <td>6.57500</td>\n",
       "      <td>6.42100</td>\n",
       "      <td>7.18500</td>\n",
       "      <td>6.99800</td>\n",
       "      <td>7.14700</td>\n",
       "      <td>6.43000</td>\n",
       "      <td>6.01200</td>\n",
       "      <td>6.17200</td>\n",
       "      <td>5.63100</td>\n",
       "      <td>6.00400</td>\n",
       "      <td>...</td>\n",
       "      <td>5.3900</td>\n",
       "      <td>5.79400</td>\n",
       "      <td>6.01900</td>\n",
       "      <td>5.56900</td>\n",
       "      <td>6.02700</td>\n",
       "      <td>6.59300</td>\n",
       "      <td>6.12000</td>\n",
       "      <td>6.97600</td>\n",
       "      <td>6.79400</td>\n",
       "      <td>6.03000</td>\n",
       "    </tr>\n",
       "    <tr>\n",
       "      <th>AGE</th>\n",
       "      <td>65.20000</td>\n",
       "      <td>78.90000</td>\n",
       "      <td>61.10000</td>\n",
       "      <td>45.80000</td>\n",
       "      <td>54.20000</td>\n",
       "      <td>58.70000</td>\n",
       "      <td>66.60000</td>\n",
       "      <td>96.10000</td>\n",
       "      <td>100.00000</td>\n",
       "      <td>85.90000</td>\n",
       "      <td>...</td>\n",
       "      <td>72.9000</td>\n",
       "      <td>70.60000</td>\n",
       "      <td>65.30000</td>\n",
       "      <td>73.50000</td>\n",
       "      <td>79.70000</td>\n",
       "      <td>69.10000</td>\n",
       "      <td>76.70000</td>\n",
       "      <td>91.00000</td>\n",
       "      <td>89.30000</td>\n",
       "      <td>80.80000</td>\n",
       "    </tr>\n",
       "    <tr>\n",
       "      <th>TAX</th>\n",
       "      <td>296.00000</td>\n",
       "      <td>242.00000</td>\n",
       "      <td>242.00000</td>\n",
       "      <td>222.00000</td>\n",
       "      <td>222.00000</td>\n",
       "      <td>222.00000</td>\n",
       "      <td>311.00000</td>\n",
       "      <td>311.00000</td>\n",
       "      <td>311.00000</td>\n",
       "      <td>311.00000</td>\n",
       "      <td>...</td>\n",
       "      <td>391.0000</td>\n",
       "      <td>391.00000</td>\n",
       "      <td>391.00000</td>\n",
       "      <td>391.00000</td>\n",
       "      <td>391.00000</td>\n",
       "      <td>273.00000</td>\n",
       "      <td>273.00000</td>\n",
       "      <td>273.00000</td>\n",
       "      <td>273.00000</td>\n",
       "      <td>273.00000</td>\n",
       "    </tr>\n",
       "  </tbody>\n",
       "</table>\n",
       "<p>5 rows × 506 columns</p>\n",
       "</div>"
      ],
      "text/plain": [
       "            0          1          2          3          4          5    \\\n",
       "CRIM    0.00632    0.02731    0.02729    0.03237    0.06905    0.02985   \n",
       "NOX     0.53800    0.46900    0.46900    0.45800    0.45800    0.45800   \n",
       "RM      6.57500    6.42100    7.18500    6.99800    7.14700    6.43000   \n",
       "AGE    65.20000   78.90000   61.10000   45.80000   54.20000   58.70000   \n",
       "TAX   296.00000  242.00000  242.00000  222.00000  222.00000  222.00000   \n",
       "\n",
       "            6          7          8          9    ...       496        497  \\\n",
       "CRIM    0.08829    0.14455    0.21124    0.17004  ...    0.2896    0.26838   \n",
       "NOX     0.52400    0.52400    0.52400    0.52400  ...    0.5850    0.58500   \n",
       "RM      6.01200    6.17200    5.63100    6.00400  ...    5.3900    5.79400   \n",
       "AGE    66.60000   96.10000  100.00000   85.90000  ...   72.9000   70.60000   \n",
       "TAX   311.00000  311.00000  311.00000  311.00000  ...  391.0000  391.00000   \n",
       "\n",
       "            498        499        500        501        502        503  \\\n",
       "CRIM    0.23912    0.17783    0.22438    0.06263    0.04527    0.06076   \n",
       "NOX     0.58500    0.58500    0.58500    0.57300    0.57300    0.57300   \n",
       "RM      6.01900    5.56900    6.02700    6.59300    6.12000    6.97600   \n",
       "AGE    65.30000   73.50000   79.70000   69.10000   76.70000   91.00000   \n",
       "TAX   391.00000  391.00000  391.00000  273.00000  273.00000  273.00000   \n",
       "\n",
       "            504        505  \n",
       "CRIM    0.10959    0.04741  \n",
       "NOX     0.57300    0.57300  \n",
       "RM      6.79400    6.03000  \n",
       "AGE    89.30000   80.80000  \n",
       "TAX   273.00000  273.00000  \n",
       "\n",
       "[5 rows x 506 columns]"
      ]
     },
     "execution_count": 17,
     "metadata": {},
     "output_type": "execute_result"
    }
   ],
   "source": [
    "X_t = X.T\n",
    "X_t"
   ]
  },
  {
   "cell_type": "code",
   "execution_count": 18,
   "id": "afdbbe7e",
   "metadata": {
    "ExecuteTime": {
     "end_time": "2023-07-17T05:42:09.539120Z",
     "start_time": "2023-07-17T05:42:09.526982Z"
    }
   },
   "outputs": [
    {
     "data": {
      "text/plain": [
       "(506, 5)"
      ]
     },
     "execution_count": 18,
     "metadata": {},
     "output_type": "execute_result"
    }
   ],
   "source": [
    "X.shape"
   ]
  },
  {
   "cell_type": "markdown",
   "id": "4dca6785",
   "metadata": {},
   "source": [
    "### 행렬 곱 실습"
   ]
  },
  {
   "cell_type": "code",
   "execution_count": 19,
   "id": "ab69a54e",
   "metadata": {
    "ExecuteTime": {
     "end_time": "2023-07-17T05:43:39.191465Z",
     "start_time": "2023-07-17T05:43:39.121572Z"
    }
   },
   "outputs": [
    {
     "data": {
      "text/html": [
       "<div>\n",
       "<style scoped>\n",
       "    .dataframe tbody tr th:only-of-type {\n",
       "        vertical-align: middle;\n",
       "    }\n",
       "\n",
       "    .dataframe tbody tr th {\n",
       "        vertical-align: top;\n",
       "    }\n",
       "\n",
       "    .dataframe thead th {\n",
       "        text-align: right;\n",
       "    }\n",
       "</style>\n",
       "<table border=\"1\" class=\"dataframe\">\n",
       "  <thead>\n",
       "    <tr style=\"text-align: right;\">\n",
       "      <th></th>\n",
       "      <th>CRIM</th>\n",
       "      <th>NOX</th>\n",
       "      <th>RM</th>\n",
       "      <th>AGE</th>\n",
       "      <th>TAX</th>\n",
       "    </tr>\n",
       "  </thead>\n",
       "  <tbody>\n",
       "    <tr>\n",
       "      <th>CRIM</th>\n",
       "      <td>4.397034e+04</td>\n",
       "      <td>1226.123170</td>\n",
       "      <td>1.082195e+04</td>\n",
       "      <td>1.685150e+05</td>\n",
       "      <td>1.173073e+06</td>\n",
       "    </tr>\n",
       "    <tr>\n",
       "      <th>NOX</th>\n",
       "      <td>1.226123e+03</td>\n",
       "      <td>162.470380</td>\n",
       "      <td>1.751519e+03</td>\n",
       "      <td>2.045220e+04</td>\n",
       "      <td>1.211706e+05</td>\n",
       "    </tr>\n",
       "    <tr>\n",
       "      <th>RM</th>\n",
       "      <td>1.082195e+04</td>\n",
       "      <td>1751.519414</td>\n",
       "      <td>2.023460e+04</td>\n",
       "      <td>2.156702e+05</td>\n",
       "      <td>1.280740e+06</td>\n",
       "    </tr>\n",
       "    <tr>\n",
       "      <th>AGE</th>\n",
       "      <td>1.685150e+05</td>\n",
       "      <td>20452.201630</td>\n",
       "      <td>2.156702e+05</td>\n",
       "      <td>2.779615e+06</td>\n",
       "      <td>1.537874e+07</td>\n",
       "    </tr>\n",
       "    <tr>\n",
       "      <th>TAX</th>\n",
       "      <td>1.173073e+06</td>\n",
       "      <td>121170.623200</td>\n",
       "      <td>1.280740e+06</td>\n",
       "      <td>1.537874e+07</td>\n",
       "      <td>9.867314e+07</td>\n",
       "    </tr>\n",
       "  </tbody>\n",
       "</table>\n",
       "</div>"
      ],
      "text/plain": [
       "              CRIM            NOX            RM           AGE           TAX\n",
       "CRIM  4.397034e+04    1226.123170  1.082195e+04  1.685150e+05  1.173073e+06\n",
       "NOX   1.226123e+03     162.470380  1.751519e+03  2.045220e+04  1.211706e+05\n",
       "RM    1.082195e+04    1751.519414  2.023460e+04  2.156702e+05  1.280740e+06\n",
       "AGE   1.685150e+05   20452.201630  2.156702e+05  2.779615e+06  1.537874e+07\n",
       "TAX   1.173073e+06  121170.623200  1.280740e+06  1.537874e+07  9.867314e+07"
      ]
     },
     "execution_count": 19,
     "metadata": {},
     "output_type": "execute_result"
    }
   ],
   "source": [
    "X_t.dot(X)"
   ]
  },
  {
   "cell_type": "code",
   "execution_count": 20,
   "id": "cb4b9767",
   "metadata": {
    "ExecuteTime": {
     "end_time": "2023-07-17T05:43:48.480184Z",
     "start_time": "2023-07-17T05:43:48.458658Z"
    }
   },
   "outputs": [
    {
     "data": {
      "text/html": [
       "<div>\n",
       "<style scoped>\n",
       "    .dataframe tbody tr th:only-of-type {\n",
       "        vertical-align: middle;\n",
       "    }\n",
       "\n",
       "    .dataframe tbody tr th {\n",
       "        vertical-align: top;\n",
       "    }\n",
       "\n",
       "    .dataframe thead th {\n",
       "        text-align: right;\n",
       "    }\n",
       "</style>\n",
       "<table border=\"1\" class=\"dataframe\">\n",
       "  <thead>\n",
       "    <tr style=\"text-align: right;\">\n",
       "      <th></th>\n",
       "      <th>CRIM</th>\n",
       "      <th>NOX</th>\n",
       "      <th>RM</th>\n",
       "      <th>AGE</th>\n",
       "      <th>TAX</th>\n",
       "    </tr>\n",
       "  </thead>\n",
       "  <tbody>\n",
       "    <tr>\n",
       "      <th>CRIM</th>\n",
       "      <td>4.397034e+04</td>\n",
       "      <td>1226.123170</td>\n",
       "      <td>1.082195e+04</td>\n",
       "      <td>1.685150e+05</td>\n",
       "      <td>1.173073e+06</td>\n",
       "    </tr>\n",
       "    <tr>\n",
       "      <th>NOX</th>\n",
       "      <td>1.226123e+03</td>\n",
       "      <td>162.470380</td>\n",
       "      <td>1.751519e+03</td>\n",
       "      <td>2.045220e+04</td>\n",
       "      <td>1.211706e+05</td>\n",
       "    </tr>\n",
       "    <tr>\n",
       "      <th>RM</th>\n",
       "      <td>1.082195e+04</td>\n",
       "      <td>1751.519414</td>\n",
       "      <td>2.023460e+04</td>\n",
       "      <td>2.156702e+05</td>\n",
       "      <td>1.280740e+06</td>\n",
       "    </tr>\n",
       "    <tr>\n",
       "      <th>AGE</th>\n",
       "      <td>1.685150e+05</td>\n",
       "      <td>20452.201630</td>\n",
       "      <td>2.156702e+05</td>\n",
       "      <td>2.779615e+06</td>\n",
       "      <td>1.537874e+07</td>\n",
       "    </tr>\n",
       "    <tr>\n",
       "      <th>TAX</th>\n",
       "      <td>1.173073e+06</td>\n",
       "      <td>121170.623200</td>\n",
       "      <td>1.280740e+06</td>\n",
       "      <td>1.537874e+07</td>\n",
       "      <td>9.867314e+07</td>\n",
       "    </tr>\n",
       "  </tbody>\n",
       "</table>\n",
       "</div>"
      ],
      "text/plain": [
       "              CRIM            NOX            RM           AGE           TAX\n",
       "CRIM  4.397034e+04    1226.123170  1.082195e+04  1.685150e+05  1.173073e+06\n",
       "NOX   1.226123e+03     162.470380  1.751519e+03  2.045220e+04  1.211706e+05\n",
       "RM    1.082195e+04    1751.519414  2.023460e+04  2.156702e+05  1.280740e+06\n",
       "AGE   1.685150e+05   20452.201630  2.156702e+05  2.779615e+06  1.537874e+07\n",
       "TAX   1.173073e+06  121170.623200  1.280740e+06  1.537874e+07  9.867314e+07"
      ]
     },
     "execution_count": 20,
     "metadata": {},
     "output_type": "execute_result"
    }
   ],
   "source": [
    "X_t @ X"
   ]
  },
  {
   "cell_type": "markdown",
   "id": "9f6c58fd",
   "metadata": {},
   "source": [
    "### 행렬식 determinant"
   ]
  },
  {
   "cell_type": "code",
   "execution_count": 22,
   "id": "a9b1ca94",
   "metadata": {
    "ExecuteTime": {
     "end_time": "2023-07-17T06:17:43.687711Z",
     "start_time": "2023-07-17T06:17:43.665489Z"
    }
   },
   "outputs": [
    {
     "data": {
      "text/html": [
       "<div>\n",
       "<style scoped>\n",
       "    .dataframe tbody tr th:only-of-type {\n",
       "        vertical-align: middle;\n",
       "    }\n",
       "\n",
       "    .dataframe tbody tr th {\n",
       "        vertical-align: top;\n",
       "    }\n",
       "\n",
       "    .dataframe thead th {\n",
       "        text-align: right;\n",
       "    }\n",
       "</style>\n",
       "<table border=\"1\" class=\"dataframe\">\n",
       "  <thead>\n",
       "    <tr style=\"text-align: right;\">\n",
       "      <th></th>\n",
       "      <th>CRIM</th>\n",
       "      <th>NOX</th>\n",
       "      <th>RM</th>\n",
       "      <th>AGE</th>\n",
       "      <th>TAX</th>\n",
       "    </tr>\n",
       "  </thead>\n",
       "  <tbody>\n",
       "    <tr>\n",
       "      <th>CRIM</th>\n",
       "      <td>4.397034e+04</td>\n",
       "      <td>1226.123170</td>\n",
       "      <td>1.082195e+04</td>\n",
       "      <td>1.685150e+05</td>\n",
       "      <td>1.173073e+06</td>\n",
       "    </tr>\n",
       "    <tr>\n",
       "      <th>NOX</th>\n",
       "      <td>1.226123e+03</td>\n",
       "      <td>162.470380</td>\n",
       "      <td>1.751519e+03</td>\n",
       "      <td>2.045220e+04</td>\n",
       "      <td>1.211706e+05</td>\n",
       "    </tr>\n",
       "    <tr>\n",
       "      <th>RM</th>\n",
       "      <td>1.082195e+04</td>\n",
       "      <td>1751.519414</td>\n",
       "      <td>2.023460e+04</td>\n",
       "      <td>2.156702e+05</td>\n",
       "      <td>1.280740e+06</td>\n",
       "    </tr>\n",
       "    <tr>\n",
       "      <th>AGE</th>\n",
       "      <td>1.685150e+05</td>\n",
       "      <td>20452.201630</td>\n",
       "      <td>2.156702e+05</td>\n",
       "      <td>2.779615e+06</td>\n",
       "      <td>1.537874e+07</td>\n",
       "    </tr>\n",
       "    <tr>\n",
       "      <th>TAX</th>\n",
       "      <td>1.173073e+06</td>\n",
       "      <td>121170.623200</td>\n",
       "      <td>1.280740e+06</td>\n",
       "      <td>1.537874e+07</td>\n",
       "      <td>9.867314e+07</td>\n",
       "    </tr>\n",
       "  </tbody>\n",
       "</table>\n",
       "</div>"
      ],
      "text/plain": [
       "              CRIM            NOX            RM           AGE           TAX\n",
       "CRIM  4.397034e+04    1226.123170  1.082195e+04  1.685150e+05  1.173073e+06\n",
       "NOX   1.226123e+03     162.470380  1.751519e+03  2.045220e+04  1.211706e+05\n",
       "RM    1.082195e+04    1751.519414  2.023460e+04  2.156702e+05  1.280740e+06\n",
       "AGE   1.685150e+05   20452.201630  2.156702e+05  2.779615e+06  1.537874e+07\n",
       "TAX   1.173073e+06  121170.623200  1.280740e+06  1.537874e+07  9.867314e+07"
      ]
     },
     "execution_count": 22,
     "metadata": {},
     "output_type": "execute_result"
    }
   ],
   "source": [
    "XtX = X_t @ X\n",
    "XtX"
   ]
  },
  {
   "cell_type": "code",
   "execution_count": 23,
   "id": "3e82062c",
   "metadata": {
    "ExecuteTime": {
     "end_time": "2023-07-17T06:17:56.418277Z",
     "start_time": "2023-07-17T06:17:56.400324Z"
    }
   },
   "outputs": [
    {
     "data": {
      "text/plain": [
       "7.91431657769047e+21"
      ]
     },
     "execution_count": 23,
     "metadata": {},
     "output_type": "execute_result"
    }
   ],
   "source": [
    "np.linalg.det(XtX)"
   ]
  },
  {
   "cell_type": "markdown",
   "id": "bbfac107",
   "metadata": {},
   "source": [
    "### 역행렬 inverse matrix"
   ]
  },
  {
   "cell_type": "code",
   "execution_count": 24,
   "id": "882927c8",
   "metadata": {
    "ExecuteTime": {
     "end_time": "2023-07-17T06:25:38.750470Z",
     "start_time": "2023-07-17T06:25:38.727532Z"
    }
   },
   "outputs": [
    {
     "data": {
      "text/plain": [
       "array([[ 4.07613803e-05,  1.32526683e-04,  4.76832932e-05,\n",
       "        -1.01889386e-06, -1.10744437e-06],\n",
       "       [ 1.32526683e-04,  3.44301609e-01, -1.30762150e-02,\n",
       "        -8.56047279e-04, -1.21234099e-04],\n",
       "       [ 4.76832932e-05, -1.30762150e-02,  9.05341934e-04,\n",
       "         1.73338529e-05,  1.03814433e-06],\n",
       "       [-1.01889386e-06, -8.56047279e-04,  1.73338529e-05,\n",
       "         5.35211609e-06,  4.19638894e-09],\n",
       "       [-1.10744437e-06, -1.21234099e-04,  1.03814433e-06,\n",
       "         4.19638894e-09,  1.58047038e-07]])"
      ]
     },
     "execution_count": 24,
     "metadata": {},
     "output_type": "execute_result"
    }
   ],
   "source": [
    "XtX_inv = np.linalg.inv(XtX)\n",
    "XtX_inv"
   ]
  },
  {
   "cell_type": "code",
   "execution_count": 25,
   "id": "107771eb",
   "metadata": {
    "ExecuteTime": {
     "end_time": "2023-07-17T06:25:53.966737Z",
     "start_time": "2023-07-17T06:25:53.937659Z"
    }
   },
   "outputs": [
    {
     "data": {
      "text/html": [
       "<div>\n",
       "<style scoped>\n",
       "    .dataframe tbody tr th:only-of-type {\n",
       "        vertical-align: middle;\n",
       "    }\n",
       "\n",
       "    .dataframe tbody tr th {\n",
       "        vertical-align: top;\n",
       "    }\n",
       "\n",
       "    .dataframe thead th {\n",
       "        text-align: right;\n",
       "    }\n",
       "</style>\n",
       "<table border=\"1\" class=\"dataframe\">\n",
       "  <thead>\n",
       "    <tr style=\"text-align: right;\">\n",
       "      <th></th>\n",
       "      <th>0</th>\n",
       "      <th>1</th>\n",
       "      <th>2</th>\n",
       "      <th>3</th>\n",
       "      <th>4</th>\n",
       "    </tr>\n",
       "  </thead>\n",
       "  <tbody>\n",
       "    <tr>\n",
       "      <th>CRIM</th>\n",
       "      <td>1.000000e+00</td>\n",
       "      <td>-4.447888e-14</td>\n",
       "      <td>-1.020086e-15</td>\n",
       "      <td>-4.691598e-16</td>\n",
       "      <td>2.699273e-18</td>\n",
       "    </tr>\n",
       "    <tr>\n",
       "      <th>NOX</th>\n",
       "      <td>-1.452603e-17</td>\n",
       "      <td>1.000000e+00</td>\n",
       "      <td>-2.678151e-16</td>\n",
       "      <td>-2.168159e-18</td>\n",
       "      <td>-3.659899e-18</td>\n",
       "    </tr>\n",
       "    <tr>\n",
       "      <th>RM</th>\n",
       "      <td>-9.428389e-17</td>\n",
       "      <td>6.247078e-15</td>\n",
       "      <td>1.000000e+00</td>\n",
       "      <td>-1.370854e-16</td>\n",
       "      <td>3.749752e-18</td>\n",
       "    </tr>\n",
       "    <tr>\n",
       "      <th>AGE</th>\n",
       "      <td>-2.786726e-16</td>\n",
       "      <td>-1.250669e-13</td>\n",
       "      <td>-1.535879e-14</td>\n",
       "      <td>1.000000e+00</td>\n",
       "      <td>-7.049449e-17</td>\n",
       "    </tr>\n",
       "    <tr>\n",
       "      <th>TAX</th>\n",
       "      <td>-6.501229e-15</td>\n",
       "      <td>-7.405329e-13</td>\n",
       "      <td>-9.465845e-14</td>\n",
       "      <td>-3.369418e-15</td>\n",
       "      <td>1.000000e+00</td>\n",
       "    </tr>\n",
       "  </tbody>\n",
       "</table>\n",
       "</div>"
      ],
      "text/plain": [
       "                 0             1             2             3             4\n",
       "CRIM  1.000000e+00 -4.447888e-14 -1.020086e-15 -4.691598e-16  2.699273e-18\n",
       "NOX  -1.452603e-17  1.000000e+00 -2.678151e-16 -2.168159e-18 -3.659899e-18\n",
       "RM   -9.428389e-17  6.247078e-15  1.000000e+00 -1.370854e-16  3.749752e-18\n",
       "AGE  -2.786726e-16 -1.250669e-13 -1.535879e-14  1.000000e+00 -7.049449e-17\n",
       "TAX  -6.501229e-15 -7.405329e-13 -9.465845e-14 -3.369418e-15  1.000000e+00"
      ]
     },
     "execution_count": 25,
     "metadata": {},
     "output_type": "execute_result"
    }
   ],
   "source": [
    "XtX @ XtX_inv"
   ]
  },
  {
   "cell_type": "code",
   "execution_count": 26,
   "id": "59b62443",
   "metadata": {
    "ExecuteTime": {
     "end_time": "2023-07-17T06:26:10.092793Z",
     "start_time": "2023-07-17T06:26:10.070810Z"
    }
   },
   "outputs": [
    {
     "data": {
      "text/html": [
       "<div>\n",
       "<style scoped>\n",
       "    .dataframe tbody tr th:only-of-type {\n",
       "        vertical-align: middle;\n",
       "    }\n",
       "\n",
       "    .dataframe tbody tr th {\n",
       "        vertical-align: top;\n",
       "    }\n",
       "\n",
       "    .dataframe thead th {\n",
       "        text-align: right;\n",
       "    }\n",
       "</style>\n",
       "<table border=\"1\" class=\"dataframe\">\n",
       "  <thead>\n",
       "    <tr style=\"text-align: right;\">\n",
       "      <th></th>\n",
       "      <th>CRIM</th>\n",
       "      <th>NOX</th>\n",
       "      <th>RM</th>\n",
       "      <th>AGE</th>\n",
       "      <th>TAX</th>\n",
       "    </tr>\n",
       "  </thead>\n",
       "  <tbody>\n",
       "    <tr>\n",
       "      <th>0</th>\n",
       "      <td>1.000000e+00</td>\n",
       "      <td>-7.576365e-16</td>\n",
       "      <td>-8.235377e-15</td>\n",
       "      <td>-9.886624e-14</td>\n",
       "      <td>-5.807765e-13</td>\n",
       "    </tr>\n",
       "    <tr>\n",
       "      <th>1</th>\n",
       "      <td>1.419495e-13</td>\n",
       "      <td>1.000000e+00</td>\n",
       "      <td>1.941346e-13</td>\n",
       "      <td>2.357091e-12</td>\n",
       "      <td>7.872695e-12</td>\n",
       "    </tr>\n",
       "    <tr>\n",
       "      <th>2</th>\n",
       "      <td>-3.420988e-15</td>\n",
       "      <td>-8.161380e-16</td>\n",
       "      <td>1.000000e+00</td>\n",
       "      <td>-9.470352e-14</td>\n",
       "      <td>-3.688790e-13</td>\n",
       "    </tr>\n",
       "    <tr>\n",
       "      <th>3</th>\n",
       "      <td>-2.045842e-16</td>\n",
       "      <td>-3.458849e-17</td>\n",
       "      <td>-3.330749e-16</td>\n",
       "      <td>1.000000e+00</td>\n",
       "      <td>-1.846921e-14</td>\n",
       "    </tr>\n",
       "    <tr>\n",
       "      <th>4</th>\n",
       "      <td>2.699273e-18</td>\n",
       "      <td>-3.659899e-18</td>\n",
       "      <td>3.749752e-18</td>\n",
       "      <td>-7.049449e-17</td>\n",
       "      <td>1.000000e+00</td>\n",
       "    </tr>\n",
       "  </tbody>\n",
       "</table>\n",
       "</div>"
      ],
      "text/plain": [
       "           CRIM           NOX            RM           AGE           TAX\n",
       "0  1.000000e+00 -7.576365e-16 -8.235377e-15 -9.886624e-14 -5.807765e-13\n",
       "1  1.419495e-13  1.000000e+00  1.941346e-13  2.357091e-12  7.872695e-12\n",
       "2 -3.420988e-15 -8.161380e-16  1.000000e+00 -9.470352e-14 -3.688790e-13\n",
       "3 -2.045842e-16 -3.458849e-17 -3.330749e-16  1.000000e+00 -1.846921e-14\n",
       "4  2.699273e-18 -3.659899e-18  3.749752e-18 -7.049449e-17  1.000000e+00"
      ]
     },
     "execution_count": 26,
     "metadata": {},
     "output_type": "execute_result"
    }
   ],
   "source": [
    "XtX_inv @ XtX"
   ]
  },
  {
   "cell_type": "markdown",
   "id": "68461bec",
   "metadata": {},
   "source": [
    "### 내적"
   ]
  },
  {
   "cell_type": "code",
   "execution_count": 28,
   "id": "f67505ad",
   "metadata": {
    "ExecuteTime": {
     "end_time": "2023-07-17T06:44:08.526207Z",
     "start_time": "2023-07-17T06:44:08.515238Z"
    }
   },
   "outputs": [],
   "source": [
    "crim = df['CRIM']\n",
    "nox = df['NOX']"
   ]
  },
  {
   "cell_type": "code",
   "execution_count": 29,
   "id": "7160f661",
   "metadata": {
    "ExecuteTime": {
     "end_time": "2023-07-17T06:44:19.980675Z",
     "start_time": "2023-07-17T06:44:19.966093Z"
    }
   },
   "outputs": [
    {
     "data": {
      "text/plain": [
       "1226.1231702310001"
      ]
     },
     "execution_count": 29,
     "metadata": {},
     "output_type": "execute_result"
    }
   ],
   "source": [
    "res = np.inner(crim, nox)\n",
    "res"
   ]
  },
  {
   "cell_type": "markdown",
   "id": "24eaadf5",
   "metadata": {},
   "source": [
    "### 고윳값 분해"
   ]
  },
  {
   "cell_type": "code",
   "execution_count": 30,
   "id": "53be9775",
   "metadata": {
    "ExecuteTime": {
     "end_time": "2023-07-17T07:24:03.475980Z",
     "start_time": "2023-07-17T07:24:03.446035Z"
    }
   },
   "outputs": [
    {
     "data": {
      "text/html": [
       "<div>\n",
       "<style scoped>\n",
       "    .dataframe tbody tr th:only-of-type {\n",
       "        vertical-align: middle;\n",
       "    }\n",
       "\n",
       "    .dataframe tbody tr th {\n",
       "        vertical-align: top;\n",
       "    }\n",
       "\n",
       "    .dataframe thead th {\n",
       "        text-align: right;\n",
       "    }\n",
       "</style>\n",
       "<table border=\"1\" class=\"dataframe\">\n",
       "  <thead>\n",
       "    <tr style=\"text-align: right;\">\n",
       "      <th></th>\n",
       "      <th>CRIM</th>\n",
       "      <th>NOX</th>\n",
       "      <th>RM</th>\n",
       "      <th>AGE</th>\n",
       "      <th>TAX</th>\n",
       "    </tr>\n",
       "  </thead>\n",
       "  <tbody>\n",
       "    <tr>\n",
       "      <th>CRIM</th>\n",
       "      <td>4.397034e+04</td>\n",
       "      <td>1226.123170</td>\n",
       "      <td>1.082195e+04</td>\n",
       "      <td>1.685150e+05</td>\n",
       "      <td>1.173073e+06</td>\n",
       "    </tr>\n",
       "    <tr>\n",
       "      <th>NOX</th>\n",
       "      <td>1.226123e+03</td>\n",
       "      <td>162.470380</td>\n",
       "      <td>1.751519e+03</td>\n",
       "      <td>2.045220e+04</td>\n",
       "      <td>1.211706e+05</td>\n",
       "    </tr>\n",
       "    <tr>\n",
       "      <th>RM</th>\n",
       "      <td>1.082195e+04</td>\n",
       "      <td>1751.519414</td>\n",
       "      <td>2.023460e+04</td>\n",
       "      <td>2.156702e+05</td>\n",
       "      <td>1.280740e+06</td>\n",
       "    </tr>\n",
       "    <tr>\n",
       "      <th>AGE</th>\n",
       "      <td>1.685150e+05</td>\n",
       "      <td>20452.201630</td>\n",
       "      <td>2.156702e+05</td>\n",
       "      <td>2.779615e+06</td>\n",
       "      <td>1.537874e+07</td>\n",
       "    </tr>\n",
       "    <tr>\n",
       "      <th>TAX</th>\n",
       "      <td>1.173073e+06</td>\n",
       "      <td>121170.623200</td>\n",
       "      <td>1.280740e+06</td>\n",
       "      <td>1.537874e+07</td>\n",
       "      <td>9.867314e+07</td>\n",
       "    </tr>\n",
       "  </tbody>\n",
       "</table>\n",
       "</div>"
      ],
      "text/plain": [
       "              CRIM            NOX            RM           AGE           TAX\n",
       "CRIM  4.397034e+04    1226.123170  1.082195e+04  1.685150e+05  1.173073e+06\n",
       "NOX   1.226123e+03     162.470380  1.751519e+03  2.045220e+04  1.211706e+05\n",
       "RM    1.082195e+04    1751.519414  2.023460e+04  2.156702e+05  1.280740e+06\n",
       "AGE   1.685150e+05   20452.201630  2.156702e+05  2.779615e+06  1.537874e+07\n",
       "TAX   1.173073e+06  121170.623200  1.280740e+06  1.537874e+07  9.867314e+07"
      ]
     },
     "execution_count": 30,
     "metadata": {},
     "output_type": "execute_result"
    }
   ],
   "source": [
    "cov_x = X_t.dot(X)\n",
    "cov_x"
   ]
  },
  {
   "cell_type": "code",
   "execution_count": 34,
   "id": "1deede13",
   "metadata": {
    "ExecuteTime": {
     "end_time": "2023-07-17T07:25:56.343799Z",
     "start_time": "2023-07-17T07:25:56.331831Z"
    }
   },
   "outputs": [],
   "source": [
    "e, v = np.linalg.eig(cov_x)"
   ]
  },
  {
   "cell_type": "code",
   "execution_count": 35,
   "id": "785887d6",
   "metadata": {
    "ExecuteTime": {
     "end_time": "2023-07-17T07:25:58.004424Z",
     "start_time": "2023-07-17T07:25:57.994450Z"
    }
   },
   "outputs": [
    {
     "data": {
      "text/plain": [
       "array([1.01109837e+08, 3.74919516e+05, 2.99553705e+04, 2.40312204e+03,\n",
       "       2.90022330e+00])"
      ]
     },
     "execution_count": 35,
     "metadata": {},
     "output_type": "execute_result"
    }
   ],
   "source": [
    "e"
   ]
  },
  {
   "cell_type": "code",
   "execution_count": 36,
   "id": "c80af8c6",
   "metadata": {
    "ExecuteTime": {
     "end_time": "2023-07-17T07:25:58.236945Z",
     "start_time": "2023-07-17T07:25:58.205156Z"
    }
   },
   "outputs": [
    {
     "data": {
      "text/plain": [
       "array([[ 1.17248568e-02, -4.34541539e-02, -9.89273583e-01,\n",
       "         1.38967257e-01, -3.78876853e-04],\n",
       "       [ 1.21545113e-03,  3.97729110e-03,  5.48368537e-03,\n",
       "         3.74537281e-02, -9.99274663e-01],\n",
       "       [ 1.28461807e-02,  4.11504926e-02,  1.37240647e-01,\n",
       "         9.88869506e-01,  3.79962757e-02],\n",
       "       [ 1.54544362e-01,  9.86199762e-01, -4.66395497e-02,\n",
       "        -3.66695593e-02,  2.48287726e-03],\n",
       "       [ 9.87832003e-01, -1.54313263e-01,  1.72471505e-02,\n",
       "        -8.81831838e-03,  3.51466736e-04]])"
      ]
     },
     "execution_count": 36,
     "metadata": {},
     "output_type": "execute_result"
    }
   ],
   "source": [
    "v"
   ]
  },
  {
   "cell_type": "markdown",
   "id": "ccc60d7b",
   "metadata": {},
   "source": [
    "### 특이값 분해"
   ]
  },
  {
   "cell_type": "code",
   "execution_count": 37,
   "id": "1b693632",
   "metadata": {
    "ExecuteTime": {
     "end_time": "2023-07-17T07:27:38.933303Z",
     "start_time": "2023-07-17T07:27:38.909405Z"
    }
   },
   "outputs": [],
   "source": [
    "u, s, vt = np.linalg.svd(cov_x)"
   ]
  },
  {
   "cell_type": "code",
   "execution_count": 38,
   "id": "fe9124b6",
   "metadata": {
    "ExecuteTime": {
     "end_time": "2023-07-17T07:27:42.157480Z",
     "start_time": "2023-07-17T07:27:42.149535Z"
    }
   },
   "outputs": [
    {
     "data": {
      "text/plain": [
       "array([[-1.17248568e-02,  4.34541539e-02,  9.89273583e-01,\n",
       "        -1.38967257e-01, -3.78876853e-04],\n",
       "       [-1.21545113e-03, -3.97729110e-03, -5.48368537e-03,\n",
       "        -3.74537281e-02, -9.99274663e-01],\n",
       "       [-1.28461807e-02, -4.11504926e-02, -1.37240647e-01,\n",
       "        -9.88869506e-01,  3.79962757e-02],\n",
       "       [-1.54544362e-01, -9.86199762e-01,  4.66395497e-02,\n",
       "         3.66695593e-02,  2.48287726e-03],\n",
       "       [-9.87832003e-01,  1.54313263e-01, -1.72471505e-02,\n",
       "         8.81831838e-03,  3.51466736e-04]])"
      ]
     },
     "execution_count": 38,
     "metadata": {},
     "output_type": "execute_result"
    }
   ],
   "source": [
    "u"
   ]
  },
  {
   "cell_type": "code",
   "execution_count": 39,
   "id": "905b00e1",
   "metadata": {
    "ExecuteTime": {
     "end_time": "2023-07-17T07:27:45.037973Z",
     "start_time": "2023-07-17T07:27:45.027990Z"
    }
   },
   "outputs": [
    {
     "data": {
      "text/plain": [
       "array([1.01109837e+08, 3.74919516e+05, 2.99553705e+04, 2.40312204e+03,\n",
       "       2.90022330e+00])"
      ]
     },
     "execution_count": 39,
     "metadata": {},
     "output_type": "execute_result"
    }
   ],
   "source": [
    "s"
   ]
  },
  {
   "cell_type": "code",
   "execution_count": 40,
   "id": "075b5039",
   "metadata": {
    "ExecuteTime": {
     "end_time": "2023-07-17T07:27:47.031827Z",
     "start_time": "2023-07-17T07:27:47.016253Z"
    }
   },
   "outputs": [
    {
     "data": {
      "text/plain": [
       "array([[-1.17248568e-02, -1.21545113e-03, -1.28461807e-02,\n",
       "        -1.54544362e-01, -9.87832003e-01],\n",
       "       [ 4.34541539e-02, -3.97729110e-03, -4.11504926e-02,\n",
       "        -9.86199762e-01,  1.54313263e-01],\n",
       "       [ 9.89273583e-01, -5.48368537e-03, -1.37240647e-01,\n",
       "         4.66395497e-02, -1.72471505e-02],\n",
       "       [-1.38967257e-01, -3.74537281e-02, -9.88869506e-01,\n",
       "         3.66695593e-02,  8.81831838e-03],\n",
       "       [-3.78876853e-04, -9.99274663e-01,  3.79962757e-02,\n",
       "         2.48287726e-03,  3.51466736e-04]])"
      ]
     },
     "execution_count": 40,
     "metadata": {},
     "output_type": "execute_result"
    }
   ],
   "source": [
    "vt"
   ]
  },
  {
   "cell_type": "code",
   "execution_count": null,
   "id": "2f48a9c1",
   "metadata": {},
   "outputs": [],
   "source": []
  },
  {
   "cell_type": "code",
   "execution_count": null,
   "id": "4bc57e81",
   "metadata": {},
   "outputs": [],
   "source": []
  },
  {
   "cell_type": "code",
   "execution_count": null,
   "id": "c9b33cc3",
   "metadata": {},
   "outputs": [],
   "source": []
  }
 ],
 "metadata": {
  "hide_input": false,
  "kernelspec": {
   "display_name": "Python 3 (ipykernel)",
   "language": "python",
   "name": "python3"
  },
  "language_info": {
   "codemirror_mode": {
    "name": "ipython",
    "version": 3
   },
   "file_extension": ".py",
   "mimetype": "text/x-python",
   "name": "python",
   "nbconvert_exporter": "python",
   "pygments_lexer": "ipython3",
   "version": "3.9.16"
  },
  "toc": {
   "base_numbering": 1,
   "nav_menu": {},
   "number_sections": false,
   "sideBar": true,
   "skip_h1_title": false,
   "title_cell": "Table of Contents",
   "title_sidebar": "Contents",
   "toc_cell": false,
   "toc_position": {},
   "toc_section_display": true,
   "toc_window_display": false
  }
 },
 "nbformat": 4,
 "nbformat_minor": 5
}
