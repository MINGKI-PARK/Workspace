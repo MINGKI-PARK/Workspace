{
 "cells": [
  {
   "cell_type": "code",
   "execution_count": 1,
   "id": "a0156b4c",
   "metadata": {
    "ExecuteTime": {
     "end_time": "2023-07-18T01:33:43.020150Z",
     "start_time": "2023-07-18T01:33:40.651377Z"
    }
   },
   "outputs": [],
   "source": [
    "import numpy as np\n",
    "import pandas as pd"
   ]
  },
  {
   "cell_type": "code",
   "execution_count": 2,
   "id": "dbfda6ea",
   "metadata": {
    "ExecuteTime": {
     "end_time": "2023-07-18T01:34:31.725314Z",
     "start_time": "2023-07-18T01:34:31.591378Z"
    }
   },
   "outputs": [
    {
     "data": {
      "text/html": [
       "<div>\n",
       "<style scoped>\n",
       "    .dataframe tbody tr th:only-of-type {\n",
       "        vertical-align: middle;\n",
       "    }\n",
       "\n",
       "    .dataframe tbody tr th {\n",
       "        vertical-align: top;\n",
       "    }\n",
       "\n",
       "    .dataframe thead th {\n",
       "        text-align: right;\n",
       "    }\n",
       "</style>\n",
       "<table border=\"1\" class=\"dataframe\">\n",
       "  <thead>\n",
       "    <tr style=\"text-align: right;\">\n",
       "      <th></th>\n",
       "      <th>CRIM</th>\n",
       "      <th>ZN</th>\n",
       "      <th>INDUS</th>\n",
       "      <th>CHAS</th>\n",
       "      <th>NOX</th>\n",
       "      <th>RM</th>\n",
       "      <th>AGE</th>\n",
       "      <th>DIS</th>\n",
       "      <th>RAD</th>\n",
       "      <th>TAX</th>\n",
       "      <th>PTRATIO</th>\n",
       "      <th>B</th>\n",
       "      <th>LSTAT</th>\n",
       "      <th>MEDV</th>\n",
       "    </tr>\n",
       "  </thead>\n",
       "  <tbody>\n",
       "    <tr>\n",
       "      <th>0</th>\n",
       "      <td>0.00632</td>\n",
       "      <td>18.0</td>\n",
       "      <td>2.31</td>\n",
       "      <td>0</td>\n",
       "      <td>0.538</td>\n",
       "      <td>6.575</td>\n",
       "      <td>65.2</td>\n",
       "      <td>4.0900</td>\n",
       "      <td>1</td>\n",
       "      <td>296</td>\n",
       "      <td>15.3</td>\n",
       "      <td>396.90</td>\n",
       "      <td>4.98</td>\n",
       "      <td>24.0</td>\n",
       "    </tr>\n",
       "    <tr>\n",
       "      <th>1</th>\n",
       "      <td>0.02731</td>\n",
       "      <td>0.0</td>\n",
       "      <td>7.07</td>\n",
       "      <td>0</td>\n",
       "      <td>0.469</td>\n",
       "      <td>6.421</td>\n",
       "      <td>78.9</td>\n",
       "      <td>4.9671</td>\n",
       "      <td>2</td>\n",
       "      <td>242</td>\n",
       "      <td>17.8</td>\n",
       "      <td>396.90</td>\n",
       "      <td>9.14</td>\n",
       "      <td>21.6</td>\n",
       "    </tr>\n",
       "    <tr>\n",
       "      <th>2</th>\n",
       "      <td>0.02729</td>\n",
       "      <td>0.0</td>\n",
       "      <td>7.07</td>\n",
       "      <td>0</td>\n",
       "      <td>0.469</td>\n",
       "      <td>7.185</td>\n",
       "      <td>61.1</td>\n",
       "      <td>4.9671</td>\n",
       "      <td>2</td>\n",
       "      <td>242</td>\n",
       "      <td>17.8</td>\n",
       "      <td>392.83</td>\n",
       "      <td>4.03</td>\n",
       "      <td>34.7</td>\n",
       "    </tr>\n",
       "  </tbody>\n",
       "</table>\n",
       "</div>"
      ],
      "text/plain": [
       "      CRIM    ZN  INDUS  CHAS    NOX     RM   AGE     DIS  RAD  TAX  PTRATIO  \\\n",
       "0  0.00632  18.0   2.31     0  0.538  6.575  65.2  4.0900    1  296     15.3   \n",
       "1  0.02731   0.0   7.07     0  0.469  6.421  78.9  4.9671    2  242     17.8   \n",
       "2  0.02729   0.0   7.07     0  0.469  7.185  61.1  4.9671    2  242     17.8   \n",
       "\n",
       "        B  LSTAT  MEDV  \n",
       "0  396.90   4.98  24.0  \n",
       "1  396.90   9.14  21.6  \n",
       "2  392.83   4.03  34.7  "
      ]
     },
     "execution_count": 2,
     "metadata": {},
     "output_type": "execute_result"
    }
   ],
   "source": [
    "df = pd.read_csv('c:/reposit/data/철원이형/house_prices.csv', encoding='cp949')\n",
    "df.head(3)"
   ]
  },
  {
   "cell_type": "markdown",
   "id": "8b4f2d0d",
   "metadata": {},
   "source": [
    "##  방의 개수(RM)가 7개 초과일 확률"
   ]
  },
  {
   "cell_type": "code",
   "execution_count": 3,
   "id": "d3325829",
   "metadata": {
    "ExecuteTime": {
     "end_time": "2023-07-18T01:34:52.303175Z",
     "start_time": "2023-07-18T01:34:52.246932Z"
    }
   },
   "outputs": [
    {
     "data": {
      "text/html": [
       "<div>\n",
       "<style scoped>\n",
       "    .dataframe tbody tr th:only-of-type {\n",
       "        vertical-align: middle;\n",
       "    }\n",
       "\n",
       "    .dataframe tbody tr th {\n",
       "        vertical-align: top;\n",
       "    }\n",
       "\n",
       "    .dataframe thead th {\n",
       "        text-align: right;\n",
       "    }\n",
       "</style>\n",
       "<table border=\"1\" class=\"dataframe\">\n",
       "  <thead>\n",
       "    <tr style=\"text-align: right;\">\n",
       "      <th></th>\n",
       "      <th>CRIM</th>\n",
       "      <th>ZN</th>\n",
       "      <th>INDUS</th>\n",
       "      <th>CHAS</th>\n",
       "      <th>NOX</th>\n",
       "      <th>RM</th>\n",
       "      <th>AGE</th>\n",
       "      <th>DIS</th>\n",
       "      <th>RAD</th>\n",
       "      <th>TAX</th>\n",
       "      <th>PTRATIO</th>\n",
       "      <th>B</th>\n",
       "      <th>LSTAT</th>\n",
       "      <th>MEDV</th>\n",
       "    </tr>\n",
       "  </thead>\n",
       "  <tbody>\n",
       "    <tr>\n",
       "      <th>2</th>\n",
       "      <td>0.02729</td>\n",
       "      <td>0.0</td>\n",
       "      <td>7.07</td>\n",
       "      <td>0</td>\n",
       "      <td>0.4690</td>\n",
       "      <td>7.185</td>\n",
       "      <td>61.1</td>\n",
       "      <td>4.9671</td>\n",
       "      <td>2</td>\n",
       "      <td>242</td>\n",
       "      <td>17.8</td>\n",
       "      <td>392.83</td>\n",
       "      <td>4.03</td>\n",
       "      <td>34.7</td>\n",
       "    </tr>\n",
       "    <tr>\n",
       "      <th>4</th>\n",
       "      <td>0.06905</td>\n",
       "      <td>0.0</td>\n",
       "      <td>2.18</td>\n",
       "      <td>0</td>\n",
       "      <td>0.4580</td>\n",
       "      <td>7.147</td>\n",
       "      <td>54.2</td>\n",
       "      <td>6.0622</td>\n",
       "      <td>3</td>\n",
       "      <td>222</td>\n",
       "      <td>18.7</td>\n",
       "      <td>396.90</td>\n",
       "      <td>5.33</td>\n",
       "      <td>36.2</td>\n",
       "    </tr>\n",
       "    <tr>\n",
       "      <th>40</th>\n",
       "      <td>0.03359</td>\n",
       "      <td>75.0</td>\n",
       "      <td>2.95</td>\n",
       "      <td>0</td>\n",
       "      <td>0.4280</td>\n",
       "      <td>7.024</td>\n",
       "      <td>15.8</td>\n",
       "      <td>5.4011</td>\n",
       "      <td>3</td>\n",
       "      <td>252</td>\n",
       "      <td>18.3</td>\n",
       "      <td>395.62</td>\n",
       "      <td>1.98</td>\n",
       "      <td>34.9</td>\n",
       "    </tr>\n",
       "    <tr>\n",
       "      <th>55</th>\n",
       "      <td>0.01311</td>\n",
       "      <td>90.0</td>\n",
       "      <td>1.22</td>\n",
       "      <td>0</td>\n",
       "      <td>0.4030</td>\n",
       "      <td>7.249</td>\n",
       "      <td>21.9</td>\n",
       "      <td>8.6966</td>\n",
       "      <td>5</td>\n",
       "      <td>226</td>\n",
       "      <td>17.9</td>\n",
       "      <td>395.93</td>\n",
       "      <td>4.81</td>\n",
       "      <td>35.4</td>\n",
       "    </tr>\n",
       "    <tr>\n",
       "      <th>64</th>\n",
       "      <td>0.01951</td>\n",
       "      <td>17.5</td>\n",
       "      <td>1.38</td>\n",
       "      <td>0</td>\n",
       "      <td>0.4161</td>\n",
       "      <td>7.104</td>\n",
       "      <td>59.5</td>\n",
       "      <td>9.2229</td>\n",
       "      <td>3</td>\n",
       "      <td>216</td>\n",
       "      <td>18.6</td>\n",
       "      <td>393.24</td>\n",
       "      <td>8.05</td>\n",
       "      <td>33.0</td>\n",
       "    </tr>\n",
       "    <tr>\n",
       "      <th>...</th>\n",
       "      <td>...</td>\n",
       "      <td>...</td>\n",
       "      <td>...</td>\n",
       "      <td>...</td>\n",
       "      <td>...</td>\n",
       "      <td>...</td>\n",
       "      <td>...</td>\n",
       "      <td>...</td>\n",
       "      <td>...</td>\n",
       "      <td>...</td>\n",
       "      <td>...</td>\n",
       "      <td>...</td>\n",
       "      <td>...</td>\n",
       "      <td>...</td>\n",
       "    </tr>\n",
       "    <tr>\n",
       "      <th>364</th>\n",
       "      <td>3.47428</td>\n",
       "      <td>0.0</td>\n",
       "      <td>18.10</td>\n",
       "      <td>1</td>\n",
       "      <td>0.7180</td>\n",
       "      <td>8.780</td>\n",
       "      <td>82.9</td>\n",
       "      <td>1.9047</td>\n",
       "      <td>24</td>\n",
       "      <td>666</td>\n",
       "      <td>20.2</td>\n",
       "      <td>354.55</td>\n",
       "      <td>5.29</td>\n",
       "      <td>21.9</td>\n",
       "    </tr>\n",
       "    <tr>\n",
       "      <th>370</th>\n",
       "      <td>6.53876</td>\n",
       "      <td>0.0</td>\n",
       "      <td>18.10</td>\n",
       "      <td>1</td>\n",
       "      <td>0.6310</td>\n",
       "      <td>7.016</td>\n",
       "      <td>97.5</td>\n",
       "      <td>1.2024</td>\n",
       "      <td>24</td>\n",
       "      <td>666</td>\n",
       "      <td>20.2</td>\n",
       "      <td>392.05</td>\n",
       "      <td>2.96</td>\n",
       "      <td>50.0</td>\n",
       "    </tr>\n",
       "    <tr>\n",
       "      <th>375</th>\n",
       "      <td>19.60910</td>\n",
       "      <td>0.0</td>\n",
       "      <td>18.10</td>\n",
       "      <td>0</td>\n",
       "      <td>0.6710</td>\n",
       "      <td>7.313</td>\n",
       "      <td>97.9</td>\n",
       "      <td>1.3163</td>\n",
       "      <td>24</td>\n",
       "      <td>666</td>\n",
       "      <td>20.2</td>\n",
       "      <td>396.90</td>\n",
       "      <td>13.44</td>\n",
       "      <td>15.0</td>\n",
       "    </tr>\n",
       "    <tr>\n",
       "      <th>453</th>\n",
       "      <td>8.24809</td>\n",
       "      <td>0.0</td>\n",
       "      <td>18.10</td>\n",
       "      <td>0</td>\n",
       "      <td>0.7130</td>\n",
       "      <td>7.393</td>\n",
       "      <td>99.3</td>\n",
       "      <td>2.4527</td>\n",
       "      <td>24</td>\n",
       "      <td>666</td>\n",
       "      <td>20.2</td>\n",
       "      <td>375.87</td>\n",
       "      <td>16.74</td>\n",
       "      <td>17.8</td>\n",
       "    </tr>\n",
       "    <tr>\n",
       "      <th>482</th>\n",
       "      <td>5.73116</td>\n",
       "      <td>0.0</td>\n",
       "      <td>18.10</td>\n",
       "      <td>0</td>\n",
       "      <td>0.5320</td>\n",
       "      <td>7.061</td>\n",
       "      <td>77.0</td>\n",
       "      <td>3.4106</td>\n",
       "      <td>24</td>\n",
       "      <td>666</td>\n",
       "      <td>20.2</td>\n",
       "      <td>395.28</td>\n",
       "      <td>7.01</td>\n",
       "      <td>25.0</td>\n",
       "    </tr>\n",
       "  </tbody>\n",
       "</table>\n",
       "<p>64 rows × 14 columns</p>\n",
       "</div>"
      ],
      "text/plain": [
       "         CRIM    ZN  INDUS  CHAS     NOX     RM   AGE     DIS  RAD  TAX  \\\n",
       "2     0.02729   0.0   7.07     0  0.4690  7.185  61.1  4.9671    2  242   \n",
       "4     0.06905   0.0   2.18     0  0.4580  7.147  54.2  6.0622    3  222   \n",
       "40    0.03359  75.0   2.95     0  0.4280  7.024  15.8  5.4011    3  252   \n",
       "55    0.01311  90.0   1.22     0  0.4030  7.249  21.9  8.6966    5  226   \n",
       "64    0.01951  17.5   1.38     0  0.4161  7.104  59.5  9.2229    3  216   \n",
       "..        ...   ...    ...   ...     ...    ...   ...     ...  ...  ...   \n",
       "364   3.47428   0.0  18.10     1  0.7180  8.780  82.9  1.9047   24  666   \n",
       "370   6.53876   0.0  18.10     1  0.6310  7.016  97.5  1.2024   24  666   \n",
       "375  19.60910   0.0  18.10     0  0.6710  7.313  97.9  1.3163   24  666   \n",
       "453   8.24809   0.0  18.10     0  0.7130  7.393  99.3  2.4527   24  666   \n",
       "482   5.73116   0.0  18.10     0  0.5320  7.061  77.0  3.4106   24  666   \n",
       "\n",
       "     PTRATIO       B  LSTAT  MEDV  \n",
       "2       17.8  392.83   4.03  34.7  \n",
       "4       18.7  396.90   5.33  36.2  \n",
       "40      18.3  395.62   1.98  34.9  \n",
       "55      17.9  395.93   4.81  35.4  \n",
       "64      18.6  393.24   8.05  33.0  \n",
       "..       ...     ...    ...   ...  \n",
       "364     20.2  354.55   5.29  21.9  \n",
       "370     20.2  392.05   2.96  50.0  \n",
       "375     20.2  396.90  13.44  15.0  \n",
       "453     20.2  375.87  16.74  17.8  \n",
       "482     20.2  395.28   7.01  25.0  \n",
       "\n",
       "[64 rows x 14 columns]"
      ]
     },
     "execution_count": 3,
     "metadata": {},
     "output_type": "execute_result"
    }
   ],
   "source": [
    "rm = df[df['RM']>7]\n",
    "rm"
   ]
  },
  {
   "cell_type": "code",
   "execution_count": 4,
   "id": "6929ad78",
   "metadata": {
    "ExecuteTime": {
     "end_time": "2023-07-18T01:35:12.170543Z",
     "start_time": "2023-07-18T01:35:12.158869Z"
    }
   },
   "outputs": [
    {
     "data": {
      "text/plain": [
       "0.12648221343873517"
      ]
     },
     "execution_count": 4,
     "metadata": {},
     "output_type": "execute_result"
    }
   ],
   "source": [
    "len(rm) / len(df)"
   ]
  },
  {
   "cell_type": "markdown",
   "id": "3f97cf90",
   "metadata": {},
   "source": [
    "### 조건부 확률"
   ]
  },
  {
   "cell_type": "code",
   "execution_count": 7,
   "id": "0a1fadf7",
   "metadata": {
    "ExecuteTime": {
     "end_time": "2023-07-18T01:39:04.583572Z",
     "start_time": "2023-07-18T01:39:04.551293Z"
    }
   },
   "outputs": [
    {
     "data": {
      "text/html": [
       "<div>\n",
       "<style scoped>\n",
       "    .dataframe tbody tr th:only-of-type {\n",
       "        vertical-align: middle;\n",
       "    }\n",
       "\n",
       "    .dataframe tbody tr th {\n",
       "        vertical-align: top;\n",
       "    }\n",
       "\n",
       "    .dataframe thead th {\n",
       "        text-align: right;\n",
       "    }\n",
       "</style>\n",
       "<table border=\"1\" class=\"dataframe\">\n",
       "  <thead>\n",
       "    <tr style=\"text-align: right;\">\n",
       "      <th></th>\n",
       "      <th>CRIM</th>\n",
       "      <th>ZN</th>\n",
       "      <th>INDUS</th>\n",
       "      <th>CHAS</th>\n",
       "      <th>NOX</th>\n",
       "      <th>RM</th>\n",
       "      <th>AGE</th>\n",
       "      <th>DIS</th>\n",
       "      <th>RAD</th>\n",
       "      <th>TAX</th>\n",
       "      <th>PTRATIO</th>\n",
       "      <th>B</th>\n",
       "      <th>LSTAT</th>\n",
       "      <th>MEDV</th>\n",
       "    </tr>\n",
       "  </thead>\n",
       "  <tbody>\n",
       "    <tr>\n",
       "      <th>142</th>\n",
       "      <td>3.32105</td>\n",
       "      <td>0.0</td>\n",
       "      <td>19.58</td>\n",
       "      <td>1</td>\n",
       "      <td>0.871</td>\n",
       "      <td>5.403</td>\n",
       "      <td>100.0</td>\n",
       "      <td>1.3216</td>\n",
       "      <td>5</td>\n",
       "      <td>403</td>\n",
       "      <td>14.7</td>\n",
       "      <td>396.9</td>\n",
       "      <td>26.82</td>\n",
       "      <td>13.4</td>\n",
       "    </tr>\n",
       "    <tr>\n",
       "      <th>143</th>\n",
       "      <td>4.09740</td>\n",
       "      <td>0.0</td>\n",
       "      <td>19.58</td>\n",
       "      <td>0</td>\n",
       "      <td>0.871</td>\n",
       "      <td>5.468</td>\n",
       "      <td>100.0</td>\n",
       "      <td>1.4118</td>\n",
       "      <td>5</td>\n",
       "      <td>403</td>\n",
       "      <td>14.7</td>\n",
       "      <td>396.9</td>\n",
       "      <td>26.42</td>\n",
       "      <td>15.6</td>\n",
       "    </tr>\n",
       "    <tr>\n",
       "      <th>144</th>\n",
       "      <td>2.77974</td>\n",
       "      <td>0.0</td>\n",
       "      <td>19.58</td>\n",
       "      <td>0</td>\n",
       "      <td>0.871</td>\n",
       "      <td>4.903</td>\n",
       "      <td>97.8</td>\n",
       "      <td>1.3459</td>\n",
       "      <td>5</td>\n",
       "      <td>403</td>\n",
       "      <td>14.7</td>\n",
       "      <td>396.9</td>\n",
       "      <td>29.29</td>\n",
       "      <td>11.8</td>\n",
       "    </tr>\n",
       "  </tbody>\n",
       "</table>\n",
       "</div>"
      ],
      "text/plain": [
       "        CRIM   ZN  INDUS  CHAS    NOX     RM    AGE     DIS  RAD  TAX  \\\n",
       "142  3.32105  0.0  19.58     1  0.871  5.403  100.0  1.3216    5  403   \n",
       "143  4.09740  0.0  19.58     0  0.871  5.468  100.0  1.4118    5  403   \n",
       "144  2.77974  0.0  19.58     0  0.871  4.903   97.8  1.3459    5  403   \n",
       "\n",
       "     PTRATIO      B  LSTAT  MEDV  \n",
       "142     14.7  396.9  26.82  13.4  \n",
       "143     14.7  396.9  26.42  15.6  \n",
       "144     14.7  396.9  29.29  11.8  "
      ]
     },
     "execution_count": 7,
     "metadata": {},
     "output_type": "execute_result"
    }
   ],
   "source": [
    "ptratio = df[df['PTRATIO']<15]\n",
    "ptratio.head(3)"
   ]
  },
  {
   "cell_type": "code",
   "execution_count": 8,
   "id": "64f62c78",
   "metadata": {
    "ExecuteTime": {
     "end_time": "2023-07-18T01:39:27.780168Z",
     "start_time": "2023-07-18T01:39:27.771027Z"
    }
   },
   "outputs": [
    {
     "data": {
      "text/plain": [
       "0.11462450592885376"
      ]
     },
     "execution_count": 8,
     "metadata": {},
     "output_type": "execute_result"
    }
   ],
   "source": [
    "p_ptratio = len(ptratio) / len(df)\n",
    "p_ptratio"
   ]
  },
  {
   "cell_type": "code",
   "execution_count": 9,
   "id": "7ae4ef8d",
   "metadata": {
    "ExecuteTime": {
     "end_time": "2023-07-18T01:40:23.849788Z",
     "start_time": "2023-07-18T01:40:23.794211Z"
    }
   },
   "outputs": [
    {
     "data": {
      "text/html": [
       "<div>\n",
       "<style scoped>\n",
       "    .dataframe tbody tr th:only-of-type {\n",
       "        vertical-align: middle;\n",
       "    }\n",
       "\n",
       "    .dataframe tbody tr th {\n",
       "        vertical-align: top;\n",
       "    }\n",
       "\n",
       "    .dataframe thead th {\n",
       "        text-align: right;\n",
       "    }\n",
       "</style>\n",
       "<table border=\"1\" class=\"dataframe\">\n",
       "  <thead>\n",
       "    <tr style=\"text-align: right;\">\n",
       "      <th></th>\n",
       "      <th>CRIM</th>\n",
       "      <th>ZN</th>\n",
       "      <th>INDUS</th>\n",
       "      <th>CHAS</th>\n",
       "      <th>NOX</th>\n",
       "      <th>RM</th>\n",
       "      <th>AGE</th>\n",
       "      <th>DIS</th>\n",
       "      <th>RAD</th>\n",
       "      <th>TAX</th>\n",
       "      <th>PTRATIO</th>\n",
       "      <th>B</th>\n",
       "      <th>LSTAT</th>\n",
       "      <th>MEDV</th>\n",
       "    </tr>\n",
       "  </thead>\n",
       "  <tbody>\n",
       "    <tr>\n",
       "      <th>161</th>\n",
       "      <td>1.46336</td>\n",
       "      <td>0.0</td>\n",
       "      <td>19.58</td>\n",
       "      <td>0</td>\n",
       "      <td>0.605</td>\n",
       "      <td>7.489</td>\n",
       "      <td>90.8</td>\n",
       "      <td>1.9709</td>\n",
       "      <td>5</td>\n",
       "      <td>403</td>\n",
       "      <td>14.7</td>\n",
       "      <td>374.43</td>\n",
       "      <td>1.73</td>\n",
       "      <td>50.0</td>\n",
       "    </tr>\n",
       "    <tr>\n",
       "      <th>162</th>\n",
       "      <td>1.83377</td>\n",
       "      <td>0.0</td>\n",
       "      <td>19.58</td>\n",
       "      <td>1</td>\n",
       "      <td>0.605</td>\n",
       "      <td>7.802</td>\n",
       "      <td>98.2</td>\n",
       "      <td>2.0407</td>\n",
       "      <td>5</td>\n",
       "      <td>403</td>\n",
       "      <td>14.7</td>\n",
       "      <td>389.61</td>\n",
       "      <td>1.92</td>\n",
       "      <td>50.0</td>\n",
       "    </tr>\n",
       "    <tr>\n",
       "      <th>163</th>\n",
       "      <td>1.51902</td>\n",
       "      <td>0.0</td>\n",
       "      <td>19.58</td>\n",
       "      <td>1</td>\n",
       "      <td>0.605</td>\n",
       "      <td>8.375</td>\n",
       "      <td>93.9</td>\n",
       "      <td>2.1620</td>\n",
       "      <td>5</td>\n",
       "      <td>403</td>\n",
       "      <td>14.7</td>\n",
       "      <td>388.45</td>\n",
       "      <td>3.32</td>\n",
       "      <td>50.0</td>\n",
       "    </tr>\n",
       "  </tbody>\n",
       "</table>\n",
       "</div>"
      ],
      "text/plain": [
       "        CRIM   ZN  INDUS  CHAS    NOX     RM   AGE     DIS  RAD  TAX  PTRATIO  \\\n",
       "161  1.46336  0.0  19.58     0  0.605  7.489  90.8  1.9709    5  403     14.7   \n",
       "162  1.83377  0.0  19.58     1  0.605  7.802  98.2  2.0407    5  403     14.7   \n",
       "163  1.51902  0.0  19.58     1  0.605  8.375  93.9  2.1620    5  403     14.7   \n",
       "\n",
       "          B  LSTAT  MEDV  \n",
       "161  374.43   1.73  50.0  \n",
       "162  389.61   1.92  50.0  \n",
       "163  388.45   3.32  50.0  "
      ]
     },
     "execution_count": 9,
     "metadata": {},
     "output_type": "execute_result"
    }
   ],
   "source": [
    "ptratio_rm = df[(df['RM']>7) & (df['PTRATIO']<15)]\n",
    "ptratio_rm.head(3)"
   ]
  },
  {
   "cell_type": "code",
   "execution_count": 10,
   "id": "8f05e04d",
   "metadata": {
    "ExecuteTime": {
     "end_time": "2023-07-18T01:40:53.281259Z",
     "start_time": "2023-07-18T01:40:53.272544Z"
    }
   },
   "outputs": [
    {
     "data": {
      "text/plain": [
       "0.04940711462450593"
      ]
     },
     "execution_count": 10,
     "metadata": {},
     "output_type": "execute_result"
    }
   ],
   "source": [
    "p_ptratio_rm = len(ptratio_rm) / len(df)\n",
    "p_ptratio_rm"
   ]
  },
  {
   "cell_type": "code",
   "execution_count": 11,
   "id": "230d3e74",
   "metadata": {
    "ExecuteTime": {
     "end_time": "2023-07-18T01:41:11.035409Z",
     "start_time": "2023-07-18T01:41:11.012977Z"
    }
   },
   "outputs": [
    {
     "data": {
      "text/plain": [
       "0.43103448275862066"
      ]
     },
     "execution_count": 11,
     "metadata": {},
     "output_type": "execute_result"
    }
   ],
   "source": [
    "p = p_ptratio_rm / p_ptratio\n",
    "p"
   ]
  },
  {
   "cell_type": "markdown",
   "id": "0860b13e",
   "metadata": {},
   "source": [
    "## 평균, 분산, 표준편차"
   ]
  },
  {
   "cell_type": "markdown",
   "id": "c2d6c68e",
   "metadata": {},
   "source": [
    "### 평균"
   ]
  },
  {
   "cell_type": "code",
   "execution_count": 12,
   "id": "0f08d3d3",
   "metadata": {
    "ExecuteTime": {
     "end_time": "2023-07-18T02:25:32.693473Z",
     "start_time": "2023-07-18T02:25:32.676519Z"
    }
   },
   "outputs": [
    {
     "data": {
      "text/plain": [
       "6.284634387351779"
      ]
     },
     "execution_count": 12,
     "metadata": {},
     "output_type": "execute_result"
    }
   ],
   "source": [
    "np.mean(df['RM'])"
   ]
  },
  {
   "cell_type": "code",
   "execution_count": 13,
   "id": "1fb04704",
   "metadata": {
    "ExecuteTime": {
     "end_time": "2023-07-18T02:25:39.931980Z",
     "start_time": "2023-07-18T02:25:39.922013Z"
    }
   },
   "outputs": [
    {
     "data": {
      "text/plain": [
       "6.284634387351779"
      ]
     },
     "execution_count": 13,
     "metadata": {},
     "output_type": "execute_result"
    }
   ],
   "source": [
    "df['RM'].mean()"
   ]
  },
  {
   "cell_type": "code",
   "execution_count": 14,
   "id": "5d0c7cac",
   "metadata": {
    "ExecuteTime": {
     "end_time": "2023-07-18T02:26:30.479134Z",
     "start_time": "2023-07-18T02:26:30.456195Z"
    }
   },
   "outputs": [
    {
     "data": {
      "text/plain": [
       "6.284634387351787"
      ]
     },
     "execution_count": 14,
     "metadata": {},
     "output_type": "execute_result"
    }
   ],
   "source": [
    "n = len(df)\n",
    "\n",
    "sum_x = 0\n",
    "\n",
    "for x in df['RM']:\n",
    "    sum_x += x\n",
    "\n",
    "mean_rm = sum_x / n\n",
    "mean_rm"
   ]
  },
  {
   "cell_type": "markdown",
   "id": "22fd6541",
   "metadata": {},
   "source": [
    "### 분산"
   ]
  },
  {
   "cell_type": "code",
   "execution_count": 15,
   "id": "b9efef36",
   "metadata": {
    "ExecuteTime": {
     "end_time": "2023-07-18T02:26:57.365247Z",
     "start_time": "2023-07-18T02:26:57.344964Z"
    }
   },
   "outputs": [
    {
     "data": {
      "text/plain": [
       "0.49269521612976347"
      ]
     },
     "execution_count": 15,
     "metadata": {},
     "output_type": "execute_result"
    }
   ],
   "source": [
    "np.var(df['RM'])"
   ]
  },
  {
   "cell_type": "code",
   "execution_count": 16,
   "id": "25933926",
   "metadata": {
    "ExecuteTime": {
     "end_time": "2023-07-18T02:27:08.649738Z",
     "start_time": "2023-07-18T02:27:08.637769Z"
    }
   },
   "outputs": [
    {
     "data": {
      "text/plain": [
       "0.4936708502211095"
      ]
     },
     "execution_count": 16,
     "metadata": {},
     "output_type": "execute_result"
    }
   ],
   "source": [
    "df['RM'].var()"
   ]
  },
  {
   "cell_type": "code",
   "execution_count": 17,
   "id": "279dd76d",
   "metadata": {
    "ExecuteTime": {
     "end_time": "2023-07-18T02:27:18.614927Z",
     "start_time": "2023-07-18T02:27:18.606984Z"
    }
   },
   "outputs": [
    {
     "data": {
      "text/plain": [
       "0.7019225143345692"
      ]
     },
     "execution_count": 17,
     "metadata": {},
     "output_type": "execute_result"
    }
   ],
   "source": [
    "np.std(df['RM'])"
   ]
  },
  {
   "cell_type": "code",
   "execution_count": 18,
   "id": "048d31a7",
   "metadata": {
    "ExecuteTime": {
     "end_time": "2023-07-18T02:27:26.159943Z",
     "start_time": "2023-07-18T02:27:26.142990Z"
    }
   },
   "outputs": [
    {
     "data": {
      "text/plain": [
       "0.7026171434153237"
      ]
     },
     "execution_count": 18,
     "metadata": {},
     "output_type": "execute_result"
    }
   ],
   "source": [
    "df['RM'].std()"
   ]
  },
  {
   "cell_type": "code",
   "execution_count": 19,
   "id": "f21f1417",
   "metadata": {
    "ExecuteTime": {
     "end_time": "2023-07-18T02:28:22.821707Z",
     "start_time": "2023-07-18T02:28:22.800760Z"
    }
   },
   "outputs": [],
   "source": [
    "n = len(df)\n",
    "ss = 0\n",
    "for x in df['RM']:\n",
    "    ss += (x - mean_rm)**2"
   ]
  },
  {
   "cell_type": "code",
   "execution_count": 20,
   "id": "e48d4c03",
   "metadata": {
    "ExecuteTime": {
     "end_time": "2023-07-18T02:28:57.912698Z",
     "start_time": "2023-07-18T02:28:57.900766Z"
    }
   },
   "outputs": [
    {
     "data": {
      "text/plain": [
       "(0.49269521612976347, 0.7019225143345692)"
      ]
     },
     "execution_count": 20,
     "metadata": {},
     "output_type": "execute_result"
    }
   ],
   "source": [
    "var_rm = ss / n\n",
    "std_rm = var_rm**0.5\n",
    "\n",
    "var_rm, std_rm"
   ]
  },
  {
   "cell_type": "code",
   "execution_count": 21,
   "id": "923ab50a",
   "metadata": {
    "ExecuteTime": {
     "end_time": "2023-07-18T02:33:30.905814Z",
     "start_time": "2023-07-18T02:33:30.896841Z"
    }
   },
   "outputs": [
    {
     "data": {
      "text/plain": [
       "(0.4936708502211095, 0.7026171434153237)"
      ]
     },
     "execution_count": 21,
     "metadata": {},
     "output_type": "execute_result"
    }
   ],
   "source": [
    "var_rm = ss / (n-1)\n",
    "std_rm = var_rm**0.5\n",
    "\n",
    "var_rm, std_rm"
   ]
  },
  {
   "cell_type": "code",
   "execution_count": 22,
   "id": "06d19c0b",
   "metadata": {
    "ExecuteTime": {
     "end_time": "2023-07-18T02:39:36.874355Z",
     "start_time": "2023-07-18T02:39:36.858630Z"
    }
   },
   "outputs": [
    {
     "data": {
      "text/plain": [
       "(0.49269521612976347, 0.4936708502211095)"
      ]
     },
     "execution_count": 22,
     "metadata": {},
     "output_type": "execute_result"
    }
   ],
   "source": [
    "# 넘파이\n",
    "np.var(df['RM'], ddof=0), np.var(df['RM'], ddof=1)"
   ]
  },
  {
   "cell_type": "code",
   "execution_count": 23,
   "id": "d228e67f",
   "metadata": {
    "ExecuteTime": {
     "end_time": "2023-07-18T02:40:02.651363Z",
     "start_time": "2023-07-18T02:40:02.636201Z"
    }
   },
   "outputs": [
    {
     "data": {
      "text/plain": [
       "(0.49269521612976347, 0.4936708502211095)"
      ]
     },
     "execution_count": 23,
     "metadata": {},
     "output_type": "execute_result"
    }
   ],
   "source": [
    "# 판다스\n",
    "df['RM'].var(ddof=0), df['RM'].var()"
   ]
  },
  {
   "cell_type": "markdown",
   "id": "f544d3ef",
   "metadata": {},
   "source": [
    "### 공분산"
   ]
  },
  {
   "cell_type": "code",
   "execution_count": 24,
   "id": "c70892ce",
   "metadata": {
    "ExecuteTime": {
     "end_time": "2023-07-18T04:14:22.425539Z",
     "start_time": "2023-07-18T04:14:22.386860Z"
    }
   },
   "outputs": [
    {
     "data": {
      "text/html": [
       "<div>\n",
       "<style scoped>\n",
       "    .dataframe tbody tr th:only-of-type {\n",
       "        vertical-align: middle;\n",
       "    }\n",
       "\n",
       "    .dataframe tbody tr th {\n",
       "        vertical-align: top;\n",
       "    }\n",
       "\n",
       "    .dataframe thead th {\n",
       "        text-align: right;\n",
       "    }\n",
       "</style>\n",
       "<table border=\"1\" class=\"dataframe\">\n",
       "  <thead>\n",
       "    <tr style=\"text-align: right;\">\n",
       "      <th></th>\n",
       "      <th>CRIM</th>\n",
       "      <th>NOX</th>\n",
       "      <th>RM</th>\n",
       "      <th>AGE</th>\n",
       "      <th>TAX</th>\n",
       "    </tr>\n",
       "  </thead>\n",
       "  <tbody>\n",
       "    <tr>\n",
       "      <th>0</th>\n",
       "      <td>0.00632</td>\n",
       "      <td>0.538</td>\n",
       "      <td>6.575</td>\n",
       "      <td>65.2</td>\n",
       "      <td>296</td>\n",
       "    </tr>\n",
       "    <tr>\n",
       "      <th>1</th>\n",
       "      <td>0.02731</td>\n",
       "      <td>0.469</td>\n",
       "      <td>6.421</td>\n",
       "      <td>78.9</td>\n",
       "      <td>242</td>\n",
       "    </tr>\n",
       "    <tr>\n",
       "      <th>2</th>\n",
       "      <td>0.02729</td>\n",
       "      <td>0.469</td>\n",
       "      <td>7.185</td>\n",
       "      <td>61.1</td>\n",
       "      <td>242</td>\n",
       "    </tr>\n",
       "    <tr>\n",
       "      <th>3</th>\n",
       "      <td>0.03237</td>\n",
       "      <td>0.458</td>\n",
       "      <td>6.998</td>\n",
       "      <td>45.8</td>\n",
       "      <td>222</td>\n",
       "    </tr>\n",
       "    <tr>\n",
       "      <th>4</th>\n",
       "      <td>0.06905</td>\n",
       "      <td>0.458</td>\n",
       "      <td>7.147</td>\n",
       "      <td>54.2</td>\n",
       "      <td>222</td>\n",
       "    </tr>\n",
       "    <tr>\n",
       "      <th>...</th>\n",
       "      <td>...</td>\n",
       "      <td>...</td>\n",
       "      <td>...</td>\n",
       "      <td>...</td>\n",
       "      <td>...</td>\n",
       "    </tr>\n",
       "    <tr>\n",
       "      <th>501</th>\n",
       "      <td>0.06263</td>\n",
       "      <td>0.573</td>\n",
       "      <td>6.593</td>\n",
       "      <td>69.1</td>\n",
       "      <td>273</td>\n",
       "    </tr>\n",
       "    <tr>\n",
       "      <th>502</th>\n",
       "      <td>0.04527</td>\n",
       "      <td>0.573</td>\n",
       "      <td>6.120</td>\n",
       "      <td>76.7</td>\n",
       "      <td>273</td>\n",
       "    </tr>\n",
       "    <tr>\n",
       "      <th>503</th>\n",
       "      <td>0.06076</td>\n",
       "      <td>0.573</td>\n",
       "      <td>6.976</td>\n",
       "      <td>91.0</td>\n",
       "      <td>273</td>\n",
       "    </tr>\n",
       "    <tr>\n",
       "      <th>504</th>\n",
       "      <td>0.10959</td>\n",
       "      <td>0.573</td>\n",
       "      <td>6.794</td>\n",
       "      <td>89.3</td>\n",
       "      <td>273</td>\n",
       "    </tr>\n",
       "    <tr>\n",
       "      <th>505</th>\n",
       "      <td>0.04741</td>\n",
       "      <td>0.573</td>\n",
       "      <td>6.030</td>\n",
       "      <td>80.8</td>\n",
       "      <td>273</td>\n",
       "    </tr>\n",
       "  </tbody>\n",
       "</table>\n",
       "<p>506 rows × 5 columns</p>\n",
       "</div>"
      ],
      "text/plain": [
       "        CRIM    NOX     RM   AGE  TAX\n",
       "0    0.00632  0.538  6.575  65.2  296\n",
       "1    0.02731  0.469  6.421  78.9  242\n",
       "2    0.02729  0.469  7.185  61.1  242\n",
       "3    0.03237  0.458  6.998  45.8  222\n",
       "4    0.06905  0.458  7.147  54.2  222\n",
       "..       ...    ...    ...   ...  ...\n",
       "501  0.06263  0.573  6.593  69.1  273\n",
       "502  0.04527  0.573  6.120  76.7  273\n",
       "503  0.06076  0.573  6.976  91.0  273\n",
       "504  0.10959  0.573  6.794  89.3  273\n",
       "505  0.04741  0.573  6.030  80.8  273\n",
       "\n",
       "[506 rows x 5 columns]"
      ]
     },
     "execution_count": 24,
     "metadata": {},
     "output_type": "execute_result"
    }
   ],
   "source": [
    "X = df[['CRIM', 'NOX', 'RM', 'AGE', 'TAX']]\n",
    "X"
   ]
  },
  {
   "cell_type": "code",
   "execution_count": 25,
   "id": "9bcb73c5",
   "metadata": {
    "ExecuteTime": {
     "end_time": "2023-07-18T04:14:44.942987Z",
     "start_time": "2023-07-18T04:14:44.864629Z"
    }
   },
   "outputs": [
    {
     "data": {
      "text/plain": [
       "array([[ 7.39865782e+01,  4.19593894e-01, -1.32503785e+00,\n",
       "         8.54053223e+01,  8.44821538e+02],\n",
       "       [ 4.19593894e-01,  1.34276357e-02, -2.46034495e-02,\n",
       "         2.38592720e+00,  1.30462855e+01],\n",
       "       [-1.32503785e+00, -2.46034495e-02,  4.93670850e-01,\n",
       "        -4.75192919e+00, -3.45834478e+01],\n",
       "       [ 8.54053223e+01,  2.38592720e+00, -4.75192919e+00,\n",
       "         7.92358399e+02,  2.40269012e+03],\n",
       "       [ 8.44821538e+02,  1.30462855e+01, -3.45834478e+01,\n",
       "         2.40269012e+03,  2.84047595e+04]])"
      ]
     },
     "execution_count": 25,
     "metadata": {},
     "output_type": "execute_result"
    }
   ],
   "source": [
    "cov_x = np.cov(X, rowvar=0) # rowvar=0 행이 아니라 열을 기준으로\n",
    "cov_x"
   ]
  },
  {
   "cell_type": "code",
   "execution_count": 26,
   "id": "8c8aa553",
   "metadata": {
    "ExecuteTime": {
     "end_time": "2023-07-18T04:15:14.515451Z",
     "start_time": "2023-07-18T04:15:14.495985Z"
    }
   },
   "outputs": [
    {
     "data": {
      "text/plain": [
       "array([[ 7.39865782e+01,  4.19593894e-01, -1.32503785e+00,\n",
       "         8.54053223e+01,  8.44821538e+02],\n",
       "       [ 4.19593894e-01,  1.34276357e-02, -2.46034495e-02,\n",
       "         2.38592720e+00,  1.30462855e+01],\n",
       "       [-1.32503785e+00, -2.46034495e-02,  4.93670850e-01,\n",
       "        -4.75192919e+00, -3.45834478e+01],\n",
       "       [ 8.54053223e+01,  2.38592720e+00, -4.75192919e+00,\n",
       "         7.92358399e+02,  2.40269012e+03],\n",
       "       [ 8.44821538e+02,  1.30462855e+01, -3.45834478e+01,\n",
       "         2.40269012e+03,  2.84047595e+04]])"
      ]
     },
     "execution_count": 26,
     "metadata": {},
     "output_type": "execute_result"
    }
   ],
   "source": [
    "cov_x = np.cov(X.T)\n",
    "cov_x"
   ]
  },
  {
   "cell_type": "code",
   "execution_count": 27,
   "id": "310bba06",
   "metadata": {
    "ExecuteTime": {
     "end_time": "2023-07-18T04:15:23.771192Z",
     "start_time": "2023-07-18T04:15:23.744431Z"
    }
   },
   "outputs": [
    {
     "data": {
      "text/html": [
       "<div>\n",
       "<style scoped>\n",
       "    .dataframe tbody tr th:only-of-type {\n",
       "        vertical-align: middle;\n",
       "    }\n",
       "\n",
       "    .dataframe tbody tr th {\n",
       "        vertical-align: top;\n",
       "    }\n",
       "\n",
       "    .dataframe thead th {\n",
       "        text-align: right;\n",
       "    }\n",
       "</style>\n",
       "<table border=\"1\" class=\"dataframe\">\n",
       "  <thead>\n",
       "    <tr style=\"text-align: right;\">\n",
       "      <th></th>\n",
       "      <th>CRIM</th>\n",
       "      <th>NOX</th>\n",
       "      <th>RM</th>\n",
       "      <th>AGE</th>\n",
       "      <th>TAX</th>\n",
       "    </tr>\n",
       "  </thead>\n",
       "  <tbody>\n",
       "    <tr>\n",
       "      <th>CRIM</th>\n",
       "      <td>73.986578</td>\n",
       "      <td>0.419594</td>\n",
       "      <td>-1.325038</td>\n",
       "      <td>85.405322</td>\n",
       "      <td>844.821538</td>\n",
       "    </tr>\n",
       "    <tr>\n",
       "      <th>NOX</th>\n",
       "      <td>0.419594</td>\n",
       "      <td>0.013428</td>\n",
       "      <td>-0.024603</td>\n",
       "      <td>2.385927</td>\n",
       "      <td>13.046286</td>\n",
       "    </tr>\n",
       "    <tr>\n",
       "      <th>RM</th>\n",
       "      <td>-1.325038</td>\n",
       "      <td>-0.024603</td>\n",
       "      <td>0.493671</td>\n",
       "      <td>-4.751929</td>\n",
       "      <td>-34.583448</td>\n",
       "    </tr>\n",
       "    <tr>\n",
       "      <th>AGE</th>\n",
       "      <td>85.405322</td>\n",
       "      <td>2.385927</td>\n",
       "      <td>-4.751929</td>\n",
       "      <td>792.358399</td>\n",
       "      <td>2402.690122</td>\n",
       "    </tr>\n",
       "    <tr>\n",
       "      <th>TAX</th>\n",
       "      <td>844.821538</td>\n",
       "      <td>13.046286</td>\n",
       "      <td>-34.583448</td>\n",
       "      <td>2402.690122</td>\n",
       "      <td>28404.759488</td>\n",
       "    </tr>\n",
       "  </tbody>\n",
       "</table>\n",
       "</div>"
      ],
      "text/plain": [
       "            CRIM        NOX         RM          AGE           TAX\n",
       "CRIM   73.986578   0.419594  -1.325038    85.405322    844.821538\n",
       "NOX     0.419594   0.013428  -0.024603     2.385927     13.046286\n",
       "RM     -1.325038  -0.024603   0.493671    -4.751929    -34.583448\n",
       "AGE    85.405322   2.385927  -4.751929   792.358399   2402.690122\n",
       "TAX   844.821538  13.046286 -34.583448  2402.690122  28404.759488"
      ]
     },
     "execution_count": 27,
     "metadata": {},
     "output_type": "execute_result"
    }
   ],
   "source": [
    "cov_x = X.cov()\n",
    "cov_x"
   ]
  },
  {
   "cell_type": "markdown",
   "id": "1033741f",
   "metadata": {},
   "source": [
    "### 피어슨 상관계수"
   ]
  },
  {
   "cell_type": "code",
   "execution_count": 28,
   "id": "df8a3a8b",
   "metadata": {
    "ExecuteTime": {
     "end_time": "2023-07-18T04:29:57.766984Z",
     "start_time": "2023-07-18T04:29:57.754295Z"
    }
   },
   "outputs": [
    {
     "data": {
      "text/plain": [
       "array([[ 1.        ,  0.42097171, -0.2192467 ,  0.35273425,  0.58276431],\n",
       "       [ 0.42097171,  1.        , -0.30218819,  0.7314701 ,  0.6680232 ],\n",
       "       [-0.2192467 , -0.30218819,  1.        , -0.24026493, -0.29204783],\n",
       "       [ 0.35273425,  0.7314701 , -0.24026493,  1.        ,  0.50645559],\n",
       "       [ 0.58276431,  0.6680232 , -0.29204783,  0.50645559,  1.        ]])"
      ]
     },
     "execution_count": 28,
     "metadata": {},
     "output_type": "execute_result"
    }
   ],
   "source": [
    "corr_x = np.corrcoef(X.T)\n",
    "corr_x"
   ]
  },
  {
   "cell_type": "code",
   "execution_count": 29,
   "id": "d9a10906",
   "metadata": {
    "ExecuteTime": {
     "end_time": "2023-07-18T04:30:14.970974Z",
     "start_time": "2023-07-18T04:30:14.940685Z"
    }
   },
   "outputs": [
    {
     "data": {
      "text/html": [
       "<div>\n",
       "<style scoped>\n",
       "    .dataframe tbody tr th:only-of-type {\n",
       "        vertical-align: middle;\n",
       "    }\n",
       "\n",
       "    .dataframe tbody tr th {\n",
       "        vertical-align: top;\n",
       "    }\n",
       "\n",
       "    .dataframe thead th {\n",
       "        text-align: right;\n",
       "    }\n",
       "</style>\n",
       "<table border=\"1\" class=\"dataframe\">\n",
       "  <thead>\n",
       "    <tr style=\"text-align: right;\">\n",
       "      <th></th>\n",
       "      <th>CRIM</th>\n",
       "      <th>NOX</th>\n",
       "      <th>RM</th>\n",
       "      <th>AGE</th>\n",
       "      <th>TAX</th>\n",
       "    </tr>\n",
       "  </thead>\n",
       "  <tbody>\n",
       "    <tr>\n",
       "      <th>CRIM</th>\n",
       "      <td>1.000000</td>\n",
       "      <td>0.420972</td>\n",
       "      <td>-0.219247</td>\n",
       "      <td>0.352734</td>\n",
       "      <td>0.582764</td>\n",
       "    </tr>\n",
       "    <tr>\n",
       "      <th>NOX</th>\n",
       "      <td>0.420972</td>\n",
       "      <td>1.000000</td>\n",
       "      <td>-0.302188</td>\n",
       "      <td>0.731470</td>\n",
       "      <td>0.668023</td>\n",
       "    </tr>\n",
       "    <tr>\n",
       "      <th>RM</th>\n",
       "      <td>-0.219247</td>\n",
       "      <td>-0.302188</td>\n",
       "      <td>1.000000</td>\n",
       "      <td>-0.240265</td>\n",
       "      <td>-0.292048</td>\n",
       "    </tr>\n",
       "    <tr>\n",
       "      <th>AGE</th>\n",
       "      <td>0.352734</td>\n",
       "      <td>0.731470</td>\n",
       "      <td>-0.240265</td>\n",
       "      <td>1.000000</td>\n",
       "      <td>0.506456</td>\n",
       "    </tr>\n",
       "    <tr>\n",
       "      <th>TAX</th>\n",
       "      <td>0.582764</td>\n",
       "      <td>0.668023</td>\n",
       "      <td>-0.292048</td>\n",
       "      <td>0.506456</td>\n",
       "      <td>1.000000</td>\n",
       "    </tr>\n",
       "  </tbody>\n",
       "</table>\n",
       "</div>"
      ],
      "text/plain": [
       "          CRIM       NOX        RM       AGE       TAX\n",
       "CRIM  1.000000  0.420972 -0.219247  0.352734  0.582764\n",
       "NOX   0.420972  1.000000 -0.302188  0.731470  0.668023\n",
       "RM   -0.219247 -0.302188  1.000000 -0.240265 -0.292048\n",
       "AGE   0.352734  0.731470 -0.240265  1.000000  0.506456\n",
       "TAX   0.582764  0.668023 -0.292048  0.506456  1.000000"
      ]
     },
     "execution_count": 29,
     "metadata": {},
     "output_type": "execute_result"
    }
   ],
   "source": [
    "corr_x = X.corr()\n",
    "corr_x"
   ]
  },
  {
   "cell_type": "code",
   "execution_count": 30,
   "id": "6f117c57",
   "metadata": {
    "ExecuteTime": {
     "end_time": "2023-07-18T04:30:28.699033Z",
     "start_time": "2023-07-18T04:30:24.257398Z"
    }
   },
   "outputs": [],
   "source": [
    "import seaborn as sns"
   ]
  },
  {
   "cell_type": "code",
   "execution_count": 32,
   "id": "617490d9",
   "metadata": {
    "ExecuteTime": {
     "end_time": "2023-07-18T04:31:20.946698Z",
     "start_time": "2023-07-18T04:31:20.168981Z"
    }
   },
   "outputs": [
    {
     "data": {
      "text/plain": [
       "<Axes: >"
      ]
     },
     "execution_count": 32,
     "metadata": {},
     "output_type": "execute_result"
    },
    {
     "data": {
      "image/png": "[encoded data removed]",
      "text/plain": [
       "<Figure size 640x480 with 2 Axes>"
      ]
     },
     "metadata": {},
     "output_type": "display_data"
    }
   ],
   "source": [
    "sns.heatmap(corr_x, annot=True, cmap='Reds', square=True)"
   ]
  },
  {
   "cell_type": "code",
   "execution_count": 33,
   "id": "3fc723dc",
   "metadata": {
    "ExecuteTime": {
     "end_time": "2023-07-18T04:36:33.433216Z",
     "start_time": "2023-07-18T04:36:32.965428Z"
    }
   },
   "outputs": [
    {
     "data": {
      "text/plain": [
       "<Axes: xlabel='NOX', ylabel='AGE'>"
      ]
     },
     "execution_count": 33,
     "metadata": {},
     "output_type": "execute_result"
    },
    {
     "data": {
      "image/png": "[encoded data removed]",
      "text/plain": [
       "<Figure size 640x480 with 1 Axes>"
      ]
     },
     "metadata": {},
     "output_type": "display_data"
    }
   ],
   "source": [
    "sns.scatterplot(data=df, x='NOX', y='AGE')"
   ]
  },
  {
   "cell_type": "code",
   "execution_count": 34,
   "id": "d4cb2b1f",
   "metadata": {
    "ExecuteTime": {
     "end_time": "2023-07-18T04:37:05.854789Z",
     "start_time": "2023-07-18T04:37:05.408417Z"
    }
   },
   "outputs": [
    {
     "data": {
      "text/plain": [
       "<Axes: xlabel='NOX', ylabel='TAX'>"
      ]
     },
     "execution_count": 34,
     "metadata": {},
     "output_type": "execute_result"
    },
    {
     "data": {
      "image/png": "[encoded data removed]",
      "text/plain": [
       "<Figure size 640x480 with 1 Axes>"
      ]
     },
     "metadata": {},
     "output_type": "display_data"
    }
   ],
   "source": [
    "sns.scatterplot(data=df, x='NOX', y='TAX')"
   ]
  }
 ],
 "metadata": {
  "hide_input": false,
  "kernelspec": {
   "display_name": "Python 3 (ipykernel)",
   "language": "python",
   "name": "python3"
  },
  "language_info": {
   "codemirror_mode": {
    "name": "ipython",
    "version": 3
   },
   "file_extension": ".py",
   "mimetype": "text/x-python",
   "name": "python",
   "nbconvert_exporter": "python",
   "pygments_lexer": "ipython3",
   "version": "3.9.16"
  },
  "toc": {
   "base_numbering": 1,
   "nav_menu": {},
   "number_sections": false,
   "sideBar": true,
   "skip_h1_title": false,
   "title_cell": "Table of Contents",
   "title_sidebar": "Contents",
   "toc_cell": false,
   "toc_position": {},
   "toc_section_display": true,
   "toc_window_display": false
  }
 },
 "nbformat": 4,
 "nbformat_minor": 5
}
