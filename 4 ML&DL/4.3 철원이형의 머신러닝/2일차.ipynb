{
 "cells": [
  {
   "cell_type": "code",
   "execution_count": 1,
   "id": "a0156b4c",
   "metadata": {
    "ExecuteTime": {
     "end_time": "2023-07-18T01:33:43.020150Z",
     "start_time": "2023-07-18T01:33:40.651377Z"
    }
   },
   "outputs": [],
   "source": [
    "import numpy as np\n",
    "import pandas as pd"
   ]
  },
  {
   "cell_type": "code",
   "execution_count": 2,
   "id": "dbfda6ea",
   "metadata": {
    "ExecuteTime": {
     "end_time": "2023-07-18T01:34:31.725314Z",
     "start_time": "2023-07-18T01:34:31.591378Z"
    }
   },
   "outputs": [
    {
     "data": {
      "text/html": [
       "<div>\n",
       "<style scoped>\n",
       "    .dataframe tbody tr th:only-of-type {\n",
       "        vertical-align: middle;\n",
       "    }\n",
       "\n",
       "    .dataframe tbody tr th {\n",
       "        vertical-align: top;\n",
       "    }\n",
       "\n",
       "    .dataframe thead th {\n",
       "        text-align: right;\n",
       "    }\n",
       "</style>\n",
       "<table border=\"1\" class=\"dataframe\">\n",
       "  <thead>\n",
       "    <tr style=\"text-align: right;\">\n",
       "      <th></th>\n",
       "      <th>CRIM</th>\n",
       "      <th>ZN</th>\n",
       "      <th>INDUS</th>\n",
       "      <th>CHAS</th>\n",
       "      <th>NOX</th>\n",
       "      <th>RM</th>\n",
       "      <th>AGE</th>\n",
       "      <th>DIS</th>\n",
       "      <th>RAD</th>\n",
       "      <th>TAX</th>\n",
       "      <th>PTRATIO</th>\n",
       "      <th>B</th>\n",
       "      <th>LSTAT</th>\n",
       "      <th>MEDV</th>\n",
       "    </tr>\n",
       "  </thead>\n",
       "  <tbody>\n",
       "    <tr>\n",
       "      <th>0</th>\n",
       "      <td>0.00632</td>\n",
       "      <td>18.0</td>\n",
       "      <td>2.31</td>\n",
       "      <td>0</td>\n",
       "      <td>0.538</td>\n",
       "      <td>6.575</td>\n",
       "      <td>65.2</td>\n",
       "      <td>4.0900</td>\n",
       "      <td>1</td>\n",
       "      <td>296</td>\n",
       "      <td>15.3</td>\n",
       "      <td>396.90</td>\n",
       "      <td>4.98</td>\n",
       "      <td>24.0</td>\n",
       "    </tr>\n",
       "    <tr>\n",
       "      <th>1</th>\n",
       "      <td>0.02731</td>\n",
       "      <td>0.0</td>\n",
       "      <td>7.07</td>\n",
       "      <td>0</td>\n",
       "      <td>0.469</td>\n",
       "      <td>6.421</td>\n",
       "      <td>78.9</td>\n",
       "      <td>4.9671</td>\n",
       "      <td>2</td>\n",
       "      <td>242</td>\n",
       "      <td>17.8</td>\n",
       "      <td>396.90</td>\n",
       "      <td>9.14</td>\n",
       "      <td>21.6</td>\n",
       "    </tr>\n",
       "    <tr>\n",
       "      <th>2</th>\n",
       "      <td>0.02729</td>\n",
       "      <td>0.0</td>\n",
       "      <td>7.07</td>\n",
       "      <td>0</td>\n",
       "      <td>0.469</td>\n",
       "      <td>7.185</td>\n",
       "      <td>61.1</td>\n",
       "      <td>4.9671</td>\n",
       "      <td>2</td>\n",
       "      <td>242</td>\n",
       "      <td>17.8</td>\n",
       "      <td>392.83</td>\n",
       "      <td>4.03</td>\n",
       "      <td>34.7</td>\n",
       "    </tr>\n",
       "  </tbody>\n",
       "</table>\n",
       "</div>"
      ],
      "text/plain": [
       "      CRIM    ZN  INDUS  CHAS    NOX     RM   AGE     DIS  RAD  TAX  PTRATIO  \\\n",
       "0  0.00632  18.0   2.31     0  0.538  6.575  65.2  4.0900    1  296     15.3   \n",
       "1  0.02731   0.0   7.07     0  0.469  6.421  78.9  4.9671    2  242     17.8   \n",
       "2  0.02729   0.0   7.07     0  0.469  7.185  61.1  4.9671    2  242     17.8   \n",
       "\n",
       "        B  LSTAT  MEDV  \n",
       "0  396.90   4.98  24.0  \n",
       "1  396.90   9.14  21.6  \n",
       "2  392.83   4.03  34.7  "
      ]
     },
     "execution_count": 2,
     "metadata": {},
     "output_type": "execute_result"
    }
   ],
   "source": [
    "df = pd.read_csv('c:/reposit/data/철원이형/house_prices.csv', encoding='cp949')\n",
    "df.head(3)"
   ]
  },
  {
   "cell_type": "markdown",
   "id": "8b4f2d0d",
   "metadata": {},
   "source": [
    "##  방의 개수(RM)가 7개 초과일 확률"
   ]
  },
  {
   "cell_type": "code",
   "execution_count": 3,
   "id": "d3325829",
   "metadata": {
    "ExecuteTime": {
     "end_time": "2023-07-18T01:34:52.303175Z",
     "start_time": "2023-07-18T01:34:52.246932Z"
    }
   },
   "outputs": [
    {
     "data": {
      "text/html": [
       "<div>\n",
       "<style scoped>\n",
       "    .dataframe tbody tr th:only-of-type {\n",
       "        vertical-align: middle;\n",
       "    }\n",
       "\n",
       "    .dataframe tbody tr th {\n",
       "        vertical-align: top;\n",
       "    }\n",
       "\n",
       "    .dataframe thead th {\n",
       "        text-align: right;\n",
       "    }\n",
       "</style>\n",
       "<table border=\"1\" class=\"dataframe\">\n",
       "  <thead>\n",
       "    <tr style=\"text-align: right;\">\n",
       "      <th></th>\n",
       "      <th>CRIM</th>\n",
       "      <th>ZN</th>\n",
       "      <th>INDUS</th>\n",
       "      <th>CHAS</th>\n",
       "      <th>NOX</th>\n",
       "      <th>RM</th>\n",
       "      <th>AGE</th>\n",
       "      <th>DIS</th>\n",
       "      <th>RAD</th>\n",
       "      <th>TAX</th>\n",
       "      <th>PTRATIO</th>\n",
       "      <th>B</th>\n",
       "      <th>LSTAT</th>\n",
       "      <th>MEDV</th>\n",
       "    </tr>\n",
       "  </thead>\n",
       "  <tbody>\n",
       "    <tr>\n",
       "      <th>2</th>\n",
       "      <td>0.02729</td>\n",
       "      <td>0.0</td>\n",
       "      <td>7.07</td>\n",
       "      <td>0</td>\n",
       "      <td>0.4690</td>\n",
       "      <td>7.185</td>\n",
       "      <td>61.1</td>\n",
       "      <td>4.9671</td>\n",
       "      <td>2</td>\n",
       "      <td>242</td>\n",
       "      <td>17.8</td>\n",
       "      <td>392.83</td>\n",
       "      <td>4.03</td>\n",
       "      <td>34.7</td>\n",
       "    </tr>\n",
       "    <tr>\n",
       "      <th>4</th>\n",
       "      <td>0.06905</td>\n",
       "      <td>0.0</td>\n",
       "      <td>2.18</td>\n",
       "      <td>0</td>\n",
       "      <td>0.4580</td>\n",
       "      <td>7.147</td>\n",
       "      <td>54.2</td>\n",
       "      <td>6.0622</td>\n",
       "      <td>3</td>\n",
       "      <td>222</td>\n",
       "      <td>18.7</td>\n",
       "      <td>396.90</td>\n",
       "      <td>5.33</td>\n",
       "      <td>36.2</td>\n",
       "    </tr>\n",
       "    <tr>\n",
       "      <th>40</th>\n",
       "      <td>0.03359</td>\n",
       "      <td>75.0</td>\n",
       "      <td>2.95</td>\n",
       "      <td>0</td>\n",
       "      <td>0.4280</td>\n",
       "      <td>7.024</td>\n",
       "      <td>15.8</td>\n",
       "      <td>5.4011</td>\n",
       "      <td>3</td>\n",
       "      <td>252</td>\n",
       "      <td>18.3</td>\n",
       "      <td>395.62</td>\n",
       "      <td>1.98</td>\n",
       "      <td>34.9</td>\n",
       "    </tr>\n",
       "    <tr>\n",
       "      <th>55</th>\n",
       "      <td>0.01311</td>\n",
       "      <td>90.0</td>\n",
       "      <td>1.22</td>\n",
       "      <td>0</td>\n",
       "      <td>0.4030</td>\n",
       "      <td>7.249</td>\n",
       "      <td>21.9</td>\n",
       "      <td>8.6966</td>\n",
       "      <td>5</td>\n",
       "      <td>226</td>\n",
       "      <td>17.9</td>\n",
       "      <td>395.93</td>\n",
       "      <td>4.81</td>\n",
       "      <td>35.4</td>\n",
       "    </tr>\n",
       "    <tr>\n",
       "      <th>64</th>\n",
       "      <td>0.01951</td>\n",
       "      <td>17.5</td>\n",
       "      <td>1.38</td>\n",
       "      <td>0</td>\n",
       "      <td>0.4161</td>\n",
       "      <td>7.104</td>\n",
       "      <td>59.5</td>\n",
       "      <td>9.2229</td>\n",
       "      <td>3</td>\n",
       "      <td>216</td>\n",
       "      <td>18.6</td>\n",
       "      <td>393.24</td>\n",
       "      <td>8.05</td>\n",
       "      <td>33.0</td>\n",
       "    </tr>\n",
       "    <tr>\n",
       "      <th>...</th>\n",
       "      <td>...</td>\n",
       "      <td>...</td>\n",
       "      <td>...</td>\n",
       "      <td>...</td>\n",
       "      <td>...</td>\n",
       "      <td>...</td>\n",
       "      <td>...</td>\n",
       "      <td>...</td>\n",
       "      <td>...</td>\n",
       "      <td>...</td>\n",
       "      <td>...</td>\n",
       "      <td>...</td>\n",
       "      <td>...</td>\n",
       "      <td>...</td>\n",
       "    </tr>\n",
       "    <tr>\n",
       "      <th>364</th>\n",
       "      <td>3.47428</td>\n",
       "      <td>0.0</td>\n",
       "      <td>18.10</td>\n",
       "      <td>1</td>\n",
       "      <td>0.7180</td>\n",
       "      <td>8.780</td>\n",
       "      <td>82.9</td>\n",
       "      <td>1.9047</td>\n",
       "      <td>24</td>\n",
       "      <td>666</td>\n",
       "      <td>20.2</td>\n",
       "      <td>354.55</td>\n",
       "      <td>5.29</td>\n",
       "      <td>21.9</td>\n",
       "    </tr>\n",
       "    <tr>\n",
       "      <th>370</th>\n",
       "      <td>6.53876</td>\n",
       "      <td>0.0</td>\n",
       "      <td>18.10</td>\n",
       "      <td>1</td>\n",
       "      <td>0.6310</td>\n",
       "      <td>7.016</td>\n",
       "      <td>97.5</td>\n",
       "      <td>1.2024</td>\n",
       "      <td>24</td>\n",
       "      <td>666</td>\n",
       "      <td>20.2</td>\n",
       "      <td>392.05</td>\n",
       "      <td>2.96</td>\n",
       "      <td>50.0</td>\n",
       "    </tr>\n",
       "    <tr>\n",
       "      <th>375</th>\n",
       "      <td>19.60910</td>\n",
       "      <td>0.0</td>\n",
       "      <td>18.10</td>\n",
       "      <td>0</td>\n",
       "      <td>0.6710</td>\n",
       "      <td>7.313</td>\n",
       "      <td>97.9</td>\n",
       "      <td>1.3163</td>\n",
       "      <td>24</td>\n",
       "      <td>666</td>\n",
       "      <td>20.2</td>\n",
       "      <td>396.90</td>\n",
       "      <td>13.44</td>\n",
       "      <td>15.0</td>\n",
       "    </tr>\n",
       "    <tr>\n",
       "      <th>453</th>\n",
       "      <td>8.24809</td>\n",
       "      <td>0.0</td>\n",
       "      <td>18.10</td>\n",
       "      <td>0</td>\n",
       "      <td>0.7130</td>\n",
       "      <td>7.393</td>\n",
       "      <td>99.3</td>\n",
       "      <td>2.4527</td>\n",
       "      <td>24</td>\n",
       "      <td>666</td>\n",
       "      <td>20.2</td>\n",
       "      <td>375.87</td>\n",
       "      <td>16.74</td>\n",
       "      <td>17.8</td>\n",
       "    </tr>\n",
       "    <tr>\n",
       "      <th>482</th>\n",
       "      <td>5.73116</td>\n",
       "      <td>0.0</td>\n",
       "      <td>18.10</td>\n",
       "      <td>0</td>\n",
       "      <td>0.5320</td>\n",
       "      <td>7.061</td>\n",
       "      <td>77.0</td>\n",
       "      <td>3.4106</td>\n",
       "      <td>24</td>\n",
       "      <td>666</td>\n",
       "      <td>20.2</td>\n",
       "      <td>395.28</td>\n",
       "      <td>7.01</td>\n",
       "      <td>25.0</td>\n",
       "    </tr>\n",
       "  </tbody>\n",
       "</table>\n",
       "<p>64 rows × 14 columns</p>\n",
       "</div>"
      ],
      "text/plain": [
       "         CRIM    ZN  INDUS  CHAS     NOX     RM   AGE     DIS  RAD  TAX  \\\n",
       "2     0.02729   0.0   7.07     0  0.4690  7.185  61.1  4.9671    2  242   \n",
       "4     0.06905   0.0   2.18     0  0.4580  7.147  54.2  6.0622    3  222   \n",
       "40    0.03359  75.0   2.95     0  0.4280  7.024  15.8  5.4011    3  252   \n",
       "55    0.01311  90.0   1.22     0  0.4030  7.249  21.9  8.6966    5  226   \n",
       "64    0.01951  17.5   1.38     0  0.4161  7.104  59.5  9.2229    3  216   \n",
       "..        ...   ...    ...   ...     ...    ...   ...     ...  ...  ...   \n",
       "364   3.47428   0.0  18.10     1  0.7180  8.780  82.9  1.9047   24  666   \n",
       "370   6.53876   0.0  18.10     1  0.6310  7.016  97.5  1.2024   24  666   \n",
       "375  19.60910   0.0  18.10     0  0.6710  7.313  97.9  1.3163   24  666   \n",
       "453   8.24809   0.0  18.10     0  0.7130  7.393  99.3  2.4527   24  666   \n",
       "482   5.73116   0.0  18.10     0  0.5320  7.061  77.0  3.4106   24  666   \n",
       "\n",
       "     PTRATIO       B  LSTAT  MEDV  \n",
       "2       17.8  392.83   4.03  34.7  \n",
       "4       18.7  396.90   5.33  36.2  \n",
       "40      18.3  395.62   1.98  34.9  \n",
       "55      17.9  395.93   4.81  35.4  \n",
       "64      18.6  393.24   8.05  33.0  \n",
       "..       ...     ...    ...   ...  \n",
       "364     20.2  354.55   5.29  21.9  \n",
       "370     20.2  392.05   2.96  50.0  \n",
       "375     20.2  396.90  13.44  15.0  \n",
       "453     20.2  375.87  16.74  17.8  \n",
       "482     20.2  395.28   7.01  25.0  \n",
       "\n",
       "[64 rows x 14 columns]"
      ]
     },
     "execution_count": 3,
     "metadata": {},
     "output_type": "execute_result"
    }
   ],
   "source": [
    "rm = df[df['RM']>7]\n",
    "rm"
   ]
  },
  {
   "cell_type": "code",
   "execution_count": 4,
   "id": "6929ad78",
   "metadata": {
    "ExecuteTime": {
     "end_time": "2023-07-18T01:35:12.170543Z",
     "start_time": "2023-07-18T01:35:12.158869Z"
    }
   },
   "outputs": [
    {
     "data": {
      "text/plain": [
       "0.12648221343873517"
      ]
     },
     "execution_count": 4,
     "metadata": {},
     "output_type": "execute_result"
    }
   ],
   "source": [
    "len(rm) / len(df)"
   ]
  },
  {
   "cell_type": "markdown",
   "id": "1710f305",
   "metadata": {},
   "source": [
    "### 조건부 확률"
   ]
  },
  {
   "cell_type": "code",
   "execution_count": 7,
   "id": "567b8e13",
   "metadata": {
    "ExecuteTime": {
     "end_time": "2023-07-18T01:39:04.583572Z",
     "start_time": "2023-07-18T01:39:04.551293Z"
    }
   },
   "outputs": [
    {
     "data": {
      "text/html": [
       "<div>\n",
       "<style scoped>\n",
       "    .dataframe tbody tr th:only-of-type {\n",
       "        vertical-align: middle;\n",
       "    }\n",
       "\n",
       "    .dataframe tbody tr th {\n",
       "        vertical-align: top;\n",
       "    }\n",
       "\n",
       "    .dataframe thead th {\n",
       "        text-align: right;\n",
       "    }\n",
       "</style>\n",
       "<table border=\"1\" class=\"dataframe\">\n",
       "  <thead>\n",
       "    <tr style=\"text-align: right;\">\n",
       "      <th></th>\n",
       "      <th>CRIM</th>\n",
       "      <th>ZN</th>\n",
       "      <th>INDUS</th>\n",
       "      <th>CHAS</th>\n",
       "      <th>NOX</th>\n",
       "      <th>RM</th>\n",
       "      <th>AGE</th>\n",
       "      <th>DIS</th>\n",
       "      <th>RAD</th>\n",
       "      <th>TAX</th>\n",
       "      <th>PTRATIO</th>\n",
       "      <th>B</th>\n",
       "      <th>LSTAT</th>\n",
       "      <th>MEDV</th>\n",
       "    </tr>\n",
       "  </thead>\n",
       "  <tbody>\n",
       "    <tr>\n",
       "      <th>142</th>\n",
       "      <td>3.32105</td>\n",
       "      <td>0.0</td>\n",
       "      <td>19.58</td>\n",
       "      <td>1</td>\n",
       "      <td>0.871</td>\n",
       "      <td>5.403</td>\n",
       "      <td>100.0</td>\n",
       "      <td>1.3216</td>\n",
       "      <td>5</td>\n",
       "      <td>403</td>\n",
       "      <td>14.7</td>\n",
       "      <td>396.9</td>\n",
       "      <td>26.82</td>\n",
       "      <td>13.4</td>\n",
       "    </tr>\n",
       "    <tr>\n",
       "      <th>143</th>\n",
       "      <td>4.09740</td>\n",
       "      <td>0.0</td>\n",
       "      <td>19.58</td>\n",
       "      <td>0</td>\n",
       "      <td>0.871</td>\n",
       "      <td>5.468</td>\n",
       "      <td>100.0</td>\n",
       "      <td>1.4118</td>\n",
       "      <td>5</td>\n",
       "      <td>403</td>\n",
       "      <td>14.7</td>\n",
       "      <td>396.9</td>\n",
       "      <td>26.42</td>\n",
       "      <td>15.6</td>\n",
       "    </tr>\n",
       "    <tr>\n",
       "      <th>144</th>\n",
       "      <td>2.77974</td>\n",
       "      <td>0.0</td>\n",
       "      <td>19.58</td>\n",
       "      <td>0</td>\n",
       "      <td>0.871</td>\n",
       "      <td>4.903</td>\n",
       "      <td>97.8</td>\n",
       "      <td>1.3459</td>\n",
       "      <td>5</td>\n",
       "      <td>403</td>\n",
       "      <td>14.7</td>\n",
       "      <td>396.9</td>\n",
       "      <td>29.29</td>\n",
       "      <td>11.8</td>\n",
       "    </tr>\n",
       "  </tbody>\n",
       "</table>\n",
       "</div>"
      ],
      "text/plain": [
       "        CRIM   ZN  INDUS  CHAS    NOX     RM    AGE     DIS  RAD  TAX  \\\n",
       "142  3.32105  0.0  19.58     1  0.871  5.403  100.0  1.3216    5  403   \n",
       "143  4.09740  0.0  19.58     0  0.871  5.468  100.0  1.4118    5  403   \n",
       "144  2.77974  0.0  19.58     0  0.871  4.903   97.8  1.3459    5  403   \n",
       "\n",
       "     PTRATIO      B  LSTAT  MEDV  \n",
       "142     14.7  396.9  26.82  13.4  \n",
       "143     14.7  396.9  26.42  15.6  \n",
       "144     14.7  396.9  29.29  11.8  "
      ]
     },
     "execution_count": 7,
     "metadata": {},
     "output_type": "execute_result"
    }
   ],
   "source": [
    "ptratio = df[df['PTRATIO']<15]\n",
    "ptratio.head(3)"
   ]
  },
  {
   "cell_type": "code",
   "execution_count": 8,
   "id": "64f62c78",
   "metadata": {
    "ExecuteTime": {
     "end_time": "2023-07-18T01:39:27.780168Z",
     "start_time": "2023-07-18T01:39:27.771027Z"
    }
   },
   "outputs": [
    {
     "data": {
      "text/plain": [
       "0.11462450592885376"
      ]
     },
     "execution_count": 8,
     "metadata": {},
     "output_type": "execute_result"
    }
   ],
   "source": [
    "p_ptratio = len(ptratio) / len(df)\n",
    "p_ptratio"
   ]
  },
  {
   "cell_type": "code",
   "execution_count": 9,
   "id": "7ae4ef8d",
   "metadata": {
    "ExecuteTime": {
     "end_time": "2023-07-18T01:40:23.849788Z",
     "start_time": "2023-07-18T01:40:23.794211Z"
    }
   },
   "outputs": [
    {
     "data": {
      "text/html": [
       "<div>\n",
       "<style scoped>\n",
       "    .dataframe tbody tr th:only-of-type {\n",
       "        vertical-align: middle;\n",
       "    }\n",
       "\n",
       "    .dataframe tbody tr th {\n",
       "        vertical-align: top;\n",
       "    }\n",
       "\n",
       "    .dataframe thead th {\n",
       "        text-align: right;\n",
       "    }\n",
       "</style>\n",
       "<table border=\"1\" class=\"dataframe\">\n",
       "  <thead>\n",
       "    <tr style=\"text-align: right;\">\n",
       "      <th></th>\n",
       "      <th>CRIM</th>\n",
       "      <th>ZN</th>\n",
       "      <th>INDUS</th>\n",
       "      <th>CHAS</th>\n",
       "      <th>NOX</th>\n",
       "      <th>RM</th>\n",
       "      <th>AGE</th>\n",
       "      <th>DIS</th>\n",
       "      <th>RAD</th>\n",
       "      <th>TAX</th>\n",
       "      <th>PTRATIO</th>\n",
       "      <th>B</th>\n",
       "      <th>LSTAT</th>\n",
       "      <th>MEDV</th>\n",
       "    </tr>\n",
       "  </thead>\n",
       "  <tbody>\n",
       "    <tr>\n",
       "      <th>161</th>\n",
       "      <td>1.46336</td>\n",
       "      <td>0.0</td>\n",
       "      <td>19.58</td>\n",
       "      <td>0</td>\n",
       "      <td>0.605</td>\n",
       "      <td>7.489</td>\n",
       "      <td>90.8</td>\n",
       "      <td>1.9709</td>\n",
       "      <td>5</td>\n",
       "      <td>403</td>\n",
       "      <td>14.7</td>\n",
       "      <td>374.43</td>\n",
       "      <td>1.73</td>\n",
       "      <td>50.0</td>\n",
       "    </tr>\n",
       "    <tr>\n",
       "      <th>162</th>\n",
       "      <td>1.83377</td>\n",
       "      <td>0.0</td>\n",
       "      <td>19.58</td>\n",
       "      <td>1</td>\n",
       "      <td>0.605</td>\n",
       "      <td>7.802</td>\n",
       "      <td>98.2</td>\n",
       "      <td>2.0407</td>\n",
       "      <td>5</td>\n",
       "      <td>403</td>\n",
       "      <td>14.7</td>\n",
       "      <td>389.61</td>\n",
       "      <td>1.92</td>\n",
       "      <td>50.0</td>\n",
       "    </tr>\n",
       "    <tr>\n",
       "      <th>163</th>\n",
       "      <td>1.51902</td>\n",
       "      <td>0.0</td>\n",
       "      <td>19.58</td>\n",
       "      <td>1</td>\n",
       "      <td>0.605</td>\n",
       "      <td>8.375</td>\n",
       "      <td>93.9</td>\n",
       "      <td>2.1620</td>\n",
       "      <td>5</td>\n",
       "      <td>403</td>\n",
       "      <td>14.7</td>\n",
       "      <td>388.45</td>\n",
       "      <td>3.32</td>\n",
       "      <td>50.0</td>\n",
       "    </tr>\n",
       "  </tbody>\n",
       "</table>\n",
       "</div>"
      ],
      "text/plain": [
       "        CRIM   ZN  INDUS  CHAS    NOX     RM   AGE     DIS  RAD  TAX  PTRATIO  \\\n",
       "161  1.46336  0.0  19.58     0  0.605  7.489  90.8  1.9709    5  403     14.7   \n",
       "162  1.83377  0.0  19.58     1  0.605  7.802  98.2  2.0407    5  403     14.7   \n",
       "163  1.51902  0.0  19.58     1  0.605  8.375  93.9  2.1620    5  403     14.7   \n",
       "\n",
       "          B  LSTAT  MEDV  \n",
       "161  374.43   1.73  50.0  \n",
       "162  389.61   1.92  50.0  \n",
       "163  388.45   3.32  50.0  "
      ]
     },
     "execution_count": 9,
     "metadata": {},
     "output_type": "execute_result"
    }
   ],
   "source": [
    "ptratio_rm = df[(df['RM']>7) & (df['PTRATIO']<15)]\n",
    "ptratio_rm.head(3)"
   ]
  },
  {
   "cell_type": "code",
   "execution_count": 10,
   "id": "8f05e04d",
   "metadata": {
    "ExecuteTime": {
     "end_time": "2023-07-18T01:40:53.281259Z",
     "start_time": "2023-07-18T01:40:53.272544Z"
    }
   },
   "outputs": [
    {
     "data": {
      "text/plain": [
       "0.04940711462450593"
      ]
     },
     "execution_count": 10,
     "metadata": {},
     "output_type": "execute_result"
    }
   ],
   "source": [
    "p_ptratio_rm = len(ptratio_rm) / len(df)\n",
    "p_ptratio_rm"
   ]
  },
  {
   "cell_type": "code",
   "execution_count": 11,
   "id": "230d3e74",
   "metadata": {
    "ExecuteTime": {
     "end_time": "2023-07-18T01:41:11.035409Z",
     "start_time": "2023-07-18T01:41:11.012977Z"
    }
   },
   "outputs": [
    {
     "data": {
      "text/plain": [
       "0.43103448275862066"
      ]
     },
     "execution_count": 11,
     "metadata": {},
     "output_type": "execute_result"
    }
   ],
   "source": [
    "p = p_ptratio_rm / p_ptratio\n",
    "p"
   ]
  },
  {
   "cell_type": "markdown",
   "id": "6a928843",
   "metadata": {},
   "source": [
    "## 평균, 분산, 표준편차"
   ]
  },
  {
   "cell_type": "markdown",
   "id": "51628668",
   "metadata": {},
   "source": [
    "### 평균"
   ]
  },
  {
   "cell_type": "code",
   "execution_count": 12,
   "id": "0f08d3d3",
   "metadata": {
    "ExecuteTime": {
     "end_time": "2023-07-18T02:25:32.693473Z",
     "start_time": "2023-07-18T02:25:32.676519Z"
    }
   },
   "outputs": [
    {
     "data": {
      "text/plain": [
       "6.284634387351779"
      ]
     },
     "execution_count": 12,
     "metadata": {},
     "output_type": "execute_result"
    }
   ],
   "source": [
    "np.mean(df['RM'])"
   ]
  },
  {
   "cell_type": "code",
   "execution_count": 13,
   "id": "856978cb",
   "metadata": {
    "ExecuteTime": {
     "end_time": "2023-07-18T02:25:39.931980Z",
     "start_time": "2023-07-18T02:25:39.922013Z"
    }
   },
   "outputs": [
    {
     "data": {
      "text/plain": [
       "6.284634387351779"
      ]
     },
     "execution_count": 13,
     "metadata": {},
     "output_type": "execute_result"
    }
   ],
   "source": [
    "df['RM'].mean()"
   ]
  },
  {
   "cell_type": "code",
   "execution_count": 14,
   "id": "44ada76f",
   "metadata": {
    "ExecuteTime": {
     "end_time": "2023-07-18T02:26:30.479134Z",
     "start_time": "2023-07-18T02:26:30.456195Z"
    }
   },
   "outputs": [
    {
     "data": {
      "text/plain": [
       "6.284634387351787"
      ]
     },
     "execution_count": 14,
     "metadata": {},
     "output_type": "execute_result"
    }
   ],
   "source": [
    "n = len(df)\n",
    "\n",
    "sum_x = 0\n",
    "\n",
    "for x in df['RM']:\n",
    "    sum_x += x\n",
    "\n",
    "mean_rm = sum_x / n\n",
    "mean_rm"
   ]
  },
  {
   "cell_type": "markdown",
   "id": "1bdc2ed4",
   "metadata": {},
   "source": [
    "### 분산"
   ]
  },
  {
   "cell_type": "code",
   "execution_count": 15,
   "id": "3dc55d8c",
   "metadata": {
    "ExecuteTime": {
     "end_time": "2023-07-18T02:26:57.365247Z",
     "start_time": "2023-07-18T02:26:57.344964Z"
    }
   },
   "outputs": [
    {
     "data": {
      "text/plain": [
       "0.49269521612976347"
      ]
     },
     "execution_count": 15,
     "metadata": {},
     "output_type": "execute_result"
    }
   ],
   "source": [
    "np.var(df['RM'])"
   ]
  },
  {
   "cell_type": "code",
   "execution_count": 16,
   "id": "6fd15188",
   "metadata": {
    "ExecuteTime": {
     "end_time": "2023-07-18T02:27:08.649738Z",
     "start_time": "2023-07-18T02:27:08.637769Z"
    }
   },
   "outputs": [
    {
     "data": {
      "text/plain": [
       "0.4936708502211095"
      ]
     },
     "execution_count": 16,
     "metadata": {},
     "output_type": "execute_result"
    }
   ],
   "source": [
    "df['RM'].var()"
   ]
  },
  {
   "cell_type": "code",
   "execution_count": 17,
   "id": "c118432c",
   "metadata": {
    "ExecuteTime": {
     "end_time": "2023-07-18T02:27:18.614927Z",
     "start_time": "2023-07-18T02:27:18.606984Z"
    }
   },
   "outputs": [
    {
     "data": {
      "text/plain": [
       "0.7019225143345692"
      ]
     },
     "execution_count": 17,
     "metadata": {},
     "output_type": "execute_result"
    }
   ],
   "source": [
    "np.std(df['RM'])"
   ]
  },
  {
   "cell_type": "code",
   "execution_count": 18,
   "id": "b9f9fe93",
   "metadata": {
    "ExecuteTime": {
     "end_time": "2023-07-18T02:27:26.159943Z",
     "start_time": "2023-07-18T02:27:26.142990Z"
    }
   },
   "outputs": [
    {
     "data": {
      "text/plain": [
       "0.7026171434153237"
      ]
     },
     "execution_count": 18,
     "metadata": {},
     "output_type": "execute_result"
    }
   ],
   "source": [
    "df['RM'].std()"
   ]
  },
  {
   "cell_type": "code",
   "execution_count": 19,
   "id": "6d79e104",
   "metadata": {
    "ExecuteTime": {
     "end_time": "2023-07-18T02:28:22.821707Z",
     "start_time": "2023-07-18T02:28:22.800760Z"
    }
   },
   "outputs": [],
   "source": [
    "n = len(df)\n",
    "ss = 0\n",
    "for x in df['RM']:\n",
    "    ss += (x - mean_rm)**2"
   ]
  },
  {
   "cell_type": "code",
   "execution_count": 20,
   "id": "a86f4d65",
   "metadata": {
    "ExecuteTime": {
     "end_time": "2023-07-18T02:28:57.912698Z",
     "start_time": "2023-07-18T02:28:57.900766Z"
    }
   },
   "outputs": [
    {
     "data": {
      "text/plain": [
       "(0.49269521612976347, 0.7019225143345692)"
      ]
     },
     "execution_count": 20,
     "metadata": {},
     "output_type": "execute_result"
    }
   ],
   "source": [
    "var_rm = ss / n\n",
    "std_rm = var_rm**0.5\n",
    "\n",
    "var_rm, std_rm"
   ]
  },
  {
   "cell_type": "code",
   "execution_count": 21,
   "id": "d3815049",
   "metadata": {
    "ExecuteTime": {
     "end_time": "2023-07-18T02:33:30.905814Z",
     "start_time": "2023-07-18T02:33:30.896841Z"
    }
   },
   "outputs": [
    {
     "data": {
      "text/plain": [
       "(0.4936708502211095, 0.7026171434153237)"
      ]
     },
     "execution_count": 21,
     "metadata": {},
     "output_type": "execute_result"
    }
   ],
   "source": [
    "var_rm = ss / (n-1)\n",
    "std_rm = var_rm**0.5\n",
    "\n",
    "var_rm, std_rm"
   ]
  },
  {
   "cell_type": "code",
   "execution_count": 22,
   "id": "5d575ba1",
   "metadata": {
    "ExecuteTime": {
     "end_time": "2023-07-18T02:39:36.874355Z",
     "start_time": "2023-07-18T02:39:36.858630Z"
    }
   },
   "outputs": [
    {
     "data": {
      "text/plain": [
       "(0.49269521612976347, 0.4936708502211095)"
      ]
     },
     "execution_count": 22,
     "metadata": {},
     "output_type": "execute_result"
    }
   ],
   "source": [
    "# 넘파이\n",
    "np.var(df['RM'], ddof=0), np.var(df['RM'], ddof=1)"
   ]
  },
  {
   "cell_type": "code",
   "execution_count": 23,
   "id": "e1f22295",
   "metadata": {
    "ExecuteTime": {
     "end_time": "2023-07-18T02:40:02.651363Z",
     "start_time": "2023-07-18T02:40:02.636201Z"
    }
   },
   "outputs": [
    {
     "data": {
      "text/plain": [
       "(0.49269521612976347, 0.4936708502211095)"
      ]
     },
     "execution_count": 23,
     "metadata": {},
     "output_type": "execute_result"
    }
   ],
   "source": [
    "# 판다스\n",
    "df['RM'].var(ddof=0), df['RM'].var()"
   ]
  },
  {
   "cell_type": "markdown",
   "id": "4ddd187f",
   "metadata": {},
   "source": [
    "### 공분산"
   ]
  },
  {
   "cell_type": "code",
   "execution_count": 24,
   "id": "2719fc85",
   "metadata": {
    "ExecuteTime": {
     "end_time": "2023-07-18T04:14:22.425539Z",
     "start_time": "2023-07-18T04:14:22.386860Z"
    }
   },
   "outputs": [
    {
     "data": {
      "text/html": [
       "<div>\n",
       "<style scoped>\n",
       "    .dataframe tbody tr th:only-of-type {\n",
       "        vertical-align: middle;\n",
       "    }\n",
       "\n",
       "    .dataframe tbody tr th {\n",
       "        vertical-align: top;\n",
       "    }\n",
       "\n",
       "    .dataframe thead th {\n",
       "        text-align: right;\n",
       "    }\n",
       "</style>\n",
       "<table border=\"1\" class=\"dataframe\">\n",
       "  <thead>\n",
       "    <tr style=\"text-align: right;\">\n",
       "      <th></th>\n",
       "      <th>CRIM</th>\n",
       "      <th>NOX</th>\n",
       "      <th>RM</th>\n",
       "      <th>AGE</th>\n",
       "      <th>TAX</th>\n",
       "    </tr>\n",
       "  </thead>\n",
       "  <tbody>\n",
       "    <tr>\n",
       "      <th>0</th>\n",
       "      <td>0.00632</td>\n",
       "      <td>0.538</td>\n",
       "      <td>6.575</td>\n",
       "      <td>65.2</td>\n",
       "      <td>296</td>\n",
       "    </tr>\n",
       "    <tr>\n",
       "      <th>1</th>\n",
       "      <td>0.02731</td>\n",
       "      <td>0.469</td>\n",
       "      <td>6.421</td>\n",
       "      <td>78.9</td>\n",
       "      <td>242</td>\n",
       "    </tr>\n",
       "    <tr>\n",
       "      <th>2</th>\n",
       "      <td>0.02729</td>\n",
       "      <td>0.469</td>\n",
       "      <td>7.185</td>\n",
       "      <td>61.1</td>\n",
       "      <td>242</td>\n",
       "    </tr>\n",
       "    <tr>\n",
       "      <th>3</th>\n",
       "      <td>0.03237</td>\n",
       "      <td>0.458</td>\n",
       "      <td>6.998</td>\n",
       "      <td>45.8</td>\n",
       "      <td>222</td>\n",
       "    </tr>\n",
       "    <tr>\n",
       "      <th>4</th>\n",
       "      <td>0.06905</td>\n",
       "      <td>0.458</td>\n",
       "      <td>7.147</td>\n",
       "      <td>54.2</td>\n",
       "      <td>222</td>\n",
       "    </tr>\n",
       "    <tr>\n",
       "      <th>...</th>\n",
       "      <td>...</td>\n",
       "      <td>...</td>\n",
       "      <td>...</td>\n",
       "      <td>...</td>\n",
       "      <td>...</td>\n",
       "    </tr>\n",
       "    <tr>\n",
       "      <th>501</th>\n",
       "      <td>0.06263</td>\n",
       "      <td>0.573</td>\n",
       "      <td>6.593</td>\n",
       "      <td>69.1</td>\n",
       "      <td>273</td>\n",
       "    </tr>\n",
       "    <tr>\n",
       "      <th>502</th>\n",
       "      <td>0.04527</td>\n",
       "      <td>0.573</td>\n",
       "      <td>6.120</td>\n",
       "      <td>76.7</td>\n",
       "      <td>273</td>\n",
       "    </tr>\n",
       "    <tr>\n",
       "      <th>503</th>\n",
       "      <td>0.06076</td>\n",
       "      <td>0.573</td>\n",
       "      <td>6.976</td>\n",
       "      <td>91.0</td>\n",
       "      <td>273</td>\n",
       "    </tr>\n",
       "    <tr>\n",
       "      <th>504</th>\n",
       "      <td>0.10959</td>\n",
       "      <td>0.573</td>\n",
       "      <td>6.794</td>\n",
       "      <td>89.3</td>\n",
       "      <td>273</td>\n",
       "    </tr>\n",
       "    <tr>\n",
       "      <th>505</th>\n",
       "      <td>0.04741</td>\n",
       "      <td>0.573</td>\n",
       "      <td>6.030</td>\n",
       "      <td>80.8</td>\n",
       "      <td>273</td>\n",
       "    </tr>\n",
       "  </tbody>\n",
       "</table>\n",
       "<p>506 rows × 5 columns</p>\n",
       "</div>"
      ],
      "text/plain": [
       "        CRIM    NOX     RM   AGE  TAX\n",
       "0    0.00632  0.538  6.575  65.2  296\n",
       "1    0.02731  0.469  6.421  78.9  242\n",
       "2    0.02729  0.469  7.185  61.1  242\n",
       "3    0.03237  0.458  6.998  45.8  222\n",
       "4    0.06905  0.458  7.147  54.2  222\n",
       "..       ...    ...    ...   ...  ...\n",
       "501  0.06263  0.573  6.593  69.1  273\n",
       "502  0.04527  0.573  6.120  76.7  273\n",
       "503  0.06076  0.573  6.976  91.0  273\n",
       "504  0.10959  0.573  6.794  89.3  273\n",
       "505  0.04741  0.573  6.030  80.8  273\n",
       "\n",
       "[506 rows x 5 columns]"
      ]
     },
     "execution_count": 24,
     "metadata": {},
     "output_type": "execute_result"
    }
   ],
   "source": [
    "X = df[['CRIM', 'NOX', 'RM', 'AGE', 'TAX']]\n",
    "X"
   ]
  },
  {
   "cell_type": "code",
   "execution_count": 25,
   "id": "87514803",
   "metadata": {
    "ExecuteTime": {
     "end_time": "2023-07-18T04:14:44.942987Z",
     "start_time": "2023-07-18T04:14:44.864629Z"
    }
   },
   "outputs": [
    {
     "data": {
      "text/plain": [
       "array([[ 7.39865782e+01,  4.19593894e-01, -1.32503785e+00,\n",
       "         8.54053223e+01,  8.44821538e+02],\n",
       "       [ 4.19593894e-01,  1.34276357e-02, -2.46034495e-02,\n",
       "         2.38592720e+00,  1.30462855e+01],\n",
       "       [-1.32503785e+00, -2.46034495e-02,  4.93670850e-01,\n",
       "        -4.75192919e+00, -3.45834478e+01],\n",
       "       [ 8.54053223e+01,  2.38592720e+00, -4.75192919e+00,\n",
       "         7.92358399e+02,  2.40269012e+03],\n",
       "       [ 8.44821538e+02,  1.30462855e+01, -3.45834478e+01,\n",
       "         2.40269012e+03,  2.84047595e+04]])"
      ]
     },
     "execution_count": 25,
     "metadata": {},
     "output_type": "execute_result"
    }
   ],
   "source": [
    "cov_x = np.cov(X, rowvar=0) # rowvar=0 행이 아니라 열을 기준으로\n",
    "cov_x"
   ]
  },
  {
   "cell_type": "code",
   "execution_count": 26,
   "id": "901c289f",
   "metadata": {
    "ExecuteTime": {
     "end_time": "2023-07-18T04:15:14.515451Z",
     "start_time": "2023-07-18T04:15:14.495985Z"
    }
   },
   "outputs": [
    {
     "data": {
      "text/plain": [
       "array([[ 7.39865782e+01,  4.19593894e-01, -1.32503785e+00,\n",
       "         8.54053223e+01,  8.44821538e+02],\n",
       "       [ 4.19593894e-01,  1.34276357e-02, -2.46034495e-02,\n",
       "         2.38592720e+00,  1.30462855e+01],\n",
       "       [-1.32503785e+00, -2.46034495e-02,  4.93670850e-01,\n",
       "        -4.75192919e+00, -3.45834478e+01],\n",
       "       [ 8.54053223e+01,  2.38592720e+00, -4.75192919e+00,\n",
       "         7.92358399e+02,  2.40269012e+03],\n",
       "       [ 8.44821538e+02,  1.30462855e+01, -3.45834478e+01,\n",
       "         2.40269012e+03,  2.84047595e+04]])"
      ]
     },
     "execution_count": 26,
     "metadata": {},
     "output_type": "execute_result"
    }
   ],
   "source": [
    "cov_x = np.cov(X.T)\n",
    "cov_x"
   ]
  },
  {
   "cell_type": "code",
   "execution_count": 27,
   "id": "0fcb0bfd",
   "metadata": {
    "ExecuteTime": {
     "end_time": "2023-07-18T04:15:23.771192Z",
     "start_time": "2023-07-18T04:15:23.744431Z"
    }
   },
   "outputs": [
    {
     "data": {
      "text/html": [
       "<div>\n",
       "<style scoped>\n",
       "    .dataframe tbody tr th:only-of-type {\n",
       "        vertical-align: middle;\n",
       "    }\n",
       "\n",
       "    .dataframe tbody tr th {\n",
       "        vertical-align: top;\n",
       "    }\n",
       "\n",
       "    .dataframe thead th {\n",
       "        text-align: right;\n",
       "    }\n",
       "</style>\n",
       "<table border=\"1\" class=\"dataframe\">\n",
       "  <thead>\n",
       "    <tr style=\"text-align: right;\">\n",
       "      <th></th>\n",
       "      <th>CRIM</th>\n",
       "      <th>NOX</th>\n",
       "      <th>RM</th>\n",
       "      <th>AGE</th>\n",
       "      <th>TAX</th>\n",
       "    </tr>\n",
       "  </thead>\n",
       "  <tbody>\n",
       "    <tr>\n",
       "      <th>CRIM</th>\n",
       "      <td>73.986578</td>\n",
       "      <td>0.419594</td>\n",
       "      <td>-1.325038</td>\n",
       "      <td>85.405322</td>\n",
       "      <td>844.821538</td>\n",
       "    </tr>\n",
       "    <tr>\n",
       "      <th>NOX</th>\n",
       "      <td>0.419594</td>\n",
       "      <td>0.013428</td>\n",
       "      <td>-0.024603</td>\n",
       "      <td>2.385927</td>\n",
       "      <td>13.046286</td>\n",
       "    </tr>\n",
       "    <tr>\n",
       "      <th>RM</th>\n",
       "      <td>-1.325038</td>\n",
       "      <td>-0.024603</td>\n",
       "      <td>0.493671</td>\n",
       "      <td>-4.751929</td>\n",
       "      <td>-34.583448</td>\n",
       "    </tr>\n",
       "    <tr>\n",
       "      <th>AGE</th>\n",
       "      <td>85.405322</td>\n",
       "      <td>2.385927</td>\n",
       "      <td>-4.751929</td>\n",
       "      <td>792.358399</td>\n",
       "      <td>2402.690122</td>\n",
       "    </tr>\n",
       "    <tr>\n",
       "      <th>TAX</th>\n",
       "      <td>844.821538</td>\n",
       "      <td>13.046286</td>\n",
       "      <td>-34.583448</td>\n",
       "      <td>2402.690122</td>\n",
       "      <td>28404.759488</td>\n",
       "    </tr>\n",
       "  </tbody>\n",
       "</table>\n",
       "</div>"
      ],
      "text/plain": [
       "            CRIM        NOX         RM          AGE           TAX\n",
       "CRIM   73.986578   0.419594  -1.325038    85.405322    844.821538\n",
       "NOX     0.419594   0.013428  -0.024603     2.385927     13.046286\n",
       "RM     -1.325038  -0.024603   0.493671    -4.751929    -34.583448\n",
       "AGE    85.405322   2.385927  -4.751929   792.358399   2402.690122\n",
       "TAX   844.821538  13.046286 -34.583448  2402.690122  28404.759488"
      ]
     },
     "execution_count": 27,
     "metadata": {},
     "output_type": "execute_result"
    }
   ],
   "source": [
    "cov_x = X.cov()\n",
    "cov_x"
   ]
  },
  {
   "cell_type": "markdown",
   "id": "b5bf98b7",
   "metadata": {},
   "source": [
    "### 피어슨 상관계수"
   ]
  },
  {
   "cell_type": "code",
   "execution_count": 28,
   "id": "30e8a7c2",
   "metadata": {
    "ExecuteTime": {
     "end_time": "2023-07-18T04:29:57.766984Z",
     "start_time": "2023-07-18T04:29:57.754295Z"
    }
   },
   "outputs": [
    {
     "data": {
      "text/plain": [
       "array([[ 1.        ,  0.42097171, -0.2192467 ,  0.35273425,  0.58276431],\n",
       "       [ 0.42097171,  1.        , -0.30218819,  0.7314701 ,  0.6680232 ],\n",
       "       [-0.2192467 , -0.30218819,  1.        , -0.24026493, -0.29204783],\n",
       "       [ 0.35273425,  0.7314701 , -0.24026493,  1.        ,  0.50645559],\n",
       "       [ 0.58276431,  0.6680232 , -0.29204783,  0.50645559,  1.        ]])"
      ]
     },
     "execution_count": 28,
     "metadata": {},
     "output_type": "execute_result"
    }
   ],
   "source": [
    "corr_x = np.corrcoef(X.T)\n",
    "corr_x"
   ]
  },
  {
   "cell_type": "code",
   "execution_count": 29,
   "id": "19f02589",
   "metadata": {
    "ExecuteTime": {
     "end_time": "2023-07-18T04:30:14.970974Z",
     "start_time": "2023-07-18T04:30:14.940685Z"
    }
   },
   "outputs": [
    {
     "data": {
      "text/html": [
       "<div>\n",
       "<style scoped>\n",
       "    .dataframe tbody tr th:only-of-type {\n",
       "        vertical-align: middle;\n",
       "    }\n",
       "\n",
       "    .dataframe tbody tr th {\n",
       "        vertical-align: top;\n",
       "    }\n",
       "\n",
       "    .dataframe thead th {\n",
       "        text-align: right;\n",
       "    }\n",
       "</style>\n",
       "<table border=\"1\" class=\"dataframe\">\n",
       "  <thead>\n",
       "    <tr style=\"text-align: right;\">\n",
       "      <th></th>\n",
       "      <th>CRIM</th>\n",
       "      <th>NOX</th>\n",
       "      <th>RM</th>\n",
       "      <th>AGE</th>\n",
       "      <th>TAX</th>\n",
       "    </tr>\n",
       "  </thead>\n",
       "  <tbody>\n",
       "    <tr>\n",
       "      <th>CRIM</th>\n",
       "      <td>1.000000</td>\n",
       "      <td>0.420972</td>\n",
       "      <td>-0.219247</td>\n",
       "      <td>0.352734</td>\n",
       "      <td>0.582764</td>\n",
       "    </tr>\n",
       "    <tr>\n",
       "      <th>NOX</th>\n",
       "      <td>0.420972</td>\n",
       "      <td>1.000000</td>\n",
       "      <td>-0.302188</td>\n",
       "      <td>0.731470</td>\n",
       "      <td>0.668023</td>\n",
       "    </tr>\n",
       "    <tr>\n",
       "      <th>RM</th>\n",
       "      <td>-0.219247</td>\n",
       "      <td>-0.302188</td>\n",
       "      <td>1.000000</td>\n",
       "      <td>-0.240265</td>\n",
       "      <td>-0.292048</td>\n",
       "    </tr>\n",
       "    <tr>\n",
       "      <th>AGE</th>\n",
       "      <td>0.352734</td>\n",
       "      <td>0.731470</td>\n",
       "      <td>-0.240265</td>\n",
       "      <td>1.000000</td>\n",
       "      <td>0.506456</td>\n",
       "    </tr>\n",
       "    <tr>\n",
       "      <th>TAX</th>\n",
       "      <td>0.582764</td>\n",
       "      <td>0.668023</td>\n",
       "      <td>-0.292048</td>\n",
       "      <td>0.506456</td>\n",
       "      <td>1.000000</td>\n",
       "    </tr>\n",
       "  </tbody>\n",
       "</table>\n",
       "</div>"
      ],
      "text/plain": [
       "          CRIM       NOX        RM       AGE       TAX\n",
       "CRIM  1.000000  0.420972 -0.219247  0.352734  0.582764\n",
       "NOX   0.420972  1.000000 -0.302188  0.731470  0.668023\n",
       "RM   -0.219247 -0.302188  1.000000 -0.240265 -0.292048\n",
       "AGE   0.352734  0.731470 -0.240265  1.000000  0.506456\n",
       "TAX   0.582764  0.668023 -0.292048  0.506456  1.000000"
      ]
     },
     "execution_count": 29,
     "metadata": {},
     "output_type": "execute_result"
    }
   ],
   "source": [
    "corr_x = X.corr()\n",
    "corr_x"
   ]
  },
  {
   "cell_type": "code",
   "execution_count": 30,
   "id": "ba4943ca",
   "metadata": {
    "ExecuteTime": {
     "end_time": "2023-07-18T04:30:28.699033Z",
     "start_time": "2023-07-18T04:30:24.257398Z"
    }
   },
   "outputs": [],
   "source": [
    "import seaborn as sns"
   ]
  },
  {
   "cell_type": "code",
   "execution_count": 32,
   "id": "70001bd4",
   "metadata": {
    "ExecuteTime": {
     "end_time": "2023-07-18T04:31:20.946698Z",
     "start_time": "2023-07-18T04:31:20.168981Z"
    }
   },
   "outputs": [
    {
     "data": {
      "text/plain": [
       "<Axes: >"
      ]
     },
     "execution_count": 32,
     "metadata": {},
     "output_type": "execute_result"
    },
    {
     "data": {
      "image/png": "[encoded data removed]",
      "text/plain": [
       "<Figure size 640x480 with 2 Axes>"
      ]
     },
     "metadata": {},
     "output_type": "display_data"
    }
   ],
   "source": [
    "sns.heatmap(corr_x, annot=True, cmap='Reds', square=True)"
   ]
  },
  {
   "cell_type": "code",
   "execution_count": 33,
   "id": "8b3cd7ad",
   "metadata": {
    "ExecuteTime": {
     "end_time": "2023-07-18T04:36:33.433216Z",
     "start_time": "2023-07-18T04:36:32.965428Z"
    }
   },
   "outputs": [
    {
     "data": {
      "text/plain": [
       "<Axes: xlabel='NOX', ylabel='AGE'>"
      ]
     },
     "execution_count": 33,
     "metadata": {},
     "output_type": "execute_result"
    },
    {
     "data": {
      "image/png": "[encoded data removed]",
      "text/plain": [
       "<Figure size 640x480 with 1 Axes>"
      ]
     },
     "metadata": {},
     "output_type": "display_data"
    }
   ],
   "source": [
    "sns.scatterplot(data=df, x='NOX', y='AGE')"
   ]
  },
  {
   "cell_type": "code",
   "execution_count": 34,
   "id": "5066dc60",
   "metadata": {
    "ExecuteTime": {
     "end_time": "2023-07-18T04:37:05.854789Z",
     "start_time": "2023-07-18T04:37:05.408417Z"
    }
   },
   "outputs": [
    {
     "data": {
      "text/plain": [
       "<Axes: xlabel='NOX', ylabel='TAX'>"
      ]
     },
     "execution_count": 34,
     "metadata": {},
     "output_type": "execute_result"
    },
    {
     "data": {
      "image/png": "[encoded data removed]",
      "text/plain": [
       "<Figure size 640x480 with 1 Axes>"
      ]
     },
     "metadata": {},
     "output_type": "display_data"
    }
   ],
   "source": [
    "sns.scatterplot(data=df, x='NOX', y='TAX')"
   ]
  },
  {
   "cell_type": "markdown",
   "id": "7ae9d860",
   "metadata": {},
   "source": [
    "### 히스토그램"
   ]
  },
  {
   "cell_type": "code",
   "execution_count": 37,
   "id": "5fd9de14",
   "metadata": {
    "ExecuteTime": {
     "end_time": "2023-07-18T05:38:20.493135Z",
     "start_time": "2023-07-18T05:38:20.221071Z"
    }
   },
   "outputs": [
    {
     "data": {
      "text/plain": [
       "<Axes: xlabel='RM', ylabel='Count'>"
      ]
     },
     "execution_count": 37,
     "metadata": {},
     "output_type": "execute_result"
    },
    {
     "data": {
      "image/png": "[encoded data removed]",
      "text/plain": [
       "<Figure size 640x480 with 1 Axes>"
      ]
     },
     "metadata": {},
     "output_type": "display_data"
    }
   ],
   "source": [
    "sns.histplot(data=df, x='RM')"
   ]
  },
  {
   "cell_type": "code",
   "execution_count": 42,
   "id": "cf296747",
   "metadata": {
    "ExecuteTime": {
     "end_time": "2023-07-18T05:39:58.493693Z",
     "start_time": "2023-07-18T05:39:58.266405Z"
    }
   },
   "outputs": [
    {
     "data": {
      "text/plain": [
       "<Axes: xlabel='NOX', ylabel='Count'>"
      ]
     },
     "execution_count": 42,
     "metadata": {},
     "output_type": "execute_result"
    },
    {
     "data": {
      "image/png": "[encoded data removed]",
      "text/plain": [
       "<Figure size 640x480 with 1 Axes>"
      ]
     },
     "metadata": {},
     "output_type": "display_data"
    }
   ],
   "source": [
    "sns.histplot(data=df, x='NOX')"
   ]
  },
  {
   "cell_type": "code",
   "execution_count": 39,
   "id": "4b2ece2a",
   "metadata": {
    "ExecuteTime": {
     "end_time": "2023-07-18T05:39:08.065115Z",
     "start_time": "2023-07-18T05:39:07.820970Z"
    }
   },
   "outputs": [
    {
     "data": {
      "text/plain": [
       "<Axes: xlabel='TAX', ylabel='Count'>"
      ]
     },
     "execution_count": 39,
     "metadata": {},
     "output_type": "execute_result"
    },
    {
     "data": {
      "image/png": "[encoded data removed]",
      "text/plain": [
       "<Figure size 640x480 with 1 Axes>"
      ]
     },
     "metadata": {},
     "output_type": "display_data"
    }
   ],
   "source": [
    "sns.histplot(data=df, x='TAX')"
   ]
  },
  {
   "cell_type": "code",
   "execution_count": 43,
   "id": "11b1235a",
   "metadata": {
    "ExecuteTime": {
     "end_time": "2023-07-18T06:09:49.888860Z",
     "start_time": "2023-07-18T06:09:49.880916Z"
    }
   },
   "outputs": [],
   "source": [
    "import matplotlib.pyplot as plt"
   ]
  },
  {
   "cell_type": "code",
   "execution_count": 44,
   "id": "2da9e710",
   "metadata": {
    "ExecuteTime": {
     "end_time": "2023-07-18T06:10:12.880900Z",
     "start_time": "2023-07-18T06:10:12.862952Z"
    }
   },
   "outputs": [
    {
     "data": {
      "text/plain": [
       "array([2, 2, 1, 4, 3, 2, 2, 4, 3, 3, 3, 4, 2, 1, 4, 4, 4, 5, 5, 4, 4, 1,\n",
       "       5, 4, 4, 3, 5, 3, 1, 1, 3, 1, 4, 4, 4, 3, 4, 3, 5, 4, 1, 2, 3, 5,\n",
       "       5, 5, 3, 2, 5, 3, 3, 1, 1, 1, 3, 2, 1, 3, 2, 5, 5, 2, 1, 3, 3, 3,\n",
       "       2, 5, 2, 5, 5, 4, 4, 2, 3, 1, 5, 1, 1, 4, 3, 3, 2, 3, 3, 3, 5, 1,\n",
       "       2, 5, 4, 3, 1, 1, 3, 2, 2, 2, 1, 3])"
      ]
     },
     "execution_count": 44,
     "metadata": {},
     "output_type": "execute_result"
    }
   ],
   "source": [
    "x = np.random.randint(low=1, high=6, size=100)\n",
    "x"
   ]
  },
  {
   "cell_type": "code",
   "execution_count": 49,
   "id": "a3741252",
   "metadata": {
    "ExecuteTime": {
     "end_time": "2023-07-18T06:12:17.436414Z",
     "start_time": "2023-07-18T06:12:17.219392Z"
    }
   },
   "outputs": [
    {
     "data": {
      "image/png": "[encoded data removed]",
      "text/plain": [
       "<Figure size 640x480 with 1 Axes>"
      ]
     },
     "metadata": {},
     "output_type": "display_data"
    }
   ],
   "source": [
    "sns.histplot(x, bins=10)\n",
    "plt.xticks(range(0, 7))\n",
    "plt.show()"
   ]
  },
  {
   "cell_type": "code",
   "execution_count": 61,
   "id": "6b9e890b",
   "metadata": {
    "ExecuteTime": {
     "end_time": "2023-07-18T06:22:28.002512Z",
     "start_time": "2023-07-18T06:22:27.980569Z"
    }
   },
   "outputs": [
    {
     "data": {
      "text/plain": [
       "array([4, 3, 5, ..., 2, 2, 1])"
      ]
     },
     "execution_count": 61,
     "metadata": {},
     "output_type": "execute_result"
    }
   ],
   "source": [
    "x = np.random.randint(low=1, high=6, size=10000)\n",
    "x"
   ]
  },
  {
   "cell_type": "code",
   "execution_count": 62,
   "id": "10bf9bb3",
   "metadata": {
    "ExecuteTime": {
     "end_time": "2023-07-18T06:22:28.768118Z",
     "start_time": "2023-07-18T06:22:28.520052Z"
    }
   },
   "outputs": [
    {
     "data": {
      "image/png": "[encoded data removed]",
      "text/plain": [
       "<Figure size 640x480 with 1 Axes>"
      ]
     },
     "metadata": {},
     "output_type": "display_data"
    }
   ],
   "source": [
    "sns.histplot(x)\n",
    "plt.show()"
   ]
  },
  {
   "cell_type": "code",
   "execution_count": 63,
   "id": "8602f571",
   "metadata": {
    "ExecuteTime": {
     "end_time": "2023-07-18T06:22:30.156685Z",
     "start_time": "2023-07-18T06:22:30.142716Z"
    }
   },
   "outputs": [
    {
     "data": {
      "text/plain": [
       "array([4, 3, 5, ..., 2, 2, 1])"
      ]
     },
     "execution_count": 63,
     "metadata": {},
     "output_type": "execute_result"
    }
   ],
   "source": [
    "x"
   ]
  },
  {
   "cell_type": "code",
   "execution_count": 64,
   "id": "33cdcc97",
   "metadata": {
    "ExecuteTime": {
     "end_time": "2023-07-18T06:22:30.953694Z",
     "start_time": "2023-07-18T06:22:30.792733Z"
    }
   },
   "outputs": [
    {
     "data": {
      "image/png": "[encoded data removed]",
      "text/plain": [
       "<Figure size 640x480 with 1 Axes>"
      ]
     },
     "metadata": {},
     "output_type": "display_data"
    }
   ],
   "source": [
    "sns.countplot(x=x)\n",
    "plt.show()"
   ]
  },
  {
   "cell_type": "markdown",
   "id": "2c22bb07",
   "metadata": {},
   "source": [
    "### 베르누이 분포 Bernoulli distribution"
   ]
  },
  {
   "cell_type": "code",
   "execution_count": 65,
   "id": "68363cc5",
   "metadata": {
    "ExecuteTime": {
     "end_time": "2023-07-18T06:22:36.184503Z",
     "start_time": "2023-07-18T06:22:36.170504Z"
    }
   },
   "outputs": [
    {
     "data": {
      "text/plain": [
       "array([0, 1, 0, 0, 1, 0, 1, 0, 0, 1, 0, 1, 0, 0, 0, 0, 1, 0, 0, 0, 0, 0,\n",
       "       0, 1, 0, 1, 1, 1, 0, 0, 0, 0, 1, 0, 0, 1, 1, 1, 0, 0, 0, 1, 0, 0,\n",
       "       0, 0, 1, 1, 0, 0, 0, 1, 0, 0, 0, 0, 0, 0, 1, 0, 0, 0, 1, 1, 0, 0,\n",
       "       1, 0, 0, 0, 0, 0, 1, 1, 0, 1, 1, 1, 0, 0, 1, 0, 0, 1, 1, 0, 0, 1,\n",
       "       1, 1, 0, 1, 0, 0, 0, 0, 0, 1, 1, 1])"
      ]
     },
     "execution_count": 65,
     "metadata": {},
     "output_type": "execute_result"
    }
   ],
   "source": [
    "x = np.random.binomial(n=1, p=1/3, size=100)\n",
    "x"
   ]
  },
  {
   "cell_type": "code",
   "execution_count": 66,
   "id": "cb5131ca",
   "metadata": {
    "ExecuteTime": {
     "end_time": "2023-07-18T06:22:36.820812Z",
     "start_time": "2023-07-18T06:22:36.664562Z"
    }
   },
   "outputs": [
    {
     "data": {
      "text/plain": [
       "<Axes: ylabel='count'>"
      ]
     },
     "execution_count": 66,
     "metadata": {},
     "output_type": "execute_result"
    },
    {
     "data": {
      "image/png": "[encoded data removed]",
      "text/plain": [
       "<Figure size 640x480 with 1 Axes>"
      ]
     },
     "metadata": {},
     "output_type": "display_data"
    }
   ],
   "source": [
    "sns.countplot(x=x)"
   ]
  },
  {
   "cell_type": "code",
   "execution_count": 67,
   "id": "5bfa5711",
   "metadata": {
    "ExecuteTime": {
     "end_time": "2023-07-18T06:22:45.300009Z",
     "start_time": "2023-07-18T06:22:45.283052Z"
    }
   },
   "outputs": [
    {
     "data": {
      "text/plain": [
       "array([0, 0, 1, ..., 0, 0, 0])"
      ]
     },
     "execution_count": 67,
     "metadata": {},
     "output_type": "execute_result"
    }
   ],
   "source": [
    "x = np.random.binomial(n=1, p=1/3, size=10000)\n",
    "x"
   ]
  },
  {
   "cell_type": "code",
   "execution_count": 69,
   "id": "20f303d3",
   "metadata": {
    "ExecuteTime": {
     "end_time": "2023-07-18T06:22:56.256599Z",
     "start_time": "2023-07-18T06:22:56.125724Z"
    }
   },
   "outputs": [
    {
     "data": {
      "image/png": "[encoded data removed]",
      "text/plain": [
       "<Figure size 640x480 with 1 Axes>"
      ]
     },
     "metadata": {},
     "output_type": "display_data"
    }
   ],
   "source": [
    "sns.countplot(x=x)\n",
    "plt.show()"
   ]
  },
  {
   "cell_type": "markdown",
   "id": "73bb9424",
   "metadata": {},
   "source": [
    "### 이항 분포 binomial distribution"
   ]
  },
  {
   "cell_type": "code",
   "execution_count": 70,
   "id": "62a8088d",
   "metadata": {
    "ExecuteTime": {
     "end_time": "2023-07-18T06:30:55.858862Z",
     "start_time": "2023-07-18T06:30:55.843241Z"
    }
   },
   "outputs": [
    {
     "data": {
      "text/plain": [
       "array([3, 2, 2, 5, 4, 2, 1, 3, 3, 3, 2, 3, 3, 1, 2, 7, 4, 3, 3, 4, 6, 5,\n",
       "       3, 4, 3, 2, 3, 4, 6, 3, 4, 2, 3, 3, 5, 4, 1, 3, 3, 5, 1, 3, 3, 3,\n",
       "       3, 2, 6, 4, 4, 3, 4, 2, 2, 4, 6, 5, 4, 4, 3, 6, 0, 4, 3, 2, 3, 3,\n",
       "       2, 2, 2, 4, 4, 3, 1, 3, 4, 6, 3, 5, 4, 3, 4, 3, 3, 1, 2, 4, 8, 5,\n",
       "       6, 6, 4, 4, 7, 5, 2, 5, 2, 0, 4, 3])"
      ]
     },
     "execution_count": 70,
     "metadata": {},
     "output_type": "execute_result"
    }
   ],
   "source": [
    "x = np.random.binomial(n=10, p=1/3, size=100)\n",
    "x # 10번 뽑았을 때 성공 횟수"
   ]
  },
  {
   "cell_type": "code",
   "execution_count": 71,
   "id": "4e851134",
   "metadata": {
    "ExecuteTime": {
     "end_time": "2023-07-18T06:31:18.732644Z",
     "start_time": "2023-07-18T06:31:18.539758Z"
    }
   },
   "outputs": [
    {
     "data": {
      "image/png": "[encoded data removed]",
      "text/plain": [
       "<Figure size 640x480 with 1 Axes>"
      ]
     },
     "metadata": {},
     "output_type": "display_data"
    }
   ],
   "source": [
    "sns.countplot(x=x)\n",
    "plt.show()"
   ]
  },
  {
   "cell_type": "code",
   "execution_count": 72,
   "id": "c0a9bd61",
   "metadata": {
    "ExecuteTime": {
     "end_time": "2023-07-18T06:31:32.473251Z",
     "start_time": "2023-07-18T06:31:32.458289Z"
    }
   },
   "outputs": [
    {
     "data": {
      "text/plain": [
       "array([2, 5, 5, ..., 4, 3, 2])"
      ]
     },
     "execution_count": 72,
     "metadata": {},
     "output_type": "execute_result"
    }
   ],
   "source": [
    "x = np.random.binomial(n=10, p=1/3, size=10000)\n",
    "x # 10번 뽑았을 때 성공 횟수"
   ]
  },
  {
   "cell_type": "code",
   "execution_count": 73,
   "id": "118cf0bb",
   "metadata": {
    "ExecuteTime": {
     "end_time": "2023-07-18T06:31:37.922565Z",
     "start_time": "2023-07-18T06:31:37.742934Z"
    }
   },
   "outputs": [
    {
     "data": {
      "image/png": "[encoded data removed]",
      "text/plain": [
       "<Figure size 640x480 with 1 Axes>"
      ]
     },
     "metadata": {},
     "output_type": "display_data"
    }
   ],
   "source": [
    "sns.countplot(x=x)\n",
    "plt.show()"
   ]
  },
  {
   "cell_type": "markdown",
   "id": "b611e752",
   "metadata": {},
   "source": [
    "### 포아송 분포 poisson distribution"
   ]
  },
  {
   "cell_type": "code",
   "execution_count": 74,
   "id": "b877fe01",
   "metadata": {
    "ExecuteTime": {
     "end_time": "2023-07-18T06:40:48.514495Z",
     "start_time": "2023-07-18T06:40:48.497539Z"
    }
   },
   "outputs": [
    {
     "data": {
      "text/plain": [
       "array([2, 4, 2, 3, 2, 2, 3, 1, 2, 3, 2, 3, 2, 1, 1, 3, 2, 4, 0, 2, 3, 2,\n",
       "       1, 3, 2, 5, 2, 1, 3, 3, 1, 0, 2, 0, 0, 0, 0, 2, 4, 2, 2, 1, 3, 0,\n",
       "       4, 2, 4, 1, 1, 2, 3, 4, 2, 2, 1, 2, 2, 4, 2, 3, 0, 1, 2, 3, 1, 3,\n",
       "       0, 2, 1, 2, 0, 3, 0, 2, 1, 3, 0, 1, 3, 2, 2, 4, 0, 2, 1, 1, 2, 1,\n",
       "       1, 2, 1, 1, 1, 1, 0, 4, 1, 1, 2, 2])"
      ]
     },
     "execution_count": 74,
     "metadata": {},
     "output_type": "execute_result"
    }
   ],
   "source": [
    "x = np.random.poisson(lam=2, size=100) # lam 람다\n",
    "x"
   ]
  },
  {
   "cell_type": "code",
   "execution_count": 75,
   "id": "4a4ba223",
   "metadata": {
    "ExecuteTime": {
     "end_time": "2023-07-18T06:41:03.841827Z",
     "start_time": "2023-07-18T06:41:03.683826Z"
    }
   },
   "outputs": [
    {
     "data": {
      "image/png": "[encoded data removed]",
      "text/plain": [
       "<Figure size 640x480 with 1 Axes>"
      ]
     },
     "metadata": {},
     "output_type": "display_data"
    }
   ],
   "source": [
    "sns.countplot(x=x)\n",
    "plt.show()"
   ]
  },
  {
   "cell_type": "code",
   "execution_count": 76,
   "id": "97b856d4",
   "metadata": {
    "ExecuteTime": {
     "end_time": "2023-07-18T06:41:22.657296Z",
     "start_time": "2023-07-18T06:41:22.473049Z"
    }
   },
   "outputs": [
    {
     "data": {
      "image/png": "[encoded data removed]",
      "text/plain": [
       "<Figure size 640x480 with 1 Axes>"
      ]
     },
     "metadata": {},
     "output_type": "display_data"
    }
   ],
   "source": [
    "x = np.random.poisson(lam=2, size=10000) # lam 람다\n",
    "sns.countplot(x=x)\n",
    "plt.show()"
   ]
  },
  {
   "cell_type": "code",
   "execution_count": 77,
   "id": "fbaec4fc",
   "metadata": {
    "ExecuteTime": {
     "end_time": "2023-07-18T06:41:34.525324Z",
     "start_time": "2023-07-18T06:41:34.284847Z"
    }
   },
   "outputs": [
    {
     "data": {
      "image/png": "[encoded data removed]",
      "text/plain": [
       "<Figure size 640x480 with 1 Axes>"
      ]
     },
     "metadata": {},
     "output_type": "display_data"
    }
   ],
   "source": [
    "x = np.random.poisson(lam=5, size=10000) # lam 람다\n",
    "sns.countplot(x=x)\n",
    "plt.show()"
   ]
  },
  {
   "cell_type": "code",
   "execution_count": 78,
   "id": "4e84fc49",
   "metadata": {
    "ExecuteTime": {
     "end_time": "2023-07-18T06:41:44.402235Z",
     "start_time": "2023-07-18T06:41:44.116160Z"
    }
   },
   "outputs": [
    {
     "data": {
      "image/png": "[encoded data removed]",
      "text/plain": [
       "<Figure size 640x480 with 1 Axes>"
      ]
     },
     "metadata": {},
     "output_type": "display_data"
    }
   ],
   "source": [
    "x = np.random.poisson(lam=15, size=10000) # lam 람다\n",
    "sns.countplot(x=x)\n",
    "plt.show()"
   ]
  },
  {
   "cell_type": "markdown",
   "id": "ee0940a0",
   "metadata": {},
   "source": [
    "### 기하 분포 geometric distribution"
   ]
  },
  {
   "cell_type": "code",
   "execution_count": 79,
   "id": "2335daa1",
   "metadata": {
    "ExecuteTime": {
     "end_time": "2023-07-18T06:48:00.639843Z",
     "start_time": "2023-07-18T06:48:00.428212Z"
    }
   },
   "outputs": [
    {
     "data": {
      "image/png": "[encoded data removed]",
      "text/plain": [
       "<Figure size 640x480 with 1 Axes>"
      ]
     },
     "metadata": {},
     "output_type": "display_data"
    }
   ],
   "source": [
    "x = np.random.geometric(p=1/3, size=100)\n",
    "sns.countplot(x=x)\n",
    "plt.show()"
   ]
  },
  {
   "cell_type": "code",
   "execution_count": 80,
   "id": "6ee11537",
   "metadata": {
    "ExecuteTime": {
     "end_time": "2023-07-18T06:48:11.865504Z",
     "start_time": "2023-07-18T06:48:11.588060Z"
    }
   },
   "outputs": [
    {
     "data": {
      "image/png": "[encoded data removed]",
      "text/plain": [
       "<Figure size 640x480 with 1 Axes>"
      ]
     },
     "metadata": {},
     "output_type": "display_data"
    }
   ],
   "source": [
    "x = np.random.geometric(p=1/3, size=10000)\n",
    "sns.countplot(x=x)\n",
    "plt.show()"
   ]
  },
  {
   "cell_type": "code",
   "execution_count": 81,
   "id": "47c0921c",
   "metadata": {
    "ExecuteTime": {
     "end_time": "2023-07-18T06:48:25.892027Z",
     "start_time": "2023-07-18T06:48:25.606546Z"
    }
   },
   "outputs": [
    {
     "data": {
      "image/png": "[encoded data removed]",
      "text/plain": [
       "<Figure size 640x480 with 1 Axes>"
      ]
     },
     "metadata": {},
     "output_type": "display_data"
    }
   ],
   "source": [
    "x = np.random.geometric(p=1/10, size=100)\n",
    "sns.countplot(x=x)\n",
    "plt.show()"
   ]
  },
  {
   "cell_type": "code",
   "execution_count": 84,
   "id": "36859da9",
   "metadata": {
    "ExecuteTime": {
     "end_time": "2023-07-18T06:48:52.354863Z",
     "start_time": "2023-07-18T06:48:51.998200Z"
    }
   },
   "outputs": [
    {
     "data": {
      "image/png": "[encoded data removed]",
      "text/plain": [
       "<Figure size 640x480 with 1 Axes>"
      ]
     },
     "metadata": {},
     "output_type": "display_data"
    }
   ],
   "source": [
    "x = np.random.geometric(p=1/8, size=1000)\n",
    "sns.countplot(x=x)\n",
    "plt.show()"
   ]
  },
  {
   "cell_type": "markdown",
   "id": "0424cb82",
   "metadata": {},
   "source": [
    "## 연속형 확률 분포"
   ]
  },
  {
   "cell_type": "markdown",
   "id": "66fb2fb5",
   "metadata": {},
   "source": [
    "### 균일 분포 uniform distribution"
   ]
  },
  {
   "cell_type": "code",
   "execution_count": 89,
   "id": "c6775ccb",
   "metadata": {
    "ExecuteTime": {
     "end_time": "2023-07-18T07:05:32.802497Z",
     "start_time": "2023-07-18T07:05:32.388898Z"
    }
   },
   "outputs": [
    {
     "name": "stdout",
     "output_type": "stream",
     "text": [
      "[2.35618249 3.2273985  3.24200567 5.36105372 2.24565899 4.66956827\n",
      " 4.49379775 3.42515921 3.3168562  4.28498594]\n"
     ]
    },
    {
     "data": {
      "image/png": "[encoded data removed]",
      "text/plain": [
       "<Figure size 640x480 with 1 Axes>"
      ]
     },
     "metadata": {},
     "output_type": "display_data"
    }
   ],
   "source": [
    "x = np.random.uniform(low=1, high=6, size=100)\n",
    "print(x[:10])\n",
    "sns.histplot(x=x, bins=30)\n",
    "plt.show()"
   ]
  },
  {
   "cell_type": "code",
   "execution_count": 90,
   "id": "5e6db602",
   "metadata": {
    "ExecuteTime": {
     "end_time": "2023-07-18T07:05:48.893751Z",
     "start_time": "2023-07-18T07:05:48.656783Z"
    }
   },
   "outputs": [
    {
     "name": "stdout",
     "output_type": "stream",
     "text": [
      "[4.39799803 4.12855332 5.87432519 2.76232107 2.65901457 4.90307658\n",
      " 1.20694867 3.91718668 5.63848439 3.5195687 ]\n"
     ]
    },
    {
     "data": {
      "image/png": "[encoded data removed]",
      "text/plain": [
       "<Figure size 640x480 with 1 Axes>"
      ]
     },
     "metadata": {},
     "output_type": "display_data"
    }
   ],
   "source": [
    "x = np.random.uniform(low=1, high=6, size=10000)\n",
    "print(x[:10])\n",
    "sns.histplot(x=x, bins=30)\n",
    "plt.show()"
   ]
  },
  {
   "cell_type": "markdown",
   "id": "40bfbbdd",
   "metadata": {},
   "source": [
    "### 정규 분포 normal distribution"
   ]
  },
  {
   "cell_type": "code",
   "execution_count": 92,
   "id": "1ebd165f",
   "metadata": {
    "ExecuteTime": {
     "end_time": "2023-07-18T07:11:24.672508Z",
     "start_time": "2023-07-18T07:11:24.649762Z"
    }
   },
   "outputs": [
    {
     "data": {
      "text/plain": [
       "array([64.08397664, 58.47117276, 60.72238655, 60.6347787 , 58.47272188,\n",
       "       57.93118316, 55.05112904, 62.86385122, 59.87588163, 68.09715519,\n",
       "       55.54536401, 58.24243535, 61.89000458, 61.1549032 , 59.80662194,\n",
       "       68.70864645, 60.51065015, 54.80533919, 52.10615491, 58.80922351,\n",
       "       68.20570258, 51.51402118, 55.35963352, 63.54453728, 71.0789317 ,\n",
       "       64.79169323, 59.9228372 , 63.25151459, 52.03946779, 50.91215703,\n",
       "       54.70699915, 60.96321363, 63.90626594, 67.66795265, 62.67220621,\n",
       "       60.02846206, 57.65889079, 56.41537408, 60.32186575, 60.8575994 ,\n",
       "       62.16086598, 49.69281771, 70.39042105, 64.40710148, 54.22138363,\n",
       "       61.57268499, 56.19584075, 61.70692385, 59.53105017, 55.00331248,\n",
       "       61.46370413, 53.33999324, 59.39830199, 61.97867058, 49.13484504,\n",
       "       62.75744297, 59.38281444, 68.10152053, 57.03517667, 55.5248924 ,\n",
       "       62.13885015, 58.63249863, 65.38204494, 61.57747415, 59.21703572,\n",
       "       58.78901537, 64.66980861, 63.51411145, 65.84574973, 64.51857175,\n",
       "       56.99700488, 55.26324304, 61.0280964 , 58.01404709, 62.50785208,\n",
       "       48.78240678, 52.58830296, 58.39029204, 55.75193873, 58.39772141,\n",
       "       68.57525832, 60.08571125, 67.73070913, 59.5084544 , 66.12848016,\n",
       "       59.36892066, 69.48826536, 45.75332218, 54.6177806 , 61.73269942,\n",
       "       58.89834432, 56.62917778, 68.19311067, 51.45262599, 53.17280638,\n",
       "       47.48635281, 59.88092158, 55.32375252, 61.68144372, 47.27900228])"
      ]
     },
     "execution_count": 92,
     "metadata": {},
     "output_type": "execute_result"
    }
   ],
   "source": [
    "x = np.random.normal(loc=60, scale=6, size=100) # loc 평균, scale 표준편차\n",
    "x"
   ]
  },
  {
   "cell_type": "code",
   "execution_count": 95,
   "id": "60a54a41",
   "metadata": {
    "ExecuteTime": {
     "end_time": "2023-07-18T07:12:04.924121Z",
     "start_time": "2023-07-18T07:12:04.586400Z"
    }
   },
   "outputs": [
    {
     "data": {
      "text/plain": [
       "<Axes: ylabel='Count'>"
      ]
     },
     "execution_count": 95,
     "metadata": {},
     "output_type": "execute_result"
    },
    {
     "data": {
      "image/png": "[encoded data removed]",
      "text/plain": [
       "<Figure size 640x480 with 1 Axes>"
      ]
     },
     "metadata": {},
     "output_type": "display_data"
    }
   ],
   "source": [
    "sns.histplot(x=x, bins=30)"
   ]
  },
  {
   "cell_type": "code",
   "execution_count": 96,
   "id": "74ee6a82",
   "metadata": {
    "ExecuteTime": {
     "end_time": "2023-07-18T07:12:30.785193Z",
     "start_time": "2023-07-18T07:12:30.573234Z"
    }
   },
   "outputs": [
    {
     "data": {
      "image/png": "[encoded data removed]",
      "text/plain": [
       "<Figure size 640x480 with 1 Axes>"
      ]
     },
     "metadata": {},
     "output_type": "display_data"
    }
   ],
   "source": [
    "x = np.random.normal(loc=60, scale=6, size=10000) # loc 평균, scale 표준편차\n",
    "sns.histplot(x=x, bins=30)\n",
    "plt.show()"
   ]
  },
  {
   "cell_type": "markdown",
   "id": "c3485886",
   "metadata": {},
   "source": [
    "### 감마 분포 gamma distribution"
   ]
  },
  {
   "cell_type": "code",
   "execution_count": 97,
   "id": "c126b9cc",
   "metadata": {
    "ExecuteTime": {
     "end_time": "2023-07-18T07:20:43.539991Z",
     "start_time": "2023-07-18T07:20:43.523002Z"
    }
   },
   "outputs": [
    {
     "data": {
      "text/plain": [
       "array([10.74599897, 12.30778082,  0.29547104,  2.89795217,  2.40439796,\n",
       "        1.02521827,  8.72765101,  0.65722906, 30.35927558,  1.50375475,\n",
       "        3.38288824,  8.72726068, 15.41087309,  5.62153528,  6.18640208,\n",
       "        2.95739551,  4.89003279,  1.63220914,  0.87201395, 15.27903068,\n",
       "        3.49733839, 14.40330132,  7.30982832,  1.9560323 ,  5.37797214,\n",
       "       22.66652069, 11.33317522,  7.72203048,  7.21759474,  8.81680013])"
      ]
     },
     "execution_count": 97,
     "metadata": {},
     "output_type": "execute_result"
    }
   ],
   "source": [
    "x = np.random.gamma(shape=2, scale=3, size=30) # shape 알파, scale 베타\n",
    "x"
   ]
  },
  {
   "cell_type": "code",
   "execution_count": 98,
   "id": "994b9048",
   "metadata": {
    "ExecuteTime": {
     "end_time": "2023-07-18T07:20:56.336894Z",
     "start_time": "2023-07-18T07:20:56.101382Z"
    }
   },
   "outputs": [
    {
     "data": {
      "image/png": "[encoded data removed]",
      "text/plain": [
       "<Figure size 640x480 with 1 Axes>"
      ]
     },
     "metadata": {},
     "output_type": "display_data"
    }
   ],
   "source": [
    "sns.histplot(x=x, bins=30)\n",
    "plt.show()"
   ]
  },
  {
   "cell_type": "code",
   "execution_count": 99,
   "id": "706e2a14",
   "metadata": {
    "ExecuteTime": {
     "end_time": "2023-07-18T07:21:28.224636Z",
     "start_time": "2023-07-18T07:21:28.005811Z"
    }
   },
   "outputs": [
    {
     "data": {
      "image/png": "[encoded data removed]",
      "text/plain": [
       "<Figure size 640x480 with 1 Axes>"
      ]
     },
     "metadata": {},
     "output_type": "display_data"
    }
   ],
   "source": [
    "x = np.random.gamma(shape=2, scale=3, size=1000) # shape 알파, scale 베타\n",
    "sns.histplot(x=x, bins=30)\n",
    "plt.show()"
   ]
  },
  {
   "cell_type": "code",
   "execution_count": 100,
   "id": "f4e67a22",
   "metadata": {
    "ExecuteTime": {
     "end_time": "2023-07-18T07:21:50.626540Z",
     "start_time": "2023-07-18T07:21:50.394039Z"
    }
   },
   "outputs": [
    {
     "data": {
      "image/png": "[encoded data removed]",
      "text/plain": [
       "<Figure size 640x480 with 1 Axes>"
      ]
     },
     "metadata": {},
     "output_type": "display_data"
    }
   ],
   "source": [
    "x = np.random.gamma(shape=9, scale=.5, size=1000) # shape 알파, scale 베타\n",
    "sns.histplot(x=x, bins=30)\n",
    "plt.show()"
   ]
  },
  {
   "cell_type": "code",
   "execution_count": 101,
   "id": "937254c6",
   "metadata": {
    "ExecuteTime": {
     "end_time": "2023-07-18T07:22:00.362709Z",
     "start_time": "2023-07-18T07:22:00.135749Z"
    }
   },
   "outputs": [
    {
     "data": {
      "image/png": "[encoded data removed]",
      "text/plain": [
       "<Figure size 640x480 with 1 Axes>"
      ]
     },
     "metadata": {},
     "output_type": "display_data"
    }
   ],
   "source": [
    "x = np.random.gamma(shape=15, scale=.5, size=1000) # shape 알파, scale 베타\n",
    "sns.histplot(x=x, bins=30)\n",
    "plt.show()"
   ]
  },
  {
   "cell_type": "markdown",
   "id": "1746e25c",
   "metadata": {},
   "source": [
    "### 지수 분포 exponential distribution"
   ]
  },
  {
   "cell_type": "code",
   "execution_count": 102,
   "id": "776c5aea",
   "metadata": {
    "ExecuteTime": {
     "end_time": "2023-07-18T07:30:47.535167Z",
     "start_time": "2023-07-18T07:30:47.513191Z"
    }
   },
   "outputs": [
    {
     "data": {
      "text/plain": [
       "array([4.66220559e-01, 1.42435060e+00, 1.32895265e+00, 9.27872922e-01,\n",
       "       8.88187981e+00, 1.70457238e+00, 2.82843030e-01, 7.32821178e-01,\n",
       "       7.23839669e+00, 2.05242171e+00, 1.28287624e-01, 4.24801765e-01,\n",
       "       1.33404009e+00, 2.43702190e+00, 6.48233344e-02, 3.96756674e-01,\n",
       "       2.30885979e+00, 8.83376500e+00, 8.59206097e-02, 8.97179994e+00,\n",
       "       1.23772245e+00, 3.06564957e+00, 1.28018434e+00, 1.64371410e-01,\n",
       "       2.83583935e+00, 9.84126648e-03, 2.62804265e+00, 1.81087486e+00,\n",
       "       3.78781671e+00, 3.07237578e+00, 1.11150290e+00, 1.05952488e+00,\n",
       "       3.76654346e+00, 5.02420183e+00, 1.24318581e+00, 4.13903988e+00,\n",
       "       2.37507779e+00, 2.26976887e+00, 3.82617078e-01, 2.88493776e+00,\n",
       "       2.40445033e+00, 7.83131141e-01, 1.29370666e+00, 4.58248077e-01,\n",
       "       7.65801210e-01, 2.02682667e-02, 6.20234578e-01, 1.62140401e+00,\n",
       "       7.16694202e-01, 6.03753289e+00, 2.73174502e+00, 1.44725049e+00,\n",
       "       6.82930613e+00, 2.24146903e+00, 5.69911610e+00, 5.99412119e+00,\n",
       "       5.59135099e+00, 3.99757737e+00, 1.57060122e+00, 4.94190102e+00,\n",
       "       2.43772642e+00, 1.50075222e+00, 4.61558456e+00, 1.60757232e-01,\n",
       "       2.57296481e+00, 1.85331019e+00, 8.21873177e-01, 2.54091256e+00,\n",
       "       1.77114888e+00, 5.48814906e-02, 3.82431091e-01, 7.26024820e-01,\n",
       "       3.73583578e-03, 3.82184092e+00, 1.05494905e+00, 1.45834990e+00,\n",
       "       7.46676968e-01, 1.09303093e+00, 3.24941692e-01, 4.23844823e-01,\n",
       "       2.40819323e+00, 1.78805056e-02, 5.40160066e+00, 2.61060150e-01,\n",
       "       5.09095536e+00, 2.70084338e+00, 7.59263671e+00, 1.45823193e+00,\n",
       "       4.01967528e+00, 2.11818022e+00, 6.25623071e-01, 2.02384947e+00,\n",
       "       8.14058646e-01, 4.04885239e-01, 7.62868743e-01, 4.58591011e+00,\n",
       "       1.29426975e+00, 4.45816392e-01, 4.09970594e+00, 2.13913016e+00,\n",
       "       1.81518425e+00, 1.44020471e+00, 3.38059805e+00, 6.19425516e+00,\n",
       "       4.90546682e-01, 8.71026398e+00, 1.78599509e+00, 1.13332200e-01,\n",
       "       2.98805943e+00, 2.70768028e-01, 1.73257628e+01, 1.26906627e+00,\n",
       "       6.85933257e-01, 5.07690147e+00, 5.01025673e-01, 4.90526716e+00,\n",
       "       1.05608585e-01, 1.13982855e+00, 5.43714934e-01, 1.39122712e+01,\n",
       "       1.50953576e+00, 2.58346529e+00, 9.83077956e-01, 1.91049135e+00,\n",
       "       4.59936085e+00, 2.70325571e+00, 3.18849506e+00, 1.25556355e-01,\n",
       "       1.64094448e-01, 1.04841582e+00, 4.77775082e+00, 1.72924735e+00,\n",
       "       2.90988470e+00, 3.00133489e+00, 4.24836391e-01, 2.82698151e+00,\n",
       "       3.09918022e+00, 2.44874522e+00, 2.49162370e+00, 1.13799029e+00,\n",
       "       2.09389775e+00, 5.88622330e+00, 1.07077459e+00, 3.26037466e+00,\n",
       "       6.92659036e+00, 2.98129807e-01, 1.43302904e+00, 4.08407607e-01,\n",
       "       2.23763503e-01, 1.45711086e+00, 5.66601429e-01, 1.29827346e+00,\n",
       "       6.08503849e-01, 1.53996808e+00, 6.18669412e+00, 1.08770367e+00,\n",
       "       2.97174424e-01, 1.52060347e+00, 1.85437229e+00, 2.01816391e+00,\n",
       "       1.42275510e+00, 5.76323544e-01, 3.64171782e+00, 2.29602059e+00,\n",
       "       1.47977360e-01, 1.09405295e+00, 7.86818219e-01, 3.79956801e+00,\n",
       "       2.30337543e+00, 2.20016649e+00, 1.65887127e+00, 2.11821123e+00,\n",
       "       4.54098185e-01, 4.34535688e+00, 2.85584451e-01, 1.79094028e+00,\n",
       "       1.89827222e+00, 3.12239047e-01, 8.97264557e-01, 1.24701678e-01,\n",
       "       2.69567663e+00, 2.97562581e+00, 4.33866994e+00, 3.16716704e+00,\n",
       "       2.23706375e+00, 3.92984350e-01, 2.95673727e+00, 6.01445531e+00,\n",
       "       1.22021920e+00, 5.06093266e-01, 2.91227825e+00, 3.01570258e+00,\n",
       "       1.52754514e+00, 5.04887152e+00, 8.34323702e-01, 7.75338431e-01,\n",
       "       1.27447902e+00, 2.93541142e+00, 1.66925033e+00, 3.67354845e+00,\n",
       "       7.12324081e+00, 2.18139922e+00, 1.04631145e-01, 4.67902303e+00,\n",
       "       3.11239654e-01, 3.84516083e+00, 1.33705686e-01, 1.21338736e+00,\n",
       "       7.57264576e+00, 1.95056418e+00, 5.51410745e+00, 4.82488994e-01,\n",
       "       5.52186080e-01, 1.51062520e+00, 2.08091759e+00, 2.24465744e-01,\n",
       "       1.41667713e+00, 3.67179638e+00, 3.04185898e+00, 1.47741472e-01,\n",
       "       1.79159861e-01, 7.21719141e-01, 3.54030777e+00, 8.27373101e-01,\n",
       "       2.27006544e-01, 2.17849289e+00, 1.50397490e+00, 2.16520268e+00,\n",
       "       3.04042559e+00, 3.96476257e+00, 4.39324433e+00, 3.79924208e+00,\n",
       "       4.93739699e+00, 1.11501490e+00, 4.92538241e+00, 8.91948877e-01,\n",
       "       9.17583826e-02, 4.40149229e-01, 1.93012477e-01, 1.27576538e-01,\n",
       "       2.23256465e+00, 3.15156734e+00, 1.47038564e+00, 2.04211319e+00,\n",
       "       3.41699414e-01, 5.96484732e+00, 8.40950089e-01, 4.28651514e+00,\n",
       "       5.01213942e+00, 9.51268615e-01, 1.17617796e+00, 3.83206438e+00,\n",
       "       3.91453916e+00, 2.30865666e+00, 5.82758220e-01, 8.79681056e-01,\n",
       "       2.17973627e-01, 1.24515572e+00, 2.09969169e+00, 3.65963017e+00,\n",
       "       3.85132501e-01, 9.92777927e-01, 2.09732421e-01, 8.79239955e-01,\n",
       "       1.22660974e+00, 2.19696881e+00, 2.58755841e+00, 4.94773926e+00,\n",
       "       5.66935822e+00, 1.55141019e+00, 5.44279096e-01, 2.04681186e+00,\n",
       "       8.39045347e+00, 9.86492977e+00, 1.88276918e-01, 1.44058860e+00,\n",
       "       4.51595312e+00, 4.18580011e+00, 3.59707639e-01, 3.40369518e+00,\n",
       "       1.40377406e+01, 4.41123090e-01, 1.80507828e+00, 2.98910482e-04,\n",
       "       2.59696478e+00, 2.26395808e+00, 1.04224100e+00, 7.68948063e+00,\n",
       "       3.14053724e+00, 2.77626456e+00, 8.26339206e-01, 8.43943128e+00,\n",
       "       4.72203202e-01, 1.97105679e+00, 3.74451341e-02, 3.19157469e+00,\n",
       "       1.94604514e+00, 1.36316736e-01, 4.59539066e-01, 1.00264558e+00,\n",
       "       2.38411090e+00, 6.37856952e-01, 1.37235986e+00, 3.85342877e+00,\n",
       "       1.36146751e+00, 5.88994535e-01, 9.83732486e-01, 2.65730328e-01,\n",
       "       1.71468909e+00, 3.04405565e+00, 3.38999683e-01, 1.05267256e+00,\n",
       "       2.02507227e+00, 5.16412985e-02, 4.74570633e+00, 2.34288054e+00,\n",
       "       3.17058642e+00, 2.44063384e+00, 4.77926615e+00, 5.47194001e-01,\n",
       "       9.02485955e-01, 7.44714955e-01, 1.86183053e+00, 4.50428071e+00,\n",
       "       2.90104471e-01, 1.27875924e+00, 1.52813275e+00, 2.37208402e-01,\n",
       "       7.44257524e-03, 2.60086720e+00, 1.14857677e+00, 1.23290617e+00,\n",
       "       1.64590817e+00, 8.02769770e-02, 9.69869614e-02, 2.84498243e+00,\n",
       "       2.46851987e-01, 2.50025658e-01, 2.11824676e-01, 1.89928582e+00,\n",
       "       3.57431806e+00, 1.64442280e+00, 2.34023848e+00, 1.23321632e+00,\n",
       "       1.37255278e+00, 6.98368139e-01, 4.52566940e-01, 3.42249200e-01,\n",
       "       3.74062341e+00, 4.12836358e+00, 4.29755416e+00, 1.21288889e+00,\n",
       "       1.17826178e+01, 3.24768123e+00, 3.65075119e+00, 3.34399614e+00,\n",
       "       4.76359502e-01, 6.77591265e-01, 1.92720552e+00, 1.22042298e+00,\n",
       "       5.89126196e-01, 2.11833789e+00, 3.08530132e+00, 4.63176919e+00,\n",
       "       3.38174083e-01, 4.98812254e-01, 3.41790759e+00, 1.79519832e+00,\n",
       "       4.83283566e-01, 4.59653187e-01, 2.62002447e+00, 6.82842736e+00,\n",
       "       3.36662323e+00, 5.25523092e+00, 1.67980646e-01, 3.44704662e+00,\n",
       "       3.31341224e-01, 2.97773614e+00, 2.03002080e+00, 4.65474037e-01,\n",
       "       2.68402654e+00, 1.74409544e+00, 1.73971971e+00, 5.90721323e+00,\n",
       "       4.29892028e+00, 1.05639728e+00, 1.76547128e-01, 1.75185202e+00,\n",
       "       1.17488790e+00, 5.45290743e+00, 4.71614691e+00, 3.27038764e+00,\n",
       "       3.17147755e+00, 1.12878774e+00, 1.90260889e-01, 4.45730153e+00,\n",
       "       2.27231116e+00, 4.19956080e-01, 3.78629242e+00, 2.59966541e+00,\n",
       "       1.76524923e+00, 1.54970669e-01, 3.26285389e+00, 1.95450590e+00,\n",
       "       3.82553447e-01, 7.51662897e+00, 1.36726372e-01, 2.07354677e+00,\n",
       "       2.91170074e-01, 2.38711113e-01, 9.47369807e-01, 2.37834637e+00,\n",
       "       2.19311226e+00, 3.18816769e+00, 1.98451206e+00, 3.47195317e+00,\n",
       "       4.65368152e+00, 2.21474686e-01, 2.36487497e-02, 1.17403227e+00,\n",
       "       2.66182821e+00, 2.95375414e+00, 3.90974019e-02, 6.23532913e+00,\n",
       "       4.02209884e+00, 2.61244858e-01, 1.95365718e+00, 6.82896567e-01,\n",
       "       5.68137928e-01, 1.37068527e+00, 6.34491366e-01, 1.06158320e+00,\n",
       "       1.58177042e+00, 1.02309298e+00, 4.66462663e-02, 1.68885576e+00,\n",
       "       8.28391815e-01, 4.25689222e-01, 7.29076125e-01, 2.93103862e+00,\n",
       "       4.76033125e+00, 3.64821606e+00, 2.05476936e+00, 1.24140825e+00,\n",
       "       2.99443829e+00, 5.03612888e+00, 4.78895815e+00, 7.63486302e-01,\n",
       "       6.49575746e-01, 2.60868359e+00, 4.27639505e-01, 1.00897814e+00,\n",
       "       1.52055846e+00, 1.70504726e-02, 1.32256812e+00, 7.32310127e-02,\n",
       "       3.06671909e+00, 1.98388314e+00, 4.55403727e-01, 4.07279023e+00,\n",
       "       1.84930410e+00, 2.92485749e-01, 3.64098187e+00, 1.57058438e-01,\n",
       "       4.75272472e+00, 2.30866238e+00, 3.49860727e+00, 7.50119353e-01,\n",
       "       5.28219586e-01, 2.17559252e-01, 8.41480500e-01, 1.84732286e+00,\n",
       "       9.79055842e-01, 5.02222370e-01, 1.06935901e-01, 2.73417796e+00,\n",
       "       1.90641390e-01, 7.24778945e-01, 9.17507640e-01, 5.01598981e-01,\n",
       "       2.55008747e-01, 1.45904962e+00, 5.04882604e-01, 1.99931532e+00,\n",
       "       1.41784936e+00, 2.85889574e+00, 9.34776227e-01, 3.89278399e+00,\n",
       "       1.62735141e+00, 9.10015063e-01, 4.60665628e-02, 4.00386039e-01,\n",
       "       4.53715783e+00, 8.96251532e-01, 1.15431323e-01, 2.48485379e-01,\n",
       "       6.16166269e-01, 2.53993265e-01, 7.00463729e-01, 1.52769012e+00,\n",
       "       1.95142678e+00, 1.49314711e+00, 2.64221224e+00, 4.28724139e-01,\n",
       "       3.69342016e+00, 1.10495123e+01, 1.72893424e+00, 6.67369737e-01,\n",
       "       4.99828460e-01, 4.28894641e+00, 1.00220196e+00, 2.18010896e+00,\n",
       "       3.19031787e+00, 5.34342518e+00, 2.28020728e+00, 7.25641449e-01,\n",
       "       4.39755276e-02, 2.07808837e+00, 5.44844703e-01, 3.84412104e+00,\n",
       "       1.83025967e+00, 2.10509430e+00, 2.12967066e-01, 8.22606453e-01,\n",
       "       1.85657377e+00, 1.46153153e+00, 1.55829047e+00, 1.38245847e+00,\n",
       "       1.33596374e+00, 3.00731977e+00, 8.18490134e-01, 3.81927045e-01,\n",
       "       7.42993530e+00, 2.44877070e-01, 1.21074080e+00, 9.62362806e-01,\n",
       "       7.41066681e-01, 2.15704453e-01, 3.71918790e-02, 1.11340775e+00,\n",
       "       7.59279446e+00, 6.41355339e-01, 7.93309444e-01, 3.80858490e+00,\n",
       "       8.42046593e-02, 2.52872250e+00, 2.82590178e-01, 3.45977401e+00,\n",
       "       6.99487517e+00, 1.24340262e+00, 1.75747153e+00, 5.44705815e-01,\n",
       "       3.75711604e+00, 4.61558642e-01, 4.20800563e-01, 2.09721828e+00,\n",
       "       1.23299812e+00, 6.19583532e-01, 1.02250750e+00, 2.55124994e-02,\n",
       "       1.20971739e+00, 1.32906813e+00, 1.75544233e+00, 6.45879371e-01,\n",
       "       1.88257990e+00, 2.95420838e+00, 3.66657574e+00, 5.40895611e+00,\n",
       "       3.94795168e+00, 8.72284351e-01, 2.90862898e+00, 1.63290352e+00,\n",
       "       1.19235870e+00, 7.74149624e-01, 1.90620282e+00, 3.27335653e+00,\n",
       "       5.09753927e+00, 2.43126576e+00, 8.26518669e-01, 4.62362038e+00,\n",
       "       1.58988466e+00, 3.52807337e+00, 4.41293295e-01, 3.89934581e-01,\n",
       "       3.49016786e+00, 1.99561343e+00, 5.77495608e-01, 1.23766377e+00,\n",
       "       5.05579968e-01, 2.02835241e+00, 2.47580490e+00, 3.87332902e+00,\n",
       "       6.86910668e-01, 4.33575240e-01, 3.52286495e+00, 4.10448584e+00,\n",
       "       1.48277707e+00, 5.60484426e-01, 3.60168486e+00, 8.96410049e-01,\n",
       "       2.94860251e+00, 4.41411272e-01, 3.45814092e+00, 1.24426988e-01,\n",
       "       2.72280695e+00, 5.93051463e-01, 1.80276783e+00, 2.61726293e+00,\n",
       "       2.06503788e+00, 3.96162236e-01, 3.04198414e+00, 2.96573851e+00,\n",
       "       2.77696093e+00, 1.61478159e+00, 3.47673135e+00, 7.66726111e-01,\n",
       "       1.50690687e+00, 8.30594561e-01, 2.60871091e-01, 1.23420680e+01,\n",
       "       8.38711847e-01, 1.82699731e-01, 1.31250316e+00, 3.58833375e+00,\n",
       "       2.95520118e+00, 8.15378364e-01, 2.09448429e+00, 8.84005423e-01,\n",
       "       1.88267356e+00, 3.58587520e+00, 5.07873626e-01, 1.39767391e+00,\n",
       "       1.28662617e+00, 1.64087300e-01, 9.84950925e-01, 2.79190896e+00,\n",
       "       3.13850494e+00, 2.60536414e+00, 4.86888293e-01, 4.95725186e+00,\n",
       "       2.84432851e+00, 4.25337410e+00, 2.80241875e-01, 5.34706325e-01,\n",
       "       3.76736178e+00, 6.79360707e-02, 4.33059967e+00, 1.47836254e+00,\n",
       "       1.98593124e+00, 3.79892320e+00, 5.39331647e+00, 1.19325239e-01,\n",
       "       1.06209318e+00, 1.96653629e+00, 5.94508076e+00, 1.52891006e+00,\n",
       "       6.10617397e-01, 7.02185502e+00, 1.50068452e+00, 5.41978203e+00,\n",
       "       3.16581313e-01, 1.96030957e+00, 8.45975279e-01, 3.18069785e+00,\n",
       "       2.87132972e+00, 2.20006383e+00, 4.53844422e+00, 2.59825556e+00,\n",
       "       3.07136259e-01, 5.40515525e-01, 1.59339562e+00, 1.81411099e+00,\n",
       "       5.19345010e+00, 1.88923201e+00, 3.32803597e+00, 3.90015728e+00,\n",
       "       1.04900009e+00, 4.86868321e+00, 4.58870042e-01, 3.51096169e+00,\n",
       "       1.19462634e-01, 4.02773426e+00, 7.16746259e+00, 2.53112181e+00,\n",
       "       2.37078618e+00, 1.26773084e+00, 7.66051611e+00, 4.08151058e-01,\n",
       "       1.10338439e+00, 1.36655274e+00, 1.19849515e+01, 1.75916487e+00,\n",
       "       4.14639374e+00, 7.37003776e+00, 2.23605527e+00, 1.93096627e+00,\n",
       "       1.67760956e+00, 5.63721183e-01, 1.01003537e+00, 1.05647000e+00,\n",
       "       1.35559513e+00, 8.22985478e-01, 2.43364675e+00, 5.90867080e-01,\n",
       "       2.48666977e+00, 1.19044048e+00, 4.58184533e+00, 1.23384741e-01,\n",
       "       2.58267040e+00, 1.26055948e+00, 7.49914538e-01, 2.51801196e+00,\n",
       "       2.09359199e+00, 1.28556345e-01, 8.13690150e-01, 6.48185796e-01,\n",
       "       5.09319328e-01, 4.44303099e-01, 9.89999689e-01, 1.21731338e+00,\n",
       "       4.06246632e-01, 2.61339630e+00, 1.21587729e-01, 1.93737914e+00,\n",
       "       5.89350131e-01, 4.15904101e-01, 4.34567144e-01, 4.86776285e-01,\n",
       "       1.94691840e+00, 1.31327625e+00, 5.94241893e-01, 3.38907831e+00,\n",
       "       3.14090049e+00, 1.52236430e+00, 2.43229913e+00, 8.19289358e-01,\n",
       "       3.36212934e+00, 5.97947615e+00, 9.93974030e-01, 5.55746622e-01,\n",
       "       2.64359234e+00, 6.16222206e-02, 3.11043785e+00, 8.10681118e-02,\n",
       "       1.33102736e+00, 1.17193406e+00, 4.83109157e+00, 1.11529187e-01,\n",
       "       2.34125914e+00, 1.17385803e+00, 2.52606556e+00, 2.95704666e+00,\n",
       "       7.08096316e-01, 7.69854825e-01, 3.12933118e-01, 1.78969358e+00,\n",
       "       1.55131868e+00, 9.05363553e-01, 1.24786547e+00, 8.74394389e-01,\n",
       "       4.26363600e-01, 3.00246298e+00, 4.93576648e-01, 9.38160255e-01,\n",
       "       2.11714922e+00, 2.24828473e-01, 1.11192704e+00, 2.11938380e+00,\n",
       "       8.63690673e-02, 2.70068031e+00, 3.36296272e+00, 4.12164581e-02,\n",
       "       1.56248352e+00, 2.79001345e+00, 1.88161586e-02, 1.94341793e+00,\n",
       "       1.81067021e+00, 2.15039294e+00, 5.85451527e-02, 7.59505608e-01,\n",
       "       3.97887202e+00, 1.07149286e+00, 1.26285374e+00, 2.41498192e-01,\n",
       "       6.13973617e+00, 1.49999709e+00, 2.56372619e+00, 4.18318171e+00,\n",
       "       4.12755070e+00, 5.60746396e+00, 3.89959414e+00, 3.31612531e+00,\n",
       "       4.59885679e+00, 6.31596715e-01, 3.46574552e+00, 7.86385244e-01,\n",
       "       1.29708599e+00, 3.45219511e-01, 5.50233450e-01, 9.30690633e-01,\n",
       "       1.35766342e+00, 2.90444117e+00, 4.72270723e-01, 7.70428473e-01,\n",
       "       3.96272651e-01, 5.63411729e+00, 5.65982471e+00, 2.78480542e-01,\n",
       "       2.44778921e+00, 5.16910677e-01, 4.85455873e+00, 3.20470347e+00,\n",
       "       3.93492791e+00, 4.84233404e+00, 1.47070475e+00, 8.02584953e-01,\n",
       "       3.86309117e+00, 8.49272372e-01, 1.96454035e+00, 9.52516064e+00,\n",
       "       1.46453396e+00, 7.85013640e-02, 2.11671833e+00, 1.22056770e+00,\n",
       "       6.31156230e+00, 1.35730997e+00, 1.73919619e-01, 2.98121891e+00,\n",
       "       4.11948713e-01, 1.25893759e+00, 1.49442525e+00, 2.94918227e+00,\n",
       "       4.28683494e+00, 4.91773001e-01, 5.16796595e-01, 5.84928032e-01,\n",
       "       4.55965805e-01, 1.61861768e+00, 1.23963249e+00, 4.55788658e+00,\n",
       "       4.39589714e-01, 5.46983026e+00, 2.34888625e+00, 1.33707068e+00,\n",
       "       1.04569461e+00, 2.86837943e+00, 2.54392529e+00, 1.99303976e+00,\n",
       "       4.34999965e-01, 1.97611654e-01, 1.12196074e+00, 4.30222797e+00,\n",
       "       1.29902168e+00, 1.20946293e-01, 2.35525971e-01, 5.40575709e+00,\n",
       "       2.73698652e-01, 2.87513617e-01, 1.14237475e+00, 3.87263972e+00,\n",
       "       2.50777827e+00, 5.34931554e-01, 1.97093500e+00, 4.32008461e+00,\n",
       "       9.46108368e-01, 7.55979649e-01, 5.69577912e+00, 1.68182595e+00,\n",
       "       2.00078832e-01, 2.85929534e-01, 1.12417680e+00, 3.42126896e+00,\n",
       "       2.45615463e-01, 2.68141332e+00, 2.59584779e+00, 2.28343572e-01,\n",
       "       1.19610969e+00, 7.66844345e-01, 1.17342967e+00, 1.53974714e+00,\n",
       "       1.60801218e-01, 2.09772813e+00, 6.48439117e-02, 2.45331720e+00,\n",
       "       6.32692673e-04, 2.27485190e+00, 3.11562334e-01, 6.02949081e-01,\n",
       "       5.25315627e+00, 7.40839793e-01, 1.12652405e-01, 5.52686605e+00,\n",
       "       2.95474418e+00, 9.47367778e-01, 3.33559288e+00, 2.83348323e+00,\n",
       "       4.75608593e-01, 2.65762482e+00, 2.98897237e+00, 1.53341550e+00,\n",
       "       7.24022899e-01, 4.64070357e-01, 2.54235257e+00, 3.76454126e+00,\n",
       "       1.33767965e+00, 2.31096076e+00, 3.09301560e+00, 2.06198018e+00,\n",
       "       5.72106552e-02, 1.01870919e+00, 2.86417269e+00, 1.39890068e+00,\n",
       "       3.05053323e+00, 1.15601728e+00, 3.04618435e-01, 4.15755750e+00,\n",
       "       3.90433276e-01, 6.04044880e+00, 6.29638838e+00, 2.03248930e+00,\n",
       "       2.88246182e+00, 3.28369629e-01, 4.95682425e-01, 1.42639968e+00,\n",
       "       1.86778337e+00, 1.07097045e+00, 6.84169588e-01, 3.76122760e+00,\n",
       "       3.57714721e+00, 2.83014146e+00, 8.03782622e-01, 1.63965629e+00,\n",
       "       4.23542985e+00, 1.32776187e+00, 1.19738726e+00, 1.01408358e-01,\n",
       "       1.82399351e-01, 1.16924238e+00, 8.82106424e-01, 3.06637903e-01,\n",
       "       5.49520412e-01, 1.26844978e+00, 1.70325219e+00, 1.64531589e+00,\n",
       "       4.75987386e-01, 9.35627087e-01, 7.46231312e-01, 1.88522633e-01,\n",
       "       3.01228417e+00, 4.75278727e-01, 1.72393444e+00, 3.48076254e+00,\n",
       "       2.21877580e+00, 2.15254444e+00, 1.54081218e+00, 1.34275265e+00,\n",
       "       3.11133126e+00, 2.23434946e+00, 2.89994231e+00, 2.08966005e+00,\n",
       "       1.81916435e+00, 2.87810522e+00, 1.18613040e+00, 1.33304367e+00,\n",
       "       9.70870506e-01, 1.94662687e+00, 4.30590590e-01, 3.72757636e-01,\n",
       "       1.77368487e+00, 8.97351947e-01, 2.00921370e-01, 1.83357447e+00,\n",
       "       1.02500937e+00, 3.11521167e-01, 1.35279581e+00, 8.48064229e-01,\n",
       "       2.75311313e+00, 7.82046063e-01, 4.78602521e-02, 1.33812864e+00,\n",
       "       2.87861812e+00, 2.18565101e+00, 6.13257759e+00, 2.30166729e+00,\n",
       "       8.09834676e-01, 1.05759865e+00, 1.36207348e+00, 7.24221932e-01,\n",
       "       4.79379322e-01, 1.94895197e-02, 4.20814304e+00, 4.21954500e-01,\n",
       "       9.19878063e-02, 1.06178488e+00, 3.80330958e+00, 1.93739533e+00,\n",
       "       3.75534223e+00, 5.81720380e-01, 2.33141800e+00, 2.84118757e-01])"
      ]
     },
     "execution_count": 102,
     "metadata": {},
     "output_type": "execute_result"
    }
   ],
   "source": [
    "x = np.random.exponential(scale=2, size=1000)\n",
    "x"
   ]
  },
  {
   "cell_type": "code",
   "execution_count": 103,
   "id": "7ff129d4",
   "metadata": {
    "ExecuteTime": {
     "end_time": "2023-07-18T07:31:02.437582Z",
     "start_time": "2023-07-18T07:31:02.205207Z"
    }
   },
   "outputs": [
    {
     "data": {
      "image/png": "[encoded data removed]",
      "text/plain": [
       "<Figure size 640x480 with 1 Axes>"
      ]
     },
     "metadata": {},
     "output_type": "display_data"
    }
   ],
   "source": [
    "sns.histplot(x=x, bins=30)\n",
    "plt.show()"
   ]
  },
  {
   "cell_type": "markdown",
   "id": "9bd67556",
   "metadata": {},
   "source": [
    "### 카이제곱 분포 chi-square distribution"
   ]
  },
  {
   "cell_type": "code",
   "execution_count": 104,
   "id": "81f354a9",
   "metadata": {
    "ExecuteTime": {
     "end_time": "2023-07-18T07:36:44.895349Z",
     "start_time": "2023-07-18T07:36:44.856453Z"
    }
   },
   "outputs": [
    {
     "data": {
      "text/plain": [
       "array([1.26628418e+00, 4.61054141e+00, 2.98811916e+00, 2.37869099e+00,\n",
       "       1.24839787e+00, 8.01215759e-01, 4.15720705e-01, 2.94947241e+00,\n",
       "       4.80552245e-01, 2.41856936e+00, 4.52157191e+00, 2.82500821e+00,\n",
       "       5.22950836e+00, 4.29180237e+00, 7.88043754e+00, 2.88870126e+00,\n",
       "       1.36138962e+01, 1.28752553e+00, 3.65082252e-01, 3.10272770e+00,\n",
       "       1.13613095e+00, 1.28293481e+00, 3.78946779e-01, 3.55111729e+00,\n",
       "       3.05685343e-01, 6.96584577e-01, 4.08577157e+00, 8.13790544e+00,\n",
       "       8.06034620e+00, 1.80350985e+00, 3.82476754e+00, 3.32817488e+00,\n",
       "       6.93796544e+00, 1.23939604e+00, 3.60111633e+00, 1.13367951e+00,\n",
       "       1.28117567e+00, 6.42664471e+00, 5.62561201e-01, 2.06028769e+00,\n",
       "       6.97176891e-01, 4.82229796e+00, 2.34977392e+00, 4.16400194e+00,\n",
       "       2.65087087e+00, 3.79932703e-01, 1.61667001e+00, 5.53901942e+00,\n",
       "       4.90965094e+00, 1.01066669e+01, 2.83611852e+00, 1.62210203e+00,\n",
       "       2.06686586e+00, 3.13218265e+00, 2.93496964e+00, 4.25032152e+00,\n",
       "       2.67168621e+00, 2.33069801e-01, 9.82472968e+00, 9.18489620e-01,\n",
       "       2.89114278e+00, 7.71366595e-01, 1.33165784e+00, 7.03760466e+00,\n",
       "       3.26450840e+00, 1.92959311e+00, 4.81506805e+00, 2.39362985e+00,\n",
       "       9.39434953e-01, 3.15709627e+00, 2.92929939e+00, 1.77073483e+00,\n",
       "       1.37614618e+00, 2.68289215e+00, 2.73709247e+00, 4.58810431e+00,\n",
       "       2.32913453e+00, 9.75050494e-01, 2.32336433e+00, 7.23856300e-01,\n",
       "       3.73151397e+00, 2.66508592e+00, 2.48997116e+00, 1.64380368e+00,\n",
       "       5.20295818e+00, 3.25871673e+00, 3.67825837e+00, 6.17167073e+00,\n",
       "       3.89761253e+00, 3.57194186e+00, 3.69317323e+00, 2.58324064e+00,\n",
       "       5.79287747e+00, 4.96136031e+00, 1.62742999e+00, 8.48976712e-01,\n",
       "       1.20027813e+00, 5.22781415e+00, 1.06039781e+00, 5.53504300e-01,\n",
       "       6.92730861e+00, 1.49364365e+00, 3.41586758e-01, 5.14470454e+00,\n",
       "       1.25594281e+01, 1.64464824e+00, 1.38781985e+00, 2.30202670e+00,\n",
       "       4.06586906e+00, 8.91416916e-01, 1.45148946e+00, 5.49008761e+00,\n",
       "       8.40866855e+00, 4.27047445e-01, 2.25037033e+00, 3.72150990e+00,\n",
       "       1.94014503e+00, 1.40996095e+00, 6.68609270e+00, 2.71057036e+00,\n",
       "       1.52044763e+00, 1.69987616e+00, 3.67644362e+00, 1.01266065e+00,\n",
       "       4.14647688e+00, 3.82746249e+00, 1.75401121e+00, 6.89850158e-01,\n",
       "       2.94144908e+00, 5.20457965e+00, 2.12956382e+00, 2.57612274e-01,\n",
       "       3.42159547e+00, 4.74726611e+00, 8.52236719e+00, 1.57739388e+00,\n",
       "       2.32918511e+00, 3.77281980e+00, 1.20262385e+00, 4.25968381e+00,\n",
       "       3.85019349e+00, 1.20486554e+00, 2.72945705e-01, 1.62865168e+00,\n",
       "       7.94818181e+00, 3.82208747e+00, 6.20017634e+00, 1.32277803e+00,\n",
       "       3.73634219e+00, 5.49605180e-01, 4.45591272e+00, 2.26199472e+00,\n",
       "       2.15305170e+00, 2.26127178e+00, 5.06707089e+00, 4.16500185e+00,\n",
       "       1.01273643e+01, 4.74941305e-01, 2.86319306e+00, 5.26717763e+00,\n",
       "       4.17987863e+00, 3.62919554e+00, 2.47290815e+00, 2.68128720e+00,\n",
       "       9.43195851e-01, 2.66415616e+00, 1.63069094e+01, 3.82958156e+00,\n",
       "       2.97603960e+00, 6.07977849e-01, 7.97975583e+00, 4.20013658e+00,\n",
       "       2.75406782e+00, 3.31880730e+00, 5.34497264e-01, 2.35695590e+00,\n",
       "       1.46511404e+00, 5.56303348e+00, 1.20592131e+00, 1.90506359e+00,\n",
       "       3.51882341e+00, 1.22071910e+00, 2.68532858e+00, 3.23625543e+00,\n",
       "       5.52577396e+00, 1.18842443e+00, 7.80150529e-01, 1.78353871e+00,\n",
       "       3.24272301e+00, 2.83456318e+00, 5.47194983e+00, 4.47181519e+00,\n",
       "       1.46030350e+01, 7.95103471e-01, 4.11537286e+00, 1.91373687e+00,\n",
       "       2.35100673e+00, 1.54714446e+00, 5.41059094e+00, 5.22205645e+00,\n",
       "       2.80187277e+00, 7.94909404e+00, 7.10758111e-01, 3.30572541e+00,\n",
       "       4.13996507e+00, 2.93145791e+00, 6.03554355e+00, 5.95430563e+00,\n",
       "       1.56331540e+00, 5.83801509e-02, 3.37796235e+00, 7.43003709e+00,\n",
       "       3.28779053e+00, 3.93398363e+00, 1.44850932e+00, 2.23328160e+00,\n",
       "       1.51553053e+00, 3.44686777e+00, 3.95037930e+00, 5.89042435e+00,\n",
       "       8.38286110e-01, 2.86177713e+00, 3.49329885e+00, 2.23205872e+00,\n",
       "       2.69800424e+00, 2.92512242e-01, 6.32617242e-01, 1.83729497e+00,\n",
       "       1.61363389e+00, 5.22051401e+00, 1.46860444e+00, 6.89784534e+00,\n",
       "       4.01809944e+00, 4.31279522e+00, 1.37541035e+00, 3.43006672e+00,\n",
       "       8.44444581e+00, 3.64897081e+00, 7.15764317e-01, 1.49273297e+00,\n",
       "       1.62485154e+00, 3.20125721e+00, 7.25526465e+00, 3.59611239e+00,\n",
       "       1.55525617e+00, 7.25753248e+00, 2.19330067e+00, 3.66987398e+00,\n",
       "       2.55577797e+00, 4.96243936e+00, 5.97442605e+00, 6.47906097e+00,\n",
       "       2.97768890e+00, 6.85612327e+00, 6.57515530e-01, 1.04785311e+00,\n",
       "       4.70133203e+00, 3.01489093e+00, 4.99165017e+00, 1.15593737e+00,\n",
       "       1.46225812e+00, 3.48775828e+00, 2.23718036e+00, 8.50226549e-01,\n",
       "       4.81981768e+00, 1.49964872e+00, 4.67274642e-01, 2.05214509e+00,\n",
       "       4.61627366e+00, 4.21286083e+00, 1.21307825e+00, 8.54696859e-01,\n",
       "       1.49707162e+00, 7.63939976e+00, 3.53485945e+00, 4.88154767e+00,\n",
       "       7.17575192e+00, 2.37794836e+00, 9.92074097e-01, 1.53186755e+00,\n",
       "       2.41755746e+00, 5.42796165e-01, 9.33882569e+00, 3.71625182e+00,\n",
       "       1.46543113e+00, 5.42486932e+00, 3.45814758e+00, 2.03644052e-01,\n",
       "       3.47943519e+00, 6.80115466e+00, 3.82808540e+00, 1.86567933e+00,\n",
       "       1.05433804e+00, 2.66733484e+00, 1.12019871e+00, 1.18308260e+00,\n",
       "       3.36090081e+00, 7.96611110e-01, 1.66732164e+00, 8.81421025e-01,\n",
       "       2.88942091e+00, 1.62821324e+00, 9.36018201e-01, 1.23362286e+00,\n",
       "       1.97124027e+00, 1.76283055e+00, 7.44114293e+00, 3.43466735e+00,\n",
       "       8.00943785e+00, 2.75533444e+00, 4.35359078e+00, 1.75300670e+00,\n",
       "       4.26224142e+00, 1.25980636e+00, 3.75813176e+00, 7.38594042e-01,\n",
       "       1.17761020e+01, 4.63525825e+00, 5.65928014e+00, 2.74736972e+00,\n",
       "       3.05858622e+00, 1.86552040e+00, 9.42855892e+00, 7.86627400e-01,\n",
       "       3.83183435e+00, 6.01486933e+00, 7.36943750e+00, 4.06354195e+00,\n",
       "       3.89536164e-01, 2.68528885e+00, 5.09387569e+00, 1.02179635e+00,\n",
       "       4.97738061e-01, 4.66981255e-01, 2.94779101e+00, 1.79176921e+00,\n",
       "       7.46177211e+00, 1.72793785e+00, 3.67881585e-01, 1.71424316e+00,\n",
       "       4.34879576e+00, 2.39011846e+00, 8.50426192e-01, 1.13070945e+00,\n",
       "       7.98631272e+00, 3.34818256e-02, 1.25420400e+00, 3.53530971e+00,\n",
       "       9.03807741e-01, 3.88188970e+00, 4.41891912e+00, 9.35391283e-01,\n",
       "       5.90630664e-01, 2.46956346e+00, 6.98332270e+00, 2.66640410e-01,\n",
       "       2.66258198e-01, 1.69426628e+00, 2.37358447e+00, 4.67505000e-01,\n",
       "       5.68493292e-01, 3.44448462e+00, 2.17480063e+00, 6.00225467e+00,\n",
       "       2.46163418e-01, 1.60382258e-01, 1.59305216e+00, 5.57279442e+00,\n",
       "       2.81089528e+00, 2.79281358e+00, 6.09482490e-01, 7.70151462e-01,\n",
       "       3.61630905e+00, 3.24451198e+00, 1.67012594e+00, 1.44517851e+00,\n",
       "       3.49098891e-01, 7.20049120e-01, 2.20055087e+00, 1.04691571e+00,\n",
       "       6.33522613e-01, 2.44461497e+00, 2.33757151e+00, 1.22735738e+00,\n",
       "       2.75709637e+00, 9.16951785e-01, 1.90097626e-01, 1.00050100e+00,\n",
       "       1.68932584e+00, 3.71642198e+00, 4.83293782e+00, 1.52272471e+01,\n",
       "       4.00616448e+00, 8.75427637e-01, 3.09273507e+00, 3.72531710e+00,\n",
       "       2.33184148e+00, 8.93931837e+00, 1.56098886e+00, 2.35212897e-01,\n",
       "       1.55769491e+00, 4.25019032e+00, 5.44895681e+00, 3.12105846e+00,\n",
       "       1.92520763e+00, 6.14209936e+00, 5.13434225e+00, 1.32393551e+00,\n",
       "       3.21962524e+00, 2.61947413e+00, 3.33598588e+00, 2.85484565e+00,\n",
       "       7.09229539e-01, 6.09452487e+00, 2.53754853e+00, 7.16067951e+00,\n",
       "       3.31505469e+00, 1.08540836e-01, 8.59089940e-01, 4.84791530e+00,\n",
       "       2.22055719e+00, 2.41114202e+00, 1.88176730e+00, 1.54007121e-01,\n",
       "       1.63750901e+00, 3.66096337e-01, 1.98979007e+00, 5.51133394e+00,\n",
       "       1.95066633e+00, 4.50372915e+00, 5.65468638e+00, 3.47115042e+00,\n",
       "       8.97070419e-01, 2.97993241e+00, 1.93334230e+00, 6.56351520e+00,\n",
       "       7.12541733e+00, 1.33456114e+00, 2.23847637e+00, 1.01962589e+00,\n",
       "       4.53543212e-01, 3.75323261e+00, 9.77776706e+00, 7.95139205e-01,\n",
       "       1.65873908e+00, 6.08228377e-01, 1.70906223e+00, 5.19065162e+00,\n",
       "       4.16092896e+00, 7.74528112e-01, 2.80555833e+00, 2.27063973e+00,\n",
       "       1.24912426e+00, 2.41101683e+00, 1.53756308e+00, 9.86624063e-01,\n",
       "       2.90181945e+00, 1.82461099e+00, 3.55951500e+00, 1.46169763e+00,\n",
       "       1.31964989e+00, 1.04500857e-02, 2.64294682e+00, 2.16000565e+00,\n",
       "       2.71095725e+00, 9.21511662e+00, 3.85502620e+00, 2.81700107e+00,\n",
       "       3.37820508e-01, 1.34934623e+01, 9.56180087e+00, 2.07742856e+00,\n",
       "       3.16566769e+00, 5.57207526e+00, 4.15650969e+00, 1.50695745e+00,\n",
       "       1.10335042e+01, 2.23214282e+00, 3.51923937e+00, 1.26867201e+00,\n",
       "       3.53676619e+00, 3.81665353e+00, 2.41641883e+00, 1.81517720e+00,\n",
       "       9.78164367e-01, 1.83566080e+00, 1.44047587e+00, 3.92375949e+00,\n",
       "       1.20002844e+00, 5.53679565e-01, 4.02431645e+00, 1.28635600e+00,\n",
       "       4.88411051e-01, 2.02384829e+00, 6.23405095e+00, 1.58159497e+00,\n",
       "       3.42766314e+00, 5.82834199e-01, 1.96277933e+00, 2.71458904e+00,\n",
       "       3.49719323e+00, 2.04868835e+00, 4.75422505e+00, 1.94680356e+00,\n",
       "       1.47590060e+00, 2.10464751e+00, 3.81768930e-01, 5.57105077e-01,\n",
       "       8.29558482e+00, 1.58042890e+00, 4.49820660e+00, 1.00475701e+00,\n",
       "       3.36940136e-01, 2.26400585e+00, 1.12688487e+00, 1.49426883e+00,\n",
       "       5.82304860e+00, 4.03675274e-01, 6.56698444e+00, 2.27807116e+00,\n",
       "       1.76866018e+00, 1.66760964e-01, 2.16534583e+00, 2.14560484e+00,\n",
       "       5.61915411e+00, 2.75452057e+00, 3.98667596e+00, 6.04658368e+00,\n",
       "       2.80547776e+00, 5.18335806e-01, 1.11202038e+00, 3.72889959e+00,\n",
       "       2.09117168e+00, 7.42889861e-01, 3.34382824e+00, 1.31854484e+00,\n",
       "       3.01799675e+00, 2.56956351e+00, 5.53976898e-01, 1.34393002e+00,\n",
       "       1.38436678e+00, 2.81024153e+00, 2.45161309e+00, 2.15427076e+00,\n",
       "       1.51655706e+00, 1.50201258e+00, 3.18396709e+00, 3.26586391e+00,\n",
       "       2.28324540e+00, 2.49483924e+00, 1.15492965e+00, 2.29894669e+00,\n",
       "       3.25213682e-01, 8.73638943e-01, 1.89598662e+00, 5.94876030e-01,\n",
       "       1.55355613e+00, 3.78396011e+00, 2.69976239e+00, 7.80434988e-01,\n",
       "       1.73304806e+00, 2.52192807e+00, 4.71349926e+00, 2.03410222e+00,\n",
       "       2.65725134e+00, 3.34484387e+00, 8.30661104e-01, 6.97236523e-02,\n",
       "       8.03625664e-01, 8.89537215e-01, 2.69054720e+00, 7.31637259e-02,\n",
       "       2.22930841e+00, 9.35455713e+00, 7.54035631e+00, 4.06904221e+00,\n",
       "       3.56820919e+00, 5.49185765e+00, 1.35150135e+00, 1.13689513e+00,\n",
       "       4.04302874e+00, 9.55745146e+00, 4.35492596e+00, 8.43738445e+00,\n",
       "       3.07319527e+00, 3.82902488e+00, 5.81717775e+00, 2.70673195e+00,\n",
       "       5.46649222e+00, 1.56839602e+00, 4.63611854e-01, 2.18977862e+00,\n",
       "       2.05214747e+00, 2.42911494e+00, 4.73442066e+00, 8.32934628e-01,\n",
       "       6.50407746e-01, 2.61696410e-01, 7.74678221e-01, 9.97521493e-01,\n",
       "       1.16994933e+00, 5.41156323e+00, 1.99137040e+00, 6.22156185e+00,\n",
       "       9.26809231e-01, 2.08731123e+00, 4.99845412e+00, 1.72826249e+00,\n",
       "       2.76937914e+00, 4.72896154e+00, 4.38024098e+00, 5.15447982e-01,\n",
       "       5.82468285e+00, 4.31367490e+00, 2.13800530e+00, 7.45868816e-01,\n",
       "       3.38059972e-01, 4.30377053e+00, 9.70581103e-01, 3.23528983e-01,\n",
       "       2.01139142e+00, 1.24515925e+00, 4.49001818e+00, 6.06708737e+00,\n",
       "       2.06726686e+00, 7.12457462e+00, 7.05865079e-01, 8.38260859e+00,\n",
       "       1.16055922e+01, 3.03373727e+00, 2.27685612e-01, 7.25399317e-01,\n",
       "       1.55185778e+00, 1.03240566e+00, 1.24788258e+00, 2.48799019e-01,\n",
       "       1.17124686e+00, 2.18587853e+00, 2.23959067e-01, 1.18641196e+00,\n",
       "       2.24363239e+00, 4.86188820e+00, 6.66769797e+00, 1.67420117e+00,\n",
       "       3.48830904e+00, 7.07927060e+00, 1.39458269e+01, 4.14088146e+00,\n",
       "       1.06263682e+00, 4.32585947e+00, 1.19362876e+00, 1.19741804e+00,\n",
       "       3.28025953e+00, 4.24499807e+00, 1.83208381e+00, 5.01148301e-01,\n",
       "       2.66977543e+00, 4.64006122e+00, 2.79668631e+00, 5.46952971e-01,\n",
       "       7.80939136e+00, 2.48001064e+00, 3.49764007e+00, 2.03274170e+00,\n",
       "       3.04244524e-01, 1.40460319e+00, 6.33588250e+00, 1.06729531e+00,\n",
       "       4.15639797e+00, 2.53304814e-01, 3.36437044e-01, 6.33913629e+00,\n",
       "       3.28994036e+00, 6.59777077e+00, 2.83564706e+00, 4.04577767e+00,\n",
       "       2.02197420e-01, 1.61616179e+00, 8.72470375e+00, 1.09003005e+00,\n",
       "       1.85384803e-01, 2.51151137e-01, 1.65511057e+00, 3.97732622e+00,\n",
       "       6.81157224e-01, 5.21716118e-01, 4.70289309e+00, 7.38607327e+00,\n",
       "       4.44674734e+00, 1.22338280e+00, 2.29749737e+00, 2.27116083e+00,\n",
       "       1.38628943e+00, 2.25424457e+00, 3.71844094e+00, 1.17186278e+00,\n",
       "       2.64948193e+00, 1.70794184e-01, 2.23923780e+00, 2.35940961e+00,\n",
       "       1.98083698e+00, 4.49659963e+00, 6.40960222e+00, 1.19693521e+00,\n",
       "       2.02435692e-01, 1.64873998e+00, 4.55406932e+00, 1.95366120e+00,\n",
       "       9.97597191e-01, 2.31287670e+00, 5.88656713e-01, 7.13566581e+00,\n",
       "       2.65353749e+00, 4.33456367e+00, 2.61282619e-01, 3.38550394e-01,\n",
       "       3.57902476e+00, 5.59651217e+00, 2.00805505e+00, 4.77877478e-01,\n",
       "       1.76712166e+00, 6.66424647e-01, 1.37107170e+00, 5.67861673e+00,\n",
       "       8.98612083e+00, 6.02589729e+00, 1.92779072e+00, 3.23137031e+00,\n",
       "       7.13382759e+00, 1.96250797e+00, 3.05659679e+00, 2.57986052e+00,\n",
       "       5.70733592e+00, 2.18953916e+00, 1.62167602e+00, 2.35364431e+00,\n",
       "       1.14209064e+00, 7.78905350e-01, 7.08217858e-01, 1.13690081e+00,\n",
       "       4.77089476e+00, 7.86071963e+00, 2.01314837e+00, 3.12016685e+00,\n",
       "       4.82693826e+00, 2.20842131e+00, 1.42149733e+00, 1.13705234e+00,\n",
       "       3.68260990e+00, 6.33726346e+00, 1.33353203e+01, 2.69789017e+00,\n",
       "       8.31387335e+00, 2.46636063e+00, 1.02980686e+00, 1.37802707e+00,\n",
       "       1.13526547e+00, 1.65850305e+01, 2.96308966e+00, 3.81389993e+00,\n",
       "       2.66229520e+00, 1.01930040e+00, 6.26527156e+00, 3.39943536e+00,\n",
       "       4.62527837e+00, 1.71844009e+00, 3.17246689e+00, 2.53654134e+00,\n",
       "       2.80693228e+00, 1.67396411e+00, 2.26566578e+00, 1.55735079e+00,\n",
       "       1.04430746e-01, 5.18078431e+00, 2.33308740e+00, 3.18082848e+00,\n",
       "       8.67208734e-01, 1.06621972e+01, 2.33373661e+00, 2.63162399e+00,\n",
       "       2.61004393e+00, 1.34069573e+00, 3.55780187e+00, 7.95164496e-01,\n",
       "       1.45624158e-01, 1.57552415e+00, 3.73028475e+00, 5.71432798e+00,\n",
       "       6.60935185e+00, 6.10697717e+00, 9.32095072e-01, 2.51936646e+00,\n",
       "       6.78381387e+00, 1.76390451e+00, 1.07009293e+00, 1.85531396e+00,\n",
       "       2.74362169e+00, 7.40156682e-01, 3.04518999e+00, 1.42745390e+00,\n",
       "       2.56280254e+00, 1.08228153e+00, 1.24276895e+00, 2.53367430e+00,\n",
       "       2.27660153e+00, 3.69438415e+00, 8.82453545e-01, 2.44570368e+00,\n",
       "       3.48997058e+00, 4.53494052e-01, 3.81967972e+00, 3.28025091e+00,\n",
       "       5.12636120e-01, 2.15933703e+00, 5.09227910e-01, 4.11365141e+00,\n",
       "       9.46359651e-01, 3.18296827e-01, 2.98021411e+00, 2.61437218e+00,\n",
       "       3.27307624e+00, 1.38519816e+00, 1.20455455e+00, 1.68727257e+00,\n",
       "       5.79062383e+00, 1.72239628e+00, 1.07633039e+00, 5.75215432e+00,\n",
       "       3.79857666e+00, 8.80169689e-01, 1.90337237e+00, 2.57404058e+00,\n",
       "       7.35496954e-01, 1.83840562e+00, 8.30902173e-01, 7.08415457e+00,\n",
       "       3.62978106e-01, 3.71843622e+00, 1.07127780e+00, 2.36334227e+00,\n",
       "       9.16548377e+00, 2.87756035e+00, 1.12293940e+00, 4.56326082e-01,\n",
       "       1.87390731e+00, 3.10284337e+00, 2.97322465e+00, 3.43395285e+00,\n",
       "       1.79725920e+00, 2.98928263e+00, 3.10105887e+00, 1.61331032e-01,\n",
       "       2.94956807e+00, 1.70992710e+00, 1.04594340e+00, 4.03953013e+00,\n",
       "       2.68101407e+00, 2.47598486e+00, 2.77263411e+00, 9.96130639e-01,\n",
       "       3.00369862e+00, 6.47752500e-02, 1.04463773e+00, 5.08144000e-01,\n",
       "       1.64322973e+00, 4.11200322e+00, 4.17499632e+00, 2.01556339e+00,\n",
       "       5.12596350e+00, 2.05531250e+00, 2.14654018e+00, 5.48937504e+00,\n",
       "       2.74786372e+00, 4.91518773e+00, 2.91149705e+00, 5.64642313e-01,\n",
       "       4.54128350e-01, 2.64532551e+00, 3.76741535e+00, 2.81294542e+00,\n",
       "       5.13381815e+00, 2.58840423e+00, 3.41071624e+00, 7.63641863e+00,\n",
       "       1.83803024e+00, 9.35570589e+00, 1.12124437e+00, 9.07223363e+00,\n",
       "       2.87546799e+00, 1.73807891e+00, 1.41600323e+00, 9.26966726e-01,\n",
       "       3.61956526e+00, 3.79322906e+00, 1.15860472e+00, 1.90579578e+00,\n",
       "       4.12802416e+00, 6.08581077e+00, 1.67473160e+00, 1.07837484e+01,\n",
       "       5.59623165e+00, 3.52494404e+00, 2.59708373e+00, 4.30860097e+00,\n",
       "       2.91831960e+00, 2.43145229e+00, 1.05490936e+00, 1.13880514e+01,\n",
       "       5.34663197e+00, 4.75798702e+00, 2.12975987e+00, 4.21032197e+00,\n",
       "       4.07500536e+00, 8.89988072e+00, 6.88311521e-01, 7.00880222e+00,\n",
       "       1.78713288e+00, 3.13081453e+00, 4.15898035e+00, 3.38494146e+00,\n",
       "       3.06480584e+00, 3.99219601e+00, 3.73493040e+00, 1.61425518e+00,\n",
       "       2.67022583e+00, 2.62979050e+00, 4.11285757e-01, 2.68253387e+00,\n",
       "       1.71789492e+00, 1.82883320e+00, 3.56884729e+00, 2.09456877e+00,\n",
       "       4.39771543e+00, 1.81438966e+00, 9.95938477e-01, 3.22938076e+00,\n",
       "       8.60500125e-01, 1.70708636e+00, 2.31827568e+00, 4.05364012e+00,\n",
       "       6.92920985e+00, 2.93956346e+00, 6.32509271e+00, 1.92250295e+00,\n",
       "       4.49198605e+00, 2.22015944e+00, 2.55941880e+00, 3.35476949e+00,\n",
       "       5.37951239e+00, 3.02783059e-01, 2.80270265e+00, 1.79896125e+00,\n",
       "       4.95188986e-01, 1.73922059e+00, 3.12656096e+00, 5.67737988e-01,\n",
       "       3.78549944e+00, 1.43695165e-01, 1.18686619e+00, 7.66572377e-01,\n",
       "       4.61561566e+00, 1.80928450e+00, 1.44640219e+00, 1.67784764e-01,\n",
       "       1.77503821e+00, 3.64696227e+00, 2.84663845e-01, 3.00723531e-01,\n",
       "       4.89337009e-01, 2.37843432e+00, 2.02921332e+00, 2.96604668e+00,\n",
       "       4.89443935e+00, 3.41435866e+00, 4.67957811e+00, 3.96476311e-01,\n",
       "       1.91412248e+00, 9.56092419e-01, 3.20741650e+00, 4.01260608e-01,\n",
       "       4.52987183e+00, 6.23392846e+00, 9.76281598e-01, 4.31176705e-01,\n",
       "       4.93883497e-01, 4.07702331e+00, 4.89762717e+00, 9.00480737e+00,\n",
       "       1.63871881e+00, 2.31558109e+00, 5.69138658e-01, 1.88873162e+00,\n",
       "       3.65076650e+00, 9.42918878e+00, 3.81579893e-01, 1.95583575e+00,\n",
       "       6.19455155e-02, 1.34836216e+00, 4.91587357e-01, 7.78387100e-01])"
      ]
     },
     "execution_count": 104,
     "metadata": {},
     "output_type": "execute_result"
    }
   ],
   "source": [
    "x = np.random.chisquare(df=3, size=1000) # df 자유도 degree of freedom\n",
    "x"
   ]
  },
  {
   "cell_type": "code",
   "execution_count": 105,
   "id": "9cfba486",
   "metadata": {
    "ExecuteTime": {
     "end_time": "2023-07-18T07:36:59.507893Z",
     "start_time": "2023-07-18T07:36:59.278218Z"
    }
   },
   "outputs": [
    {
     "data": {
      "image/png": "[encoded data removed]",
      "text/plain": [
       "<Figure size 640x480 with 1 Axes>"
      ]
     },
     "metadata": {},
     "output_type": "display_data"
    }
   ],
   "source": [
    "sns.histplot(x=x, bins=30)\n",
    "plt.show()"
   ]
  },
  {
   "cell_type": "markdown",
   "id": "857d5980",
   "metadata": {},
   "source": [
    "### 베타 분포 beta distribution"
   ]
  },
  {
   "cell_type": "code",
   "execution_count": 106,
   "id": "a4e966cd",
   "metadata": {
    "ExecuteTime": {
     "end_time": "2023-07-18T07:42:55.056290Z",
     "start_time": "2023-07-18T07:42:55.023378Z"
    }
   },
   "outputs": [
    {
     "data": {
      "text/plain": [
       "array([0.12963113, 0.22935378, 0.32232038, 0.08045872, 0.28017212,\n",
       "       0.38201949, 0.17656691, 0.42661139, 0.6232734 , 0.13742383,\n",
       "       0.67776847, 0.20030534, 0.43260592, 0.48484411, 0.28905962,\n",
       "       0.45404528, 0.3728268 , 0.17916207, 0.31244101, 0.38992805,\n",
       "       0.52916428, 0.47893518, 0.04857069, 0.37659315, 0.48248357,\n",
       "       0.51306466, 0.21697629, 0.44723977, 0.47885834, 0.44402687,\n",
       "       0.21092405, 0.2369923 , 0.41615665, 0.18232879, 0.21709431,\n",
       "       0.23376815, 0.24465152, 0.3125164 , 0.37432366, 0.6242749 ,\n",
       "       0.25428585, 0.48240419, 0.27399827, 0.46515544, 0.20521801,\n",
       "       0.36397868, 0.62135568, 0.1797384 , 0.39790177, 0.11189644,\n",
       "       0.56777896, 0.16449093, 0.46509354, 0.64723969, 0.13962435,\n",
       "       0.31088511, 0.56665027, 0.37000663, 0.31209755, 0.44497202,\n",
       "       0.45157614, 0.55589208, 0.36274704, 0.42028962, 0.0697033 ,\n",
       "       0.13418296, 0.59216632, 0.71038499, 0.32971794, 0.54581224,\n",
       "       0.57984738, 0.17607666, 0.4245951 , 0.23839573, 0.02788164,\n",
       "       0.78446919, 0.48208006, 0.52751721, 0.08319054, 0.46605533,\n",
       "       0.3725194 , 0.59331775, 0.58458423, 0.41026166, 0.29797734,\n",
       "       0.30655797, 0.52993376, 0.29740577, 0.30837712, 0.61544347,\n",
       "       0.16241141, 0.5137421 , 0.3051622 , 0.32181485, 0.6803674 ,\n",
       "       0.36489066, 0.21050547, 0.39198042, 0.77405259, 0.74036706,\n",
       "       0.57909161, 0.57587558, 0.36374916, 0.5312919 , 0.70008439,\n",
       "       0.8117472 , 0.5314531 , 0.24266378, 0.40761821, 0.50624189,\n",
       "       0.41158638, 0.43115721, 0.36265869, 0.37186611, 0.48236414,\n",
       "       0.58664826, 0.33109208, 0.476493  , 0.25403816, 0.41374253,\n",
       "       0.57776098, 0.1311656 , 0.78924857, 0.54638555, 0.83152885,\n",
       "       0.21581406, 0.44328704, 0.24049886, 0.57534191, 0.17914784,\n",
       "       0.83051232, 0.42801273, 0.49984749, 0.11680369, 0.37960853,\n",
       "       0.47214823, 0.10663839, 0.44312097, 0.75468549, 0.78392687,\n",
       "       0.40158231, 0.21015288, 0.40668534, 0.50262013, 0.64623139,\n",
       "       0.62638651, 0.28779799, 0.83380713, 0.05581566, 0.73642095,\n",
       "       0.33629158, 0.60507131, 0.62227096, 0.37687121, 0.56491037,\n",
       "       0.51155108, 0.30470203, 0.36248836, 0.57823804, 0.34751282,\n",
       "       0.24362929, 0.327241  , 0.35300129, 0.70445909, 0.40126031,\n",
       "       0.79413863, 0.40980649, 0.29585131, 0.82856372, 0.54927341,\n",
       "       0.24273037, 0.07511128, 0.58989405, 0.38022513, 0.49429417,\n",
       "       0.67455723, 0.18271428, 0.42335707, 0.25161506, 0.18421495,\n",
       "       0.83046576, 0.31977611, 0.46339643, 0.42688153, 0.2251723 ,\n",
       "       0.19601327, 0.13122597, 0.27871587, 0.12695243, 0.35075173,\n",
       "       0.30300773, 0.4545296 , 0.78541783, 0.59807888, 0.72821712,\n",
       "       0.62005007, 0.40836755, 0.67755158, 0.18433966, 0.51283972,\n",
       "       0.36331764, 0.42990407, 0.37839392, 0.20369002, 0.26259709,\n",
       "       0.68215424, 0.84376409, 0.36867412, 0.17247244, 0.6551315 ,\n",
       "       0.04909032, 0.62318754, 0.29332795, 0.09933009, 0.37055843,\n",
       "       0.49890063, 0.27877996, 0.35449728, 0.33969352, 0.34128243,\n",
       "       0.33478335, 0.36170361, 0.3322307 , 0.4478884 , 0.68112   ,\n",
       "       0.32593255, 0.32822001, 0.25642558, 0.24934112, 0.50088074,\n",
       "       0.17863725, 0.55730236, 0.54874184, 0.06669895, 0.46585059,\n",
       "       0.45692767, 0.77850385, 0.20260872, 0.53265842, 0.52023803,\n",
       "       0.27713029, 0.49129821, 0.52995765, 0.5721482 , 0.04416432,\n",
       "       0.15394209, 0.27611896, 0.68139936, 0.66871137, 0.3124091 ,\n",
       "       0.18506256, 0.69115594, 0.20382621, 0.03803219, 0.24008877,\n",
       "       0.62104358, 0.2488416 , 0.65406359, 0.07735034, 0.18498967,\n",
       "       0.22130088, 0.22028984, 0.56686604, 0.208602  , 0.35884241,\n",
       "       0.43637772, 0.24783448, 0.32753604, 0.43647002, 0.58016707,\n",
       "       0.24654052, 0.502463  , 0.78637471, 0.13157403, 0.48109535,\n",
       "       0.46113789, 0.71425629, 0.54110391, 0.55913721, 0.33792964,\n",
       "       0.52854498, 0.33961921, 0.03762075, 0.61641137, 0.13743061,\n",
       "       0.15386623, 0.68058287, 0.20687758, 0.52455657, 0.27402942,\n",
       "       0.45085244, 0.25413692, 0.52059095, 0.32173123, 0.10823753,\n",
       "       0.08308851, 0.43993831, 0.2198682 , 0.49101361, 0.2513936 ,\n",
       "       0.48498338, 0.42945646, 0.19216121, 0.86373067, 0.57475415,\n",
       "       0.66417427, 0.06980003, 0.21342305, 0.30349447, 0.28305456,\n",
       "       0.23831695, 0.84136244, 0.53320678, 0.40374381, 0.18522527,\n",
       "       0.77888969, 0.31709574, 0.6023091 , 0.3627853 , 0.4760642 ,\n",
       "       0.7157735 , 0.56227799, 0.56918482, 0.20916761, 0.48682203,\n",
       "       0.4771395 , 0.75330691, 0.72722709, 0.42271056, 0.60697172,\n",
       "       0.23276881, 0.25317444, 0.06487465, 0.32894411, 0.44039825,\n",
       "       0.46828692, 0.76845776, 0.45548638, 0.51521317, 0.19955316,\n",
       "       0.01942989, 0.92779884, 0.51997077, 0.50116614, 0.57569568,\n",
       "       0.5735041 , 0.49827667, 0.57548588, 0.26292448, 0.2587469 ,\n",
       "       0.38096764, 0.54655428, 0.54604826, 0.49621049, 0.66655482,\n",
       "       0.32060793, 0.19545386, 0.43140646, 0.13368456, 0.08864085,\n",
       "       0.68111604, 0.36353562, 0.39621924, 0.64762667, 0.40704269,\n",
       "       0.56267956, 0.20149234, 0.56853776, 0.16837956, 0.34806244,\n",
       "       0.48766367, 0.21643165, 0.24600339, 0.363646  , 0.59595852,\n",
       "       0.14745277, 0.55474967, 0.5859713 , 0.40954647, 0.60638745,\n",
       "       0.33142022, 0.96749314, 0.23989354, 0.75572232, 0.38176983,\n",
       "       0.79135058, 0.02570468, 0.12275661, 0.36653545, 0.20282989,\n",
       "       0.03063086, 0.51552755, 0.1305226 , 0.11960416, 0.19381621,\n",
       "       0.28834744, 0.69899685, 0.06565554, 0.08697872, 0.2839559 ,\n",
       "       0.30434658, 0.50677979, 0.45095053, 0.57308592, 0.70580762,\n",
       "       0.50351938, 0.86785345, 0.52328282, 0.49025379, 0.26757898,\n",
       "       0.46515623, 0.38825105, 0.55198048, 0.17574502, 0.89377362,\n",
       "       0.7155583 , 0.26051726, 0.53556032, 0.60572171, 0.21801483,\n",
       "       0.2490032 , 0.7553728 , 0.06892052, 0.72310809, 0.6249227 ,\n",
       "       0.15594407, 0.25107421, 0.89722345, 0.18813955, 0.75019096,\n",
       "       0.08068976, 0.20033544, 0.47611411, 0.39974785, 0.39945679,\n",
       "       0.14202167, 0.16268432, 0.55500226, 0.71060625, 0.30211471,\n",
       "       0.12341207, 0.83666977, 0.59941554, 0.13031887, 0.14845217,\n",
       "       0.29686651, 0.26524571, 0.43346281, 0.35242397, 0.42997351,\n",
       "       0.34510164, 0.34901174, 0.16629066, 0.38799601, 0.16263274,\n",
       "       0.20323058, 0.25711692, 0.60825596, 0.39698441, 0.61572567,\n",
       "       0.33347401, 0.50531303, 0.40127553, 0.72771738, 0.10819241,\n",
       "       0.58625927, 0.60066308, 0.4029127 , 0.17754036, 0.62693336,\n",
       "       0.29358921, 0.46185684, 0.31365973, 0.57869813, 0.66678376,\n",
       "       0.19480249, 0.24524983, 0.42907152, 0.60816651, 0.45402059,\n",
       "       0.20723547, 0.53529831, 0.72096825, 0.11616597, 0.70976881,\n",
       "       0.35165868, 0.29153833, 0.47182325, 0.34727396, 0.03905793,\n",
       "       0.5035311 , 0.58856324, 0.42703922, 0.40137724, 0.33733476,\n",
       "       0.2312236 , 0.55627898, 0.13886404, 0.31479752, 0.27619992,\n",
       "       0.52812466, 0.48538467, 0.43094309, 0.14282547, 0.41313415,\n",
       "       0.47625291, 0.23575203, 0.75314499, 0.56418236, 0.13383642,\n",
       "       0.38785248, 0.41780218, 0.58176847, 0.12781124, 0.18616049,\n",
       "       0.34674   , 0.17997691, 0.05152709, 0.45973075, 0.30797243,\n",
       "       0.21360386, 0.09301385, 0.83347039, 0.54606066, 0.24214301,\n",
       "       0.41269393, 0.58713568, 0.47217617, 0.54166807, 0.19042   ,\n",
       "       0.23938545, 0.60400617, 0.53476471, 0.3391599 , 0.48883657,\n",
       "       0.53043238, 0.4661365 , 0.1216847 , 0.68992482, 0.43567367,\n",
       "       0.24630385, 0.85647747, 0.10566564, 0.45259645, 0.25578438,\n",
       "       0.33894544, 0.65171347, 0.28065626, 0.73122285, 0.16296805,\n",
       "       0.17414979, 0.76286637, 0.37694228, 0.26146646, 0.20535037,\n",
       "       0.0794227 , 0.55650562, 0.7372024 , 0.61837692, 0.48093975,\n",
       "       0.20315924, 0.10791515, 0.54616216, 0.52215264, 0.39622012,\n",
       "       0.22610673, 0.02266132, 0.26462356, 0.17087224, 0.09841906,\n",
       "       0.60743314, 0.34435826, 0.7647051 , 0.17742007, 0.68092958,\n",
       "       0.19466195, 0.6769752 , 0.57521674, 0.6851826 , 0.03707137,\n",
       "       0.45070041, 0.52231457, 0.33864316, 0.50969707, 0.56916946,\n",
       "       0.12510566, 0.21360405, 0.63001989, 0.38346327, 0.24245049,\n",
       "       0.43365068, 0.57735931, 0.51584334, 0.11561209, 0.54498899,\n",
       "       0.38354788, 0.09686431, 0.43041333, 0.45111674, 0.11414427,\n",
       "       0.56249169, 0.75130174, 0.75360742, 0.24768208, 0.82784159,\n",
       "       0.71290293, 0.11017821, 0.36720146, 0.5092506 , 0.22337094,\n",
       "       0.75189393, 0.13880991, 0.18058212, 0.11265075, 0.42591529,\n",
       "       0.16749971, 0.36508121, 0.48803252, 0.8090385 , 0.39472756,\n",
       "       0.44066544, 0.79120724, 0.20649829, 0.54457951, 0.46749603,\n",
       "       0.76358657, 0.36330704, 0.84646196, 0.54951419, 0.70605403,\n",
       "       0.5809802 , 0.89141653, 0.84514864, 0.4599172 , 0.24615287,\n",
       "       0.27816311, 0.60290045, 0.30498123, 0.34306762, 0.35602202,\n",
       "       0.63068671, 0.37479419, 0.50638732, 0.02252162, 0.88221082,\n",
       "       0.52047946, 0.38777084, 0.10986345, 0.16097384, 0.65157417,\n",
       "       0.48243868, 0.59860969, 0.17836923, 0.53113238, 0.59577087,\n",
       "       0.11966813, 0.29041316, 0.56806284, 0.68932531, 0.41801883,\n",
       "       0.37234696, 0.40460926, 0.62782226, 0.14159039, 0.52307023,\n",
       "       0.38881353, 0.94538389, 0.42259519, 0.39890463, 0.09367679,\n",
       "       0.28652091, 0.26195142, 0.42298543, 0.38044429, 0.51152766,\n",
       "       0.57818235, 0.25304737, 0.12172136, 0.48942012, 0.21794259,\n",
       "       0.63112257, 0.19998635, 0.34629344, 0.75689412, 0.66294112,\n",
       "       0.2391388 , 0.5981531 , 0.24694449, 0.18301695, 0.02631023,\n",
       "       0.43069819, 0.64334541, 0.29859187, 0.02954625, 0.44458229,\n",
       "       0.09709018, 0.30123775, 0.19822222, 0.29618584, 0.70039995,\n",
       "       0.4485233 , 0.27798048, 0.12813173, 0.52552875, 0.64594952,\n",
       "       0.73052787, 0.15014254, 0.76255548, 0.50932372, 0.32319973,\n",
       "       0.36258966, 0.76421395, 0.48835002, 0.16396994, 0.44711999,\n",
       "       0.27889425, 0.11831493, 0.82195379, 0.57542892, 0.40165218,\n",
       "       0.64926587, 0.45561982, 0.40097554, 0.43824775, 0.34301324,\n",
       "       0.37657597, 0.42502199, 0.63595198, 0.74529285, 0.86803469,\n",
       "       0.22221339, 0.2271225 , 0.38308276, 0.28857344, 0.36570384,\n",
       "       0.60697312, 0.48388887, 0.59294806, 0.00325125, 0.12223775,\n",
       "       0.47106966, 0.0295944 , 0.42180372, 0.91814144, 0.31412269,\n",
       "       0.31643356, 0.25166513, 0.37635013, 0.4044245 , 0.14453019,\n",
       "       0.03398233, 0.67344769, 0.62149096, 0.28612472, 0.40345332,\n",
       "       0.42031902, 0.35551547, 0.35450108, 0.20185593, 0.33192847,\n",
       "       0.5532247 , 0.67837978, 0.22649014, 0.36967116, 0.63342465,\n",
       "       0.41218473, 0.24949278, 0.56285425, 0.58530051, 0.34303022,\n",
       "       0.35411563, 0.50340577, 0.17717975, 0.41624555, 0.48997821,\n",
       "       0.0326901 , 0.35899511, 0.38518857, 0.21383703, 0.42761455,\n",
       "       0.41893545, 0.55889334, 0.28928808, 0.32091682, 0.37774263,\n",
       "       0.44946561, 0.46694019, 0.20130921, 0.1664907 , 0.31036469,\n",
       "       0.0699203 , 0.28062818, 0.40636354, 0.26788385, 0.10633703,\n",
       "       0.22327267, 0.15729877, 0.16729623, 0.34617264, 0.30329618,\n",
       "       0.07197627, 0.07004166, 0.19273992, 0.34001667, 0.24900835,\n",
       "       0.21510673, 0.41885378, 0.16617037, 0.50639017, 0.57272902,\n",
       "       0.42373172, 0.6019438 , 0.37503858, 0.30852123, 0.89749929,\n",
       "       0.07913694, 0.34625128, 0.08659105, 0.63981735, 0.45512564,\n",
       "       0.28712358, 0.35298814, 0.41079789, 0.5552822 , 0.67785296,\n",
       "       0.41809262, 0.55962127, 0.65961079, 0.50638507, 0.42540531,\n",
       "       0.32166224, 0.64037707, 0.49557015, 0.03295338, 0.26123922,\n",
       "       0.81571047, 0.63881573, 0.48262277, 0.45536206, 0.35898574,\n",
       "       0.41349259, 0.32555695, 0.40649545, 0.16128365, 0.44155073,\n",
       "       0.51858408, 0.38795301, 0.23942025, 0.12624985, 0.59288821,\n",
       "       0.177148  , 0.4629608 , 0.47835002, 0.86667248, 0.4750954 ,\n",
       "       0.56819424, 0.08998393, 0.18524173, 0.34059932, 0.45680073,\n",
       "       0.24643598, 0.19680955, 0.39481829, 0.10938935, 0.39191449,\n",
       "       0.55308114, 0.38178115, 0.23148137, 0.28669592, 0.57411393,\n",
       "       0.6884053 , 0.30069159, 0.31695277, 0.28146819, 0.44800554,\n",
       "       0.11330813, 0.32030385, 0.1645419 , 0.17155752, 0.47402088,\n",
       "       0.37192027, 0.86520317, 0.40788156, 0.32626043, 0.63095311,\n",
       "       0.65807488, 0.58420865, 0.60859924, 0.09017525, 0.1052506 ,\n",
       "       0.19819334, 0.07160099, 0.47532536, 0.46184018, 0.50660971,\n",
       "       0.60381075, 0.32207973, 0.68665664, 0.35755824, 0.74058439,\n",
       "       0.59237959, 0.29512856, 0.17509019, 0.34143456, 0.21733694,\n",
       "       0.45151585, 0.58856196, 0.64039208, 0.70198294, 0.56130273,\n",
       "       0.35926891, 0.0566101 , 0.13892293, 0.40535068, 0.74545238,\n",
       "       0.37512003, 0.54977312, 0.36442078, 0.10253383, 0.45218535,\n",
       "       0.28474259, 0.81520298, 0.34945729, 0.46398162, 0.17994179,\n",
       "       0.47471968, 0.64234363, 0.62677805, 0.38379812, 0.17361082,\n",
       "       0.711859  , 0.44625958, 0.19561753, 0.63375727, 0.39416118,\n",
       "       0.07983396, 0.45819406, 0.24960581, 0.32777204, 0.20700684,\n",
       "       0.3773671 , 0.56203917, 0.47959882, 0.2456545 , 0.53685242,\n",
       "       0.54565277, 0.32317715, 0.16429059, 0.45856777, 0.58891848,\n",
       "       0.22289364, 0.64376255, 0.46427848, 0.81543527, 0.28820886,\n",
       "       0.1103771 , 0.35074125, 0.36547215, 0.34790631, 0.21111897,\n",
       "       0.4820098 , 0.41511036, 0.42434447, 0.58300034, 0.0831709 ,\n",
       "       0.46454727, 0.26055453, 0.07914398, 0.25529212, 0.48910945,\n",
       "       0.46499563, 0.42462902, 0.0932181 , 0.76831889, 0.30351552,\n",
       "       0.28113661, 0.45552799, 0.59351857, 0.35323508, 0.68220578,\n",
       "       0.2013531 , 0.14214228, 0.2223013 , 0.60028709, 0.55376722,\n",
       "       0.41420208, 0.71509305, 0.68220902, 0.25841429, 0.2398132 ,\n",
       "       0.4968384 , 0.68692883, 0.32622087, 0.42068501, 0.60537527,\n",
       "       0.2668657 , 0.18745655, 0.53424025, 0.59710382, 0.17755159])"
      ]
     },
     "execution_count": 106,
     "metadata": {},
     "output_type": "execute_result"
    }
   ],
   "source": [
    "x = np.random.beta(a=2, b=3, size=1000) # a가 알파, b가 베타\n",
    "x"
   ]
  },
  {
   "cell_type": "code",
   "execution_count": 107,
   "id": "ff13662e",
   "metadata": {
    "ExecuteTime": {
     "end_time": "2023-07-18T07:43:18.203898Z",
     "start_time": "2023-07-18T07:43:17.975494Z"
    }
   },
   "outputs": [
    {
     "data": {
      "image/png": "[encoded data removed]",
      "text/plain": [
       "<Figure size 640x480 with 1 Axes>"
      ]
     },
     "metadata": {},
     "output_type": "display_data"
    }
   ],
   "source": [
    "sns.histplot(x=x, bins=30)\n",
    "plt.show()"
   ]
  }
 ],
 "metadata": {
  "hide_input": false,
  "kernelspec": {
   "display_name": "Python 3 (ipykernel)",
   "language": "python",
   "name": "python3"
  },
  "language_info": {
   "codemirror_mode": {
    "name": "ipython",
    "version": 3
   },
   "file_extension": ".py",
   "mimetype": "text/x-python",
   "name": "python",
   "nbconvert_exporter": "python",
   "pygments_lexer": "ipython3",
   "version": "3.9.16"
  },
  "toc": {
   "base_numbering": 1,
   "nav_menu": {},
   "number_sections": false,
   "sideBar": true,
   "skip_h1_title": false,
   "title_cell": "Table of Contents",
   "title_sidebar": "Contents",
   "toc_cell": false,
   "toc_position": {},
   "toc_section_display": true,
   "toc_window_display": false
  }
 },
 "nbformat": 4,
 "nbformat_minor": 5
}
