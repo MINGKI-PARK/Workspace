{
 "cells": [
  {
   "cell_type": "markdown",
   "id": "4777b578",
   "metadata": {},
   "source": [
    "## 10. 딥러닝 모델 설계하기"
   ]
  },
  {
   "cell_type": "markdown",
   "id": "c9a37c1e",
   "metadata": {},
   "source": [
    "### 10.1 모델의 정의\n",
    "\n",
    "+ 폐암 수술 환자의 생존율 예측하기"
   ]
  },
  {
   "cell_type": "code",
   "execution_count": 24,
   "id": "fcbcfb1b-40ca-453e-a901-cb0e44d3b97c",
   "metadata": {
    "ExecuteTime": {
     "end_time": "2023-07-16T08:26:28.742073Z",
     "start_time": "2023-07-16T08:26:26.170566Z"
    }
   },
   "outputs": [],
   "source": [
    "# 텐서플로 라이브러리 안에 있는 케라스 API에서 필요한 함수\n",
    "from tensorflow.keras.models import Sequential\n",
    "from tensorflow.keras.layers import Dense\n",
    "\n",
    "# 데이터를 다루는데 필요한 라이브러리\n",
    "import numpy as np"
   ]
  },
  {
   "cell_type": "code",
   "execution_count": 1,
   "id": "36647d27-30e3-43ea-a8f8-025a916171f7",
   "metadata": {
    "ExecuteTime": {
     "end_time": "2023-07-16T08:26:28.742073Z",
     "start_time": "2023-07-16T08:26:26.170566Z"
    }
   },
   "outputs": [
    {
     "name": "stdout",
     "output_type": "stream",
     "text": [
      "Epoch 1/5\n",
      "30/30 [==============================] - 1s 3ms/step - loss: 14.6531 - accuracy: 0.1489\n",
      "Epoch 2/5\n",
      "30/30 [==============================] - 0s 3ms/step - loss: 4.9664 - accuracy: 0.1723\n",
      "Epoch 3/5\n",
      "30/30 [==============================] - 0s 4ms/step - loss: 0.5685 - accuracy: 0.7766\n",
      "Epoch 4/5\n",
      "30/30 [==============================] - 0s 3ms/step - loss: 0.4974 - accuracy: 0.8511\n",
      "Epoch 5/5\n",
      "30/30 [==============================] - 0s 2ms/step - loss: 0.4764 - accuracy: 0.8511\n"
     ]
    }
   ],
   "source": [
    "# 데이터 불러오기\n",
    "data_set = np.loadtxt('c:/reposit/data/모두의 딥러닝/ThoraricSurgery3.csv', delimiter=',')\n",
    "\n",
    "X = data_set[:, 0:16] # 환자의 진찰 기록을 X로 지정\n",
    "y = data_set[:, 16] # 수술 1년 후 사망/생존 여부를 y로 지정\n",
    "\n",
    "# 딥러닝 모델 구조를 결정\n",
    "model = Sequential()\n",
    "model.add(Dense(30, input_dim=16, activation='relu'))\n",
    "model.add(Dense(1, activation='sigmoid'))\n",
    "\n",
    "# 딥러닝 모델을 실행\n",
    "model.compile(loss='binary_crossentropy', optimizer='adam', metrics=['accuracy'])\n",
    "history = model.fit(X, y, epochs=5, batch_size=16)"
   ]
  },
  {
   "cell_type": "markdown",
   "id": "05b9971a",
   "metadata": {},
   "source": [
    "### 10.2 입력층, 은닉층, 출력층"
   ]
  },
  {
   "cell_type": "code",
   "execution_count": 2,
   "id": "b3ca20e7",
   "metadata": {
    "ExecuteTime": {
     "end_time": "2023-07-16T08:26:28.845080Z",
     "start_time": "2023-07-16T08:26:28.753196Z"
    }
   },
   "outputs": [],
   "source": [
    "model = Sequential()\n",
    "model.add(Dense(30, input_dim=16, activation='relu'))\n",
    "model.add(Dense(1, activation='sigmoid'))"
   ]
  },
  {
   "cell_type": "markdown",
   "id": "7907a926",
   "metadata": {},
   "source": [
    "### 10.3 모델 컴파일"
   ]
  },
  {
   "cell_type": "code",
   "execution_count": 3,
   "id": "8c4aa2ad",
   "metadata": {
    "ExecuteTime": {
     "end_time": "2023-07-16T08:26:29.629555Z",
     "start_time": "2023-07-16T08:26:29.609568Z"
    }
   },
   "outputs": [],
   "source": [
    "model.compile(loss='binary_crossentropy', optimizer='adam', metrics=['accuracy'])"
   ]
  },
  {
   "cell_type": "markdown",
   "id": "0cebc847",
   "metadata": {},
   "source": [
    "### 10.4 모델 실행하기"
   ]
  },
  {
   "cell_type": "code",
   "execution_count": 4,
   "id": "63b9e5c0",
   "metadata": {
    "ExecuteTime": {
     "end_time": "2023-07-16T08:26:32.602207Z",
     "start_time": "2023-07-16T08:26:30.624870Z"
    }
   },
   "outputs": [
    {
     "name": "stdout",
     "output_type": "stream",
     "text": [
      "Epoch 1/5\n",
      "30/30 [==============================] - 1s 3ms/step - loss: 0.6394 - accuracy: 0.7468\n",
      "Epoch 2/5\n",
      "30/30 [==============================] - 0s 2ms/step - loss: 0.4505 - accuracy: 0.8511\n",
      "Epoch 3/5\n",
      "30/30 [==============================] - 0s 2ms/step - loss: 0.4267 - accuracy: 0.8511\n",
      "Epoch 4/5\n",
      "30/30 [==============================] - 0s 3ms/step - loss: 0.4242 - accuracy: 0.8511\n",
      "Epoch 5/5\n",
      "30/30 [==============================] - 0s 3ms/step - loss: 0.4191 - accuracy: 0.8511\n"
     ]
    }
   ],
   "source": [
    "history = model.fit(X, y, epochs=5, batch_size=16)"
   ]
  },
  {
   "cell_type": "markdown",
   "id": "cc2db790-9c0d-430e-ada3-a24849ee2bfa",
   "metadata": {},
   "source": [
    "## 11. 데이터 다루기"
   ]
  },
  {
   "cell_type": "markdown",
   "id": "9c5d88e5-7e25-42db-b30a-96ba2ca889e0",
   "metadata": {},
   "source": [
    "### 11.1 딥러닝과 데이터"
   ]
  },
  {
   "cell_type": "markdown",
   "id": "6c0c7d2f-3ff2-46b0-b5d6-17128668f0f5",
   "metadata": {
    "tags": []
   },
   "source": [
    "### 11.2 피마 인디언 데이터 분석하기"
   ]
  },
  {
   "cell_type": "markdown",
   "id": "46ffa423-22cd-4016-a639-7fe85421dd6a",
   "metadata": {},
   "source": [
    "### 11.3 판다스를 활용한 데이터 조사"
   ]
  },
  {
   "cell_type": "code",
   "execution_count": 3,
   "id": "55b262ee-8237-40e9-83f4-d4117434c016",
   "metadata": {},
   "outputs": [],
   "source": [
    "import numpy as np\n",
    "import pandas as pd\n",
    "\n",
    "import matplotlib.pyplot as plt\n",
    "import seaborn as sns"
   ]
  },
  {
   "cell_type": "code",
   "execution_count": 4,
   "id": "e68dd850-c402-4403-8009-7af89aea665c",
   "metadata": {},
   "outputs": [
    {
     "data": {
      "text/html": [
       "<div>\n",
       "<style scoped>\n",
       "    .dataframe tbody tr th:only-of-type {\n",
       "        vertical-align: middle;\n",
       "    }\n",
       "\n",
       "    .dataframe tbody tr th {\n",
       "        vertical-align: top;\n",
       "    }\n",
       "\n",
       "    .dataframe thead th {\n",
       "        text-align: right;\n",
       "    }\n",
       "</style>\n",
       "<table border=\"1\" class=\"dataframe\">\n",
       "  <thead>\n",
       "    <tr style=\"text-align: right;\">\n",
       "      <th></th>\n",
       "      <th>pregnant</th>\n",
       "      <th>plasma</th>\n",
       "      <th>pressure</th>\n",
       "      <th>thickness</th>\n",
       "      <th>insulin</th>\n",
       "      <th>bmi</th>\n",
       "      <th>pedigree</th>\n",
       "      <th>age</th>\n",
       "      <th>diabetes</th>\n",
       "    </tr>\n",
       "  </thead>\n",
       "  <tbody>\n",
       "    <tr>\n",
       "      <th>0</th>\n",
       "      <td>6</td>\n",
       "      <td>148</td>\n",
       "      <td>72</td>\n",
       "      <td>35</td>\n",
       "      <td>0</td>\n",
       "      <td>33.6</td>\n",
       "      <td>0.627</td>\n",
       "      <td>50</td>\n",
       "      <td>1</td>\n",
       "    </tr>\n",
       "    <tr>\n",
       "      <th>1</th>\n",
       "      <td>1</td>\n",
       "      <td>85</td>\n",
       "      <td>66</td>\n",
       "      <td>29</td>\n",
       "      <td>0</td>\n",
       "      <td>26.6</td>\n",
       "      <td>0.351</td>\n",
       "      <td>31</td>\n",
       "      <td>0</td>\n",
       "    </tr>\n",
       "    <tr>\n",
       "      <th>2</th>\n",
       "      <td>8</td>\n",
       "      <td>183</td>\n",
       "      <td>64</td>\n",
       "      <td>0</td>\n",
       "      <td>0</td>\n",
       "      <td>23.3</td>\n",
       "      <td>0.672</td>\n",
       "      <td>32</td>\n",
       "      <td>1</td>\n",
       "    </tr>\n",
       "  </tbody>\n",
       "</table>\n",
       "</div>"
      ],
      "text/plain": [
       "   pregnant  plasma  pressure  thickness  insulin   bmi  pedigree  age  \\\n",
       "0         6     148        72         35        0  33.6     0.627   50   \n",
       "1         1      85        66         29        0  26.6     0.351   31   \n",
       "2         8     183        64          0        0  23.3     0.672   32   \n",
       "\n",
       "   diabetes  \n",
       "0         1  \n",
       "1         0  \n",
       "2         1  "
      ]
     },
     "execution_count": 4,
     "metadata": {},
     "output_type": "execute_result"
    }
   ],
   "source": [
    "df = pd.read_csv('c:/reposit/data/모두의 딥러닝/pima-indians-diabetes3.csv')\n",
    "df.head(3)"
   ]
  },
  {
   "cell_type": "code",
   "execution_count": 5,
   "id": "dcd0df16-3825-4ff7-ab85-d2d7c419c494",
   "metadata": {},
   "outputs": [
    {
     "data": {
      "text/plain": [
       "(768, 9)"
      ]
     },
     "execution_count": 5,
     "metadata": {},
     "output_type": "execute_result"
    }
   ],
   "source": [
    "df.shape"
   ]
  },
  {
   "cell_type": "code",
   "execution_count": 6,
   "id": "8f748e73-af2a-423a-9371-554e69180dbf",
   "metadata": {},
   "outputs": [
    {
     "data": {
      "text/plain": [
       "0    500\n",
       "1    268\n",
       "Name: diabetes, dtype: int64"
      ]
     },
     "execution_count": 6,
     "metadata": {},
     "output_type": "execute_result"
    }
   ],
   "source": [
    "df['diabetes'].value_counts()"
   ]
  },
  {
   "cell_type": "code",
   "execution_count": 7,
   "id": "f7ba8fad-8d98-488e-bed7-8ce4db9ad7b6",
   "metadata": {},
   "outputs": [
    {
     "data": {
      "text/html": [
       "<div>\n",
       "<style scoped>\n",
       "    .dataframe tbody tr th:only-of-type {\n",
       "        vertical-align: middle;\n",
       "    }\n",
       "\n",
       "    .dataframe tbody tr th {\n",
       "        vertical-align: top;\n",
       "    }\n",
       "\n",
       "    .dataframe thead th {\n",
       "        text-align: right;\n",
       "    }\n",
       "</style>\n",
       "<table border=\"1\" class=\"dataframe\">\n",
       "  <thead>\n",
       "    <tr style=\"text-align: right;\">\n",
       "      <th></th>\n",
       "      <th>pregnant</th>\n",
       "      <th>plasma</th>\n",
       "      <th>pressure</th>\n",
       "      <th>thickness</th>\n",
       "      <th>insulin</th>\n",
       "      <th>bmi</th>\n",
       "      <th>pedigree</th>\n",
       "      <th>age</th>\n",
       "      <th>diabetes</th>\n",
       "    </tr>\n",
       "  </thead>\n",
       "  <tbody>\n",
       "    <tr>\n",
       "      <th>count</th>\n",
       "      <td>768.000000</td>\n",
       "      <td>768.000000</td>\n",
       "      <td>768.000000</td>\n",
       "      <td>768.000000</td>\n",
       "      <td>768.000000</td>\n",
       "      <td>768.000000</td>\n",
       "      <td>768.000000</td>\n",
       "      <td>768.000000</td>\n",
       "      <td>768.000000</td>\n",
       "    </tr>\n",
       "    <tr>\n",
       "      <th>mean</th>\n",
       "      <td>3.845052</td>\n",
       "      <td>120.894531</td>\n",
       "      <td>69.105469</td>\n",
       "      <td>20.536458</td>\n",
       "      <td>79.799479</td>\n",
       "      <td>31.992578</td>\n",
       "      <td>0.471876</td>\n",
       "      <td>33.240885</td>\n",
       "      <td>0.348958</td>\n",
       "    </tr>\n",
       "    <tr>\n",
       "      <th>std</th>\n",
       "      <td>3.369578</td>\n",
       "      <td>31.972618</td>\n",
       "      <td>19.355807</td>\n",
       "      <td>15.952218</td>\n",
       "      <td>115.244002</td>\n",
       "      <td>7.884160</td>\n",
       "      <td>0.331329</td>\n",
       "      <td>11.760232</td>\n",
       "      <td>0.476951</td>\n",
       "    </tr>\n",
       "    <tr>\n",
       "      <th>min</th>\n",
       "      <td>0.000000</td>\n",
       "      <td>0.000000</td>\n",
       "      <td>0.000000</td>\n",
       "      <td>0.000000</td>\n",
       "      <td>0.000000</td>\n",
       "      <td>0.000000</td>\n",
       "      <td>0.078000</td>\n",
       "      <td>21.000000</td>\n",
       "      <td>0.000000</td>\n",
       "    </tr>\n",
       "    <tr>\n",
       "      <th>25%</th>\n",
       "      <td>1.000000</td>\n",
       "      <td>99.000000</td>\n",
       "      <td>62.000000</td>\n",
       "      <td>0.000000</td>\n",
       "      <td>0.000000</td>\n",
       "      <td>27.300000</td>\n",
       "      <td>0.243750</td>\n",
       "      <td>24.000000</td>\n",
       "      <td>0.000000</td>\n",
       "    </tr>\n",
       "    <tr>\n",
       "      <th>50%</th>\n",
       "      <td>3.000000</td>\n",
       "      <td>117.000000</td>\n",
       "      <td>72.000000</td>\n",
       "      <td>23.000000</td>\n",
       "      <td>30.500000</td>\n",
       "      <td>32.000000</td>\n",
       "      <td>0.372500</td>\n",
       "      <td>29.000000</td>\n",
       "      <td>0.000000</td>\n",
       "    </tr>\n",
       "    <tr>\n",
       "      <th>75%</th>\n",
       "      <td>6.000000</td>\n",
       "      <td>140.250000</td>\n",
       "      <td>80.000000</td>\n",
       "      <td>32.000000</td>\n",
       "      <td>127.250000</td>\n",
       "      <td>36.600000</td>\n",
       "      <td>0.626250</td>\n",
       "      <td>41.000000</td>\n",
       "      <td>1.000000</td>\n",
       "    </tr>\n",
       "    <tr>\n",
       "      <th>max</th>\n",
       "      <td>17.000000</td>\n",
       "      <td>199.000000</td>\n",
       "      <td>122.000000</td>\n",
       "      <td>99.000000</td>\n",
       "      <td>846.000000</td>\n",
       "      <td>67.100000</td>\n",
       "      <td>2.420000</td>\n",
       "      <td>81.000000</td>\n",
       "      <td>1.000000</td>\n",
       "    </tr>\n",
       "  </tbody>\n",
       "</table>\n",
       "</div>"
      ],
      "text/plain": [
       "         pregnant      plasma    pressure   thickness     insulin         bmi  \\\n",
       "count  768.000000  768.000000  768.000000  768.000000  768.000000  768.000000   \n",
       "mean     3.845052  120.894531   69.105469   20.536458   79.799479   31.992578   \n",
       "std      3.369578   31.972618   19.355807   15.952218  115.244002    7.884160   \n",
       "min      0.000000    0.000000    0.000000    0.000000    0.000000    0.000000   \n",
       "25%      1.000000   99.000000   62.000000    0.000000    0.000000   27.300000   \n",
       "50%      3.000000  117.000000   72.000000   23.000000   30.500000   32.000000   \n",
       "75%      6.000000  140.250000   80.000000   32.000000  127.250000   36.600000   \n",
       "max     17.000000  199.000000  122.000000   99.000000  846.000000   67.100000   \n",
       "\n",
       "         pedigree         age    diabetes  \n",
       "count  768.000000  768.000000  768.000000  \n",
       "mean     0.471876   33.240885    0.348958  \n",
       "std      0.331329   11.760232    0.476951  \n",
       "min      0.078000   21.000000    0.000000  \n",
       "25%      0.243750   24.000000    0.000000  \n",
       "50%      0.372500   29.000000    0.000000  \n",
       "75%      0.626250   41.000000    1.000000  \n",
       "max      2.420000   81.000000    1.000000  "
      ]
     },
     "execution_count": 7,
     "metadata": {},
     "output_type": "execute_result"
    }
   ],
   "source": [
    "df.describe()"
   ]
  },
  {
   "cell_type": "code",
   "execution_count": 8,
   "id": "9f775185-2b23-4787-96cc-3e57fd378b24",
   "metadata": {},
   "outputs": [
    {
     "name": "stdout",
     "output_type": "stream",
     "text": [
      "<class 'pandas.core.frame.DataFrame'>\n",
      "RangeIndex: 768 entries, 0 to 767\n",
      "Data columns (total 9 columns):\n",
      " #   Column     Non-Null Count  Dtype  \n",
      "---  ------     --------------  -----  \n",
      " 0   pregnant   768 non-null    int64  \n",
      " 1   plasma     768 non-null    int64  \n",
      " 2   pressure   768 non-null    int64  \n",
      " 3   thickness  768 non-null    int64  \n",
      " 4   insulin    768 non-null    int64  \n",
      " 5   bmi        768 non-null    float64\n",
      " 6   pedigree   768 non-null    float64\n",
      " 7   age        768 non-null    int64  \n",
      " 8   diabetes   768 non-null    int64  \n",
      "dtypes: float64(2), int64(7)\n",
      "memory usage: 54.1 KB\n"
     ]
    }
   ],
   "source": [
    "df.info()"
   ]
  },
  {
   "cell_type": "code",
   "execution_count": 9,
   "id": "47ca3cdd-4e26-49e5-9d8f-b9306a2a0277",
   "metadata": {},
   "outputs": [
    {
     "data": {
      "text/html": [
       "<div>\n",
       "<style scoped>\n",
       "    .dataframe tbody tr th:only-of-type {\n",
       "        vertical-align: middle;\n",
       "    }\n",
       "\n",
       "    .dataframe tbody tr th {\n",
       "        vertical-align: top;\n",
       "    }\n",
       "\n",
       "    .dataframe thead th {\n",
       "        text-align: right;\n",
       "    }\n",
       "</style>\n",
       "<table border=\"1\" class=\"dataframe\">\n",
       "  <thead>\n",
       "    <tr style=\"text-align: right;\">\n",
       "      <th></th>\n",
       "      <th>pregnant</th>\n",
       "      <th>plasma</th>\n",
       "      <th>pressure</th>\n",
       "      <th>thickness</th>\n",
       "      <th>insulin</th>\n",
       "      <th>bmi</th>\n",
       "      <th>pedigree</th>\n",
       "      <th>age</th>\n",
       "      <th>diabetes</th>\n",
       "    </tr>\n",
       "  </thead>\n",
       "  <tbody>\n",
       "    <tr>\n",
       "      <th>pregnant</th>\n",
       "      <td>1.000000</td>\n",
       "      <td>0.129459</td>\n",
       "      <td>0.141282</td>\n",
       "      <td>-0.081672</td>\n",
       "      <td>-0.073535</td>\n",
       "      <td>0.017683</td>\n",
       "      <td>-0.033523</td>\n",
       "      <td>0.544341</td>\n",
       "      <td>0.221898</td>\n",
       "    </tr>\n",
       "    <tr>\n",
       "      <th>plasma</th>\n",
       "      <td>0.129459</td>\n",
       "      <td>1.000000</td>\n",
       "      <td>0.152590</td>\n",
       "      <td>0.057328</td>\n",
       "      <td>0.331357</td>\n",
       "      <td>0.221071</td>\n",
       "      <td>0.137337</td>\n",
       "      <td>0.263514</td>\n",
       "      <td>0.466581</td>\n",
       "    </tr>\n",
       "    <tr>\n",
       "      <th>pressure</th>\n",
       "      <td>0.141282</td>\n",
       "      <td>0.152590</td>\n",
       "      <td>1.000000</td>\n",
       "      <td>0.207371</td>\n",
       "      <td>0.088933</td>\n",
       "      <td>0.281805</td>\n",
       "      <td>0.041265</td>\n",
       "      <td>0.239528</td>\n",
       "      <td>0.065068</td>\n",
       "    </tr>\n",
       "    <tr>\n",
       "      <th>thickness</th>\n",
       "      <td>-0.081672</td>\n",
       "      <td>0.057328</td>\n",
       "      <td>0.207371</td>\n",
       "      <td>1.000000</td>\n",
       "      <td>0.436783</td>\n",
       "      <td>0.392573</td>\n",
       "      <td>0.183928</td>\n",
       "      <td>-0.113970</td>\n",
       "      <td>0.074752</td>\n",
       "    </tr>\n",
       "    <tr>\n",
       "      <th>insulin</th>\n",
       "      <td>-0.073535</td>\n",
       "      <td>0.331357</td>\n",
       "      <td>0.088933</td>\n",
       "      <td>0.436783</td>\n",
       "      <td>1.000000</td>\n",
       "      <td>0.197859</td>\n",
       "      <td>0.185071</td>\n",
       "      <td>-0.042163</td>\n",
       "      <td>0.130548</td>\n",
       "    </tr>\n",
       "    <tr>\n",
       "      <th>bmi</th>\n",
       "      <td>0.017683</td>\n",
       "      <td>0.221071</td>\n",
       "      <td>0.281805</td>\n",
       "      <td>0.392573</td>\n",
       "      <td>0.197859</td>\n",
       "      <td>1.000000</td>\n",
       "      <td>0.140647</td>\n",
       "      <td>0.036242</td>\n",
       "      <td>0.292695</td>\n",
       "    </tr>\n",
       "    <tr>\n",
       "      <th>pedigree</th>\n",
       "      <td>-0.033523</td>\n",
       "      <td>0.137337</td>\n",
       "      <td>0.041265</td>\n",
       "      <td>0.183928</td>\n",
       "      <td>0.185071</td>\n",
       "      <td>0.140647</td>\n",
       "      <td>1.000000</td>\n",
       "      <td>0.033561</td>\n",
       "      <td>0.173844</td>\n",
       "    </tr>\n",
       "    <tr>\n",
       "      <th>age</th>\n",
       "      <td>0.544341</td>\n",
       "      <td>0.263514</td>\n",
       "      <td>0.239528</td>\n",
       "      <td>-0.113970</td>\n",
       "      <td>-0.042163</td>\n",
       "      <td>0.036242</td>\n",
       "      <td>0.033561</td>\n",
       "      <td>1.000000</td>\n",
       "      <td>0.238356</td>\n",
       "    </tr>\n",
       "    <tr>\n",
       "      <th>diabetes</th>\n",
       "      <td>0.221898</td>\n",
       "      <td>0.466581</td>\n",
       "      <td>0.065068</td>\n",
       "      <td>0.074752</td>\n",
       "      <td>0.130548</td>\n",
       "      <td>0.292695</td>\n",
       "      <td>0.173844</td>\n",
       "      <td>0.238356</td>\n",
       "      <td>1.000000</td>\n",
       "    </tr>\n",
       "  </tbody>\n",
       "</table>\n",
       "</div>"
      ],
      "text/plain": [
       "           pregnant    plasma  pressure  thickness   insulin       bmi  \\\n",
       "pregnant   1.000000  0.129459  0.141282  -0.081672 -0.073535  0.017683   \n",
       "plasma     0.129459  1.000000  0.152590   0.057328  0.331357  0.221071   \n",
       "pressure   0.141282  0.152590  1.000000   0.207371  0.088933  0.281805   \n",
       "thickness -0.081672  0.057328  0.207371   1.000000  0.436783  0.392573   \n",
       "insulin   -0.073535  0.331357  0.088933   0.436783  1.000000  0.197859   \n",
       "bmi        0.017683  0.221071  0.281805   0.392573  0.197859  1.000000   \n",
       "pedigree  -0.033523  0.137337  0.041265   0.183928  0.185071  0.140647   \n",
       "age        0.544341  0.263514  0.239528  -0.113970 -0.042163  0.036242   \n",
       "diabetes   0.221898  0.466581  0.065068   0.074752  0.130548  0.292695   \n",
       "\n",
       "           pedigree       age  diabetes  \n",
       "pregnant  -0.033523  0.544341  0.221898  \n",
       "plasma     0.137337  0.263514  0.466581  \n",
       "pressure   0.041265  0.239528  0.065068  \n",
       "thickness  0.183928 -0.113970  0.074752  \n",
       "insulin    0.185071 -0.042163  0.130548  \n",
       "bmi        0.140647  0.036242  0.292695  \n",
       "pedigree   1.000000  0.033561  0.173844  \n",
       "age        0.033561  1.000000  0.238356  \n",
       "diabetes   0.173844  0.238356  1.000000  "
      ]
     },
     "execution_count": 9,
     "metadata": {},
     "output_type": "execute_result"
    }
   ],
   "source": [
    "df.corr()"
   ]
  },
  {
   "cell_type": "code",
   "execution_count": 10,
   "id": "9ea28e41-9318-4058-9419-1742a1b03140",
   "metadata": {},
   "outputs": [
    {
     "data": {
      "image/png": "[encoded data removed]",
      "text/plain": [
       "<Figure size 1000x800 with 2 Axes>"
      ]
     },
     "metadata": {},
     "output_type": "display_data"
    }
   ],
   "source": [
    "colormap = plt.cm.gist_heat\n",
    "\n",
    "plt.figure(figsize=(10, 8))\n",
    "sns.heatmap(df.corr(), cmap=colormap, annot=True, square=True, linecolor='white')\n",
    "plt.show()"
   ]
  },
  {
   "cell_type": "markdown",
   "id": "ca9de2eb-4bf7-4575-8520-805c6c7afe15",
   "metadata": {},
   "source": [
    "### 11.4 중요한 데이터 추출하기"
   ]
  },
  {
   "cell_type": "code",
   "execution_count": 18,
   "id": "6a5b462f-e451-4910-b661-b50cf60f1481",
   "metadata": {},
   "outputs": [
    {
     "data": {
      "image/png": "[encoded data removed]",
      "text/plain": [
       "<Figure size 640x480 with 1 Axes>"
      ]
     },
     "metadata": {},
     "output_type": "display_data"
    }
   ],
   "source": [
    "sns.histplot(data=df, x='plasma', hue='diabetes', multiple='stack')\n",
    "plt.show()"
   ]
  },
  {
   "cell_type": "code",
   "execution_count": 19,
   "id": "2e829126-4eee-48ac-8a57-13cc3f8b18d4",
   "metadata": {},
   "outputs": [
    {
     "data": {
      "image/png": "[encoded data removed]",
      "text/plain": [
       "<Figure size 640x480 with 1 Axes>"
      ]
     },
     "metadata": {},
     "output_type": "display_data"
    }
   ],
   "source": [
    "sns.histplot(data=df, x='bmi', hue='diabetes', multiple='stack')\n",
    "plt.show()"
   ]
  },
  {
   "cell_type": "markdown",
   "id": "6375bf7f-64cc-434d-90b5-903aa8a19584",
   "metadata": {},
   "source": [
    "### 11.5 피마 인디언의 당뇨병 예측 실행"
   ]
  },
  {
   "cell_type": "code",
   "execution_count": 23,
   "id": "b51fed14-cd53-4847-b15f-0a6bf7c5d306",
   "metadata": {},
   "outputs": [],
   "source": [
    "X = df.iloc[:, :8]\n",
    "y = df.iloc[:, 8]"
   ]
  },
  {
   "cell_type": "code",
   "execution_count": 25,
   "id": "45695c35-e550-4a6e-951b-0722262678dd",
   "metadata": {},
   "outputs": [
    {
     "name": "stdout",
     "output_type": "stream",
     "text": [
      "Model: \"sequential\"\n",
      "_________________________________________________________________\n",
      " Layer (type)                Output Shape              Param #   \n",
      "=================================================================\n",
      " Dense_1 (Dense)             (None, 12)                108       \n",
      "                                                                 \n",
      " Dense_2 (Dense)             (None, 8)                 104       \n",
      "                                                                 \n",
      " Dense_3 (Dense)             (None, 1)                 9         \n",
      "                                                                 \n",
      "=================================================================\n",
      "Total params: 221\n",
      "Trainable params: 221\n",
      "Non-trainable params: 0\n",
      "_________________________________________________________________\n"
     ]
    }
   ],
   "source": [
    "model = Sequential()\n",
    "model.add(Dense(12, input_dim=8, activation='relu', name='Dense_1'))\n",
    "model.add(Dense(8, activation='relu', name='Dense_2'))\n",
    "model.add(Dense(1, activation='sigmoid', name='Dense_3'))\n",
    "model.summary()"
   ]
  },
  {
   "cell_type": "code",
   "execution_count": 26,
   "id": "899f3977-f76d-4050-b9f1-ccefe8bb76c4",
   "metadata": {},
   "outputs": [
    {
     "name": "stdout",
     "output_type": "stream",
     "text": [
      "Model: \"sequential_1\"\n",
      "_________________________________________________________________\n",
      " Layer (type)                Output Shape              Param #   \n",
      "=================================================================\n",
      " Dense_1 (Dense)             (None, 12)                108       \n",
      "                                                                 \n",
      " Dense_2 (Dense)             (None, 8)                 104       \n",
      "                                                                 \n",
      " Dense_3 (Dense)             (None, 1)                 9         \n",
      "                                                                 \n",
      "=================================================================\n",
      "Total params: 221\n",
      "Trainable params: 221\n",
      "Non-trainable params: 0\n",
      "_________________________________________________________________\n",
      "Epoch 1/100\n",
      "154/154 [==============================] - 2s 4ms/step - loss: 2.4264 - accuracy: 0.5312\n",
      "Epoch 2/100\n",
      "154/154 [==============================] - 0s 3ms/step - loss: 0.7170 - accuracy: 0.6432\n",
      "Epoch 3/100\n",
      "154/154 [==============================] - 0s 3ms/step - loss: 0.6740 - accuracy: 0.6602\n",
      "Epoch 4/100\n",
      "154/154 [==============================] - 1s 3ms/step - loss: 0.6688 - accuracy: 0.6589\n",
      "Epoch 5/100\n",
      "154/154 [==============================] - 1s 4ms/step - loss: 0.6291 - accuracy: 0.6680\n",
      "Epoch 6/100\n",
      "154/154 [==============================] - 1s 3ms/step - loss: 0.6365 - accuracy: 0.6562\n",
      "Epoch 7/100\n",
      "154/154 [==============================] - 1s 3ms/step - loss: 0.6169 - accuracy: 0.6823\n",
      "Epoch 8/100\n",
      "154/154 [==============================] - 0s 3ms/step - loss: 0.5961 - accuracy: 0.7057\n",
      "Epoch 9/100\n",
      "154/154 [==============================] - 1s 4ms/step - loss: 0.6000 - accuracy: 0.6823\n",
      "Epoch 10/100\n",
      "154/154 [==============================] - 0s 3ms/step - loss: 0.5775 - accuracy: 0.6966\n",
      "Epoch 11/100\n",
      "154/154 [==============================] - 1s 3ms/step - loss: 0.5921 - accuracy: 0.6979\n",
      "Epoch 12/100\n",
      "154/154 [==============================] - 1s 4ms/step - loss: 0.5872 - accuracy: 0.7044\n",
      "Epoch 13/100\n",
      "154/154 [==============================] - 1s 3ms/step - loss: 0.5723 - accuracy: 0.7031\n",
      "Epoch 14/100\n",
      "154/154 [==============================] - 0s 3ms/step - loss: 0.5724 - accuracy: 0.7161\n",
      "Epoch 15/100\n",
      "154/154 [==============================] - 0s 3ms/step - loss: 0.5650 - accuracy: 0.7227\n",
      "Epoch 16/100\n",
      "154/154 [==============================] - 0s 3ms/step - loss: 0.5592 - accuracy: 0.7357\n",
      "Epoch 17/100\n",
      "154/154 [==============================] - 0s 2ms/step - loss: 0.5748 - accuracy: 0.7070\n",
      "Epoch 18/100\n",
      "154/154 [==============================] - 0s 2ms/step - loss: 0.5683 - accuracy: 0.7253\n",
      "Epoch 19/100\n",
      "154/154 [==============================] - 0s 3ms/step - loss: 0.5714 - accuracy: 0.7122\n",
      "Epoch 20/100\n",
      "154/154 [==============================] - 1s 3ms/step - loss: 0.5609 - accuracy: 0.7422\n",
      "Epoch 21/100\n",
      "154/154 [==============================] - 0s 3ms/step - loss: 0.5640 - accuracy: 0.7240\n",
      "Epoch 22/100\n",
      "154/154 [==============================] - 0s 2ms/step - loss: 0.5609 - accuracy: 0.7266\n",
      "Epoch 23/100\n",
      "154/154 [==============================] - 0s 2ms/step - loss: 0.5556 - accuracy: 0.7201\n",
      "Epoch 24/100\n",
      "154/154 [==============================] - 0s 2ms/step - loss: 0.5989 - accuracy: 0.7044\n",
      "Epoch 25/100\n",
      "154/154 [==============================] - 0s 2ms/step - loss: 0.5547 - accuracy: 0.7292\n",
      "Epoch 26/100\n",
      "154/154 [==============================] - 0s 2ms/step - loss: 0.5629 - accuracy: 0.7240\n",
      "Epoch 27/100\n",
      "154/154 [==============================] - 0s 2ms/step - loss: 0.5542 - accuracy: 0.7201\n",
      "Epoch 28/100\n",
      "154/154 [==============================] - 0s 2ms/step - loss: 0.5484 - accuracy: 0.7305\n",
      "Epoch 29/100\n",
      "154/154 [==============================] - 0s 2ms/step - loss: 0.5472 - accuracy: 0.7318\n",
      "Epoch 30/100\n",
      "154/154 [==============================] - 0s 3ms/step - loss: 0.5478 - accuracy: 0.7214\n",
      "Epoch 31/100\n",
      "154/154 [==============================] - 1s 3ms/step - loss: 0.5431 - accuracy: 0.7292\n",
      "Epoch 32/100\n",
      "154/154 [==============================] - 1s 3ms/step - loss: 0.5444 - accuracy: 0.7279\n",
      "Epoch 33/100\n",
      "154/154 [==============================] - 1s 3ms/step - loss: 0.5514 - accuracy: 0.7370\n",
      "Epoch 34/100\n",
      "154/154 [==============================] - 1s 3ms/step - loss: 0.5400 - accuracy: 0.7266\n",
      "Epoch 35/100\n",
      "154/154 [==============================] - 0s 3ms/step - loss: 0.5327 - accuracy: 0.7552\n",
      "Epoch 36/100\n",
      "154/154 [==============================] - 0s 2ms/step - loss: 0.5404 - accuracy: 0.7409\n",
      "Epoch 37/100\n",
      "154/154 [==============================] - 0s 2ms/step - loss: 0.5385 - accuracy: 0.7305\n",
      "Epoch 38/100\n",
      "154/154 [==============================] - 0s 2ms/step - loss: 0.5415 - accuracy: 0.7370\n",
      "Epoch 39/100\n",
      "154/154 [==============================] - 0s 2ms/step - loss: 0.5413 - accuracy: 0.7266\n",
      "Epoch 40/100\n",
      "154/154 [==============================] - 0s 2ms/step - loss: 0.5420 - accuracy: 0.7279\n",
      "Epoch 41/100\n",
      "154/154 [==============================] - 0s 2ms/step - loss: 0.5332 - accuracy: 0.7305\n",
      "Epoch 42/100\n",
      "154/154 [==============================] - 0s 2ms/step - loss: 0.5418 - accuracy: 0.7318\n",
      "Epoch 43/100\n",
      "154/154 [==============================] - 1s 3ms/step - loss: 0.5332 - accuracy: 0.7266\n",
      "Epoch 44/100\n",
      "154/154 [==============================] - 1s 3ms/step - loss: 0.5397 - accuracy: 0.7422\n",
      "Epoch 45/100\n",
      "154/154 [==============================] - 1s 4ms/step - loss: 0.5332 - accuracy: 0.7318\n",
      "Epoch 46/100\n",
      "154/154 [==============================] - 0s 3ms/step - loss: 0.5286 - accuracy: 0.7409\n",
      "Epoch 47/100\n",
      "154/154 [==============================] - 0s 3ms/step - loss: 0.5351 - accuracy: 0.7409\n",
      "Epoch 48/100\n",
      "154/154 [==============================] - 0s 3ms/step - loss: 0.5315 - accuracy: 0.7422\n",
      "Epoch 49/100\n",
      "154/154 [==============================] - 0s 3ms/step - loss: 0.5344 - accuracy: 0.7370\n",
      "Epoch 50/100\n",
      "154/154 [==============================] - 1s 3ms/step - loss: 0.5325 - accuracy: 0.7331\n",
      "Epoch 51/100\n",
      "154/154 [==============================] - 0s 3ms/step - loss: 0.5471 - accuracy: 0.7279\n",
      "Epoch 52/100\n",
      "154/154 [==============================] - 0s 3ms/step - loss: 0.5222 - accuracy: 0.7513\n",
      "Epoch 53/100\n",
      "154/154 [==============================] - 0s 2ms/step - loss: 0.5280 - accuracy: 0.7552\n",
      "Epoch 54/100\n",
      "154/154 [==============================] - 0s 3ms/step - loss: 0.5292 - accuracy: 0.7370\n",
      "Epoch 55/100\n",
      "154/154 [==============================] - 0s 3ms/step - loss: 0.5218 - accuracy: 0.7591\n",
      "Epoch 56/100\n",
      "154/154 [==============================] - 0s 3ms/step - loss: 0.5185 - accuracy: 0.7474\n",
      "Epoch 57/100\n",
      "154/154 [==============================] - 0s 2ms/step - loss: 0.5317 - accuracy: 0.7448\n",
      "Epoch 58/100\n",
      "154/154 [==============================] - 0s 2ms/step - loss: 0.5235 - accuracy: 0.7370\n",
      "Epoch 59/100\n",
      "154/154 [==============================] - 0s 3ms/step - loss: 0.5183 - accuracy: 0.7357\n",
      "Epoch 60/100\n",
      "154/154 [==============================] - 0s 3ms/step - loss: 0.5267 - accuracy: 0.7292\n",
      "Epoch 61/100\n",
      "154/154 [==============================] - 1s 3ms/step - loss: 0.5189 - accuracy: 0.7396\n",
      "Epoch 62/100\n",
      "154/154 [==============================] - 1s 3ms/step - loss: 0.5177 - accuracy: 0.7526\n",
      "Epoch 63/100\n",
      "154/154 [==============================] - 0s 3ms/step - loss: 0.5110 - accuracy: 0.7461\n",
      "Epoch 64/100\n",
      "154/154 [==============================] - 0s 3ms/step - loss: 0.5190 - accuracy: 0.7383\n",
      "Epoch 65/100\n",
      "154/154 [==============================] - 0s 3ms/step - loss: 0.5107 - accuracy: 0.7448\n",
      "Epoch 66/100\n",
      "154/154 [==============================] - 0s 2ms/step - loss: 0.5166 - accuracy: 0.7591\n",
      "Epoch 67/100\n",
      "154/154 [==============================] - 0s 3ms/step - loss: 0.5251 - accuracy: 0.7539\n",
      "Epoch 68/100\n",
      "154/154 [==============================] - 0s 2ms/step - loss: 0.5215 - accuracy: 0.7513\n",
      "Epoch 69/100\n",
      "154/154 [==============================] - 0s 2ms/step - loss: 0.5351 - accuracy: 0.7266\n",
      "Epoch 70/100\n",
      "154/154 [==============================] - 0s 3ms/step - loss: 0.5142 - accuracy: 0.7474\n",
      "Epoch 71/100\n",
      "154/154 [==============================] - 0s 2ms/step - loss: 0.5188 - accuracy: 0.7357\n",
      "Epoch 72/100\n",
      "154/154 [==============================] - 0s 2ms/step - loss: 0.5061 - accuracy: 0.7474\n",
      "Epoch 73/100\n",
      "154/154 [==============================] - 0s 2ms/step - loss: 0.5092 - accuracy: 0.7500\n",
      "Epoch 74/100\n",
      "154/154 [==============================] - 0s 2ms/step - loss: 0.5066 - accuracy: 0.7513\n",
      "Epoch 75/100\n",
      "154/154 [==============================] - 0s 3ms/step - loss: 0.5190 - accuracy: 0.7383\n",
      "Epoch 76/100\n",
      "154/154 [==============================] - 0s 2ms/step - loss: 0.5146 - accuracy: 0.7565\n",
      "Epoch 77/100\n",
      "154/154 [==============================] - 0s 2ms/step - loss: 0.5054 - accuracy: 0.7591\n",
      "Epoch 78/100\n",
      "154/154 [==============================] - 0s 2ms/step - loss: 0.5042 - accuracy: 0.7383\n",
      "Epoch 79/100\n",
      "154/154 [==============================] - 0s 2ms/step - loss: 0.5018 - accuracy: 0.7396\n",
      "Epoch 80/100\n",
      "154/154 [==============================] - 0s 3ms/step - loss: 0.5169 - accuracy: 0.7630\n",
      "Epoch 81/100\n",
      "154/154 [==============================] - 0s 2ms/step - loss: 0.5063 - accuracy: 0.7448\n",
      "Epoch 82/100\n",
      "154/154 [==============================] - 0s 3ms/step - loss: 0.5066 - accuracy: 0.7604\n",
      "Epoch 83/100\n",
      "154/154 [==============================] - 1s 3ms/step - loss: 0.5111 - accuracy: 0.7422\n",
      "Epoch 84/100\n",
      "154/154 [==============================] - 1s 3ms/step - loss: 0.4989 - accuracy: 0.7630\n",
      "Epoch 85/100\n",
      "154/154 [==============================] - 0s 3ms/step - loss: 0.5036 - accuracy: 0.7604\n",
      "Epoch 86/100\n",
      "154/154 [==============================] - 1s 3ms/step - loss: 0.5067 - accuracy: 0.7539\n",
      "Epoch 87/100\n",
      "154/154 [==============================] - 1s 3ms/step - loss: 0.5026 - accuracy: 0.7500\n",
      "Epoch 88/100\n",
      "154/154 [==============================] - 1s 3ms/step - loss: 0.4975 - accuracy: 0.7604\n",
      "Epoch 89/100\n",
      "154/154 [==============================] - 0s 3ms/step - loss: 0.4964 - accuracy: 0.7578\n",
      "Epoch 90/100\n",
      "154/154 [==============================] - 0s 3ms/step - loss: 0.5010 - accuracy: 0.7474\n",
      "Epoch 91/100\n",
      "154/154 [==============================] - 0s 3ms/step - loss: 0.5013 - accuracy: 0.7539\n",
      "Epoch 92/100\n",
      "154/154 [==============================] - 0s 2ms/step - loss: 0.5024 - accuracy: 0.7461\n",
      "Epoch 93/100\n",
      "154/154 [==============================] - 0s 2ms/step - loss: 0.4993 - accuracy: 0.7539\n",
      "Epoch 94/100\n",
      "154/154 [==============================] - 0s 2ms/step - loss: 0.4967 - accuracy: 0.7565\n",
      "Epoch 95/100\n",
      "154/154 [==============================] - 0s 2ms/step - loss: 0.4943 - accuracy: 0.7539\n",
      "Epoch 96/100\n",
      "154/154 [==============================] - 0s 2ms/step - loss: 0.5020 - accuracy: 0.7591\n",
      "Epoch 97/100\n",
      "154/154 [==============================] - 0s 2ms/step - loss: 0.5009 - accuracy: 0.7487\n",
      "Epoch 98/100\n",
      "154/154 [==============================] - 0s 3ms/step - loss: 0.4924 - accuracy: 0.7604\n",
      "Epoch 99/100\n",
      "154/154 [==============================] - 0s 3ms/step - loss: 0.4908 - accuracy: 0.7604\n",
      "Epoch 100/100\n",
      "154/154 [==============================] - 0s 2ms/step - loss: 0.4965 - accuracy: 0.7461\n"
     ]
    }
   ],
   "source": [
    "model = Sequential()\n",
    "model.add(Dense(12, input_dim=8, activation='relu', name='Dense_1'))\n",
    "model.add(Dense(8, activation='relu', name='Dense_2'))\n",
    "model.add(Dense(1, activation='sigmoid', name='Dense_3'))\n",
    "model.summary()\n",
    "\n",
    "# 모델 컴파일\n",
    "model.compile(loss='binary_crossentropy', optimizer='adam', metrics=['accuracy'])\n",
    "\n",
    "# 모델 실행\n",
    "history = model.fit(X, y, epochs=100, batch_size=5)"
   ]
  },
  {
   "cell_type": "code",
   "execution_count": null,
   "id": "b2b7a166-b9f2-400f-b9c2-6af75c98f892",
   "metadata": {},
   "outputs": [],
   "source": []
  },
  {
   "cell_type": "code",
   "execution_count": null,
   "id": "d0e45dbd-9669-47d6-a71b-3a64b3414308",
   "metadata": {},
   "outputs": [],
   "source": []
  },
  {
   "cell_type": "code",
   "execution_count": null,
   "id": "ebac1ad2-6994-40b1-b838-6a56591165aa",
   "metadata": {},
   "outputs": [],
   "source": []
  },
  {
   "cell_type": "code",
   "execution_count": null,
   "id": "852441cc-1bc4-4559-9216-7537a038fd07",
   "metadata": {},
   "outputs": [],
   "source": []
  },
  {
   "cell_type": "code",
   "execution_count": null,
   "id": "3b5c2d05-4e24-49b5-8900-aff2a700a2b9",
   "metadata": {},
   "outputs": [],
   "source": []
  }
 ],
 "metadata": {
  "hide_input": false,
  "kernelspec": {
   "display_name": "Python 3 (ipykernel)",
   "language": "python",
   "name": "python3"
  },
  "language_info": {
   "codemirror_mode": {
    "name": "ipython",
    "version": 3
   },
   "file_extension": ".py",
   "mimetype": "text/x-python",
   "name": "python",
   "nbconvert_exporter": "python",
   "pygments_lexer": "ipython3",
   "version": "3.9.16"
  },
  "toc": {
   "base_numbering": 1,
   "nav_menu": {},
   "number_sections": false,
   "sideBar": true,
   "skip_h1_title": false,
   "title_cell": "Table of Contents",
   "title_sidebar": "Contents",
   "toc_cell": false,
   "toc_position": {},
   "toc_section_display": true,
   "toc_window_display": false
  }
 },
 "nbformat": 4,
 "nbformat_minor": 5
}
