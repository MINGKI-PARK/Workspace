{
 "cells": [
  {
   "cell_type": "markdown",
   "id": "4777b578",
   "metadata": {},
   "source": [
    "## 10. 딥러닝 모델 설계하기"
   ]
  },
  {
   "cell_type": "markdown",
   "id": "c9a37c1e",
   "metadata": {},
   "source": [
    "### 10.1 모델의 정의\n",
    "\n",
    "+ 폐암 수술 환자의 생존율 예측하기"
   ]
  },
  {
   "cell_type": "code",
   "execution_count": 1,
   "id": "a1d332be",
   "metadata": {
    "ExecuteTime": {
     "end_time": "2023-07-16T08:26:28.742073Z",
     "start_time": "2023-07-16T08:26:26.170566Z"
    }
   },
   "outputs": [
    {
     "name": "stdout",
     "output_type": "stream",
     "text": [
      "Epoch 1/5\n",
      "30/30 [==============================] - 1s 3ms/step - loss: 7.2943 - accuracy: 0.1553\n",
      "Epoch 2/5\n",
      "30/30 [==============================] - 0s 2ms/step - loss: 0.5915 - accuracy: 0.8298\n",
      "Epoch 3/5\n",
      "30/30 [==============================] - 0s 3ms/step - loss: 0.5083 - accuracy: 0.8511\n",
      "Epoch 4/5\n",
      "30/30 [==============================] - 0s 2ms/step - loss: 0.4602 - accuracy: 0.8511\n",
      "Epoch 5/5\n",
      "30/30 [==============================] - 0s 2ms/step - loss: 0.4575 - accuracy: 0.8511\n"
     ]
    }
   ],
   "source": [
    "# 텐서플로 라이브러리 안에 있는 케라스 API에서 필요한 함수\n",
    "from tensorflow.keras.models import Sequential\n",
    "from tensorflow.keras.layers import Dense\n",
    "\n",
    "# 데이터를 다루는데 필요한 라이브러리\n",
    "import numpy as np\n",
    "\n",
    "# 데이터 불러오기\n",
    "data_set = np.loadtxt('c:/reposit/data/모두의 딥러닝/ThoraricSurgery3.csv', delimiter=',')\n",
    "\n",
    "X = data_set[:, 0:16] # 환자의 진찰 기록을 X로 지정\n",
    "y = data_set[:, 16] # 수술 1년 후 사망/생존 여부를 y로 지정\n",
    "\n",
    "# 딥러닝 모델 구조를 결정\n",
    "model = Sequential()\n",
    "model.add(Dense(30, input_dim=16, activation='relu'))\n",
    "model.add(Dense(1, activation='sigmoid'))\n",
    "\n",
    "# 딥러닝 모델을 실행\n",
    "model.compile(loss='binary_crossentropy', optimizer='adam', metrics=['accuracy'])\n",
    "history = model.fit(X, y, epochs=5, batch_size=16)"
   ]
  },
  {
   "cell_type": "markdown",
   "id": "05b9971a",
   "metadata": {},
   "source": [
    "### 10.2 입력층, 은닉층, 출력층"
   ]
  },
  {
   "cell_type": "code",
   "execution_count": 2,
   "id": "b3ca20e7",
   "metadata": {
    "ExecuteTime": {
     "end_time": "2023-07-16T08:26:28.845080Z",
     "start_time": "2023-07-16T08:26:28.753196Z"
    }
   },
   "outputs": [],
   "source": [
    "model = Sequential()\n",
    "model.add(Dense(30, input_dim=16, activation='relu'))\n",
    "model.add(Dense(1, activation='sigmoid'))"
   ]
  },
  {
   "cell_type": "markdown",
   "id": "7907a926",
   "metadata": {},
   "source": [
    "### 10.3 모델 컴파일"
   ]
  },
  {
   "cell_type": "code",
   "execution_count": 3,
   "id": "8c4aa2ad",
   "metadata": {
    "ExecuteTime": {
     "end_time": "2023-07-16T08:26:29.629555Z",
     "start_time": "2023-07-16T08:26:29.609568Z"
    }
   },
   "outputs": [],
   "source": [
    "model.compile(loss='binary_crossentropy', optimizer='adam', metrics=['accuracy'])"
   ]
  },
  {
   "cell_type": "markdown",
   "id": "0cebc847",
   "metadata": {},
   "source": [
    "### 10.4 모델 실행하기"
   ]
  },
  {
   "cell_type": "code",
   "execution_count": 4,
   "id": "63b9e5c0",
   "metadata": {
    "ExecuteTime": {
     "end_time": "2023-07-16T08:26:32.602207Z",
     "start_time": "2023-07-16T08:26:30.624870Z"
    }
   },
   "outputs": [
    {
     "name": "stdout",
     "output_type": "stream",
     "text": [
      "Epoch 1/5\n",
      "30/30 [==============================] - 1s 2ms/step - loss: 0.9452 - accuracy: 0.6745\n",
      "Epoch 2/5\n",
      "30/30 [==============================] - 0s 2ms/step - loss: 0.4531 - accuracy: 0.8511\n",
      "Epoch 3/5\n",
      "30/30 [==============================] - 0s 2ms/step - loss: 0.4323 - accuracy: 0.8511\n",
      "Epoch 4/5\n",
      "30/30 [==============================] - 0s 3ms/step - loss: 0.4278 - accuracy: 0.8511\n",
      "Epoch 5/5\n",
      "30/30 [==============================] - 0s 2ms/step - loss: 0.4208 - accuracy: 0.8511\n"
     ]
    }
   ],
   "source": [
    "history = model.fit(X, y, epochs=5, batch_size=16)"
   ]
  },
  {
   "cell_type": "markdown",
   "id": "cc2db790-9c0d-430e-ada3-a24849ee2bfa",
   "metadata": {},
   "source": [
    "## 11. 데이터 다루기"
   ]
  },
  {
   "cell_type": "markdown",
   "id": "9c5d88e5-7e25-42db-b30a-96ba2ca889e0",
   "metadata": {},
   "source": [
    "### 11.1 딥러닝과 데이터"
   ]
  },
  {
   "cell_type": "code",
   "execution_count": null,
   "id": "fb04d6cd-d4aa-408e-a8de-3f73384d5753",
   "metadata": {},
   "outputs": [],
   "source": []
  },
  {
   "cell_type": "code",
   "execution_count": null,
   "id": "f1e3c061-11a1-44c8-baab-373e6ebbc1e1",
   "metadata": {},
   "outputs": [],
   "source": []
  },
  {
   "cell_type": "code",
   "execution_count": null,
   "id": "55b262ee-8237-40e9-83f4-d4117434c016",
   "metadata": {},
   "outputs": [],
   "source": []
  },
  {
   "cell_type": "code",
   "execution_count": null,
   "id": "e68dd850-c402-4403-8009-7af89aea665c",
   "metadata": {},
   "outputs": [],
   "source": []
  },
  {
   "cell_type": "code",
   "execution_count": null,
   "id": "dcd0df16-3825-4ff7-ab85-d2d7c419c494",
   "metadata": {},
   "outputs": [],
   "source": []
  },
  {
   "cell_type": "code",
   "execution_count": null,
   "id": "8f748e73-af2a-423a-9371-554e69180dbf",
   "metadata": {},
   "outputs": [],
   "source": []
  },
  {
   "cell_type": "code",
   "execution_count": null,
   "id": "f7ba8fad-8d98-488e-bed7-8ce4db9ad7b6",
   "metadata": {},
   "outputs": [],
   "source": []
  }
 ],
 "metadata": {
  "hide_input": false,
  "kernelspec": {
   "display_name": "Python 3 (ipykernel)",
   "language": "python",
   "name": "python3"
  },
  "language_info": {
   "codemirror_mode": {
    "name": "ipython",
    "version": 3
   },
   "file_extension": ".py",
   "mimetype": "text/x-python",
   "name": "python",
   "nbconvert_exporter": "python",
   "pygments_lexer": "ipython3",
   "version": "3.9.16"
  },
  "toc": {
   "base_numbering": 1,
   "nav_menu": {},
   "number_sections": false,
   "sideBar": true,
   "skip_h1_title": false,
   "title_cell": "Table of Contents",
   "title_sidebar": "Contents",
   "toc_cell": false,
   "toc_position": {},
   "toc_section_display": true,
   "toc_window_display": false
  }
 },
 "nbformat": 4,
 "nbformat_minor": 5
}
