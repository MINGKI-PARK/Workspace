{
 "cells": [
  {
   "cell_type": "markdown",
   "id": "bcbec401",
   "metadata": {},
   "source": [
    "## 4. 가장 훌륭한 예측선"
   ]
  },
  {
   "cell_type": "code",
   "execution_count": 39,
   "id": "9ceb97b3",
   "metadata": {
    "ExecuteTime": {
     "end_time": "2023-07-12T11:11:12.599952Z",
     "start_time": "2023-07-12T11:11:09.412627Z"
    }
   },
   "outputs": [],
   "source": [
    "import math\n",
    "import numpy as np\n",
    "\n",
    "import matplotlib.pyplot as plt\n",
    "import seaborn as sns"
   ]
  },
  {
   "cell_type": "markdown",
   "id": "c29ff8f3",
   "metadata": {},
   "source": [
    "### 4.3 최소 제곱법"
   ]
  },
  {
   "cell_type": "code",
   "execution_count": 7,
   "id": "cbc20407",
   "metadata": {
    "ExecuteTime": {
     "end_time": "2023-07-12T10:07:05.749536Z",
     "start_time": "2023-07-12T10:07:05.729626Z"
    }
   },
   "outputs": [
    {
     "data": {
      "text/plain": [
       "(array([2, 4, 6, 8]), array([81, 93, 91, 97]))"
      ]
     },
     "execution_count": 7,
     "metadata": {},
     "output_type": "execute_result"
    }
   ],
   "source": [
    "x = np.array([2, 4, 6, 8])\n",
    "y = np.array([81, 93, 91, 97])\n",
    "\n",
    "x, y"
   ]
  },
  {
   "cell_type": "code",
   "execution_count": 6,
   "id": "4e3e4b8f",
   "metadata": {
    "ExecuteTime": {
     "end_time": "2023-07-12T10:07:00.397811Z",
     "start_time": "2023-07-12T10:07:00.375086Z"
    }
   },
   "outputs": [
    {
     "data": {
      "text/plain": [
       "(5.0, 90.5)"
      ]
     },
     "execution_count": 6,
     "metadata": {},
     "output_type": "execute_result"
    }
   ],
   "source": [
    "mx = np.mean(x)\n",
    "my = np.mean(y)\n",
    "\n",
    "mx, my"
   ]
  },
  {
   "cell_type": "code",
   "execution_count": 8,
   "id": "6a2fb8ff",
   "metadata": {
    "ExecuteTime": {
     "end_time": "2023-07-12T10:09:32.797258Z",
     "start_time": "2023-07-12T10:09:32.789280Z"
    }
   },
   "outputs": [],
   "source": [
    "def divisor(x:list):\n",
    "    \n",
    "    li = []\n",
    "    \n",
    "    for i in x:\n",
    "        li.append((i - mx)**2)\n",
    "    \n",
    "    return sum(li)"
   ]
  },
  {
   "cell_type": "code",
   "execution_count": 10,
   "id": "0b642ba8",
   "metadata": {
    "ExecuteTime": {
     "end_time": "2023-07-12T10:10:03.379528Z",
     "start_time": "2023-07-12T10:10:03.366564Z"
    }
   },
   "outputs": [
    {
     "data": {
      "text/plain": [
       "(20.0, 29380.0)"
      ]
     },
     "execution_count": 10,
     "metadata": {},
     "output_type": "execute_result"
    }
   ],
   "source": [
    "divisor(x)"
   ]
  },
  {
   "cell_type": "code",
   "execution_count": 11,
   "id": "36257c9e",
   "metadata": {
    "ExecuteTime": {
     "end_time": "2023-07-12T10:11:50.844311Z",
     "start_time": "2023-07-12T10:11:50.825666Z"
    }
   },
   "outputs": [],
   "source": [
    "def top(x, mx, y, ym):\n",
    "    d = 0\n",
    "    \n",
    "    for i in range(len(x)):\n",
    "        d += (x[i] - mx) * (y[i] - my)\n",
    "    \n",
    "    return d"
   ]
  },
  {
   "cell_type": "code",
   "execution_count": 14,
   "id": "56e858b5",
   "metadata": {
    "ExecuteTime": {
     "end_time": "2023-07-12T10:12:34.983971Z",
     "start_time": "2023-07-12T10:12:34.970000Z"
    }
   },
   "outputs": [
    {
     "data": {
      "text/plain": [
       "46.0"
      ]
     },
     "execution_count": 14,
     "metadata": {},
     "output_type": "execute_result"
    }
   ],
   "source": [
    "dividend = top(x, mx, y, my)\n",
    "dividend"
   ]
  },
  {
   "cell_type": "code",
   "execution_count": 17,
   "id": "658b7e2c",
   "metadata": {
    "ExecuteTime": {
     "end_time": "2023-07-12T10:13:50.494714Z",
     "start_time": "2023-07-12T10:13:50.480752Z"
    }
   },
   "outputs": [
    {
     "data": {
      "text/plain": [
       "2.3"
      ]
     },
     "execution_count": 17,
     "metadata": {},
     "output_type": "execute_result"
    }
   ],
   "source": [
    "a = dividend / divisor(x)\n",
    "a"
   ]
  },
  {
   "cell_type": "code",
   "execution_count": 19,
   "id": "78f83812",
   "metadata": {
    "ExecuteTime": {
     "end_time": "2023-07-12T10:24:02.084897Z",
     "start_time": "2023-07-12T10:24:02.071932Z"
    }
   },
   "outputs": [
    {
     "data": {
      "text/plain": [
       "79.0"
      ]
     },
     "execution_count": 19,
     "metadata": {},
     "output_type": "execute_result"
    }
   ],
   "source": [
    "b = my - (mx * a)\n",
    "b"
   ]
  },
  {
   "cell_type": "code",
   "execution_count": 24,
   "id": "c1f119c8",
   "metadata": {
    "ExecuteTime": {
     "end_time": "2023-07-12T10:31:52.952079Z",
     "start_time": "2023-07-12T10:31:52.928179Z"
    }
   },
   "outputs": [
    {
     "name": "stdout",
     "output_type": "stream",
     "text": [
      "x의 평균값:  5.0\n",
      "y의 평균값:  90.5\n",
      "분모 : 20.0\n",
      "분자:  46.0\n",
      "기울기 a = 2.3\n",
      "y절편 b = 79.0\n"
     ]
    }
   ],
   "source": [
    "x = np.array([2, 4, 6, 8])\n",
    "y = np.array([81, 93, 91, 97])\n",
    "\n",
    "mx = np.mean(x)\n",
    "my = np.mean(y)\n",
    "\n",
    "print('x의 평균값: ', mx)\n",
    "print('y의 평균값: ', my)\n",
    "\n",
    "def divisor(x:list):\n",
    "    li = []\n",
    "    for i in x:\n",
    "        li.append((i-mx)**2)\n",
    "    return sum(li)\n",
    "\n",
    "\n",
    "def top(x, mx, y, my):\n",
    "    d = 0\n",
    "    for i in range(len(x)):\n",
    "        d += (x[i] - mx) * (y[i] - my)\n",
    "    return d\n",
    "\n",
    "dividend = top(x, mx, y, my)\n",
    "\n",
    "print('분모 :', divisor(x))\n",
    "print('분자: ', dividend)\n",
    "\n",
    "a = dividend / divisor(x)\n",
    "\n",
    "b = my - (mx * a)\n",
    "\n",
    "print('기울기 a =', a)\n",
    "print('y절편 b =', b)"
   ]
  },
  {
   "cell_type": "markdown",
   "id": "e7d41af4",
   "metadata": {},
   "source": [
    "### 4.5 평균 제곱 오차\n",
    "\n",
    "+ Mean Square Error (MSE)"
   ]
  },
  {
   "cell_type": "code",
   "execution_count": 27,
   "id": "1e7663fb",
   "metadata": {
    "ExecuteTime": {
     "end_time": "2023-07-12T10:36:34.050504Z",
     "start_time": "2023-07-12T10:36:34.042526Z"
    }
   },
   "outputs": [],
   "source": [
    "fake_a = 3\n",
    "fake_b = 76\n",
    "\n",
    "def predict(x):\n",
    "    return fake_a * x + fake_b"
   ]
  },
  {
   "cell_type": "code",
   "execution_count": 28,
   "id": "85f741ea",
   "metadata": {
    "ExecuteTime": {
     "end_time": "2023-07-12T10:36:39.926722Z",
     "start_time": "2023-07-12T10:36:39.914755Z"
    }
   },
   "outputs": [],
   "source": [
    "predict_result = []"
   ]
  },
  {
   "cell_type": "code",
   "execution_count": 29,
   "id": "e26f4965",
   "metadata": {
    "ExecuteTime": {
     "end_time": "2023-07-12T10:38:18.889515Z",
     "start_time": "2023-07-12T10:38:18.871564Z"
    }
   },
   "outputs": [
    {
     "name": "stdout",
     "output_type": "stream",
     "text": [
      "공부시간=2, 실제점수=81, 예측점수=82\n",
      "공부시간=4, 실제점수=93, 예측점수=88\n",
      "공부시간=6, 실제점수=91, 예측점수=94\n",
      "공부시간=8, 실제점수=97, 예측점수=100\n"
     ]
    }
   ],
   "source": [
    "for i in range(len(x)):\n",
    "    predict_result.append(predict(x[i]))\n",
    "    print('공부시간=%.f, 실제점수=%.f, 예측점수=%.f' % (x[i], y[i], predict(x[i])))"
   ]
  },
  {
   "cell_type": "code",
   "execution_count": 31,
   "id": "922d8815",
   "metadata": {
    "ExecuteTime": {
     "end_time": "2023-07-12T10:40:56.376926Z",
     "start_time": "2023-07-12T10:40:56.367950Z"
    }
   },
   "outputs": [],
   "source": [
    "def mse(y, y_pred):\n",
    "    return sum((y - y_pred)**2) / n"
   ]
  },
  {
   "cell_type": "code",
   "execution_count": 34,
   "id": "214ab729",
   "metadata": {
    "ExecuteTime": {
     "end_time": "2023-07-12T10:42:52.707100Z",
     "start_time": "2023-07-12T10:42:52.694134Z"
    }
   },
   "outputs": [
    {
     "data": {
      "text/plain": [
       "array([-79, -89, -85, -89])"
      ]
     },
     "execution_count": 34,
     "metadata": {},
     "output_type": "execute_result"
    }
   ],
   "source": [
    "x- y"
   ]
  },
  {
   "cell_type": "code",
   "execution_count": 36,
   "id": "28ec53f1",
   "metadata": {
    "ExecuteTime": {
     "end_time": "2023-07-12T10:47:48.925009Z",
     "start_time": "2023-07-12T10:47:48.906065Z"
    }
   },
   "outputs": [
    {
     "name": "stdout",
     "output_type": "stream",
     "text": [
      "공부시간=2, 실제점수=81, 예측점수=82\n",
      "공부시간=4, 실제점수=93, 예측점수=88\n",
      "공부시간=6, 실제점수=91, 예측점수=94\n",
      "공부시간=8, 실제점수=97, 예측점수=100\n",
      "평균 제곱 오차: 11.0\n"
     ]
    }
   ],
   "source": [
    "x = np.array([2, 4, 6, 8])\n",
    "y = np.array([81, 93, 91, 97])\n",
    "\n",
    "fake_a = 3\n",
    "fake_b = 76\n",
    "\n",
    "x = np.array([2, 4, 6, 8])\n",
    "y = np.array([81, 93, 91, 97])\n",
    "\n",
    "def predict(x):\n",
    "    return fake_a * x + fake_b\n",
    "\n",
    "predict_result = []\n",
    "\n",
    "for i in range(len(x)):\n",
    "    predict_result.append(predict(x[i]))\n",
    "    print('공부시간=%.f, 실제점수=%.f, 예측점수=%.f' % (x[i], y[i], predict(x[i])))\n",
    "    \n",
    "n = len(x)\n",
    "\n",
    "def mse(y, y_pred):\n",
    "    return sum((y - y_pred)**2) / n\n",
    "\n",
    "print('평균 제곱 오차:', str(mse(y, predict_result)))"
   ]
  },
  {
   "cell_type": "markdown",
   "id": "cd83f634",
   "metadata": {},
   "source": [
    "## 5. 선형 회귀 모델: 먼저 긋고 수정하기"
   ]
  },
  {
   "cell_type": "markdown",
   "id": "cb0da9d1",
   "metadata": {},
   "source": [
    "### 5.1 경사 하강법 (gradient decent)\n",
    "\n",
    "+ 오차의 변화에 따라 이차 함수 그래프를 만들고 적절한 학습률을 설정해 미분 값이 0인 지점을 구하는 것"
   ]
  },
  {
   "cell_type": "code",
   "execution_count": 37,
   "id": "568d0b67",
   "metadata": {
    "ExecuteTime": {
     "end_time": "2023-07-12T11:10:04.295025Z",
     "start_time": "2023-07-12T11:10:04.276075Z"
    }
   },
   "outputs": [],
   "source": [
    "y_pred = a * x + b\n",
    "error = y - y_pred\n",
    "\n",
    "a_diff = (2/n) * sum(-x * (error))\n",
    "b_diff = (2/n) * sum(-(error))"
   ]
  },
  {
   "cell_type": "code",
   "execution_count": 38,
   "id": "3a4f908d",
   "metadata": {
    "ExecuteTime": {
     "end_time": "2023-07-12T11:10:39.152319Z",
     "start_time": "2023-07-12T11:10:39.129389Z"
    }
   },
   "outputs": [
    {
     "data": {
      "text/plain": [
       "(2.2999999999999994, 79.0)"
      ]
     },
     "execution_count": 38,
     "metadata": {},
     "output_type": "execute_result"
    }
   ],
   "source": [
    "lr = 0.03\n",
    "\n",
    "a = a - lr * a_diff\n",
    "b = b - lr * b_diff\n",
    "\n",
    "a, b"
   ]
  },
  {
   "cell_type": "code",
   "execution_count": 44,
   "id": "751d8359",
   "metadata": {
    "ExecuteTime": {
     "end_time": "2023-07-12T11:17:17.522089Z",
     "start_time": "2023-07-12T11:17:17.330962Z"
    }
   },
   "outputs": [
    {
     "name": "stdout",
     "output_type": "stream",
     "text": [
      "epochs=0, 기울기=27.8400, 절편=5.4300\n",
      "epochs=100, 기울기=7.0739, 절편=50.5117\n",
      "epochs=200, 기울기=4.0960, 절편=68.2822\n",
      "epochs=300, 기울기=2.9757, 절편=74.9678\n",
      "epochs=400, 기울기=2.5542, 절편=77.4830\n",
      "epochs=500, 기울기=2.3956, 절편=78.4293\n",
      "epochs=600, 기울기=2.3360, 절편=78.7853\n",
      "epochs=700, 기울기=2.3135, 절편=78.9192\n",
      "epochs=800, 기울기=2.3051, 절편=78.9696\n",
      "epochs=900, 기울기=2.3019, 절편=78.9886\n",
      "epochs=1000, 기울기=2.3007, 절편=78.9957\n",
      "epochs=1100, 기울기=2.3003, 절편=78.9984\n",
      "epochs=1200, 기울기=2.3001, 절편=78.9994\n",
      "epochs=1300, 기울기=2.3000, 절편=78.9998\n",
      "epochs=1400, 기울기=2.3000, 절편=78.9999\n",
      "epochs=1500, 기울기=2.3000, 절편=79.0000\n",
      "epochs=1600, 기울기=2.3000, 절편=79.0000\n",
      "epochs=1700, 기울기=2.3000, 절편=79.0000\n",
      "epochs=1800, 기울기=2.3000, 절편=79.0000\n",
      "epochs=1900, 기울기=2.3000, 절편=79.0000\n",
      "epochs=2000, 기울기=2.3000, 절편=79.0000\n"
     ]
    },
    {
     "data": {
      "image/png": "[encoded data removed]",
      "text/plain": [
       "<Figure size 640x480 with 1 Axes>"
      ]
     },
     "metadata": {},
     "output_type": "display_data"
    }
   ],
   "source": [
    "x = np.array([2, 4, 6, 8])\n",
    "y = np.array([81, 93, 91, 97])\n",
    "\n",
    "# sns.scatterplot(x, y)\n",
    "# plt.show()\n",
    "\n",
    "a = 0\n",
    "b = 0\n",
    "\n",
    "lr = 0.03\n",
    "\n",
    "epochs = 2001\n",
    "\n",
    "n = len(x)\n",
    "\n",
    "for i in range(epochs):\n",
    "    y_pred = a * x + b\n",
    "    error = y - y_pred\n",
    "    \n",
    "    a_diff = (2/n) * sum(-x * (error))\n",
    "    b_diff = (2/n) * sum(-(error))\n",
    "    \n",
    "    a = a - lr * a_diff\n",
    "    b = b - lr * b_diff\n",
    "    \n",
    "    if i % 100 == 0:\n",
    "        print('epochs=%.f, 기울기=%.04f, 절편=%.04f' % (i, a, b))\n",
    "        \n",
    "        \n",
    "y_pred = a * x + b\n",
    "\n",
    "plt.scatter(x, y)\n",
    "plt.plot(x, y_pred, 'r')\n",
    "plt.show()"
   ]
  },
  {
   "cell_type": "markdown",
   "id": "b5e06b4d",
   "metadata": {},
   "source": [
    "### 5.2 다중 선형 회귀"
   ]
  },
  {
   "cell_type": "code",
   "execution_count": 45,
   "id": "a4943984",
   "metadata": {
    "ExecuteTime": {
     "end_time": "2023-07-12T11:21:13.799031Z",
     "start_time": "2023-07-12T11:21:13.784074Z"
    }
   },
   "outputs": [],
   "source": [
    "x1 = np.array([2, 4, 6, 8])\n",
    "x2 = np.array([0, 4, 2, 3])\n",
    "y = np.array([81, 93, 91, 97])"
   ]
  },
  {
   "cell_type": "code",
   "execution_count": 46,
   "id": "ac847bb1",
   "metadata": {
    "ExecuteTime": {
     "end_time": "2023-07-12T11:22:10.273836Z",
     "start_time": "2023-07-12T11:22:10.077355Z"
    }
   },
   "outputs": [
    {
     "data": {
      "image/png": "[encoded data removed]",
      "text/plain": [
       "<Figure size 640x480 with 1 Axes>"
      ]
     },
     "metadata": {},
     "output_type": "display_data"
    }
   ],
   "source": [
    "fig = plt.figure()\n",
    "ax = fig.add_subplot(111, projection='3d')\n",
    "ax.scatter3D(x1, x2, y)\n",
    "plt.show()"
   ]
  },
  {
   "cell_type": "code",
   "execution_count": 51,
   "id": "16eab027",
   "metadata": {
    "ExecuteTime": {
     "end_time": "2023-07-12T11:31:40.694945Z",
     "start_time": "2023-07-12T11:31:40.675002Z"
    }
   },
   "outputs": [],
   "source": [
    "a1, a2, b = 0, 0, 0"
   ]
  },
  {
   "cell_type": "code",
   "execution_count": 52,
   "id": "5b4ca156",
   "metadata": {
    "ExecuteTime": {
     "end_time": "2023-07-12T11:31:43.235521Z",
     "start_time": "2023-07-12T11:31:43.218064Z"
    }
   },
   "outputs": [],
   "source": [
    "y_pred = a1 * x1 + a2 + x2 + b\n",
    "error = y - y_pred"
   ]
  },
  {
   "cell_type": "code",
   "execution_count": 53,
   "id": "795983f5",
   "metadata": {
    "ExecuteTime": {
     "end_time": "2023-07-12T11:31:45.836363Z",
     "start_time": "2023-07-12T11:31:45.828388Z"
    }
   },
   "outputs": [],
   "source": [
    "n = len(x1)\n",
    "a1_diff = (2/n) * sum(-x1 * (error))\n",
    "a2_diff = (2/n) * sum(-x2 * (error))\n",
    "y_diff = (2/n) * sum(-(error))"
   ]
  },
  {
   "cell_type": "code",
   "execution_count": 54,
   "id": "3e746966",
   "metadata": {
    "ExecuteTime": {
     "end_time": "2023-07-12T11:31:46.226710Z",
     "start_time": "2023-07-12T11:31:46.210715Z"
    }
   },
   "outputs": [],
   "source": [
    "a1 = a1 - lr * a1_diff\n",
    "a2 = a2 - lr * a2_diff\n",
    "b = b - lr * b_diff"
   ]
  },
  {
   "cell_type": "code",
   "execution_count": 55,
   "id": "ef62ca5e",
   "metadata": {
    "ExecuteTime": {
     "end_time": "2023-07-12T11:32:33.341178Z",
     "start_time": "2023-07-12T11:32:33.325666Z"
    }
   },
   "outputs": [
    {
     "name": "stdout",
     "output_type": "stream",
     "text": [
      "실제 점수: [81 93 91 97]\n",
      "예측 점수: [0 4 2 3]\n"
     ]
    }
   ],
   "source": [
    "print('실제 점수:', y)\n",
    "print('예측 점수:', y_pred)"
   ]
  },
  {
   "cell_type": "code",
   "execution_count": 57,
   "id": "e3be90d9",
   "metadata": {
    "ExecuteTime": {
     "end_time": "2023-07-12T11:38:05.561156Z",
     "start_time": "2023-07-12T11:38:05.335359Z"
    }
   },
   "outputs": [
    {
     "data": {
      "image/png": "[encoded data removed]",
      "text/plain": [
       "<Figure size 640x480 with 1 Axes>"
      ]
     },
     "metadata": {},
     "output_type": "display_data"
    },
    {
     "name": "stdout",
     "output_type": "stream",
     "text": [
      "epoch=0, 기울기1=9.2800, 기울기2=4.2250, 절편=1.8100\n",
      "epoch=100, 기울기1=9.5110, 기울기2=5.0270, 절편=22.9205\n",
      "epoch=200, 기울기1=7.3238, 기울기2=4.2950, 절편=37.8751\n",
      "epoch=300, 기울기1=5.7381, 기울기2=3.7489, 절편=48.7589\n",
      "epoch=400, 기울기1=4.5844, 기울기2=3.3507, 절편=56.6800\n",
      "epoch=500, 기울기1=3.7447, 기울기2=3.0608, 절편=62.4448\n",
      "epoch=600, 기울기1=3.1337, 기울기2=2.8498, 절편=66.6404\n",
      "epoch=700, 기울기1=2.6890, 기울기2=2.6962, 절편=69.6938\n",
      "epoch=800, 기울기1=2.3653, 기울기2=2.5845, 절편=71.9160\n",
      "epoch=900, 기울기1=2.1297, 기울기2=2.5032, 절편=73.5333\n",
      "epoch=1000, 기울기1=1.9583, 기울기2=2.4440, 절편=74.7103\n",
      "epoch=1100, 기울기1=1.8336, 기울기2=2.4009, 절편=75.5670\n",
      "epoch=1200, 기울기1=1.7428, 기울기2=2.3695, 절편=76.1904\n",
      "epoch=1300, 기울기1=1.6767, 기울기2=2.3467, 절편=76.6441\n",
      "epoch=1400, 기울기1=1.6286, 기울기2=2.3301, 절편=76.9743\n",
      "epoch=1500, 기울기1=1.5936, 기울기2=2.3180, 절편=77.2146\n",
      "epoch=1600, 기울기1=1.5681, 기울기2=2.3092, 절편=77.3895\n",
      "epoch=1700, 기울기1=1.5496, 기울기2=2.3028, 절편=77.5168\n",
      "epoch=1800, 기울기1=1.5361, 기울기2=2.2982, 절편=77.6095\n",
      "epoch=1900, 기울기1=1.5263, 기울기2=2.2948, 절편=77.6769\n",
      "epoch=2000, 기울기1=1.5191, 기울기2=2.2923, 절편=77.7260\n",
      "실제 점수: [81 93 91 97]\n",
      "예측 점수: [80.76387645 92.97153922 91.42520875 96.7558749 ]\n"
     ]
    }
   ],
   "source": [
    "x1 = np.array([2, 4, 6, 8])\n",
    "x2 = np.array([0, 4, 2, 3])\n",
    "y = np.array([81, 93, 91, 97])\n",
    "\n",
    "fig = plt.figure()\n",
    "ax = fig.add_subplot(111, projection='3d')\n",
    "ax.scatter(x1, x2, y)\n",
    "plt.show()\n",
    "\n",
    "a1 = 0\n",
    "a2 = 0\n",
    "b = 0\n",
    "\n",
    "lr = .01\n",
    "\n",
    "epochs = 2001\n",
    "\n",
    "n = len(x1)\n",
    "\n",
    "for i in range(epochs):\n",
    "    y_pred = a1 * x1 + a2 * x2 + b\n",
    "    error = y- y_pred\n",
    "    \n",
    "    a1_diff = (2/n) * sum(-x1 * (error))\n",
    "    a2_diff = (2/n) * sum(-x2 * (error))\n",
    "    b_diff = (2/n) * sum(-(error))\n",
    "    \n",
    "    a1 = a1 - lr * a1_diff\n",
    "    a2 = a2 - lr * a2_diff\n",
    "    b = b - lr * b_diff\n",
    "    \n",
    "    if i % 100 == 0:\n",
    "        print('epoch=%.f, 기울기1=%.04f, 기울기2=%.04f, 절편=%.04f' % (i, a1, a2, b))\n",
    "        \n",
    "print('실제 점수:', y)\n",
    "print('예측 점수:', y_pred)"
   ]
  },
  {
   "cell_type": "markdown",
   "id": "82d0d913",
   "metadata": {},
   "source": [
    "### 5.5 텐서플로에서 실행하는 선형 회귀, 다중 선형 회귀 모델\n",
    "\n",
    "+ 가설 함수(hypothesis)\n",
    "+ 가중치(weight)\n",
    "+ 편향(bias)\n",
    "+ 손실 함수(loss fucntion)\n",
    "+ 옵티마이저(optimizer)"
   ]
  },
  {
   "cell_type": "code",
   "execution_count": 58,
   "id": "991fc96a",
   "metadata": {
    "ExecuteTime": {
     "end_time": "2023-07-12T11:43:51.593426Z",
     "start_time": "2023-07-12T11:43:51.562507Z"
    }
   },
   "outputs": [
    {
     "ename": "ModuleNotFoundError",
     "evalue": "No module named 'tensorflow'",
     "output_type": "error",
     "traceback": [
      "\u001b[1;31m---------------------------------------------------------------------------\u001b[0m",
      "\u001b[1;31mModuleNotFoundError\u001b[0m                       Traceback (most recent call last)",
      "\u001b[1;32m~\\AppData\\Local\\Temp\\ipykernel_8996\\4177631105.py\u001b[0m in \u001b[0;36m<module>\u001b[1;34m\u001b[0m\n\u001b[1;32m----> 1\u001b[1;33m \u001b[1;32mfrom\u001b[0m \u001b[0mtensorflow\u001b[0m\u001b[1;33m.\u001b[0m\u001b[0mkeras\u001b[0m\u001b[1;33m.\u001b[0m\u001b[0mmodels\u001b[0m \u001b[1;32mimport\u001b[0m \u001b[0mSequential\u001b[0m\u001b[1;33m\u001b[0m\u001b[1;33m\u001b[0m\u001b[0m\n\u001b[0m\u001b[0;32m      2\u001b[0m \u001b[1;32mfrom\u001b[0m \u001b[0mtensorflow\u001b[0m\u001b[1;33m.\u001b[0m\u001b[0mkeras\u001b[0m\u001b[1;33m.\u001b[0m\u001b[0mlayers\u001b[0m \u001b[1;32mimport\u001b[0m \u001b[0mDense\u001b[0m\u001b[1;33m\u001b[0m\u001b[1;33m\u001b[0m\u001b[0m\n",
      "\u001b[1;31mModuleNotFoundError\u001b[0m: No module named 'tensorflow'"
     ]
    }
   ],
   "source": [
    "from tensorflow.keras.models import Sequential\n",
    "from tensorflow.keras.layers import Dense"
   ]
  },
  {
   "cell_type": "code",
   "execution_count": null,
   "id": "3a87faa3",
   "metadata": {},
   "outputs": [],
   "source": []
  },
  {
   "cell_type": "code",
   "execution_count": null,
   "id": "97f970b4",
   "metadata": {},
   "outputs": [],
   "source": []
  },
  {
   "cell_type": "code",
   "execution_count": null,
   "id": "f3006b15",
   "metadata": {},
   "outputs": [],
   "source": []
  }
 ],
 "metadata": {
  "hide_input": false,
  "kernelspec": {
   "display_name": "Python 3 (ipykernel)",
   "language": "python",
   "name": "python3"
  },
  "language_info": {
   "codemirror_mode": {
    "name": "ipython",
    "version": 3
   },
   "file_extension": ".py",
   "mimetype": "text/x-python",
   "name": "python",
   "nbconvert_exporter": "python",
   "pygments_lexer": "ipython3",
   "version": "3.9.13"
  },
  "toc": {
   "base_numbering": 1,
   "nav_menu": {},
   "number_sections": false,
   "sideBar": true,
   "skip_h1_title": false,
   "title_cell": "Table of Contents",
   "title_sidebar": "Contents",
   "toc_cell": false,
   "toc_position": {},
   "toc_section_display": true,
   "toc_window_display": true
  }
 },
 "nbformat": 4,
 "nbformat_minor": 5
}
