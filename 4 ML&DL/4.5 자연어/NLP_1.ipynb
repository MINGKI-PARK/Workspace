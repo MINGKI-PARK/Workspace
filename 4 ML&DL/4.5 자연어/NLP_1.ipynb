{
 "cells": [
  {
   "cell_type": "markdown",
   "id": "324810e6-49a0-4eb4-8da1-0079e7b60c80",
   "metadata": {
    "tags": []
   },
   "source": [
    "### 텍스트 전처리\n",
    "+ 토큰(글자, 단어, 문장, 문단)화\n",
    "+ 불용어\n",
    "+ 정규표현식\n",
    "+ 인코딩(단어를 숫자로 변환), 패딩(길이를 동일하게)"
   ]
  },
  {
   "cell_type": "code",
   "execution_count": 1,
   "id": "22e4aca1-04f5-4105-abce-ca9546536971",
   "metadata": {},
   "outputs": [],
   "source": [
    "from konlpy.tag import Okt"
   ]
  },
  {
   "cell_type": "code",
   "execution_count": 2,
   "id": "6ac6079f-e49c-4b0b-8f24-ebeb03d439dc",
   "metadata": {},
   "outputs": [
    {
     "name": "stdout",
     "output_type": "stream",
     "text": [
      "['단독', '입찰', '보다', '복수', '입찰', '의', '경우']\n"
     ]
    }
   ],
   "source": [
    "okt = Okt()\n",
    "print(okt.morphs(u'단독입찰보다 복수입찰의 경우'))"
   ]
  },
  {
   "cell_type": "markdown",
   "id": "18f6110e-8c54-48a7-9650-5a2d1a34a48d",
   "metadata": {},
   "source": [
    "+ 단어 가방(Bag of words: BOW): 안어들이 순서와 관계없이 저장, 사전\n",
    "+ 코퍼스(corpus: 말뭉치): 자연어 처리(분석)하고자 하는 분야와 관련된 단어 집합\n",
    "    - ex) 법률 서비스 챗봇 -> 법률 코퍼스: 기소, 벌금...\n",
    "    - ex) 관광 서비스 챗봇 -> 관광 코퍼스"
   ]
  },
  {
   "cell_type": "markdown",
   "id": "c2857ddb-063e-4b56-80f4-eb9b73e999a3",
   "metadata": {},
   "source": [
    "+ nltk: 영어 코퍼스 토큰화 도구"
   ]
  },
  {
   "cell_type": "code",
   "execution_count": 11,
   "id": "512ebb17-e8ec-4210-ab03-16facb0ac4e5",
   "metadata": {},
   "outputs": [
    {
     "name": "stderr",
     "output_type": "stream",
     "text": [
      "[nltk_data] Downloading package punkt to\n",
      "[nltk_data]     C:\\Users\\Playdata\\AppData\\Roaming\\nltk_data...\n",
      "[nltk_data]   Package punkt is already up-to-date!\n",
      "[nltk_data] Downloading package averaged_perceptron_tagger to\n",
      "[nltk_data]     C:\\Users\\Playdata\\AppData\\Roaming\\nltk_data...\n",
      "[nltk_data]   Unzipping taggers\\averaged_perceptron_tagger.zip.\n"
     ]
    },
    {
     "data": {
      "text/plain": [
       "True"
      ]
     },
     "execution_count": 11,
     "metadata": {},
     "output_type": "execute_result"
    }
   ],
   "source": [
    "import nltk\n",
    "nltk.download('punkt')\n",
    "nltk.download('averaged_perceptron_tagger')"
   ]
  },
  {
   "cell_type": "code",
   "execution_count": 8,
   "id": "d9ef7210-599c-47bf-adea-077d287fba6d",
   "metadata": {},
   "outputs": [],
   "source": [
    "from nltk.tokenize import word_tokenize, WordPunctTokenizer, sent_tokenize\n",
    "from nltk.tag import pos_tag"
   ]
  },
  {
   "cell_type": "code",
   "execution_count": 7,
   "id": "7fa060c9-587d-4c94-a108-1fc88dcc1c04",
   "metadata": {},
   "outputs": [
    {
     "data": {
      "text/plain": [
       "['Language is a thing of beauty.',\n",
       " 'But mastering a new language from scratch is quite a daunting prospect.',\n",
       " 'If you’ve ever picked up a language that wasn’t your mother tongue, you’ll relate to this!',\n",
       " 'There are so many layers to peel off and syntaxes to consider – it’s quite a challenge.']"
      ]
     },
     "execution_count": 7,
     "metadata": {},
     "output_type": "execute_result"
    }
   ],
   "source": [
    "data = 'Language is a thing of beauty. But mastering a new language from scratch is quite a daunting prospect. If you’ve ever picked up a language that wasn’t your mother tongue, you’ll relate to this! There are so many layers to peel off and syntaxes to consider – it’s quite a challenge.'\n",
    "\n",
    "sent_tokenize(data)"
   ]
  },
  {
   "cell_type": "code",
   "execution_count": 12,
   "id": "917c0e2c-3325-4cb5-989b-2c6f155d0b84",
   "metadata": {},
   "outputs": [
    {
     "name": "stdout",
     "output_type": "stream",
     "text": [
      "단어 토큰화 결과 : ['Tommy', '’', 's', 'Don', '’', 't', 'And', 'that', '’', 's', 'exactly', 'the', 'way', 'with', 'our', 'machines', '.', 'In', 'order', 'to', 'get', 'our', 'computer', 'to', 'understand', 'any', 'text', ',', 'we', 'need', 'to', 'break', 'that', 'word', 'down', 'in', 'a', 'way', 'that', 'our', 'machine', 'can', 'understand', '.', 'That', '’', 's', 'where', 'the', 'concept', 'of', 'tokenization', 'in', 'Natural', 'Language', 'Processing', '(', 'NLP', ')', 'comes', 'in', '.']\n"
     ]
    },
    {
     "data": {
      "text/plain": [
       "[('Tommy', 'NNP'),\n",
       " ('’', 'NNP'),\n",
       " ('s', 'VBD'),\n",
       " ('Don', 'NNP'),\n",
       " ('’', 'NNP'),\n",
       " ('t', 'NN'),\n",
       " ('And', 'CC'),\n",
       " ('that', 'IN'),\n",
       " ('’', 'NNP'),\n",
       " ('s', 'VBZ'),\n",
       " ('exactly', 'RB'),\n",
       " ('the', 'DT'),\n",
       " ('way', 'NN'),\n",
       " ('with', 'IN'),\n",
       " ('our', 'PRP$'),\n",
       " ('machines', 'NNS'),\n",
       " ('.', '.'),\n",
       " ('In', 'IN'),\n",
       " ('order', 'NN'),\n",
       " ('to', 'TO'),\n",
       " ('get', 'VB'),\n",
       " ('our', 'PRP$'),\n",
       " ('computer', 'NN'),\n",
       " ('to', 'TO'),\n",
       " ('understand', 'VB'),\n",
       " ('any', 'DT'),\n",
       " ('text', 'NN'),\n",
       " (',', ','),\n",
       " ('we', 'PRP'),\n",
       " ('need', 'VBP'),\n",
       " ('to', 'TO'),\n",
       " ('break', 'VB'),\n",
       " ('that', 'IN'),\n",
       " ('word', 'NN'),\n",
       " ('down', 'RP'),\n",
       " ('in', 'IN'),\n",
       " ('a', 'DT'),\n",
       " ('way', 'NN'),\n",
       " ('that', 'IN'),\n",
       " ('our', 'PRP$'),\n",
       " ('machine', 'NN'),\n",
       " ('can', 'MD'),\n",
       " ('understand', 'VB'),\n",
       " ('.', '.'),\n",
       " ('That', 'DT'),\n",
       " ('’', 'VBZ'),\n",
       " ('s', 'NN'),\n",
       " ('where', 'WRB'),\n",
       " ('the', 'DT'),\n",
       " ('concept', 'NN'),\n",
       " ('of', 'IN'),\n",
       " ('tokenization', 'NN'),\n",
       " ('in', 'IN'),\n",
       " ('Natural', 'NNP'),\n",
       " ('Language', 'NNP'),\n",
       " ('Processing', 'NNP'),\n",
       " ('(', '('),\n",
       " ('NLP', 'NNP'),\n",
       " (')', ')'),\n",
       " ('comes', 'VBZ'),\n",
       " ('in', 'IN'),\n",
       " ('.', '.')]"
      ]
     },
     "execution_count": 12,
     "metadata": {},
     "output_type": "execute_result"
    }
   ],
   "source": [
    "print('단어 토큰화 결과 :', word_tokenize('Tommy’s Don’t And that’s exactly the way with our machines. In order to get our computer to understand any text, we need to break that word down in a way that our machine can understand. That’s where the concept of tokenization in Natural Language Processing (NLP) comes in.'))\n",
    "\n",
    "res = word_tokenize('Tommy’s Don’t And that’s exactly the way with our machines. In order to get our computer to understand any text, we need to break that word down in a way that our machine can understand. That’s where the concept of tokenization in Natural Language Processing (NLP) comes in.')\n",
    "pos_tag(res)"
   ]
  },
  {
   "cell_type": "code",
   "execution_count": null,
   "id": "6d38e161-39f2-43aa-9c2d-1aced9a26f79",
   "metadata": {},
   "outputs": [],
   "source": []
  },
  {
   "cell_type": "code",
   "execution_count": null,
   "id": "cd1d2c21-f6ef-42ae-8be3-54fefd1f66fb",
   "metadata": {},
   "outputs": [],
   "source": []
  },
  {
   "cell_type": "code",
   "execution_count": null,
   "id": "be399a7b-93dc-444f-9d47-25f17cacb791",
   "metadata": {},
   "outputs": [],
   "source": []
  },
  {
   "cell_type": "code",
   "execution_count": null,
   "id": "db0e1372-f9a9-476b-932f-84d7f3bd186b",
   "metadata": {},
   "outputs": [],
   "source": []
  },
  {
   "cell_type": "code",
   "execution_count": null,
   "id": "b1522416-aebd-4555-af25-9178bb5851d9",
   "metadata": {},
   "outputs": [],
   "source": []
  },
  {
   "cell_type": "code",
   "execution_count": null,
   "id": "5fea5289-ac8f-48d6-8eba-307dfb40b059",
   "metadata": {},
   "outputs": [],
   "source": []
  },
  {
   "cell_type": "code",
   "execution_count": null,
   "id": "10d3422c-0da6-486c-8a92-957b7cf583fb",
   "metadata": {},
   "outputs": [],
   "source": []
  },
  {
   "cell_type": "code",
   "execution_count": null,
   "id": "8ff9e1d5-b701-4488-a3fa-049883a6508d",
   "metadata": {},
   "outputs": [],
   "source": []
  }
 ],
 "metadata": {
  "kernelspec": {
   "display_name": "Python 3 (ipykernel)",
   "language": "python",
   "name": "python3"
  },
  "language_info": {
   "codemirror_mode": {
    "name": "ipython",
    "version": 3
   },
   "file_extension": ".py",
   "mimetype": "text/x-python",
   "name": "python",
   "nbconvert_exporter": "python",
   "pygments_lexer": "ipython3",
   "version": "3.9.16"
  }
 },
 "nbformat": 4,
 "nbformat_minor": 5
}
