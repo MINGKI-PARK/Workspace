{
 "cells": [
  {
   "cell_type": "code",
   "execution_count": 114,
   "id": "398f78d2-9d79-4a70-8b09-4944764cf75d",
   "metadata": {},
   "outputs": [],
   "source": [
    "from tensorflow.keras.models import Sequential\n",
    "from tensorflow.keras.layers import Dense, Embedding, SimpleRNN, LSTM\n",
    "from tensorflow.keras.preprocessing.text import Tokenizer\n",
    "from tensorflow.keras.preprocessing.sequence import pad_sequences\n",
    "from tensorflow.keras.utils import to_categorical\n",
    "\n",
    "import numpy as np\n",
    "import pandas as pd\n",
    "import string\n",
    "\n",
    "import re"
   ]
  },
  {
   "cell_type": "markdown",
   "id": "badfebc2-f29a-4f6f-8c20-85ca44b4c51e",
   "metadata": {},
   "source": [
    "## texts_to_matrix"
   ]
  },
  {
   "cell_type": "code",
   "execution_count": 4,
   "id": "63b19b30-572b-45a4-8c94-17ba25d77fbc",
   "metadata": {},
   "outputs": [
    {
     "data": {
      "text/plain": [
       "{1: '자연어', 2: '처리', 3: '알고리즘', 4: '방법', 5: 'nlp', 6: '전문가'}"
      ]
     },
     "execution_count": 4,
     "metadata": {},
     "output_type": "execute_result"
    }
   ],
   "source": [
    "texts = ['자연어 처리 알고리즘', '자연어 처리 방법', '자연어 NLP 알고리즘 알고리즘', '자연어 처리 전문가']\n",
    "\n",
    "tkt = Tokenizer()\n",
    "\n",
    "tkt.fit_on_texts(texts)\n",
    "\n",
    "tkt.index_word"
   ]
  },
  {
   "cell_type": "code",
   "execution_count": 9,
   "id": "9d2e5215-86db-42d7-a7a2-d0585302857a",
   "metadata": {},
   "outputs": [
    {
     "data": {
      "text/plain": [
       "array([[0., 1., 1., 1., 0., 0., 0.],\n",
       "       [0., 1., 1., 0., 1., 0., 0.],\n",
       "       [0., 1., 0., 1., 0., 1., 0.],\n",
       "       [0., 1., 1., 0., 0., 0., 1.]])"
      ]
     },
     "execution_count": 9,
     "metadata": {},
     "output_type": "execute_result"
    }
   ],
   "source": [
    "tkt.texts_to_matrix(texts)"
   ]
  },
  {
   "cell_type": "code",
   "execution_count": 10,
   "id": "25d95ace-241d-4ca9-a8c7-f58c3364364e",
   "metadata": {},
   "outputs": [
    {
     "data": {
      "text/plain": [
       "array([[0., 1., 1., 1., 0., 0., 0.],\n",
       "       [0., 1., 1., 0., 1., 0., 0.],\n",
       "       [0., 1., 0., 2., 0., 1., 0.],\n",
       "       [0., 1., 1., 0., 0., 0., 1.]])"
      ]
     },
     "execution_count": 10,
     "metadata": {},
     "output_type": "execute_result"
    }
   ],
   "source": [
    "tkt.texts_to_matrix(texts, mode='count')"
   ]
  },
  {
   "cell_type": "code",
   "execution_count": 11,
   "id": "745dc389-1d69-4549-8a76-7cee13d003d3",
   "metadata": {},
   "outputs": [
    {
     "data": {
      "text/plain": [
       "array([[0.        , 0.58778666, 0.69314718, 0.84729786, 0.        ,\n",
       "        0.        , 0.        ],\n",
       "       [0.        , 0.58778666, 0.69314718, 0.        , 1.09861229,\n",
       "        0.        , 0.        ],\n",
       "       [0.        , 0.58778666, 0.        , 1.43459998, 0.        ,\n",
       "        1.09861229, 0.        ],\n",
       "       [0.        , 0.58778666, 0.69314718, 0.        , 0.        ,\n",
       "        0.        , 1.09861229]])"
      ]
     },
     "execution_count": 11,
     "metadata": {},
     "output_type": "execute_result"
    }
   ],
   "source": [
    "tkt.texts_to_matrix(texts, mode='tfidf')"
   ]
  },
  {
   "cell_type": "code",
   "execution_count": 12,
   "id": "b342ed8c-4716-43de-8ec4-7081dd5065a0",
   "metadata": {},
   "outputs": [
    {
     "data": {
      "text/plain": [
       "array([[0.        , 0.33333333, 0.33333333, 0.33333333, 0.        ,\n",
       "        0.        , 0.        ],\n",
       "       [0.        , 0.33333333, 0.33333333, 0.        , 0.33333333,\n",
       "        0.        , 0.        ],\n",
       "       [0.        , 0.25      , 0.        , 0.5       , 0.        ,\n",
       "        0.25      , 0.        ],\n",
       "       [0.        , 0.33333333, 0.33333333, 0.        , 0.        ,\n",
       "        0.        , 0.33333333]])"
      ]
     },
     "execution_count": 12,
     "metadata": {},
     "output_type": "execute_result"
    }
   ],
   "source": [
    "tkt.texts_to_matrix(texts, mode='freq') # 빈도를 비율로."
   ]
  },
  {
   "cell_type": "markdown",
   "id": "d6c70960-3188-4c6f-b412-2f6a7869a7ac",
   "metadata": {},
   "source": [
    "## NYT"
   ]
  },
  {
   "cell_type": "code",
   "execution_count": 15,
   "id": "f12a1800-6de6-4ee8-bd6b-8ff3b3e48015",
   "metadata": {},
   "outputs": [
    {
     "data": {
      "text/plain": [
       "(1324, 15)"
      ]
     },
     "execution_count": 15,
     "metadata": {},
     "output_type": "execute_result"
    }
   ],
   "source": [
    "df = pd.read_csv('c:/reposit/data/bigleader/NYT_2018.csv')\n",
    "df.shape"
   ]
  },
  {
   "cell_type": "code",
   "execution_count": 16,
   "id": "9a4b98fa-15e1-4c2f-8392-ca094b2498a0",
   "metadata": {},
   "outputs": [
    {
     "data": {
      "text/html": [
       "<div>\n",
       "<style scoped>\n",
       "    .dataframe tbody tr th:only-of-type {\n",
       "        vertical-align: middle;\n",
       "    }\n",
       "\n",
       "    .dataframe tbody tr th {\n",
       "        vertical-align: top;\n",
       "    }\n",
       "\n",
       "    .dataframe thead th {\n",
       "        text-align: right;\n",
       "    }\n",
       "</style>\n",
       "<table border=\"1\" class=\"dataframe\">\n",
       "  <thead>\n",
       "    <tr style=\"text-align: right;\">\n",
       "      <th></th>\n",
       "      <th>articleID</th>\n",
       "      <th>articleWordCount</th>\n",
       "      <th>byline</th>\n",
       "      <th>documentType</th>\n",
       "      <th>headline</th>\n",
       "      <th>keywords</th>\n",
       "      <th>multimedia</th>\n",
       "      <th>newDesk</th>\n",
       "      <th>printPage</th>\n",
       "      <th>pubDate</th>\n",
       "      <th>sectionName</th>\n",
       "      <th>snippet</th>\n",
       "      <th>source</th>\n",
       "      <th>typeOfMaterial</th>\n",
       "      <th>webURL</th>\n",
       "    </tr>\n",
       "  </thead>\n",
       "  <tbody>\n",
       "    <tr>\n",
       "      <th>0</th>\n",
       "      <td>5adf6684068401528a2aa69b</td>\n",
       "      <td>781</td>\n",
       "      <td>By JOHN BRANCH</td>\n",
       "      <td>article</td>\n",
       "      <td>Former N.F.L. Cheerleaders’ Settlement Offer: ...</td>\n",
       "      <td>['Workplace Hazards and Violations', 'Football...</td>\n",
       "      <td>68</td>\n",
       "      <td>Sports</td>\n",
       "      <td>0</td>\n",
       "      <td>2018-04-24 17:16:49</td>\n",
       "      <td>Pro Football</td>\n",
       "      <td>“I understand that they could meet with us, pa...</td>\n",
       "      <td>The New York Times</td>\n",
       "      <td>News</td>\n",
       "      <td>https://www.nytimes.com/2018/04/24/sports/foot...</td>\n",
       "    </tr>\n",
       "    <tr>\n",
       "      <th>1</th>\n",
       "      <td>5adf653f068401528a2aa697</td>\n",
       "      <td>656</td>\n",
       "      <td>By LISA FRIEDMAN</td>\n",
       "      <td>article</td>\n",
       "      <td>E.P.A. to Unveil a New Rule. Its Effect: Less ...</td>\n",
       "      <td>['Environmental Protection Agency', 'Pruitt, S...</td>\n",
       "      <td>68</td>\n",
       "      <td>Climate</td>\n",
       "      <td>0</td>\n",
       "      <td>2018-04-24 17:11:21</td>\n",
       "      <td>Unknown</td>\n",
       "      <td>The agency plans to publish a new regulation T...</td>\n",
       "      <td>The New York Times</td>\n",
       "      <td>News</td>\n",
       "      <td>https://www.nytimes.com/2018/04/24/climate/epa...</td>\n",
       "    </tr>\n",
       "    <tr>\n",
       "      <th>2</th>\n",
       "      <td>5adf4626068401528a2aa628</td>\n",
       "      <td>2427</td>\n",
       "      <td>By PETE WELLS</td>\n",
       "      <td>article</td>\n",
       "      <td>The New Noma, Explained</td>\n",
       "      <td>['Restaurants', 'Noma (Copenhagen, Restaurant)...</td>\n",
       "      <td>66</td>\n",
       "      <td>Dining</td>\n",
       "      <td>0</td>\n",
       "      <td>2018-04-24 14:58:44</td>\n",
       "      <td>Unknown</td>\n",
       "      <td>What’s it like to eat at the second incarnatio...</td>\n",
       "      <td>The New York Times</td>\n",
       "      <td>News</td>\n",
       "      <td>https://www.nytimes.com/2018/04/24/dining/noma...</td>\n",
       "    </tr>\n",
       "  </tbody>\n",
       "</table>\n",
       "</div>"
      ],
      "text/plain": [
       "                  articleID  articleWordCount            byline documentType  \\\n",
       "0  5adf6684068401528a2aa69b               781    By JOHN BRANCH      article   \n",
       "1  5adf653f068401528a2aa697               656  By LISA FRIEDMAN      article   \n",
       "2  5adf4626068401528a2aa628              2427     By PETE WELLS      article   \n",
       "\n",
       "                                            headline  \\\n",
       "0  Former N.F.L. Cheerleaders’ Settlement Offer: ...   \n",
       "1  E.P.A. to Unveil a New Rule. Its Effect: Less ...   \n",
       "2                            The New Noma, Explained   \n",
       "\n",
       "                                            keywords  multimedia  newDesk  \\\n",
       "0  ['Workplace Hazards and Violations', 'Football...          68   Sports   \n",
       "1  ['Environmental Protection Agency', 'Pruitt, S...          68  Climate   \n",
       "2  ['Restaurants', 'Noma (Copenhagen, Restaurant)...          66   Dining   \n",
       "\n",
       "   printPage              pubDate   sectionName  \\\n",
       "0          0  2018-04-24 17:16:49  Pro Football   \n",
       "1          0  2018-04-24 17:11:21       Unknown   \n",
       "2          0  2018-04-24 14:58:44       Unknown   \n",
       "\n",
       "                                             snippet              source  \\\n",
       "0  “I understand that they could meet with us, pa...  The New York Times   \n",
       "1  The agency plans to publish a new regulation T...  The New York Times   \n",
       "2  What’s it like to eat at the second incarnatio...  The New York Times   \n",
       "\n",
       "  typeOfMaterial                                             webURL  \n",
       "0           News  https://www.nytimes.com/2018/04/24/sports/foot...  \n",
       "1           News  https://www.nytimes.com/2018/04/24/climate/epa...  \n",
       "2           News  https://www.nytimes.com/2018/04/24/dining/noma...  "
      ]
     },
     "execution_count": 16,
     "metadata": {},
     "output_type": "execute_result"
    }
   ],
   "source": [
    "df.head(3)"
   ]
  },
  {
   "cell_type": "code",
   "execution_count": 18,
   "id": "75df22d1-0193-42fe-8e0f-b4b6a2f11cbc",
   "metadata": {},
   "outputs": [
    {
     "data": {
      "text/plain": [
       "array(['Former N.F.L. Cheerleaders’ Settlement Offer: $1 and a Meeting With Goodell',\n",
       "       'E.P.A. to Unveil a New Rule. Its Effect: Less Science in Policymaking.',\n",
       "       'The New Noma, Explained', ...,\n",
       "       'Gen. Michael Hayden Has One Regret: Russia',\n",
       "       'There Is Nothin’ Like a Tune', 'Unknown'], dtype=object)"
      ]
     },
     "execution_count": 18,
     "metadata": {},
     "output_type": "execute_result"
    }
   ],
   "source": [
    "df.headline.values # array로 변경"
   ]
  },
  {
   "cell_type": "code",
   "execution_count": 20,
   "id": "7a53d613-d593-483a-955f-464b76857d31",
   "metadata": {},
   "outputs": [
    {
     "data": {
      "text/plain": [
       "['Former N.F.L. Cheerleaders’ Settlement Offer: $1 and a Meeting With Goodell',\n",
       " 'E.P.A. to Unveil a New Rule. Its Effect: Less Science in Policymaking.',\n",
       " 'The New Noma, Explained',\n",
       " 'Unknown',\n",
       " 'Unknown']"
      ]
     },
     "execution_count": 20,
     "metadata": {},
     "output_type": "execute_result"
    }
   ],
   "source": [
    "list(df.headline.values)[:5] # list로 변경"
   ]
  },
  {
   "cell_type": "code",
   "execution_count": 23,
   "id": "889130b0-4442-4a2b-94a2-002a01df763f",
   "metadata": {},
   "outputs": [
    {
     "data": {
      "text/plain": [
       "['Former N.F.L. Cheerleaders’ Settlement Offer: $1 and a Meeting With Goodell',\n",
       " 'E.P.A. to Unveil a New Rule. Its Effect: Less Science in Policymaking.',\n",
       " 'The New Noma, Explained']"
      ]
     },
     "execution_count": 23,
     "metadata": {},
     "output_type": "execute_result"
    }
   ],
   "source": [
    "headline = []\n",
    "headline.extend(list(df.headline.values))\n",
    "headline[:3]"
   ]
  },
  {
   "cell_type": "code",
   "execution_count": 24,
   "id": "be6b9dbc-d0c6-4ce9-a5f7-ea3165073f80",
   "metadata": {},
   "outputs": [
    {
     "data": {
      "text/plain": [
       "1324"
      ]
     },
     "execution_count": 24,
     "metadata": {},
     "output_type": "execute_result"
    }
   ],
   "source": [
    "len(headline)"
   ]
  },
  {
   "cell_type": "code",
   "execution_count": 30,
   "id": "0215d5d2-0896-461a-a8dc-55dc1536c9b4",
   "metadata": {},
   "outputs": [
    {
     "name": "stdout",
     "output_type": "stream",
     "text": [
      "616 µs ± 21.6 µs per loop (mean ± std. dev. of 7 runs, 1,000 loops each)\n"
     ]
    }
   ],
   "source": [
    "%%timeit\n",
    "\n",
    "df['headline'].value_counts() # 110"
   ]
  },
  {
   "cell_type": "code",
   "execution_count": 32,
   "id": "1e1c9c87-b798-42c1-b533-6d6db32e58af",
   "metadata": {},
   "outputs": [
    {
     "name": "stdout",
     "output_type": "stream",
     "text": [
      "18.2 µs ± 1.26 µs per loop (mean ± std. dev. of 7 runs, 100,000 loops each)\n"
     ]
    }
   ],
   "source": [
    "%%timeit\n",
    "\n",
    "headline.count('Unknown')"
   ]
  },
  {
   "cell_type": "markdown",
   "id": "b3d3474a-0b6d-4f12-a38c-3bb099933fff",
   "metadata": {},
   "source": [
    "+ headline에 저장된 뉴스 기사 제목으로 다음 단어를 생성하는 LSTM 기반 모델 설계\n",
    "\n",
    "\n",
    "+ 동작 예\n",
    "    - 입력: 생성하고자 하는 단어의 갯수\n",
    "    - 출력: I was ... 완성"
   ]
  },
  {
   "cell_type": "code",
   "execution_count": 72,
   "id": "86d3add1-348d-4faa-baee-953b9c672d4f",
   "metadata": {},
   "outputs": [
    {
     "name": "stdout",
     "output_type": "stream",
     "text": [
      "{'programmer': 1, 'person': 2, 'word': 3, 'secret': 4}\n"
     ]
    },
    {
     "data": {
      "text/plain": [
       "[[1, 2], [1, 3, 4]]"
      ]
     },
     "execution_count": 72,
     "metadata": {},
     "output_type": "execute_result"
    }
   ],
   "source": [
    "sents = [\n",
    "    ['programmer', 'person'],\n",
    "    ['programmer', 'word', 'secret']]\n",
    "\n",
    "tkt = Tokenizer()\n",
    "tkt.fit_on_texts(sents)\n",
    "print(tkt.word_index)\n",
    "\n",
    "# 문자 그대로 텍스트를 시퀀스형 자료로 바꿔줌.\n",
    "tkt.texts_to_sequences(sents)"
   ]
  },
  {
   "cell_type": "markdown",
   "id": "a8c15d41-a29d-461e-aa13-9603890b9dee",
   "metadata": {
    "tags": []
   },
   "source": [
    "### 전처리"
   ]
  },
  {
   "cell_type": "code",
   "execution_count": 35,
   "id": "d5eeda30-7579-4373-9119-50fc72110617",
   "metadata": {},
   "outputs": [
    {
     "data": {
      "text/plain": [
       "'former n.f.l. cheerleaders’ settlement offer: $1 and a meeting with goodell'"
      ]
     },
     "execution_count": 35,
     "metadata": {},
     "output_type": "execute_result"
    }
   ],
   "source": [
    "headline[0].lower()"
   ]
  },
  {
   "cell_type": "code",
   "execution_count": null,
   "id": "46ca4698-2325-4172-beac-e25629c19ca3",
   "metadata": {},
   "outputs": [],
   "source": [
    "# [pre_func(x) for x in headline] # 기사 제목을 함수로 한번에 처리\n",
    "\n",
    "res = []\n",
    "\n",
    "def pre_func(title):\n",
    "    \n",
    "    # 소문자 변환\n",
    "    res.append(title.lower())\n",
    "    \n",
    "    return res"
   ]
  },
  {
   "cell_type": "code",
   "execution_count": 38,
   "id": "a3b8a9f1-31e8-43a5-8755-30a9c638f65f",
   "metadata": {},
   "outputs": [],
   "source": [
    "# [x.lower() for x in headline]"
   ]
  },
  {
   "cell_type": "code",
   "execution_count": 57,
   "id": "033ba796-9a7e-4a17-a477-6f5730196d01",
   "metadata": {},
   "outputs": [
    {
     "data": {
      "text/plain": [
       "'!\"#$%&\\'()*+,-./:;<=>?@[\\\\]^_`{|}~'"
      ]
     },
     "execution_count": 57,
     "metadata": {},
     "output_type": "execute_result"
    }
   ],
   "source": [
    "string.punctuation"
   ]
  },
  {
   "cell_type": "code",
   "execution_count": 53,
   "id": "ba12553b-6442-49b0-88db-5269d2fb355f",
   "metadata": {},
   "outputs": [
    {
     "data": {
      "text/plain": [
       "'Former N.F.L. Cheerleaders’ Settlement Offer: $1 and a Meeting With Goodell'"
      ]
     },
     "execution_count": 53,
     "metadata": {},
     "output_type": "execute_result"
    }
   ],
   "source": [
    "headline[0]"
   ]
  },
  {
   "cell_type": "code",
   "execution_count": 61,
   "id": "e440a85f-aeb3-4a65-92e7-f36b52329ec8",
   "metadata": {},
   "outputs": [],
   "source": [
    "def pre_func(title):\n",
    "    #소문자 변환\n",
    "    res=''.join(w.lower() for w in title if w not in punctuation)\n",
    "    return res"
   ]
  },
  {
   "cell_type": "code",
   "execution_count": 75,
   "id": "f424ef63-f30f-4dad-ba32-b6f95737d667",
   "metadata": {},
   "outputs": [
    {
     "data": {
      "text/plain": [
       "[[95, 263],\n",
       " [95, 263, 1100],\n",
       " [95, 263, 1100, 1101],\n",
       " [95, 263, 1100, 1101, 572],\n",
       " [95, 263, 1100, 1101, 572, 50],\n",
       " [95, 263, 1100, 1101, 572, 50, 7],\n",
       " [95, 263, 1100, 1101, 572, 50, 7, 2],\n",
       " [95, 263, 1100, 1101, 572, 50, 7, 2, 365],\n",
       " [95, 263, 1100, 1101, 572, 50, 7, 2, 365, 10],\n",
       " [95, 263, 1100, 1101, 572, 50, 7, 2, 365, 10, 1102],\n",
       " [96, 3],\n",
       " [96, 3, 1103],\n",
       " [96, 3, 1103, 2],\n",
       " [96, 3, 1103, 2, 14],\n",
       " [96, 3, 1103, 2, 14, 573]]"
      ]
     },
     "execution_count": 75,
     "metadata": {},
     "output_type": "execute_result"
    }
   ],
   "source": [
    "pre_headline = [pre_func(x) for x in headline if x != 'Unknown'] # 기사 제목을 함수로 한번에 처리\n",
    "\n",
    "tkt = Tokenizer()\n",
    "tkt.fit_on_texts(pre_headline)\n",
    "\n",
    "sequences = []\n",
    "for s in pre_headline:\n",
    "    #print(tok.texts_to_sequences([s])[0]) #각 문장별 인코딩\n",
    "    enc = tkt.texts_to_sequences([s])[0]\n",
    "    for i in range(1, len(enc)):\n",
    "        seq = enc[:i+1]\n",
    "        sequences.append(seq)\n",
    "\n",
    "sequences[:15]"
   ]
  },
  {
   "cell_type": "code",
   "execution_count": 77,
   "id": "5ada919c-913e-4932-96e1-5848bc7f38b0",
   "metadata": {},
   "outputs": [
    {
     "data": {
      "text/plain": [
       "3619"
      ]
     },
     "execution_count": 77,
     "metadata": {},
     "output_type": "execute_result"
    }
   ],
   "source": [
    "len(tkt.word_index)"
   ]
  },
  {
   "cell_type": "code",
   "execution_count": 79,
   "id": "246663ea-4c1e-4070-aca4-62e36c8fc35f",
   "metadata": {},
   "outputs": [
    {
     "data": {
      "text/plain": [
       "'the'"
      ]
     },
     "execution_count": 79,
     "metadata": {},
     "output_type": "execute_result"
    }
   ],
   "source": [
    "idx2word = {}\n",
    "\n",
    "for k, v in tkt.word_index.items():\n",
    "    idx2word[v] = k\n",
    "\n",
    "idx2word[1]"
   ]
  },
  {
   "cell_type": "code",
   "execution_count": 84,
   "id": "e81a2696-b06b-4e21-87fa-510d65cbb0e2",
   "metadata": {
    "tags": []
   },
   "outputs": [
    {
     "data": {
      "text/plain": [
       "'the'"
      ]
     },
     "execution_count": 84,
     "metadata": {},
     "output_type": "execute_result"
    }
   ],
   "source": [
    "# 다른 방법\n",
    "dict(zip(tkt.word_index.values(), tkt.word_index.keys()))[1]"
   ]
  },
  {
   "cell_type": "code",
   "execution_count": 86,
   "id": "2b35cfc5-217e-4b8a-88a0-32a65b11755e",
   "metadata": {},
   "outputs": [
    {
     "data": {
      "text/plain": [
       "24"
      ]
     },
     "execution_count": 86,
     "metadata": {},
     "output_type": "execute_result"
    }
   ],
   "source": [
    "max(len(i) for i in sequences)"
   ]
  },
  {
   "cell_type": "code",
   "execution_count": 88,
   "id": "660635b5-1045-4fa6-a49f-92165a92f747",
   "metadata": {},
   "outputs": [
    {
     "data": {
      "text/plain": [
       "array([[   0,    0,    0, ...,    0,   95,  263],\n",
       "       [   0,    0,    0, ...,   95,  263, 1100],\n",
       "       [   0,    0,    0, ...,  263, 1100, 1101],\n",
       "       ...,\n",
       "       [   0,    0,    0, ...,    9, 3619,  110],\n",
       "       [   0,    0,    0, ..., 3619,  110,    2],\n",
       "       [   0,    0,    0, ...,  110,    2, 1014]])"
      ]
     },
     "execution_count": 88,
     "metadata": {},
     "output_type": "execute_result"
    }
   ],
   "source": [
    "seq1 = pad_sequences(sequences, maxlen=24)\n",
    "seq1"
   ]
  },
  {
   "cell_type": "code",
   "execution_count": 91,
   "id": "7281c964-b140-4e9e-9550-eb29b2d2a398",
   "metadata": {},
   "outputs": [
    {
     "data": {
      "text/plain": [
       "([array([ 0,  0,  0,  0,  0,  0,  0,  0,  0,  0,  0,  0,  0,  0,  0,  0,  0,\n",
       "          0,  0,  0,  0,  0, 95]),\n",
       "  array([  0,   0,   0,   0,   0,   0,   0,   0,   0,   0,   0,   0,   0,\n",
       "           0,   0,   0,   0,   0,   0,   0,   0,  95, 263]),\n",
       "  array([   0,    0,    0,    0,    0,    0,    0,    0,    0,    0,    0,\n",
       "            0,    0,    0,    0,    0,    0,    0,    0,    0,   95,  263,\n",
       "         1100])],\n",
       " [263, 1100, 1101])"
      ]
     },
     "execution_count": 91,
     "metadata": {},
     "output_type": "execute_result"
    }
   ],
   "source": [
    "X = []\n",
    "y = []\n",
    "\n",
    "for s in seq1:\n",
    "    X.append(s[:-1])\n",
    "    y.append(s[-1])\n",
    "\n",
    "X[:3], y[:3]"
   ]
  },
  {
   "cell_type": "code",
   "execution_count": 101,
   "id": "4554dea9-33b2-4927-a746-8f429b34e5ef",
   "metadata": {},
   "outputs": [
    {
     "data": {
      "text/plain": [
       "(7809, 24)"
      ]
     },
     "execution_count": 101,
     "metadata": {},
     "output_type": "execute_result"
    }
   ],
   "source": [
    "seq1.shape"
   ]
  },
  {
   "cell_type": "code",
   "execution_count": 135,
   "id": "b2e4c332-98a7-46c5-8584-3a2837e44cb6",
   "metadata": {},
   "outputs": [
    {
     "name": "stdout",
     "output_type": "stream",
     "text": [
      "(7809, 23) (7809,)\n"
     ]
    },
    {
     "data": {
      "text/plain": [
       "(array([[   0,    0,    0,    0,    0,    0,    0,    0,    0,    0,    0,\n",
       "            0,    0,    0,    0,    0,    0,    0,    0,    0,    0,    0,\n",
       "           95],\n",
       "        [   0,    0,    0,    0,    0,    0,    0,    0,    0,    0,    0,\n",
       "            0,    0,    0,    0,    0,    0,    0,    0,    0,    0,   95,\n",
       "          263],\n",
       "        [   0,    0,    0,    0,    0,    0,    0,    0,    0,    0,    0,\n",
       "            0,    0,    0,    0,    0,    0,    0,    0,    0,   95,  263,\n",
       "         1100]]),\n",
       " array([ 263, 1100, 1101]))"
      ]
     },
     "execution_count": 135,
     "metadata": {},
     "output_type": "execute_result"
    }
   ],
   "source": [
    "X = np.array([s[:-1] for s in seq1])\n",
    "y = np.array([s[-1] for s in seq1])\n",
    "\n",
    "print(X.shape, y.shape)\n",
    "\n",
    "X[:3], y[:3]"
   ]
  },
  {
   "cell_type": "code",
   "execution_count": 136,
   "id": "e13bb304-b27a-48bc-a0a5-e963b4a2439c",
   "metadata": {},
   "outputs": [
    {
     "data": {
      "text/plain": [
       "3620"
      ]
     },
     "execution_count": 136,
     "metadata": {},
     "output_type": "execute_result"
    }
   ],
   "source": [
    "vocab_size = len(tkt.index_word) + 1\n",
    "vocab_size"
   ]
  },
  {
   "cell_type": "code",
   "execution_count": 137,
   "id": "2aa143e5-6457-4097-bdde-160a593c48e2",
   "metadata": {},
   "outputs": [
    {
     "data": {
      "text/plain": [
       "((7809, 23), (7809, 3620))"
      ]
     },
     "execution_count": 137,
     "metadata": {},
     "output_type": "execute_result"
    }
   ],
   "source": [
    "y = to_categorical(y, vocab_size)\n",
    "X.shape, y.shape"
   ]
  },
  {
   "cell_type": "code",
   "execution_count": 138,
   "id": "531fec66-d306-4e44-9ded-e3e231ed7af5",
   "metadata": {},
   "outputs": [],
   "source": [
    "model = Sequential()\n",
    "\n",
    "model.add(Embedding(vocab_size, 10))\n",
    "model.add(LSTM(128))\n",
    "model.add(Dense(vocab_size, activation='softmax'))"
   ]
  },
  {
   "cell_type": "code",
   "execution_count": 139,
   "id": "b79dac3a-2127-481e-9ded-d5f0551cff57",
   "metadata": {},
   "outputs": [
    {
     "name": "stdout",
     "output_type": "stream",
     "text": [
      "Model: \"sequential_4\"\n",
      "_________________________________________________________________\n",
      " Layer (type)                Output Shape              Param #   \n",
      "=================================================================\n",
      " embedding_3 (Embedding)     (None, None, 10)          36200     \n",
      "                                                                 \n",
      " lstm_2 (LSTM)               (None, 128)               71168     \n",
      "                                                                 \n",
      " dense_2 (Dense)             (None, 3620)              466980    \n",
      "                                                                 \n",
      "=================================================================\n",
      "Total params: 574,348\n",
      "Trainable params: 574,348\n",
      "Non-trainable params: 0\n",
      "_________________________________________________________________\n"
     ]
    }
   ],
   "source": [
    "model.summary()"
   ]
  },
  {
   "cell_type": "code",
   "execution_count": 140,
   "id": "d7d1df2d-3fea-4d2a-be6f-756b5d2ea615",
   "metadata": {},
   "outputs": [
    {
     "name": "stdout",
     "output_type": "stream",
     "text": [
      "Epoch 1/10\n",
      "245/245 [==============================] - 9s 22ms/step - loss: 7.7075 - accuracy: 0.0289\n",
      "Epoch 2/10\n",
      "245/245 [==============================] - 6s 25ms/step - loss: 7.1607 - accuracy: 0.0283\n",
      "Epoch 3/10\n",
      "245/245 [==============================] - 6s 24ms/step - loss: 7.0201 - accuracy: 0.0320\n",
      "Epoch 4/10\n",
      "245/245 [==============================] - 6s 23ms/step - loss: 6.8937 - accuracy: 0.0348\n",
      "Epoch 5/10\n",
      "245/245 [==============================] - 6s 24ms/step - loss: 6.7299 - accuracy: 0.0432\n",
      "Epoch 6/10\n",
      "245/245 [==============================] - 5s 22ms/step - loss: 6.5431 - accuracy: 0.0478\n",
      "Epoch 7/10\n",
      "245/245 [==============================] - 6s 24ms/step - loss: 6.3408 - accuracy: 0.0553\n",
      "Epoch 8/10\n",
      "245/245 [==============================] - 6s 24ms/step - loss: 6.1300 - accuracy: 0.0599\n",
      "Epoch 9/10\n",
      "245/245 [==============================] - 5s 22ms/step - loss: 5.9236 - accuracy: 0.0668\n",
      "Epoch 10/10\n",
      "245/245 [==============================] - 6s 25ms/step - loss: 5.7280 - accuracy: 0.0679\n"
     ]
    },
    {
     "data": {
      "text/plain": [
       "<keras.callbacks.History at 0x2675d61d2e0>"
      ]
     },
     "execution_count": 140,
     "metadata": {},
     "output_type": "execute_result"
    }
   ],
   "source": [
    "model.compile(loss='categorical_crossentropy', optimizer='adam', metrics=['accuracy'])\n",
    "\n",
    "model.fit(X, y, epochs=10)"
   ]
  },
  {
   "cell_type": "code",
   "execution_count": 143,
   "id": "8480ac12-1ce4-4daf-b5dd-9bb640ae22fd",
   "metadata": {},
   "outputs": [],
   "source": [
    "def gen_sent(model, tkt, c_word, n):\n",
    "    \n",
    "    # 구현\n",
    "    enc = tkt.texts_to_sequences([c_word])[0]\n",
    "    pad_sequences([enc], maxlen=24)\n",
    "    \n",
    "    res = model.predict(enc)\n",
    "    res = np.argmax(res)\n",
    "    print(res)\n",
    "    \n",
    "    for w, i in tkt.word_index.items():\n",
    "        if i == res:\n",
    "            break\n",
    "    print(w)\n",
    "    \n",
    "    # return pred_sent"
   ]
  },
  {
   "cell_type": "code",
   "execution_count": 147,
   "id": "aa7f2210-9492-414a-9fc8-530ed78b0618",
   "metadata": {},
   "outputs": [],
   "source": [
    "def gen_sent(model, tok, c_word, n):\n",
    "    pred_sent=''\n",
    "    # 구현\n",
    "    \n",
    "    for _ in range(n):\n",
    "        enc = tok.texts_to_sequences([c_word])[0]\n",
    "        enc = pad_sequences([enc], maxlen=24, padding='pre')\n",
    "        #print(enc)\n",
    "        res = model.predict(enc)\n",
    "        res = np.argmax(res)\n",
    "        for w, i in tok.word_index.items():\n",
    "            if i == res:\n",
    "                break\n",
    "        print('예측단어: ',w)\n",
    "        c_word=c_word+ ' ' + w    #  The=>  The new\n",
    "    print(c_word)\n",
    "    #pred_sent = \n",
    "    return pred_sent"
   ]
  },
  {
   "cell_type": "code",
   "execution_count": 148,
   "id": "a078a9fb-454a-48d7-882c-df0942aed2b1",
   "metadata": {},
   "outputs": [
    {
     "name": "stdout",
     "output_type": "stream",
     "text": [
      "1/1 [==============================] - 0s 25ms/step\n",
      "예측단어:  new\n",
      "1/1 [==============================] - 0s 42ms/step\n",
      "예측단어:  glass\n",
      "1/1 [==============================] - 0s 48ms/step\n",
      "예측단어:  is\n",
      "1/1 [==============================] - 0s 38ms/step\n",
      "예측단어:  a\n",
      "1/1 [==============================] - 0s 39ms/step\n",
      "예측단어:  lawman\n",
      "1/1 [==============================] - 0s 42ms/step\n",
      "예측단어:  glass\n",
      "1/1 [==============================] - 0s 40ms/step\n",
      "예측단어:  a\n",
      "1/1 [==============================] - 0s 51ms/step\n",
      "예측단어:  lawman\n",
      "1/1 [==============================] - 0s 51ms/step\n",
      "예측단어:  warriors\n",
      "1/1 [==============================] - 0s 58ms/step\n",
      "예측단어:  2018\n",
      "the new glass is a lawman glass a lawman warriors 2018\n"
     ]
    },
    {
     "data": {
      "text/plain": [
       "''"
      ]
     },
     "execution_count": 148,
     "metadata": {},
     "output_type": "execute_result"
    }
   ],
   "source": [
    "gen_sent(model, tkt, 'the', 10)"
   ]
  },
  {
   "cell_type": "code",
   "execution_count": null,
   "id": "dfc911ff-c131-426c-a655-eeefc420cf02",
   "metadata": {},
   "outputs": [],
   "source": []
  },
  {
   "cell_type": "code",
   "execution_count": null,
   "id": "af62ae8d-69be-42cf-9b99-dbf52a20c42b",
   "metadata": {},
   "outputs": [],
   "source": [
    "\n"
   ]
  },
  {
   "cell_type": "code",
   "execution_count": null,
   "id": "1dafede6-ca2f-47d6-99d1-af393ad98337",
   "metadata": {},
   "outputs": [],
   "source": []
  },
  {
   "cell_type": "code",
   "execution_count": null,
   "id": "a46421d1-9b3d-4c79-89d8-0c4edee8555c",
   "metadata": {},
   "outputs": [],
   "source": []
  },
  {
   "cell_type": "code",
   "execution_count": null,
   "id": "034343b8-b511-4064-887d-6a25df5e8bb8",
   "metadata": {},
   "outputs": [],
   "source": []
  },
  {
   "cell_type": "code",
   "execution_count": null,
   "id": "ee988ef8-dc3d-4f18-a1c4-3c195848f0c7",
   "metadata": {},
   "outputs": [],
   "source": []
  },
  {
   "cell_type": "code",
   "execution_count": null,
   "id": "e0933f1c-702f-4ac8-b3bd-9843cac9c7c1",
   "metadata": {},
   "outputs": [],
   "source": []
  },
  {
   "cell_type": "code",
   "execution_count": null,
   "id": "ba95e07f-bc81-4537-b94c-9dff7451fcf7",
   "metadata": {},
   "outputs": [],
   "source": []
  },
  {
   "cell_type": "code",
   "execution_count": null,
   "id": "76237195-9f6c-4708-818a-5d7a6d0d43d6",
   "metadata": {},
   "outputs": [],
   "source": []
  },
  {
   "cell_type": "code",
   "execution_count": null,
   "id": "5553161f-9afd-4b21-8bde-570102400bde",
   "metadata": {},
   "outputs": [],
   "source": []
  },
  {
   "cell_type": "code",
   "execution_count": null,
   "id": "884d18df-ab2f-4fd2-b2f4-b1f29f99fde3",
   "metadata": {},
   "outputs": [],
   "source": []
  }
 ],
 "metadata": {
  "kernelspec": {
   "display_name": "Python 3 (ipykernel)",
   "language": "python",
   "name": "python3"
  },
  "language_info": {
   "codemirror_mode": {
    "name": "ipython",
    "version": 3
   },
   "file_extension": ".py",
   "mimetype": "text/x-python",
   "name": "python",
   "nbconvert_exporter": "python",
   "pygments_lexer": "ipython3",
   "version": "3.9.16"
  }
 },
 "nbformat": 4,
 "nbformat_minor": 5
}
