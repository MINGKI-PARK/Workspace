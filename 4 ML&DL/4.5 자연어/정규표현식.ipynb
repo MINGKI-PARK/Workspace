{
 "cells": [
  {
   "cell_type": "code",
   "execution_count": 1,
   "id": "eb52ddb0-e984-4e2f-83e9-282e248f7c6a",
   "metadata": {},
   "outputs": [],
   "source": [
    "import re"
   ]
  },
  {
   "cell_type": "markdown",
   "id": "66ebfd0a-69eb-4034-b581-176072b9a959",
   "metadata": {},
   "source": [
    "## 1. 문자열 판단하기"
   ]
  },
  {
   "cell_type": "code",
   "execution_count": 2,
   "id": "b9ad79e1-7d8e-4c95-b279-14a8796b4d46",
   "metadata": {},
   "outputs": [
    {
     "data": {
      "text/plain": [
       "<re.Match object; span=(0, 5), match='Hello'>"
      ]
     },
     "execution_count": 2,
     "metadata": {},
     "output_type": "execute_result"
    }
   ],
   "source": [
    "re.match('Hello', 'Hello, world!')"
   ]
  },
  {
   "cell_type": "code",
   "execution_count": 3,
   "id": "75ed2eca-0ee9-40d2-a967-8c341bfb4150",
   "metadata": {},
   "outputs": [],
   "source": [
    "re.match('Python', 'Hello, world!')"
   ]
  },
  {
   "cell_type": "markdown",
   "id": "aaa45a0f-9e9f-4274-a2d6-de1fdf66fc3f",
   "metadata": {},
   "source": [
    "### 1.1 문자열에 맨 앞에 오는지 맨 뒤에 오는지 판단하기"
   ]
  },
  {
   "cell_type": "code",
   "execution_count": 4,
   "id": "c08bdec4-cfd7-4d4f-aaa5-0fabb7711aec",
   "metadata": {},
   "outputs": [
    {
     "data": {
      "text/plain": [
       "<re.Match object; span=(0, 5), match='Hello'>"
      ]
     },
     "execution_count": 4,
     "metadata": {},
     "output_type": "execute_result"
    }
   ],
   "source": [
    "re.search('^Hello', 'Hello, world!')"
   ]
  },
  {
   "cell_type": "code",
   "execution_count": 6,
   "id": "24986722-1609-4b93-8de0-78db1abc95f3",
   "metadata": {},
   "outputs": [
    {
     "data": {
      "text/plain": [
       "<re.Match object; span=(7, 13), match='world!'>"
      ]
     },
     "execution_count": 6,
     "metadata": {},
     "output_type": "execute_result"
    }
   ],
   "source": [
    "re.search('world!$', 'Hello, world!')"
   ]
  },
  {
   "cell_type": "code",
   "execution_count": 7,
   "id": "1e332025-b37d-4c15-890c-f34be3a18639",
   "metadata": {},
   "outputs": [],
   "source": [
    "re.search('^world!', 'Hello, world!')"
   ]
  },
  {
   "cell_type": "markdown",
   "id": "2f69b763-adc2-4289-860e-596265a10ada",
   "metadata": {},
   "source": [
    "### 1.2 지정된 문자열이 하나라도 포함되는지 판단하기"
   ]
  },
  {
   "cell_type": "code",
   "execution_count": 8,
   "id": "2e5ad8fc-37e5-44d4-9292-f2bea6055685",
   "metadata": {},
   "outputs": [
    {
     "data": {
      "text/plain": [
       "<re.Match object; span=(0, 5), match='hello'>"
      ]
     },
     "execution_count": 8,
     "metadata": {},
     "output_type": "execute_result"
    }
   ],
   "source": [
    "re.match('hello|world', 'hello')"
   ]
  },
  {
   "cell_type": "markdown",
   "id": "21a6824e-cd9e-4fdf-b779-f7bde2ac33c1",
   "metadata": {},
   "source": [
    "## 2. 범위 판단하기"
   ]
  },
  {
   "cell_type": "code",
   "execution_count": 9,
   "id": "ea71f870-a810-42fd-ab4f-12f258a837a5",
   "metadata": {},
   "outputs": [
    {
     "data": {
      "text/plain": [
       "<re.Match object; span=(0, 4), match='1234'>"
      ]
     },
     "execution_count": 9,
     "metadata": {},
     "output_type": "execute_result"
    }
   ],
   "source": [
    "re.match('[0-9]*', '1234')"
   ]
  },
  {
   "cell_type": "code",
   "execution_count": 10,
   "id": "1683ddb3-6869-4345-875f-ac9672b1c523",
   "metadata": {},
   "outputs": [
    {
     "data": {
      "text/plain": [
       "<re.Match object; span=(0, 2), match='12'>"
      ]
     },
     "execution_count": 10,
     "metadata": {},
     "output_type": "execute_result"
    }
   ],
   "source": [
    "re.match('[0-9]*', '12구사오사')"
   ]
  },
  {
   "cell_type": "code",
   "execution_count": 12,
   "id": "6e26ad41-52f6-4154-ba4d-03cf561eaff0",
   "metadata": {},
   "outputs": [
    {
     "data": {
      "text/plain": [
       "<re.Match object; span=(0, 6), match='123456'>"
      ]
     },
     "execution_count": 12,
     "metadata": {},
     "output_type": "execute_result"
    }
   ],
   "source": [
    "re.match('[0-9]+', '123456')"
   ]
  },
  {
   "cell_type": "code",
   "execution_count": 13,
   "id": "403fd893-296a-419c-9284-09b4bc78129a",
   "metadata": {},
   "outputs": [],
   "source": [
    "re.match('[0-9]+', 'abcd')"
   ]
  },
  {
   "cell_type": "code",
   "execution_count": 14,
   "id": "c7fec12e-7a8a-4e88-b394-1eb67bb7939b",
   "metadata": {},
   "outputs": [
    {
     "data": {
      "text/plain": [
       "<re.Match object; span=(0, 1), match='b'>"
      ]
     },
     "execution_count": 14,
     "metadata": {},
     "output_type": "execute_result"
    }
   ],
   "source": [
    "re.match('a*b', 'b')"
   ]
  },
  {
   "cell_type": "code",
   "execution_count": 15,
   "id": "a98a71d8-7094-48c9-b1cd-2a4cd0ab54a1",
   "metadata": {},
   "outputs": [],
   "source": [
    "re.match('a+b', 'b')"
   ]
  },
  {
   "cell_type": "code",
   "execution_count": 16,
   "id": "a6f67a4f-0b3a-4e72-a172-663ab443aedd",
   "metadata": {},
   "outputs": [
    {
     "data": {
      "text/plain": [
       "<re.Match object; span=(0, 3), match='aab'>"
      ]
     },
     "execution_count": 16,
     "metadata": {},
     "output_type": "execute_result"
    }
   ],
   "source": [
    "re.match('a*b', 'aab')"
   ]
  },
  {
   "cell_type": "code",
   "execution_count": 17,
   "id": "44a28982-d9f9-4fed-9f29-b08d0ad77482",
   "metadata": {},
   "outputs": [
    {
     "data": {
      "text/plain": [
       "<re.Match object; span=(0, 3), match='aab'>"
      ]
     },
     "execution_count": 17,
     "metadata": {},
     "output_type": "execute_result"
    }
   ],
   "source": [
    "re.match('a+b', 'aab')"
   ]
  },
  {
   "cell_type": "markdown",
   "id": "16a26433-9ee6-491c-a6b2-05c8ab8399e0",
   "metadata": {},
   "source": [
    "### 2.1 문자가 한 개만 있는지 판단하기"
   ]
  },
  {
   "cell_type": "code",
   "execution_count": 18,
   "id": "a23b4831-24ff-4503-95f5-cac3563f6994",
   "metadata": {},
   "outputs": [
    {
     "data": {
      "text/plain": [
       "<re.Match object; span=(0, 3), match='abd'>"
      ]
     },
     "execution_count": 18,
     "metadata": {},
     "output_type": "execute_result"
    }
   ],
   "source": [
    "re.match('abc?d', 'abd')"
   ]
  },
  {
   "cell_type": "code",
   "execution_count": 22,
   "id": "cb5eccbc-a258-4415-97fb-3f8bd5b933de",
   "metadata": {},
   "outputs": [
    {
     "data": {
      "text/plain": [
       "<re.Match object; span=(0, 4), match='ab3c'>"
      ]
     },
     "execution_count": 22,
     "metadata": {},
     "output_type": "execute_result"
    }
   ],
   "source": [
    "re.match('ab[0-9]?c', 'ab3c')"
   ]
  },
  {
   "cell_type": "code",
   "execution_count": 25,
   "id": "36bf6955-d8ff-4674-b785-aab5168367f2",
   "metadata": {},
   "outputs": [],
   "source": [
    "re.match('ab[0-9]?c', 'abdc')"
   ]
  },
  {
   "cell_type": "code",
   "execution_count": 26,
   "id": "028bf8d9-c7d3-44bb-a18d-c349492c2aee",
   "metadata": {},
   "outputs": [],
   "source": [
    "re.match('ab[0-9]?c', 'ab123c')"
   ]
  },
  {
   "cell_type": "code",
   "execution_count": 27,
   "id": "6c55f70b-e043-4e6d-916e-76eb60b38324",
   "metadata": {},
   "outputs": [
    {
     "data": {
      "text/plain": [
       "<re.Match object; span=(0, 4), match='abxd'>"
      ]
     },
     "execution_count": 27,
     "metadata": {},
     "output_type": "execute_result"
    }
   ],
   "source": [
    "re.match('ab.d', 'abxd')"
   ]
  },
  {
   "cell_type": "code",
   "execution_count": 28,
   "id": "019275b1-8f33-4d9e-bf3c-f934a7b39ab2",
   "metadata": {},
   "outputs": [],
   "source": [
    "re.match('ab.d', 'abd')"
   ]
  },
  {
   "cell_type": "markdown",
   "id": "656f054c-fe3a-4050-88b0-68c7cd976b5c",
   "metadata": {},
   "source": [
    "### 2.2 문자 개수 판단하기"
   ]
  },
  {
   "cell_type": "code",
   "execution_count": 29,
   "id": "11446977-8338-4e6b-8c0a-865acf050362",
   "metadata": {},
   "outputs": [
    {
     "data": {
      "text/plain": [
       "<re.Match object; span=(0, 3), match='hhh'>"
      ]
     },
     "execution_count": 29,
     "metadata": {},
     "output_type": "execute_result"
    }
   ],
   "source": [
    "re.match('h{3}', 'hhhello')"
   ]
  },
  {
   "cell_type": "code",
   "execution_count": 30,
   "id": "df6c69a1-49e3-4156-ba64-53bcc5cb8a1b",
   "metadata": {},
   "outputs": [
    {
     "data": {
      "text/plain": [
       "<re.Match object; span=(0, 15), match='hellohellohello'>"
      ]
     },
     "execution_count": 30,
     "metadata": {},
     "output_type": "execute_result"
    }
   ],
   "source": [
    "re.match('(hello){3}', 'hellohellohello')"
   ]
  },
  {
   "cell_type": "code",
   "execution_count": 31,
   "id": "904e3012-0315-4220-a562-0d948045f84d",
   "metadata": {},
   "outputs": [
    {
     "data": {
      "text/plain": [
       "<re.Match object; span=(0, 13), match='010-0000-0000'>"
      ]
     },
     "execution_count": 31,
     "metadata": {},
     "output_type": "execute_result"
    }
   ],
   "source": [
    "re.match('[0-9]{3}-[0-9]{4}-[0-9]{4}', '010-0000-0000')"
   ]
  },
  {
   "cell_type": "code",
   "execution_count": 32,
   "id": "c15f8e74-1fbe-4100-bb61-6affff72415a",
   "metadata": {},
   "outputs": [],
   "source": [
    "re.match('[0-9]{3}-[0-9]{4}-[0-9]{4}', '010-000-0000')"
   ]
  },
  {
   "cell_type": "code",
   "execution_count": 35,
   "id": "41512f1f-86df-44d1-8da8-7f25b20e786c",
   "metadata": {},
   "outputs": [
    {
     "data": {
      "text/plain": [
       "<re.Match object; span=(0, 11), match='02-100-1000'>"
      ]
     },
     "execution_count": 35,
     "metadata": {},
     "output_type": "execute_result"
    }
   ],
   "source": [
    "re.match('[0-9]{2,3}-[0-9]{3,4}-[0-9]{4}', '02-100-1000')"
   ]
  },
  {
   "cell_type": "code",
   "execution_count": 36,
   "id": "68f5b1cb-bba6-4eb5-b26c-cc96d2c81e1f",
   "metadata": {},
   "outputs": [],
   "source": [
    "re.match('[0-9]{2,3}-[0-9]{3,4}-[0-9]{4}', '02-100-100')"
   ]
  },
  {
   "cell_type": "markdown",
   "id": "d481f711-d63a-4e36-9adc-8ec3f3fa600c",
   "metadata": {},
   "source": [
    "### 2.3 숫자와 영문 문자를 조합해서 판단하기"
   ]
  },
  {
   "cell_type": "code",
   "execution_count": 37,
   "id": "9dd907f7-5c21-4e84-99cf-e9b88d3bd0a2",
   "metadata": {},
   "outputs": [
    {
     "data": {
      "text/plain": [
       "<re.Match object; span=(0, 9), match='Hello1234'>"
      ]
     },
     "execution_count": 37,
     "metadata": {},
     "output_type": "execute_result"
    }
   ],
   "source": [
    "re.match('[a-zA-Z0-9]+', 'Hello1234')"
   ]
  },
  {
   "cell_type": "code",
   "execution_count": 40,
   "id": "0dc2f8d7-c8ce-492d-a1d4-43921de24d1b",
   "metadata": {},
   "outputs": [],
   "source": [
    "re.match('[A-Z0-9]+', 'hello1234')"
   ]
  },
  {
   "cell_type": "code",
   "execution_count": 42,
   "id": "232b1290-3e25-4660-bea3-9c12af570b09",
   "metadata": {},
   "outputs": [
    {
     "data": {
      "text/plain": [
       "<re.Match object; span=(0, 3), match='홍길동'>"
      ]
     },
     "execution_count": 42,
     "metadata": {},
     "output_type": "execute_result"
    }
   ],
   "source": [
    "re.match('[가-힣]+', '홍길동')"
   ]
  },
  {
   "cell_type": "markdown",
   "id": "2c31bf19-4424-4fee-9c56-fe2f6ea3fb3c",
   "metadata": {},
   "source": [
    "### 2.4 특정 문자 범위에 포함되지 않는지 판단하기"
   ]
  },
  {
   "cell_type": "code",
   "execution_count": 43,
   "id": "4100cfca-4119-4156-b52b-b9482f01de66",
   "metadata": {},
   "outputs": [],
   "source": [
    "re.match('[^A-Z]+', 'Hello')"
   ]
  },
  {
   "cell_type": "code",
   "execution_count": 44,
   "id": "19dae627-9569-4233-86dd-d4c9639bd38a",
   "metadata": {},
   "outputs": [
    {
     "data": {
      "text/plain": [
       "<re.Match object; span=(0, 5), match='hello'>"
      ]
     },
     "execution_count": 44,
     "metadata": {},
     "output_type": "execute_result"
    }
   ],
   "source": [
    "re.match('[^A-Z]+', 'hello')"
   ]
  },
  {
   "cell_type": "code",
   "execution_count": 46,
   "id": "31929275-3dad-49d8-b6d1-287fd7c47be6",
   "metadata": {},
   "outputs": [
    {
     "data": {
      "text/plain": [
       "<re.Match object; span=(5, 9), match='1234'>"
      ]
     },
     "execution_count": 46,
     "metadata": {},
     "output_type": "execute_result"
    }
   ],
   "source": [
    "re.search('[0-9]+$', 'Hello1234')"
   ]
  },
  {
   "cell_type": "code",
   "execution_count": 47,
   "id": "e190a812-7fad-4a04-987e-44147a168003",
   "metadata": {},
   "outputs": [
    {
     "data": {
      "text/plain": [
       "re.compile(r'[A-Z0-9._%+-]+@[A-Z0-9.-]+\\.[A-Z]{2,4}', re.IGNORECASE|re.UNICODE)"
      ]
     },
     "execution_count": 47,
     "metadata": {},
     "output_type": "execute_result"
    }
   ],
   "source": [
    "re.compile('[A-Z0-9._%+-]+@[A-Z0-9.-]+\\.[A-Z]{2,4}', flags=re.IGNORECASE)"
   ]
  },
  {
   "cell_type": "code",
   "execution_count": 1,
   "id": "f44dc7d2-1c88-47e9-86df-6618d14b1d98",
   "metadata": {},
   "outputs": [
    {
     "name": "stdout",
     "output_type": "stream",
     "text": [
      "True True True True True False False False "
     ]
    }
   ],
   "source": [
    "import re\n",
    " \n",
    "p = re.compile('[A-Z0-9._%+-]+@[A-Z0-9.-]+\\.[A-Z]{2,4}', flags=re.IGNORECASE)\n",
    "emails = ['python@mail.example.com', 'python+kr@example.com',              # 올바른 형식\n",
    "          'python-dojang@example.co.kr', 'python_10@example.info',         # 올바른 형식\n",
    "          'python.dojang@e-xample.com',                                    # 올바른 형식\n",
    "          '@example.com', 'python@example', 'python@example-com']          # 잘못된 형식\n",
    " \n",
    "for email in emails:\n",
    "    print(p.match(email) != None, end=' ')"
   ]
  },
  {
   "cell_type": "code",
   "execution_count": null,
   "id": "2f135b05-ae0d-4e12-b973-fb5aa19c999f",
   "metadata": {},
   "outputs": [],
   "source": []
  },
  {
   "cell_type": "code",
   "execution_count": null,
   "id": "0fae8c96-ede4-41a8-8bf8-bdd427bebd93",
   "metadata": {},
   "outputs": [],
   "source": []
  },
  {
   "cell_type": "code",
   "execution_count": null,
   "id": "f208892f-3d7d-4456-a70e-4f7c25727291",
   "metadata": {},
   "outputs": [],
   "source": []
  },
  {
   "cell_type": "code",
   "execution_count": null,
   "id": "d3d08b17-b052-41e3-a1bc-e350e4888ed5",
   "metadata": {},
   "outputs": [],
   "source": []
  },
  {
   "cell_type": "code",
   "execution_count": null,
   "id": "6f268083-46dd-4293-976a-ba35f9f77973",
   "metadata": {},
   "outputs": [],
   "source": []
  },
  {
   "cell_type": "code",
   "execution_count": null,
   "id": "b9077f18-002c-40dc-8aba-56e306ee2ae7",
   "metadata": {},
   "outputs": [],
   "source": []
  },
  {
   "cell_type": "code",
   "execution_count": null,
   "id": "a350d881-c60a-4bb4-b723-98ecccc9bcdb",
   "metadata": {},
   "outputs": [],
   "source": []
  }
 ],
 "metadata": {
  "kernelspec": {
   "display_name": "Python 3 (ipykernel)",
   "language": "python",
   "name": "python3"
  },
  "language_info": {
   "codemirror_mode": {
    "name": "ipython",
    "version": 3
   },
   "file_extension": ".py",
   "mimetype": "text/x-python",
   "name": "python",
   "nbconvert_exporter": "python",
   "pygments_lexer": "ipython3",
   "version": "3.9.16"
  }
 },
 "nbformat": 4,
 "nbformat_minor": 5
}
