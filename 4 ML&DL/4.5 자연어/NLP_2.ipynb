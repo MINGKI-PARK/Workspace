{
 "cells": [
  {
   "cell_type": "code",
   "execution_count": 1,
   "id": "7c28b523-a0ca-49fe-8046-80adc8cbdd66",
   "metadata": {},
   "outputs": [],
   "source": [
    "import re"
   ]
  },
  {
   "cell_type": "markdown",
   "id": "a026c024-7fa0-4a60-a71d-65b673c31e59",
   "metadata": {},
   "source": [
    "```python3\n",
    "# 문자열 속에 패턴이 존재합니까? 질문에 대한 답이 출력됨\n",
    "re.함수명(패턴, 문자열)\n",
    "\n",
    "```"
   ]
  },
  {
   "cell_type": "code",
   "execution_count": 5,
   "id": "3f8814e7-1954-439f-84f7-8b7bd379bf03",
   "metadata": {},
   "outputs": [],
   "source": [
    "re.search('^Hello', 'Hello, World!')\n",
    "re.search('^Hello', 'Hi, Hello, World!')\n",
    "\n",
    "re.search('World!$', 'Hi, Hello, World!')\n",
    "re.search('World!$', 'Hi, Hello, World!!')"
   ]
  },
  {
   "cell_type": "code",
   "execution_count": 6,
   "id": "d791e9ed-cc8f-4fca-95e4-6167a42004c8",
   "metadata": {},
   "outputs": [
    {
     "data": {
      "text/plain": [
       "['1', '2', '4', '7', '8']"
      ]
     },
     "execution_count": 6,
     "metadata": {},
     "output_type": "execute_result"
    }
   ],
   "source": [
    "re.findall('[0-9]+', '1 2 Fizz 4 Buzz Fizz 7 8')"
   ]
  },
  {
   "cell_type": "code",
   "execution_count": 7,
   "id": "4eae4d49-48a5-41df-9f26-f95dfcce8c61",
   "metadata": {},
   "outputs": [
    {
     "data": {
      "text/plain": [
       "['1',\n",
       " '',\n",
       " '2',\n",
       " '',\n",
       " '',\n",
       " '',\n",
       " '',\n",
       " '',\n",
       " '',\n",
       " '4',\n",
       " '',\n",
       " '',\n",
       " '',\n",
       " '',\n",
       " '',\n",
       " '',\n",
       " '',\n",
       " '',\n",
       " '',\n",
       " '',\n",
       " '',\n",
       " '7',\n",
       " '',\n",
       " '8',\n",
       " '']"
      ]
     },
     "execution_count": 7,
     "metadata": {},
     "output_type": "execute_result"
    }
   ],
   "source": [
    "re.findall('[0-9]*', '1 2 Fizz 4 Buzz Fizz 7 8')"
   ]
  },
  {
   "cell_type": "code",
   "execution_count": 8,
   "id": "32b12164-a4af-425a-a68f-e284ecf5d422",
   "metadata": {},
   "outputs": [
    {
     "data": {
      "text/plain": [
       "['1', '2', '4', '7', '899']"
      ]
     },
     "execution_count": 8,
     "metadata": {},
     "output_type": "execute_result"
    }
   ],
   "source": [
    "re.findall('[0-9]+', '1 2 Fizz 4 Buzz Fizz 7 899')"
   ]
  },
  {
   "cell_type": "code",
   "execution_count": 9,
   "id": "9c5fa014-79d1-4c65-abee-4c679addca10",
   "metadata": {},
   "outputs": [
    {
     "data": {
      "text/plain": [
       "['1', '2', '4', '7', '8', '9', '9']"
      ]
     },
     "execution_count": 9,
     "metadata": {},
     "output_type": "execute_result"
    }
   ],
   "source": [
    "re.findall('\\d', '1 2 Fizz 4 Buzz Fizz 7 899')"
   ]
  },
  {
   "cell_type": "markdown",
   "id": "fc443651-7b51-4892-a6bc-421061df56cf",
   "metadata": {},
   "source": [
    "+ 언어모델 : 통계적 모델, 신경망(기반) 모델\n",
    "    - 나는 오늘 강의실에서 자연어처리를 ?\n",
    "+ 통계적 모델 : 단어의 순서에 대해 확률이 부여\n",
    "    - P(나는 자연어 처리를 공부한다) > P(나는 자연어 처리를 먹는다)\n",
    "    - P(공부한다|나는, 자연어, 처리를)\n",
    "\n",
    "+ n-gram : 문서(장,단)간 유사\n",
    "    - '오늘 점심 추천 메뉴:소고기볶음밥, 햄볶음밥'\n",
    "    - 유니그램(n=1) : 오늘, 점심, 추천, 메뉴,소고기볶음밥, 햄볶음밥\n",
    "    - 바이그램(n=2) : 오늘 점심,점심 추천,추천 메뉴,메뉴 소고기볶음밥,소고기볶음밥 햄볶음밥\n",
    "    - Trigram(n=3)\n",
    "   \n",
    "```\n",
    "P(소고기볶음밥|점심 추천 메뉴) =\n",
    " count(점심 추천 메뉴 소고기볶음밥) / count(점심 추천 메뉴) = 20/30\n",
    "P(햄볶음밥|점심 추천 메뉴) =\n",
    " count(점심 추천 메뉴 햄볶음밥) / count(점심 추천 메뉴) = 5/30\n",
    "```\n",
    "\n",
    "점심 추천 메뉴 ?(소고기볶음밥)\n",
    "\n",
    "*시간이 되면 LCS(Longest Common Subsequence) 알고리즘 공부"
   ]
  },
  {
   "cell_type": "markdown",
   "id": "f4dc00b2-a918-47a8-b8af-dede2011ccdd",
   "metadata": {},
   "source": [
    "1. 한국어는 단어의 순서가 큰 의미 없음 -> 신경망(RNN, LSTM) 기반 생성시 어려움\n",
    "    - 얕은 신경망: NN(뉴럴네트워크)\n",
    "    - 깊은 신경망: DNN, CNN, RNN 등\n",
    "    \n",
    "\n",
    "Linear Regression(예측, 회귀) \n",
    "-> Logistic Regression(이진 분류, SIGMOID) \n",
    "-> SOFTMAX(다중 분류)\n",
    "-> 얕은 신경망\n",
    "-> 깊은 신경망(입력/히든 1개 이상/출력): DNN(딥뉴럴네트워크)\n",
    "\n",
    "\n",
    "+ Linear Regression(예측, 회귀)\n",
    "    - h(x) = wx + b\n",
    "    - sigmoid(h(x)) = 1 / (1+e^-h(x)) (0~1 범위)\n",
    "\n",
    "\n",
    "+ 다중 분류\n",
    "    - 이진 분류기를 여러 개 사용하여 분류"
   ]
  },
  {
   "cell_type": "markdown",
   "id": "6d9e435d-8f57-4070-a960-fa40ca314f78",
   "metadata": {},
   "source": [
    "+ DTM(Document Term Matrix, TF)\n",
    "    - 문서 단어 행렬\n",
    "    - Document(행): 문서, 소설책 등등 무엇이든 가능\n",
    "    - Term(열): Document에 등장하는 단어\n",
    "    - Matrix: 등장 횟수\n",
    "    - TDM: DTM의 전치 행렬\n",
    "        * 주로 DTM을 더 많이 쓴다(TDM은 행이 너무 길어져 보기 어려움)"
   ]
  },
  {
   "cell_type": "code",
   "execution_count": 2,
   "id": "478a2b06-e32f-47df-849b-4ac2a7e82057",
   "metadata": {},
   "outputs": [],
   "source": [
    "# 단어 가방(BoW)\n",
    "from sklearn.feature_extraction.text import CountVectorizer # 단어의 빈도수로 벡터를 생성"
   ]
  },
  {
   "cell_type": "code",
   "execution_count": 3,
   "id": "e179c52e-9c3c-44a7-8a31-61c9adb85533",
   "metadata": {},
   "outputs": [
    {
     "data": {
      "text/plain": [
       "<1x7 sparse matrix of type '<class 'numpy.int64'>'\n",
       "\twith 7 stored elements in Compressed Sparse Row format>"
      ]
     },
     "execution_count": 3,
     "metadata": {},
     "output_type": "execute_result"
    }
   ],
   "source": [
    "corpus = ['나는 지금 자연어 처리를 공부해요. 나는 자연어 좋아요. 나는 자연인이에요.']\n",
    "\n",
    "vector = CountVectorizer()\n",
    "\n",
    "v1 = vector.fit_transform(corpus)\n",
    "v1"
   ]
  },
  {
   "cell_type": "markdown",
   "id": "b9bc6367-5e2f-4826-8ed3-6b8e284e5469",
   "metadata": {},
   "source": [
    "+ fit\n",
    "    - 각각의 단어들로 인덱스 부여\n",
    "+ fit_transform\n",
    "    - corpus에 저장된 문장을 fit 결과에 맞춰서 변환\n",
    "    \n",
    "---\n",
    "\n",
    "+ sparse matrix 희소 행렬\n",
    "    - 행렬 요소의 값이 대부분 0인 행렬 -> 공간 낭비, 연산량이 많음"
   ]
  },
  {
   "cell_type": "code",
   "execution_count": 4,
   "id": "07e5ef7d-c85a-4999-a782-aa6b5d48df20",
   "metadata": {},
   "outputs": [
    {
     "data": {
      "text/plain": [
       "array([[1, 3, 2, 1, 1, 1, 1]], dtype=int64)"
      ]
     },
     "execution_count": 4,
     "metadata": {},
     "output_type": "execute_result"
    }
   ],
   "source": [
    "v1.toarray()"
   ]
  },
  {
   "cell_type": "code",
   "execution_count": 5,
   "id": "00f3d9f7-e548-4af6-87bd-f1836934360f",
   "metadata": {},
   "outputs": [
    {
     "data": {
      "text/plain": [
       "{'나는': 1, '지금': 5, '자연어': 2, '처리를': 6, '공부해요': 0, '좋아요': 4, '자연인이에요': 3}"
      ]
     },
     "execution_count": 5,
     "metadata": {},
     "output_type": "execute_result"
    }
   ],
   "source": [
    "vector.vocabulary_"
   ]
  },
  {
   "cell_type": "markdown",
   "id": "fd067729-763b-4e3c-81d1-6d3a9f98c7bd",
   "metadata": {},
   "source": [
    "+ 텍스트 마이닝에서 코사인 유사도는 0 - 90도 안에서 정리된다.\n",
    "    - 음수가 나올 수 없음"
   ]
  },
  {
   "cell_type": "markdown",
   "id": "cd41c497-ec70-4cff-843a-1ef81b5be6c9",
   "metadata": {},
   "source": [
    "+ **TFIDF(TF \\* IDF)**\n",
    "    - TF(d, t): 문서 d에서 단어 t의 등장 횟수(DTM에서 행렬의 요소값이 tf)\n",
    "    - df(t): 단어 t가 등장한 문서의 개수\n",
    "        * df(t)의 값이 크다? 단어가 흔하다\n",
    "    - idf(d, t): log(n:문서의 개수 / df(t) + 1)\n",
    "        * n은 전체 문서의 개수\n",
    "        * n이 커지면 기하급수적으로 커지기 때문에 **log**를 취해준다\n",
    "\n",
    "\n",
    "```\n",
    "예) n = 1000, \n",
    "idf(d, t) = log(1000 / df(t))\n",
    "df(t) = 1, idf(d, t)는 log(1000/1) = 3\n",
    "df(t) = 10, idf(d, t)는 log(1000/10) = 2\n",
    "\n",
    "```"
   ]
  },
  {
   "cell_type": "code",
   "execution_count": 13,
   "id": "d0f36a78-9db3-4bc5-8aeb-c7bd736338c8",
   "metadata": {},
   "outputs": [
    {
     "data": {
      "text/plain": [
       "(array([[0, 0, 0, 1, 0, 1, 0],\n",
       "        [1, 1, 1, 0, 0, 0, 0],\n",
       "        [0, 0, 0, 1, 1, 0, 1]], dtype=int64),\n",
       " {'love': 3, 'you': 5, 'can': 0, 'do': 1, 'it': 2, 'want': 4, 'your': 6})"
      ]
     },
     "execution_count": 13,
     "metadata": {},
     "output_type": "execute_result"
    }
   ],
   "source": [
    "corpus = [\n",
    "    'I love you', # 문서 1\n",
    "    'I can do it', # 문서 2\n",
    "    'I want your love' # 문서 3\n",
    "]\n",
    "\n",
    "v1 = CountVectorizer()\n",
    "\n",
    "a1 = v1.fit_transform(corpus).toarray()\n",
    "\n",
    "a1, v1.vocabulary_"
   ]
  },
  {
   "cell_type": "code",
   "execution_count": 14,
   "id": "18a1f08a-a067-4694-9bcd-311a40b158ba",
   "metadata": {},
   "outputs": [],
   "source": [
    "from sklearn.feature_extraction.text import TfidfVectorizer"
   ]
  },
  {
   "cell_type": "code",
   "execution_count": 15,
   "id": "a10253b1-1429-4021-aae9-a5b734304180",
   "metadata": {},
   "outputs": [
    {
     "data": {
      "text/plain": [
       "array([[0.        , 0.        , 0.        , 0.60534851, 0.        ,\n",
       "        0.79596054, 0.        ],\n",
       "       [0.57735027, 0.57735027, 0.57735027, 0.        , 0.        ,\n",
       "        0.        , 0.        ],\n",
       "       [0.        , 0.        , 0.        , 0.4736296 , 0.62276601,\n",
       "        0.        , 0.62276601]])"
      ]
     },
     "execution_count": 15,
     "metadata": {},
     "output_type": "execute_result"
    }
   ],
   "source": [
    "idf_v1 = TfidfVectorizer()\n",
    "\n",
    "idf_v1.fit_transform(corpus).toarray()"
   ]
  },
  {
   "cell_type": "markdown",
   "id": "7177cd4c-b776-43fa-a814-66bec8e35d7c",
   "metadata": {},
   "source": [
    "+ tf \\* idf 값이 크려면?\n",
    "    - 특정 단어가 많이 등장하되, 여러 문서에는 등장하지 않는 흔치 않은 단어여야 한다."
   ]
  },
  {
   "cell_type": "code",
   "execution_count": 16,
   "id": "57122181-cd83-43f3-b825-5507d9cdb44b",
   "metadata": {},
   "outputs": [
    {
     "data": {
      "text/plain": [
       "array([[0.        , 0.        , 0.        , 0.50854232, 0.        ,\n",
       "        0.861037  , 0.        ],\n",
       "       [0.54645401, 0.54645401, 0.54645401, 0.32274454, 0.        ,\n",
       "        0.        , 0.        ],\n",
       "       [0.        , 0.        , 0.        , 0.38537163, 0.65249088,\n",
       "        0.        , 0.65249088]])"
      ]
     },
     "execution_count": 16,
     "metadata": {},
     "output_type": "execute_result"
    }
   ],
   "source": [
    "corpus = [\n",
    "    'I love you', # 문서 1\n",
    "    'I can do it love', # 문서 2\n",
    "    'I want your love' # 문서 3\n",
    "]\n",
    "\n",
    "idf_v1 = TfidfVectorizer()\n",
    "\n",
    "idf_v1.fit_transform(corpus).toarray()"
   ]
  },
  {
   "cell_type": "code",
   "execution_count": 17,
   "id": "0938ab0c-89ff-4eb0-9dea-4ef52cf80b59",
   "metadata": {},
   "outputs": [
    {
     "data": {
      "text/plain": [
       "array([[0.        , 0.54783215, 0.        , 0.42544054, 0.        ,\n",
       "        0.72033345, 0.        ],\n",
       "       [0.5844829 , 0.44451431, 0.5844829 , 0.34520502, 0.        ,\n",
       "        0.        , 0.        ],\n",
       "       [0.        , 0.        , 0.        , 0.38537163, 0.65249088,\n",
       "        0.        , 0.65249088]])"
      ]
     },
     "execution_count": 17,
     "metadata": {},
     "output_type": "execute_result"
    }
   ],
   "source": [
    "corpus = [\n",
    "    'I do love you', # 문서 1\n",
    "    'I can do it love', # 문서 2\n",
    "    'I want your love' # 문서 3\n",
    "]\n",
    "\n",
    "idf_v1 = TfidfVectorizer()\n",
    "\n",
    "idf_v1.fit_transform(corpus).toarray()"
   ]
  },
  {
   "cell_type": "code",
   "execution_count": 18,
   "id": "1564a82e-4c1d-43fc-91b9-b3fdc6b0ae50",
   "metadata": {},
   "outputs": [],
   "source": [
    "import numpy as np\n",
    "from numpy import dot\n",
    "from numpy.linalg import norm"
   ]
  },
  {
   "cell_type": "code",
   "execution_count": 19,
   "id": "0c2b2ce0-be6f-4252-a22d-c6b0c93a5990",
   "metadata": {},
   "outputs": [],
   "source": [
    "# 예시\n",
    "# d1, d2, d3는 영화 제목\n",
    "# 각 열은 영화 대사에 등장한 단어(사랑, 돈, 운명, 증오 등)\n",
    "\n",
    "d1 = np.array([1, 1, 1, 0])\n",
    "d2 = np.array([0, 1, 1, 1])\n",
    "d3 = np.array([0, 5, 5, 5])"
   ]
  },
  {
   "cell_type": "code",
   "execution_count": 21,
   "id": "6939ae49-d247-452a-b7ba-0534789376bf",
   "metadata": {},
   "outputs": [
    {
     "data": {
      "text/plain": [
       "(2, 10, 15)"
      ]
     },
     "execution_count": 21,
     "metadata": {},
     "output_type": "execute_result"
    }
   ],
   "source": [
    "dot(d1, d2), dot(d1, d3), dot(d2, d3)"
   ]
  },
  {
   "cell_type": "code",
   "execution_count": 22,
   "id": "5e69efde-5495-45e7-8a96-8753d4d2675c",
   "metadata": {},
   "outputs": [
    {
     "data": {
      "text/plain": [
       "(1.7320508075688772, 1.7320508075688772)"
      ]
     },
     "execution_count": 22,
     "metadata": {},
     "output_type": "execute_result"
    }
   ],
   "source": [
    "norm(d1), norm(d2)"
   ]
  },
  {
   "cell_type": "code",
   "execution_count": 23,
   "id": "4d57b7b1-9c3f-4aaa-a50e-f3b138448019",
   "metadata": {},
   "outputs": [
    {
     "data": {
      "text/plain": [
       "2.9999999999999996"
      ]
     },
     "execution_count": 23,
     "metadata": {},
     "output_type": "execute_result"
    }
   ],
   "source": [
    "norm(d1) * norm(d2)"
   ]
  },
  {
   "cell_type": "code",
   "execution_count": 26,
   "id": "65dae9af-db0c-4d03-8c7d-700eda2e964d",
   "metadata": {},
   "outputs": [
    {
     "data": {
      "text/plain": [
       "0.6666666666666667"
      ]
     },
     "execution_count": 26,
     "metadata": {},
     "output_type": "execute_result"
    }
   ],
   "source": [
    "dot(d1, d2) / (norm(d1) * norm(d2))"
   ]
  },
  {
   "cell_type": "code",
   "execution_count": 27,
   "id": "5c6be9eb-51c8-459c-9b33-bbe322f988cb",
   "metadata": {},
   "outputs": [
    {
     "data": {
      "text/plain": [
       "1.0"
      ]
     },
     "execution_count": 27,
     "metadata": {},
     "output_type": "execute_result"
    }
   ],
   "source": [
    "dot(d2, d3) / (norm(d2) * norm(d3))"
   ]
  },
  {
   "cell_type": "markdown",
   "id": "7e0a9c94-3086-4d47-8df0-e415fa9c84a4",
   "metadata": {},
   "source": [
    "### 자카드 유사도"
   ]
  },
  {
   "cell_type": "markdown",
   "id": "9c930c29-c1fb-46bb-b821-63603bf2b5be",
   "metadata": {},
   "source": [
    "```\n",
    "자카드 유사도\n",
    "*집합의 원소는 단어에 해당됨\n",
    "자카드 유사도(d1, d2) = (d1 교집합 d2) / (d1 합집합 d2)\n",
    "\n",
    "d1 = '바다 하늘 육지'\n",
    "d2 = '바다 들판 우주'\n",
    "\n",
    "```"
   ]
  },
  {
   "cell_type": "code",
   "execution_count": 28,
   "id": "92a314c6-7686-4797-93b7-805fe962a785",
   "metadata": {},
   "outputs": [],
   "source": [
    "import pandas as pd\n",
    "from sklearn.metrics.pairwise import cosine_similarity"
   ]
  },
  {
   "cell_type": "code",
   "execution_count": 44,
   "id": "74115eee-5acf-4fa1-9f52-e69d2654d2e5",
   "metadata": {},
   "outputs": [
    {
     "name": "stderr",
     "output_type": "stream",
     "text": [
      "C:\\Users\\Playdata\\AppData\\Local\\Temp\\ipykernel_9944\\167138994.py:1: DtypeWarning: Columns (10) have mixed types. Specify dtype option on import or set low_memory=False.\n",
      "  df = pd.read_csv('c:/reposit/data/bigleader/movies_metadata.csv')\n"
     ]
    },
    {
     "data": {
      "text/plain": [
       "(45466, 24)"
      ]
     },
     "execution_count": 44,
     "metadata": {},
     "output_type": "execute_result"
    }
   ],
   "source": [
    "df = pd.read_csv('c:/reposit/data/bigleader/movies_metadata.csv')\n",
    "df.shape"
   ]
  },
  {
   "cell_type": "code",
   "execution_count": 45,
   "id": "2baa59c0-3f9e-473a-95f2-acf81fff5e74",
   "metadata": {},
   "outputs": [
    {
     "data": {
      "text/html": [
       "<div>\n",
       "<style scoped>\n",
       "    .dataframe tbody tr th:only-of-type {\n",
       "        vertical-align: middle;\n",
       "    }\n",
       "\n",
       "    .dataframe tbody tr th {\n",
       "        vertical-align: top;\n",
       "    }\n",
       "\n",
       "    .dataframe thead th {\n",
       "        text-align: right;\n",
       "    }\n",
       "</style>\n",
       "<table border=\"1\" class=\"dataframe\">\n",
       "  <thead>\n",
       "    <tr style=\"text-align: right;\">\n",
       "      <th></th>\n",
       "      <th>adult</th>\n",
       "      <th>belongs_to_collection</th>\n",
       "      <th>budget</th>\n",
       "      <th>genres</th>\n",
       "      <th>homepage</th>\n",
       "      <th>id</th>\n",
       "      <th>imdb_id</th>\n",
       "      <th>original_language</th>\n",
       "      <th>original_title</th>\n",
       "      <th>overview</th>\n",
       "      <th>...</th>\n",
       "      <th>release_date</th>\n",
       "      <th>revenue</th>\n",
       "      <th>runtime</th>\n",
       "      <th>spoken_languages</th>\n",
       "      <th>status</th>\n",
       "      <th>tagline</th>\n",
       "      <th>title</th>\n",
       "      <th>video</th>\n",
       "      <th>vote_average</th>\n",
       "      <th>vote_count</th>\n",
       "    </tr>\n",
       "  </thead>\n",
       "  <tbody>\n",
       "    <tr>\n",
       "      <th>0</th>\n",
       "      <td>False</td>\n",
       "      <td>{'id': 10194, 'name': 'Toy Story Collection', ...</td>\n",
       "      <td>30000000</td>\n",
       "      <td>[{'id': 16, 'name': 'Animation'}, {'id': 35, '...</td>\n",
       "      <td>http://toystory.disney.com/toy-story</td>\n",
       "      <td>862</td>\n",
       "      <td>tt0114709</td>\n",
       "      <td>en</td>\n",
       "      <td>Toy Story</td>\n",
       "      <td>Led by Woody, Andy's toys live happily in his ...</td>\n",
       "      <td>...</td>\n",
       "      <td>1995-10-30</td>\n",
       "      <td>373554033.0</td>\n",
       "      <td>81.0</td>\n",
       "      <td>[{'iso_639_1': 'en', 'name': 'English'}]</td>\n",
       "      <td>Released</td>\n",
       "      <td>NaN</td>\n",
       "      <td>Toy Story</td>\n",
       "      <td>False</td>\n",
       "      <td>7.7</td>\n",
       "      <td>5415.0</td>\n",
       "    </tr>\n",
       "    <tr>\n",
       "      <th>1</th>\n",
       "      <td>False</td>\n",
       "      <td>NaN</td>\n",
       "      <td>65000000</td>\n",
       "      <td>[{'id': 12, 'name': 'Adventure'}, {'id': 14, '...</td>\n",
       "      <td>NaN</td>\n",
       "      <td>8844</td>\n",
       "      <td>tt0113497</td>\n",
       "      <td>en</td>\n",
       "      <td>Jumanji</td>\n",
       "      <td>When siblings Judy and Peter discover an encha...</td>\n",
       "      <td>...</td>\n",
       "      <td>1995-12-15</td>\n",
       "      <td>262797249.0</td>\n",
       "      <td>104.0</td>\n",
       "      <td>[{'iso_639_1': 'en', 'name': 'English'}, {'iso...</td>\n",
       "      <td>Released</td>\n",
       "      <td>Roll the dice and unleash the excitement!</td>\n",
       "      <td>Jumanji</td>\n",
       "      <td>False</td>\n",
       "      <td>6.9</td>\n",
       "      <td>2413.0</td>\n",
       "    </tr>\n",
       "    <tr>\n",
       "      <th>2</th>\n",
       "      <td>False</td>\n",
       "      <td>{'id': 119050, 'name': 'Grumpy Old Men Collect...</td>\n",
       "      <td>0</td>\n",
       "      <td>[{'id': 10749, 'name': 'Romance'}, {'id': 35, ...</td>\n",
       "      <td>NaN</td>\n",
       "      <td>15602</td>\n",
       "      <td>tt0113228</td>\n",
       "      <td>en</td>\n",
       "      <td>Grumpier Old Men</td>\n",
       "      <td>A family wedding reignites the ancient feud be...</td>\n",
       "      <td>...</td>\n",
       "      <td>1995-12-22</td>\n",
       "      <td>0.0</td>\n",
       "      <td>101.0</td>\n",
       "      <td>[{'iso_639_1': 'en', 'name': 'English'}]</td>\n",
       "      <td>Released</td>\n",
       "      <td>Still Yelling. Still Fighting. Still Ready for...</td>\n",
       "      <td>Grumpier Old Men</td>\n",
       "      <td>False</td>\n",
       "      <td>6.5</td>\n",
       "      <td>92.0</td>\n",
       "    </tr>\n",
       "  </tbody>\n",
       "</table>\n",
       "<p>3 rows × 24 columns</p>\n",
       "</div>"
      ],
      "text/plain": [
       "   adult                              belongs_to_collection    budget  \\\n",
       "0  False  {'id': 10194, 'name': 'Toy Story Collection', ...  30000000   \n",
       "1  False                                                NaN  65000000   \n",
       "2  False  {'id': 119050, 'name': 'Grumpy Old Men Collect...         0   \n",
       "\n",
       "                                              genres  \\\n",
       "0  [{'id': 16, 'name': 'Animation'}, {'id': 35, '...   \n",
       "1  [{'id': 12, 'name': 'Adventure'}, {'id': 14, '...   \n",
       "2  [{'id': 10749, 'name': 'Romance'}, {'id': 35, ...   \n",
       "\n",
       "                               homepage     id    imdb_id original_language  \\\n",
       "0  http://toystory.disney.com/toy-story    862  tt0114709                en   \n",
       "1                                   NaN   8844  tt0113497                en   \n",
       "2                                   NaN  15602  tt0113228                en   \n",
       "\n",
       "     original_title                                           overview  ...  \\\n",
       "0         Toy Story  Led by Woody, Andy's toys live happily in his ...  ...   \n",
       "1           Jumanji  When siblings Judy and Peter discover an encha...  ...   \n",
       "2  Grumpier Old Men  A family wedding reignites the ancient feud be...  ...   \n",
       "\n",
       "  release_date      revenue runtime  \\\n",
       "0   1995-10-30  373554033.0    81.0   \n",
       "1   1995-12-15  262797249.0   104.0   \n",
       "2   1995-12-22          0.0   101.0   \n",
       "\n",
       "                                    spoken_languages    status  \\\n",
       "0           [{'iso_639_1': 'en', 'name': 'English'}]  Released   \n",
       "1  [{'iso_639_1': 'en', 'name': 'English'}, {'iso...  Released   \n",
       "2           [{'iso_639_1': 'en', 'name': 'English'}]  Released   \n",
       "\n",
       "                                             tagline             title  video  \\\n",
       "0                                                NaN         Toy Story  False   \n",
       "1          Roll the dice and unleash the excitement!           Jumanji  False   \n",
       "2  Still Yelling. Still Fighting. Still Ready for...  Grumpier Old Men  False   \n",
       "\n",
       "  vote_average vote_count  \n",
       "0          7.7     5415.0  \n",
       "1          6.9     2413.0  \n",
       "2          6.5       92.0  \n",
       "\n",
       "[3 rows x 24 columns]"
      ]
     },
     "execution_count": 45,
     "metadata": {},
     "output_type": "execute_result"
    }
   ],
   "source": [
    "df.head(3)"
   ]
  },
  {
   "cell_type": "code",
   "execution_count": 46,
   "id": "e30c5b86-b5d5-4d1b-a1c6-d814b25cd455",
   "metadata": {},
   "outputs": [
    {
     "data": {
      "text/plain": [
       "(10000, 24)"
      ]
     },
     "execution_count": 46,
     "metadata": {},
     "output_type": "execute_result"
    }
   ],
   "source": [
    "df = df.head(10000)\n",
    "df.shape"
   ]
  },
  {
   "cell_type": "code",
   "execution_count": 47,
   "id": "17427750-23c7-4363-b64d-07ba5bae9646",
   "metadata": {},
   "outputs": [
    {
     "name": "stdout",
     "output_type": "stream",
     "text": [
      "<class 'pandas.core.frame.DataFrame'>\n",
      "RangeIndex: 10000 entries, 0 to 9999\n",
      "Data columns (total 24 columns):\n",
      " #   Column                 Non-Null Count  Dtype  \n",
      "---  ------                 --------------  -----  \n",
      " 0   adult                  10000 non-null  object \n",
      " 1   belongs_to_collection  1421 non-null   object \n",
      " 2   budget                 10000 non-null  object \n",
      " 3   genres                 10000 non-null  object \n",
      " 4   homepage               662 non-null    object \n",
      " 5   id                     10000 non-null  object \n",
      " 6   imdb_id                9999 non-null   object \n",
      " 7   original_language      10000 non-null  object \n",
      " 8   original_title         10000 non-null  object \n",
      " 9   overview               9971 non-null   object \n",
      " 10  popularity             10000 non-null  object \n",
      " 11  poster_path            9969 non-null   object \n",
      " 12  production_companies   10000 non-null  object \n",
      " 13  production_countries   10000 non-null  object \n",
      " 14  release_date           9995 non-null   object \n",
      " 15  revenue                10000 non-null  float64\n",
      " 16  runtime                9994 non-null   float64\n",
      " 17  spoken_languages       10000 non-null  object \n",
      " 18  status                 9992 non-null   object \n",
      " 19  tagline                6892 non-null   object \n",
      " 20  title                  10000 non-null  object \n",
      " 21  video                  10000 non-null  object \n",
      " 22  vote_average           10000 non-null  float64\n",
      " 23  vote_count             10000 non-null  float64\n",
      "dtypes: float64(4), object(20)\n",
      "memory usage: 1.8+ MB\n"
     ]
    }
   ],
   "source": [
    "df.info()"
   ]
  },
  {
   "cell_type": "code",
   "execution_count": 48,
   "id": "7855f419-5fcc-4aca-adfc-2fa9435c8fc6",
   "metadata": {},
   "outputs": [
    {
     "data": {
      "text/html": [
       "<div>\n",
       "<style scoped>\n",
       "    .dataframe tbody tr th:only-of-type {\n",
       "        vertical-align: middle;\n",
       "    }\n",
       "\n",
       "    .dataframe tbody tr th {\n",
       "        vertical-align: top;\n",
       "    }\n",
       "\n",
       "    .dataframe thead th {\n",
       "        text-align: right;\n",
       "    }\n",
       "</style>\n",
       "<table border=\"1\" class=\"dataframe\">\n",
       "  <thead>\n",
       "    <tr style=\"text-align: right;\">\n",
       "      <th></th>\n",
       "      <th>nan count</th>\n",
       "    </tr>\n",
       "  </thead>\n",
       "  <tbody>\n",
       "    <tr>\n",
       "      <th>adult</th>\n",
       "      <td>0</td>\n",
       "    </tr>\n",
       "    <tr>\n",
       "      <th>belongs_to_collection</th>\n",
       "      <td>8579</td>\n",
       "    </tr>\n",
       "    <tr>\n",
       "      <th>budget</th>\n",
       "      <td>0</td>\n",
       "    </tr>\n",
       "    <tr>\n",
       "      <th>genres</th>\n",
       "      <td>0</td>\n",
       "    </tr>\n",
       "    <tr>\n",
       "      <th>homepage</th>\n",
       "      <td>9338</td>\n",
       "    </tr>\n",
       "    <tr>\n",
       "      <th>id</th>\n",
       "      <td>0</td>\n",
       "    </tr>\n",
       "    <tr>\n",
       "      <th>imdb_id</th>\n",
       "      <td>1</td>\n",
       "    </tr>\n",
       "    <tr>\n",
       "      <th>original_language</th>\n",
       "      <td>0</td>\n",
       "    </tr>\n",
       "    <tr>\n",
       "      <th>original_title</th>\n",
       "      <td>0</td>\n",
       "    </tr>\n",
       "    <tr>\n",
       "      <th>overview</th>\n",
       "      <td>29</td>\n",
       "    </tr>\n",
       "    <tr>\n",
       "      <th>popularity</th>\n",
       "      <td>0</td>\n",
       "    </tr>\n",
       "    <tr>\n",
       "      <th>poster_path</th>\n",
       "      <td>31</td>\n",
       "    </tr>\n",
       "    <tr>\n",
       "      <th>production_companies</th>\n",
       "      <td>0</td>\n",
       "    </tr>\n",
       "    <tr>\n",
       "      <th>production_countries</th>\n",
       "      <td>0</td>\n",
       "    </tr>\n",
       "    <tr>\n",
       "      <th>release_date</th>\n",
       "      <td>5</td>\n",
       "    </tr>\n",
       "    <tr>\n",
       "      <th>revenue</th>\n",
       "      <td>0</td>\n",
       "    </tr>\n",
       "    <tr>\n",
       "      <th>runtime</th>\n",
       "      <td>6</td>\n",
       "    </tr>\n",
       "    <tr>\n",
       "      <th>spoken_languages</th>\n",
       "      <td>0</td>\n",
       "    </tr>\n",
       "    <tr>\n",
       "      <th>status</th>\n",
       "      <td>8</td>\n",
       "    </tr>\n",
       "    <tr>\n",
       "      <th>tagline</th>\n",
       "      <td>3108</td>\n",
       "    </tr>\n",
       "    <tr>\n",
       "      <th>title</th>\n",
       "      <td>0</td>\n",
       "    </tr>\n",
       "    <tr>\n",
       "      <th>video</th>\n",
       "      <td>0</td>\n",
       "    </tr>\n",
       "    <tr>\n",
       "      <th>vote_average</th>\n",
       "      <td>0</td>\n",
       "    </tr>\n",
       "    <tr>\n",
       "      <th>vote_count</th>\n",
       "      <td>0</td>\n",
       "    </tr>\n",
       "  </tbody>\n",
       "</table>\n",
       "</div>"
      ],
      "text/plain": [
       "                       nan count\n",
       "adult                          0\n",
       "belongs_to_collection       8579\n",
       "budget                         0\n",
       "genres                         0\n",
       "homepage                    9338\n",
       "id                             0\n",
       "imdb_id                        1\n",
       "original_language              0\n",
       "original_title                 0\n",
       "overview                      29\n",
       "popularity                     0\n",
       "poster_path                   31\n",
       "production_companies           0\n",
       "production_countries           0\n",
       "release_date                   5\n",
       "revenue                        0\n",
       "runtime                        6\n",
       "spoken_languages               0\n",
       "status                         8\n",
       "tagline                     3108\n",
       "title                          0\n",
       "video                          0\n",
       "vote_average                   0\n",
       "vote_count                     0"
      ]
     },
     "execution_count": 48,
     "metadata": {},
     "output_type": "execute_result"
    }
   ],
   "source": [
    "df.isnull().sum().to_frame('nan count')"
   ]
  },
  {
   "cell_type": "code",
   "execution_count": 50,
   "id": "369c2fb1-b340-462f-8ddb-5ac9e74dff62",
   "metadata": {},
   "outputs": [
    {
     "data": {
      "text/html": [
       "<div>\n",
       "<style scoped>\n",
       "    .dataframe tbody tr th:only-of-type {\n",
       "        vertical-align: middle;\n",
       "    }\n",
       "\n",
       "    .dataframe tbody tr th {\n",
       "        vertical-align: top;\n",
       "    }\n",
       "\n",
       "    .dataframe thead th {\n",
       "        text-align: right;\n",
       "    }\n",
       "</style>\n",
       "<table border=\"1\" class=\"dataframe\">\n",
       "  <thead>\n",
       "    <tr style=\"text-align: right;\">\n",
       "      <th></th>\n",
       "      <th>adult</th>\n",
       "      <th>belongs_to_collection</th>\n",
       "      <th>budget</th>\n",
       "      <th>genres</th>\n",
       "      <th>homepage</th>\n",
       "      <th>id</th>\n",
       "      <th>imdb_id</th>\n",
       "      <th>original_language</th>\n",
       "      <th>original_title</th>\n",
       "      <th>overview</th>\n",
       "      <th>...</th>\n",
       "      <th>release_date</th>\n",
       "      <th>revenue</th>\n",
       "      <th>runtime</th>\n",
       "      <th>spoken_languages</th>\n",
       "      <th>status</th>\n",
       "      <th>tagline</th>\n",
       "      <th>title</th>\n",
       "      <th>video</th>\n",
       "      <th>vote_average</th>\n",
       "      <th>vote_count</th>\n",
       "    </tr>\n",
       "  </thead>\n",
       "  <tbody>\n",
       "    <tr>\n",
       "      <th>0</th>\n",
       "      <td>False</td>\n",
       "      <td>{'id': 10194, 'name': 'Toy Story Collection', ...</td>\n",
       "      <td>30000000</td>\n",
       "      <td>[{'id': 16, 'name': 'Animation'}, {'id': 35, '...</td>\n",
       "      <td>http://toystory.disney.com/toy-story</td>\n",
       "      <td>862</td>\n",
       "      <td>tt0114709</td>\n",
       "      <td>en</td>\n",
       "      <td>Toy Story</td>\n",
       "      <td>Led by Woody, Andy's toys live happily in his ...</td>\n",
       "      <td>...</td>\n",
       "      <td>1995-10-30</td>\n",
       "      <td>373554033.0</td>\n",
       "      <td>81.0</td>\n",
       "      <td>[{'iso_639_1': 'en', 'name': 'English'}]</td>\n",
       "      <td>Released</td>\n",
       "      <td>NaN</td>\n",
       "      <td>Toy Story</td>\n",
       "      <td>False</td>\n",
       "      <td>7.7</td>\n",
       "      <td>5415.0</td>\n",
       "    </tr>\n",
       "    <tr>\n",
       "      <th>1</th>\n",
       "      <td>False</td>\n",
       "      <td>NaN</td>\n",
       "      <td>65000000</td>\n",
       "      <td>[{'id': 12, 'name': 'Adventure'}, {'id': 14, '...</td>\n",
       "      <td>NaN</td>\n",
       "      <td>8844</td>\n",
       "      <td>tt0113497</td>\n",
       "      <td>en</td>\n",
       "      <td>Jumanji</td>\n",
       "      <td>When siblings Judy and Peter discover an encha...</td>\n",
       "      <td>...</td>\n",
       "      <td>1995-12-15</td>\n",
       "      <td>262797249.0</td>\n",
       "      <td>104.0</td>\n",
       "      <td>[{'iso_639_1': 'en', 'name': 'English'}, {'iso...</td>\n",
       "      <td>Released</td>\n",
       "      <td>Roll the dice and unleash the excitement!</td>\n",
       "      <td>Jumanji</td>\n",
       "      <td>False</td>\n",
       "      <td>6.9</td>\n",
       "      <td>2413.0</td>\n",
       "    </tr>\n",
       "    <tr>\n",
       "      <th>2</th>\n",
       "      <td>False</td>\n",
       "      <td>{'id': 119050, 'name': 'Grumpy Old Men Collect...</td>\n",
       "      <td>0</td>\n",
       "      <td>[{'id': 10749, 'name': 'Romance'}, {'id': 35, ...</td>\n",
       "      <td>NaN</td>\n",
       "      <td>15602</td>\n",
       "      <td>tt0113228</td>\n",
       "      <td>en</td>\n",
       "      <td>Grumpier Old Men</td>\n",
       "      <td>A family wedding reignites the ancient feud be...</td>\n",
       "      <td>...</td>\n",
       "      <td>1995-12-22</td>\n",
       "      <td>0.0</td>\n",
       "      <td>101.0</td>\n",
       "      <td>[{'iso_639_1': 'en', 'name': 'English'}]</td>\n",
       "      <td>Released</td>\n",
       "      <td>Still Yelling. Still Fighting. Still Ready for...</td>\n",
       "      <td>Grumpier Old Men</td>\n",
       "      <td>False</td>\n",
       "      <td>6.5</td>\n",
       "      <td>92.0</td>\n",
       "    </tr>\n",
       "  </tbody>\n",
       "</table>\n",
       "<p>3 rows × 24 columns</p>\n",
       "</div>"
      ],
      "text/plain": [
       "   adult                              belongs_to_collection    budget  \\\n",
       "0  False  {'id': 10194, 'name': 'Toy Story Collection', ...  30000000   \n",
       "1  False                                                NaN  65000000   \n",
       "2  False  {'id': 119050, 'name': 'Grumpy Old Men Collect...         0   \n",
       "\n",
       "                                              genres  \\\n",
       "0  [{'id': 16, 'name': 'Animation'}, {'id': 35, '...   \n",
       "1  [{'id': 12, 'name': 'Adventure'}, {'id': 14, '...   \n",
       "2  [{'id': 10749, 'name': 'Romance'}, {'id': 35, ...   \n",
       "\n",
       "                               homepage     id    imdb_id original_language  \\\n",
       "0  http://toystory.disney.com/toy-story    862  tt0114709                en   \n",
       "1                                   NaN   8844  tt0113497                en   \n",
       "2                                   NaN  15602  tt0113228                en   \n",
       "\n",
       "     original_title                                           overview  ...  \\\n",
       "0         Toy Story  Led by Woody, Andy's toys live happily in his ...  ...   \n",
       "1           Jumanji  When siblings Judy and Peter discover an encha...  ...   \n",
       "2  Grumpier Old Men  A family wedding reignites the ancient feud be...  ...   \n",
       "\n",
       "  release_date      revenue runtime  \\\n",
       "0   1995-10-30  373554033.0    81.0   \n",
       "1   1995-12-15  262797249.0   104.0   \n",
       "2   1995-12-22          0.0   101.0   \n",
       "\n",
       "                                    spoken_languages    status  \\\n",
       "0           [{'iso_639_1': 'en', 'name': 'English'}]  Released   \n",
       "1  [{'iso_639_1': 'en', 'name': 'English'}, {'iso...  Released   \n",
       "2           [{'iso_639_1': 'en', 'name': 'English'}]  Released   \n",
       "\n",
       "                                             tagline             title  video  \\\n",
       "0                                                NaN         Toy Story  False   \n",
       "1          Roll the dice and unleash the excitement!           Jumanji  False   \n",
       "2  Still Yelling. Still Fighting. Still Ready for...  Grumpier Old Men  False   \n",
       "\n",
       "  vote_average vote_count  \n",
       "0          7.7     5415.0  \n",
       "1          6.9     2413.0  \n",
       "2          6.5       92.0  \n",
       "\n",
       "[3 rows x 24 columns]"
      ]
     },
     "execution_count": 50,
     "metadata": {},
     "output_type": "execute_result"
    }
   ],
   "source": [
    "df1 = df.dropna(subset=['overview'])\n",
    "df1.head(3)"
   ]
  },
  {
   "cell_type": "code",
   "execution_count": 52,
   "id": "687e895e-7b4f-40da-ba66-d3da75653164",
   "metadata": {},
   "outputs": [
    {
     "data": {
      "text/plain": [
       "(9971, 32350)"
      ]
     },
     "execution_count": 52,
     "metadata": {},
     "output_type": "execute_result"
    }
   ],
   "source": [
    "tfidf1 = TfidfVectorizer(stop_words='english')\n",
    "\n",
    "tfidf1_m = tfidf1.fit_transform(df1['overview'])\n",
    "\n",
    "tfidf1_m.shape"
   ]
  },
  {
   "cell_type": "code",
   "execution_count": 55,
   "id": "79f2cfc4-311d-4ca9-b170-4782e6712c3c",
   "metadata": {},
   "outputs": [
    {
     "data": {
      "text/plain": [
       "<9971x32350 sparse matrix of type '<class 'numpy.float64'>'\n",
       "\twith 268918 stored elements in Compressed Sparse Row format>"
      ]
     },
     "execution_count": 55,
     "metadata": {},
     "output_type": "execute_result"
    }
   ],
   "source": [
    "tfidf1_m"
   ]
  },
  {
   "cell_type": "code",
   "execution_count": 63,
   "id": "178b1f92-bbe1-48f7-a7b0-1814ccaadbd8",
   "metadata": {},
   "outputs": [
    {
     "data": {
      "text/plain": [
       "(9971, 9971)"
      ]
     },
     "execution_count": 63,
     "metadata": {},
     "output_type": "execute_result"
    }
   ],
   "source": [
    "cs1 = cosine_similarity(tfidf1_m, tfidf1_m)\n",
    "cs1.shape"
   ]
  },
  {
   "cell_type": "code",
   "execution_count": 58,
   "id": "97d0d5cf-950c-45cd-b40e-f49c4bd4b38a",
   "metadata": {},
   "outputs": [
    {
     "data": {
      "text/plain": [
       "0                          Toy Story\n",
       "1                            Jumanji\n",
       "2                   Grumpier Old Men\n",
       "3                  Waiting to Exhale\n",
       "4        Father of the Bride Part II\n",
       "                    ...             \n",
       "9995                Miracle in Milan\n",
       "9996                 Before the Fall\n",
       "9997                  The Frisco Kid\n",
       "9998    Onmyoji: The Yin Yang Master\n",
       "9999                State Property 2\n",
       "Name: title, Length: 9971, dtype: object"
      ]
     },
     "execution_count": 58,
     "metadata": {},
     "output_type": "execute_result"
    }
   ],
   "source": [
    "df1['title']"
   ]
  },
  {
   "cell_type": "code",
   "execution_count": 61,
   "id": "2c28d763-f0cd-473f-8b46-91401fa33d98",
   "metadata": {},
   "outputs": [
    {
     "data": {
      "text/plain": [
       "0"
      ]
     },
     "execution_count": 61,
     "metadata": {},
     "output_type": "execute_result"
    }
   ],
   "source": [
    "dict1 = dict(zip(df1['title'], df1.index))\n",
    "\n",
    "dict1['Toy Story']"
   ]
  },
  {
   "cell_type": "code",
   "execution_count": 69,
   "id": "82a6581a-e2ef-4e29-993e-347a35a905b8",
   "metadata": {},
   "outputs": [
    {
     "data": {
      "text/plain": [
       "array([1.        , 0.01682702, 0.        , ..., 0.        , 0.        ,\n",
       "       0.        ])"
      ]
     },
     "execution_count": 69,
     "metadata": {},
     "output_type": "execute_result"
    }
   ],
   "source": [
    "cs1[0]"
   ]
  },
  {
   "cell_type": "code",
   "execution_count": 70,
   "id": "955b84d3-8e6a-4ca7-8988-703367750753",
   "metadata": {},
   "outputs": [
    {
     "data": {
      "text/plain": [
       "1.0"
      ]
     },
     "execution_count": 70,
     "metadata": {},
     "output_type": "execute_result"
    }
   ],
   "source": [
    "cs1[0]"
   ]
  },
  {
   "cell_type": "code",
   "execution_count": 84,
   "id": "c83d6a2e-8156-442c-a50f-01e16de85039",
   "metadata": {},
   "outputs": [],
   "source": [
    "def rec(title):\n",
    "    idx = dict1[title]\n",
    "    \n",
    "    sim_scores = cs1[idx]\n",
    "    # print(sim_scores)\n",
    "    # print(list(enumerate(cs1[idx])))\n",
    "    \n",
    "    return sorted(list(enumerate(cs1[idx])), key=lambda x: x[1], reverse=True)[1:11]\n",
    "\n",
    "    # 딕셔너리로 만들어서 제목 나오게 만들어보기\n",
    "    # for문을 사용하긴 해야 될 듯"
   ]
  },
  {
   "cell_type": "code",
   "execution_count": 85,
   "id": "fa470681-0282-4b5c-b93a-976859602f5e",
   "metadata": {},
   "outputs": [
    {
     "data": {
      "text/plain": [
       "[(2979, 0.45640116299321576),\n",
       " (8303, 0.2124905700530333),\n",
       " (1058, 0.18334114054541267),\n",
       " (3039, 0.14786862957430816),\n",
       " (1916, 0.14188400131919193),\n",
       " (483, 0.14122879570764107),\n",
       " (5776, 0.13658477775649094),\n",
       " (7230, 0.13020729283405372),\n",
       " (6920, 0.1262712833243566),\n",
       " (7591, 0.12460142360135702)]"
      ]
     },
     "execution_count": 85,
     "metadata": {},
     "output_type": "execute_result"
    }
   ],
   "source": [
    "rec('Toy Story')"
   ]
  },
  {
   "cell_type": "code",
   "execution_count": null,
   "id": "7b0a590b-4340-4ada-8d6b-c6bb949e4727",
   "metadata": {},
   "outputs": [],
   "source": []
  },
  {
   "cell_type": "code",
   "execution_count": null,
   "id": "28414266-96b6-475e-8223-08a83ed9edf9",
   "metadata": {},
   "outputs": [],
   "source": []
  },
  {
   "cell_type": "code",
   "execution_count": null,
   "id": "8a0f11e1-d258-4046-9a2f-198feae24e3f",
   "metadata": {},
   "outputs": [],
   "source": []
  }
 ],
 "metadata": {
  "kernelspec": {
   "display_name": "Python 3 (ipykernel)",
   "language": "python",
   "name": "python3"
  },
  "language_info": {
   "codemirror_mode": {
    "name": "ipython",
    "version": 3
   },
   "file_extension": ".py",
   "mimetype": "text/x-python",
   "name": "python",
   "nbconvert_exporter": "python",
   "pygments_lexer": "ipython3",
   "version": "3.9.16"
  }
 },
 "nbformat": 4,
 "nbformat_minor": 5
}
