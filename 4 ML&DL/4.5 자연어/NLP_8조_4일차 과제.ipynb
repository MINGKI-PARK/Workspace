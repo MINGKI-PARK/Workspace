{
 "cells": [
  {
   "cell_type": "code",
   "execution_count": 7,
   "id": "19b0d35e-028b-496f-b5e2-504acb08e54e",
   "metadata": {},
   "outputs": [],
   "source": [
    "import string\n",
    "\n",
    "from nltk.tokenize import word_tokenize, WordPunctTokenizer, sent_tokenize\n",
    "from nltk.tag import pos_tag\n",
    "from nltk.corpus import stopwords"
   ]
  },
  {
   "cell_type": "code",
   "execution_count": 10,
   "id": "6a80ca51-e40a-40ef-b829-9f973186f427",
   "metadata": {},
   "outputs": [],
   "source": [
    "def remove_stopwords(text, language='english'):\n",
    "    \n",
    "    res = []\n",
    "    stop_words = set(stopwords.words(language))\n",
    "    \n",
    "    for word in word_tokenize(text):\n",
    "        \n",
    "        if (word not in stop_words) and (word not in string.punctuation):\n",
    "            res.append(word)\n",
    "    # print(res)\n",
    "    \n",
    "    return ' '.join(res)"
   ]
  },
  {
   "cell_type": "code",
   "execution_count": 11,
   "id": "8ba1942b-49de-4b2d-8719-f8655a13e0bb",
   "metadata": {},
   "outputs": [
    {
     "data": {
      "text/plain": [
       "'mingki'"
      ]
     },
     "execution_count": 11,
     "metadata": {},
     "output_type": "execute_result"
    }
   ],
   "source": [
    "text = 'i am the mingki'\n",
    "\n",
    "remove_stopwords(text)"
   ]
  },
  {
   "cell_type": "code",
   "execution_count": null,
   "id": "90718a05-fb32-4084-924a-6b6265de7ccf",
   "metadata": {},
   "outputs": [],
   "source": []
  },
  {
   "cell_type": "code",
   "execution_count": null,
   "id": "1adfa682-24cd-4669-91c8-7c0477c6d231",
   "metadata": {},
   "outputs": [],
   "source": []
  },
  {
   "cell_type": "code",
   "execution_count": null,
   "id": "3f3b7b80-6ac5-48ba-84bb-fce8e9b19c2b",
   "metadata": {},
   "outputs": [],
   "source": []
  },
  {
   "cell_type": "code",
   "execution_count": null,
   "id": "d43fbb3d-2f0f-43fd-ace4-bd1635828e78",
   "metadata": {},
   "outputs": [],
   "source": []
  },
  {
   "cell_type": "code",
   "execution_count": null,
   "id": "c84bb0c0-01a9-442b-afdc-d1d484533e90",
   "metadata": {},
   "outputs": [],
   "source": []
  },
  {
   "cell_type": "code",
   "execution_count": null,
   "id": "9b4ee14e-8b36-47e3-8afc-a59587bc1d30",
   "metadata": {},
   "outputs": [],
   "source": []
  }
 ],
 "metadata": {
  "kernelspec": {
   "display_name": "Python 3 (ipykernel)",
   "language": "python",
   "name": "python3"
  },
  "language_info": {
   "codemirror_mode": {
    "name": "ipython",
    "version": 3
   },
   "file_extension": ".py",
   "mimetype": "text/x-python",
   "name": "python",
   "nbconvert_exporter": "python",
   "pygments_lexer": "ipython3",
   "version": "3.9.16"
  }
 },
 "nbformat": 4,
 "nbformat_minor": 5
}
