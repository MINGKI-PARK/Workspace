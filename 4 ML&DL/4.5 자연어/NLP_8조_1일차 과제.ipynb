{
 "cells": [
  {
   "cell_type": "code",
   "execution_count": 1,
   "id": "9ecb378c-e282-41d2-8ce5-36e2501d7ef7",
   "metadata": {},
   "outputs": [
    {
     "name": "stdout",
     "output_type": "stream",
     "text": [
      "True True True True True False False False "
     ]
    }
   ],
   "source": [
    "import re\n",
    " \n",
    "p = re.compile('[A-Z0-9._%+-]+@[A-Z0-9.-]+\\.[A-Z]{2,4}', flags=re.IGNORECASE)\n",
    "emails = ['python@mail.example.com', 'python+kr@example.com',              # 올바른 형식\n",
    "          'python-dojang@example.co.kr', 'python_10@example.info',         # 올바른 형식\n",
    "          'python.dojang@e-xample.com',                                    # 올바른 형식\n",
    "          '@example.com', 'python@example', 'python@example-com']          # 잘못된 형식\n",
    " \n",
    "for email in emails:\n",
    "    print(p.match(email) != None, end=' ')"
   ]
  }
 ],
 "metadata": {
  "kernelspec": {
   "display_name": "Python 3 (ipykernel)",
   "language": "python",
   "name": "python3"
  },
  "language_info": {
   "codemirror_mode": {
    "name": "ipython",
    "version": 3
   },
   "file_extension": ".py",
   "mimetype": "text/x-python",
   "name": "python",
   "nbconvert_exporter": "python",
   "pygments_lexer": "ipython3",
   "version": "3.9.16"
  }
 },
 "nbformat": 4,
 "nbformat_minor": 5
}
