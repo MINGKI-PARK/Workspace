{
 "cells": [
  {
   "cell_type": "code",
   "execution_count": 1,
   "id": "62808e30-d829-4878-8c74-f9a64acee160",
   "metadata": {},
   "outputs": [],
   "source": [
    "import tensorflow as tf\n",
    "from tensorflow import keras\n",
    "\n",
    "import numpy as np\n",
    "import matplotlib.pyplot as plt\n",
    "import seaborn as sns"
   ]
  },
  {
   "cell_type": "code",
   "execution_count": 2,
   "id": "7cd713cd-4314-43c5-9591-70ebf07064f6",
   "metadata": {},
   "outputs": [
    {
     "name": "stdout",
     "output_type": "stream",
     "text": [
      "2.10.0\n"
     ]
    }
   ],
   "source": [
    "# Tensorflow version 출력\n",
    "print(tf.__version__)"
   ]
  },
  {
   "cell_type": "markdown",
   "id": "51601d0b-8c00-4d4b-85c0-f424966b881e",
   "metadata": {},
   "source": [
    "> 일반적으로 딥러닝 기술은 '데이터 준비 -> 딥러닝 네트워크 설계 -> 학습 -> 테스트(평가)'의 순서로 이루어진다."
   ]
  },
  {
   "cell_type": "markdown",
   "id": "d2c5f839-49f5-495e-8358-d209edfa51b6",
   "metadata": {
    "tags": []
   },
   "source": [
    "## 1. 데이터 준비\n",
    "\n",
    "+ MINIST 숫자 손글씨 Dataset 불러오기"
   ]
  },
  {
   "cell_type": "code",
   "execution_count": 3,
   "id": "e4c486ac-0a8f-4471-8723-7260e837084e",
   "metadata": {},
   "outputs": [
    {
     "data": {
      "text/plain": [
       "((60000, 28, 28), (60000,))"
      ]
     },
     "execution_count": 3,
     "metadata": {},
     "output_type": "execute_result"
    }
   ],
   "source": [
    "mnist = keras.datasets.mnist\n",
    "\n",
    "(X_train, y_train), (X_test, y_test) = mnist.load_data()\n",
    "\n",
    "X_train.shape, y_train.shape"
   ]
  },
  {
   "cell_type": "code",
   "execution_count": 4,
   "id": "0ad76bee-9476-482c-8047-78c23307c331",
   "metadata": {},
   "outputs": [
    {
     "data": {
      "image/png": "[encoded data removed]",
      "text/plain": [
       "<Figure size 640x480 with 1 Axes>"
      ]
     },
     "metadata": {},
     "output_type": "display_data"
    },
    {
     "name": "stdout",
     "output_type": "stream",
     "text": [
      "0\n"
     ]
    }
   ],
   "source": [
    "# 데이터 출력해보기\n",
    "plt.imshow(X_train[1], cmap=plt.cm.binary)\n",
    "plt.show()\n",
    "\n",
    "# 대응하는 y값\n",
    "print(y_train[1])"
   ]
  },
  {
   "cell_type": "code",
   "execution_count": 5,
   "id": "dc4751da-4737-4eed-b8bf-5ca773921890",
   "metadata": {},
   "outputs": [
    {
     "data": {
      "image/png": "[encoded data removed]",
      "text/plain": [
       "<Figure size 640x480 with 1 Axes>"
      ]
     },
     "metadata": {},
     "output_type": "display_data"
    },
    {
     "name": "stdout",
     "output_type": "stream",
     "text": [
      "8000 번째 이미지의 숫자는 0입니다.\n",
      "(60000, 28, 28)\n",
      "(60000,)\n"
     ]
    }
   ],
   "source": [
    "idx = 8000\n",
    "plt.imshow(X_train[idx], cmap=plt.cm.binary)\n",
    "plt.show()\n",
    "\n",
    "print(f'{idx} 번째 이미지의 숫자는 {y_train[idx]}입니다.')\n",
    "print(X_train.shape)\n",
    "print(y_train.shape)"
   ]
  },
  {
   "cell_type": "markdown",
   "id": "d5d98f1a-a346-4195-a3a2-8f9bfc0226f5",
   "metadata": {},
   "source": [
    "### 데이터 전처리하기\n",
    "\n",
    "+ 인공지능 모델을 훈련시킬 때, 값이 너무 커지는 것을 방지하기 위해 0-1 사이의 값으로 정규화 시켜주는 것이 좋다\n",
    "+ 정규화는 모든 값을 최댓값으로 나누어주면 된다."
   ]
  },
  {
   "cell_type": "code",
   "execution_count": 6,
   "id": "d62d84ed-f514-48a6-9491-b5cc944979b7",
   "metadata": {},
   "outputs": [
    {
     "name": "stdout",
     "output_type": "stream",
     "text": [
      "최소값: 0, 최대값: 255\n",
      "최소값: 0.0, 최대값: 1.0\n"
     ]
    }
   ],
   "source": [
    "print(f'최소값: {np.min(X_train)}, 최대값: {np.max(X_train)}')\n",
    "\n",
    "X_tr_norm, X_te_norm = X_train / 255, X_test / 255\n",
    "\n",
    "print(f'최소값: {np.min(X_tr_norm)}, 최대값: {np.max(X_tr_norm)}')"
   ]
  },
  {
   "cell_type": "markdown",
   "id": "7641d856-fc50-498c-bd19-4ee1d72e1a36",
   "metadata": {},
   "source": [
    "## 2. 딥러닝 네트워크 설계하기\n",
    "\n",
    "+ Sequential Model 사용해보기"
   ]
  },
  {
   "cell_type": "code",
   "execution_count": 1,
   "id": "6fb22cfe-3274-413d-a3c8-01099c08fde4",
   "metadata": {},
   "outputs": [
    {
     "ename": "NameError",
     "evalue": "name 'keras' is not defined",
     "output_type": "error",
     "traceback": [
      "\u001b[1;31m---------------------------------------------------------------------------\u001b[0m",
      "\u001b[1;31mNameError\u001b[0m                                 Traceback (most recent call last)",
      "Cell \u001b[1;32mIn[1], line 1\u001b[0m\n\u001b[1;32m----> 1\u001b[0m model \u001b[38;5;241m=\u001b[39m \u001b[43mkeras\u001b[49m\u001b[38;5;241m.\u001b[39mmodels\u001b[38;5;241m.\u001b[39mSequential()\n\u001b[0;32m      3\u001b[0m model\u001b[38;5;241m.\u001b[39madd(keras\u001b[38;5;241m.\u001b[39mlayers\u001b[38;5;241m.\u001b[39mConv2D(\u001b[38;5;241m16\u001b[39m, (\u001b[38;5;241m3\u001b[39m, \u001b[38;5;241m3\u001b[39m), activation\u001b[38;5;241m=\u001b[39m\u001b[38;5;124m'\u001b[39m\u001b[38;5;124mrelu\u001b[39m\u001b[38;5;124m'\u001b[39m, input_shape\u001b[38;5;241m=\u001b[39m(\u001b[38;5;241m28\u001b[39m, \u001b[38;5;241m28\u001b[39m, \u001b[38;5;241m1\u001b[39m)))\n\u001b[0;32m      4\u001b[0m model\u001b[38;5;241m.\u001b[39madd(keras\u001b[38;5;241m.\u001b[39mlayers\u001b[38;5;241m.\u001b[39mMaxPool2D(\u001b[38;5;241m2\u001b[39m, \u001b[38;5;241m2\u001b[39m))\n",
      "\u001b[1;31mNameError\u001b[0m: name 'keras' is not defined"
     ]
    }
   ],
   "source": [
    "model = keras.models.Sequential()\n",
    "\n",
    "model.add(keras.layers.Conv2D(16, (3, 3), activation='relu', input_shape=(28, 28, 1)))\n",
    "model.add(keras.layers.MaxPool2D(2, 2))\n",
    "model.add(keras.layers.Conv2D(32, (3, 3), activation='relu'))\n",
    "model.add(keras.layers.MaxPooling2D((2, 2)))\n",
    "model.add(keras.layers.Flatten())\n",
    "model.add(keras.layers.Dense(32, activation='relu'))\n",
    "model.add(keras.layers.Dense(10, activation='softmax'))\n",
    "\n",
    "print(f'모델에 추가된 Layer 개수: {len(model.layers)}')\n",
    "\n",
    "model.summary()"
   ]
  },
  {
   "cell_type": "code",
   "execution_count": null,
   "id": "d19b9d17-05c3-44c4-b005-875d707180ae",
   "metadata": {},
   "outputs": [],
   "source": []
  },
  {
   "cell_type": "code",
   "execution_count": null,
   "id": "f44fc11c-8d37-4e9a-a5f8-5690855de9b1",
   "metadata": {},
   "outputs": [],
   "source": []
  },
  {
   "cell_type": "code",
   "execution_count": null,
   "id": "66c1601b-2dff-403e-9250-b8c58432e12c",
   "metadata": {},
   "outputs": [],
   "source": []
  },
  {
   "cell_type": "code",
   "execution_count": null,
   "id": "32da596b-6c0f-457f-8e0a-561ba891f1b2",
   "metadata": {},
   "outputs": [],
   "source": []
  },
  {
   "cell_type": "code",
   "execution_count": null,
   "id": "8279f127-7a5c-42e3-8197-c5a0e80da12c",
   "metadata": {},
   "outputs": [],
   "source": []
  },
  {
   "cell_type": "code",
   "execution_count": null,
   "id": "9381d050-4d71-421f-888c-1ba2466af4a2",
   "metadata": {},
   "outputs": [],
   "source": []
  }
 ],
 "metadata": {
  "kernelspec": {
   "display_name": "Python 3 (ipykernel)",
   "language": "python",
   "name": "python3"
  },
  "language_info": {
   "codemirror_mode": {
    "name": "ipython",
    "version": 3
   },
   "file_extension": ".py",
   "mimetype": "text/x-python",
   "name": "python",
   "nbconvert_exporter": "python",
   "pygments_lexer": "ipython3",
   "version": "3.9.16"
  }
 },
 "nbformat": 4,
 "nbformat_minor": 5
}
