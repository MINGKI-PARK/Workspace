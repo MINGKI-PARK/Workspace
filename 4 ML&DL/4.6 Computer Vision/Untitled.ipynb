{
 "cells": [
  {
   "cell_type": "code",
   "execution_count": 1,
   "id": "55305658-eae2-4476-a628-932864b56ed1",
   "metadata": {},
   "outputs": [
    {
     "name": "stdout",
     "output_type": "stream",
     "text": [
      "Original image:\n",
      "[[57 51 54 43 65 56 60 52]\n",
      " [55 49 72 63 57 56 54 43]\n",
      " [73 52 67 63 44 64 60 55]\n",
      " [50 51 48 89 47 49 48 50]\n",
      " [56 61 55 65 43 68 72 40]\n",
      " [48 49 59 52 69 52 57 68]\n",
      " [60 52 57 68 61 48 60 54]\n",
      " [45 74 84 59 49 43 56 50]]\n",
      "\n",
      "Horizontal Haar-like feature:\n",
      "[[ 0  0 16 38 12  0  0  0]\n",
      " [ 4  4  0  0  0  8  6 15]\n",
      " [ 0  0  2  5 13  5  0  0]\n",
      " [24 24 20  0  0 12 27 17]\n",
      " [ 0  0  0 17 28  0  0  0]\n",
      " [20 20  8  9  0  0 31  0]\n",
      " [ 0  0  0  0  0 12  1 11]\n",
      " [ 0  0  0  0 21 17  9  8]]\n",
      "\n",
      "Vertical Haar-like feature:\n",
      "[[ 0 12  0 20  0 10  0 19]\n",
      " [ 0 12  0 20  0 10  0 19]\n",
      " [ 0 27  0 13 25  0  6 16]\n",
      " [ 0 20  0  0 61  0  5  3]\n",
      " [ 6  0  9  0 64  0  0 30]\n",
      " [ 6  0  0  0  5  0  0 21]\n",
      " [ 0  7  0  0  0 30  0  0]\n",
      " [21  0  0 14 17 19  0 12]]\n"
     ]
    }
   ],
   "source": [
    "import cv2\n",
    "import numpy as np\n",
    "\n",
    "# 이미지 생성(예: 합성곱 적용하기 위한 더미 이미지)\n",
    "image = np.array([\n",
    "    [57, 51, 54, 43, 65, 56, 60, 52],\n",
    "    [55, 49, 72, 63, 57, 56, 54, 43],\n",
    "    [73, 52, 67, 63, 44, 64, 60, 55],\n",
    "    [50, 51, 48, 89, 47, 49, 48, 50],\n",
    "    [56, 61, 55, 65, 43, 68, 72, 40],\n",
    "    [48, 49, 59, 52, 69, 52, 57, 68],\n",
    "    [60, 52, 57, 68, 61, 48, 60, 54],\n",
    "    [45, 74, 84, 59, 49, 43, 56, 50]\n",
    "], dtype=np.uint8)\n",
    "\n",
    "# 직사각형 커널 정의\n",
    "kernel_horizontal = np.array([\n",
    "    [1, 1],\n",
    "    [-1, -1]\n",
    "], dtype=np.float32)\n",
    "\n",
    "kernel_vertical = np.array([\n",
    "    [1, -1],\n",
    "    [1, -1]\n",
    "], dtype=np.float32)\n",
    "\n",
    "# 커널을 이미지에 적용하여 특징 추출\n",
    "feature_horizontal = cv2.filter2D(image, -1, kernel_horizontal)\n",
    "feature_vertical = cv2.filter2D(image, -1, kernel_vertical)\n",
    "\n",
    "print(\"Original image:\")\n",
    "print(image)\n",
    "\n",
    "print(\"\\nHorizontal Haar-like feature:\")\n",
    "print(feature_horizontal)\n",
    "\n",
    "print(\"\\nVertical Haar-like feature:\")\n",
    "print(feature_vertical)"
   ]
  },
  {
   "cell_type": "code",
   "execution_count": null,
   "id": "2ecf597f-b59a-45ce-97dc-3217375d026b",
   "metadata": {},
   "outputs": [],
   "source": []
  },
  {
   "cell_type": "code",
   "execution_count": null,
   "id": "e46ca783-77bc-44b8-bb53-cc5440d82327",
   "metadata": {},
   "outputs": [],
   "source": []
  },
  {
   "cell_type": "code",
   "execution_count": null,
   "id": "fe536efa-af46-4495-b2d9-dc868517822b",
   "metadata": {},
   "outputs": [],
   "source": []
  },
  {
   "cell_type": "code",
   "execution_count": null,
   "id": "83d38b09-da8d-4d30-bc83-d3ca89563b0a",
   "metadata": {},
   "outputs": [],
   "source": []
  },
  {
   "cell_type": "code",
   "execution_count": null,
   "id": "fd141145-803a-47c9-988b-a6aadbe537ab",
   "metadata": {},
   "outputs": [],
   "source": []
  },
  {
   "cell_type": "code",
   "execution_count": null,
   "id": "61162b53-544d-4e10-831e-a5140203db6c",
   "metadata": {},
   "outputs": [],
   "source": []
  },
  {
   "cell_type": "code",
   "execution_count": null,
   "id": "be301455-47f2-4251-b561-ffbab1659e00",
   "metadata": {},
   "outputs": [],
   "source": []
  },
  {
   "cell_type": "code",
   "execution_count": null,
   "id": "8c1abc0c-d7f3-43a8-9222-51deca7188b1",
   "metadata": {},
   "outputs": [],
   "source": []
  },
  {
   "cell_type": "code",
   "execution_count": null,
   "id": "24ae0369-c235-4c4e-a05b-ec503ba33412",
   "metadata": {},
   "outputs": [],
   "source": []
  }
 ],
 "metadata": {
  "kernelspec": {
   "display_name": "Python 3 (ipykernel)",
   "language": "python",
   "name": "python3"
  },
  "language_info": {
   "codemirror_mode": {
    "name": "ipython",
    "version": 3
   },
   "file_extension": ".py",
   "mimetype": "text/x-python",
   "name": "python",
   "nbconvert_exporter": "python",
   "pygments_lexer": "ipython3",
   "version": "3.9.16"
  }
 },
 "nbformat": 4,
 "nbformat_minor": 5
}
