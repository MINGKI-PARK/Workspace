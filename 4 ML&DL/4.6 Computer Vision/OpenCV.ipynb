{
 "cells": [
  {
   "cell_type": "code",
   "execution_count": 2,
   "id": "a7ca0358-b9d7-4d1c-a3a0-990ab828c0ed",
   "metadata": {},
   "outputs": [],
   "source": [
    "import cv2\n",
    "import numpy as np"
   ]
  },
  {
   "cell_type": "markdown",
   "id": "e85834e9-78b7-4e8e-aa05-a9f1aa775a68",
   "metadata": {},
   "source": [
    "```python\n",
    "cv2.filter2D(image, ddepth, Kernel)\n",
    "\n",
    "'''\n",
    "image  = 필터할 이미지를 의미합니다.\n",
    "ddepth = 깊이를 의미합니다. 영상데이터를 저장하기위해 사용되는 비트의 수를 의미합니다.\n",
    "         -1 값을 가질때 출력이미지는 소스이미지와 동일한 깊이를 갖게 되므로 해당 게시글에서는 -1을 사용합니다.\n",
    "Kernel = np.ones() 함수를 사용하여 행렬을 생성하고 행렬값으로 나눈 값이 포함됩니다.\n",
    "'''\n",
    "```"
   ]
  },
  {
   "cell_type": "markdown",
   "id": "f49e94ef-3744-4f14-8710-6fecacf8b731",
   "metadata": {},
   "source": [
    "```python\n",
    "np.ones(shape, dtype=None, order='C')\n",
    "'''\n",
    "지정된 shape의 배열을 생성하고 모든요소를 1로 초기화 합니다.\n",
    "위의 이미지와 같이 생성된 배열의 값들이 다 1로 생성됩니다.\n",
    "보통 numpy.ones(shape, 데이터타입) 으로 사용합니다.\n",
    "'''\n",
    "\n",
    "```"
   ]
  },
  {
   "cell_type": "code",
   "execution_count": 7,
   "id": "33099a27-7828-4905-8844-8b761784d034",
   "metadata": {},
   "outputs": [
    {
     "data": {
      "text/plain": [
       "array([[1., 1., 1.],\n",
       "       [1., 1., 1.],\n",
       "       [1., 1., 1.]])"
      ]
     },
     "execution_count": 7,
     "metadata": {},
     "output_type": "execute_result"
    }
   ],
   "source": [
    "np.ones((3, 3))"
   ]
  },
  {
   "cell_type": "markdown",
   "id": "e89df678-d7dc-495b-a7f6-8a236273c300",
   "metadata": {},
   "source": [
    "## 이미지 크기 변형"
   ]
  },
  {
   "cell_type": "code",
   "execution_count": null,
   "id": "26930428-38c3-47f5-9c5a-a2df0e51d1da",
   "metadata": {},
   "outputs": [],
   "source": [
    "image = cv2.imread('c:/Users/Playdata/Desktop/BigLeader/IMG_4643.jpg', cv2.IMREAD_ANYCOLOR)\n",
    "\n",
    "height, width, channel = image.shape\n",
    "\n",
    "# big_size = cv2.pyrUp(image, dstsize=(width*2, height*2), borderType=cv2.BORDER_DEFAULT)\n",
    "# small_size = cv2.pyrDown(big_size)\n",
    "\n",
    "small_size = cv2.pyrDown((1000, 1000), borderType=cv2.BORDER_DEFAULT)\n",
    "\n",
    "# cv2.imshow('big', big_size)\n",
    "cv2.imshow('small', small_size)\n",
    "\n",
    "cv2.waitKey(0)\n",
    "cv2.destroyAllWindows()"
   ]
  },
  {
   "cell_type": "code",
   "execution_count": 13,
   "id": "9937bd85-d196-4663-a126-6328deae0c35",
   "metadata": {},
   "outputs": [
    {
     "name": "stdout",
     "output_type": "stream",
     "text": [
      "(2880, 2160, 3)\n"
     ]
    }
   ],
   "source": [
    "print(image.shape)"
   ]
  },
  {
   "cell_type": "code",
   "execution_count": null,
   "id": "3ac70bb5-8dc0-47f3-b9cf-1691d09c5e3b",
   "metadata": {},
   "outputs": [],
   "source": []
  },
  {
   "cell_type": "code",
   "execution_count": null,
   "id": "7aa9f7ad-acdc-468a-aecb-365c0a161f4e",
   "metadata": {},
   "outputs": [],
   "source": []
  },
  {
   "cell_type": "code",
   "execution_count": null,
   "id": "568d9bd3-5878-4034-9752-81f90c6c1870",
   "metadata": {},
   "outputs": [],
   "source": []
  },
  {
   "cell_type": "code",
   "execution_count": null,
   "id": "ffe2dc41-3be2-4531-9d0d-dd336c2949cd",
   "metadata": {},
   "outputs": [],
   "source": []
  },
  {
   "cell_type": "code",
   "execution_count": null,
   "id": "cb994513-3c1f-49e2-a346-497e5e3cebfe",
   "metadata": {},
   "outputs": [],
   "source": []
  },
  {
   "cell_type": "code",
   "execution_count": null,
   "id": "78993441-8f07-4fcb-b3d2-567a6cdeab62",
   "metadata": {},
   "outputs": [],
   "source": []
  },
  {
   "cell_type": "code",
   "execution_count": null,
   "id": "1e3687a9-b98a-4727-a0d8-f540a9fa8a66",
   "metadata": {},
   "outputs": [],
   "source": []
  },
  {
   "cell_type": "markdown",
   "id": "b262c461-929a-4fd9-bbb1-4f2103b50439",
   "metadata": {
    "tags": []
   },
   "source": [
    "## 1. 필터 만들기"
   ]
  },
  {
   "cell_type": "code",
   "execution_count": 2,
   "id": "a94bc41a-44ec-41e0-ad7b-69055151bd46",
   "metadata": {},
   "outputs": [],
   "source": [
    "def imageFilter(path):\n",
    "    \n",
    "    # 이미지 파일\n",
    "    imgfile = path\n",
    "    \n",
    "    # 읽어오기\n",
    "    img = cv2.imread(imgfile)\n",
    "    \n",
    "    # 5x5 행렬을 생성, 모든 행렬값은 1로 초기화\n",
    "    # 데이터 타입은 실수형\n",
    "    # 커널값이기 때문에 생성된 행렬은 x값의 제곱으로 나눠준다\n",
    "    kernel = np.ones((5, 5), np.float32) / 25\n",
    "    \n",
    "    # 커널값에 대하여 이미지 필터링\n",
    "    # 출력되는 이미지 파일은 소스 이미지 파일의 깊이와 동일\n",
    "    blur = cv2.filter2D(img, -1, kernel)\n",
    "    \n",
    "    cv2.imshow('origin', img)\n",
    "    cv2.imshow('blur', blur)\n",
    "    \n",
    "    cv2.waitKey(0)\n",
    "    cv2.destroyAllWindows()"
   ]
  },
  {
   "cell_type": "code",
   "execution_count": 6,
   "id": "7097ea5e-1f1a-41d3-999c-80af73a0d6a5",
   "metadata": {},
   "outputs": [],
   "source": [
    "imageFilter('c:/Users/Playdata/Desktop/BigLeader/pink.png')"
   ]
  },
  {
   "cell_type": "code",
   "execution_count": 3,
   "id": "5fde1d59-9464-4bfa-bb32-1ffedb1e6549",
   "metadata": {},
   "outputs": [],
   "source": [
    "def nothing(x):\n",
    "    pass\n",
    "\n",
    "def imageFilter2(path):\n",
    "    \n",
    "    imgfile = path\n",
    "    img = cv2.imread(imgfile)\n",
    "    \n",
    "    # 트랙바 생성 범위 1-10\n",
    "    cv2.namedWindow('result')\n",
    "    cv2.createTrackbar('k', 'result', 1, 10, nothing)\n",
    "    \n",
    "    while True:\n",
    "        cv2.imshow('result', img)\n",
    "        \n",
    "        # 키입력을 1ms 단위로 받고 key 함수에 저장\n",
    "        # 해당값이 27 즉, ESC 키를 눌렀을 때 while 문을 빠져나와 이미지 윈도우창이 꺼짐\n",
    "        key = cv2.waitKey(1)\n",
    "        \n",
    "        if key == 27:\n",
    "            break\n",
    "            \n",
    "        # 트랙바의 값을 k로 받아옴\n",
    "        k = cv2.getTrackbarPos('k', 'result')\n",
    "        \n",
    "        # 커널에 사용되는 행렬값은 (0, 0)을 사용할 수 없으므로 0이 되면 자동적으로 1로 지정\n",
    "        if k == 0:\n",
    "            k = 1\n",
    "        \n",
    "        # 커널을 생성 트랙바 값으로 받은 값을 행렬값으로 사용\n",
    "        kernel = np.ones((k, k), np.float32) / k**2\n",
    "        \n",
    "        # 이미지 필터\n",
    "        img = cv2.filter2D(img, -1, kernel)\n",
    "    \n",
    "    cv2.destroyAllWindows()\n",
    "    \n",
    "imageFilter2('c:/Users/Playdata/Desktop/BigLeader/pink.png')\n"
   ]
  },
  {
   "cell_type": "markdown",
   "id": "7d089164-6de8-49f4-8bb6-7063e7e03091",
   "metadata": {},
   "source": [
    "## high pass filtering"
   ]
  },
  {
   "cell_type": "code",
   "execution_count": 9,
   "id": "f7e921ec-9f22-47e8-a7a3-9c0f7f42685c",
   "metadata": {},
   "outputs": [
    {
     "name": "stdout",
     "output_type": "stream",
     "text": [
      "(559, 526)\n",
      "(559, 526)\n"
     ]
    }
   ],
   "source": [
    "import cv2\n",
    "import numpy as np\n",
    "\n",
    "# 이미지 불러오기\n",
    "image = cv2.imread('c:/Users/Playdata/Desktop/BigLeader/pink.png', cv2.IMREAD_GRAYSCALE)\n",
    "\n",
    "# 샤프닝 커널 정의\n",
    "sharpening_kernel = np.array([[0, -1, 0],\n",
    "                              [-1, 5, -1],\n",
    "                              [0, -1, 0]])\n",
    "\n",
    "# 샤프닝 적용\n",
    "sharpened_image = cv2.filter2D(image, -1, sharpening_kernel)\n",
    "\n",
    "cv2.imshow('Original Image', image)\n",
    "cv2.imshow('Sharpened Image', sharpened_image)\n",
    "\n",
    "print(image.shape)\n",
    "print(sharpened_image.shape)\n",
    "\n",
    "cv2.waitKey(0)\n",
    "cv2.destroyAllWindows()"
   ]
  },
  {
   "cell_type": "code",
   "execution_count": 5,
   "id": "38c4507a-8b0c-49ac-a402-75032f614caa",
   "metadata": {},
   "outputs": [],
   "source": [
    "import cv2\n",
    "import numpy as np\n",
    "\n",
    "# 이미지 불러오기\n",
    "image = cv2.imread('c:/Users/Playdata/Desktop/BigLeader/pink.png', cv2.IMREAD_GRAYSCALE)\n",
    "\n",
    "# 샤프닝 커널 정의\n",
    "sharpening_kernel = np.array([[1, -2, 1],\n",
    "                              [-2, 5, -2],\n",
    "                              [1, -2, 1]])\n",
    "\n",
    "# 샤프닝 적용\n",
    "sharpened_image = cv2.filter2D(image, -1, sharpening_kernel)\n",
    "\n",
    "cv2.imshow('Original Image', image)\n",
    "cv2.imshow('Sharpened Image', sharpened_image)\n",
    "cv2.waitKey(0)\n",
    "cv2.destroyAllWindows()"
   ]
  },
  {
   "cell_type": "code",
   "execution_count": 8,
   "id": "a14935dc-7d07-49a5-9e20-05e6ca53148a",
   "metadata": {},
   "outputs": [],
   "source": [
    "import cv2\n",
    "import numpy as np\n",
    "\n",
    "# 이미지 불러오기\n",
    "image = cv2.imread('c:/Users/Playdata/Desktop/BigLeader/pink.png', cv2.IMREAD_GRAYSCALE)\n",
    "\n",
    "# 샤프닝 커널 정의\n",
    "sharpening_kernel = (1/7) * np.array([[-1, -2, -1],\n",
    "                                      [-2, 19, -2],\n",
    "                                      [-1, -2, -1]])\n",
    "\n",
    "# 샤프닝 적용\n",
    "sharpened_image = cv2.filter2D(image, -1, sharpening_kernel)\n",
    "\n",
    "cv2.imshow('Original Image', image)\n",
    "cv2.imshow('Sharpened Image', sharpened_image)\n",
    "cv2.waitKey(0)\n",
    "cv2.destroyAllWindows()"
   ]
  },
  {
   "cell_type": "code",
   "execution_count": 10,
   "id": "7cdaab5b-cc5a-44ff-becc-f634e2fee25a",
   "metadata": {},
   "outputs": [],
   "source": [
    "import cv2\n",
    "import numpy as np\n",
    "\n",
    "# 이미지 불러오기\n",
    "image = cv2.imread('c:/Users/Playdata/Desktop/BigLeader/pink.png', cv2.IMREAD_GRAYSCALE)\n",
    "\n",
    "# 샤프닝 커널 정의\n",
    "sharpening_kernel = (1/7) * np.array([[-1, -2, -1],\n",
    "                                      [-2, 18, -2],\n",
    "                                      [-1, -2, -1]])\n",
    "\n",
    "# 샤프닝 적용\n",
    "sharpened_image = cv2.filter2D(image, -1, sharpening_kernel)\n",
    "\n",
    "cv2.imshow('Original Image', image)\n",
    "cv2.imshow('Sharpened Image', sharpened_image)\n",
    "cv2.waitKey(0)\n",
    "cv2.destroyAllWindows()"
   ]
  },
  {
   "cell_type": "code",
   "execution_count": null,
   "id": "41085a5b-b0a8-4f8a-8222-ba0a9814502b",
   "metadata": {},
   "outputs": [],
   "source": [
    "import cv2\n",
    "import numpy as np\n",
    "\n",
    "# 이미지 불러오기\n",
    "image = cv2.imread('c:/Users/Playdata/Desktop/BigLeader/eagle.png', cv2.IMREAD_ANYCOLOR)\n",
    "\n",
    "# 샤프닝 커널 정의\n",
    "sharpening_kernel = (1/7) * np.array([[-1, -2, -1],\n",
    "                                      [-2, 18, -2],\n",
    "                                      [-1, -2, -1]])\n",
    "\n",
    "# 샤프닝 적용\n",
    "sharpened_image = cv2.filter2D(image, -1, sharpening_kernel)\n",
    "\n",
    "cv2.imshow('Original Image', image)\n",
    "cv2.imshow('Sharpened Image', sharpened_image)\n",
    "cv2.waitKey(0)\n",
    "cv2.destroyAllWindows()"
   ]
  },
  {
   "cell_type": "code",
   "execution_count": 2,
   "id": "27069e65-970a-47c6-866d-ad499a405cb7",
   "metadata": {},
   "outputs": [],
   "source": [
    "import cv2\n",
    "import numpy as np\n",
    "\n",
    "# 이미지 불러오기\n",
    "image = cv2.imread('c:/Users/Playdata/Desktop/BigLeader/outfocus.jpg', cv2.IMREAD_GRAYSCALE)\n",
    "\n",
    "# 샤프닝 커널 정의\n",
    "sharpening_kernel = (1/7) * np.array([[-1, -2, -1],\n",
    "                                      [-2, 18, -2],\n",
    "                                      [-1, -2, -1]])\n",
    "\n",
    "# 샤프닝 적용\n",
    "sharpened_image = cv2.filter2D(image, -1, sharpening_kernel)\n",
    "\n",
    "cv2.imshow('Original Image', image)\n",
    "cv2.imshow('Sharpened Image', sharpened_image)\n",
    "cv2.waitKey(0)\n",
    "cv2.destroyAllWindows()"
   ]
  },
  {
   "cell_type": "code",
   "execution_count": 3,
   "id": "d8a5cb5d-8e94-48fe-aa7b-3d672882b6c4",
   "metadata": {},
   "outputs": [],
   "source": [
    "import cv2\n",
    "import numpy as np\n",
    "\n",
    "# 이미지 불러오기\n",
    "image = cv2.imread('c:/Users/Playdata/Desktop/BigLeader/pink.png', cv2.IMREAD_GRAYSCALE)\n",
    "\n",
    "# 샤프닝 커널 정의\n",
    "sharpening_kernel = (1/7) * np.array([[-1, -2, -1],\n",
    "                                      [-2, 18, -2],\n",
    "                                      [-1, -2, -1]])\n",
    "\n",
    "# 샤프닝 적용\n",
    "sharpened_image = cv2.filter2D(image, -1, sharpening_kernel)\n",
    "\n",
    "cv2.imshow('Original Image', image)\n",
    "cv2.imshow('Sharpened Image', sharpened_image)\n",
    "cv2.waitKey(0)\n",
    "cv2.destroyAllWindows()"
   ]
  },
  {
   "cell_type": "code",
   "execution_count": 1,
   "id": "8d434a45-5ef3-4bfa-bb6e-14014f3dbf93",
   "metadata": {},
   "outputs": [],
   "source": [
    "import cv2\n",
    "import numpy as np\n",
    "\n",
    "# 이미지 불러오기\n",
    "image = cv2.imread('c:/Users/Playdata/Desktop/BigLeader/kitty1.jpg', cv2.IMREAD_GRAYSCALE)\n",
    "\n",
    "# 샤프닝 커널 정의\n",
    "sharpening_kernel = (1/7) * np.array([[-1, -2, -1],\n",
    "                                      [-2, 18, -2],\n",
    "                                      [-1, -2, -1]])\n",
    "\n",
    "# 샤프닝 적용\n",
    "sharpened_image = cv2.filter2D(image, -1, sharpening_kernel)\n",
    "\n",
    "cv2.imshow('Original Image', image)\n",
    "cv2.imshow('Sharpened Image', sharpened_image)\n",
    "cv2.waitKey(0)\n",
    "cv2.destroyAllWindows()"
   ]
  },
  {
   "cell_type": "code",
   "execution_count": 2,
   "id": "d7a184d9-13d8-4e99-b8ce-ab242620976f",
   "metadata": {},
   "outputs": [],
   "source": [
    "import cv2\n",
    "import numpy as np\n",
    "\n",
    "# 이미지 불러오기\n",
    "image = cv2.imread('c:/Users/Playdata/Desktop/BigLeader/kitty1.jpg')\n",
    "\n",
    "# 샤프닝 커널 정의\n",
    "sharpening_kernel = np.array([\n",
    "    [-1, -1, -1],\n",
    "    [-1,  9, -1],\n",
    "    [-1, -1, -1]\n",
    "])\n",
    "\n",
    "# 필터 적용\n",
    "sharpened_image = cv2.filter2D(image, -1, sharpening_kernel)\n",
    "\n",
    "cv2.namedWindow('Original Image', cv2.WINDOW_NORMAL)\n",
    "cv2.resizeWindow('Original Image', 600, 800)\n",
    "cv2.namedWindow('Sharpened Image', cv2.WINDOW_NORMAL)\n",
    "cv2.resizeWindow('Sharpened Image', 600, 800)\n",
    "\n",
    "# 결과 이미지를 표시\n",
    "cv2.imshow(\"Original Image\", image)\n",
    "cv2.imshow(\"Sharpened Image\", sharpened_image)\n",
    "\n",
    "cv2.waitKey(0)\n",
    "cv2.destroyAllWindows()"
   ]
  },
  {
   "cell_type": "code",
   "execution_count": null,
   "id": "35172451-57e1-486c-822d-b86106c44588",
   "metadata": {},
   "outputs": [],
   "source": []
  },
  {
   "cell_type": "markdown",
   "id": "35d4a817-54aa-4a5a-a11e-81587e49bbe9",
   "metadata": {},
   "source": [
    "## 문세윤"
   ]
  },
  {
   "cell_type": "markdown",
   "id": "2fb97902-747d-40dd-b7e3-5bdb8d207653",
   "metadata": {},
   "source": [
    "### 기본 1"
   ]
  },
  {
   "cell_type": "code",
   "execution_count": 11,
   "id": "c85213c3-ec23-4911-aed4-3268c0cac4e3",
   "metadata": {},
   "outputs": [],
   "source": [
    "import cv2\n",
    "import numpy as np\n",
    "\n",
    "# 이미지 불러오기\n",
    "image = cv2.imread('c:/Users/Playdata/Desktop/BigLeader/pink.png', cv2.IMREAD_GRAYSCALE)\n",
    "\n",
    "# 샤프닝 커널 정의\n",
    "sharpening_kernel = np.array([[0, -1, 0],\n",
    "                              [-1, 5, -1],\n",
    "                              [0, -1, 0]])\n",
    "\n",
    "# 필터 적용\n",
    "sharpened_image = cv2.filter2D(image, -1, sharpening_kernel)\n",
    "\n",
    "cv2.namedWindow('Original Image', cv2.WINDOW_NORMAL)\n",
    "cv2.resizeWindow('Original Image', 600, 800)\n",
    "cv2.namedWindow('Sharpened Image', cv2.WINDOW_NORMAL)\n",
    "cv2.resizeWindow('Sharpened Image', 600, 800)\n",
    "\n",
    "# 결과 이미지를 표시\n",
    "cv2.imshow(\"Original Image\", image)\n",
    "cv2.imshow(\"Sharpened Image\", sharpened_image)\n",
    "\n",
    "cv2.waitKey(0)\n",
    "cv2.destroyAllWindows()"
   ]
  },
  {
   "cell_type": "markdown",
   "id": "be430176-fc92-4fb2-9aa8-44d29a40fcde",
   "metadata": {},
   "source": [
    "### 기본 2"
   ]
  },
  {
   "cell_type": "code",
   "execution_count": 12,
   "id": "8b870e70-64d4-4463-9bf0-e5d1d0348227",
   "metadata": {},
   "outputs": [],
   "source": [
    "import cv2\n",
    "import numpy as np\n",
    "\n",
    "# 이미지 불러오기\n",
    "image = cv2.imread('c:/Users/Playdata/Desktop/BigLeader/pink.png', cv2.IMREAD_GRAYSCALE)\n",
    "\n",
    "# 샤프닝 커널 정의\n",
    "sharpening_kernel = np.array([[1, -2, 1],\n",
    "                              [-2, 5, -2],\n",
    "                              [1, -2, 1]])\n",
    "\n",
    "# 필터 적용\n",
    "sharpened_image = cv2.filter2D(image, -1, sharpening_kernel)\n",
    "\n",
    "cv2.namedWindow('Original Image', cv2.WINDOW_NORMAL)\n",
    "cv2.resizeWindow('Original Image', 600, 800)\n",
    "cv2.namedWindow('Sharpened Image', cv2.WINDOW_NORMAL)\n",
    "cv2.resizeWindow('Sharpened Image', 600, 800)\n",
    "\n",
    "# 결과 이미지를 표시\n",
    "cv2.imshow(\"Original Image\", image)\n",
    "cv2.imshow(\"Sharpened Image\", sharpened_image)\n",
    "\n",
    "cv2.waitKey(0)\n",
    "cv2.destroyAllWindows()"
   ]
  },
  {
   "cell_type": "markdown",
   "id": "1cdfafdd-06c9-41ab-b3ce-b887bc98f598",
   "metadata": {},
   "source": [
    "### 기본 3"
   ]
  },
  {
   "cell_type": "code",
   "execution_count": 13,
   "id": "62c4006c-2bee-4059-8c69-234001c62ac4",
   "metadata": {},
   "outputs": [],
   "source": [
    "import cv2\n",
    "import numpy as np\n",
    "\n",
    "# 이미지 불러오기\n",
    "image = cv2.imread('c:/Users/Playdata/Desktop/BigLeader/pink.png', cv2.IMREAD_GRAYSCALE)\n",
    "\n",
    "# 샤프닝 커널 정의\n",
    "sharpening_kernel = (1/7) * np.array([[-1, -2, -1],\n",
    "                                      [-2, 19, -2],\n",
    "                                      [-1, -2, -1]])\n",
    "\n",
    "\n",
    "# 필터 적용\n",
    "sharpened_image = cv2.filter2D(image, -1, sharpening_kernel)\n",
    "\n",
    "cv2.namedWindow('Original Image', cv2.WINDOW_NORMAL)\n",
    "cv2.resizeWindow('Original Image', 600, 800)\n",
    "cv2.namedWindow('Sharpened Image', cv2.WINDOW_NORMAL)\n",
    "cv2.resizeWindow('Sharpened Image', 600, 800)\n",
    "\n",
    "# 결과 이미지를 표시\n",
    "cv2.imshow(\"Original Image\", image)\n",
    "cv2.imshow(\"Sharpened Image\", sharpened_image)\n",
    "\n",
    "cv2.waitKey(0)\n",
    "cv2.destroyAllWindows()"
   ]
  },
  {
   "cell_type": "code",
   "execution_count": null,
   "id": "f0ff075f-b62e-4f96-9705-9c12943496a1",
   "metadata": {},
   "outputs": [],
   "source": []
  }
 ],
 "metadata": {
  "kernelspec": {
   "display_name": "Python 3 (ipykernel)",
   "language": "python",
   "name": "python3"
  },
  "language_info": {
   "codemirror_mode": {
    "name": "ipython",
    "version": 3
   },
   "file_extension": ".py",
   "mimetype": "text/x-python",
   "name": "python",
   "nbconvert_exporter": "python",
   "pygments_lexer": "ipython3",
   "version": "3.9.16"
  }
 },
 "nbformat": 4,
 "nbformat_minor": 5
}
