{
 "cells": [
  {
   "cell_type": "code",
   "execution_count": 1,
   "id": "75a998eb",
   "metadata": {
    "ExecuteTime": {
     "end_time": "2023-06-10T14:06:05.655643Z",
     "start_time": "2023-06-10T14:06:03.933938Z"
    }
   },
   "outputs": [],
   "source": [
    "import numpy as np\n",
    "import matplotlib.pyplot as plt\n",
    "\n",
    "%precision 3\n",
    "%matplotlib inline"
   ]
  },
  {
   "cell_type": "markdown",
   "id": "f8808822",
   "metadata": {},
   "source": [
    "## 5.1 1차원 이산형 확률변수"
   ]
  },
  {
   "cell_type": "markdown",
   "id": "8780bb0e",
   "metadata": {},
   "source": [
    "### 5.1.1 1차원 이산형 확률변수의 정의\n",
    "\n",
    "+ 확률질량함수"
   ]
  },
  {
   "cell_type": "code",
   "execution_count": 2,
   "id": "44b61fe8",
   "metadata": {
    "ExecuteTime": {
     "end_time": "2023-06-10T14:06:05.686562Z",
     "start_time": "2023-06-10T14:06:05.661622Z"
    }
   },
   "outputs": [],
   "source": [
    "x_set = np.array([1, 2, 3, 4, 5, 6])"
   ]
  },
  {
   "cell_type": "code",
   "execution_count": 3,
   "id": "4f622dc1",
   "metadata": {
    "ExecuteTime": {
     "end_time": "2023-06-10T14:06:05.701514Z",
     "start_time": "2023-06-10T14:06:05.689546Z"
    }
   },
   "outputs": [],
   "source": [
    "def f(x):\n",
    "    if x in x_set:\n",
    "        return x / 21\n",
    "    else:\n",
    "        return 0"
   ]
  },
  {
   "cell_type": "code",
   "execution_count": 4,
   "id": "6f2cddf2",
   "metadata": {
    "ExecuteTime": {
     "end_time": "2023-06-10T14:06:05.737953Z",
     "start_time": "2023-06-10T14:06:05.712485Z"
    }
   },
   "outputs": [],
   "source": [
    "X = [x_set, f]"
   ]
  },
  {
   "cell_type": "code",
   "execution_count": 5,
   "id": "2b5ca244",
   "metadata": {
    "ExecuteTime": {
     "end_time": "2023-06-10T14:06:05.810759Z",
     "start_time": "2023-06-10T14:06:05.783829Z"
    }
   },
   "outputs": [
    {
     "data": {
      "text/plain": [
       "{1: 0.047619047619047616,\n",
       " 2: 0.09523809523809523,\n",
       " 3: 0.14285714285714285,\n",
       " 4: 0.19047619047619047,\n",
       " 5: 0.23809523809523808,\n",
       " 6: 0.2857142857142857}"
      ]
     },
     "execution_count": 5,
     "metadata": {},
     "output_type": "execute_result"
    }
   ],
   "source": [
    "# 확률 p_k를 구한다\n",
    "prob = np.array([f(x_k) for x_k in x_set])\n",
    "\n",
    "# x_k와 p_k의 대응을 사전식으로 표시\n",
    "dict(zip(x_set, prob))"
   ]
  },
  {
   "cell_type": "code",
   "execution_count": 6,
   "id": "dd32ec2d",
   "metadata": {
    "ExecuteTime": {
     "end_time": "2023-06-10T14:06:06.157347Z",
     "start_time": "2023-06-10T14:06:05.816741Z"
    }
   },
   "outputs": [
    {
     "data": {
      "image/png": "[encoded data removed]",
      "text/plain": [
       "<Figure size 600x400 with 1 Axes>"
      ]
     },
     "metadata": {},
     "output_type": "display_data"
    }
   ],
   "source": [
    "fig = plt.figure(figsize=(6, 4))\n",
    "ax = fig.add_subplot(111)\n",
    "ax.bar(x_set, prob)\n",
    "ax.set_xlabel('value')\n",
    "ax.set_ylabel('probability')\n",
    "\n",
    "plt.show()"
   ]
  },
  {
   "cell_type": "markdown",
   "id": "f06c72ed",
   "metadata": {},
   "source": [
    "+ 확률의 성질"
   ]
  },
  {
   "cell_type": "code",
   "execution_count": 7,
   "id": "f0a5501e",
   "metadata": {
    "ExecuteTime": {
     "end_time": "2023-06-10T14:06:06.195248Z",
     "start_time": "2023-06-10T14:06:06.162335Z"
    }
   },
   "outputs": [
    {
     "data": {
      "text/plain": [
       "True"
      ]
     },
     "execution_count": 7,
     "metadata": {},
     "output_type": "execute_result"
    }
   ],
   "source": [
    "np.all(prob>=0)"
   ]
  },
  {
   "cell_type": "code",
   "execution_count": 8,
   "id": "bd46b608",
   "metadata": {
    "ExecuteTime": {
     "end_time": "2023-06-10T14:06:06.282015Z",
     "start_time": "2023-06-10T14:06:06.244117Z"
    }
   },
   "outputs": [
    {
     "data": {
      "text/plain": [
       "0.9999999999999999"
      ]
     },
     "execution_count": 8,
     "metadata": {},
     "output_type": "execute_result"
    }
   ],
   "source": [
    "np.sum(prob)"
   ]
  },
  {
   "cell_type": "markdown",
   "id": "002fb181",
   "metadata": {},
   "source": [
    "+ 확률변수의 변환"
   ]
  },
  {
   "cell_type": "code",
   "execution_count": 9,
   "id": "7f8dc42c",
   "metadata": {
    "ExecuteTime": {
     "end_time": "2023-06-10T14:06:06.313934Z",
     "start_time": "2023-06-10T14:06:06.286005Z"
    }
   },
   "outputs": [
    {
     "data": {
      "text/plain": [
       "{5: 0.047619047619047616,\n",
       " 7: 0.09523809523809523,\n",
       " 9: 0.14285714285714285,\n",
       " 11: 0.19047619047619047,\n",
       " 13: 0.23809523809523808,\n",
       " 15: 0.2857142857142857}"
      ]
     },
     "execution_count": 9,
     "metadata": {},
     "output_type": "execute_result"
    }
   ],
   "source": [
    "y_set = np.array([2*x_k+3 for x_k in x_set])\n",
    "prob = np.array([f(x_k) for x_k in x_set])\n",
    "dict(zip(y_set, prob))"
   ]
  },
  {
   "cell_type": "markdown",
   "id": "48d837c7",
   "metadata": {},
   "source": [
    "### 5.1.2 1차원 이산형 확률변수의 지표"
   ]
  },
  {
   "cell_type": "markdown",
   "id": "cf8fffd9",
   "metadata": {},
   "source": [
    "+ 기댓값"
   ]
  },
  {
   "cell_type": "code",
   "execution_count": 10,
   "id": "eaa3bded",
   "metadata": {
    "ExecuteTime": {
     "end_time": "2023-06-10T14:06:06.359819Z",
     "start_time": "2023-06-10T14:06:06.326901Z"
    }
   },
   "outputs": [
    {
     "data": {
      "text/plain": [
       "4.333333333333333"
      ]
     },
     "execution_count": 10,
     "metadata": {},
     "output_type": "execute_result"
    }
   ],
   "source": [
    "np.sum([x_k * f(x_k) for x_k in x_set])"
   ]
  },
  {
   "cell_type": "code",
   "execution_count": 11,
   "id": "953fc029",
   "metadata": {
    "ExecuteTime": {
     "end_time": "2023-06-10T14:06:06.453556Z",
     "start_time": "2023-06-10T14:06:06.372771Z"
    }
   },
   "outputs": [
    {
     "data": {
      "text/plain": [
       "4.332247"
      ]
     },
     "execution_count": 11,
     "metadata": {},
     "output_type": "execute_result"
    }
   ],
   "source": [
    "sample = np.random.choice(x_set, int(1e6), p=prob)\n",
    "np.mean(sample)"
   ]
  },
  {
   "cell_type": "code",
   "execution_count": 12,
   "id": "f03043e8",
   "metadata": {
    "ExecuteTime": {
     "end_time": "2023-06-10T14:06:06.468516Z",
     "start_time": "2023-06-10T14:06:06.457546Z"
    }
   },
   "outputs": [],
   "source": [
    "def E(X, g=lambda x: x):\n",
    "    x_set, f = X\n",
    "    return np.sum([g(x_k) * f(x_k) for x_k in x_set])"
   ]
  },
  {
   "cell_type": "code",
   "execution_count": 13,
   "id": "7a964851",
   "metadata": {
    "ExecuteTime": {
     "end_time": "2023-06-10T14:06:06.515396Z",
     "start_time": "2023-06-10T14:06:06.472506Z"
    }
   },
   "outputs": [
    {
     "data": {
      "text/plain": [
       "4.333333333333333"
      ]
     },
     "execution_count": 13,
     "metadata": {},
     "output_type": "execute_result"
    }
   ],
   "source": [
    "E(X)"
   ]
  },
  {
   "cell_type": "code",
   "execution_count": 14,
   "id": "3d747461",
   "metadata": {
    "ExecuteTime": {
     "end_time": "2023-06-10T14:06:06.545311Z",
     "start_time": "2023-06-10T14:06:06.521375Z"
    }
   },
   "outputs": [
    {
     "data": {
      "text/plain": [
       "11.666666666666664"
      ]
     },
     "execution_count": 14,
     "metadata": {},
     "output_type": "execute_result"
    }
   ],
   "source": [
    "E(X, g=lambda x: 2*x + 3)"
   ]
  },
  {
   "cell_type": "code",
   "execution_count": 15,
   "id": "b73ad6dd",
   "metadata": {
    "ExecuteTime": {
     "end_time": "2023-06-10T14:06:06.594180Z",
     "start_time": "2023-06-10T14:06:06.554286Z"
    }
   },
   "outputs": [
    {
     "data": {
      "text/plain": [
       "11.666666666666666"
      ]
     },
     "execution_count": 15,
     "metadata": {},
     "output_type": "execute_result"
    }
   ],
   "source": [
    "2 * E(X) + 3"
   ]
  },
  {
   "cell_type": "markdown",
   "id": "25437f29",
   "metadata": {},
   "source": [
    "+ 분산"
   ]
  },
  {
   "cell_type": "code",
   "execution_count": 16,
   "id": "b88c2a90",
   "metadata": {
    "ExecuteTime": {
     "end_time": "2023-06-10T14:06:06.638062Z",
     "start_time": "2023-06-10T14:06:06.602158Z"
    }
   },
   "outputs": [
    {
     "data": {
      "text/plain": [
       "2.2222222222222223"
      ]
     },
     "execution_count": 16,
     "metadata": {},
     "output_type": "execute_result"
    }
   ],
   "source": [
    "mean = E(X)\n",
    "np.sum([(x_k - mean)**2 * f(x_k) for x_k in x_set])"
   ]
  },
  {
   "cell_type": "code",
   "execution_count": 17,
   "id": "7f2068fe",
   "metadata": {
    "ExecuteTime": {
     "end_time": "2023-06-10T14:06:06.668979Z",
     "start_time": "2023-06-10T14:06:06.644046Z"
    }
   },
   "outputs": [],
   "source": [
    "def V(X, g=lambda x: x):\n",
    "    x_set, f = X\n",
    "    mean = E(X, g)\n",
    "    return np.sum([(g(x_k) - mean)**2 * f(x_k) for x_k in x_set])"
   ]
  },
  {
   "cell_type": "code",
   "execution_count": 18,
   "id": "65a7ba78",
   "metadata": {
    "ExecuteTime": {
     "end_time": "2023-06-10T14:06:06.715369Z",
     "start_time": "2023-06-10T14:06:06.672970Z"
    }
   },
   "outputs": [
    {
     "data": {
      "text/plain": [
       "2.2222222222222223"
      ]
     },
     "execution_count": 18,
     "metadata": {},
     "output_type": "execute_result"
    }
   ],
   "source": [
    "V(X)"
   ]
  },
  {
   "cell_type": "code",
   "execution_count": 19,
   "id": "01efc7d2",
   "metadata": {
    "ExecuteTime": {
     "end_time": "2023-06-10T14:06:06.746287Z",
     "start_time": "2023-06-10T14:06:06.722351Z"
    }
   },
   "outputs": [
    {
     "data": {
      "text/plain": [
       "8.88888888888889"
      ]
     },
     "execution_count": 19,
     "metadata": {},
     "output_type": "execute_result"
    }
   ],
   "source": [
    "V(X, lambda x: 2*x + 3)"
   ]
  },
  {
   "cell_type": "code",
   "execution_count": 20,
   "id": "6ea3cd38",
   "metadata": {
    "ExecuteTime": {
     "end_time": "2023-06-10T14:06:06.777204Z",
     "start_time": "2023-06-10T14:06:06.754266Z"
    }
   },
   "outputs": [
    {
     "data": {
      "text/plain": [
       "8.88888888888889"
      ]
     },
     "execution_count": 20,
     "metadata": {},
     "output_type": "execute_result"
    }
   ],
   "source": [
    "2**2 * V(X)"
   ]
  },
  {
   "cell_type": "code",
   "execution_count": null,
   "id": "11ba0012",
   "metadata": {},
   "outputs": [],
   "source": []
  }
 ],
 "metadata": {
  "hide_input": false,
  "kernelspec": {
   "display_name": "Python 3 (ipykernel)",
   "language": "python",
   "name": "python3"
  },
  "language_info": {
   "codemirror_mode": {
    "name": "ipython",
    "version": 3
   },
   "file_extension": ".py",
   "mimetype": "text/x-python",
   "name": "python",
   "nbconvert_exporter": "python",
   "pygments_lexer": "ipython3",
   "version": "3.9.13"
  },
  "toc": {
   "base_numbering": 1,
   "nav_menu": {},
   "number_sections": false,
   "sideBar": true,
   "skip_h1_title": true,
   "title_cell": "Table of Contents",
   "title_sidebar": "Contents",
   "toc_cell": false,
   "toc_position": {
    "height": "calc(100% - 180px)",
    "left": "10px",
    "top": "150px",
    "width": "302px"
   },
   "toc_section_display": true,
   "toc_window_display": true
  }
 },
 "nbformat": 4,
 "nbformat_minor": 5
}
