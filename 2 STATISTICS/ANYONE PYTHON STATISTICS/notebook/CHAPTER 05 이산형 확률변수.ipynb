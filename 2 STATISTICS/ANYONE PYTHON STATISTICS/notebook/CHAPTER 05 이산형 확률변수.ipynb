{
 "cells": [
  {
   "cell_type": "code",
   "execution_count": 1,
   "id": "75a998eb",
   "metadata": {
    "ExecuteTime": {
     "end_time": "2023-06-10T14:06:05.655643Z",
     "start_time": "2023-06-10T14:06:03.933938Z"
    }
   },
   "outputs": [],
   "source": [
    "import numpy as np\n",
    "import matplotlib.pyplot as plt\n",
    "\n",
    "%precision 3\n",
    "%matplotlib inline"
   ]
  },
  {
   "cell_type": "markdown",
   "id": "f8808822",
   "metadata": {},
   "source": [
    "## 5.1 1차원 이산형 확률변수"
   ]
  },
  {
   "cell_type": "markdown",
   "id": "8780bb0e",
   "metadata": {},
   "source": [
    "### 5.1.1 1차원 이산형 확률변수의 정의\n",
    "\n",
    "+ 확률질량함수"
   ]
  },
  {
   "cell_type": "code",
   "execution_count": 2,
   "id": "44b61fe8",
   "metadata": {
    "ExecuteTime": {
     "end_time": "2023-06-10T14:06:05.686562Z",
     "start_time": "2023-06-10T14:06:05.661622Z"
    }
   },
   "outputs": [],
   "source": [
    "x_set = np.array([1, 2, 3, 4, 5, 6])"
   ]
  },
  {
   "cell_type": "code",
   "execution_count": 3,
   "id": "4f622dc1",
   "metadata": {
    "ExecuteTime": {
     "end_time": "2023-06-10T14:06:05.701514Z",
     "start_time": "2023-06-10T14:06:05.689546Z"
    }
   },
   "outputs": [],
   "source": [
    "def f(x):\n",
    "    if x in x_set:\n",
    "        return x / 21\n",
    "    else:\n",
    "        return 0"
   ]
  },
  {
   "cell_type": "code",
   "execution_count": 4,
   "id": "6f2cddf2",
   "metadata": {
    "ExecuteTime": {
     "end_time": "2023-06-10T14:06:05.737953Z",
     "start_time": "2023-06-10T14:06:05.712485Z"
    }
   },
   "outputs": [],
   "source": [
    "X = [x_set, f]"
   ]
  },
  {
   "cell_type": "code",
   "execution_count": 5,
   "id": "2b5ca244",
   "metadata": {
    "ExecuteTime": {
     "end_time": "2023-06-10T14:06:05.810759Z",
     "start_time": "2023-06-10T14:06:05.783829Z"
    }
   },
   "outputs": [
    {
     "data": {
      "text/plain": [
       "{1: 0.047619047619047616,\n",
       " 2: 0.09523809523809523,\n",
       " 3: 0.14285714285714285,\n",
       " 4: 0.19047619047619047,\n",
       " 5: 0.23809523809523808,\n",
       " 6: 0.2857142857142857}"
      ]
     },
     "execution_count": 5,
     "metadata": {},
     "output_type": "execute_result"
    }
   ],
   "source": [
    "# 확률 p_k를 구한다\n",
    "prob = np.array([f(x_k) for x_k in x_set])\n",
    "\n",
    "# x_k와 p_k의 대응을 사전식으로 표시\n",
    "dict(zip(x_set, prob))"
   ]
  },
  {
   "cell_type": "code",
   "execution_count": 6,
   "id": "dd32ec2d",
   "metadata": {
    "ExecuteTime": {
     "end_time": "2023-06-10T14:06:06.157347Z",
     "start_time": "2023-06-10T14:06:05.816741Z"
    }
   },
   "outputs": [
    {
     "data": {
      "image/png": "[encoded data removed]",
      "text/plain": [
       "<Figure size 600x400 with 1 Axes>"
      ]
     },
     "metadata": {},
     "output_type": "display_data"
    }
   ],
   "source": [
    "fig = plt.figure(figsize=(6, 4))\n",
    "ax = fig.add_subplot(111)\n",
    "ax.bar(x_set, prob)\n",
    "ax.set_xlabel('value')\n",
    "ax.set_ylabel('probability')\n",
    "\n",
    "plt.show()"
   ]
  },
  {
   "cell_type": "markdown",
   "id": "f06c72ed",
   "metadata": {},
   "source": [
    "+ 확률의 성질"
   ]
  },
  {
   "cell_type": "code",
   "execution_count": 7,
   "id": "f0a5501e",
   "metadata": {
    "ExecuteTime": {
     "end_time": "2023-06-10T14:06:06.195248Z",
     "start_time": "2023-06-10T14:06:06.162335Z"
    }
   },
   "outputs": [
    {
     "data": {
      "text/plain": [
       "True"
      ]
     },
     "execution_count": 7,
     "metadata": {},
     "output_type": "execute_result"
    }
   ],
   "source": [
    "np.all(prob>=0)"
   ]
  },
  {
   "cell_type": "code",
   "execution_count": 8,
   "id": "bd46b608",
   "metadata": {
    "ExecuteTime": {
     "end_time": "2023-06-10T14:06:06.282015Z",
     "start_time": "2023-06-10T14:06:06.244117Z"
    }
   },
   "outputs": [
    {
     "data": {
      "text/plain": [
       "0.9999999999999999"
      ]
     },
     "execution_count": 8,
     "metadata": {},
     "output_type": "execute_result"
    }
   ],
   "source": [
    "np.sum(prob)"
   ]
  },
  {
   "cell_type": "markdown",
   "id": "002fb181",
   "metadata": {},
   "source": [
    "+ 확률변수의 변환"
   ]
  },
  {
   "cell_type": "code",
   "execution_count": 9,
   "id": "7f8dc42c",
   "metadata": {
    "ExecuteTime": {
     "end_time": "2023-06-10T14:06:06.313934Z",
     "start_time": "2023-06-10T14:06:06.286005Z"
    }
   },
   "outputs": [
    {
     "data": {
      "text/plain": [
       "{5: 0.047619047619047616,\n",
       " 7: 0.09523809523809523,\n",
       " 9: 0.14285714285714285,\n",
       " 11: 0.19047619047619047,\n",
       " 13: 0.23809523809523808,\n",
       " 15: 0.2857142857142857}"
      ]
     },
     "execution_count": 9,
     "metadata": {},
     "output_type": "execute_result"
    }
   ],
   "source": [
    "y_set = np.array([2*x_k+3 for x_k in x_set])\n",
    "prob = np.array([f(x_k) for x_k in x_set])\n",
    "dict(zip(y_set, prob))"
   ]
  },
  {
   "cell_type": "markdown",
   "id": "08012959",
   "metadata": {},
   "source": [
    "### 5.1.2 1차원 이산형 확률변수의 지표"
   ]
  },
  {
   "cell_type": "markdown",
   "id": "8f2cdd1e",
   "metadata": {},
   "source": [
    "+ 기댓값"
   ]
  },
  {
   "cell_type": "code",
   "execution_count": 10,
   "id": "70e33c36",
   "metadata": {
    "ExecuteTime": {
     "end_time": "2023-06-10T14:06:06.359819Z",
     "start_time": "2023-06-10T14:06:06.326901Z"
    }
   },
   "outputs": [
    {
     "data": {
      "text/plain": [
       "4.333333333333333"
      ]
     },
     "execution_count": 10,
     "metadata": {},
     "output_type": "execute_result"
    }
   ],
   "source": [
    "np.sum([x_k * f(x_k) for x_k in x_set])"
   ]
  },
  {
   "cell_type": "code",
   "execution_count": 11,
   "id": "7089b854",
   "metadata": {
    "ExecuteTime": {
     "end_time": "2023-06-10T14:06:06.453556Z",
     "start_time": "2023-06-10T14:06:06.372771Z"
    }
   },
   "outputs": [
    {
     "data": {
      "text/plain": [
       "4.332247"
      ]
     },
     "execution_count": 11,
     "metadata": {},
     "output_type": "execute_result"
    }
   ],
   "source": [
    "sample = np.random.choice(x_set, int(1e6), p=prob)\n",
    "np.mean(sample)"
   ]
  },
  {
   "cell_type": "code",
   "execution_count": 12,
   "id": "79007814",
   "metadata": {
    "ExecuteTime": {
     "end_time": "2023-06-10T14:06:06.468516Z",
     "start_time": "2023-06-10T14:06:06.457546Z"
    }
   },
   "outputs": [],
   "source": [
    "def E(X, g=lambda x: x):\n",
    "    x_set, f = X\n",
    "    return np.sum([g(x_k) * f(x_k) for x_k in x_set])"
   ]
  },
  {
   "cell_type": "code",
   "execution_count": 13,
   "id": "6000ed2a",
   "metadata": {
    "ExecuteTime": {
     "end_time": "2023-06-10T14:06:06.515396Z",
     "start_time": "2023-06-10T14:06:06.472506Z"
    }
   },
   "outputs": [
    {
     "data": {
      "text/plain": [
       "4.333333333333333"
      ]
     },
     "execution_count": 13,
     "metadata": {},
     "output_type": "execute_result"
    }
   ],
   "source": [
    "E(X)"
   ]
  },
  {
   "cell_type": "code",
   "execution_count": 14,
   "id": "5b80271a",
   "metadata": {
    "ExecuteTime": {
     "end_time": "2023-06-10T14:06:06.545311Z",
     "start_time": "2023-06-10T14:06:06.521375Z"
    }
   },
   "outputs": [
    {
     "data": {
      "text/plain": [
       "11.666666666666664"
      ]
     },
     "execution_count": 14,
     "metadata": {},
     "output_type": "execute_result"
    }
   ],
   "source": [
    "E(X, g=lambda x: 2*x + 3)"
   ]
  },
  {
   "cell_type": "code",
   "execution_count": 15,
   "id": "1bb1b612",
   "metadata": {
    "ExecuteTime": {
     "end_time": "2023-06-10T14:06:06.594180Z",
     "start_time": "2023-06-10T14:06:06.554286Z"
    }
   },
   "outputs": [
    {
     "data": {
      "text/plain": [
       "11.666666666666666"
      ]
     },
     "execution_count": 15,
     "metadata": {},
     "output_type": "execute_result"
    }
   ],
   "source": [
    "2 * E(X) + 3"
   ]
  },
  {
   "cell_type": "markdown",
   "id": "24bccda5",
   "metadata": {},
   "source": [
    "+ 분산"
   ]
  },
  {
   "cell_type": "code",
   "execution_count": 16,
   "id": "bf245f8d",
   "metadata": {
    "ExecuteTime": {
     "end_time": "2023-06-10T14:06:06.638062Z",
     "start_time": "2023-06-10T14:06:06.602158Z"
    }
   },
   "outputs": [
    {
     "data": {
      "text/plain": [
       "2.2222222222222223"
      ]
     },
     "execution_count": 16,
     "metadata": {},
     "output_type": "execute_result"
    }
   ],
   "source": [
    "mean = E(X)\n",
    "np.sum([(x_k - mean)**2 * f(x_k) for x_k in x_set])"
   ]
  },
  {
   "cell_type": "code",
   "execution_count": 17,
   "id": "09f1728a",
   "metadata": {
    "ExecuteTime": {
     "end_time": "2023-06-10T14:06:06.668979Z",
     "start_time": "2023-06-10T14:06:06.644046Z"
    }
   },
   "outputs": [],
   "source": [
    "def V(X, g=lambda x: x):\n",
    "    x_set, f = X\n",
    "    mean = E(X, g)\n",
    "    return np.sum([(g(x_k) - mean)**2 * f(x_k) for x_k in x_set])"
   ]
  },
  {
   "cell_type": "code",
   "execution_count": 18,
   "id": "b6632dc7",
   "metadata": {
    "ExecuteTime": {
     "end_time": "2023-06-10T14:06:06.715369Z",
     "start_time": "2023-06-10T14:06:06.672970Z"
    }
   },
   "outputs": [
    {
     "data": {
      "text/plain": [
       "2.2222222222222223"
      ]
     },
     "execution_count": 18,
     "metadata": {},
     "output_type": "execute_result"
    }
   ],
   "source": [
    "V(X)"
   ]
  },
  {
   "cell_type": "code",
   "execution_count": 19,
   "id": "8ab7cc58",
   "metadata": {
    "ExecuteTime": {
     "end_time": "2023-06-10T14:06:06.746287Z",
     "start_time": "2023-06-10T14:06:06.722351Z"
    }
   },
   "outputs": [
    {
     "data": {
      "text/plain": [
       "8.88888888888889"
      ]
     },
     "execution_count": 19,
     "metadata": {},
     "output_type": "execute_result"
    }
   ],
   "source": [
    "V(X, lambda x: 2*x + 3)"
   ]
  },
  {
   "cell_type": "code",
   "execution_count": 20,
   "id": "b7a58c09",
   "metadata": {
    "ExecuteTime": {
     "end_time": "2023-06-10T14:06:06.777204Z",
     "start_time": "2023-06-10T14:06:06.754266Z"
    }
   },
   "outputs": [
    {
     "data": {
      "text/plain": [
       "8.88888888888889"
      ]
     },
     "execution_count": 20,
     "metadata": {},
     "output_type": "execute_result"
    }
   ],
   "source": [
    "2**2 * V(X)"
   ]
  },
  {
   "cell_type": "markdown",
   "id": "fc70d18a",
   "metadata": {},
   "source": [
    "## 5.2 2차원 이산형 확률변수"
   ]
  },
  {
   "cell_type": "markdown",
   "id": "06bad183",
   "metadata": {},
   "source": [
    "### 5.2.1 2차원 이산형 확률변수의 정의"
   ]
  },
  {
   "cell_type": "markdown",
   "id": "d216f28a",
   "metadata": {},
   "source": [
    "+ 결합확률분포"
   ]
  },
  {
   "cell_type": "markdown",
   "id": "cf7c0b0b",
   "metadata": {},
   "source": [
    "+ 확률의 성질"
   ]
  },
  {
   "cell_type": "code",
   "execution_count": 24,
   "id": "de0278d0",
   "metadata": {
    "ExecuteTime": {
     "end_time": "2023-06-10T14:16:11.745347Z",
     "start_time": "2023-06-10T14:16:11.732385Z"
    }
   },
   "outputs": [],
   "source": [
    "x_set = np.arange(2, 13)\n",
    "y_set = np.arange(1, 7)"
   ]
  },
  {
   "cell_type": "code",
   "execution_count": 25,
   "id": "a12ac91e",
   "metadata": {
    "ExecuteTime": {
     "end_time": "2023-06-10T14:17:39.025522Z",
     "start_time": "2023-06-10T14:17:39.014549Z"
    }
   },
   "outputs": [],
   "source": [
    "def f_XY(x, y):\n",
    "    if 1 <= y <= 6 and 1 <= x-y <= 6:\n",
    "        return y * (x-y) / 441\n",
    "    else:\n",
    "        return 0"
   ]
  },
  {
   "cell_type": "code",
   "execution_count": 28,
   "id": "4a36ebb3",
   "metadata": {
    "ExecuteTime": {
     "end_time": "2023-06-10T14:18:22.530931Z",
     "start_time": "2023-06-10T14:18:22.523963Z"
    }
   },
   "outputs": [],
   "source": [
    "XY = [x_set, y_set, f_XY]"
   ]
  },
  {
   "cell_type": "code",
   "execution_count": 48,
   "id": "a382811d",
   "metadata": {
    "ExecuteTime": {
     "end_time": "2023-06-10T14:40:35.826074Z",
     "start_time": "2023-06-10T14:40:35.812122Z"
    }
   },
   "outputs": [
    {
     "data": {
      "text/plain": [
       "(11, 6)"
      ]
     },
     "execution_count": 48,
     "metadata": {},
     "output_type": "execute_result"
    }
   ],
   "source": [
    "prob.shape"
   ]
  },
  {
   "cell_type": "code",
   "execution_count": 38,
   "id": "d204f09a",
   "metadata": {
    "ExecuteTime": {
     "end_time": "2023-06-10T14:30:21.190262Z",
     "start_time": "2023-06-10T14:30:20.932621Z"
    }
   },
   "outputs": [
    {
     "name": "stdout",
     "output_type": "stream",
     "text": [
      "[[0.002 0.    0.    0.    0.    0.   ]\n",
      " [0.005 0.005 0.    0.    0.    0.   ]\n",
      " [0.007 0.009 0.007 0.    0.    0.   ]\n",
      " [0.009 0.014 0.014 0.009 0.    0.   ]\n",
      " [0.011 0.018 0.02  0.018 0.011 0.   ]\n",
      " [0.014 0.023 0.027 0.027 0.023 0.014]\n",
      " [0.    0.027 0.034 0.036 0.034 0.027]\n",
      " [0.    0.    0.041 0.045 0.045 0.041]\n",
      " [0.    0.    0.    0.054 0.057 0.054]\n",
      " [0.    0.    0.    0.    0.068 0.068]\n",
      " [0.    0.    0.    0.    0.    0.082]]\n"
     ]
    },
    {
     "data": {
      "image/png": "[encoded data removed]",
      "text/plain": [
       "<Figure size 800x600 with 2 Axes>"
      ]
     },
     "metadata": {},
     "output_type": "display_data"
    }
   ],
   "source": [
    "prob = np.array([[f_XY(x_i, y_j) for y_j in y_set] for x_i in x_set])\n",
    "print(prob)\n",
    "\n",
    "fig = plt.figure(figsize=(8, 6))\n",
    "ax = fig.add_subplot(111)\n",
    "\n",
    "c = ax.pcolor(prob)\n",
    "ax.set_xticks(np.arange(prob.shape[1]) + 0.5, minor=False)\n",
    "ax.set_yticks(np.arange(prob.shape[0]) + 0.5, minor=False)\n",
    "ax.set_xticklabels(np.arange(1, 7), minor=False)\n",
    "ax.set_yticklabels(np.arange(2, 13), minor=False)\n",
    "\n",
    "# y축을 내림차순의 숫자가 되게 하여 위 아래를 역전시킨다.\n",
    "ax.invert_yaxis()\n",
    "\n",
    "# x축 눈금을 그래프 위쪽에 표시\n",
    "ax.xaxis.tick_top()\n",
    "\n",
    "fig.colorbar(c, ax=ax)\n",
    "plt.show()"
   ]
  },
  {
   "cell_type": "code",
   "execution_count": 47,
   "id": "0d387582",
   "metadata": {
    "ExecuteTime": {
     "end_time": "2023-06-10T14:40:23.213487Z",
     "start_time": "2023-06-10T14:40:22.500363Z"
    }
   },
   "outputs": [
    {
     "data": {
      "image/png": "[encoded data removed]",
      "text/plain": [
       "<Figure size 800x600 with 2 Axes>"
      ]
     },
     "metadata": {},
     "output_type": "display_data"
    }
   ],
   "source": [
    "import seaborn as sns\n",
    "\n",
    "fig, ax = plt.subplots(1, 1, figsize=(8, 6))\n",
    "\n",
    "sns.heatmap(prob, annot=True)\n",
    "plt.show()"
   ]
  },
  {
   "cell_type": "code",
   "execution_count": 52,
   "id": "f895c25b",
   "metadata": {
    "ExecuteTime": {
     "end_time": "2023-06-10T14:44:30.122932Z",
     "start_time": "2023-06-10T14:44:30.107976Z"
    }
   },
   "outputs": [
    {
     "data": {
      "text/plain": [
       "True"
      ]
     },
     "execution_count": 52,
     "metadata": {},
     "output_type": "execute_result"
    }
   ],
   "source": [
    "np.all(prob >= 0)"
   ]
  },
  {
   "cell_type": "code",
   "execution_count": 53,
   "id": "0f325cfa",
   "metadata": {
    "ExecuteTime": {
     "end_time": "2023-06-10T14:44:34.960769Z",
     "start_time": "2023-06-10T14:44:34.950796Z"
    }
   },
   "outputs": [
    {
     "data": {
      "text/plain": [
       "1.0"
      ]
     },
     "execution_count": 53,
     "metadata": {},
     "output_type": "execute_result"
    }
   ],
   "source": [
    "np.sum(prob)"
   ]
  },
  {
   "cell_type": "markdown",
   "id": "f08b70d2",
   "metadata": {},
   "source": [
    "+ 주변확률분포"
   ]
  },
  {
   "cell_type": "code",
   "execution_count": 54,
   "id": "191286b9",
   "metadata": {
    "ExecuteTime": {
     "end_time": "2023-06-10T14:47:34.063613Z",
     "start_time": "2023-06-10T14:47:34.054639Z"
    }
   },
   "outputs": [],
   "source": [
    "def f_X(x):\n",
    "    return np.sum([f_XY(x, y_k) for y_k in y_set])"
   ]
  },
  {
   "cell_type": "code",
   "execution_count": 55,
   "id": "75110c94",
   "metadata": {
    "ExecuteTime": {
     "end_time": "2023-06-10T14:49:40.763771Z",
     "start_time": "2023-06-10T14:49:40.749808Z"
    }
   },
   "outputs": [],
   "source": [
    "def f_Y(y):\n",
    "    return np.sum([f_XY(x_k, y) for x_k in x_set])"
   ]
  },
  {
   "cell_type": "code",
   "execution_count": 56,
   "id": "3be482b4",
   "metadata": {
    "ExecuteTime": {
     "end_time": "2023-06-10T14:49:59.681781Z",
     "start_time": "2023-06-10T14:49:59.668779Z"
    }
   },
   "outputs": [],
   "source": [
    "X = [x_set, f_X]\n",
    "Y = [y_set, f_Y]"
   ]
  },
  {
   "cell_type": "code",
   "execution_count": 58,
   "id": "1d92453c",
   "metadata": {
    "ExecuteTime": {
     "end_time": "2023-06-10T14:58:17.025964Z",
     "start_time": "2023-06-10T14:58:16.637040Z"
    }
   },
   "outputs": [
    {
     "data": {
      "image/png": "[encoded data removed]",
      "text/plain": [
       "<Figure size 1200x400 with 2 Axes>"
      ]
     },
     "metadata": {},
     "output_type": "display_data"
    }
   ],
   "source": [
    "prob_x = np.array([f_X(x_k) for x_k in x_set])\n",
    "prob_y = np.array([f_Y(y_k) for y_k in y_set])\n",
    "\n",
    "fig = plt.figure(figsize=(12, 4))\n",
    "ax1 = fig.add_subplot(121)\n",
    "ax2 = fig.add_subplot(122)\n",
    "\n",
    "ax1.bar(x_set, prob_x)\n",
    "ax1.set_title('X_marginal probability distribution')\n",
    "ax1.set_xlabel('X_value')\n",
    "ax1.set_ylabel('probability')\n",
    "ax1.set_xticks(x_set)\n",
    "\n",
    "ax2.bar(y_set, prob_y)\n",
    "ax2.set_title('Y_marginal probability distribution')\n",
    "ax2.set_xlabel('Y_value')\n",
    "ax2.set_ylabel('probability')\n",
    "\n",
    "plt.show()"
   ]
  },
  {
   "cell_type": "markdown",
   "id": "57c799b6",
   "metadata": {},
   "source": [
    "### 5.2.2 2차원 이산형 확률분포의 지표"
   ]
  },
  {
   "cell_type": "code",
   "execution_count": null,
   "id": "fbfaf65e",
   "metadata": {},
   "outputs": [],
   "source": []
  },
  {
   "cell_type": "code",
   "execution_count": null,
   "id": "0e1b5c18",
   "metadata": {},
   "outputs": [],
   "source": []
  }
 ],
 "metadata": {
  "hide_input": false,
  "kernelspec": {
   "display_name": "Python 3 (ipykernel)",
   "language": "python",
   "name": "python3"
  },
  "language_info": {
   "codemirror_mode": {
    "name": "ipython",
    "version": 3
   },
   "file_extension": ".py",
   "mimetype": "text/x-python",
   "name": "python",
   "nbconvert_exporter": "python",
   "pygments_lexer": "ipython3",
   "version": "3.9.13"
  },
  "toc": {
   "base_numbering": 1,
   "nav_menu": {},
   "number_sections": false,
   "sideBar": true,
   "skip_h1_title": true,
   "title_cell": "Table of Contents",
   "title_sidebar": "Contents",
   "toc_cell": false,
   "toc_position": {
    "height": "calc(100% - 180px)",
    "left": "10px",
    "top": "150px",
    "width": "302px"
   },
   "toc_section_display": true,
   "toc_window_display": true
  }
 },
 "nbformat": 4,
 "nbformat_minor": 5
}
