{
 "cells": [
  {
   "cell_type": "code",
   "execution_count": 3,
   "id": "75a998eb",
   "metadata": {
    "ExecuteTime": {
     "end_time": "2023-06-08T14:46:44.802109Z",
     "start_time": "2023-06-08T14:46:44.763213Z"
    }
   },
   "outputs": [],
   "source": [
    "import numpy as np\n",
    "import matplotlib.pyplot as plt\n",
    "\n",
    "%precision 3\n",
    "%matplotlib inline"
   ]
  },
  {
   "cell_type": "markdown",
   "id": "f8808822",
   "metadata": {},
   "source": [
    "## 5.1 1차원 이산형 확률변수"
   ]
  },
  {
   "cell_type": "markdown",
   "id": "8780bb0e",
   "metadata": {},
   "source": [
    "### 5.1.1 1차원 이산형 확률변수의 정의\n",
    "\n",
    "+ 확률질량함수"
   ]
  },
  {
   "cell_type": "code",
   "execution_count": 4,
   "id": "44b61fe8",
   "metadata": {
    "ExecuteTime": {
     "end_time": "2023-06-08T14:57:50.185811Z",
     "start_time": "2023-06-08T14:57:50.169886Z"
    }
   },
   "outputs": [],
   "source": [
    "x_set = np.array([1, 2, 3, 4, 5, 6])"
   ]
  },
  {
   "cell_type": "code",
   "execution_count": 5,
   "id": "4f622dc1",
   "metadata": {
    "ExecuteTime": {
     "end_time": "2023-06-08T14:58:17.743800Z",
     "start_time": "2023-06-08T14:58:17.720895Z"
    }
   },
   "outputs": [],
   "source": [
    "def f(x):\n",
    "    if x in x_set:\n",
    "        return x / 21\n",
    "    else:\n",
    "        return 0"
   ]
  },
  {
   "cell_type": "code",
   "execution_count": 6,
   "id": "6f2cddf2",
   "metadata": {
    "ExecuteTime": {
     "end_time": "2023-06-08T14:58:51.015160Z",
     "start_time": "2023-06-08T14:58:51.008172Z"
    }
   },
   "outputs": [],
   "source": [
    "X = [x_set, f]"
   ]
  },
  {
   "cell_type": "code",
   "execution_count": 7,
   "id": "2b5ca244",
   "metadata": {
    "ExecuteTime": {
     "end_time": "2023-06-08T15:00:12.414858Z",
     "start_time": "2023-06-08T15:00:12.392915Z"
    }
   },
   "outputs": [
    {
     "data": {
      "text/plain": [
       "{1: 0.047619047619047616,\n",
       " 2: 0.09523809523809523,\n",
       " 3: 0.14285714285714285,\n",
       " 4: 0.19047619047619047,\n",
       " 5: 0.23809523809523808,\n",
       " 6: 0.2857142857142857}"
      ]
     },
     "execution_count": 7,
     "metadata": {},
     "output_type": "execute_result"
    }
   ],
   "source": [
    "# 확률 p_k를 구한다\n",
    "prob = np.array([f(x_k) for x_k in x_set])\n",
    "\n",
    "# x_k와 p_k의 대응을 사전식으로 표시\n",
    "dict(zip(x_set, prob))"
   ]
  },
  {
   "cell_type": "code",
   "execution_count": 8,
   "id": "dd32ec2d",
   "metadata": {
    "ExecuteTime": {
     "end_time": "2023-06-08T15:01:48.218518Z",
     "start_time": "2023-06-08T15:01:47.929142Z"
    }
   },
   "outputs": [
    {
     "data": {
      "image/png": "[encoded data removed]",
      "text/plain": [
       "<Figure size 1000x600 with 1 Axes>"
      ]
     },
     "metadata": {},
     "output_type": "display_data"
    }
   ],
   "source": [
    "fig = plt.figure(figsize=(10, 6))\n",
    "ax = fig.add_subplot(111)\n",
    "ax.bar(x_set, prob)\n",
    "ax.set_xlabel('value')\n",
    "ax.set_ylabel('probability')\n",
    "\n",
    "plt.show()"
   ]
  },
  {
   "cell_type": "markdown",
   "id": "f06c72ed",
   "metadata": {},
   "source": [
    "+ 확률의 성질"
   ]
  },
  {
   "cell_type": "code",
   "execution_count": 9,
   "id": "f0a5501e",
   "metadata": {
    "ExecuteTime": {
     "end_time": "2023-06-08T15:02:23.279974Z",
     "start_time": "2023-06-08T15:02:23.256039Z"
    }
   },
   "outputs": [
    {
     "data": {
      "text/plain": [
       "True"
      ]
     },
     "execution_count": 9,
     "metadata": {},
     "output_type": "execute_result"
    }
   ],
   "source": [
    "np.all(prob>=0)"
   ]
  },
  {
   "cell_type": "code",
   "execution_count": 10,
   "id": "bd46b608",
   "metadata": {
    "ExecuteTime": {
     "end_time": "2023-06-08T15:02:33.806130Z",
     "start_time": "2023-06-08T15:02:33.783192Z"
    }
   },
   "outputs": [
    {
     "data": {
      "text/plain": [
       "0.9999999999999999"
      ]
     },
     "execution_count": 10,
     "metadata": {},
     "output_type": "execute_result"
    }
   ],
   "source": [
    "np.sum(prob)"
   ]
  },
  {
   "cell_type": "markdown",
   "id": "002fb181",
   "metadata": {},
   "source": [
    "+ 확률변수의 변환"
   ]
  },
  {
   "cell_type": "code",
   "execution_count": 11,
   "id": "7f8dc42c",
   "metadata": {
    "ExecuteTime": {
     "end_time": "2023-06-08T15:07:26.060481Z",
     "start_time": "2023-06-08T15:07:26.040536Z"
    }
   },
   "outputs": [
    {
     "data": {
      "text/plain": [
       "{5: 0.047619047619047616,\n",
       " 7: 0.09523809523809523,\n",
       " 9: 0.14285714285714285,\n",
       " 11: 0.19047619047619047,\n",
       " 13: 0.23809523809523808,\n",
       " 15: 0.2857142857142857}"
      ]
     },
     "execution_count": 11,
     "metadata": {},
     "output_type": "execute_result"
    }
   ],
   "source": [
    "y_set = np.array([2*x_k+3 for x_k in x_set])\n",
    "prob = np.array([f(x_k) for x_k in x_set])\n",
    "dict(zip(y_set, prob))"
   ]
  }
 ],
 "metadata": {
  "hide_input": false,
  "kernelspec": {
   "display_name": "Python 3 (ipykernel)",
   "language": "python",
   "name": "python3"
  },
  "language_info": {
   "codemirror_mode": {
    "name": "ipython",
    "version": 3
   },
   "file_extension": ".py",
   "mimetype": "text/x-python",
   "name": "python",
   "nbconvert_exporter": "python",
   "pygments_lexer": "ipython3",
   "version": "3.9.13"
  },
  "toc": {
   "base_numbering": 1,
   "nav_menu": {},
   "number_sections": false,
   "sideBar": true,
   "skip_h1_title": true,
   "title_cell": "Table of Contents",
   "title_sidebar": "Contents",
   "toc_cell": false,
   "toc_position": {},
   "toc_section_display": true,
   "toc_window_display": true
  }
 },
 "nbformat": 4,
 "nbformat_minor": 5
}
