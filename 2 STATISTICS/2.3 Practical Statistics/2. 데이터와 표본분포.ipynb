{
 "cells": [
  {
   "cell_type": "markdown",
   "id": "8aa9d58a-5ade-41b0-9e9b-b1ca3c949469",
   "metadata": {},
   "source": [
    "# Chapter 2. 데이터와 표본분포"
   ]
  },
  {
   "cell_type": "code",
   "execution_count": 1,
   "id": "44e594c0-f4ad-488d-ae26-bb6f42df7e6d",
   "metadata": {},
   "outputs": [],
   "source": [
    "import numpy as np\n",
    "import pandas as pd\n",
    "\n",
    "import matplotlib.pyplot as plt\n",
    "import seaborn as sns\n",
    "\n",
    "from scipy import stats\n",
    "\n",
    "from sklearn.utils import resample\n",
    "\n",
    "path = 'c:/reposit/data/book/practicalstatistics/'"
   ]
  },
  {
   "cell_type": "code",
   "execution_count": 2,
   "id": "86eb8c1c-d2ba-4d66-9719-685c7baf3183",
   "metadata": {},
   "outputs": [],
   "source": [
    "# 데이터 불러오기\n",
    "# loans_income = pd.read_csv(path + 'loans_income.csv', squeeze=True)\n",
    "loans_income = pd.read_csv(path + 'loans_income.csv').squeeze()\n",
    "nflx = pd.read_csv(path + 'sp500_data.csv.gz').NFLX"
   ]
  },
  {
   "cell_type": "code",
   "execution_count": 3,
   "id": "742a5d25-4345-4449-80a5-c3491c336cf7",
   "metadata": {},
   "outputs": [
    {
     "data": {
      "image/png": "[encoded data removed]",
      "text/plain": [
       "<Figure size 400x600 with 3 Axes>"
      ]
     },
     "metadata": {},
     "output_type": "display_data"
    }
   ],
   "source": [
    "sample_data = pd.DataFrame({\n",
    "    'income': loans_income.sample(1000),\n",
    "    'type': 'Data'\n",
    "})\n",
    "\n",
    "sample_mean_05 = pd.DataFrame({\n",
    "    'income': [loans_income.sample(5).mean() for _ in range(1000)],\n",
    "    'type': 'Mean of 5'\n",
    "})\n",
    "\n",
    "sample_mean_20 = pd.DataFrame({\n",
    "    'income': [loans_income.sample(20).mean() for _ in range(1000)],\n",
    "    'type': 'Mean of 20'\n",
    "})\n",
    "\n",
    "results = pd.concat([sample_data, sample_mean_05, sample_mean_20])\n",
    "\n",
    "g = sns.FacetGrid(results, col='type', col_wrap=1, height=2, aspect=2)\n",
    "g.map(plt.hist, 'income', range=[0, 200000], bins=40)\n",
    "g.set_axis_labels('Income', 'Count')\n",
    "g.set_titles('{col_name}')\n",
    "\n",
    "plt.show()"
   ]
  },
  {
   "cell_type": "markdown",
   "id": "c97f4137-4d95-4687-bc16-81adc704e02b",
   "metadata": {},
   "source": [
    "## 2.4 부트스트랩"
   ]
  },
  {
   "cell_type": "code",
   "execution_count": 4,
   "id": "9f0a791b-e1d7-4443-b6d1-5c13636c79b9",
   "metadata": {},
   "outputs": [
    {
     "name": "stdout",
     "output_type": "stream",
     "text": [
      "Bootstrap Statistics:\n",
      "original: 62000.0\n",
      "bias: 0.0\n",
      "std. error: 212.17516716456575\n"
     ]
    }
   ],
   "source": [
    "# 부트스트랩\n",
    "results = []\n",
    "\n",
    "for nrepeat in range(1000):\n",
    "    sample = resample(loans_income)\n",
    "    results.append(sample.median())\n",
    "\n",
    "results = pd.Series(results)\n",
    "\n",
    "print('Bootstrap Statistics:')\n",
    "print(f'original: {loans_income.median()}')\n",
    "print(f'bias: {results.median() - loans_income.median()}')\n",
    "print(f'std. error: {results.std()}')"
   ]
  },
  {
   "cell_type": "code",
   "execution_count": 5,
   "id": "f6193828-ae90-48a0-ab16-1bac533792c8",
   "metadata": {},
   "outputs": [
    {
     "name": "stdout",
     "output_type": "stream",
     "text": [
      "원래 데이터 샘플의 평균: 31.50\n",
      "부트스트랩 평균의 95% 신뢰구간: (19.80, 43.60)\n"
     ]
    }
   ],
   "source": [
    "# 부트스트랩 파이썬으로 구핸해보기\n",
    "# 원래 데이터 샘플\n",
    "original_data = np.array([23, 45, 56, 12, 9, 38, 56, 48, 20, 8])\n",
    "\n",
    "# 부트스트랩 샘플을 위한 반복 횟수\n",
    "n_bootstrap_samples = 1000\n",
    "\n",
    "# 부트스트랩 샘플의 평균을 저장할 리스트\n",
    "bootstrap_means = []\n",
    "\n",
    "for _ in range(n_bootstrap_samples):\n",
    "    # 복원 추출로 부트스트랩 샘플 생성\n",
    "    bootstrap_sample = np.random.choice(original_data, size=len(original_data), replace=True)\n",
    "    \n",
    "    # 부트스트랩 샘플의 평균 계산\n",
    "    bootstrap_mean = np.mean(bootstrap_sample)\n",
    "    \n",
    "    # 계산한 평균을 리스트에 저장\n",
    "    bootstrap_means.append(bootstrap_mean)\n",
    "\n",
    "# 부트스트랩으로 얻은 평균의 분포에서 신뢰구간 계산\n",
    "lower_bound = np.percentile(bootstrap_means, 2.5)\n",
    "upper_bound = np.percentile(bootstrap_means, 97.5)\n",
    "\n",
    "print(f\"원래 데이터 샘플의 평균: {np.mean(original_data):.2f}\")\n",
    "print(f\"부트스트랩 평균의 95% 신뢰구간: ({lower_bound:.2f}, {upper_bound:.2f})\")"
   ]
  },
  {
   "cell_type": "markdown",
   "id": "5ddf97f4-4c40-417b-9bb3-5eae85c6d4dc",
   "metadata": {},
   "source": [
    "## 2.6 정규분포"
   ]
  },
  {
   "cell_type": "code",
   "execution_count": 6,
   "id": "959269da-63fc-4f93-9603-86e95873cc81",
   "metadata": {},
   "outputs": [
    {
     "name": "stdout",
     "output_type": "stream",
     "text": [
      "Z-score of 45: 0.73863184972605\n"
     ]
    }
   ],
   "source": [
    "# 개별 데이터 포인트의 Z-점수 구하기\n",
    "# 데이터 샘플\n",
    "data = np.array([23, 45, 56, 12, 9, 38, 56, 48, 20, 8])\n",
    "\n",
    "# 데이터 샘플의 평균과 표준편차 계산\n",
    "mean = np.mean(data)\n",
    "std_dev = np.std(data)\n",
    "\n",
    "# 특정 데이터 포인트 (예: 45)\n",
    "data_point = 45\n",
    "\n",
    "# Z-점수 계산\n",
    "z_score = (data_point - mean) / std_dev\n",
    "\n",
    "print(f\"Z-score of {data_point}: {z_score}\")"
   ]
  },
  {
   "cell_type": "code",
   "execution_count": 7,
   "id": "ce15fbd2-2d67-48f6-ac68-604eecdef4bd",
   "metadata": {},
   "outputs": [
    {
     "name": "stdout",
     "output_type": "stream",
     "text": [
      "Z-scores of the data: [-0.4650645   0.73863185  1.34048002 -1.06691267 -1.23105308  0.35563756\n",
      "  1.34048002  0.90277226 -0.62920491 -1.28576655]\n"
     ]
    }
   ],
   "source": [
    "# 전체 데이터 샘플의 Z-점수 구하기\n",
    "# 데이터 샘플\n",
    "data = np.array([23, 45, 56, 12, 9, 38, 56, 48, 20, 8])\n",
    "\n",
    "# 데이터 샘플의 평균과 표준편차 계산\n",
    "mean = np.mean(data)\n",
    "std_dev = np.std(data)\n",
    "\n",
    "# 전체 데이터의 Z-점수 계산\n",
    "z_scores = (data - mean) / std_dev\n",
    "\n",
    "print(f\"Z-scores of the data: {z_scores}\")"
   ]
  },
  {
   "cell_type": "markdown",
   "id": "40beef32-8728-457e-bac0-677b0dd02e43",
   "metadata": {},
   "source": [
    "### 2.6.1 표준정규분포와 QQ 그림"
   ]
  },
  {
   "cell_type": "code",
   "execution_count": 8,
   "id": "d7aedb82-5b66-429f-be34-fce151cfe0bc",
   "metadata": {},
   "outputs": [
    {
     "data": {
      "image/png": "[encoded data removed]",
      "text/plain": [
       "<Figure size 400x400 with 1 Axes>"
      ]
     },
     "metadata": {},
     "output_type": "display_data"
    }
   ],
   "source": [
    "fig, ax = plt.subplots(figsize=(4, 4))\n",
    "norm_sample = stats.norm.rvs(size=100)\n",
    "stats.probplot(norm_sample, plot=ax)\n",
    "\n",
    "plt.show()"
   ]
  },
  {
   "cell_type": "markdown",
   "id": "bc791a41-4627-4185-988c-89b4660ffed0",
   "metadata": {},
   "source": [
    "## 2.7 긴 꼬리 분포"
   ]
  },
  {
   "cell_type": "code",
   "execution_count": 9,
   "id": "814a5fa2-5686-471b-a498-f230e8fd00eb",
   "metadata": {},
   "outputs": [
    {
     "data": {
      "image/png": "[encoded data removed]",
      "text/plain": [
       "<Figure size 400x400 with 1 Axes>"
      ]
     },
     "metadata": {},
     "output_type": "display_data"
    }
   ],
   "source": [
    "nflx = np.diff(np.log(nflx[nflx>0]))\n",
    "fig, ax = plt.subplots(figsize=(4, 4))\n",
    "stats.probplot(nflx, plot=ax)\n",
    "\n",
    "plt.show()"
   ]
  },
  {
   "cell_type": "markdown",
   "id": "fb660a1d-ac83-4137-ab6a-a375e559aedc",
   "metadata": {},
   "source": [
    "## 2.9 이항분포"
   ]
  },
  {
   "cell_type": "code",
   "execution_count": 10,
   "id": "cf6e140b-c236-4e8e-83b6-dad88de23957",
   "metadata": {},
   "outputs": [
    {
     "name": "stdout",
     "output_type": "stream",
     "text": [
      "0.07289999999999992\n",
      "0.99144\n"
     ]
    }
   ],
   "source": [
    "print(stats.binom.pmf(2, n=5, p=0.1))\n",
    "print(stats.binom.cdf(2, n=5, p=0.1))"
   ]
  },
  {
   "cell_type": "markdown",
   "id": "3da410cd-bed1-4420-9fe1-2dea298c317c",
   "metadata": {},
   "source": [
    "## 2.10 카이제곱분포"
   ]
  },
  {
   "cell_type": "markdown",
   "id": "6ea9523d-915e-41e3-941b-cf958d545fce",
   "metadata": {},
   "source": [
    "## 2.11 F 분포"
   ]
  },
  {
   "cell_type": "markdown",
   "id": "741d6258-041d-4dba-9136-e0fcaf28182e",
   "metadata": {},
   "source": [
    "## 2.12 푸아송 분포와 그 외 관련 분포들"
   ]
  },
  {
   "cell_type": "markdown",
   "id": "59c663a3-2fbf-4a21-a7b0-ec04590e4e35",
   "metadata": {},
   "source": [
    "### 2.12.1 푸아송 분포"
   ]
  },
  {
   "cell_type": "code",
   "execution_count": 11,
   "id": "fa25bf52-56e9-4e3f-a64a-9af9f03bba51",
   "metadata": {},
   "outputs": [
    {
     "data": {
      "text/plain": [
       "array([0, 1, 2, 2, 2, 0, 2, 2, 4, 4, 1, 4, 1, 1, 4, 4, 2, 3, 1, 2, 3, 5,\n",
       "       5, 2, 4, 2, 4, 0, 4, 1, 2, 3, 2, 2, 2, 0, 2, 1, 1, 0, 3, 1, 2, 6,\n",
       "       1, 1, 3, 3, 0, 4, 0, 4, 2, 1, 1, 2, 2, 1, 1, 1, 2, 0, 0, 1, 5, 4,\n",
       "       3, 2, 2, 2, 1, 1, 2, 3, 2, 3, 2, 1, 2, 2, 3, 3, 1, 2, 1, 2, 3, 6,\n",
       "       1, 2, 3, 1, 2, 4, 0, 0, 2, 3, 0, 2], dtype=int64)"
      ]
     },
     "execution_count": 11,
     "metadata": {},
     "output_type": "execute_result"
    }
   ],
   "source": [
    "stats.poisson.rvs(2, size=100)"
   ]
  },
  {
   "cell_type": "markdown",
   "id": "e4827e4c-e6c4-4027-82fc-c763764e5777",
   "metadata": {},
   "source": [
    "### 2.12.2 지수분포"
   ]
  },
  {
   "cell_type": "code",
   "execution_count": 12,
   "id": "d25ddc44-c669-4758-ab47-b22f15ca2d76",
   "metadata": {},
   "outputs": [
    {
     "data": {
      "text/plain": [
       "array([ 0.44701975,  1.5294005 ,  4.84907141, 16.1989046 , 16.93165509,\n",
       "        0.47161731,  8.39158405,  5.10066051,  7.88942654,  2.34853318,\n",
       "       18.28995181,  0.06088326,  5.41386475,  0.37269069, 11.98701878,\n",
       "        0.51327695,  1.94162401,  2.67973182,  2.60183738,  6.40767589,\n",
       "       13.57374051,  3.0300997 ,  5.72149338,  0.49116725,  2.83907156,\n",
       "        4.02252595,  4.07403835,  0.32247141, 19.39942753,  1.26530022,\n",
       "        0.70846803,  2.10698125,  7.37210319,  0.30733507,  2.67213754,\n",
       "        4.43528404,  2.41042098,  9.49387238,  5.59917391,  5.79515832,\n",
       "        7.34618985,  2.63685288,  0.14794695,  2.22093043, 11.58586186,\n",
       "        4.31570076,  3.73840118, 13.16832073,  2.89033739,  3.31147522,\n",
       "       12.88323771,  0.70533489,  7.36259348,  3.47873002,  8.97727271,\n",
       "        1.69895345,  4.56045711,  3.99789159,  1.8555333 ,  0.91823926,\n",
       "        8.63327902,  0.39372611,  0.71213074,  1.13155104,  2.37687601,\n",
       "        5.57321786,  7.17910172,  5.37835158,  0.84550036,  4.26648561,\n",
       "        1.0950851 ,  5.2725262 ,  0.68883789,  1.41883206,  1.65411044,\n",
       "        3.14899562,  7.10822383,  0.88925134, 11.00273091,  3.34648019,\n",
       "        2.98168238,  3.45235521,  1.00385081,  1.56375669,  7.60524592,\n",
       "        4.41737258,  9.11729136,  4.52498425,  1.41606842,  3.93842877,\n",
       "        1.10924591,  2.27889423, 18.80365353,  2.24749956,  1.09986931,\n",
       "        3.72565445, 19.27999934,  5.29148272,  8.58052321,  0.25984558])"
      ]
     },
     "execution_count": 12,
     "metadata": {},
     "output_type": "execute_result"
    }
   ],
   "source": [
    "stats.expon.rvs(scale=0.2, size=100)\n",
    "stats.expon.rvs(scale=5, size=100)"
   ]
  },
  {
   "cell_type": "markdown",
   "id": "e007b864-9a39-4631-a28a-e74f10bd8613",
   "metadata": {},
   "source": [
    "### 2.12.3 고장률 추정"
   ]
  },
  {
   "cell_type": "markdown",
   "id": "1795c4ca-57d0-4a0f-b4f2-93647cc7e0e3",
   "metadata": {},
   "source": [
    "### 2.12.4 베이불 분포"
   ]
  },
  {
   "cell_type": "code",
   "execution_count": 13,
   "id": "95e330ff-3e9f-4ee3-be98-90e283e8e25d",
   "metadata": {},
   "outputs": [
    {
     "data": {
      "text/plain": [
       "array([ 3237.0107944 ,  2693.90698046,  1460.00528892,  2721.14483215,\n",
       "        1260.36053883,  1862.92830087,  3236.22617508,  2533.09736051,\n",
       "        2643.28042212,  4424.94475131,  1809.08437742,  7486.15659719,\n",
       "       17476.6240216 ,  7573.26880094,  4400.34177791,  2723.66021371,\n",
       "         727.93364547,  3148.78275417,  7263.53124144,  3208.63915451,\n",
       "        7165.53943837,  3510.74790398,  3415.53025379,   808.60862846,\n",
       "        1971.08217481,  3479.40575882,  7263.07427253,  1280.19055307,\n",
       "        2054.28829399,  1969.60597044,  2121.81166853,  7164.28281888,\n",
       "        2014.72682859,  7218.62264842,  9542.41861935,  5640.57991868,\n",
       "        7594.66598715,  3680.68432264,  1644.38520478,  3449.03497548,\n",
       "        4788.51803895,  6515.62723156,  1314.40244097,  2156.56070848,\n",
       "        5224.01233799,  5227.94679738,   433.1759528 ,  1129.29866918,\n",
       "        1201.62540428,  9189.63383275,  3722.18060834,  4009.65581442,\n",
       "       12385.30876671,  5857.26084309,  7280.02141401,  4453.03169182,\n",
       "        4859.12243409,  4218.39783067,  1142.09750915,  6719.98162307,\n",
       "        3415.3905469 ,  9196.61383815,   350.55977545,  3701.91463542,\n",
       "        2442.50916052,  4078.18969845,  3003.94214941,  5849.34891158,\n",
       "        1777.2542915 ,  9459.08453417,  7662.80035422,  3775.90345676,\n",
       "        5635.61931949,  9736.35304503,   217.63742837,  1845.90122975,\n",
       "        2138.66696513,  4993.12101217,  6478.35136395,  2476.45630843,\n",
       "        2658.52176753,  1279.3300026 ,  3017.34554899, 10177.68834295,\n",
       "        4214.31405803,  5376.09733022,  3135.57350281,  6774.64864285,\n",
       "        4236.72993669,  3237.45785644,  2934.41293869,  4338.76499756,\n",
       "       13246.95179922,  2096.09150216,  2955.25493729,  3157.68899276,\n",
       "        9988.78088556, 10113.74105339,   985.68854271,  4509.96044776])"
      ]
     },
     "execution_count": 13,
     "metadata": {},
     "output_type": "execute_result"
    }
   ],
   "source": [
    "stats.weibull_min.rvs(1.5, scale=5000, size=100)"
   ]
  }
 ],
 "metadata": {
  "kernelspec": {
   "display_name": "Python 3 (ipykernel)",
   "language": "python",
   "name": "python3"
  },
  "language_info": {
   "codemirror_mode": {
    "name": "ipython",
    "version": 3
   },
   "file_extension": ".py",
   "mimetype": "text/x-python",
   "name": "python",
   "nbconvert_exporter": "python",
   "pygments_lexer": "ipython3",
   "version": "3.9.16"
  }
 },
 "nbformat": 4,
 "nbformat_minor": 5
}
