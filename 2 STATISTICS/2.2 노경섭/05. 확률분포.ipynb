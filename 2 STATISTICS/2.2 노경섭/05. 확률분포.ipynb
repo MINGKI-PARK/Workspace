{
 "cells": [
  {
   "cell_type": "code",
   "execution_count": 10,
   "id": "fd48ccd4-f36d-4a2a-aee0-c039b6a2aff6",
   "metadata": {},
   "outputs": [],
   "source": [
    "import numpy as np\n",
    "import pandas as pd\n",
    "\n",
    "from math import factorial, exp\n",
    "import scipy as sp\n",
    "import scipy.stats\n",
    "\n",
    "import matplotlib.pyplot as plt\n",
    "import seaborn as sns\n",
    "\n",
    "# os 패키지를 통해 현재 디렉토리 위치를 변경하고, read_csv를 더 편리하게 할 수 있음\n",
    "import os\n",
    "os.getcwd() # 현재 디렉토리 파악\n",
    "# os.chdir(r\"______\") # 불러오고 싶은 파일이 위치한 주소를 ___에 입력\n",
    "\n",
    "# 다른 노트북 작성할 때도 이 셀만 떼서 사용 가능하다.\n",
    "import platform                \n",
    "\n",
    "# 웬만하면 해주는 것이 좋다.\n",
    "from matplotlib import font_manager, rc\n",
    "plt.rcParams['axes.unicode_minus'] = False\n",
    "\n",
    "if platform.system() == 'Darwin': #맥os 사용자의 경우에\n",
    "    plt.style.use('seaborn-darkgrid') \n",
    "    rc('font', family = 'AppleGothic')\n",
    "    \n",
    "elif platform.system() == 'Windows':#윈도우 사용자의 경우에\n",
    "    path = 'c:/Windows/Fonts/malgun.ttf'\n",
    "    font_name = font_manager.FontProperties(fname=path).get_name()\n",
    "    plt.style.use('seaborn-v0_8-whitegrid') # https://python-graph-gallery.co|m/199-matplotlib-style-sheets/\n",
    "    rc('font', family=font_name)"
   ]
  },
  {
   "cell_type": "code",
   "execution_count": 5,
   "id": "c6440b44-5ccb-43b2-874c-7f946d13f530",
   "metadata": {},
   "outputs": [
    {
     "data": {
      "text/plain": [
       "(0.1, 0.09000000000000001)"
      ]
     },
     "execution_count": 5,
     "metadata": {},
     "output_type": "execute_result"
    }
   ],
   "source": [
    "p = 0.1\n",
    "\n",
    "sp.stats.bernoulli.stats(p)"
   ]
  },
  {
   "cell_type": "code",
   "execution_count": 6,
   "id": "c2220b88-8cf6-4c1c-93f8-2b081d1094a9",
   "metadata": {},
   "outputs": [],
   "source": [
    "def bin_dist(n, k, p):\n",
    "    \n",
    "    nCk = factorial(n) / (factorial(k) * factorial(n-k))\n",
    "    \n",
    "    res = nCk * p**k * (1-p)**(n-k)\n",
    "    \n",
    "    return res"
   ]
  },
  {
   "cell_type": "code",
   "execution_count": 7,
   "id": "1c6d2dab-7be4-4d89-add6-c1ea4076ac00",
   "metadata": {},
   "outputs": [
    {
     "data": {
      "text/plain": [
       "0.08313908976417642"
      ]
     },
     "execution_count": 7,
     "metadata": {},
     "output_type": "execute_result"
    }
   ],
   "source": [
    "bin_dist(49, 2, 0.1)"
   ]
  },
  {
   "cell_type": "code",
   "execution_count": 9,
   "id": "84731335-024f-4e86-a14e-d11abf81befb",
   "metadata": {},
   "outputs": [
    {
     "data": {
      "text/plain": [
       "<scipy.stats._distn_infrastructure.rv_discrete_frozen at 0x2caac818460>"
      ]
     },
     "execution_count": 9,
     "metadata": {},
     "output_type": "execute_result"
    }
   ],
   "source": [
    "n = 49\n",
    "p = 0.1\n",
    "\n",
    "rv = sp.stats.binom(n, p)"
   ]
  },
  {
   "cell_type": "markdown",
   "id": "99830603-f70f-4fb4-afa3-31abbd441883",
   "metadata": {},
   "source": [
    "## 3. 포아송 분포"
   ]
  },
  {
   "cell_type": "code",
   "execution_count": 18,
   "id": "10e4472f-ee35-4f6d-808c-4127f7f599dd",
   "metadata": {},
   "outputs": [
    {
     "data": {
      "text/plain": [
       "2.718281828459045"
      ]
     },
     "execution_count": 18,
     "metadata": {},
     "output_type": "execute_result"
    }
   ],
   "source": [
    "exp(1)"
   ]
  },
  {
   "cell_type": "code",
   "execution_count": 21,
   "id": "17ab9c4d-b1a5-4cba-abb0-d067326b31f1",
   "metadata": {},
   "outputs": [],
   "source": [
    "def poisson_dist(n, lamb):\n",
    "    \n",
    "    res = ((lamb**n) * (exp(1)**-lamb)) / factorial(n)\n",
    "    \n",
    "    return res"
   ]
  },
  {
   "cell_type": "code",
   "execution_count": 22,
   "id": "92b17ca8-33cf-4b70-82f7-12c84515f9b3",
   "metadata": {},
   "outputs": [
    {
     "data": {
      "text/plain": [
       "0.14936120510359185"
      ]
     },
     "execution_count": 22,
     "metadata": {},
     "output_type": "execute_result"
    }
   ],
   "source": [
    "# 1회\n",
    "poisson_dist(1, 3)"
   ]
  },
  {
   "cell_type": "code",
   "execution_count": 23,
   "id": "9a18da93-f07d-4072-b82b-23bb74161aa6",
   "metadata": {},
   "outputs": [
    {
     "data": {
      "text/plain": [
       "0.04978706836786395"
      ]
     },
     "execution_count": 23,
     "metadata": {},
     "output_type": "execute_result"
    }
   ],
   "source": [
    "# 0회\n",
    "poisson_dist(0, 3)"
   ]
  },
  {
   "cell_type": "code",
   "execution_count": 24,
   "id": "98956a71-c662-4de8-8511-e97e60faddee",
   "metadata": {},
   "outputs": [
    {
     "data": {
      "text/plain": [
       "0.1991482734714558"
      ]
     },
     "execution_count": 24,
     "metadata": {},
     "output_type": "execute_result"
    }
   ],
   "source": [
    "# 1회 이하\n",
    "poisson_dist(0, 3) + poisson_dist(1, 3) # 19.91%"
   ]
  },
  {
   "cell_type": "code",
   "execution_count": 25,
   "id": "57e5446c-7c2a-49c0-a56c-834886d76803",
   "metadata": {},
   "outputs": [
    {
     "data": {
      "text/plain": [
       "0.16803135574154082"
      ]
     },
     "execution_count": 25,
     "metadata": {},
     "output_type": "execute_result"
    }
   ],
   "source": [
    "# 4회\n",
    "poisson_dist(4, 3)"
   ]
  },
  {
   "cell_type": "code",
   "execution_count": 26,
   "id": "e04ec7cc-9c21-485a-acd8-6d6e100d514b",
   "metadata": {},
   "outputs": [
    {
     "data": {
      "text/plain": [
       "0.10081881344492451"
      ]
     },
     "execution_count": 26,
     "metadata": {},
     "output_type": "execute_result"
    }
   ],
   "source": [
    "# 5회\n",
    "poisson_dist(5, 3)"
   ]
  },
  {
   "cell_type": "code",
   "execution_count": 27,
   "id": "e6e8c3a6-922e-4cdf-8a70-ecba5fd3cd81",
   "metadata": {},
   "outputs": [
    {
     "data": {
      "text/plain": [
       "0.2688501691864653"
      ]
     },
     "execution_count": 27,
     "metadata": {},
     "output_type": "execute_result"
    }
   ],
   "source": [
    "# 4~5회\n",
    "poisson_dist(4, 3) + poisson_dist(5, 3) # 26.89%"
   ]
  }
 ],
 "metadata": {
  "kernelspec": {
   "display_name": "Python 3 (ipykernel)",
   "language": "python",
   "name": "python3"
  },
  "language_info": {
   "codemirror_mode": {
    "name": "ipython",
    "version": 3
   },
   "file_extension": ".py",
   "mimetype": "text/x-python",
   "name": "python",
   "nbconvert_exporter": "python",
   "pygments_lexer": "ipython3",
   "version": "3.9.16"
  }
 },
 "nbformat": 4,
 "nbformat_minor": 5
}
