{
 "cells": [
  {
   "cell_type": "code",
   "execution_count": 1,
   "id": "0d5d096e-66d6-4d9f-827c-146a08c7f0da",
   "metadata": {},
   "outputs": [],
   "source": [
    "import numpy as np\n",
    "import pandas as pd\n",
    "\n",
    "from math import factorial, exp, sqrt\n",
    "import statistics\n",
    "import scipy as sp\n",
    "import scipy.stats\n",
    "\n",
    "import matplotlib.pyplot as plt\n",
    "import seaborn as sns\n",
    "\n",
    "# os 패키지를 통해 현재 디렉토리 위치를 변경하고, read_csv를 더 편리하게 할 수 있음\n",
    "import os\n",
    "os.getcwd() # 현재 디렉토리 파악\n",
    "# os.chdir(r\"______\") # 불러오고 싶은 파일이 위치한 주소를 ___에 입력\n",
    "\n",
    "# 다른 노트북 작성할 때도 이 셀만 떼서 사용 가능하다.\n",
    "import platform                \n",
    "\n",
    "# 웬만하면 해주는 것이 좋다.\n",
    "from matplotlib import font_manager, rc\n",
    "plt.rcParams['axes.unicode_minus'] = False\n",
    "\n",
    "if platform.system() == 'Darwin': #맥os 사용자의 경우에\n",
    "    plt.style.use('seaborn-darkgrid') \n",
    "    rc('font', family = 'AppleGothic')\n",
    "    \n",
    "elif platform.system() == 'Windows':#윈도우 사용자의 경우에\n",
    "    path = 'c:/Windows/Fonts/malgun.ttf'\n",
    "    font_name = font_manager.FontProperties(fname=path).get_name()\n",
    "    plt.style.use('seaborn-v0_8-whitegrid') # https://python-graph-gallery.co|m/199-matplotlib-style-sheets/\n",
    "    rc('font', family=font_name)"
   ]
  },
  {
   "cell_type": "markdown",
   "id": "89c2f403-d0dd-4fd4-82b5-2292f8be0300",
   "metadata": {},
   "source": [
    "## 1. 점추정 구간추정"
   ]
  },
  {
   "cell_type": "markdown",
   "id": "c0d655d9-feef-4a01-9100-ed775141c452",
   "metadata": {},
   "source": [
    "### 구간추정"
   ]
  },
  {
   "cell_type": "code",
   "execution_count": 2,
   "id": "5d1606a9-8e9c-428a-96c8-4c2afac40334",
   "metadata": {},
   "outputs": [],
   "source": [
    "def interval_est(x, se):\n",
    "    z = 1.64\n",
    "    a = x - (z * se)\n",
    "    b = x + (z * se)\n",
    "    print(f'90%: {a} <= u <= {b}')\n",
    "    \n",
    "    z = 1.96\n",
    "    a = x - (z * se)\n",
    "    b = x + (z * se)\n",
    "    print(f'95%: {a} <= u <= {b}')\n",
    "    \n",
    "    z = 2.58\n",
    "    a = x - (z * se)\n",
    "    b = x + (z * se)\n",
    "    print(f'99%: {a} <= u <= {b}')"
   ]
  },
  {
   "cell_type": "code",
   "execution_count": 3,
   "id": "ccc533da-8e13-4f53-ac22-fd3c674a1d35",
   "metadata": {},
   "outputs": [
    {
     "name": "stdout",
     "output_type": "stream",
     "text": [
      "90%: 336.0 <= u <= 664.0\n",
      "95%: 304.0 <= u <= 696.0\n",
      "99%: 242.0 <= u <= 758.0\n"
     ]
    }
   ],
   "source": [
    "interval_est(500, 100)"
   ]
  },
  {
   "cell_type": "markdown",
   "id": "8c75b45e-73e3-4792-87ab-b15eabbbab5a",
   "metadata": {},
   "source": [
    "## 2. 모평균의 구간추정"
   ]
  },
  {
   "cell_type": "markdown",
   "id": "a641f8f7-598d-4b9c-8dc4-57d19c391884",
   "metadata": {},
   "source": [
    "> z분포, t분포, 표본의 크기 결정"
   ]
  },
  {
   "cell_type": "markdown",
   "id": "c74be7f4-e68f-45c9-8666-f907b4fe84a5",
   "metadata": {
    "tags": []
   },
   "source": [
    "### 모집단의 표준편차를 아는 경우\n",
    "+ 실제에서는 거의 없다"
   ]
  },
  {
   "cell_type": "code",
   "execution_count": 4,
   "id": "268ec87a-2fce-4d76-8dd0-048168260b82",
   "metadata": {},
   "outputs": [],
   "source": [
    "def mean_interval(n, x, s):\n",
    "    a = x - 1.96 * (s / sqrt(n))\n",
    "    b = x + 1.96 * (s / sqrt(n))\n",
    "    \n",
    "    print(f'{a} <= u <= {b}')"
   ]
  },
  {
   "cell_type": "code",
   "execution_count": 5,
   "id": "84524d0a-9387-4ca3-b919-5b389c03e70f",
   "metadata": {},
   "outputs": [
    {
     "name": "stdout",
     "output_type": "stream",
     "text": [
      "29930.703535443718 <= u <= 30069.296464556282\n"
     ]
    }
   ],
   "source": [
    "mean_interval(200, 30000, 500)"
   ]
  },
  {
   "cell_type": "markdown",
   "id": "100b13c1-0a3e-4e2e-b143-fdc4cefbb96e",
   "metadata": {},
   "source": [
    "### 모집단의 표준편차를 모르는 경우\n",
    "+ t분포 이용"
   ]
  },
  {
   "cell_type": "code",
   "execution_count": 6,
   "id": "d958d6aa-2561-48bf-922b-475a41b2fb3c",
   "metadata": {},
   "outputs": [
    {
     "data": {
      "text/plain": [
       "(6.646940512883967, 6.363961030678928)"
      ]
     },
     "execution_count": 6,
     "metadata": {},
     "output_type": "execute_result"
    }
   ],
   "source": [
    "l1 = [168, 160, 170, 162, 168, 163, 164, 167, 175, 179, 161, 155]\n",
    "\n",
    "statistics.mean(l1)\n",
    "statistics.stdev(l1), np.std(l1)\n",
    "# statistics.variance(l1)"
   ]
  },
  {
   "cell_type": "code",
   "execution_count": 7,
   "id": "4b369828-485d-467f-b49f-9fa1529c0091",
   "metadata": {},
   "outputs": [],
   "source": [
    "def u_interval(list):\n",
    "    import statistics\n",
    "    x = statistics.mean(list)\n",
    "    s = statistics.stdev(list)\n",
    "    n = len(list)\n",
    "    \n",
    "    a = x - 2.201 * (s / sqrt(n))\n",
    "    b = x + 2.201 * (s / sqrt(n))\n",
    "    \n",
    "    print(f'{a} <= u <= {b}')"
   ]
  },
  {
   "cell_type": "code",
   "execution_count": 8,
   "id": "dba1eafa-05c1-4a34-8245-76ca0dc5ad20",
   "metadata": {},
   "outputs": [
    {
     "name": "stdout",
     "output_type": "stream",
     "text": [
      "161.7767070097117 <= u <= 170.2232929902883\n"
     ]
    }
   ],
   "source": [
    "u_interval(l1)"
   ]
  },
  {
   "cell_type": "markdown",
   "id": "63277158-f5f8-4f5c-be99-5edc1cdcca33",
   "metadata": {},
   "source": [
    "### 표본의 크기 결정"
   ]
  },
  {
   "cell_type": "code",
   "execution_count": 9,
   "id": "ccc1ed30-a3b4-453b-a2c3-6a5078e22b8d",
   "metadata": {},
   "outputs": [],
   "source": [
    "def sample_size(s, d):\n",
    "    n = ((2.58 * s) / d)**2\n",
    "    return n"
   ]
  },
  {
   "cell_type": "code",
   "execution_count": 10,
   "id": "cbeb2ddd-2f19-499c-b91a-fb938f6e7a4d",
   "metadata": {},
   "outputs": [
    {
     "data": {
      "text/plain": [
       "14.9769"
      ]
     },
     "execution_count": 10,
     "metadata": {},
     "output_type": "execute_result"
    }
   ],
   "source": [
    "sample_size(150, 100)"
   ]
  },
  {
   "cell_type": "code",
   "execution_count": 11,
   "id": "50d15d05-c4cc-49ea-a126-feb1b02a43f6",
   "metadata": {},
   "outputs": [
    {
     "data": {
      "text/plain": [
       "19.236996"
      ]
     },
     "execution_count": 11,
     "metadata": {},
     "output_type": "execute_result"
    }
   ],
   "source": [
    "sample_size(170, 100)"
   ]
  },
  {
   "cell_type": "markdown",
   "id": "b4c66787-f9bb-4d09-8504-a3674b8fcea5",
   "metadata": {
    "tags": []
   },
   "source": [
    "## 3. 모집단의 비율 및 분산의 구간추정"
   ]
  },
  {
   "cell_type": "markdown",
   "id": "0317c100-5c09-4a46-9caf-52e7a5db8957",
   "metadata": {},
   "source": [
    "### 모집단 비율의 구간추정"
   ]
  },
  {
   "cell_type": "code",
   "execution_count": 12,
   "id": "d04c85d8-58e3-4381-9241-8f5f0bd550af",
   "metadata": {},
   "outputs": [],
   "source": [
    "def prob_interval(n, t):\n",
    "    p = t / n\n",
    "    a = p - 1.96 * sqrt((p * (1 - p)) / n)\n",
    "    b = p + 1.96 * sqrt((p * (1 - p)) / n)\n",
    "    \n",
    "    print(f'{a} <= p <= {b}')"
   ]
  },
  {
   "cell_type": "code",
   "execution_count": 13,
   "id": "8ca09b74-b8db-4ea1-9cac-c5d96af7df68",
   "metadata": {},
   "outputs": [
    {
     "name": "stdout",
     "output_type": "stream",
     "text": [
      "0.009895976304936237 <= p <= 0.11997415356519361\n"
     ]
    }
   ],
   "source": [
    "prob_interval(77, 5)"
   ]
  },
  {
   "cell_type": "markdown",
   "id": "d6e47671-2afe-4576-b10f-e23a7ae31237",
   "metadata": {},
   "source": [
    "### 표본의 크기 결정"
   ]
  },
  {
   "cell_type": "code",
   "execution_count": 14,
   "id": "cf0b1e98-718e-4821-8163-6784d1a1635a",
   "metadata": {},
   "outputs": [],
   "source": [
    "def sample_size(p, d):\n",
    "    n = p * (1 - p) * (1.96 / d)**2\n",
    "    return n"
   ]
  },
  {
   "cell_type": "code",
   "execution_count": 15,
   "id": "77af35f3-93f7-40e4-b275-20b29dc1e46f",
   "metadata": {},
   "outputs": [
    {
     "data": {
      "text/plain": [
       "72.99040000000005"
      ]
     },
     "execution_count": 15,
     "metadata": {},
     "output_type": "execute_result"
    }
   ],
   "source": [
    "sample_size(.95, 0.05)"
   ]
  },
  {
   "cell_type": "markdown",
   "id": "26817c76-2211-4f2d-9b68-4aa288bea6c0",
   "metadata": {},
   "source": [
    "### 모집단 분산의 구간추정"
   ]
  },
  {
   "cell_type": "code",
   "execution_count": 16,
   "id": "a8357ff8-47df-46e3-b630-026e873877ac",
   "metadata": {},
   "outputs": [],
   "source": [
    "def var_interval(n, ss):\n",
    "    a = ((n - 1) * ss) / 70.22\n",
    "    b = ((n - 1) * ss) / 31.55\n",
    "    print(f'{a} <= 모분산 <= {b}')"
   ]
  },
  {
   "cell_type": "code",
   "execution_count": 17,
   "id": "39275ae8-62a2-4ed3-a176-13a734ccd2ac",
   "metadata": {},
   "outputs": [
    {
     "name": "stdout",
     "output_type": "stream",
     "text": [
      "1.7445172315579607 <= 모분산 <= 3.882725832012678\n"
     ]
    }
   ],
   "source": [
    "var_interval(50, 2.5)"
   ]
  }
 ],
 "metadata": {
  "kernelspec": {
   "display_name": "Python 3 (ipykernel)",
   "language": "python",
   "name": "python3"
  },
  "language_info": {
   "codemirror_mode": {
    "name": "ipython",
    "version": 3
   },
   "file_extension": ".py",
   "mimetype": "text/x-python",
   "name": "python",
   "nbconvert_exporter": "python",
   "pygments_lexer": "ipython3",
   "version": "3.9.16"
  }
 },
 "nbformat": 4,
 "nbformat_minor": 5
}
