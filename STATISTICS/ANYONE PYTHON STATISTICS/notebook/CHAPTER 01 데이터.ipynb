{
 "cells": [
  {
   "cell_type": "code",
   "execution_count": 1,
   "id": "776d1245",
   "metadata": {
    "ExecuteTime": {
     "end_time": "2023-01-19T12:36:00.322615Z",
     "start_time": "2023-01-19T12:35:58.198269Z"
    }
   },
   "outputs": [],
   "source": [
    "import pandas as pd"
   ]
  },
  {
   "cell_type": "code",
   "execution_count": 3,
   "id": "652209bc",
   "metadata": {
    "ExecuteTime": {
     "end_time": "2023-01-19T12:37:24.210642Z",
     "start_time": "2023-01-19T12:37:24.178494Z"
    }
   },
   "outputs": [
    {
     "data": {
      "text/html": [
       "<div>\n",
       "<style scoped>\n",
       "    .dataframe tbody tr th:only-of-type {\n",
       "        vertical-align: middle;\n",
       "    }\n",
       "\n",
       "    .dataframe tbody tr th {\n",
       "        vertical-align: top;\n",
       "    }\n",
       "\n",
       "    .dataframe thead th {\n",
       "        text-align: right;\n",
       "    }\n",
       "</style>\n",
       "<table border=\"1\" class=\"dataframe\">\n",
       "  <thead>\n",
       "    <tr style=\"text-align: right;\">\n",
       "      <th></th>\n",
       "      <th>학년</th>\n",
       "      <th>악력</th>\n",
       "      <th>윗몸일으키기</th>\n",
       "      <th>점수</th>\n",
       "      <th>순위</th>\n",
       "    </tr>\n",
       "    <tr>\n",
       "      <th>학생번호</th>\n",
       "      <th></th>\n",
       "      <th></th>\n",
       "      <th></th>\n",
       "      <th></th>\n",
       "      <th></th>\n",
       "    </tr>\n",
       "  </thead>\n",
       "  <tbody>\n",
       "    <tr>\n",
       "      <th>1</th>\n",
       "      <td>1</td>\n",
       "      <td>40.2</td>\n",
       "      <td>34</td>\n",
       "      <td>15</td>\n",
       "      <td>4</td>\n",
       "    </tr>\n",
       "    <tr>\n",
       "      <th>2</th>\n",
       "      <td>1</td>\n",
       "      <td>34.2</td>\n",
       "      <td>14</td>\n",
       "      <td>7</td>\n",
       "      <td>10</td>\n",
       "    </tr>\n",
       "    <tr>\n",
       "      <th>3</th>\n",
       "      <td>1</td>\n",
       "      <td>28.8</td>\n",
       "      <td>27</td>\n",
       "      <td>11</td>\n",
       "      <td>7</td>\n",
       "    </tr>\n",
       "    <tr>\n",
       "      <th>4</th>\n",
       "      <td>2</td>\n",
       "      <td>39.0</td>\n",
       "      <td>27</td>\n",
       "      <td>14</td>\n",
       "      <td>5</td>\n",
       "    </tr>\n",
       "    <tr>\n",
       "      <th>5</th>\n",
       "      <td>2</td>\n",
       "      <td>50.9</td>\n",
       "      <td>32</td>\n",
       "      <td>17</td>\n",
       "      <td>2</td>\n",
       "    </tr>\n",
       "    <tr>\n",
       "      <th>6</th>\n",
       "      <td>2</td>\n",
       "      <td>36.5</td>\n",
       "      <td>20</td>\n",
       "      <td>9</td>\n",
       "      <td>9</td>\n",
       "    </tr>\n",
       "    <tr>\n",
       "      <th>7</th>\n",
       "      <td>3</td>\n",
       "      <td>36.6</td>\n",
       "      <td>31</td>\n",
       "      <td>13</td>\n",
       "      <td>6</td>\n",
       "    </tr>\n",
       "    <tr>\n",
       "      <th>8</th>\n",
       "      <td>3</td>\n",
       "      <td>49.2</td>\n",
       "      <td>37</td>\n",
       "      <td>18</td>\n",
       "      <td>1</td>\n",
       "    </tr>\n",
       "    <tr>\n",
       "      <th>9</th>\n",
       "      <td>3</td>\n",
       "      <td>26.0</td>\n",
       "      <td>28</td>\n",
       "      <td>10</td>\n",
       "      <td>8</td>\n",
       "    </tr>\n",
       "    <tr>\n",
       "      <th>10</th>\n",
       "      <td>3</td>\n",
       "      <td>47.4</td>\n",
       "      <td>32</td>\n",
       "      <td>16</td>\n",
       "      <td>3</td>\n",
       "    </tr>\n",
       "  </tbody>\n",
       "</table>\n",
       "</div>"
      ],
      "text/plain": [
       "      학년    악력  윗몸일으키기  점수  순위\n",
       "학생번호                          \n",
       "1      1  40.2      34  15   4\n",
       "2      1  34.2      14   7  10\n",
       "3      1  28.8      27  11   7\n",
       "4      2  39.0      27  14   5\n",
       "5      2  50.9      32  17   2\n",
       "6      2  36.5      20   9   9\n",
       "7      3  36.6      31  13   6\n",
       "8      3  49.2      37  18   1\n",
       "9      3  26.0      28  10   8\n",
       "10     3  47.4      32  16   3"
      ]
     },
     "execution_count": 3,
     "metadata": {},
     "output_type": "execute_result"
    }
   ],
   "source": [
    "df = pd.read_csv('../data/ch1_sport_test.csv', index_col='학생번호')\n",
    "df"
   ]
  },
  {
   "cell_type": "code",
   "execution_count": 4,
   "id": "7cf1b3bb",
   "metadata": {
    "ExecuteTime": {
     "end_time": "2023-01-19T12:37:37.627229Z",
     "start_time": "2023-01-19T12:37:37.610162Z"
    }
   },
   "outputs": [
    {
     "data": {
      "text/plain": [
       "학생번호\n",
       "1     40.2\n",
       "2     34.2\n",
       "3     28.8\n",
       "4     39.0\n",
       "5     50.9\n",
       "6     36.5\n",
       "7     36.6\n",
       "8     49.2\n",
       "9     26.0\n",
       "10    47.4\n",
       "Name: 악력, dtype: float64"
      ]
     },
     "execution_count": 4,
     "metadata": {},
     "output_type": "execute_result"
    }
   ],
   "source": [
    "df['악력']"
   ]
  },
  {
   "cell_type": "markdown",
   "id": "66deef14",
   "metadata": {},
   "source": [
    "## 1.1 데이터의 크기"
   ]
  },
  {
   "cell_type": "code",
   "execution_count": 5,
   "id": "470637c8",
   "metadata": {
    "ExecuteTime": {
     "end_time": "2023-01-19T12:41:39.703098Z",
     "start_time": "2023-01-19T12:41:39.684908Z"
    }
   },
   "outputs": [
    {
     "data": {
      "text/plain": [
       "(10, 5)"
      ]
     },
     "execution_count": 5,
     "metadata": {},
     "output_type": "execute_result"
    }
   ],
   "source": [
    "df.shape"
   ]
  },
  {
   "cell_type": "markdown",
   "id": "ebcbcd1a",
   "metadata": {},
   "source": [
    "## 1.2 변수의 종류"
   ]
  },
  {
   "cell_type": "markdown",
   "id": "2e47c579",
   "metadata": {},
   "source": [
    "### 1.2.1 질적 변수와 양적 변수\n",
    "\n",
    "+ 질적 변수\n",
    "        - 종류를 구별하기 위한 변수(설문조사 만족도, 혈액형)\n",
    "    - 값이 2개뿐인 질적 변수를 2진변수라 한다\n",
    " \n",
    "+ 양적 변수\n",
    "    - 양을 표현하는 변수(시험 점수, 신장)\n",
    "    - 수치 변수라 해서 전부 양적 변수인 것은 아니다(남성은 0, 여성은 1)"
   ]
  },
  {
   "cell_type": "markdown",
   "id": "cef13146",
   "metadata": {},
   "source": [
    "### 1.2.2 척도 수준\n",
    "\n",
    "+ 질적 변수\n",
    "    - 명의 척도\n",
    "        * 단순히 분류하기 위한 변수(학생번호, 전화번호, 성별 등)\n",
    "        * 목적: 구별하는 것. 변수의 동일성 여부에만 의미를 둠\n",
    "\n",
    "    - 순서 척도\n",
    "        * 순서 관계나 대소 관계에 의미가 있는 변수(성적 순위, 설문조사의 만족도 등)\n",
    "\n",
    "+ 양적 변수\n",
    "    - 간척 척도\n",
    "        * 대소 관계와 함께 그 차이에도 의미를 두는 변수(연도, 온도)\n",
    "\n",
    "    - 비례 척도\n",
    "        * 대소 관계, 차이, 비 모두에 의미가 있는 변수(길이, 무게)"
   ]
  },
  {
   "cell_type": "markdown",
   "id": "f3e05f5b",
   "metadata": {},
   "source": [
    "> 간격 척도와 비례 척도는 0이 '없음'을 나타내는지 여부를 판단\n",
    ">\n",
    "> 길이에서 0cm는 길이가 없음을 나타냄\n",
    ">\n",
    "> 온도에서 0C는 온도가 없다는 뜻이 아님"
   ]
  },
  {
   "cell_type": "markdown",
   "id": "832b0f48",
   "metadata": {},
   "source": [
    "### 1.2.3 이산형 변수와 연속형 변수\n",
    "\n",
    "+ 이산형 변수\n",
    "    - 0, 1, 2 ...와 같이 하나하나의 값을 취하는 변수\n",
    "    - 서로 인접한 숫자 사이에 값이 존재하지 않음\n",
    "    - 주사위의 눈, 학교를 결석한 횟수, 결석한 학생 수\n",
    "    \n",
    "+ 연속형 변수\n",
    "    - 연속적인 값을 취할 수 있는 변수\n",
    "    - 어떤 두 숫자 사이에도 반드시 숫자가 존재\n",
    "    - 길이, 무게, 시간 등\n",
    "    \n"
   ]
  },
  {
   "cell_type": "markdown",
   "id": "ba682451",
   "metadata": {},
   "source": [
    "변수의 분류는 변수의 성질을 파악하는 지식에 의존하므로, 분석가의 판단이 필요하다."
   ]
  }
 ],
 "metadata": {
  "hide_input": false,
  "kernelspec": {
   "display_name": "Python 3",
   "language": "python",
   "name": "python3"
  },
  "language_info": {
   "codemirror_mode": {
    "name": "ipython",
    "version": 3
   },
   "file_extension": ".py",
   "mimetype": "text/x-python",
   "name": "python",
   "nbconvert_exporter": "python",
   "pygments_lexer": "ipython3",
   "version": "3.7.13"
  },
  "toc": {
   "base_numbering": 1,
   "nav_menu": {},
   "number_sections": true,
   "sideBar": true,
   "skip_h1_title": true,
   "title_cell": "Table of Contents",
   "title_sidebar": "Contents",
   "toc_cell": false,
   "toc_position": {},
   "toc_section_display": true,
   "toc_window_display": true
  }
 },
 "nbformat": 4,
 "nbformat_minor": 5
}
