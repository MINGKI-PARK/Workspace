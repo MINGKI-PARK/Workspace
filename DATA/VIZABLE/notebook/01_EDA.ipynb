{
 "cells": [
  {
   "cell_type": "code",
   "execution_count": 1,
   "id": "02dccdc4",
   "metadata": {
    "ExecuteTime": {
     "end_time": "2023-02-06T11:44:39.934640Z",
     "start_time": "2023-02-06T11:44:37.107757Z"
    }
   },
   "outputs": [],
   "source": [
    "import pandas as pd\n",
    "import numpy as np\n",
    "import matplotlib.pyplot as plt \n",
    "import seaborn as sns\n",
    "\n",
    "# notebook을 실행한 브라우저에서 바로 그림을 볼 수 있게 해주는 라인\n",
    "%matplotlib inline\n",
    "\n",
    "# 커널을 구성하다보면 에러는 아니지만, 빨간색 네모 박스 warning이 뜨는 경우를 제거 \n",
    "import warnings\n",
    "warnings.filterwarnings('ignore')\n",
    "\n",
    "# 다른 노트북 작성할 때도 이 셀만 떼서 사용 가능하다.\n",
    "import matplotlib.pyplot as plt \n",
    "import platform                \n",
    "\n",
    "# 웬만하면 해주는 것이 좋다.\n",
    "from matplotlib import font_manager, rc\n",
    "plt.rcParams['axes.unicode_minus']= False\n",
    "\n",
    "if platform.system() == 'Darwin': # 맥os 사용자의 경우에\n",
    "    plt.style.use('seaborn-darkgrid') \n",
    "    rc('font', family = 'AppleGothic')\n",
    "    \n",
    "elif platform.system() == 'Windows':# 윈도우 사용자의 경우에\n",
    "    path = 'c:/Windows/Fonts/malgun.ttf'\n",
    "    font_name = font_manager.FontProperties(fname=path).get_name()\n",
    "    plt.style.use('seaborn-darkgrid') # https://python-graph-gallery.com/199-matplotlib-style-sheets/\n",
    "    rc('font', family=font_name)"
   ]
  },
  {
   "cell_type": "code",
   "execution_count": 2,
   "id": "ce9605bd",
   "metadata": {
    "ExecuteTime": {
     "end_time": "2023-02-06T11:44:40.125236Z",
     "start_time": "2023-02-06T11:44:39.940632Z"
    }
   },
   "outputs": [
    {
     "data": {
      "text/html": [
       "<div>\n",
       "<style scoped>\n",
       "    .dataframe tbody tr th:only-of-type {\n",
       "        vertical-align: middle;\n",
       "    }\n",
       "\n",
       "    .dataframe tbody tr th {\n",
       "        vertical-align: top;\n",
       "    }\n",
       "\n",
       "    .dataframe thead th {\n",
       "        text-align: right;\n",
       "    }\n",
       "</style>\n",
       "<table border=\"1\" class=\"dataframe\">\n",
       "  <thead>\n",
       "    <tr style=\"text-align: right;\">\n",
       "      <th></th>\n",
       "      <th>행 ID</th>\n",
       "      <th>주문 ID</th>\n",
       "      <th>주문 날짜</th>\n",
       "      <th>배송 날짜</th>\n",
       "      <th>배송 형태</th>\n",
       "      <th>고객 ID</th>\n",
       "      <th>고객 이름</th>\n",
       "      <th>세그먼트</th>\n",
       "      <th>도시</th>\n",
       "      <th>시/도</th>\n",
       "      <th>국가/지역</th>\n",
       "      <th>지역</th>\n",
       "      <th>제품 ID</th>\n",
       "      <th>범주</th>\n",
       "      <th>하위 범주</th>\n",
       "      <th>제품 이름</th>\n",
       "      <th>매출</th>\n",
       "      <th>수량</th>\n",
       "      <th>할인율</th>\n",
       "      <th>수익</th>\n",
       "    </tr>\n",
       "  </thead>\n",
       "  <tbody>\n",
       "    <tr>\n",
       "      <th>0</th>\n",
       "      <td>1</td>\n",
       "      <td>IN-2020-27828</td>\n",
       "      <td>2020-08-27</td>\n",
       "      <td>2020-08-31</td>\n",
       "      <td>표준 등급</td>\n",
       "      <td>VT-21700</td>\n",
       "      <td>Valerie Takahito</td>\n",
       "      <td>홈 오피스</td>\n",
       "      <td>Quanzhou</td>\n",
       "      <td>Fujian</td>\n",
       "      <td>China</td>\n",
       "      <td>북아시아</td>\n",
       "      <td>OFF-PA-10000026</td>\n",
       "      <td>사무용품</td>\n",
       "      <td>용지</td>\n",
       "      <td>Eaton Cards &amp; Envelopes, 8.5 x 11</td>\n",
       "      <td>197.280</td>\n",
       "      <td>4</td>\n",
       "      <td>0.00</td>\n",
       "      <td>35.400</td>\n",
       "    </tr>\n",
       "    <tr>\n",
       "      <th>1</th>\n",
       "      <td>2</td>\n",
       "      <td>IN-2020-27828</td>\n",
       "      <td>2020-08-27</td>\n",
       "      <td>2020-08-31</td>\n",
       "      <td>표준 등급</td>\n",
       "      <td>VT-21700</td>\n",
       "      <td>Valerie Takahito</td>\n",
       "      <td>홈 오피스</td>\n",
       "      <td>Quanzhou</td>\n",
       "      <td>Fujian</td>\n",
       "      <td>China</td>\n",
       "      <td>북아시아</td>\n",
       "      <td>FUR-FU-10000944</td>\n",
       "      <td>가구</td>\n",
       "      <td>사무용 집기</td>\n",
       "      <td>Tenex Door Stop, Black</td>\n",
       "      <td>307.230</td>\n",
       "      <td>7</td>\n",
       "      <td>0.00</td>\n",
       "      <td>21.420</td>\n",
       "    </tr>\n",
       "    <tr>\n",
       "      <th>2</th>\n",
       "      <td>3</td>\n",
       "      <td>IN-2020-27828</td>\n",
       "      <td>2020-08-27</td>\n",
       "      <td>2020-08-31</td>\n",
       "      <td>표준 등급</td>\n",
       "      <td>VT-21700</td>\n",
       "      <td>Valerie Takahito</td>\n",
       "      <td>홈 오피스</td>\n",
       "      <td>Quanzhou</td>\n",
       "      <td>Fujian</td>\n",
       "      <td>China</td>\n",
       "      <td>북아시아</td>\n",
       "      <td>TEC-CO-10002526</td>\n",
       "      <td>기술</td>\n",
       "      <td>복사기</td>\n",
       "      <td>Sharp Wireless Fax, Digital</td>\n",
       "      <td>1422.240</td>\n",
       "      <td>4</td>\n",
       "      <td>0.00</td>\n",
       "      <td>526.200</td>\n",
       "    </tr>\n",
       "    <tr>\n",
       "      <th>3</th>\n",
       "      <td>4</td>\n",
       "      <td>IN-2020-27828</td>\n",
       "      <td>2020-08-27</td>\n",
       "      <td>2020-08-31</td>\n",
       "      <td>표준 등급</td>\n",
       "      <td>VT-21700</td>\n",
       "      <td>Valerie Takahito</td>\n",
       "      <td>홈 오피스</td>\n",
       "      <td>Quanzhou</td>\n",
       "      <td>Fujian</td>\n",
       "      <td>China</td>\n",
       "      <td>북아시아</td>\n",
       "      <td>TEC-AC-10002255</td>\n",
       "      <td>기술</td>\n",
       "      <td>액세서리</td>\n",
       "      <td>Memorex Keyboard, Erganomic</td>\n",
       "      <td>207.450</td>\n",
       "      <td>3</td>\n",
       "      <td>0.00</td>\n",
       "      <td>78.750</td>\n",
       "    </tr>\n",
       "    <tr>\n",
       "      <th>4</th>\n",
       "      <td>5</td>\n",
       "      <td>IN-2021-63178</td>\n",
       "      <td>2021-06-24</td>\n",
       "      <td>2021-06-30</td>\n",
       "      <td>표준 등급</td>\n",
       "      <td>SO-20335</td>\n",
       "      <td>Sean O'Donnell</td>\n",
       "      <td>일반 소비자</td>\n",
       "      <td>Marikina</td>\n",
       "      <td>Metro Manila</td>\n",
       "      <td>Philippines</td>\n",
       "      <td>동남아시아</td>\n",
       "      <td>OFF-AP-10002882</td>\n",
       "      <td>사무용품</td>\n",
       "      <td>가전 제품</td>\n",
       "      <td>KitchenAid Coffee Grinder, Silver</td>\n",
       "      <td>121.074</td>\n",
       "      <td>2</td>\n",
       "      <td>0.15</td>\n",
       "      <td>37.014</td>\n",
       "    </tr>\n",
       "  </tbody>\n",
       "</table>\n",
       "</div>"
      ],
      "text/plain": [
       "   행 ID          주문 ID       주문 날짜       배송 날짜  배송 형태     고객 ID  \\\n",
       "0     1  IN-2020-27828  2020-08-27  2020-08-31  표준 등급  VT-21700   \n",
       "1     2  IN-2020-27828  2020-08-27  2020-08-31  표준 등급  VT-21700   \n",
       "2     3  IN-2020-27828  2020-08-27  2020-08-31  표준 등급  VT-21700   \n",
       "3     4  IN-2020-27828  2020-08-27  2020-08-31  표준 등급  VT-21700   \n",
       "4     5  IN-2021-63178  2021-06-24  2021-06-30  표준 등급  SO-20335   \n",
       "\n",
       "              고객 이름    세그먼트        도시           시/도        국가/지역     지역  \\\n",
       "0  Valerie Takahito   홈 오피스  Quanzhou        Fujian        China   북아시아   \n",
       "1  Valerie Takahito   홈 오피스  Quanzhou        Fujian        China   북아시아   \n",
       "2  Valerie Takahito   홈 오피스  Quanzhou        Fujian        China   북아시아   \n",
       "3  Valerie Takahito   홈 오피스  Quanzhou        Fujian        China   북아시아   \n",
       "4    Sean O'Donnell  일반 소비자  Marikina  Metro Manila  Philippines  동남아시아   \n",
       "\n",
       "             제품 ID    범주   하위 범주                              제품 이름        매출  \\\n",
       "0  OFF-PA-10000026  사무용품      용지  Eaton Cards & Envelopes, 8.5 x 11   197.280   \n",
       "1  FUR-FU-10000944    가구  사무용 집기             Tenex Door Stop, Black   307.230   \n",
       "2  TEC-CO-10002526    기술     복사기        Sharp Wireless Fax, Digital  1422.240   \n",
       "3  TEC-AC-10002255    기술    액세서리        Memorex Keyboard, Erganomic   207.450   \n",
       "4  OFF-AP-10002882  사무용품   가전 제품  KitchenAid Coffee Grinder, Silver   121.074   \n",
       "\n",
       "   수량   할인율       수익  \n",
       "0   4  0.00   35.400  \n",
       "1   7  0.00   21.420  \n",
       "2   4  0.00  526.200  \n",
       "3   3  0.00   78.750  \n",
       "4   2  0.15   37.014  "
      ]
     },
     "execution_count": 2,
     "metadata": {},
     "output_type": "execute_result"
    }
   ],
   "source": [
    "df_order = pd.read_csv('../data/슈퍼스토어 - 샘플.xls - 주문.csv')\n",
    "df_order.head()"
   ]
  },
  {
   "cell_type": "code",
   "execution_count": 3,
   "id": "1199e488",
   "metadata": {
    "ExecuteTime": {
     "end_time": "2023-02-06T11:44:40.141194Z",
     "start_time": "2023-02-06T11:44:40.128229Z"
    }
   },
   "outputs": [
    {
     "data": {
      "text/plain": [
       "(10933, 20)"
      ]
     },
     "execution_count": 3,
     "metadata": {},
     "output_type": "execute_result"
    }
   ],
   "source": [
    "df_order.shape"
   ]
  },
  {
   "cell_type": "code",
   "execution_count": 4,
   "id": "e7b27736",
   "metadata": {
    "ExecuteTime": {
     "end_time": "2023-02-06T11:44:40.203261Z",
     "start_time": "2023-02-06T11:44:40.149174Z"
    }
   },
   "outputs": [
    {
     "data": {
      "text/html": [
       "<div>\n",
       "<style scoped>\n",
       "    .dataframe tbody tr th:only-of-type {\n",
       "        vertical-align: middle;\n",
       "    }\n",
       "\n",
       "    .dataframe tbody tr th {\n",
       "        vertical-align: top;\n",
       "    }\n",
       "\n",
       "    .dataframe thead th {\n",
       "        text-align: right;\n",
       "    }\n",
       "</style>\n",
       "<table border=\"1\" class=\"dataframe\">\n",
       "  <thead>\n",
       "    <tr style=\"text-align: right;\">\n",
       "      <th></th>\n",
       "      <th>주문 ID</th>\n",
       "      <th>반품</th>\n",
       "    </tr>\n",
       "  </thead>\n",
       "  <tbody>\n",
       "    <tr>\n",
       "      <th>0</th>\n",
       "      <td>ID-2018-17286</td>\n",
       "      <td>예</td>\n",
       "    </tr>\n",
       "    <tr>\n",
       "      <th>1</th>\n",
       "      <td>ID-2018-17286</td>\n",
       "      <td>예</td>\n",
       "    </tr>\n",
       "    <tr>\n",
       "      <th>2</th>\n",
       "      <td>ID-2018-20604</td>\n",
       "      <td>예</td>\n",
       "    </tr>\n",
       "    <tr>\n",
       "      <th>3</th>\n",
       "      <td>ID-2018-20604</td>\n",
       "      <td>예</td>\n",
       "    </tr>\n",
       "    <tr>\n",
       "      <th>4</th>\n",
       "      <td>ID-2018-20604</td>\n",
       "      <td>예</td>\n",
       "    </tr>\n",
       "  </tbody>\n",
       "</table>\n",
       "</div>"
      ],
      "text/plain": [
       "           주문 ID 반품\n",
       "0  ID-2018-17286  예\n",
       "1  ID-2018-17286  예\n",
       "2  ID-2018-20604  예\n",
       "3  ID-2018-20604  예\n",
       "4  ID-2018-20604  예"
      ]
     },
     "execution_count": 4,
     "metadata": {},
     "output_type": "execute_result"
    }
   ],
   "source": [
    "df_return = pd.read_csv('../data/슈퍼스토어 - 샘플.xls - 반품 정리.csv')\n",
    "df_return.head()"
   ]
  },
  {
   "cell_type": "code",
   "execution_count": 5,
   "id": "f76d62b5",
   "metadata": {
    "ExecuteTime": {
     "end_time": "2023-02-06T11:44:40.251130Z",
     "start_time": "2023-02-06T11:44:40.206254Z"
    }
   },
   "outputs": [
    {
     "data": {
      "text/html": [
       "<div>\n",
       "<style scoped>\n",
       "    .dataframe tbody tr th:only-of-type {\n",
       "        vertical-align: middle;\n",
       "    }\n",
       "\n",
       "    .dataframe tbody tr th {\n",
       "        vertical-align: top;\n",
       "    }\n",
       "\n",
       "    .dataframe thead th {\n",
       "        text-align: right;\n",
       "    }\n",
       "</style>\n",
       "<table border=\"1\" class=\"dataframe\">\n",
       "  <thead>\n",
       "    <tr style=\"text-align: right;\">\n",
       "      <th></th>\n",
       "      <th>사람</th>\n",
       "      <th>지역</th>\n",
       "    </tr>\n",
       "  </thead>\n",
       "  <tbody>\n",
       "    <tr>\n",
       "      <th>0</th>\n",
       "      <td>Sanjit Engle</td>\n",
       "      <td>동남아시아</td>\n",
       "    </tr>\n",
       "    <tr>\n",
       "      <th>1</th>\n",
       "      <td>Maribeth Dona</td>\n",
       "      <td>중앙아시아</td>\n",
       "    </tr>\n",
       "    <tr>\n",
       "      <th>2</th>\n",
       "      <td>Alex Avila</td>\n",
       "      <td>북아시아</td>\n",
       "    </tr>\n",
       "    <tr>\n",
       "      <th>3</th>\n",
       "      <td>Nora Pelletier</td>\n",
       "      <td>오세아니아</td>\n",
       "    </tr>\n",
       "  </tbody>\n",
       "</table>\n",
       "</div>"
      ],
      "text/plain": [
       "               사람     지역\n",
       "0    Sanjit Engle  동남아시아\n",
       "1   Maribeth Dona  중앙아시아\n",
       "2      Alex Avila   북아시아\n",
       "3  Nora Pelletier  오세아니아"
      ]
     },
     "execution_count": 5,
     "metadata": {},
     "output_type": "execute_result"
    }
   ],
   "source": [
    "df_human = pd.read_csv('../data/슈퍼스토어 - 샘플.xls - 인력.csv')\n",
    "df_human.head()"
   ]
  },
  {
   "cell_type": "code",
   "execution_count": 6,
   "id": "982a5666",
   "metadata": {
    "ExecuteTime": {
     "end_time": "2023-02-06T11:44:40.282046Z",
     "start_time": "2023-02-06T11:44:40.257112Z"
    }
   },
   "outputs": [
    {
     "data": {
      "text/plain": [
       "array(['China', 'Philippines', 'India', 'Japan', 'Australia', 'Indonesia',\n",
       "       'Vietnam', 'Malaysia', 'Thailand', 'Cambodia', 'Pakistan',\n",
       "       'Myanmar (Burma)', 'South Korea', 'Nepal', 'Afghanistan',\n",
       "       'Bangladesh', 'Singapore', 'Sri Lanka', 'Papua New Guinea',\n",
       "       'Mongolia', 'Taiwan', 'New Zealand'], dtype=object)"
      ]
     },
     "execution_count": 6,
     "metadata": {},
     "output_type": "execute_result"
    }
   ],
   "source": [
    "df_order['국가/지역'].unique()"
   ]
  },
  {
   "cell_type": "code",
   "execution_count": 7,
   "id": "5af74c14",
   "metadata": {
    "ExecuteTime": {
     "end_time": "2023-02-06T11:44:40.313970Z",
     "start_time": "2023-02-06T11:44:40.285038Z"
    }
   },
   "outputs": [
    {
     "data": {
      "text/plain": [
       "1261"
      ]
     },
     "execution_count": 7,
     "metadata": {},
     "output_type": "execute_result"
    }
   ],
   "source": [
    "df_order['주문 날짜'].nunique()"
   ]
  },
  {
   "cell_type": "code",
   "execution_count": 8,
   "id": "ceb816d0",
   "metadata": {
    "ExecuteTime": {
     "end_time": "2023-02-06T11:44:40.360835Z",
     "start_time": "2023-02-06T11:44:40.316952Z"
    }
   },
   "outputs": [
    {
     "data": {
      "text/plain": [
       "행 ID     0\n",
       "주문 ID    0\n",
       "주문 날짜    0\n",
       "배송 날짜    0\n",
       "배송 형태    0\n",
       "고객 ID    0\n",
       "고객 이름    0\n",
       "세그먼트     0\n",
       "도시       0\n",
       "시/도      0\n",
       "국가/지역    0\n",
       "지역       0\n",
       "제품 ID    0\n",
       "범주       0\n",
       "하위 범주    0\n",
       "제품 이름    0\n",
       "매출       0\n",
       "수량       0\n",
       "할인율      0\n",
       "수익       0\n",
       "dtype: int64"
      ]
     },
     "execution_count": 8,
     "metadata": {},
     "output_type": "execute_result"
    }
   ],
   "source": [
    "df_order.isnull().sum()"
   ]
  },
  {
   "cell_type": "code",
   "execution_count": 9,
   "id": "f8e06f54",
   "metadata": {
    "ExecuteTime": {
     "end_time": "2023-02-06T11:44:40.392086Z",
     "start_time": "2023-02-06T11:44:40.365821Z"
    }
   },
   "outputs": [
    {
     "data": {
      "text/plain": [
       "주문 ID    0\n",
       "반품       0\n",
       "dtype: int64"
      ]
     },
     "execution_count": 9,
     "metadata": {},
     "output_type": "execute_result"
    }
   ],
   "source": [
    "df_return.isnull().sum()"
   ]
  },
  {
   "cell_type": "code",
   "execution_count": 10,
   "id": "f6f6ef63",
   "metadata": {
    "ExecuteTime": {
     "end_time": "2023-02-06T11:44:40.424010Z",
     "start_time": "2023-02-06T11:44:40.400073Z"
    }
   },
   "outputs": [
    {
     "data": {
      "text/plain": [
       "296"
      ]
     },
     "execution_count": 10,
     "metadata": {},
     "output_type": "execute_result"
    }
   ],
   "source": [
    "df_return['주문 ID'].nunique()"
   ]
  },
  {
   "cell_type": "code",
   "execution_count": 11,
   "id": "367901b0",
   "metadata": {
    "ExecuteTime": {
     "end_time": "2023-02-06T11:44:40.439966Z",
     "start_time": "2023-02-06T11:44:40.430991Z"
    }
   },
   "outputs": [
    {
     "data": {
      "text/plain": [
       "(10933, 20)"
      ]
     },
     "execution_count": 11,
     "metadata": {},
     "output_type": "execute_result"
    }
   ],
   "source": [
    "df_order.shape"
   ]
  },
  {
   "cell_type": "code",
   "execution_count": 12,
   "id": "6568d6a4",
   "metadata": {
    "ExecuteTime": {
     "end_time": "2023-02-06T11:44:40.487837Z",
     "start_time": "2023-02-06T11:44:40.445966Z"
    }
   },
   "outputs": [
    {
     "data": {
      "text/html": [
       "<div>\n",
       "<style scoped>\n",
       "    .dataframe tbody tr th:only-of-type {\n",
       "        vertical-align: middle;\n",
       "    }\n",
       "\n",
       "    .dataframe tbody tr th {\n",
       "        vertical-align: top;\n",
       "    }\n",
       "\n",
       "    .dataframe thead th {\n",
       "        text-align: right;\n",
       "    }\n",
       "</style>\n",
       "<table border=\"1\" class=\"dataframe\">\n",
       "  <thead>\n",
       "    <tr style=\"text-align: right;\">\n",
       "      <th></th>\n",
       "      <th>행 ID</th>\n",
       "      <th>매출</th>\n",
       "      <th>수량</th>\n",
       "      <th>할인율</th>\n",
       "      <th>수익</th>\n",
       "    </tr>\n",
       "  </thead>\n",
       "  <tbody>\n",
       "    <tr>\n",
       "      <th>count</th>\n",
       "      <td>10933.000000</td>\n",
       "      <td>10933.000000</td>\n",
       "      <td>10933.000000</td>\n",
       "      <td>10933.000000</td>\n",
       "      <td>10933.000000</td>\n",
       "    </tr>\n",
       "    <tr>\n",
       "      <th>mean</th>\n",
       "      <td>5501.108570</td>\n",
       "      <td>326.208731</td>\n",
       "      <td>3.752127</td>\n",
       "      <td>0.149724</td>\n",
       "      <td>39.518374</td>\n",
       "    </tr>\n",
       "    <tr>\n",
       "      <th>std</th>\n",
       "      <td>3179.318347</td>\n",
       "      <td>552.275866</td>\n",
       "      <td>2.260526</td>\n",
       "      <td>0.176511</td>\n",
       "      <td>170.856873</td>\n",
       "    </tr>\n",
       "    <tr>\n",
       "      <th>min</th>\n",
       "      <td>1.000000</td>\n",
       "      <td>2.880000</td>\n",
       "      <td>1.000000</td>\n",
       "      <td>0.000000</td>\n",
       "      <td>-3009.435000</td>\n",
       "    </tr>\n",
       "    <tr>\n",
       "      <th>25%</th>\n",
       "      <td>2747.000000</td>\n",
       "      <td>47.079900</td>\n",
       "      <td>2.000000</td>\n",
       "      <td>0.000000</td>\n",
       "      <td>-3.103200</td>\n",
       "    </tr>\n",
       "    <tr>\n",
       "      <th>50%</th>\n",
       "      <td>5493.000000</td>\n",
       "      <td>122.796000</td>\n",
       "      <td>3.000000</td>\n",
       "      <td>0.100000</td>\n",
       "      <td>10.830000</td>\n",
       "    </tr>\n",
       "    <tr>\n",
       "      <th>75%</th>\n",
       "      <td>8262.000000</td>\n",
       "      <td>348.300000</td>\n",
       "      <td>5.000000</td>\n",
       "      <td>0.270000</td>\n",
       "      <td>48.385500</td>\n",
       "    </tr>\n",
       "    <tr>\n",
       "      <th>max</th>\n",
       "      <td>11000.000000</td>\n",
       "      <td>6998.640000</td>\n",
       "      <td>14.000000</td>\n",
       "      <td>0.800000</td>\n",
       "      <td>2939.310000</td>\n",
       "    </tr>\n",
       "  </tbody>\n",
       "</table>\n",
       "</div>"
      ],
      "text/plain": [
       "               행 ID            매출            수량           할인율            수익\n",
       "count  10933.000000  10933.000000  10933.000000  10933.000000  10933.000000\n",
       "mean    5501.108570    326.208731      3.752127      0.149724     39.518374\n",
       "std     3179.318347    552.275866      2.260526      0.176511    170.856873\n",
       "min        1.000000      2.880000      1.000000      0.000000  -3009.435000\n",
       "25%     2747.000000     47.079900      2.000000      0.000000     -3.103200\n",
       "50%     5493.000000    122.796000      3.000000      0.100000     10.830000\n",
       "75%     8262.000000    348.300000      5.000000      0.270000     48.385500\n",
       "max    11000.000000   6998.640000     14.000000      0.800000   2939.310000"
      ]
     },
     "execution_count": 12,
     "metadata": {},
     "output_type": "execute_result"
    }
   ],
   "source": [
    "df_order.describe()"
   ]
  },
  {
   "cell_type": "code",
   "execution_count": 13,
   "id": "87bb8b6a",
   "metadata": {
    "ExecuteTime": {
     "end_time": "2023-02-06T11:44:40.567692Z",
     "start_time": "2023-02-06T11:44:40.490830Z"
    }
   },
   "outputs": [
    {
     "data": {
      "text/html": [
       "<div>\n",
       "<style scoped>\n",
       "    .dataframe tbody tr th:only-of-type {\n",
       "        vertical-align: middle;\n",
       "    }\n",
       "\n",
       "    .dataframe tbody tr th {\n",
       "        vertical-align: top;\n",
       "    }\n",
       "\n",
       "    .dataframe thead th {\n",
       "        text-align: right;\n",
       "    }\n",
       "</style>\n",
       "<table border=\"1\" class=\"dataframe\">\n",
       "  <thead>\n",
       "    <tr style=\"text-align: right;\">\n",
       "      <th></th>\n",
       "      <th>nan_count</th>\n",
       "    </tr>\n",
       "  </thead>\n",
       "  <tbody>\n",
       "    <tr>\n",
       "      <th>행 ID</th>\n",
       "      <td>0</td>\n",
       "    </tr>\n",
       "    <tr>\n",
       "      <th>주문 ID</th>\n",
       "      <td>0</td>\n",
       "    </tr>\n",
       "    <tr>\n",
       "      <th>주문 날짜</th>\n",
       "      <td>0</td>\n",
       "    </tr>\n",
       "    <tr>\n",
       "      <th>배송 날짜</th>\n",
       "      <td>0</td>\n",
       "    </tr>\n",
       "    <tr>\n",
       "      <th>배송 형태</th>\n",
       "      <td>0</td>\n",
       "    </tr>\n",
       "    <tr>\n",
       "      <th>고객 ID</th>\n",
       "      <td>0</td>\n",
       "    </tr>\n",
       "    <tr>\n",
       "      <th>고객 이름</th>\n",
       "      <td>0</td>\n",
       "    </tr>\n",
       "    <tr>\n",
       "      <th>세그먼트</th>\n",
       "      <td>0</td>\n",
       "    </tr>\n",
       "    <tr>\n",
       "      <th>도시</th>\n",
       "      <td>0</td>\n",
       "    </tr>\n",
       "    <tr>\n",
       "      <th>시/도</th>\n",
       "      <td>0</td>\n",
       "    </tr>\n",
       "    <tr>\n",
       "      <th>국가/지역</th>\n",
       "      <td>0</td>\n",
       "    </tr>\n",
       "    <tr>\n",
       "      <th>지역</th>\n",
       "      <td>0</td>\n",
       "    </tr>\n",
       "    <tr>\n",
       "      <th>제품 ID</th>\n",
       "      <td>0</td>\n",
       "    </tr>\n",
       "    <tr>\n",
       "      <th>범주</th>\n",
       "      <td>0</td>\n",
       "    </tr>\n",
       "    <tr>\n",
       "      <th>하위 범주</th>\n",
       "      <td>0</td>\n",
       "    </tr>\n",
       "    <tr>\n",
       "      <th>제품 이름</th>\n",
       "      <td>0</td>\n",
       "    </tr>\n",
       "    <tr>\n",
       "      <th>매출</th>\n",
       "      <td>0</td>\n",
       "    </tr>\n",
       "    <tr>\n",
       "      <th>수량</th>\n",
       "      <td>0</td>\n",
       "    </tr>\n",
       "    <tr>\n",
       "      <th>할인율</th>\n",
       "      <td>0</td>\n",
       "    </tr>\n",
       "    <tr>\n",
       "      <th>수익</th>\n",
       "      <td>0</td>\n",
       "    </tr>\n",
       "  </tbody>\n",
       "</table>\n",
       "</div>"
      ],
      "text/plain": [
       "       nan_count\n",
       "행 ID           0\n",
       "주문 ID          0\n",
       "주문 날짜          0\n",
       "배송 날짜          0\n",
       "배송 형태          0\n",
       "고객 ID          0\n",
       "고객 이름          0\n",
       "세그먼트           0\n",
       "도시             0\n",
       "시/도            0\n",
       "국가/지역          0\n",
       "지역             0\n",
       "제품 ID          0\n",
       "범주             0\n",
       "하위 범주          0\n",
       "제품 이름          0\n",
       "매출             0\n",
       "수량             0\n",
       "할인율            0\n",
       "수익             0"
      ]
     },
     "execution_count": 13,
     "metadata": {},
     "output_type": "execute_result"
    }
   ],
   "source": [
    "# 결측치 개수 파악\n",
    "# 셀 실행 결과를 데이터프레임으로 보고 싶을 때 to_frame()과 pd.DataFrame() 두 가지를 사용 가능\n",
    "df_order.isnull().sum().to_frame('nan_count')\n",
    "pd.DataFrame(df_order.isnull().sum(), columns=['nan_count'])"
   ]
  },
  {
   "cell_type": "code",
   "execution_count": 14,
   "id": "ebf3cc67",
   "metadata": {
    "ExecuteTime": {
     "end_time": "2023-02-06T11:44:40.615563Z",
     "start_time": "2023-02-06T11:44:40.570685Z"
    }
   },
   "outputs": [
    {
     "data": {
      "text/html": [
       "<div>\n",
       "<style scoped>\n",
       "    .dataframe tbody tr th:only-of-type {\n",
       "        vertical-align: middle;\n",
       "    }\n",
       "\n",
       "    .dataframe tbody tr th {\n",
       "        vertical-align: top;\n",
       "    }\n",
       "\n",
       "    .dataframe thead th {\n",
       "        text-align: right;\n",
       "    }\n",
       "</style>\n",
       "<table border=\"1\" class=\"dataframe\">\n",
       "  <thead>\n",
       "    <tr style=\"text-align: right;\">\n",
       "      <th></th>\n",
       "      <th>nan_ratio</th>\n",
       "    </tr>\n",
       "  </thead>\n",
       "  <tbody>\n",
       "    <tr>\n",
       "      <th>행 ID</th>\n",
       "      <td>0.0</td>\n",
       "    </tr>\n",
       "    <tr>\n",
       "      <th>주문 ID</th>\n",
       "      <td>0.0</td>\n",
       "    </tr>\n",
       "    <tr>\n",
       "      <th>주문 날짜</th>\n",
       "      <td>0.0</td>\n",
       "    </tr>\n",
       "    <tr>\n",
       "      <th>배송 날짜</th>\n",
       "      <td>0.0</td>\n",
       "    </tr>\n",
       "    <tr>\n",
       "      <th>배송 형태</th>\n",
       "      <td>0.0</td>\n",
       "    </tr>\n",
       "    <tr>\n",
       "      <th>고객 ID</th>\n",
       "      <td>0.0</td>\n",
       "    </tr>\n",
       "    <tr>\n",
       "      <th>고객 이름</th>\n",
       "      <td>0.0</td>\n",
       "    </tr>\n",
       "    <tr>\n",
       "      <th>세그먼트</th>\n",
       "      <td>0.0</td>\n",
       "    </tr>\n",
       "    <tr>\n",
       "      <th>도시</th>\n",
       "      <td>0.0</td>\n",
       "    </tr>\n",
       "    <tr>\n",
       "      <th>시/도</th>\n",
       "      <td>0.0</td>\n",
       "    </tr>\n",
       "    <tr>\n",
       "      <th>국가/지역</th>\n",
       "      <td>0.0</td>\n",
       "    </tr>\n",
       "    <tr>\n",
       "      <th>지역</th>\n",
       "      <td>0.0</td>\n",
       "    </tr>\n",
       "    <tr>\n",
       "      <th>제품 ID</th>\n",
       "      <td>0.0</td>\n",
       "    </tr>\n",
       "    <tr>\n",
       "      <th>범주</th>\n",
       "      <td>0.0</td>\n",
       "    </tr>\n",
       "    <tr>\n",
       "      <th>하위 범주</th>\n",
       "      <td>0.0</td>\n",
       "    </tr>\n",
       "    <tr>\n",
       "      <th>제품 이름</th>\n",
       "      <td>0.0</td>\n",
       "    </tr>\n",
       "    <tr>\n",
       "      <th>매출</th>\n",
       "      <td>0.0</td>\n",
       "    </tr>\n",
       "    <tr>\n",
       "      <th>수량</th>\n",
       "      <td>0.0</td>\n",
       "    </tr>\n",
       "    <tr>\n",
       "      <th>할인율</th>\n",
       "      <td>0.0</td>\n",
       "    </tr>\n",
       "    <tr>\n",
       "      <th>수익</th>\n",
       "      <td>0.0</td>\n",
       "    </tr>\n",
       "  </tbody>\n",
       "</table>\n",
       "</div>"
      ],
      "text/plain": [
       "       nan_ratio\n",
       "행 ID         0.0\n",
       "주문 ID        0.0\n",
       "주문 날짜        0.0\n",
       "배송 날짜        0.0\n",
       "배송 형태        0.0\n",
       "고객 ID        0.0\n",
       "고객 이름        0.0\n",
       "세그먼트         0.0\n",
       "도시           0.0\n",
       "시/도          0.0\n",
       "국가/지역        0.0\n",
       "지역           0.0\n",
       "제품 ID        0.0\n",
       "범주           0.0\n",
       "하위 범주        0.0\n",
       "제품 이름        0.0\n",
       "매출           0.0\n",
       "수량           0.0\n",
       "할인율          0.0\n",
       "수익           0.0"
      ]
     },
     "execution_count": 14,
     "metadata": {},
     "output_type": "execute_result"
    }
   ],
   "source": [
    "# 결측치 비율 파악\n",
    "pd.DataFrame(data=df_order.isnull().sum()/len(df_order), columns=['nan_ratio'])"
   ]
  },
  {
   "cell_type": "markdown",
   "id": "ecebe10a",
   "metadata": {},
   "source": [
    "## 컬럼 확인하기"
   ]
  },
  {
   "cell_type": "code",
   "execution_count": 43,
   "id": "317dbc6c",
   "metadata": {
    "ExecuteTime": {
     "end_time": "2023-02-06T11:56:09.525667Z",
     "start_time": "2023-02-06T11:56:09.492788Z"
    }
   },
   "outputs": [
    {
     "data": {
      "text/html": [
       "<div>\n",
       "<style scoped>\n",
       "    .dataframe tbody tr th:only-of-type {\n",
       "        vertical-align: middle;\n",
       "    }\n",
       "\n",
       "    .dataframe tbody tr th {\n",
       "        vertical-align: top;\n",
       "    }\n",
       "\n",
       "    .dataframe thead th {\n",
       "        text-align: right;\n",
       "    }\n",
       "</style>\n",
       "<table border=\"1\" class=\"dataframe\">\n",
       "  <thead>\n",
       "    <tr style=\"text-align: right;\">\n",
       "      <th></th>\n",
       "      <th>행 ID</th>\n",
       "      <th>주문 ID</th>\n",
       "      <th>주문 날짜</th>\n",
       "      <th>배송 날짜</th>\n",
       "      <th>배송 형태</th>\n",
       "      <th>고객 ID</th>\n",
       "      <th>고객 이름</th>\n",
       "      <th>세그먼트</th>\n",
       "      <th>도시</th>\n",
       "      <th>시/도</th>\n",
       "      <th>국가/지역</th>\n",
       "      <th>지역</th>\n",
       "      <th>제품 ID</th>\n",
       "      <th>범주</th>\n",
       "      <th>하위 범주</th>\n",
       "      <th>제품 이름</th>\n",
       "      <th>매출</th>\n",
       "      <th>수량</th>\n",
       "      <th>할인율</th>\n",
       "      <th>수익</th>\n",
       "    </tr>\n",
       "  </thead>\n",
       "  <tbody>\n",
       "    <tr>\n",
       "      <th>0</th>\n",
       "      <td>1</td>\n",
       "      <td>IN-2020-27828</td>\n",
       "      <td>2020-08-27</td>\n",
       "      <td>2020-08-31</td>\n",
       "      <td>표준 등급</td>\n",
       "      <td>VT-21700</td>\n",
       "      <td>Valerie Takahito</td>\n",
       "      <td>홈 오피스</td>\n",
       "      <td>Quanzhou</td>\n",
       "      <td>Fujian</td>\n",
       "      <td>China</td>\n",
       "      <td>북아시아</td>\n",
       "      <td>OFF-PA-10000026</td>\n",
       "      <td>사무용품</td>\n",
       "      <td>용지</td>\n",
       "      <td>Eaton Cards &amp; Envelopes, 8.5 x 11</td>\n",
       "      <td>197.28</td>\n",
       "      <td>4</td>\n",
       "      <td>0.0</td>\n",
       "      <td>35.4</td>\n",
       "    </tr>\n",
       "  </tbody>\n",
       "</table>\n",
       "</div>"
      ],
      "text/plain": [
       "  행 ID          주문 ID      주문 날짜      배송 날짜  배송 형태     고객 ID  \\\n",
       "0    1  IN-2020-27828 2020-08-27 2020-08-31  표준 등급  VT-21700   \n",
       "\n",
       "              고객 이름   세그먼트        도시     시/도  국가/지역    지역            제품 ID  \\\n",
       "0  Valerie Takahito  홈 오피스  Quanzhou  Fujian  China  북아시아  OFF-PA-10000026   \n",
       "\n",
       "     범주 하위 범주                              제품 이름      매출  수량  할인율    수익  \n",
       "0  사무용품    용지  Eaton Cards & Envelopes, 8.5 x 11  197.28   4  0.0  35.4  "
      ]
     },
     "execution_count": 43,
     "metadata": {},
     "output_type": "execute_result"
    }
   ],
   "source": [
    "df_order.head(1)"
   ]
  },
  {
   "cell_type": "code",
   "execution_count": 41,
   "id": "238e88ac",
   "metadata": {
    "ExecuteTime": {
     "end_time": "2023-02-06T11:53:56.577031Z",
     "start_time": "2023-02-06T11:53:56.560078Z"
    }
   },
   "outputs": [
    {
     "data": {
      "text/plain": [
       "10933"
      ]
     },
     "execution_count": 41,
     "metadata": {},
     "output_type": "execute_result"
    }
   ],
   "source": [
    "# order 테이블\n",
    "# 행 ID\n",
    "df_order['행 ID'].nunique()"
   ]
  },
  {
   "cell_type": "code",
   "execution_count": 44,
   "id": "d74a9582",
   "metadata": {
    "ExecuteTime": {
     "end_time": "2023-02-06T11:56:29.220273Z",
     "start_time": "2023-02-06T11:56:29.200325Z"
    }
   },
   "outputs": [
    {
     "data": {
      "text/plain": [
       "5397"
      ]
     },
     "execution_count": 44,
     "metadata": {},
     "output_type": "execute_result"
    }
   ],
   "source": [
    "# 주문 ID\n",
    "df_order['주문 ID'].nunique()"
   ]
  },
  {
   "cell_type": "code",
   "execution_count": null,
   "id": "94888abb",
   "metadata": {},
   "outputs": [],
   "source": [
    "# 아이디 갯수 시각화\n"
   ]
  },
  {
   "cell_type": "code",
   "execution_count": 45,
   "id": "cf26b09c",
   "metadata": {
    "ExecuteTime": {
     "end_time": "2023-02-06T16:01:41.282193Z",
     "start_time": "2023-02-06T16:01:41.267134Z"
    }
   },
   "outputs": [
    {
     "data": {
      "text/plain": [
       "1261"
      ]
     },
     "execution_count": 45,
     "metadata": {},
     "output_type": "execute_result"
    }
   ],
   "source": [
    "# 주문 날짜\n",
    "df_order['주문 날짜'].nunique()"
   ]
  },
  {
   "cell_type": "code",
   "execution_count": 47,
   "id": "fb94c77f",
   "metadata": {
    "ExecuteTime": {
     "end_time": "2023-02-06T16:01:59.197368Z",
     "start_time": "2023-02-06T16:01:59.181375Z"
    }
   },
   "outputs": [
    {
     "data": {
      "text/plain": [
       "Timestamp('2018-01-01 00:00:00')"
      ]
     },
     "execution_count": 47,
     "metadata": {},
     "output_type": "execute_result"
    }
   ],
   "source": [
    "df_order['주문 날짜'].min()"
   ]
  },
  {
   "cell_type": "code",
   "execution_count": 48,
   "id": "0cb98165",
   "metadata": {
    "ExecuteTime": {
     "end_time": "2023-02-06T16:02:09.684743Z",
     "start_time": "2023-02-06T16:02:09.663797Z"
    }
   },
   "outputs": [
    {
     "data": {
      "text/plain": [
       "Timestamp('2021-12-31 00:00:00')"
      ]
     },
     "execution_count": 48,
     "metadata": {},
     "output_type": "execute_result"
    }
   ],
   "source": [
    "df_order['주문 날짜'].max()"
   ]
  },
  {
   "cell_type": "code",
   "execution_count": 51,
   "id": "7fe899cf",
   "metadata": {
    "ExecuteTime": {
     "end_time": "2023-02-06T16:03:49.167617Z",
     "start_time": "2023-02-06T16:03:49.157644Z"
    }
   },
   "outputs": [
    {
     "data": {
      "text/plain": [
       "1375"
      ]
     },
     "execution_count": 51,
     "metadata": {},
     "output_type": "execute_result"
    }
   ],
   "source": [
    "# 배송 날짜\n",
    "df_order['배송 날짜'].nunique()"
   ]
  },
  {
   "cell_type": "code",
   "execution_count": 52,
   "id": "2aa2cdef",
   "metadata": {
    "ExecuteTime": {
     "end_time": "2023-02-06T16:04:29.276314Z",
     "start_time": "2023-02-06T16:04:29.255332Z"
    }
   },
   "outputs": [
    {
     "data": {
      "text/plain": [
       "Timestamp('2018-01-03 00:00:00')"
      ]
     },
     "execution_count": 52,
     "metadata": {},
     "output_type": "execute_result"
    }
   ],
   "source": [
    "df_order['배송 날짜'].min()"
   ]
  },
  {
   "cell_type": "code",
   "execution_count": 53,
   "id": "1b72701e",
   "metadata": {
    "ExecuteTime": {
     "end_time": "2023-02-06T16:04:33.337951Z",
     "start_time": "2023-02-06T16:04:33.326976Z"
    }
   },
   "outputs": [
    {
     "data": {
      "text/plain": [
       "Timestamp('2022-01-07 00:00:00')"
      ]
     },
     "execution_count": 53,
     "metadata": {},
     "output_type": "execute_result"
    }
   ],
   "source": [
    "df_order['배송 날짜'].max()"
   ]
  },
  {
   "cell_type": "code",
   "execution_count": 54,
   "id": "15d9733b",
   "metadata": {
    "ExecuteTime": {
     "end_time": "2023-02-06T16:05:47.980403Z",
     "start_time": "2023-02-06T16:05:47.949438Z"
    }
   },
   "outputs": [
    {
     "data": {
      "text/plain": [
       "795"
      ]
     },
     "execution_count": 54,
     "metadata": {},
     "output_type": "execute_result"
    }
   ],
   "source": [
    "# 고객 ID\n",
    "df_order['고객 ID'].nunique()"
   ]
  },
  {
   "cell_type": "code",
   "execution_count": 55,
   "id": "a1ab3dea",
   "metadata": {
    "ExecuteTime": {
     "end_time": "2023-02-06T16:06:16.938535Z",
     "start_time": "2023-02-06T16:06:16.920610Z"
    }
   },
   "outputs": [
    {
     "data": {
      "text/plain": [
       "795"
      ]
     },
     "execution_count": 55,
     "metadata": {},
     "output_type": "execute_result"
    }
   ],
   "source": [
    "# 고객 이름\n",
    "df_order['고객 이름'].nunique()"
   ]
  },
  {
   "cell_type": "code",
   "execution_count": 56,
   "id": "c6785f81",
   "metadata": {
    "ExecuteTime": {
     "end_time": "2023-02-06T16:06:52.903427Z",
     "start_time": "2023-02-06T16:06:52.887784Z"
    }
   },
   "outputs": [
    {
     "data": {
      "text/plain": [
       "3"
      ]
     },
     "execution_count": 56,
     "metadata": {},
     "output_type": "execute_result"
    }
   ],
   "source": [
    "# 세그먼트\n",
    "df_order['세그먼트'].nunique()"
   ]
  },
  {
   "cell_type": "code",
   "execution_count": 58,
   "id": "f881f7ea",
   "metadata": {
    "ExecuteTime": {
     "end_time": "2023-02-06T16:07:54.106615Z",
     "start_time": "2023-02-06T16:07:54.093651Z"
    }
   },
   "outputs": [
    {
     "data": {
      "text/html": [
       "<div>\n",
       "<style scoped>\n",
       "    .dataframe tbody tr th:only-of-type {\n",
       "        vertical-align: middle;\n",
       "    }\n",
       "\n",
       "    .dataframe tbody tr th {\n",
       "        vertical-align: top;\n",
       "    }\n",
       "\n",
       "    .dataframe thead th {\n",
       "        text-align: right;\n",
       "    }\n",
       "</style>\n",
       "<table border=\"1\" class=\"dataframe\">\n",
       "  <thead>\n",
       "    <tr style=\"text-align: right;\">\n",
       "      <th></th>\n",
       "      <th>counts</th>\n",
       "    </tr>\n",
       "  </thead>\n",
       "  <tbody>\n",
       "    <tr>\n",
       "      <th>일반 소비자</th>\n",
       "      <td>5658</td>\n",
       "    </tr>\n",
       "    <tr>\n",
       "      <th>기업</th>\n",
       "      <td>3264</td>\n",
       "    </tr>\n",
       "    <tr>\n",
       "      <th>홈 오피스</th>\n",
       "      <td>2011</td>\n",
       "    </tr>\n",
       "  </tbody>\n",
       "</table>\n",
       "</div>"
      ],
      "text/plain": [
       "        counts\n",
       "일반 소비자    5658\n",
       "기업        3264\n",
       "홈 오피스     2011"
      ]
     },
     "execution_count": 58,
     "metadata": {},
     "output_type": "execute_result"
    }
   ],
   "source": [
    "df_order['세그먼트'].value_counts().to_frame('counts')"
   ]
  },
  {
   "cell_type": "code",
   "execution_count": 59,
   "id": "429946ed",
   "metadata": {
    "ExecuteTime": {
     "end_time": "2023-02-06T16:08:40.087389Z",
     "start_time": "2023-02-06T16:08:40.064416Z"
    }
   },
   "outputs": [
    {
     "data": {
      "text/plain": [
       "539"
      ]
     },
     "execution_count": 59,
     "metadata": {},
     "output_type": "execute_result"
    }
   ],
   "source": [
    "# 도시\n",
    "df_order['도시'].nunique()"
   ]
  },
  {
   "cell_type": "code",
   "execution_count": null,
   "id": "35ecfcaa",
   "metadata": {},
   "outputs": [],
   "source": []
  },
  {
   "cell_type": "code",
   "execution_count": null,
   "id": "5347ada1",
   "metadata": {},
   "outputs": [],
   "source": []
  },
  {
   "cell_type": "code",
   "execution_count": null,
   "id": "23b2d132",
   "metadata": {},
   "outputs": [],
   "source": []
  },
  {
   "cell_type": "code",
   "execution_count": null,
   "id": "1077ecee",
   "metadata": {},
   "outputs": [],
   "source": []
  },
  {
   "cell_type": "markdown",
   "id": "5428cab6",
   "metadata": {},
   "source": [
    "## 변수 타입"
   ]
  },
  {
   "cell_type": "code",
   "execution_count": 15,
   "id": "16a0b2fa",
   "metadata": {
    "ExecuteTime": {
     "end_time": "2023-02-06T11:44:40.631522Z",
     "start_time": "2023-02-06T11:44:40.618566Z"
    }
   },
   "outputs": [
    {
     "data": {
      "text/plain": [
       "행 ID       int64\n",
       "주문 ID     object\n",
       "주문 날짜     object\n",
       "배송 날짜     object\n",
       "배송 형태     object\n",
       "고객 ID     object\n",
       "고객 이름     object\n",
       "세그먼트      object\n",
       "도시        object\n",
       "시/도       object\n",
       "국가/지역     object\n",
       "지역        object\n",
       "제품 ID     object\n",
       "범주        object\n",
       "하위 범주     object\n",
       "제품 이름     object\n",
       "매출       float64\n",
       "수량         int64\n",
       "할인율      float64\n",
       "수익       float64\n",
       "dtype: object"
      ]
     },
     "execution_count": 15,
     "metadata": {},
     "output_type": "execute_result"
    }
   ],
   "source": [
    "# 변수 타입 파악\n",
    "df_order.dtypes"
   ]
  },
  {
   "cell_type": "code",
   "execution_count": 16,
   "id": "dc8759e3",
   "metadata": {
    "ExecuteTime": {
     "end_time": "2023-02-06T11:44:40.679394Z",
     "start_time": "2023-02-06T11:44:40.635511Z"
    }
   },
   "outputs": [
    {
     "data": {
      "text/plain": [
       "행 ID             object\n",
       "주문 ID            object\n",
       "주문 날짜    datetime64[ns]\n",
       "배송 날짜    datetime64[ns]\n",
       "배송 형태            object\n",
       "고객 ID            object\n",
       "고객 이름            object\n",
       "세그먼트             object\n",
       "도시               object\n",
       "시/도              object\n",
       "국가/지역            object\n",
       "지역               object\n",
       "제품 ID            object\n",
       "범주               object\n",
       "하위 범주            object\n",
       "제품 이름            object\n",
       "매출              float64\n",
       "수량                int64\n",
       "할인율             float64\n",
       "수익              float64\n",
       "dtype: object"
      ]
     },
     "execution_count": 16,
     "metadata": {},
     "output_type": "execute_result"
    }
   ],
   "source": [
    "df_order['행 ID'] = df_order['행 ID'].astype(str)\n",
    "df_order['주문 날짜'] = pd.to_datetime(df_order['주문 날짜'])\n",
    "df_order['배송 날짜'] = pd.to_datetime(df_order['배송 날짜'])\n",
    "df_order.dtypes"
   ]
  },
  {
   "cell_type": "code",
   "execution_count": 17,
   "id": "a4120ada",
   "metadata": {
    "ExecuteTime": {
     "end_time": "2023-02-06T11:44:40.743223Z",
     "start_time": "2023-02-06T11:44:40.685379Z"
    }
   },
   "outputs": [
    {
     "data": {
      "text/html": [
       "<div>\n",
       "<style scoped>\n",
       "    .dataframe tbody tr th:only-of-type {\n",
       "        vertical-align: middle;\n",
       "    }\n",
       "\n",
       "    .dataframe tbody tr th {\n",
       "        vertical-align: top;\n",
       "    }\n",
       "\n",
       "    .dataframe thead th {\n",
       "        text-align: right;\n",
       "    }\n",
       "</style>\n",
       "<table border=\"1\" class=\"dataframe\">\n",
       "  <thead>\n",
       "    <tr style=\"text-align: right;\">\n",
       "      <th></th>\n",
       "      <th>행 ID</th>\n",
       "      <th>주문 ID</th>\n",
       "      <th>주문 날짜</th>\n",
       "      <th>배송 날짜</th>\n",
       "      <th>배송 형태</th>\n",
       "      <th>고객 ID</th>\n",
       "      <th>고객 이름</th>\n",
       "      <th>세그먼트</th>\n",
       "      <th>도시</th>\n",
       "      <th>시/도</th>\n",
       "      <th>...</th>\n",
       "      <th>지역</th>\n",
       "      <th>제품 ID</th>\n",
       "      <th>범주</th>\n",
       "      <th>하위 범주</th>\n",
       "      <th>제품 이름</th>\n",
       "      <th>매출</th>\n",
       "      <th>수량</th>\n",
       "      <th>할인율</th>\n",
       "      <th>수익</th>\n",
       "      <th>반품</th>\n",
       "    </tr>\n",
       "  </thead>\n",
       "  <tbody>\n",
       "    <tr>\n",
       "      <th>0</th>\n",
       "      <td>1</td>\n",
       "      <td>IN-2020-27828</td>\n",
       "      <td>2020-08-27</td>\n",
       "      <td>2020-08-31</td>\n",
       "      <td>표준 등급</td>\n",
       "      <td>VT-21700</td>\n",
       "      <td>Valerie Takahito</td>\n",
       "      <td>홈 오피스</td>\n",
       "      <td>Quanzhou</td>\n",
       "      <td>Fujian</td>\n",
       "      <td>...</td>\n",
       "      <td>북아시아</td>\n",
       "      <td>OFF-PA-10000026</td>\n",
       "      <td>사무용품</td>\n",
       "      <td>용지</td>\n",
       "      <td>Eaton Cards &amp; Envelopes, 8.5 x 11</td>\n",
       "      <td>197.28</td>\n",
       "      <td>4</td>\n",
       "      <td>0.0</td>\n",
       "      <td>35.40</td>\n",
       "      <td>예</td>\n",
       "    </tr>\n",
       "    <tr>\n",
       "      <th>1</th>\n",
       "      <td>1</td>\n",
       "      <td>IN-2020-27828</td>\n",
       "      <td>2020-08-27</td>\n",
       "      <td>2020-08-31</td>\n",
       "      <td>표준 등급</td>\n",
       "      <td>VT-21700</td>\n",
       "      <td>Valerie Takahito</td>\n",
       "      <td>홈 오피스</td>\n",
       "      <td>Quanzhou</td>\n",
       "      <td>Fujian</td>\n",
       "      <td>...</td>\n",
       "      <td>북아시아</td>\n",
       "      <td>OFF-PA-10000026</td>\n",
       "      <td>사무용품</td>\n",
       "      <td>용지</td>\n",
       "      <td>Eaton Cards &amp; Envelopes, 8.5 x 11</td>\n",
       "      <td>197.28</td>\n",
       "      <td>4</td>\n",
       "      <td>0.0</td>\n",
       "      <td>35.40</td>\n",
       "      <td>예</td>\n",
       "    </tr>\n",
       "    <tr>\n",
       "      <th>2</th>\n",
       "      <td>1</td>\n",
       "      <td>IN-2020-27828</td>\n",
       "      <td>2020-08-27</td>\n",
       "      <td>2020-08-31</td>\n",
       "      <td>표준 등급</td>\n",
       "      <td>VT-21700</td>\n",
       "      <td>Valerie Takahito</td>\n",
       "      <td>홈 오피스</td>\n",
       "      <td>Quanzhou</td>\n",
       "      <td>Fujian</td>\n",
       "      <td>...</td>\n",
       "      <td>북아시아</td>\n",
       "      <td>OFF-PA-10000026</td>\n",
       "      <td>사무용품</td>\n",
       "      <td>용지</td>\n",
       "      <td>Eaton Cards &amp; Envelopes, 8.5 x 11</td>\n",
       "      <td>197.28</td>\n",
       "      <td>4</td>\n",
       "      <td>0.0</td>\n",
       "      <td>35.40</td>\n",
       "      <td>예</td>\n",
       "    </tr>\n",
       "    <tr>\n",
       "      <th>3</th>\n",
       "      <td>1</td>\n",
       "      <td>IN-2020-27828</td>\n",
       "      <td>2020-08-27</td>\n",
       "      <td>2020-08-31</td>\n",
       "      <td>표준 등급</td>\n",
       "      <td>VT-21700</td>\n",
       "      <td>Valerie Takahito</td>\n",
       "      <td>홈 오피스</td>\n",
       "      <td>Quanzhou</td>\n",
       "      <td>Fujian</td>\n",
       "      <td>...</td>\n",
       "      <td>북아시아</td>\n",
       "      <td>OFF-PA-10000026</td>\n",
       "      <td>사무용품</td>\n",
       "      <td>용지</td>\n",
       "      <td>Eaton Cards &amp; Envelopes, 8.5 x 11</td>\n",
       "      <td>197.28</td>\n",
       "      <td>4</td>\n",
       "      <td>0.0</td>\n",
       "      <td>35.40</td>\n",
       "      <td>예</td>\n",
       "    </tr>\n",
       "    <tr>\n",
       "      <th>4</th>\n",
       "      <td>2</td>\n",
       "      <td>IN-2020-27828</td>\n",
       "      <td>2020-08-27</td>\n",
       "      <td>2020-08-31</td>\n",
       "      <td>표준 등급</td>\n",
       "      <td>VT-21700</td>\n",
       "      <td>Valerie Takahito</td>\n",
       "      <td>홈 오피스</td>\n",
       "      <td>Quanzhou</td>\n",
       "      <td>Fujian</td>\n",
       "      <td>...</td>\n",
       "      <td>북아시아</td>\n",
       "      <td>FUR-FU-10000944</td>\n",
       "      <td>가구</td>\n",
       "      <td>사무용 집기</td>\n",
       "      <td>Tenex Door Stop, Black</td>\n",
       "      <td>307.23</td>\n",
       "      <td>7</td>\n",
       "      <td>0.0</td>\n",
       "      <td>21.42</td>\n",
       "      <td>예</td>\n",
       "    </tr>\n",
       "  </tbody>\n",
       "</table>\n",
       "<p>5 rows × 21 columns</p>\n",
       "</div>"
      ],
      "text/plain": [
       "  행 ID          주문 ID      주문 날짜      배송 날짜  배송 형태     고객 ID  \\\n",
       "0    1  IN-2020-27828 2020-08-27 2020-08-31  표준 등급  VT-21700   \n",
       "1    1  IN-2020-27828 2020-08-27 2020-08-31  표준 등급  VT-21700   \n",
       "2    1  IN-2020-27828 2020-08-27 2020-08-31  표준 등급  VT-21700   \n",
       "3    1  IN-2020-27828 2020-08-27 2020-08-31  표준 등급  VT-21700   \n",
       "4    2  IN-2020-27828 2020-08-27 2020-08-31  표준 등급  VT-21700   \n",
       "\n",
       "              고객 이름   세그먼트        도시     시/도  ...    지역            제품 ID  \\\n",
       "0  Valerie Takahito  홈 오피스  Quanzhou  Fujian  ...  북아시아  OFF-PA-10000026   \n",
       "1  Valerie Takahito  홈 오피스  Quanzhou  Fujian  ...  북아시아  OFF-PA-10000026   \n",
       "2  Valerie Takahito  홈 오피스  Quanzhou  Fujian  ...  북아시아  OFF-PA-10000026   \n",
       "3  Valerie Takahito  홈 오피스  Quanzhou  Fujian  ...  북아시아  OFF-PA-10000026   \n",
       "4  Valerie Takahito  홈 오피스  Quanzhou  Fujian  ...  북아시아  FUR-FU-10000944   \n",
       "\n",
       "     범주   하위 범주                              제품 이름      매출  수량  할인율     수익  반품  \n",
       "0  사무용품      용지  Eaton Cards & Envelopes, 8.5 x 11  197.28   4  0.0  35.40   예  \n",
       "1  사무용품      용지  Eaton Cards & Envelopes, 8.5 x 11  197.28   4  0.0  35.40   예  \n",
       "2  사무용품      용지  Eaton Cards & Envelopes, 8.5 x 11  197.28   4  0.0  35.40   예  \n",
       "3  사무용품      용지  Eaton Cards & Envelopes, 8.5 x 11  197.28   4  0.0  35.40   예  \n",
       "4    가구  사무용 집기             Tenex Door Stop, Black  307.23   7  0.0  21.42   예  \n",
       "\n",
       "[5 rows x 21 columns]"
      ]
     },
     "execution_count": 17,
     "metadata": {},
     "output_type": "execute_result"
    }
   ],
   "source": [
    "df_join = pd.merge(df_order, df_return, on='주문 ID', how='left')\n",
    "df_join.head()"
   ]
  },
  {
   "cell_type": "code",
   "execution_count": 18,
   "id": "4c0b1efe",
   "metadata": {
    "ExecuteTime": {
     "end_time": "2023-02-06T11:44:40.759180Z",
     "start_time": "2023-02-06T11:44:40.747213Z"
    }
   },
   "outputs": [
    {
     "data": {
      "text/plain": [
       "예    3027\n",
       "Name: 반품, dtype: int64"
      ]
     },
     "execution_count": 18,
     "metadata": {},
     "output_type": "execute_result"
    }
   ],
   "source": [
    "df_join['반품'].value_counts()"
   ]
  },
  {
   "cell_type": "code",
   "execution_count": 19,
   "id": "b85af5a4",
   "metadata": {
    "ExecuteTime": {
     "end_time": "2023-02-06T11:44:40.791095Z",
     "start_time": "2023-02-06T11:44:40.763179Z"
    }
   },
   "outputs": [
    {
     "data": {
      "text/plain": [
       "N    10148\n",
       "Y     3027\n",
       "Name: 반품, dtype: int64"
      ]
     },
     "execution_count": 19,
     "metadata": {},
     "output_type": "execute_result"
    }
   ],
   "source": [
    "df_join['반품'] = df_join['반품'].fillna('N')\n",
    "df_join['반품'] = df_join['반품'].replace('예', 'Y')\n",
    "df_join['반품'].value_counts()"
   ]
  },
  {
   "cell_type": "code",
   "execution_count": 20,
   "id": "748f23f2",
   "metadata": {
    "ExecuteTime": {
     "end_time": "2023-02-06T11:44:40.807052Z",
     "start_time": "2023-02-06T11:44:40.797080Z"
    }
   },
   "outputs": [
    {
     "data": {
      "text/plain": [
       "(10933, 20)"
      ]
     },
     "execution_count": 20,
     "metadata": {},
     "output_type": "execute_result"
    }
   ],
   "source": [
    "df_order.shape"
   ]
  },
  {
   "cell_type": "code",
   "execution_count": 21,
   "id": "287d24c1",
   "metadata": {
    "ExecuteTime": {
     "end_time": "2023-02-06T11:44:40.839964Z",
     "start_time": "2023-02-06T11:44:40.812039Z"
    }
   },
   "outputs": [
    {
     "data": {
      "text/plain": [
       "(786, 2)"
      ]
     },
     "execution_count": 21,
     "metadata": {},
     "output_type": "execute_result"
    }
   ],
   "source": [
    "df_return.shape"
   ]
  },
  {
   "cell_type": "code",
   "execution_count": 22,
   "id": "579d078e",
   "metadata": {
    "ExecuteTime": {
     "end_time": "2023-02-06T11:44:40.869884Z",
     "start_time": "2023-02-06T11:44:40.846947Z"
    }
   },
   "outputs": [
    {
     "data": {
      "text/plain": [
       "(13175, 21)"
      ]
     },
     "execution_count": 22,
     "metadata": {},
     "output_type": "execute_result"
    }
   ],
   "source": [
    "df_join.shape"
   ]
  },
  {
   "cell_type": "code",
   "execution_count": 23,
   "id": "c870900a",
   "metadata": {
    "ExecuteTime": {
     "end_time": "2023-02-06T11:44:40.901802Z",
     "start_time": "2023-02-06T11:44:40.878862Z"
    }
   },
   "outputs": [
    {
     "data": {
      "text/plain": [
       "5397"
      ]
     },
     "execution_count": 23,
     "metadata": {},
     "output_type": "execute_result"
    }
   ],
   "source": [
    "df_order['주문 ID'].nunique()"
   ]
  },
  {
   "cell_type": "code",
   "execution_count": 24,
   "id": "38da3010",
   "metadata": {
    "ExecuteTime": {
     "end_time": "2023-02-06T11:44:40.933715Z",
     "start_time": "2023-02-06T11:44:40.905788Z"
    }
   },
   "outputs": [
    {
     "data": {
      "text/plain": [
       "296"
      ]
     },
     "execution_count": 24,
     "metadata": {},
     "output_type": "execute_result"
    }
   ],
   "source": [
    "df_return['주문 ID'].nunique()"
   ]
  },
  {
   "cell_type": "code",
   "execution_count": 25,
   "id": "34e79e37",
   "metadata": {
    "ExecuteTime": {
     "end_time": "2023-02-06T11:44:40.964631Z",
     "start_time": "2023-02-06T11:44:40.938701Z"
    }
   },
   "outputs": [
    {
     "data": {
      "text/html": [
       "<div>\n",
       "<style scoped>\n",
       "    .dataframe tbody tr th:only-of-type {\n",
       "        vertical-align: middle;\n",
       "    }\n",
       "\n",
       "    .dataframe tbody tr th {\n",
       "        vertical-align: top;\n",
       "    }\n",
       "\n",
       "    .dataframe thead th {\n",
       "        text-align: right;\n",
       "    }\n",
       "</style>\n",
       "<table border=\"1\" class=\"dataframe\">\n",
       "  <thead>\n",
       "    <tr style=\"text-align: right;\">\n",
       "      <th></th>\n",
       "      <th>주문 ID</th>\n",
       "      <th>반품</th>\n",
       "    </tr>\n",
       "  </thead>\n",
       "  <tbody>\n",
       "    <tr>\n",
       "      <th>0</th>\n",
       "      <td>ID-2018-17286</td>\n",
       "      <td>예</td>\n",
       "    </tr>\n",
       "    <tr>\n",
       "      <th>1</th>\n",
       "      <td>ID-2018-17286</td>\n",
       "      <td>예</td>\n",
       "    </tr>\n",
       "    <tr>\n",
       "      <th>2</th>\n",
       "      <td>ID-2018-20604</td>\n",
       "      <td>예</td>\n",
       "    </tr>\n",
       "    <tr>\n",
       "      <th>3</th>\n",
       "      <td>ID-2018-20604</td>\n",
       "      <td>예</td>\n",
       "    </tr>\n",
       "    <tr>\n",
       "      <th>4</th>\n",
       "      <td>ID-2018-20604</td>\n",
       "      <td>예</td>\n",
       "    </tr>\n",
       "  </tbody>\n",
       "</table>\n",
       "</div>"
      ],
      "text/plain": [
       "           주문 ID 반품\n",
       "0  ID-2018-17286  예\n",
       "1  ID-2018-17286  예\n",
       "2  ID-2018-20604  예\n",
       "3  ID-2018-20604  예\n",
       "4  ID-2018-20604  예"
      ]
     },
     "execution_count": 25,
     "metadata": {},
     "output_type": "execute_result"
    }
   ],
   "source": [
    "df_return.head()"
   ]
  },
  {
   "cell_type": "code",
   "execution_count": 26,
   "id": "032a0b54",
   "metadata": {
    "ExecuteTime": {
     "end_time": "2023-02-06T11:44:40.996578Z",
     "start_time": "2023-02-06T11:44:40.973607Z"
    }
   },
   "outputs": [
    {
     "data": {
      "text/plain": [
       "(13175, 21)"
      ]
     },
     "execution_count": 26,
     "metadata": {},
     "output_type": "execute_result"
    }
   ],
   "source": [
    "df_join.shape"
   ]
  },
  {
   "cell_type": "code",
   "execution_count": 32,
   "id": "ec43a5b7",
   "metadata": {
    "ExecuteTime": {
     "end_time": "2023-02-06T11:47:33.698469Z",
     "start_time": "2023-02-06T11:47:33.682478Z"
    }
   },
   "outputs": [
    {
     "data": {
      "text/plain": [
       "array(['예'], dtype=object)"
      ]
     },
     "execution_count": 32,
     "metadata": {},
     "output_type": "execute_result"
    }
   ],
   "source": [
    "# 반품 컬럼에 예만 있는 것을 확인\n",
    "df_return['반품'].unique()"
   ]
  },
  {
   "cell_type": "code",
   "execution_count": 30,
   "id": "38acf631",
   "metadata": {
    "ExecuteTime": {
     "end_time": "2023-02-06T11:45:34.500192Z",
     "start_time": "2023-02-06T11:45:34.478252Z"
    }
   },
   "outputs": [
    {
     "data": {
      "text/plain": [
       "array([1], dtype=int64)"
      ]
     },
     "execution_count": 30,
     "metadata": {},
     "output_type": "execute_result"
    }
   ],
   "source": [
    "# 반품 컬럼에 예만 있는 것을 확인\n",
    "df_return.groupby('주문 ID').nunique()['반품'].unique()"
   ]
  },
  {
   "cell_type": "code",
   "execution_count": 36,
   "id": "d7181955",
   "metadata": {
    "ExecuteTime": {
     "end_time": "2023-02-06T11:49:00.073986Z",
     "start_time": "2023-02-06T11:49:00.058369Z"
    }
   },
   "outputs": [
    {
     "data": {
      "text/plain": [
       "(296, 2)"
      ]
     },
     "execution_count": 36,
     "metadata": {},
     "output_type": "execute_result"
    }
   ],
   "source": [
    "df_return1 = df_return.drop_duplicates(subset='주문 ID', keep='first', ignore_index=True)\n",
    "df_return1.shape"
   ]
  },
  {
   "cell_type": "code",
   "execution_count": 37,
   "id": "620e161c",
   "metadata": {
    "ExecuteTime": {
     "end_time": "2023-02-06T11:49:37.509060Z",
     "start_time": "2023-02-06T11:49:37.454219Z"
    }
   },
   "outputs": [
    {
     "data": {
      "text/html": [
       "<div>\n",
       "<style scoped>\n",
       "    .dataframe tbody tr th:only-of-type {\n",
       "        vertical-align: middle;\n",
       "    }\n",
       "\n",
       "    .dataframe tbody tr th {\n",
       "        vertical-align: top;\n",
       "    }\n",
       "\n",
       "    .dataframe thead th {\n",
       "        text-align: right;\n",
       "    }\n",
       "</style>\n",
       "<table border=\"1\" class=\"dataframe\">\n",
       "  <thead>\n",
       "    <tr style=\"text-align: right;\">\n",
       "      <th></th>\n",
       "      <th>행 ID</th>\n",
       "      <th>주문 ID</th>\n",
       "      <th>주문 날짜</th>\n",
       "      <th>배송 날짜</th>\n",
       "      <th>배송 형태</th>\n",
       "      <th>고객 ID</th>\n",
       "      <th>고객 이름</th>\n",
       "      <th>세그먼트</th>\n",
       "      <th>도시</th>\n",
       "      <th>시/도</th>\n",
       "      <th>...</th>\n",
       "      <th>지역</th>\n",
       "      <th>제품 ID</th>\n",
       "      <th>범주</th>\n",
       "      <th>하위 범주</th>\n",
       "      <th>제품 이름</th>\n",
       "      <th>매출</th>\n",
       "      <th>수량</th>\n",
       "      <th>할인율</th>\n",
       "      <th>수익</th>\n",
       "      <th>반품</th>\n",
       "    </tr>\n",
       "  </thead>\n",
       "  <tbody>\n",
       "    <tr>\n",
       "      <th>0</th>\n",
       "      <td>1</td>\n",
       "      <td>IN-2020-27828</td>\n",
       "      <td>2020-08-27</td>\n",
       "      <td>2020-08-31</td>\n",
       "      <td>표준 등급</td>\n",
       "      <td>VT-21700</td>\n",
       "      <td>Valerie Takahito</td>\n",
       "      <td>홈 오피스</td>\n",
       "      <td>Quanzhou</td>\n",
       "      <td>Fujian</td>\n",
       "      <td>...</td>\n",
       "      <td>북아시아</td>\n",
       "      <td>OFF-PA-10000026</td>\n",
       "      <td>사무용품</td>\n",
       "      <td>용지</td>\n",
       "      <td>Eaton Cards &amp; Envelopes, 8.5 x 11</td>\n",
       "      <td>197.280</td>\n",
       "      <td>4</td>\n",
       "      <td>0.00</td>\n",
       "      <td>35.400</td>\n",
       "      <td>예</td>\n",
       "    </tr>\n",
       "    <tr>\n",
       "      <th>1</th>\n",
       "      <td>2</td>\n",
       "      <td>IN-2020-27828</td>\n",
       "      <td>2020-08-27</td>\n",
       "      <td>2020-08-31</td>\n",
       "      <td>표준 등급</td>\n",
       "      <td>VT-21700</td>\n",
       "      <td>Valerie Takahito</td>\n",
       "      <td>홈 오피스</td>\n",
       "      <td>Quanzhou</td>\n",
       "      <td>Fujian</td>\n",
       "      <td>...</td>\n",
       "      <td>북아시아</td>\n",
       "      <td>FUR-FU-10000944</td>\n",
       "      <td>가구</td>\n",
       "      <td>사무용 집기</td>\n",
       "      <td>Tenex Door Stop, Black</td>\n",
       "      <td>307.230</td>\n",
       "      <td>7</td>\n",
       "      <td>0.00</td>\n",
       "      <td>21.420</td>\n",
       "      <td>예</td>\n",
       "    </tr>\n",
       "    <tr>\n",
       "      <th>2</th>\n",
       "      <td>3</td>\n",
       "      <td>IN-2020-27828</td>\n",
       "      <td>2020-08-27</td>\n",
       "      <td>2020-08-31</td>\n",
       "      <td>표준 등급</td>\n",
       "      <td>VT-21700</td>\n",
       "      <td>Valerie Takahito</td>\n",
       "      <td>홈 오피스</td>\n",
       "      <td>Quanzhou</td>\n",
       "      <td>Fujian</td>\n",
       "      <td>...</td>\n",
       "      <td>북아시아</td>\n",
       "      <td>TEC-CO-10002526</td>\n",
       "      <td>기술</td>\n",
       "      <td>복사기</td>\n",
       "      <td>Sharp Wireless Fax, Digital</td>\n",
       "      <td>1422.240</td>\n",
       "      <td>4</td>\n",
       "      <td>0.00</td>\n",
       "      <td>526.200</td>\n",
       "      <td>예</td>\n",
       "    </tr>\n",
       "    <tr>\n",
       "      <th>3</th>\n",
       "      <td>4</td>\n",
       "      <td>IN-2020-27828</td>\n",
       "      <td>2020-08-27</td>\n",
       "      <td>2020-08-31</td>\n",
       "      <td>표준 등급</td>\n",
       "      <td>VT-21700</td>\n",
       "      <td>Valerie Takahito</td>\n",
       "      <td>홈 오피스</td>\n",
       "      <td>Quanzhou</td>\n",
       "      <td>Fujian</td>\n",
       "      <td>...</td>\n",
       "      <td>북아시아</td>\n",
       "      <td>TEC-AC-10002255</td>\n",
       "      <td>기술</td>\n",
       "      <td>액세서리</td>\n",
       "      <td>Memorex Keyboard, Erganomic</td>\n",
       "      <td>207.450</td>\n",
       "      <td>3</td>\n",
       "      <td>0.00</td>\n",
       "      <td>78.750</td>\n",
       "      <td>예</td>\n",
       "    </tr>\n",
       "    <tr>\n",
       "      <th>4</th>\n",
       "      <td>5</td>\n",
       "      <td>IN-2021-63178</td>\n",
       "      <td>2021-06-24</td>\n",
       "      <td>2021-06-30</td>\n",
       "      <td>표준 등급</td>\n",
       "      <td>SO-20335</td>\n",
       "      <td>Sean O'Donnell</td>\n",
       "      <td>일반 소비자</td>\n",
       "      <td>Marikina</td>\n",
       "      <td>Metro Manila</td>\n",
       "      <td>...</td>\n",
       "      <td>동남아시아</td>\n",
       "      <td>OFF-AP-10002882</td>\n",
       "      <td>사무용품</td>\n",
       "      <td>가전 제품</td>\n",
       "      <td>KitchenAid Coffee Grinder, Silver</td>\n",
       "      <td>121.074</td>\n",
       "      <td>2</td>\n",
       "      <td>0.15</td>\n",
       "      <td>37.014</td>\n",
       "      <td>NaN</td>\n",
       "    </tr>\n",
       "  </tbody>\n",
       "</table>\n",
       "<p>5 rows × 21 columns</p>\n",
       "</div>"
      ],
      "text/plain": [
       "  행 ID          주문 ID      주문 날짜      배송 날짜  배송 형태     고객 ID  \\\n",
       "0    1  IN-2020-27828 2020-08-27 2020-08-31  표준 등급  VT-21700   \n",
       "1    2  IN-2020-27828 2020-08-27 2020-08-31  표준 등급  VT-21700   \n",
       "2    3  IN-2020-27828 2020-08-27 2020-08-31  표준 등급  VT-21700   \n",
       "3    4  IN-2020-27828 2020-08-27 2020-08-31  표준 등급  VT-21700   \n",
       "4    5  IN-2021-63178 2021-06-24 2021-06-30  표준 등급  SO-20335   \n",
       "\n",
       "              고객 이름    세그먼트        도시           시/도  ...     지역  \\\n",
       "0  Valerie Takahito   홈 오피스  Quanzhou        Fujian  ...   북아시아   \n",
       "1  Valerie Takahito   홈 오피스  Quanzhou        Fujian  ...   북아시아   \n",
       "2  Valerie Takahito   홈 오피스  Quanzhou        Fujian  ...   북아시아   \n",
       "3  Valerie Takahito   홈 오피스  Quanzhou        Fujian  ...   북아시아   \n",
       "4    Sean O'Donnell  일반 소비자  Marikina  Metro Manila  ...  동남아시아   \n",
       "\n",
       "             제품 ID    범주   하위 범주                              제품 이름        매출  \\\n",
       "0  OFF-PA-10000026  사무용품      용지  Eaton Cards & Envelopes, 8.5 x 11   197.280   \n",
       "1  FUR-FU-10000944    가구  사무용 집기             Tenex Door Stop, Black   307.230   \n",
       "2  TEC-CO-10002526    기술     복사기        Sharp Wireless Fax, Digital  1422.240   \n",
       "3  TEC-AC-10002255    기술    액세서리        Memorex Keyboard, Erganomic   207.450   \n",
       "4  OFF-AP-10002882  사무용품   가전 제품  KitchenAid Coffee Grinder, Silver   121.074   \n",
       "\n",
       "   수량   할인율       수익   반품  \n",
       "0   4  0.00   35.400    예  \n",
       "1   7  0.00   21.420    예  \n",
       "2   4  0.00  526.200    예  \n",
       "3   3  0.00   78.750    예  \n",
       "4   2  0.15   37.014  NaN  \n",
       "\n",
       "[5 rows x 21 columns]"
      ]
     },
     "execution_count": 37,
     "metadata": {},
     "output_type": "execute_result"
    }
   ],
   "source": [
    "# 다시 조인\n",
    "df_join = pd.merge(df_order, df_return1, on='주문 ID', how='left')\n",
    "df_join.head()"
   ]
  },
  {
   "cell_type": "code",
   "execution_count": 38,
   "id": "fe29bc81",
   "metadata": {
    "ExecuteTime": {
     "end_time": "2023-02-06T11:49:45.092132Z",
     "start_time": "2023-02-06T11:49:45.082195Z"
    }
   },
   "outputs": [
    {
     "data": {
      "text/plain": [
       "(10933, 21)"
      ]
     },
     "execution_count": 38,
     "metadata": {},
     "output_type": "execute_result"
    }
   ],
   "source": [
    "df_join.shape"
   ]
  },
  {
   "cell_type": "code",
   "execution_count": 39,
   "id": "56a2384a",
   "metadata": {
    "ExecuteTime": {
     "end_time": "2023-02-06T11:50:17.070592Z",
     "start_time": "2023-02-06T11:50:17.054634Z"
    }
   },
   "outputs": [
    {
     "data": {
      "text/plain": [
       "N    10148\n",
       "Y      785\n",
       "Name: 반품, dtype: int64"
      ]
     },
     "execution_count": 39,
     "metadata": {},
     "output_type": "execute_result"
    }
   ],
   "source": [
    "df_join['반품'] = df_join['반품'].fillna('N')\n",
    "df_join['반품'] = df_join['반품'].replace('예', 'Y')\n",
    "df_join['반품'].value_counts()"
   ]
  },
  {
   "cell_type": "code",
   "execution_count": null,
   "id": "13b67590",
   "metadata": {},
   "outputs": [],
   "source": []
  }
 ],
 "metadata": {
  "hide_input": false,
  "kernelspec": {
   "display_name": "Python 3 (ipykernel)",
   "language": "python",
   "name": "python3"
  },
  "language_info": {
   "codemirror_mode": {
    "name": "ipython",
    "version": 3
   },
   "file_extension": ".py",
   "mimetype": "text/x-python",
   "name": "python",
   "nbconvert_exporter": "python",
   "pygments_lexer": "ipython3",
   "version": "3.9.13"
  },
  "toc": {
   "base_numbering": 1,
   "nav_menu": {},
   "number_sections": false,
   "sideBar": true,
   "skip_h1_title": false,
   "title_cell": "Table of Contents",
   "title_sidebar": "Contents",
   "toc_cell": false,
   "toc_position": {},
   "toc_section_display": true,
   "toc_window_display": true
  }
 },
 "nbformat": 4,
 "nbformat_minor": 5
}
