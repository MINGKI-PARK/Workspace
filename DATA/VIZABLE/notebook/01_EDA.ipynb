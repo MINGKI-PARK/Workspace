{
 "cells": [
  {
   "cell_type": "code",
   "execution_count": 1,
   "id": "02dccdc4",
   "metadata": {
    "ExecuteTime": {
     "end_time": "2023-02-11T14:36:11.574841Z",
     "start_time": "2023-02-11T14:36:08.019320Z"
    }
   },
   "outputs": [],
   "source": [
    "import pandas as pd\n",
    "import numpy as np\n",
    "import matplotlib.pyplot as plt \n",
    "import seaborn as sns\n",
    "\n",
    "# notebook을 실행한 브라우저에서 바로 그림을 볼 수 있게 해주는 라인\n",
    "%matplotlib inline\n",
    "\n",
    "# 커널을 구성하다보면 에러는 아니지만, 빨간색 네모 박스 warning이 뜨는 경우를 제거 \n",
    "import warnings\n",
    "warnings.filterwarnings('ignore')\n",
    "\n",
    "# 다른 노트북 작성할 때도 이 셀만 떼서 사용 가능하다.\n",
    "import matplotlib.pyplot as plt \n",
    "import platform                \n",
    "\n",
    "# 웬만하면 해주는 것이 좋다.\n",
    "from matplotlib import font_manager, rc\n",
    "plt.rcParams['axes.unicode_minus']= False\n",
    "\n",
    "if platform.system() == 'Darwin': # 맥os 사용자의 경우에\n",
    "    plt.style.use('seaborn-darkgrid') \n",
    "    rc('font', family = 'AppleGothic')\n",
    "    \n",
    "elif platform.system() == 'Windows':# 윈도우 사용자의 경우에\n",
    "    path = 'c:/Windows/Fonts/malgun.ttf'\n",
    "    font_name = font_manager.FontProperties(fname=path).get_name()\n",
    "    plt.style.use('seaborn-darkgrid') # https://python-graph-gallery.com/199-matplotlib-style-sheets/\n",
    "    rc('font', family=font_name)"
   ]
  },
  {
   "cell_type": "code",
   "execution_count": 2,
   "id": "ce9605bd",
   "metadata": {
    "ExecuteTime": {
     "end_time": "2023-02-11T14:36:11.762483Z",
     "start_time": "2023-02-11T14:36:11.578123Z"
    }
   },
   "outputs": [
    {
     "data": {
      "text/html": [
       "<div>\n",
       "<style scoped>\n",
       "    .dataframe tbody tr th:only-of-type {\n",
       "        vertical-align: middle;\n",
       "    }\n",
       "\n",
       "    .dataframe tbody tr th {\n",
       "        vertical-align: top;\n",
       "    }\n",
       "\n",
       "    .dataframe thead th {\n",
       "        text-align: right;\n",
       "    }\n",
       "</style>\n",
       "<table border=\"1\" class=\"dataframe\">\n",
       "  <thead>\n",
       "    <tr style=\"text-align: right;\">\n",
       "      <th></th>\n",
       "      <th>행 ID</th>\n",
       "      <th>주문 ID</th>\n",
       "      <th>주문 날짜</th>\n",
       "      <th>배송 날짜</th>\n",
       "      <th>배송 형태</th>\n",
       "      <th>고객 ID</th>\n",
       "      <th>고객 이름</th>\n",
       "      <th>세그먼트</th>\n",
       "      <th>도시</th>\n",
       "      <th>시/도</th>\n",
       "      <th>국가/지역</th>\n",
       "      <th>지역</th>\n",
       "      <th>제품 ID</th>\n",
       "      <th>범주</th>\n",
       "      <th>하위 범주</th>\n",
       "      <th>제품 이름</th>\n",
       "      <th>매출</th>\n",
       "      <th>수량</th>\n",
       "      <th>할인율</th>\n",
       "      <th>수익</th>\n",
       "    </tr>\n",
       "  </thead>\n",
       "  <tbody>\n",
       "    <tr>\n",
       "      <th>0</th>\n",
       "      <td>1</td>\n",
       "      <td>IN-2020-27828</td>\n",
       "      <td>2020-08-27</td>\n",
       "      <td>2020-08-31</td>\n",
       "      <td>표준 등급</td>\n",
       "      <td>VT-21700</td>\n",
       "      <td>Valerie Takahito</td>\n",
       "      <td>홈 오피스</td>\n",
       "      <td>Quanzhou</td>\n",
       "      <td>Fujian</td>\n",
       "      <td>China</td>\n",
       "      <td>북아시아</td>\n",
       "      <td>OFF-PA-10000026</td>\n",
       "      <td>사무용품</td>\n",
       "      <td>용지</td>\n",
       "      <td>Eaton Cards &amp; Envelopes, 8.5 x 11</td>\n",
       "      <td>197.280</td>\n",
       "      <td>4</td>\n",
       "      <td>0.00</td>\n",
       "      <td>35.400</td>\n",
       "    </tr>\n",
       "    <tr>\n",
       "      <th>1</th>\n",
       "      <td>2</td>\n",
       "      <td>IN-2020-27828</td>\n",
       "      <td>2020-08-27</td>\n",
       "      <td>2020-08-31</td>\n",
       "      <td>표준 등급</td>\n",
       "      <td>VT-21700</td>\n",
       "      <td>Valerie Takahito</td>\n",
       "      <td>홈 오피스</td>\n",
       "      <td>Quanzhou</td>\n",
       "      <td>Fujian</td>\n",
       "      <td>China</td>\n",
       "      <td>북아시아</td>\n",
       "      <td>FUR-FU-10000944</td>\n",
       "      <td>가구</td>\n",
       "      <td>사무용 집기</td>\n",
       "      <td>Tenex Door Stop, Black</td>\n",
       "      <td>307.230</td>\n",
       "      <td>7</td>\n",
       "      <td>0.00</td>\n",
       "      <td>21.420</td>\n",
       "    </tr>\n",
       "    <tr>\n",
       "      <th>2</th>\n",
       "      <td>3</td>\n",
       "      <td>IN-2020-27828</td>\n",
       "      <td>2020-08-27</td>\n",
       "      <td>2020-08-31</td>\n",
       "      <td>표준 등급</td>\n",
       "      <td>VT-21700</td>\n",
       "      <td>Valerie Takahito</td>\n",
       "      <td>홈 오피스</td>\n",
       "      <td>Quanzhou</td>\n",
       "      <td>Fujian</td>\n",
       "      <td>China</td>\n",
       "      <td>북아시아</td>\n",
       "      <td>TEC-CO-10002526</td>\n",
       "      <td>기술</td>\n",
       "      <td>복사기</td>\n",
       "      <td>Sharp Wireless Fax, Digital</td>\n",
       "      <td>1422.240</td>\n",
       "      <td>4</td>\n",
       "      <td>0.00</td>\n",
       "      <td>526.200</td>\n",
       "    </tr>\n",
       "    <tr>\n",
       "      <th>3</th>\n",
       "      <td>4</td>\n",
       "      <td>IN-2020-27828</td>\n",
       "      <td>2020-08-27</td>\n",
       "      <td>2020-08-31</td>\n",
       "      <td>표준 등급</td>\n",
       "      <td>VT-21700</td>\n",
       "      <td>Valerie Takahito</td>\n",
       "      <td>홈 오피스</td>\n",
       "      <td>Quanzhou</td>\n",
       "      <td>Fujian</td>\n",
       "      <td>China</td>\n",
       "      <td>북아시아</td>\n",
       "      <td>TEC-AC-10002255</td>\n",
       "      <td>기술</td>\n",
       "      <td>액세서리</td>\n",
       "      <td>Memorex Keyboard, Erganomic</td>\n",
       "      <td>207.450</td>\n",
       "      <td>3</td>\n",
       "      <td>0.00</td>\n",
       "      <td>78.750</td>\n",
       "    </tr>\n",
       "    <tr>\n",
       "      <th>4</th>\n",
       "      <td>5</td>\n",
       "      <td>IN-2021-63178</td>\n",
       "      <td>2021-06-24</td>\n",
       "      <td>2021-06-30</td>\n",
       "      <td>표준 등급</td>\n",
       "      <td>SO-20335</td>\n",
       "      <td>Sean O'Donnell</td>\n",
       "      <td>일반 소비자</td>\n",
       "      <td>Marikina</td>\n",
       "      <td>Metro Manila</td>\n",
       "      <td>Philippines</td>\n",
       "      <td>동남아시아</td>\n",
       "      <td>OFF-AP-10002882</td>\n",
       "      <td>사무용품</td>\n",
       "      <td>가전 제품</td>\n",
       "      <td>KitchenAid Coffee Grinder, Silver</td>\n",
       "      <td>121.074</td>\n",
       "      <td>2</td>\n",
       "      <td>0.15</td>\n",
       "      <td>37.014</td>\n",
       "    </tr>\n",
       "  </tbody>\n",
       "</table>\n",
       "</div>"
      ],
      "text/plain": [
       "   행 ID          주문 ID       주문 날짜       배송 날짜  배송 형태     고객 ID  \\\n",
       "0     1  IN-2020-27828  2020-08-27  2020-08-31  표준 등급  VT-21700   \n",
       "1     2  IN-2020-27828  2020-08-27  2020-08-31  표준 등급  VT-21700   \n",
       "2     3  IN-2020-27828  2020-08-27  2020-08-31  표준 등급  VT-21700   \n",
       "3     4  IN-2020-27828  2020-08-27  2020-08-31  표준 등급  VT-21700   \n",
       "4     5  IN-2021-63178  2021-06-24  2021-06-30  표준 등급  SO-20335   \n",
       "\n",
       "              고객 이름    세그먼트        도시           시/도        국가/지역     지역  \\\n",
       "0  Valerie Takahito   홈 오피스  Quanzhou        Fujian        China   북아시아   \n",
       "1  Valerie Takahito   홈 오피스  Quanzhou        Fujian        China   북아시아   \n",
       "2  Valerie Takahito   홈 오피스  Quanzhou        Fujian        China   북아시아   \n",
       "3  Valerie Takahito   홈 오피스  Quanzhou        Fujian        China   북아시아   \n",
       "4    Sean O'Donnell  일반 소비자  Marikina  Metro Manila  Philippines  동남아시아   \n",
       "\n",
       "             제품 ID    범주   하위 범주                              제품 이름        매출  \\\n",
       "0  OFF-PA-10000026  사무용품      용지  Eaton Cards & Envelopes, 8.5 x 11   197.280   \n",
       "1  FUR-FU-10000944    가구  사무용 집기             Tenex Door Stop, Black   307.230   \n",
       "2  TEC-CO-10002526    기술     복사기        Sharp Wireless Fax, Digital  1422.240   \n",
       "3  TEC-AC-10002255    기술    액세서리        Memorex Keyboard, Erganomic   207.450   \n",
       "4  OFF-AP-10002882  사무용품   가전 제품  KitchenAid Coffee Grinder, Silver   121.074   \n",
       "\n",
       "   수량   할인율       수익  \n",
       "0   4  0.00   35.400  \n",
       "1   7  0.00   21.420  \n",
       "2   4  0.00  526.200  \n",
       "3   3  0.00   78.750  \n",
       "4   2  0.15   37.014  "
      ]
     },
     "execution_count": 2,
     "metadata": {},
     "output_type": "execute_result"
    }
   ],
   "source": [
    "df_order = pd.read_csv('../data/슈퍼스토어 - 샘플.xls - 주문.csv')\n",
    "df_order.head()"
   ]
  },
  {
   "cell_type": "code",
   "execution_count": 3,
   "id": "1199e488",
   "metadata": {
    "ExecuteTime": {
     "end_time": "2023-02-11T14:36:11.778439Z",
     "start_time": "2023-02-11T14:36:11.764474Z"
    }
   },
   "outputs": [
    {
     "data": {
      "text/plain": [
       "(10933, 20)"
      ]
     },
     "execution_count": 3,
     "metadata": {},
     "output_type": "execute_result"
    }
   ],
   "source": [
    "df_order.shape"
   ]
  },
  {
   "cell_type": "code",
   "execution_count": 4,
   "id": "e7b27736",
   "metadata": {
    "ExecuteTime": {
     "end_time": "2023-02-11T14:36:11.826321Z",
     "start_time": "2023-02-11T14:36:11.782427Z"
    }
   },
   "outputs": [
    {
     "data": {
      "text/html": [
       "<div>\n",
       "<style scoped>\n",
       "    .dataframe tbody tr th:only-of-type {\n",
       "        vertical-align: middle;\n",
       "    }\n",
       "\n",
       "    .dataframe tbody tr th {\n",
       "        vertical-align: top;\n",
       "    }\n",
       "\n",
       "    .dataframe thead th {\n",
       "        text-align: right;\n",
       "    }\n",
       "</style>\n",
       "<table border=\"1\" class=\"dataframe\">\n",
       "  <thead>\n",
       "    <tr style=\"text-align: right;\">\n",
       "      <th></th>\n",
       "      <th>주문 ID</th>\n",
       "      <th>반품</th>\n",
       "    </tr>\n",
       "  </thead>\n",
       "  <tbody>\n",
       "    <tr>\n",
       "      <th>0</th>\n",
       "      <td>ID-2018-17286</td>\n",
       "      <td>예</td>\n",
       "    </tr>\n",
       "    <tr>\n",
       "      <th>1</th>\n",
       "      <td>ID-2018-17286</td>\n",
       "      <td>예</td>\n",
       "    </tr>\n",
       "    <tr>\n",
       "      <th>2</th>\n",
       "      <td>ID-2018-20604</td>\n",
       "      <td>예</td>\n",
       "    </tr>\n",
       "    <tr>\n",
       "      <th>3</th>\n",
       "      <td>ID-2018-20604</td>\n",
       "      <td>예</td>\n",
       "    </tr>\n",
       "    <tr>\n",
       "      <th>4</th>\n",
       "      <td>ID-2018-20604</td>\n",
       "      <td>예</td>\n",
       "    </tr>\n",
       "  </tbody>\n",
       "</table>\n",
       "</div>"
      ],
      "text/plain": [
       "           주문 ID 반품\n",
       "0  ID-2018-17286  예\n",
       "1  ID-2018-17286  예\n",
       "2  ID-2018-20604  예\n",
       "3  ID-2018-20604  예\n",
       "4  ID-2018-20604  예"
      ]
     },
     "execution_count": 4,
     "metadata": {},
     "output_type": "execute_result"
    }
   ],
   "source": [
    "df_return = pd.read_csv('../data/슈퍼스토어 - 샘플.xls - 반품 정리.csv')\n",
    "df_return.head()"
   ]
  },
  {
   "cell_type": "code",
   "execution_count": 5,
   "id": "f76d62b5",
   "metadata": {
    "ExecuteTime": {
     "end_time": "2023-02-11T14:36:11.868621Z",
     "start_time": "2023-02-11T14:36:11.828381Z"
    }
   },
   "outputs": [
    {
     "data": {
      "text/html": [
       "<div>\n",
       "<style scoped>\n",
       "    .dataframe tbody tr th:only-of-type {\n",
       "        vertical-align: middle;\n",
       "    }\n",
       "\n",
       "    .dataframe tbody tr th {\n",
       "        vertical-align: top;\n",
       "    }\n",
       "\n",
       "    .dataframe thead th {\n",
       "        text-align: right;\n",
       "    }\n",
       "</style>\n",
       "<table border=\"1\" class=\"dataframe\">\n",
       "  <thead>\n",
       "    <tr style=\"text-align: right;\">\n",
       "      <th></th>\n",
       "      <th>사람</th>\n",
       "      <th>지역</th>\n",
       "    </tr>\n",
       "  </thead>\n",
       "  <tbody>\n",
       "    <tr>\n",
       "      <th>0</th>\n",
       "      <td>Sanjit Engle</td>\n",
       "      <td>동남아시아</td>\n",
       "    </tr>\n",
       "    <tr>\n",
       "      <th>1</th>\n",
       "      <td>Maribeth Dona</td>\n",
       "      <td>중앙아시아</td>\n",
       "    </tr>\n",
       "    <tr>\n",
       "      <th>2</th>\n",
       "      <td>Alex Avila</td>\n",
       "      <td>북아시아</td>\n",
       "    </tr>\n",
       "    <tr>\n",
       "      <th>3</th>\n",
       "      <td>Nora Pelletier</td>\n",
       "      <td>오세아니아</td>\n",
       "    </tr>\n",
       "  </tbody>\n",
       "</table>\n",
       "</div>"
      ],
      "text/plain": [
       "               사람     지역\n",
       "0    Sanjit Engle  동남아시아\n",
       "1   Maribeth Dona  중앙아시아\n",
       "2      Alex Avila   북아시아\n",
       "3  Nora Pelletier  오세아니아"
      ]
     },
     "execution_count": 5,
     "metadata": {},
     "output_type": "execute_result"
    }
   ],
   "source": [
    "df_human = pd.read_csv('../data/슈퍼스토어 - 샘플.xls - 인력.csv')\n",
    "df_human.head()"
   ]
  },
  {
   "cell_type": "code",
   "execution_count": 6,
   "id": "982a5666",
   "metadata": {
    "ExecuteTime": {
     "end_time": "2023-02-11T14:36:11.884558Z",
     "start_time": "2023-02-11T14:36:11.872584Z"
    }
   },
   "outputs": [
    {
     "data": {
      "text/plain": [
       "array(['China', 'Philippines', 'India', 'Japan', 'Australia', 'Indonesia',\n",
       "       'Vietnam', 'Malaysia', 'Thailand', 'Cambodia', 'Pakistan',\n",
       "       'Myanmar (Burma)', 'South Korea', 'Nepal', 'Afghanistan',\n",
       "       'Bangladesh', 'Singapore', 'Sri Lanka', 'Papua New Guinea',\n",
       "       'Mongolia', 'Taiwan', 'New Zealand'], dtype=object)"
      ]
     },
     "execution_count": 6,
     "metadata": {},
     "output_type": "execute_result"
    }
   ],
   "source": [
    "df_order['국가/지역'].unique()"
   ]
  },
  {
   "cell_type": "code",
   "execution_count": 7,
   "id": "5af74c14",
   "metadata": {
    "ExecuteTime": {
     "end_time": "2023-02-11T14:36:11.910131Z",
     "start_time": "2023-02-11T14:36:11.889539Z"
    }
   },
   "outputs": [
    {
     "data": {
      "text/plain": [
       "1261"
      ]
     },
     "execution_count": 7,
     "metadata": {},
     "output_type": "execute_result"
    }
   ],
   "source": [
    "df_order['주문 날짜'].nunique()"
   ]
  },
  {
   "cell_type": "code",
   "execution_count": 8,
   "id": "ceb816d0",
   "metadata": {
    "ExecuteTime": {
     "end_time": "2023-02-11T14:36:11.962071Z",
     "start_time": "2023-02-11T14:36:11.913123Z"
    }
   },
   "outputs": [
    {
     "data": {
      "text/plain": [
       "행 ID     0\n",
       "주문 ID    0\n",
       "주문 날짜    0\n",
       "배송 날짜    0\n",
       "배송 형태    0\n",
       "고객 ID    0\n",
       "고객 이름    0\n",
       "세그먼트     0\n",
       "도시       0\n",
       "시/도      0\n",
       "국가/지역    0\n",
       "지역       0\n",
       "제품 ID    0\n",
       "범주       0\n",
       "하위 범주    0\n",
       "제품 이름    0\n",
       "매출       0\n",
       "수량       0\n",
       "할인율      0\n",
       "수익       0\n",
       "dtype: int64"
      ]
     },
     "execution_count": 8,
     "metadata": {},
     "output_type": "execute_result"
    }
   ],
   "source": [
    "df_order.isnull().sum()"
   ]
  },
  {
   "cell_type": "code",
   "execution_count": 9,
   "id": "f8e06f54",
   "metadata": {
    "ExecuteTime": {
     "end_time": "2023-02-11T14:36:11.978031Z",
     "start_time": "2023-02-11T14:36:11.965064Z"
    }
   },
   "outputs": [
    {
     "data": {
      "text/plain": [
       "주문 ID    0\n",
       "반품       0\n",
       "dtype: int64"
      ]
     },
     "execution_count": 9,
     "metadata": {},
     "output_type": "execute_result"
    }
   ],
   "source": [
    "df_return.isnull().sum()"
   ]
  },
  {
   "cell_type": "code",
   "execution_count": 10,
   "id": "f6f6ef63",
   "metadata": {
    "ExecuteTime": {
     "end_time": "2023-02-11T14:36:11.992557Z",
     "start_time": "2023-02-11T14:36:11.984014Z"
    }
   },
   "outputs": [
    {
     "data": {
      "text/plain": [
       "296"
      ]
     },
     "execution_count": 10,
     "metadata": {},
     "output_type": "execute_result"
    }
   ],
   "source": [
    "df_return['주문 ID'].nunique()"
   ]
  },
  {
   "cell_type": "code",
   "execution_count": 11,
   "id": "367901b0",
   "metadata": {
    "ExecuteTime": {
     "end_time": "2023-02-11T14:36:12.008093Z",
     "start_time": "2023-02-11T14:36:11.992557Z"
    }
   },
   "outputs": [
    {
     "data": {
      "text/plain": [
       "(10933, 20)"
      ]
     },
     "execution_count": 11,
     "metadata": {},
     "output_type": "execute_result"
    }
   ],
   "source": [
    "df_order.shape"
   ]
  },
  {
   "cell_type": "code",
   "execution_count": 12,
   "id": "6568d6a4",
   "metadata": {
    "ExecuteTime": {
     "end_time": "2023-02-11T14:36:12.049148Z",
     "start_time": "2023-02-11T14:36:12.011071Z"
    }
   },
   "outputs": [
    {
     "data": {
      "text/html": [
       "<div>\n",
       "<style scoped>\n",
       "    .dataframe tbody tr th:only-of-type {\n",
       "        vertical-align: middle;\n",
       "    }\n",
       "\n",
       "    .dataframe tbody tr th {\n",
       "        vertical-align: top;\n",
       "    }\n",
       "\n",
       "    .dataframe thead th {\n",
       "        text-align: right;\n",
       "    }\n",
       "</style>\n",
       "<table border=\"1\" class=\"dataframe\">\n",
       "  <thead>\n",
       "    <tr style=\"text-align: right;\">\n",
       "      <th></th>\n",
       "      <th>행 ID</th>\n",
       "      <th>매출</th>\n",
       "      <th>수량</th>\n",
       "      <th>할인율</th>\n",
       "      <th>수익</th>\n",
       "    </tr>\n",
       "  </thead>\n",
       "  <tbody>\n",
       "    <tr>\n",
       "      <th>count</th>\n",
       "      <td>10933.000000</td>\n",
       "      <td>10933.000000</td>\n",
       "      <td>10933.000000</td>\n",
       "      <td>10933.000000</td>\n",
       "      <td>10933.000000</td>\n",
       "    </tr>\n",
       "    <tr>\n",
       "      <th>mean</th>\n",
       "      <td>5501.108570</td>\n",
       "      <td>326.208731</td>\n",
       "      <td>3.752127</td>\n",
       "      <td>0.149724</td>\n",
       "      <td>39.518374</td>\n",
       "    </tr>\n",
       "    <tr>\n",
       "      <th>std</th>\n",
       "      <td>3179.318347</td>\n",
       "      <td>552.275866</td>\n",
       "      <td>2.260526</td>\n",
       "      <td>0.176511</td>\n",
       "      <td>170.856873</td>\n",
       "    </tr>\n",
       "    <tr>\n",
       "      <th>min</th>\n",
       "      <td>1.000000</td>\n",
       "      <td>2.880000</td>\n",
       "      <td>1.000000</td>\n",
       "      <td>0.000000</td>\n",
       "      <td>-3009.435000</td>\n",
       "    </tr>\n",
       "    <tr>\n",
       "      <th>25%</th>\n",
       "      <td>2747.000000</td>\n",
       "      <td>47.079900</td>\n",
       "      <td>2.000000</td>\n",
       "      <td>0.000000</td>\n",
       "      <td>-3.103200</td>\n",
       "    </tr>\n",
       "    <tr>\n",
       "      <th>50%</th>\n",
       "      <td>5493.000000</td>\n",
       "      <td>122.796000</td>\n",
       "      <td>3.000000</td>\n",
       "      <td>0.100000</td>\n",
       "      <td>10.830000</td>\n",
       "    </tr>\n",
       "    <tr>\n",
       "      <th>75%</th>\n",
       "      <td>8262.000000</td>\n",
       "      <td>348.300000</td>\n",
       "      <td>5.000000</td>\n",
       "      <td>0.270000</td>\n",
       "      <td>48.385500</td>\n",
       "    </tr>\n",
       "    <tr>\n",
       "      <th>max</th>\n",
       "      <td>11000.000000</td>\n",
       "      <td>6998.640000</td>\n",
       "      <td>14.000000</td>\n",
       "      <td>0.800000</td>\n",
       "      <td>2939.310000</td>\n",
       "    </tr>\n",
       "  </tbody>\n",
       "</table>\n",
       "</div>"
      ],
      "text/plain": [
       "               행 ID            매출            수량           할인율            수익\n",
       "count  10933.000000  10933.000000  10933.000000  10933.000000  10933.000000\n",
       "mean    5501.108570    326.208731      3.752127      0.149724     39.518374\n",
       "std     3179.318347    552.275866      2.260526      0.176511    170.856873\n",
       "min        1.000000      2.880000      1.000000      0.000000  -3009.435000\n",
       "25%     2747.000000     47.079900      2.000000      0.000000     -3.103200\n",
       "50%     5493.000000    122.796000      3.000000      0.100000     10.830000\n",
       "75%     8262.000000    348.300000      5.000000      0.270000     48.385500\n",
       "max    11000.000000   6998.640000     14.000000      0.800000   2939.310000"
      ]
     },
     "execution_count": 12,
     "metadata": {},
     "output_type": "execute_result"
    }
   ],
   "source": [
    "df_order.describe()"
   ]
  },
  {
   "cell_type": "code",
   "execution_count": 13,
   "id": "87bb8b6a",
   "metadata": {
    "ExecuteTime": {
     "end_time": "2023-02-11T14:36:12.126769Z",
     "start_time": "2023-02-11T14:36:12.055065Z"
    }
   },
   "outputs": [
    {
     "data": {
      "text/html": [
       "<div>\n",
       "<style scoped>\n",
       "    .dataframe tbody tr th:only-of-type {\n",
       "        vertical-align: middle;\n",
       "    }\n",
       "\n",
       "    .dataframe tbody tr th {\n",
       "        vertical-align: top;\n",
       "    }\n",
       "\n",
       "    .dataframe thead th {\n",
       "        text-align: right;\n",
       "    }\n",
       "</style>\n",
       "<table border=\"1\" class=\"dataframe\">\n",
       "  <thead>\n",
       "    <tr style=\"text-align: right;\">\n",
       "      <th></th>\n",
       "      <th>nan_count</th>\n",
       "    </tr>\n",
       "  </thead>\n",
       "  <tbody>\n",
       "    <tr>\n",
       "      <th>행 ID</th>\n",
       "      <td>0</td>\n",
       "    </tr>\n",
       "    <tr>\n",
       "      <th>주문 ID</th>\n",
       "      <td>0</td>\n",
       "    </tr>\n",
       "    <tr>\n",
       "      <th>주문 날짜</th>\n",
       "      <td>0</td>\n",
       "    </tr>\n",
       "    <tr>\n",
       "      <th>배송 날짜</th>\n",
       "      <td>0</td>\n",
       "    </tr>\n",
       "    <tr>\n",
       "      <th>배송 형태</th>\n",
       "      <td>0</td>\n",
       "    </tr>\n",
       "    <tr>\n",
       "      <th>고객 ID</th>\n",
       "      <td>0</td>\n",
       "    </tr>\n",
       "    <tr>\n",
       "      <th>고객 이름</th>\n",
       "      <td>0</td>\n",
       "    </tr>\n",
       "    <tr>\n",
       "      <th>세그먼트</th>\n",
       "      <td>0</td>\n",
       "    </tr>\n",
       "    <tr>\n",
       "      <th>도시</th>\n",
       "      <td>0</td>\n",
       "    </tr>\n",
       "    <tr>\n",
       "      <th>시/도</th>\n",
       "      <td>0</td>\n",
       "    </tr>\n",
       "    <tr>\n",
       "      <th>국가/지역</th>\n",
       "      <td>0</td>\n",
       "    </tr>\n",
       "    <tr>\n",
       "      <th>지역</th>\n",
       "      <td>0</td>\n",
       "    </tr>\n",
       "    <tr>\n",
       "      <th>제품 ID</th>\n",
       "      <td>0</td>\n",
       "    </tr>\n",
       "    <tr>\n",
       "      <th>범주</th>\n",
       "      <td>0</td>\n",
       "    </tr>\n",
       "    <tr>\n",
       "      <th>하위 범주</th>\n",
       "      <td>0</td>\n",
       "    </tr>\n",
       "    <tr>\n",
       "      <th>제품 이름</th>\n",
       "      <td>0</td>\n",
       "    </tr>\n",
       "    <tr>\n",
       "      <th>매출</th>\n",
       "      <td>0</td>\n",
       "    </tr>\n",
       "    <tr>\n",
       "      <th>수량</th>\n",
       "      <td>0</td>\n",
       "    </tr>\n",
       "    <tr>\n",
       "      <th>할인율</th>\n",
       "      <td>0</td>\n",
       "    </tr>\n",
       "    <tr>\n",
       "      <th>수익</th>\n",
       "      <td>0</td>\n",
       "    </tr>\n",
       "  </tbody>\n",
       "</table>\n",
       "</div>"
      ],
      "text/plain": [
       "       nan_count\n",
       "행 ID           0\n",
       "주문 ID          0\n",
       "주문 날짜          0\n",
       "배송 날짜          0\n",
       "배송 형태          0\n",
       "고객 ID          0\n",
       "고객 이름          0\n",
       "세그먼트           0\n",
       "도시             0\n",
       "시/도            0\n",
       "국가/지역          0\n",
       "지역             0\n",
       "제품 ID          0\n",
       "범주             0\n",
       "하위 범주          0\n",
       "제품 이름          0\n",
       "매출             0\n",
       "수량             0\n",
       "할인율            0\n",
       "수익             0"
      ]
     },
     "execution_count": 13,
     "metadata": {},
     "output_type": "execute_result"
    }
   ],
   "source": [
    "# 결측치 개수 파악\n",
    "# 셀 실행 결과를 데이터프레임으로 보고 싶을 때 to_frame()과 pd.DataFrame() 두 가지를 사용 가능\n",
    "df_order.isnull().sum().to_frame('nan_count')\n",
    "pd.DataFrame(df_order.isnull().sum(), columns=['nan_count'])"
   ]
  },
  {
   "cell_type": "code",
   "execution_count": 14,
   "id": "ebf3cc67",
   "metadata": {
    "ExecuteTime": {
     "end_time": "2023-02-11T14:36:12.174758Z",
     "start_time": "2023-02-11T14:36:12.129761Z"
    }
   },
   "outputs": [
    {
     "data": {
      "text/html": [
       "<div>\n",
       "<style scoped>\n",
       "    .dataframe tbody tr th:only-of-type {\n",
       "        vertical-align: middle;\n",
       "    }\n",
       "\n",
       "    .dataframe tbody tr th {\n",
       "        vertical-align: top;\n",
       "    }\n",
       "\n",
       "    .dataframe thead th {\n",
       "        text-align: right;\n",
       "    }\n",
       "</style>\n",
       "<table border=\"1\" class=\"dataframe\">\n",
       "  <thead>\n",
       "    <tr style=\"text-align: right;\">\n",
       "      <th></th>\n",
       "      <th>nan_ratio</th>\n",
       "    </tr>\n",
       "  </thead>\n",
       "  <tbody>\n",
       "    <tr>\n",
       "      <th>행 ID</th>\n",
       "      <td>0.0</td>\n",
       "    </tr>\n",
       "    <tr>\n",
       "      <th>주문 ID</th>\n",
       "      <td>0.0</td>\n",
       "    </tr>\n",
       "    <tr>\n",
       "      <th>주문 날짜</th>\n",
       "      <td>0.0</td>\n",
       "    </tr>\n",
       "    <tr>\n",
       "      <th>배송 날짜</th>\n",
       "      <td>0.0</td>\n",
       "    </tr>\n",
       "    <tr>\n",
       "      <th>배송 형태</th>\n",
       "      <td>0.0</td>\n",
       "    </tr>\n",
       "    <tr>\n",
       "      <th>고객 ID</th>\n",
       "      <td>0.0</td>\n",
       "    </tr>\n",
       "    <tr>\n",
       "      <th>고객 이름</th>\n",
       "      <td>0.0</td>\n",
       "    </tr>\n",
       "    <tr>\n",
       "      <th>세그먼트</th>\n",
       "      <td>0.0</td>\n",
       "    </tr>\n",
       "    <tr>\n",
       "      <th>도시</th>\n",
       "      <td>0.0</td>\n",
       "    </tr>\n",
       "    <tr>\n",
       "      <th>시/도</th>\n",
       "      <td>0.0</td>\n",
       "    </tr>\n",
       "    <tr>\n",
       "      <th>국가/지역</th>\n",
       "      <td>0.0</td>\n",
       "    </tr>\n",
       "    <tr>\n",
       "      <th>지역</th>\n",
       "      <td>0.0</td>\n",
       "    </tr>\n",
       "    <tr>\n",
       "      <th>제품 ID</th>\n",
       "      <td>0.0</td>\n",
       "    </tr>\n",
       "    <tr>\n",
       "      <th>범주</th>\n",
       "      <td>0.0</td>\n",
       "    </tr>\n",
       "    <tr>\n",
       "      <th>하위 범주</th>\n",
       "      <td>0.0</td>\n",
       "    </tr>\n",
       "    <tr>\n",
       "      <th>제품 이름</th>\n",
       "      <td>0.0</td>\n",
       "    </tr>\n",
       "    <tr>\n",
       "      <th>매출</th>\n",
       "      <td>0.0</td>\n",
       "    </tr>\n",
       "    <tr>\n",
       "      <th>수량</th>\n",
       "      <td>0.0</td>\n",
       "    </tr>\n",
       "    <tr>\n",
       "      <th>할인율</th>\n",
       "      <td>0.0</td>\n",
       "    </tr>\n",
       "    <tr>\n",
       "      <th>수익</th>\n",
       "      <td>0.0</td>\n",
       "    </tr>\n",
       "  </tbody>\n",
       "</table>\n",
       "</div>"
      ],
      "text/plain": [
       "       nan_ratio\n",
       "행 ID         0.0\n",
       "주문 ID        0.0\n",
       "주문 날짜        0.0\n",
       "배송 날짜        0.0\n",
       "배송 형태        0.0\n",
       "고객 ID        0.0\n",
       "고객 이름        0.0\n",
       "세그먼트         0.0\n",
       "도시           0.0\n",
       "시/도          0.0\n",
       "국가/지역        0.0\n",
       "지역           0.0\n",
       "제품 ID        0.0\n",
       "범주           0.0\n",
       "하위 범주        0.0\n",
       "제품 이름        0.0\n",
       "매출           0.0\n",
       "수량           0.0\n",
       "할인율          0.0\n",
       "수익           0.0"
      ]
     },
     "execution_count": 14,
     "metadata": {},
     "output_type": "execute_result"
    }
   ],
   "source": [
    "# 결측치 비율 파악\n",
    "pd.DataFrame(data=df_order.isnull().sum()/len(df_order), columns=['nan_ratio'])"
   ]
  },
  {
   "cell_type": "markdown",
   "id": "ecebe10a",
   "metadata": {},
   "source": [
    "## 컬럼 확인하기"
   ]
  },
  {
   "cell_type": "code",
   "execution_count": 15,
   "id": "317dbc6c",
   "metadata": {
    "ExecuteTime": {
     "end_time": "2023-02-11T14:36:12.205662Z",
     "start_time": "2023-02-11T14:36:12.176740Z"
    }
   },
   "outputs": [
    {
     "data": {
      "text/html": [
       "<div>\n",
       "<style scoped>\n",
       "    .dataframe tbody tr th:only-of-type {\n",
       "        vertical-align: middle;\n",
       "    }\n",
       "\n",
       "    .dataframe tbody tr th {\n",
       "        vertical-align: top;\n",
       "    }\n",
       "\n",
       "    .dataframe thead th {\n",
       "        text-align: right;\n",
       "    }\n",
       "</style>\n",
       "<table border=\"1\" class=\"dataframe\">\n",
       "  <thead>\n",
       "    <tr style=\"text-align: right;\">\n",
       "      <th></th>\n",
       "      <th>행 ID</th>\n",
       "      <th>주문 ID</th>\n",
       "      <th>주문 날짜</th>\n",
       "      <th>배송 날짜</th>\n",
       "      <th>배송 형태</th>\n",
       "      <th>고객 ID</th>\n",
       "      <th>고객 이름</th>\n",
       "      <th>세그먼트</th>\n",
       "      <th>도시</th>\n",
       "      <th>시/도</th>\n",
       "      <th>국가/지역</th>\n",
       "      <th>지역</th>\n",
       "      <th>제품 ID</th>\n",
       "      <th>범주</th>\n",
       "      <th>하위 범주</th>\n",
       "      <th>제품 이름</th>\n",
       "      <th>매출</th>\n",
       "      <th>수량</th>\n",
       "      <th>할인율</th>\n",
       "      <th>수익</th>\n",
       "    </tr>\n",
       "  </thead>\n",
       "  <tbody>\n",
       "    <tr>\n",
       "      <th>0</th>\n",
       "      <td>1</td>\n",
       "      <td>IN-2020-27828</td>\n",
       "      <td>2020-08-27</td>\n",
       "      <td>2020-08-31</td>\n",
       "      <td>표준 등급</td>\n",
       "      <td>VT-21700</td>\n",
       "      <td>Valerie Takahito</td>\n",
       "      <td>홈 오피스</td>\n",
       "      <td>Quanzhou</td>\n",
       "      <td>Fujian</td>\n",
       "      <td>China</td>\n",
       "      <td>북아시아</td>\n",
       "      <td>OFF-PA-10000026</td>\n",
       "      <td>사무용품</td>\n",
       "      <td>용지</td>\n",
       "      <td>Eaton Cards &amp; Envelopes, 8.5 x 11</td>\n",
       "      <td>197.28</td>\n",
       "      <td>4</td>\n",
       "      <td>0.0</td>\n",
       "      <td>35.4</td>\n",
       "    </tr>\n",
       "  </tbody>\n",
       "</table>\n",
       "</div>"
      ],
      "text/plain": [
       "   행 ID          주문 ID       주문 날짜       배송 날짜  배송 형태     고객 ID  \\\n",
       "0     1  IN-2020-27828  2020-08-27  2020-08-31  표준 등급  VT-21700   \n",
       "\n",
       "              고객 이름   세그먼트        도시     시/도  국가/지역    지역            제품 ID  \\\n",
       "0  Valerie Takahito  홈 오피스  Quanzhou  Fujian  China  북아시아  OFF-PA-10000026   \n",
       "\n",
       "     범주 하위 범주                              제품 이름      매출  수량  할인율    수익  \n",
       "0  사무용품    용지  Eaton Cards & Envelopes, 8.5 x 11  197.28   4  0.0  35.4  "
      ]
     },
     "execution_count": 15,
     "metadata": {},
     "output_type": "execute_result"
    }
   ],
   "source": [
    "df_order.head(1)"
   ]
  },
  {
   "cell_type": "code",
   "execution_count": 16,
   "id": "238e88ac",
   "metadata": {
    "ExecuteTime": {
     "end_time": "2023-02-11T14:36:12.228748Z",
     "start_time": "2023-02-11T14:36:12.208655Z"
    }
   },
   "outputs": [
    {
     "data": {
      "text/plain": [
       "10933"
      ]
     },
     "execution_count": 16,
     "metadata": {},
     "output_type": "execute_result"
    }
   ],
   "source": [
    "# order 테이블\n",
    "# 행 ID\n",
    "df_order['행 ID'].nunique()"
   ]
  },
  {
   "cell_type": "code",
   "execution_count": 17,
   "id": "d74a9582",
   "metadata": {
    "ExecuteTime": {
     "end_time": "2023-02-11T14:36:12.260663Z",
     "start_time": "2023-02-11T14:36:12.233736Z"
    }
   },
   "outputs": [
    {
     "data": {
      "text/plain": [
       "5397"
      ]
     },
     "execution_count": 17,
     "metadata": {},
     "output_type": "execute_result"
    }
   ],
   "source": [
    "# 주문 ID\n",
    "df_order['주문 ID'].nunique()"
   ]
  },
  {
   "cell_type": "code",
   "execution_count": 18,
   "id": "94888abb",
   "metadata": {
    "ExecuteTime": {
     "end_time": "2023-02-11T14:36:12.276621Z",
     "start_time": "2023-02-11T14:36:12.267645Z"
    }
   },
   "outputs": [],
   "source": [
    "# 아이디 갯수 시각화\n"
   ]
  },
  {
   "cell_type": "code",
   "execution_count": 19,
   "id": "cf26b09c",
   "metadata": {
    "ExecuteTime": {
     "end_time": "2023-02-11T14:36:12.292578Z",
     "start_time": "2023-02-11T14:36:12.280611Z"
    }
   },
   "outputs": [
    {
     "data": {
      "text/plain": [
       "1261"
      ]
     },
     "execution_count": 19,
     "metadata": {},
     "output_type": "execute_result"
    }
   ],
   "source": [
    "# 주문 날짜\n",
    "df_order['주문 날짜'].nunique()"
   ]
  },
  {
   "cell_type": "code",
   "execution_count": 20,
   "id": "fb94c77f",
   "metadata": {
    "ExecuteTime": {
     "end_time": "2023-02-11T14:36:12.308536Z",
     "start_time": "2023-02-11T14:36:12.296568Z"
    }
   },
   "outputs": [
    {
     "data": {
      "text/plain": [
       "'2018-01-01'"
      ]
     },
     "execution_count": 20,
     "metadata": {},
     "output_type": "execute_result"
    }
   ],
   "source": [
    "df_order['주문 날짜'].min()"
   ]
  },
  {
   "cell_type": "code",
   "execution_count": 21,
   "id": "0cb98165",
   "metadata": {
    "ExecuteTime": {
     "end_time": "2023-02-11T14:36:12.323214Z",
     "start_time": "2023-02-11T14:36:12.311528Z"
    }
   },
   "outputs": [
    {
     "data": {
      "text/plain": [
       "'2021-12-31'"
      ]
     },
     "execution_count": 21,
     "metadata": {},
     "output_type": "execute_result"
    }
   ],
   "source": [
    "df_order['주문 날짜'].max()"
   ]
  },
  {
   "cell_type": "code",
   "execution_count": 22,
   "id": "7fe899cf",
   "metadata": {
    "ExecuteTime": {
     "end_time": "2023-02-11T14:36:12.353400Z",
     "start_time": "2023-02-11T14:36:12.323214Z"
    }
   },
   "outputs": [
    {
     "data": {
      "text/plain": [
       "1375"
      ]
     },
     "execution_count": 22,
     "metadata": {},
     "output_type": "execute_result"
    }
   ],
   "source": [
    "# 배송 날짜\n",
    "df_order['배송 날짜'].nunique()"
   ]
  },
  {
   "cell_type": "code",
   "execution_count": 23,
   "id": "2aa2cdef",
   "metadata": {
    "ExecuteTime": {
     "end_time": "2023-02-11T14:36:12.368360Z",
     "start_time": "2023-02-11T14:36:12.357389Z"
    }
   },
   "outputs": [
    {
     "data": {
      "text/plain": [
       "'2018-01-03'"
      ]
     },
     "execution_count": 23,
     "metadata": {},
     "output_type": "execute_result"
    }
   ],
   "source": [
    "df_order['배송 날짜'].min()"
   ]
  },
  {
   "cell_type": "code",
   "execution_count": 24,
   "id": "1b72701e",
   "metadata": {
    "ExecuteTime": {
     "end_time": "2023-02-11T14:36:12.384317Z",
     "start_time": "2023-02-11T14:36:12.372349Z"
    }
   },
   "outputs": [
    {
     "data": {
      "text/plain": [
       "'2022-01-07'"
      ]
     },
     "execution_count": 24,
     "metadata": {},
     "output_type": "execute_result"
    }
   ],
   "source": [
    "df_order['배송 날짜'].max()"
   ]
  },
  {
   "cell_type": "code",
   "execution_count": 25,
   "id": "15d9733b",
   "metadata": {
    "ExecuteTime": {
     "end_time": "2023-02-11T14:36:12.400274Z",
     "start_time": "2023-02-11T14:36:12.387309Z"
    }
   },
   "outputs": [
    {
     "data": {
      "text/plain": [
       "795"
      ]
     },
     "execution_count": 25,
     "metadata": {},
     "output_type": "execute_result"
    }
   ],
   "source": [
    "# 고객 ID\n",
    "df_order['고객 ID'].nunique()"
   ]
  },
  {
   "cell_type": "code",
   "execution_count": 26,
   "id": "a1ab3dea",
   "metadata": {
    "ExecuteTime": {
     "end_time": "2023-02-11T14:36:12.416768Z",
     "start_time": "2023-02-11T14:36:12.401188Z"
    }
   },
   "outputs": [
    {
     "data": {
      "text/plain": [
       "795"
      ]
     },
     "execution_count": 26,
     "metadata": {},
     "output_type": "execute_result"
    }
   ],
   "source": [
    "# 고객 이름\n",
    "df_order['고객 이름'].nunique()"
   ]
  },
  {
   "cell_type": "code",
   "execution_count": 27,
   "id": "c6785f81",
   "metadata": {
    "ExecuteTime": {
     "end_time": "2023-02-11T14:36:12.432725Z",
     "start_time": "2023-02-11T14:36:12.421755Z"
    }
   },
   "outputs": [
    {
     "data": {
      "text/plain": [
       "3"
      ]
     },
     "execution_count": 27,
     "metadata": {},
     "output_type": "execute_result"
    }
   ],
   "source": [
    "# 세그먼트\n",
    "df_order['세그먼트'].nunique()"
   ]
  },
  {
   "cell_type": "code",
   "execution_count": 28,
   "id": "f881f7ea",
   "metadata": {
    "ExecuteTime": {
     "end_time": "2023-02-11T14:36:12.464656Z",
     "start_time": "2023-02-11T14:36:12.445689Z"
    }
   },
   "outputs": [
    {
     "data": {
      "text/html": [
       "<div>\n",
       "<style scoped>\n",
       "    .dataframe tbody tr th:only-of-type {\n",
       "        vertical-align: middle;\n",
       "    }\n",
       "\n",
       "    .dataframe tbody tr th {\n",
       "        vertical-align: top;\n",
       "    }\n",
       "\n",
       "    .dataframe thead th {\n",
       "        text-align: right;\n",
       "    }\n",
       "</style>\n",
       "<table border=\"1\" class=\"dataframe\">\n",
       "  <thead>\n",
       "    <tr style=\"text-align: right;\">\n",
       "      <th></th>\n",
       "      <th>counts</th>\n",
       "    </tr>\n",
       "  </thead>\n",
       "  <tbody>\n",
       "    <tr>\n",
       "      <th>일반 소비자</th>\n",
       "      <td>5658</td>\n",
       "    </tr>\n",
       "    <tr>\n",
       "      <th>기업</th>\n",
       "      <td>3264</td>\n",
       "    </tr>\n",
       "    <tr>\n",
       "      <th>홈 오피스</th>\n",
       "      <td>2011</td>\n",
       "    </tr>\n",
       "  </tbody>\n",
       "</table>\n",
       "</div>"
      ],
      "text/plain": [
       "        counts\n",
       "일반 소비자    5658\n",
       "기업        3264\n",
       "홈 오피스     2011"
      ]
     },
     "execution_count": 28,
     "metadata": {},
     "output_type": "execute_result"
    }
   ],
   "source": [
    "df_order['세그먼트'].value_counts().to_frame('counts')"
   ]
  },
  {
   "cell_type": "code",
   "execution_count": 29,
   "id": "429946ed",
   "metadata": {
    "ExecuteTime": {
     "end_time": "2023-02-11T14:36:12.480596Z",
     "start_time": "2023-02-11T14:36:12.468630Z"
    }
   },
   "outputs": [
    {
     "data": {
      "text/plain": [
       "539"
      ]
     },
     "execution_count": 29,
     "metadata": {},
     "output_type": "execute_result"
    }
   ],
   "source": [
    "# 도시\n",
    "df_order['도시'].nunique()"
   ]
  },
  {
   "cell_type": "code",
   "execution_count": 30,
   "id": "35ecfcaa",
   "metadata": {
    "ExecuteTime": {
     "end_time": "2023-02-11T14:36:12.554664Z",
     "start_time": "2023-02-11T14:36:12.484586Z"
    }
   },
   "outputs": [
    {
     "data": {
      "text/html": [
       "<div>\n",
       "<style scoped>\n",
       "    .dataframe tbody tr th:only-of-type {\n",
       "        vertical-align: middle;\n",
       "    }\n",
       "\n",
       "    .dataframe tbody tr th {\n",
       "        vertical-align: top;\n",
       "    }\n",
       "\n",
       "    .dataframe thead th {\n",
       "        text-align: right;\n",
       "    }\n",
       "</style>\n",
       "<table border=\"1\" class=\"dataframe\">\n",
       "  <thead>\n",
       "    <tr style=\"text-align: right;\">\n",
       "      <th></th>\n",
       "      <th></th>\n",
       "      <th></th>\n",
       "      <th>도시</th>\n",
       "    </tr>\n",
       "    <tr>\n",
       "      <th>지역</th>\n",
       "      <th>국가/지역</th>\n",
       "      <th>시/도</th>\n",
       "      <th></th>\n",
       "    </tr>\n",
       "  </thead>\n",
       "  <tbody>\n",
       "    <tr>\n",
       "      <th rowspan=\"5\" valign=\"top\">동남아시아</th>\n",
       "      <th>Cambodia</th>\n",
       "      <th>Phnom Penh</th>\n",
       "      <td>[Phnom Penh]</td>\n",
       "    </tr>\n",
       "    <tr>\n",
       "      <th rowspan=\"4\" valign=\"top\">Indonesia</th>\n",
       "      <th>Aceh</th>\n",
       "      <td>[Banda Aceh]</td>\n",
       "    </tr>\n",
       "    <tr>\n",
       "      <th>Bali</th>\n",
       "      <td>[Denpasar]</td>\n",
       "    </tr>\n",
       "    <tr>\n",
       "      <th>Bengkulu</th>\n",
       "      <td>[Bengkulu]</td>\n",
       "    </tr>\n",
       "    <tr>\n",
       "      <th>Jakarta</th>\n",
       "      <td>[Jakarta]</td>\n",
       "    </tr>\n",
       "    <tr>\n",
       "      <th>...</th>\n",
       "      <th>...</th>\n",
       "      <th>...</th>\n",
       "      <td>...</td>\n",
       "    </tr>\n",
       "    <tr>\n",
       "      <th rowspan=\"5\" valign=\"top\">중앙아시아</th>\n",
       "      <th rowspan=\"4\" valign=\"top\">Pakistan</th>\n",
       "      <th>F.C.T.</th>\n",
       "      <td>[Islamabad]</td>\n",
       "    </tr>\n",
       "    <tr>\n",
       "      <th>Khyber Pakhtunkhwa</th>\n",
       "      <td>[Peshawar]</td>\n",
       "    </tr>\n",
       "    <tr>\n",
       "      <th>Punjab</th>\n",
       "      <td>[Lahore, Multan, Sargodha, Rawalpindi, Gujranw...</td>\n",
       "    </tr>\n",
       "    <tr>\n",
       "      <th>Sindh</th>\n",
       "      <td>[Hyderabad, Sukkur]</td>\n",
       "    </tr>\n",
       "    <tr>\n",
       "      <th>Sri Lanka</th>\n",
       "      <th>Western</th>\n",
       "      <td>[Colombo]</td>\n",
       "    </tr>\n",
       "  </tbody>\n",
       "</table>\n",
       "<p>182 rows × 1 columns</p>\n",
       "</div>"
      ],
      "text/plain": [
       "                                                                                   도시\n",
       "지역    국가/지역     시/도                                                                  \n",
       "동남아시아 Cambodia  Phnom Penh                                               [Phnom Penh]\n",
       "      Indonesia Aceh                                                     [Banda Aceh]\n",
       "                Bali                                                       [Denpasar]\n",
       "                Bengkulu                                                   [Bengkulu]\n",
       "                Jakarta                                                     [Jakarta]\n",
       "...                                                                               ...\n",
       "중앙아시아 Pakistan  F.C.T.                                                    [Islamabad]\n",
       "                Khyber Pakhtunkhwa                                         [Peshawar]\n",
       "                Punjab              [Lahore, Multan, Sargodha, Rawalpindi, Gujranw...\n",
       "                Sindh                                             [Hyderabad, Sukkur]\n",
       "      Sri Lanka Western                                                     [Colombo]\n",
       "\n",
       "[182 rows x 1 columns]"
      ]
     },
     "execution_count": 30,
     "metadata": {},
     "output_type": "execute_result"
    }
   ],
   "source": [
    "df_order.groupby(['지역', '국가/지역', '시/도'])['도시'].unique().to_frame()"
   ]
  },
  {
   "cell_type": "code",
   "execution_count": 31,
   "id": "5347ada1",
   "metadata": {
    "ExecuteTime": {
     "end_time": "2023-02-11T14:36:12.586579Z",
     "start_time": "2023-02-11T14:36:12.557665Z"
    }
   },
   "outputs": [
    {
     "data": {
      "text/html": [
       "<div>\n",
       "<style scoped>\n",
       "    .dataframe tbody tr th:only-of-type {\n",
       "        vertical-align: middle;\n",
       "    }\n",
       "\n",
       "    .dataframe tbody tr th {\n",
       "        vertical-align: top;\n",
       "    }\n",
       "\n",
       "    .dataframe thead th {\n",
       "        text-align: right;\n",
       "    }\n",
       "</style>\n",
       "<table border=\"1\" class=\"dataframe\">\n",
       "  <thead>\n",
       "    <tr style=\"text-align: right;\">\n",
       "      <th></th>\n",
       "      <th>국가/지역</th>\n",
       "    </tr>\n",
       "    <tr>\n",
       "      <th>지역</th>\n",
       "      <th></th>\n",
       "    </tr>\n",
       "  </thead>\n",
       "  <tbody>\n",
       "    <tr>\n",
       "      <th>동남아시아</th>\n",
       "      <td>8</td>\n",
       "    </tr>\n",
       "    <tr>\n",
       "      <th>북아시아</th>\n",
       "      <td>5</td>\n",
       "    </tr>\n",
       "    <tr>\n",
       "      <th>오세아니아</th>\n",
       "      <td>3</td>\n",
       "    </tr>\n",
       "    <tr>\n",
       "      <th>중앙아시아</th>\n",
       "      <td>6</td>\n",
       "    </tr>\n",
       "  </tbody>\n",
       "</table>\n",
       "</div>"
      ],
      "text/plain": [
       "       국가/지역\n",
       "지역          \n",
       "동남아시아      8\n",
       "북아시아       5\n",
       "오세아니아      3\n",
       "중앙아시아      6"
      ]
     },
     "execution_count": 31,
     "metadata": {},
     "output_type": "execute_result"
    }
   ],
   "source": [
    "df_order.groupby(['지역'])['국가/지역'].nunique().to_frame()"
   ]
  },
  {
   "cell_type": "code",
   "execution_count": 32,
   "id": "6c966e19",
   "metadata": {
    "ExecuteTime": {
     "end_time": "2023-02-11T14:36:12.618493Z",
     "start_time": "2023-02-11T14:36:12.589570Z"
    }
   },
   "outputs": [
    {
     "data": {
      "text/html": [
       "<div>\n",
       "<style scoped>\n",
       "    .dataframe tbody tr th:only-of-type {\n",
       "        vertical-align: middle;\n",
       "    }\n",
       "\n",
       "    .dataframe tbody tr th {\n",
       "        vertical-align: top;\n",
       "    }\n",
       "\n",
       "    .dataframe thead th {\n",
       "        text-align: right;\n",
       "    }\n",
       "</style>\n",
       "<table border=\"1\" class=\"dataframe\">\n",
       "  <thead>\n",
       "    <tr style=\"text-align: right;\">\n",
       "      <th></th>\n",
       "      <th>시/도</th>\n",
       "    </tr>\n",
       "    <tr>\n",
       "      <th>국가/지역</th>\n",
       "      <th></th>\n",
       "    </tr>\n",
       "  </thead>\n",
       "  <tbody>\n",
       "    <tr>\n",
       "      <th>China</th>\n",
       "      <td>30</td>\n",
       "    </tr>\n",
       "    <tr>\n",
       "      <th>Japan</th>\n",
       "      <td>26</td>\n",
       "    </tr>\n",
       "    <tr>\n",
       "      <th>India</th>\n",
       "      <td>23</td>\n",
       "    </tr>\n",
       "    <tr>\n",
       "      <th>Indonesia</th>\n",
       "      <td>23</td>\n",
       "    </tr>\n",
       "    <tr>\n",
       "      <th>New Zealand</th>\n",
       "      <td>14</td>\n",
       "    </tr>\n",
       "    <tr>\n",
       "      <th>South Korea</th>\n",
       "      <td>10</td>\n",
       "    </tr>\n",
       "    <tr>\n",
       "      <th>Philippines</th>\n",
       "      <td>9</td>\n",
       "    </tr>\n",
       "    <tr>\n",
       "      <th>Malaysia</th>\n",
       "      <td>8</td>\n",
       "    </tr>\n",
       "    <tr>\n",
       "      <th>Australia</th>\n",
       "      <td>8</td>\n",
       "    </tr>\n",
       "    <tr>\n",
       "      <th>Vietnam</th>\n",
       "      <td>6</td>\n",
       "    </tr>\n",
       "    <tr>\n",
       "      <th>Pakistan</th>\n",
       "      <td>5</td>\n",
       "    </tr>\n",
       "    <tr>\n",
       "      <th>Bangladesh</th>\n",
       "      <td>5</td>\n",
       "    </tr>\n",
       "    <tr>\n",
       "      <th>Taiwan</th>\n",
       "      <td>3</td>\n",
       "    </tr>\n",
       "    <tr>\n",
       "      <th>Afghanistan</th>\n",
       "      <td>3</td>\n",
       "    </tr>\n",
       "    <tr>\n",
       "      <th>Thailand</th>\n",
       "      <td>2</td>\n",
       "    </tr>\n",
       "    <tr>\n",
       "      <th>Papua New Guinea</th>\n",
       "      <td>1</td>\n",
       "    </tr>\n",
       "    <tr>\n",
       "      <th>Myanmar (Burma)</th>\n",
       "      <td>1</td>\n",
       "    </tr>\n",
       "    <tr>\n",
       "      <th>Singapore</th>\n",
       "      <td>1</td>\n",
       "    </tr>\n",
       "    <tr>\n",
       "      <th>Mongolia</th>\n",
       "      <td>1</td>\n",
       "    </tr>\n",
       "    <tr>\n",
       "      <th>Sri Lanka</th>\n",
       "      <td>1</td>\n",
       "    </tr>\n",
       "    <tr>\n",
       "      <th>Cambodia</th>\n",
       "      <td>1</td>\n",
       "    </tr>\n",
       "    <tr>\n",
       "      <th>Nepal</th>\n",
       "      <td>1</td>\n",
       "    </tr>\n",
       "  </tbody>\n",
       "</table>\n",
       "</div>"
      ],
      "text/plain": [
       "                  시/도\n",
       "국가/지역                \n",
       "China              30\n",
       "Japan              26\n",
       "India              23\n",
       "Indonesia          23\n",
       "New Zealand        14\n",
       "South Korea        10\n",
       "Philippines         9\n",
       "Malaysia            8\n",
       "Australia           8\n",
       "Vietnam             6\n",
       "Pakistan            5\n",
       "Bangladesh          5\n",
       "Taiwan              3\n",
       "Afghanistan         3\n",
       "Thailand            2\n",
       "Papua New Guinea    1\n",
       "Myanmar (Burma)     1\n",
       "Singapore           1\n",
       "Mongolia            1\n",
       "Sri Lanka           1\n",
       "Cambodia            1\n",
       "Nepal               1"
      ]
     },
     "execution_count": 32,
     "metadata": {},
     "output_type": "execute_result"
    }
   ],
   "source": [
    "df_order.groupby(['국가/지역'])['시/도'].nunique().to_frame().sort_values('시/도', ascending=False)"
   ]
  },
  {
   "cell_type": "code",
   "execution_count": 33,
   "id": "864eacfc",
   "metadata": {
    "ExecuteTime": {
     "end_time": "2023-02-11T14:36:12.667362Z",
     "start_time": "2023-02-11T14:36:12.621545Z"
    }
   },
   "outputs": [
    {
     "data": {
      "text/html": [
       "<div>\n",
       "<style scoped>\n",
       "    .dataframe tbody tr th:only-of-type {\n",
       "        vertical-align: middle;\n",
       "    }\n",
       "\n",
       "    .dataframe tbody tr th {\n",
       "        vertical-align: top;\n",
       "    }\n",
       "\n",
       "    .dataframe thead th {\n",
       "        text-align: right;\n",
       "    }\n",
       "</style>\n",
       "<table border=\"1\" class=\"dataframe\">\n",
       "  <thead>\n",
       "    <tr style=\"text-align: right;\">\n",
       "      <th></th>\n",
       "      <th>도시</th>\n",
       "    </tr>\n",
       "    <tr>\n",
       "      <th>시/도</th>\n",
       "      <th></th>\n",
       "    </tr>\n",
       "  </thead>\n",
       "  <tbody>\n",
       "    <tr>\n",
       "      <th>Uttar Pradesh</th>\n",
       "      <td>21</td>\n",
       "    </tr>\n",
       "    <tr>\n",
       "      <th>Maharashtra</th>\n",
       "      <td>21</td>\n",
       "    </tr>\n",
       "    <tr>\n",
       "      <th>New South Wales</th>\n",
       "      <td>18</td>\n",
       "    </tr>\n",
       "    <tr>\n",
       "      <th>Guangdong</th>\n",
       "      <td>15</td>\n",
       "    </tr>\n",
       "    <tr>\n",
       "      <th>Henan</th>\n",
       "      <td>12</td>\n",
       "    </tr>\n",
       "    <tr>\n",
       "      <th>...</th>\n",
       "      <td>...</td>\n",
       "    </tr>\n",
       "    <tr>\n",
       "      <th>Khyber Pakhtunkhwa</th>\n",
       "      <td>1</td>\n",
       "    </tr>\n",
       "    <tr>\n",
       "      <th>Khulna</th>\n",
       "      <td>1</td>\n",
       "    </tr>\n",
       "    <tr>\n",
       "      <th>Kandahar</th>\n",
       "      <td>1</td>\n",
       "    </tr>\n",
       "    <tr>\n",
       "      <th>Kalimantan Selatan</th>\n",
       "      <td>1</td>\n",
       "    </tr>\n",
       "    <tr>\n",
       "      <th>충남</th>\n",
       "      <td>1</td>\n",
       "    </tr>\n",
       "  </tbody>\n",
       "</table>\n",
       "<p>180 rows × 1 columns</p>\n",
       "</div>"
      ],
      "text/plain": [
       "                    도시\n",
       "시/도                   \n",
       "Uttar Pradesh       21\n",
       "Maharashtra         21\n",
       "New South Wales     18\n",
       "Guangdong           15\n",
       "Henan               12\n",
       "...                 ..\n",
       "Khyber Pakhtunkhwa   1\n",
       "Khulna               1\n",
       "Kandahar             1\n",
       "Kalimantan Selatan   1\n",
       "충남                   1\n",
       "\n",
       "[180 rows x 1 columns]"
      ]
     },
     "execution_count": 33,
     "metadata": {},
     "output_type": "execute_result"
    }
   ],
   "source": [
    "df_order.groupby(['시/도'])['도시'].nunique().to_frame().sort_values('도시', ascending=False)"
   ]
  },
  {
   "cell_type": "code",
   "execution_count": 34,
   "id": "0c7a5d92",
   "metadata": {
    "ExecuteTime": {
     "end_time": "2023-02-11T14:36:12.715232Z",
     "start_time": "2023-02-11T14:36:12.670353Z"
    }
   },
   "outputs": [
    {
     "data": {
      "text/html": [
       "<div>\n",
       "<style scoped>\n",
       "    .dataframe tbody tr th:only-of-type {\n",
       "        vertical-align: middle;\n",
       "    }\n",
       "\n",
       "    .dataframe tbody tr th {\n",
       "        vertical-align: top;\n",
       "    }\n",
       "\n",
       "    .dataframe thead th {\n",
       "        text-align: right;\n",
       "    }\n",
       "</style>\n",
       "<table border=\"1\" class=\"dataframe\">\n",
       "  <thead>\n",
       "    <tr style=\"text-align: right;\">\n",
       "      <th></th>\n",
       "      <th>도시</th>\n",
       "    </tr>\n",
       "    <tr>\n",
       "      <th>시/도</th>\n",
       "      <th></th>\n",
       "    </tr>\n",
       "  </thead>\n",
       "  <tbody>\n",
       "    <tr>\n",
       "      <th>Aceh</th>\n",
       "      <td>[Banda Aceh]</td>\n",
       "    </tr>\n",
       "    <tr>\n",
       "      <th>Aichi</th>\n",
       "      <td>[Kasugai, Toyohashi, Handa, Anjo]</td>\n",
       "    </tr>\n",
       "    <tr>\n",
       "      <th>Andhra Pradesh</th>\n",
       "      <td>[Vijayawada, Nellore, Anantapur, Visakhapatnam...</td>\n",
       "    </tr>\n",
       "    <tr>\n",
       "      <th>Anhui</th>\n",
       "      <td>[Anqing, Suzhou, Huaibei, Hefei, Huainan, Huan...</td>\n",
       "    </tr>\n",
       "    <tr>\n",
       "      <th>Aomori</th>\n",
       "      <td>[Hachinohe]</td>\n",
       "    </tr>\n",
       "    <tr>\n",
       "      <th>...</th>\n",
       "      <td>...</td>\n",
       "    </tr>\n",
       "    <tr>\n",
       "      <th>부산</th>\n",
       "      <td>[부산]</td>\n",
       "    </tr>\n",
       "    <tr>\n",
       "      <th>서울</th>\n",
       "      <td>[서울]</td>\n",
       "    </tr>\n",
       "    <tr>\n",
       "      <th>울산</th>\n",
       "      <td>[울산]</td>\n",
       "    </tr>\n",
       "    <tr>\n",
       "      <th>제주</th>\n",
       "      <td>[애월]</td>\n",
       "    </tr>\n",
       "    <tr>\n",
       "      <th>충남</th>\n",
       "      <td>[천안]</td>\n",
       "    </tr>\n",
       "  </tbody>\n",
       "</table>\n",
       "<p>180 rows × 1 columns</p>\n",
       "</div>"
      ],
      "text/plain": [
       "                                                               도시\n",
       "시/도                                                              \n",
       "Aceh                                                 [Banda Aceh]\n",
       "Aichi                           [Kasugai, Toyohashi, Handa, Anjo]\n",
       "Andhra Pradesh  [Vijayawada, Nellore, Anantapur, Visakhapatnam...\n",
       "Anhui           [Anqing, Suzhou, Huaibei, Hefei, Huainan, Huan...\n",
       "Aomori                                                [Hachinohe]\n",
       "...                                                           ...\n",
       "부산                                                           [부산]\n",
       "서울                                                           [서울]\n",
       "울산                                                           [울산]\n",
       "제주                                                           [애월]\n",
       "충남                                                           [천안]\n",
       "\n",
       "[180 rows x 1 columns]"
      ]
     },
     "execution_count": 34,
     "metadata": {},
     "output_type": "execute_result"
    }
   ],
   "source": [
    "df_order.groupby(['시/도'])['도시'].unique().to_frame()"
   ]
  },
  {
   "cell_type": "code",
   "execution_count": 35,
   "id": "291a05a4",
   "metadata": {
    "ExecuteTime": {
     "end_time": "2023-02-11T14:36:12.731188Z",
     "start_time": "2023-02-11T14:36:12.717227Z"
    }
   },
   "outputs": [
    {
     "data": {
      "text/plain": [
       "array(['사무용품', '가구', '기술'], dtype=object)"
      ]
     },
     "execution_count": 35,
     "metadata": {},
     "output_type": "execute_result"
    }
   ],
   "source": [
    "# 범주\n",
    "df_order['범주'].unique()"
   ]
  },
  {
   "cell_type": "code",
   "execution_count": 36,
   "id": "23b2d132",
   "metadata": {
    "ExecuteTime": {
     "end_time": "2023-02-11T14:36:12.759083Z",
     "start_time": "2023-02-11T14:36:12.735181Z"
    }
   },
   "outputs": [
    {
     "data": {
      "text/html": [
       "<div>\n",
       "<style scoped>\n",
       "    .dataframe tbody tr th:only-of-type {\n",
       "        vertical-align: middle;\n",
       "    }\n",
       "\n",
       "    .dataframe tbody tr th {\n",
       "        vertical-align: top;\n",
       "    }\n",
       "\n",
       "    .dataframe thead th {\n",
       "        text-align: right;\n",
       "    }\n",
       "</style>\n",
       "<table border=\"1\" class=\"dataframe\">\n",
       "  <thead>\n",
       "    <tr style=\"text-align: right;\">\n",
       "      <th></th>\n",
       "      <th>범주</th>\n",
       "    </tr>\n",
       "  </thead>\n",
       "  <tbody>\n",
       "    <tr>\n",
       "      <th>사무용품</th>\n",
       "      <td>6137</td>\n",
       "    </tr>\n",
       "    <tr>\n",
       "      <th>가구</th>\n",
       "      <td>2415</td>\n",
       "    </tr>\n",
       "    <tr>\n",
       "      <th>기술</th>\n",
       "      <td>2381</td>\n",
       "    </tr>\n",
       "  </tbody>\n",
       "</table>\n",
       "</div>"
      ],
      "text/plain": [
       "        범주\n",
       "사무용품  6137\n",
       "가구    2415\n",
       "기술    2381"
      ]
     },
     "execution_count": 36,
     "metadata": {},
     "output_type": "execute_result"
    }
   ],
   "source": [
    "df_order['범주'].value_counts().to_frame()"
   ]
  },
  {
   "cell_type": "code",
   "execution_count": 37,
   "id": "1077ecee",
   "metadata": {
    "ExecuteTime": {
     "end_time": "2023-02-11T14:36:12.775041Z",
     "start_time": "2023-02-11T14:36:12.763072Z"
    }
   },
   "outputs": [
    {
     "data": {
      "text/plain": [
       "array(['용지', '사무용 집기', '복사기', '액세서리', '가전 제품', '바인더', '전화기', '레이블',\n",
       "       '미술용품', '사무용품', '봉투', '의자', '사무기기', '테이블', '보관함', '책장', '잠금장치'],\n",
       "      dtype=object)"
      ]
     },
     "execution_count": 37,
     "metadata": {},
     "output_type": "execute_result"
    }
   ],
   "source": [
    "df_order['하위 범주'].unique()"
   ]
  },
  {
   "cell_type": "code",
   "execution_count": 38,
   "id": "8418b4e1",
   "metadata": {
    "ExecuteTime": {
     "end_time": "2023-02-11T14:36:12.806953Z",
     "start_time": "2023-02-11T14:36:12.778031Z"
    }
   },
   "outputs": [
    {
     "data": {
      "text/html": [
       "<div>\n",
       "<style scoped>\n",
       "    .dataframe tbody tr th:only-of-type {\n",
       "        vertical-align: middle;\n",
       "    }\n",
       "\n",
       "    .dataframe tbody tr th {\n",
       "        vertical-align: top;\n",
       "    }\n",
       "\n",
       "    .dataframe thead th {\n",
       "        text-align: right;\n",
       "    }\n",
       "</style>\n",
       "<table border=\"1\" class=\"dataframe\">\n",
       "  <thead>\n",
       "    <tr style=\"text-align: right;\">\n",
       "      <th></th>\n",
       "      <th>하위 범주</th>\n",
       "    </tr>\n",
       "    <tr>\n",
       "      <th>범주</th>\n",
       "      <th></th>\n",
       "    </tr>\n",
       "  </thead>\n",
       "  <tbody>\n",
       "    <tr>\n",
       "      <th>가구</th>\n",
       "      <td>4</td>\n",
       "    </tr>\n",
       "    <tr>\n",
       "      <th>기술</th>\n",
       "      <td>4</td>\n",
       "    </tr>\n",
       "    <tr>\n",
       "      <th>사무용품</th>\n",
       "      <td>9</td>\n",
       "    </tr>\n",
       "  </tbody>\n",
       "</table>\n",
       "</div>"
      ],
      "text/plain": [
       "      하위 범주\n",
       "범주         \n",
       "가구        4\n",
       "기술        4\n",
       "사무용품      9"
      ]
     },
     "execution_count": 38,
     "metadata": {},
     "output_type": "execute_result"
    }
   ],
   "source": [
    "df_order.groupby('범주')['하위 범주'].nunique().to_frame()"
   ]
  },
  {
   "cell_type": "code",
   "execution_count": 39,
   "id": "c27966ca",
   "metadata": {
    "ExecuteTime": {
     "end_time": "2023-02-11T14:36:12.838868Z",
     "start_time": "2023-02-11T14:36:12.809945Z"
    }
   },
   "outputs": [
    {
     "data": {
      "text/html": [
       "<div>\n",
       "<style scoped>\n",
       "    .dataframe tbody tr th:only-of-type {\n",
       "        vertical-align: middle;\n",
       "    }\n",
       "\n",
       "    .dataframe tbody tr th {\n",
       "        vertical-align: top;\n",
       "    }\n",
       "\n",
       "    .dataframe thead th {\n",
       "        text-align: right;\n",
       "    }\n",
       "</style>\n",
       "<table border=\"1\" class=\"dataframe\">\n",
       "  <thead>\n",
       "    <tr style=\"text-align: right;\">\n",
       "      <th></th>\n",
       "      <th>행 ID</th>\n",
       "      <th>매출</th>\n",
       "      <th>수량</th>\n",
       "      <th>할인율</th>\n",
       "      <th>수익</th>\n",
       "    </tr>\n",
       "  </thead>\n",
       "  <tbody>\n",
       "    <tr>\n",
       "      <th>count</th>\n",
       "      <td>10933.000000</td>\n",
       "      <td>10933.000000</td>\n",
       "      <td>10933.000000</td>\n",
       "      <td>10933.000000</td>\n",
       "      <td>10933.000000</td>\n",
       "    </tr>\n",
       "    <tr>\n",
       "      <th>mean</th>\n",
       "      <td>5501.108570</td>\n",
       "      <td>326.208731</td>\n",
       "      <td>3.752127</td>\n",
       "      <td>0.149724</td>\n",
       "      <td>39.518374</td>\n",
       "    </tr>\n",
       "    <tr>\n",
       "      <th>std</th>\n",
       "      <td>3179.318347</td>\n",
       "      <td>552.275866</td>\n",
       "      <td>2.260526</td>\n",
       "      <td>0.176511</td>\n",
       "      <td>170.856873</td>\n",
       "    </tr>\n",
       "    <tr>\n",
       "      <th>min</th>\n",
       "      <td>1.000000</td>\n",
       "      <td>2.880000</td>\n",
       "      <td>1.000000</td>\n",
       "      <td>0.000000</td>\n",
       "      <td>-3009.435000</td>\n",
       "    </tr>\n",
       "    <tr>\n",
       "      <th>25%</th>\n",
       "      <td>2747.000000</td>\n",
       "      <td>47.079900</td>\n",
       "      <td>2.000000</td>\n",
       "      <td>0.000000</td>\n",
       "      <td>-3.103200</td>\n",
       "    </tr>\n",
       "    <tr>\n",
       "      <th>50%</th>\n",
       "      <td>5493.000000</td>\n",
       "      <td>122.796000</td>\n",
       "      <td>3.000000</td>\n",
       "      <td>0.100000</td>\n",
       "      <td>10.830000</td>\n",
       "    </tr>\n",
       "    <tr>\n",
       "      <th>75%</th>\n",
       "      <td>8262.000000</td>\n",
       "      <td>348.300000</td>\n",
       "      <td>5.000000</td>\n",
       "      <td>0.270000</td>\n",
       "      <td>48.385500</td>\n",
       "    </tr>\n",
       "    <tr>\n",
       "      <th>max</th>\n",
       "      <td>11000.000000</td>\n",
       "      <td>6998.640000</td>\n",
       "      <td>14.000000</td>\n",
       "      <td>0.800000</td>\n",
       "      <td>2939.310000</td>\n",
       "    </tr>\n",
       "  </tbody>\n",
       "</table>\n",
       "</div>"
      ],
      "text/plain": [
       "               행 ID            매출            수량           할인율            수익\n",
       "count  10933.000000  10933.000000  10933.000000  10933.000000  10933.000000\n",
       "mean    5501.108570    326.208731      3.752127      0.149724     39.518374\n",
       "std     3179.318347    552.275866      2.260526      0.176511    170.856873\n",
       "min        1.000000      2.880000      1.000000      0.000000  -3009.435000\n",
       "25%     2747.000000     47.079900      2.000000      0.000000     -3.103200\n",
       "50%     5493.000000    122.796000      3.000000      0.100000     10.830000\n",
       "75%     8262.000000    348.300000      5.000000      0.270000     48.385500\n",
       "max    11000.000000   6998.640000     14.000000      0.800000   2939.310000"
      ]
     },
     "execution_count": 39,
     "metadata": {},
     "output_type": "execute_result"
    }
   ],
   "source": [
    "df_order.describe()"
   ]
  },
  {
   "cell_type": "code",
   "execution_count": 40,
   "id": "61709584",
   "metadata": {
    "ExecuteTime": {
     "end_time": "2023-02-11T14:36:12.853829Z",
     "start_time": "2023-02-11T14:36:12.840863Z"
    }
   },
   "outputs": [
    {
     "data": {
      "text/plain": [
       "array([0.  , 0.15, 0.1 , 0.4 , 0.45, 0.25, 0.35, 0.47, 0.17, 0.3 , 0.27,\n",
       "       0.37, 0.07, 0.5 , 0.2 , 0.57, 0.8 , 0.55, 0.6 ])"
      ]
     },
     "execution_count": 40,
     "metadata": {},
     "output_type": "execute_result"
    }
   ],
   "source": [
    "df_order['할인율'].unique()"
   ]
  },
  {
   "cell_type": "code",
   "execution_count": 41,
   "id": "e49ed550",
   "metadata": {
    "ExecuteTime": {
     "end_time": "2023-02-11T14:36:12.878777Z",
     "start_time": "2023-02-11T14:36:12.856822Z"
    }
   },
   "outputs": [
    {
     "data": {
      "text/html": [
       "<div>\n",
       "<style scoped>\n",
       "    .dataframe tbody tr th:only-of-type {\n",
       "        vertical-align: middle;\n",
       "    }\n",
       "\n",
       "    .dataframe tbody tr th {\n",
       "        vertical-align: top;\n",
       "    }\n",
       "\n",
       "    .dataframe thead th {\n",
       "        text-align: right;\n",
       "    }\n",
       "</style>\n",
       "<table border=\"1\" class=\"dataframe\">\n",
       "  <thead>\n",
       "    <tr style=\"text-align: right;\">\n",
       "      <th></th>\n",
       "      <th>할인율</th>\n",
       "    </tr>\n",
       "  </thead>\n",
       "  <tbody>\n",
       "    <tr>\n",
       "      <th>0.00</th>\n",
       "      <td>4621</td>\n",
       "    </tr>\n",
       "    <tr>\n",
       "      <th>0.07</th>\n",
       "      <td>150</td>\n",
       "    </tr>\n",
       "    <tr>\n",
       "      <th>0.10</th>\n",
       "      <td>2203</td>\n",
       "    </tr>\n",
       "    <tr>\n",
       "      <th>0.15</th>\n",
       "      <td>82</td>\n",
       "    </tr>\n",
       "    <tr>\n",
       "      <th>0.17</th>\n",
       "      <td>735</td>\n",
       "    </tr>\n",
       "    <tr>\n",
       "      <th>0.20</th>\n",
       "      <td>92</td>\n",
       "    </tr>\n",
       "    <tr>\n",
       "      <th>0.25</th>\n",
       "      <td>198</td>\n",
       "    </tr>\n",
       "    <tr>\n",
       "      <th>0.27</th>\n",
       "      <td>388</td>\n",
       "    </tr>\n",
       "    <tr>\n",
       "      <th>0.30</th>\n",
       "      <td>62</td>\n",
       "    </tr>\n",
       "    <tr>\n",
       "      <th>0.35</th>\n",
       "      <td>77</td>\n",
       "    </tr>\n",
       "    <tr>\n",
       "      <th>0.37</th>\n",
       "      <td>74</td>\n",
       "    </tr>\n",
       "    <tr>\n",
       "      <th>0.40</th>\n",
       "      <td>712</td>\n",
       "    </tr>\n",
       "    <tr>\n",
       "      <th>0.45</th>\n",
       "      <td>314</td>\n",
       "    </tr>\n",
       "    <tr>\n",
       "      <th>0.47</th>\n",
       "      <td>725</td>\n",
       "    </tr>\n",
       "    <tr>\n",
       "      <th>0.50</th>\n",
       "      <td>449</td>\n",
       "    </tr>\n",
       "    <tr>\n",
       "      <th>0.55</th>\n",
       "      <td>10</td>\n",
       "    </tr>\n",
       "    <tr>\n",
       "      <th>0.57</th>\n",
       "      <td>12</td>\n",
       "    </tr>\n",
       "    <tr>\n",
       "      <th>0.60</th>\n",
       "      <td>18</td>\n",
       "    </tr>\n",
       "    <tr>\n",
       "      <th>0.80</th>\n",
       "      <td>11</td>\n",
       "    </tr>\n",
       "  </tbody>\n",
       "</table>\n",
       "</div>"
      ],
      "text/plain": [
       "       할인율\n",
       "0.00  4621\n",
       "0.07   150\n",
       "0.10  2203\n",
       "0.15    82\n",
       "0.17   735\n",
       "0.20    92\n",
       "0.25   198\n",
       "0.27   388\n",
       "0.30    62\n",
       "0.35    77\n",
       "0.37    74\n",
       "0.40   712\n",
       "0.45   314\n",
       "0.47   725\n",
       "0.50   449\n",
       "0.55    10\n",
       "0.57    12\n",
       "0.60    18\n",
       "0.80    11"
      ]
     },
     "execution_count": 41,
     "metadata": {},
     "output_type": "execute_result"
    }
   ],
   "source": [
    "df_order['할인율'].value_counts().to_frame().sort_index()"
   ]
  },
  {
   "cell_type": "code",
   "execution_count": 42,
   "id": "c9e817e3",
   "metadata": {
    "ExecuteTime": {
     "end_time": "2023-02-11T14:36:12.909696Z",
     "start_time": "2023-02-11T14:36:12.889766Z"
    }
   },
   "outputs": [
    {
     "data": {
      "text/html": [
       "<div>\n",
       "<style scoped>\n",
       "    .dataframe tbody tr th:only-of-type {\n",
       "        vertical-align: middle;\n",
       "    }\n",
       "\n",
       "    .dataframe tbody tr th {\n",
       "        vertical-align: top;\n",
       "    }\n",
       "\n",
       "    .dataframe thead th {\n",
       "        text-align: right;\n",
       "    }\n",
       "</style>\n",
       "<table border=\"1\" class=\"dataframe\">\n",
       "  <thead>\n",
       "    <tr style=\"text-align: right;\">\n",
       "      <th></th>\n",
       "      <th>수량</th>\n",
       "    </tr>\n",
       "    <tr>\n",
       "      <th>할인율</th>\n",
       "      <th></th>\n",
       "    </tr>\n",
       "  </thead>\n",
       "  <tbody>\n",
       "    <tr>\n",
       "      <th>0.00</th>\n",
       "      <td>17299</td>\n",
       "    </tr>\n",
       "    <tr>\n",
       "      <th>0.07</th>\n",
       "      <td>533</td>\n",
       "    </tr>\n",
       "    <tr>\n",
       "      <th>0.10</th>\n",
       "      <td>8456</td>\n",
       "    </tr>\n",
       "    <tr>\n",
       "      <th>0.15</th>\n",
       "      <td>319</td>\n",
       "    </tr>\n",
       "    <tr>\n",
       "      <th>0.17</th>\n",
       "      <td>2720</td>\n",
       "    </tr>\n",
       "    <tr>\n",
       "      <th>0.20</th>\n",
       "      <td>369</td>\n",
       "    </tr>\n",
       "    <tr>\n",
       "      <th>0.25</th>\n",
       "      <td>826</td>\n",
       "    </tr>\n",
       "    <tr>\n",
       "      <th>0.27</th>\n",
       "      <td>1453</td>\n",
       "    </tr>\n",
       "    <tr>\n",
       "      <th>0.30</th>\n",
       "      <td>233</td>\n",
       "    </tr>\n",
       "    <tr>\n",
       "      <th>0.35</th>\n",
       "      <td>284</td>\n",
       "    </tr>\n",
       "    <tr>\n",
       "      <th>0.37</th>\n",
       "      <td>246</td>\n",
       "    </tr>\n",
       "    <tr>\n",
       "      <th>0.40</th>\n",
       "      <td>2444</td>\n",
       "    </tr>\n",
       "    <tr>\n",
       "      <th>0.45</th>\n",
       "      <td>1141</td>\n",
       "    </tr>\n",
       "    <tr>\n",
       "      <th>0.47</th>\n",
       "      <td>2829</td>\n",
       "    </tr>\n",
       "    <tr>\n",
       "      <th>0.50</th>\n",
       "      <td>1687</td>\n",
       "    </tr>\n",
       "    <tr>\n",
       "      <th>0.55</th>\n",
       "      <td>36</td>\n",
       "    </tr>\n",
       "    <tr>\n",
       "      <th>0.57</th>\n",
       "      <td>47</td>\n",
       "    </tr>\n",
       "    <tr>\n",
       "      <th>0.60</th>\n",
       "      <td>65</td>\n",
       "    </tr>\n",
       "    <tr>\n",
       "      <th>0.80</th>\n",
       "      <td>35</td>\n",
       "    </tr>\n",
       "  </tbody>\n",
       "</table>\n",
       "</div>"
      ],
      "text/plain": [
       "         수량\n",
       "할인율        \n",
       "0.00  17299\n",
       "0.07    533\n",
       "0.10   8456\n",
       "0.15    319\n",
       "0.17   2720\n",
       "0.20    369\n",
       "0.25    826\n",
       "0.27   1453\n",
       "0.30    233\n",
       "0.35    284\n",
       "0.37    246\n",
       "0.40   2444\n",
       "0.45   1141\n",
       "0.47   2829\n",
       "0.50   1687\n",
       "0.55     36\n",
       "0.57     47\n",
       "0.60     65\n",
       "0.80     35"
      ]
     },
     "execution_count": 42,
     "metadata": {},
     "output_type": "execute_result"
    }
   ],
   "source": [
    "df_order.groupby('할인율')['수량'].sum().to_frame()"
   ]
  },
  {
   "cell_type": "code",
   "execution_count": 43,
   "id": "13cecfdf",
   "metadata": {
    "ExecuteTime": {
     "end_time": "2023-02-11T14:36:12.955572Z",
     "start_time": "2023-02-11T14:36:12.912687Z"
    }
   },
   "outputs": [
    {
     "data": {
      "text/html": [
       "<div>\n",
       "<style scoped>\n",
       "    .dataframe tbody tr th:only-of-type {\n",
       "        vertical-align: middle;\n",
       "    }\n",
       "\n",
       "    .dataframe tbody tr th {\n",
       "        vertical-align: top;\n",
       "    }\n",
       "\n",
       "    .dataframe thead th {\n",
       "        text-align: right;\n",
       "    }\n",
       "</style>\n",
       "<table border=\"1\" class=\"dataframe\">\n",
       "  <thead>\n",
       "    <tr style=\"text-align: right;\">\n",
       "      <th></th>\n",
       "      <th>mean</th>\n",
       "      <th>std</th>\n",
       "      <th>min</th>\n",
       "      <th>max</th>\n",
       "    </tr>\n",
       "    <tr>\n",
       "      <th>할인율</th>\n",
       "      <th></th>\n",
       "      <th></th>\n",
       "      <th></th>\n",
       "      <th></th>\n",
       "    </tr>\n",
       "  </thead>\n",
       "  <tbody>\n",
       "    <tr>\n",
       "      <th>0.00</th>\n",
       "      <td>89.948059</td>\n",
       "      <td>177.173535</td>\n",
       "      <td>0.0000</td>\n",
       "      <td>2939.3100</td>\n",
       "    </tr>\n",
       "    <tr>\n",
       "      <th>0.07</th>\n",
       "      <td>140.990022</td>\n",
       "      <td>217.549073</td>\n",
       "      <td>-147.6048</td>\n",
       "      <td>1554.4320</td>\n",
       "    </tr>\n",
       "    <tr>\n",
       "      <th>0.10</th>\n",
       "      <td>55.225098</td>\n",
       "      <td>141.806041</td>\n",
       "      <td>-288.7650</td>\n",
       "      <td>2316.5100</td>\n",
       "    </tr>\n",
       "    <tr>\n",
       "      <th>0.15</th>\n",
       "      <td>15.601811</td>\n",
       "      <td>106.095899</td>\n",
       "      <td>-597.6810</td>\n",
       "      <td>339.8925</td>\n",
       "    </tr>\n",
       "    <tr>\n",
       "      <th>0.17</th>\n",
       "      <td>38.317107</td>\n",
       "      <td>124.792466</td>\n",
       "      <td>-429.3945</td>\n",
       "      <td>946.6338</td>\n",
       "    </tr>\n",
       "    <tr>\n",
       "      <th>0.20</th>\n",
       "      <td>14.116239</td>\n",
       "      <td>98.795482</td>\n",
       "      <td>-553.8780</td>\n",
       "      <td>290.5980</td>\n",
       "    </tr>\n",
       "    <tr>\n",
       "      <th>0.25</th>\n",
       "      <td>4.043371</td>\n",
       "      <td>126.485078</td>\n",
       "      <td>-483.3000</td>\n",
       "      <td>822.6600</td>\n",
       "    </tr>\n",
       "    <tr>\n",
       "      <th>0.27</th>\n",
       "      <td>-4.317213</td>\n",
       "      <td>67.962153</td>\n",
       "      <td>-329.8095</td>\n",
       "      <td>368.2560</td>\n",
       "    </tr>\n",
       "    <tr>\n",
       "      <th>0.30</th>\n",
       "      <td>-138.034694</td>\n",
       "      <td>303.482620</td>\n",
       "      <td>-953.4420</td>\n",
       "      <td>726.8250</td>\n",
       "    </tr>\n",
       "    <tr>\n",
       "      <th>0.35</th>\n",
       "      <td>-65.545500</td>\n",
       "      <td>144.708248</td>\n",
       "      <td>-471.7875</td>\n",
       "      <td>226.9620</td>\n",
       "    </tr>\n",
       "    <tr>\n",
       "      <th>0.37</th>\n",
       "      <td>-78.462191</td>\n",
       "      <td>140.449808</td>\n",
       "      <td>-813.6144</td>\n",
       "      <td>139.6476</td>\n",
       "    </tr>\n",
       "    <tr>\n",
       "      <th>0.40</th>\n",
       "      <td>-51.204590</td>\n",
       "      <td>117.792450</td>\n",
       "      <td>-1479.1260</td>\n",
       "      <td>208.9800</td>\n",
       "    </tr>\n",
       "    <tr>\n",
       "      <th>0.45</th>\n",
       "      <td>-31.880527</td>\n",
       "      <td>55.454474</td>\n",
       "      <td>-493.3200</td>\n",
       "      <td>18.0375</td>\n",
       "    </tr>\n",
       "    <tr>\n",
       "      <th>0.47</th>\n",
       "      <td>-42.982420</td>\n",
       "      <td>96.963566</td>\n",
       "      <td>-916.0443</td>\n",
       "      <td>35.8176</td>\n",
       "    </tr>\n",
       "    <tr>\n",
       "      <th>0.50</th>\n",
       "      <td>-87.790791</td>\n",
       "      <td>216.874776</td>\n",
       "      <td>-3009.4350</td>\n",
       "      <td>0.0000</td>\n",
       "    </tr>\n",
       "    <tr>\n",
       "      <th>0.55</th>\n",
       "      <td>-315.067200</td>\n",
       "      <td>272.072582</td>\n",
       "      <td>-976.5000</td>\n",
       "      <td>-70.3995</td>\n",
       "    </tr>\n",
       "    <tr>\n",
       "      <th>0.57</th>\n",
       "      <td>-526.129000</td>\n",
       "      <td>393.058449</td>\n",
       "      <td>-1294.3503</td>\n",
       "      <td>-72.6072</td>\n",
       "    </tr>\n",
       "    <tr>\n",
       "      <th>0.60</th>\n",
       "      <td>-156.578000</td>\n",
       "      <td>213.177246</td>\n",
       "      <td>-875.5920</td>\n",
       "      <td>-7.9920</td>\n",
       "    </tr>\n",
       "    <tr>\n",
       "      <th>0.80</th>\n",
       "      <td>-684.469636</td>\n",
       "      <td>640.630471</td>\n",
       "      <td>-2380.3500</td>\n",
       "      <td>-126.4500</td>\n",
       "    </tr>\n",
       "  </tbody>\n",
       "</table>\n",
       "</div>"
      ],
      "text/plain": [
       "            mean         std        min        max\n",
       "할인율                                               \n",
       "0.00   89.948059  177.173535     0.0000  2939.3100\n",
       "0.07  140.990022  217.549073  -147.6048  1554.4320\n",
       "0.10   55.225098  141.806041  -288.7650  2316.5100\n",
       "0.15   15.601811  106.095899  -597.6810   339.8925\n",
       "0.17   38.317107  124.792466  -429.3945   946.6338\n",
       "0.20   14.116239   98.795482  -553.8780   290.5980\n",
       "0.25    4.043371  126.485078  -483.3000   822.6600\n",
       "0.27   -4.317213   67.962153  -329.8095   368.2560\n",
       "0.30 -138.034694  303.482620  -953.4420   726.8250\n",
       "0.35  -65.545500  144.708248  -471.7875   226.9620\n",
       "0.37  -78.462191  140.449808  -813.6144   139.6476\n",
       "0.40  -51.204590  117.792450 -1479.1260   208.9800\n",
       "0.45  -31.880527   55.454474  -493.3200    18.0375\n",
       "0.47  -42.982420   96.963566  -916.0443    35.8176\n",
       "0.50  -87.790791  216.874776 -3009.4350     0.0000\n",
       "0.55 -315.067200  272.072582  -976.5000   -70.3995\n",
       "0.57 -526.129000  393.058449 -1294.3503   -72.6072\n",
       "0.60 -156.578000  213.177246  -875.5920    -7.9920\n",
       "0.80 -684.469636  640.630471 -2380.3500  -126.4500"
      ]
     },
     "execution_count": 43,
     "metadata": {},
     "output_type": "execute_result"
    }
   ],
   "source": [
    "df_order.groupby('할인율')['수익'].agg(['mean', 'std', 'min', 'max'])"
   ]
  },
  {
   "cell_type": "code",
   "execution_count": 44,
   "id": "44f075b9",
   "metadata": {
    "ExecuteTime": {
     "end_time": "2023-02-11T14:36:12.981489Z",
     "start_time": "2023-02-11T14:36:12.958563Z"
    }
   },
   "outputs": [
    {
     "data": {
      "text/html": [
       "<div>\n",
       "<style scoped>\n",
       "    .dataframe tbody tr th:only-of-type {\n",
       "        vertical-align: middle;\n",
       "    }\n",
       "\n",
       "    .dataframe tbody tr th {\n",
       "        vertical-align: top;\n",
       "    }\n",
       "\n",
       "    .dataframe thead th {\n",
       "        text-align: right;\n",
       "    }\n",
       "</style>\n",
       "<table border=\"1\" class=\"dataframe\">\n",
       "  <thead>\n",
       "    <tr style=\"text-align: right;\">\n",
       "      <th></th>\n",
       "      <th>수익</th>\n",
       "    </tr>\n",
       "    <tr>\n",
       "      <th>할인율</th>\n",
       "      <th></th>\n",
       "    </tr>\n",
       "  </thead>\n",
       "  <tbody>\n",
       "    <tr>\n",
       "      <th>0.00</th>\n",
       "      <td>38.557042</td>\n",
       "    </tr>\n",
       "    <tr>\n",
       "      <th>0.10</th>\n",
       "      <td>27.142786</td>\n",
       "    </tr>\n",
       "    <tr>\n",
       "      <th>0.15</th>\n",
       "      <td>15.601811</td>\n",
       "    </tr>\n",
       "    <tr>\n",
       "      <th>0.17</th>\n",
       "      <td>27.685866</td>\n",
       "    </tr>\n",
       "    <tr>\n",
       "      <th>0.27</th>\n",
       "      <td>-6.087113</td>\n",
       "    </tr>\n",
       "    <tr>\n",
       "      <th>0.40</th>\n",
       "      <td>-23.794562</td>\n",
       "    </tr>\n",
       "    <tr>\n",
       "      <th>0.45</th>\n",
       "      <td>-28.211513</td>\n",
       "    </tr>\n",
       "    <tr>\n",
       "      <th>0.47</th>\n",
       "      <td>-20.016522</td>\n",
       "    </tr>\n",
       "    <tr>\n",
       "      <th>0.50</th>\n",
       "      <td>-49.585227</td>\n",
       "    </tr>\n",
       "    <tr>\n",
       "      <th>0.60</th>\n",
       "      <td>-27.384000</td>\n",
       "    </tr>\n",
       "  </tbody>\n",
       "</table>\n",
       "</div>"
      ],
      "text/plain": [
       "             수익\n",
       "할인율            \n",
       "0.00  38.557042\n",
       "0.10  27.142786\n",
       "0.15  15.601811\n",
       "0.17  27.685866\n",
       "0.27  -6.087113\n",
       "0.40 -23.794562\n",
       "0.45 -28.211513\n",
       "0.47 -20.016522\n",
       "0.50 -49.585227\n",
       "0.60 -27.384000"
      ]
     },
     "execution_count": 44,
     "metadata": {},
     "output_type": "execute_result"
    }
   ],
   "source": [
    "df_order[df_order['범주']=='사무용품'].groupby('할인율')['수익'].mean().to_frame()"
   ]
  },
  {
   "cell_type": "code",
   "execution_count": 45,
   "id": "d27ac3d3",
   "metadata": {
    "ExecuteTime": {
     "end_time": "2023-02-11T14:36:12.996411Z",
     "start_time": "2023-02-11T14:36:12.987449Z"
    }
   },
   "outputs": [
    {
     "data": {
      "text/plain": [
       "[]"
      ]
     },
     "execution_count": 45,
     "metadata": {},
     "output_type": "execute_result"
    }
   ],
   "source": [
    "[]"
   ]
  },
  {
   "cell_type": "code",
   "execution_count": null,
   "id": "49b3c8b7",
   "metadata": {},
   "outputs": [],
   "source": []
  },
  {
   "cell_type": "code",
   "execution_count": null,
   "id": "09d8871e",
   "metadata": {},
   "outputs": [],
   "source": []
  },
  {
   "cell_type": "code",
   "execution_count": null,
   "id": "f45748d0",
   "metadata": {},
   "outputs": [],
   "source": []
  },
  {
   "cell_type": "code",
   "execution_count": null,
   "id": "f4fe7758",
   "metadata": {},
   "outputs": [],
   "source": []
  },
  {
   "cell_type": "code",
   "execution_count": null,
   "id": "ab56ef61",
   "metadata": {},
   "outputs": [],
   "source": []
  },
  {
   "cell_type": "markdown",
   "id": "5428cab6",
   "metadata": {},
   "source": [
    "## 변수 타입"
   ]
  },
  {
   "cell_type": "code",
   "execution_count": 46,
   "id": "16a0b2fa",
   "metadata": {
    "ExecuteTime": {
     "end_time": "2023-02-11T14:36:13.011370Z",
     "start_time": "2023-02-11T14:36:12.999402Z"
    }
   },
   "outputs": [
    {
     "data": {
      "text/plain": [
       "행 ID       int64\n",
       "주문 ID     object\n",
       "주문 날짜     object\n",
       "배송 날짜     object\n",
       "배송 형태     object\n",
       "고객 ID     object\n",
       "고객 이름     object\n",
       "세그먼트      object\n",
       "도시        object\n",
       "시/도       object\n",
       "국가/지역     object\n",
       "지역        object\n",
       "제품 ID     object\n",
       "범주        object\n",
       "하위 범주     object\n",
       "제품 이름     object\n",
       "매출       float64\n",
       "수량         int64\n",
       "할인율      float64\n",
       "수익       float64\n",
       "dtype: object"
      ]
     },
     "execution_count": 46,
     "metadata": {},
     "output_type": "execute_result"
    }
   ],
   "source": [
    "# 변수 타입 파악\n",
    "df_order.dtypes"
   ]
  },
  {
   "cell_type": "code",
   "execution_count": 47,
   "id": "dc8759e3",
   "metadata": {
    "ExecuteTime": {
     "end_time": "2023-02-11T14:36:13.043286Z",
     "start_time": "2023-02-11T14:36:13.014362Z"
    }
   },
   "outputs": [
    {
     "data": {
      "text/plain": [
       "행 ID             object\n",
       "주문 ID            object\n",
       "주문 날짜    datetime64[ns]\n",
       "배송 날짜    datetime64[ns]\n",
       "배송 형태            object\n",
       "고객 ID            object\n",
       "고객 이름            object\n",
       "세그먼트             object\n",
       "도시               object\n",
       "시/도              object\n",
       "국가/지역            object\n",
       "지역               object\n",
       "제품 ID            object\n",
       "범주               object\n",
       "하위 범주            object\n",
       "제품 이름            object\n",
       "매출              float64\n",
       "수량                int64\n",
       "할인율             float64\n",
       "수익              float64\n",
       "dtype: object"
      ]
     },
     "execution_count": 47,
     "metadata": {},
     "output_type": "execute_result"
    }
   ],
   "source": [
    "df_order['행 ID'] = df_order['행 ID'].astype(str)\n",
    "df_order['주문 날짜'] = pd.to_datetime(df_order['주문 날짜'])\n",
    "df_order['배송 날짜'] = pd.to_datetime(df_order['배송 날짜'])\n",
    "df_order.dtypes"
   ]
  },
  {
   "cell_type": "code",
   "execution_count": 48,
   "id": "a4120ada",
   "metadata": {
    "ExecuteTime": {
     "end_time": "2023-02-11T14:36:13.102439Z",
     "start_time": "2023-02-11T14:36:13.047274Z"
    }
   },
   "outputs": [
    {
     "data": {
      "text/html": [
       "<div>\n",
       "<style scoped>\n",
       "    .dataframe tbody tr th:only-of-type {\n",
       "        vertical-align: middle;\n",
       "    }\n",
       "\n",
       "    .dataframe tbody tr th {\n",
       "        vertical-align: top;\n",
       "    }\n",
       "\n",
       "    .dataframe thead th {\n",
       "        text-align: right;\n",
       "    }\n",
       "</style>\n",
       "<table border=\"1\" class=\"dataframe\">\n",
       "  <thead>\n",
       "    <tr style=\"text-align: right;\">\n",
       "      <th></th>\n",
       "      <th>행 ID</th>\n",
       "      <th>주문 ID</th>\n",
       "      <th>주문 날짜</th>\n",
       "      <th>배송 날짜</th>\n",
       "      <th>배송 형태</th>\n",
       "      <th>고객 ID</th>\n",
       "      <th>고객 이름</th>\n",
       "      <th>세그먼트</th>\n",
       "      <th>도시</th>\n",
       "      <th>시/도</th>\n",
       "      <th>...</th>\n",
       "      <th>지역</th>\n",
       "      <th>제품 ID</th>\n",
       "      <th>범주</th>\n",
       "      <th>하위 범주</th>\n",
       "      <th>제품 이름</th>\n",
       "      <th>매출</th>\n",
       "      <th>수량</th>\n",
       "      <th>할인율</th>\n",
       "      <th>수익</th>\n",
       "      <th>반품</th>\n",
       "    </tr>\n",
       "  </thead>\n",
       "  <tbody>\n",
       "    <tr>\n",
       "      <th>0</th>\n",
       "      <td>1</td>\n",
       "      <td>IN-2020-27828</td>\n",
       "      <td>2020-08-27</td>\n",
       "      <td>2020-08-31</td>\n",
       "      <td>표준 등급</td>\n",
       "      <td>VT-21700</td>\n",
       "      <td>Valerie Takahito</td>\n",
       "      <td>홈 오피스</td>\n",
       "      <td>Quanzhou</td>\n",
       "      <td>Fujian</td>\n",
       "      <td>...</td>\n",
       "      <td>북아시아</td>\n",
       "      <td>OFF-PA-10000026</td>\n",
       "      <td>사무용품</td>\n",
       "      <td>용지</td>\n",
       "      <td>Eaton Cards &amp; Envelopes, 8.5 x 11</td>\n",
       "      <td>197.28</td>\n",
       "      <td>4</td>\n",
       "      <td>0.0</td>\n",
       "      <td>35.40</td>\n",
       "      <td>예</td>\n",
       "    </tr>\n",
       "    <tr>\n",
       "      <th>1</th>\n",
       "      <td>1</td>\n",
       "      <td>IN-2020-27828</td>\n",
       "      <td>2020-08-27</td>\n",
       "      <td>2020-08-31</td>\n",
       "      <td>표준 등급</td>\n",
       "      <td>VT-21700</td>\n",
       "      <td>Valerie Takahito</td>\n",
       "      <td>홈 오피스</td>\n",
       "      <td>Quanzhou</td>\n",
       "      <td>Fujian</td>\n",
       "      <td>...</td>\n",
       "      <td>북아시아</td>\n",
       "      <td>OFF-PA-10000026</td>\n",
       "      <td>사무용품</td>\n",
       "      <td>용지</td>\n",
       "      <td>Eaton Cards &amp; Envelopes, 8.5 x 11</td>\n",
       "      <td>197.28</td>\n",
       "      <td>4</td>\n",
       "      <td>0.0</td>\n",
       "      <td>35.40</td>\n",
       "      <td>예</td>\n",
       "    </tr>\n",
       "    <tr>\n",
       "      <th>2</th>\n",
       "      <td>1</td>\n",
       "      <td>IN-2020-27828</td>\n",
       "      <td>2020-08-27</td>\n",
       "      <td>2020-08-31</td>\n",
       "      <td>표준 등급</td>\n",
       "      <td>VT-21700</td>\n",
       "      <td>Valerie Takahito</td>\n",
       "      <td>홈 오피스</td>\n",
       "      <td>Quanzhou</td>\n",
       "      <td>Fujian</td>\n",
       "      <td>...</td>\n",
       "      <td>북아시아</td>\n",
       "      <td>OFF-PA-10000026</td>\n",
       "      <td>사무용품</td>\n",
       "      <td>용지</td>\n",
       "      <td>Eaton Cards &amp; Envelopes, 8.5 x 11</td>\n",
       "      <td>197.28</td>\n",
       "      <td>4</td>\n",
       "      <td>0.0</td>\n",
       "      <td>35.40</td>\n",
       "      <td>예</td>\n",
       "    </tr>\n",
       "    <tr>\n",
       "      <th>3</th>\n",
       "      <td>1</td>\n",
       "      <td>IN-2020-27828</td>\n",
       "      <td>2020-08-27</td>\n",
       "      <td>2020-08-31</td>\n",
       "      <td>표준 등급</td>\n",
       "      <td>VT-21700</td>\n",
       "      <td>Valerie Takahito</td>\n",
       "      <td>홈 오피스</td>\n",
       "      <td>Quanzhou</td>\n",
       "      <td>Fujian</td>\n",
       "      <td>...</td>\n",
       "      <td>북아시아</td>\n",
       "      <td>OFF-PA-10000026</td>\n",
       "      <td>사무용품</td>\n",
       "      <td>용지</td>\n",
       "      <td>Eaton Cards &amp; Envelopes, 8.5 x 11</td>\n",
       "      <td>197.28</td>\n",
       "      <td>4</td>\n",
       "      <td>0.0</td>\n",
       "      <td>35.40</td>\n",
       "      <td>예</td>\n",
       "    </tr>\n",
       "    <tr>\n",
       "      <th>4</th>\n",
       "      <td>2</td>\n",
       "      <td>IN-2020-27828</td>\n",
       "      <td>2020-08-27</td>\n",
       "      <td>2020-08-31</td>\n",
       "      <td>표준 등급</td>\n",
       "      <td>VT-21700</td>\n",
       "      <td>Valerie Takahito</td>\n",
       "      <td>홈 오피스</td>\n",
       "      <td>Quanzhou</td>\n",
       "      <td>Fujian</td>\n",
       "      <td>...</td>\n",
       "      <td>북아시아</td>\n",
       "      <td>FUR-FU-10000944</td>\n",
       "      <td>가구</td>\n",
       "      <td>사무용 집기</td>\n",
       "      <td>Tenex Door Stop, Black</td>\n",
       "      <td>307.23</td>\n",
       "      <td>7</td>\n",
       "      <td>0.0</td>\n",
       "      <td>21.42</td>\n",
       "      <td>예</td>\n",
       "    </tr>\n",
       "  </tbody>\n",
       "</table>\n",
       "<p>5 rows × 21 columns</p>\n",
       "</div>"
      ],
      "text/plain": [
       "  행 ID          주문 ID      주문 날짜      배송 날짜  배송 형태     고객 ID  \\\n",
       "0    1  IN-2020-27828 2020-08-27 2020-08-31  표준 등급  VT-21700   \n",
       "1    1  IN-2020-27828 2020-08-27 2020-08-31  표준 등급  VT-21700   \n",
       "2    1  IN-2020-27828 2020-08-27 2020-08-31  표준 등급  VT-21700   \n",
       "3    1  IN-2020-27828 2020-08-27 2020-08-31  표준 등급  VT-21700   \n",
       "4    2  IN-2020-27828 2020-08-27 2020-08-31  표준 등급  VT-21700   \n",
       "\n",
       "              고객 이름   세그먼트        도시     시/도  ...    지역            제품 ID  \\\n",
       "0  Valerie Takahito  홈 오피스  Quanzhou  Fujian  ...  북아시아  OFF-PA-10000026   \n",
       "1  Valerie Takahito  홈 오피스  Quanzhou  Fujian  ...  북아시아  OFF-PA-10000026   \n",
       "2  Valerie Takahito  홈 오피스  Quanzhou  Fujian  ...  북아시아  OFF-PA-10000026   \n",
       "3  Valerie Takahito  홈 오피스  Quanzhou  Fujian  ...  북아시아  OFF-PA-10000026   \n",
       "4  Valerie Takahito  홈 오피스  Quanzhou  Fujian  ...  북아시아  FUR-FU-10000944   \n",
       "\n",
       "     범주   하위 범주                              제품 이름      매출  수량  할인율     수익  반품  \n",
       "0  사무용품      용지  Eaton Cards & Envelopes, 8.5 x 11  197.28   4  0.0  35.40   예  \n",
       "1  사무용품      용지  Eaton Cards & Envelopes, 8.5 x 11  197.28   4  0.0  35.40   예  \n",
       "2  사무용품      용지  Eaton Cards & Envelopes, 8.5 x 11  197.28   4  0.0  35.40   예  \n",
       "3  사무용품      용지  Eaton Cards & Envelopes, 8.5 x 11  197.28   4  0.0  35.40   예  \n",
       "4    가구  사무용 집기             Tenex Door Stop, Black  307.23   7  0.0  21.42   예  \n",
       "\n",
       "[5 rows x 21 columns]"
      ]
     },
     "execution_count": 48,
     "metadata": {},
     "output_type": "execute_result"
    }
   ],
   "source": [
    "df_join = pd.merge(df_order, df_return, on='주문 ID', how='left')\n",
    "df_join.head()"
   ]
  },
  {
   "cell_type": "code",
   "execution_count": 49,
   "id": "4c0b1efe",
   "metadata": {
    "ExecuteTime": {
     "end_time": "2023-02-11T14:36:13.132725Z",
     "start_time": "2023-02-11T14:36:13.102439Z"
    }
   },
   "outputs": [
    {
     "data": {
      "text/plain": [
       "예    3027\n",
       "Name: 반품, dtype: int64"
      ]
     },
     "execution_count": 49,
     "metadata": {},
     "output_type": "execute_result"
    }
   ],
   "source": [
    "df_join['반품'].value_counts()"
   ]
  },
  {
   "cell_type": "code",
   "execution_count": 50,
   "id": "b85af5a4",
   "metadata": {
    "ExecuteTime": {
     "end_time": "2023-02-11T14:36:13.164640Z",
     "start_time": "2023-02-11T14:36:13.135717Z"
    }
   },
   "outputs": [
    {
     "data": {
      "text/plain": [
       "N    10148\n",
       "Y     3027\n",
       "Name: 반품, dtype: int64"
      ]
     },
     "execution_count": 50,
     "metadata": {},
     "output_type": "execute_result"
    }
   ],
   "source": [
    "df_join['반품'] = df_join['반품'].fillna('N')\n",
    "df_join['반품'] = df_join['반품'].replace('예', 'Y')\n",
    "df_join['반품'].value_counts()"
   ]
  },
  {
   "cell_type": "code",
   "execution_count": 51,
   "id": "748f23f2",
   "metadata": {
    "ExecuteTime": {
     "end_time": "2023-02-11T14:36:13.180600Z",
     "start_time": "2023-02-11T14:36:13.167632Z"
    }
   },
   "outputs": [
    {
     "data": {
      "text/plain": [
       "(10933, 20)"
      ]
     },
     "execution_count": 51,
     "metadata": {},
     "output_type": "execute_result"
    }
   ],
   "source": [
    "df_order.shape"
   ]
  },
  {
   "cell_type": "code",
   "execution_count": 52,
   "id": "287d24c1",
   "metadata": {
    "ExecuteTime": {
     "end_time": "2023-02-11T14:36:13.196557Z",
     "start_time": "2023-02-11T14:36:13.183590Z"
    }
   },
   "outputs": [
    {
     "data": {
      "text/plain": [
       "(786, 2)"
      ]
     },
     "execution_count": 52,
     "metadata": {},
     "output_type": "execute_result"
    }
   ],
   "source": [
    "df_return.shape"
   ]
  },
  {
   "cell_type": "code",
   "execution_count": 53,
   "id": "579d078e",
   "metadata": {
    "ExecuteTime": {
     "end_time": "2023-02-11T14:36:13.212513Z",
     "start_time": "2023-02-11T14:36:13.199547Z"
    }
   },
   "outputs": [
    {
     "data": {
      "text/plain": [
       "(13175, 21)"
      ]
     },
     "execution_count": 53,
     "metadata": {},
     "output_type": "execute_result"
    }
   ],
   "source": [
    "df_join.shape"
   ]
  },
  {
   "cell_type": "code",
   "execution_count": 54,
   "id": "c870900a",
   "metadata": {
    "ExecuteTime": {
     "end_time": "2023-02-11T14:36:13.226903Z",
     "start_time": "2023-02-11T14:36:13.215506Z"
    }
   },
   "outputs": [
    {
     "data": {
      "text/plain": [
       "5397"
      ]
     },
     "execution_count": 54,
     "metadata": {},
     "output_type": "execute_result"
    }
   ],
   "source": [
    "df_order['주문 ID'].nunique()"
   ]
  },
  {
   "cell_type": "code",
   "execution_count": 55,
   "id": "38da3010",
   "metadata": {
    "ExecuteTime": {
     "end_time": "2023-02-11T14:36:13.242414Z",
     "start_time": "2023-02-11T14:36:13.226903Z"
    }
   },
   "outputs": [
    {
     "data": {
      "text/plain": [
       "296"
      ]
     },
     "execution_count": 55,
     "metadata": {},
     "output_type": "execute_result"
    }
   ],
   "source": [
    "df_return['주문 ID'].nunique()"
   ]
  },
  {
   "cell_type": "code",
   "execution_count": 56,
   "id": "34e79e37",
   "metadata": {
    "ExecuteTime": {
     "end_time": "2023-02-11T14:36:13.274338Z",
     "start_time": "2023-02-11T14:36:13.246405Z"
    }
   },
   "outputs": [
    {
     "data": {
      "text/html": [
       "<div>\n",
       "<style scoped>\n",
       "    .dataframe tbody tr th:only-of-type {\n",
       "        vertical-align: middle;\n",
       "    }\n",
       "\n",
       "    .dataframe tbody tr th {\n",
       "        vertical-align: top;\n",
       "    }\n",
       "\n",
       "    .dataframe thead th {\n",
       "        text-align: right;\n",
       "    }\n",
       "</style>\n",
       "<table border=\"1\" class=\"dataframe\">\n",
       "  <thead>\n",
       "    <tr style=\"text-align: right;\">\n",
       "      <th></th>\n",
       "      <th>주문 ID</th>\n",
       "      <th>반품</th>\n",
       "    </tr>\n",
       "  </thead>\n",
       "  <tbody>\n",
       "    <tr>\n",
       "      <th>0</th>\n",
       "      <td>ID-2018-17286</td>\n",
       "      <td>예</td>\n",
       "    </tr>\n",
       "    <tr>\n",
       "      <th>1</th>\n",
       "      <td>ID-2018-17286</td>\n",
       "      <td>예</td>\n",
       "    </tr>\n",
       "    <tr>\n",
       "      <th>2</th>\n",
       "      <td>ID-2018-20604</td>\n",
       "      <td>예</td>\n",
       "    </tr>\n",
       "    <tr>\n",
       "      <th>3</th>\n",
       "      <td>ID-2018-20604</td>\n",
       "      <td>예</td>\n",
       "    </tr>\n",
       "    <tr>\n",
       "      <th>4</th>\n",
       "      <td>ID-2018-20604</td>\n",
       "      <td>예</td>\n",
       "    </tr>\n",
       "  </tbody>\n",
       "</table>\n",
       "</div>"
      ],
      "text/plain": [
       "           주문 ID 반품\n",
       "0  ID-2018-17286  예\n",
       "1  ID-2018-17286  예\n",
       "2  ID-2018-20604  예\n",
       "3  ID-2018-20604  예\n",
       "4  ID-2018-20604  예"
      ]
     },
     "execution_count": 56,
     "metadata": {},
     "output_type": "execute_result"
    }
   ],
   "source": [
    "df_return.head()"
   ]
  },
  {
   "cell_type": "code",
   "execution_count": 57,
   "id": "032a0b54",
   "metadata": {
    "ExecuteTime": {
     "end_time": "2023-02-11T14:36:13.290286Z",
     "start_time": "2023-02-11T14:36:13.276326Z"
    }
   },
   "outputs": [
    {
     "data": {
      "text/plain": [
       "(13175, 21)"
      ]
     },
     "execution_count": 57,
     "metadata": {},
     "output_type": "execute_result"
    }
   ],
   "source": [
    "df_join.shape"
   ]
  },
  {
   "cell_type": "code",
   "execution_count": 58,
   "id": "ec43a5b7",
   "metadata": {
    "ExecuteTime": {
     "end_time": "2023-02-11T14:36:13.306245Z",
     "start_time": "2023-02-11T14:36:13.293281Z"
    }
   },
   "outputs": [
    {
     "data": {
      "text/plain": [
       "array(['예'], dtype=object)"
      ]
     },
     "execution_count": 58,
     "metadata": {},
     "output_type": "execute_result"
    }
   ],
   "source": [
    "# 반품 컬럼에 예만 있는 것을 확인\n",
    "df_return['반품'].unique()"
   ]
  },
  {
   "cell_type": "code",
   "execution_count": 59,
   "id": "38acf631",
   "metadata": {
    "ExecuteTime": {
     "end_time": "2023-02-11T14:36:13.322203Z",
     "start_time": "2023-02-11T14:36:13.309236Z"
    }
   },
   "outputs": [
    {
     "data": {
      "text/plain": [
       "array([1], dtype=int64)"
      ]
     },
     "execution_count": 59,
     "metadata": {},
     "output_type": "execute_result"
    }
   ],
   "source": [
    "# 반품 컬럼에 예만 있는 것을 확인\n",
    "df_return.groupby('주문 ID').nunique()['반품'].unique()"
   ]
  },
  {
   "cell_type": "code",
   "execution_count": 60,
   "id": "d7181955",
   "metadata": {
    "ExecuteTime": {
     "end_time": "2023-02-11T14:36:13.338159Z",
     "start_time": "2023-02-11T14:36:13.325194Z"
    }
   },
   "outputs": [
    {
     "data": {
      "text/plain": [
       "(296, 2)"
      ]
     },
     "execution_count": 60,
     "metadata": {},
     "output_type": "execute_result"
    }
   ],
   "source": [
    "df_return1 = df_return.drop_duplicates(subset='주문 ID', keep='first', ignore_index=True)\n",
    "df_return1.shape"
   ]
  },
  {
   "cell_type": "code",
   "execution_count": 61,
   "id": "620e161c",
   "metadata": {
    "ExecuteTime": {
     "end_time": "2023-02-11T14:36:13.405968Z",
     "start_time": "2023-02-11T14:36:13.341150Z"
    }
   },
   "outputs": [
    {
     "data": {
      "text/html": [
       "<div>\n",
       "<style scoped>\n",
       "    .dataframe tbody tr th:only-of-type {\n",
       "        vertical-align: middle;\n",
       "    }\n",
       "\n",
       "    .dataframe tbody tr th {\n",
       "        vertical-align: top;\n",
       "    }\n",
       "\n",
       "    .dataframe thead th {\n",
       "        text-align: right;\n",
       "    }\n",
       "</style>\n",
       "<table border=\"1\" class=\"dataframe\">\n",
       "  <thead>\n",
       "    <tr style=\"text-align: right;\">\n",
       "      <th></th>\n",
       "      <th>행 ID</th>\n",
       "      <th>주문 ID</th>\n",
       "      <th>주문 날짜</th>\n",
       "      <th>배송 날짜</th>\n",
       "      <th>배송 형태</th>\n",
       "      <th>고객 ID</th>\n",
       "      <th>고객 이름</th>\n",
       "      <th>세그먼트</th>\n",
       "      <th>도시</th>\n",
       "      <th>시/도</th>\n",
       "      <th>...</th>\n",
       "      <th>지역</th>\n",
       "      <th>제품 ID</th>\n",
       "      <th>범주</th>\n",
       "      <th>하위 범주</th>\n",
       "      <th>제품 이름</th>\n",
       "      <th>매출</th>\n",
       "      <th>수량</th>\n",
       "      <th>할인율</th>\n",
       "      <th>수익</th>\n",
       "      <th>반품</th>\n",
       "    </tr>\n",
       "  </thead>\n",
       "  <tbody>\n",
       "    <tr>\n",
       "      <th>0</th>\n",
       "      <td>1</td>\n",
       "      <td>IN-2020-27828</td>\n",
       "      <td>2020-08-27</td>\n",
       "      <td>2020-08-31</td>\n",
       "      <td>표준 등급</td>\n",
       "      <td>VT-21700</td>\n",
       "      <td>Valerie Takahito</td>\n",
       "      <td>홈 오피스</td>\n",
       "      <td>Quanzhou</td>\n",
       "      <td>Fujian</td>\n",
       "      <td>...</td>\n",
       "      <td>북아시아</td>\n",
       "      <td>OFF-PA-10000026</td>\n",
       "      <td>사무용품</td>\n",
       "      <td>용지</td>\n",
       "      <td>Eaton Cards &amp; Envelopes, 8.5 x 11</td>\n",
       "      <td>197.280</td>\n",
       "      <td>4</td>\n",
       "      <td>0.00</td>\n",
       "      <td>35.400</td>\n",
       "      <td>예</td>\n",
       "    </tr>\n",
       "    <tr>\n",
       "      <th>1</th>\n",
       "      <td>2</td>\n",
       "      <td>IN-2020-27828</td>\n",
       "      <td>2020-08-27</td>\n",
       "      <td>2020-08-31</td>\n",
       "      <td>표준 등급</td>\n",
       "      <td>VT-21700</td>\n",
       "      <td>Valerie Takahito</td>\n",
       "      <td>홈 오피스</td>\n",
       "      <td>Quanzhou</td>\n",
       "      <td>Fujian</td>\n",
       "      <td>...</td>\n",
       "      <td>북아시아</td>\n",
       "      <td>FUR-FU-10000944</td>\n",
       "      <td>가구</td>\n",
       "      <td>사무용 집기</td>\n",
       "      <td>Tenex Door Stop, Black</td>\n",
       "      <td>307.230</td>\n",
       "      <td>7</td>\n",
       "      <td>0.00</td>\n",
       "      <td>21.420</td>\n",
       "      <td>예</td>\n",
       "    </tr>\n",
       "    <tr>\n",
       "      <th>2</th>\n",
       "      <td>3</td>\n",
       "      <td>IN-2020-27828</td>\n",
       "      <td>2020-08-27</td>\n",
       "      <td>2020-08-31</td>\n",
       "      <td>표준 등급</td>\n",
       "      <td>VT-21700</td>\n",
       "      <td>Valerie Takahito</td>\n",
       "      <td>홈 오피스</td>\n",
       "      <td>Quanzhou</td>\n",
       "      <td>Fujian</td>\n",
       "      <td>...</td>\n",
       "      <td>북아시아</td>\n",
       "      <td>TEC-CO-10002526</td>\n",
       "      <td>기술</td>\n",
       "      <td>복사기</td>\n",
       "      <td>Sharp Wireless Fax, Digital</td>\n",
       "      <td>1422.240</td>\n",
       "      <td>4</td>\n",
       "      <td>0.00</td>\n",
       "      <td>526.200</td>\n",
       "      <td>예</td>\n",
       "    </tr>\n",
       "    <tr>\n",
       "      <th>3</th>\n",
       "      <td>4</td>\n",
       "      <td>IN-2020-27828</td>\n",
       "      <td>2020-08-27</td>\n",
       "      <td>2020-08-31</td>\n",
       "      <td>표준 등급</td>\n",
       "      <td>VT-21700</td>\n",
       "      <td>Valerie Takahito</td>\n",
       "      <td>홈 오피스</td>\n",
       "      <td>Quanzhou</td>\n",
       "      <td>Fujian</td>\n",
       "      <td>...</td>\n",
       "      <td>북아시아</td>\n",
       "      <td>TEC-AC-10002255</td>\n",
       "      <td>기술</td>\n",
       "      <td>액세서리</td>\n",
       "      <td>Memorex Keyboard, Erganomic</td>\n",
       "      <td>207.450</td>\n",
       "      <td>3</td>\n",
       "      <td>0.00</td>\n",
       "      <td>78.750</td>\n",
       "      <td>예</td>\n",
       "    </tr>\n",
       "    <tr>\n",
       "      <th>4</th>\n",
       "      <td>5</td>\n",
       "      <td>IN-2021-63178</td>\n",
       "      <td>2021-06-24</td>\n",
       "      <td>2021-06-30</td>\n",
       "      <td>표준 등급</td>\n",
       "      <td>SO-20335</td>\n",
       "      <td>Sean O'Donnell</td>\n",
       "      <td>일반 소비자</td>\n",
       "      <td>Marikina</td>\n",
       "      <td>Metro Manila</td>\n",
       "      <td>...</td>\n",
       "      <td>동남아시아</td>\n",
       "      <td>OFF-AP-10002882</td>\n",
       "      <td>사무용품</td>\n",
       "      <td>가전 제품</td>\n",
       "      <td>KitchenAid Coffee Grinder, Silver</td>\n",
       "      <td>121.074</td>\n",
       "      <td>2</td>\n",
       "      <td>0.15</td>\n",
       "      <td>37.014</td>\n",
       "      <td>NaN</td>\n",
       "    </tr>\n",
       "  </tbody>\n",
       "</table>\n",
       "<p>5 rows × 21 columns</p>\n",
       "</div>"
      ],
      "text/plain": [
       "  행 ID          주문 ID      주문 날짜      배송 날짜  배송 형태     고객 ID  \\\n",
       "0    1  IN-2020-27828 2020-08-27 2020-08-31  표준 등급  VT-21700   \n",
       "1    2  IN-2020-27828 2020-08-27 2020-08-31  표준 등급  VT-21700   \n",
       "2    3  IN-2020-27828 2020-08-27 2020-08-31  표준 등급  VT-21700   \n",
       "3    4  IN-2020-27828 2020-08-27 2020-08-31  표준 등급  VT-21700   \n",
       "4    5  IN-2021-63178 2021-06-24 2021-06-30  표준 등급  SO-20335   \n",
       "\n",
       "              고객 이름    세그먼트        도시           시/도  ...     지역  \\\n",
       "0  Valerie Takahito   홈 오피스  Quanzhou        Fujian  ...   북아시아   \n",
       "1  Valerie Takahito   홈 오피스  Quanzhou        Fujian  ...   북아시아   \n",
       "2  Valerie Takahito   홈 오피스  Quanzhou        Fujian  ...   북아시아   \n",
       "3  Valerie Takahito   홈 오피스  Quanzhou        Fujian  ...   북아시아   \n",
       "4    Sean O'Donnell  일반 소비자  Marikina  Metro Manila  ...  동남아시아   \n",
       "\n",
       "             제품 ID    범주   하위 범주                              제품 이름        매출  \\\n",
       "0  OFF-PA-10000026  사무용품      용지  Eaton Cards & Envelopes, 8.5 x 11   197.280   \n",
       "1  FUR-FU-10000944    가구  사무용 집기             Tenex Door Stop, Black   307.230   \n",
       "2  TEC-CO-10002526    기술     복사기        Sharp Wireless Fax, Digital  1422.240   \n",
       "3  TEC-AC-10002255    기술    액세서리        Memorex Keyboard, Erganomic   207.450   \n",
       "4  OFF-AP-10002882  사무용품   가전 제품  KitchenAid Coffee Grinder, Silver   121.074   \n",
       "\n",
       "   수량   할인율       수익   반품  \n",
       "0   4  0.00   35.400    예  \n",
       "1   7  0.00   21.420    예  \n",
       "2   4  0.00  526.200    예  \n",
       "3   3  0.00   78.750    예  \n",
       "4   2  0.15   37.014  NaN  \n",
       "\n",
       "[5 rows x 21 columns]"
      ]
     },
     "execution_count": 61,
     "metadata": {},
     "output_type": "execute_result"
    }
   ],
   "source": [
    "# 다시 조인\n",
    "df_join = pd.merge(df_order, df_return1, on='주문 ID', how='left')\n",
    "df_join.head()"
   ]
  },
  {
   "cell_type": "code",
   "execution_count": 62,
   "id": "fe29bc81",
   "metadata": {
    "ExecuteTime": {
     "end_time": "2023-02-11T14:36:13.420928Z",
     "start_time": "2023-02-11T14:36:13.408959Z"
    }
   },
   "outputs": [
    {
     "data": {
      "text/plain": [
       "(10933, 21)"
      ]
     },
     "execution_count": 62,
     "metadata": {},
     "output_type": "execute_result"
    }
   ],
   "source": [
    "df_join.shape"
   ]
  },
  {
   "cell_type": "code",
   "execution_count": 63,
   "id": "56a2384a",
   "metadata": {
    "ExecuteTime": {
     "end_time": "2023-02-11T14:36:13.452841Z",
     "start_time": "2023-02-11T14:36:13.423929Z"
    }
   },
   "outputs": [
    {
     "data": {
      "text/plain": [
       "N    10148\n",
       "Y      785\n",
       "Name: 반품, dtype: int64"
      ]
     },
     "execution_count": 63,
     "metadata": {},
     "output_type": "execute_result"
    }
   ],
   "source": [
    "df_join['반품'] = df_join['반품'].fillna('N')\n",
    "df_join['반품'] = df_join['반품'].replace('예', 'Y')\n",
    "df_join['반품'].value_counts()"
   ]
  },
  {
   "cell_type": "code",
   "execution_count": 64,
   "id": "13b67590",
   "metadata": {
    "ExecuteTime": {
     "end_time": "2023-02-11T14:36:13.508095Z",
     "start_time": "2023-02-11T14:36:13.455845Z"
    }
   },
   "outputs": [
    {
     "data": {
      "text/html": [
       "<div>\n",
       "<style scoped>\n",
       "    .dataframe tbody tr th:only-of-type {\n",
       "        vertical-align: middle;\n",
       "    }\n",
       "\n",
       "    .dataframe tbody tr th {\n",
       "        vertical-align: top;\n",
       "    }\n",
       "\n",
       "    .dataframe thead th {\n",
       "        text-align: right;\n",
       "    }\n",
       "</style>\n",
       "<table border=\"1\" class=\"dataframe\">\n",
       "  <thead>\n",
       "    <tr style=\"text-align: right;\">\n",
       "      <th></th>\n",
       "      <th>행 ID</th>\n",
       "      <th>주문 ID</th>\n",
       "      <th>주문 날짜</th>\n",
       "      <th>배송 날짜</th>\n",
       "      <th>배송 형태</th>\n",
       "      <th>고객 ID</th>\n",
       "      <th>고객 이름</th>\n",
       "      <th>세그먼트</th>\n",
       "      <th>도시</th>\n",
       "      <th>시/도</th>\n",
       "      <th>국가/지역</th>\n",
       "      <th>지역</th>\n",
       "      <th>제품 ID</th>\n",
       "      <th>범주</th>\n",
       "      <th>하위 범주</th>\n",
       "      <th>제품 이름</th>\n",
       "      <th>매출</th>\n",
       "      <th>수량</th>\n",
       "      <th>할인율</th>\n",
       "      <th>수익</th>\n",
       "    </tr>\n",
       "  </thead>\n",
       "  <tbody>\n",
       "    <tr>\n",
       "      <th>0</th>\n",
       "      <td>1</td>\n",
       "      <td>IN-2020-27828</td>\n",
       "      <td>2020-08-27</td>\n",
       "      <td>2020-08-31</td>\n",
       "      <td>표준 등급</td>\n",
       "      <td>VT-21700</td>\n",
       "      <td>Valerie Takahito</td>\n",
       "      <td>홈 오피스</td>\n",
       "      <td>Quanzhou</td>\n",
       "      <td>Fujian</td>\n",
       "      <td>China</td>\n",
       "      <td>북아시아</td>\n",
       "      <td>OFF-PA-10000026</td>\n",
       "      <td>사무용품</td>\n",
       "      <td>용지</td>\n",
       "      <td>Eaton Cards &amp; Envelopes, 8.5 x 11</td>\n",
       "      <td>197.280</td>\n",
       "      <td>4</td>\n",
       "      <td>0.00</td>\n",
       "      <td>35.400</td>\n",
       "    </tr>\n",
       "    <tr>\n",
       "      <th>1</th>\n",
       "      <td>2</td>\n",
       "      <td>IN-2020-27828</td>\n",
       "      <td>2020-08-27</td>\n",
       "      <td>2020-08-31</td>\n",
       "      <td>표준 등급</td>\n",
       "      <td>VT-21700</td>\n",
       "      <td>Valerie Takahito</td>\n",
       "      <td>홈 오피스</td>\n",
       "      <td>Quanzhou</td>\n",
       "      <td>Fujian</td>\n",
       "      <td>China</td>\n",
       "      <td>북아시아</td>\n",
       "      <td>FUR-FU-10000944</td>\n",
       "      <td>가구</td>\n",
       "      <td>사무용 집기</td>\n",
       "      <td>Tenex Door Stop, Black</td>\n",
       "      <td>307.230</td>\n",
       "      <td>7</td>\n",
       "      <td>0.00</td>\n",
       "      <td>21.420</td>\n",
       "    </tr>\n",
       "    <tr>\n",
       "      <th>2</th>\n",
       "      <td>3</td>\n",
       "      <td>IN-2020-27828</td>\n",
       "      <td>2020-08-27</td>\n",
       "      <td>2020-08-31</td>\n",
       "      <td>표준 등급</td>\n",
       "      <td>VT-21700</td>\n",
       "      <td>Valerie Takahito</td>\n",
       "      <td>홈 오피스</td>\n",
       "      <td>Quanzhou</td>\n",
       "      <td>Fujian</td>\n",
       "      <td>China</td>\n",
       "      <td>북아시아</td>\n",
       "      <td>TEC-CO-10002526</td>\n",
       "      <td>기술</td>\n",
       "      <td>복사기</td>\n",
       "      <td>Sharp Wireless Fax, Digital</td>\n",
       "      <td>1422.240</td>\n",
       "      <td>4</td>\n",
       "      <td>0.00</td>\n",
       "      <td>526.200</td>\n",
       "    </tr>\n",
       "    <tr>\n",
       "      <th>3</th>\n",
       "      <td>4</td>\n",
       "      <td>IN-2020-27828</td>\n",
       "      <td>2020-08-27</td>\n",
       "      <td>2020-08-31</td>\n",
       "      <td>표준 등급</td>\n",
       "      <td>VT-21700</td>\n",
       "      <td>Valerie Takahito</td>\n",
       "      <td>홈 오피스</td>\n",
       "      <td>Quanzhou</td>\n",
       "      <td>Fujian</td>\n",
       "      <td>China</td>\n",
       "      <td>북아시아</td>\n",
       "      <td>TEC-AC-10002255</td>\n",
       "      <td>기술</td>\n",
       "      <td>액세서리</td>\n",
       "      <td>Memorex Keyboard, Erganomic</td>\n",
       "      <td>207.450</td>\n",
       "      <td>3</td>\n",
       "      <td>0.00</td>\n",
       "      <td>78.750</td>\n",
       "    </tr>\n",
       "    <tr>\n",
       "      <th>4</th>\n",
       "      <td>5</td>\n",
       "      <td>IN-2021-63178</td>\n",
       "      <td>2021-06-24</td>\n",
       "      <td>2021-06-30</td>\n",
       "      <td>표준 등급</td>\n",
       "      <td>SO-20335</td>\n",
       "      <td>Sean O'Donnell</td>\n",
       "      <td>일반 소비자</td>\n",
       "      <td>Marikina</td>\n",
       "      <td>Metro Manila</td>\n",
       "      <td>Philippines</td>\n",
       "      <td>동남아시아</td>\n",
       "      <td>OFF-AP-10002882</td>\n",
       "      <td>사무용품</td>\n",
       "      <td>가전 제품</td>\n",
       "      <td>KitchenAid Coffee Grinder, Silver</td>\n",
       "      <td>121.074</td>\n",
       "      <td>2</td>\n",
       "      <td>0.15</td>\n",
       "      <td>37.014</td>\n",
       "    </tr>\n",
       "  </tbody>\n",
       "</table>\n",
       "</div>"
      ],
      "text/plain": [
       "  행 ID          주문 ID      주문 날짜      배송 날짜  배송 형태     고객 ID  \\\n",
       "0    1  IN-2020-27828 2020-08-27 2020-08-31  표준 등급  VT-21700   \n",
       "1    2  IN-2020-27828 2020-08-27 2020-08-31  표준 등급  VT-21700   \n",
       "2    3  IN-2020-27828 2020-08-27 2020-08-31  표준 등급  VT-21700   \n",
       "3    4  IN-2020-27828 2020-08-27 2020-08-31  표준 등급  VT-21700   \n",
       "4    5  IN-2021-63178 2021-06-24 2021-06-30  표준 등급  SO-20335   \n",
       "\n",
       "              고객 이름    세그먼트        도시           시/도        국가/지역     지역  \\\n",
       "0  Valerie Takahito   홈 오피스  Quanzhou        Fujian        China   북아시아   \n",
       "1  Valerie Takahito   홈 오피스  Quanzhou        Fujian        China   북아시아   \n",
       "2  Valerie Takahito   홈 오피스  Quanzhou        Fujian        China   북아시아   \n",
       "3  Valerie Takahito   홈 오피스  Quanzhou        Fujian        China   북아시아   \n",
       "4    Sean O'Donnell  일반 소비자  Marikina  Metro Manila  Philippines  동남아시아   \n",
       "\n",
       "             제품 ID    범주   하위 범주                              제품 이름        매출  \\\n",
       "0  OFF-PA-10000026  사무용품      용지  Eaton Cards & Envelopes, 8.5 x 11   197.280   \n",
       "1  FUR-FU-10000944    가구  사무용 집기             Tenex Door Stop, Black   307.230   \n",
       "2  TEC-CO-10002526    기술     복사기        Sharp Wireless Fax, Digital  1422.240   \n",
       "3  TEC-AC-10002255    기술    액세서리        Memorex Keyboard, Erganomic   207.450   \n",
       "4  OFF-AP-10002882  사무용품   가전 제품  KitchenAid Coffee Grinder, Silver   121.074   \n",
       "\n",
       "   수량   할인율       수익  \n",
       "0   4  0.00   35.400  \n",
       "1   7  0.00   21.420  \n",
       "2   4  0.00  526.200  \n",
       "3   3  0.00   78.750  \n",
       "4   2  0.15   37.014  "
      ]
     },
     "execution_count": 64,
     "metadata": {},
     "output_type": "execute_result"
    }
   ],
   "source": [
    "df_order.head()"
   ]
  },
  {
   "cell_type": "code",
   "execution_count": 65,
   "id": "beba3417",
   "metadata": {
    "ExecuteTime": {
     "end_time": "2023-02-11T14:36:13.555967Z",
     "start_time": "2023-02-11T14:36:13.512085Z"
    }
   },
   "outputs": [
    {
     "data": {
      "text/html": [
       "<div>\n",
       "<style scoped>\n",
       "    .dataframe tbody tr th:only-of-type {\n",
       "        vertical-align: middle;\n",
       "    }\n",
       "\n",
       "    .dataframe tbody tr th {\n",
       "        vertical-align: top;\n",
       "    }\n",
       "\n",
       "    .dataframe thead th {\n",
       "        text-align: right;\n",
       "    }\n",
       "</style>\n",
       "<table border=\"1\" class=\"dataframe\">\n",
       "  <thead>\n",
       "    <tr style=\"text-align: right;\">\n",
       "      <th></th>\n",
       "      <th>행 ID</th>\n",
       "      <th>주문 ID</th>\n",
       "      <th>주문 날짜</th>\n",
       "      <th>배송 날짜</th>\n",
       "      <th>배송 형태</th>\n",
       "      <th>고객 ID</th>\n",
       "      <th>고객 이름</th>\n",
       "      <th>세그먼트</th>\n",
       "      <th>도시</th>\n",
       "      <th>시/도</th>\n",
       "      <th>...</th>\n",
       "      <th>지역</th>\n",
       "      <th>제품 ID</th>\n",
       "      <th>범주</th>\n",
       "      <th>하위 범주</th>\n",
       "      <th>제품 이름</th>\n",
       "      <th>매출</th>\n",
       "      <th>수량</th>\n",
       "      <th>할인율</th>\n",
       "      <th>수익</th>\n",
       "      <th>반품</th>\n",
       "    </tr>\n",
       "  </thead>\n",
       "  <tbody>\n",
       "    <tr>\n",
       "      <th>0</th>\n",
       "      <td>1</td>\n",
       "      <td>IN-2020-27828</td>\n",
       "      <td>2020-08-27</td>\n",
       "      <td>2020-08-31</td>\n",
       "      <td>표준 등급</td>\n",
       "      <td>VT-21700</td>\n",
       "      <td>Valerie Takahito</td>\n",
       "      <td>홈 오피스</td>\n",
       "      <td>Quanzhou</td>\n",
       "      <td>Fujian</td>\n",
       "      <td>...</td>\n",
       "      <td>북아시아</td>\n",
       "      <td>OFF-PA-10000026</td>\n",
       "      <td>사무용품</td>\n",
       "      <td>용지</td>\n",
       "      <td>Eaton Cards &amp; Envelopes, 8.5 x 11</td>\n",
       "      <td>197.280</td>\n",
       "      <td>4</td>\n",
       "      <td>0.00</td>\n",
       "      <td>35.400</td>\n",
       "      <td>Y</td>\n",
       "    </tr>\n",
       "    <tr>\n",
       "      <th>1</th>\n",
       "      <td>2</td>\n",
       "      <td>IN-2020-27828</td>\n",
       "      <td>2020-08-27</td>\n",
       "      <td>2020-08-31</td>\n",
       "      <td>표준 등급</td>\n",
       "      <td>VT-21700</td>\n",
       "      <td>Valerie Takahito</td>\n",
       "      <td>홈 오피스</td>\n",
       "      <td>Quanzhou</td>\n",
       "      <td>Fujian</td>\n",
       "      <td>...</td>\n",
       "      <td>북아시아</td>\n",
       "      <td>FUR-FU-10000944</td>\n",
       "      <td>가구</td>\n",
       "      <td>사무용 집기</td>\n",
       "      <td>Tenex Door Stop, Black</td>\n",
       "      <td>307.230</td>\n",
       "      <td>7</td>\n",
       "      <td>0.00</td>\n",
       "      <td>21.420</td>\n",
       "      <td>Y</td>\n",
       "    </tr>\n",
       "    <tr>\n",
       "      <th>2</th>\n",
       "      <td>3</td>\n",
       "      <td>IN-2020-27828</td>\n",
       "      <td>2020-08-27</td>\n",
       "      <td>2020-08-31</td>\n",
       "      <td>표준 등급</td>\n",
       "      <td>VT-21700</td>\n",
       "      <td>Valerie Takahito</td>\n",
       "      <td>홈 오피스</td>\n",
       "      <td>Quanzhou</td>\n",
       "      <td>Fujian</td>\n",
       "      <td>...</td>\n",
       "      <td>북아시아</td>\n",
       "      <td>TEC-CO-10002526</td>\n",
       "      <td>기술</td>\n",
       "      <td>복사기</td>\n",
       "      <td>Sharp Wireless Fax, Digital</td>\n",
       "      <td>1422.240</td>\n",
       "      <td>4</td>\n",
       "      <td>0.00</td>\n",
       "      <td>526.200</td>\n",
       "      <td>Y</td>\n",
       "    </tr>\n",
       "    <tr>\n",
       "      <th>3</th>\n",
       "      <td>4</td>\n",
       "      <td>IN-2020-27828</td>\n",
       "      <td>2020-08-27</td>\n",
       "      <td>2020-08-31</td>\n",
       "      <td>표준 등급</td>\n",
       "      <td>VT-21700</td>\n",
       "      <td>Valerie Takahito</td>\n",
       "      <td>홈 오피스</td>\n",
       "      <td>Quanzhou</td>\n",
       "      <td>Fujian</td>\n",
       "      <td>...</td>\n",
       "      <td>북아시아</td>\n",
       "      <td>TEC-AC-10002255</td>\n",
       "      <td>기술</td>\n",
       "      <td>액세서리</td>\n",
       "      <td>Memorex Keyboard, Erganomic</td>\n",
       "      <td>207.450</td>\n",
       "      <td>3</td>\n",
       "      <td>0.00</td>\n",
       "      <td>78.750</td>\n",
       "      <td>Y</td>\n",
       "    </tr>\n",
       "    <tr>\n",
       "      <th>4</th>\n",
       "      <td>5</td>\n",
       "      <td>IN-2021-63178</td>\n",
       "      <td>2021-06-24</td>\n",
       "      <td>2021-06-30</td>\n",
       "      <td>표준 등급</td>\n",
       "      <td>SO-20335</td>\n",
       "      <td>Sean O'Donnell</td>\n",
       "      <td>일반 소비자</td>\n",
       "      <td>Marikina</td>\n",
       "      <td>Metro Manila</td>\n",
       "      <td>...</td>\n",
       "      <td>동남아시아</td>\n",
       "      <td>OFF-AP-10002882</td>\n",
       "      <td>사무용품</td>\n",
       "      <td>가전 제품</td>\n",
       "      <td>KitchenAid Coffee Grinder, Silver</td>\n",
       "      <td>121.074</td>\n",
       "      <td>2</td>\n",
       "      <td>0.15</td>\n",
       "      <td>37.014</td>\n",
       "      <td>N</td>\n",
       "    </tr>\n",
       "  </tbody>\n",
       "</table>\n",
       "<p>5 rows × 21 columns</p>\n",
       "</div>"
      ],
      "text/plain": [
       "  행 ID          주문 ID      주문 날짜      배송 날짜  배송 형태     고객 ID  \\\n",
       "0    1  IN-2020-27828 2020-08-27 2020-08-31  표준 등급  VT-21700   \n",
       "1    2  IN-2020-27828 2020-08-27 2020-08-31  표준 등급  VT-21700   \n",
       "2    3  IN-2020-27828 2020-08-27 2020-08-31  표준 등급  VT-21700   \n",
       "3    4  IN-2020-27828 2020-08-27 2020-08-31  표준 등급  VT-21700   \n",
       "4    5  IN-2021-63178 2021-06-24 2021-06-30  표준 등급  SO-20335   \n",
       "\n",
       "              고객 이름    세그먼트        도시           시/도  ...     지역  \\\n",
       "0  Valerie Takahito   홈 오피스  Quanzhou        Fujian  ...   북아시아   \n",
       "1  Valerie Takahito   홈 오피스  Quanzhou        Fujian  ...   북아시아   \n",
       "2  Valerie Takahito   홈 오피스  Quanzhou        Fujian  ...   북아시아   \n",
       "3  Valerie Takahito   홈 오피스  Quanzhou        Fujian  ...   북아시아   \n",
       "4    Sean O'Donnell  일반 소비자  Marikina  Metro Manila  ...  동남아시아   \n",
       "\n",
       "             제품 ID    범주   하위 범주                              제품 이름        매출  \\\n",
       "0  OFF-PA-10000026  사무용품      용지  Eaton Cards & Envelopes, 8.5 x 11   197.280   \n",
       "1  FUR-FU-10000944    가구  사무용 집기             Tenex Door Stop, Black   307.230   \n",
       "2  TEC-CO-10002526    기술     복사기        Sharp Wireless Fax, Digital  1422.240   \n",
       "3  TEC-AC-10002255    기술    액세서리        Memorex Keyboard, Erganomic   207.450   \n",
       "4  OFF-AP-10002882  사무용품   가전 제품  KitchenAid Coffee Grinder, Silver   121.074   \n",
       "\n",
       "   수량   할인율       수익  반품  \n",
       "0   4  0.00   35.400   Y  \n",
       "1   7  0.00   21.420   Y  \n",
       "2   4  0.00  526.200   Y  \n",
       "3   3  0.00   78.750   Y  \n",
       "4   2  0.15   37.014   N  \n",
       "\n",
       "[5 rows x 21 columns]"
      ]
     },
     "execution_count": 65,
     "metadata": {},
     "output_type": "execute_result"
    }
   ],
   "source": [
    "df_join.head()"
   ]
  },
  {
   "cell_type": "code",
   "execution_count": null,
   "id": "a0173b7f",
   "metadata": {},
   "outputs": [],
   "source": [
    "###"
   ]
  },
  {
   "cell_type": "code",
   "execution_count": null,
   "id": "b50430a6",
   "metadata": {},
   "outputs": [],
   "source": []
  },
  {
   "cell_type": "code",
   "execution_count": null,
   "id": "0942b5eb",
   "metadata": {},
   "outputs": [],
   "source": []
  },
  {
   "cell_type": "code",
   "execution_count": null,
   "id": "b47e180d",
   "metadata": {},
   "outputs": [],
   "source": []
  },
  {
   "cell_type": "code",
   "execution_count": null,
   "id": "36a0656a",
   "metadata": {},
   "outputs": [],
   "source": []
  },
  {
   "cell_type": "code",
   "execution_count": null,
   "id": "c293bd12",
   "metadata": {},
   "outputs": [],
   "source": []
  },
  {
   "cell_type": "code",
   "execution_count": null,
   "id": "b58699f0",
   "metadata": {},
   "outputs": [],
   "source": []
  },
  {
   "cell_type": "code",
   "execution_count": null,
   "id": "943ddf27",
   "metadata": {},
   "outputs": [],
   "source": []
  },
  {
   "cell_type": "code",
   "execution_count": null,
   "id": "4c5cce98",
   "metadata": {},
   "outputs": [],
   "source": []
  },
  {
   "cell_type": "code",
   "execution_count": null,
   "id": "d6c2922d",
   "metadata": {},
   "outputs": [],
   "source": []
  }
 ],
 "metadata": {
  "hide_input": false,
  "kernelspec": {
   "display_name": "Python 3 (ipykernel)",
   "language": "python",
   "name": "python3"
  },
  "language_info": {
   "codemirror_mode": {
    "name": "ipython",
    "version": 3
   },
   "file_extension": ".py",
   "mimetype": "text/x-python",
   "name": "python",
   "nbconvert_exporter": "python",
   "pygments_lexer": "ipython3",
   "version": "3.9.13"
  },
  "toc": {
   "base_numbering": 1,
   "nav_menu": {},
   "number_sections": false,
   "sideBar": true,
   "skip_h1_title": false,
   "title_cell": "Table of Contents",
   "title_sidebar": "Contents",
   "toc_cell": false,
   "toc_position": {},
   "toc_section_display": true,
   "toc_window_display": true
  }
 },
 "nbformat": 4,
 "nbformat_minor": 5
}
