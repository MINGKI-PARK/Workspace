{
 "cells": [
  {
   "cell_type": "code",
   "execution_count": 1,
   "id": "02dccdc4",
   "metadata": {
    "ExecuteTime": {
     "end_time": "2023-02-16T12:30:21.285790Z",
     "start_time": "2023-02-16T12:30:13.526918Z"
    }
   },
   "outputs": [],
   "source": [
    "import pandas as pd\n",
    "import numpy as np\n",
    "import matplotlib.pyplot as plt \n",
    "import seaborn as sns\n",
    "\n",
    "# notebook을 실행한 브라우저에서 바로 그림을 볼 수 있게 해주는 라인\n",
    "%matplotlib inline\n",
    "\n",
    "# 커널을 구성하다보면 에러는 아니지만, 빨간색 네모 박스 warning이 뜨는 경우를 제거 \n",
    "import warnings\n",
    "warnings.filterwarnings('ignore')\n",
    "\n",
    "# 다른 노트북 작성할 때도 이 셀만 떼서 사용 가능하다.\n",
    "import matplotlib.pyplot as plt \n",
    "import platform                \n",
    "\n",
    "# 웬만하면 해주는 것이 좋다.\n",
    "from matplotlib import font_manager, rc\n",
    "plt.rcParams['axes.unicode_minus']= False\n",
    "\n",
    "if platform.system() == 'Darwin': # 맥os 사용자의 경우에\n",
    "    plt.style.use('seaborn-darkgrid') \n",
    "    rc('font', family = 'AppleGothic')\n",
    "    \n",
    "elif platform.system() == 'Windows':# 윈도우 사용자의 경우에\n",
    "    path = 'c:/Windows/Fonts/malgun.ttf'\n",
    "    font_name = font_manager.FontProperties(fname=path).get_name()\n",
    "    plt.style.use('seaborn-darkgrid') # https://python-graph-gallery.com/199-matplotlib-style-sheets/\n",
    "    rc('font', family=font_name)"
   ]
  },
  {
   "cell_type": "code",
   "execution_count": 2,
   "id": "ce9605bd",
   "metadata": {
    "ExecuteTime": {
     "end_time": "2023-02-13T15:41:46.385991Z",
     "start_time": "2023-02-13T15:41:46.162813Z"
    }
   },
   "outputs": [
    {
     "data": {
      "text/html": [
       "<div>\n",
       "<style scoped>\n",
       "    .dataframe tbody tr th:only-of-type {\n",
       "        vertical-align: middle;\n",
       "    }\n",
       "\n",
       "    .dataframe tbody tr th {\n",
       "        vertical-align: top;\n",
       "    }\n",
       "\n",
       "    .dataframe thead th {\n",
       "        text-align: right;\n",
       "    }\n",
       "</style>\n",
       "<table border=\"1\" class=\"dataframe\">\n",
       "  <thead>\n",
       "    <tr style=\"text-align: right;\">\n",
       "      <th></th>\n",
       "      <th>행 ID</th>\n",
       "      <th>주문 ID</th>\n",
       "      <th>주문 날짜</th>\n",
       "      <th>배송 날짜</th>\n",
       "      <th>배송 형태</th>\n",
       "      <th>고객 ID</th>\n",
       "      <th>고객 이름</th>\n",
       "      <th>세그먼트</th>\n",
       "      <th>도시</th>\n",
       "      <th>시/도</th>\n",
       "      <th>국가/지역</th>\n",
       "      <th>지역</th>\n",
       "      <th>제품 ID</th>\n",
       "      <th>범주</th>\n",
       "      <th>하위 범주</th>\n",
       "      <th>제품 이름</th>\n",
       "      <th>매출</th>\n",
       "      <th>수량</th>\n",
       "      <th>할인율</th>\n",
       "      <th>수익</th>\n",
       "    </tr>\n",
       "  </thead>\n",
       "  <tbody>\n",
       "    <tr>\n",
       "      <th>0</th>\n",
       "      <td>1</td>\n",
       "      <td>IN-2020-27828</td>\n",
       "      <td>2020-08-27</td>\n",
       "      <td>2020-08-31</td>\n",
       "      <td>표준 등급</td>\n",
       "      <td>VT-21700</td>\n",
       "      <td>Valerie Takahito</td>\n",
       "      <td>홈 오피스</td>\n",
       "      <td>Quanzhou</td>\n",
       "      <td>Fujian</td>\n",
       "      <td>China</td>\n",
       "      <td>북아시아</td>\n",
       "      <td>OFF-PA-10000026</td>\n",
       "      <td>사무용품</td>\n",
       "      <td>용지</td>\n",
       "      <td>Eaton Cards &amp; Envelopes, 8.5 x 11</td>\n",
       "      <td>197.280</td>\n",
       "      <td>4</td>\n",
       "      <td>0.00</td>\n",
       "      <td>35.400</td>\n",
       "    </tr>\n",
       "    <tr>\n",
       "      <th>1</th>\n",
       "      <td>2</td>\n",
       "      <td>IN-2020-27828</td>\n",
       "      <td>2020-08-27</td>\n",
       "      <td>2020-08-31</td>\n",
       "      <td>표준 등급</td>\n",
       "      <td>VT-21700</td>\n",
       "      <td>Valerie Takahito</td>\n",
       "      <td>홈 오피스</td>\n",
       "      <td>Quanzhou</td>\n",
       "      <td>Fujian</td>\n",
       "      <td>China</td>\n",
       "      <td>북아시아</td>\n",
       "      <td>FUR-FU-10000944</td>\n",
       "      <td>가구</td>\n",
       "      <td>사무용 집기</td>\n",
       "      <td>Tenex Door Stop, Black</td>\n",
       "      <td>307.230</td>\n",
       "      <td>7</td>\n",
       "      <td>0.00</td>\n",
       "      <td>21.420</td>\n",
       "    </tr>\n",
       "    <tr>\n",
       "      <th>2</th>\n",
       "      <td>3</td>\n",
       "      <td>IN-2020-27828</td>\n",
       "      <td>2020-08-27</td>\n",
       "      <td>2020-08-31</td>\n",
       "      <td>표준 등급</td>\n",
       "      <td>VT-21700</td>\n",
       "      <td>Valerie Takahito</td>\n",
       "      <td>홈 오피스</td>\n",
       "      <td>Quanzhou</td>\n",
       "      <td>Fujian</td>\n",
       "      <td>China</td>\n",
       "      <td>북아시아</td>\n",
       "      <td>TEC-CO-10002526</td>\n",
       "      <td>기술</td>\n",
       "      <td>복사기</td>\n",
       "      <td>Sharp Wireless Fax, Digital</td>\n",
       "      <td>1422.240</td>\n",
       "      <td>4</td>\n",
       "      <td>0.00</td>\n",
       "      <td>526.200</td>\n",
       "    </tr>\n",
       "    <tr>\n",
       "      <th>3</th>\n",
       "      <td>4</td>\n",
       "      <td>IN-2020-27828</td>\n",
       "      <td>2020-08-27</td>\n",
       "      <td>2020-08-31</td>\n",
       "      <td>표준 등급</td>\n",
       "      <td>VT-21700</td>\n",
       "      <td>Valerie Takahito</td>\n",
       "      <td>홈 오피스</td>\n",
       "      <td>Quanzhou</td>\n",
       "      <td>Fujian</td>\n",
       "      <td>China</td>\n",
       "      <td>북아시아</td>\n",
       "      <td>TEC-AC-10002255</td>\n",
       "      <td>기술</td>\n",
       "      <td>액세서리</td>\n",
       "      <td>Memorex Keyboard, Erganomic</td>\n",
       "      <td>207.450</td>\n",
       "      <td>3</td>\n",
       "      <td>0.00</td>\n",
       "      <td>78.750</td>\n",
       "    </tr>\n",
       "    <tr>\n",
       "      <th>4</th>\n",
       "      <td>5</td>\n",
       "      <td>IN-2021-63178</td>\n",
       "      <td>2021-06-24</td>\n",
       "      <td>2021-06-30</td>\n",
       "      <td>표준 등급</td>\n",
       "      <td>SO-20335</td>\n",
       "      <td>Sean O'Donnell</td>\n",
       "      <td>일반 소비자</td>\n",
       "      <td>Marikina</td>\n",
       "      <td>Metro Manila</td>\n",
       "      <td>Philippines</td>\n",
       "      <td>동남아시아</td>\n",
       "      <td>OFF-AP-10002882</td>\n",
       "      <td>사무용품</td>\n",
       "      <td>가전 제품</td>\n",
       "      <td>KitchenAid Coffee Grinder, Silver</td>\n",
       "      <td>121.074</td>\n",
       "      <td>2</td>\n",
       "      <td>0.15</td>\n",
       "      <td>37.014</td>\n",
       "    </tr>\n",
       "  </tbody>\n",
       "</table>\n",
       "</div>"
      ],
      "text/plain": [
       "   행 ID          주문 ID       주문 날짜       배송 날짜  배송 형태     고객 ID  \\\n",
       "0     1  IN-2020-27828  2020-08-27  2020-08-31  표준 등급  VT-21700   \n",
       "1     2  IN-2020-27828  2020-08-27  2020-08-31  표준 등급  VT-21700   \n",
       "2     3  IN-2020-27828  2020-08-27  2020-08-31  표준 등급  VT-21700   \n",
       "3     4  IN-2020-27828  2020-08-27  2020-08-31  표준 등급  VT-21700   \n",
       "4     5  IN-2021-63178  2021-06-24  2021-06-30  표준 등급  SO-20335   \n",
       "\n",
       "              고객 이름    세그먼트        도시           시/도        국가/지역     지역  \\\n",
       "0  Valerie Takahito   홈 오피스  Quanzhou        Fujian        China   북아시아   \n",
       "1  Valerie Takahito   홈 오피스  Quanzhou        Fujian        China   북아시아   \n",
       "2  Valerie Takahito   홈 오피스  Quanzhou        Fujian        China   북아시아   \n",
       "3  Valerie Takahito   홈 오피스  Quanzhou        Fujian        China   북아시아   \n",
       "4    Sean O'Donnell  일반 소비자  Marikina  Metro Manila  Philippines  동남아시아   \n",
       "\n",
       "             제품 ID    범주   하위 범주                              제품 이름        매출  \\\n",
       "0  OFF-PA-10000026  사무용품      용지  Eaton Cards & Envelopes, 8.5 x 11   197.280   \n",
       "1  FUR-FU-10000944    가구  사무용 집기             Tenex Door Stop, Black   307.230   \n",
       "2  TEC-CO-10002526    기술     복사기        Sharp Wireless Fax, Digital  1422.240   \n",
       "3  TEC-AC-10002255    기술    액세서리        Memorex Keyboard, Erganomic   207.450   \n",
       "4  OFF-AP-10002882  사무용품   가전 제품  KitchenAid Coffee Grinder, Silver   121.074   \n",
       "\n",
       "   수량   할인율       수익  \n",
       "0   4  0.00   35.400  \n",
       "1   7  0.00   21.420  \n",
       "2   4  0.00  526.200  \n",
       "3   3  0.00   78.750  \n",
       "4   2  0.15   37.014  "
      ]
     },
     "execution_count": 2,
     "metadata": {},
     "output_type": "execute_result"
    }
   ],
   "source": [
    "df_order = pd.read_csv('../data/슈퍼스토어 - 샘플.xls - 주문.csv')\n",
    "df_order.head()"
   ]
  },
  {
   "cell_type": "code",
   "execution_count": 3,
   "id": "1199e488",
   "metadata": {
    "ExecuteTime": {
     "end_time": "2023-02-13T15:41:46.401948Z",
     "start_time": "2023-02-13T15:41:46.389983Z"
    }
   },
   "outputs": [
    {
     "data": {
      "text/plain": [
       "(10933, 20)"
      ]
     },
     "execution_count": 3,
     "metadata": {},
     "output_type": "execute_result"
    }
   ],
   "source": [
    "df_order.shape"
   ]
  },
  {
   "cell_type": "code",
   "execution_count": 4,
   "id": "e7b27736",
   "metadata": {
    "ExecuteTime": {
     "end_time": "2023-02-13T15:41:46.468352Z",
     "start_time": "2023-02-13T15:41:46.408942Z"
    }
   },
   "outputs": [
    {
     "data": {
      "text/html": [
       "<div>\n",
       "<style scoped>\n",
       "    .dataframe tbody tr th:only-of-type {\n",
       "        vertical-align: middle;\n",
       "    }\n",
       "\n",
       "    .dataframe tbody tr th {\n",
       "        vertical-align: top;\n",
       "    }\n",
       "\n",
       "    .dataframe thead th {\n",
       "        text-align: right;\n",
       "    }\n",
       "</style>\n",
       "<table border=\"1\" class=\"dataframe\">\n",
       "  <thead>\n",
       "    <tr style=\"text-align: right;\">\n",
       "      <th></th>\n",
       "      <th>주문 ID</th>\n",
       "      <th>반품</th>\n",
       "    </tr>\n",
       "  </thead>\n",
       "  <tbody>\n",
       "    <tr>\n",
       "      <th>0</th>\n",
       "      <td>ID-2018-17286</td>\n",
       "      <td>예</td>\n",
       "    </tr>\n",
       "    <tr>\n",
       "      <th>1</th>\n",
       "      <td>ID-2018-17286</td>\n",
       "      <td>예</td>\n",
       "    </tr>\n",
       "    <tr>\n",
       "      <th>2</th>\n",
       "      <td>ID-2018-20604</td>\n",
       "      <td>예</td>\n",
       "    </tr>\n",
       "    <tr>\n",
       "      <th>3</th>\n",
       "      <td>ID-2018-20604</td>\n",
       "      <td>예</td>\n",
       "    </tr>\n",
       "    <tr>\n",
       "      <th>4</th>\n",
       "      <td>ID-2018-20604</td>\n",
       "      <td>예</td>\n",
       "    </tr>\n",
       "  </tbody>\n",
       "</table>\n",
       "</div>"
      ],
      "text/plain": [
       "           주문 ID 반품\n",
       "0  ID-2018-17286  예\n",
       "1  ID-2018-17286  예\n",
       "2  ID-2018-20604  예\n",
       "3  ID-2018-20604  예\n",
       "4  ID-2018-20604  예"
      ]
     },
     "execution_count": 4,
     "metadata": {},
     "output_type": "execute_result"
    }
   ],
   "source": [
    "df_return = pd.read_csv('../data/슈퍼스토어 - 샘플.xls - 반품 정리.csv')\n",
    "df_return.head()"
   ]
  },
  {
   "cell_type": "code",
   "execution_count": 5,
   "id": "f76d62b5",
   "metadata": {
    "ExecuteTime": {
     "end_time": "2023-02-13T15:41:46.514810Z",
     "start_time": "2023-02-13T15:41:46.472350Z"
    }
   },
   "outputs": [
    {
     "data": {
      "text/html": [
       "<div>\n",
       "<style scoped>\n",
       "    .dataframe tbody tr th:only-of-type {\n",
       "        vertical-align: middle;\n",
       "    }\n",
       "\n",
       "    .dataframe tbody tr th {\n",
       "        vertical-align: top;\n",
       "    }\n",
       "\n",
       "    .dataframe thead th {\n",
       "        text-align: right;\n",
       "    }\n",
       "</style>\n",
       "<table border=\"1\" class=\"dataframe\">\n",
       "  <thead>\n",
       "    <tr style=\"text-align: right;\">\n",
       "      <th></th>\n",
       "      <th>사람</th>\n",
       "      <th>지역</th>\n",
       "    </tr>\n",
       "  </thead>\n",
       "  <tbody>\n",
       "    <tr>\n",
       "      <th>0</th>\n",
       "      <td>Sanjit Engle</td>\n",
       "      <td>동남아시아</td>\n",
       "    </tr>\n",
       "    <tr>\n",
       "      <th>1</th>\n",
       "      <td>Maribeth Dona</td>\n",
       "      <td>중앙아시아</td>\n",
       "    </tr>\n",
       "    <tr>\n",
       "      <th>2</th>\n",
       "      <td>Alex Avila</td>\n",
       "      <td>북아시아</td>\n",
       "    </tr>\n",
       "    <tr>\n",
       "      <th>3</th>\n",
       "      <td>Nora Pelletier</td>\n",
       "      <td>오세아니아</td>\n",
       "    </tr>\n",
       "  </tbody>\n",
       "</table>\n",
       "</div>"
      ],
      "text/plain": [
       "               사람     지역\n",
       "0    Sanjit Engle  동남아시아\n",
       "1   Maribeth Dona  중앙아시아\n",
       "2      Alex Avila   북아시아\n",
       "3  Nora Pelletier  오세아니아"
      ]
     },
     "execution_count": 5,
     "metadata": {},
     "output_type": "execute_result"
    }
   ],
   "source": [
    "df_human = pd.read_csv('../data/슈퍼스토어 - 샘플.xls - 인력.csv')\n",
    "df_human.head()"
   ]
  },
  {
   "cell_type": "code",
   "execution_count": 6,
   "id": "982a5666",
   "metadata": {
    "ExecuteTime": {
     "end_time": "2023-02-13T15:41:46.543228Z",
     "start_time": "2023-02-13T15:41:46.520354Z"
    }
   },
   "outputs": [
    {
     "data": {
      "text/plain": [
       "array(['China', 'Philippines', 'India', 'Japan', 'Australia', 'Indonesia',\n",
       "       'Vietnam', 'Malaysia', 'Thailand', 'Cambodia', 'Pakistan',\n",
       "       'Myanmar (Burma)', 'South Korea', 'Nepal', 'Afghanistan',\n",
       "       'Bangladesh', 'Singapore', 'Sri Lanka', 'Papua New Guinea',\n",
       "       'Mongolia', 'Taiwan', 'New Zealand'], dtype=object)"
      ]
     },
     "execution_count": 6,
     "metadata": {},
     "output_type": "execute_result"
    }
   ],
   "source": [
    "df_order['국가/지역'].unique()"
   ]
  },
  {
   "cell_type": "code",
   "execution_count": 7,
   "id": "5af74c14",
   "metadata": {
    "ExecuteTime": {
     "end_time": "2023-02-13T15:41:46.574644Z",
     "start_time": "2023-02-13T15:41:46.543228Z"
    }
   },
   "outputs": [
    {
     "data": {
      "text/plain": [
       "1261"
      ]
     },
     "execution_count": 7,
     "metadata": {},
     "output_type": "execute_result"
    }
   ],
   "source": [
    "df_order['주문 날짜'].nunique()"
   ]
  },
  {
   "cell_type": "code",
   "execution_count": 8,
   "id": "ceb816d0",
   "metadata": {
    "ExecuteTime": {
     "end_time": "2023-02-13T15:41:46.637579Z",
     "start_time": "2023-02-13T15:41:46.578634Z"
    }
   },
   "outputs": [
    {
     "data": {
      "text/plain": [
       "행 ID     0\n",
       "주문 ID    0\n",
       "주문 날짜    0\n",
       "배송 날짜    0\n",
       "배송 형태    0\n",
       "고객 ID    0\n",
       "고객 이름    0\n",
       "세그먼트     0\n",
       "도시       0\n",
       "시/도      0\n",
       "국가/지역    0\n",
       "지역       0\n",
       "제품 ID    0\n",
       "범주       0\n",
       "하위 범주    0\n",
       "제품 이름    0\n",
       "매출       0\n",
       "수량       0\n",
       "할인율      0\n",
       "수익       0\n",
       "dtype: int64"
      ]
     },
     "execution_count": 8,
     "metadata": {},
     "output_type": "execute_result"
    }
   ],
   "source": [
    "df_order.isnull().sum()"
   ]
  },
  {
   "cell_type": "code",
   "execution_count": 9,
   "id": "f8e06f54",
   "metadata": {
    "ExecuteTime": {
     "end_time": "2023-02-13T15:41:46.654168Z",
     "start_time": "2023-02-13T15:41:46.640582Z"
    }
   },
   "outputs": [
    {
     "data": {
      "text/plain": [
       "주문 ID    0\n",
       "반품       0\n",
       "dtype: int64"
      ]
     },
     "execution_count": 9,
     "metadata": {},
     "output_type": "execute_result"
    }
   ],
   "source": [
    "df_return.isnull().sum()"
   ]
  },
  {
   "cell_type": "code",
   "execution_count": 10,
   "id": "f6f6ef63",
   "metadata": {
    "ExecuteTime": {
     "end_time": "2023-02-13T15:41:46.685309Z",
     "start_time": "2023-02-13T15:41:46.666352Z"
    }
   },
   "outputs": [
    {
     "data": {
      "text/plain": [
       "296"
      ]
     },
     "execution_count": 10,
     "metadata": {},
     "output_type": "execute_result"
    }
   ],
   "source": [
    "df_return['주문 ID'].nunique()"
   ]
  },
  {
   "cell_type": "code",
   "execution_count": 11,
   "id": "367901b0",
   "metadata": {
    "ExecuteTime": {
     "end_time": "2023-02-13T15:41:46.701259Z",
     "start_time": "2023-02-13T15:41:46.688295Z"
    }
   },
   "outputs": [
    {
     "data": {
      "text/plain": [
       "(10933, 20)"
      ]
     },
     "execution_count": 11,
     "metadata": {},
     "output_type": "execute_result"
    }
   ],
   "source": [
    "df_order.shape"
   ]
  },
  {
   "cell_type": "code",
   "execution_count": 12,
   "id": "6568d6a4",
   "metadata": {
    "ExecuteTime": {
     "end_time": "2023-02-13T15:41:46.760959Z",
     "start_time": "2023-02-13T15:41:46.705247Z"
    }
   },
   "outputs": [
    {
     "data": {
      "text/html": [
       "<div>\n",
       "<style scoped>\n",
       "    .dataframe tbody tr th:only-of-type {\n",
       "        vertical-align: middle;\n",
       "    }\n",
       "\n",
       "    .dataframe tbody tr th {\n",
       "        vertical-align: top;\n",
       "    }\n",
       "\n",
       "    .dataframe thead th {\n",
       "        text-align: right;\n",
       "    }\n",
       "</style>\n",
       "<table border=\"1\" class=\"dataframe\">\n",
       "  <thead>\n",
       "    <tr style=\"text-align: right;\">\n",
       "      <th></th>\n",
       "      <th>행 ID</th>\n",
       "      <th>매출</th>\n",
       "      <th>수량</th>\n",
       "      <th>할인율</th>\n",
       "      <th>수익</th>\n",
       "    </tr>\n",
       "  </thead>\n",
       "  <tbody>\n",
       "    <tr>\n",
       "      <th>count</th>\n",
       "      <td>10933.000000</td>\n",
       "      <td>10933.000000</td>\n",
       "      <td>10933.000000</td>\n",
       "      <td>10933.000000</td>\n",
       "      <td>10933.000000</td>\n",
       "    </tr>\n",
       "    <tr>\n",
       "      <th>mean</th>\n",
       "      <td>5501.108570</td>\n",
       "      <td>326.208731</td>\n",
       "      <td>3.752127</td>\n",
       "      <td>0.149724</td>\n",
       "      <td>39.518374</td>\n",
       "    </tr>\n",
       "    <tr>\n",
       "      <th>std</th>\n",
       "      <td>3179.318347</td>\n",
       "      <td>552.275866</td>\n",
       "      <td>2.260526</td>\n",
       "      <td>0.176511</td>\n",
       "      <td>170.856873</td>\n",
       "    </tr>\n",
       "    <tr>\n",
       "      <th>min</th>\n",
       "      <td>1.000000</td>\n",
       "      <td>2.880000</td>\n",
       "      <td>1.000000</td>\n",
       "      <td>0.000000</td>\n",
       "      <td>-3009.435000</td>\n",
       "    </tr>\n",
       "    <tr>\n",
       "      <th>25%</th>\n",
       "      <td>2747.000000</td>\n",
       "      <td>47.079900</td>\n",
       "      <td>2.000000</td>\n",
       "      <td>0.000000</td>\n",
       "      <td>-3.103200</td>\n",
       "    </tr>\n",
       "    <tr>\n",
       "      <th>50%</th>\n",
       "      <td>5493.000000</td>\n",
       "      <td>122.796000</td>\n",
       "      <td>3.000000</td>\n",
       "      <td>0.100000</td>\n",
       "      <td>10.830000</td>\n",
       "    </tr>\n",
       "    <tr>\n",
       "      <th>75%</th>\n",
       "      <td>8262.000000</td>\n",
       "      <td>348.300000</td>\n",
       "      <td>5.000000</td>\n",
       "      <td>0.270000</td>\n",
       "      <td>48.385500</td>\n",
       "    </tr>\n",
       "    <tr>\n",
       "      <th>max</th>\n",
       "      <td>11000.000000</td>\n",
       "      <td>6998.640000</td>\n",
       "      <td>14.000000</td>\n",
       "      <td>0.800000</td>\n",
       "      <td>2939.310000</td>\n",
       "    </tr>\n",
       "  </tbody>\n",
       "</table>\n",
       "</div>"
      ],
      "text/plain": [
       "               행 ID            매출            수량           할인율            수익\n",
       "count  10933.000000  10933.000000  10933.000000  10933.000000  10933.000000\n",
       "mean    5501.108570    326.208731      3.752127      0.149724     39.518374\n",
       "std     3179.318347    552.275866      2.260526      0.176511    170.856873\n",
       "min        1.000000      2.880000      1.000000      0.000000  -3009.435000\n",
       "25%     2747.000000     47.079900      2.000000      0.000000     -3.103200\n",
       "50%     5493.000000    122.796000      3.000000      0.100000     10.830000\n",
       "75%     8262.000000    348.300000      5.000000      0.270000     48.385500\n",
       "max    11000.000000   6998.640000     14.000000      0.800000   2939.310000"
      ]
     },
     "execution_count": 12,
     "metadata": {},
     "output_type": "execute_result"
    }
   ],
   "source": [
    "df_order.describe()"
   ]
  },
  {
   "cell_type": "code",
   "execution_count": 13,
   "id": "87bb8b6a",
   "metadata": {
    "ExecuteTime": {
     "end_time": "2023-02-13T15:41:46.872633Z",
     "start_time": "2023-02-13T15:41:46.764948Z"
    }
   },
   "outputs": [
    {
     "data": {
      "text/html": [
       "<div>\n",
       "<style scoped>\n",
       "    .dataframe tbody tr th:only-of-type {\n",
       "        vertical-align: middle;\n",
       "    }\n",
       "\n",
       "    .dataframe tbody tr th {\n",
       "        vertical-align: top;\n",
       "    }\n",
       "\n",
       "    .dataframe thead th {\n",
       "        text-align: right;\n",
       "    }\n",
       "</style>\n",
       "<table border=\"1\" class=\"dataframe\">\n",
       "  <thead>\n",
       "    <tr style=\"text-align: right;\">\n",
       "      <th></th>\n",
       "      <th>nan_count</th>\n",
       "    </tr>\n",
       "  </thead>\n",
       "  <tbody>\n",
       "    <tr>\n",
       "      <th>행 ID</th>\n",
       "      <td>0</td>\n",
       "    </tr>\n",
       "    <tr>\n",
       "      <th>주문 ID</th>\n",
       "      <td>0</td>\n",
       "    </tr>\n",
       "    <tr>\n",
       "      <th>주문 날짜</th>\n",
       "      <td>0</td>\n",
       "    </tr>\n",
       "    <tr>\n",
       "      <th>배송 날짜</th>\n",
       "      <td>0</td>\n",
       "    </tr>\n",
       "    <tr>\n",
       "      <th>배송 형태</th>\n",
       "      <td>0</td>\n",
       "    </tr>\n",
       "    <tr>\n",
       "      <th>고객 ID</th>\n",
       "      <td>0</td>\n",
       "    </tr>\n",
       "    <tr>\n",
       "      <th>고객 이름</th>\n",
       "      <td>0</td>\n",
       "    </tr>\n",
       "    <tr>\n",
       "      <th>세그먼트</th>\n",
       "      <td>0</td>\n",
       "    </tr>\n",
       "    <tr>\n",
       "      <th>도시</th>\n",
       "      <td>0</td>\n",
       "    </tr>\n",
       "    <tr>\n",
       "      <th>시/도</th>\n",
       "      <td>0</td>\n",
       "    </tr>\n",
       "    <tr>\n",
       "      <th>국가/지역</th>\n",
       "      <td>0</td>\n",
       "    </tr>\n",
       "    <tr>\n",
       "      <th>지역</th>\n",
       "      <td>0</td>\n",
       "    </tr>\n",
       "    <tr>\n",
       "      <th>제품 ID</th>\n",
       "      <td>0</td>\n",
       "    </tr>\n",
       "    <tr>\n",
       "      <th>범주</th>\n",
       "      <td>0</td>\n",
       "    </tr>\n",
       "    <tr>\n",
       "      <th>하위 범주</th>\n",
       "      <td>0</td>\n",
       "    </tr>\n",
       "    <tr>\n",
       "      <th>제품 이름</th>\n",
       "      <td>0</td>\n",
       "    </tr>\n",
       "    <tr>\n",
       "      <th>매출</th>\n",
       "      <td>0</td>\n",
       "    </tr>\n",
       "    <tr>\n",
       "      <th>수량</th>\n",
       "      <td>0</td>\n",
       "    </tr>\n",
       "    <tr>\n",
       "      <th>할인율</th>\n",
       "      <td>0</td>\n",
       "    </tr>\n",
       "    <tr>\n",
       "      <th>수익</th>\n",
       "      <td>0</td>\n",
       "    </tr>\n",
       "  </tbody>\n",
       "</table>\n",
       "</div>"
      ],
      "text/plain": [
       "       nan_count\n",
       "행 ID           0\n",
       "주문 ID          0\n",
       "주문 날짜          0\n",
       "배송 날짜          0\n",
       "배송 형태          0\n",
       "고객 ID          0\n",
       "고객 이름          0\n",
       "세그먼트           0\n",
       "도시             0\n",
       "시/도            0\n",
       "국가/지역          0\n",
       "지역             0\n",
       "제품 ID          0\n",
       "범주             0\n",
       "하위 범주          0\n",
       "제품 이름          0\n",
       "매출             0\n",
       "수량             0\n",
       "할인율            0\n",
       "수익             0"
      ]
     },
     "execution_count": 13,
     "metadata": {},
     "output_type": "execute_result"
    }
   ],
   "source": [
    "# 결측치 개수 파악\n",
    "# 셀 실행 결과를 데이터프레임으로 보고 싶을 때 to_frame()과 pd.DataFrame() 두 가지를 사용 가능\n",
    "df_order.isnull().sum().to_frame('nan_count')\n",
    "pd.DataFrame(df_order.isnull().sum(), columns=['nan_count'])"
   ]
  },
  {
   "cell_type": "code",
   "execution_count": 14,
   "id": "ebf3cc67",
   "metadata": {
    "ExecuteTime": {
     "end_time": "2023-02-13T15:41:46.946419Z",
     "start_time": "2023-02-13T15:41:46.876628Z"
    }
   },
   "outputs": [
    {
     "data": {
      "text/html": [
       "<div>\n",
       "<style scoped>\n",
       "    .dataframe tbody tr th:only-of-type {\n",
       "        vertical-align: middle;\n",
       "    }\n",
       "\n",
       "    .dataframe tbody tr th {\n",
       "        vertical-align: top;\n",
       "    }\n",
       "\n",
       "    .dataframe thead th {\n",
       "        text-align: right;\n",
       "    }\n",
       "</style>\n",
       "<table border=\"1\" class=\"dataframe\">\n",
       "  <thead>\n",
       "    <tr style=\"text-align: right;\">\n",
       "      <th></th>\n",
       "      <th>nan_ratio</th>\n",
       "    </tr>\n",
       "  </thead>\n",
       "  <tbody>\n",
       "    <tr>\n",
       "      <th>행 ID</th>\n",
       "      <td>0.0</td>\n",
       "    </tr>\n",
       "    <tr>\n",
       "      <th>주문 ID</th>\n",
       "      <td>0.0</td>\n",
       "    </tr>\n",
       "    <tr>\n",
       "      <th>주문 날짜</th>\n",
       "      <td>0.0</td>\n",
       "    </tr>\n",
       "    <tr>\n",
       "      <th>배송 날짜</th>\n",
       "      <td>0.0</td>\n",
       "    </tr>\n",
       "    <tr>\n",
       "      <th>배송 형태</th>\n",
       "      <td>0.0</td>\n",
       "    </tr>\n",
       "    <tr>\n",
       "      <th>고객 ID</th>\n",
       "      <td>0.0</td>\n",
       "    </tr>\n",
       "    <tr>\n",
       "      <th>고객 이름</th>\n",
       "      <td>0.0</td>\n",
       "    </tr>\n",
       "    <tr>\n",
       "      <th>세그먼트</th>\n",
       "      <td>0.0</td>\n",
       "    </tr>\n",
       "    <tr>\n",
       "      <th>도시</th>\n",
       "      <td>0.0</td>\n",
       "    </tr>\n",
       "    <tr>\n",
       "      <th>시/도</th>\n",
       "      <td>0.0</td>\n",
       "    </tr>\n",
       "    <tr>\n",
       "      <th>국가/지역</th>\n",
       "      <td>0.0</td>\n",
       "    </tr>\n",
       "    <tr>\n",
       "      <th>지역</th>\n",
       "      <td>0.0</td>\n",
       "    </tr>\n",
       "    <tr>\n",
       "      <th>제품 ID</th>\n",
       "      <td>0.0</td>\n",
       "    </tr>\n",
       "    <tr>\n",
       "      <th>범주</th>\n",
       "      <td>0.0</td>\n",
       "    </tr>\n",
       "    <tr>\n",
       "      <th>하위 범주</th>\n",
       "      <td>0.0</td>\n",
       "    </tr>\n",
       "    <tr>\n",
       "      <th>제품 이름</th>\n",
       "      <td>0.0</td>\n",
       "    </tr>\n",
       "    <tr>\n",
       "      <th>매출</th>\n",
       "      <td>0.0</td>\n",
       "    </tr>\n",
       "    <tr>\n",
       "      <th>수량</th>\n",
       "      <td>0.0</td>\n",
       "    </tr>\n",
       "    <tr>\n",
       "      <th>할인율</th>\n",
       "      <td>0.0</td>\n",
       "    </tr>\n",
       "    <tr>\n",
       "      <th>수익</th>\n",
       "      <td>0.0</td>\n",
       "    </tr>\n",
       "  </tbody>\n",
       "</table>\n",
       "</div>"
      ],
      "text/plain": [
       "       nan_ratio\n",
       "행 ID         0.0\n",
       "주문 ID        0.0\n",
       "주문 날짜        0.0\n",
       "배송 날짜        0.0\n",
       "배송 형태        0.0\n",
       "고객 ID        0.0\n",
       "고객 이름        0.0\n",
       "세그먼트         0.0\n",
       "도시           0.0\n",
       "시/도          0.0\n",
       "국가/지역        0.0\n",
       "지역           0.0\n",
       "제품 ID        0.0\n",
       "범주           0.0\n",
       "하위 범주        0.0\n",
       "제품 이름        0.0\n",
       "매출           0.0\n",
       "수량           0.0\n",
       "할인율          0.0\n",
       "수익           0.0"
      ]
     },
     "execution_count": 14,
     "metadata": {},
     "output_type": "execute_result"
    }
   ],
   "source": [
    "# 결측치 비율 파악\n",
    "pd.DataFrame(data=df_order.isnull().sum()/len(df_order), columns=['nan_ratio'])"
   ]
  },
  {
   "cell_type": "markdown",
   "id": "ecebe10a",
   "metadata": {},
   "source": [
    "## 컬럼 확인하기"
   ]
  },
  {
   "cell_type": "markdown",
   "id": "1673f60b",
   "metadata": {},
   "source": [
    "### 주문 테이블"
   ]
  },
  {
   "cell_type": "code",
   "execution_count": 15,
   "id": "317dbc6c",
   "metadata": {
    "ExecuteTime": {
     "end_time": "2023-02-13T15:41:46.994292Z",
     "start_time": "2023-02-13T15:41:46.950410Z"
    }
   },
   "outputs": [
    {
     "data": {
      "text/html": [
       "<div>\n",
       "<style scoped>\n",
       "    .dataframe tbody tr th:only-of-type {\n",
       "        vertical-align: middle;\n",
       "    }\n",
       "\n",
       "    .dataframe tbody tr th {\n",
       "        vertical-align: top;\n",
       "    }\n",
       "\n",
       "    .dataframe thead th {\n",
       "        text-align: right;\n",
       "    }\n",
       "</style>\n",
       "<table border=\"1\" class=\"dataframe\">\n",
       "  <thead>\n",
       "    <tr style=\"text-align: right;\">\n",
       "      <th></th>\n",
       "      <th>행 ID</th>\n",
       "      <th>주문 ID</th>\n",
       "      <th>주문 날짜</th>\n",
       "      <th>배송 날짜</th>\n",
       "      <th>배송 형태</th>\n",
       "      <th>고객 ID</th>\n",
       "      <th>고객 이름</th>\n",
       "      <th>세그먼트</th>\n",
       "      <th>도시</th>\n",
       "      <th>시/도</th>\n",
       "      <th>국가/지역</th>\n",
       "      <th>지역</th>\n",
       "      <th>제품 ID</th>\n",
       "      <th>범주</th>\n",
       "      <th>하위 범주</th>\n",
       "      <th>제품 이름</th>\n",
       "      <th>매출</th>\n",
       "      <th>수량</th>\n",
       "      <th>할인율</th>\n",
       "      <th>수익</th>\n",
       "    </tr>\n",
       "  </thead>\n",
       "  <tbody>\n",
       "    <tr>\n",
       "      <th>0</th>\n",
       "      <td>1</td>\n",
       "      <td>IN-2020-27828</td>\n",
       "      <td>2020-08-27</td>\n",
       "      <td>2020-08-31</td>\n",
       "      <td>표준 등급</td>\n",
       "      <td>VT-21700</td>\n",
       "      <td>Valerie Takahito</td>\n",
       "      <td>홈 오피스</td>\n",
       "      <td>Quanzhou</td>\n",
       "      <td>Fujian</td>\n",
       "      <td>China</td>\n",
       "      <td>북아시아</td>\n",
       "      <td>OFF-PA-10000026</td>\n",
       "      <td>사무용품</td>\n",
       "      <td>용지</td>\n",
       "      <td>Eaton Cards &amp; Envelopes, 8.5 x 11</td>\n",
       "      <td>197.28</td>\n",
       "      <td>4</td>\n",
       "      <td>0.0</td>\n",
       "      <td>35.4</td>\n",
       "    </tr>\n",
       "  </tbody>\n",
       "</table>\n",
       "</div>"
      ],
      "text/plain": [
       "   행 ID          주문 ID       주문 날짜       배송 날짜  배송 형태     고객 ID  \\\n",
       "0     1  IN-2020-27828  2020-08-27  2020-08-31  표준 등급  VT-21700   \n",
       "\n",
       "              고객 이름   세그먼트        도시     시/도  국가/지역    지역            제품 ID  \\\n",
       "0  Valerie Takahito  홈 오피스  Quanzhou  Fujian  China  북아시아  OFF-PA-10000026   \n",
       "\n",
       "     범주 하위 범주                              제품 이름      매출  수량  할인율    수익  \n",
       "0  사무용품    용지  Eaton Cards & Envelopes, 8.5 x 11  197.28   4  0.0  35.4  "
      ]
     },
     "execution_count": 15,
     "metadata": {},
     "output_type": "execute_result"
    }
   ],
   "source": [
    "df_order.head(1)"
   ]
  },
  {
   "cell_type": "code",
   "execution_count": 16,
   "id": "238e88ac",
   "metadata": {
    "ExecuteTime": {
     "end_time": "2023-02-13T15:41:47.010249Z",
     "start_time": "2023-02-13T15:41:46.998281Z"
    }
   },
   "outputs": [
    {
     "data": {
      "text/plain": [
       "10933"
      ]
     },
     "execution_count": 16,
     "metadata": {},
     "output_type": "execute_result"
    }
   ],
   "source": [
    "# order 테이블\n",
    "# 행 ID\n",
    "df_order['행 ID'].nunique()"
   ]
  },
  {
   "cell_type": "code",
   "execution_count": 17,
   "id": "d74a9582",
   "metadata": {
    "ExecuteTime": {
     "end_time": "2023-02-13T15:41:47.026206Z",
     "start_time": "2023-02-13T15:41:47.014238Z"
    }
   },
   "outputs": [
    {
     "data": {
      "text/plain": [
       "5397"
      ]
     },
     "execution_count": 17,
     "metadata": {},
     "output_type": "execute_result"
    }
   ],
   "source": [
    "# 주문 ID\n",
    "df_order['주문 ID'].nunique()"
   ]
  },
  {
   "cell_type": "code",
   "execution_count": 18,
   "id": "94888abb",
   "metadata": {
    "ExecuteTime": {
     "end_time": "2023-02-13T15:41:47.042163Z",
     "start_time": "2023-02-13T15:41:47.030198Z"
    }
   },
   "outputs": [],
   "source": [
    "# 아이디 갯수 시각화\n"
   ]
  },
  {
   "cell_type": "code",
   "execution_count": 19,
   "id": "cf26b09c",
   "metadata": {
    "ExecuteTime": {
     "end_time": "2023-02-13T15:41:47.058120Z",
     "start_time": "2023-02-13T15:41:47.046153Z"
    }
   },
   "outputs": [
    {
     "data": {
      "text/plain": [
       "1261"
      ]
     },
     "execution_count": 19,
     "metadata": {},
     "output_type": "execute_result"
    }
   ],
   "source": [
    "# 주문 날짜\n",
    "df_order['주문 날짜'].nunique()"
   ]
  },
  {
   "cell_type": "code",
   "execution_count": 20,
   "id": "fb94c77f",
   "metadata": {
    "ExecuteTime": {
     "end_time": "2023-02-13T15:41:47.074079Z",
     "start_time": "2023-02-13T15:41:47.062110Z"
    }
   },
   "outputs": [
    {
     "data": {
      "text/plain": [
       "'2018-01-01'"
      ]
     },
     "execution_count": 20,
     "metadata": {},
     "output_type": "execute_result"
    }
   ],
   "source": [
    "df_order['주문 날짜'].min()"
   ]
  },
  {
   "cell_type": "code",
   "execution_count": 21,
   "id": "0cb98165",
   "metadata": {
    "ExecuteTime": {
     "end_time": "2023-02-13T15:41:47.090035Z",
     "start_time": "2023-02-13T15:41:47.078076Z"
    }
   },
   "outputs": [
    {
     "data": {
      "text/plain": [
       "'2021-12-31'"
      ]
     },
     "execution_count": 21,
     "metadata": {},
     "output_type": "execute_result"
    }
   ],
   "source": [
    "df_order['주문 날짜'].max()"
   ]
  },
  {
   "cell_type": "code",
   "execution_count": 22,
   "id": "7fe899cf",
   "metadata": {
    "ExecuteTime": {
     "end_time": "2023-02-13T15:41:47.106002Z",
     "start_time": "2023-02-13T15:41:47.094028Z"
    }
   },
   "outputs": [
    {
     "data": {
      "text/plain": [
       "1375"
      ]
     },
     "execution_count": 22,
     "metadata": {},
     "output_type": "execute_result"
    }
   ],
   "source": [
    "# 배송 날짜\n",
    "df_order['배송 날짜'].nunique()"
   ]
  },
  {
   "cell_type": "code",
   "execution_count": 23,
   "id": "2aa2cdef",
   "metadata": {
    "ExecuteTime": {
     "end_time": "2023-02-13T15:41:47.121949Z",
     "start_time": "2023-02-13T15:41:47.108985Z"
    }
   },
   "outputs": [
    {
     "data": {
      "text/plain": [
       "'2018-01-03'"
      ]
     },
     "execution_count": 23,
     "metadata": {},
     "output_type": "execute_result"
    }
   ],
   "source": [
    "df_order['배송 날짜'].min()"
   ]
  },
  {
   "cell_type": "code",
   "execution_count": 24,
   "id": "1b72701e",
   "metadata": {
    "ExecuteTime": {
     "end_time": "2023-02-13T15:41:47.148155Z",
     "start_time": "2023-02-13T15:41:47.125940Z"
    }
   },
   "outputs": [
    {
     "data": {
      "text/plain": [
       "'2022-01-07'"
      ]
     },
     "execution_count": 24,
     "metadata": {},
     "output_type": "execute_result"
    }
   ],
   "source": [
    "df_order['배송 날짜'].max()"
   ]
  },
  {
   "cell_type": "code",
   "execution_count": 25,
   "id": "15d9733b",
   "metadata": {
    "ExecuteTime": {
     "end_time": "2023-02-13T15:41:47.164113Z",
     "start_time": "2023-02-13T15:41:47.153144Z"
    }
   },
   "outputs": [
    {
     "data": {
      "text/plain": [
       "795"
      ]
     },
     "execution_count": 25,
     "metadata": {},
     "output_type": "execute_result"
    }
   ],
   "source": [
    "# 고객 ID\n",
    "df_order['고객 ID'].nunique()"
   ]
  },
  {
   "cell_type": "code",
   "execution_count": 26,
   "id": "a1ab3dea",
   "metadata": {
    "ExecuteTime": {
     "end_time": "2023-02-13T15:41:47.180070Z",
     "start_time": "2023-02-13T15:41:47.168114Z"
    }
   },
   "outputs": [
    {
     "data": {
      "text/plain": [
       "795"
      ]
     },
     "execution_count": 26,
     "metadata": {},
     "output_type": "execute_result"
    }
   ],
   "source": [
    "# 고객 이름\n",
    "df_order['고객 이름'].nunique()"
   ]
  },
  {
   "cell_type": "code",
   "execution_count": 27,
   "id": "c6785f81",
   "metadata": {
    "ExecuteTime": {
     "end_time": "2023-02-13T15:41:47.196026Z",
     "start_time": "2023-02-13T15:41:47.184060Z"
    }
   },
   "outputs": [
    {
     "data": {
      "text/plain": [
       "3"
      ]
     },
     "execution_count": 27,
     "metadata": {},
     "output_type": "execute_result"
    }
   ],
   "source": [
    "# 세그먼트\n",
    "df_order['세그먼트'].nunique()"
   ]
  },
  {
   "cell_type": "code",
   "execution_count": 28,
   "id": "f881f7ea",
   "metadata": {
    "ExecuteTime": {
     "end_time": "2023-02-13T15:41:47.229134Z",
     "start_time": "2023-02-13T15:41:47.210991Z"
    }
   },
   "outputs": [
    {
     "data": {
      "text/html": [
       "<div>\n",
       "<style scoped>\n",
       "    .dataframe tbody tr th:only-of-type {\n",
       "        vertical-align: middle;\n",
       "    }\n",
       "\n",
       "    .dataframe tbody tr th {\n",
       "        vertical-align: top;\n",
       "    }\n",
       "\n",
       "    .dataframe thead th {\n",
       "        text-align: right;\n",
       "    }\n",
       "</style>\n",
       "<table border=\"1\" class=\"dataframe\">\n",
       "  <thead>\n",
       "    <tr style=\"text-align: right;\">\n",
       "      <th></th>\n",
       "      <th>counts</th>\n",
       "    </tr>\n",
       "  </thead>\n",
       "  <tbody>\n",
       "    <tr>\n",
       "      <th>일반 소비자</th>\n",
       "      <td>5658</td>\n",
       "    </tr>\n",
       "    <tr>\n",
       "      <th>기업</th>\n",
       "      <td>3264</td>\n",
       "    </tr>\n",
       "    <tr>\n",
       "      <th>홈 오피스</th>\n",
       "      <td>2011</td>\n",
       "    </tr>\n",
       "  </tbody>\n",
       "</table>\n",
       "</div>"
      ],
      "text/plain": [
       "        counts\n",
       "일반 소비자    5658\n",
       "기업        3264\n",
       "홈 오피스     2011"
      ]
     },
     "execution_count": 28,
     "metadata": {},
     "output_type": "execute_result"
    }
   ],
   "source": [
    "df_order['세그먼트'].value_counts().to_frame('counts')"
   ]
  },
  {
   "cell_type": "code",
   "execution_count": 29,
   "id": "429946ed",
   "metadata": {
    "ExecuteTime": {
     "end_time": "2023-02-13T15:41:47.260968Z",
     "start_time": "2023-02-13T15:41:47.236036Z"
    }
   },
   "outputs": [
    {
     "data": {
      "text/plain": [
       "539"
      ]
     },
     "execution_count": 29,
     "metadata": {},
     "output_type": "execute_result"
    }
   ],
   "source": [
    "# 도시\n",
    "df_order['도시'].nunique()"
   ]
  },
  {
   "cell_type": "code",
   "execution_count": 30,
   "id": "35ecfcaa",
   "metadata": {
    "ExecuteTime": {
     "end_time": "2023-02-13T15:41:47.340754Z",
     "start_time": "2023-02-13T15:41:47.264958Z"
    }
   },
   "outputs": [
    {
     "data": {
      "text/html": [
       "<div>\n",
       "<style scoped>\n",
       "    .dataframe tbody tr th:only-of-type {\n",
       "        vertical-align: middle;\n",
       "    }\n",
       "\n",
       "    .dataframe tbody tr th {\n",
       "        vertical-align: top;\n",
       "    }\n",
       "\n",
       "    .dataframe thead th {\n",
       "        text-align: right;\n",
       "    }\n",
       "</style>\n",
       "<table border=\"1\" class=\"dataframe\">\n",
       "  <thead>\n",
       "    <tr style=\"text-align: right;\">\n",
       "      <th></th>\n",
       "      <th></th>\n",
       "      <th></th>\n",
       "      <th>도시</th>\n",
       "    </tr>\n",
       "    <tr>\n",
       "      <th>지역</th>\n",
       "      <th>국가/지역</th>\n",
       "      <th>시/도</th>\n",
       "      <th></th>\n",
       "    </tr>\n",
       "  </thead>\n",
       "  <tbody>\n",
       "    <tr>\n",
       "      <th rowspan=\"5\" valign=\"top\">동남아시아</th>\n",
       "      <th>Cambodia</th>\n",
       "      <th>Phnom Penh</th>\n",
       "      <td>[Phnom Penh]</td>\n",
       "    </tr>\n",
       "    <tr>\n",
       "      <th rowspan=\"4\" valign=\"top\">Indonesia</th>\n",
       "      <th>Aceh</th>\n",
       "      <td>[Banda Aceh]</td>\n",
       "    </tr>\n",
       "    <tr>\n",
       "      <th>Bali</th>\n",
       "      <td>[Denpasar]</td>\n",
       "    </tr>\n",
       "    <tr>\n",
       "      <th>Bengkulu</th>\n",
       "      <td>[Bengkulu]</td>\n",
       "    </tr>\n",
       "    <tr>\n",
       "      <th>Jakarta</th>\n",
       "      <td>[Jakarta]</td>\n",
       "    </tr>\n",
       "    <tr>\n",
       "      <th>...</th>\n",
       "      <th>...</th>\n",
       "      <th>...</th>\n",
       "      <td>...</td>\n",
       "    </tr>\n",
       "    <tr>\n",
       "      <th rowspan=\"5\" valign=\"top\">중앙아시아</th>\n",
       "      <th rowspan=\"4\" valign=\"top\">Pakistan</th>\n",
       "      <th>F.C.T.</th>\n",
       "      <td>[Islamabad]</td>\n",
       "    </tr>\n",
       "    <tr>\n",
       "      <th>Khyber Pakhtunkhwa</th>\n",
       "      <td>[Peshawar]</td>\n",
       "    </tr>\n",
       "    <tr>\n",
       "      <th>Punjab</th>\n",
       "      <td>[Lahore, Multan, Sargodha, Rawalpindi, Gujranw...</td>\n",
       "    </tr>\n",
       "    <tr>\n",
       "      <th>Sindh</th>\n",
       "      <td>[Hyderabad, Sukkur]</td>\n",
       "    </tr>\n",
       "    <tr>\n",
       "      <th>Sri Lanka</th>\n",
       "      <th>Western</th>\n",
       "      <td>[Colombo]</td>\n",
       "    </tr>\n",
       "  </tbody>\n",
       "</table>\n",
       "<p>182 rows × 1 columns</p>\n",
       "</div>"
      ],
      "text/plain": [
       "                                                                                   도시\n",
       "지역    국가/지역     시/도                                                                  \n",
       "동남아시아 Cambodia  Phnom Penh                                               [Phnom Penh]\n",
       "      Indonesia Aceh                                                     [Banda Aceh]\n",
       "                Bali                                                       [Denpasar]\n",
       "                Bengkulu                                                   [Bengkulu]\n",
       "                Jakarta                                                     [Jakarta]\n",
       "...                                                                               ...\n",
       "중앙아시아 Pakistan  F.C.T.                                                    [Islamabad]\n",
       "                Khyber Pakhtunkhwa                                         [Peshawar]\n",
       "                Punjab              [Lahore, Multan, Sargodha, Rawalpindi, Gujranw...\n",
       "                Sindh                                             [Hyderabad, Sukkur]\n",
       "      Sri Lanka Western                                                     [Colombo]\n",
       "\n",
       "[182 rows x 1 columns]"
      ]
     },
     "execution_count": 30,
     "metadata": {},
     "output_type": "execute_result"
    }
   ],
   "source": [
    "df_order.groupby(['지역', '국가/지역', '시/도'])['도시'].unique().to_frame()"
   ]
  },
  {
   "cell_type": "code",
   "execution_count": 31,
   "id": "5347ada1",
   "metadata": {
    "ExecuteTime": {
     "end_time": "2023-02-13T15:41:47.372564Z",
     "start_time": "2023-02-13T15:41:47.343747Z"
    }
   },
   "outputs": [
    {
     "data": {
      "text/html": [
       "<div>\n",
       "<style scoped>\n",
       "    .dataframe tbody tr th:only-of-type {\n",
       "        vertical-align: middle;\n",
       "    }\n",
       "\n",
       "    .dataframe tbody tr th {\n",
       "        vertical-align: top;\n",
       "    }\n",
       "\n",
       "    .dataframe thead th {\n",
       "        text-align: right;\n",
       "    }\n",
       "</style>\n",
       "<table border=\"1\" class=\"dataframe\">\n",
       "  <thead>\n",
       "    <tr style=\"text-align: right;\">\n",
       "      <th></th>\n",
       "      <th>국가/지역</th>\n",
       "    </tr>\n",
       "    <tr>\n",
       "      <th>지역</th>\n",
       "      <th></th>\n",
       "    </tr>\n",
       "  </thead>\n",
       "  <tbody>\n",
       "    <tr>\n",
       "      <th>동남아시아</th>\n",
       "      <td>8</td>\n",
       "    </tr>\n",
       "    <tr>\n",
       "      <th>북아시아</th>\n",
       "      <td>5</td>\n",
       "    </tr>\n",
       "    <tr>\n",
       "      <th>오세아니아</th>\n",
       "      <td>3</td>\n",
       "    </tr>\n",
       "    <tr>\n",
       "      <th>중앙아시아</th>\n",
       "      <td>6</td>\n",
       "    </tr>\n",
       "  </tbody>\n",
       "</table>\n",
       "</div>"
      ],
      "text/plain": [
       "       국가/지역\n",
       "지역          \n",
       "동남아시아      8\n",
       "북아시아       5\n",
       "오세아니아      3\n",
       "중앙아시아      6"
      ]
     },
     "execution_count": 31,
     "metadata": {},
     "output_type": "execute_result"
    }
   ],
   "source": [
    "df_order.groupby(['지역'])['국가/지역'].nunique().to_frame()"
   ]
  },
  {
   "cell_type": "code",
   "execution_count": 32,
   "id": "6c966e19",
   "metadata": {
    "ExecuteTime": {
     "end_time": "2023-02-13T15:41:47.403481Z",
     "start_time": "2023-02-13T15:41:47.376554Z"
    }
   },
   "outputs": [
    {
     "data": {
      "text/html": [
       "<div>\n",
       "<style scoped>\n",
       "    .dataframe tbody tr th:only-of-type {\n",
       "        vertical-align: middle;\n",
       "    }\n",
       "\n",
       "    .dataframe tbody tr th {\n",
       "        vertical-align: top;\n",
       "    }\n",
       "\n",
       "    .dataframe thead th {\n",
       "        text-align: right;\n",
       "    }\n",
       "</style>\n",
       "<table border=\"1\" class=\"dataframe\">\n",
       "  <thead>\n",
       "    <tr style=\"text-align: right;\">\n",
       "      <th></th>\n",
       "      <th>시/도</th>\n",
       "    </tr>\n",
       "    <tr>\n",
       "      <th>국가/지역</th>\n",
       "      <th></th>\n",
       "    </tr>\n",
       "  </thead>\n",
       "  <tbody>\n",
       "    <tr>\n",
       "      <th>China</th>\n",
       "      <td>30</td>\n",
       "    </tr>\n",
       "    <tr>\n",
       "      <th>Japan</th>\n",
       "      <td>26</td>\n",
       "    </tr>\n",
       "    <tr>\n",
       "      <th>India</th>\n",
       "      <td>23</td>\n",
       "    </tr>\n",
       "    <tr>\n",
       "      <th>Indonesia</th>\n",
       "      <td>23</td>\n",
       "    </tr>\n",
       "    <tr>\n",
       "      <th>New Zealand</th>\n",
       "      <td>14</td>\n",
       "    </tr>\n",
       "    <tr>\n",
       "      <th>South Korea</th>\n",
       "      <td>10</td>\n",
       "    </tr>\n",
       "    <tr>\n",
       "      <th>Philippines</th>\n",
       "      <td>9</td>\n",
       "    </tr>\n",
       "    <tr>\n",
       "      <th>Malaysia</th>\n",
       "      <td>8</td>\n",
       "    </tr>\n",
       "    <tr>\n",
       "      <th>Australia</th>\n",
       "      <td>8</td>\n",
       "    </tr>\n",
       "    <tr>\n",
       "      <th>Vietnam</th>\n",
       "      <td>6</td>\n",
       "    </tr>\n",
       "    <tr>\n",
       "      <th>Pakistan</th>\n",
       "      <td>5</td>\n",
       "    </tr>\n",
       "    <tr>\n",
       "      <th>Bangladesh</th>\n",
       "      <td>5</td>\n",
       "    </tr>\n",
       "    <tr>\n",
       "      <th>Taiwan</th>\n",
       "      <td>3</td>\n",
       "    </tr>\n",
       "    <tr>\n",
       "      <th>Afghanistan</th>\n",
       "      <td>3</td>\n",
       "    </tr>\n",
       "    <tr>\n",
       "      <th>Thailand</th>\n",
       "      <td>2</td>\n",
       "    </tr>\n",
       "    <tr>\n",
       "      <th>Papua New Guinea</th>\n",
       "      <td>1</td>\n",
       "    </tr>\n",
       "    <tr>\n",
       "      <th>Myanmar (Burma)</th>\n",
       "      <td>1</td>\n",
       "    </tr>\n",
       "    <tr>\n",
       "      <th>Singapore</th>\n",
       "      <td>1</td>\n",
       "    </tr>\n",
       "    <tr>\n",
       "      <th>Mongolia</th>\n",
       "      <td>1</td>\n",
       "    </tr>\n",
       "    <tr>\n",
       "      <th>Sri Lanka</th>\n",
       "      <td>1</td>\n",
       "    </tr>\n",
       "    <tr>\n",
       "      <th>Cambodia</th>\n",
       "      <td>1</td>\n",
       "    </tr>\n",
       "    <tr>\n",
       "      <th>Nepal</th>\n",
       "      <td>1</td>\n",
       "    </tr>\n",
       "  </tbody>\n",
       "</table>\n",
       "</div>"
      ],
      "text/plain": [
       "                  시/도\n",
       "국가/지역                \n",
       "China              30\n",
       "Japan              26\n",
       "India              23\n",
       "Indonesia          23\n",
       "New Zealand        14\n",
       "South Korea        10\n",
       "Philippines         9\n",
       "Malaysia            8\n",
       "Australia           8\n",
       "Vietnam             6\n",
       "Pakistan            5\n",
       "Bangladesh          5\n",
       "Taiwan              3\n",
       "Afghanistan         3\n",
       "Thailand            2\n",
       "Papua New Guinea    1\n",
       "Myanmar (Burma)     1\n",
       "Singapore           1\n",
       "Mongolia            1\n",
       "Sri Lanka           1\n",
       "Cambodia            1\n",
       "Nepal               1"
      ]
     },
     "execution_count": 32,
     "metadata": {},
     "output_type": "execute_result"
    }
   ],
   "source": [
    "df_order.groupby(['국가/지역'])['시/도'].nunique().to_frame().sort_values('시/도', ascending=False)"
   ]
  },
  {
   "cell_type": "code",
   "execution_count": 33,
   "id": "864eacfc",
   "metadata": {
    "ExecuteTime": {
     "end_time": "2023-02-13T15:41:47.435396Z",
     "start_time": "2023-02-13T15:41:47.407471Z"
    }
   },
   "outputs": [
    {
     "data": {
      "text/html": [
       "<div>\n",
       "<style scoped>\n",
       "    .dataframe tbody tr th:only-of-type {\n",
       "        vertical-align: middle;\n",
       "    }\n",
       "\n",
       "    .dataframe tbody tr th {\n",
       "        vertical-align: top;\n",
       "    }\n",
       "\n",
       "    .dataframe thead th {\n",
       "        text-align: right;\n",
       "    }\n",
       "</style>\n",
       "<table border=\"1\" class=\"dataframe\">\n",
       "  <thead>\n",
       "    <tr style=\"text-align: right;\">\n",
       "      <th></th>\n",
       "      <th>도시</th>\n",
       "    </tr>\n",
       "    <tr>\n",
       "      <th>시/도</th>\n",
       "      <th></th>\n",
       "    </tr>\n",
       "  </thead>\n",
       "  <tbody>\n",
       "    <tr>\n",
       "      <th>Uttar Pradesh</th>\n",
       "      <td>21</td>\n",
       "    </tr>\n",
       "    <tr>\n",
       "      <th>Maharashtra</th>\n",
       "      <td>21</td>\n",
       "    </tr>\n",
       "    <tr>\n",
       "      <th>New South Wales</th>\n",
       "      <td>18</td>\n",
       "    </tr>\n",
       "    <tr>\n",
       "      <th>Guangdong</th>\n",
       "      <td>15</td>\n",
       "    </tr>\n",
       "    <tr>\n",
       "      <th>Henan</th>\n",
       "      <td>12</td>\n",
       "    </tr>\n",
       "    <tr>\n",
       "      <th>...</th>\n",
       "      <td>...</td>\n",
       "    </tr>\n",
       "    <tr>\n",
       "      <th>Khyber Pakhtunkhwa</th>\n",
       "      <td>1</td>\n",
       "    </tr>\n",
       "    <tr>\n",
       "      <th>Khulna</th>\n",
       "      <td>1</td>\n",
       "    </tr>\n",
       "    <tr>\n",
       "      <th>Kandahar</th>\n",
       "      <td>1</td>\n",
       "    </tr>\n",
       "    <tr>\n",
       "      <th>Kalimantan Selatan</th>\n",
       "      <td>1</td>\n",
       "    </tr>\n",
       "    <tr>\n",
       "      <th>충남</th>\n",
       "      <td>1</td>\n",
       "    </tr>\n",
       "  </tbody>\n",
       "</table>\n",
       "<p>180 rows × 1 columns</p>\n",
       "</div>"
      ],
      "text/plain": [
       "                    도시\n",
       "시/도                   \n",
       "Uttar Pradesh       21\n",
       "Maharashtra         21\n",
       "New South Wales     18\n",
       "Guangdong           15\n",
       "Henan               12\n",
       "...                 ..\n",
       "Khyber Pakhtunkhwa   1\n",
       "Khulna               1\n",
       "Kandahar             1\n",
       "Kalimantan Selatan   1\n",
       "충남                   1\n",
       "\n",
       "[180 rows x 1 columns]"
      ]
     },
     "execution_count": 33,
     "metadata": {},
     "output_type": "execute_result"
    }
   ],
   "source": [
    "df_order.groupby(['시/도'])['도시'].nunique().to_frame().sort_values('도시', ascending=False)"
   ]
  },
  {
   "cell_type": "code",
   "execution_count": 34,
   "id": "0c7a5d92",
   "metadata": {
    "ExecuteTime": {
     "end_time": "2023-02-13T15:41:47.493828Z",
     "start_time": "2023-02-13T15:41:47.439385Z"
    }
   },
   "outputs": [
    {
     "data": {
      "text/html": [
       "<div>\n",
       "<style scoped>\n",
       "    .dataframe tbody tr th:only-of-type {\n",
       "        vertical-align: middle;\n",
       "    }\n",
       "\n",
       "    .dataframe tbody tr th {\n",
       "        vertical-align: top;\n",
       "    }\n",
       "\n",
       "    .dataframe thead th {\n",
       "        text-align: right;\n",
       "    }\n",
       "</style>\n",
       "<table border=\"1\" class=\"dataframe\">\n",
       "  <thead>\n",
       "    <tr style=\"text-align: right;\">\n",
       "      <th></th>\n",
       "      <th>도시</th>\n",
       "    </tr>\n",
       "    <tr>\n",
       "      <th>시/도</th>\n",
       "      <th></th>\n",
       "    </tr>\n",
       "  </thead>\n",
       "  <tbody>\n",
       "    <tr>\n",
       "      <th>Aceh</th>\n",
       "      <td>[Banda Aceh]</td>\n",
       "    </tr>\n",
       "    <tr>\n",
       "      <th>Aichi</th>\n",
       "      <td>[Kasugai, Toyohashi, Handa, Anjo]</td>\n",
       "    </tr>\n",
       "    <tr>\n",
       "      <th>Andhra Pradesh</th>\n",
       "      <td>[Vijayawada, Nellore, Anantapur, Visakhapatnam...</td>\n",
       "    </tr>\n",
       "    <tr>\n",
       "      <th>Anhui</th>\n",
       "      <td>[Anqing, Suzhou, Huaibei, Hefei, Huainan, Huan...</td>\n",
       "    </tr>\n",
       "    <tr>\n",
       "      <th>Aomori</th>\n",
       "      <td>[Hachinohe]</td>\n",
       "    </tr>\n",
       "    <tr>\n",
       "      <th>...</th>\n",
       "      <td>...</td>\n",
       "    </tr>\n",
       "    <tr>\n",
       "      <th>부산</th>\n",
       "      <td>[부산]</td>\n",
       "    </tr>\n",
       "    <tr>\n",
       "      <th>서울</th>\n",
       "      <td>[서울]</td>\n",
       "    </tr>\n",
       "    <tr>\n",
       "      <th>울산</th>\n",
       "      <td>[울산]</td>\n",
       "    </tr>\n",
       "    <tr>\n",
       "      <th>제주</th>\n",
       "      <td>[애월]</td>\n",
       "    </tr>\n",
       "    <tr>\n",
       "      <th>충남</th>\n",
       "      <td>[천안]</td>\n",
       "    </tr>\n",
       "  </tbody>\n",
       "</table>\n",
       "<p>180 rows × 1 columns</p>\n",
       "</div>"
      ],
      "text/plain": [
       "                                                               도시\n",
       "시/도                                                              \n",
       "Aceh                                                 [Banda Aceh]\n",
       "Aichi                           [Kasugai, Toyohashi, Handa, Anjo]\n",
       "Andhra Pradesh  [Vijayawada, Nellore, Anantapur, Visakhapatnam...\n",
       "Anhui           [Anqing, Suzhou, Huaibei, Hefei, Huainan, Huan...\n",
       "Aomori                                                [Hachinohe]\n",
       "...                                                           ...\n",
       "부산                                                           [부산]\n",
       "서울                                                           [서울]\n",
       "울산                                                           [울산]\n",
       "제주                                                           [애월]\n",
       "충남                                                           [천안]\n",
       "\n",
       "[180 rows x 1 columns]"
      ]
     },
     "execution_count": 34,
     "metadata": {},
     "output_type": "execute_result"
    }
   ],
   "source": [
    "df_order.groupby(['시/도'])['도시'].unique().to_frame()"
   ]
  },
  {
   "cell_type": "code",
   "execution_count": 35,
   "id": "291a05a4",
   "metadata": {
    "ExecuteTime": {
     "end_time": "2023-02-13T15:41:47.525189Z",
     "start_time": "2023-02-13T15:41:47.500255Z"
    }
   },
   "outputs": [
    {
     "data": {
      "text/plain": [
       "array(['사무용품', '가구', '기술'], dtype=object)"
      ]
     },
     "execution_count": 35,
     "metadata": {},
     "output_type": "execute_result"
    }
   ],
   "source": [
    "# 범주\n",
    "df_order['범주'].unique()"
   ]
  },
  {
   "cell_type": "code",
   "execution_count": 36,
   "id": "23b2d132",
   "metadata": {
    "ExecuteTime": {
     "end_time": "2023-02-13T15:41:47.557097Z",
     "start_time": "2023-02-13T15:41:47.529172Z"
    }
   },
   "outputs": [
    {
     "data": {
      "text/html": [
       "<div>\n",
       "<style scoped>\n",
       "    .dataframe tbody tr th:only-of-type {\n",
       "        vertical-align: middle;\n",
       "    }\n",
       "\n",
       "    .dataframe tbody tr th {\n",
       "        vertical-align: top;\n",
       "    }\n",
       "\n",
       "    .dataframe thead th {\n",
       "        text-align: right;\n",
       "    }\n",
       "</style>\n",
       "<table border=\"1\" class=\"dataframe\">\n",
       "  <thead>\n",
       "    <tr style=\"text-align: right;\">\n",
       "      <th></th>\n",
       "      <th>범주</th>\n",
       "    </tr>\n",
       "  </thead>\n",
       "  <tbody>\n",
       "    <tr>\n",
       "      <th>사무용품</th>\n",
       "      <td>6137</td>\n",
       "    </tr>\n",
       "    <tr>\n",
       "      <th>가구</th>\n",
       "      <td>2415</td>\n",
       "    </tr>\n",
       "    <tr>\n",
       "      <th>기술</th>\n",
       "      <td>2381</td>\n",
       "    </tr>\n",
       "  </tbody>\n",
       "</table>\n",
       "</div>"
      ],
      "text/plain": [
       "        범주\n",
       "사무용품  6137\n",
       "가구    2415\n",
       "기술    2381"
      ]
     },
     "execution_count": 36,
     "metadata": {},
     "output_type": "execute_result"
    }
   ],
   "source": [
    "df_order['범주'].value_counts().to_frame()"
   ]
  },
  {
   "cell_type": "code",
   "execution_count": 37,
   "id": "1077ecee",
   "metadata": {
    "ExecuteTime": {
     "end_time": "2023-02-13T15:41:47.588013Z",
     "start_time": "2023-02-13T15:41:47.562083Z"
    }
   },
   "outputs": [
    {
     "data": {
      "text/plain": [
       "array(['용지', '사무용 집기', '복사기', '액세서리', '가전 제품', '바인더', '전화기', '레이블',\n",
       "       '미술용품', '사무용품', '봉투', '의자', '사무기기', '테이블', '보관함', '책장', '잠금장치'],\n",
       "      dtype=object)"
      ]
     },
     "execution_count": 37,
     "metadata": {},
     "output_type": "execute_result"
    }
   ],
   "source": [
    "df_order['하위 범주'].unique()"
   ]
  },
  {
   "cell_type": "code",
   "execution_count": 38,
   "id": "8418b4e1",
   "metadata": {
    "ExecuteTime": {
     "end_time": "2023-02-13T15:41:47.630323Z",
     "start_time": "2023-02-13T15:41:47.600980Z"
    }
   },
   "outputs": [
    {
     "data": {
      "text/html": [
       "<div>\n",
       "<style scoped>\n",
       "    .dataframe tbody tr th:only-of-type {\n",
       "        vertical-align: middle;\n",
       "    }\n",
       "\n",
       "    .dataframe tbody tr th {\n",
       "        vertical-align: top;\n",
       "    }\n",
       "\n",
       "    .dataframe thead th {\n",
       "        text-align: right;\n",
       "    }\n",
       "</style>\n",
       "<table border=\"1\" class=\"dataframe\">\n",
       "  <thead>\n",
       "    <tr style=\"text-align: right;\">\n",
       "      <th></th>\n",
       "      <th>하위 범주</th>\n",
       "    </tr>\n",
       "    <tr>\n",
       "      <th>범주</th>\n",
       "      <th></th>\n",
       "    </tr>\n",
       "  </thead>\n",
       "  <tbody>\n",
       "    <tr>\n",
       "      <th>가구</th>\n",
       "      <td>4</td>\n",
       "    </tr>\n",
       "    <tr>\n",
       "      <th>기술</th>\n",
       "      <td>4</td>\n",
       "    </tr>\n",
       "    <tr>\n",
       "      <th>사무용품</th>\n",
       "      <td>9</td>\n",
       "    </tr>\n",
       "  </tbody>\n",
       "</table>\n",
       "</div>"
      ],
      "text/plain": [
       "      하위 범주\n",
       "범주         \n",
       "가구        4\n",
       "기술        4\n",
       "사무용품      9"
      ]
     },
     "execution_count": 38,
     "metadata": {},
     "output_type": "execute_result"
    }
   ],
   "source": [
    "df_order.groupby('범주')['하위 범주'].nunique().to_frame()"
   ]
  },
  {
   "cell_type": "code",
   "execution_count": 39,
   "id": "c27966ca",
   "metadata": {
    "ExecuteTime": {
     "end_time": "2023-02-13T15:41:47.694149Z",
     "start_time": "2023-02-13T15:41:47.639297Z"
    }
   },
   "outputs": [
    {
     "data": {
      "text/html": [
       "<div>\n",
       "<style scoped>\n",
       "    .dataframe tbody tr th:only-of-type {\n",
       "        vertical-align: middle;\n",
       "    }\n",
       "\n",
       "    .dataframe tbody tr th {\n",
       "        vertical-align: top;\n",
       "    }\n",
       "\n",
       "    .dataframe thead th {\n",
       "        text-align: right;\n",
       "    }\n",
       "</style>\n",
       "<table border=\"1\" class=\"dataframe\">\n",
       "  <thead>\n",
       "    <tr style=\"text-align: right;\">\n",
       "      <th></th>\n",
       "      <th>행 ID</th>\n",
       "      <th>매출</th>\n",
       "      <th>수량</th>\n",
       "      <th>할인율</th>\n",
       "      <th>수익</th>\n",
       "    </tr>\n",
       "  </thead>\n",
       "  <tbody>\n",
       "    <tr>\n",
       "      <th>count</th>\n",
       "      <td>10933.000000</td>\n",
       "      <td>10933.000000</td>\n",
       "      <td>10933.000000</td>\n",
       "      <td>10933.000000</td>\n",
       "      <td>10933.000000</td>\n",
       "    </tr>\n",
       "    <tr>\n",
       "      <th>mean</th>\n",
       "      <td>5501.108570</td>\n",
       "      <td>326.208731</td>\n",
       "      <td>3.752127</td>\n",
       "      <td>0.149724</td>\n",
       "      <td>39.518374</td>\n",
       "    </tr>\n",
       "    <tr>\n",
       "      <th>std</th>\n",
       "      <td>3179.318347</td>\n",
       "      <td>552.275866</td>\n",
       "      <td>2.260526</td>\n",
       "      <td>0.176511</td>\n",
       "      <td>170.856873</td>\n",
       "    </tr>\n",
       "    <tr>\n",
       "      <th>min</th>\n",
       "      <td>1.000000</td>\n",
       "      <td>2.880000</td>\n",
       "      <td>1.000000</td>\n",
       "      <td>0.000000</td>\n",
       "      <td>-3009.435000</td>\n",
       "    </tr>\n",
       "    <tr>\n",
       "      <th>25%</th>\n",
       "      <td>2747.000000</td>\n",
       "      <td>47.079900</td>\n",
       "      <td>2.000000</td>\n",
       "      <td>0.000000</td>\n",
       "      <td>-3.103200</td>\n",
       "    </tr>\n",
       "    <tr>\n",
       "      <th>50%</th>\n",
       "      <td>5493.000000</td>\n",
       "      <td>122.796000</td>\n",
       "      <td>3.000000</td>\n",
       "      <td>0.100000</td>\n",
       "      <td>10.830000</td>\n",
       "    </tr>\n",
       "    <tr>\n",
       "      <th>75%</th>\n",
       "      <td>8262.000000</td>\n",
       "      <td>348.300000</td>\n",
       "      <td>5.000000</td>\n",
       "      <td>0.270000</td>\n",
       "      <td>48.385500</td>\n",
       "    </tr>\n",
       "    <tr>\n",
       "      <th>max</th>\n",
       "      <td>11000.000000</td>\n",
       "      <td>6998.640000</td>\n",
       "      <td>14.000000</td>\n",
       "      <td>0.800000</td>\n",
       "      <td>2939.310000</td>\n",
       "    </tr>\n",
       "  </tbody>\n",
       "</table>\n",
       "</div>"
      ],
      "text/plain": [
       "               행 ID            매출            수량           할인율            수익\n",
       "count  10933.000000  10933.000000  10933.000000  10933.000000  10933.000000\n",
       "mean    5501.108570    326.208731      3.752127      0.149724     39.518374\n",
       "std     3179.318347    552.275866      2.260526      0.176511    170.856873\n",
       "min        1.000000      2.880000      1.000000      0.000000  -3009.435000\n",
       "25%     2747.000000     47.079900      2.000000      0.000000     -3.103200\n",
       "50%     5493.000000    122.796000      3.000000      0.100000     10.830000\n",
       "75%     8262.000000    348.300000      5.000000      0.270000     48.385500\n",
       "max    11000.000000   6998.640000     14.000000      0.800000   2939.310000"
      ]
     },
     "execution_count": 39,
     "metadata": {},
     "output_type": "execute_result"
    }
   ],
   "source": [
    "df_order.describe()"
   ]
  },
  {
   "cell_type": "code",
   "execution_count": 40,
   "id": "61709584",
   "metadata": {
    "ExecuteTime": {
     "end_time": "2023-02-13T15:41:47.710108Z",
     "start_time": "2023-02-13T15:41:47.698140Z"
    }
   },
   "outputs": [
    {
     "data": {
      "text/plain": [
       "array([0.  , 0.15, 0.1 , 0.4 , 0.45, 0.25, 0.35, 0.47, 0.17, 0.3 , 0.27,\n",
       "       0.37, 0.07, 0.5 , 0.2 , 0.57, 0.8 , 0.55, 0.6 ])"
      ]
     },
     "execution_count": 40,
     "metadata": {},
     "output_type": "execute_result"
    }
   ],
   "source": [
    "df_order['할인율'].unique()"
   ]
  },
  {
   "cell_type": "code",
   "execution_count": 149,
   "id": "ca004e4b",
   "metadata": {
    "ExecuteTime": {
     "end_time": "2023-02-15T11:59:59.934611Z",
     "start_time": "2023-02-15T11:59:59.914632Z"
    }
   },
   "outputs": [
    {
     "data": {
      "text/plain": [
       "19"
      ]
     },
     "execution_count": 149,
     "metadata": {},
     "output_type": "execute_result"
    }
   ],
   "source": [
    "df_order['할인율'].nunique()"
   ]
  },
  {
   "cell_type": "code",
   "execution_count": 41,
   "id": "e49ed550",
   "metadata": {
    "ExecuteTime": {
     "end_time": "2023-02-13T15:41:47.742022Z",
     "start_time": "2023-02-13T15:41:47.713099Z"
    }
   },
   "outputs": [
    {
     "data": {
      "text/html": [
       "<div>\n",
       "<style scoped>\n",
       "    .dataframe tbody tr th:only-of-type {\n",
       "        vertical-align: middle;\n",
       "    }\n",
       "\n",
       "    .dataframe tbody tr th {\n",
       "        vertical-align: top;\n",
       "    }\n",
       "\n",
       "    .dataframe thead th {\n",
       "        text-align: right;\n",
       "    }\n",
       "</style>\n",
       "<table border=\"1\" class=\"dataframe\">\n",
       "  <thead>\n",
       "    <tr style=\"text-align: right;\">\n",
       "      <th></th>\n",
       "      <th>할인율</th>\n",
       "    </tr>\n",
       "  </thead>\n",
       "  <tbody>\n",
       "    <tr>\n",
       "      <th>0.00</th>\n",
       "      <td>4621</td>\n",
       "    </tr>\n",
       "    <tr>\n",
       "      <th>0.07</th>\n",
       "      <td>150</td>\n",
       "    </tr>\n",
       "    <tr>\n",
       "      <th>0.10</th>\n",
       "      <td>2203</td>\n",
       "    </tr>\n",
       "    <tr>\n",
       "      <th>0.15</th>\n",
       "      <td>82</td>\n",
       "    </tr>\n",
       "    <tr>\n",
       "      <th>0.17</th>\n",
       "      <td>735</td>\n",
       "    </tr>\n",
       "    <tr>\n",
       "      <th>0.20</th>\n",
       "      <td>92</td>\n",
       "    </tr>\n",
       "    <tr>\n",
       "      <th>0.25</th>\n",
       "      <td>198</td>\n",
       "    </tr>\n",
       "    <tr>\n",
       "      <th>0.27</th>\n",
       "      <td>388</td>\n",
       "    </tr>\n",
       "    <tr>\n",
       "      <th>0.30</th>\n",
       "      <td>62</td>\n",
       "    </tr>\n",
       "    <tr>\n",
       "      <th>0.35</th>\n",
       "      <td>77</td>\n",
       "    </tr>\n",
       "    <tr>\n",
       "      <th>0.37</th>\n",
       "      <td>74</td>\n",
       "    </tr>\n",
       "    <tr>\n",
       "      <th>0.40</th>\n",
       "      <td>712</td>\n",
       "    </tr>\n",
       "    <tr>\n",
       "      <th>0.45</th>\n",
       "      <td>314</td>\n",
       "    </tr>\n",
       "    <tr>\n",
       "      <th>0.47</th>\n",
       "      <td>725</td>\n",
       "    </tr>\n",
       "    <tr>\n",
       "      <th>0.50</th>\n",
       "      <td>449</td>\n",
       "    </tr>\n",
       "    <tr>\n",
       "      <th>0.55</th>\n",
       "      <td>10</td>\n",
       "    </tr>\n",
       "    <tr>\n",
       "      <th>0.57</th>\n",
       "      <td>12</td>\n",
       "    </tr>\n",
       "    <tr>\n",
       "      <th>0.60</th>\n",
       "      <td>18</td>\n",
       "    </tr>\n",
       "    <tr>\n",
       "      <th>0.80</th>\n",
       "      <td>11</td>\n",
       "    </tr>\n",
       "  </tbody>\n",
       "</table>\n",
       "</div>"
      ],
      "text/plain": [
       "       할인율\n",
       "0.00  4621\n",
       "0.07   150\n",
       "0.10  2203\n",
       "0.15    82\n",
       "0.17   735\n",
       "0.20    92\n",
       "0.25   198\n",
       "0.27   388\n",
       "0.30    62\n",
       "0.35    77\n",
       "0.37    74\n",
       "0.40   712\n",
       "0.45   314\n",
       "0.47   725\n",
       "0.50   449\n",
       "0.55    10\n",
       "0.57    12\n",
       "0.60    18\n",
       "0.80    11"
      ]
     },
     "execution_count": 41,
     "metadata": {},
     "output_type": "execute_result"
    }
   ],
   "source": [
    "df_order['할인율'].value_counts().to_frame().sort_index()"
   ]
  },
  {
   "cell_type": "code",
   "execution_count": 42,
   "id": "c9e817e3",
   "metadata": {
    "ExecuteTime": {
     "end_time": "2023-02-13T15:41:47.768385Z",
     "start_time": "2023-02-13T15:41:47.745014Z"
    }
   },
   "outputs": [
    {
     "data": {
      "text/html": [
       "<div>\n",
       "<style scoped>\n",
       "    .dataframe tbody tr th:only-of-type {\n",
       "        vertical-align: middle;\n",
       "    }\n",
       "\n",
       "    .dataframe tbody tr th {\n",
       "        vertical-align: top;\n",
       "    }\n",
       "\n",
       "    .dataframe thead th {\n",
       "        text-align: right;\n",
       "    }\n",
       "</style>\n",
       "<table border=\"1\" class=\"dataframe\">\n",
       "  <thead>\n",
       "    <tr style=\"text-align: right;\">\n",
       "      <th></th>\n",
       "      <th>수량</th>\n",
       "    </tr>\n",
       "    <tr>\n",
       "      <th>할인율</th>\n",
       "      <th></th>\n",
       "    </tr>\n",
       "  </thead>\n",
       "  <tbody>\n",
       "    <tr>\n",
       "      <th>0.00</th>\n",
       "      <td>17299</td>\n",
       "    </tr>\n",
       "    <tr>\n",
       "      <th>0.07</th>\n",
       "      <td>533</td>\n",
       "    </tr>\n",
       "    <tr>\n",
       "      <th>0.10</th>\n",
       "      <td>8456</td>\n",
       "    </tr>\n",
       "    <tr>\n",
       "      <th>0.15</th>\n",
       "      <td>319</td>\n",
       "    </tr>\n",
       "    <tr>\n",
       "      <th>0.17</th>\n",
       "      <td>2720</td>\n",
       "    </tr>\n",
       "    <tr>\n",
       "      <th>0.20</th>\n",
       "      <td>369</td>\n",
       "    </tr>\n",
       "    <tr>\n",
       "      <th>0.25</th>\n",
       "      <td>826</td>\n",
       "    </tr>\n",
       "    <tr>\n",
       "      <th>0.27</th>\n",
       "      <td>1453</td>\n",
       "    </tr>\n",
       "    <tr>\n",
       "      <th>0.30</th>\n",
       "      <td>233</td>\n",
       "    </tr>\n",
       "    <tr>\n",
       "      <th>0.35</th>\n",
       "      <td>284</td>\n",
       "    </tr>\n",
       "    <tr>\n",
       "      <th>0.37</th>\n",
       "      <td>246</td>\n",
       "    </tr>\n",
       "    <tr>\n",
       "      <th>0.40</th>\n",
       "      <td>2444</td>\n",
       "    </tr>\n",
       "    <tr>\n",
       "      <th>0.45</th>\n",
       "      <td>1141</td>\n",
       "    </tr>\n",
       "    <tr>\n",
       "      <th>0.47</th>\n",
       "      <td>2829</td>\n",
       "    </tr>\n",
       "    <tr>\n",
       "      <th>0.50</th>\n",
       "      <td>1687</td>\n",
       "    </tr>\n",
       "    <tr>\n",
       "      <th>0.55</th>\n",
       "      <td>36</td>\n",
       "    </tr>\n",
       "    <tr>\n",
       "      <th>0.57</th>\n",
       "      <td>47</td>\n",
       "    </tr>\n",
       "    <tr>\n",
       "      <th>0.60</th>\n",
       "      <td>65</td>\n",
       "    </tr>\n",
       "    <tr>\n",
       "      <th>0.80</th>\n",
       "      <td>35</td>\n",
       "    </tr>\n",
       "  </tbody>\n",
       "</table>\n",
       "</div>"
      ],
      "text/plain": [
       "         수량\n",
       "할인율        \n",
       "0.00  17299\n",
       "0.07    533\n",
       "0.10   8456\n",
       "0.15    319\n",
       "0.17   2720\n",
       "0.20    369\n",
       "0.25    826\n",
       "0.27   1453\n",
       "0.30    233\n",
       "0.35    284\n",
       "0.37    246\n",
       "0.40   2444\n",
       "0.45   1141\n",
       "0.47   2829\n",
       "0.50   1687\n",
       "0.55     36\n",
       "0.57     47\n",
       "0.60     65\n",
       "0.80     35"
      ]
     },
     "execution_count": 42,
     "metadata": {},
     "output_type": "execute_result"
    }
   ],
   "source": [
    "df_order.groupby('할인율')['수량'].sum().to_frame()"
   ]
  },
  {
   "cell_type": "code",
   "execution_count": 43,
   "id": "13cecfdf",
   "metadata": {
    "ExecuteTime": {
     "end_time": "2023-02-13T15:41:47.816251Z",
     "start_time": "2023-02-13T15:41:47.772367Z"
    }
   },
   "outputs": [
    {
     "data": {
      "text/html": [
       "<div>\n",
       "<style scoped>\n",
       "    .dataframe tbody tr th:only-of-type {\n",
       "        vertical-align: middle;\n",
       "    }\n",
       "\n",
       "    .dataframe tbody tr th {\n",
       "        vertical-align: top;\n",
       "    }\n",
       "\n",
       "    .dataframe thead th {\n",
       "        text-align: right;\n",
       "    }\n",
       "</style>\n",
       "<table border=\"1\" class=\"dataframe\">\n",
       "  <thead>\n",
       "    <tr style=\"text-align: right;\">\n",
       "      <th></th>\n",
       "      <th>mean</th>\n",
       "      <th>std</th>\n",
       "      <th>min</th>\n",
       "      <th>max</th>\n",
       "    </tr>\n",
       "    <tr>\n",
       "      <th>할인율</th>\n",
       "      <th></th>\n",
       "      <th></th>\n",
       "      <th></th>\n",
       "      <th></th>\n",
       "    </tr>\n",
       "  </thead>\n",
       "  <tbody>\n",
       "    <tr>\n",
       "      <th>0.00</th>\n",
       "      <td>89.948059</td>\n",
       "      <td>177.173535</td>\n",
       "      <td>0.0000</td>\n",
       "      <td>2939.3100</td>\n",
       "    </tr>\n",
       "    <tr>\n",
       "      <th>0.07</th>\n",
       "      <td>140.990022</td>\n",
       "      <td>217.549073</td>\n",
       "      <td>-147.6048</td>\n",
       "      <td>1554.4320</td>\n",
       "    </tr>\n",
       "    <tr>\n",
       "      <th>0.10</th>\n",
       "      <td>55.225098</td>\n",
       "      <td>141.806041</td>\n",
       "      <td>-288.7650</td>\n",
       "      <td>2316.5100</td>\n",
       "    </tr>\n",
       "    <tr>\n",
       "      <th>0.15</th>\n",
       "      <td>15.601811</td>\n",
       "      <td>106.095899</td>\n",
       "      <td>-597.6810</td>\n",
       "      <td>339.8925</td>\n",
       "    </tr>\n",
       "    <tr>\n",
       "      <th>0.17</th>\n",
       "      <td>38.317107</td>\n",
       "      <td>124.792466</td>\n",
       "      <td>-429.3945</td>\n",
       "      <td>946.6338</td>\n",
       "    </tr>\n",
       "    <tr>\n",
       "      <th>0.20</th>\n",
       "      <td>14.116239</td>\n",
       "      <td>98.795482</td>\n",
       "      <td>-553.8780</td>\n",
       "      <td>290.5980</td>\n",
       "    </tr>\n",
       "    <tr>\n",
       "      <th>0.25</th>\n",
       "      <td>4.043371</td>\n",
       "      <td>126.485078</td>\n",
       "      <td>-483.3000</td>\n",
       "      <td>822.6600</td>\n",
       "    </tr>\n",
       "    <tr>\n",
       "      <th>0.27</th>\n",
       "      <td>-4.317213</td>\n",
       "      <td>67.962153</td>\n",
       "      <td>-329.8095</td>\n",
       "      <td>368.2560</td>\n",
       "    </tr>\n",
       "    <tr>\n",
       "      <th>0.30</th>\n",
       "      <td>-138.034694</td>\n",
       "      <td>303.482620</td>\n",
       "      <td>-953.4420</td>\n",
       "      <td>726.8250</td>\n",
       "    </tr>\n",
       "    <tr>\n",
       "      <th>0.35</th>\n",
       "      <td>-65.545500</td>\n",
       "      <td>144.708248</td>\n",
       "      <td>-471.7875</td>\n",
       "      <td>226.9620</td>\n",
       "    </tr>\n",
       "    <tr>\n",
       "      <th>0.37</th>\n",
       "      <td>-78.462191</td>\n",
       "      <td>140.449808</td>\n",
       "      <td>-813.6144</td>\n",
       "      <td>139.6476</td>\n",
       "    </tr>\n",
       "    <tr>\n",
       "      <th>0.40</th>\n",
       "      <td>-51.204590</td>\n",
       "      <td>117.792450</td>\n",
       "      <td>-1479.1260</td>\n",
       "      <td>208.9800</td>\n",
       "    </tr>\n",
       "    <tr>\n",
       "      <th>0.45</th>\n",
       "      <td>-31.880527</td>\n",
       "      <td>55.454474</td>\n",
       "      <td>-493.3200</td>\n",
       "      <td>18.0375</td>\n",
       "    </tr>\n",
       "    <tr>\n",
       "      <th>0.47</th>\n",
       "      <td>-42.982420</td>\n",
       "      <td>96.963566</td>\n",
       "      <td>-916.0443</td>\n",
       "      <td>35.8176</td>\n",
       "    </tr>\n",
       "    <tr>\n",
       "      <th>0.50</th>\n",
       "      <td>-87.790791</td>\n",
       "      <td>216.874776</td>\n",
       "      <td>-3009.4350</td>\n",
       "      <td>0.0000</td>\n",
       "    </tr>\n",
       "    <tr>\n",
       "      <th>0.55</th>\n",
       "      <td>-315.067200</td>\n",
       "      <td>272.072582</td>\n",
       "      <td>-976.5000</td>\n",
       "      <td>-70.3995</td>\n",
       "    </tr>\n",
       "    <tr>\n",
       "      <th>0.57</th>\n",
       "      <td>-526.129000</td>\n",
       "      <td>393.058449</td>\n",
       "      <td>-1294.3503</td>\n",
       "      <td>-72.6072</td>\n",
       "    </tr>\n",
       "    <tr>\n",
       "      <th>0.60</th>\n",
       "      <td>-156.578000</td>\n",
       "      <td>213.177246</td>\n",
       "      <td>-875.5920</td>\n",
       "      <td>-7.9920</td>\n",
       "    </tr>\n",
       "    <tr>\n",
       "      <th>0.80</th>\n",
       "      <td>-684.469636</td>\n",
       "      <td>640.630471</td>\n",
       "      <td>-2380.3500</td>\n",
       "      <td>-126.4500</td>\n",
       "    </tr>\n",
       "  </tbody>\n",
       "</table>\n",
       "</div>"
      ],
      "text/plain": [
       "            mean         std        min        max\n",
       "할인율                                               \n",
       "0.00   89.948059  177.173535     0.0000  2939.3100\n",
       "0.07  140.990022  217.549073  -147.6048  1554.4320\n",
       "0.10   55.225098  141.806041  -288.7650  2316.5100\n",
       "0.15   15.601811  106.095899  -597.6810   339.8925\n",
       "0.17   38.317107  124.792466  -429.3945   946.6338\n",
       "0.20   14.116239   98.795482  -553.8780   290.5980\n",
       "0.25    4.043371  126.485078  -483.3000   822.6600\n",
       "0.27   -4.317213   67.962153  -329.8095   368.2560\n",
       "0.30 -138.034694  303.482620  -953.4420   726.8250\n",
       "0.35  -65.545500  144.708248  -471.7875   226.9620\n",
       "0.37  -78.462191  140.449808  -813.6144   139.6476\n",
       "0.40  -51.204590  117.792450 -1479.1260   208.9800\n",
       "0.45  -31.880527   55.454474  -493.3200    18.0375\n",
       "0.47  -42.982420   96.963566  -916.0443    35.8176\n",
       "0.50  -87.790791  216.874776 -3009.4350     0.0000\n",
       "0.55 -315.067200  272.072582  -976.5000   -70.3995\n",
       "0.57 -526.129000  393.058449 -1294.3503   -72.6072\n",
       "0.60 -156.578000  213.177246  -875.5920    -7.9920\n",
       "0.80 -684.469636  640.630471 -2380.3500  -126.4500"
      ]
     },
     "execution_count": 43,
     "metadata": {},
     "output_type": "execute_result"
    }
   ],
   "source": [
    "df_order.groupby('할인율')['수익'].agg(['mean', 'std', 'min', 'max'])"
   ]
  },
  {
   "cell_type": "code",
   "execution_count": 44,
   "id": "44f075b9",
   "metadata": {
    "ExecuteTime": {
     "end_time": "2023-02-13T15:41:47.847167Z",
     "start_time": "2023-02-13T15:41:47.820253Z"
    }
   },
   "outputs": [
    {
     "data": {
      "text/html": [
       "<div>\n",
       "<style scoped>\n",
       "    .dataframe tbody tr th:only-of-type {\n",
       "        vertical-align: middle;\n",
       "    }\n",
       "\n",
       "    .dataframe tbody tr th {\n",
       "        vertical-align: top;\n",
       "    }\n",
       "\n",
       "    .dataframe thead th {\n",
       "        text-align: right;\n",
       "    }\n",
       "</style>\n",
       "<table border=\"1\" class=\"dataframe\">\n",
       "  <thead>\n",
       "    <tr style=\"text-align: right;\">\n",
       "      <th></th>\n",
       "      <th>수익</th>\n",
       "    </tr>\n",
       "    <tr>\n",
       "      <th>할인율</th>\n",
       "      <th></th>\n",
       "    </tr>\n",
       "  </thead>\n",
       "  <tbody>\n",
       "    <tr>\n",
       "      <th>0.00</th>\n",
       "      <td>38.557042</td>\n",
       "    </tr>\n",
       "    <tr>\n",
       "      <th>0.10</th>\n",
       "      <td>27.142786</td>\n",
       "    </tr>\n",
       "    <tr>\n",
       "      <th>0.15</th>\n",
       "      <td>15.601811</td>\n",
       "    </tr>\n",
       "    <tr>\n",
       "      <th>0.17</th>\n",
       "      <td>27.685866</td>\n",
       "    </tr>\n",
       "    <tr>\n",
       "      <th>0.27</th>\n",
       "      <td>-6.087113</td>\n",
       "    </tr>\n",
       "    <tr>\n",
       "      <th>0.40</th>\n",
       "      <td>-23.794562</td>\n",
       "    </tr>\n",
       "    <tr>\n",
       "      <th>0.45</th>\n",
       "      <td>-28.211513</td>\n",
       "    </tr>\n",
       "    <tr>\n",
       "      <th>0.47</th>\n",
       "      <td>-20.016522</td>\n",
       "    </tr>\n",
       "    <tr>\n",
       "      <th>0.50</th>\n",
       "      <td>-49.585227</td>\n",
       "    </tr>\n",
       "    <tr>\n",
       "      <th>0.60</th>\n",
       "      <td>-27.384000</td>\n",
       "    </tr>\n",
       "  </tbody>\n",
       "</table>\n",
       "</div>"
      ],
      "text/plain": [
       "             수익\n",
       "할인율            \n",
       "0.00  38.557042\n",
       "0.10  27.142786\n",
       "0.15  15.601811\n",
       "0.17  27.685866\n",
       "0.27  -6.087113\n",
       "0.40 -23.794562\n",
       "0.45 -28.211513\n",
       "0.47 -20.016522\n",
       "0.50 -49.585227\n",
       "0.60 -27.384000"
      ]
     },
     "execution_count": 44,
     "metadata": {},
     "output_type": "execute_result"
    }
   ],
   "source": [
    "df_order[df_order['범주']=='사무용품'].groupby('할인율')['수익'].mean().to_frame()"
   ]
  },
  {
   "cell_type": "markdown",
   "id": "0f05d89d",
   "metadata": {
    "ExecuteTime": {
     "end_time": "2023-02-13T15:41:47.863125Z",
     "start_time": "2023-02-13T15:41:47.851167Z"
    }
   },
   "source": [
    "### 반품 테이블"
   ]
  },
  {
   "cell_type": "code",
   "execution_count": 69,
   "id": "e35af9b2",
   "metadata": {
    "ExecuteTime": {
     "end_time": "2023-02-13T16:22:31.388366Z",
     "start_time": "2023-02-13T16:22:31.376385Z"
    }
   },
   "outputs": [
    {
     "data": {
      "text/plain": [
       "(786, 2)"
      ]
     },
     "execution_count": 69,
     "metadata": {},
     "output_type": "execute_result"
    }
   ],
   "source": [
    "df_return.shape"
   ]
  },
  {
   "cell_type": "code",
   "execution_count": 68,
   "id": "49b3c8b7",
   "metadata": {
    "ExecuteTime": {
     "end_time": "2023-02-13T16:20:35.951532Z",
     "start_time": "2023-02-13T16:20:35.938609Z"
    }
   },
   "outputs": [
    {
     "data": {
      "text/plain": [
       "296"
      ]
     },
     "execution_count": 68,
     "metadata": {},
     "output_type": "execute_result"
    }
   ],
   "source": [
    "# 주문 ID\n",
    "df_return['주문 ID'].nunique()"
   ]
  },
  {
   "cell_type": "markdown",
   "id": "8b96bd66",
   "metadata": {},
   "source": [
    "### 인력 테이블"
   ]
  },
  {
   "cell_type": "code",
   "execution_count": 71,
   "id": "f45748d0",
   "metadata": {
    "ExecuteTime": {
     "end_time": "2023-02-13T16:23:28.854329Z",
     "start_time": "2023-02-13T16:23:28.833351Z"
    }
   },
   "outputs": [
    {
     "data": {
      "text/plain": [
       "(4, 2)"
      ]
     },
     "execution_count": 71,
     "metadata": {},
     "output_type": "execute_result"
    }
   ],
   "source": [
    "df_human.shape"
   ]
  },
  {
   "cell_type": "code",
   "execution_count": 72,
   "id": "f4fe7758",
   "metadata": {
    "ExecuteTime": {
     "end_time": "2023-02-13T16:23:46.344398Z",
     "start_time": "2023-02-13T16:23:46.329442Z"
    }
   },
   "outputs": [
    {
     "data": {
      "text/html": [
       "<div>\n",
       "<style scoped>\n",
       "    .dataframe tbody tr th:only-of-type {\n",
       "        vertical-align: middle;\n",
       "    }\n",
       "\n",
       "    .dataframe tbody tr th {\n",
       "        vertical-align: top;\n",
       "    }\n",
       "\n",
       "    .dataframe thead th {\n",
       "        text-align: right;\n",
       "    }\n",
       "</style>\n",
       "<table border=\"1\" class=\"dataframe\">\n",
       "  <thead>\n",
       "    <tr style=\"text-align: right;\">\n",
       "      <th></th>\n",
       "      <th>사람</th>\n",
       "      <th>지역</th>\n",
       "    </tr>\n",
       "  </thead>\n",
       "  <tbody>\n",
       "    <tr>\n",
       "      <th>0</th>\n",
       "      <td>Sanjit Engle</td>\n",
       "      <td>동남아시아</td>\n",
       "    </tr>\n",
       "    <tr>\n",
       "      <th>1</th>\n",
       "      <td>Maribeth Dona</td>\n",
       "      <td>중앙아시아</td>\n",
       "    </tr>\n",
       "    <tr>\n",
       "      <th>2</th>\n",
       "      <td>Alex Avila</td>\n",
       "      <td>북아시아</td>\n",
       "    </tr>\n",
       "    <tr>\n",
       "      <th>3</th>\n",
       "      <td>Nora Pelletier</td>\n",
       "      <td>오세아니아</td>\n",
       "    </tr>\n",
       "  </tbody>\n",
       "</table>\n",
       "</div>"
      ],
      "text/plain": [
       "               사람     지역\n",
       "0    Sanjit Engle  동남아시아\n",
       "1   Maribeth Dona  중앙아시아\n",
       "2      Alex Avila   북아시아\n",
       "3  Nora Pelletier  오세아니아"
      ]
     },
     "execution_count": 72,
     "metadata": {},
     "output_type": "execute_result"
    }
   ],
   "source": [
    "df_human.head()"
   ]
  },
  {
   "cell_type": "code",
   "execution_count": null,
   "id": "ab56ef61",
   "metadata": {},
   "outputs": [],
   "source": []
  },
  {
   "cell_type": "markdown",
   "id": "5428cab6",
   "metadata": {},
   "source": [
    "## 변수 타입"
   ]
  },
  {
   "cell_type": "code",
   "execution_count": 46,
   "id": "16a0b2fa",
   "metadata": {
    "ExecuteTime": {
     "end_time": "2023-02-13T15:41:47.879089Z",
     "start_time": "2023-02-13T15:41:47.866118Z"
    }
   },
   "outputs": [
    {
     "data": {
      "text/plain": [
       "행 ID       int64\n",
       "주문 ID     object\n",
       "주문 날짜     object\n",
       "배송 날짜     object\n",
       "배송 형태     object\n",
       "고객 ID     object\n",
       "고객 이름     object\n",
       "세그먼트      object\n",
       "도시        object\n",
       "시/도       object\n",
       "국가/지역     object\n",
       "지역        object\n",
       "제품 ID     object\n",
       "범주        object\n",
       "하위 범주     object\n",
       "제품 이름     object\n",
       "매출       float64\n",
       "수량         int64\n",
       "할인율      float64\n",
       "수익       float64\n",
       "dtype: object"
      ]
     },
     "execution_count": 46,
     "metadata": {},
     "output_type": "execute_result"
    }
   ],
   "source": [
    "# 변수 타입 파악\n",
    "df_order.dtypes"
   ]
  },
  {
   "cell_type": "code",
   "execution_count": 47,
   "id": "dc8759e3",
   "metadata": {
    "ExecuteTime": {
     "end_time": "2023-02-13T15:41:47.942899Z",
     "start_time": "2023-02-13T15:41:47.885058Z"
    }
   },
   "outputs": [
    {
     "data": {
      "text/plain": [
       "행 ID             object\n",
       "주문 ID            object\n",
       "주문 날짜    datetime64[ns]\n",
       "배송 날짜    datetime64[ns]\n",
       "배송 형태            object\n",
       "고객 ID            object\n",
       "고객 이름            object\n",
       "세그먼트             object\n",
       "도시               object\n",
       "시/도              object\n",
       "국가/지역            object\n",
       "지역               object\n",
       "제품 ID            object\n",
       "범주               object\n",
       "하위 범주            object\n",
       "제품 이름            object\n",
       "매출              float64\n",
       "수량                int64\n",
       "할인율             float64\n",
       "수익              float64\n",
       "dtype: object"
      ]
     },
     "execution_count": 47,
     "metadata": {},
     "output_type": "execute_result"
    }
   ],
   "source": [
    "df_order['행 ID'] = df_order['행 ID'].astype(str)\n",
    "df_order['주문 날짜'] = pd.to_datetime(df_order['주문 날짜'])\n",
    "df_order['배송 날짜'] = pd.to_datetime(df_order['배송 날짜'])\n",
    "df_order.dtypes"
   ]
  },
  {
   "cell_type": "code",
   "execution_count": 48,
   "id": "a4120ada",
   "metadata": {
    "ExecuteTime": {
     "end_time": "2023-02-13T15:41:48.022630Z",
     "start_time": "2023-02-13T15:41:47.946887Z"
    }
   },
   "outputs": [
    {
     "data": {
      "text/html": [
       "<div>\n",
       "<style scoped>\n",
       "    .dataframe tbody tr th:only-of-type {\n",
       "        vertical-align: middle;\n",
       "    }\n",
       "\n",
       "    .dataframe tbody tr th {\n",
       "        vertical-align: top;\n",
       "    }\n",
       "\n",
       "    .dataframe thead th {\n",
       "        text-align: right;\n",
       "    }\n",
       "</style>\n",
       "<table border=\"1\" class=\"dataframe\">\n",
       "  <thead>\n",
       "    <tr style=\"text-align: right;\">\n",
       "      <th></th>\n",
       "      <th>행 ID</th>\n",
       "      <th>주문 ID</th>\n",
       "      <th>주문 날짜</th>\n",
       "      <th>배송 날짜</th>\n",
       "      <th>배송 형태</th>\n",
       "      <th>고객 ID</th>\n",
       "      <th>고객 이름</th>\n",
       "      <th>세그먼트</th>\n",
       "      <th>도시</th>\n",
       "      <th>시/도</th>\n",
       "      <th>...</th>\n",
       "      <th>지역</th>\n",
       "      <th>제품 ID</th>\n",
       "      <th>범주</th>\n",
       "      <th>하위 범주</th>\n",
       "      <th>제품 이름</th>\n",
       "      <th>매출</th>\n",
       "      <th>수량</th>\n",
       "      <th>할인율</th>\n",
       "      <th>수익</th>\n",
       "      <th>반품</th>\n",
       "    </tr>\n",
       "  </thead>\n",
       "  <tbody>\n",
       "    <tr>\n",
       "      <th>0</th>\n",
       "      <td>1</td>\n",
       "      <td>IN-2020-27828</td>\n",
       "      <td>2020-08-27</td>\n",
       "      <td>2020-08-31</td>\n",
       "      <td>표준 등급</td>\n",
       "      <td>VT-21700</td>\n",
       "      <td>Valerie Takahito</td>\n",
       "      <td>홈 오피스</td>\n",
       "      <td>Quanzhou</td>\n",
       "      <td>Fujian</td>\n",
       "      <td>...</td>\n",
       "      <td>북아시아</td>\n",
       "      <td>OFF-PA-10000026</td>\n",
       "      <td>사무용품</td>\n",
       "      <td>용지</td>\n",
       "      <td>Eaton Cards &amp; Envelopes, 8.5 x 11</td>\n",
       "      <td>197.28</td>\n",
       "      <td>4</td>\n",
       "      <td>0.0</td>\n",
       "      <td>35.40</td>\n",
       "      <td>예</td>\n",
       "    </tr>\n",
       "    <tr>\n",
       "      <th>1</th>\n",
       "      <td>1</td>\n",
       "      <td>IN-2020-27828</td>\n",
       "      <td>2020-08-27</td>\n",
       "      <td>2020-08-31</td>\n",
       "      <td>표준 등급</td>\n",
       "      <td>VT-21700</td>\n",
       "      <td>Valerie Takahito</td>\n",
       "      <td>홈 오피스</td>\n",
       "      <td>Quanzhou</td>\n",
       "      <td>Fujian</td>\n",
       "      <td>...</td>\n",
       "      <td>북아시아</td>\n",
       "      <td>OFF-PA-10000026</td>\n",
       "      <td>사무용품</td>\n",
       "      <td>용지</td>\n",
       "      <td>Eaton Cards &amp; Envelopes, 8.5 x 11</td>\n",
       "      <td>197.28</td>\n",
       "      <td>4</td>\n",
       "      <td>0.0</td>\n",
       "      <td>35.40</td>\n",
       "      <td>예</td>\n",
       "    </tr>\n",
       "    <tr>\n",
       "      <th>2</th>\n",
       "      <td>1</td>\n",
       "      <td>IN-2020-27828</td>\n",
       "      <td>2020-08-27</td>\n",
       "      <td>2020-08-31</td>\n",
       "      <td>표준 등급</td>\n",
       "      <td>VT-21700</td>\n",
       "      <td>Valerie Takahito</td>\n",
       "      <td>홈 오피스</td>\n",
       "      <td>Quanzhou</td>\n",
       "      <td>Fujian</td>\n",
       "      <td>...</td>\n",
       "      <td>북아시아</td>\n",
       "      <td>OFF-PA-10000026</td>\n",
       "      <td>사무용품</td>\n",
       "      <td>용지</td>\n",
       "      <td>Eaton Cards &amp; Envelopes, 8.5 x 11</td>\n",
       "      <td>197.28</td>\n",
       "      <td>4</td>\n",
       "      <td>0.0</td>\n",
       "      <td>35.40</td>\n",
       "      <td>예</td>\n",
       "    </tr>\n",
       "    <tr>\n",
       "      <th>3</th>\n",
       "      <td>1</td>\n",
       "      <td>IN-2020-27828</td>\n",
       "      <td>2020-08-27</td>\n",
       "      <td>2020-08-31</td>\n",
       "      <td>표준 등급</td>\n",
       "      <td>VT-21700</td>\n",
       "      <td>Valerie Takahito</td>\n",
       "      <td>홈 오피스</td>\n",
       "      <td>Quanzhou</td>\n",
       "      <td>Fujian</td>\n",
       "      <td>...</td>\n",
       "      <td>북아시아</td>\n",
       "      <td>OFF-PA-10000026</td>\n",
       "      <td>사무용품</td>\n",
       "      <td>용지</td>\n",
       "      <td>Eaton Cards &amp; Envelopes, 8.5 x 11</td>\n",
       "      <td>197.28</td>\n",
       "      <td>4</td>\n",
       "      <td>0.0</td>\n",
       "      <td>35.40</td>\n",
       "      <td>예</td>\n",
       "    </tr>\n",
       "    <tr>\n",
       "      <th>4</th>\n",
       "      <td>2</td>\n",
       "      <td>IN-2020-27828</td>\n",
       "      <td>2020-08-27</td>\n",
       "      <td>2020-08-31</td>\n",
       "      <td>표준 등급</td>\n",
       "      <td>VT-21700</td>\n",
       "      <td>Valerie Takahito</td>\n",
       "      <td>홈 오피스</td>\n",
       "      <td>Quanzhou</td>\n",
       "      <td>Fujian</td>\n",
       "      <td>...</td>\n",
       "      <td>북아시아</td>\n",
       "      <td>FUR-FU-10000944</td>\n",
       "      <td>가구</td>\n",
       "      <td>사무용 집기</td>\n",
       "      <td>Tenex Door Stop, Black</td>\n",
       "      <td>307.23</td>\n",
       "      <td>7</td>\n",
       "      <td>0.0</td>\n",
       "      <td>21.42</td>\n",
       "      <td>예</td>\n",
       "    </tr>\n",
       "  </tbody>\n",
       "</table>\n",
       "<p>5 rows × 21 columns</p>\n",
       "</div>"
      ],
      "text/plain": [
       "  행 ID          주문 ID      주문 날짜      배송 날짜  배송 형태     고객 ID  \\\n",
       "0    1  IN-2020-27828 2020-08-27 2020-08-31  표준 등급  VT-21700   \n",
       "1    1  IN-2020-27828 2020-08-27 2020-08-31  표준 등급  VT-21700   \n",
       "2    1  IN-2020-27828 2020-08-27 2020-08-31  표준 등급  VT-21700   \n",
       "3    1  IN-2020-27828 2020-08-27 2020-08-31  표준 등급  VT-21700   \n",
       "4    2  IN-2020-27828 2020-08-27 2020-08-31  표준 등급  VT-21700   \n",
       "\n",
       "              고객 이름   세그먼트        도시     시/도  ...    지역            제품 ID  \\\n",
       "0  Valerie Takahito  홈 오피스  Quanzhou  Fujian  ...  북아시아  OFF-PA-10000026   \n",
       "1  Valerie Takahito  홈 오피스  Quanzhou  Fujian  ...  북아시아  OFF-PA-10000026   \n",
       "2  Valerie Takahito  홈 오피스  Quanzhou  Fujian  ...  북아시아  OFF-PA-10000026   \n",
       "3  Valerie Takahito  홈 오피스  Quanzhou  Fujian  ...  북아시아  OFF-PA-10000026   \n",
       "4  Valerie Takahito  홈 오피스  Quanzhou  Fujian  ...  북아시아  FUR-FU-10000944   \n",
       "\n",
       "     범주   하위 범주                              제품 이름      매출  수량  할인율     수익  반품  \n",
       "0  사무용품      용지  Eaton Cards & Envelopes, 8.5 x 11  197.28   4  0.0  35.40   예  \n",
       "1  사무용품      용지  Eaton Cards & Envelopes, 8.5 x 11  197.28   4  0.0  35.40   예  \n",
       "2  사무용품      용지  Eaton Cards & Envelopes, 8.5 x 11  197.28   4  0.0  35.40   예  \n",
       "3  사무용품      용지  Eaton Cards & Envelopes, 8.5 x 11  197.28   4  0.0  35.40   예  \n",
       "4    가구  사무용 집기             Tenex Door Stop, Black  307.23   7  0.0  21.42   예  \n",
       "\n",
       "[5 rows x 21 columns]"
      ]
     },
     "execution_count": 48,
     "metadata": {},
     "output_type": "execute_result"
    }
   ],
   "source": [
    "df_join = pd.merge(df_order, df_return, on='주문 ID', how='left')\n",
    "df_join.head()"
   ]
  },
  {
   "cell_type": "code",
   "execution_count": 49,
   "id": "4c0b1efe",
   "metadata": {
    "ExecuteTime": {
     "end_time": "2023-02-13T15:41:48.054544Z",
     "start_time": "2023-02-13T15:41:48.027617Z"
    }
   },
   "outputs": [
    {
     "data": {
      "text/plain": [
       "예    3027\n",
       "Name: 반품, dtype: int64"
      ]
     },
     "execution_count": 49,
     "metadata": {},
     "output_type": "execute_result"
    }
   ],
   "source": [
    "df_join['반품'].value_counts()"
   ]
  },
  {
   "cell_type": "code",
   "execution_count": 50,
   "id": "b85af5a4",
   "metadata": {
    "ExecuteTime": {
     "end_time": "2023-02-13T15:41:48.086460Z",
     "start_time": "2023-02-13T15:41:48.058535Z"
    }
   },
   "outputs": [
    {
     "data": {
      "text/plain": [
       "N    10148\n",
       "Y     3027\n",
       "Name: 반품, dtype: int64"
      ]
     },
     "execution_count": 50,
     "metadata": {},
     "output_type": "execute_result"
    }
   ],
   "source": [
    "df_join['반품'] = df_join['반품'].fillna('N')\n",
    "df_join['반품'] = df_join['반품'].replace('예', 'Y')\n",
    "df_join['반품'].value_counts()"
   ]
  },
  {
   "cell_type": "code",
   "execution_count": 51,
   "id": "748f23f2",
   "metadata": {
    "ExecuteTime": {
     "end_time": "2023-02-13T15:41:48.102417Z",
     "start_time": "2023-02-13T15:41:48.090452Z"
    }
   },
   "outputs": [
    {
     "data": {
      "text/plain": [
       "(10933, 20)"
      ]
     },
     "execution_count": 51,
     "metadata": {},
     "output_type": "execute_result"
    }
   ],
   "source": [
    "df_order.shape"
   ]
  },
  {
   "cell_type": "code",
   "execution_count": 52,
   "id": "287d24c1",
   "metadata": {
    "ExecuteTime": {
     "end_time": "2023-02-13T15:41:48.118373Z",
     "start_time": "2023-02-13T15:41:48.106433Z"
    }
   },
   "outputs": [
    {
     "data": {
      "text/plain": [
       "(786, 2)"
      ]
     },
     "execution_count": 52,
     "metadata": {},
     "output_type": "execute_result"
    }
   ],
   "source": [
    "df_return.shape"
   ]
  },
  {
   "cell_type": "code",
   "execution_count": 53,
   "id": "579d078e",
   "metadata": {
    "ExecuteTime": {
     "end_time": "2023-02-13T15:41:48.134332Z",
     "start_time": "2023-02-13T15:41:48.121367Z"
    }
   },
   "outputs": [
    {
     "data": {
      "text/plain": [
       "(13175, 21)"
      ]
     },
     "execution_count": 53,
     "metadata": {},
     "output_type": "execute_result"
    }
   ],
   "source": [
    "df_join.shape"
   ]
  },
  {
   "cell_type": "code",
   "execution_count": 54,
   "id": "c870900a",
   "metadata": {
    "ExecuteTime": {
     "end_time": "2023-02-13T15:41:48.164727Z",
     "start_time": "2023-02-13T15:41:48.138321Z"
    }
   },
   "outputs": [
    {
     "data": {
      "text/plain": [
       "5397"
      ]
     },
     "execution_count": 54,
     "metadata": {},
     "output_type": "execute_result"
    }
   ],
   "source": [
    "df_order['주문 ID'].nunique()"
   ]
  },
  {
   "cell_type": "code",
   "execution_count": 55,
   "id": "38da3010",
   "metadata": {
    "ExecuteTime": {
     "end_time": "2023-02-13T15:41:48.180676Z",
     "start_time": "2023-02-13T15:41:48.170702Z"
    }
   },
   "outputs": [
    {
     "data": {
      "text/plain": [
       "296"
      ]
     },
     "execution_count": 55,
     "metadata": {},
     "output_type": "execute_result"
    }
   ],
   "source": [
    "df_return['주문 ID'].nunique()"
   ]
  },
  {
   "cell_type": "code",
   "execution_count": 56,
   "id": "34e79e37",
   "metadata": {
    "ExecuteTime": {
     "end_time": "2023-02-13T15:41:48.211592Z",
     "start_time": "2023-02-13T15:41:48.184666Z"
    }
   },
   "outputs": [
    {
     "data": {
      "text/html": [
       "<div>\n",
       "<style scoped>\n",
       "    .dataframe tbody tr th:only-of-type {\n",
       "        vertical-align: middle;\n",
       "    }\n",
       "\n",
       "    .dataframe tbody tr th {\n",
       "        vertical-align: top;\n",
       "    }\n",
       "\n",
       "    .dataframe thead th {\n",
       "        text-align: right;\n",
       "    }\n",
       "</style>\n",
       "<table border=\"1\" class=\"dataframe\">\n",
       "  <thead>\n",
       "    <tr style=\"text-align: right;\">\n",
       "      <th></th>\n",
       "      <th>주문 ID</th>\n",
       "      <th>반품</th>\n",
       "    </tr>\n",
       "  </thead>\n",
       "  <tbody>\n",
       "    <tr>\n",
       "      <th>0</th>\n",
       "      <td>ID-2018-17286</td>\n",
       "      <td>예</td>\n",
       "    </tr>\n",
       "    <tr>\n",
       "      <th>1</th>\n",
       "      <td>ID-2018-17286</td>\n",
       "      <td>예</td>\n",
       "    </tr>\n",
       "    <tr>\n",
       "      <th>2</th>\n",
       "      <td>ID-2018-20604</td>\n",
       "      <td>예</td>\n",
       "    </tr>\n",
       "    <tr>\n",
       "      <th>3</th>\n",
       "      <td>ID-2018-20604</td>\n",
       "      <td>예</td>\n",
       "    </tr>\n",
       "    <tr>\n",
       "      <th>4</th>\n",
       "      <td>ID-2018-20604</td>\n",
       "      <td>예</td>\n",
       "    </tr>\n",
       "  </tbody>\n",
       "</table>\n",
       "</div>"
      ],
      "text/plain": [
       "           주문 ID 반품\n",
       "0  ID-2018-17286  예\n",
       "1  ID-2018-17286  예\n",
       "2  ID-2018-20604  예\n",
       "3  ID-2018-20604  예\n",
       "4  ID-2018-20604  예"
      ]
     },
     "execution_count": 56,
     "metadata": {},
     "output_type": "execute_result"
    }
   ],
   "source": [
    "df_return.head()"
   ]
  },
  {
   "cell_type": "code",
   "execution_count": 57,
   "id": "032a0b54",
   "metadata": {
    "ExecuteTime": {
     "end_time": "2023-02-13T15:41:48.227550Z",
     "start_time": "2023-02-13T15:41:48.214586Z"
    }
   },
   "outputs": [
    {
     "data": {
      "text/plain": [
       "(13175, 21)"
      ]
     },
     "execution_count": 57,
     "metadata": {},
     "output_type": "execute_result"
    }
   ],
   "source": [
    "df_join.shape"
   ]
  },
  {
   "cell_type": "code",
   "execution_count": 58,
   "id": "ec43a5b7",
   "metadata": {
    "ExecuteTime": {
     "end_time": "2023-02-13T15:41:48.243507Z",
     "start_time": "2023-02-13T15:41:48.231540Z"
    }
   },
   "outputs": [
    {
     "data": {
      "text/plain": [
       "array(['예'], dtype=object)"
      ]
     },
     "execution_count": 58,
     "metadata": {},
     "output_type": "execute_result"
    }
   ],
   "source": [
    "# 반품 컬럼에 예만 있는 것을 확인\n",
    "df_return['반품'].unique()"
   ]
  },
  {
   "cell_type": "code",
   "execution_count": 59,
   "id": "38acf631",
   "metadata": {
    "ExecuteTime": {
     "end_time": "2023-02-13T15:41:48.275422Z",
     "start_time": "2023-02-13T15:41:48.247496Z"
    }
   },
   "outputs": [
    {
     "data": {
      "text/plain": [
       "array([1], dtype=int64)"
      ]
     },
     "execution_count": 59,
     "metadata": {},
     "output_type": "execute_result"
    }
   ],
   "source": [
    "# 반품 컬럼에 예만 있는 것을 확인\n",
    "df_return.groupby('주문 ID').nunique()['반품'].unique()"
   ]
  },
  {
   "cell_type": "code",
   "execution_count": 60,
   "id": "d7181955",
   "metadata": {
    "ExecuteTime": {
     "end_time": "2023-02-13T15:41:48.308085Z",
     "start_time": "2023-02-13T15:41:48.276947Z"
    }
   },
   "outputs": [
    {
     "data": {
      "text/plain": [
       "(296, 2)"
      ]
     },
     "execution_count": 60,
     "metadata": {},
     "output_type": "execute_result"
    }
   ],
   "source": [
    "df_return1 = df_return.drop_duplicates(subset='주문 ID', keep='first', ignore_index=True)\n",
    "df_return1.shape"
   ]
  },
  {
   "cell_type": "code",
   "execution_count": 61,
   "id": "620e161c",
   "metadata": {
    "ExecuteTime": {
     "end_time": "2023-02-13T15:41:48.387867Z",
     "start_time": "2023-02-13T15:41:48.312071Z"
    }
   },
   "outputs": [
    {
     "data": {
      "text/html": [
       "<div>\n",
       "<style scoped>\n",
       "    .dataframe tbody tr th:only-of-type {\n",
       "        vertical-align: middle;\n",
       "    }\n",
       "\n",
       "    .dataframe tbody tr th {\n",
       "        vertical-align: top;\n",
       "    }\n",
       "\n",
       "    .dataframe thead th {\n",
       "        text-align: right;\n",
       "    }\n",
       "</style>\n",
       "<table border=\"1\" class=\"dataframe\">\n",
       "  <thead>\n",
       "    <tr style=\"text-align: right;\">\n",
       "      <th></th>\n",
       "      <th>행 ID</th>\n",
       "      <th>주문 ID</th>\n",
       "      <th>주문 날짜</th>\n",
       "      <th>배송 날짜</th>\n",
       "      <th>배송 형태</th>\n",
       "      <th>고객 ID</th>\n",
       "      <th>고객 이름</th>\n",
       "      <th>세그먼트</th>\n",
       "      <th>도시</th>\n",
       "      <th>시/도</th>\n",
       "      <th>...</th>\n",
       "      <th>지역</th>\n",
       "      <th>제품 ID</th>\n",
       "      <th>범주</th>\n",
       "      <th>하위 범주</th>\n",
       "      <th>제품 이름</th>\n",
       "      <th>매출</th>\n",
       "      <th>수량</th>\n",
       "      <th>할인율</th>\n",
       "      <th>수익</th>\n",
       "      <th>반품</th>\n",
       "    </tr>\n",
       "  </thead>\n",
       "  <tbody>\n",
       "    <tr>\n",
       "      <th>0</th>\n",
       "      <td>1</td>\n",
       "      <td>IN-2020-27828</td>\n",
       "      <td>2020-08-27</td>\n",
       "      <td>2020-08-31</td>\n",
       "      <td>표준 등급</td>\n",
       "      <td>VT-21700</td>\n",
       "      <td>Valerie Takahito</td>\n",
       "      <td>홈 오피스</td>\n",
       "      <td>Quanzhou</td>\n",
       "      <td>Fujian</td>\n",
       "      <td>...</td>\n",
       "      <td>북아시아</td>\n",
       "      <td>OFF-PA-10000026</td>\n",
       "      <td>사무용품</td>\n",
       "      <td>용지</td>\n",
       "      <td>Eaton Cards &amp; Envelopes, 8.5 x 11</td>\n",
       "      <td>197.280</td>\n",
       "      <td>4</td>\n",
       "      <td>0.00</td>\n",
       "      <td>35.400</td>\n",
       "      <td>예</td>\n",
       "    </tr>\n",
       "    <tr>\n",
       "      <th>1</th>\n",
       "      <td>2</td>\n",
       "      <td>IN-2020-27828</td>\n",
       "      <td>2020-08-27</td>\n",
       "      <td>2020-08-31</td>\n",
       "      <td>표준 등급</td>\n",
       "      <td>VT-21700</td>\n",
       "      <td>Valerie Takahito</td>\n",
       "      <td>홈 오피스</td>\n",
       "      <td>Quanzhou</td>\n",
       "      <td>Fujian</td>\n",
       "      <td>...</td>\n",
       "      <td>북아시아</td>\n",
       "      <td>FUR-FU-10000944</td>\n",
       "      <td>가구</td>\n",
       "      <td>사무용 집기</td>\n",
       "      <td>Tenex Door Stop, Black</td>\n",
       "      <td>307.230</td>\n",
       "      <td>7</td>\n",
       "      <td>0.00</td>\n",
       "      <td>21.420</td>\n",
       "      <td>예</td>\n",
       "    </tr>\n",
       "    <tr>\n",
       "      <th>2</th>\n",
       "      <td>3</td>\n",
       "      <td>IN-2020-27828</td>\n",
       "      <td>2020-08-27</td>\n",
       "      <td>2020-08-31</td>\n",
       "      <td>표준 등급</td>\n",
       "      <td>VT-21700</td>\n",
       "      <td>Valerie Takahito</td>\n",
       "      <td>홈 오피스</td>\n",
       "      <td>Quanzhou</td>\n",
       "      <td>Fujian</td>\n",
       "      <td>...</td>\n",
       "      <td>북아시아</td>\n",
       "      <td>TEC-CO-10002526</td>\n",
       "      <td>기술</td>\n",
       "      <td>복사기</td>\n",
       "      <td>Sharp Wireless Fax, Digital</td>\n",
       "      <td>1422.240</td>\n",
       "      <td>4</td>\n",
       "      <td>0.00</td>\n",
       "      <td>526.200</td>\n",
       "      <td>예</td>\n",
       "    </tr>\n",
       "    <tr>\n",
       "      <th>3</th>\n",
       "      <td>4</td>\n",
       "      <td>IN-2020-27828</td>\n",
       "      <td>2020-08-27</td>\n",
       "      <td>2020-08-31</td>\n",
       "      <td>표준 등급</td>\n",
       "      <td>VT-21700</td>\n",
       "      <td>Valerie Takahito</td>\n",
       "      <td>홈 오피스</td>\n",
       "      <td>Quanzhou</td>\n",
       "      <td>Fujian</td>\n",
       "      <td>...</td>\n",
       "      <td>북아시아</td>\n",
       "      <td>TEC-AC-10002255</td>\n",
       "      <td>기술</td>\n",
       "      <td>액세서리</td>\n",
       "      <td>Memorex Keyboard, Erganomic</td>\n",
       "      <td>207.450</td>\n",
       "      <td>3</td>\n",
       "      <td>0.00</td>\n",
       "      <td>78.750</td>\n",
       "      <td>예</td>\n",
       "    </tr>\n",
       "    <tr>\n",
       "      <th>4</th>\n",
       "      <td>5</td>\n",
       "      <td>IN-2021-63178</td>\n",
       "      <td>2021-06-24</td>\n",
       "      <td>2021-06-30</td>\n",
       "      <td>표준 등급</td>\n",
       "      <td>SO-20335</td>\n",
       "      <td>Sean O'Donnell</td>\n",
       "      <td>일반 소비자</td>\n",
       "      <td>Marikina</td>\n",
       "      <td>Metro Manila</td>\n",
       "      <td>...</td>\n",
       "      <td>동남아시아</td>\n",
       "      <td>OFF-AP-10002882</td>\n",
       "      <td>사무용품</td>\n",
       "      <td>가전 제품</td>\n",
       "      <td>KitchenAid Coffee Grinder, Silver</td>\n",
       "      <td>121.074</td>\n",
       "      <td>2</td>\n",
       "      <td>0.15</td>\n",
       "      <td>37.014</td>\n",
       "      <td>NaN</td>\n",
       "    </tr>\n",
       "  </tbody>\n",
       "</table>\n",
       "<p>5 rows × 21 columns</p>\n",
       "</div>"
      ],
      "text/plain": [
       "  행 ID          주문 ID      주문 날짜      배송 날짜  배송 형태     고객 ID  \\\n",
       "0    1  IN-2020-27828 2020-08-27 2020-08-31  표준 등급  VT-21700   \n",
       "1    2  IN-2020-27828 2020-08-27 2020-08-31  표준 등급  VT-21700   \n",
       "2    3  IN-2020-27828 2020-08-27 2020-08-31  표준 등급  VT-21700   \n",
       "3    4  IN-2020-27828 2020-08-27 2020-08-31  표준 등급  VT-21700   \n",
       "4    5  IN-2021-63178 2021-06-24 2021-06-30  표준 등급  SO-20335   \n",
       "\n",
       "              고객 이름    세그먼트        도시           시/도  ...     지역  \\\n",
       "0  Valerie Takahito   홈 오피스  Quanzhou        Fujian  ...   북아시아   \n",
       "1  Valerie Takahito   홈 오피스  Quanzhou        Fujian  ...   북아시아   \n",
       "2  Valerie Takahito   홈 오피스  Quanzhou        Fujian  ...   북아시아   \n",
       "3  Valerie Takahito   홈 오피스  Quanzhou        Fujian  ...   북아시아   \n",
       "4    Sean O'Donnell  일반 소비자  Marikina  Metro Manila  ...  동남아시아   \n",
       "\n",
       "             제품 ID    범주   하위 범주                              제품 이름        매출  \\\n",
       "0  OFF-PA-10000026  사무용품      용지  Eaton Cards & Envelopes, 8.5 x 11   197.280   \n",
       "1  FUR-FU-10000944    가구  사무용 집기             Tenex Door Stop, Black   307.230   \n",
       "2  TEC-CO-10002526    기술     복사기        Sharp Wireless Fax, Digital  1422.240   \n",
       "3  TEC-AC-10002255    기술    액세서리        Memorex Keyboard, Erganomic   207.450   \n",
       "4  OFF-AP-10002882  사무용품   가전 제품  KitchenAid Coffee Grinder, Silver   121.074   \n",
       "\n",
       "   수량   할인율       수익   반품  \n",
       "0   4  0.00   35.400    예  \n",
       "1   7  0.00   21.420    예  \n",
       "2   4  0.00  526.200    예  \n",
       "3   3  0.00   78.750    예  \n",
       "4   2  0.15   37.014  NaN  \n",
       "\n",
       "[5 rows x 21 columns]"
      ]
     },
     "execution_count": 61,
     "metadata": {},
     "output_type": "execute_result"
    }
   ],
   "source": [
    "# 다시 조인\n",
    "df_join = pd.merge(df_order, df_return1, on='주문 ID', how='left')\n",
    "df_join.head()"
   ]
  },
  {
   "cell_type": "code",
   "execution_count": 62,
   "id": "fe29bc81",
   "metadata": {
    "ExecuteTime": {
     "end_time": "2023-02-13T15:41:48.402828Z",
     "start_time": "2023-02-13T15:41:48.390860Z"
    }
   },
   "outputs": [
    {
     "data": {
      "text/plain": [
       "(10933, 21)"
      ]
     },
     "execution_count": 62,
     "metadata": {},
     "output_type": "execute_result"
    }
   ],
   "source": [
    "df_join.shape"
   ]
  },
  {
   "cell_type": "code",
   "execution_count": 63,
   "id": "56a2384a",
   "metadata": {
    "ExecuteTime": {
     "end_time": "2023-02-13T15:41:48.434752Z",
     "start_time": "2023-02-13T15:41:48.406818Z"
    }
   },
   "outputs": [
    {
     "data": {
      "text/plain": [
       "N    10148\n",
       "Y      785\n",
       "Name: 반품, dtype: int64"
      ]
     },
     "execution_count": 63,
     "metadata": {},
     "output_type": "execute_result"
    }
   ],
   "source": [
    "df_join['반품'] = df_join['반품'].fillna('N')\n",
    "df_join['반품'] = df_join['반품'].replace('예', 'Y')\n",
    "df_join['반품'].value_counts()"
   ]
  },
  {
   "cell_type": "code",
   "execution_count": 64,
   "id": "13b67590",
   "metadata": {
    "ExecuteTime": {
     "end_time": "2023-02-13T15:41:48.482623Z",
     "start_time": "2023-02-13T15:41:48.439731Z"
    }
   },
   "outputs": [
    {
     "data": {
      "text/html": [
       "<div>\n",
       "<style scoped>\n",
       "    .dataframe tbody tr th:only-of-type {\n",
       "        vertical-align: middle;\n",
       "    }\n",
       "\n",
       "    .dataframe tbody tr th {\n",
       "        vertical-align: top;\n",
       "    }\n",
       "\n",
       "    .dataframe thead th {\n",
       "        text-align: right;\n",
       "    }\n",
       "</style>\n",
       "<table border=\"1\" class=\"dataframe\">\n",
       "  <thead>\n",
       "    <tr style=\"text-align: right;\">\n",
       "      <th></th>\n",
       "      <th>행 ID</th>\n",
       "      <th>주문 ID</th>\n",
       "      <th>주문 날짜</th>\n",
       "      <th>배송 날짜</th>\n",
       "      <th>배송 형태</th>\n",
       "      <th>고객 ID</th>\n",
       "      <th>고객 이름</th>\n",
       "      <th>세그먼트</th>\n",
       "      <th>도시</th>\n",
       "      <th>시/도</th>\n",
       "      <th>국가/지역</th>\n",
       "      <th>지역</th>\n",
       "      <th>제품 ID</th>\n",
       "      <th>범주</th>\n",
       "      <th>하위 범주</th>\n",
       "      <th>제품 이름</th>\n",
       "      <th>매출</th>\n",
       "      <th>수량</th>\n",
       "      <th>할인율</th>\n",
       "      <th>수익</th>\n",
       "    </tr>\n",
       "  </thead>\n",
       "  <tbody>\n",
       "    <tr>\n",
       "      <th>0</th>\n",
       "      <td>1</td>\n",
       "      <td>IN-2020-27828</td>\n",
       "      <td>2020-08-27</td>\n",
       "      <td>2020-08-31</td>\n",
       "      <td>표준 등급</td>\n",
       "      <td>VT-21700</td>\n",
       "      <td>Valerie Takahito</td>\n",
       "      <td>홈 오피스</td>\n",
       "      <td>Quanzhou</td>\n",
       "      <td>Fujian</td>\n",
       "      <td>China</td>\n",
       "      <td>북아시아</td>\n",
       "      <td>OFF-PA-10000026</td>\n",
       "      <td>사무용품</td>\n",
       "      <td>용지</td>\n",
       "      <td>Eaton Cards &amp; Envelopes, 8.5 x 11</td>\n",
       "      <td>197.280</td>\n",
       "      <td>4</td>\n",
       "      <td>0.00</td>\n",
       "      <td>35.400</td>\n",
       "    </tr>\n",
       "    <tr>\n",
       "      <th>1</th>\n",
       "      <td>2</td>\n",
       "      <td>IN-2020-27828</td>\n",
       "      <td>2020-08-27</td>\n",
       "      <td>2020-08-31</td>\n",
       "      <td>표준 등급</td>\n",
       "      <td>VT-21700</td>\n",
       "      <td>Valerie Takahito</td>\n",
       "      <td>홈 오피스</td>\n",
       "      <td>Quanzhou</td>\n",
       "      <td>Fujian</td>\n",
       "      <td>China</td>\n",
       "      <td>북아시아</td>\n",
       "      <td>FUR-FU-10000944</td>\n",
       "      <td>가구</td>\n",
       "      <td>사무용 집기</td>\n",
       "      <td>Tenex Door Stop, Black</td>\n",
       "      <td>307.230</td>\n",
       "      <td>7</td>\n",
       "      <td>0.00</td>\n",
       "      <td>21.420</td>\n",
       "    </tr>\n",
       "    <tr>\n",
       "      <th>2</th>\n",
       "      <td>3</td>\n",
       "      <td>IN-2020-27828</td>\n",
       "      <td>2020-08-27</td>\n",
       "      <td>2020-08-31</td>\n",
       "      <td>표준 등급</td>\n",
       "      <td>VT-21700</td>\n",
       "      <td>Valerie Takahito</td>\n",
       "      <td>홈 오피스</td>\n",
       "      <td>Quanzhou</td>\n",
       "      <td>Fujian</td>\n",
       "      <td>China</td>\n",
       "      <td>북아시아</td>\n",
       "      <td>TEC-CO-10002526</td>\n",
       "      <td>기술</td>\n",
       "      <td>복사기</td>\n",
       "      <td>Sharp Wireless Fax, Digital</td>\n",
       "      <td>1422.240</td>\n",
       "      <td>4</td>\n",
       "      <td>0.00</td>\n",
       "      <td>526.200</td>\n",
       "    </tr>\n",
       "    <tr>\n",
       "      <th>3</th>\n",
       "      <td>4</td>\n",
       "      <td>IN-2020-27828</td>\n",
       "      <td>2020-08-27</td>\n",
       "      <td>2020-08-31</td>\n",
       "      <td>표준 등급</td>\n",
       "      <td>VT-21700</td>\n",
       "      <td>Valerie Takahito</td>\n",
       "      <td>홈 오피스</td>\n",
       "      <td>Quanzhou</td>\n",
       "      <td>Fujian</td>\n",
       "      <td>China</td>\n",
       "      <td>북아시아</td>\n",
       "      <td>TEC-AC-10002255</td>\n",
       "      <td>기술</td>\n",
       "      <td>액세서리</td>\n",
       "      <td>Memorex Keyboard, Erganomic</td>\n",
       "      <td>207.450</td>\n",
       "      <td>3</td>\n",
       "      <td>0.00</td>\n",
       "      <td>78.750</td>\n",
       "    </tr>\n",
       "    <tr>\n",
       "      <th>4</th>\n",
       "      <td>5</td>\n",
       "      <td>IN-2021-63178</td>\n",
       "      <td>2021-06-24</td>\n",
       "      <td>2021-06-30</td>\n",
       "      <td>표준 등급</td>\n",
       "      <td>SO-20335</td>\n",
       "      <td>Sean O'Donnell</td>\n",
       "      <td>일반 소비자</td>\n",
       "      <td>Marikina</td>\n",
       "      <td>Metro Manila</td>\n",
       "      <td>Philippines</td>\n",
       "      <td>동남아시아</td>\n",
       "      <td>OFF-AP-10002882</td>\n",
       "      <td>사무용품</td>\n",
       "      <td>가전 제품</td>\n",
       "      <td>KitchenAid Coffee Grinder, Silver</td>\n",
       "      <td>121.074</td>\n",
       "      <td>2</td>\n",
       "      <td>0.15</td>\n",
       "      <td>37.014</td>\n",
       "    </tr>\n",
       "  </tbody>\n",
       "</table>\n",
       "</div>"
      ],
      "text/plain": [
       "  행 ID          주문 ID      주문 날짜      배송 날짜  배송 형태     고객 ID  \\\n",
       "0    1  IN-2020-27828 2020-08-27 2020-08-31  표준 등급  VT-21700   \n",
       "1    2  IN-2020-27828 2020-08-27 2020-08-31  표준 등급  VT-21700   \n",
       "2    3  IN-2020-27828 2020-08-27 2020-08-31  표준 등급  VT-21700   \n",
       "3    4  IN-2020-27828 2020-08-27 2020-08-31  표준 등급  VT-21700   \n",
       "4    5  IN-2021-63178 2021-06-24 2021-06-30  표준 등급  SO-20335   \n",
       "\n",
       "              고객 이름    세그먼트        도시           시/도        국가/지역     지역  \\\n",
       "0  Valerie Takahito   홈 오피스  Quanzhou        Fujian        China   북아시아   \n",
       "1  Valerie Takahito   홈 오피스  Quanzhou        Fujian        China   북아시아   \n",
       "2  Valerie Takahito   홈 오피스  Quanzhou        Fujian        China   북아시아   \n",
       "3  Valerie Takahito   홈 오피스  Quanzhou        Fujian        China   북아시아   \n",
       "4    Sean O'Donnell  일반 소비자  Marikina  Metro Manila  Philippines  동남아시아   \n",
       "\n",
       "             제품 ID    범주   하위 범주                              제품 이름        매출  \\\n",
       "0  OFF-PA-10000026  사무용품      용지  Eaton Cards & Envelopes, 8.5 x 11   197.280   \n",
       "1  FUR-FU-10000944    가구  사무용 집기             Tenex Door Stop, Black   307.230   \n",
       "2  TEC-CO-10002526    기술     복사기        Sharp Wireless Fax, Digital  1422.240   \n",
       "3  TEC-AC-10002255    기술    액세서리        Memorex Keyboard, Erganomic   207.450   \n",
       "4  OFF-AP-10002882  사무용품   가전 제품  KitchenAid Coffee Grinder, Silver   121.074   \n",
       "\n",
       "   수량   할인율       수익  \n",
       "0   4  0.00   35.400  \n",
       "1   7  0.00   21.420  \n",
       "2   4  0.00  526.200  \n",
       "3   3  0.00   78.750  \n",
       "4   2  0.15   37.014  "
      ]
     },
     "execution_count": 64,
     "metadata": {},
     "output_type": "execute_result"
    }
   ],
   "source": [
    "df_order.head()"
   ]
  },
  {
   "cell_type": "code",
   "execution_count": 65,
   "id": "4c4070ee",
   "metadata": {
    "ExecuteTime": {
     "end_time": "2023-02-13T15:41:48.545447Z",
     "start_time": "2023-02-13T15:41:48.486604Z"
    }
   },
   "outputs": [
    {
     "data": {
      "text/html": [
       "<div>\n",
       "<style scoped>\n",
       "    .dataframe tbody tr th:only-of-type {\n",
       "        vertical-align: middle;\n",
       "    }\n",
       "\n",
       "    .dataframe tbody tr th {\n",
       "        vertical-align: top;\n",
       "    }\n",
       "\n",
       "    .dataframe thead th {\n",
       "        text-align: right;\n",
       "    }\n",
       "</style>\n",
       "<table border=\"1\" class=\"dataframe\">\n",
       "  <thead>\n",
       "    <tr style=\"text-align: right;\">\n",
       "      <th></th>\n",
       "      <th>행 ID</th>\n",
       "      <th>주문 ID</th>\n",
       "      <th>주문 날짜</th>\n",
       "      <th>배송 날짜</th>\n",
       "      <th>배송 형태</th>\n",
       "      <th>고객 ID</th>\n",
       "      <th>고객 이름</th>\n",
       "      <th>세그먼트</th>\n",
       "      <th>도시</th>\n",
       "      <th>시/도</th>\n",
       "      <th>...</th>\n",
       "      <th>지역</th>\n",
       "      <th>제품 ID</th>\n",
       "      <th>범주</th>\n",
       "      <th>하위 범주</th>\n",
       "      <th>제품 이름</th>\n",
       "      <th>매출</th>\n",
       "      <th>수량</th>\n",
       "      <th>할인율</th>\n",
       "      <th>수익</th>\n",
       "      <th>반품</th>\n",
       "    </tr>\n",
       "  </thead>\n",
       "  <tbody>\n",
       "    <tr>\n",
       "      <th>0</th>\n",
       "      <td>1</td>\n",
       "      <td>IN-2020-27828</td>\n",
       "      <td>2020-08-27</td>\n",
       "      <td>2020-08-31</td>\n",
       "      <td>표준 등급</td>\n",
       "      <td>VT-21700</td>\n",
       "      <td>Valerie Takahito</td>\n",
       "      <td>홈 오피스</td>\n",
       "      <td>Quanzhou</td>\n",
       "      <td>Fujian</td>\n",
       "      <td>...</td>\n",
       "      <td>북아시아</td>\n",
       "      <td>OFF-PA-10000026</td>\n",
       "      <td>사무용품</td>\n",
       "      <td>용지</td>\n",
       "      <td>Eaton Cards &amp; Envelopes, 8.5 x 11</td>\n",
       "      <td>197.280</td>\n",
       "      <td>4</td>\n",
       "      <td>0.00</td>\n",
       "      <td>35.400</td>\n",
       "      <td>Y</td>\n",
       "    </tr>\n",
       "    <tr>\n",
       "      <th>1</th>\n",
       "      <td>2</td>\n",
       "      <td>IN-2020-27828</td>\n",
       "      <td>2020-08-27</td>\n",
       "      <td>2020-08-31</td>\n",
       "      <td>표준 등급</td>\n",
       "      <td>VT-21700</td>\n",
       "      <td>Valerie Takahito</td>\n",
       "      <td>홈 오피스</td>\n",
       "      <td>Quanzhou</td>\n",
       "      <td>Fujian</td>\n",
       "      <td>...</td>\n",
       "      <td>북아시아</td>\n",
       "      <td>FUR-FU-10000944</td>\n",
       "      <td>가구</td>\n",
       "      <td>사무용 집기</td>\n",
       "      <td>Tenex Door Stop, Black</td>\n",
       "      <td>307.230</td>\n",
       "      <td>7</td>\n",
       "      <td>0.00</td>\n",
       "      <td>21.420</td>\n",
       "      <td>Y</td>\n",
       "    </tr>\n",
       "    <tr>\n",
       "      <th>2</th>\n",
       "      <td>3</td>\n",
       "      <td>IN-2020-27828</td>\n",
       "      <td>2020-08-27</td>\n",
       "      <td>2020-08-31</td>\n",
       "      <td>표준 등급</td>\n",
       "      <td>VT-21700</td>\n",
       "      <td>Valerie Takahito</td>\n",
       "      <td>홈 오피스</td>\n",
       "      <td>Quanzhou</td>\n",
       "      <td>Fujian</td>\n",
       "      <td>...</td>\n",
       "      <td>북아시아</td>\n",
       "      <td>TEC-CO-10002526</td>\n",
       "      <td>기술</td>\n",
       "      <td>복사기</td>\n",
       "      <td>Sharp Wireless Fax, Digital</td>\n",
       "      <td>1422.240</td>\n",
       "      <td>4</td>\n",
       "      <td>0.00</td>\n",
       "      <td>526.200</td>\n",
       "      <td>Y</td>\n",
       "    </tr>\n",
       "    <tr>\n",
       "      <th>3</th>\n",
       "      <td>4</td>\n",
       "      <td>IN-2020-27828</td>\n",
       "      <td>2020-08-27</td>\n",
       "      <td>2020-08-31</td>\n",
       "      <td>표준 등급</td>\n",
       "      <td>VT-21700</td>\n",
       "      <td>Valerie Takahito</td>\n",
       "      <td>홈 오피스</td>\n",
       "      <td>Quanzhou</td>\n",
       "      <td>Fujian</td>\n",
       "      <td>...</td>\n",
       "      <td>북아시아</td>\n",
       "      <td>TEC-AC-10002255</td>\n",
       "      <td>기술</td>\n",
       "      <td>액세서리</td>\n",
       "      <td>Memorex Keyboard, Erganomic</td>\n",
       "      <td>207.450</td>\n",
       "      <td>3</td>\n",
       "      <td>0.00</td>\n",
       "      <td>78.750</td>\n",
       "      <td>Y</td>\n",
       "    </tr>\n",
       "    <tr>\n",
       "      <th>4</th>\n",
       "      <td>5</td>\n",
       "      <td>IN-2021-63178</td>\n",
       "      <td>2021-06-24</td>\n",
       "      <td>2021-06-30</td>\n",
       "      <td>표준 등급</td>\n",
       "      <td>SO-20335</td>\n",
       "      <td>Sean O'Donnell</td>\n",
       "      <td>일반 소비자</td>\n",
       "      <td>Marikina</td>\n",
       "      <td>Metro Manila</td>\n",
       "      <td>...</td>\n",
       "      <td>동남아시아</td>\n",
       "      <td>OFF-AP-10002882</td>\n",
       "      <td>사무용품</td>\n",
       "      <td>가전 제품</td>\n",
       "      <td>KitchenAid Coffee Grinder, Silver</td>\n",
       "      <td>121.074</td>\n",
       "      <td>2</td>\n",
       "      <td>0.15</td>\n",
       "      <td>37.014</td>\n",
       "      <td>N</td>\n",
       "    </tr>\n",
       "  </tbody>\n",
       "</table>\n",
       "<p>5 rows × 21 columns</p>\n",
       "</div>"
      ],
      "text/plain": [
       "  행 ID          주문 ID      주문 날짜      배송 날짜  배송 형태     고객 ID  \\\n",
       "0    1  IN-2020-27828 2020-08-27 2020-08-31  표준 등급  VT-21700   \n",
       "1    2  IN-2020-27828 2020-08-27 2020-08-31  표준 등급  VT-21700   \n",
       "2    3  IN-2020-27828 2020-08-27 2020-08-31  표준 등급  VT-21700   \n",
       "3    4  IN-2020-27828 2020-08-27 2020-08-31  표준 등급  VT-21700   \n",
       "4    5  IN-2021-63178 2021-06-24 2021-06-30  표준 등급  SO-20335   \n",
       "\n",
       "              고객 이름    세그먼트        도시           시/도  ...     지역  \\\n",
       "0  Valerie Takahito   홈 오피스  Quanzhou        Fujian  ...   북아시아   \n",
       "1  Valerie Takahito   홈 오피스  Quanzhou        Fujian  ...   북아시아   \n",
       "2  Valerie Takahito   홈 오피스  Quanzhou        Fujian  ...   북아시아   \n",
       "3  Valerie Takahito   홈 오피스  Quanzhou        Fujian  ...   북아시아   \n",
       "4    Sean O'Donnell  일반 소비자  Marikina  Metro Manila  ...  동남아시아   \n",
       "\n",
       "             제품 ID    범주   하위 범주                              제품 이름        매출  \\\n",
       "0  OFF-PA-10000026  사무용품      용지  Eaton Cards & Envelopes, 8.5 x 11   197.280   \n",
       "1  FUR-FU-10000944    가구  사무용 집기             Tenex Door Stop, Black   307.230   \n",
       "2  TEC-CO-10002526    기술     복사기        Sharp Wireless Fax, Digital  1422.240   \n",
       "3  TEC-AC-10002255    기술    액세서리        Memorex Keyboard, Erganomic   207.450   \n",
       "4  OFF-AP-10002882  사무용품   가전 제품  KitchenAid Coffee Grinder, Silver   121.074   \n",
       "\n",
       "   수량   할인율       수익  반품  \n",
       "0   4  0.00   35.400   Y  \n",
       "1   7  0.00   21.420   Y  \n",
       "2   4  0.00  526.200   Y  \n",
       "3   3  0.00   78.750   Y  \n",
       "4   2  0.15   37.014   N  \n",
       "\n",
       "[5 rows x 21 columns]"
      ]
     },
     "execution_count": 65,
     "metadata": {},
     "output_type": "execute_result"
    }
   ],
   "source": [
    "df_join.head()"
   ]
  },
  {
   "cell_type": "code",
   "execution_count": 73,
   "id": "fb47f97e",
   "metadata": {
    "ExecuteTime": {
     "end_time": "2023-02-14T16:28:28.467284Z",
     "start_time": "2023-02-14T16:28:28.422404Z"
    }
   },
   "outputs": [
    {
     "data": {
      "text/html": [
       "<div>\n",
       "<style scoped>\n",
       "    .dataframe tbody tr th:only-of-type {\n",
       "        vertical-align: middle;\n",
       "    }\n",
       "\n",
       "    .dataframe tbody tr th {\n",
       "        vertical-align: top;\n",
       "    }\n",
       "\n",
       "    .dataframe thead th {\n",
       "        text-align: right;\n",
       "    }\n",
       "</style>\n",
       "<table border=\"1\" class=\"dataframe\">\n",
       "  <thead>\n",
       "    <tr style=\"text-align: right;\">\n",
       "      <th></th>\n",
       "      <th>행 ID</th>\n",
       "      <th>주문 ID</th>\n",
       "      <th>주문 날짜</th>\n",
       "      <th>배송 날짜</th>\n",
       "      <th>배송 형태</th>\n",
       "      <th>고객 ID</th>\n",
       "      <th>고객 이름</th>\n",
       "      <th>세그먼트</th>\n",
       "      <th>도시</th>\n",
       "      <th>시/도</th>\n",
       "      <th>국가/지역</th>\n",
       "      <th>지역</th>\n",
       "      <th>제품 ID</th>\n",
       "      <th>범주</th>\n",
       "      <th>하위 범주</th>\n",
       "      <th>제품 이름</th>\n",
       "      <th>매출</th>\n",
       "      <th>수량</th>\n",
       "      <th>할인율</th>\n",
       "      <th>수익</th>\n",
       "    </tr>\n",
       "  </thead>\n",
       "  <tbody>\n",
       "    <tr>\n",
       "      <th>0</th>\n",
       "      <td>1</td>\n",
       "      <td>IN-2020-27828</td>\n",
       "      <td>2020-08-27</td>\n",
       "      <td>2020-08-31</td>\n",
       "      <td>표준 등급</td>\n",
       "      <td>VT-21700</td>\n",
       "      <td>Valerie Takahito</td>\n",
       "      <td>홈 오피스</td>\n",
       "      <td>Quanzhou</td>\n",
       "      <td>Fujian</td>\n",
       "      <td>China</td>\n",
       "      <td>북아시아</td>\n",
       "      <td>OFF-PA-10000026</td>\n",
       "      <td>사무용품</td>\n",
       "      <td>용지</td>\n",
       "      <td>Eaton Cards &amp; Envelopes, 8.5 x 11</td>\n",
       "      <td>197.280</td>\n",
       "      <td>4</td>\n",
       "      <td>0.00</td>\n",
       "      <td>35.400</td>\n",
       "    </tr>\n",
       "    <tr>\n",
       "      <th>1</th>\n",
       "      <td>2</td>\n",
       "      <td>IN-2020-27828</td>\n",
       "      <td>2020-08-27</td>\n",
       "      <td>2020-08-31</td>\n",
       "      <td>표준 등급</td>\n",
       "      <td>VT-21700</td>\n",
       "      <td>Valerie Takahito</td>\n",
       "      <td>홈 오피스</td>\n",
       "      <td>Quanzhou</td>\n",
       "      <td>Fujian</td>\n",
       "      <td>China</td>\n",
       "      <td>북아시아</td>\n",
       "      <td>FUR-FU-10000944</td>\n",
       "      <td>가구</td>\n",
       "      <td>사무용 집기</td>\n",
       "      <td>Tenex Door Stop, Black</td>\n",
       "      <td>307.230</td>\n",
       "      <td>7</td>\n",
       "      <td>0.00</td>\n",
       "      <td>21.420</td>\n",
       "    </tr>\n",
       "    <tr>\n",
       "      <th>2</th>\n",
       "      <td>3</td>\n",
       "      <td>IN-2020-27828</td>\n",
       "      <td>2020-08-27</td>\n",
       "      <td>2020-08-31</td>\n",
       "      <td>표준 등급</td>\n",
       "      <td>VT-21700</td>\n",
       "      <td>Valerie Takahito</td>\n",
       "      <td>홈 오피스</td>\n",
       "      <td>Quanzhou</td>\n",
       "      <td>Fujian</td>\n",
       "      <td>China</td>\n",
       "      <td>북아시아</td>\n",
       "      <td>TEC-CO-10002526</td>\n",
       "      <td>기술</td>\n",
       "      <td>복사기</td>\n",
       "      <td>Sharp Wireless Fax, Digital</td>\n",
       "      <td>1422.240</td>\n",
       "      <td>4</td>\n",
       "      <td>0.00</td>\n",
       "      <td>526.200</td>\n",
       "    </tr>\n",
       "    <tr>\n",
       "      <th>3</th>\n",
       "      <td>4</td>\n",
       "      <td>IN-2020-27828</td>\n",
       "      <td>2020-08-27</td>\n",
       "      <td>2020-08-31</td>\n",
       "      <td>표준 등급</td>\n",
       "      <td>VT-21700</td>\n",
       "      <td>Valerie Takahito</td>\n",
       "      <td>홈 오피스</td>\n",
       "      <td>Quanzhou</td>\n",
       "      <td>Fujian</td>\n",
       "      <td>China</td>\n",
       "      <td>북아시아</td>\n",
       "      <td>TEC-AC-10002255</td>\n",
       "      <td>기술</td>\n",
       "      <td>액세서리</td>\n",
       "      <td>Memorex Keyboard, Erganomic</td>\n",
       "      <td>207.450</td>\n",
       "      <td>3</td>\n",
       "      <td>0.00</td>\n",
       "      <td>78.750</td>\n",
       "    </tr>\n",
       "    <tr>\n",
       "      <th>4</th>\n",
       "      <td>5</td>\n",
       "      <td>IN-2021-63178</td>\n",
       "      <td>2021-06-24</td>\n",
       "      <td>2021-06-30</td>\n",
       "      <td>표준 등급</td>\n",
       "      <td>SO-20335</td>\n",
       "      <td>Sean O'Donnell</td>\n",
       "      <td>일반 소비자</td>\n",
       "      <td>Marikina</td>\n",
       "      <td>Metro Manila</td>\n",
       "      <td>Philippines</td>\n",
       "      <td>동남아시아</td>\n",
       "      <td>OFF-AP-10002882</td>\n",
       "      <td>사무용품</td>\n",
       "      <td>가전 제품</td>\n",
       "      <td>KitchenAid Coffee Grinder, Silver</td>\n",
       "      <td>121.074</td>\n",
       "      <td>2</td>\n",
       "      <td>0.15</td>\n",
       "      <td>37.014</td>\n",
       "    </tr>\n",
       "  </tbody>\n",
       "</table>\n",
       "</div>"
      ],
      "text/plain": [
       "  행 ID          주문 ID      주문 날짜      배송 날짜  배송 형태     고객 ID  \\\n",
       "0    1  IN-2020-27828 2020-08-27 2020-08-31  표준 등급  VT-21700   \n",
       "1    2  IN-2020-27828 2020-08-27 2020-08-31  표준 등급  VT-21700   \n",
       "2    3  IN-2020-27828 2020-08-27 2020-08-31  표준 등급  VT-21700   \n",
       "3    4  IN-2020-27828 2020-08-27 2020-08-31  표준 등급  VT-21700   \n",
       "4    5  IN-2021-63178 2021-06-24 2021-06-30  표준 등급  SO-20335   \n",
       "\n",
       "              고객 이름    세그먼트        도시           시/도        국가/지역     지역  \\\n",
       "0  Valerie Takahito   홈 오피스  Quanzhou        Fujian        China   북아시아   \n",
       "1  Valerie Takahito   홈 오피스  Quanzhou        Fujian        China   북아시아   \n",
       "2  Valerie Takahito   홈 오피스  Quanzhou        Fujian        China   북아시아   \n",
       "3  Valerie Takahito   홈 오피스  Quanzhou        Fujian        China   북아시아   \n",
       "4    Sean O'Donnell  일반 소비자  Marikina  Metro Manila  Philippines  동남아시아   \n",
       "\n",
       "             제품 ID    범주   하위 범주                              제품 이름        매출  \\\n",
       "0  OFF-PA-10000026  사무용품      용지  Eaton Cards & Envelopes, 8.5 x 11   197.280   \n",
       "1  FUR-FU-10000944    가구  사무용 집기             Tenex Door Stop, Black   307.230   \n",
       "2  TEC-CO-10002526    기술     복사기        Sharp Wireless Fax, Digital  1422.240   \n",
       "3  TEC-AC-10002255    기술    액세서리        Memorex Keyboard, Erganomic   207.450   \n",
       "4  OFF-AP-10002882  사무용품   가전 제품  KitchenAid Coffee Grinder, Silver   121.074   \n",
       "\n",
       "   수량   할인율       수익  \n",
       "0   4  0.00   35.400  \n",
       "1   7  0.00   21.420  \n",
       "2   4  0.00  526.200  \n",
       "3   3  0.00   78.750  \n",
       "4   2  0.15   37.014  "
      ]
     },
     "execution_count": 73,
     "metadata": {},
     "output_type": "execute_result"
    }
   ],
   "source": [
    "df_order.head()"
   ]
  },
  {
   "cell_type": "code",
   "execution_count": 75,
   "id": "f88d8f87",
   "metadata": {
    "ExecuteTime": {
     "end_time": "2023-02-14T16:31:06.298865Z",
     "start_time": "2023-02-14T16:31:06.287926Z"
    }
   },
   "outputs": [
    {
     "data": {
      "text/plain": [
       "array(['표준 등급', '2등급', '당일', '1등급'], dtype=object)"
      ]
     },
     "execution_count": 75,
     "metadata": {},
     "output_type": "execute_result"
    }
   ],
   "source": [
    "df_order['배송 형태'].unique()"
   ]
  },
  {
   "cell_type": "code",
   "execution_count": 77,
   "id": "d414598c",
   "metadata": {
    "ExecuteTime": {
     "end_time": "2023-02-14T16:31:43.693208Z",
     "start_time": "2023-02-14T16:31:43.677252Z"
    }
   },
   "outputs": [
    {
     "data": {
      "text/html": [
       "<div>\n",
       "<style scoped>\n",
       "    .dataframe tbody tr th:only-of-type {\n",
       "        vertical-align: middle;\n",
       "    }\n",
       "\n",
       "    .dataframe tbody tr th {\n",
       "        vertical-align: top;\n",
       "    }\n",
       "\n",
       "    .dataframe thead th {\n",
       "        text-align: right;\n",
       "    }\n",
       "</style>\n",
       "<table border=\"1\" class=\"dataframe\">\n",
       "  <thead>\n",
       "    <tr style=\"text-align: right;\">\n",
       "      <th></th>\n",
       "      <th>배송 형태</th>\n",
       "    </tr>\n",
       "  </thead>\n",
       "  <tbody>\n",
       "    <tr>\n",
       "      <th>표준 등급</th>\n",
       "      <td>6622</td>\n",
       "    </tr>\n",
       "    <tr>\n",
       "      <th>2등급</th>\n",
       "      <td>2200</td>\n",
       "    </tr>\n",
       "    <tr>\n",
       "      <th>1등급</th>\n",
       "      <td>1577</td>\n",
       "    </tr>\n",
       "    <tr>\n",
       "      <th>당일</th>\n",
       "      <td>534</td>\n",
       "    </tr>\n",
       "  </tbody>\n",
       "</table>\n",
       "</div>"
      ],
      "text/plain": [
       "       배송 형태\n",
       "표준 등급   6622\n",
       "2등급     2200\n",
       "1등급     1577\n",
       "당일       534"
      ]
     },
     "execution_count": 77,
     "metadata": {},
     "output_type": "execute_result"
    }
   ],
   "source": [
    "df_order['배송 형태'].value_counts().to_frame()"
   ]
  },
  {
   "cell_type": "code",
   "execution_count": 95,
   "id": "18092a2e",
   "metadata": {
    "ExecuteTime": {
     "end_time": "2023-02-14T16:40:39.613320Z",
     "start_time": "2023-02-14T16:40:39.575424Z"
    }
   },
   "outputs": [
    {
     "data": {
      "text/html": [
       "<div>\n",
       "<style scoped>\n",
       "    .dataframe tbody tr th:only-of-type {\n",
       "        vertical-align: middle;\n",
       "    }\n",
       "\n",
       "    .dataframe tbody tr th {\n",
       "        vertical-align: top;\n",
       "    }\n",
       "\n",
       "    .dataframe thead th {\n",
       "        text-align: right;\n",
       "    }\n",
       "</style>\n",
       "<table border=\"1\" class=\"dataframe\">\n",
       "  <thead>\n",
       "    <tr style=\"text-align: right;\">\n",
       "      <th></th>\n",
       "      <th>행 ID</th>\n",
       "      <th>주문 ID</th>\n",
       "      <th>주문 날짜</th>\n",
       "      <th>배송 날짜</th>\n",
       "      <th>배송 형태</th>\n",
       "      <th>고객 ID</th>\n",
       "      <th>고객 이름</th>\n",
       "      <th>세그먼트</th>\n",
       "      <th>도시</th>\n",
       "      <th>시/도</th>\n",
       "      <th>...</th>\n",
       "      <th>지역</th>\n",
       "      <th>제품 ID</th>\n",
       "      <th>범주</th>\n",
       "      <th>하위 범주</th>\n",
       "      <th>제품 이름</th>\n",
       "      <th>매출</th>\n",
       "      <th>수량</th>\n",
       "      <th>할인율</th>\n",
       "      <th>수익</th>\n",
       "      <th>배송 시간</th>\n",
       "    </tr>\n",
       "  </thead>\n",
       "  <tbody>\n",
       "    <tr>\n",
       "      <th>0</th>\n",
       "      <td>1</td>\n",
       "      <td>IN-2020-27828</td>\n",
       "      <td>2020-08-27</td>\n",
       "      <td>2020-08-31</td>\n",
       "      <td>표준 등급</td>\n",
       "      <td>VT-21700</td>\n",
       "      <td>Valerie Takahito</td>\n",
       "      <td>홈 오피스</td>\n",
       "      <td>Quanzhou</td>\n",
       "      <td>Fujian</td>\n",
       "      <td>...</td>\n",
       "      <td>북아시아</td>\n",
       "      <td>OFF-PA-10000026</td>\n",
       "      <td>사무용품</td>\n",
       "      <td>용지</td>\n",
       "      <td>Eaton Cards &amp; Envelopes, 8.5 x 11</td>\n",
       "      <td>197.280</td>\n",
       "      <td>4</td>\n",
       "      <td>0.00</td>\n",
       "      <td>35.400</td>\n",
       "      <td>4</td>\n",
       "    </tr>\n",
       "    <tr>\n",
       "      <th>1</th>\n",
       "      <td>2</td>\n",
       "      <td>IN-2020-27828</td>\n",
       "      <td>2020-08-27</td>\n",
       "      <td>2020-08-31</td>\n",
       "      <td>표준 등급</td>\n",
       "      <td>VT-21700</td>\n",
       "      <td>Valerie Takahito</td>\n",
       "      <td>홈 오피스</td>\n",
       "      <td>Quanzhou</td>\n",
       "      <td>Fujian</td>\n",
       "      <td>...</td>\n",
       "      <td>북아시아</td>\n",
       "      <td>FUR-FU-10000944</td>\n",
       "      <td>가구</td>\n",
       "      <td>사무용 집기</td>\n",
       "      <td>Tenex Door Stop, Black</td>\n",
       "      <td>307.230</td>\n",
       "      <td>7</td>\n",
       "      <td>0.00</td>\n",
       "      <td>21.420</td>\n",
       "      <td>4</td>\n",
       "    </tr>\n",
       "    <tr>\n",
       "      <th>2</th>\n",
       "      <td>3</td>\n",
       "      <td>IN-2020-27828</td>\n",
       "      <td>2020-08-27</td>\n",
       "      <td>2020-08-31</td>\n",
       "      <td>표준 등급</td>\n",
       "      <td>VT-21700</td>\n",
       "      <td>Valerie Takahito</td>\n",
       "      <td>홈 오피스</td>\n",
       "      <td>Quanzhou</td>\n",
       "      <td>Fujian</td>\n",
       "      <td>...</td>\n",
       "      <td>북아시아</td>\n",
       "      <td>TEC-CO-10002526</td>\n",
       "      <td>기술</td>\n",
       "      <td>복사기</td>\n",
       "      <td>Sharp Wireless Fax, Digital</td>\n",
       "      <td>1422.240</td>\n",
       "      <td>4</td>\n",
       "      <td>0.00</td>\n",
       "      <td>526.200</td>\n",
       "      <td>4</td>\n",
       "    </tr>\n",
       "    <tr>\n",
       "      <th>3</th>\n",
       "      <td>4</td>\n",
       "      <td>IN-2020-27828</td>\n",
       "      <td>2020-08-27</td>\n",
       "      <td>2020-08-31</td>\n",
       "      <td>표준 등급</td>\n",
       "      <td>VT-21700</td>\n",
       "      <td>Valerie Takahito</td>\n",
       "      <td>홈 오피스</td>\n",
       "      <td>Quanzhou</td>\n",
       "      <td>Fujian</td>\n",
       "      <td>...</td>\n",
       "      <td>북아시아</td>\n",
       "      <td>TEC-AC-10002255</td>\n",
       "      <td>기술</td>\n",
       "      <td>액세서리</td>\n",
       "      <td>Memorex Keyboard, Erganomic</td>\n",
       "      <td>207.450</td>\n",
       "      <td>3</td>\n",
       "      <td>0.00</td>\n",
       "      <td>78.750</td>\n",
       "      <td>4</td>\n",
       "    </tr>\n",
       "    <tr>\n",
       "      <th>4</th>\n",
       "      <td>5</td>\n",
       "      <td>IN-2021-63178</td>\n",
       "      <td>2021-06-24</td>\n",
       "      <td>2021-06-30</td>\n",
       "      <td>표준 등급</td>\n",
       "      <td>SO-20335</td>\n",
       "      <td>Sean O'Donnell</td>\n",
       "      <td>일반 소비자</td>\n",
       "      <td>Marikina</td>\n",
       "      <td>Metro Manila</td>\n",
       "      <td>...</td>\n",
       "      <td>동남아시아</td>\n",
       "      <td>OFF-AP-10002882</td>\n",
       "      <td>사무용품</td>\n",
       "      <td>가전 제품</td>\n",
       "      <td>KitchenAid Coffee Grinder, Silver</td>\n",
       "      <td>121.074</td>\n",
       "      <td>2</td>\n",
       "      <td>0.15</td>\n",
       "      <td>37.014</td>\n",
       "      <td>6</td>\n",
       "    </tr>\n",
       "  </tbody>\n",
       "</table>\n",
       "<p>5 rows × 21 columns</p>\n",
       "</div>"
      ],
      "text/plain": [
       "  행 ID          주문 ID      주문 날짜      배송 날짜  배송 형태     고객 ID  \\\n",
       "0    1  IN-2020-27828 2020-08-27 2020-08-31  표준 등급  VT-21700   \n",
       "1    2  IN-2020-27828 2020-08-27 2020-08-31  표준 등급  VT-21700   \n",
       "2    3  IN-2020-27828 2020-08-27 2020-08-31  표준 등급  VT-21700   \n",
       "3    4  IN-2020-27828 2020-08-27 2020-08-31  표준 등급  VT-21700   \n",
       "4    5  IN-2021-63178 2021-06-24 2021-06-30  표준 등급  SO-20335   \n",
       "\n",
       "              고객 이름    세그먼트        도시           시/도  ...     지역  \\\n",
       "0  Valerie Takahito   홈 오피스  Quanzhou        Fujian  ...   북아시아   \n",
       "1  Valerie Takahito   홈 오피스  Quanzhou        Fujian  ...   북아시아   \n",
       "2  Valerie Takahito   홈 오피스  Quanzhou        Fujian  ...   북아시아   \n",
       "3  Valerie Takahito   홈 오피스  Quanzhou        Fujian  ...   북아시아   \n",
       "4    Sean O'Donnell  일반 소비자  Marikina  Metro Manila  ...  동남아시아   \n",
       "\n",
       "             제품 ID    범주   하위 범주                              제품 이름        매출  \\\n",
       "0  OFF-PA-10000026  사무용품      용지  Eaton Cards & Envelopes, 8.5 x 11   197.280   \n",
       "1  FUR-FU-10000944    가구  사무용 집기             Tenex Door Stop, Black   307.230   \n",
       "2  TEC-CO-10002526    기술     복사기        Sharp Wireless Fax, Digital  1422.240   \n",
       "3  TEC-AC-10002255    기술    액세서리        Memorex Keyboard, Erganomic   207.450   \n",
       "4  OFF-AP-10002882  사무용품   가전 제품  KitchenAid Coffee Grinder, Silver   121.074   \n",
       "\n",
       "   수량   할인율       수익  배송 시간  \n",
       "0   4  0.00   35.400      4  \n",
       "1   7  0.00   21.420      4  \n",
       "2   4  0.00  526.200      4  \n",
       "3   3  0.00   78.750      4  \n",
       "4   2  0.15   37.014      6  \n",
       "\n",
       "[5 rows x 21 columns]"
      ]
     },
     "execution_count": 95,
     "metadata": {},
     "output_type": "execute_result"
    }
   ],
   "source": [
    "df_order1 = df_order\n",
    "df_order1['배송 시간'] = df_order1['배송 날짜'] - df_order1['주문 날짜']\n",
    "df_order1['배송 시간'] = df_order1['배송 시간'].dt.days\n",
    "df_order1.head()"
   ]
  },
  {
   "cell_type": "code",
   "execution_count": 96,
   "id": "4945d11e",
   "metadata": {
    "ExecuteTime": {
     "end_time": "2023-02-14T16:40:40.418704Z",
     "start_time": "2023-02-14T16:40:40.397278Z"
    }
   },
   "outputs": [
    {
     "data": {
      "text/html": [
       "<div>\n",
       "<style scoped>\n",
       "    .dataframe tbody tr th:only-of-type {\n",
       "        vertical-align: middle;\n",
       "    }\n",
       "\n",
       "    .dataframe tbody tr th {\n",
       "        vertical-align: top;\n",
       "    }\n",
       "\n",
       "    .dataframe thead th {\n",
       "        text-align: right;\n",
       "    }\n",
       "</style>\n",
       "<table border=\"1\" class=\"dataframe\">\n",
       "  <thead>\n",
       "    <tr style=\"text-align: right;\">\n",
       "      <th></th>\n",
       "      <th>배송 시간</th>\n",
       "    </tr>\n",
       "    <tr>\n",
       "      <th>배송 형태</th>\n",
       "      <th></th>\n",
       "    </tr>\n",
       "  </thead>\n",
       "  <tbody>\n",
       "    <tr>\n",
       "      <th>1등급</th>\n",
       "      <td>[1, 2, 3, 4]</td>\n",
       "    </tr>\n",
       "    <tr>\n",
       "      <th>2등급</th>\n",
       "      <td>[4, 2, 3, 5]</td>\n",
       "    </tr>\n",
       "    <tr>\n",
       "      <th>당일</th>\n",
       "      <td>[0, 1]</td>\n",
       "    </tr>\n",
       "    <tr>\n",
       "      <th>표준 등급</th>\n",
       "      <td>[4, 6, 5, 7, 3, 8, 0]</td>\n",
       "    </tr>\n",
       "  </tbody>\n",
       "</table>\n",
       "</div>"
      ],
      "text/plain": [
       "                       배송 시간\n",
       "배송 형태                       \n",
       "1등급             [1, 2, 3, 4]\n",
       "2등급             [4, 2, 3, 5]\n",
       "당일                    [0, 1]\n",
       "표준 등급  [4, 6, 5, 7, 3, 8, 0]"
      ]
     },
     "execution_count": 96,
     "metadata": {},
     "output_type": "execute_result"
    }
   ],
   "source": [
    "df_order1.groupby('배송 형태')['배송 시간'].unique().to_frame()"
   ]
  },
  {
   "cell_type": "code",
   "execution_count": 97,
   "id": "d6629b59",
   "metadata": {
    "ExecuteTime": {
     "end_time": "2023-02-14T16:40:43.582883Z",
     "start_time": "2023-02-14T16:40:43.572877Z"
    }
   },
   "outputs": [
    {
     "data": {
      "text/plain": [
       "행 ID             object\n",
       "주문 ID            object\n",
       "주문 날짜    datetime64[ns]\n",
       "배송 날짜    datetime64[ns]\n",
       "배송 형태            object\n",
       "고객 ID            object\n",
       "고객 이름            object\n",
       "세그먼트             object\n",
       "도시               object\n",
       "시/도              object\n",
       "국가/지역            object\n",
       "지역               object\n",
       "제품 ID            object\n",
       "범주               object\n",
       "하위 범주            object\n",
       "제품 이름            object\n",
       "매출              float64\n",
       "수량                int64\n",
       "할인율             float64\n",
       "수익              float64\n",
       "배송 시간             int64\n",
       "dtype: object"
      ]
     },
     "execution_count": 97,
     "metadata": {},
     "output_type": "execute_result"
    }
   ],
   "source": [
    "df_order1.dtypes"
   ]
  },
  {
   "cell_type": "code",
   "execution_count": 99,
   "id": "905efb29",
   "metadata": {
    "ExecuteTime": {
     "end_time": "2023-02-14T16:41:14.275014Z",
     "start_time": "2023-02-14T16:41:14.260053Z"
    }
   },
   "outputs": [
    {
     "data": {
      "text/plain": [
       "배송 형태\n",
       "1등급      2.166772\n",
       "2등급      3.232273\n",
       "당일       0.037453\n",
       "표준 등급    4.954998\n",
       "Name: 배송 시간, dtype: float64"
      ]
     },
     "execution_count": 99,
     "metadata": {},
     "output_type": "execute_result"
    }
   ],
   "source": [
    "df_order1.groupby('배송 형태')['배송 시간'].mean()"
   ]
  },
  {
   "cell_type": "code",
   "execution_count": 100,
   "id": "11bd9c28",
   "metadata": {
    "ExecuteTime": {
     "end_time": "2023-02-14T16:41:49.823553Z",
     "start_time": "2023-02-14T16:41:49.812574Z"
    }
   },
   "outputs": [],
   "source": [
    "df1 = df_order1"
   ]
  },
  {
   "cell_type": "code",
   "execution_count": 101,
   "id": "0e6c3b1a",
   "metadata": {
    "ExecuteTime": {
     "end_time": "2023-02-14T16:42:03.515577Z",
     "start_time": "2023-02-14T16:42:03.499656Z"
    }
   },
   "outputs": [
    {
     "data": {
      "text/plain": [
       "array([4, 6, 0, 5, 1, 2, 3, 7, 8], dtype=int64)"
      ]
     },
     "execution_count": 101,
     "metadata": {},
     "output_type": "execute_result"
    }
   ],
   "source": [
    "df1['배송 시간'].unique()"
   ]
  },
  {
   "cell_type": "code",
   "execution_count": 103,
   "id": "9ab18178",
   "metadata": {
    "ExecuteTime": {
     "end_time": "2023-02-14T16:42:38.194789Z",
     "start_time": "2023-02-14T16:42:38.179832Z"
    }
   },
   "outputs": [
    {
     "data": {
      "text/html": [
       "<div>\n",
       "<style scoped>\n",
       "    .dataframe tbody tr th:only-of-type {\n",
       "        vertical-align: middle;\n",
       "    }\n",
       "\n",
       "    .dataframe tbody tr th {\n",
       "        vertical-align: top;\n",
       "    }\n",
       "\n",
       "    .dataframe thead th {\n",
       "        text-align: right;\n",
       "    }\n",
       "</style>\n",
       "<table border=\"1\" class=\"dataframe\">\n",
       "  <thead>\n",
       "    <tr style=\"text-align: right;\">\n",
       "      <th></th>\n",
       "      <th>배송 시간</th>\n",
       "    </tr>\n",
       "  </thead>\n",
       "  <tbody>\n",
       "    <tr>\n",
       "      <th>0</th>\n",
       "      <td>519</td>\n",
       "    </tr>\n",
       "    <tr>\n",
       "      <th>1</th>\n",
       "      <td>335</td>\n",
       "    </tr>\n",
       "    <tr>\n",
       "      <th>2</th>\n",
       "      <td>1498</td>\n",
       "    </tr>\n",
       "    <tr>\n",
       "      <th>3</th>\n",
       "      <td>1076</td>\n",
       "    </tr>\n",
       "    <tr>\n",
       "      <th>4</th>\n",
       "      <td>3190</td>\n",
       "    </tr>\n",
       "    <tr>\n",
       "      <th>5</th>\n",
       "      <td>2426</td>\n",
       "    </tr>\n",
       "    <tr>\n",
       "      <th>6</th>\n",
       "      <td>1314</td>\n",
       "    </tr>\n",
       "    <tr>\n",
       "      <th>7</th>\n",
       "      <td>573</td>\n",
       "    </tr>\n",
       "    <tr>\n",
       "      <th>8</th>\n",
       "      <td>2</td>\n",
       "    </tr>\n",
       "  </tbody>\n",
       "</table>\n",
       "</div>"
      ],
      "text/plain": [
       "   배송 시간\n",
       "0    519\n",
       "1    335\n",
       "2   1498\n",
       "3   1076\n",
       "4   3190\n",
       "5   2426\n",
       "6   1314\n",
       "7    573\n",
       "8      2"
      ]
     },
     "execution_count": 103,
     "metadata": {},
     "output_type": "execute_result"
    }
   ],
   "source": [
    "df1['배송 시간'].value_counts().to_frame().sort_index()"
   ]
  },
  {
   "cell_type": "code",
   "execution_count": 106,
   "id": "f18cad3a",
   "metadata": {
    "ExecuteTime": {
     "end_time": "2023-02-14T16:44:42.536173Z",
     "start_time": "2023-02-14T16:44:42.514231Z"
    }
   },
   "outputs": [
    {
     "data": {
      "text/html": [
       "<div>\n",
       "<style scoped>\n",
       "    .dataframe tbody tr th:only-of-type {\n",
       "        vertical-align: middle;\n",
       "    }\n",
       "\n",
       "    .dataframe tbody tr th {\n",
       "        vertical-align: top;\n",
       "    }\n",
       "\n",
       "    .dataframe thead th {\n",
       "        text-align: right;\n",
       "    }\n",
       "</style>\n",
       "<table border=\"1\" class=\"dataframe\">\n",
       "  <thead>\n",
       "    <tr style=\"text-align: right;\">\n",
       "      <th></th>\n",
       "      <th>반품</th>\n",
       "    </tr>\n",
       "  </thead>\n",
       "  <tbody>\n",
       "    <tr>\n",
       "      <th>N</th>\n",
       "      <td>10148</td>\n",
       "    </tr>\n",
       "    <tr>\n",
       "      <th>Y</th>\n",
       "      <td>785</td>\n",
       "    </tr>\n",
       "  </tbody>\n",
       "</table>\n",
       "</div>"
      ],
      "text/plain": [
       "      반품\n",
       "N  10148\n",
       "Y    785"
      ]
     },
     "execution_count": 106,
     "metadata": {},
     "output_type": "execute_result"
    }
   ],
   "source": [
    "df_join['반품'].value_counts().to_frame()"
   ]
  },
  {
   "cell_type": "code",
   "execution_count": 107,
   "id": "0c990200",
   "metadata": {
    "ExecuteTime": {
     "end_time": "2023-02-14T16:45:07.864971Z",
     "start_time": "2023-02-14T16:45:07.843037Z"
    }
   },
   "outputs": [
    {
     "data": {
      "text/plain": [
       "0.07180096954175433"
      ]
     },
     "execution_count": 107,
     "metadata": {},
     "output_type": "execute_result"
    }
   ],
   "source": [
    "785 / (10148+785)"
   ]
  },
  {
   "cell_type": "code",
   "execution_count": 111,
   "id": "782c8bc0",
   "metadata": {
    "ExecuteTime": {
     "end_time": "2023-02-14T16:53:46.816799Z",
     "start_time": "2023-02-14T16:53:46.769913Z"
    }
   },
   "outputs": [
    {
     "data": {
      "text/html": [
       "<div>\n",
       "<style scoped>\n",
       "    .dataframe tbody tr th:only-of-type {\n",
       "        vertical-align: middle;\n",
       "    }\n",
       "\n",
       "    .dataframe tbody tr th {\n",
       "        vertical-align: top;\n",
       "    }\n",
       "\n",
       "    .dataframe thead th {\n",
       "        text-align: right;\n",
       "    }\n",
       "</style>\n",
       "<table border=\"1\" class=\"dataframe\">\n",
       "  <thead>\n",
       "    <tr style=\"text-align: right;\">\n",
       "      <th></th>\n",
       "      <th>행 ID</th>\n",
       "      <th>주문 ID</th>\n",
       "      <th>주문 날짜</th>\n",
       "      <th>배송 날짜</th>\n",
       "      <th>배송 형태</th>\n",
       "      <th>고객 ID</th>\n",
       "      <th>고객 이름</th>\n",
       "      <th>세그먼트</th>\n",
       "      <th>도시</th>\n",
       "      <th>시/도</th>\n",
       "      <th>...</th>\n",
       "      <th>제품 ID</th>\n",
       "      <th>범주</th>\n",
       "      <th>하위 범주</th>\n",
       "      <th>제품 이름</th>\n",
       "      <th>매출</th>\n",
       "      <th>수량</th>\n",
       "      <th>할인율</th>\n",
       "      <th>수익</th>\n",
       "      <th>반품</th>\n",
       "      <th>배송 시간</th>\n",
       "    </tr>\n",
       "  </thead>\n",
       "  <tbody>\n",
       "    <tr>\n",
       "      <th>0</th>\n",
       "      <td>1</td>\n",
       "      <td>IN-2020-27828</td>\n",
       "      <td>2020-08-27</td>\n",
       "      <td>2020-08-31</td>\n",
       "      <td>표준 등급</td>\n",
       "      <td>VT-21700</td>\n",
       "      <td>Valerie Takahito</td>\n",
       "      <td>홈 오피스</td>\n",
       "      <td>Quanzhou</td>\n",
       "      <td>Fujian</td>\n",
       "      <td>...</td>\n",
       "      <td>OFF-PA-10000026</td>\n",
       "      <td>사무용품</td>\n",
       "      <td>용지</td>\n",
       "      <td>Eaton Cards &amp; Envelopes, 8.5 x 11</td>\n",
       "      <td>197.280</td>\n",
       "      <td>4</td>\n",
       "      <td>0.00</td>\n",
       "      <td>35.400</td>\n",
       "      <td>Y</td>\n",
       "      <td>4</td>\n",
       "    </tr>\n",
       "    <tr>\n",
       "      <th>1</th>\n",
       "      <td>2</td>\n",
       "      <td>IN-2020-27828</td>\n",
       "      <td>2020-08-27</td>\n",
       "      <td>2020-08-31</td>\n",
       "      <td>표준 등급</td>\n",
       "      <td>VT-21700</td>\n",
       "      <td>Valerie Takahito</td>\n",
       "      <td>홈 오피스</td>\n",
       "      <td>Quanzhou</td>\n",
       "      <td>Fujian</td>\n",
       "      <td>...</td>\n",
       "      <td>FUR-FU-10000944</td>\n",
       "      <td>가구</td>\n",
       "      <td>사무용 집기</td>\n",
       "      <td>Tenex Door Stop, Black</td>\n",
       "      <td>307.230</td>\n",
       "      <td>7</td>\n",
       "      <td>0.00</td>\n",
       "      <td>21.420</td>\n",
       "      <td>Y</td>\n",
       "      <td>4</td>\n",
       "    </tr>\n",
       "    <tr>\n",
       "      <th>2</th>\n",
       "      <td>3</td>\n",
       "      <td>IN-2020-27828</td>\n",
       "      <td>2020-08-27</td>\n",
       "      <td>2020-08-31</td>\n",
       "      <td>표준 등급</td>\n",
       "      <td>VT-21700</td>\n",
       "      <td>Valerie Takahito</td>\n",
       "      <td>홈 오피스</td>\n",
       "      <td>Quanzhou</td>\n",
       "      <td>Fujian</td>\n",
       "      <td>...</td>\n",
       "      <td>TEC-CO-10002526</td>\n",
       "      <td>기술</td>\n",
       "      <td>복사기</td>\n",
       "      <td>Sharp Wireless Fax, Digital</td>\n",
       "      <td>1422.240</td>\n",
       "      <td>4</td>\n",
       "      <td>0.00</td>\n",
       "      <td>526.200</td>\n",
       "      <td>Y</td>\n",
       "      <td>4</td>\n",
       "    </tr>\n",
       "    <tr>\n",
       "      <th>3</th>\n",
       "      <td>4</td>\n",
       "      <td>IN-2020-27828</td>\n",
       "      <td>2020-08-27</td>\n",
       "      <td>2020-08-31</td>\n",
       "      <td>표준 등급</td>\n",
       "      <td>VT-21700</td>\n",
       "      <td>Valerie Takahito</td>\n",
       "      <td>홈 오피스</td>\n",
       "      <td>Quanzhou</td>\n",
       "      <td>Fujian</td>\n",
       "      <td>...</td>\n",
       "      <td>TEC-AC-10002255</td>\n",
       "      <td>기술</td>\n",
       "      <td>액세서리</td>\n",
       "      <td>Memorex Keyboard, Erganomic</td>\n",
       "      <td>207.450</td>\n",
       "      <td>3</td>\n",
       "      <td>0.00</td>\n",
       "      <td>78.750</td>\n",
       "      <td>Y</td>\n",
       "      <td>4</td>\n",
       "    </tr>\n",
       "    <tr>\n",
       "      <th>4</th>\n",
       "      <td>5</td>\n",
       "      <td>IN-2021-63178</td>\n",
       "      <td>2021-06-24</td>\n",
       "      <td>2021-06-30</td>\n",
       "      <td>표준 등급</td>\n",
       "      <td>SO-20335</td>\n",
       "      <td>Sean O'Donnell</td>\n",
       "      <td>일반 소비자</td>\n",
       "      <td>Marikina</td>\n",
       "      <td>Metro Manila</td>\n",
       "      <td>...</td>\n",
       "      <td>OFF-AP-10002882</td>\n",
       "      <td>사무용품</td>\n",
       "      <td>가전 제품</td>\n",
       "      <td>KitchenAid Coffee Grinder, Silver</td>\n",
       "      <td>121.074</td>\n",
       "      <td>2</td>\n",
       "      <td>0.15</td>\n",
       "      <td>37.014</td>\n",
       "      <td>N</td>\n",
       "      <td>6</td>\n",
       "    </tr>\n",
       "  </tbody>\n",
       "</table>\n",
       "<p>5 rows × 22 columns</p>\n",
       "</div>"
      ],
      "text/plain": [
       "  행 ID          주문 ID      주문 날짜      배송 날짜  배송 형태     고객 ID  \\\n",
       "0    1  IN-2020-27828 2020-08-27 2020-08-31  표준 등급  VT-21700   \n",
       "1    2  IN-2020-27828 2020-08-27 2020-08-31  표준 등급  VT-21700   \n",
       "2    3  IN-2020-27828 2020-08-27 2020-08-31  표준 등급  VT-21700   \n",
       "3    4  IN-2020-27828 2020-08-27 2020-08-31  표준 등급  VT-21700   \n",
       "4    5  IN-2021-63178 2021-06-24 2021-06-30  표준 등급  SO-20335   \n",
       "\n",
       "              고객 이름    세그먼트        도시           시/도  ...            제품 ID  \\\n",
       "0  Valerie Takahito   홈 오피스  Quanzhou        Fujian  ...  OFF-PA-10000026   \n",
       "1  Valerie Takahito   홈 오피스  Quanzhou        Fujian  ...  FUR-FU-10000944   \n",
       "2  Valerie Takahito   홈 오피스  Quanzhou        Fujian  ...  TEC-CO-10002526   \n",
       "3  Valerie Takahito   홈 오피스  Quanzhou        Fujian  ...  TEC-AC-10002255   \n",
       "4    Sean O'Donnell  일반 소비자  Marikina  Metro Manila  ...  OFF-AP-10002882   \n",
       "\n",
       "     범주   하위 범주                              제품 이름        매출 수량   할인율  \\\n",
       "0  사무용품      용지  Eaton Cards & Envelopes, 8.5 x 11   197.280  4  0.00   \n",
       "1    가구  사무용 집기             Tenex Door Stop, Black   307.230  7  0.00   \n",
       "2    기술     복사기        Sharp Wireless Fax, Digital  1422.240  4  0.00   \n",
       "3    기술    액세서리        Memorex Keyboard, Erganomic   207.450  3  0.00   \n",
       "4  사무용품   가전 제품  KitchenAid Coffee Grinder, Silver   121.074  2  0.15   \n",
       "\n",
       "        수익  반품  배송 시간  \n",
       "0   35.400   Y      4  \n",
       "1   21.420   Y      4  \n",
       "2  526.200   Y      4  \n",
       "3   78.750   Y      4  \n",
       "4   37.014   N      6  \n",
       "\n",
       "[5 rows x 22 columns]"
      ]
     },
     "execution_count": 111,
     "metadata": {},
     "output_type": "execute_result"
    }
   ],
   "source": [
    "df2 = df_join\n",
    "df2['배송 시간'] = df2['배송 날짜'] - df2['주문 날짜']\n",
    "df2['배송 시간'] = df2['배송 시간'].dt.days\n",
    "df2.head()"
   ]
  },
  {
   "cell_type": "code",
   "execution_count": 112,
   "id": "523f779b",
   "metadata": {
    "ExecuteTime": {
     "end_time": "2023-02-14T16:53:59.656088Z",
     "start_time": "2023-02-14T16:53:59.642122Z"
    }
   },
   "outputs": [
    {
     "data": {
      "text/plain": [
       "Index(['행 ID', '주문 ID', '주문 날짜', '배송 날짜', '배송 형태', '고객 ID', '고객 이름', '세그먼트',\n",
       "       '도시', '시/도', '국가/지역', '지역', '제품 ID', '범주', '하위 범주', '제품 이름', '매출', '수량',\n",
       "       '할인율', '수익', '반품', '배송 시간'],\n",
       "      dtype='object')"
      ]
     },
     "execution_count": 112,
     "metadata": {},
     "output_type": "execute_result"
    }
   ],
   "source": [
    "df2.columns"
   ]
  },
  {
   "cell_type": "code",
   "execution_count": 116,
   "id": "a6fde7d8",
   "metadata": {
    "ExecuteTime": {
     "end_time": "2023-02-14T16:55:27.769439Z",
     "start_time": "2023-02-14T16:55:27.731539Z"
    }
   },
   "outputs": [
    {
     "data": {
      "text/html": [
       "<div>\n",
       "<style scoped>\n",
       "    .dataframe tbody tr th:only-of-type {\n",
       "        vertical-align: middle;\n",
       "    }\n",
       "\n",
       "    .dataframe tbody tr th {\n",
       "        vertical-align: top;\n",
       "    }\n",
       "\n",
       "    .dataframe thead th {\n",
       "        text-align: right;\n",
       "    }\n",
       "</style>\n",
       "<table border=\"1\" class=\"dataframe\">\n",
       "  <thead>\n",
       "    <tr style=\"text-align: right;\">\n",
       "      <th></th>\n",
       "      <th>행 ID</th>\n",
       "      <th>주문 ID</th>\n",
       "      <th>주문 날짜</th>\n",
       "      <th>배송 날짜</th>\n",
       "      <th>배송 시간</th>\n",
       "      <th>반품</th>\n",
       "      <th>배송 형태</th>\n",
       "      <th>고객 ID</th>\n",
       "      <th>고객 이름</th>\n",
       "      <th>세그먼트</th>\n",
       "      <th>...</th>\n",
       "      <th>국가/지역</th>\n",
       "      <th>지역</th>\n",
       "      <th>제품 ID</th>\n",
       "      <th>범주</th>\n",
       "      <th>하위 범주</th>\n",
       "      <th>제품 이름</th>\n",
       "      <th>매출</th>\n",
       "      <th>수량</th>\n",
       "      <th>할인율</th>\n",
       "      <th>수익</th>\n",
       "    </tr>\n",
       "  </thead>\n",
       "  <tbody>\n",
       "    <tr>\n",
       "      <th>0</th>\n",
       "      <td>1</td>\n",
       "      <td>IN-2020-27828</td>\n",
       "      <td>2020-08-27</td>\n",
       "      <td>2020-08-31</td>\n",
       "      <td>4</td>\n",
       "      <td>Y</td>\n",
       "      <td>표준 등급</td>\n",
       "      <td>VT-21700</td>\n",
       "      <td>Valerie Takahito</td>\n",
       "      <td>홈 오피스</td>\n",
       "      <td>...</td>\n",
       "      <td>China</td>\n",
       "      <td>북아시아</td>\n",
       "      <td>OFF-PA-10000026</td>\n",
       "      <td>사무용품</td>\n",
       "      <td>용지</td>\n",
       "      <td>Eaton Cards &amp; Envelopes, 8.5 x 11</td>\n",
       "      <td>197.280</td>\n",
       "      <td>4</td>\n",
       "      <td>0.00</td>\n",
       "      <td>35.400</td>\n",
       "    </tr>\n",
       "    <tr>\n",
       "      <th>1</th>\n",
       "      <td>2</td>\n",
       "      <td>IN-2020-27828</td>\n",
       "      <td>2020-08-27</td>\n",
       "      <td>2020-08-31</td>\n",
       "      <td>4</td>\n",
       "      <td>Y</td>\n",
       "      <td>표준 등급</td>\n",
       "      <td>VT-21700</td>\n",
       "      <td>Valerie Takahito</td>\n",
       "      <td>홈 오피스</td>\n",
       "      <td>...</td>\n",
       "      <td>China</td>\n",
       "      <td>북아시아</td>\n",
       "      <td>FUR-FU-10000944</td>\n",
       "      <td>가구</td>\n",
       "      <td>사무용 집기</td>\n",
       "      <td>Tenex Door Stop, Black</td>\n",
       "      <td>307.230</td>\n",
       "      <td>7</td>\n",
       "      <td>0.00</td>\n",
       "      <td>21.420</td>\n",
       "    </tr>\n",
       "    <tr>\n",
       "      <th>2</th>\n",
       "      <td>3</td>\n",
       "      <td>IN-2020-27828</td>\n",
       "      <td>2020-08-27</td>\n",
       "      <td>2020-08-31</td>\n",
       "      <td>4</td>\n",
       "      <td>Y</td>\n",
       "      <td>표준 등급</td>\n",
       "      <td>VT-21700</td>\n",
       "      <td>Valerie Takahito</td>\n",
       "      <td>홈 오피스</td>\n",
       "      <td>...</td>\n",
       "      <td>China</td>\n",
       "      <td>북아시아</td>\n",
       "      <td>TEC-CO-10002526</td>\n",
       "      <td>기술</td>\n",
       "      <td>복사기</td>\n",
       "      <td>Sharp Wireless Fax, Digital</td>\n",
       "      <td>1422.240</td>\n",
       "      <td>4</td>\n",
       "      <td>0.00</td>\n",
       "      <td>526.200</td>\n",
       "    </tr>\n",
       "    <tr>\n",
       "      <th>3</th>\n",
       "      <td>4</td>\n",
       "      <td>IN-2020-27828</td>\n",
       "      <td>2020-08-27</td>\n",
       "      <td>2020-08-31</td>\n",
       "      <td>4</td>\n",
       "      <td>Y</td>\n",
       "      <td>표준 등급</td>\n",
       "      <td>VT-21700</td>\n",
       "      <td>Valerie Takahito</td>\n",
       "      <td>홈 오피스</td>\n",
       "      <td>...</td>\n",
       "      <td>China</td>\n",
       "      <td>북아시아</td>\n",
       "      <td>TEC-AC-10002255</td>\n",
       "      <td>기술</td>\n",
       "      <td>액세서리</td>\n",
       "      <td>Memorex Keyboard, Erganomic</td>\n",
       "      <td>207.450</td>\n",
       "      <td>3</td>\n",
       "      <td>0.00</td>\n",
       "      <td>78.750</td>\n",
       "    </tr>\n",
       "    <tr>\n",
       "      <th>4</th>\n",
       "      <td>5</td>\n",
       "      <td>IN-2021-63178</td>\n",
       "      <td>2021-06-24</td>\n",
       "      <td>2021-06-30</td>\n",
       "      <td>6</td>\n",
       "      <td>N</td>\n",
       "      <td>표준 등급</td>\n",
       "      <td>SO-20335</td>\n",
       "      <td>Sean O'Donnell</td>\n",
       "      <td>일반 소비자</td>\n",
       "      <td>...</td>\n",
       "      <td>Philippines</td>\n",
       "      <td>동남아시아</td>\n",
       "      <td>OFF-AP-10002882</td>\n",
       "      <td>사무용품</td>\n",
       "      <td>가전 제품</td>\n",
       "      <td>KitchenAid Coffee Grinder, Silver</td>\n",
       "      <td>121.074</td>\n",
       "      <td>2</td>\n",
       "      <td>0.15</td>\n",
       "      <td>37.014</td>\n",
       "    </tr>\n",
       "  </tbody>\n",
       "</table>\n",
       "<p>5 rows × 22 columns</p>\n",
       "</div>"
      ],
      "text/plain": [
       "  행 ID          주문 ID      주문 날짜      배송 날짜  배송 시간 반품  배송 형태     고객 ID  \\\n",
       "0    1  IN-2020-27828 2020-08-27 2020-08-31      4  Y  표준 등급  VT-21700   \n",
       "1    2  IN-2020-27828 2020-08-27 2020-08-31      4  Y  표준 등급  VT-21700   \n",
       "2    3  IN-2020-27828 2020-08-27 2020-08-31      4  Y  표준 등급  VT-21700   \n",
       "3    4  IN-2020-27828 2020-08-27 2020-08-31      4  Y  표준 등급  VT-21700   \n",
       "4    5  IN-2021-63178 2021-06-24 2021-06-30      6  N  표준 등급  SO-20335   \n",
       "\n",
       "              고객 이름    세그먼트  ...        국가/지역     지역            제품 ID    범주  \\\n",
       "0  Valerie Takahito   홈 오피스  ...        China   북아시아  OFF-PA-10000026  사무용품   \n",
       "1  Valerie Takahito   홈 오피스  ...        China   북아시아  FUR-FU-10000944    가구   \n",
       "2  Valerie Takahito   홈 오피스  ...        China   북아시아  TEC-CO-10002526    기술   \n",
       "3  Valerie Takahito   홈 오피스  ...        China   북아시아  TEC-AC-10002255    기술   \n",
       "4    Sean O'Donnell  일반 소비자  ...  Philippines  동남아시아  OFF-AP-10002882  사무용품   \n",
       "\n",
       "    하위 범주                              제품 이름        매출 수량   할인율       수익  \n",
       "0      용지  Eaton Cards & Envelopes, 8.5 x 11   197.280  4  0.00   35.400  \n",
       "1  사무용 집기             Tenex Door Stop, Black   307.230  7  0.00   21.420  \n",
       "2     복사기        Sharp Wireless Fax, Digital  1422.240  4  0.00  526.200  \n",
       "3    액세서리        Memorex Keyboard, Erganomic   207.450  3  0.00   78.750  \n",
       "4   가전 제품  KitchenAid Coffee Grinder, Silver   121.074  2  0.15   37.014  \n",
       "\n",
       "[5 rows x 22 columns]"
      ]
     },
     "execution_count": 116,
     "metadata": {},
     "output_type": "execute_result"
    }
   ],
   "source": [
    "df3 = df2[['행 ID', '주문 ID', '주문 날짜', '배송 날짜', '배송 시간', '반품', '배송 형태', '고객 ID', '고객 이름', '세그먼트',\n",
    "       '도시', '시/도', '국가/지역', '지역', '제품 ID', '범주', '하위 범주', '제품 이름', '매출', '수량',\n",
    "       '할인율', '수익']]\n",
    "\n",
    "df3.head()"
   ]
  },
  {
   "cell_type": "code",
   "execution_count": 127,
   "id": "f249b9c8",
   "metadata": {
    "ExecuteTime": {
     "end_time": "2023-02-14T17:02:01.204733Z",
     "start_time": "2023-02-14T17:02:01.177806Z"
    }
   },
   "outputs": [
    {
     "data": {
      "text/html": [
       "<div>\n",
       "<style scoped>\n",
       "    .dataframe tbody tr th:only-of-type {\n",
       "        vertical-align: middle;\n",
       "    }\n",
       "\n",
       "    .dataframe tbody tr th {\n",
       "        vertical-align: top;\n",
       "    }\n",
       "\n",
       "    .dataframe thead th {\n",
       "        text-align: right;\n",
       "    }\n",
       "</style>\n",
       "<table border=\"1\" class=\"dataframe\">\n",
       "  <thead>\n",
       "    <tr style=\"text-align: right;\">\n",
       "      <th></th>\n",
       "      <th></th>\n",
       "      <th>반품</th>\n",
       "    </tr>\n",
       "    <tr>\n",
       "      <th>배송 시간</th>\n",
       "      <th>반품</th>\n",
       "      <th></th>\n",
       "    </tr>\n",
       "  </thead>\n",
       "  <tbody>\n",
       "    <tr>\n",
       "      <th rowspan=\"2\" valign=\"top\">0</th>\n",
       "      <th>N</th>\n",
       "      <td>488</td>\n",
       "    </tr>\n",
       "    <tr>\n",
       "      <th>Y</th>\n",
       "      <td>31</td>\n",
       "    </tr>\n",
       "    <tr>\n",
       "      <th rowspan=\"2\" valign=\"top\">1</th>\n",
       "      <th>N</th>\n",
       "      <td>311</td>\n",
       "    </tr>\n",
       "    <tr>\n",
       "      <th>Y</th>\n",
       "      <td>24</td>\n",
       "    </tr>\n",
       "    <tr>\n",
       "      <th rowspan=\"2\" valign=\"top\">2</th>\n",
       "      <th>N</th>\n",
       "      <td>1358</td>\n",
       "    </tr>\n",
       "    <tr>\n",
       "      <th>Y</th>\n",
       "      <td>140</td>\n",
       "    </tr>\n",
       "    <tr>\n",
       "      <th rowspan=\"2\" valign=\"top\">3</th>\n",
       "      <th>N</th>\n",
       "      <td>998</td>\n",
       "    </tr>\n",
       "    <tr>\n",
       "      <th>Y</th>\n",
       "      <td>78</td>\n",
       "    </tr>\n",
       "    <tr>\n",
       "      <th rowspan=\"2\" valign=\"top\">4</th>\n",
       "      <th>N</th>\n",
       "      <td>2979</td>\n",
       "    </tr>\n",
       "    <tr>\n",
       "      <th>Y</th>\n",
       "      <td>211</td>\n",
       "    </tr>\n",
       "    <tr>\n",
       "      <th rowspan=\"2\" valign=\"top\">5</th>\n",
       "      <th>N</th>\n",
       "      <td>2261</td>\n",
       "    </tr>\n",
       "    <tr>\n",
       "      <th>Y</th>\n",
       "      <td>165</td>\n",
       "    </tr>\n",
       "    <tr>\n",
       "      <th rowspan=\"2\" valign=\"top\">6</th>\n",
       "      <th>N</th>\n",
       "      <td>1237</td>\n",
       "    </tr>\n",
       "    <tr>\n",
       "      <th>Y</th>\n",
       "      <td>77</td>\n",
       "    </tr>\n",
       "    <tr>\n",
       "      <th rowspan=\"2\" valign=\"top\">7</th>\n",
       "      <th>N</th>\n",
       "      <td>514</td>\n",
       "    </tr>\n",
       "    <tr>\n",
       "      <th>Y</th>\n",
       "      <td>59</td>\n",
       "    </tr>\n",
       "    <tr>\n",
       "      <th>8</th>\n",
       "      <th>N</th>\n",
       "      <td>2</td>\n",
       "    </tr>\n",
       "  </tbody>\n",
       "</table>\n",
       "</div>"
      ],
      "text/plain": [
       "            반품\n",
       "배송 시간 반품      \n",
       "0     N    488\n",
       "      Y     31\n",
       "1     N    311\n",
       "      Y     24\n",
       "2     N   1358\n",
       "      Y    140\n",
       "3     N    998\n",
       "      Y     78\n",
       "4     N   2979\n",
       "      Y    211\n",
       "5     N   2261\n",
       "      Y    165\n",
       "6     N   1237\n",
       "      Y     77\n",
       "7     N    514\n",
       "      Y     59\n",
       "8     N      2"
      ]
     },
     "execution_count": 127,
     "metadata": {},
     "output_type": "execute_result"
    }
   ],
   "source": [
    "df3.groupby(['배송 시간', '반품'])['반품'].count().to_frame()"
   ]
  },
  {
   "cell_type": "code",
   "execution_count": 129,
   "id": "ff95187b",
   "metadata": {
    "ExecuteTime": {
     "end_time": "2023-02-14T17:03:26.002003Z",
     "start_time": "2023-02-14T17:03:25.977071Z"
    }
   },
   "outputs": [
    {
     "data": {
      "text/html": [
       "<div>\n",
       "<style scoped>\n",
       "    .dataframe tbody tr th:only-of-type {\n",
       "        vertical-align: middle;\n",
       "    }\n",
       "\n",
       "    .dataframe tbody tr th {\n",
       "        vertical-align: top;\n",
       "    }\n",
       "\n",
       "    .dataframe thead th {\n",
       "        text-align: right;\n",
       "    }\n",
       "</style>\n",
       "<table border=\"1\" class=\"dataframe\">\n",
       "  <thead>\n",
       "    <tr style=\"text-align: right;\">\n",
       "      <th></th>\n",
       "      <th></th>\n",
       "      <th>반품</th>\n",
       "    </tr>\n",
       "    <tr>\n",
       "      <th>배송 형태</th>\n",
       "      <th>반품</th>\n",
       "      <th></th>\n",
       "    </tr>\n",
       "  </thead>\n",
       "  <tbody>\n",
       "    <tr>\n",
       "      <th rowspan=\"2\" valign=\"top\">1등급</th>\n",
       "      <th>N</th>\n",
       "      <td>1443</td>\n",
       "    </tr>\n",
       "    <tr>\n",
       "      <th>Y</th>\n",
       "      <td>134</td>\n",
       "    </tr>\n",
       "    <tr>\n",
       "      <th rowspan=\"2\" valign=\"top\">2등급</th>\n",
       "      <th>N</th>\n",
       "      <td>2020</td>\n",
       "    </tr>\n",
       "    <tr>\n",
       "      <th>Y</th>\n",
       "      <td>180</td>\n",
       "    </tr>\n",
       "    <tr>\n",
       "      <th rowspan=\"2\" valign=\"top\">당일</th>\n",
       "      <th>N</th>\n",
       "      <td>502</td>\n",
       "    </tr>\n",
       "    <tr>\n",
       "      <th>Y</th>\n",
       "      <td>32</td>\n",
       "    </tr>\n",
       "    <tr>\n",
       "      <th rowspan=\"2\" valign=\"top\">표준 등급</th>\n",
       "      <th>N</th>\n",
       "      <td>6183</td>\n",
       "    </tr>\n",
       "    <tr>\n",
       "      <th>Y</th>\n",
       "      <td>439</td>\n",
       "    </tr>\n",
       "  </tbody>\n",
       "</table>\n",
       "</div>"
      ],
      "text/plain": [
       "            반품\n",
       "배송 형태 반품      \n",
       "1등급   N   1443\n",
       "      Y    134\n",
       "2등급   N   2020\n",
       "      Y    180\n",
       "당일    N    502\n",
       "      Y     32\n",
       "표준 등급 N   6183\n",
       "      Y    439"
      ]
     },
     "execution_count": 129,
     "metadata": {},
     "output_type": "execute_result"
    }
   ],
   "source": [
    "df3.groupby(['배송 형태', '반품'])['반품'].count().to_frame()"
   ]
  },
  {
   "cell_type": "code",
   "execution_count": 131,
   "id": "8946e931",
   "metadata": {
    "ExecuteTime": {
     "end_time": "2023-02-14T17:04:16.793349Z",
     "start_time": "2023-02-14T17:04:16.767419Z"
    }
   },
   "outputs": [
    {
     "data": {
      "text/html": [
       "<div>\n",
       "<style scoped>\n",
       "    .dataframe tbody tr th:only-of-type {\n",
       "        vertical-align: middle;\n",
       "    }\n",
       "\n",
       "    .dataframe tbody tr th {\n",
       "        vertical-align: top;\n",
       "    }\n",
       "\n",
       "    .dataframe thead th {\n",
       "        text-align: right;\n",
       "    }\n",
       "</style>\n",
       "<table border=\"1\" class=\"dataframe\">\n",
       "  <thead>\n",
       "    <tr style=\"text-align: right;\">\n",
       "      <th></th>\n",
       "      <th>배송 시간</th>\n",
       "    </tr>\n",
       "    <tr>\n",
       "      <th>배송 형태</th>\n",
       "      <th></th>\n",
       "    </tr>\n",
       "  </thead>\n",
       "  <tbody>\n",
       "    <tr>\n",
       "      <th>1등급</th>\n",
       "      <td>2.166772</td>\n",
       "    </tr>\n",
       "    <tr>\n",
       "      <th>2등급</th>\n",
       "      <td>3.232273</td>\n",
       "    </tr>\n",
       "    <tr>\n",
       "      <th>당일</th>\n",
       "      <td>0.037453</td>\n",
       "    </tr>\n",
       "    <tr>\n",
       "      <th>표준 등급</th>\n",
       "      <td>4.954998</td>\n",
       "    </tr>\n",
       "  </tbody>\n",
       "</table>\n",
       "</div>"
      ],
      "text/plain": [
       "          배송 시간\n",
       "배송 형태          \n",
       "1등급    2.166772\n",
       "2등급    3.232273\n",
       "당일     0.037453\n",
       "표준 등급  4.954998"
      ]
     },
     "execution_count": 131,
     "metadata": {},
     "output_type": "execute_result"
    }
   ],
   "source": [
    "df3.groupby(['배송 형태'])['배송 시간'].mean().to_frame()"
   ]
  },
  {
   "cell_type": "code",
   "execution_count": 133,
   "id": "c22013c4",
   "metadata": {
    "ExecuteTime": {
     "end_time": "2023-02-14T17:12:24.449420Z",
     "start_time": "2023-02-14T17:12:24.432472Z"
    }
   },
   "outputs": [
    {
     "data": {
      "text/plain": [
       "5397"
      ]
     },
     "execution_count": 133,
     "metadata": {},
     "output_type": "execute_result"
    }
   ],
   "source": [
    "df3['주문 ID'].nunique()"
   ]
  },
  {
   "cell_type": "code",
   "execution_count": 134,
   "id": "41ac6e13",
   "metadata": {
    "ExecuteTime": {
     "end_time": "2023-02-14T17:15:22.684176Z",
     "start_time": "2023-02-14T17:15:22.672183Z"
    }
   },
   "outputs": [
    {
     "data": {
      "text/plain": [
       "795"
      ]
     },
     "execution_count": 134,
     "metadata": {},
     "output_type": "execute_result"
    }
   ],
   "source": [
    "df3['고객 ID'].nunique()"
   ]
  },
  {
   "cell_type": "code",
   "execution_count": 137,
   "id": "9aaa383e",
   "metadata": {
    "ExecuteTime": {
     "end_time": "2023-02-14T17:17:24.204896Z",
     "start_time": "2023-02-14T17:17:24.177968Z"
    }
   },
   "outputs": [
    {
     "data": {
      "text/html": [
       "<div>\n",
       "<style scoped>\n",
       "    .dataframe tbody tr th:only-of-type {\n",
       "        vertical-align: middle;\n",
       "    }\n",
       "\n",
       "    .dataframe tbody tr th {\n",
       "        vertical-align: top;\n",
       "    }\n",
       "\n",
       "    .dataframe thead th {\n",
       "        text-align: right;\n",
       "    }\n",
       "</style>\n",
       "<table border=\"1\" class=\"dataframe\">\n",
       "  <thead>\n",
       "    <tr style=\"text-align: right;\">\n",
       "      <th></th>\n",
       "      <th></th>\n",
       "      <th>반품</th>\n",
       "    </tr>\n",
       "    <tr>\n",
       "      <th>세그먼트</th>\n",
       "      <th>반품</th>\n",
       "      <th></th>\n",
       "    </tr>\n",
       "  </thead>\n",
       "  <tbody>\n",
       "    <tr>\n",
       "      <th rowspan=\"2\" valign=\"top\">기업</th>\n",
       "      <th>N</th>\n",
       "      <td>3004</td>\n",
       "    </tr>\n",
       "    <tr>\n",
       "      <th>Y</th>\n",
       "      <td>260</td>\n",
       "    </tr>\n",
       "    <tr>\n",
       "      <th rowspan=\"2\" valign=\"top\">일반 소비자</th>\n",
       "      <th>N</th>\n",
       "      <td>5262</td>\n",
       "    </tr>\n",
       "    <tr>\n",
       "      <th>Y</th>\n",
       "      <td>396</td>\n",
       "    </tr>\n",
       "    <tr>\n",
       "      <th rowspan=\"2\" valign=\"top\">홈 오피스</th>\n",
       "      <th>N</th>\n",
       "      <td>1882</td>\n",
       "    </tr>\n",
       "    <tr>\n",
       "      <th>Y</th>\n",
       "      <td>129</td>\n",
       "    </tr>\n",
       "  </tbody>\n",
       "</table>\n",
       "</div>"
      ],
      "text/plain": [
       "             반품\n",
       "세그먼트   반품      \n",
       "기업     N   3004\n",
       "       Y    260\n",
       "일반 소비자 N   5262\n",
       "       Y    396\n",
       "홈 오피스  N   1882\n",
       "       Y    129"
      ]
     },
     "execution_count": 137,
     "metadata": {},
     "output_type": "execute_result"
    }
   ],
   "source": [
    "df3.groupby(['세그먼트', '반품'])['반품'].count().to_frame()"
   ]
  },
  {
   "cell_type": "code",
   "execution_count": 139,
   "id": "848c30dd",
   "metadata": {
    "ExecuteTime": {
     "end_time": "2023-02-14T17:18:09.152200Z",
     "start_time": "2023-02-14T17:18:09.127231Z"
    }
   },
   "outputs": [
    {
     "data": {
      "text/html": [
       "<div>\n",
       "<style scoped>\n",
       "    .dataframe tbody tr th:only-of-type {\n",
       "        vertical-align: middle;\n",
       "    }\n",
       "\n",
       "    .dataframe tbody tr th {\n",
       "        vertical-align: top;\n",
       "    }\n",
       "\n",
       "    .dataframe thead th {\n",
       "        text-align: right;\n",
       "    }\n",
       "</style>\n",
       "<table border=\"1\" class=\"dataframe\">\n",
       "  <thead>\n",
       "    <tr style=\"text-align: right;\">\n",
       "      <th></th>\n",
       "      <th></th>\n",
       "      <th>매출</th>\n",
       "      <th>수익</th>\n",
       "    </tr>\n",
       "    <tr>\n",
       "      <th>세그먼트</th>\n",
       "      <th>반품</th>\n",
       "      <th></th>\n",
       "      <th></th>\n",
       "    </tr>\n",
       "  </thead>\n",
       "  <tbody>\n",
       "    <tr>\n",
       "      <th rowspan=\"2\" valign=\"top\">기업</th>\n",
       "      <th>N</th>\n",
       "      <td>9.876187e+05</td>\n",
       "      <td>112725.7192</td>\n",
       "    </tr>\n",
       "    <tr>\n",
       "      <th>Y</th>\n",
       "      <td>8.404319e+04</td>\n",
       "      <td>16262.9256</td>\n",
       "    </tr>\n",
       "    <tr>\n",
       "      <th rowspan=\"2\" valign=\"top\">일반 소비자</th>\n",
       "      <th>N</th>\n",
       "      <td>1.676620e+06</td>\n",
       "      <td>200469.4881</td>\n",
       "    </tr>\n",
       "    <tr>\n",
       "      <th>Y</th>\n",
       "      <td>1.293260e+05</td>\n",
       "      <td>19645.5123</td>\n",
       "    </tr>\n",
       "    <tr>\n",
       "      <th rowspan=\"2\" valign=\"top\">홈 오피스</th>\n",
       "      <th>N</th>\n",
       "      <td>6.367576e+05</td>\n",
       "      <td>72203.8920</td>\n",
       "    </tr>\n",
       "    <tr>\n",
       "      <th>Y</th>\n",
       "      <td>5.207487e+04</td>\n",
       "      <td>10746.8418</td>\n",
       "    </tr>\n",
       "  </tbody>\n",
       "</table>\n",
       "</div>"
      ],
      "text/plain": [
       "                     매출           수익\n",
       "세그먼트   반품                           \n",
       "기업     N   9.876187e+05  112725.7192\n",
       "       Y   8.404319e+04   16262.9256\n",
       "일반 소비자 N   1.676620e+06  200469.4881\n",
       "       Y   1.293260e+05   19645.5123\n",
       "홈 오피스  N   6.367576e+05   72203.8920\n",
       "       Y   5.207487e+04   10746.8418"
      ]
     },
     "execution_count": 139,
     "metadata": {},
     "output_type": "execute_result"
    }
   ],
   "source": [
    "df3.groupby(['세그먼트', '반품'])['매출', '수익'].sum()"
   ]
  },
  {
   "cell_type": "code",
   "execution_count": 140,
   "id": "3e2fdb72",
   "metadata": {
    "ExecuteTime": {
     "end_time": "2023-02-14T17:19:33.636586Z",
     "start_time": "2023-02-14T17:19:33.611653Z"
    }
   },
   "outputs": [
    {
     "data": {
      "text/html": [
       "<div>\n",
       "<style scoped>\n",
       "    .dataframe tbody tr th:only-of-type {\n",
       "        vertical-align: middle;\n",
       "    }\n",
       "\n",
       "    .dataframe tbody tr th {\n",
       "        vertical-align: top;\n",
       "    }\n",
       "\n",
       "    .dataframe thead th {\n",
       "        text-align: right;\n",
       "    }\n",
       "</style>\n",
       "<table border=\"1\" class=\"dataframe\">\n",
       "  <thead>\n",
       "    <tr style=\"text-align: right;\">\n",
       "      <th></th>\n",
       "      <th></th>\n",
       "      <th>매출</th>\n",
       "      <th>수익</th>\n",
       "    </tr>\n",
       "    <tr>\n",
       "      <th>배송 형태</th>\n",
       "      <th>반품</th>\n",
       "      <th></th>\n",
       "      <th></th>\n",
       "    </tr>\n",
       "  </thead>\n",
       "  <tbody>\n",
       "    <tr>\n",
       "      <th rowspan=\"2\" valign=\"top\">1등급</th>\n",
       "      <th>N</th>\n",
       "      <td>4.599474e+05</td>\n",
       "      <td>52243.1367</td>\n",
       "    </tr>\n",
       "    <tr>\n",
       "      <th>Y</th>\n",
       "      <td>3.889868e+04</td>\n",
       "      <td>5972.4225</td>\n",
       "    </tr>\n",
       "    <tr>\n",
       "      <th rowspan=\"2\" valign=\"top\">2등급</th>\n",
       "      <th>N</th>\n",
       "      <td>6.201799e+05</td>\n",
       "      <td>68803.3582</td>\n",
       "    </tr>\n",
       "    <tr>\n",
       "      <th>Y</th>\n",
       "      <td>6.074592e+04</td>\n",
       "      <td>7871.4018</td>\n",
       "    </tr>\n",
       "    <tr>\n",
       "      <th rowspan=\"2\" valign=\"top\">당일</th>\n",
       "      <th>N</th>\n",
       "      <td>1.480440e+05</td>\n",
       "      <td>15208.2840</td>\n",
       "    </tr>\n",
       "    <tr>\n",
       "      <th>Y</th>\n",
       "      <td>1.400528e+04</td>\n",
       "      <td>3381.0798</td>\n",
       "    </tr>\n",
       "    <tr>\n",
       "      <th rowspan=\"2\" valign=\"top\">표준 등급</th>\n",
       "      <th>N</th>\n",
       "      <td>2.072825e+06</td>\n",
       "      <td>249144.3204</td>\n",
       "    </tr>\n",
       "    <tr>\n",
       "      <th>Y</th>\n",
       "      <td>1.517942e+05</td>\n",
       "      <td>29430.3756</td>\n",
       "    </tr>\n",
       "  </tbody>\n",
       "</table>\n",
       "</div>"
      ],
      "text/plain": [
       "                    매출           수익\n",
       "배송 형태 반품                           \n",
       "1등급   N   4.599474e+05   52243.1367\n",
       "      Y   3.889868e+04    5972.4225\n",
       "2등급   N   6.201799e+05   68803.3582\n",
       "      Y   6.074592e+04    7871.4018\n",
       "당일    N   1.480440e+05   15208.2840\n",
       "      Y   1.400528e+04    3381.0798\n",
       "표준 등급 N   2.072825e+06  249144.3204\n",
       "      Y   1.517942e+05   29430.3756"
      ]
     },
     "execution_count": 140,
     "metadata": {},
     "output_type": "execute_result"
    }
   ],
   "source": [
    "df3.groupby(['배송 형태', '반품'])['매출', '수익'].sum()"
   ]
  },
  {
   "cell_type": "code",
   "execution_count": 141,
   "id": "da8139f6",
   "metadata": {
    "ExecuteTime": {
     "end_time": "2023-02-14T17:20:36.803748Z",
     "start_time": "2023-02-14T17:20:36.783767Z"
    }
   },
   "outputs": [
    {
     "data": {
      "text/plain": [
       "459947.4"
      ]
     },
     "execution_count": 141,
     "metadata": {},
     "output_type": "execute_result"
    }
   ],
   "source": [
    "4.599474e+05"
   ]
  },
  {
   "cell_type": "code",
   "execution_count": 142,
   "id": "c222cbf7",
   "metadata": {
    "ExecuteTime": {
     "end_time": "2023-02-14T17:26:59.567757Z",
     "start_time": "2023-02-14T17:26:59.535805Z"
    }
   },
   "outputs": [
    {
     "data": {
      "text/html": [
       "<div>\n",
       "<style scoped>\n",
       "    .dataframe tbody tr th:only-of-type {\n",
       "        vertical-align: middle;\n",
       "    }\n",
       "\n",
       "    .dataframe tbody tr th {\n",
       "        vertical-align: top;\n",
       "    }\n",
       "\n",
       "    .dataframe thead th {\n",
       "        text-align: right;\n",
       "    }\n",
       "</style>\n",
       "<table border=\"1\" class=\"dataframe\">\n",
       "  <thead>\n",
       "    <tr style=\"text-align: right;\">\n",
       "      <th></th>\n",
       "      <th>매출</th>\n",
       "      <th>수익</th>\n",
       "    </tr>\n",
       "    <tr>\n",
       "      <th>반품</th>\n",
       "      <th></th>\n",
       "      <th></th>\n",
       "    </tr>\n",
       "  </thead>\n",
       "  <tbody>\n",
       "    <tr>\n",
       "      <th>N</th>\n",
       "      <td>3.300996e+06</td>\n",
       "      <td>385399.0993</td>\n",
       "    </tr>\n",
       "    <tr>\n",
       "      <th>Y</th>\n",
       "      <td>2.654441e+05</td>\n",
       "      <td>46655.2797</td>\n",
       "    </tr>\n",
       "  </tbody>\n",
       "</table>\n",
       "</div>"
      ],
      "text/plain": [
       "              매출           수익\n",
       "반품                           \n",
       "N   3.300996e+06  385399.0993\n",
       "Y   2.654441e+05   46655.2797"
      ]
     },
     "execution_count": 142,
     "metadata": {},
     "output_type": "execute_result"
    }
   ],
   "source": [
    "df3.groupby('반품')['매출', '수익'].sum()"
   ]
  },
  {
   "cell_type": "code",
   "execution_count": 146,
   "id": "524b113c",
   "metadata": {
    "ExecuteTime": {
     "end_time": "2023-02-14T17:27:42.782841Z",
     "start_time": "2023-02-14T17:27:42.765889Z"
    }
   },
   "outputs": [
    {
     "data": {
      "text/plain": [
       "0.07442830737574983"
      ]
     },
     "execution_count": 146,
     "metadata": {},
     "output_type": "execute_result"
    }
   ],
   "source": [
    "2.654441e+05/(3.300996e+06 + 2.654441e+05)"
   ]
  },
  {
   "cell_type": "code",
   "execution_count": 147,
   "id": "621bee7e",
   "metadata": {
    "ExecuteTime": {
     "end_time": "2023-02-14T17:28:05.038898Z",
     "start_time": "2023-02-14T17:28:05.016964Z"
    }
   },
   "outputs": [
    {
     "data": {
      "text/plain": [
       "0.10798473980980065"
      ]
     },
     "execution_count": 147,
     "metadata": {},
     "output_type": "execute_result"
    }
   ],
   "source": [
    "46655.2797/(385399.0993 + 46655.2797)"
   ]
  }
 ],
 "metadata": {
  "hide_input": false,
  "kernelspec": {
   "display_name": "Python 3 (ipykernel)",
   "language": "python",
   "name": "python3"
  },
  "language_info": {
   "codemirror_mode": {
    "name": "ipython",
    "version": 3
   },
   "file_extension": ".py",
   "mimetype": "text/x-python",
   "name": "python",
   "nbconvert_exporter": "python",
   "pygments_lexer": "ipython3",
   "version": "3.9.13"
  },
  "toc": {
   "base_numbering": 1,
   "nav_menu": {},
   "number_sections": false,
   "sideBar": true,
   "skip_h1_title": false,
   "title_cell": "Table of Contents",
   "title_sidebar": "Contents",
   "toc_cell": false,
   "toc_position": {
    "height": "calc(100% - 180px)",
    "left": "10px",
    "top": "150px",
    "width": "208px"
   },
   "toc_section_display": true,
   "toc_window_display": true
  }
 },
 "nbformat": 4,
 "nbformat_minor": 5
}
