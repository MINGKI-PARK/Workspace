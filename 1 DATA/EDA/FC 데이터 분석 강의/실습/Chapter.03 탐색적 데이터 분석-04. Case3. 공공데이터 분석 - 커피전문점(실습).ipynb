{
 "cells": [
  {
   "cell_type": "markdown",
   "metadata": {
    "id": "OivzYmU4lpJ2"
   },
   "source": [
    "## 공공데이터를 이용한 카페 상권분석(2022 Ver.)\n",
    "\n",
    "\n",
    "**들어가며**\n",
    "\n",
    "- 공공데이터를 통해 대한민국을 이해해봅시다(?).\n",
    "- 공공데이터포털(data.go.kr)에 다양한 데이터가 공개되어 있습니다.\n",
    "- 그 중에 카페(라는 업종분류)들에 대해서 현황을 조사하려고 합니다.\n",
    "\n",
    "**명세사항**\n",
    "1. 전국 카페 데이터를 모두 수집해야합니다.\n",
    "2. 지역별 or 브랜드별 점포 현황을 확인합니다.\n",
    "3. 분석 결과를 시각화합니다. "
   ]
  },
  {
   "cell_type": "markdown",
   "metadata": {
    "id": "OQN2F_zzmK9j"
   },
   "source": [
    "## 0. Data Description\n",
    "\n",
    "- 소상공인 상권 데이터를 국내에 있는 모든 소상공인으로 등록된 점포들에 대한 정보를 제공합니다.\n",
    "\n",
    "[데이터] https://www.data.go.kr/data/15083033/fileData.do"
   ]
  },
  {
   "cell_type": "code",
   "execution_count": 1,
   "metadata": {
    "ExecuteTime": {
     "end_time": "2023-06-30T04:38:26.194133Z",
     "start_time": "2023-06-30T04:38:23.858076Z"
    },
    "id": "a5HcKg99lpJ4"
   },
   "outputs": [],
   "source": [
    "# 라이브러리를 불러옵니다.\n",
    "import numpy as np\n",
    "import pandas as pd\n",
    "import matplotlib.pyplot as plt \n",
    "import seaborn as sns \n",
    "\n",
    "# 커널을 구성하다보면 에러는 아니지만, 빨간색 네모 박스 warning이 뜨는 경우가 많다. \n",
    "# 그런 보기 싫은 부분들을 제거해주겠다.\n",
    "import warnings\n",
    "warnings.filterwarnings('ignore')\n",
    "\n",
    "# notebook을 실행한 브라우저에서 바로 그림을 볼 수 있게 해주는 것\n",
    "# %matplotlib inline\n",
    "\n",
    "# os 패키지를 통해 현재 디렉토리 위치를 변경하고, read_csv를 더 편리하게 할 수 있음\n",
    "import os\n",
    "# os.getcwd() # 현재 디렉토리 파악\n",
    "# os.chdir(r\"______\") # 불러오고 싶은 파일이 위치한 주소를 ___에 입력\n",
    "from collections import Counter\n",
    "from glob import glob\n",
    "\n",
    "\n",
    "# 다른 노트북 작성할 때도 이 셀만 떼서 사용 가능하다.\n",
    "import platform                \n",
    "\n",
    "# 웬만하면 해주는 것이 좋다.\n",
    "from matplotlib import font_manager, rc\n",
    "plt.rcParams['axes.unicode_minus'] = False\n",
    "\n",
    "if platform.system() == 'Darwin': #맥os 사용자의 경우에\n",
    "    plt.style.use('seaborn-darkgrid') \n",
    "    rc('font', family = 'AppleGothic')\n",
    "    \n",
    "elif platform.system() == 'Windows':#윈도우 사용자의 경우에\n",
    "    path = 'c:/Windows/Fonts/malgun.ttf'\n",
    "    font_name = font_manager.FontProperties(fname=path).get_name()\n",
    "    plt.style.use('seaborn-darkgrid') # https://python-graph-gallery.com/199-matplotlib-style-sheets/\n",
    "    rc('font', family=font_name)\n",
    "\n",
    "# tqdm\n",
    "from tqdm.notebook import tqdm"
   ]
  },
  {
   "cell_type": "markdown",
   "metadata": {
    "id": "BF4bir9slpJ5"
   },
   "source": [
    "### 1. 데이터 불러오기"
   ]
  },
  {
   "cell_type": "code",
   "execution_count": 2,
   "metadata": {
    "ExecuteTime": {
     "end_time": "2023-06-30T04:38:30.018281Z",
     "start_time": "2023-06-30T04:38:26.203125Z"
    },
    "id": "OUxReLtIlpJ5"
   },
   "outputs": [
    {
     "data": {
      "text/plain": [
       "(315294, 39)"
      ]
     },
     "execution_count": 2,
     "metadata": {},
     "output_type": "execute_result"
    }
   ],
   "source": [
    "# 다운로드 받은 데이터중 일부를 열어봅니다.\n",
    "base_path = 'c:/reposit/data/소상공인시장진흥공단_상가(상권)정보_20211231/'\n",
    "df_seoul = pd.read_csv(base_path + '소상공인시장진흥공단_상가(상권)정보_서울_202112.csv')\n",
    "df_seoul.shape"
   ]
  },
  {
   "cell_type": "code",
   "execution_count": 3,
   "metadata": {
    "ExecuteTime": {
     "end_time": "2023-06-30T04:38:30.066094Z",
     "start_time": "2023-06-30T04:38:30.024983Z"
    }
   },
   "outputs": [
    {
     "data": {
      "text/html": [
       "<div>\n",
       "<style scoped>\n",
       "    .dataframe tbody tr th:only-of-type {\n",
       "        vertical-align: middle;\n",
       "    }\n",
       "\n",
       "    .dataframe tbody tr th {\n",
       "        vertical-align: top;\n",
       "    }\n",
       "\n",
       "    .dataframe thead th {\n",
       "        text-align: right;\n",
       "    }\n",
       "</style>\n",
       "<table border=\"1\" class=\"dataframe\">\n",
       "  <thead>\n",
       "    <tr style=\"text-align: right;\">\n",
       "      <th></th>\n",
       "      <th>상가업소번호</th>\n",
       "      <th>상호명</th>\n",
       "      <th>지점명</th>\n",
       "      <th>상권업종대분류코드</th>\n",
       "      <th>상권업종대분류명</th>\n",
       "      <th>상권업종중분류코드</th>\n",
       "      <th>상권업종중분류명</th>\n",
       "      <th>상권업종소분류코드</th>\n",
       "      <th>상권업종소분류명</th>\n",
       "      <th>표준산업분류코드</th>\n",
       "      <th>...</th>\n",
       "      <th>건물관리번호</th>\n",
       "      <th>건물명</th>\n",
       "      <th>도로명주소</th>\n",
       "      <th>구우편번호</th>\n",
       "      <th>신우편번호</th>\n",
       "      <th>동정보</th>\n",
       "      <th>층정보</th>\n",
       "      <th>호정보</th>\n",
       "      <th>경도</th>\n",
       "      <th>위도</th>\n",
       "    </tr>\n",
       "  </thead>\n",
       "  <tbody>\n",
       "    <tr>\n",
       "      <th>0</th>\n",
       "      <td>23324279</td>\n",
       "      <td>제중건강원</td>\n",
       "      <td>NaN</td>\n",
       "      <td>D</td>\n",
       "      <td>소매</td>\n",
       "      <td>D10</td>\n",
       "      <td>건강/미용식품</td>\n",
       "      <td>D10A07</td>\n",
       "      <td>건강원</td>\n",
       "      <td>G47216</td>\n",
       "      <td>...</td>\n",
       "      <td>1156010600100410002034626</td>\n",
       "      <td>NaN</td>\n",
       "      <td>서울특별시 영등포구 영중로14길 11-17</td>\n",
       "      <td>150035</td>\n",
       "      <td>7250.0</td>\n",
       "      <td>NaN</td>\n",
       "      <td>1</td>\n",
       "      <td>NaN</td>\n",
       "      <td>126.907168</td>\n",
       "      <td>37.520613</td>\n",
       "    </tr>\n",
       "    <tr>\n",
       "      <th>1</th>\n",
       "      <td>24525909</td>\n",
       "      <td>민속악기사</td>\n",
       "      <td>NaN</td>\n",
       "      <td>D</td>\n",
       "      <td>소매</td>\n",
       "      <td>D04</td>\n",
       "      <td>취미/오락관련소매</td>\n",
       "      <td>D04A09</td>\n",
       "      <td>악기판매</td>\n",
       "      <td>G47593</td>\n",
       "      <td>...</td>\n",
       "      <td>1120012200101420011000227</td>\n",
       "      <td>NaN</td>\n",
       "      <td>서울특별시 성동구 용답5길 2</td>\n",
       "      <td>133849</td>\n",
       "      <td>4803.0</td>\n",
       "      <td>NaN</td>\n",
       "      <td>NaN</td>\n",
       "      <td>NaN</td>\n",
       "      <td>127.049018</td>\n",
       "      <td>37.566857</td>\n",
       "    </tr>\n",
       "    <tr>\n",
       "      <th>2</th>\n",
       "      <td>24715368</td>\n",
       "      <td>태평양진주</td>\n",
       "      <td>NaN</td>\n",
       "      <td>D</td>\n",
       "      <td>소매</td>\n",
       "      <td>D26</td>\n",
       "      <td>시계/귀금속소매</td>\n",
       "      <td>D26A01</td>\n",
       "      <td>시계/귀금속</td>\n",
       "      <td>G47830</td>\n",
       "      <td>...</td>\n",
       "      <td>1111015200100440000000001</td>\n",
       "      <td>금사랑투빌딩</td>\n",
       "      <td>서울특별시 종로구 서순라길 17-10</td>\n",
       "      <td>110390</td>\n",
       "      <td>3138.0</td>\n",
       "      <td>NaN</td>\n",
       "      <td>NaN</td>\n",
       "      <td>NaN</td>\n",
       "      <td>126.993530</td>\n",
       "      <td>37.571848</td>\n",
       "    </tr>\n",
       "  </tbody>\n",
       "</table>\n",
       "<p>3 rows × 39 columns</p>\n",
       "</div>"
      ],
      "text/plain": [
       "     상가업소번호    상호명  지점명 상권업종대분류코드 상권업종대분류명 상권업종중분류코드   상권업종중분류명 상권업종소분류코드  \\\n",
       "0  23324279  제중건강원  NaN         D       소매       D10    건강/미용식품    D10A07   \n",
       "1  24525909  민속악기사  NaN         D       소매       D04  취미/오락관련소매    D04A09   \n",
       "2  24715368  태평양진주  NaN         D       소매       D26   시계/귀금속소매    D26A01   \n",
       "\n",
       "  상권업종소분류명 표준산업분류코드  ...                     건물관리번호     건물명  \\\n",
       "0      건강원   G47216  ...  1156010600100410002034626     NaN   \n",
       "1     악기판매   G47593  ...  1120012200101420011000227     NaN   \n",
       "2   시계/귀금속   G47830  ...  1111015200100440000000001  금사랑투빌딩   \n",
       "\n",
       "                     도로명주소   구우편번호   신우편번호  동정보  층정보  호정보          경도  \\\n",
       "0  서울특별시 영등포구 영중로14길 11-17  150035  7250.0  NaN    1  NaN  126.907168   \n",
       "1         서울특별시 성동구 용답5길 2  133849  4803.0  NaN  NaN  NaN  127.049018   \n",
       "2     서울특별시 종로구 서순라길 17-10  110390  3138.0  NaN  NaN  NaN  126.993530   \n",
       "\n",
       "          위도  \n",
       "0  37.520613  \n",
       "1  37.566857  \n",
       "2  37.571848  \n",
       "\n",
       "[3 rows x 39 columns]"
      ]
     },
     "execution_count": 3,
     "metadata": {},
     "output_type": "execute_result"
    }
   ],
   "source": [
    "df_seoul.head(3)"
   ]
  },
  {
   "cell_type": "code",
   "execution_count": 4,
   "metadata": {
    "ExecuteTime": {
     "end_time": "2023-06-30T04:38:30.990656Z",
     "start_time": "2023-06-30T04:38:30.070048Z"
    }
   },
   "outputs": [
    {
     "name": "stdout",
     "output_type": "stream",
     "text": [
      "<class 'pandas.core.frame.DataFrame'>\n",
      "RangeIndex: 315294 entries, 0 to 315293\n",
      "Data columns (total 39 columns):\n",
      " #   Column     Non-Null Count   Dtype  \n",
      "---  ------     --------------   -----  \n",
      " 0   상가업소번호     315294 non-null  int64  \n",
      " 1   상호명        315293 non-null  object \n",
      " 2   지점명        55561 non-null   object \n",
      " 3   상권업종대분류코드  315294 non-null  object \n",
      " 4   상권업종대분류명   315294 non-null  object \n",
      " 5   상권업종중분류코드  315294 non-null  object \n",
      " 6   상권업종중분류명   315294 non-null  object \n",
      " 7   상권업종소분류코드  315294 non-null  object \n",
      " 8   상권업종소분류명   315294 non-null  object \n",
      " 9   표준산업분류코드   296187 non-null  object \n",
      " 10  표준산업분류명    296187 non-null  object \n",
      " 11  시도코드       315294 non-null  int64  \n",
      " 12  시도명        315294 non-null  object \n",
      " 13  시군구코드      315294 non-null  int64  \n",
      " 14  시군구명       315294 non-null  object \n",
      " 15  행정동코드      315294 non-null  int64  \n",
      " 16  행정동명       315289 non-null  object \n",
      " 17  법정동코드      315294 non-null  int64  \n",
      " 18  법정동명       315294 non-null  object \n",
      " 19  지번코드       315294 non-null  int64  \n",
      " 20  대지구분코드     315294 non-null  int64  \n",
      " 21  대지구분명      315294 non-null  object \n",
      " 22  지번본번지      315294 non-null  int64  \n",
      " 23  지번부번지      250869 non-null  float64\n",
      " 24  지번주소       315294 non-null  object \n",
      " 25  도로명코드      315294 non-null  int64  \n",
      " 26  도로명        315294 non-null  object \n",
      " 27  건물본번지      315294 non-null  int64  \n",
      " 28  건물부번지      40831 non-null   float64\n",
      " 29  건물관리번호     315294 non-null  object \n",
      " 30  건물명        153358 non-null  object \n",
      " 31  도로명주소      315294 non-null  object \n",
      " 32  구우편번호      315294 non-null  int64  \n",
      " 33  신우편번호      315244 non-null  float64\n",
      " 34  동정보        30401 non-null   object \n",
      " 35  층정보        190592 non-null  object \n",
      " 36  호정보        0 non-null       float64\n",
      " 37  경도         315294 non-null  float64\n",
      " 38  위도         315294 non-null  float64\n",
      "dtypes: float64(6), int64(11), object(22)\n",
      "memory usage: 93.8+ MB\n"
     ]
    }
   ],
   "source": [
    "df_seoul.info()"
   ]
  },
  {
   "cell_type": "code",
   "execution_count": 5,
   "metadata": {
    "ExecuteTime": {
     "end_time": "2023-06-30T04:38:31.010329Z",
     "start_time": "2023-06-30T04:38:30.990656Z"
    },
    "id": "cYDIqMrMlpJ5",
    "scrolled": true
   },
   "outputs": [
    {
     "data": {
      "text/plain": [
       "['c:/reposit/data/소상공인시장진흥공단_상가(상권)정보_20211231\\\\소상공인시장진흥공단_상가(상권)정보_강원_202112.csv',\n",
       " 'c:/reposit/data/소상공인시장진흥공단_상가(상권)정보_20211231\\\\소상공인시장진흥공단_상가(상권)정보_경기_202112.csv',\n",
       " 'c:/reposit/data/소상공인시장진흥공단_상가(상권)정보_20211231\\\\소상공인시장진흥공단_상가(상권)정보_경남_202112.csv',\n",
       " 'c:/reposit/data/소상공인시장진흥공단_상가(상권)정보_20211231\\\\소상공인시장진흥공단_상가(상권)정보_경북_202112.csv',\n",
       " 'c:/reposit/data/소상공인시장진흥공단_상가(상권)정보_20211231\\\\소상공인시장진흥공단_상가(상권)정보_광주_202112.csv',\n",
       " 'c:/reposit/data/소상공인시장진흥공단_상가(상권)정보_20211231\\\\소상공인시장진흥공단_상가(상권)정보_대구_202112.csv',\n",
       " 'c:/reposit/data/소상공인시장진흥공단_상가(상권)정보_20211231\\\\소상공인시장진흥공단_상가(상권)정보_대전_202112.csv',\n",
       " 'c:/reposit/data/소상공인시장진흥공단_상가(상권)정보_20211231\\\\소상공인시장진흥공단_상가(상권)정보_부산_202112.csv',\n",
       " 'c:/reposit/data/소상공인시장진흥공단_상가(상권)정보_20211231\\\\소상공인시장진흥공단_상가(상권)정보_서울_202112.csv',\n",
       " 'c:/reposit/data/소상공인시장진흥공단_상가(상권)정보_20211231\\\\소상공인시장진흥공단_상가(상권)정보_세종_202112.csv',\n",
       " 'c:/reposit/data/소상공인시장진흥공단_상가(상권)정보_20211231\\\\소상공인시장진흥공단_상가(상권)정보_울산_202112.csv',\n",
       " 'c:/reposit/data/소상공인시장진흥공단_상가(상권)정보_20211231\\\\소상공인시장진흥공단_상가(상권)정보_인천_202112.csv',\n",
       " 'c:/reposit/data/소상공인시장진흥공단_상가(상권)정보_20211231\\\\소상공인시장진흥공단_상가(상권)정보_전남_202112.csv',\n",
       " 'c:/reposit/data/소상공인시장진흥공단_상가(상권)정보_20211231\\\\소상공인시장진흥공단_상가(상권)정보_전북_202112.csv',\n",
       " 'c:/reposit/data/소상공인시장진흥공단_상가(상권)정보_20211231\\\\소상공인시장진흥공단_상가(상권)정보_제주_202112.csv',\n",
       " 'c:/reposit/data/소상공인시장진흥공단_상가(상권)정보_20211231\\\\소상공인시장진흥공단_상가(상권)정보_충남_202112.csv',\n",
       " 'c:/reposit/data/소상공인시장진흥공단_상가(상권)정보_20211231\\\\소상공인시장진흥공단_상가(상권)정보_충북_202112.csv']"
      ]
     },
     "execution_count": 5,
     "metadata": {},
     "output_type": "execute_result"
    }
   ],
   "source": [
    "# data 폴더에 있는 모든 csv 파일을 읽어오기 위해 glob을 사용합니다.\n",
    "file_names = glob(base_path + '*.csv')\n",
    "file_names"
   ]
  },
  {
   "cell_type": "code",
   "execution_count": 6,
   "metadata": {
    "ExecuteTime": {
     "end_time": "2023-06-30T04:39:03.115076Z",
     "start_time": "2023-06-30T04:38:31.010329Z"
    },
    "id": "cYDIqMrMlpJ5"
   },
   "outputs": [
    {
     "data": {
      "text/plain": [
       "(2190348, 39)"
      ]
     },
     "execution_count": 6,
     "metadata": {},
     "output_type": "execute_result"
    }
   ],
   "source": [
    "# csv 목록 불러오기\n",
    "\n",
    "# 모든 csv 병합하기\n",
    "df = pd.DataFrame()\n",
    "\n",
    "for file_name in file_names:\n",
    "    temp_df = pd.read_csv(file_name)\n",
    "    df = pd.concat([df, temp_df])\n",
    "\n",
    "df.shape"
   ]
  },
  {
   "cell_type": "code",
   "execution_count": 7,
   "metadata": {
    "ExecuteTime": {
     "end_time": "2023-06-30T04:39:03.166510Z",
     "start_time": "2023-06-30T04:39:03.119032Z"
    }
   },
   "outputs": [
    {
     "data": {
      "text/html": [
       "<div>\n",
       "<style scoped>\n",
       "    .dataframe tbody tr th:only-of-type {\n",
       "        vertical-align: middle;\n",
       "    }\n",
       "\n",
       "    .dataframe tbody tr th {\n",
       "        vertical-align: top;\n",
       "    }\n",
       "\n",
       "    .dataframe thead th {\n",
       "        text-align: right;\n",
       "    }\n",
       "</style>\n",
       "<table border=\"1\" class=\"dataframe\">\n",
       "  <thead>\n",
       "    <tr style=\"text-align: right;\">\n",
       "      <th></th>\n",
       "      <th>상가업소번호</th>\n",
       "      <th>상호명</th>\n",
       "      <th>지점명</th>\n",
       "      <th>상권업종대분류코드</th>\n",
       "      <th>상권업종대분류명</th>\n",
       "      <th>상권업종중분류코드</th>\n",
       "      <th>상권업종중분류명</th>\n",
       "      <th>상권업종소분류코드</th>\n",
       "      <th>상권업종소분류명</th>\n",
       "      <th>표준산업분류코드</th>\n",
       "      <th>...</th>\n",
       "      <th>건물관리번호</th>\n",
       "      <th>건물명</th>\n",
       "      <th>도로명주소</th>\n",
       "      <th>구우편번호</th>\n",
       "      <th>신우편번호</th>\n",
       "      <th>동정보</th>\n",
       "      <th>층정보</th>\n",
       "      <th>호정보</th>\n",
       "      <th>경도</th>\n",
       "      <th>위도</th>\n",
       "    </tr>\n",
       "  </thead>\n",
       "  <tbody>\n",
       "    <tr>\n",
       "      <th>0</th>\n",
       "      <td>25033300</td>\n",
       "      <td>동그라미중고타이어</td>\n",
       "      <td>NaN</td>\n",
       "      <td>D</td>\n",
       "      <td>소매</td>\n",
       "      <td>D23</td>\n",
       "      <td>자동차/자동차용품</td>\n",
       "      <td>D23A04</td>\n",
       "      <td>타이어판매</td>\n",
       "      <td>G45211</td>\n",
       "      <td>...</td>\n",
       "      <td>4215011100110960006010791</td>\n",
       "      <td>NaN</td>\n",
       "      <td>강원도 강릉시 가작로 270</td>\n",
       "      <td>210110.0</td>\n",
       "      <td>25488.0</td>\n",
       "      <td>1</td>\n",
       "      <td>NaN</td>\n",
       "      <td>NaN</td>\n",
       "      <td>128.904472</td>\n",
       "      <td>37.770252</td>\n",
       "    </tr>\n",
       "  </tbody>\n",
       "</table>\n",
       "<p>1 rows × 39 columns</p>\n",
       "</div>"
      ],
      "text/plain": [
       "     상가업소번호        상호명  지점명 상권업종대분류코드 상권업종대분류명 상권업종중분류코드   상권업종중분류명 상권업종소분류코드  \\\n",
       "0  25033300  동그라미중고타이어  NaN         D       소매       D23  자동차/자동차용품    D23A04   \n",
       "\n",
       "  상권업종소분류명 표준산업분류코드  ...                     건물관리번호  건물명            도로명주소  \\\n",
       "0    타이어판매   G45211  ...  4215011100110960006010791  NaN  강원도 강릉시 가작로 270   \n",
       "\n",
       "      구우편번호    신우편번호  동정보  층정보  호정보          경도         위도  \n",
       "0  210110.0  25488.0    1  NaN  NaN  128.904472  37.770252  \n",
       "\n",
       "[1 rows x 39 columns]"
      ]
     },
     "execution_count": 7,
     "metadata": {},
     "output_type": "execute_result"
    }
   ],
   "source": [
    "df.head(1)"
   ]
  },
  {
   "cell_type": "code",
   "execution_count": 8,
   "metadata": {
    "ExecuteTime": {
     "end_time": "2023-06-30T04:39:04.662385Z",
     "start_time": "2023-06-30T04:39:03.166510Z"
    },
    "id": "cYDIqMrMlpJ5"
   },
   "outputs": [],
   "source": [
    "# reset index\n",
    "df = df.reset_index(drop=True)"
   ]
  },
  {
   "cell_type": "code",
   "execution_count": 9,
   "metadata": {
    "ExecuteTime": {
     "end_time": "2023-06-30T04:39:04.685929Z",
     "start_time": "2023-06-30T04:39:04.662385Z"
    }
   },
   "outputs": [
    {
     "name": "stdout",
     "output_type": "stream",
     "text": [
      "<class 'pandas.core.frame.DataFrame'>\n",
      "RangeIndex: 2190348 entries, 0 to 2190347\n",
      "Data columns (total 39 columns):\n",
      " #   Column     Dtype  \n",
      "---  ------     -----  \n",
      " 0   상가업소번호     int64  \n",
      " 1   상호명        object \n",
      " 2   지점명        object \n",
      " 3   상권업종대분류코드  object \n",
      " 4   상권업종대분류명   object \n",
      " 5   상권업종중분류코드  object \n",
      " 6   상권업종중분류명   object \n",
      " 7   상권업종소분류코드  object \n",
      " 8   상권업종소분류명   object \n",
      " 9   표준산업분류코드   object \n",
      " 10  표준산업분류명    object \n",
      " 11  시도코드       int64  \n",
      " 12  시도명        object \n",
      " 13  시군구코드      int64  \n",
      " 14  시군구명       object \n",
      " 15  행정동코드      int64  \n",
      " 16  행정동명       object \n",
      " 17  법정동코드      float64\n",
      " 18  법정동명       object \n",
      " 19  지번코드       int64  \n",
      " 20  대지구분코드     int64  \n",
      " 21  대지구분명      object \n",
      " 22  지번본번지      int64  \n",
      " 23  지번부번지      float64\n",
      " 24  지번주소       object \n",
      " 25  도로명코드      int64  \n",
      " 26  도로명        object \n",
      " 27  건물본번지      int64  \n",
      " 28  건물부번지      float64\n",
      " 29  건물관리번호     object \n",
      " 30  건물명        object \n",
      " 31  도로명주소      object \n",
      " 32  구우편번호      float64\n",
      " 33  신우편번호      float64\n",
      " 34  동정보        object \n",
      " 35  층정보        object \n",
      " 36  호정보        float64\n",
      " 37  경도         float64\n",
      " 38  위도         float64\n",
      "dtypes: float64(8), int64(9), object(22)\n",
      "memory usage: 651.7+ MB\n"
     ]
    }
   ],
   "source": [
    "df.info()"
   ]
  },
  {
   "cell_type": "code",
   "execution_count": 10,
   "metadata": {
    "ExecuteTime": {
     "end_time": "2023-06-30T04:39:10.710776Z",
     "start_time": "2023-06-30T04:39:04.697892Z"
    }
   },
   "outputs": [
    {
     "data": {
      "text/html": [
       "<div>\n",
       "<style scoped>\n",
       "    .dataframe tbody tr th:only-of-type {\n",
       "        vertical-align: middle;\n",
       "    }\n",
       "\n",
       "    .dataframe tbody tr th {\n",
       "        vertical-align: top;\n",
       "    }\n",
       "\n",
       "    .dataframe thead th {\n",
       "        text-align: right;\n",
       "    }\n",
       "</style>\n",
       "<table border=\"1\" class=\"dataframe\">\n",
       "  <thead>\n",
       "    <tr style=\"text-align: right;\">\n",
       "      <th></th>\n",
       "      <th>0</th>\n",
       "    </tr>\n",
       "  </thead>\n",
       "  <tbody>\n",
       "    <tr>\n",
       "      <th>상가업소번호</th>\n",
       "      <td>0</td>\n",
       "    </tr>\n",
       "    <tr>\n",
       "      <th>상호명</th>\n",
       "      <td>2</td>\n",
       "    </tr>\n",
       "    <tr>\n",
       "      <th>지점명</th>\n",
       "      <td>1850822</td>\n",
       "    </tr>\n",
       "    <tr>\n",
       "      <th>상권업종대분류코드</th>\n",
       "      <td>0</td>\n",
       "    </tr>\n",
       "    <tr>\n",
       "      <th>상권업종대분류명</th>\n",
       "      <td>0</td>\n",
       "    </tr>\n",
       "    <tr>\n",
       "      <th>상권업종중분류코드</th>\n",
       "      <td>0</td>\n",
       "    </tr>\n",
       "    <tr>\n",
       "      <th>상권업종중분류명</th>\n",
       "      <td>0</td>\n",
       "    </tr>\n",
       "    <tr>\n",
       "      <th>상권업종소분류코드</th>\n",
       "      <td>0</td>\n",
       "    </tr>\n",
       "    <tr>\n",
       "      <th>상권업종소분류명</th>\n",
       "      <td>0</td>\n",
       "    </tr>\n",
       "    <tr>\n",
       "      <th>표준산업분류코드</th>\n",
       "      <td>140343</td>\n",
       "    </tr>\n",
       "    <tr>\n",
       "      <th>표준산업분류명</th>\n",
       "      <td>140343</td>\n",
       "    </tr>\n",
       "    <tr>\n",
       "      <th>시도코드</th>\n",
       "      <td>0</td>\n",
       "    </tr>\n",
       "    <tr>\n",
       "      <th>시도명</th>\n",
       "      <td>0</td>\n",
       "    </tr>\n",
       "    <tr>\n",
       "      <th>시군구코드</th>\n",
       "      <td>0</td>\n",
       "    </tr>\n",
       "    <tr>\n",
       "      <th>시군구명</th>\n",
       "      <td>0</td>\n",
       "    </tr>\n",
       "    <tr>\n",
       "      <th>행정동코드</th>\n",
       "      <td>0</td>\n",
       "    </tr>\n",
       "    <tr>\n",
       "      <th>행정동명</th>\n",
       "      <td>183</td>\n",
       "    </tr>\n",
       "    <tr>\n",
       "      <th>법정동코드</th>\n",
       "      <td>3271</td>\n",
       "    </tr>\n",
       "    <tr>\n",
       "      <th>법정동명</th>\n",
       "      <td>3271</td>\n",
       "    </tr>\n",
       "    <tr>\n",
       "      <th>지번코드</th>\n",
       "      <td>0</td>\n",
       "    </tr>\n",
       "    <tr>\n",
       "      <th>대지구분코드</th>\n",
       "      <td>0</td>\n",
       "    </tr>\n",
       "    <tr>\n",
       "      <th>대지구분명</th>\n",
       "      <td>0</td>\n",
       "    </tr>\n",
       "    <tr>\n",
       "      <th>지번본번지</th>\n",
       "      <td>0</td>\n",
       "    </tr>\n",
       "    <tr>\n",
       "      <th>지번부번지</th>\n",
       "      <td>502374</td>\n",
       "    </tr>\n",
       "    <tr>\n",
       "      <th>지번주소</th>\n",
       "      <td>0</td>\n",
       "    </tr>\n",
       "    <tr>\n",
       "      <th>도로명코드</th>\n",
       "      <td>0</td>\n",
       "    </tr>\n",
       "    <tr>\n",
       "      <th>도로명</th>\n",
       "      <td>0</td>\n",
       "    </tr>\n",
       "    <tr>\n",
       "      <th>건물본번지</th>\n",
       "      <td>0</td>\n",
       "    </tr>\n",
       "    <tr>\n",
       "      <th>건물부번지</th>\n",
       "      <td>1757789</td>\n",
       "    </tr>\n",
       "    <tr>\n",
       "      <th>건물관리번호</th>\n",
       "      <td>0</td>\n",
       "    </tr>\n",
       "    <tr>\n",
       "      <th>건물명</th>\n",
       "      <td>1356060</td>\n",
       "    </tr>\n",
       "    <tr>\n",
       "      <th>도로명주소</th>\n",
       "      <td>0</td>\n",
       "    </tr>\n",
       "    <tr>\n",
       "      <th>구우편번호</th>\n",
       "      <td>4726</td>\n",
       "    </tr>\n",
       "    <tr>\n",
       "      <th>신우편번호</th>\n",
       "      <td>400</td>\n",
       "    </tr>\n",
       "    <tr>\n",
       "      <th>동정보</th>\n",
       "      <td>1978936</td>\n",
       "    </tr>\n",
       "    <tr>\n",
       "      <th>층정보</th>\n",
       "      <td>1199460</td>\n",
       "    </tr>\n",
       "    <tr>\n",
       "      <th>호정보</th>\n",
       "      <td>2190348</td>\n",
       "    </tr>\n",
       "    <tr>\n",
       "      <th>경도</th>\n",
       "      <td>0</td>\n",
       "    </tr>\n",
       "    <tr>\n",
       "      <th>위도</th>\n",
       "      <td>0</td>\n",
       "    </tr>\n",
       "  </tbody>\n",
       "</table>\n",
       "</div>"
      ],
      "text/plain": [
       "                 0\n",
       "상가업소번호           0\n",
       "상호명              2\n",
       "지점명        1850822\n",
       "상권업종대분류코드        0\n",
       "상권업종대분류명         0\n",
       "상권업종중분류코드        0\n",
       "상권업종중분류명         0\n",
       "상권업종소분류코드        0\n",
       "상권업종소분류명         0\n",
       "표준산업분류코드    140343\n",
       "표준산업분류명     140343\n",
       "시도코드             0\n",
       "시도명              0\n",
       "시군구코드            0\n",
       "시군구명             0\n",
       "행정동코드            0\n",
       "행정동명           183\n",
       "법정동코드         3271\n",
       "법정동명          3271\n",
       "지번코드             0\n",
       "대지구분코드           0\n",
       "대지구분명            0\n",
       "지번본번지            0\n",
       "지번부번지       502374\n",
       "지번주소             0\n",
       "도로명코드            0\n",
       "도로명              0\n",
       "건물본번지            0\n",
       "건물부번지      1757789\n",
       "건물관리번호           0\n",
       "건물명        1356060\n",
       "도로명주소            0\n",
       "구우편번호         4726\n",
       "신우편번호          400\n",
       "동정보        1978936\n",
       "층정보        1199460\n",
       "호정보        2190348\n",
       "경도               0\n",
       "위도               0"
      ]
     },
     "execution_count": 10,
     "metadata": {},
     "output_type": "execute_result"
    }
   ],
   "source": [
    "df.isnull().sum().to_frame()"
   ]
  },
  {
   "cell_type": "code",
   "execution_count": 11,
   "metadata": {
    "ExecuteTime": {
     "end_time": "2023-06-30T04:39:10.912733Z",
     "start_time": "2023-06-30T04:39:10.714166Z"
    },
    "id": "vIUNEzXZlpJ6"
   },
   "outputs": [
    {
     "data": {
      "text/plain": [
       "array(['자동차/자동차용품', '호텔/콘도', '가구소매', '학원기타', '유흥주점', '철물/난방/건설자재소매',\n",
       "       '주유소/충전소', '가방/신발/액세서리', '가정/주방/인테리어', '커피점/카페', '한식', '화장품소매',\n",
       "       '선물/팬시/기념품', '캠프/별장/펜션', '음/식료품소매', '민박/하숙', '부동산중개', '의복의류',\n",
       "       '학원-음악미술무용', '개인/가정용품수리', '분식', '세탁/가사서비스', '주택수리', '인력/고용/용역알선',\n",
       "       '가전제품소매', '기타판매업', '학원-어학', '종합소매점', '일식/수산물', '사무/문구/컴퓨터',\n",
       "       '이/미용/건강', '제과제빵떡케익', '모텔/여관/여인숙', '무도/유흥/가무', '광고/인쇄',\n",
       "       '취미/오락관련소매', '사진/광학/정밀기기소매', '자동차/이륜차', '대중목욕탕/휴게', '놀이/여가/취미',\n",
       "       '건강/미용식품', '패스트푸드', '실내운동시설', '학원-창업취업취미', '닭/오리요리', '시계/귀금속소매',\n",
       "       '중식', '페인트/유리제품소매', '중고품소매/교환', '유아교육', '유아용품', '학원-예능취미체육',\n",
       "       '요가/단전/마사지', '운동/경기용품소매', '학원-보습교습입시', '대행업', '실외운동시설', '의약/의료품소매',\n",
       "       '분양', 'PC/오락/당구/볼링등', '기타서비스업', '학문교육기타', '별식/퓨전요리', '책/서적/도서',\n",
       "       '장례/묘지', '물품기기대여', '양식', '애견/애완/동물', '사진', '기타음식업', '도서관/독서실',\n",
       "       '법무세무회계', '행사/이벤트', '개인서비스', '운송/배달/택배', '예술품/골동품/수석/분재', '부페',\n",
       "       '예식/의례/관혼상제', '학원-자격/국가고시', '음식배달서비스', '경마/경륜/성인오락', '스포츠/운동',\n",
       "       '종교용품판매', '운영관리시설', '학원-컴퓨터', '평가/개발/관리', '연극/영화/극장', '유스호스텔',\n",
       "       '부동산관련서비스'], dtype=object)"
      ]
     },
     "execution_count": 11,
     "metadata": {},
     "output_type": "execute_result"
    }
   ],
   "source": [
    "# 분석에 필요한 column을 고릅니다. ## 자유롭게 하셔도 상관없습니다.\n",
    "df.상권업종중분류명.unique()"
   ]
  },
  {
   "cell_type": "code",
   "execution_count": 12,
   "metadata": {
    "ExecuteTime": {
     "end_time": "2023-06-30T04:39:11.369897Z",
     "start_time": "2023-06-30T04:39:10.912733Z"
    }
   },
   "outputs": [
    {
     "data": {
      "text/plain": [
       "(101346, 39)"
      ]
     },
     "execution_count": 12,
     "metadata": {},
     "output_type": "execute_result"
    }
   ],
   "source": [
    "df = df[df['상권업종중분류명']=='커피점/카페']\n",
    "df.shape"
   ]
  },
  {
   "cell_type": "code",
   "execution_count": 13,
   "metadata": {
    "ExecuteTime": {
     "end_time": "2023-06-30T04:39:11.385234Z",
     "start_time": "2023-06-30T04:39:11.371891Z"
    }
   },
   "outputs": [
    {
     "data": {
      "text/plain": [
       "Index(['상가업소번호', '상호명', '지점명', '상권업종대분류코드', '상권업종대분류명', '상권업종중분류코드',\n",
       "       '상권업종중분류명', '상권업종소분류코드', '상권업종소분류명', '표준산업분류코드', '표준산업분류명', '시도코드',\n",
       "       '시도명', '시군구코드', '시군구명', '행정동코드', '행정동명', '법정동코드', '법정동명', '지번코드',\n",
       "       '대지구분코드', '대지구분명', '지번본번지', '지번부번지', '지번주소', '도로명코드', '도로명', '건물본번지',\n",
       "       '건물부번지', '건물관리번호', '건물명', '도로명주소', '구우편번호', '신우편번호', '동정보', '층정보',\n",
       "       '호정보', '경도', '위도'],\n",
       "      dtype='object')"
      ]
     },
     "execution_count": 13,
     "metadata": {},
     "output_type": "execute_result"
    }
   ],
   "source": [
    "df.columns"
   ]
  },
  {
   "cell_type": "code",
   "execution_count": 14,
   "metadata": {
    "ExecuteTime": {
     "end_time": "2023-06-30T04:39:11.459240Z",
     "start_time": "2023-06-30T04:39:11.395627Z"
    },
    "id": "q1XmG-U6lpJ6"
   },
   "outputs": [],
   "source": [
    "# 메모리 낭비를 막기 위해 필요없는 변수는 제거합니다.\n",
    "temp_df = df[['상권업종중분류명', '상호명', '시도명']]\n",
    "\n",
    "del df"
   ]
  },
  {
   "cell_type": "markdown",
   "metadata": {
    "id": "ca-LXotplpJ6"
   },
   "source": [
    "### 2. 데이터 구경하기"
   ]
  },
  {
   "cell_type": "code",
   "execution_count": 15,
   "metadata": {
    "ExecuteTime": {
     "end_time": "2023-06-30T04:39:11.475132Z",
     "start_time": "2023-06-30T04:39:11.461205Z"
    }
   },
   "outputs": [
    {
     "data": {
      "text/plain": [
       "(101346, 3)"
      ]
     },
     "execution_count": 15,
     "metadata": {},
     "output_type": "execute_result"
    }
   ],
   "source": [
    "temp_df.shape"
   ]
  },
  {
   "cell_type": "code",
   "execution_count": 16,
   "metadata": {
    "ExecuteTime": {
     "end_time": "2023-06-30T04:39:11.502498Z",
     "start_time": "2023-06-30T04:39:11.478124Z"
    }
   },
   "outputs": [
    {
     "data": {
      "text/html": [
       "<div>\n",
       "<style scoped>\n",
       "    .dataframe tbody tr th:only-of-type {\n",
       "        vertical-align: middle;\n",
       "    }\n",
       "\n",
       "    .dataframe tbody tr th {\n",
       "        vertical-align: top;\n",
       "    }\n",
       "\n",
       "    .dataframe thead th {\n",
       "        text-align: right;\n",
       "    }\n",
       "</style>\n",
       "<table border=\"1\" class=\"dataframe\">\n",
       "  <thead>\n",
       "    <tr style=\"text-align: right;\">\n",
       "      <th></th>\n",
       "      <th>상권업종중분류명</th>\n",
       "      <th>상호명</th>\n",
       "      <th>시도명</th>\n",
       "    </tr>\n",
       "  </thead>\n",
       "  <tbody>\n",
       "    <tr>\n",
       "      <th>13</th>\n",
       "      <td>커피점/카페</td>\n",
       "      <td>키즈까페아이사랑</td>\n",
       "      <td>강원도</td>\n",
       "    </tr>\n",
       "    <tr>\n",
       "      <th>39</th>\n",
       "      <td>커피점/카페</td>\n",
       "      <td>힐링</td>\n",
       "      <td>강원도</td>\n",
       "    </tr>\n",
       "    <tr>\n",
       "      <th>56</th>\n",
       "      <td>커피점/카페</td>\n",
       "      <td>드롭탑</td>\n",
       "      <td>강원도</td>\n",
       "    </tr>\n",
       "  </tbody>\n",
       "</table>\n",
       "</div>"
      ],
      "text/plain": [
       "   상권업종중분류명       상호명  시도명\n",
       "13   커피점/카페  키즈까페아이사랑  강원도\n",
       "39   커피점/카페        힐링  강원도\n",
       "56   커피점/카페       드롭탑  강원도"
      ]
     },
     "execution_count": 16,
     "metadata": {},
     "output_type": "execute_result"
    }
   ],
   "source": [
    "temp_df.head(3)"
   ]
  },
  {
   "cell_type": "code",
   "execution_count": 17,
   "metadata": {
    "ExecuteTime": {
     "end_time": "2023-06-30T04:39:11.542090Z",
     "start_time": "2023-06-30T04:39:11.508485Z"
    }
   },
   "outputs": [
    {
     "data": {
      "text/html": [
       "<div>\n",
       "<style scoped>\n",
       "    .dataframe tbody tr th:only-of-type {\n",
       "        vertical-align: middle;\n",
       "    }\n",
       "\n",
       "    .dataframe tbody tr th {\n",
       "        vertical-align: top;\n",
       "    }\n",
       "\n",
       "    .dataframe thead th {\n",
       "        text-align: right;\n",
       "    }\n",
       "</style>\n",
       "<table border=\"1\" class=\"dataframe\">\n",
       "  <thead>\n",
       "    <tr style=\"text-align: right;\">\n",
       "      <th></th>\n",
       "      <th>시도명</th>\n",
       "    </tr>\n",
       "  </thead>\n",
       "  <tbody>\n",
       "    <tr>\n",
       "      <th>경기도</th>\n",
       "      <td>22760</td>\n",
       "    </tr>\n",
       "    <tr>\n",
       "      <th>서울특별시</th>\n",
       "      <td>18628</td>\n",
       "    </tr>\n",
       "    <tr>\n",
       "      <th>경상남도</th>\n",
       "      <td>6823</td>\n",
       "    </tr>\n",
       "    <tr>\n",
       "      <th>부산광역시</th>\n",
       "      <td>6242</td>\n",
       "    </tr>\n",
       "    <tr>\n",
       "      <th>경상북도</th>\n",
       "      <td>5913</td>\n",
       "    </tr>\n",
       "    <tr>\n",
       "      <th>인천광역시</th>\n",
       "      <td>5046</td>\n",
       "    </tr>\n",
       "    <tr>\n",
       "      <th>대구광역시</th>\n",
       "      <td>4570</td>\n",
       "    </tr>\n",
       "    <tr>\n",
       "      <th>충청남도</th>\n",
       "      <td>4431</td>\n",
       "    </tr>\n",
       "    <tr>\n",
       "      <th>강원도</th>\n",
       "      <td>4170</td>\n",
       "    </tr>\n",
       "    <tr>\n",
       "      <th>전라북도</th>\n",
       "      <td>3992</td>\n",
       "    </tr>\n",
       "    <tr>\n",
       "      <th>전라남도</th>\n",
       "      <td>3977</td>\n",
       "    </tr>\n",
       "    <tr>\n",
       "      <th>충청북도</th>\n",
       "      <td>3318</td>\n",
       "    </tr>\n",
       "    <tr>\n",
       "      <th>대전광역시</th>\n",
       "      <td>3077</td>\n",
       "    </tr>\n",
       "    <tr>\n",
       "      <th>광주광역시</th>\n",
       "      <td>2985</td>\n",
       "    </tr>\n",
       "    <tr>\n",
       "      <th>제주특별자치도</th>\n",
       "      <td>2716</td>\n",
       "    </tr>\n",
       "    <tr>\n",
       "      <th>울산광역시</th>\n",
       "      <td>2101</td>\n",
       "    </tr>\n",
       "    <tr>\n",
       "      <th>세종특별자치시</th>\n",
       "      <td>597</td>\n",
       "    </tr>\n",
       "  </tbody>\n",
       "</table>\n",
       "</div>"
      ],
      "text/plain": [
       "           시도명\n",
       "경기도      22760\n",
       "서울특별시    18628\n",
       "경상남도      6823\n",
       "부산광역시     6242\n",
       "경상북도      5913\n",
       "인천광역시     5046\n",
       "대구광역시     4570\n",
       "충청남도      4431\n",
       "강원도       4170\n",
       "전라북도      3992\n",
       "전라남도      3977\n",
       "충청북도      3318\n",
       "대전광역시     3077\n",
       "광주광역시     2985\n",
       "제주특별자치도   2716\n",
       "울산광역시     2101\n",
       "세종특별자치시    597"
      ]
     },
     "execution_count": 17,
     "metadata": {},
     "output_type": "execute_result"
    }
   ],
   "source": [
    "temp_df['시도명'].value_counts().to_frame()"
   ]
  },
  {
   "cell_type": "markdown",
   "metadata": {
    "id": "k4POQ1HhlpJ7"
   },
   "source": [
    "#### 전국 커피 전문점 "
   ]
  },
  {
   "cell_type": "code",
   "execution_count": 18,
   "metadata": {
    "ExecuteTime": {
     "end_time": "2023-06-30T04:39:11.570891Z",
     "start_time": "2023-06-30T04:39:11.545080Z"
    },
    "id": "4Cw8TjowlpJ7"
   },
   "outputs": [
    {
     "name": "stdout",
     "output_type": "stream",
     "text": [
      "전국 커피 전문점 점포 수 :  101346\n"
     ]
    },
    {
     "data": {
      "text/html": [
       "<div>\n",
       "<style scoped>\n",
       "    .dataframe tbody tr th:only-of-type {\n",
       "        vertical-align: middle;\n",
       "    }\n",
       "\n",
       "    .dataframe tbody tr th {\n",
       "        vertical-align: top;\n",
       "    }\n",
       "\n",
       "    .dataframe thead th {\n",
       "        text-align: right;\n",
       "    }\n",
       "</style>\n",
       "<table border=\"1\" class=\"dataframe\">\n",
       "  <thead>\n",
       "    <tr style=\"text-align: right;\">\n",
       "      <th></th>\n",
       "      <th>상권업종중분류명</th>\n",
       "      <th>상호명</th>\n",
       "      <th>시도명</th>\n",
       "    </tr>\n",
       "  </thead>\n",
       "  <tbody>\n",
       "    <tr>\n",
       "      <th>13</th>\n",
       "      <td>커피점/카페</td>\n",
       "      <td>키즈까페아이사랑</td>\n",
       "      <td>강원도</td>\n",
       "    </tr>\n",
       "    <tr>\n",
       "      <th>39</th>\n",
       "      <td>커피점/카페</td>\n",
       "      <td>힐링</td>\n",
       "      <td>강원도</td>\n",
       "    </tr>\n",
       "    <tr>\n",
       "      <th>56</th>\n",
       "      <td>커피점/카페</td>\n",
       "      <td>드롭탑</td>\n",
       "      <td>강원도</td>\n",
       "    </tr>\n",
       "    <tr>\n",
       "      <th>78</th>\n",
       "      <td>커피점/카페</td>\n",
       "      <td>SHIMS</td>\n",
       "      <td>강원도</td>\n",
       "    </tr>\n",
       "    <tr>\n",
       "      <th>84</th>\n",
       "      <td>커피점/카페</td>\n",
       "      <td>상유재카페</td>\n",
       "      <td>강원도</td>\n",
       "    </tr>\n",
       "  </tbody>\n",
       "</table>\n",
       "</div>"
      ],
      "text/plain": [
       "   상권업종중분류명       상호명  시도명\n",
       "13   커피점/카페  키즈까페아이사랑  강원도\n",
       "39   커피점/카페        힐링  강원도\n",
       "56   커피점/카페       드롭탑  강원도\n",
       "78   커피점/카페     SHIMS  강원도\n",
       "84   커피점/카페     상유재카페  강원도"
      ]
     },
     "execution_count": 18,
     "metadata": {},
     "output_type": "execute_result"
    }
   ],
   "source": [
    "# 카페만 뽑아냅니다.\n",
    "# df_coffee = \n",
    "# index를 다시 세팅합니다.\n",
    "df_coffee = temp_df\n",
    "del temp_df\n",
    "\n",
    "print(\"전국 커피 전문점 점포 수 : \", len(df_coffee))\n",
    "df_coffee.head()"
   ]
  },
  {
   "cell_type": "markdown",
   "metadata": {
    "id": "-6vyY81AlpJ7"
   },
   "source": [
    "#### 서울내 커피 전문점 "
   ]
  },
  {
   "cell_type": "code",
   "execution_count": 19,
   "metadata": {
    "ExecuteTime": {
     "end_time": "2023-06-30T04:39:11.613814Z",
     "start_time": "2023-06-30T04:39:11.578773Z"
    },
    "id": "Gwhet3RFlpJ7"
   },
   "outputs": [
    {
     "name": "stdout",
     "output_type": "stream",
     "text": [
      "서울시 내 커피 전문점 점포 수 : 18628\n"
     ]
    },
    {
     "data": {
      "text/html": [
       "<div>\n",
       "<style scoped>\n",
       "    .dataframe tbody tr th:only-of-type {\n",
       "        vertical-align: middle;\n",
       "    }\n",
       "\n",
       "    .dataframe tbody tr th {\n",
       "        vertical-align: top;\n",
       "    }\n",
       "\n",
       "    .dataframe thead th {\n",
       "        text-align: right;\n",
       "    }\n",
       "</style>\n",
       "<table border=\"1\" class=\"dataframe\">\n",
       "  <thead>\n",
       "    <tr style=\"text-align: right;\">\n",
       "      <th></th>\n",
       "      <th>상권업종중분류명</th>\n",
       "      <th>상호명</th>\n",
       "      <th>시도명</th>\n",
       "    </tr>\n",
       "  </thead>\n",
       "  <tbody>\n",
       "    <tr>\n",
       "      <th>0</th>\n",
       "      <td>커피점/카페</td>\n",
       "      <td>커피빈</td>\n",
       "      <td>서울특별시</td>\n",
       "    </tr>\n",
       "    <tr>\n",
       "      <th>1</th>\n",
       "      <td>커피점/카페</td>\n",
       "      <td>요거프레소</td>\n",
       "      <td>서울특별시</td>\n",
       "    </tr>\n",
       "    <tr>\n",
       "      <th>2</th>\n",
       "      <td>커피점/카페</td>\n",
       "      <td>우성커피숍</td>\n",
       "      <td>서울특별시</td>\n",
       "    </tr>\n",
       "  </tbody>\n",
       "</table>\n",
       "</div>"
      ],
      "text/plain": [
       "  상권업종중분류명    상호명    시도명\n",
       "0   커피점/카페    커피빈  서울특별시\n",
       "1   커피점/카페  요거프레소  서울특별시\n",
       "2   커피점/카페  우성커피숍  서울특별시"
      ]
     },
     "execution_count": 19,
     "metadata": {},
     "output_type": "execute_result"
    }
   ],
   "source": [
    "# 카페 중에 \"서울\"에 위치하고 있는 점포만 뽑아냅니다.\n",
    "df_coffee_seoul = df_coffee.loc[df_coffee.시도명=='서울특별시', :]\n",
    "\n",
    "# df_seoul_coffee.index = range(len(df_seoul_coffee))\n",
    "df_coffee_seoul.index = range(len(df_coffee_seoul))\n",
    "# reset_index(drop=True)와 같은 효과\n",
    "\n",
    "print('서울시 내 커피 전문점 점포 수 :', len(df_coffee_seoul))\n",
    "\n",
    "df_coffee_seoul.head(3)"
   ]
  },
  {
   "cell_type": "code",
   "execution_count": 20,
   "metadata": {
    "ExecuteTime": {
     "end_time": "2023-06-30T04:39:11.651496Z",
     "start_time": "2023-06-30T04:39:11.613814Z"
    }
   },
   "outputs": [
    {
     "name": "stdout",
     "output_type": "stream",
     "text": [
      "13119\n"
     ]
    },
    {
     "data": {
      "text/plain": [
       "array(['커피빈', '요거프레소', '우성커피숍', '버블베어', '알뤼르', '로얄커피숍', '띵낑커피',\n",
       "       '커피빈코리아낙성대역점', '000간', '탐앤탐스', '카페그리다', '노란고무줄', '커피랩',\n",
       "       '커핀그루나루신천점', '터치카페', '스테이보드게임카페', '파란달의커피볶는집', '홈플러스어라운드홈',\n",
       "       '서울과학기술대학교', '빌리엔젤마리오아울렛'], dtype=object)"
      ]
     },
     "execution_count": 20,
     "metadata": {},
     "output_type": "execute_result"
    }
   ],
   "source": [
    "print(df_coffee_seoul.상호명.nunique())\n",
    "df_coffee_seoul.상호명.unique()[:20]"
   ]
  },
  {
   "cell_type": "markdown",
   "metadata": {
    "id": "gNmUl4zjlpJ8"
   },
   "source": [
    "#### 전국 스타벅스"
   ]
  },
  {
   "cell_type": "code",
   "execution_count": 21,
   "metadata": {
    "ExecuteTime": {
     "end_time": "2023-06-30T04:39:11.810956Z",
     "start_time": "2023-06-30T04:39:11.656177Z"
    },
    "id": "NsGl_QnmlpJ8"
   },
   "outputs": [
    {
     "name": "stdout",
     "output_type": "stream",
     "text": [
      "전국 스타벅스 점포 수 : 1503\n"
     ]
    },
    {
     "data": {
      "text/html": [
       "<div>\n",
       "<style scoped>\n",
       "    .dataframe tbody tr th:only-of-type {\n",
       "        vertical-align: middle;\n",
       "    }\n",
       "\n",
       "    .dataframe tbody tr th {\n",
       "        vertical-align: top;\n",
       "    }\n",
       "\n",
       "    .dataframe thead th {\n",
       "        text-align: right;\n",
       "    }\n",
       "</style>\n",
       "<table border=\"1\" class=\"dataframe\">\n",
       "  <thead>\n",
       "    <tr style=\"text-align: right;\">\n",
       "      <th></th>\n",
       "      <th>상권업종중분류명</th>\n",
       "      <th>상호명</th>\n",
       "      <th>시도명</th>\n",
       "      <th>상호명_소</th>\n",
       "    </tr>\n",
       "  </thead>\n",
       "  <tbody>\n",
       "    <tr>\n",
       "      <th>0</th>\n",
       "      <td>커피점/카페</td>\n",
       "      <td>스타벅스강릉안목항점</td>\n",
       "      <td>강원도</td>\n",
       "      <td>스타벅스강릉안목항점</td>\n",
       "    </tr>\n",
       "    <tr>\n",
       "      <th>1</th>\n",
       "      <td>커피점/카페</td>\n",
       "      <td>스타벅스춘천후평DT점</td>\n",
       "      <td>강원도</td>\n",
       "      <td>스타벅스춘천후평dt점</td>\n",
       "    </tr>\n",
       "    <tr>\n",
       "      <th>2</th>\n",
       "      <td>커피점/카페</td>\n",
       "      <td>스타벅스</td>\n",
       "      <td>강원도</td>\n",
       "      <td>스타벅스</td>\n",
       "    </tr>\n",
       "  </tbody>\n",
       "</table>\n",
       "</div>"
      ],
      "text/plain": [
       "  상권업종중분류명          상호명  시도명        상호명_소\n",
       "0   커피점/카페   스타벅스강릉안목항점  강원도   스타벅스강릉안목항점\n",
       "1   커피점/카페  스타벅스춘천후평DT점  강원도  스타벅스춘천후평dt점\n",
       "2   커피점/카페         스타벅스  강원도         스타벅스"
      ]
     },
     "execution_count": 21,
     "metadata": {},
     "output_type": "execute_result"
    }
   ],
   "source": [
    "# 상호명 소문자로 변경\n",
    "df_coffee['상호명_소'] = df_coffee.상호명.str.lower()\n",
    "\n",
    "# 이번엔 전국에 있는 스타벅스를 뽑아냅니다.\n",
    "df_star = df_coffee[df_coffee.상호명_소.str.contains('스타벅스')]\n",
    "\n",
    "df_star.index = range(len(df_star))\n",
    "print('전국 스타벅스 점포 수 :', len(df_star))\n",
    "df_star.head(3)"
   ]
  },
  {
   "cell_type": "markdown",
   "metadata": {
    "id": "Sba126MplpJ8"
   },
   "source": [
    "#### 서울 스타벅스"
   ]
  },
  {
   "cell_type": "code",
   "execution_count": 22,
   "metadata": {
    "ExecuteTime": {
     "end_time": "2023-06-30T04:39:11.844413Z",
     "start_time": "2023-06-30T04:39:11.812916Z"
    },
    "id": "5rTdFiUrlpJ8"
   },
   "outputs": [
    {
     "name": "stdout",
     "output_type": "stream",
     "text": [
      "서울시 내 스타벅스 점포 수 : 467\n"
     ]
    },
    {
     "data": {
      "text/html": [
       "<div>\n",
       "<style scoped>\n",
       "    .dataframe tbody tr th:only-of-type {\n",
       "        vertical-align: middle;\n",
       "    }\n",
       "\n",
       "    .dataframe tbody tr th {\n",
       "        vertical-align: top;\n",
       "    }\n",
       "\n",
       "    .dataframe thead th {\n",
       "        text-align: right;\n",
       "    }\n",
       "</style>\n",
       "<table border=\"1\" class=\"dataframe\">\n",
       "  <thead>\n",
       "    <tr style=\"text-align: right;\">\n",
       "      <th></th>\n",
       "      <th>상권업종중분류명</th>\n",
       "      <th>상호명</th>\n",
       "      <th>시도명</th>\n",
       "      <th>상호명_소</th>\n",
       "    </tr>\n",
       "  </thead>\n",
       "  <tbody>\n",
       "    <tr>\n",
       "      <th>0</th>\n",
       "      <td>커피점/카페</td>\n",
       "      <td>스타벅스</td>\n",
       "      <td>서울특별시</td>\n",
       "      <td>스타벅스</td>\n",
       "    </tr>\n",
       "    <tr>\n",
       "      <th>1</th>\n",
       "      <td>커피점/카페</td>\n",
       "      <td>스타벅스남부터미널2점</td>\n",
       "      <td>서울특별시</td>\n",
       "      <td>스타벅스남부터미널2점</td>\n",
       "    </tr>\n",
       "    <tr>\n",
       "      <th>2</th>\n",
       "      <td>커피점/카페</td>\n",
       "      <td>스타벅스</td>\n",
       "      <td>서울특별시</td>\n",
       "      <td>스타벅스</td>\n",
       "    </tr>\n",
       "  </tbody>\n",
       "</table>\n",
       "</div>"
      ],
      "text/plain": [
       "  상권업종중분류명          상호명    시도명        상호명_소\n",
       "0   커피점/카페         스타벅스  서울특별시         스타벅스\n",
       "1   커피점/카페  스타벅스남부터미널2점  서울특별시  스타벅스남부터미널2점\n",
       "2   커피점/카페         스타벅스  서울특별시         스타벅스"
      ]
     },
     "execution_count": 22,
     "metadata": {},
     "output_type": "execute_result"
    }
   ],
   "source": [
    "# 이번엔 서울에 있는 스타벅스를 뽑아냅니다.\n",
    "df_star_seoul = df_star.loc[df_star['시도명']=='서울특별시', :]\n",
    "\n",
    "df_star_seoul.index = range(len(df_star_seoul))\n",
    "print('서울시 내 스타벅스 점포 수 :', len(df_star_seoul))\n",
    "df_star_seoul.head(3)"
   ]
  },
  {
   "cell_type": "markdown",
   "metadata": {
    "id": "3FG7KJPGlpJ8"
   },
   "source": [
    "#### 전국 이디야"
   ]
  },
  {
   "cell_type": "code",
   "execution_count": 23,
   "metadata": {
    "ExecuteTime": {
     "end_time": "2023-06-30T04:39:11.943307Z",
     "start_time": "2023-06-30T04:39:11.847406Z"
    },
    "id": "OZ_wHgjalpJ8",
    "scrolled": true
   },
   "outputs": [
    {
     "name": "stdout",
     "output_type": "stream",
     "text": [
      "전국 이디야 점포 수 : 2065\n"
     ]
    },
    {
     "data": {
      "text/html": [
       "<div>\n",
       "<style scoped>\n",
       "    .dataframe tbody tr th:only-of-type {\n",
       "        vertical-align: middle;\n",
       "    }\n",
       "\n",
       "    .dataframe tbody tr th {\n",
       "        vertical-align: top;\n",
       "    }\n",
       "\n",
       "    .dataframe thead th {\n",
       "        text-align: right;\n",
       "    }\n",
       "</style>\n",
       "<table border=\"1\" class=\"dataframe\">\n",
       "  <thead>\n",
       "    <tr style=\"text-align: right;\">\n",
       "      <th></th>\n",
       "      <th>상권업종중분류명</th>\n",
       "      <th>상호명</th>\n",
       "      <th>시도명</th>\n",
       "      <th>상호명_소</th>\n",
       "    </tr>\n",
       "  </thead>\n",
       "  <tbody>\n",
       "    <tr>\n",
       "      <th>0</th>\n",
       "      <td>커피점/카페</td>\n",
       "      <td>이디야커피</td>\n",
       "      <td>강원도</td>\n",
       "      <td>이디야커피</td>\n",
       "    </tr>\n",
       "    <tr>\n",
       "      <th>1</th>\n",
       "      <td>커피점/카페</td>\n",
       "      <td>이디야커피</td>\n",
       "      <td>강원도</td>\n",
       "      <td>이디야커피</td>\n",
       "    </tr>\n",
       "    <tr>\n",
       "      <th>2</th>\n",
       "      <td>커피점/카페</td>\n",
       "      <td>이디야커피</td>\n",
       "      <td>강원도</td>\n",
       "      <td>이디야커피</td>\n",
       "    </tr>\n",
       "  </tbody>\n",
       "</table>\n",
       "</div>"
      ],
      "text/plain": [
       "  상권업종중분류명    상호명  시도명  상호명_소\n",
       "0   커피점/카페  이디야커피  강원도  이디야커피\n",
       "1   커피점/카페  이디야커피  강원도  이디야커피\n",
       "2   커피점/카페  이디야커피  강원도  이디야커피"
      ]
     },
     "execution_count": 23,
     "metadata": {},
     "output_type": "execute_result"
    }
   ],
   "source": [
    "df_edi = df_coffee.loc[df_coffee.상호명.str.contains('이디야'), :]\n",
    "df_edi.reset_index(drop=True, inplace=True)\n",
    "\n",
    "print('전국 이디야 점포 수 :', len(df_edi))\n",
    "df_edi.head(3)"
   ]
  },
  {
   "cell_type": "markdown",
   "metadata": {
    "id": "njptGIWVlpJ8"
   },
   "source": [
    "#### 서울 이디야"
   ]
  },
  {
   "cell_type": "code",
   "execution_count": 24,
   "metadata": {
    "ExecuteTime": {
     "end_time": "2023-06-30T04:39:11.968207Z",
     "start_time": "2023-06-30T04:39:11.945304Z"
    },
    "id": "G5OKg_yzlpJ8"
   },
   "outputs": [
    {
     "name": "stdout",
     "output_type": "stream",
     "text": [
      "서울시 내 이디야 점포 수 : 412\n"
     ]
    },
    {
     "data": {
      "text/html": [
       "<div>\n",
       "<style scoped>\n",
       "    .dataframe tbody tr th:only-of-type {\n",
       "        vertical-align: middle;\n",
       "    }\n",
       "\n",
       "    .dataframe tbody tr th {\n",
       "        vertical-align: top;\n",
       "    }\n",
       "\n",
       "    .dataframe thead th {\n",
       "        text-align: right;\n",
       "    }\n",
       "</style>\n",
       "<table border=\"1\" class=\"dataframe\">\n",
       "  <thead>\n",
       "    <tr style=\"text-align: right;\">\n",
       "      <th></th>\n",
       "      <th>상권업종중분류명</th>\n",
       "      <th>상호명</th>\n",
       "      <th>시도명</th>\n",
       "      <th>상호명_소</th>\n",
       "    </tr>\n",
       "  </thead>\n",
       "  <tbody>\n",
       "    <tr>\n",
       "      <th>0</th>\n",
       "      <td>커피점/카페</td>\n",
       "      <td>이디야커피</td>\n",
       "      <td>서울특별시</td>\n",
       "      <td>이디야커피</td>\n",
       "    </tr>\n",
       "    <tr>\n",
       "      <th>1</th>\n",
       "      <td>커피점/카페</td>\n",
       "      <td>이디야커피</td>\n",
       "      <td>서울특별시</td>\n",
       "      <td>이디야커피</td>\n",
       "    </tr>\n",
       "    <tr>\n",
       "      <th>2</th>\n",
       "      <td>커피점/카페</td>\n",
       "      <td>이디야커피양재AT점</td>\n",
       "      <td>서울특별시</td>\n",
       "      <td>이디야커피양재at점</td>\n",
       "    </tr>\n",
       "  </tbody>\n",
       "</table>\n",
       "</div>"
      ],
      "text/plain": [
       "  상권업종중분류명         상호명    시도명       상호명_소\n",
       "0   커피점/카페       이디야커피  서울특별시       이디야커피\n",
       "1   커피점/카페       이디야커피  서울특별시       이디야커피\n",
       "2   커피점/카페  이디야커피양재AT점  서울특별시  이디야커피양재at점"
      ]
     },
     "execution_count": 24,
     "metadata": {},
     "output_type": "execute_result"
    }
   ],
   "source": [
    "# 이번엔 서울에 있는 이디야를 뽑아냅니다.\n",
    "df_edi_seoul = df_edi.loc[df_edi['시도명']=='서울특별시', :]\n",
    "\n",
    "df_edi_seoul.index = range(len(df_edi_seoul))\n",
    "print('서울시 내 이디야 점포 수 :', len(df_edi_seoul))\n",
    "df_edi_seoul.head(3)"
   ]
  },
  {
   "cell_type": "markdown",
   "metadata": {
    "id": "slHA3BMzlpJ8"
   },
   "source": [
    "#### 전국 투썸 "
   ]
  },
  {
   "cell_type": "code",
   "execution_count": 25,
   "metadata": {
    "ExecuteTime": {
     "end_time": "2023-06-30T04:39:12.059916Z",
     "start_time": "2023-06-30T04:39:11.972699Z"
    },
    "id": "o_RDAE3LlpJ9"
   },
   "outputs": [
    {
     "name": "stdout",
     "output_type": "stream",
     "text": [
      "전국 투썸 점포 수 : 1038\n"
     ]
    },
    {
     "data": {
      "text/html": [
       "<div>\n",
       "<style scoped>\n",
       "    .dataframe tbody tr th:only-of-type {\n",
       "        vertical-align: middle;\n",
       "    }\n",
       "\n",
       "    .dataframe tbody tr th {\n",
       "        vertical-align: top;\n",
       "    }\n",
       "\n",
       "    .dataframe thead th {\n",
       "        text-align: right;\n",
       "    }\n",
       "</style>\n",
       "<table border=\"1\" class=\"dataframe\">\n",
       "  <thead>\n",
       "    <tr style=\"text-align: right;\">\n",
       "      <th></th>\n",
       "      <th>상권업종중분류명</th>\n",
       "      <th>상호명</th>\n",
       "      <th>시도명</th>\n",
       "      <th>상호명_소</th>\n",
       "    </tr>\n",
       "  </thead>\n",
       "  <tbody>\n",
       "    <tr>\n",
       "      <th>0</th>\n",
       "      <td>커피점/카페</td>\n",
       "      <td>투썸플레이스</td>\n",
       "      <td>강원도</td>\n",
       "      <td>투썸플레이스</td>\n",
       "    </tr>\n",
       "    <tr>\n",
       "      <th>1</th>\n",
       "      <td>커피점/카페</td>\n",
       "      <td>투썸플레이스</td>\n",
       "      <td>강원도</td>\n",
       "      <td>투썸플레이스</td>\n",
       "    </tr>\n",
       "    <tr>\n",
       "      <th>2</th>\n",
       "      <td>커피점/카페</td>\n",
       "      <td>투썸플레이스</td>\n",
       "      <td>강원도</td>\n",
       "      <td>투썸플레이스</td>\n",
       "    </tr>\n",
       "  </tbody>\n",
       "</table>\n",
       "</div>"
      ],
      "text/plain": [
       "  상권업종중분류명     상호명  시도명   상호명_소\n",
       "0   커피점/카페  투썸플레이스  강원도  투썸플레이스\n",
       "1   커피점/카페  투썸플레이스  강원도  투썸플레이스\n",
       "2   커피점/카페  투썸플레이스  강원도  투썸플레이스"
      ]
     },
     "execution_count": 25,
     "metadata": {},
     "output_type": "execute_result"
    }
   ],
   "source": [
    "df_two = df_coffee.loc[df_coffee.상호명.str.contains('투썸'), :]\n",
    "df_two.reset_index(drop=True, inplace=True)\n",
    "\n",
    "print('전국 투썸 점포 수 :', len(df_two))\n",
    "df_two.head(3)"
   ]
  },
  {
   "cell_type": "markdown",
   "metadata": {
    "id": "tpzd_OV0lpJ9"
   },
   "source": [
    "#### 서울 투썸 "
   ]
  },
  {
   "cell_type": "code",
   "execution_count": 26,
   "metadata": {
    "ExecuteTime": {
     "end_time": "2023-06-30T04:39:12.091329Z",
     "start_time": "2023-06-30T04:39:12.062909Z"
    },
    "id": "QuPMUYfFlpJ9"
   },
   "outputs": [
    {
     "name": "stdout",
     "output_type": "stream",
     "text": [
      "서울시 내 투썸 점포 수 : 241\n"
     ]
    },
    {
     "data": {
      "text/html": [
       "<div>\n",
       "<style scoped>\n",
       "    .dataframe tbody tr th:only-of-type {\n",
       "        vertical-align: middle;\n",
       "    }\n",
       "\n",
       "    .dataframe tbody tr th {\n",
       "        vertical-align: top;\n",
       "    }\n",
       "\n",
       "    .dataframe thead th {\n",
       "        text-align: right;\n",
       "    }\n",
       "</style>\n",
       "<table border=\"1\" class=\"dataframe\">\n",
       "  <thead>\n",
       "    <tr style=\"text-align: right;\">\n",
       "      <th></th>\n",
       "      <th>상권업종중분류명</th>\n",
       "      <th>상호명</th>\n",
       "      <th>시도명</th>\n",
       "      <th>상호명_소</th>\n",
       "    </tr>\n",
       "  </thead>\n",
       "  <tbody>\n",
       "    <tr>\n",
       "      <th>0</th>\n",
       "      <td>커피점/카페</td>\n",
       "      <td>투썸플레이스서울대역중앙점</td>\n",
       "      <td>서울특별시</td>\n",
       "      <td>투썸플레이스서울대역중앙점</td>\n",
       "    </tr>\n",
       "    <tr>\n",
       "      <th>1</th>\n",
       "      <td>커피점/카페</td>\n",
       "      <td>투썸플레이스</td>\n",
       "      <td>서울특별시</td>\n",
       "      <td>투썸플레이스</td>\n",
       "    </tr>\n",
       "    <tr>\n",
       "      <th>2</th>\n",
       "      <td>커피점/카페</td>\n",
       "      <td>투썸플레이스</td>\n",
       "      <td>서울특별시</td>\n",
       "      <td>투썸플레이스</td>\n",
       "    </tr>\n",
       "  </tbody>\n",
       "</table>\n",
       "</div>"
      ],
      "text/plain": [
       "  상권업종중분류명            상호명    시도명          상호명_소\n",
       "0   커피점/카페  투썸플레이스서울대역중앙점  서울특별시  투썸플레이스서울대역중앙점\n",
       "1   커피점/카페         투썸플레이스  서울특별시         투썸플레이스\n",
       "2   커피점/카페         투썸플레이스  서울특별시         투썸플레이스"
      ]
     },
     "execution_count": 26,
     "metadata": {},
     "output_type": "execute_result"
    }
   ],
   "source": [
    "# 이번엔 서울에 있는 투썸을 뽑아냅니다.\n",
    "df_two_seoul = df_two.loc[df_two['시도명']=='서울특별시', :]\n",
    "\n",
    "df_two_seoul.index = range(len(df_two_seoul))\n",
    "print('서울시 내 투썸 점포 수 :', len(df_two_seoul))\n",
    "df_two_seoul.head(3)"
   ]
  },
  {
   "cell_type": "code",
   "execution_count": 27,
   "metadata": {
    "ExecuteTime": {
     "end_time": "2023-06-30T04:39:12.175246Z",
     "start_time": "2023-06-30T04:39:12.094337Z"
    }
   },
   "outputs": [
    {
     "name": "stdout",
     "output_type": "stream",
     "text": [
      "전국 빽다방 점포 수 : 726\n",
      "서울시 내 빽다방 점포 수 : 141\n"
     ]
    },
    {
     "data": {
      "text/html": [
       "<div>\n",
       "<style scoped>\n",
       "    .dataframe tbody tr th:only-of-type {\n",
       "        vertical-align: middle;\n",
       "    }\n",
       "\n",
       "    .dataframe tbody tr th {\n",
       "        vertical-align: top;\n",
       "    }\n",
       "\n",
       "    .dataframe thead th {\n",
       "        text-align: right;\n",
       "    }\n",
       "</style>\n",
       "<table border=\"1\" class=\"dataframe\">\n",
       "  <thead>\n",
       "    <tr style=\"text-align: right;\">\n",
       "      <th></th>\n",
       "      <th>상권업종중분류명</th>\n",
       "      <th>상호명</th>\n",
       "      <th>시도명</th>\n",
       "      <th>상호명_소</th>\n",
       "    </tr>\n",
       "  </thead>\n",
       "  <tbody>\n",
       "    <tr>\n",
       "      <th>0</th>\n",
       "      <td>커피점/카페</td>\n",
       "      <td>빽다방공덕새창로점</td>\n",
       "      <td>서울특별시</td>\n",
       "      <td>빽다방공덕새창로점</td>\n",
       "    </tr>\n",
       "    <tr>\n",
       "      <th>1</th>\n",
       "      <td>커피점/카페</td>\n",
       "      <td>빽다방서초우성점</td>\n",
       "      <td>서울특별시</td>\n",
       "      <td>빽다방서초우성점</td>\n",
       "    </tr>\n",
       "    <tr>\n",
       "      <th>2</th>\n",
       "      <td>커피점/카페</td>\n",
       "      <td>빽다방중계은행사거리점</td>\n",
       "      <td>서울특별시</td>\n",
       "      <td>빽다방중계은행사거리점</td>\n",
       "    </tr>\n",
       "  </tbody>\n",
       "</table>\n",
       "</div>"
      ],
      "text/plain": [
       "  상권업종중분류명          상호명    시도명        상호명_소\n",
       "0   커피점/카페    빽다방공덕새창로점  서울특별시    빽다방공덕새창로점\n",
       "1   커피점/카페     빽다방서초우성점  서울특별시     빽다방서초우성점\n",
       "2   커피점/카페  빽다방중계은행사거리점  서울특별시  빽다방중계은행사거리점"
      ]
     },
     "execution_count": 27,
     "metadata": {},
     "output_type": "execute_result"
    }
   ],
   "source": [
    "# 빽다방\n",
    "df_bbaek = df_coffee.loc[df_coffee.상호명.str.contains('빽다방'), :]\n",
    "df_bbaek.reset_index(drop=True, inplace=True)\n",
    "\n",
    "print('전국 빽다방 점포 수 :', len(df_bbaek))\n",
    "\n",
    "\n",
    "# 서울\n",
    "df_bbaek_seoul = df_bbaek.loc[df_bbaek['시도명']=='서울특별시', :]\n",
    "\n",
    "df_bbaek_seoul.index = range(len(df_bbaek_seoul))\n",
    "print('서울시 내 빽다방 점포 수 :', len(df_bbaek_seoul))\n",
    "df_bbaek_seoul.head(3)"
   ]
  },
  {
   "cell_type": "markdown",
   "metadata": {
    "id": "iJmmeLoflpJ9"
   },
   "source": [
    "### 3. 커피전문점 별 비율 비교하기 (주요 브랜드 위주로)"
   ]
  },
  {
   "cell_type": "markdown",
   "metadata": {
    "id": "7hx-ZlX9lpJ9"
   },
   "source": [
    "**변수**\n",
    "\n",
    "- 전체 점포 : data\n",
    "- 전체/서울 커피전문점 : df_coffee / df_seoul_starbucks\n",
    "\n",
    "\n",
    "\n",
    "- 전체/서울 스타벅스 : df_starbucks / df_seoul_starbucks\n",
    "- 전체/서울 이디야 : df_ediya / df_seoul_ediya\n",
    "- 전체/서울 투썸플레이스 : df_2some / df_seoul_2some\n",
    "- 전체/서울 빽다방 : df_bbaek / df_seoul_bbaek"
   ]
  },
  {
   "cell_type": "markdown",
   "metadata": {
    "id": "uXQOWyAblpJ9"
   },
   "source": [
    "#### 전체 커피전문점 내 주요 커피브랜드 입점 비율 "
   ]
  },
  {
   "cell_type": "code",
   "execution_count": 28,
   "metadata": {
    "ExecuteTime": {
     "end_time": "2023-06-30T04:39:12.197105Z",
     "start_time": "2023-06-30T04:39:12.178241Z"
    },
    "id": "uZu5P5pnlpJ9"
   },
   "outputs": [
    {
     "name": "stdout",
     "output_type": "stream",
     "text": [
      "**** 전국 커피전문점중 주요 4대 커피브랜드 입점 비율 ****\n",
      "5.26%\n"
     ]
    }
   ],
   "source": [
    "print(\"**** 전국 커피전문점중 주요 4대 커피브랜드 입점 비율 ****\")\n",
    "major_cafe_rate = (len(df_star) + len(df_edi) + len(df_two) + len(df_bbaek)) / len(df_coffee)\n",
    "print('%.2f%%' % (major_cafe_rate * 100))"
   ]
  },
  {
   "cell_type": "markdown",
   "metadata": {
    "id": "HLJfKq5SlpJ9"
   },
   "source": [
    "#### 서울 커피전문점 내 주요 커피브랜드 입점 비율 "
   ]
  },
  {
   "cell_type": "code",
   "execution_count": 29,
   "metadata": {
    "ExecuteTime": {
     "end_time": "2023-06-30T04:39:12.212414Z",
     "start_time": "2023-06-30T04:39:12.197105Z"
    },
    "id": "ZenyIdgUlpJ9"
   },
   "outputs": [
    {
     "name": "stdout",
     "output_type": "stream",
     "text": [
      "스타벅스: 2.507%\n",
      "이디야: 2.212%\n",
      "투썸플레이스: 1.294%\n",
      "빽다방: 0.757%\n"
     ]
    }
   ],
   "source": [
    "print('스타벅스: %.3f%%' % (len(df_star_seoul) / len(df_coffee_seoul) * 100))\n",
    "print('이디야: %.3f%%' % (len(df_edi_seoul) / len(df_coffee_seoul) * 100))\n",
    "print(\"투썸플레이스: %.3f%%\" % (len(df_two_seoul) / len(df_coffee_seoul) * 100))\n",
    "print(\"빽다방: %.3f%%\" % (len(df_bbaek_seoul) / len(df_coffee_seoul) * 100))"
   ]
  },
  {
   "cell_type": "markdown",
   "metadata": {
    "id": "U5wMZ7dMlpJ9"
   },
   "source": [
    "#### 각 커피브랜드별 서울 입점 비율 "
   ]
  },
  {
   "cell_type": "code",
   "execution_count": 30,
   "metadata": {
    "ExecuteTime": {
     "end_time": "2023-06-30T04:39:12.234721Z",
     "start_time": "2023-06-30T04:39:12.215406Z"
    },
    "id": "gW__KgYblpJ9"
   },
   "outputs": [
    {
     "name": "stdout",
     "output_type": "stream",
     "text": [
      "**** 주요 커피브랜드별 서울 입점 비율 ****\n",
      "스타벅스: 31.071%\n",
      "이디야: 19.952%\n",
      "투썸플레이스: 23.218%\n",
      "빽다방: 19.421%\n"
     ]
    }
   ],
   "source": [
    "print(\"**** 주요 커피브랜드별 서울 입점 비율 ****\")\n",
    "\n",
    "print('스타벅스: %.3f%%' % (len(df_star_seoul) / len(df_star) * 100))\n",
    "print('이디야: %.3f%%' % (len(df_edi_seoul) / len(df_edi) * 100))\n",
    "print(\"투썸플레이스: %.3f%%\" % (len(df_two_seoul) / len(df_two) * 100))\n",
    "print(\"빽다방: %.3f%%\" % (len(df_bbaek_seoul) / len(df_bbaek) * 100))"
   ]
  },
  {
   "cell_type": "code",
   "execution_count": 31,
   "metadata": {
    "ExecuteTime": {
     "end_time": "2023-06-30T04:39:12.491393Z",
     "start_time": "2023-06-30T04:39:12.234721Z"
    },
    "id": "JospIat2lpJ9"
   },
   "outputs": [
    {
     "data": {
      "image/png": "[encoded data removed]",
      "text/plain": [
       "<Figure size 800x600 with 1 Axes>"
      ]
     },
     "metadata": {},
     "output_type": "display_data"
    }
   ],
   "source": [
    "# 주요 3대 커피브랜드 서울 입점 비율을 시각화합니다.\n",
    "top3_cafe = pd.DataFrame({\"Coffee_Brand\" : ['Starbucks', 'Twosome', 'Ediya', 'Bbaek'],\n",
    "                          \"Ratio(%)\": [31.071, 19.952, 23.218, 19.421]})\n",
    "#top3_cafe\n",
    "plt.figure(figsize=(8, 6))\n",
    "#sns.barplot(data=top3_cafe, x=\"Coffee_Brand\", y=\"Ratio(%)\", palette=\"Set2\")\n",
    "plt.xlabel('Coffee Brand', fontsize=8)\n",
    "plt.ylabel('Ratio(%)', fontsize=8)\n",
    "sns.barplot(x=['Starbucks', 'Twosome', 'Ediya', 'Bbaek'], y=[31.071, 19.952, 23.218, 19.421], palette=\"Set2\")\n",
    "plt.show()"
   ]
  }
 ],
 "metadata": {
  "colab": {
   "collapsed_sections": [],
   "name": "Chapter.03 탐색적 데이터 분석-04. Case3. 공공데이터 분석 - 커피전문점.ipynb",
   "provenance": []
  },
  "hide_input": false,
  "kernelspec": {
   "display_name": "Python 3 (ipykernel)",
   "language": "python",
   "name": "python3"
  },
  "language_info": {
   "codemirror_mode": {
    "name": "ipython",
    "version": 3
   },
   "file_extension": ".py",
   "mimetype": "text/x-python",
   "name": "python",
   "nbconvert_exporter": "python",
   "pygments_lexer": "ipython3",
   "version": "3.9.16"
  },
  "toc": {
   "base_numbering": 1,
   "nav_menu": {},
   "number_sections": true,
   "sideBar": true,
   "skip_h1_title": true,
   "title_cell": "Table of Contents",
   "title_sidebar": "Contents",
   "toc_cell": false,
   "toc_position": {},
   "toc_section_display": true,
   "toc_window_display": false
  }
 },
 "nbformat": 4,
 "nbformat_minor": 4
}
