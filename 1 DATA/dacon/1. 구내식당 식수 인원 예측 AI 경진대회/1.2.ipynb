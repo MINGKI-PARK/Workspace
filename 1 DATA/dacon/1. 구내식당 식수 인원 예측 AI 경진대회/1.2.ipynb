{
 "cells": [
  {
   "cell_type": "code",
   "execution_count": 1,
   "id": "5a055051-3ad6-4c38-9a96-09ef5c2bff1f",
   "metadata": {},
   "outputs": [],
   "source": [
    "import numpy as np\n",
    "import pandas as pd\n",
    "import matplotlib.pyplot as plt \n",
    "import seaborn as sns \n",
    "\n",
    "# 커널을 구성하다보면 에러는 아니지만, 빨간색 네모 박스 warning이 뜨는 경우가 많다. \n",
    "# 그런 보기 싫은 부분들을 제거해주겠다.\n",
    "import warnings\n",
    "warnings.filterwarnings('ignore')\n",
    "\n",
    "# os 패키지를 통해 현재 디렉토리 위치를 변경하고, read_csv를 더 편리하게 할 수 있음\n",
    "import os\n",
    "os.getcwd() # 현재 디렉토리 파악\n",
    "# os.chdir(r\"______\") # 불러오고 싶은 파일이 위치한 주소를 ___에 입력\n",
    "\n",
    "# 다른 노트북 작성할 때도 이 셀만 떼서 사용 가능하다.\n",
    "import platform                \n",
    "\n",
    "# 웬만하면 해주는 것이 좋다.\n",
    "from matplotlib import font_manager, rc\n",
    "plt.rcParams['axes.unicode_minus'] = False\n",
    "\n",
    "if platform.system() == 'Darwin': #맥os 사용자의 경우에\n",
    "    plt.style.use('seaborn-darkgrid') \n",
    "    rc('font', family = 'AppleGothic')\n",
    "    \n",
    "elif platform.system() == 'Windows':#윈도우 사용자의 경우에\n",
    "    path = 'c:/Windows/Fonts/malgun.ttf'\n",
    "    font_name = font_manager.FontProperties(fname=path).get_name()\n",
    "    plt.style.use('seaborn-whitegrid') # https://python-graph-gallery.com/199-matplotlib-style-sheets/\n",
    "    rc('font', family=font_name)\n",
    "    \n",
    "# tqdm\n",
    "from tqdm.notebook import tqdm"
   ]
  },
  {
   "cell_type": "markdown",
   "id": "6a5d0cb3-fcb3-483d-8a90-0361090f7856",
   "metadata": {},
   "source": [
    "## 1. 데이터 불러오기"
   ]
  },
  {
   "cell_type": "code",
   "execution_count": 2,
   "id": "f4f9e656-87e7-49fc-8f19-efec9a71183c",
   "metadata": {},
   "outputs": [
    {
     "data": {
      "text/plain": [
       "((1205, 12), (50, 10))"
      ]
     },
     "execution_count": 2,
     "metadata": {},
     "output_type": "execute_result"
    }
   ],
   "source": [
    "data_path = 'c:/reposit/data/dacon/235743_구내식당 식사 인원 예측 AI 경진대회_data/'\n",
    "\n",
    "train = pd.read_csv(data_path + 'train.csv')\n",
    "test = pd.read_csv(data_path + 'test.csv')\n",
    "\n",
    "train.shape, test.shape"
   ]
  },
  {
   "cell_type": "code",
   "execution_count": 3,
   "id": "2045ff89-ba01-4895-b3bc-082dfa3e8b58",
   "metadata": {},
   "outputs": [
    {
     "data": {
      "text/html": [
       "<div>\n",
       "<style scoped>\n",
       "    .dataframe tbody tr th:only-of-type {\n",
       "        vertical-align: middle;\n",
       "    }\n",
       "\n",
       "    .dataframe tbody tr th {\n",
       "        vertical-align: top;\n",
       "    }\n",
       "\n",
       "    .dataframe thead th {\n",
       "        text-align: right;\n",
       "    }\n",
       "</style>\n",
       "<table border=\"1\" class=\"dataframe\">\n",
       "  <thead>\n",
       "    <tr style=\"text-align: right;\">\n",
       "      <th></th>\n",
       "      <th>일자</th>\n",
       "      <th>요일</th>\n",
       "      <th>본사정원수</th>\n",
       "      <th>본사휴가자수</th>\n",
       "      <th>본사출장자수</th>\n",
       "      <th>본사시간외근무명령서승인건수</th>\n",
       "      <th>현본사소속재택근무자수</th>\n",
       "      <th>조식메뉴</th>\n",
       "      <th>중식메뉴</th>\n",
       "      <th>석식메뉴</th>\n",
       "      <th>중식계</th>\n",
       "      <th>석식계</th>\n",
       "    </tr>\n",
       "  </thead>\n",
       "  <tbody>\n",
       "    <tr>\n",
       "      <th>0</th>\n",
       "      <td>2016-02-01</td>\n",
       "      <td>월</td>\n",
       "      <td>2601</td>\n",
       "      <td>50</td>\n",
       "      <td>150</td>\n",
       "      <td>238</td>\n",
       "      <td>0.0</td>\n",
       "      <td>모닝롤/찐빵  우유/두유/주스 계란후라이  호두죽/쌀밥 (쌀:국내산) 된장찌개  쥐...</td>\n",
       "      <td>쌀밥/잡곡밥 (쌀,현미흑미:국내산) 오징어찌개  쇠불고기 (쇠고기:호주산) 계란찜 ...</td>\n",
       "      <td>쌀밥/잡곡밥 (쌀,현미흑미:국내산) 육개장  자반고등어구이  두부조림  건파래무침 ...</td>\n",
       "      <td>1039.0</td>\n",
       "      <td>331.0</td>\n",
       "    </tr>\n",
       "  </tbody>\n",
       "</table>\n",
       "</div>"
      ],
      "text/plain": [
       "           일자 요일  본사정원수  본사휴가자수  본사출장자수  본사시간외근무명령서승인건수  현본사소속재택근무자수  \\\n",
       "0  2016-02-01  월   2601      50     150             238          0.0   \n",
       "\n",
       "                                                조식메뉴  \\\n",
       "0  모닝롤/찐빵  우유/두유/주스 계란후라이  호두죽/쌀밥 (쌀:국내산) 된장찌개  쥐...   \n",
       "\n",
       "                                                중식메뉴  \\\n",
       "0  쌀밥/잡곡밥 (쌀,현미흑미:국내산) 오징어찌개  쇠불고기 (쇠고기:호주산) 계란찜 ...   \n",
       "\n",
       "                                                석식메뉴     중식계    석식계  \n",
       "0  쌀밥/잡곡밥 (쌀,현미흑미:국내산) 육개장  자반고등어구이  두부조림  건파래무침 ...  1039.0  331.0  "
      ]
     },
     "execution_count": 3,
     "metadata": {},
     "output_type": "execute_result"
    }
   ],
   "source": [
    "train.head(1)"
   ]
  },
  {
   "cell_type": "code",
   "execution_count": 4,
   "id": "c404ce30-0ad8-4722-9408-04bb6e64fc31",
   "metadata": {},
   "outputs": [
    {
     "data": {
      "text/html": [
       "<div>\n",
       "<style scoped>\n",
       "    .dataframe tbody tr th:only-of-type {\n",
       "        vertical-align: middle;\n",
       "    }\n",
       "\n",
       "    .dataframe tbody tr th {\n",
       "        vertical-align: top;\n",
       "    }\n",
       "\n",
       "    .dataframe thead th {\n",
       "        text-align: right;\n",
       "    }\n",
       "</style>\n",
       "<table border=\"1\" class=\"dataframe\">\n",
       "  <thead>\n",
       "    <tr style=\"text-align: right;\">\n",
       "      <th></th>\n",
       "      <th>일자</th>\n",
       "      <th>요일</th>\n",
       "      <th>본사정원수</th>\n",
       "      <th>본사휴가자수</th>\n",
       "      <th>본사출장자수</th>\n",
       "      <th>본사시간외근무명령서승인건수</th>\n",
       "      <th>현본사소속재택근무자수</th>\n",
       "      <th>조식메뉴</th>\n",
       "      <th>중식메뉴</th>\n",
       "      <th>석식메뉴</th>\n",
       "    </tr>\n",
       "  </thead>\n",
       "  <tbody>\n",
       "    <tr>\n",
       "      <th>0</th>\n",
       "      <td>2021-01-27</td>\n",
       "      <td>수</td>\n",
       "      <td>2983</td>\n",
       "      <td>88</td>\n",
       "      <td>182</td>\n",
       "      <td>5</td>\n",
       "      <td>358.0</td>\n",
       "      <td>모닝롤/연유버터베이글 우유/주스 계란후라이/찐계란 단호박죽/흑미밥 우거지국 고기완자...</td>\n",
       "      <td>쌀밥/흑미밥/찰현미밥 대구지리 매운돈갈비찜 오꼬노미계란말이 상추무침 포기김치 양상추...</td>\n",
       "      <td>흑미밥 얼큰순두부찌개 쇠고기우엉볶음 버섯햄볶음 (New)아삭이고추무절임 포기김치</td>\n",
       "    </tr>\n",
       "  </tbody>\n",
       "</table>\n",
       "</div>"
      ],
      "text/plain": [
       "           일자 요일  본사정원수  본사휴가자수  본사출장자수  본사시간외근무명령서승인건수  현본사소속재택근무자수  \\\n",
       "0  2021-01-27  수   2983      88     182               5        358.0   \n",
       "\n",
       "                                                조식메뉴  \\\n",
       "0  모닝롤/연유버터베이글 우유/주스 계란후라이/찐계란 단호박죽/흑미밥 우거지국 고기완자...   \n",
       "\n",
       "                                                중식메뉴  \\\n",
       "0  쌀밥/흑미밥/찰현미밥 대구지리 매운돈갈비찜 오꼬노미계란말이 상추무침 포기김치 양상추...   \n",
       "\n",
       "                                            석식메뉴  \n",
       "0  흑미밥 얼큰순두부찌개 쇠고기우엉볶음 버섯햄볶음 (New)아삭이고추무절임 포기김치   "
      ]
     },
     "execution_count": 4,
     "metadata": {},
     "output_type": "execute_result"
    }
   ],
   "source": [
    "test.head(1)"
   ]
  },
  {
   "cell_type": "code",
   "execution_count": 5,
   "id": "3bd24754-7da1-4761-b29d-2247f8c09ed4",
   "metadata": {},
   "outputs": [
    {
     "name": "stdout",
     "output_type": "stream",
     "text": [
      "<class 'pandas.core.frame.DataFrame'>\n",
      "RangeIndex: 1205 entries, 0 to 1204\n",
      "Data columns (total 12 columns):\n",
      " #   Column          Non-Null Count  Dtype  \n",
      "---  ------          --------------  -----  \n",
      " 0   일자              1205 non-null   object \n",
      " 1   요일              1205 non-null   object \n",
      " 2   본사정원수           1205 non-null   int64  \n",
      " 3   본사휴가자수          1205 non-null   int64  \n",
      " 4   본사출장자수          1205 non-null   int64  \n",
      " 5   본사시간외근무명령서승인건수  1205 non-null   int64  \n",
      " 6   현본사소속재택근무자수     1205 non-null   float64\n",
      " 7   조식메뉴            1205 non-null   object \n",
      " 8   중식메뉴            1205 non-null   object \n",
      " 9   석식메뉴            1205 non-null   object \n",
      " 10  중식계             1205 non-null   float64\n",
      " 11  석식계             1205 non-null   float64\n",
      "dtypes: float64(3), int64(4), object(5)\n",
      "memory usage: 113.1+ KB\n"
     ]
    }
   ],
   "source": [
    "train.info()"
   ]
  },
  {
   "cell_type": "code",
   "execution_count": 6,
   "id": "7d211a98-aebf-4ea6-8249-b9433aa4f4b9",
   "metadata": {},
   "outputs": [
    {
     "name": "stdout",
     "output_type": "stream",
     "text": [
      "<class 'pandas.core.frame.DataFrame'>\n",
      "RangeIndex: 50 entries, 0 to 49\n",
      "Data columns (total 10 columns):\n",
      " #   Column          Non-Null Count  Dtype  \n",
      "---  ------          --------------  -----  \n",
      " 0   일자              50 non-null     object \n",
      " 1   요일              50 non-null     object \n",
      " 2   본사정원수           50 non-null     int64  \n",
      " 3   본사휴가자수          50 non-null     int64  \n",
      " 4   본사출장자수          50 non-null     int64  \n",
      " 5   본사시간외근무명령서승인건수  50 non-null     int64  \n",
      " 6   현본사소속재택근무자수     50 non-null     float64\n",
      " 7   조식메뉴            50 non-null     object \n",
      " 8   중식메뉴            50 non-null     object \n",
      " 9   석식메뉴            50 non-null     object \n",
      "dtypes: float64(1), int64(4), object(5)\n",
      "memory usage: 4.0+ KB\n"
     ]
    }
   ],
   "source": [
    "test.info()"
   ]
  },
  {
   "cell_type": "code",
   "execution_count": 7,
   "id": "052ac0fc-dc9f-46fc-ae27-eca662d6cf8e",
   "metadata": {},
   "outputs": [
    {
     "data": {
      "text/html": [
       "<div>\n",
       "<style scoped>\n",
       "    .dataframe tbody tr th:only-of-type {\n",
       "        vertical-align: middle;\n",
       "    }\n",
       "\n",
       "    .dataframe tbody tr th {\n",
       "        vertical-align: top;\n",
       "    }\n",
       "\n",
       "    .dataframe thead th {\n",
       "        text-align: right;\n",
       "    }\n",
       "</style>\n",
       "<table border=\"1\" class=\"dataframe\">\n",
       "  <thead>\n",
       "    <tr style=\"text-align: right;\">\n",
       "      <th></th>\n",
       "      <th>본사정원수</th>\n",
       "      <th>본사휴가자수</th>\n",
       "      <th>본사출장자수</th>\n",
       "      <th>본사시간외근무명령서승인건수</th>\n",
       "      <th>현본사소속재택근무자수</th>\n",
       "      <th>중식계</th>\n",
       "      <th>석식계</th>\n",
       "    </tr>\n",
       "  </thead>\n",
       "  <tbody>\n",
       "    <tr>\n",
       "      <th>count</th>\n",
       "      <td>1205.000000</td>\n",
       "      <td>1205.000000</td>\n",
       "      <td>1205.000000</td>\n",
       "      <td>1205.000000</td>\n",
       "      <td>1205.000000</td>\n",
       "      <td>1205.000000</td>\n",
       "      <td>1205.000000</td>\n",
       "    </tr>\n",
       "    <tr>\n",
       "      <th>mean</th>\n",
       "      <td>2807.815768</td>\n",
       "      <td>157.913693</td>\n",
       "      <td>241.142739</td>\n",
       "      <td>274.117012</td>\n",
       "      <td>43.506224</td>\n",
       "      <td>890.334440</td>\n",
       "      <td>461.772614</td>\n",
       "    </tr>\n",
       "    <tr>\n",
       "      <th>std</th>\n",
       "      <td>171.264404</td>\n",
       "      <td>144.190572</td>\n",
       "      <td>43.532298</td>\n",
       "      <td>246.239651</td>\n",
       "      <td>109.937400</td>\n",
       "      <td>209.505057</td>\n",
       "      <td>139.179202</td>\n",
       "    </tr>\n",
       "    <tr>\n",
       "      <th>min</th>\n",
       "      <td>2601.000000</td>\n",
       "      <td>23.000000</td>\n",
       "      <td>41.000000</td>\n",
       "      <td>0.000000</td>\n",
       "      <td>0.000000</td>\n",
       "      <td>296.000000</td>\n",
       "      <td>0.000000</td>\n",
       "    </tr>\n",
       "    <tr>\n",
       "      <th>25%</th>\n",
       "      <td>2645.000000</td>\n",
       "      <td>71.000000</td>\n",
       "      <td>217.000000</td>\n",
       "      <td>4.000000</td>\n",
       "      <td>0.000000</td>\n",
       "      <td>758.000000</td>\n",
       "      <td>406.000000</td>\n",
       "    </tr>\n",
       "    <tr>\n",
       "      <th>50%</th>\n",
       "      <td>2760.000000</td>\n",
       "      <td>105.000000</td>\n",
       "      <td>245.000000</td>\n",
       "      <td>299.000000</td>\n",
       "      <td>0.000000</td>\n",
       "      <td>879.000000</td>\n",
       "      <td>483.000000</td>\n",
       "    </tr>\n",
       "    <tr>\n",
       "      <th>75%</th>\n",
       "      <td>2962.000000</td>\n",
       "      <td>185.000000</td>\n",
       "      <td>272.000000</td>\n",
       "      <td>452.000000</td>\n",
       "      <td>0.000000</td>\n",
       "      <td>1032.000000</td>\n",
       "      <td>545.000000</td>\n",
       "    </tr>\n",
       "    <tr>\n",
       "      <th>max</th>\n",
       "      <td>3305.000000</td>\n",
       "      <td>1224.000000</td>\n",
       "      <td>378.000000</td>\n",
       "      <td>1044.000000</td>\n",
       "      <td>533.000000</td>\n",
       "      <td>1459.000000</td>\n",
       "      <td>905.000000</td>\n",
       "    </tr>\n",
       "  </tbody>\n",
       "</table>\n",
       "</div>"
      ],
      "text/plain": [
       "             본사정원수       본사휴가자수       본사출장자수  본사시간외근무명령서승인건수  현본사소속재택근무자수  \\\n",
       "count  1205.000000  1205.000000  1205.000000     1205.000000  1205.000000   \n",
       "mean   2807.815768   157.913693   241.142739      274.117012    43.506224   \n",
       "std     171.264404   144.190572    43.532298      246.239651   109.937400   \n",
       "min    2601.000000    23.000000    41.000000        0.000000     0.000000   \n",
       "25%    2645.000000    71.000000   217.000000        4.000000     0.000000   \n",
       "50%    2760.000000   105.000000   245.000000      299.000000     0.000000   \n",
       "75%    2962.000000   185.000000   272.000000      452.000000     0.000000   \n",
       "max    3305.000000  1224.000000   378.000000     1044.000000   533.000000   \n",
       "\n",
       "               중식계          석식계  \n",
       "count  1205.000000  1205.000000  \n",
       "mean    890.334440   461.772614  \n",
       "std     209.505057   139.179202  \n",
       "min     296.000000     0.000000  \n",
       "25%     758.000000   406.000000  \n",
       "50%     879.000000   483.000000  \n",
       "75%    1032.000000   545.000000  \n",
       "max    1459.000000   905.000000  "
      ]
     },
     "execution_count": 7,
     "metadata": {},
     "output_type": "execute_result"
    }
   ],
   "source": [
    "train.describe()"
   ]
  },
  {
   "cell_type": "code",
   "execution_count": 8,
   "id": "dcf11937-5dff-4058-a495-77559bbdda65",
   "metadata": {},
   "outputs": [
    {
     "data": {
      "text/html": [
       "<div>\n",
       "<style scoped>\n",
       "    .dataframe tbody tr th:only-of-type {\n",
       "        vertical-align: middle;\n",
       "    }\n",
       "\n",
       "    .dataframe tbody tr th {\n",
       "        vertical-align: top;\n",
       "    }\n",
       "\n",
       "    .dataframe thead th {\n",
       "        text-align: right;\n",
       "    }\n",
       "</style>\n",
       "<table border=\"1\" class=\"dataframe\">\n",
       "  <thead>\n",
       "    <tr style=\"text-align: right;\">\n",
       "      <th></th>\n",
       "      <th>본사정원수</th>\n",
       "      <th>본사휴가자수</th>\n",
       "      <th>본사출장자수</th>\n",
       "      <th>본사시간외근무명령서승인건수</th>\n",
       "      <th>현본사소속재택근무자수</th>\n",
       "    </tr>\n",
       "  </thead>\n",
       "  <tbody>\n",
       "    <tr>\n",
       "      <th>count</th>\n",
       "      <td>50.000000</td>\n",
       "      <td>50.000000</td>\n",
       "      <td>50.000000</td>\n",
       "      <td>50.000000</td>\n",
       "      <td>50.000000</td>\n",
       "    </tr>\n",
       "    <tr>\n",
       "      <th>mean</th>\n",
       "      <td>2956.840000</td>\n",
       "      <td>129.520000</td>\n",
       "      <td>209.220000</td>\n",
       "      <td>380.140000</td>\n",
       "      <td>298.140000</td>\n",
       "    </tr>\n",
       "    <tr>\n",
       "      <th>std</th>\n",
       "      <td>24.968846</td>\n",
       "      <td>84.065873</td>\n",
       "      <td>39.454593</td>\n",
       "      <td>346.564304</td>\n",
       "      <td>52.058056</td>\n",
       "    </tr>\n",
       "    <tr>\n",
       "      <th>min</th>\n",
       "      <td>2924.000000</td>\n",
       "      <td>50.000000</td>\n",
       "      <td>131.000000</td>\n",
       "      <td>0.000000</td>\n",
       "      <td>179.000000</td>\n",
       "    </tr>\n",
       "    <tr>\n",
       "      <th>25%</th>\n",
       "      <td>2924.000000</td>\n",
       "      <td>78.250000</td>\n",
       "      <td>176.500000</td>\n",
       "      <td>1.000000</td>\n",
       "      <td>257.250000</td>\n",
       "    </tr>\n",
       "    <tr>\n",
       "      <th>50%</th>\n",
       "      <td>2974.000000</td>\n",
       "      <td>95.000000</td>\n",
       "      <td>202.500000</td>\n",
       "      <td>465.500000</td>\n",
       "      <td>300.000000</td>\n",
       "    </tr>\n",
       "    <tr>\n",
       "      <th>75%</th>\n",
       "      <td>2975.000000</td>\n",
       "      <td>137.500000</td>\n",
       "      <td>245.250000</td>\n",
       "      <td>681.000000</td>\n",
       "      <td>333.250000</td>\n",
       "    </tr>\n",
       "    <tr>\n",
       "      <th>max</th>\n",
       "      <td>2983.000000</td>\n",
       "      <td>489.000000</td>\n",
       "      <td>279.000000</td>\n",
       "      <td>1003.000000</td>\n",
       "      <td>413.000000</td>\n",
       "    </tr>\n",
       "  </tbody>\n",
       "</table>\n",
       "</div>"
      ],
      "text/plain": [
       "             본사정원수      본사휴가자수      본사출장자수  본사시간외근무명령서승인건수  현본사소속재택근무자수\n",
       "count    50.000000   50.000000   50.000000       50.000000    50.000000\n",
       "mean   2956.840000  129.520000  209.220000      380.140000   298.140000\n",
       "std      24.968846   84.065873   39.454593      346.564304    52.058056\n",
       "min    2924.000000   50.000000  131.000000        0.000000   179.000000\n",
       "25%    2924.000000   78.250000  176.500000        1.000000   257.250000\n",
       "50%    2974.000000   95.000000  202.500000      465.500000   300.000000\n",
       "75%    2975.000000  137.500000  245.250000      681.000000   333.250000\n",
       "max    2983.000000  489.000000  279.000000     1003.000000   413.000000"
      ]
     },
     "execution_count": 8,
     "metadata": {},
     "output_type": "execute_result"
    }
   ],
   "source": [
    "test.describe()"
   ]
  },
  {
   "cell_type": "code",
   "execution_count": 9,
   "id": "73ecc2ea-351e-4821-af98-38c6684011e1",
   "metadata": {},
   "outputs": [
    {
     "data": {
      "text/html": [
       "<div>\n",
       "<style scoped>\n",
       "    .dataframe tbody tr th:only-of-type {\n",
       "        vertical-align: middle;\n",
       "    }\n",
       "\n",
       "    .dataframe tbody tr th {\n",
       "        vertical-align: top;\n",
       "    }\n",
       "\n",
       "    .dataframe thead th {\n",
       "        text-align: right;\n",
       "    }\n",
       "</style>\n",
       "<table border=\"1\" class=\"dataframe\">\n",
       "  <thead>\n",
       "    <tr style=\"text-align: right;\">\n",
       "      <th></th>\n",
       "      <th>본사정원수</th>\n",
       "      <th>본사휴가자수</th>\n",
       "      <th>본사출장자수</th>\n",
       "      <th>본사시간외근무명령서승인건수</th>\n",
       "      <th>현본사소속재택근무자수</th>\n",
       "      <th>중식계</th>\n",
       "      <th>석식계</th>\n",
       "    </tr>\n",
       "  </thead>\n",
       "  <tbody>\n",
       "    <tr>\n",
       "      <th>본사정원수</th>\n",
       "      <td>1.000000</td>\n",
       "      <td>0.244666</td>\n",
       "      <td>-0.061688</td>\n",
       "      <td>0.146544</td>\n",
       "      <td>0.452293</td>\n",
       "      <td>-0.115529</td>\n",
       "      <td>-0.173852</td>\n",
       "    </tr>\n",
       "    <tr>\n",
       "      <th>본사휴가자수</th>\n",
       "      <td>0.244666</td>\n",
       "      <td>1.000000</td>\n",
       "      <td>-0.273318</td>\n",
       "      <td>-0.230789</td>\n",
       "      <td>0.065397</td>\n",
       "      <td>-0.391975</td>\n",
       "      <td>-0.316894</td>\n",
       "    </tr>\n",
       "    <tr>\n",
       "      <th>본사출장자수</th>\n",
       "      <td>-0.061688</td>\n",
       "      <td>-0.273318</td>\n",
       "      <td>1.000000</td>\n",
       "      <td>-0.308757</td>\n",
       "      <td>-0.352643</td>\n",
       "      <td>-0.512680</td>\n",
       "      <td>-0.188164</td>\n",
       "    </tr>\n",
       "    <tr>\n",
       "      <th>본사시간외근무명령서승인건수</th>\n",
       "      <td>0.146544</td>\n",
       "      <td>-0.230789</td>\n",
       "      <td>-0.308757</td>\n",
       "      <td>1.000000</td>\n",
       "      <td>0.156792</td>\n",
       "      <td>0.535611</td>\n",
       "      <td>0.571168</td>\n",
       "    </tr>\n",
       "    <tr>\n",
       "      <th>현본사소속재택근무자수</th>\n",
       "      <td>0.452293</td>\n",
       "      <td>0.065397</td>\n",
       "      <td>-0.352643</td>\n",
       "      <td>0.156792</td>\n",
       "      <td>1.000000</td>\n",
       "      <td>0.076509</td>\n",
       "      <td>-0.057534</td>\n",
       "    </tr>\n",
       "    <tr>\n",
       "      <th>중식계</th>\n",
       "      <td>-0.115529</td>\n",
       "      <td>-0.391975</td>\n",
       "      <td>-0.512680</td>\n",
       "      <td>0.535611</td>\n",
       "      <td>0.076509</td>\n",
       "      <td>1.000000</td>\n",
       "      <td>0.508287</td>\n",
       "    </tr>\n",
       "    <tr>\n",
       "      <th>석식계</th>\n",
       "      <td>-0.173852</td>\n",
       "      <td>-0.316894</td>\n",
       "      <td>-0.188164</td>\n",
       "      <td>0.571168</td>\n",
       "      <td>-0.057534</td>\n",
       "      <td>0.508287</td>\n",
       "      <td>1.000000</td>\n",
       "    </tr>\n",
       "  </tbody>\n",
       "</table>\n",
       "</div>"
      ],
      "text/plain": [
       "                   본사정원수    본사휴가자수    본사출장자수  본사시간외근무명령서승인건수  현본사소속재택근무자수  \\\n",
       "본사정원수           1.000000  0.244666 -0.061688        0.146544     0.452293   \n",
       "본사휴가자수          0.244666  1.000000 -0.273318       -0.230789     0.065397   \n",
       "본사출장자수         -0.061688 -0.273318  1.000000       -0.308757    -0.352643   \n",
       "본사시간외근무명령서승인건수  0.146544 -0.230789 -0.308757        1.000000     0.156792   \n",
       "현본사소속재택근무자수     0.452293  0.065397 -0.352643        0.156792     1.000000   \n",
       "중식계            -0.115529 -0.391975 -0.512680        0.535611     0.076509   \n",
       "석식계            -0.173852 -0.316894 -0.188164        0.571168    -0.057534   \n",
       "\n",
       "                     중식계       석식계  \n",
       "본사정원수          -0.115529 -0.173852  \n",
       "본사휴가자수         -0.391975 -0.316894  \n",
       "본사출장자수         -0.512680 -0.188164  \n",
       "본사시간외근무명령서승인건수  0.535611  0.571168  \n",
       "현본사소속재택근무자수     0.076509 -0.057534  \n",
       "중식계             1.000000  0.508287  \n",
       "석식계             0.508287  1.000000  "
      ]
     },
     "execution_count": 9,
     "metadata": {},
     "output_type": "execute_result"
    }
   ],
   "source": [
    "train.corr()"
   ]
  },
  {
   "cell_type": "markdown",
   "id": "13ddb752-999c-4f3f-92b0-343835d2dc6a",
   "metadata": {
    "tags": []
   },
   "source": [
    "## 2. 데이터 전처리"
   ]
  },
  {
   "cell_type": "markdown",
   "id": "4573b6dc-c414-4433-bb7d-bc6cf92789cf",
   "metadata": {},
   "source": [
    "### 2.1 조식, 중식, 석식 메뉴 없애기"
   ]
  },
  {
   "cell_type": "code",
   "execution_count": 10,
   "id": "761b06fe-9ac3-4738-a8c6-62b5365bf9ec",
   "metadata": {},
   "outputs": [],
   "source": [
    "drop_cols = ['조식메뉴', '중식메뉴', '석식메뉴']\n",
    "\n",
    "train = train.drop(drop_cols, axis=1)\n",
    "test = test.drop(drop_cols, axis=1)"
   ]
  },
  {
   "cell_type": "code",
   "execution_count": 11,
   "id": "193d22d6-dbdf-4b40-97f1-8c79d177feb0",
   "metadata": {},
   "outputs": [
    {
     "data": {
      "text/html": [
       "<div>\n",
       "<style scoped>\n",
       "    .dataframe tbody tr th:only-of-type {\n",
       "        vertical-align: middle;\n",
       "    }\n",
       "\n",
       "    .dataframe tbody tr th {\n",
       "        vertical-align: top;\n",
       "    }\n",
       "\n",
       "    .dataframe thead th {\n",
       "        text-align: right;\n",
       "    }\n",
       "</style>\n",
       "<table border=\"1\" class=\"dataframe\">\n",
       "  <thead>\n",
       "    <tr style=\"text-align: right;\">\n",
       "      <th></th>\n",
       "      <th>일자</th>\n",
       "      <th>요일</th>\n",
       "      <th>본사정원수</th>\n",
       "      <th>본사휴가자수</th>\n",
       "      <th>본사출장자수</th>\n",
       "      <th>본사시간외근무명령서승인건수</th>\n",
       "      <th>현본사소속재택근무자수</th>\n",
       "      <th>중식계</th>\n",
       "      <th>석식계</th>\n",
       "    </tr>\n",
       "  </thead>\n",
       "  <tbody>\n",
       "    <tr>\n",
       "      <th>0</th>\n",
       "      <td>2016-02-01</td>\n",
       "      <td>월</td>\n",
       "      <td>2601</td>\n",
       "      <td>50</td>\n",
       "      <td>150</td>\n",
       "      <td>238</td>\n",
       "      <td>0.0</td>\n",
       "      <td>1039.0</td>\n",
       "      <td>331.0</td>\n",
       "    </tr>\n",
       "  </tbody>\n",
       "</table>\n",
       "</div>"
      ],
      "text/plain": [
       "           일자 요일  본사정원수  본사휴가자수  본사출장자수  본사시간외근무명령서승인건수  현본사소속재택근무자수     중식계  \\\n",
       "0  2016-02-01  월   2601      50     150             238          0.0  1039.0   \n",
       "\n",
       "     석식계  \n",
       "0  331.0  "
      ]
     },
     "execution_count": 11,
     "metadata": {},
     "output_type": "execute_result"
    }
   ],
   "source": [
    "train.head(1)"
   ]
  },
  {
   "cell_type": "code",
   "execution_count": 12,
   "id": "8134f94f-fe22-40e9-b66c-365c903a1724",
   "metadata": {},
   "outputs": [
    {
     "data": {
      "text/html": [
       "<div>\n",
       "<style scoped>\n",
       "    .dataframe tbody tr th:only-of-type {\n",
       "        vertical-align: middle;\n",
       "    }\n",
       "\n",
       "    .dataframe tbody tr th {\n",
       "        vertical-align: top;\n",
       "    }\n",
       "\n",
       "    .dataframe thead th {\n",
       "        text-align: right;\n",
       "    }\n",
       "</style>\n",
       "<table border=\"1\" class=\"dataframe\">\n",
       "  <thead>\n",
       "    <tr style=\"text-align: right;\">\n",
       "      <th></th>\n",
       "      <th>일자</th>\n",
       "      <th>요일</th>\n",
       "      <th>본사정원수</th>\n",
       "      <th>본사휴가자수</th>\n",
       "      <th>본사출장자수</th>\n",
       "      <th>본사시간외근무명령서승인건수</th>\n",
       "      <th>현본사소속재택근무자수</th>\n",
       "    </tr>\n",
       "  </thead>\n",
       "  <tbody>\n",
       "    <tr>\n",
       "      <th>0</th>\n",
       "      <td>2021-01-27</td>\n",
       "      <td>수</td>\n",
       "      <td>2983</td>\n",
       "      <td>88</td>\n",
       "      <td>182</td>\n",
       "      <td>5</td>\n",
       "      <td>358.0</td>\n",
       "    </tr>\n",
       "  </tbody>\n",
       "</table>\n",
       "</div>"
      ],
      "text/plain": [
       "           일자 요일  본사정원수  본사휴가자수  본사출장자수  본사시간외근무명령서승인건수  현본사소속재택근무자수\n",
       "0  2021-01-27  수   2983      88     182               5        358.0"
      ]
     },
     "execution_count": 12,
     "metadata": {},
     "output_type": "execute_result"
    }
   ],
   "source": [
    "test.head(1)"
   ]
  },
  {
   "cell_type": "markdown",
   "id": "1f1aa499-2dfb-4bb6-aee2-9b97e4564ccc",
   "metadata": {
    "tags": []
   },
   "source": [
    "### 컬럼명 변경\n",
    "+ 본사정원수, 본사휴가자수, 본사출장자수, 본사시간외근무명령서승인건수, 현본사소속재택근무자수 컬럼명 변경"
   ]
  },
  {
   "cell_type": "code",
   "execution_count": 13,
   "id": "eea596d8-e3e8-4dc7-929c-e3e11374f17b",
   "metadata": {},
   "outputs": [
    {
     "data": {
      "text/plain": [
       "Index(['일자', '요일', '본사정원수', '본사휴가자수', '본사출장자수', '본사시간외근무명령서승인건수',\n",
       "       '현본사소속재택근무자수', '중식계', '석식계'],\n",
       "      dtype='object')"
      ]
     },
     "execution_count": 13,
     "metadata": {},
     "output_type": "execute_result"
    }
   ],
   "source": [
    "train.columns"
   ]
  },
  {
   "cell_type": "code",
   "execution_count": 14,
   "id": "674f74f5-2488-4073-a68b-f5b55a4e1246",
   "metadata": {},
   "outputs": [
    {
     "data": {
      "text/plain": [
       "Index(['일자', '요일', '정원수', '휴가자수', '출장자수', '야근수', '재택수', '중식계', '석식계'], dtype='object')"
      ]
     },
     "execution_count": 14,
     "metadata": {},
     "output_type": "execute_result"
    }
   ],
   "source": [
    "train = train.rename(columns={'본사정원수': '정원수',\n",
    "                              '본사휴가자수': '휴가자수',\n",
    "                              '본사출장자수': '출장자수',\n",
    "                              '본사시간외근무명령서승인건수': '야근수',\n",
    "                              '현본사소속재택근무자수': '재택수'})\n",
    "\n",
    "train.columns"
   ]
  },
  {
   "cell_type": "code",
   "execution_count": 15,
   "id": "b1a20dfb-9358-4ee9-b2b4-d055c02a1632",
   "metadata": {},
   "outputs": [
    {
     "data": {
      "text/plain": [
       "Index(['일자', '요일', '정원수', '휴가자수', '출장자수', '야근수', '재택수', '중식계', '석식계'], dtype='object')"
      ]
     },
     "execution_count": 15,
     "metadata": {},
     "output_type": "execute_result"
    }
   ],
   "source": [
    "test = test.rename(columns={'본사정원수': '정원수',\n",
    "                            '본사휴가자수': '휴가자수',\n",
    "                            '본사출장자수': '출장자수',\n",
    "                            '본사시간외근무명령서승인건수': '야근수',\n",
    "                            '현본사소속재택근무자수': '재택수'})\n",
    "\n",
    "train.columns"
   ]
  },
  {
   "cell_type": "markdown",
   "id": "9f1e56f2-4a56-4a73-9486-650b0db5475c",
   "metadata": {},
   "source": [
    "### 2.3 일자 타입 변경 및 컬럼 추가"
   ]
  },
  {
   "cell_type": "code",
   "execution_count": 16,
   "id": "0c312567-8178-4820-b1cd-aa44238cd1f1",
   "metadata": {},
   "outputs": [
    {
     "data": {
      "text/plain": [
       "DatetimeIndex(['2016-02-01', '2016-02-02', '2016-02-03', '2016-02-04',\n",
       "               '2016-02-05', '2016-02-11', '2016-02-12', '2016-02-15',\n",
       "               '2016-02-16', '2016-02-17',\n",
       "               ...\n",
       "               '2021-01-13', '2021-01-14', '2021-01-15', '2021-01-18',\n",
       "               '2021-01-19', '2021-01-20', '2021-01-21', '2021-01-22',\n",
       "               '2021-01-25', '2021-01-26'],\n",
       "              dtype='datetime64[ns]', name='일자', length=1205, freq=None)"
      ]
     },
     "execution_count": 16,
     "metadata": {},
     "output_type": "execute_result"
    }
   ],
   "source": [
    "pd.DatetimeIndex(train['일자'])"
   ]
  },
  {
   "cell_type": "code",
   "execution_count": 17,
   "id": "198631e1-b946-4344-8c23-e888bcb58702",
   "metadata": {},
   "outputs": [],
   "source": [
    "# 일자 타입 변경\n",
    "train['일자'] = pd.to_datetime(train['일자'])\n",
    "test['일자'] = pd.to_datetime(test['일자'])"
   ]
  },
  {
   "cell_type": "code",
   "execution_count": 18,
   "id": "80b4f5f7-68a2-4a4c-bdb4-c788b233abff",
   "metadata": {},
   "outputs": [
    {
     "name": "stdout",
     "output_type": "stream",
     "text": [
      "<class 'pandas.core.frame.DataFrame'>\n",
      "RangeIndex: 1205 entries, 0 to 1204\n",
      "Data columns (total 9 columns):\n",
      " #   Column  Non-Null Count  Dtype         \n",
      "---  ------  --------------  -----         \n",
      " 0   일자      1205 non-null   datetime64[ns]\n",
      " 1   요일      1205 non-null   object        \n",
      " 2   정원수     1205 non-null   int64         \n",
      " 3   휴가자수    1205 non-null   int64         \n",
      " 4   출장자수    1205 non-null   int64         \n",
      " 5   야근수     1205 non-null   int64         \n",
      " 6   재택수     1205 non-null   float64       \n",
      " 7   중식계     1205 non-null   float64       \n",
      " 8   석식계     1205 non-null   float64       \n",
      "dtypes: datetime64[ns](1), float64(3), int64(4), object(1)\n",
      "memory usage: 84.9+ KB\n",
      "<class 'pandas.core.frame.DataFrame'>\n",
      "RangeIndex: 50 entries, 0 to 49\n",
      "Data columns (total 7 columns):\n",
      " #   Column  Non-Null Count  Dtype         \n",
      "---  ------  --------------  -----         \n",
      " 0   일자      50 non-null     datetime64[ns]\n",
      " 1   요일      50 non-null     object        \n",
      " 2   정원수     50 non-null     int64         \n",
      " 3   휴가자수    50 non-null     int64         \n",
      " 4   출장자수    50 non-null     int64         \n",
      " 5   야근수     50 non-null     int64         \n",
      " 6   재택수     50 non-null     float64       \n",
      "dtypes: datetime64[ns](1), float64(1), int64(4), object(1)\n",
      "memory usage: 2.9+ KB\n"
     ]
    },
    {
     "data": {
      "text/plain": [
       "(None, None)"
      ]
     },
     "execution_count": 18,
     "metadata": {},
     "output_type": "execute_result"
    }
   ],
   "source": [
    "train.info(), test.info()"
   ]
  },
  {
   "cell_type": "code",
   "execution_count": 19,
   "id": "2cc25148-6952-41d3-ad6e-7cb136e372c4",
   "metadata": {},
   "outputs": [
    {
     "data": {
      "text/plain": [
       "0      2016-02-01\n",
       "1      2016-02-02\n",
       "2      2016-02-03\n",
       "3      2016-02-04\n",
       "4      2016-02-05\n",
       "          ...    \n",
       "1200   2021-01-20\n",
       "1201   2021-01-21\n",
       "1202   2021-01-22\n",
       "1203   2021-01-25\n",
       "1204   2021-01-26\n",
       "Name: 일자, Length: 1205, dtype: datetime64[ns]"
      ]
     },
     "execution_count": 19,
     "metadata": {},
     "output_type": "execute_result"
    }
   ],
   "source": [
    "train['일자']"
   ]
  },
  {
   "cell_type": "code",
   "execution_count": 20,
   "id": "fbf0c6ac-a8b2-4251-b89c-e058344d969e",
   "metadata": {},
   "outputs": [],
   "source": [
    "# 월, 일 컬럼 추가\n",
    "train['월'] = train['일자'].dt.month\n",
    "train['일'] = train['일자'].dt.day\n",
    "\n",
    "test['월'] = test['일자'].dt.month\n",
    "test['일'] = test['일자'].dt.day"
   ]
  },
  {
   "cell_type": "code",
   "execution_count": 21,
   "id": "701c290c-cf78-42ce-b28c-3e0c2f40ef23",
   "metadata": {},
   "outputs": [],
   "source": [
    "# 요일 컬럼 인코딩\n",
    "# 1~5까지로 변경하기 위해 +1을 처리해줌\n",
    "train['요일'] = train['일자'].dt.weekday + 1\n",
    "test['요일'] = test['일자'].dt.weekday + 1"
   ]
  },
  {
   "cell_type": "code",
   "execution_count": 22,
   "id": "1aa9f761-910c-4f2d-9abb-2402828bc697",
   "metadata": {},
   "outputs": [
    {
     "data": {
      "text/html": [
       "<div>\n",
       "<style scoped>\n",
       "    .dataframe tbody tr th:only-of-type {\n",
       "        vertical-align: middle;\n",
       "    }\n",
       "\n",
       "    .dataframe tbody tr th {\n",
       "        vertical-align: top;\n",
       "    }\n",
       "\n",
       "    .dataframe thead th {\n",
       "        text-align: right;\n",
       "    }\n",
       "</style>\n",
       "<table border=\"1\" class=\"dataframe\">\n",
       "  <thead>\n",
       "    <tr style=\"text-align: right;\">\n",
       "      <th></th>\n",
       "      <th>일자</th>\n",
       "      <th>요일</th>\n",
       "      <th>정원수</th>\n",
       "      <th>휴가자수</th>\n",
       "      <th>출장자수</th>\n",
       "      <th>야근수</th>\n",
       "      <th>재택수</th>\n",
       "      <th>중식계</th>\n",
       "      <th>석식계</th>\n",
       "      <th>월</th>\n",
       "      <th>일</th>\n",
       "    </tr>\n",
       "  </thead>\n",
       "  <tbody>\n",
       "    <tr>\n",
       "      <th>0</th>\n",
       "      <td>2016-02-01</td>\n",
       "      <td>1</td>\n",
       "      <td>2601</td>\n",
       "      <td>50</td>\n",
       "      <td>150</td>\n",
       "      <td>238</td>\n",
       "      <td>0.0</td>\n",
       "      <td>1039.0</td>\n",
       "      <td>331.0</td>\n",
       "      <td>2</td>\n",
       "      <td>1</td>\n",
       "    </tr>\n",
       "  </tbody>\n",
       "</table>\n",
       "</div>"
      ],
      "text/plain": [
       "          일자  요일   정원수  휴가자수  출장자수  야근수  재택수     중식계    석식계  월  일\n",
       "0 2016-02-01   1  2601    50   150  238  0.0  1039.0  331.0  2  1"
      ]
     },
     "execution_count": 22,
     "metadata": {},
     "output_type": "execute_result"
    }
   ],
   "source": [
    "train.head(1)"
   ]
  },
  {
   "cell_type": "code",
   "execution_count": 23,
   "id": "9f23c56d-6c76-496a-b324-8ee8871ba8e8",
   "metadata": {},
   "outputs": [
    {
     "data": {
      "text/html": [
       "<div>\n",
       "<style scoped>\n",
       "    .dataframe tbody tr th:only-of-type {\n",
       "        vertical-align: middle;\n",
       "    }\n",
       "\n",
       "    .dataframe tbody tr th {\n",
       "        vertical-align: top;\n",
       "    }\n",
       "\n",
       "    .dataframe thead th {\n",
       "        text-align: right;\n",
       "    }\n",
       "</style>\n",
       "<table border=\"1\" class=\"dataframe\">\n",
       "  <thead>\n",
       "    <tr style=\"text-align: right;\">\n",
       "      <th></th>\n",
       "      <th>일자</th>\n",
       "      <th>요일</th>\n",
       "      <th>정원수</th>\n",
       "      <th>휴가자수</th>\n",
       "      <th>출장자수</th>\n",
       "      <th>야근수</th>\n",
       "      <th>재택수</th>\n",
       "      <th>월</th>\n",
       "      <th>일</th>\n",
       "    </tr>\n",
       "  </thead>\n",
       "  <tbody>\n",
       "    <tr>\n",
       "      <th>0</th>\n",
       "      <td>2021-01-27</td>\n",
       "      <td>3</td>\n",
       "      <td>2983</td>\n",
       "      <td>88</td>\n",
       "      <td>182</td>\n",
       "      <td>5</td>\n",
       "      <td>358.0</td>\n",
       "      <td>1</td>\n",
       "      <td>27</td>\n",
       "    </tr>\n",
       "  </tbody>\n",
       "</table>\n",
       "</div>"
      ],
      "text/plain": [
       "          일자  요일   정원수  휴가자수  출장자수  야근수    재택수  월   일\n",
       "0 2021-01-27   3  2983    88   182    5  358.0  1  27"
      ]
     },
     "execution_count": 23,
     "metadata": {},
     "output_type": "execute_result"
    }
   ],
   "source": [
    "test.head(1)"
   ]
  },
  {
   "cell_type": "markdown",
   "id": "60702d3c-d0a2-42c0-b7e3-d54488b6f72a",
   "metadata": {},
   "source": [
    "### 2.4 컬럼 추가하기\n",
    "+ 실근무자수\n",
    "+ 식사참여율"
   ]
  },
  {
   "cell_type": "code",
   "execution_count": 26,
   "id": "aa03ae9e-be26-4a9d-a05b-f7f5ef528268",
   "metadata": {},
   "outputs": [],
   "source": [
    "# 실근무자수 컬럼 추가\n",
    "# 출장자 수가 중식계와 음의 상관관계가 있기 때문에 추가함\n",
    "train['실근무자수'] = train['정원수'] - train['휴가자수'] - train['출장자수'] - train['재택수']"
   ]
  },
  {
   "cell_type": "code",
   "execution_count": null,
   "id": "c6897d5c-ba04-4683-af3c-a4a760668fc8",
   "metadata": {},
   "outputs": [],
   "source": []
  }
 ],
 "metadata": {
  "kernelspec": {
   "display_name": "Python 3 (ipykernel)",
   "language": "python",
   "name": "python3"
  },
  "language_info": {
   "codemirror_mode": {
    "name": "ipython",
    "version": 3
   },
   "file_extension": ".py",
   "mimetype": "text/x-python",
   "name": "python",
   "nbconvert_exporter": "python",
   "pygments_lexer": "ipython3",
   "version": "3.9.16"
  }
 },
 "nbformat": 4,
 "nbformat_minor": 5
}
