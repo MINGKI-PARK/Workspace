{
 "cells": [
  {
   "cell_type": "code",
   "execution_count": 1,
   "id": "0a7477f9-e1eb-4d1b-bce3-965c502d3578",
   "metadata": {},
   "outputs": [],
   "source": [
    "import numpy as np\n",
    "import pandas as pd\n",
    "import matplotlib.pyplot as plt \n",
    "import seaborn as sns \n",
    "\n",
    "# 커널을 구성하다보면 에러는 아니지만, 빨간색 네모 박스 warning이 뜨는 경우가 많다. \n",
    "# 그런 보기 싫은 부분들을 제거해주겠다.\n",
    "# import warnings\n",
    "# warnings.filterwarnings('ignore')\n",
    "\n",
    "# os 패키지를 통해 현재 디렉토리 위치를 변경하고, read_csv를 더 편리하게 할 수 있음\n",
    "import os\n",
    "os.getcwd() # 현재 디렉토리 파악\n",
    "# os.chdir(r\"______\") # 불러오고 싶은 파일이 위치한 주소를 ___에 입력\n",
    "\n",
    "# 다른 노트북 작성할 때도 이 셀만 떼서 사용 가능하다.\n",
    "import platform                \n",
    "\n",
    "# 웬만하면 해주는 것이 좋다\n",
    "from matplotlib import font_manager, rc\n",
    "plt.rcParams['axes.unicode_minus'] = False\n",
    "\n",
    "if platform.system() == 'Darwin': #맥os 사용자의 경우에\n",
    "    plt.style.use('seaborn-darkgrid') \n",
    "    rc('font', family = 'AppleGothic')\n",
    "    \n",
    "elif platform.system() == 'Windows':#윈도우 사용자의 경우에\n",
    "    path = 'c:/Windows/Fonts/malgun.ttf'\n",
    "    font_name = font_manager.FontProperties(fname=path).get_name()\n",
    "    plt.style.use('seaborn-v0_8-whitegrid') # https://python-graph-gallery.com/199-matplotlib-style-sheets/\n",
    "    rc('font', family=font_name)\n",
    "    \n",
    "# tqdm\n",
    "from tqdm.notebook import tqdm"
   ]
  },
  {
   "cell_type": "code",
   "execution_count": 2,
   "id": "16e98da6-ed2a-4fa3-9f63-124c290162f5",
   "metadata": {},
   "outputs": [],
   "source": [
    "path = 'c:/reposit/data/dacon/2023 전력사용량 예측 AI 경진대회/'"
   ]
  },
  {
   "cell_type": "markdown",
   "id": "e2af95a5-07bf-44e3-b83a-a4c0bb9b08eb",
   "metadata": {
    "tags": []
   },
   "source": [
    "## 1. 데이터 확인하기"
   ]
  },
  {
   "cell_type": "code",
   "execution_count": 11,
   "id": "f4ec8770-556b-42b7-94b4-8cabb98d2f3c",
   "metadata": {},
   "outputs": [
    {
     "data": {
      "text/plain": [
       "(204000, 10)"
      ]
     },
     "execution_count": 11,
     "metadata": {},
     "output_type": "execute_result"
    }
   ],
   "source": [
    "# train\n",
    "df_tr = pd.read_csv(path + 'train.csv')\n",
    "df_tr.shape"
   ]
  },
  {
   "cell_type": "code",
   "execution_count": 12,
   "id": "361e3472-4caf-41ab-8deb-075bf473a35f",
   "metadata": {},
   "outputs": [
    {
     "data": {
      "text/html": [
       "<div>\n",
       "<style scoped>\n",
       "    .dataframe tbody tr th:only-of-type {\n",
       "        vertical-align: middle;\n",
       "    }\n",
       "\n",
       "    .dataframe tbody tr th {\n",
       "        vertical-align: top;\n",
       "    }\n",
       "\n",
       "    .dataframe thead th {\n",
       "        text-align: right;\n",
       "    }\n",
       "</style>\n",
       "<table border=\"1\" class=\"dataframe\">\n",
       "  <thead>\n",
       "    <tr style=\"text-align: right;\">\n",
       "      <th></th>\n",
       "      <th>num_date_time</th>\n",
       "      <th>건물번호</th>\n",
       "      <th>일시</th>\n",
       "      <th>기온(C)</th>\n",
       "      <th>강수량(mm)</th>\n",
       "      <th>풍속(m/s)</th>\n",
       "      <th>습도(%)</th>\n",
       "      <th>일조(hr)</th>\n",
       "      <th>일사(MJ/m2)</th>\n",
       "      <th>전력소비량(kWh)</th>\n",
       "    </tr>\n",
       "  </thead>\n",
       "  <tbody>\n",
       "    <tr>\n",
       "      <th>0</th>\n",
       "      <td>1_20220601 00</td>\n",
       "      <td>1</td>\n",
       "      <td>20220601 00</td>\n",
       "      <td>18.6</td>\n",
       "      <td>NaN</td>\n",
       "      <td>0.9</td>\n",
       "      <td>42.0</td>\n",
       "      <td>NaN</td>\n",
       "      <td>NaN</td>\n",
       "      <td>1085.28</td>\n",
       "    </tr>\n",
       "    <tr>\n",
       "      <th>1</th>\n",
       "      <td>1_20220601 01</td>\n",
       "      <td>1</td>\n",
       "      <td>20220601 01</td>\n",
       "      <td>18.0</td>\n",
       "      <td>NaN</td>\n",
       "      <td>1.1</td>\n",
       "      <td>45.0</td>\n",
       "      <td>NaN</td>\n",
       "      <td>NaN</td>\n",
       "      <td>1047.36</td>\n",
       "    </tr>\n",
       "    <tr>\n",
       "      <th>2</th>\n",
       "      <td>1_20220601 02</td>\n",
       "      <td>1</td>\n",
       "      <td>20220601 02</td>\n",
       "      <td>17.7</td>\n",
       "      <td>NaN</td>\n",
       "      <td>1.5</td>\n",
       "      <td>45.0</td>\n",
       "      <td>NaN</td>\n",
       "      <td>NaN</td>\n",
       "      <td>974.88</td>\n",
       "    </tr>\n",
       "  </tbody>\n",
       "</table>\n",
       "</div>"
      ],
      "text/plain": [
       "   num_date_time  건물번호           일시  기온(C)  강수량(mm)  풍속(m/s)  습도(%)  일조(hr)  \\\n",
       "0  1_20220601 00     1  20220601 00   18.6      NaN      0.9   42.0     NaN   \n",
       "1  1_20220601 01     1  20220601 01   18.0      NaN      1.1   45.0     NaN   \n",
       "2  1_20220601 02     1  20220601 02   17.7      NaN      1.5   45.0     NaN   \n",
       "\n",
       "   일사(MJ/m2)  전력소비량(kWh)  \n",
       "0        NaN     1085.28  \n",
       "1        NaN     1047.36  \n",
       "2        NaN      974.88  "
      ]
     },
     "execution_count": 12,
     "metadata": {},
     "output_type": "execute_result"
    }
   ],
   "source": [
    "df_tr.head(3)"
   ]
  },
  {
   "cell_type": "code",
   "execution_count": 13,
   "id": "14ccc19b-e726-4df6-a512-29ac1df7ff5a",
   "metadata": {},
   "outputs": [
    {
     "data": {
      "text/plain": [
       "(16800, 7)"
      ]
     },
     "execution_count": 13,
     "metadata": {},
     "output_type": "execute_result"
    }
   ],
   "source": [
    "# test\n",
    "df_te = pd.read_csv(path + 'test.csv')\n",
    "df_te.shape"
   ]
  },
  {
   "cell_type": "code",
   "execution_count": 14,
   "id": "08b5137d-64f0-4546-ae5a-a7edf52dadf1",
   "metadata": {},
   "outputs": [
    {
     "data": {
      "text/html": [
       "<div>\n",
       "<style scoped>\n",
       "    .dataframe tbody tr th:only-of-type {\n",
       "        vertical-align: middle;\n",
       "    }\n",
       "\n",
       "    .dataframe tbody tr th {\n",
       "        vertical-align: top;\n",
       "    }\n",
       "\n",
       "    .dataframe thead th {\n",
       "        text-align: right;\n",
       "    }\n",
       "</style>\n",
       "<table border=\"1\" class=\"dataframe\">\n",
       "  <thead>\n",
       "    <tr style=\"text-align: right;\">\n",
       "      <th></th>\n",
       "      <th>num_date_time</th>\n",
       "      <th>건물번호</th>\n",
       "      <th>일시</th>\n",
       "      <th>기온(C)</th>\n",
       "      <th>강수량(mm)</th>\n",
       "      <th>풍속(m/s)</th>\n",
       "      <th>습도(%)</th>\n",
       "    </tr>\n",
       "  </thead>\n",
       "  <tbody>\n",
       "    <tr>\n",
       "      <th>0</th>\n",
       "      <td>1_20220825 00</td>\n",
       "      <td>1</td>\n",
       "      <td>20220825 00</td>\n",
       "      <td>23.5</td>\n",
       "      <td>0.0</td>\n",
       "      <td>2.2</td>\n",
       "      <td>72</td>\n",
       "    </tr>\n",
       "    <tr>\n",
       "      <th>1</th>\n",
       "      <td>1_20220825 01</td>\n",
       "      <td>1</td>\n",
       "      <td>20220825 01</td>\n",
       "      <td>23.0</td>\n",
       "      <td>0.0</td>\n",
       "      <td>0.9</td>\n",
       "      <td>72</td>\n",
       "    </tr>\n",
       "    <tr>\n",
       "      <th>2</th>\n",
       "      <td>1_20220825 02</td>\n",
       "      <td>1</td>\n",
       "      <td>20220825 02</td>\n",
       "      <td>22.7</td>\n",
       "      <td>0.0</td>\n",
       "      <td>1.5</td>\n",
       "      <td>75</td>\n",
       "    </tr>\n",
       "  </tbody>\n",
       "</table>\n",
       "</div>"
      ],
      "text/plain": [
       "   num_date_time  건물번호           일시  기온(C)  강수량(mm)  풍속(m/s)  습도(%)\n",
       "0  1_20220825 00     1  20220825 00   23.5      0.0      2.2     72\n",
       "1  1_20220825 01     1  20220825 01   23.0      0.0      0.9     72\n",
       "2  1_20220825 02     1  20220825 02   22.7      0.0      1.5     75"
      ]
     },
     "execution_count": 14,
     "metadata": {},
     "output_type": "execute_result"
    }
   ],
   "source": [
    "df_te.head(3)"
   ]
  },
  {
   "cell_type": "code",
   "execution_count": 15,
   "id": "8f4bff4a-1364-4d39-8a79-870eab11d1de",
   "metadata": {},
   "outputs": [
    {
     "data": {
      "text/plain": [
       "(100, 7)"
      ]
     },
     "execution_count": 15,
     "metadata": {},
     "output_type": "execute_result"
    }
   ],
   "source": [
    "df_bd = pd.read_csv(path + 'building_info.csv')\n",
    "df_bd.shape"
   ]
  },
  {
   "cell_type": "code",
   "execution_count": 16,
   "id": "80ccd424-27a7-4800-8dd5-475c9a2667f5",
   "metadata": {},
   "outputs": [
    {
     "data": {
      "text/html": [
       "<div>\n",
       "<style scoped>\n",
       "    .dataframe tbody tr th:only-of-type {\n",
       "        vertical-align: middle;\n",
       "    }\n",
       "\n",
       "    .dataframe tbody tr th {\n",
       "        vertical-align: top;\n",
       "    }\n",
       "\n",
       "    .dataframe thead th {\n",
       "        text-align: right;\n",
       "    }\n",
       "</style>\n",
       "<table border=\"1\" class=\"dataframe\">\n",
       "  <thead>\n",
       "    <tr style=\"text-align: right;\">\n",
       "      <th></th>\n",
       "      <th>건물번호</th>\n",
       "      <th>건물유형</th>\n",
       "      <th>연면적(m2)</th>\n",
       "      <th>냉방면적(m2)</th>\n",
       "      <th>태양광용량(kW)</th>\n",
       "      <th>ESS저장용량(kWh)</th>\n",
       "      <th>PCS용량(kW)</th>\n",
       "    </tr>\n",
       "  </thead>\n",
       "  <tbody>\n",
       "    <tr>\n",
       "      <th>0</th>\n",
       "      <td>1</td>\n",
       "      <td>건물기타</td>\n",
       "      <td>110634.00</td>\n",
       "      <td>39570.0</td>\n",
       "      <td>-</td>\n",
       "      <td>-</td>\n",
       "      <td>-</td>\n",
       "    </tr>\n",
       "    <tr>\n",
       "      <th>1</th>\n",
       "      <td>2</td>\n",
       "      <td>건물기타</td>\n",
       "      <td>122233.47</td>\n",
       "      <td>99000.0</td>\n",
       "      <td>-</td>\n",
       "      <td>-</td>\n",
       "      <td>-</td>\n",
       "    </tr>\n",
       "    <tr>\n",
       "      <th>2</th>\n",
       "      <td>3</td>\n",
       "      <td>건물기타</td>\n",
       "      <td>171243.00</td>\n",
       "      <td>113950.0</td>\n",
       "      <td>40</td>\n",
       "      <td>-</td>\n",
       "      <td>-</td>\n",
       "    </tr>\n",
       "  </tbody>\n",
       "</table>\n",
       "</div>"
      ],
      "text/plain": [
       "   건물번호  건물유형    연면적(m2)  냉방면적(m2) 태양광용량(kW) ESS저장용량(kWh) PCS용량(kW)\n",
       "0     1  건물기타  110634.00   39570.0         -            -         -\n",
       "1     2  건물기타  122233.47   99000.0         -            -         -\n",
       "2     3  건물기타  171243.00  113950.0        40            -         -"
      ]
     },
     "execution_count": 16,
     "metadata": {},
     "output_type": "execute_result"
    }
   ],
   "source": [
    "df_bd.head(3)"
   ]
  },
  {
   "cell_type": "markdown",
   "id": "d7de15df-41cb-4086-bd19-a7411a9b445e",
   "metadata": {},
   "source": [
    "## 2. 데이터 톺아보기"
   ]
  },
  {
   "cell_type": "markdown",
   "id": "082f749c-2a6e-42fd-8ce4-bef25081310f",
   "metadata": {
    "tags": []
   },
   "source": [
    "### 2.1 test"
   ]
  },
  {
   "cell_type": "code",
   "execution_count": 17,
   "id": "2c3e97d7-a4e0-459f-909e-8030d1e6043d",
   "metadata": {},
   "outputs": [
    {
     "data": {
      "text/plain": [
       "(16800, 7)"
      ]
     },
     "execution_count": 17,
     "metadata": {},
     "output_type": "execute_result"
    }
   ],
   "source": [
    "df_te.shape"
   ]
  },
  {
   "cell_type": "code",
   "execution_count": 18,
   "id": "85dae73a-9af5-49e6-adac-77e66cea6e32",
   "metadata": {},
   "outputs": [
    {
     "data": {
      "text/html": [
       "<div>\n",
       "<style scoped>\n",
       "    .dataframe tbody tr th:only-of-type {\n",
       "        vertical-align: middle;\n",
       "    }\n",
       "\n",
       "    .dataframe tbody tr th {\n",
       "        vertical-align: top;\n",
       "    }\n",
       "\n",
       "    .dataframe thead th {\n",
       "        text-align: right;\n",
       "    }\n",
       "</style>\n",
       "<table border=\"1\" class=\"dataframe\">\n",
       "  <thead>\n",
       "    <tr style=\"text-align: right;\">\n",
       "      <th></th>\n",
       "      <th>nan_cnt</th>\n",
       "    </tr>\n",
       "  </thead>\n",
       "  <tbody>\n",
       "    <tr>\n",
       "      <th>num_date_time</th>\n",
       "      <td>0</td>\n",
       "    </tr>\n",
       "    <tr>\n",
       "      <th>건물번호</th>\n",
       "      <td>0</td>\n",
       "    </tr>\n",
       "    <tr>\n",
       "      <th>일시</th>\n",
       "      <td>0</td>\n",
       "    </tr>\n",
       "    <tr>\n",
       "      <th>기온(C)</th>\n",
       "      <td>0</td>\n",
       "    </tr>\n",
       "    <tr>\n",
       "      <th>강수량(mm)</th>\n",
       "      <td>0</td>\n",
       "    </tr>\n",
       "    <tr>\n",
       "      <th>풍속(m/s)</th>\n",
       "      <td>0</td>\n",
       "    </tr>\n",
       "    <tr>\n",
       "      <th>습도(%)</th>\n",
       "      <td>0</td>\n",
       "    </tr>\n",
       "  </tbody>\n",
       "</table>\n",
       "</div>"
      ],
      "text/plain": [
       "               nan_cnt\n",
       "num_date_time        0\n",
       "건물번호                 0\n",
       "일시                   0\n",
       "기온(C)                0\n",
       "강수량(mm)              0\n",
       "풍속(m/s)              0\n",
       "습도(%)                0"
      ]
     },
     "execution_count": 18,
     "metadata": {},
     "output_type": "execute_result"
    }
   ],
   "source": [
    "df_te.isnull().sum().to_frame('nan_cnt')"
   ]
  },
  {
   "cell_type": "code",
   "execution_count": 19,
   "id": "9b35a7e7-1b7e-4b21-911e-9d95aa831428",
   "metadata": {},
   "outputs": [
    {
     "name": "stdout",
     "output_type": "stream",
     "text": [
      "<class 'pandas.core.frame.DataFrame'>\n",
      "RangeIndex: 16800 entries, 0 to 16799\n",
      "Data columns (total 7 columns):\n",
      " #   Column         Non-Null Count  Dtype  \n",
      "---  ------         --------------  -----  \n",
      " 0   num_date_time  16800 non-null  object \n",
      " 1   건물번호           16800 non-null  int64  \n",
      " 2   일시             16800 non-null  object \n",
      " 3   기온(C)          16800 non-null  float64\n",
      " 4   강수량(mm)        16800 non-null  float64\n",
      " 5   풍속(m/s)        16800 non-null  float64\n",
      " 6   습도(%)          16800 non-null  int64  \n",
      "dtypes: float64(3), int64(2), object(2)\n",
      "memory usage: 918.9+ KB\n"
     ]
    }
   ],
   "source": [
    "df_te.info()"
   ]
  },
  {
   "cell_type": "code",
   "execution_count": 20,
   "id": "e19b021e-b2e3-4d73-b4d4-325ce75b8245",
   "metadata": {},
   "outputs": [
    {
     "data": {
      "text/html": [
       "<div>\n",
       "<style scoped>\n",
       "    .dataframe tbody tr th:only-of-type {\n",
       "        vertical-align: middle;\n",
       "    }\n",
       "\n",
       "    .dataframe tbody tr th {\n",
       "        vertical-align: top;\n",
       "    }\n",
       "\n",
       "    .dataframe thead th {\n",
       "        text-align: right;\n",
       "    }\n",
       "</style>\n",
       "<table border=\"1\" class=\"dataframe\">\n",
       "  <thead>\n",
       "    <tr style=\"text-align: right;\">\n",
       "      <th></th>\n",
       "      <th>건물번호</th>\n",
       "      <th>기온(C)</th>\n",
       "      <th>강수량(mm)</th>\n",
       "      <th>풍속(m/s)</th>\n",
       "      <th>습도(%)</th>\n",
       "    </tr>\n",
       "  </thead>\n",
       "  <tbody>\n",
       "    <tr>\n",
       "      <th>count</th>\n",
       "      <td>16800.000000</td>\n",
       "      <td>16800.000000</td>\n",
       "      <td>16800.000000</td>\n",
       "      <td>16800.000000</td>\n",
       "      <td>16800.000000</td>\n",
       "    </tr>\n",
       "    <tr>\n",
       "      <th>mean</th>\n",
       "      <td>50.500000</td>\n",
       "      <td>21.975232</td>\n",
       "      <td>0.266720</td>\n",
       "      <td>1.783405</td>\n",
       "      <td>77.148036</td>\n",
       "    </tr>\n",
       "    <tr>\n",
       "      <th>std</th>\n",
       "      <td>28.866929</td>\n",
       "      <td>2.884010</td>\n",
       "      <td>1.130288</td>\n",
       "      <td>1.041896</td>\n",
       "      <td>16.080725</td>\n",
       "    </tr>\n",
       "    <tr>\n",
       "      <th>min</th>\n",
       "      <td>1.000000</td>\n",
       "      <td>12.200000</td>\n",
       "      <td>0.000000</td>\n",
       "      <td>0.000000</td>\n",
       "      <td>26.000000</td>\n",
       "    </tr>\n",
       "    <tr>\n",
       "      <th>25%</th>\n",
       "      <td>25.750000</td>\n",
       "      <td>19.900000</td>\n",
       "      <td>0.000000</td>\n",
       "      <td>1.000000</td>\n",
       "      <td>66.750000</td>\n",
       "    </tr>\n",
       "    <tr>\n",
       "      <th>50%</th>\n",
       "      <td>50.500000</td>\n",
       "      <td>21.700000</td>\n",
       "      <td>0.000000</td>\n",
       "      <td>1.700000</td>\n",
       "      <td>79.000000</td>\n",
       "    </tr>\n",
       "    <tr>\n",
       "      <th>75%</th>\n",
       "      <td>75.250000</td>\n",
       "      <td>23.600000</td>\n",
       "      <td>0.000000</td>\n",
       "      <td>2.500000</td>\n",
       "      <td>90.000000</td>\n",
       "    </tr>\n",
       "    <tr>\n",
       "      <th>max</th>\n",
       "      <td>100.000000</td>\n",
       "      <td>32.300000</td>\n",
       "      <td>18.800000</td>\n",
       "      <td>7.000000</td>\n",
       "      <td>100.000000</td>\n",
       "    </tr>\n",
       "  </tbody>\n",
       "</table>\n",
       "</div>"
      ],
      "text/plain": [
       "               건물번호         기온(C)       강수량(mm)       풍속(m/s)         습도(%)\n",
       "count  16800.000000  16800.000000  16800.000000  16800.000000  16800.000000\n",
       "mean      50.500000     21.975232      0.266720      1.783405     77.148036\n",
       "std       28.866929      2.884010      1.130288      1.041896     16.080725\n",
       "min        1.000000     12.200000      0.000000      0.000000     26.000000\n",
       "25%       25.750000     19.900000      0.000000      1.000000     66.750000\n",
       "50%       50.500000     21.700000      0.000000      1.700000     79.000000\n",
       "75%       75.250000     23.600000      0.000000      2.500000     90.000000\n",
       "max      100.000000     32.300000     18.800000      7.000000    100.000000"
      ]
     },
     "execution_count": 20,
     "metadata": {},
     "output_type": "execute_result"
    }
   ],
   "source": [
    "df_te.describe()"
   ]
  },
  {
   "cell_type": "code",
   "execution_count": 21,
   "id": "02ec0ed4-608e-4382-87f5-e9bf586db937",
   "metadata": {},
   "outputs": [
    {
     "data": {
      "text/plain": [
       "100"
      ]
     },
     "execution_count": 21,
     "metadata": {},
     "output_type": "execute_result"
    }
   ],
   "source": [
    "# 건물번호\n",
    "df_te['건물번호'].nunique()"
   ]
  },
  {
   "cell_type": "code",
   "execution_count": 22,
   "id": "cd9643a4-f15f-4ad5-b73e-ac6bf6a82378",
   "metadata": {},
   "outputs": [
    {
     "data": {
      "text/plain": [
       "1      168\n",
       "64     168\n",
       "74     168\n",
       "73     168\n",
       "72     168\n",
       "      ... \n",
       "31     168\n",
       "30     168\n",
       "29     168\n",
       "28     168\n",
       "100    168\n",
       "Name: 건물번호, Length: 100, dtype: int64"
      ]
     },
     "execution_count": 22,
     "metadata": {},
     "output_type": "execute_result"
    }
   ],
   "source": [
    "df_te['건물번호'].value_counts()"
   ]
  },
  {
   "cell_type": "code",
   "execution_count": 23,
   "id": "74a558a5-b1e7-44ec-8705-cfe55e297381",
   "metadata": {},
   "outputs": [],
   "source": [
    "# 일시\n",
    "df_te['일시'] = pd.to_datetime(df_te['일시'])"
   ]
  },
  {
   "cell_type": "code",
   "execution_count": 24,
   "id": "806fe395-931d-4867-a4f7-9085132a88d8",
   "metadata": {},
   "outputs": [
    {
     "data": {
      "text/plain": [
       "(Timestamp('2022-08-25 00:00:00'), Timestamp('2022-08-31 23:00:00'))"
      ]
     },
     "execution_count": 24,
     "metadata": {},
     "output_type": "execute_result"
    }
   ],
   "source": [
    "# 최소, 최대값\n",
    "df_te['일시'].min(), df_te['일시'].max()"
   ]
  },
  {
   "cell_type": "code",
   "execution_count": 25,
   "id": "3e904ebb-a9b7-4f83-9391-4d90739d5604",
   "metadata": {},
   "outputs": [
    {
     "data": {
      "text/plain": [
       "0        23.5\n",
       "1        23.0\n",
       "2        22.7\n",
       "3        22.1\n",
       "4        21.8\n",
       "         ... \n",
       "16795    22.5\n",
       "16796    20.7\n",
       "16797    20.2\n",
       "16798    20.1\n",
       "16799    19.1\n",
       "Name: 기온(C), Length: 16800, dtype: float64"
      ]
     },
     "execution_count": 25,
     "metadata": {},
     "output_type": "execute_result"
    }
   ],
   "source": [
    "# 기온\n",
    "df_te['기온(C)']"
   ]
  },
  {
   "cell_type": "code",
   "execution_count": 26,
   "id": "a72e4f4b-2806-4fa4-97f7-b983eef41197",
   "metadata": {},
   "outputs": [
    {
     "data": {
      "image/png": "[encoded data removed]",
      "text/plain": [
       "<Figure size 640x480 with 1 Axes>"
      ]
     },
     "metadata": {},
     "output_type": "display_data"
    }
   ],
   "source": [
    "sns.histplot(x='기온(C)', data=df_te, bins=20)\n",
    "plt.show()"
   ]
  },
  {
   "cell_type": "code",
   "execution_count": 27,
   "id": "01fbb0c6-288f-48a6-958f-e50476863ac8",
   "metadata": {},
   "outputs": [
    {
     "data": {
      "image/png": "[encoded data removed]",
      "text/plain": [
       "<Figure size 640x480 with 1 Axes>"
      ]
     },
     "metadata": {},
     "output_type": "display_data"
    }
   ],
   "source": [
    "# 강수량\n",
    "sns.histplot(x='강수량(mm)', data=df_te)\n",
    "plt.show()"
   ]
  },
  {
   "cell_type": "code",
   "execution_count": 28,
   "id": "0145f537-302b-4cea-842c-86e958d13259",
   "metadata": {},
   "outputs": [
    {
     "data": {
      "text/html": [
       "<div>\n",
       "<style scoped>\n",
       "    .dataframe tbody tr th:only-of-type {\n",
       "        vertical-align: middle;\n",
       "    }\n",
       "\n",
       "    .dataframe tbody tr th {\n",
       "        vertical-align: top;\n",
       "    }\n",
       "\n",
       "    .dataframe thead th {\n",
       "        text-align: right;\n",
       "    }\n",
       "</style>\n",
       "<table border=\"1\" class=\"dataframe\">\n",
       "  <thead>\n",
       "    <tr style=\"text-align: right;\">\n",
       "      <th></th>\n",
       "      <th>num_date_time</th>\n",
       "      <th>건물번호</th>\n",
       "      <th>일시</th>\n",
       "      <th>기온(C)</th>\n",
       "      <th>강수량(mm)</th>\n",
       "      <th>풍속(m/s)</th>\n",
       "      <th>습도(%)</th>\n",
       "    </tr>\n",
       "  </thead>\n",
       "  <tbody>\n",
       "    <tr>\n",
       "      <th>0</th>\n",
       "      <td>1_20220825 00</td>\n",
       "      <td>1</td>\n",
       "      <td>2022-08-25 00:00:00</td>\n",
       "      <td>23.5</td>\n",
       "      <td>0.0</td>\n",
       "      <td>2.2</td>\n",
       "      <td>72</td>\n",
       "    </tr>\n",
       "    <tr>\n",
       "      <th>1</th>\n",
       "      <td>1_20220825 01</td>\n",
       "      <td>1</td>\n",
       "      <td>2022-08-25 01:00:00</td>\n",
       "      <td>23.0</td>\n",
       "      <td>0.0</td>\n",
       "      <td>0.9</td>\n",
       "      <td>72</td>\n",
       "    </tr>\n",
       "    <tr>\n",
       "      <th>2</th>\n",
       "      <td>1_20220825 02</td>\n",
       "      <td>1</td>\n",
       "      <td>2022-08-25 02:00:00</td>\n",
       "      <td>22.7</td>\n",
       "      <td>0.0</td>\n",
       "      <td>1.5</td>\n",
       "      <td>75</td>\n",
       "    </tr>\n",
       "  </tbody>\n",
       "</table>\n",
       "</div>"
      ],
      "text/plain": [
       "   num_date_time  건물번호                  일시  기온(C)  강수량(mm)  풍속(m/s)  습도(%)\n",
       "0  1_20220825 00     1 2022-08-25 00:00:00   23.5      0.0      2.2     72\n",
       "1  1_20220825 01     1 2022-08-25 01:00:00   23.0      0.0      0.9     72\n",
       "2  1_20220825 02     1 2022-08-25 02:00:00   22.7      0.0      1.5     75"
      ]
     },
     "execution_count": 28,
     "metadata": {},
     "output_type": "execute_result"
    }
   ],
   "source": [
    "df_te.head(3)"
   ]
  },
  {
   "cell_type": "code",
   "execution_count": 29,
   "id": "73996443-d244-4b7d-8930-bdd3d7df0a67",
   "metadata": {},
   "outputs": [
    {
     "data": {
      "image/png": "[encoded data removed]",
      "text/plain": [
       "<Figure size 640x480 with 1 Axes>"
      ]
     },
     "metadata": {},
     "output_type": "display_data"
    }
   ],
   "source": [
    "# 풍속\n",
    "sns.histplot(x='풍속(m/s)', data=df_te)\n",
    "plt.show()"
   ]
  },
  {
   "cell_type": "code",
   "execution_count": 30,
   "id": "ae834f61-733d-4233-a61d-70214820e685",
   "metadata": {},
   "outputs": [
    {
     "data": {
      "image/png": "[encoded data removed]",
      "text/plain": [
       "<Figure size 640x480 with 1 Axes>"
      ]
     },
     "metadata": {},
     "output_type": "display_data"
    }
   ],
   "source": [
    "# 습도\n",
    "sns.histplot(x='습도(%)', data=df_te)\n",
    "plt.show()"
   ]
  },
  {
   "cell_type": "markdown",
   "id": "58f5fab1-d374-4855-a48e-f01dff054259",
   "metadata": {
    "tags": []
   },
   "source": [
    "### 2.2 train"
   ]
  },
  {
   "cell_type": "code",
   "execution_count": 31,
   "id": "c9f7553b-130b-4101-8fc6-49ec6a2a0096",
   "metadata": {},
   "outputs": [
    {
     "data": {
      "text/plain": [
       "(204000, 10)"
      ]
     },
     "execution_count": 31,
     "metadata": {},
     "output_type": "execute_result"
    }
   ],
   "source": [
    "df_tr.shape"
   ]
  },
  {
   "cell_type": "code",
   "execution_count": 32,
   "id": "a4e062a8-8140-4430-a949-dab3f76c1564",
   "metadata": {},
   "outputs": [
    {
     "data": {
      "text/html": [
       "<div>\n",
       "<style scoped>\n",
       "    .dataframe tbody tr th:only-of-type {\n",
       "        vertical-align: middle;\n",
       "    }\n",
       "\n",
       "    .dataframe tbody tr th {\n",
       "        vertical-align: top;\n",
       "    }\n",
       "\n",
       "    .dataframe thead th {\n",
       "        text-align: right;\n",
       "    }\n",
       "</style>\n",
       "<table border=\"1\" class=\"dataframe\">\n",
       "  <thead>\n",
       "    <tr style=\"text-align: right;\">\n",
       "      <th></th>\n",
       "      <th>nan_cnt</th>\n",
       "    </tr>\n",
       "  </thead>\n",
       "  <tbody>\n",
       "    <tr>\n",
       "      <th>num_date_time</th>\n",
       "      <td>0</td>\n",
       "    </tr>\n",
       "    <tr>\n",
       "      <th>건물번호</th>\n",
       "      <td>0</td>\n",
       "    </tr>\n",
       "    <tr>\n",
       "      <th>일시</th>\n",
       "      <td>0</td>\n",
       "    </tr>\n",
       "    <tr>\n",
       "      <th>기온(C)</th>\n",
       "      <td>0</td>\n",
       "    </tr>\n",
       "    <tr>\n",
       "      <th>강수량(mm)</th>\n",
       "      <td>160069</td>\n",
       "    </tr>\n",
       "    <tr>\n",
       "      <th>풍속(m/s)</th>\n",
       "      <td>19</td>\n",
       "    </tr>\n",
       "    <tr>\n",
       "      <th>습도(%)</th>\n",
       "      <td>9</td>\n",
       "    </tr>\n",
       "    <tr>\n",
       "      <th>일조(hr)</th>\n",
       "      <td>75182</td>\n",
       "    </tr>\n",
       "    <tr>\n",
       "      <th>일사(MJ/m2)</th>\n",
       "      <td>87913</td>\n",
       "    </tr>\n",
       "    <tr>\n",
       "      <th>전력소비량(kWh)</th>\n",
       "      <td>0</td>\n",
       "    </tr>\n",
       "  </tbody>\n",
       "</table>\n",
       "</div>"
      ],
      "text/plain": [
       "               nan_cnt\n",
       "num_date_time        0\n",
       "건물번호                 0\n",
       "일시                   0\n",
       "기온(C)                0\n",
       "강수량(mm)         160069\n",
       "풍속(m/s)             19\n",
       "습도(%)                9\n",
       "일조(hr)           75182\n",
       "일사(MJ/m2)        87913\n",
       "전력소비량(kWh)           0"
      ]
     },
     "execution_count": 32,
     "metadata": {},
     "output_type": "execute_result"
    }
   ],
   "source": [
    "# 결측치\n",
    "df_tr.isnull().sum().to_frame('nan_cnt')"
   ]
  },
  {
   "cell_type": "code",
   "execution_count": 33,
   "id": "5ebe837a-3426-45f4-b086-ac3b50cd45b9",
   "metadata": {},
   "outputs": [
    {
     "data": {
      "text/html": [
       "<div>\n",
       "<style scoped>\n",
       "    .dataframe tbody tr th:only-of-type {\n",
       "        vertical-align: middle;\n",
       "    }\n",
       "\n",
       "    .dataframe tbody tr th {\n",
       "        vertical-align: top;\n",
       "    }\n",
       "\n",
       "    .dataframe thead th {\n",
       "        text-align: right;\n",
       "    }\n",
       "</style>\n",
       "<table border=\"1\" class=\"dataframe\">\n",
       "  <thead>\n",
       "    <tr style=\"text-align: right;\">\n",
       "      <th></th>\n",
       "      <th>%</th>\n",
       "    </tr>\n",
       "  </thead>\n",
       "  <tbody>\n",
       "    <tr>\n",
       "      <th>num_date_time</th>\n",
       "      <td>0.000000</td>\n",
       "    </tr>\n",
       "    <tr>\n",
       "      <th>건물번호</th>\n",
       "      <td>0.000000</td>\n",
       "    </tr>\n",
       "    <tr>\n",
       "      <th>일시</th>\n",
       "      <td>0.000000</td>\n",
       "    </tr>\n",
       "    <tr>\n",
       "      <th>기온(C)</th>\n",
       "      <td>0.000000</td>\n",
       "    </tr>\n",
       "    <tr>\n",
       "      <th>강수량(mm)</th>\n",
       "      <td>78.465196</td>\n",
       "    </tr>\n",
       "    <tr>\n",
       "      <th>풍속(m/s)</th>\n",
       "      <td>0.009314</td>\n",
       "    </tr>\n",
       "    <tr>\n",
       "      <th>습도(%)</th>\n",
       "      <td>0.004412</td>\n",
       "    </tr>\n",
       "    <tr>\n",
       "      <th>일조(hr)</th>\n",
       "      <td>36.853922</td>\n",
       "    </tr>\n",
       "    <tr>\n",
       "      <th>일사(MJ/m2)</th>\n",
       "      <td>43.094608</td>\n",
       "    </tr>\n",
       "    <tr>\n",
       "      <th>전력소비량(kWh)</th>\n",
       "      <td>0.000000</td>\n",
       "    </tr>\n",
       "  </tbody>\n",
       "</table>\n",
       "</div>"
      ],
      "text/plain": [
       "                       %\n",
       "num_date_time   0.000000\n",
       "건물번호            0.000000\n",
       "일시              0.000000\n",
       "기온(C)           0.000000\n",
       "강수량(mm)        78.465196\n",
       "풍속(m/s)         0.009314\n",
       "습도(%)           0.004412\n",
       "일조(hr)         36.853922\n",
       "일사(MJ/m2)      43.094608\n",
       "전력소비량(kWh)      0.000000"
      ]
     },
     "execution_count": 33,
     "metadata": {},
     "output_type": "execute_result"
    }
   ],
   "source": [
    "# 결측치 비율\n",
    "((df_tr.isnull().sum() / len(df_tr)) * 100).to_frame('%')"
   ]
  },
  {
   "cell_type": "code",
   "execution_count": 34,
   "id": "05dd32c4-c407-4059-aea1-5405c42d52d2",
   "metadata": {},
   "outputs": [
    {
     "name": "stdout",
     "output_type": "stream",
     "text": [
      "<class 'pandas.core.frame.DataFrame'>\n",
      "RangeIndex: 204000 entries, 0 to 203999\n",
      "Data columns (total 10 columns):\n",
      " #   Column         Non-Null Count   Dtype  \n",
      "---  ------         --------------   -----  \n",
      " 0   num_date_time  204000 non-null  object \n",
      " 1   건물번호           204000 non-null  int64  \n",
      " 2   일시             204000 non-null  object \n",
      " 3   기온(C)          204000 non-null  float64\n",
      " 4   강수량(mm)        43931 non-null   float64\n",
      " 5   풍속(m/s)        203981 non-null  float64\n",
      " 6   습도(%)          203991 non-null  float64\n",
      " 7   일조(hr)         128818 non-null  float64\n",
      " 8   일사(MJ/m2)      116087 non-null  float64\n",
      " 9   전력소비량(kWh)     204000 non-null  float64\n",
      "dtypes: float64(7), int64(1), object(2)\n",
      "memory usage: 15.6+ MB\n"
     ]
    }
   ],
   "source": [
    "df_tr.info()"
   ]
  },
  {
   "cell_type": "code",
   "execution_count": 35,
   "id": "e83b85dd-f58d-4392-866a-668b9daa449a",
   "metadata": {},
   "outputs": [
    {
     "data": {
      "text/html": [
       "<div>\n",
       "<style scoped>\n",
       "    .dataframe tbody tr th:only-of-type {\n",
       "        vertical-align: middle;\n",
       "    }\n",
       "\n",
       "    .dataframe tbody tr th {\n",
       "        vertical-align: top;\n",
       "    }\n",
       "\n",
       "    .dataframe thead th {\n",
       "        text-align: right;\n",
       "    }\n",
       "</style>\n",
       "<table border=\"1\" class=\"dataframe\">\n",
       "  <thead>\n",
       "    <tr style=\"text-align: right;\">\n",
       "      <th></th>\n",
       "      <th>건물번호</th>\n",
       "      <th>기온(C)</th>\n",
       "      <th>강수량(mm)</th>\n",
       "      <th>풍속(m/s)</th>\n",
       "      <th>습도(%)</th>\n",
       "      <th>일조(hr)</th>\n",
       "      <th>일사(MJ/m2)</th>\n",
       "      <th>전력소비량(kWh)</th>\n",
       "    </tr>\n",
       "  </thead>\n",
       "  <tbody>\n",
       "    <tr>\n",
       "      <th>count</th>\n",
       "      <td>204000.000000</td>\n",
       "      <td>204000.000000</td>\n",
       "      <td>43931.000000</td>\n",
       "      <td>203981.000000</td>\n",
       "      <td>203991.000000</td>\n",
       "      <td>128818.000000</td>\n",
       "      <td>116087.000000</td>\n",
       "      <td>204000.000000</td>\n",
       "    </tr>\n",
       "    <tr>\n",
       "      <th>mean</th>\n",
       "      <td>50.500000</td>\n",
       "      <td>25.543524</td>\n",
       "      <td>2.040830</td>\n",
       "      <td>2.134031</td>\n",
       "      <td>78.716295</td>\n",
       "      <td>0.333637</td>\n",
       "      <td>1.063823</td>\n",
       "      <td>2451.036462</td>\n",
       "    </tr>\n",
       "    <tr>\n",
       "      <th>std</th>\n",
       "      <td>28.866141</td>\n",
       "      <td>3.779523</td>\n",
       "      <td>5.165218</td>\n",
       "      <td>1.358109</td>\n",
       "      <td>15.080108</td>\n",
       "      <td>0.401486</td>\n",
       "      <td>1.001030</td>\n",
       "      <td>2440.648858</td>\n",
       "    </tr>\n",
       "    <tr>\n",
       "      <th>min</th>\n",
       "      <td>1.000000</td>\n",
       "      <td>10.100000</td>\n",
       "      <td>0.000000</td>\n",
       "      <td>0.000000</td>\n",
       "      <td>13.000000</td>\n",
       "      <td>0.000000</td>\n",
       "      <td>0.000000</td>\n",
       "      <td>0.000000</td>\n",
       "    </tr>\n",
       "    <tr>\n",
       "      <th>25%</th>\n",
       "      <td>25.750000</td>\n",
       "      <td>23.400000</td>\n",
       "      <td>0.000000</td>\n",
       "      <td>1.200000</td>\n",
       "      <td>69.000000</td>\n",
       "      <td>0.000000</td>\n",
       "      <td>0.200000</td>\n",
       "      <td>1085.760000</td>\n",
       "    </tr>\n",
       "    <tr>\n",
       "      <th>50%</th>\n",
       "      <td>50.500000</td>\n",
       "      <td>25.700000</td>\n",
       "      <td>0.100000</td>\n",
       "      <td>2.000000</td>\n",
       "      <td>81.000000</td>\n",
       "      <td>0.100000</td>\n",
       "      <td>0.710000</td>\n",
       "      <td>1766.400000</td>\n",
       "    </tr>\n",
       "    <tr>\n",
       "      <th>75%</th>\n",
       "      <td>75.250000</td>\n",
       "      <td>28.100000</td>\n",
       "      <td>1.300000</td>\n",
       "      <td>2.800000</td>\n",
       "      <td>91.000000</td>\n",
       "      <td>0.700000</td>\n",
       "      <td>1.780000</td>\n",
       "      <td>2970.000000</td>\n",
       "    </tr>\n",
       "    <tr>\n",
       "      <th>max</th>\n",
       "      <td>100.000000</td>\n",
       "      <td>37.100000</td>\n",
       "      <td>92.200000</td>\n",
       "      <td>13.300000</td>\n",
       "      <td>100.000000</td>\n",
       "      <td>1.000000</td>\n",
       "      <td>3.920000</td>\n",
       "      <td>25488.400000</td>\n",
       "    </tr>\n",
       "  </tbody>\n",
       "</table>\n",
       "</div>"
      ],
      "text/plain": [
       "                건물번호          기온(C)       강수량(mm)        풍속(m/s)  \\\n",
       "count  204000.000000  204000.000000  43931.000000  203981.000000   \n",
       "mean       50.500000      25.543524      2.040830       2.134031   \n",
       "std        28.866141       3.779523      5.165218       1.358109   \n",
       "min         1.000000      10.100000      0.000000       0.000000   \n",
       "25%        25.750000      23.400000      0.000000       1.200000   \n",
       "50%        50.500000      25.700000      0.100000       2.000000   \n",
       "75%        75.250000      28.100000      1.300000       2.800000   \n",
       "max       100.000000      37.100000     92.200000      13.300000   \n",
       "\n",
       "               습도(%)         일조(hr)      일사(MJ/m2)     전력소비량(kWh)  \n",
       "count  203991.000000  128818.000000  116087.000000  204000.000000  \n",
       "mean       78.716295       0.333637       1.063823    2451.036462  \n",
       "std        15.080108       0.401486       1.001030    2440.648858  \n",
       "min        13.000000       0.000000       0.000000       0.000000  \n",
       "25%        69.000000       0.000000       0.200000    1085.760000  \n",
       "50%        81.000000       0.100000       0.710000    1766.400000  \n",
       "75%        91.000000       0.700000       1.780000    2970.000000  \n",
       "max       100.000000       1.000000       3.920000   25488.400000  "
      ]
     },
     "execution_count": 35,
     "metadata": {},
     "output_type": "execute_result"
    }
   ],
   "source": [
    "df_tr.describe()"
   ]
  },
  {
   "cell_type": "code",
   "execution_count": 36,
   "id": "4ad8eaaf-f8fe-4622-8105-4b5882e80031",
   "metadata": {},
   "outputs": [
    {
     "data": {
      "text/html": [
       "<div>\n",
       "<style scoped>\n",
       "    .dataframe tbody tr th:only-of-type {\n",
       "        vertical-align: middle;\n",
       "    }\n",
       "\n",
       "    .dataframe tbody tr th {\n",
       "        vertical-align: top;\n",
       "    }\n",
       "\n",
       "    .dataframe thead th {\n",
       "        text-align: right;\n",
       "    }\n",
       "</style>\n",
       "<table border=\"1\" class=\"dataframe\">\n",
       "  <thead>\n",
       "    <tr style=\"text-align: right;\">\n",
       "      <th></th>\n",
       "      <th>num_date_time</th>\n",
       "      <th>건물번호</th>\n",
       "      <th>일시</th>\n",
       "      <th>기온(C)</th>\n",
       "      <th>강수량(mm)</th>\n",
       "      <th>풍속(m/s)</th>\n",
       "      <th>습도(%)</th>\n",
       "      <th>일조(hr)</th>\n",
       "      <th>일사(MJ/m2)</th>\n",
       "      <th>전력소비량(kWh)</th>\n",
       "    </tr>\n",
       "  </thead>\n",
       "  <tbody>\n",
       "    <tr>\n",
       "      <th>0</th>\n",
       "      <td>1_20220601 00</td>\n",
       "      <td>1</td>\n",
       "      <td>20220601 00</td>\n",
       "      <td>18.6</td>\n",
       "      <td>NaN</td>\n",
       "      <td>0.9</td>\n",
       "      <td>42.0</td>\n",
       "      <td>NaN</td>\n",
       "      <td>NaN</td>\n",
       "      <td>1085.28</td>\n",
       "    </tr>\n",
       "    <tr>\n",
       "      <th>1</th>\n",
       "      <td>1_20220601 01</td>\n",
       "      <td>1</td>\n",
       "      <td>20220601 01</td>\n",
       "      <td>18.0</td>\n",
       "      <td>NaN</td>\n",
       "      <td>1.1</td>\n",
       "      <td>45.0</td>\n",
       "      <td>NaN</td>\n",
       "      <td>NaN</td>\n",
       "      <td>1047.36</td>\n",
       "    </tr>\n",
       "    <tr>\n",
       "      <th>2</th>\n",
       "      <td>1_20220601 02</td>\n",
       "      <td>1</td>\n",
       "      <td>20220601 02</td>\n",
       "      <td>17.7</td>\n",
       "      <td>NaN</td>\n",
       "      <td>1.5</td>\n",
       "      <td>45.0</td>\n",
       "      <td>NaN</td>\n",
       "      <td>NaN</td>\n",
       "      <td>974.88</td>\n",
       "    </tr>\n",
       "  </tbody>\n",
       "</table>\n",
       "</div>"
      ],
      "text/plain": [
       "   num_date_time  건물번호           일시  기온(C)  강수량(mm)  풍속(m/s)  습도(%)  일조(hr)  \\\n",
       "0  1_20220601 00     1  20220601 00   18.6      NaN      0.9   42.0     NaN   \n",
       "1  1_20220601 01     1  20220601 01   18.0      NaN      1.1   45.0     NaN   \n",
       "2  1_20220601 02     1  20220601 02   17.7      NaN      1.5   45.0     NaN   \n",
       "\n",
       "   일사(MJ/m2)  전력소비량(kWh)  \n",
       "0        NaN     1085.28  \n",
       "1        NaN     1047.36  \n",
       "2        NaN      974.88  "
      ]
     },
     "execution_count": 36,
     "metadata": {},
     "output_type": "execute_result"
    }
   ],
   "source": [
    "df_tr.head(3)"
   ]
  },
  {
   "cell_type": "code",
   "execution_count": 37,
   "id": "bddbc66b-f891-446d-b1a0-2fc36b7eeaaa",
   "metadata": {},
   "outputs": [
    {
     "data": {
      "text/plain": [
       "100"
      ]
     },
     "execution_count": 37,
     "metadata": {},
     "output_type": "execute_result"
    }
   ],
   "source": [
    "# 건물번호\n",
    "df_tr['건물번호'].nunique()"
   ]
  },
  {
   "cell_type": "code",
   "execution_count": 38,
   "id": "a3422d46-8984-4ecd-8207-f49906a2437c",
   "metadata": {},
   "outputs": [
    {
     "data": {
      "text/plain": [
       "1      2040\n",
       "64     2040\n",
       "74     2040\n",
       "73     2040\n",
       "72     2040\n",
       "       ... \n",
       "31     2040\n",
       "30     2040\n",
       "29     2040\n",
       "28     2040\n",
       "100    2040\n",
       "Name: 건물번호, Length: 100, dtype: int64"
      ]
     },
     "execution_count": 38,
     "metadata": {},
     "output_type": "execute_result"
    }
   ],
   "source": [
    "# 데이터 분포\n",
    "df_tr['건물번호'].value_counts()"
   ]
  },
  {
   "cell_type": "code",
   "execution_count": 39,
   "id": "1c4ce32d-f93f-45b1-844c-5c3b6e07af32",
   "metadata": {},
   "outputs": [
    {
     "data": {
      "text/plain": [
       "204000"
      ]
     },
     "execution_count": 39,
     "metadata": {},
     "output_type": "execute_result"
    }
   ],
   "source": [
    "2040 * 100"
   ]
  },
  {
   "cell_type": "code",
   "execution_count": 40,
   "id": "e5d885c0-8fb2-436e-b4ad-4152176dfece",
   "metadata": {},
   "outputs": [],
   "source": [
    "# # 일시\n",
    "# df_tr['날짜'] = df_tr['일시'].apply(lambda x: x.split(' ')[0]) # 날짜 컬럼 생성\n",
    "# df_tr['시간'] = df_tr['일시'].apply(lambda x: x.split(' ')[1]) # 시간 컬럼 생성\n",
    "\n",
    "# # 날짜 타입으로 변경\n",
    "# df_tr['날짜'] = pd.to_datetime(df_tr['날짜'])"
   ]
  },
  {
   "cell_type": "code",
   "execution_count": 41,
   "id": "0669967a-c492-4aeb-9f00-9a6b3023b134",
   "metadata": {},
   "outputs": [],
   "source": [
    "# # 날짜 최소값, 최대값\n",
    "# df_tr['날짜'].min(), df_tr['날짜'].max()"
   ]
  },
  {
   "cell_type": "code",
   "execution_count": 42,
   "id": "917b4382-a068-44bc-bd18-f837706f8968",
   "metadata": {},
   "outputs": [],
   "source": [
    "# 그냥 일시를 바꾸는 게 낫겠다\n",
    "df_tr['일시'] = pd.to_datetime(df_tr['일시'])"
   ]
  },
  {
   "cell_type": "code",
   "execution_count": 43,
   "id": "bc11db6b-72c2-4071-a67e-6870e5786934",
   "metadata": {},
   "outputs": [
    {
     "data": {
      "image/png": "[encoded data removed]",
      "text/plain": [
       "<Figure size 640x480 with 1 Axes>"
      ]
     },
     "metadata": {},
     "output_type": "display_data"
    }
   ],
   "source": [
    "# 기온\n",
    "sns.histplot(x='기온(C)', data=df_tr, bins=20)\n",
    "plt.show()"
   ]
  },
  {
   "cell_type": "code",
   "execution_count": 45,
   "id": "7fd14bbf-6dd3-4206-820a-d88cbd6de9b2",
   "metadata": {},
   "outputs": [
    {
     "data": {
      "text/html": [
       "<div>\n",
       "<style scoped>\n",
       "    .dataframe tbody tr th:only-of-type {\n",
       "        vertical-align: middle;\n",
       "    }\n",
       "\n",
       "    .dataframe tbody tr th {\n",
       "        vertical-align: top;\n",
       "    }\n",
       "\n",
       "    .dataframe thead th {\n",
       "        text-align: right;\n",
       "    }\n",
       "</style>\n",
       "<table border=\"1\" class=\"dataframe\">\n",
       "  <thead>\n",
       "    <tr style=\"text-align: right;\">\n",
       "      <th></th>\n",
       "      <th>num_date_time</th>\n",
       "      <th>건물번호</th>\n",
       "      <th>일시</th>\n",
       "      <th>기온(C)</th>\n",
       "      <th>강수량(mm)</th>\n",
       "      <th>풍속(m/s)</th>\n",
       "      <th>습도(%)</th>\n",
       "      <th>일조(hr)</th>\n",
       "      <th>일사(MJ/m2)</th>\n",
       "      <th>전력소비량(kWh)</th>\n",
       "    </tr>\n",
       "  </thead>\n",
       "  <tbody>\n",
       "    <tr>\n",
       "      <th>0</th>\n",
       "      <td>1_20220601 00</td>\n",
       "      <td>1</td>\n",
       "      <td>2022-06-01 00:00:00</td>\n",
       "      <td>18.6</td>\n",
       "      <td>NaN</td>\n",
       "      <td>0.9</td>\n",
       "      <td>42.0</td>\n",
       "      <td>NaN</td>\n",
       "      <td>NaN</td>\n",
       "      <td>1085.28</td>\n",
       "    </tr>\n",
       "    <tr>\n",
       "      <th>1</th>\n",
       "      <td>1_20220601 01</td>\n",
       "      <td>1</td>\n",
       "      <td>2022-06-01 01:00:00</td>\n",
       "      <td>18.0</td>\n",
       "      <td>NaN</td>\n",
       "      <td>1.1</td>\n",
       "      <td>45.0</td>\n",
       "      <td>NaN</td>\n",
       "      <td>NaN</td>\n",
       "      <td>1047.36</td>\n",
       "    </tr>\n",
       "    <tr>\n",
       "      <th>2</th>\n",
       "      <td>1_20220601 02</td>\n",
       "      <td>1</td>\n",
       "      <td>2022-06-01 02:00:00</td>\n",
       "      <td>17.7</td>\n",
       "      <td>NaN</td>\n",
       "      <td>1.5</td>\n",
       "      <td>45.0</td>\n",
       "      <td>NaN</td>\n",
       "      <td>NaN</td>\n",
       "      <td>974.88</td>\n",
       "    </tr>\n",
       "  </tbody>\n",
       "</table>\n",
       "</div>"
      ],
      "text/plain": [
       "   num_date_time  건물번호                  일시  기온(C)  강수량(mm)  풍속(m/s)  습도(%)  \\\n",
       "0  1_20220601 00     1 2022-06-01 00:00:00   18.6      NaN      0.9   42.0   \n",
       "1  1_20220601 01     1 2022-06-01 01:00:00   18.0      NaN      1.1   45.0   \n",
       "2  1_20220601 02     1 2022-06-01 02:00:00   17.7      NaN      1.5   45.0   \n",
       "\n",
       "   일조(hr)  일사(MJ/m2)  전력소비량(kWh)  \n",
       "0     NaN        NaN     1085.28  \n",
       "1     NaN        NaN     1047.36  \n",
       "2     NaN        NaN      974.88  "
      ]
     },
     "execution_count": 45,
     "metadata": {},
     "output_type": "execute_result"
    }
   ],
   "source": [
    "df_tr.head(3)"
   ]
  },
  {
   "cell_type": "code",
   "execution_count": 48,
   "id": "6c2d7965-924c-445f-9e70-be90f6da8384",
   "metadata": {},
   "outputs": [
    {
     "data": {
      "image/png": "[encoded data removed]",
      "text/plain": [
       "<Figure size 640x480 with 1 Axes>"
      ]
     },
     "metadata": {},
     "output_type": "display_data"
    }
   ],
   "source": [
    "# 강수량\n",
    "sns.histplot(x='강수량(mm)', data=df_tr, bins=30)\n",
    "plt.show()"
   ]
  },
  {
   "cell_type": "code",
   "execution_count": 49,
   "id": "268106cc-5a92-4491-ad3f-ff58a2b8a774",
   "metadata": {},
   "outputs": [
    {
     "data": {
      "image/png": "[encoded data removed]",
      "text/plain": [
       "<Figure size 640x480 with 1 Axes>"
      ]
     },
     "metadata": {},
     "output_type": "display_data"
    }
   ],
   "source": [
    "# 풍속\n",
    "sns.histplot(x='풍속(m/s)', data=df_tr, bins=20)\n",
    "plt.show()"
   ]
  },
  {
   "cell_type": "code",
   "execution_count": 50,
   "id": "64b57389-5501-4e98-9768-4483337d05ed",
   "metadata": {},
   "outputs": [
    {
     "data": {
      "image/png": "[encoded data removed]",
      "text/plain": [
       "<Figure size 640x480 with 1 Axes>"
      ]
     },
     "metadata": {},
     "output_type": "display_data"
    }
   ],
   "source": [
    "# 습도\n",
    "sns.histplot(x='습도(%)', data=df_tr, bins=20)\n",
    "plt.show()"
   ]
  },
  {
   "cell_type": "code",
   "execution_count": 51,
   "id": "3c05cf9e-6c95-4d4e-b738-2af52ed28449",
   "metadata": {},
   "outputs": [
    {
     "data": {
      "image/png": "[encoded data removed]",
      "text/plain": [
       "<Figure size 640x480 with 1 Axes>"
      ]
     },
     "metadata": {},
     "output_type": "display_data"
    }
   ],
   "source": [
    "# 일조\n",
    "sns.histplot(x='일조(hr)', data=df_tr, bins=20)\n",
    "plt.show()"
   ]
  },
  {
   "cell_type": "code",
   "execution_count": 52,
   "id": "08f2e7bf-4283-4ec1-a41c-e0eabf67c0c2",
   "metadata": {},
   "outputs": [
    {
     "data": {
      "image/png": "[encoded data removed]",
      "text/plain": [
       "<Figure size 640x480 with 1 Axes>"
      ]
     },
     "metadata": {},
     "output_type": "display_data"
    }
   ],
   "source": [
    "# 일사\n",
    "sns.histplot(x='일사(MJ/m2)', data=df_tr, bins=20)\n",
    "plt.show()"
   ]
  },
  {
   "cell_type": "code",
   "execution_count": 53,
   "id": "5414ceb4-a76f-4961-a810-aa3e9bb07c2e",
   "metadata": {},
   "outputs": [
    {
     "data": {
      "image/png": "[encoded data removed]",
      "text/plain": [
       "<Figure size 640x480 with 1 Axes>"
      ]
     },
     "metadata": {},
     "output_type": "display_data"
    }
   ],
   "source": [
    "# 전력소비량\n",
    "sns.histplot(x='전력소비량(kWh)', data=df_tr, bins=20)\n",
    "plt.show()"
   ]
  },
  {
   "cell_type": "code",
   "execution_count": 54,
   "id": "651462b5-755d-4333-b07e-a1879ae13806",
   "metadata": {},
   "outputs": [
    {
     "name": "stderr",
     "output_type": "stream",
     "text": [
      "C:\\Users\\Playdata\\AppData\\Local\\Temp\\ipykernel_17204\\2683459252.py:1: FutureWarning: The default value of numeric_only in DataFrame.corr is deprecated. In a future version, it will default to False. Select only valid columns or specify the value of numeric_only to silence this warning.\n",
      "  df_tr.corr()\n"
     ]
    },
    {
     "data": {
      "text/html": [
       "<div>\n",
       "<style scoped>\n",
       "    .dataframe tbody tr th:only-of-type {\n",
       "        vertical-align: middle;\n",
       "    }\n",
       "\n",
       "    .dataframe tbody tr th {\n",
       "        vertical-align: top;\n",
       "    }\n",
       "\n",
       "    .dataframe thead th {\n",
       "        text-align: right;\n",
       "    }\n",
       "</style>\n",
       "<table border=\"1\" class=\"dataframe\">\n",
       "  <thead>\n",
       "    <tr style=\"text-align: right;\">\n",
       "      <th></th>\n",
       "      <th>건물번호</th>\n",
       "      <th>기온(C)</th>\n",
       "      <th>강수량(mm)</th>\n",
       "      <th>풍속(m/s)</th>\n",
       "      <th>습도(%)</th>\n",
       "      <th>일조(hr)</th>\n",
       "      <th>일사(MJ/m2)</th>\n",
       "      <th>전력소비량(kWh)</th>\n",
       "    </tr>\n",
       "  </thead>\n",
       "  <tbody>\n",
       "    <tr>\n",
       "      <th>건물번호</th>\n",
       "      <td>1.000000</td>\n",
       "      <td>-0.004505</td>\n",
       "      <td>-0.000248</td>\n",
       "      <td>0.021483</td>\n",
       "      <td>0.022985</td>\n",
       "      <td>0.024927</td>\n",
       "      <td>0.009761</td>\n",
       "      <td>-0.180474</td>\n",
       "    </tr>\n",
       "    <tr>\n",
       "      <th>기온(C)</th>\n",
       "      <td>-0.004505</td>\n",
       "      <td>1.000000</td>\n",
       "      <td>-0.066500</td>\n",
       "      <td>0.220203</td>\n",
       "      <td>-0.389854</td>\n",
       "      <td>0.387001</td>\n",
       "      <td>0.476193</td>\n",
       "      <td>0.171190</td>\n",
       "    </tr>\n",
       "    <tr>\n",
       "      <th>강수량(mm)</th>\n",
       "      <td>-0.000248</td>\n",
       "      <td>-0.066500</td>\n",
       "      <td>1.000000</td>\n",
       "      <td>0.028729</td>\n",
       "      <td>0.271468</td>\n",
       "      <td>-0.098351</td>\n",
       "      <td>-0.194009</td>\n",
       "      <td>0.015386</td>\n",
       "    </tr>\n",
       "    <tr>\n",
       "      <th>풍속(m/s)</th>\n",
       "      <td>0.021483</td>\n",
       "      <td>0.220203</td>\n",
       "      <td>0.028729</td>\n",
       "      <td>1.000000</td>\n",
       "      <td>-0.219095</td>\n",
       "      <td>0.093043</td>\n",
       "      <td>0.136162</td>\n",
       "      <td>0.109954</td>\n",
       "    </tr>\n",
       "    <tr>\n",
       "      <th>습도(%)</th>\n",
       "      <td>0.022985</td>\n",
       "      <td>-0.389854</td>\n",
       "      <td>0.271468</td>\n",
       "      <td>-0.219095</td>\n",
       "      <td>1.000000</td>\n",
       "      <td>-0.574123</td>\n",
       "      <td>-0.600839</td>\n",
       "      <td>-0.129546</td>\n",
       "    </tr>\n",
       "    <tr>\n",
       "      <th>일조(hr)</th>\n",
       "      <td>0.024927</td>\n",
       "      <td>0.387001</td>\n",
       "      <td>-0.098351</td>\n",
       "      <td>0.093043</td>\n",
       "      <td>-0.574123</td>\n",
       "      <td>1.000000</td>\n",
       "      <td>0.781689</td>\n",
       "      <td>0.021098</td>\n",
       "    </tr>\n",
       "    <tr>\n",
       "      <th>일사(MJ/m2)</th>\n",
       "      <td>0.009761</td>\n",
       "      <td>0.476193</td>\n",
       "      <td>-0.194009</td>\n",
       "      <td>0.136162</td>\n",
       "      <td>-0.600839</td>\n",
       "      <td>0.781689</td>\n",
       "      <td>1.000000</td>\n",
       "      <td>0.080357</td>\n",
       "    </tr>\n",
       "    <tr>\n",
       "      <th>전력소비량(kWh)</th>\n",
       "      <td>-0.180474</td>\n",
       "      <td>0.171190</td>\n",
       "      <td>0.015386</td>\n",
       "      <td>0.109954</td>\n",
       "      <td>-0.129546</td>\n",
       "      <td>0.021098</td>\n",
       "      <td>0.080357</td>\n",
       "      <td>1.000000</td>\n",
       "    </tr>\n",
       "  </tbody>\n",
       "</table>\n",
       "</div>"
      ],
      "text/plain": [
       "                건물번호     기온(C)   강수량(mm)   풍속(m/s)     습도(%)    일조(hr)  \\\n",
       "건물번호        1.000000 -0.004505 -0.000248  0.021483  0.022985  0.024927   \n",
       "기온(C)      -0.004505  1.000000 -0.066500  0.220203 -0.389854  0.387001   \n",
       "강수량(mm)    -0.000248 -0.066500  1.000000  0.028729  0.271468 -0.098351   \n",
       "풍속(m/s)     0.021483  0.220203  0.028729  1.000000 -0.219095  0.093043   \n",
       "습도(%)       0.022985 -0.389854  0.271468 -0.219095  1.000000 -0.574123   \n",
       "일조(hr)      0.024927  0.387001 -0.098351  0.093043 -0.574123  1.000000   \n",
       "일사(MJ/m2)   0.009761  0.476193 -0.194009  0.136162 -0.600839  0.781689   \n",
       "전력소비량(kWh) -0.180474  0.171190  0.015386  0.109954 -0.129546  0.021098   \n",
       "\n",
       "            일사(MJ/m2)  전력소비량(kWh)  \n",
       "건물번호         0.009761   -0.180474  \n",
       "기온(C)        0.476193    0.171190  \n",
       "강수량(mm)     -0.194009    0.015386  \n",
       "풍속(m/s)      0.136162    0.109954  \n",
       "습도(%)       -0.600839   -0.129546  \n",
       "일조(hr)       0.781689    0.021098  \n",
       "일사(MJ/m2)    1.000000    0.080357  \n",
       "전력소비량(kWh)   0.080357    1.000000  "
      ]
     },
     "execution_count": 54,
     "metadata": {},
     "output_type": "execute_result"
    }
   ],
   "source": [
    "df_tr.corr()"
   ]
  },
  {
   "cell_type": "code",
   "execution_count": 56,
   "id": "301a99cb-1ce2-4bfa-bf81-4273193571ad",
   "metadata": {},
   "outputs": [
    {
     "name": "stderr",
     "output_type": "stream",
     "text": [
      "C:\\Users\\Playdata\\AppData\\Local\\Temp\\ipykernel_17204\\2843551827.py:1: FutureWarning: The default value of numeric_only in DataFrame.corr is deprecated. In a future version, it will default to False. Select only valid columns or specify the value of numeric_only to silence this warning.\n",
      "  sns.heatmap(df_tr.corr(), cmap='RdYlGn', annot=True, fmt='.1f')\n"
     ]
    },
    {
     "data": {
      "image/png": "[encoded data removed]",
      "text/plain": [
       "<Figure size 640x480 with 2 Axes>"
      ]
     },
     "metadata": {},
     "output_type": "display_data"
    }
   ],
   "source": [
    "sns.heatmap(df_tr.corr(), cmap='RdYlGn', annot=True, fmt='.1f')\n",
    "plt.show()"
   ]
  },
  {
   "cell_type": "code",
   "execution_count": null,
   "id": "8f099a88-93df-4d98-95fd-b79ae2058ba7",
   "metadata": {},
   "outputs": [],
   "source": []
  },
  {
   "cell_type": "code",
   "execution_count": null,
   "id": "a9d5d146-1e6f-4ffd-85b3-7f17bab0fe53",
   "metadata": {},
   "outputs": [],
   "source": []
  },
  {
   "cell_type": "code",
   "execution_count": 3,
   "id": "c0046c64-8bb0-4604-99d9-7ff5e1d0ea2a",
   "metadata": {},
   "outputs": [
    {
     "data": {
      "text/html": [
       "<div>\n",
       "<style scoped>\n",
       "    .dataframe tbody tr th:only-of-type {\n",
       "        vertical-align: middle;\n",
       "    }\n",
       "\n",
       "    .dataframe tbody tr th {\n",
       "        vertical-align: top;\n",
       "    }\n",
       "\n",
       "    .dataframe thead th {\n",
       "        text-align: right;\n",
       "    }\n",
       "</style>\n",
       "<table border=\"1\" class=\"dataframe\">\n",
       "  <thead>\n",
       "    <tr style=\"text-align: right;\">\n",
       "      <th></th>\n",
       "      <th>num_date_time</th>\n",
       "      <th>건물번호</th>\n",
       "      <th>일시</th>\n",
       "      <th>기온(C)</th>\n",
       "      <th>강수량(mm)</th>\n",
       "      <th>풍속(m/s)</th>\n",
       "      <th>습도(%)</th>\n",
       "      <th>일조(hr)</th>\n",
       "      <th>일사(MJ/m2)</th>\n",
       "      <th>전력소비량(kWh)</th>\n",
       "    </tr>\n",
       "  </thead>\n",
       "  <tbody>\n",
       "    <tr>\n",
       "      <th>0</th>\n",
       "      <td>1_20220601 00</td>\n",
       "      <td>1</td>\n",
       "      <td>20220601 00</td>\n",
       "      <td>18.6</td>\n",
       "      <td>NaN</td>\n",
       "      <td>0.9</td>\n",
       "      <td>42.0</td>\n",
       "      <td>NaN</td>\n",
       "      <td>NaN</td>\n",
       "      <td>1085.28</td>\n",
       "    </tr>\n",
       "    <tr>\n",
       "      <th>1</th>\n",
       "      <td>1_20220601 01</td>\n",
       "      <td>1</td>\n",
       "      <td>20220601 01</td>\n",
       "      <td>18.0</td>\n",
       "      <td>NaN</td>\n",
       "      <td>1.1</td>\n",
       "      <td>45.0</td>\n",
       "      <td>NaN</td>\n",
       "      <td>NaN</td>\n",
       "      <td>1047.36</td>\n",
       "    </tr>\n",
       "    <tr>\n",
       "      <th>2</th>\n",
       "      <td>1_20220601 02</td>\n",
       "      <td>1</td>\n",
       "      <td>20220601 02</td>\n",
       "      <td>17.7</td>\n",
       "      <td>NaN</td>\n",
       "      <td>1.5</td>\n",
       "      <td>45.0</td>\n",
       "      <td>NaN</td>\n",
       "      <td>NaN</td>\n",
       "      <td>974.88</td>\n",
       "    </tr>\n",
       "    <tr>\n",
       "      <th>3</th>\n",
       "      <td>1_20220601 03</td>\n",
       "      <td>1</td>\n",
       "      <td>20220601 03</td>\n",
       "      <td>16.7</td>\n",
       "      <td>NaN</td>\n",
       "      <td>1.4</td>\n",
       "      <td>48.0</td>\n",
       "      <td>NaN</td>\n",
       "      <td>NaN</td>\n",
       "      <td>953.76</td>\n",
       "    </tr>\n",
       "    <tr>\n",
       "      <th>4</th>\n",
       "      <td>1_20220601 04</td>\n",
       "      <td>1</td>\n",
       "      <td>20220601 04</td>\n",
       "      <td>18.4</td>\n",
       "      <td>NaN</td>\n",
       "      <td>2.8</td>\n",
       "      <td>43.0</td>\n",
       "      <td>NaN</td>\n",
       "      <td>NaN</td>\n",
       "      <td>986.40</td>\n",
       "    </tr>\n",
       "  </tbody>\n",
       "</table>\n",
       "</div>"
      ],
      "text/plain": [
       "   num_date_time  건물번호           일시  기온(C)  강수량(mm)  풍속(m/s)  습도(%)  일조(hr)  \\\n",
       "0  1_20220601 00     1  20220601 00   18.6      NaN      0.9   42.0     NaN   \n",
       "1  1_20220601 01     1  20220601 01   18.0      NaN      1.1   45.0     NaN   \n",
       "2  1_20220601 02     1  20220601 02   17.7      NaN      1.5   45.0     NaN   \n",
       "3  1_20220601 03     1  20220601 03   16.7      NaN      1.4   48.0     NaN   \n",
       "4  1_20220601 04     1  20220601 04   18.4      NaN      2.8   43.0     NaN   \n",
       "\n",
       "   일사(MJ/m2)  전력소비량(kWh)  \n",
       "0        NaN     1085.28  \n",
       "1        NaN     1047.36  \n",
       "2        NaN      974.88  \n",
       "3        NaN      953.76  \n",
       "4        NaN      986.40  "
      ]
     },
     "execution_count": 3,
     "metadata": {},
     "output_type": "execute_result"
    }
   ],
   "source": [
    "import pandas as pd\n",
    "\n",
    "# 데이터 로드\n",
    "data = pd.read_csv(path + 'train.csv')\n",
    "\n",
    "# 처음 5행 출력\n",
    "data.head()"
   ]
  },
  {
   "cell_type": "code",
   "execution_count": 4,
   "id": "6cfde112-8dad-4f81-a921-4d363e4a21bd",
   "metadata": {},
   "outputs": [
    {
     "data": {
      "text/plain": [
       "(num_date_time         0\n",
       " 건물번호                  0\n",
       " 일시                    0\n",
       " 기온(C)                 0\n",
       " 강수량(mm)          160069\n",
       " 풍속(m/s)              19\n",
       " 습도(%)                 9\n",
       " 일조(hr)            75182\n",
       " 일사(MJ/m2)         87913\n",
       " 전력소비량(kWh)            0\n",
       " dtype: int64,\n",
       "                 건물번호          기온(C)       강수량(mm)        풍속(m/s)  \\\n",
       " count  204000.000000  204000.000000  43931.000000  203981.000000   \n",
       " mean       50.500000      25.543524      2.040830       2.134031   \n",
       " std        28.866141       3.779523      5.165218       1.358109   \n",
       " min         1.000000      10.100000      0.000000       0.000000   \n",
       " 25%        25.750000      23.400000      0.000000       1.200000   \n",
       " 50%        50.500000      25.700000      0.100000       2.000000   \n",
       " 75%        75.250000      28.100000      1.300000       2.800000   \n",
       " max       100.000000      37.100000     92.200000      13.300000   \n",
       " \n",
       "                습도(%)         일조(hr)      일사(MJ/m2)     전력소비량(kWh)  \n",
       " count  203991.000000  128818.000000  116087.000000  204000.000000  \n",
       " mean       78.716295       0.333637       1.063823    2451.036462  \n",
       " std        15.080108       0.401486       1.001030    2440.648858  \n",
       " min        13.000000       0.000000       0.000000       0.000000  \n",
       " 25%        69.000000       0.000000       0.200000    1085.760000  \n",
       " 50%        81.000000       0.100000       0.710000    1766.400000  \n",
       " 75%        91.000000       0.700000       1.780000    2970.000000  \n",
       " max       100.000000       1.000000       3.920000   25488.400000  )"
      ]
     },
     "execution_count": 4,
     "metadata": {},
     "output_type": "execute_result"
    }
   ],
   "source": [
    "# 데이터의 결측치 확인\n",
    "missing_data = data.isnull().sum()\n",
    "\n",
    "# 데이터의 기본 통계량 확인\n",
    "statistics = data.describe()\n",
    "\n",
    "missing_data, statistics"
   ]
  },
  {
   "cell_type": "code",
   "execution_count": 5,
   "id": "edee5e29-74d3-4af3-be07-cc4b2cfc55a2",
   "metadata": {},
   "outputs": [
    {
     "data": {
      "text/html": [
       "<div>\n",
       "<style scoped>\n",
       "    .dataframe tbody tr th:only-of-type {\n",
       "        vertical-align: middle;\n",
       "    }\n",
       "\n",
       "    .dataframe tbody tr th {\n",
       "        vertical-align: top;\n",
       "    }\n",
       "\n",
       "    .dataframe thead th {\n",
       "        text-align: right;\n",
       "    }\n",
       "</style>\n",
       "<table border=\"1\" class=\"dataframe\">\n",
       "  <thead>\n",
       "    <tr style=\"text-align: right;\">\n",
       "      <th></th>\n",
       "      <th>건물번호</th>\n",
       "      <th>일시</th>\n",
       "      <th>기온(C)</th>\n",
       "      <th>강수량(mm)</th>\n",
       "      <th>풍속(m/s)</th>\n",
       "      <th>습도(%)</th>\n",
       "      <th>일조(hr)</th>\n",
       "      <th>일사(MJ/m2)</th>\n",
       "      <th>전력소비량(kWh)</th>\n",
       "      <th>년</th>\n",
       "      <th>월</th>\n",
       "      <th>일</th>\n",
       "      <th>시간</th>\n",
       "    </tr>\n",
       "  </thead>\n",
       "  <tbody>\n",
       "    <tr>\n",
       "      <th>0</th>\n",
       "      <td>1</td>\n",
       "      <td>20220601 00</td>\n",
       "      <td>-1.837147</td>\n",
       "      <td>-0.173062</td>\n",
       "      <td>-0.908674</td>\n",
       "      <td>-2.434815</td>\n",
       "      <td>-0.436022</td>\n",
       "      <td>-0.259735</td>\n",
       "      <td>1085.28</td>\n",
       "      <td>2022</td>\n",
       "      <td>6</td>\n",
       "      <td>1</td>\n",
       "      <td>0</td>\n",
       "    </tr>\n",
       "    <tr>\n",
       "      <th>1</th>\n",
       "      <td>1</td>\n",
       "      <td>20220601 01</td>\n",
       "      <td>-1.995898</td>\n",
       "      <td>-0.173062</td>\n",
       "      <td>-0.761404</td>\n",
       "      <td>-2.235873</td>\n",
       "      <td>-0.436022</td>\n",
       "      <td>-0.259735</td>\n",
       "      <td>1047.36</td>\n",
       "      <td>2022</td>\n",
       "      <td>6</td>\n",
       "      <td>1</td>\n",
       "      <td>1</td>\n",
       "    </tr>\n",
       "    <tr>\n",
       "      <th>2</th>\n",
       "      <td>1</td>\n",
       "      <td>20220601 02</td>\n",
       "      <td>-2.075273</td>\n",
       "      <td>-0.173062</td>\n",
       "      <td>-0.466862</td>\n",
       "      <td>-2.235873</td>\n",
       "      <td>-0.436022</td>\n",
       "      <td>-0.259735</td>\n",
       "      <td>974.88</td>\n",
       "      <td>2022</td>\n",
       "      <td>6</td>\n",
       "      <td>1</td>\n",
       "      <td>2</td>\n",
       "    </tr>\n",
       "    <tr>\n",
       "      <th>3</th>\n",
       "      <td>1</td>\n",
       "      <td>20220601 03</td>\n",
       "      <td>-2.339857</td>\n",
       "      <td>-0.173062</td>\n",
       "      <td>-0.540497</td>\n",
       "      <td>-2.036931</td>\n",
       "      <td>-0.436022</td>\n",
       "      <td>-0.259735</td>\n",
       "      <td>953.76</td>\n",
       "      <td>2022</td>\n",
       "      <td>6</td>\n",
       "      <td>1</td>\n",
       "      <td>3</td>\n",
       "    </tr>\n",
       "    <tr>\n",
       "      <th>4</th>\n",
       "      <td>1</td>\n",
       "      <td>20220601 04</td>\n",
       "      <td>-1.890064</td>\n",
       "      <td>-0.173062</td>\n",
       "      <td>0.490398</td>\n",
       "      <td>-2.368501</td>\n",
       "      <td>-0.436022</td>\n",
       "      <td>-0.259735</td>\n",
       "      <td>986.40</td>\n",
       "      <td>2022</td>\n",
       "      <td>6</td>\n",
       "      <td>1</td>\n",
       "      <td>4</td>\n",
       "    </tr>\n",
       "  </tbody>\n",
       "</table>\n",
       "</div>"
      ],
      "text/plain": [
       "   건물번호           일시     기온(C)   강수량(mm)   풍속(m/s)     습도(%)    일조(hr)  \\\n",
       "0     1  20220601 00 -1.837147 -0.173062 -0.908674 -2.434815 -0.436022   \n",
       "1     1  20220601 01 -1.995898 -0.173062 -0.761404 -2.235873 -0.436022   \n",
       "2     1  20220601 02 -2.075273 -0.173062 -0.466862 -2.235873 -0.436022   \n",
       "3     1  20220601 03 -2.339857 -0.173062 -0.540497 -2.036931 -0.436022   \n",
       "4     1  20220601 04 -1.890064 -0.173062  0.490398 -2.368501 -0.436022   \n",
       "\n",
       "   일사(MJ/m2)  전력소비량(kWh)     년  월  일  시간  \n",
       "0  -0.259735     1085.28  2022  6  1   0  \n",
       "1  -0.259735     1047.36  2022  6  1   1  \n",
       "2  -0.259735      974.88  2022  6  1   2  \n",
       "3  -0.259735      953.76  2022  6  1   3  \n",
       "4  -0.259735      986.40  2022  6  1   4  "
      ]
     },
     "execution_count": 5,
     "metadata": {},
     "output_type": "execute_result"
    }
   ],
   "source": [
    "from sklearn.preprocessing import StandardScaler\n",
    "\n",
    "# 1. 강수량(mm)의 결측치를 0으로 대체\n",
    "data['강수량(mm)'].fillna(0, inplace=True)\n",
    "\n",
    "# 2. 다른 컬럼들의 결측치를 중앙값으로 대체\n",
    "for column in ['풍속(m/s)', '습도(%)', '일조(hr)', '일사(MJ/m2)']:\n",
    "    median_value = data[column].median()\n",
    "    data[column].fillna(median_value, inplace=True)\n",
    "\n",
    "# 3. 일시 컬럼에서 년, 월, 일, 시간 정보 추출\n",
    "data['년'] = data['일시'].str.slice(0, 4).astype(int)\n",
    "data['월'] = data['일시'].str.slice(4, 6).astype(int)\n",
    "data['일'] = data['일시'].str.slice(6, 8).astype(int)\n",
    "data['시간'] = data['일시'].str.slice(9, 11).astype(int)\n",
    "\n",
    "# 4. num_date_time 컬럼 제거\n",
    "data.drop('num_date_time', axis=1, inplace=True)\n",
    "\n",
    "# 5. 데이터 스케일링\n",
    "scaler = StandardScaler()\n",
    "scaled_features = scaler.fit_transform(data[['기온(C)', '강수량(mm)', '풍속(m/s)', '습도(%)', '일조(hr)', '일사(MJ/m2)']])\n",
    "scaled_df = pd.DataFrame(scaled_features, columns=['기온(C)', '강수량(mm)', '풍속(m/s)', '습도(%)', '일조(hr)', '일사(MJ/m2)'])\n",
    "data.update(scaled_df)\n",
    "\n",
    "# 전처리된 데이터의 처음 5행 출력\n",
    "data.head()"
   ]
  },
  {
   "cell_type": "code",
   "execution_count": 21,
   "id": "777b84ab-acb1-4016-be6a-fed903ab7076",
   "metadata": {},
   "outputs": [
    {
     "data": {
      "text/html": [
       "<style>#sk-container-id-2 {color: black;background-color: white;}#sk-container-id-2 pre{padding: 0;}#sk-container-id-2 div.sk-toggleable {background-color: white;}#sk-container-id-2 label.sk-toggleable__label {cursor: pointer;display: block;width: 100%;margin-bottom: 0;padding: 0.3em;box-sizing: border-box;text-align: center;}#sk-container-id-2 label.sk-toggleable__label-arrow:before {content: \"▸\";float: left;margin-right: 0.25em;color: #696969;}#sk-container-id-2 label.sk-toggleable__label-arrow:hover:before {color: black;}#sk-container-id-2 div.sk-estimator:hover label.sk-toggleable__label-arrow:before {color: black;}#sk-container-id-2 div.sk-toggleable__content {max-height: 0;max-width: 0;overflow: hidden;text-align: left;background-color: #f0f8ff;}#sk-container-id-2 div.sk-toggleable__content pre {margin: 0.2em;color: black;border-radius: 0.25em;background-color: #f0f8ff;}#sk-container-id-2 input.sk-toggleable__control:checked~div.sk-toggleable__content {max-height: 200px;max-width: 100%;overflow: auto;}#sk-container-id-2 input.sk-toggleable__control:checked~label.sk-toggleable__label-arrow:before {content: \"▾\";}#sk-container-id-2 div.sk-estimator input.sk-toggleable__control:checked~label.sk-toggleable__label {background-color: #d4ebff;}#sk-container-id-2 div.sk-label input.sk-toggleable__control:checked~label.sk-toggleable__label {background-color: #d4ebff;}#sk-container-id-2 input.sk-hidden--visually {border: 0;clip: rect(1px 1px 1px 1px);clip: rect(1px, 1px, 1px, 1px);height: 1px;margin: -1px;overflow: hidden;padding: 0;position: absolute;width: 1px;}#sk-container-id-2 div.sk-estimator {font-family: monospace;background-color: #f0f8ff;border: 1px dotted black;border-radius: 0.25em;box-sizing: border-box;margin-bottom: 0.5em;}#sk-container-id-2 div.sk-estimator:hover {background-color: #d4ebff;}#sk-container-id-2 div.sk-parallel-item::after {content: \"\";width: 100%;border-bottom: 1px solid gray;flex-grow: 1;}#sk-container-id-2 div.sk-label:hover label.sk-toggleable__label {background-color: #d4ebff;}#sk-container-id-2 div.sk-serial::before {content: \"\";position: absolute;border-left: 1px solid gray;box-sizing: border-box;top: 0;bottom: 0;left: 50%;z-index: 0;}#sk-container-id-2 div.sk-serial {display: flex;flex-direction: column;align-items: center;background-color: white;padding-right: 0.2em;padding-left: 0.2em;position: relative;}#sk-container-id-2 div.sk-item {position: relative;z-index: 1;}#sk-container-id-2 div.sk-parallel {display: flex;align-items: stretch;justify-content: center;background-color: white;position: relative;}#sk-container-id-2 div.sk-item::before, #sk-container-id-2 div.sk-parallel-item::before {content: \"\";position: absolute;border-left: 1px solid gray;box-sizing: border-box;top: 0;bottom: 0;left: 50%;z-index: -1;}#sk-container-id-2 div.sk-parallel-item {display: flex;flex-direction: column;z-index: 1;position: relative;background-color: white;}#sk-container-id-2 div.sk-parallel-item:first-child::after {align-self: flex-end;width: 50%;}#sk-container-id-2 div.sk-parallel-item:last-child::after {align-self: flex-start;width: 50%;}#sk-container-id-2 div.sk-parallel-item:only-child::after {width: 0;}#sk-container-id-2 div.sk-dashed-wrapped {border: 1px dashed gray;margin: 0 0.4em 0.5em 0.4em;box-sizing: border-box;padding-bottom: 0.4em;background-color: white;}#sk-container-id-2 div.sk-label label {font-family: monospace;font-weight: bold;display: inline-block;line-height: 1.2em;}#sk-container-id-2 div.sk-label-container {text-align: center;}#sk-container-id-2 div.sk-container {/* jupyter's `normalize.less` sets `[hidden] { display: none; }` but bootstrap.min.css set `[hidden] { display: none !important; }` so we also need the `!important` here to be able to override the default hidden behavior on the sphinx rendered scikit-learn.org. See: https://github.com/scikit-learn/scikit-learn/issues/21755 */display: inline-block !important;position: relative;}#sk-container-id-2 div.sk-text-repr-fallback {display: none;}</style><div id=\"sk-container-id-2\" class=\"sk-top-container\"><div class=\"sk-text-repr-fallback\"><pre>RandomForestRegressor(random_state=42)</pre><b>In a Jupyter environment, please rerun this cell to show the HTML representation or trust the notebook. <br />On GitHub, the HTML representation is unable to render, please try loading this page with nbviewer.org.</b></div><div class=\"sk-container\" hidden><div class=\"sk-item\"><div class=\"sk-estimator sk-toggleable\"><input class=\"sk-toggleable__control sk-hidden--visually\" id=\"sk-estimator-id-2\" type=\"checkbox\" checked><label for=\"sk-estimator-id-2\" class=\"sk-toggleable__label sk-toggleable__label-arrow\">RandomForestRegressor</label><div class=\"sk-toggleable__content\"><pre>RandomForestRegressor(random_state=42)</pre></div></div></div></div></div>"
      ],
      "text/plain": [
       "RandomForestRegressor(random_state=42)"
      ]
     },
     "execution_count": 21,
     "metadata": {},
     "output_type": "execute_result"
    }
   ],
   "source": [
    "from sklearn.model_selection import train_test_split\n",
    "from sklearn.linear_model import LinearRegression\n",
    "from sklearn.ensemble import RandomForestRegressor, GradientBoostingRegressor\n",
    "from sklearn.metrics import mean_squared_error\n",
    "\n",
    "# 특성과 타겟 변수 분리\n",
    "X = data.drop(columns=['일시', '전력소비량(kWh)', '일조(hr)', '일사(MJ/m2)'])\n",
    "y = data['전력소비량(kWh)']\n",
    "\n",
    "# 학습용과 검증용 데이터로 분리\n",
    "X_train, X_val, y_train, y_val = train_test_split(X, y, test_size=0.2, random_state=42)\n",
    "\n",
    "\n",
    "model = RandomForestRegressor(random_state=42)\n",
    "model.fit(X_train, y_train)\n",
    "# # 모델 초기화\n",
    "# models = {\n",
    "#     \"Linear Regression\": LinearRegression(),\n",
    "#     \"Random Forest\": RandomForestRegressor(random_state=42),\n",
    "#     \"Gradient Boosting\": GradientBoostingRegressor(random_state=42)\n",
    "# }\n",
    "\n",
    "# # 각 모델 학습 및 평가\n",
    "# results = {}\n",
    "# for model_name, model in tqdm(models.items()):\n",
    "#     # 학습\n",
    "#     model.fit(X_train, y_train)\n",
    "    \n",
    "#     # 예측\n",
    "#     y_pred = model.predict(X_val)\n",
    "    \n",
    "#     # 성능 평가 (RMSE)\n",
    "#     rmse = mean_squared_error(y_val, y_pred, squared=False)\n",
    "#     results[model_name] = rmse\n",
    "\n",
    "# # 가장 좋은 성능을 가진 모델 선택\n",
    "# best_model_name = min(results, key=results.get)\n",
    "# best_model_rmse = results[best_model_name]\n",
    "\n",
    "# best_model_name, best_model_rmse\n",
    "\n"
   ]
  },
  {
   "cell_type": "code",
   "execution_count": 25,
   "id": "9d70d1c1-bba3-4ab1-943d-488f19137ab2",
   "metadata": {},
   "outputs": [
    {
     "data": {
      "text/html": [
       "<div>\n",
       "<style scoped>\n",
       "    .dataframe tbody tr th:only-of-type {\n",
       "        vertical-align: middle;\n",
       "    }\n",
       "\n",
       "    .dataframe tbody tr th {\n",
       "        vertical-align: top;\n",
       "    }\n",
       "\n",
       "    .dataframe thead th {\n",
       "        text-align: right;\n",
       "    }\n",
       "</style>\n",
       "<table border=\"1\" class=\"dataframe\">\n",
       "  <thead>\n",
       "    <tr style=\"text-align: right;\">\n",
       "      <th></th>\n",
       "      <th>건물번호</th>\n",
       "      <th>기온(C)</th>\n",
       "      <th>강수량(mm)</th>\n",
       "      <th>풍속(m/s)</th>\n",
       "      <th>습도(%)</th>\n",
       "      <th>년</th>\n",
       "      <th>월</th>\n",
       "      <th>일</th>\n",
       "      <th>시간</th>\n",
       "    </tr>\n",
       "  </thead>\n",
       "  <tbody>\n",
       "    <tr>\n",
       "      <th>0</th>\n",
       "      <td>1</td>\n",
       "      <td>0.528713</td>\n",
       "      <td>-0.235982</td>\n",
       "      <td>0.399855</td>\n",
       "      <td>-0.320147</td>\n",
       "      <td>2022</td>\n",
       "      <td>8</td>\n",
       "      <td>25</td>\n",
       "      <td>0</td>\n",
       "    </tr>\n",
       "    <tr>\n",
       "      <th>1</th>\n",
       "      <td>1</td>\n",
       "      <td>0.355338</td>\n",
       "      <td>-0.235982</td>\n",
       "      <td>-0.847907</td>\n",
       "      <td>-0.320147</td>\n",
       "      <td>2022</td>\n",
       "      <td>8</td>\n",
       "      <td>25</td>\n",
       "      <td>1</td>\n",
       "    </tr>\n",
       "    <tr>\n",
       "      <th>2</th>\n",
       "      <td>1</td>\n",
       "      <td>0.251313</td>\n",
       "      <td>-0.235982</td>\n",
       "      <td>-0.272017</td>\n",
       "      <td>-0.133582</td>\n",
       "      <td>2022</td>\n",
       "      <td>8</td>\n",
       "      <td>25</td>\n",
       "      <td>2</td>\n",
       "    </tr>\n",
       "    <tr>\n",
       "      <th>3</th>\n",
       "      <td>1</td>\n",
       "      <td>0.043263</td>\n",
       "      <td>-0.235982</td>\n",
       "      <td>-0.463980</td>\n",
       "      <td>0.052982</td>\n",
       "      <td>2022</td>\n",
       "      <td>8</td>\n",
       "      <td>25</td>\n",
       "      <td>3</td>\n",
       "    </tr>\n",
       "    <tr>\n",
       "      <th>4</th>\n",
       "      <td>1</td>\n",
       "      <td>-0.060762</td>\n",
       "      <td>-0.235982</td>\n",
       "      <td>-0.751926</td>\n",
       "      <td>-0.009206</td>\n",
       "      <td>2022</td>\n",
       "      <td>8</td>\n",
       "      <td>25</td>\n",
       "      <td>4</td>\n",
       "    </tr>\n",
       "  </tbody>\n",
       "</table>\n",
       "</div>"
      ],
      "text/plain": [
       "   건물번호     기온(C)   강수량(mm)   풍속(m/s)     습도(%)     년  월   일  시간\n",
       "0     1  0.528713 -0.235982  0.399855 -0.320147  2022  8  25   0\n",
       "1     1  0.355338 -0.235982 -0.847907 -0.320147  2022  8  25   1\n",
       "2     1  0.251313 -0.235982 -0.272017 -0.133582  2022  8  25   2\n",
       "3     1  0.043263 -0.235982 -0.463980  0.052982  2022  8  25   3\n",
       "4     1 -0.060762 -0.235982 -0.751926 -0.009206  2022  8  25   4"
      ]
     },
     "execution_count": 25,
     "metadata": {},
     "output_type": "execute_result"
    }
   ],
   "source": [
    "# 테스트 데이터\n",
    "from sklearn.preprocessing import StandardScaler\n",
    "\n",
    "data = pd.read_csv(path + 'test.csv')\n",
    "\n",
    "# 1. 강수량(mm)의 결측치를 0으로 대체\n",
    "data['강수량(mm)'].fillna(0, inplace=True)\n",
    "\n",
    "# 2. 다른 컬럼들의 결측치를 중앙값으로 대체\n",
    "for column in ['풍속(m/s)', '습도(%)']:\n",
    "    median_value = data[column].median()\n",
    "    data[column].fillna(median_value, inplace=True)\n",
    "\n",
    "# 3. 일시 컬럼에서 년, 월, 일, 시간 정보 추출\n",
    "data['년'] = data['일시'].str.slice(0, 4).astype(int)\n",
    "data['월'] = data['일시'].str.slice(4, 6).astype(int)\n",
    "data['일'] = data['일시'].str.slice(6, 8).astype(int)\n",
    "data['시간'] = data['일시'].str.slice(9, 11).astype(int)\n",
    "\n",
    "# 4. num_date_time 컬럼 제거\n",
    "data.drop('num_date_time', axis=1, inplace=True)\n",
    "\n",
    "# 5. 데이터 스케일링\n",
    "scaler = StandardScaler()\n",
    "scaled_features = scaler.fit_transform(data[['기온(C)', '강수량(mm)', '풍속(m/s)', '습도(%)']])\n",
    "scaled_df = pd.DataFrame(scaled_features, columns=['기온(C)', '강수량(mm)', '풍속(m/s)', '습도(%)'])\n",
    "data.update(scaled_df)\n",
    "\n",
    "# 전처리된 데이터의 처음 5행 출력\n",
    "data = data[['건물번호', '기온(C)', '강수량(mm)', '풍속(m/s)', '습도(%)', '년', '월', '일', '시간']]\n",
    "data.head()"
   ]
  },
  {
   "cell_type": "code",
   "execution_count": 26,
   "id": "5ee22fe0-4382-4c14-be7a-3566ccb89ff1",
   "metadata": {},
   "outputs": [
    {
     "data": {
      "text/plain": [
       "Index(['건물번호', '기온(C)', '강수량(mm)', '풍속(m/s)', '습도(%)', '년', '월', '일', '시간'], dtype='object')"
      ]
     },
     "execution_count": 26,
     "metadata": {},
     "output_type": "execute_result"
    }
   ],
   "source": [
    "data.columns"
   ]
  },
  {
   "cell_type": "code",
   "execution_count": 31,
   "id": "7ac2fc7e-3400-4c4a-813c-6258457fa0e3",
   "metadata": {},
   "outputs": [],
   "source": [
    "pred = model.predict(data)\n",
    "\n",
    "submission = pd.read_csv(path + 'sample_submission.csv')\n",
    "submission['answer'] = pred\n",
    "\n",
    "submission.to_csv(path + 'baseline_submission.csv', index=False)"
   ]
  },
  {
   "cell_type": "markdown",
   "id": "d9d1aca4-15e2-41ad-a771-1f880d48ff9b",
   "metadata": {},
   "source": [
    "### 분리 x"
   ]
  },
  {
   "cell_type": "code",
   "execution_count": 7,
   "id": "ba0aaddb-43d0-4d50-a148-adc5afdeef01",
   "metadata": {},
   "outputs": [
    {
     "data": {
      "text/html": [
       "<style>#sk-container-id-2 {color: black;background-color: white;}#sk-container-id-2 pre{padding: 0;}#sk-container-id-2 div.sk-toggleable {background-color: white;}#sk-container-id-2 label.sk-toggleable__label {cursor: pointer;display: block;width: 100%;margin-bottom: 0;padding: 0.3em;box-sizing: border-box;text-align: center;}#sk-container-id-2 label.sk-toggleable__label-arrow:before {content: \"▸\";float: left;margin-right: 0.25em;color: #696969;}#sk-container-id-2 label.sk-toggleable__label-arrow:hover:before {color: black;}#sk-container-id-2 div.sk-estimator:hover label.sk-toggleable__label-arrow:before {color: black;}#sk-container-id-2 div.sk-toggleable__content {max-height: 0;max-width: 0;overflow: hidden;text-align: left;background-color: #f0f8ff;}#sk-container-id-2 div.sk-toggleable__content pre {margin: 0.2em;color: black;border-radius: 0.25em;background-color: #f0f8ff;}#sk-container-id-2 input.sk-toggleable__control:checked~div.sk-toggleable__content {max-height: 200px;max-width: 100%;overflow: auto;}#sk-container-id-2 input.sk-toggleable__control:checked~label.sk-toggleable__label-arrow:before {content: \"▾\";}#sk-container-id-2 div.sk-estimator input.sk-toggleable__control:checked~label.sk-toggleable__label {background-color: #d4ebff;}#sk-container-id-2 div.sk-label input.sk-toggleable__control:checked~label.sk-toggleable__label {background-color: #d4ebff;}#sk-container-id-2 input.sk-hidden--visually {border: 0;clip: rect(1px 1px 1px 1px);clip: rect(1px, 1px, 1px, 1px);height: 1px;margin: -1px;overflow: hidden;padding: 0;position: absolute;width: 1px;}#sk-container-id-2 div.sk-estimator {font-family: monospace;background-color: #f0f8ff;border: 1px dotted black;border-radius: 0.25em;box-sizing: border-box;margin-bottom: 0.5em;}#sk-container-id-2 div.sk-estimator:hover {background-color: #d4ebff;}#sk-container-id-2 div.sk-parallel-item::after {content: \"\";width: 100%;border-bottom: 1px solid gray;flex-grow: 1;}#sk-container-id-2 div.sk-label:hover label.sk-toggleable__label {background-color: #d4ebff;}#sk-container-id-2 div.sk-serial::before {content: \"\";position: absolute;border-left: 1px solid gray;box-sizing: border-box;top: 0;bottom: 0;left: 50%;z-index: 0;}#sk-container-id-2 div.sk-serial {display: flex;flex-direction: column;align-items: center;background-color: white;padding-right: 0.2em;padding-left: 0.2em;position: relative;}#sk-container-id-2 div.sk-item {position: relative;z-index: 1;}#sk-container-id-2 div.sk-parallel {display: flex;align-items: stretch;justify-content: center;background-color: white;position: relative;}#sk-container-id-2 div.sk-item::before, #sk-container-id-2 div.sk-parallel-item::before {content: \"\";position: absolute;border-left: 1px solid gray;box-sizing: border-box;top: 0;bottom: 0;left: 50%;z-index: -1;}#sk-container-id-2 div.sk-parallel-item {display: flex;flex-direction: column;z-index: 1;position: relative;background-color: white;}#sk-container-id-2 div.sk-parallel-item:first-child::after {align-self: flex-end;width: 50%;}#sk-container-id-2 div.sk-parallel-item:last-child::after {align-self: flex-start;width: 50%;}#sk-container-id-2 div.sk-parallel-item:only-child::after {width: 0;}#sk-container-id-2 div.sk-dashed-wrapped {border: 1px dashed gray;margin: 0 0.4em 0.5em 0.4em;box-sizing: border-box;padding-bottom: 0.4em;background-color: white;}#sk-container-id-2 div.sk-label label {font-family: monospace;font-weight: bold;display: inline-block;line-height: 1.2em;}#sk-container-id-2 div.sk-label-container {text-align: center;}#sk-container-id-2 div.sk-container {/* jupyter's `normalize.less` sets `[hidden] { display: none; }` but bootstrap.min.css set `[hidden] { display: none !important; }` so we also need the `!important` here to be able to override the default hidden behavior on the sphinx rendered scikit-learn.org. See: https://github.com/scikit-learn/scikit-learn/issues/21755 */display: inline-block !important;position: relative;}#sk-container-id-2 div.sk-text-repr-fallback {display: none;}</style><div id=\"sk-container-id-2\" class=\"sk-top-container\"><div class=\"sk-text-repr-fallback\"><pre>RandomForestRegressor(random_state=42)</pre><b>In a Jupyter environment, please rerun this cell to show the HTML representation or trust the notebook. <br />On GitHub, the HTML representation is unable to render, please try loading this page with nbviewer.org.</b></div><div class=\"sk-container\" hidden><div class=\"sk-item\"><div class=\"sk-estimator sk-toggleable\"><input class=\"sk-toggleable__control sk-hidden--visually\" id=\"sk-estimator-id-2\" type=\"checkbox\" checked><label for=\"sk-estimator-id-2\" class=\"sk-toggleable__label sk-toggleable__label-arrow\">RandomForestRegressor</label><div class=\"sk-toggleable__content\"><pre>RandomForestRegressor(random_state=42)</pre></div></div></div></div></div>"
      ],
      "text/plain": [
       "RandomForestRegressor(random_state=42)"
      ]
     },
     "execution_count": 7,
     "metadata": {},
     "output_type": "execute_result"
    }
   ],
   "source": [
    "from sklearn.model_selection import train_test_split\n",
    "from sklearn.linear_model import LinearRegression\n",
    "from sklearn.ensemble import RandomForestRegressor, GradientBoostingRegressor\n",
    "from sklearn.metrics import mean_squared_error\n",
    "\n",
    "# 특성과 타겟 변수 분리\n",
    "X = data.drop(columns=['일시', '전력소비량(kWh)', '일조(hr)', '일사(MJ/m2)'])\n",
    "y = data['전력소비량(kWh)']\n",
    "\n",
    "# 학습용과 검증용 데이터로 분리\n",
    "X_train, X_val, y_train, y_val = train_test_split(X, y, test_size=0.2, random_state=42)\n",
    "\n",
    "\n",
    "model = RandomForestRegressor(random_state=42)\n",
    "model.fit(X, y)\n",
    "# # 모델 초기화\n",
    "# models = {\n",
    "#     \"Linear Regression\": LinearRegression(),\n",
    "#     \"Random Forest\": RandomForestRegressor(random_state=42),\n",
    "#     \"Gradient Boosting\": GradientBoostingRegressor(random_state=42)\n",
    "# }\n",
    "\n",
    "# # 각 모델 학습 및 평가\n",
    "# results = {}\n",
    "# for model_name, model in tqdm(models.items()):\n",
    "#     # 학습\n",
    "#     model.fit(X_train, y_train)\n",
    "    \n",
    "#     # 예측\n",
    "#     y_pred = model.predict(X_val)\n",
    "    \n",
    "#     # 성능 평가 (RMSE)\n",
    "#     rmse = mean_squared_error(y_val, y_pred, squared=False)\n",
    "#     results[model_name] = rmse\n",
    "\n",
    "# # 가장 좋은 성능을 가진 모델 선택\n",
    "# best_model_name = min(results, key=results.get)\n",
    "# best_model_rmse = results[best_model_name]\n",
    "\n",
    "# best_model_name, best_model_rmse\n",
    "\n"
   ]
  },
  {
   "cell_type": "code",
   "execution_count": 8,
   "id": "e1f5d779-3690-422b-aaf0-b02cfb1318c5",
   "metadata": {},
   "outputs": [
    {
     "data": {
      "text/html": [
       "<div>\n",
       "<style scoped>\n",
       "    .dataframe tbody tr th:only-of-type {\n",
       "        vertical-align: middle;\n",
       "    }\n",
       "\n",
       "    .dataframe tbody tr th {\n",
       "        vertical-align: top;\n",
       "    }\n",
       "\n",
       "    .dataframe thead th {\n",
       "        text-align: right;\n",
       "    }\n",
       "</style>\n",
       "<table border=\"1\" class=\"dataframe\">\n",
       "  <thead>\n",
       "    <tr style=\"text-align: right;\">\n",
       "      <th></th>\n",
       "      <th>건물번호</th>\n",
       "      <th>기온(C)</th>\n",
       "      <th>강수량(mm)</th>\n",
       "      <th>풍속(m/s)</th>\n",
       "      <th>습도(%)</th>\n",
       "      <th>년</th>\n",
       "      <th>월</th>\n",
       "      <th>일</th>\n",
       "      <th>시간</th>\n",
       "    </tr>\n",
       "  </thead>\n",
       "  <tbody>\n",
       "    <tr>\n",
       "      <th>0</th>\n",
       "      <td>1</td>\n",
       "      <td>0.528713</td>\n",
       "      <td>-0.235982</td>\n",
       "      <td>0.399855</td>\n",
       "      <td>-0.320147</td>\n",
       "      <td>2022</td>\n",
       "      <td>8</td>\n",
       "      <td>25</td>\n",
       "      <td>0</td>\n",
       "    </tr>\n",
       "    <tr>\n",
       "      <th>1</th>\n",
       "      <td>1</td>\n",
       "      <td>0.355338</td>\n",
       "      <td>-0.235982</td>\n",
       "      <td>-0.847907</td>\n",
       "      <td>-0.320147</td>\n",
       "      <td>2022</td>\n",
       "      <td>8</td>\n",
       "      <td>25</td>\n",
       "      <td>1</td>\n",
       "    </tr>\n",
       "    <tr>\n",
       "      <th>2</th>\n",
       "      <td>1</td>\n",
       "      <td>0.251313</td>\n",
       "      <td>-0.235982</td>\n",
       "      <td>-0.272017</td>\n",
       "      <td>-0.133582</td>\n",
       "      <td>2022</td>\n",
       "      <td>8</td>\n",
       "      <td>25</td>\n",
       "      <td>2</td>\n",
       "    </tr>\n",
       "    <tr>\n",
       "      <th>3</th>\n",
       "      <td>1</td>\n",
       "      <td>0.043263</td>\n",
       "      <td>-0.235982</td>\n",
       "      <td>-0.463980</td>\n",
       "      <td>0.052982</td>\n",
       "      <td>2022</td>\n",
       "      <td>8</td>\n",
       "      <td>25</td>\n",
       "      <td>3</td>\n",
       "    </tr>\n",
       "    <tr>\n",
       "      <th>4</th>\n",
       "      <td>1</td>\n",
       "      <td>-0.060762</td>\n",
       "      <td>-0.235982</td>\n",
       "      <td>-0.751926</td>\n",
       "      <td>-0.009206</td>\n",
       "      <td>2022</td>\n",
       "      <td>8</td>\n",
       "      <td>25</td>\n",
       "      <td>4</td>\n",
       "    </tr>\n",
       "  </tbody>\n",
       "</table>\n",
       "</div>"
      ],
      "text/plain": [
       "   건물번호     기온(C)   강수량(mm)   풍속(m/s)     습도(%)     년  월   일  시간\n",
       "0     1  0.528713 -0.235982  0.399855 -0.320147  2022  8  25   0\n",
       "1     1  0.355338 -0.235982 -0.847907 -0.320147  2022  8  25   1\n",
       "2     1  0.251313 -0.235982 -0.272017 -0.133582  2022  8  25   2\n",
       "3     1  0.043263 -0.235982 -0.463980  0.052982  2022  8  25   3\n",
       "4     1 -0.060762 -0.235982 -0.751926 -0.009206  2022  8  25   4"
      ]
     },
     "execution_count": 8,
     "metadata": {},
     "output_type": "execute_result"
    }
   ],
   "source": [
    "# 테스트 데이터\n",
    "from sklearn.preprocessing import StandardScaler\n",
    "\n",
    "data = pd.read_csv(path + 'test.csv')\n",
    "\n",
    "# 1. 강수량(mm)의 결측치를 0으로 대체\n",
    "data['강수량(mm)'].fillna(0, inplace=True)\n",
    "\n",
    "# 2. 다른 컬럼들의 결측치를 중앙값으로 대체\n",
    "for column in ['풍속(m/s)', '습도(%)']:\n",
    "    median_value = data[column].median()\n",
    "    data[column].fillna(median_value, inplace=True)\n",
    "\n",
    "# 3. 일시 컬럼에서 년, 월, 일, 시간 정보 추출\n",
    "data['년'] = data['일시'].str.slice(0, 4).astype(int)\n",
    "data['월'] = data['일시'].str.slice(4, 6).astype(int)\n",
    "data['일'] = data['일시'].str.slice(6, 8).astype(int)\n",
    "data['시간'] = data['일시'].str.slice(9, 11).astype(int)\n",
    "\n",
    "# 4. num_date_time 컬럼 제거\n",
    "data.drop('num_date_time', axis=1, inplace=True)\n",
    "\n",
    "# 5. 데이터 스케일링\n",
    "scaler = StandardScaler()\n",
    "scaled_features = scaler.fit_transform(data[['기온(C)', '강수량(mm)', '풍속(m/s)', '습도(%)']])\n",
    "scaled_df = pd.DataFrame(scaled_features, columns=['기온(C)', '강수량(mm)', '풍속(m/s)', '습도(%)'])\n",
    "data.update(scaled_df)\n",
    "\n",
    "# 전처리된 데이터의 처음 5행 출력\n",
    "data = data[['건물번호', '기온(C)', '강수량(mm)', '풍속(m/s)', '습도(%)', '년', '월', '일', '시간']]\n",
    "data.head()"
   ]
  },
  {
   "cell_type": "code",
   "execution_count": 9,
   "id": "e19670ff-c8bb-441d-8f89-d97ecd99706d",
   "metadata": {},
   "outputs": [],
   "source": [
    "pred = model.predict(data)\n",
    "\n",
    "submission = pd.read_csv(path + 'sample_submission.csv')\n",
    "submission['answer'] = pred\n",
    "\n",
    "submission.to_csv(path + 'submission_2.csv', index=False)"
   ]
  },
  {
   "cell_type": "code",
   "execution_count": null,
   "id": "efc95817-e5f1-4e7d-8b98-4975d5e38807",
   "metadata": {},
   "outputs": [],
   "source": []
  }
 ],
 "metadata": {
  "kernelspec": {
   "display_name": "Python 3 (ipykernel)",
   "language": "python",
   "name": "python3"
  },
  "language_info": {
   "codemirror_mode": {
    "name": "ipython",
    "version": 3
   },
   "file_extension": ".py",
   "mimetype": "text/x-python",
   "name": "python",
   "nbconvert_exporter": "python",
   "pygments_lexer": "ipython3",
   "version": "3.9.16"
  }
 },
 "nbformat": 4,
 "nbformat_minor": 5
}
