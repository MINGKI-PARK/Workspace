{
 "cells": [
  {
   "cell_type": "code",
   "execution_count": 1,
   "id": "0a7477f9-e1eb-4d1b-bce3-965c502d3578",
   "metadata": {},
   "outputs": [],
   "source": [
    "import numpy as np\n",
    "import pandas as pd\n",
    "import matplotlib.pyplot as plt \n",
    "import seaborn as sns \n",
    "\n",
    "# 커널을 구성하다보면 에러는 아니지만, 빨간색 네모 박스 warning이 뜨는 경우가 많다. \n",
    "# 그런 보기 싫은 부분들을 제거해주겠다.\n",
    "# import warnings\n",
    "# warnings.filterwarnings('ignore')\n",
    "\n",
    "# os 패키지를 통해 현재 디렉토리 위치를 변경하고, read_csv를 더 편리하게 할 수 있음\n",
    "import os\n",
    "os.getcwd() # 현재 디렉토리 파악\n",
    "# os.chdir(r\"______\") # 불러오고 싶은 파일이 위치한 주소를 ___에 입력\n",
    "\n",
    "# 다른 노트북 작성할 때도 이 셀만 떼서 사용 가능하다.\n",
    "import platform                \n",
    "\n",
    "# 웬만하면 해주는 것이 좋다\n",
    "from matplotlib import font_manager, rc\n",
    "plt.rcParams['axes.unicode_minus'] = False\n",
    "\n",
    "if platform.system() == 'Darwin': #맥os 사용자의 경우에\n",
    "    plt.style.use('seaborn-darkgrid') \n",
    "    rc('font', family = 'AppleGothic')\n",
    "    \n",
    "elif platform.system() == 'Windows':#윈도우 사용자의 경우에\n",
    "    path = 'c:/Windows/Fonts/malgun.ttf'\n",
    "    font_name = font_manager.FontProperties(fname=path).get_name()\n",
    "    plt.style.use('seaborn-v0_8-whitegrid') # https://python-graph-gallery.com/199-matplotlib-style-sheets/\n",
    "    rc('font', family=font_name)\n",
    "    \n",
    "# tqdm\n",
    "from tqdm.notebook import tqdm"
   ]
  },
  {
   "cell_type": "code",
   "execution_count": 3,
   "id": "16e98da6-ed2a-4fa3-9f63-124c290162f5",
   "metadata": {},
   "outputs": [],
   "source": [
    "path = 'c:/reposit/data/dacon/2023 전력사용량 예측 AI 경진대회/'"
   ]
  },
  {
   "cell_type": "markdown",
   "id": "e2af95a5-07bf-44e3-b83a-a4c0bb9b08eb",
   "metadata": {
    "tags": []
   },
   "source": [
    "## 1. 데이터 확인하기"
   ]
  },
  {
   "cell_type": "code",
   "execution_count": 6,
   "id": "f4ec8770-556b-42b7-94b4-8cabb98d2f3c",
   "metadata": {},
   "outputs": [
    {
     "data": {
      "text/plain": [
       "(204000, 10)"
      ]
     },
     "execution_count": 6,
     "metadata": {},
     "output_type": "execute_result"
    }
   ],
   "source": [
    "# train\n",
    "df_tr = pd.read_csv(path + 'train.csv')\n",
    "df_tr.shape"
   ]
  },
  {
   "cell_type": "code",
   "execution_count": 7,
   "id": "361e3472-4caf-41ab-8deb-075bf473a35f",
   "metadata": {},
   "outputs": [
    {
     "data": {
      "text/html": [
       "<div>\n",
       "<style scoped>\n",
       "    .dataframe tbody tr th:only-of-type {\n",
       "        vertical-align: middle;\n",
       "    }\n",
       "\n",
       "    .dataframe tbody tr th {\n",
       "        vertical-align: top;\n",
       "    }\n",
       "\n",
       "    .dataframe thead th {\n",
       "        text-align: right;\n",
       "    }\n",
       "</style>\n",
       "<table border=\"1\" class=\"dataframe\">\n",
       "  <thead>\n",
       "    <tr style=\"text-align: right;\">\n",
       "      <th></th>\n",
       "      <th>num_date_time</th>\n",
       "      <th>건물번호</th>\n",
       "      <th>일시</th>\n",
       "      <th>기온(C)</th>\n",
       "      <th>강수량(mm)</th>\n",
       "      <th>풍속(m/s)</th>\n",
       "      <th>습도(%)</th>\n",
       "      <th>일조(hr)</th>\n",
       "      <th>일사(MJ/m2)</th>\n",
       "      <th>전력소비량(kWh)</th>\n",
       "    </tr>\n",
       "  </thead>\n",
       "  <tbody>\n",
       "    <tr>\n",
       "      <th>0</th>\n",
       "      <td>1_20220601 00</td>\n",
       "      <td>1</td>\n",
       "      <td>20220601 00</td>\n",
       "      <td>18.6</td>\n",
       "      <td>NaN</td>\n",
       "      <td>0.9</td>\n",
       "      <td>42.0</td>\n",
       "      <td>NaN</td>\n",
       "      <td>NaN</td>\n",
       "      <td>1085.28</td>\n",
       "    </tr>\n",
       "    <tr>\n",
       "      <th>1</th>\n",
       "      <td>1_20220601 01</td>\n",
       "      <td>1</td>\n",
       "      <td>20220601 01</td>\n",
       "      <td>18.0</td>\n",
       "      <td>NaN</td>\n",
       "      <td>1.1</td>\n",
       "      <td>45.0</td>\n",
       "      <td>NaN</td>\n",
       "      <td>NaN</td>\n",
       "      <td>1047.36</td>\n",
       "    </tr>\n",
       "    <tr>\n",
       "      <th>2</th>\n",
       "      <td>1_20220601 02</td>\n",
       "      <td>1</td>\n",
       "      <td>20220601 02</td>\n",
       "      <td>17.7</td>\n",
       "      <td>NaN</td>\n",
       "      <td>1.5</td>\n",
       "      <td>45.0</td>\n",
       "      <td>NaN</td>\n",
       "      <td>NaN</td>\n",
       "      <td>974.88</td>\n",
       "    </tr>\n",
       "  </tbody>\n",
       "</table>\n",
       "</div>"
      ],
      "text/plain": [
       "   num_date_time  건물번호           일시  기온(C)  강수량(mm)  풍속(m/s)  습도(%)  일조(hr)  \\\n",
       "0  1_20220601 00     1  20220601 00   18.6      NaN      0.9   42.0     NaN   \n",
       "1  1_20220601 01     1  20220601 01   18.0      NaN      1.1   45.0     NaN   \n",
       "2  1_20220601 02     1  20220601 02   17.7      NaN      1.5   45.0     NaN   \n",
       "\n",
       "   일사(MJ/m2)  전력소비량(kWh)  \n",
       "0        NaN     1085.28  \n",
       "1        NaN     1047.36  \n",
       "2        NaN      974.88  "
      ]
     },
     "execution_count": 7,
     "metadata": {},
     "output_type": "execute_result"
    }
   ],
   "source": [
    "df_tr.head(3)"
   ]
  },
  {
   "cell_type": "code",
   "execution_count": 8,
   "id": "14ccc19b-e726-4df6-a512-29ac1df7ff5a",
   "metadata": {},
   "outputs": [
    {
     "data": {
      "text/plain": [
       "(16800, 7)"
      ]
     },
     "execution_count": 8,
     "metadata": {},
     "output_type": "execute_result"
    }
   ],
   "source": [
    "# test\n",
    "df_te = pd.read_csv(path + 'test.csv')\n",
    "df_te.shape"
   ]
  },
  {
   "cell_type": "code",
   "execution_count": 9,
   "id": "08b5137d-64f0-4546-ae5a-a7edf52dadf1",
   "metadata": {},
   "outputs": [
    {
     "data": {
      "text/html": [
       "<div>\n",
       "<style scoped>\n",
       "    .dataframe tbody tr th:only-of-type {\n",
       "        vertical-align: middle;\n",
       "    }\n",
       "\n",
       "    .dataframe tbody tr th {\n",
       "        vertical-align: top;\n",
       "    }\n",
       "\n",
       "    .dataframe thead th {\n",
       "        text-align: right;\n",
       "    }\n",
       "</style>\n",
       "<table border=\"1\" class=\"dataframe\">\n",
       "  <thead>\n",
       "    <tr style=\"text-align: right;\">\n",
       "      <th></th>\n",
       "      <th>num_date_time</th>\n",
       "      <th>건물번호</th>\n",
       "      <th>일시</th>\n",
       "      <th>기온(C)</th>\n",
       "      <th>강수량(mm)</th>\n",
       "      <th>풍속(m/s)</th>\n",
       "      <th>습도(%)</th>\n",
       "    </tr>\n",
       "  </thead>\n",
       "  <tbody>\n",
       "    <tr>\n",
       "      <th>0</th>\n",
       "      <td>1_20220825 00</td>\n",
       "      <td>1</td>\n",
       "      <td>20220825 00</td>\n",
       "      <td>23.5</td>\n",
       "      <td>0.0</td>\n",
       "      <td>2.2</td>\n",
       "      <td>72</td>\n",
       "    </tr>\n",
       "    <tr>\n",
       "      <th>1</th>\n",
       "      <td>1_20220825 01</td>\n",
       "      <td>1</td>\n",
       "      <td>20220825 01</td>\n",
       "      <td>23.0</td>\n",
       "      <td>0.0</td>\n",
       "      <td>0.9</td>\n",
       "      <td>72</td>\n",
       "    </tr>\n",
       "    <tr>\n",
       "      <th>2</th>\n",
       "      <td>1_20220825 02</td>\n",
       "      <td>1</td>\n",
       "      <td>20220825 02</td>\n",
       "      <td>22.7</td>\n",
       "      <td>0.0</td>\n",
       "      <td>1.5</td>\n",
       "      <td>75</td>\n",
       "    </tr>\n",
       "  </tbody>\n",
       "</table>\n",
       "</div>"
      ],
      "text/plain": [
       "   num_date_time  건물번호           일시  기온(C)  강수량(mm)  풍속(m/s)  습도(%)\n",
       "0  1_20220825 00     1  20220825 00   23.5      0.0      2.2     72\n",
       "1  1_20220825 01     1  20220825 01   23.0      0.0      0.9     72\n",
       "2  1_20220825 02     1  20220825 02   22.7      0.0      1.5     75"
      ]
     },
     "execution_count": 9,
     "metadata": {},
     "output_type": "execute_result"
    }
   ],
   "source": [
    "df_te.head(3)"
   ]
  },
  {
   "cell_type": "code",
   "execution_count": 10,
   "id": "8f4bff4a-1364-4d39-8a79-870eab11d1de",
   "metadata": {},
   "outputs": [
    {
     "data": {
      "text/plain": [
       "(100, 7)"
      ]
     },
     "execution_count": 10,
     "metadata": {},
     "output_type": "execute_result"
    }
   ],
   "source": [
    "df_bd = pd.read_csv(path + 'building_info.csv')\n",
    "df_bd.shape"
   ]
  },
  {
   "cell_type": "code",
   "execution_count": 11,
   "id": "80ccd424-27a7-4800-8dd5-475c9a2667f5",
   "metadata": {},
   "outputs": [
    {
     "data": {
      "text/html": [
       "<div>\n",
       "<style scoped>\n",
       "    .dataframe tbody tr th:only-of-type {\n",
       "        vertical-align: middle;\n",
       "    }\n",
       "\n",
       "    .dataframe tbody tr th {\n",
       "        vertical-align: top;\n",
       "    }\n",
       "\n",
       "    .dataframe thead th {\n",
       "        text-align: right;\n",
       "    }\n",
       "</style>\n",
       "<table border=\"1\" class=\"dataframe\">\n",
       "  <thead>\n",
       "    <tr style=\"text-align: right;\">\n",
       "      <th></th>\n",
       "      <th>건물번호</th>\n",
       "      <th>건물유형</th>\n",
       "      <th>연면적(m2)</th>\n",
       "      <th>냉방면적(m2)</th>\n",
       "      <th>태양광용량(kW)</th>\n",
       "      <th>ESS저장용량(kWh)</th>\n",
       "      <th>PCS용량(kW)</th>\n",
       "    </tr>\n",
       "  </thead>\n",
       "  <tbody>\n",
       "    <tr>\n",
       "      <th>0</th>\n",
       "      <td>1</td>\n",
       "      <td>건물기타</td>\n",
       "      <td>110634.00</td>\n",
       "      <td>39570.0</td>\n",
       "      <td>-</td>\n",
       "      <td>-</td>\n",
       "      <td>-</td>\n",
       "    </tr>\n",
       "    <tr>\n",
       "      <th>1</th>\n",
       "      <td>2</td>\n",
       "      <td>건물기타</td>\n",
       "      <td>122233.47</td>\n",
       "      <td>99000.0</td>\n",
       "      <td>-</td>\n",
       "      <td>-</td>\n",
       "      <td>-</td>\n",
       "    </tr>\n",
       "    <tr>\n",
       "      <th>2</th>\n",
       "      <td>3</td>\n",
       "      <td>건물기타</td>\n",
       "      <td>171243.00</td>\n",
       "      <td>113950.0</td>\n",
       "      <td>40</td>\n",
       "      <td>-</td>\n",
       "      <td>-</td>\n",
       "    </tr>\n",
       "  </tbody>\n",
       "</table>\n",
       "</div>"
      ],
      "text/plain": [
       "   건물번호  건물유형    연면적(m2)  냉방면적(m2) 태양광용량(kW) ESS저장용량(kWh) PCS용량(kW)\n",
       "0     1  건물기타  110634.00   39570.0         -            -         -\n",
       "1     2  건물기타  122233.47   99000.0         -            -         -\n",
       "2     3  건물기타  171243.00  113950.0        40            -         -"
      ]
     },
     "execution_count": 11,
     "metadata": {},
     "output_type": "execute_result"
    }
   ],
   "source": [
    "df_bd.head(3)"
   ]
  },
  {
   "cell_type": "markdown",
   "id": "d7de15df-41cb-4086-bd19-a7411a9b445e",
   "metadata": {},
   "source": [
    "## 2. 데이터 톺아보기"
   ]
  },
  {
   "cell_type": "markdown",
   "id": "082f749c-2a6e-42fd-8ce4-bef25081310f",
   "metadata": {
    "tags": []
   },
   "source": [
    "### 2.1 test"
   ]
  },
  {
   "cell_type": "code",
   "execution_count": 57,
   "id": "2c3e97d7-a4e0-459f-909e-8030d1e6043d",
   "metadata": {},
   "outputs": [
    {
     "data": {
      "text/plain": [
       "(16800, 7)"
      ]
     },
     "execution_count": 57,
     "metadata": {},
     "output_type": "execute_result"
    }
   ],
   "source": [
    "df_te.shape"
   ]
  },
  {
   "cell_type": "code",
   "execution_count": 56,
   "id": "85dae73a-9af5-49e6-adac-77e66cea6e32",
   "metadata": {},
   "outputs": [
    {
     "data": {
      "text/html": [
       "<div>\n",
       "<style scoped>\n",
       "    .dataframe tbody tr th:only-of-type {\n",
       "        vertical-align: middle;\n",
       "    }\n",
       "\n",
       "    .dataframe tbody tr th {\n",
       "        vertical-align: top;\n",
       "    }\n",
       "\n",
       "    .dataframe thead th {\n",
       "        text-align: right;\n",
       "    }\n",
       "</style>\n",
       "<table border=\"1\" class=\"dataframe\">\n",
       "  <thead>\n",
       "    <tr style=\"text-align: right;\">\n",
       "      <th></th>\n",
       "      <th>nan_cnt</th>\n",
       "    </tr>\n",
       "  </thead>\n",
       "  <tbody>\n",
       "    <tr>\n",
       "      <th>num_date_time</th>\n",
       "      <td>0</td>\n",
       "    </tr>\n",
       "    <tr>\n",
       "      <th>건물번호</th>\n",
       "      <td>0</td>\n",
       "    </tr>\n",
       "    <tr>\n",
       "      <th>일시</th>\n",
       "      <td>0</td>\n",
       "    </tr>\n",
       "    <tr>\n",
       "      <th>기온(C)</th>\n",
       "      <td>0</td>\n",
       "    </tr>\n",
       "    <tr>\n",
       "      <th>강수량(mm)</th>\n",
       "      <td>0</td>\n",
       "    </tr>\n",
       "    <tr>\n",
       "      <th>풍속(m/s)</th>\n",
       "      <td>0</td>\n",
       "    </tr>\n",
       "    <tr>\n",
       "      <th>습도(%)</th>\n",
       "      <td>0</td>\n",
       "    </tr>\n",
       "  </tbody>\n",
       "</table>\n",
       "</div>"
      ],
      "text/plain": [
       "               nan_cnt\n",
       "num_date_time        0\n",
       "건물번호                 0\n",
       "일시                   0\n",
       "기온(C)                0\n",
       "강수량(mm)              0\n",
       "풍속(m/s)              0\n",
       "습도(%)                0"
      ]
     },
     "execution_count": 56,
     "metadata": {},
     "output_type": "execute_result"
    }
   ],
   "source": [
    "df_te.isnull().sum().to_frame('nan_cnt')"
   ]
  },
  {
   "cell_type": "code",
   "execution_count": 61,
   "id": "9b35a7e7-1b7e-4b21-911e-9d95aa831428",
   "metadata": {},
   "outputs": [
    {
     "name": "stdout",
     "output_type": "stream",
     "text": [
      "<class 'pandas.core.frame.DataFrame'>\n",
      "RangeIndex: 16800 entries, 0 to 16799\n",
      "Data columns (total 7 columns):\n",
      " #   Column         Non-Null Count  Dtype  \n",
      "---  ------         --------------  -----  \n",
      " 0   num_date_time  16800 non-null  object \n",
      " 1   건물번호           16800 non-null  int64  \n",
      " 2   일시             16800 non-null  object \n",
      " 3   기온(C)          16800 non-null  float64\n",
      " 4   강수량(mm)        16800 non-null  float64\n",
      " 5   풍속(m/s)        16800 non-null  float64\n",
      " 6   습도(%)          16800 non-null  int64  \n",
      "dtypes: float64(3), int64(2), object(2)\n",
      "memory usage: 918.9+ KB\n"
     ]
    }
   ],
   "source": [
    "df_te.info()"
   ]
  },
  {
   "cell_type": "code",
   "execution_count": 62,
   "id": "e19b021e-b2e3-4d73-b4d4-325ce75b8245",
   "metadata": {},
   "outputs": [
    {
     "data": {
      "text/html": [
       "<div>\n",
       "<style scoped>\n",
       "    .dataframe tbody tr th:only-of-type {\n",
       "        vertical-align: middle;\n",
       "    }\n",
       "\n",
       "    .dataframe tbody tr th {\n",
       "        vertical-align: top;\n",
       "    }\n",
       "\n",
       "    .dataframe thead th {\n",
       "        text-align: right;\n",
       "    }\n",
       "</style>\n",
       "<table border=\"1\" class=\"dataframe\">\n",
       "  <thead>\n",
       "    <tr style=\"text-align: right;\">\n",
       "      <th></th>\n",
       "      <th>건물번호</th>\n",
       "      <th>기온(C)</th>\n",
       "      <th>강수량(mm)</th>\n",
       "      <th>풍속(m/s)</th>\n",
       "      <th>습도(%)</th>\n",
       "    </tr>\n",
       "  </thead>\n",
       "  <tbody>\n",
       "    <tr>\n",
       "      <th>count</th>\n",
       "      <td>16800.000000</td>\n",
       "      <td>16800.000000</td>\n",
       "      <td>16800.000000</td>\n",
       "      <td>16800.000000</td>\n",
       "      <td>16800.000000</td>\n",
       "    </tr>\n",
       "    <tr>\n",
       "      <th>mean</th>\n",
       "      <td>50.500000</td>\n",
       "      <td>21.975232</td>\n",
       "      <td>0.266720</td>\n",
       "      <td>1.783405</td>\n",
       "      <td>77.148036</td>\n",
       "    </tr>\n",
       "    <tr>\n",
       "      <th>std</th>\n",
       "      <td>28.866929</td>\n",
       "      <td>2.884010</td>\n",
       "      <td>1.130288</td>\n",
       "      <td>1.041896</td>\n",
       "      <td>16.080725</td>\n",
       "    </tr>\n",
       "    <tr>\n",
       "      <th>min</th>\n",
       "      <td>1.000000</td>\n",
       "      <td>12.200000</td>\n",
       "      <td>0.000000</td>\n",
       "      <td>0.000000</td>\n",
       "      <td>26.000000</td>\n",
       "    </tr>\n",
       "    <tr>\n",
       "      <th>25%</th>\n",
       "      <td>25.750000</td>\n",
       "      <td>19.900000</td>\n",
       "      <td>0.000000</td>\n",
       "      <td>1.000000</td>\n",
       "      <td>66.750000</td>\n",
       "    </tr>\n",
       "    <tr>\n",
       "      <th>50%</th>\n",
       "      <td>50.500000</td>\n",
       "      <td>21.700000</td>\n",
       "      <td>0.000000</td>\n",
       "      <td>1.700000</td>\n",
       "      <td>79.000000</td>\n",
       "    </tr>\n",
       "    <tr>\n",
       "      <th>75%</th>\n",
       "      <td>75.250000</td>\n",
       "      <td>23.600000</td>\n",
       "      <td>0.000000</td>\n",
       "      <td>2.500000</td>\n",
       "      <td>90.000000</td>\n",
       "    </tr>\n",
       "    <tr>\n",
       "      <th>max</th>\n",
       "      <td>100.000000</td>\n",
       "      <td>32.300000</td>\n",
       "      <td>18.800000</td>\n",
       "      <td>7.000000</td>\n",
       "      <td>100.000000</td>\n",
       "    </tr>\n",
       "  </tbody>\n",
       "</table>\n",
       "</div>"
      ],
      "text/plain": [
       "               건물번호         기온(C)       강수량(mm)       풍속(m/s)         습도(%)\n",
       "count  16800.000000  16800.000000  16800.000000  16800.000000  16800.000000\n",
       "mean      50.500000     21.975232      0.266720      1.783405     77.148036\n",
       "std       28.866929      2.884010      1.130288      1.041896     16.080725\n",
       "min        1.000000     12.200000      0.000000      0.000000     26.000000\n",
       "25%       25.750000     19.900000      0.000000      1.000000     66.750000\n",
       "50%       50.500000     21.700000      0.000000      1.700000     79.000000\n",
       "75%       75.250000     23.600000      0.000000      2.500000     90.000000\n",
       "max      100.000000     32.300000     18.800000      7.000000    100.000000"
      ]
     },
     "execution_count": 62,
     "metadata": {},
     "output_type": "execute_result"
    }
   ],
   "source": [
    "df_te.describe()"
   ]
  },
  {
   "cell_type": "code",
   "execution_count": null,
   "id": "41847329-f7cd-4fc4-bed9-57cbb2632f0b",
   "metadata": {},
   "outputs": [],
   "source": []
  },
  {
   "cell_type": "code",
   "execution_count": 59,
   "id": "02ec0ed4-608e-4382-87f5-e9bf586db937",
   "metadata": {},
   "outputs": [
    {
     "data": {
      "text/plain": [
       "100"
      ]
     },
     "execution_count": 59,
     "metadata": {},
     "output_type": "execute_result"
    }
   ],
   "source": [
    "# 건물번호\n",
    "df_te['건물번호'].nunique()"
   ]
  },
  {
   "cell_type": "code",
   "execution_count": 60,
   "id": "cd9643a4-f15f-4ad5-b73e-ac6bf6a82378",
   "metadata": {},
   "outputs": [
    {
     "data": {
      "text/plain": [
       "1      168\n",
       "64     168\n",
       "74     168\n",
       "73     168\n",
       "72     168\n",
       "      ... \n",
       "31     168\n",
       "30     168\n",
       "29     168\n",
       "28     168\n",
       "100    168\n",
       "Name: 건물번호, Length: 100, dtype: int64"
      ]
     },
     "execution_count": 60,
     "metadata": {},
     "output_type": "execute_result"
    }
   ],
   "source": [
    "df_te['건물번호'].value_counts()"
   ]
  },
  {
   "cell_type": "code",
   "execution_count": 65,
   "id": "74a558a5-b1e7-44ec-8705-cfe55e297381",
   "metadata": {},
   "outputs": [],
   "source": [
    "# 일시\n",
    "df_te['일시'] = pd.to_datetime(df_te['일시'])"
   ]
  },
  {
   "cell_type": "code",
   "execution_count": 67,
   "id": "806fe395-931d-4867-a4f7-9085132a88d8",
   "metadata": {},
   "outputs": [
    {
     "data": {
      "text/plain": [
       "(Timestamp('2022-08-25 00:00:00'), Timestamp('2022-08-31 23:00:00'))"
      ]
     },
     "execution_count": 67,
     "metadata": {},
     "output_type": "execute_result"
    }
   ],
   "source": [
    "# 최소, 최대값\n",
    "df_te['일시'].min(), df_te['일시'].max()"
   ]
  },
  {
   "cell_type": "code",
   "execution_count": 68,
   "id": "3e904ebb-a9b7-4f83-9391-4d90739d5604",
   "metadata": {},
   "outputs": [
    {
     "data": {
      "text/plain": [
       "0        23.5\n",
       "1        23.0\n",
       "2        22.7\n",
       "3        22.1\n",
       "4        21.8\n",
       "         ... \n",
       "16795    22.5\n",
       "16796    20.7\n",
       "16797    20.2\n",
       "16798    20.1\n",
       "16799    19.1\n",
       "Name: 기온(C), Length: 16800, dtype: float64"
      ]
     },
     "execution_count": 68,
     "metadata": {},
     "output_type": "execute_result"
    }
   ],
   "source": [
    "# 기온\n",
    "df_te['기온(C)']"
   ]
  },
  {
   "cell_type": "code",
   "execution_count": 70,
   "id": "a72e4f4b-2806-4fa4-97f7-b983eef41197",
   "metadata": {},
   "outputs": [
    {
     "data": {
      "image/png": "[encoded data removed]",
      "text/plain": [
       "<Figure size 640x480 with 1 Axes>"
      ]
     },
     "metadata": {},
     "output_type": "display_data"
    }
   ],
   "source": [
    "sns.histplot(x='기온(C)', data=df_te, bins=20)\n",
    "plt.show()"
   ]
  },
  {
   "cell_type": "code",
   "execution_count": 72,
   "id": "01fbb0c6-288f-48a6-958f-e50476863ac8",
   "metadata": {},
   "outputs": [
    {
     "data": {
      "image/png": "[encoded data removed]",
      "text/plain": [
       "<Figure size 640x480 with 1 Axes>"
      ]
     },
     "metadata": {},
     "output_type": "display_data"
    }
   ],
   "source": [
    "# 강수량\n",
    "sns.histplot(x='강수량(mm)', data=df_te)\n",
    "plt.show()"
   ]
  },
  {
   "cell_type": "code",
   "execution_count": 73,
   "id": "0145f537-302b-4cea-842c-86e958d13259",
   "metadata": {},
   "outputs": [
    {
     "data": {
      "text/html": [
       "<div>\n",
       "<style scoped>\n",
       "    .dataframe tbody tr th:only-of-type {\n",
       "        vertical-align: middle;\n",
       "    }\n",
       "\n",
       "    .dataframe tbody tr th {\n",
       "        vertical-align: top;\n",
       "    }\n",
       "\n",
       "    .dataframe thead th {\n",
       "        text-align: right;\n",
       "    }\n",
       "</style>\n",
       "<table border=\"1\" class=\"dataframe\">\n",
       "  <thead>\n",
       "    <tr style=\"text-align: right;\">\n",
       "      <th></th>\n",
       "      <th>num_date_time</th>\n",
       "      <th>건물번호</th>\n",
       "      <th>일시</th>\n",
       "      <th>기온(C)</th>\n",
       "      <th>강수량(mm)</th>\n",
       "      <th>풍속(m/s)</th>\n",
       "      <th>습도(%)</th>\n",
       "    </tr>\n",
       "  </thead>\n",
       "  <tbody>\n",
       "    <tr>\n",
       "      <th>0</th>\n",
       "      <td>1_20220825 00</td>\n",
       "      <td>1</td>\n",
       "      <td>2022-08-25 00:00:00</td>\n",
       "      <td>23.5</td>\n",
       "      <td>0.0</td>\n",
       "      <td>2.2</td>\n",
       "      <td>72</td>\n",
       "    </tr>\n",
       "    <tr>\n",
       "      <th>1</th>\n",
       "      <td>1_20220825 01</td>\n",
       "      <td>1</td>\n",
       "      <td>2022-08-25 01:00:00</td>\n",
       "      <td>23.0</td>\n",
       "      <td>0.0</td>\n",
       "      <td>0.9</td>\n",
       "      <td>72</td>\n",
       "    </tr>\n",
       "    <tr>\n",
       "      <th>2</th>\n",
       "      <td>1_20220825 02</td>\n",
       "      <td>1</td>\n",
       "      <td>2022-08-25 02:00:00</td>\n",
       "      <td>22.7</td>\n",
       "      <td>0.0</td>\n",
       "      <td>1.5</td>\n",
       "      <td>75</td>\n",
       "    </tr>\n",
       "  </tbody>\n",
       "</table>\n",
       "</div>"
      ],
      "text/plain": [
       "   num_date_time  건물번호                  일시  기온(C)  강수량(mm)  풍속(m/s)  습도(%)\n",
       "0  1_20220825 00     1 2022-08-25 00:00:00   23.5      0.0      2.2     72\n",
       "1  1_20220825 01     1 2022-08-25 01:00:00   23.0      0.0      0.9     72\n",
       "2  1_20220825 02     1 2022-08-25 02:00:00   22.7      0.0      1.5     75"
      ]
     },
     "execution_count": 73,
     "metadata": {},
     "output_type": "execute_result"
    }
   ],
   "source": [
    "df_te.head(3)"
   ]
  },
  {
   "cell_type": "code",
   "execution_count": 74,
   "id": "73996443-d244-4b7d-8930-bdd3d7df0a67",
   "metadata": {},
   "outputs": [
    {
     "data": {
      "image/png": "[encoded data removed]",
      "text/plain": [
       "<Figure size 640x480 with 1 Axes>"
      ]
     },
     "metadata": {},
     "output_type": "display_data"
    }
   ],
   "source": [
    "# 풍속\n",
    "sns.histplot(x='풍속(m/s)', data=df_te)\n",
    "plt.show()"
   ]
  },
  {
   "cell_type": "code",
   "execution_count": 75,
   "id": "ae834f61-733d-4233-a61d-70214820e685",
   "metadata": {},
   "outputs": [
    {
     "data": {
      "image/png": "[encoded data removed]",
      "text/plain": [
       "<Figure size 640x480 with 1 Axes>"
      ]
     },
     "metadata": {},
     "output_type": "display_data"
    }
   ],
   "source": [
    "# 습도\n",
    "sns.histplot(x='습도(%)', data=df_te)\n",
    "plt.show()"
   ]
  },
  {
   "cell_type": "code",
   "execution_count": null,
   "id": "0f1c64e9-c7ba-4492-8a2f-15ab9b49f4b3",
   "metadata": {},
   "outputs": [],
   "source": []
  },
  {
   "cell_type": "markdown",
   "id": "58f5fab1-d374-4855-a48e-f01dff054259",
   "metadata": {
    "tags": []
   },
   "source": [
    "### 2.2 train"
   ]
  },
  {
   "cell_type": "code",
   "execution_count": 13,
   "id": "c9f7553b-130b-4101-8fc6-49ec6a2a0096",
   "metadata": {},
   "outputs": [
    {
     "data": {
      "text/plain": [
       "(204000, 10)"
      ]
     },
     "execution_count": 13,
     "metadata": {},
     "output_type": "execute_result"
    }
   ],
   "source": [
    "df_tr.shape"
   ]
  },
  {
   "cell_type": "code",
   "execution_count": 14,
   "id": "a4e062a8-8140-4430-a949-dab3f76c1564",
   "metadata": {},
   "outputs": [
    {
     "data": {
      "text/html": [
       "<div>\n",
       "<style scoped>\n",
       "    .dataframe tbody tr th:only-of-type {\n",
       "        vertical-align: middle;\n",
       "    }\n",
       "\n",
       "    .dataframe tbody tr th {\n",
       "        vertical-align: top;\n",
       "    }\n",
       "\n",
       "    .dataframe thead th {\n",
       "        text-align: right;\n",
       "    }\n",
       "</style>\n",
       "<table border=\"1\" class=\"dataframe\">\n",
       "  <thead>\n",
       "    <tr style=\"text-align: right;\">\n",
       "      <th></th>\n",
       "      <th>nan_cnt</th>\n",
       "    </tr>\n",
       "  </thead>\n",
       "  <tbody>\n",
       "    <tr>\n",
       "      <th>num_date_time</th>\n",
       "      <td>0</td>\n",
       "    </tr>\n",
       "    <tr>\n",
       "      <th>건물번호</th>\n",
       "      <td>0</td>\n",
       "    </tr>\n",
       "    <tr>\n",
       "      <th>일시</th>\n",
       "      <td>0</td>\n",
       "    </tr>\n",
       "    <tr>\n",
       "      <th>기온(C)</th>\n",
       "      <td>0</td>\n",
       "    </tr>\n",
       "    <tr>\n",
       "      <th>강수량(mm)</th>\n",
       "      <td>160069</td>\n",
       "    </tr>\n",
       "    <tr>\n",
       "      <th>풍속(m/s)</th>\n",
       "      <td>19</td>\n",
       "    </tr>\n",
       "    <tr>\n",
       "      <th>습도(%)</th>\n",
       "      <td>9</td>\n",
       "    </tr>\n",
       "    <tr>\n",
       "      <th>일조(hr)</th>\n",
       "      <td>75182</td>\n",
       "    </tr>\n",
       "    <tr>\n",
       "      <th>일사(MJ/m2)</th>\n",
       "      <td>87913</td>\n",
       "    </tr>\n",
       "    <tr>\n",
       "      <th>전력소비량(kWh)</th>\n",
       "      <td>0</td>\n",
       "    </tr>\n",
       "  </tbody>\n",
       "</table>\n",
       "</div>"
      ],
      "text/plain": [
       "               nan_cnt\n",
       "num_date_time        0\n",
       "건물번호                 0\n",
       "일시                   0\n",
       "기온(C)                0\n",
       "강수량(mm)         160069\n",
       "풍속(m/s)             19\n",
       "습도(%)                9\n",
       "일조(hr)           75182\n",
       "일사(MJ/m2)        87913\n",
       "전력소비량(kWh)           0"
      ]
     },
     "execution_count": 14,
     "metadata": {},
     "output_type": "execute_result"
    }
   ],
   "source": [
    "# 결측치\n",
    "df_tr.isnull().sum().to_frame('nan_cnt')"
   ]
  },
  {
   "cell_type": "code",
   "execution_count": 20,
   "id": "5ebe837a-3426-45f4-b086-ac3b50cd45b9",
   "metadata": {},
   "outputs": [
    {
     "data": {
      "text/html": [
       "<div>\n",
       "<style scoped>\n",
       "    .dataframe tbody tr th:only-of-type {\n",
       "        vertical-align: middle;\n",
       "    }\n",
       "\n",
       "    .dataframe tbody tr th {\n",
       "        vertical-align: top;\n",
       "    }\n",
       "\n",
       "    .dataframe thead th {\n",
       "        text-align: right;\n",
       "    }\n",
       "</style>\n",
       "<table border=\"1\" class=\"dataframe\">\n",
       "  <thead>\n",
       "    <tr style=\"text-align: right;\">\n",
       "      <th></th>\n",
       "      <th>%</th>\n",
       "    </tr>\n",
       "  </thead>\n",
       "  <tbody>\n",
       "    <tr>\n",
       "      <th>num_date_time</th>\n",
       "      <td>0.000000</td>\n",
       "    </tr>\n",
       "    <tr>\n",
       "      <th>건물번호</th>\n",
       "      <td>0.000000</td>\n",
       "    </tr>\n",
       "    <tr>\n",
       "      <th>일시</th>\n",
       "      <td>0.000000</td>\n",
       "    </tr>\n",
       "    <tr>\n",
       "      <th>기온(C)</th>\n",
       "      <td>0.000000</td>\n",
       "    </tr>\n",
       "    <tr>\n",
       "      <th>강수량(mm)</th>\n",
       "      <td>78.465196</td>\n",
       "    </tr>\n",
       "    <tr>\n",
       "      <th>풍속(m/s)</th>\n",
       "      <td>0.009314</td>\n",
       "    </tr>\n",
       "    <tr>\n",
       "      <th>습도(%)</th>\n",
       "      <td>0.004412</td>\n",
       "    </tr>\n",
       "    <tr>\n",
       "      <th>일조(hr)</th>\n",
       "      <td>36.853922</td>\n",
       "    </tr>\n",
       "    <tr>\n",
       "      <th>일사(MJ/m2)</th>\n",
       "      <td>43.094608</td>\n",
       "    </tr>\n",
       "    <tr>\n",
       "      <th>전력소비량(kWh)</th>\n",
       "      <td>0.000000</td>\n",
       "    </tr>\n",
       "  </tbody>\n",
       "</table>\n",
       "</div>"
      ],
      "text/plain": [
       "                       %\n",
       "num_date_time   0.000000\n",
       "건물번호            0.000000\n",
       "일시              0.000000\n",
       "기온(C)           0.000000\n",
       "강수량(mm)        78.465196\n",
       "풍속(m/s)         0.009314\n",
       "습도(%)           0.004412\n",
       "일조(hr)         36.853922\n",
       "일사(MJ/m2)      43.094608\n",
       "전력소비량(kWh)      0.000000"
      ]
     },
     "execution_count": 20,
     "metadata": {},
     "output_type": "execute_result"
    }
   ],
   "source": [
    "# 결측치 비율\n",
    "((df_tr.isnull().sum() / len(df_tr)) * 100).to_frame('%')"
   ]
  },
  {
   "cell_type": "code",
   "execution_count": 25,
   "id": "05dd32c4-c407-4059-aea1-5405c42d52d2",
   "metadata": {},
   "outputs": [
    {
     "name": "stdout",
     "output_type": "stream",
     "text": [
      "<class 'pandas.core.frame.DataFrame'>\n",
      "RangeIndex: 204000 entries, 0 to 203999\n",
      "Data columns (total 10 columns):\n",
      " #   Column         Non-Null Count   Dtype  \n",
      "---  ------         --------------   -----  \n",
      " 0   num_date_time  204000 non-null  object \n",
      " 1   건물번호           204000 non-null  int64  \n",
      " 2   일시             204000 non-null  object \n",
      " 3   기온(C)          204000 non-null  float64\n",
      " 4   강수량(mm)        43931 non-null   float64\n",
      " 5   풍속(m/s)        203981 non-null  float64\n",
      " 6   습도(%)          203991 non-null  float64\n",
      " 7   일조(hr)         128818 non-null  float64\n",
      " 8   일사(MJ/m2)      116087 non-null  float64\n",
      " 9   전력소비량(kWh)     204000 non-null  float64\n",
      "dtypes: float64(7), int64(1), object(2)\n",
      "memory usage: 15.6+ MB\n"
     ]
    }
   ],
   "source": [
    "df_tr.info()"
   ]
  },
  {
   "cell_type": "code",
   "execution_count": 26,
   "id": "e83b85dd-f58d-4392-866a-668b9daa449a",
   "metadata": {},
   "outputs": [
    {
     "data": {
      "text/html": [
       "<div>\n",
       "<style scoped>\n",
       "    .dataframe tbody tr th:only-of-type {\n",
       "        vertical-align: middle;\n",
       "    }\n",
       "\n",
       "    .dataframe tbody tr th {\n",
       "        vertical-align: top;\n",
       "    }\n",
       "\n",
       "    .dataframe thead th {\n",
       "        text-align: right;\n",
       "    }\n",
       "</style>\n",
       "<table border=\"1\" class=\"dataframe\">\n",
       "  <thead>\n",
       "    <tr style=\"text-align: right;\">\n",
       "      <th></th>\n",
       "      <th>건물번호</th>\n",
       "      <th>기온(C)</th>\n",
       "      <th>강수량(mm)</th>\n",
       "      <th>풍속(m/s)</th>\n",
       "      <th>습도(%)</th>\n",
       "      <th>일조(hr)</th>\n",
       "      <th>일사(MJ/m2)</th>\n",
       "      <th>전력소비량(kWh)</th>\n",
       "    </tr>\n",
       "  </thead>\n",
       "  <tbody>\n",
       "    <tr>\n",
       "      <th>count</th>\n",
       "      <td>204000.000000</td>\n",
       "      <td>204000.000000</td>\n",
       "      <td>43931.000000</td>\n",
       "      <td>203981.000000</td>\n",
       "      <td>203991.000000</td>\n",
       "      <td>128818.000000</td>\n",
       "      <td>116087.000000</td>\n",
       "      <td>204000.000000</td>\n",
       "    </tr>\n",
       "    <tr>\n",
       "      <th>mean</th>\n",
       "      <td>50.500000</td>\n",
       "      <td>25.543524</td>\n",
       "      <td>2.040830</td>\n",
       "      <td>2.134031</td>\n",
       "      <td>78.716295</td>\n",
       "      <td>0.333637</td>\n",
       "      <td>1.063823</td>\n",
       "      <td>2451.036462</td>\n",
       "    </tr>\n",
       "    <tr>\n",
       "      <th>std</th>\n",
       "      <td>28.866141</td>\n",
       "      <td>3.779523</td>\n",
       "      <td>5.165218</td>\n",
       "      <td>1.358109</td>\n",
       "      <td>15.080108</td>\n",
       "      <td>0.401486</td>\n",
       "      <td>1.001030</td>\n",
       "      <td>2440.648858</td>\n",
       "    </tr>\n",
       "    <tr>\n",
       "      <th>min</th>\n",
       "      <td>1.000000</td>\n",
       "      <td>10.100000</td>\n",
       "      <td>0.000000</td>\n",
       "      <td>0.000000</td>\n",
       "      <td>13.000000</td>\n",
       "      <td>0.000000</td>\n",
       "      <td>0.000000</td>\n",
       "      <td>0.000000</td>\n",
       "    </tr>\n",
       "    <tr>\n",
       "      <th>25%</th>\n",
       "      <td>25.750000</td>\n",
       "      <td>23.400000</td>\n",
       "      <td>0.000000</td>\n",
       "      <td>1.200000</td>\n",
       "      <td>69.000000</td>\n",
       "      <td>0.000000</td>\n",
       "      <td>0.200000</td>\n",
       "      <td>1085.760000</td>\n",
       "    </tr>\n",
       "    <tr>\n",
       "      <th>50%</th>\n",
       "      <td>50.500000</td>\n",
       "      <td>25.700000</td>\n",
       "      <td>0.100000</td>\n",
       "      <td>2.000000</td>\n",
       "      <td>81.000000</td>\n",
       "      <td>0.100000</td>\n",
       "      <td>0.710000</td>\n",
       "      <td>1766.400000</td>\n",
       "    </tr>\n",
       "    <tr>\n",
       "      <th>75%</th>\n",
       "      <td>75.250000</td>\n",
       "      <td>28.100000</td>\n",
       "      <td>1.300000</td>\n",
       "      <td>2.800000</td>\n",
       "      <td>91.000000</td>\n",
       "      <td>0.700000</td>\n",
       "      <td>1.780000</td>\n",
       "      <td>2970.000000</td>\n",
       "    </tr>\n",
       "    <tr>\n",
       "      <th>max</th>\n",
       "      <td>100.000000</td>\n",
       "      <td>37.100000</td>\n",
       "      <td>92.200000</td>\n",
       "      <td>13.300000</td>\n",
       "      <td>100.000000</td>\n",
       "      <td>1.000000</td>\n",
       "      <td>3.920000</td>\n",
       "      <td>25488.400000</td>\n",
       "    </tr>\n",
       "  </tbody>\n",
       "</table>\n",
       "</div>"
      ],
      "text/plain": [
       "                건물번호          기온(C)       강수량(mm)        풍속(m/s)  \\\n",
       "count  204000.000000  204000.000000  43931.000000  203981.000000   \n",
       "mean       50.500000      25.543524      2.040830       2.134031   \n",
       "std        28.866141       3.779523      5.165218       1.358109   \n",
       "min         1.000000      10.100000      0.000000       0.000000   \n",
       "25%        25.750000      23.400000      0.000000       1.200000   \n",
       "50%        50.500000      25.700000      0.100000       2.000000   \n",
       "75%        75.250000      28.100000      1.300000       2.800000   \n",
       "max       100.000000      37.100000     92.200000      13.300000   \n",
       "\n",
       "               습도(%)         일조(hr)      일사(MJ/m2)     전력소비량(kWh)  \n",
       "count  203991.000000  128818.000000  116087.000000  204000.000000  \n",
       "mean       78.716295       0.333637       1.063823    2451.036462  \n",
       "std        15.080108       0.401486       1.001030    2440.648858  \n",
       "min        13.000000       0.000000       0.000000       0.000000  \n",
       "25%        69.000000       0.000000       0.200000    1085.760000  \n",
       "50%        81.000000       0.100000       0.710000    1766.400000  \n",
       "75%        91.000000       0.700000       1.780000    2970.000000  \n",
       "max       100.000000       1.000000       3.920000   25488.400000  "
      ]
     },
     "execution_count": 26,
     "metadata": {},
     "output_type": "execute_result"
    }
   ],
   "source": [
    "df_tr.describe()"
   ]
  },
  {
   "cell_type": "code",
   "execution_count": 21,
   "id": "4ad8eaaf-f8fe-4622-8105-4b5882e80031",
   "metadata": {},
   "outputs": [
    {
     "data": {
      "text/html": [
       "<div>\n",
       "<style scoped>\n",
       "    .dataframe tbody tr th:only-of-type {\n",
       "        vertical-align: middle;\n",
       "    }\n",
       "\n",
       "    .dataframe tbody tr th {\n",
       "        vertical-align: top;\n",
       "    }\n",
       "\n",
       "    .dataframe thead th {\n",
       "        text-align: right;\n",
       "    }\n",
       "</style>\n",
       "<table border=\"1\" class=\"dataframe\">\n",
       "  <thead>\n",
       "    <tr style=\"text-align: right;\">\n",
       "      <th></th>\n",
       "      <th>num_date_time</th>\n",
       "      <th>건물번호</th>\n",
       "      <th>일시</th>\n",
       "      <th>기온(C)</th>\n",
       "      <th>강수량(mm)</th>\n",
       "      <th>풍속(m/s)</th>\n",
       "      <th>습도(%)</th>\n",
       "      <th>일조(hr)</th>\n",
       "      <th>일사(MJ/m2)</th>\n",
       "      <th>전력소비량(kWh)</th>\n",
       "    </tr>\n",
       "  </thead>\n",
       "  <tbody>\n",
       "    <tr>\n",
       "      <th>0</th>\n",
       "      <td>1_20220601 00</td>\n",
       "      <td>1</td>\n",
       "      <td>20220601 00</td>\n",
       "      <td>18.6</td>\n",
       "      <td>NaN</td>\n",
       "      <td>0.9</td>\n",
       "      <td>42.0</td>\n",
       "      <td>NaN</td>\n",
       "      <td>NaN</td>\n",
       "      <td>1085.28</td>\n",
       "    </tr>\n",
       "    <tr>\n",
       "      <th>1</th>\n",
       "      <td>1_20220601 01</td>\n",
       "      <td>1</td>\n",
       "      <td>20220601 01</td>\n",
       "      <td>18.0</td>\n",
       "      <td>NaN</td>\n",
       "      <td>1.1</td>\n",
       "      <td>45.0</td>\n",
       "      <td>NaN</td>\n",
       "      <td>NaN</td>\n",
       "      <td>1047.36</td>\n",
       "    </tr>\n",
       "    <tr>\n",
       "      <th>2</th>\n",
       "      <td>1_20220601 02</td>\n",
       "      <td>1</td>\n",
       "      <td>20220601 02</td>\n",
       "      <td>17.7</td>\n",
       "      <td>NaN</td>\n",
       "      <td>1.5</td>\n",
       "      <td>45.0</td>\n",
       "      <td>NaN</td>\n",
       "      <td>NaN</td>\n",
       "      <td>974.88</td>\n",
       "    </tr>\n",
       "  </tbody>\n",
       "</table>\n",
       "</div>"
      ],
      "text/plain": [
       "   num_date_time  건물번호           일시  기온(C)  강수량(mm)  풍속(m/s)  습도(%)  일조(hr)  \\\n",
       "0  1_20220601 00     1  20220601 00   18.6      NaN      0.9   42.0     NaN   \n",
       "1  1_20220601 01     1  20220601 01   18.0      NaN      1.1   45.0     NaN   \n",
       "2  1_20220601 02     1  20220601 02   17.7      NaN      1.5   45.0     NaN   \n",
       "\n",
       "   일사(MJ/m2)  전력소비량(kWh)  \n",
       "0        NaN     1085.28  \n",
       "1        NaN     1047.36  \n",
       "2        NaN      974.88  "
      ]
     },
     "execution_count": 21,
     "metadata": {},
     "output_type": "execute_result"
    }
   ],
   "source": [
    "df_tr.head(3)"
   ]
  },
  {
   "cell_type": "code",
   "execution_count": 23,
   "id": "bddbc66b-f891-446d-b1a0-2fc36b7eeaaa",
   "metadata": {},
   "outputs": [
    {
     "data": {
      "text/plain": [
       "100"
      ]
     },
     "execution_count": 23,
     "metadata": {},
     "output_type": "execute_result"
    }
   ],
   "source": [
    "# 건물번호\n",
    "df_tr['건물번호'].nunique()"
   ]
  },
  {
   "cell_type": "code",
   "execution_count": 50,
   "id": "a3422d46-8984-4ecd-8207-f49906a2437c",
   "metadata": {},
   "outputs": [
    {
     "data": {
      "text/plain": [
       "1      2040\n",
       "64     2040\n",
       "74     2040\n",
       "73     2040\n",
       "72     2040\n",
       "       ... \n",
       "31     2040\n",
       "30     2040\n",
       "29     2040\n",
       "28     2040\n",
       "100    2040\n",
       "Name: 건물번호, Length: 100, dtype: int64"
      ]
     },
     "execution_count": 50,
     "metadata": {},
     "output_type": "execute_result"
    }
   ],
   "source": [
    "# 데이터 분포\n",
    "df_tr['건물번호'].value_counts()"
   ]
  },
  {
   "cell_type": "code",
   "execution_count": 51,
   "id": "1c4ce32d-f93f-45b1-844c-5c3b6e07af32",
   "metadata": {},
   "outputs": [
    {
     "data": {
      "text/plain": [
       "204000"
      ]
     },
     "execution_count": 51,
     "metadata": {},
     "output_type": "execute_result"
    }
   ],
   "source": [
    "2040 * 100"
   ]
  },
  {
   "cell_type": "code",
   "execution_count": 44,
   "id": "e5d885c0-8fb2-436e-b4ad-4152176dfece",
   "metadata": {},
   "outputs": [],
   "source": [
    "# # 일시\n",
    "# df_tr['날짜'] = df_tr['일시'].apply(lambda x: x.split(' ')[0]) # 날짜 컬럼 생성\n",
    "# df_tr['시간'] = df_tr['일시'].apply(lambda x: x.split(' ')[1]) # 시간 컬럼 생성\n",
    "\n",
    "# # 날짜 타입으로 변경\n",
    "# df_tr['날짜'] = pd.to_datetime(df_tr['날짜'])"
   ]
  },
  {
   "cell_type": "code",
   "execution_count": 47,
   "id": "0669967a-c492-4aeb-9f00-9a6b3023b134",
   "metadata": {},
   "outputs": [
    {
     "data": {
      "text/plain": [
       "(Timestamp('2022-06-01 00:00:00'), Timestamp('2022-08-24 00:00:00'))"
      ]
     },
     "execution_count": 47,
     "metadata": {},
     "output_type": "execute_result"
    }
   ],
   "source": [
    "# # 날짜 최소값, 최대값\n",
    "# df_tr['날짜'].min(), df_tr['날짜'].max()"
   ]
  },
  {
   "cell_type": "code",
   "execution_count": 49,
   "id": "917b4382-a068-44bc-bd18-f837706f8968",
   "metadata": {},
   "outputs": [],
   "source": [
    "# 그냥 일시를 바꾸는 게 낫겠다\n",
    "df_tr['일시'] = pd.to_datetime(df_tr['일시'])"
   ]
  },
  {
   "cell_type": "code",
   "execution_count": 54,
   "id": "bc11db6b-72c2-4071-a67e-6870e5786934",
   "metadata": {},
   "outputs": [
    {
     "data": {
      "image/png": "[encoded data removed]",
      "text/plain": [
       "<Figure size 640x480 with 1 Axes>"
      ]
     },
     "metadata": {},
     "output_type": "display_data"
    }
   ],
   "source": [
    "# 기온\n",
    "sns.histplot(x='기온(C)', data=df_tr, bins=20)\n",
    "plt.show()"
   ]
  },
  {
   "cell_type": "code",
   "execution_count": null,
   "id": "7fd14bbf-6dd3-4206-820a-d88cbd6de9b2",
   "metadata": {},
   "outputs": [],
   "source": []
  }
 ],
 "metadata": {
  "kernelspec": {
   "display_name": "Python 3 (ipykernel)",
   "language": "python",
   "name": "python3"
  },
  "language_info": {
   "codemirror_mode": {
    "name": "ipython",
    "version": 3
   },
   "file_extension": ".py",
   "mimetype": "text/x-python",
   "name": "python",
   "nbconvert_exporter": "python",
   "pygments_lexer": "ipython3",
   "version": "3.9.16"
  }
 },
 "nbformat": 4,
 "nbformat_minor": 5
}
