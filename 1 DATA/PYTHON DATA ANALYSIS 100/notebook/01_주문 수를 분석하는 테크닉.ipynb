{
 "cells": [
  {
   "cell_type": "code",
   "execution_count": 1,
   "id": "8aab536b",
   "metadata": {},
   "outputs": [],
   "source": [
    "import pandas as pd\n",
    "import numpy as np\n",
    "\n",
    "import matplotlib.pyplot as plt\n",
    "%matplotlib inline\n",
    "\n",
    "# 경고(warning) 비표시\n",
    "import warnings\n",
    "warnings.filterwarnings('ignore')"
   ]
  },
  {
   "cell_type": "markdown",
   "id": "4b7e3aa1",
   "metadata": {},
   "source": [
    "# 1. 웹에서 주문수를 분석하는 테크닉\n",
    "\n",
    "\n",
    "## 1.1 데이터 읽어오기"
   ]
  },
  {
   "cell_type": "code",
   "execution_count": 2,
   "id": "2e106d3c",
   "metadata": {},
   "outputs": [
    {
     "data": {
      "text/html": [
       "<div>\n",
       "<style scoped>\n",
       "    .dataframe tbody tr th:only-of-type {\n",
       "        vertical-align: middle;\n",
       "    }\n",
       "\n",
       "    .dataframe tbody tr th {\n",
       "        vertical-align: top;\n",
       "    }\n",
       "\n",
       "    .dataframe thead th {\n",
       "        text-align: right;\n",
       "    }\n",
       "</style>\n",
       "<table border=\"1\" class=\"dataframe\">\n",
       "  <thead>\n",
       "    <tr style=\"text-align: right;\">\n",
       "      <th></th>\n",
       "      <th>customer_id</th>\n",
       "      <th>customer_name</th>\n",
       "      <th>registration_date</th>\n",
       "      <th>email</th>\n",
       "      <th>gender</th>\n",
       "      <th>age</th>\n",
       "      <th>birth</th>\n",
       "      <th>pref</th>\n",
       "    </tr>\n",
       "  </thead>\n",
       "  <tbody>\n",
       "    <tr>\n",
       "      <th>0</th>\n",
       "      <td>IK152942</td>\n",
       "      <td>김서준</td>\n",
       "      <td>2019-01-01 0:25</td>\n",
       "      <td>hirata_yuujirou@example.com</td>\n",
       "      <td>M</td>\n",
       "      <td>29</td>\n",
       "      <td>1990-06-10</td>\n",
       "      <td>대전광역시</td>\n",
       "    </tr>\n",
       "    <tr>\n",
       "      <th>1</th>\n",
       "      <td>TS808488</td>\n",
       "      <td>김예준</td>\n",
       "      <td>2019-01-01 1:13</td>\n",
       "      <td>tamura_shiori@example.com</td>\n",
       "      <td>F</td>\n",
       "      <td>33</td>\n",
       "      <td>1986-05-20</td>\n",
       "      <td>인천광역시</td>\n",
       "    </tr>\n",
       "    <tr>\n",
       "      <th>2</th>\n",
       "      <td>AS834628</td>\n",
       "      <td>김도윤</td>\n",
       "      <td>2019-01-01 2:00</td>\n",
       "      <td>hisano_yuki@example.com</td>\n",
       "      <td>F</td>\n",
       "      <td>63</td>\n",
       "      <td>1956-01-02</td>\n",
       "      <td>광주광역시</td>\n",
       "    </tr>\n",
       "    <tr>\n",
       "      <th>3</th>\n",
       "      <td>AS345469</td>\n",
       "      <td>김시우</td>\n",
       "      <td>2019-01-01 4:48</td>\n",
       "      <td>tsuruoka_kaoru@example.com</td>\n",
       "      <td>M</td>\n",
       "      <td>74</td>\n",
       "      <td>1945-03-25</td>\n",
       "      <td>인천광역시</td>\n",
       "    </tr>\n",
       "    <tr>\n",
       "      <th>4</th>\n",
       "      <td>GD892565</td>\n",
       "      <td>김주원</td>\n",
       "      <td>2019-01-01 4:54</td>\n",
       "      <td>oouchi_takashi@example.com</td>\n",
       "      <td>M</td>\n",
       "      <td>54</td>\n",
       "      <td>1965-08-05</td>\n",
       "      <td>울산광역시</td>\n",
       "    </tr>\n",
       "  </tbody>\n",
       "</table>\n",
       "</div>"
      ],
      "text/plain": [
       "  customer_id customer_name registration_date                        email  \\\n",
       "0    IK152942           김서준   2019-01-01 0:25  hirata_yuujirou@example.com   \n",
       "1    TS808488           김예준   2019-01-01 1:13    tamura_shiori@example.com   \n",
       "2    AS834628           김도윤   2019-01-01 2:00      hisano_yuki@example.com   \n",
       "3    AS345469           김시우   2019-01-01 4:48   tsuruoka_kaoru@example.com   \n",
       "4    GD892565           김주원   2019-01-01 4:54   oouchi_takashi@example.com   \n",
       "\n",
       "  gender  age       birth   pref  \n",
       "0      M   29  1990-06-10  대전광역시  \n",
       "1      F   33  1986-05-20  인천광역시  \n",
       "2      F   63  1956-01-02  광주광역시  \n",
       "3      M   74  1945-03-25  인천광역시  \n",
       "4      M   54  1965-08-05  울산광역시  "
      ]
     },
     "execution_count": 2,
     "metadata": {},
     "output_type": "execute_result"
    }
   ],
   "source": [
    "df_customer = pd.read_csv('../data/customer_master.csv')\n",
    "df_customer.head()"
   ]
  },
  {
   "cell_type": "code",
   "execution_count": 3,
   "id": "cac29424",
   "metadata": {},
   "outputs": [
    {
     "data": {
      "text/plain": [
       "(5000, 8)"
      ]
     },
     "execution_count": 3,
     "metadata": {},
     "output_type": "execute_result"
    }
   ],
   "source": [
    "df_customer.shape"
   ]
  },
  {
   "cell_type": "code",
   "execution_count": 4,
   "id": "686518e5",
   "metadata": {},
   "outputs": [
    {
     "name": "stdout",
     "output_type": "stream",
     "text": [
      "<class 'pandas.core.frame.DataFrame'>\n",
      "RangeIndex: 5000 entries, 0 to 4999\n",
      "Data columns (total 8 columns):\n",
      " #   Column             Non-Null Count  Dtype \n",
      "---  ------             --------------  ----- \n",
      " 0   customer_id        5000 non-null   object\n",
      " 1   customer_name      5000 non-null   object\n",
      " 2   registration_date  5000 non-null   object\n",
      " 3   email              5000 non-null   object\n",
      " 4   gender             5000 non-null   object\n",
      " 5   age                5000 non-null   int64 \n",
      " 6   birth              5000 non-null   object\n",
      " 7   pref               5000 non-null   object\n",
      "dtypes: int64(1), object(7)\n",
      "memory usage: 312.6+ KB\n"
     ]
    }
   ],
   "source": [
    "df_customer.info()"
   ]
  },
  {
   "cell_type": "code",
   "execution_count": 5,
   "id": "8d6cc52e",
   "metadata": {},
   "outputs": [
    {
     "data": {
      "text/html": [
       "<div>\n",
       "<style scoped>\n",
       "    .dataframe tbody tr th:only-of-type {\n",
       "        vertical-align: middle;\n",
       "    }\n",
       "\n",
       "    .dataframe tbody tr th {\n",
       "        vertical-align: top;\n",
       "    }\n",
       "\n",
       "    .dataframe thead th {\n",
       "        text-align: right;\n",
       "    }\n",
       "</style>\n",
       "<table border=\"1\" class=\"dataframe\">\n",
       "  <thead>\n",
       "    <tr style=\"text-align: right;\">\n",
       "      <th></th>\n",
       "      <th>item_id</th>\n",
       "      <th>item_name</th>\n",
       "      <th>item_price</th>\n",
       "    </tr>\n",
       "  </thead>\n",
       "  <tbody>\n",
       "    <tr>\n",
       "      <th>0</th>\n",
       "      <td>S001</td>\n",
       "      <td>PC-A</td>\n",
       "      <td>50000</td>\n",
       "    </tr>\n",
       "    <tr>\n",
       "      <th>1</th>\n",
       "      <td>S002</td>\n",
       "      <td>PC-B</td>\n",
       "      <td>85000</td>\n",
       "    </tr>\n",
       "    <tr>\n",
       "      <th>2</th>\n",
       "      <td>S003</td>\n",
       "      <td>PC-C</td>\n",
       "      <td>120000</td>\n",
       "    </tr>\n",
       "    <tr>\n",
       "      <th>3</th>\n",
       "      <td>S004</td>\n",
       "      <td>PC-D</td>\n",
       "      <td>180000</td>\n",
       "    </tr>\n",
       "    <tr>\n",
       "      <th>4</th>\n",
       "      <td>S005</td>\n",
       "      <td>PC-E</td>\n",
       "      <td>210000</td>\n",
       "    </tr>\n",
       "  </tbody>\n",
       "</table>\n",
       "</div>"
      ],
      "text/plain": [
       "  item_id item_name  item_price\n",
       "0    S001      PC-A       50000\n",
       "1    S002      PC-B       85000\n",
       "2    S003      PC-C      120000\n",
       "3    S004      PC-D      180000\n",
       "4    S005      PC-E      210000"
      ]
     },
     "execution_count": 5,
     "metadata": {},
     "output_type": "execute_result"
    }
   ],
   "source": [
    "df_item = pd.read_csv('../data/item_master.csv')\n",
    "df_item.head()"
   ]
  },
  {
   "cell_type": "code",
   "execution_count": 6,
   "id": "4cb87d6d",
   "metadata": {},
   "outputs": [
    {
     "data": {
      "text/plain": [
       "(5, 3)"
      ]
     },
     "execution_count": 6,
     "metadata": {},
     "output_type": "execute_result"
    }
   ],
   "source": [
    "df_item.shape"
   ]
  },
  {
   "cell_type": "code",
   "execution_count": 7,
   "id": "3cc0eed4",
   "metadata": {},
   "outputs": [
    {
     "data": {
      "text/html": [
       "<div>\n",
       "<style scoped>\n",
       "    .dataframe tbody tr th:only-of-type {\n",
       "        vertical-align: middle;\n",
       "    }\n",
       "\n",
       "    .dataframe tbody tr th {\n",
       "        vertical-align: top;\n",
       "    }\n",
       "\n",
       "    .dataframe thead th {\n",
       "        text-align: right;\n",
       "    }\n",
       "</style>\n",
       "<table border=\"1\" class=\"dataframe\">\n",
       "  <thead>\n",
       "    <tr style=\"text-align: right;\">\n",
       "      <th></th>\n",
       "      <th>transaction_id</th>\n",
       "      <th>price</th>\n",
       "      <th>payment_date</th>\n",
       "      <th>customer_id</th>\n",
       "    </tr>\n",
       "  </thead>\n",
       "  <tbody>\n",
       "    <tr>\n",
       "      <th>0</th>\n",
       "      <td>T0000000113</td>\n",
       "      <td>210000</td>\n",
       "      <td>2019-02-01 01:36:57</td>\n",
       "      <td>PL563502</td>\n",
       "    </tr>\n",
       "    <tr>\n",
       "      <th>1</th>\n",
       "      <td>T0000000114</td>\n",
       "      <td>50000</td>\n",
       "      <td>2019-02-01 01:37:23</td>\n",
       "      <td>HD678019</td>\n",
       "    </tr>\n",
       "    <tr>\n",
       "      <th>2</th>\n",
       "      <td>T0000000115</td>\n",
       "      <td>120000</td>\n",
       "      <td>2019-02-01 02:34:19</td>\n",
       "      <td>HD298120</td>\n",
       "    </tr>\n",
       "    <tr>\n",
       "      <th>3</th>\n",
       "      <td>T0000000116</td>\n",
       "      <td>210000</td>\n",
       "      <td>2019-02-01 02:47:23</td>\n",
       "      <td>IK452215</td>\n",
       "    </tr>\n",
       "    <tr>\n",
       "      <th>4</th>\n",
       "      <td>T0000000117</td>\n",
       "      <td>170000</td>\n",
       "      <td>2019-02-01 04:33:46</td>\n",
       "      <td>PL542865</td>\n",
       "    </tr>\n",
       "  </tbody>\n",
       "</table>\n",
       "</div>"
      ],
      "text/plain": [
       "  transaction_id   price         payment_date customer_id\n",
       "0    T0000000113  210000  2019-02-01 01:36:57    PL563502\n",
       "1    T0000000114   50000  2019-02-01 01:37:23    HD678019\n",
       "2    T0000000115  120000  2019-02-01 02:34:19    HD298120\n",
       "3    T0000000116  210000  2019-02-01 02:47:23    IK452215\n",
       "4    T0000000117  170000  2019-02-01 04:33:46    PL542865"
      ]
     },
     "execution_count": 7,
     "metadata": {},
     "output_type": "execute_result"
    }
   ],
   "source": [
    "df_trans1 = pd.read_csv('../data/transaction_1.csv')\n",
    "df_trans1.head()"
   ]
  },
  {
   "cell_type": "code",
   "execution_count": 8,
   "id": "926c0dbc",
   "metadata": {},
   "outputs": [
    {
     "data": {
      "text/plain": [
       "(5000, 4)"
      ]
     },
     "execution_count": 8,
     "metadata": {},
     "output_type": "execute_result"
    }
   ],
   "source": [
    "df_trans1.shape"
   ]
  },
  {
   "cell_type": "code",
   "execution_count": 9,
   "id": "803a0037",
   "metadata": {},
   "outputs": [
    {
     "name": "stdout",
     "output_type": "stream",
     "text": [
      "<class 'pandas.core.frame.DataFrame'>\n",
      "RangeIndex: 5000 entries, 0 to 4999\n",
      "Data columns (total 4 columns):\n",
      " #   Column          Non-Null Count  Dtype \n",
      "---  ------          --------------  ----- \n",
      " 0   transaction_id  5000 non-null   object\n",
      " 1   price           5000 non-null   int64 \n",
      " 2   payment_date    5000 non-null   object\n",
      " 3   customer_id     5000 non-null   object\n",
      "dtypes: int64(1), object(3)\n",
      "memory usage: 156.4+ KB\n"
     ]
    }
   ],
   "source": [
    "df_trans1.info()"
   ]
  },
  {
   "cell_type": "code",
   "execution_count": 10,
   "id": "bde7a567",
   "metadata": {},
   "outputs": [
    {
     "data": {
      "text/html": [
       "<div>\n",
       "<style scoped>\n",
       "    .dataframe tbody tr th:only-of-type {\n",
       "        vertical-align: middle;\n",
       "    }\n",
       "\n",
       "    .dataframe tbody tr th {\n",
       "        vertical-align: top;\n",
       "    }\n",
       "\n",
       "    .dataframe thead th {\n",
       "        text-align: right;\n",
       "    }\n",
       "</style>\n",
       "<table border=\"1\" class=\"dataframe\">\n",
       "  <thead>\n",
       "    <tr style=\"text-align: right;\">\n",
       "      <th></th>\n",
       "      <th>detail_id</th>\n",
       "      <th>transaction_id</th>\n",
       "      <th>item_id</th>\n",
       "      <th>quantity</th>\n",
       "    </tr>\n",
       "  </thead>\n",
       "  <tbody>\n",
       "    <tr>\n",
       "      <th>0</th>\n",
       "      <td>0</td>\n",
       "      <td>T0000000113</td>\n",
       "      <td>S005</td>\n",
       "      <td>1</td>\n",
       "    </tr>\n",
       "    <tr>\n",
       "      <th>1</th>\n",
       "      <td>1</td>\n",
       "      <td>T0000000114</td>\n",
       "      <td>S001</td>\n",
       "      <td>1</td>\n",
       "    </tr>\n",
       "    <tr>\n",
       "      <th>2</th>\n",
       "      <td>2</td>\n",
       "      <td>T0000000115</td>\n",
       "      <td>S003</td>\n",
       "      <td>1</td>\n",
       "    </tr>\n",
       "    <tr>\n",
       "      <th>3</th>\n",
       "      <td>3</td>\n",
       "      <td>T0000000116</td>\n",
       "      <td>S005</td>\n",
       "      <td>1</td>\n",
       "    </tr>\n",
       "    <tr>\n",
       "      <th>4</th>\n",
       "      <td>4</td>\n",
       "      <td>T0000000117</td>\n",
       "      <td>S002</td>\n",
       "      <td>2</td>\n",
       "    </tr>\n",
       "  </tbody>\n",
       "</table>\n",
       "</div>"
      ],
      "text/plain": [
       "   detail_id transaction_id item_id  quantity\n",
       "0          0    T0000000113    S005         1\n",
       "1          1    T0000000114    S001         1\n",
       "2          2    T0000000115    S003         1\n",
       "3          3    T0000000116    S005         1\n",
       "4          4    T0000000117    S002         2"
      ]
     },
     "execution_count": 10,
     "metadata": {},
     "output_type": "execute_result"
    }
   ],
   "source": [
    "df_transdetail1 = pd.read_csv('../data/transaction_detail_1.csv')\n",
    "df_transdetail1.head()"
   ]
  },
  {
   "cell_type": "code",
   "execution_count": 11,
   "id": "4eea24eb",
   "metadata": {},
   "outputs": [
    {
     "data": {
      "text/plain": [
       "(5000, 4)"
      ]
     },
     "execution_count": 11,
     "metadata": {},
     "output_type": "execute_result"
    }
   ],
   "source": [
    "df_transdetail1.shape"
   ]
  },
  {
   "cell_type": "code",
   "execution_count": 12,
   "id": "7141e6d3",
   "metadata": {},
   "outputs": [
    {
     "name": "stdout",
     "output_type": "stream",
     "text": [
      "<class 'pandas.core.frame.DataFrame'>\n",
      "RangeIndex: 5000 entries, 0 to 4999\n",
      "Data columns (total 4 columns):\n",
      " #   Column          Non-Null Count  Dtype \n",
      "---  ------          --------------  ----- \n",
      " 0   detail_id       5000 non-null   int64 \n",
      " 1   transaction_id  5000 non-null   object\n",
      " 2   item_id         5000 non-null   object\n",
      " 3   quantity        5000 non-null   int64 \n",
      "dtypes: int64(2), object(2)\n",
      "memory usage: 156.4+ KB\n"
     ]
    }
   ],
   "source": [
    "df_transdetail1.info()"
   ]
  },
  {
   "cell_type": "markdown",
   "id": "799e2b08",
   "metadata": {},
   "source": [
    "## 1.2 데이터 결합(유니언)하기"
   ]
  },
  {
   "cell_type": "code",
   "execution_count": 13,
   "id": "6ded2883",
   "metadata": {},
   "outputs": [
    {
     "data": {
      "text/html": [
       "<div>\n",
       "<style scoped>\n",
       "    .dataframe tbody tr th:only-of-type {\n",
       "        vertical-align: middle;\n",
       "    }\n",
       "\n",
       "    .dataframe tbody tr th {\n",
       "        vertical-align: top;\n",
       "    }\n",
       "\n",
       "    .dataframe thead th {\n",
       "        text-align: right;\n",
       "    }\n",
       "</style>\n",
       "<table border=\"1\" class=\"dataframe\">\n",
       "  <thead>\n",
       "    <tr style=\"text-align: right;\">\n",
       "      <th></th>\n",
       "      <th>transaction_id</th>\n",
       "      <th>price</th>\n",
       "      <th>payment_date</th>\n",
       "      <th>customer_id</th>\n",
       "    </tr>\n",
       "  </thead>\n",
       "  <tbody>\n",
       "    <tr>\n",
       "      <th>0</th>\n",
       "      <td>T0000005113</td>\n",
       "      <td>295000</td>\n",
       "      <td>2019-06-15 07:20:27</td>\n",
       "      <td>TS169261</td>\n",
       "    </tr>\n",
       "    <tr>\n",
       "      <th>1</th>\n",
       "      <td>T0000005114</td>\n",
       "      <td>50000</td>\n",
       "      <td>2019-06-15 07:35:47</td>\n",
       "      <td>HI599892</td>\n",
       "    </tr>\n",
       "    <tr>\n",
       "      <th>2</th>\n",
       "      <td>T0000005115</td>\n",
       "      <td>85000</td>\n",
       "      <td>2019-06-15 07:56:36</td>\n",
       "      <td>HI421757</td>\n",
       "    </tr>\n",
       "    <tr>\n",
       "      <th>3</th>\n",
       "      <td>T0000005116</td>\n",
       "      <td>50000</td>\n",
       "      <td>2019-06-15 08:40:55</td>\n",
       "      <td>OA386378</td>\n",
       "    </tr>\n",
       "    <tr>\n",
       "      <th>4</th>\n",
       "      <td>T0000005117</td>\n",
       "      <td>120000</td>\n",
       "      <td>2019-06-15 08:44:23</td>\n",
       "      <td>TS506913</td>\n",
       "    </tr>\n",
       "  </tbody>\n",
       "</table>\n",
       "</div>"
      ],
      "text/plain": [
       "  transaction_id   price         payment_date customer_id\n",
       "0    T0000005113  295000  2019-06-15 07:20:27    TS169261\n",
       "1    T0000005114   50000  2019-06-15 07:35:47    HI599892\n",
       "2    T0000005115   85000  2019-06-15 07:56:36    HI421757\n",
       "3    T0000005116   50000  2019-06-15 08:40:55    OA386378\n",
       "4    T0000005117  120000  2019-06-15 08:44:23    TS506913"
      ]
     },
     "execution_count": 13,
     "metadata": {},
     "output_type": "execute_result"
    }
   ],
   "source": [
    "df_trans2 = pd.read_csv('../data/transaction_2.csv')\n",
    "df_trans2.head()"
   ]
  },
  {
   "cell_type": "code",
   "execution_count": 14,
   "id": "ca36d491",
   "metadata": {},
   "outputs": [
    {
     "data": {
      "text/plain": [
       "(1786, 4)"
      ]
     },
     "execution_count": 14,
     "metadata": {},
     "output_type": "execute_result"
    }
   ],
   "source": [
    "df_trans2.shape"
   ]
  },
  {
   "cell_type": "code",
   "execution_count": 15,
   "id": "5984198e",
   "metadata": {},
   "outputs": [
    {
     "data": {
      "text/html": [
       "<div>\n",
       "<style scoped>\n",
       "    .dataframe tbody tr th:only-of-type {\n",
       "        vertical-align: middle;\n",
       "    }\n",
       "\n",
       "    .dataframe tbody tr th {\n",
       "        vertical-align: top;\n",
       "    }\n",
       "\n",
       "    .dataframe thead th {\n",
       "        text-align: right;\n",
       "    }\n",
       "</style>\n",
       "<table border=\"1\" class=\"dataframe\">\n",
       "  <thead>\n",
       "    <tr style=\"text-align: right;\">\n",
       "      <th></th>\n",
       "      <th>transaction_id</th>\n",
       "      <th>price</th>\n",
       "      <th>payment_date</th>\n",
       "      <th>customer_id</th>\n",
       "    </tr>\n",
       "  </thead>\n",
       "  <tbody>\n",
       "    <tr>\n",
       "      <th>0</th>\n",
       "      <td>T0000000113</td>\n",
       "      <td>210000</td>\n",
       "      <td>2019-02-01 01:36:57</td>\n",
       "      <td>PL563502</td>\n",
       "    </tr>\n",
       "    <tr>\n",
       "      <th>1</th>\n",
       "      <td>T0000000114</td>\n",
       "      <td>50000</td>\n",
       "      <td>2019-02-01 01:37:23</td>\n",
       "      <td>HD678019</td>\n",
       "    </tr>\n",
       "    <tr>\n",
       "      <th>2</th>\n",
       "      <td>T0000000115</td>\n",
       "      <td>120000</td>\n",
       "      <td>2019-02-01 02:34:19</td>\n",
       "      <td>HD298120</td>\n",
       "    </tr>\n",
       "    <tr>\n",
       "      <th>3</th>\n",
       "      <td>T0000000116</td>\n",
       "      <td>210000</td>\n",
       "      <td>2019-02-01 02:47:23</td>\n",
       "      <td>IK452215</td>\n",
       "    </tr>\n",
       "    <tr>\n",
       "      <th>4</th>\n",
       "      <td>T0000000117</td>\n",
       "      <td>170000</td>\n",
       "      <td>2019-02-01 04:33:46</td>\n",
       "      <td>PL542865</td>\n",
       "    </tr>\n",
       "  </tbody>\n",
       "</table>\n",
       "</div>"
      ],
      "text/plain": [
       "  transaction_id   price         payment_date customer_id\n",
       "0    T0000000113  210000  2019-02-01 01:36:57    PL563502\n",
       "1    T0000000114   50000  2019-02-01 01:37:23    HD678019\n",
       "2    T0000000115  120000  2019-02-01 02:34:19    HD298120\n",
       "3    T0000000116  210000  2019-02-01 02:47:23    IK452215\n",
       "4    T0000000117  170000  2019-02-01 04:33:46    PL542865"
      ]
     },
     "execution_count": 15,
     "metadata": {},
     "output_type": "execute_result"
    }
   ],
   "source": [
    "df_transaction = pd.concat([df_trans1, df_trans2], axis=0, ignore_index=True)\n",
    "df_transaction.head()"
   ]
  },
  {
   "cell_type": "code",
   "execution_count": 16,
   "id": "7b4726d2",
   "metadata": {},
   "outputs": [
    {
     "name": "stdout",
     "output_type": "stream",
     "text": [
      "(5000, 4)\n",
      "(1786, 4)\n",
      "(6786, 4)\n"
     ]
    }
   ],
   "source": [
    "print(df_trans1.shape)\n",
    "print(df_trans2.shape)\n",
    "print(df_transaction.shape)"
   ]
  },
  {
   "cell_type": "code",
   "execution_count": 17,
   "id": "3ea9495f",
   "metadata": {},
   "outputs": [
    {
     "data": {
      "text/html": [
       "<div>\n",
       "<style scoped>\n",
       "    .dataframe tbody tr th:only-of-type {\n",
       "        vertical-align: middle;\n",
       "    }\n",
       "\n",
       "    .dataframe tbody tr th {\n",
       "        vertical-align: top;\n",
       "    }\n",
       "\n",
       "    .dataframe thead th {\n",
       "        text-align: right;\n",
       "    }\n",
       "</style>\n",
       "<table border=\"1\" class=\"dataframe\">\n",
       "  <thead>\n",
       "    <tr style=\"text-align: right;\">\n",
       "      <th></th>\n",
       "      <th>detail_id</th>\n",
       "      <th>transaction_id</th>\n",
       "      <th>item_id</th>\n",
       "      <th>quantity</th>\n",
       "    </tr>\n",
       "  </thead>\n",
       "  <tbody>\n",
       "    <tr>\n",
       "      <th>0</th>\n",
       "      <td>5000</td>\n",
       "      <td>T0000004870</td>\n",
       "      <td>S002</td>\n",
       "      <td>3</td>\n",
       "    </tr>\n",
       "    <tr>\n",
       "      <th>1</th>\n",
       "      <td>5001</td>\n",
       "      <td>T0000004871</td>\n",
       "      <td>S003</td>\n",
       "      <td>1</td>\n",
       "    </tr>\n",
       "    <tr>\n",
       "      <th>2</th>\n",
       "      <td>5002</td>\n",
       "      <td>T0000004872</td>\n",
       "      <td>S001</td>\n",
       "      <td>2</td>\n",
       "    </tr>\n",
       "    <tr>\n",
       "      <th>3</th>\n",
       "      <td>5003</td>\n",
       "      <td>T0000004873</td>\n",
       "      <td>S004</td>\n",
       "      <td>1</td>\n",
       "    </tr>\n",
       "    <tr>\n",
       "      <th>4</th>\n",
       "      <td>5004</td>\n",
       "      <td>T0000004874</td>\n",
       "      <td>S003</td>\n",
       "      <td>2</td>\n",
       "    </tr>\n",
       "  </tbody>\n",
       "</table>\n",
       "</div>"
      ],
      "text/plain": [
       "   detail_id transaction_id item_id  quantity\n",
       "0       5000    T0000004870    S002         3\n",
       "1       5001    T0000004871    S003         1\n",
       "2       5002    T0000004872    S001         2\n",
       "3       5003    T0000004873    S004         1\n",
       "4       5004    T0000004874    S003         2"
      ]
     },
     "execution_count": 17,
     "metadata": {},
     "output_type": "execute_result"
    }
   ],
   "source": [
    "df_transdetail2 = pd.read_csv('../data/transaction_detail_2.csv')\n",
    "df_transdetail2.head()"
   ]
  },
  {
   "cell_type": "code",
   "execution_count": 18,
   "id": "d02dfbfc",
   "metadata": {},
   "outputs": [
    {
     "data": {
      "text/plain": [
       "(2144, 4)"
      ]
     },
     "execution_count": 18,
     "metadata": {},
     "output_type": "execute_result"
    }
   ],
   "source": [
    "df_transdetail2.shape"
   ]
  },
  {
   "cell_type": "code",
   "execution_count": 19,
   "id": "783510b2",
   "metadata": {},
   "outputs": [
    {
     "data": {
      "text/html": [
       "<div>\n",
       "<style scoped>\n",
       "    .dataframe tbody tr th:only-of-type {\n",
       "        vertical-align: middle;\n",
       "    }\n",
       "\n",
       "    .dataframe tbody tr th {\n",
       "        vertical-align: top;\n",
       "    }\n",
       "\n",
       "    .dataframe thead th {\n",
       "        text-align: right;\n",
       "    }\n",
       "</style>\n",
       "<table border=\"1\" class=\"dataframe\">\n",
       "  <thead>\n",
       "    <tr style=\"text-align: right;\">\n",
       "      <th></th>\n",
       "      <th>detail_id</th>\n",
       "      <th>transaction_id</th>\n",
       "      <th>item_id</th>\n",
       "      <th>quantity</th>\n",
       "    </tr>\n",
       "  </thead>\n",
       "  <tbody>\n",
       "    <tr>\n",
       "      <th>0</th>\n",
       "      <td>0</td>\n",
       "      <td>T0000000113</td>\n",
       "      <td>S005</td>\n",
       "      <td>1</td>\n",
       "    </tr>\n",
       "    <tr>\n",
       "      <th>1</th>\n",
       "      <td>1</td>\n",
       "      <td>T0000000114</td>\n",
       "      <td>S001</td>\n",
       "      <td>1</td>\n",
       "    </tr>\n",
       "    <tr>\n",
       "      <th>2</th>\n",
       "      <td>2</td>\n",
       "      <td>T0000000115</td>\n",
       "      <td>S003</td>\n",
       "      <td>1</td>\n",
       "    </tr>\n",
       "    <tr>\n",
       "      <th>3</th>\n",
       "      <td>3</td>\n",
       "      <td>T0000000116</td>\n",
       "      <td>S005</td>\n",
       "      <td>1</td>\n",
       "    </tr>\n",
       "    <tr>\n",
       "      <th>4</th>\n",
       "      <td>4</td>\n",
       "      <td>T0000000117</td>\n",
       "      <td>S002</td>\n",
       "      <td>2</td>\n",
       "    </tr>\n",
       "  </tbody>\n",
       "</table>\n",
       "</div>"
      ],
      "text/plain": [
       "   detail_id transaction_id item_id  quantity\n",
       "0          0    T0000000113    S005         1\n",
       "1          1    T0000000114    S001         1\n",
       "2          2    T0000000115    S003         1\n",
       "3          3    T0000000116    S005         1\n",
       "4          4    T0000000117    S002         2"
      ]
     },
     "execution_count": 19,
     "metadata": {},
     "output_type": "execute_result"
    }
   ],
   "source": [
    "df_detail = pd.concat([df_transdetail1, df_transdetail2], axis=0, ignore_index=True)\n",
    "df_detail.head()"
   ]
  },
  {
   "cell_type": "code",
   "execution_count": 20,
   "id": "1c18065f",
   "metadata": {},
   "outputs": [
    {
     "data": {
      "text/plain": [
       "(7144, 4)"
      ]
     },
     "execution_count": 20,
     "metadata": {},
     "output_type": "execute_result"
    }
   ],
   "source": [
    "df_detail.shape"
   ]
  },
  {
   "cell_type": "markdown",
   "id": "1113824f",
   "metadata": {},
   "source": [
    "## 1.3 매출 데이터끼리 결합(조인)하기"
   ]
  },
  {
   "cell_type": "code",
   "execution_count": 21,
   "id": "91488a16",
   "metadata": {},
   "outputs": [
    {
     "data": {
      "text/html": [
       "<div>\n",
       "<style scoped>\n",
       "    .dataframe tbody tr th:only-of-type {\n",
       "        vertical-align: middle;\n",
       "    }\n",
       "\n",
       "    .dataframe tbody tr th {\n",
       "        vertical-align: top;\n",
       "    }\n",
       "\n",
       "    .dataframe thead th {\n",
       "        text-align: right;\n",
       "    }\n",
       "</style>\n",
       "<table border=\"1\" class=\"dataframe\">\n",
       "  <thead>\n",
       "    <tr style=\"text-align: right;\">\n",
       "      <th></th>\n",
       "      <th>detail_id</th>\n",
       "      <th>transaction_id</th>\n",
       "      <th>item_id</th>\n",
       "      <th>quantity</th>\n",
       "    </tr>\n",
       "  </thead>\n",
       "  <tbody>\n",
       "    <tr>\n",
       "      <th>0</th>\n",
       "      <td>0</td>\n",
       "      <td>T0000000113</td>\n",
       "      <td>S005</td>\n",
       "      <td>1</td>\n",
       "    </tr>\n",
       "    <tr>\n",
       "      <th>1</th>\n",
       "      <td>1</td>\n",
       "      <td>T0000000114</td>\n",
       "      <td>S001</td>\n",
       "      <td>1</td>\n",
       "    </tr>\n",
       "    <tr>\n",
       "      <th>2</th>\n",
       "      <td>2</td>\n",
       "      <td>T0000000115</td>\n",
       "      <td>S003</td>\n",
       "      <td>1</td>\n",
       "    </tr>\n",
       "    <tr>\n",
       "      <th>3</th>\n",
       "      <td>3</td>\n",
       "      <td>T0000000116</td>\n",
       "      <td>S005</td>\n",
       "      <td>1</td>\n",
       "    </tr>\n",
       "    <tr>\n",
       "      <th>4</th>\n",
       "      <td>4</td>\n",
       "      <td>T0000000117</td>\n",
       "      <td>S002</td>\n",
       "      <td>2</td>\n",
       "    </tr>\n",
       "  </tbody>\n",
       "</table>\n",
       "</div>"
      ],
      "text/plain": [
       "   detail_id transaction_id item_id  quantity\n",
       "0          0    T0000000113    S005         1\n",
       "1          1    T0000000114    S001         1\n",
       "2          2    T0000000115    S003         1\n",
       "3          3    T0000000116    S005         1\n",
       "4          4    T0000000117    S002         2"
      ]
     },
     "execution_count": 21,
     "metadata": {},
     "output_type": "execute_result"
    }
   ],
   "source": [
    "df_detail.head()"
   ]
  },
  {
   "cell_type": "code",
   "execution_count": 22,
   "id": "1f4cf8d8",
   "metadata": {},
   "outputs": [
    {
     "data": {
      "text/html": [
       "<div>\n",
       "<style scoped>\n",
       "    .dataframe tbody tr th:only-of-type {\n",
       "        vertical-align: middle;\n",
       "    }\n",
       "\n",
       "    .dataframe tbody tr th {\n",
       "        vertical-align: top;\n",
       "    }\n",
       "\n",
       "    .dataframe thead th {\n",
       "        text-align: right;\n",
       "    }\n",
       "</style>\n",
       "<table border=\"1\" class=\"dataframe\">\n",
       "  <thead>\n",
       "    <tr style=\"text-align: right;\">\n",
       "      <th></th>\n",
       "      <th>transaction_id</th>\n",
       "      <th>price</th>\n",
       "      <th>payment_date</th>\n",
       "      <th>customer_id</th>\n",
       "    </tr>\n",
       "  </thead>\n",
       "  <tbody>\n",
       "    <tr>\n",
       "      <th>0</th>\n",
       "      <td>T0000000113</td>\n",
       "      <td>210000</td>\n",
       "      <td>2019-02-01 01:36:57</td>\n",
       "      <td>PL563502</td>\n",
       "    </tr>\n",
       "    <tr>\n",
       "      <th>1</th>\n",
       "      <td>T0000000114</td>\n",
       "      <td>50000</td>\n",
       "      <td>2019-02-01 01:37:23</td>\n",
       "      <td>HD678019</td>\n",
       "    </tr>\n",
       "    <tr>\n",
       "      <th>2</th>\n",
       "      <td>T0000000115</td>\n",
       "      <td>120000</td>\n",
       "      <td>2019-02-01 02:34:19</td>\n",
       "      <td>HD298120</td>\n",
       "    </tr>\n",
       "    <tr>\n",
       "      <th>3</th>\n",
       "      <td>T0000000116</td>\n",
       "      <td>210000</td>\n",
       "      <td>2019-02-01 02:47:23</td>\n",
       "      <td>IK452215</td>\n",
       "    </tr>\n",
       "    <tr>\n",
       "      <th>4</th>\n",
       "      <td>T0000000117</td>\n",
       "      <td>170000</td>\n",
       "      <td>2019-02-01 04:33:46</td>\n",
       "      <td>PL542865</td>\n",
       "    </tr>\n",
       "  </tbody>\n",
       "</table>\n",
       "</div>"
      ],
      "text/plain": [
       "  transaction_id   price         payment_date customer_id\n",
       "0    T0000000113  210000  2019-02-01 01:36:57    PL563502\n",
       "1    T0000000114   50000  2019-02-01 01:37:23    HD678019\n",
       "2    T0000000115  120000  2019-02-01 02:34:19    HD298120\n",
       "3    T0000000116  210000  2019-02-01 02:47:23    IK452215\n",
       "4    T0000000117  170000  2019-02-01 04:33:46    PL542865"
      ]
     },
     "execution_count": 22,
     "metadata": {},
     "output_type": "execute_result"
    }
   ],
   "source": [
    "df_transaction.head()"
   ]
  },
  {
   "cell_type": "code",
   "execution_count": 23,
   "id": "94f234ce",
   "metadata": {},
   "outputs": [
    {
     "data": {
      "text/plain": [
       "(6786, 4)"
      ]
     },
     "execution_count": 23,
     "metadata": {},
     "output_type": "execute_result"
    }
   ],
   "source": [
    "df_transaction.shape"
   ]
  },
  {
   "cell_type": "code",
   "execution_count": 24,
   "id": "02f37952",
   "metadata": {},
   "outputs": [
    {
     "data": {
      "text/html": [
       "<div>\n",
       "<style scoped>\n",
       "    .dataframe tbody tr th:only-of-type {\n",
       "        vertical-align: middle;\n",
       "    }\n",
       "\n",
       "    .dataframe tbody tr th {\n",
       "        vertical-align: top;\n",
       "    }\n",
       "\n",
       "    .dataframe thead th {\n",
       "        text-align: right;\n",
       "    }\n",
       "</style>\n",
       "<table border=\"1\" class=\"dataframe\">\n",
       "  <thead>\n",
       "    <tr style=\"text-align: right;\">\n",
       "      <th></th>\n",
       "      <th>detail_id</th>\n",
       "      <th>transaction_id</th>\n",
       "      <th>item_id</th>\n",
       "      <th>quantity</th>\n",
       "      <th>payment_date</th>\n",
       "      <th>customer_id</th>\n",
       "    </tr>\n",
       "  </thead>\n",
       "  <tbody>\n",
       "    <tr>\n",
       "      <th>0</th>\n",
       "      <td>0</td>\n",
       "      <td>T0000000113</td>\n",
       "      <td>S005</td>\n",
       "      <td>1</td>\n",
       "      <td>2019-02-01 01:36:57</td>\n",
       "      <td>PL563502</td>\n",
       "    </tr>\n",
       "    <tr>\n",
       "      <th>1</th>\n",
       "      <td>1</td>\n",
       "      <td>T0000000114</td>\n",
       "      <td>S001</td>\n",
       "      <td>1</td>\n",
       "      <td>2019-02-01 01:37:23</td>\n",
       "      <td>HD678019</td>\n",
       "    </tr>\n",
       "    <tr>\n",
       "      <th>2</th>\n",
       "      <td>2</td>\n",
       "      <td>T0000000115</td>\n",
       "      <td>S003</td>\n",
       "      <td>1</td>\n",
       "      <td>2019-02-01 02:34:19</td>\n",
       "      <td>HD298120</td>\n",
       "    </tr>\n",
       "    <tr>\n",
       "      <th>3</th>\n",
       "      <td>3</td>\n",
       "      <td>T0000000116</td>\n",
       "      <td>S005</td>\n",
       "      <td>1</td>\n",
       "      <td>2019-02-01 02:47:23</td>\n",
       "      <td>IK452215</td>\n",
       "    </tr>\n",
       "    <tr>\n",
       "      <th>4</th>\n",
       "      <td>4</td>\n",
       "      <td>T0000000117</td>\n",
       "      <td>S002</td>\n",
       "      <td>2</td>\n",
       "      <td>2019-02-01 04:33:46</td>\n",
       "      <td>PL542865</td>\n",
       "    </tr>\n",
       "  </tbody>\n",
       "</table>\n",
       "</div>"
      ],
      "text/plain": [
       "   detail_id transaction_id item_id  quantity         payment_date customer_id\n",
       "0          0    T0000000113    S005         1  2019-02-01 01:36:57    PL563502\n",
       "1          1    T0000000114    S001         1  2019-02-01 01:37:23    HD678019\n",
       "2          2    T0000000115    S003         1  2019-02-01 02:34:19    HD298120\n",
       "3          3    T0000000116    S005         1  2019-02-01 02:47:23    IK452215\n",
       "4          4    T0000000117    S002         2  2019-02-01 04:33:46    PL542865"
      ]
     },
     "execution_count": 24,
     "metadata": {},
     "output_type": "execute_result"
    }
   ],
   "source": [
    "df_join = pd.merge(df_detail, df_transaction[['transaction_id', 'payment_date', 'customer_id']], on='transaction_id', how='left')\n",
    "df_join.head()"
   ]
  },
  {
   "cell_type": "code",
   "execution_count": 25,
   "id": "e1e7395f",
   "metadata": {},
   "outputs": [
    {
     "name": "stdout",
     "output_type": "stream",
     "text": [
      "(6786, 4)\n",
      "(7144, 4)\n",
      "(7144, 6)\n"
     ]
    }
   ],
   "source": [
    "print(df_transaction.shape)\n",
    "print(df_detail.shape)\n",
    "print(df_join.shape)"
   ]
  },
  {
   "cell_type": "code",
   "execution_count": 26,
   "id": "0566421e",
   "metadata": {},
   "outputs": [
    {
     "data": {
      "text/plain": [
       "detail_id         0\n",
       "transaction_id    0\n",
       "item_id           0\n",
       "quantity          0\n",
       "payment_date      0\n",
       "customer_id       0\n",
       "dtype: int64"
      ]
     },
     "execution_count": 26,
     "metadata": {},
     "output_type": "execute_result"
    }
   ],
   "source": [
    "df_join.isnull().sum()"
   ]
  },
  {
   "cell_type": "markdown",
   "id": "f010ce3c",
   "metadata": {},
   "source": [
    "## 1.4 마스터 데이터 결합(조인)하기"
   ]
  },
  {
   "cell_type": "code",
   "execution_count": 27,
   "id": "cbd3c11d",
   "metadata": {},
   "outputs": [
    {
     "data": {
      "text/html": [
       "<div>\n",
       "<style scoped>\n",
       "    .dataframe tbody tr th:only-of-type {\n",
       "        vertical-align: middle;\n",
       "    }\n",
       "\n",
       "    .dataframe tbody tr th {\n",
       "        vertical-align: top;\n",
       "    }\n",
       "\n",
       "    .dataframe thead th {\n",
       "        text-align: right;\n",
       "    }\n",
       "</style>\n",
       "<table border=\"1\" class=\"dataframe\">\n",
       "  <thead>\n",
       "    <tr style=\"text-align: right;\">\n",
       "      <th></th>\n",
       "      <th>detail_id</th>\n",
       "      <th>transaction_id</th>\n",
       "      <th>item_id</th>\n",
       "      <th>quantity</th>\n",
       "      <th>payment_date</th>\n",
       "      <th>customer_id</th>\n",
       "    </tr>\n",
       "  </thead>\n",
       "  <tbody>\n",
       "    <tr>\n",
       "      <th>0</th>\n",
       "      <td>0</td>\n",
       "      <td>T0000000113</td>\n",
       "      <td>S005</td>\n",
       "      <td>1</td>\n",
       "      <td>2019-02-01 01:36:57</td>\n",
       "      <td>PL563502</td>\n",
       "    </tr>\n",
       "    <tr>\n",
       "      <th>1</th>\n",
       "      <td>1</td>\n",
       "      <td>T0000000114</td>\n",
       "      <td>S001</td>\n",
       "      <td>1</td>\n",
       "      <td>2019-02-01 01:37:23</td>\n",
       "      <td>HD678019</td>\n",
       "    </tr>\n",
       "    <tr>\n",
       "      <th>2</th>\n",
       "      <td>2</td>\n",
       "      <td>T0000000115</td>\n",
       "      <td>S003</td>\n",
       "      <td>1</td>\n",
       "      <td>2019-02-01 02:34:19</td>\n",
       "      <td>HD298120</td>\n",
       "    </tr>\n",
       "    <tr>\n",
       "      <th>3</th>\n",
       "      <td>3</td>\n",
       "      <td>T0000000116</td>\n",
       "      <td>S005</td>\n",
       "      <td>1</td>\n",
       "      <td>2019-02-01 02:47:23</td>\n",
       "      <td>IK452215</td>\n",
       "    </tr>\n",
       "    <tr>\n",
       "      <th>4</th>\n",
       "      <td>4</td>\n",
       "      <td>T0000000117</td>\n",
       "      <td>S002</td>\n",
       "      <td>2</td>\n",
       "      <td>2019-02-01 04:33:46</td>\n",
       "      <td>PL542865</td>\n",
       "    </tr>\n",
       "  </tbody>\n",
       "</table>\n",
       "</div>"
      ],
      "text/plain": [
       "   detail_id transaction_id item_id  quantity         payment_date customer_id\n",
       "0          0    T0000000113    S005         1  2019-02-01 01:36:57    PL563502\n",
       "1          1    T0000000114    S001         1  2019-02-01 01:37:23    HD678019\n",
       "2          2    T0000000115    S003         1  2019-02-01 02:34:19    HD298120\n",
       "3          3    T0000000116    S005         1  2019-02-01 02:47:23    IK452215\n",
       "4          4    T0000000117    S002         2  2019-02-01 04:33:46    PL542865"
      ]
     },
     "execution_count": 27,
     "metadata": {},
     "output_type": "execute_result"
    }
   ],
   "source": [
    "df_join.head()"
   ]
  },
  {
   "cell_type": "code",
   "execution_count": 28,
   "id": "9286a85e",
   "metadata": {},
   "outputs": [
    {
     "data": {
      "text/html": [
       "<div>\n",
       "<style scoped>\n",
       "    .dataframe tbody tr th:only-of-type {\n",
       "        vertical-align: middle;\n",
       "    }\n",
       "\n",
       "    .dataframe tbody tr th {\n",
       "        vertical-align: top;\n",
       "    }\n",
       "\n",
       "    .dataframe thead th {\n",
       "        text-align: right;\n",
       "    }\n",
       "</style>\n",
       "<table border=\"1\" class=\"dataframe\">\n",
       "  <thead>\n",
       "    <tr style=\"text-align: right;\">\n",
       "      <th></th>\n",
       "      <th>customer_id</th>\n",
       "      <th>customer_name</th>\n",
       "      <th>registration_date</th>\n",
       "      <th>email</th>\n",
       "      <th>gender</th>\n",
       "      <th>age</th>\n",
       "      <th>birth</th>\n",
       "      <th>pref</th>\n",
       "    </tr>\n",
       "  </thead>\n",
       "  <tbody>\n",
       "    <tr>\n",
       "      <th>0</th>\n",
       "      <td>IK152942</td>\n",
       "      <td>김서준</td>\n",
       "      <td>2019-01-01 0:25</td>\n",
       "      <td>hirata_yuujirou@example.com</td>\n",
       "      <td>M</td>\n",
       "      <td>29</td>\n",
       "      <td>1990-06-10</td>\n",
       "      <td>대전광역시</td>\n",
       "    </tr>\n",
       "    <tr>\n",
       "      <th>1</th>\n",
       "      <td>TS808488</td>\n",
       "      <td>김예준</td>\n",
       "      <td>2019-01-01 1:13</td>\n",
       "      <td>tamura_shiori@example.com</td>\n",
       "      <td>F</td>\n",
       "      <td>33</td>\n",
       "      <td>1986-05-20</td>\n",
       "      <td>인천광역시</td>\n",
       "    </tr>\n",
       "    <tr>\n",
       "      <th>2</th>\n",
       "      <td>AS834628</td>\n",
       "      <td>김도윤</td>\n",
       "      <td>2019-01-01 2:00</td>\n",
       "      <td>hisano_yuki@example.com</td>\n",
       "      <td>F</td>\n",
       "      <td>63</td>\n",
       "      <td>1956-01-02</td>\n",
       "      <td>광주광역시</td>\n",
       "    </tr>\n",
       "    <tr>\n",
       "      <th>3</th>\n",
       "      <td>AS345469</td>\n",
       "      <td>김시우</td>\n",
       "      <td>2019-01-01 4:48</td>\n",
       "      <td>tsuruoka_kaoru@example.com</td>\n",
       "      <td>M</td>\n",
       "      <td>74</td>\n",
       "      <td>1945-03-25</td>\n",
       "      <td>인천광역시</td>\n",
       "    </tr>\n",
       "    <tr>\n",
       "      <th>4</th>\n",
       "      <td>GD892565</td>\n",
       "      <td>김주원</td>\n",
       "      <td>2019-01-01 4:54</td>\n",
       "      <td>oouchi_takashi@example.com</td>\n",
       "      <td>M</td>\n",
       "      <td>54</td>\n",
       "      <td>1965-08-05</td>\n",
       "      <td>울산광역시</td>\n",
       "    </tr>\n",
       "  </tbody>\n",
       "</table>\n",
       "</div>"
      ],
      "text/plain": [
       "  customer_id customer_name registration_date                        email  \\\n",
       "0    IK152942           김서준   2019-01-01 0:25  hirata_yuujirou@example.com   \n",
       "1    TS808488           김예준   2019-01-01 1:13    tamura_shiori@example.com   \n",
       "2    AS834628           김도윤   2019-01-01 2:00      hisano_yuki@example.com   \n",
       "3    AS345469           김시우   2019-01-01 4:48   tsuruoka_kaoru@example.com   \n",
       "4    GD892565           김주원   2019-01-01 4:54   oouchi_takashi@example.com   \n",
       "\n",
       "  gender  age       birth   pref  \n",
       "0      M   29  1990-06-10  대전광역시  \n",
       "1      F   33  1986-05-20  인천광역시  \n",
       "2      F   63  1956-01-02  광주광역시  \n",
       "3      M   74  1945-03-25  인천광역시  \n",
       "4      M   54  1965-08-05  울산광역시  "
      ]
     },
     "execution_count": 28,
     "metadata": {},
     "output_type": "execute_result"
    }
   ],
   "source": [
    "df_customer.head()"
   ]
  },
  {
   "cell_type": "code",
   "execution_count": 29,
   "id": "fef0e5fd",
   "metadata": {},
   "outputs": [
    {
     "data": {
      "text/html": [
       "<div>\n",
       "<style scoped>\n",
       "    .dataframe tbody tr th:only-of-type {\n",
       "        vertical-align: middle;\n",
       "    }\n",
       "\n",
       "    .dataframe tbody tr th {\n",
       "        vertical-align: top;\n",
       "    }\n",
       "\n",
       "    .dataframe thead th {\n",
       "        text-align: right;\n",
       "    }\n",
       "</style>\n",
       "<table border=\"1\" class=\"dataframe\">\n",
       "  <thead>\n",
       "    <tr style=\"text-align: right;\">\n",
       "      <th></th>\n",
       "      <th>detail_id</th>\n",
       "      <th>transaction_id</th>\n",
       "      <th>item_id</th>\n",
       "      <th>quantity</th>\n",
       "      <th>payment_date</th>\n",
       "      <th>customer_id</th>\n",
       "      <th>customer_name</th>\n",
       "      <th>registration_date</th>\n",
       "      <th>email</th>\n",
       "      <th>gender</th>\n",
       "      <th>age</th>\n",
       "      <th>birth</th>\n",
       "      <th>pref</th>\n",
       "      <th>item_name</th>\n",
       "      <th>item_price</th>\n",
       "    </tr>\n",
       "  </thead>\n",
       "  <tbody>\n",
       "    <tr>\n",
       "      <th>0</th>\n",
       "      <td>0</td>\n",
       "      <td>T0000000113</td>\n",
       "      <td>S005</td>\n",
       "      <td>1</td>\n",
       "      <td>2019-02-01 01:36:57</td>\n",
       "      <td>PL563502</td>\n",
       "      <td>김태경</td>\n",
       "      <td>2019-01-07 14:34</td>\n",
       "      <td>imoto_yoshimasa@example.com</td>\n",
       "      <td>M</td>\n",
       "      <td>30</td>\n",
       "      <td>1989-07-15</td>\n",
       "      <td>대전광역시</td>\n",
       "      <td>PC-E</td>\n",
       "      <td>210000</td>\n",
       "    </tr>\n",
       "    <tr>\n",
       "      <th>1</th>\n",
       "      <td>1</td>\n",
       "      <td>T0000000114</td>\n",
       "      <td>S001</td>\n",
       "      <td>1</td>\n",
       "      <td>2019-02-01 01:37:23</td>\n",
       "      <td>HD678019</td>\n",
       "      <td>김영웅</td>\n",
       "      <td>2019-01-27 18:00</td>\n",
       "      <td>mifune_rokurou@example.com</td>\n",
       "      <td>M</td>\n",
       "      <td>73</td>\n",
       "      <td>1945-11-29</td>\n",
       "      <td>서울특별시</td>\n",
       "      <td>PC-A</td>\n",
       "      <td>50000</td>\n",
       "    </tr>\n",
       "    <tr>\n",
       "      <th>2</th>\n",
       "      <td>2</td>\n",
       "      <td>T0000000115</td>\n",
       "      <td>S003</td>\n",
       "      <td>1</td>\n",
       "      <td>2019-02-01 02:34:19</td>\n",
       "      <td>HD298120</td>\n",
       "      <td>김강현</td>\n",
       "      <td>2019-01-11 8:16</td>\n",
       "      <td>yamane_kogan@example.com</td>\n",
       "      <td>M</td>\n",
       "      <td>42</td>\n",
       "      <td>1977-05-17</td>\n",
       "      <td>광주광역시</td>\n",
       "      <td>PC-C</td>\n",
       "      <td>120000</td>\n",
       "    </tr>\n",
       "    <tr>\n",
       "      <th>3</th>\n",
       "      <td>3</td>\n",
       "      <td>T0000000116</td>\n",
       "      <td>S005</td>\n",
       "      <td>1</td>\n",
       "      <td>2019-02-01 02:47:23</td>\n",
       "      <td>IK452215</td>\n",
       "      <td>김주한</td>\n",
       "      <td>2019-01-10 5:07</td>\n",
       "      <td>ikeda_natsumi@example.com</td>\n",
       "      <td>F</td>\n",
       "      <td>47</td>\n",
       "      <td>1972-03-17</td>\n",
       "      <td>인천광역시</td>\n",
       "      <td>PC-E</td>\n",
       "      <td>210000</td>\n",
       "    </tr>\n",
       "    <tr>\n",
       "      <th>4</th>\n",
       "      <td>4</td>\n",
       "      <td>T0000000117</td>\n",
       "      <td>S002</td>\n",
       "      <td>2</td>\n",
       "      <td>2019-02-01 04:33:46</td>\n",
       "      <td>PL542865</td>\n",
       "      <td>김영빈</td>\n",
       "      <td>2019-01-25 6:46</td>\n",
       "      <td>kurita_kenichi@example.com</td>\n",
       "      <td>M</td>\n",
       "      <td>74</td>\n",
       "      <td>1944-12-17</td>\n",
       "      <td>광주광역시</td>\n",
       "      <td>PC-B</td>\n",
       "      <td>85000</td>\n",
       "    </tr>\n",
       "  </tbody>\n",
       "</table>\n",
       "</div>"
      ],
      "text/plain": [
       "   detail_id transaction_id item_id  quantity         payment_date  \\\n",
       "0          0    T0000000113    S005         1  2019-02-01 01:36:57   \n",
       "1          1    T0000000114    S001         1  2019-02-01 01:37:23   \n",
       "2          2    T0000000115    S003         1  2019-02-01 02:34:19   \n",
       "3          3    T0000000116    S005         1  2019-02-01 02:47:23   \n",
       "4          4    T0000000117    S002         2  2019-02-01 04:33:46   \n",
       "\n",
       "  customer_id customer_name registration_date                        email  \\\n",
       "0    PL563502           김태경  2019-01-07 14:34  imoto_yoshimasa@example.com   \n",
       "1    HD678019           김영웅  2019-01-27 18:00   mifune_rokurou@example.com   \n",
       "2    HD298120           김강현   2019-01-11 8:16     yamane_kogan@example.com   \n",
       "3    IK452215           김주한   2019-01-10 5:07    ikeda_natsumi@example.com   \n",
       "4    PL542865           김영빈   2019-01-25 6:46   kurita_kenichi@example.com   \n",
       "\n",
       "  gender  age       birth   pref item_name  item_price  \n",
       "0      M   30  1989-07-15  대전광역시      PC-E      210000  \n",
       "1      M   73  1945-11-29  서울특별시      PC-A       50000  \n",
       "2      M   42  1977-05-17  광주광역시      PC-C      120000  \n",
       "3      F   47  1972-03-17  인천광역시      PC-E      210000  \n",
       "4      M   74  1944-12-17  광주광역시      PC-B       85000  "
      ]
     },
     "execution_count": 29,
     "metadata": {},
     "output_type": "execute_result"
    }
   ],
   "source": [
    "df_join = pd.merge(df_join, df_customer, on='customer_id', how='left')\n",
    "df_join = pd.merge(df_join, df_item, on='item_id', how='left')\n",
    "df_join.head()"
   ]
  },
  {
   "cell_type": "markdown",
   "id": "0432c1fe",
   "metadata": {},
   "source": [
    "## 1.5 필요한 데이터 컬럼 만들기"
   ]
  },
  {
   "cell_type": "code",
   "execution_count": 30,
   "id": "65e31c85",
   "metadata": {},
   "outputs": [
    {
     "data": {
      "text/html": [
       "<div>\n",
       "<style scoped>\n",
       "    .dataframe tbody tr th:only-of-type {\n",
       "        vertical-align: middle;\n",
       "    }\n",
       "\n",
       "    .dataframe tbody tr th {\n",
       "        vertical-align: top;\n",
       "    }\n",
       "\n",
       "    .dataframe thead th {\n",
       "        text-align: right;\n",
       "    }\n",
       "</style>\n",
       "<table border=\"1\" class=\"dataframe\">\n",
       "  <thead>\n",
       "    <tr style=\"text-align: right;\">\n",
       "      <th></th>\n",
       "      <th>quantity</th>\n",
       "      <th>item_price</th>\n",
       "      <th>price</th>\n",
       "    </tr>\n",
       "  </thead>\n",
       "  <tbody>\n",
       "    <tr>\n",
       "      <th>0</th>\n",
       "      <td>1</td>\n",
       "      <td>210000</td>\n",
       "      <td>210000</td>\n",
       "    </tr>\n",
       "    <tr>\n",
       "      <th>1</th>\n",
       "      <td>1</td>\n",
       "      <td>50000</td>\n",
       "      <td>50000</td>\n",
       "    </tr>\n",
       "    <tr>\n",
       "      <th>2</th>\n",
       "      <td>1</td>\n",
       "      <td>120000</td>\n",
       "      <td>120000</td>\n",
       "    </tr>\n",
       "    <tr>\n",
       "      <th>3</th>\n",
       "      <td>1</td>\n",
       "      <td>210000</td>\n",
       "      <td>210000</td>\n",
       "    </tr>\n",
       "    <tr>\n",
       "      <th>4</th>\n",
       "      <td>2</td>\n",
       "      <td>85000</td>\n",
       "      <td>170000</td>\n",
       "    </tr>\n",
       "  </tbody>\n",
       "</table>\n",
       "</div>"
      ],
      "text/plain": [
       "   quantity  item_price   price\n",
       "0         1      210000  210000\n",
       "1         1       50000   50000\n",
       "2         1      120000  120000\n",
       "3         1      210000  210000\n",
       "4         2       85000  170000"
      ]
     },
     "execution_count": 30,
     "metadata": {},
     "output_type": "execute_result"
    }
   ],
   "source": [
    "df_join['price'] = df_join['quantity'] * df_join['item_price']\n",
    "df_join[['quantity', 'item_price', 'price']].head()"
   ]
  },
  {
   "cell_type": "markdown",
   "id": "ef0cb4ce",
   "metadata": {},
   "source": [
    "## 1.6 데이터 검산하기"
   ]
  },
  {
   "cell_type": "code",
   "execution_count": 31,
   "id": "51b3d8d5",
   "metadata": {},
   "outputs": [
    {
     "name": "stdout",
     "output_type": "stream",
     "text": [
      "971135000\n",
      "971135000\n"
     ]
    }
   ],
   "source": [
    "print(df_join['price'].sum())\n",
    "print(df_transaction['price'].sum())"
   ]
  },
  {
   "cell_type": "code",
   "execution_count": 32,
   "id": "86bbf2e4",
   "metadata": {
    "scrolled": true
   },
   "outputs": [
    {
     "data": {
      "text/plain": [
       "True"
      ]
     },
     "execution_count": 32,
     "metadata": {},
     "output_type": "execute_result"
    }
   ],
   "source": [
    "df_join['price'].sum() == df_transaction['price'].sum()"
   ]
  },
  {
   "cell_type": "markdown",
   "id": "423f3d6c",
   "metadata": {},
   "source": [
    "## 1.7 각종 통계량을 파악하자"
   ]
  },
  {
   "cell_type": "code",
   "execution_count": 33,
   "id": "c8c6334a",
   "metadata": {},
   "outputs": [
    {
     "data": {
      "text/plain": [
       "detail_id            0\n",
       "transaction_id       0\n",
       "item_id              0\n",
       "quantity             0\n",
       "payment_date         0\n",
       "customer_id          0\n",
       "customer_name        0\n",
       "registration_date    0\n",
       "email                0\n",
       "gender               0\n",
       "age                  0\n",
       "birth                0\n",
       "pref                 0\n",
       "item_name            0\n",
       "item_price           0\n",
       "price                0\n",
       "dtype: int64"
      ]
     },
     "execution_count": 33,
     "metadata": {},
     "output_type": "execute_result"
    }
   ],
   "source": [
    "df_join.isnull().sum()"
   ]
  },
  {
   "cell_type": "code",
   "execution_count": 34,
   "id": "1c921298",
   "metadata": {},
   "outputs": [
    {
     "data": {
      "text/html": [
       "<div>\n",
       "<style scoped>\n",
       "    .dataframe tbody tr th:only-of-type {\n",
       "        vertical-align: middle;\n",
       "    }\n",
       "\n",
       "    .dataframe tbody tr th {\n",
       "        vertical-align: top;\n",
       "    }\n",
       "\n",
       "    .dataframe thead th {\n",
       "        text-align: right;\n",
       "    }\n",
       "</style>\n",
       "<table border=\"1\" class=\"dataframe\">\n",
       "  <thead>\n",
       "    <tr style=\"text-align: right;\">\n",
       "      <th></th>\n",
       "      <th>detail_id</th>\n",
       "      <th>quantity</th>\n",
       "      <th>age</th>\n",
       "      <th>item_price</th>\n",
       "      <th>price</th>\n",
       "    </tr>\n",
       "  </thead>\n",
       "  <tbody>\n",
       "    <tr>\n",
       "      <th>count</th>\n",
       "      <td>7144.000000</td>\n",
       "      <td>7144.000000</td>\n",
       "      <td>7144.000000</td>\n",
       "      <td>7144.000000</td>\n",
       "      <td>7144.000000</td>\n",
       "    </tr>\n",
       "    <tr>\n",
       "      <th>mean</th>\n",
       "      <td>3571.500000</td>\n",
       "      <td>1.199888</td>\n",
       "      <td>50.265677</td>\n",
       "      <td>121698.628219</td>\n",
       "      <td>135937.150056</td>\n",
       "    </tr>\n",
       "    <tr>\n",
       "      <th>std</th>\n",
       "      <td>2062.439494</td>\n",
       "      <td>0.513647</td>\n",
       "      <td>17.190314</td>\n",
       "      <td>64571.311830</td>\n",
       "      <td>68511.453297</td>\n",
       "    </tr>\n",
       "    <tr>\n",
       "      <th>min</th>\n",
       "      <td>0.000000</td>\n",
       "      <td>1.000000</td>\n",
       "      <td>20.000000</td>\n",
       "      <td>50000.000000</td>\n",
       "      <td>50000.000000</td>\n",
       "    </tr>\n",
       "    <tr>\n",
       "      <th>25%</th>\n",
       "      <td>1785.750000</td>\n",
       "      <td>1.000000</td>\n",
       "      <td>36.000000</td>\n",
       "      <td>50000.000000</td>\n",
       "      <td>85000.000000</td>\n",
       "    </tr>\n",
       "    <tr>\n",
       "      <th>50%</th>\n",
       "      <td>3571.500000</td>\n",
       "      <td>1.000000</td>\n",
       "      <td>50.000000</td>\n",
       "      <td>102500.000000</td>\n",
       "      <td>120000.000000</td>\n",
       "    </tr>\n",
       "    <tr>\n",
       "      <th>75%</th>\n",
       "      <td>5357.250000</td>\n",
       "      <td>1.000000</td>\n",
       "      <td>65.000000</td>\n",
       "      <td>187500.000000</td>\n",
       "      <td>210000.000000</td>\n",
       "    </tr>\n",
       "    <tr>\n",
       "      <th>max</th>\n",
       "      <td>7143.000000</td>\n",
       "      <td>4.000000</td>\n",
       "      <td>80.000000</td>\n",
       "      <td>210000.000000</td>\n",
       "      <td>420000.000000</td>\n",
       "    </tr>\n",
       "  </tbody>\n",
       "</table>\n",
       "</div>"
      ],
      "text/plain": [
       "         detail_id     quantity          age     item_price          price\n",
       "count  7144.000000  7144.000000  7144.000000    7144.000000    7144.000000\n",
       "mean   3571.500000     1.199888    50.265677  121698.628219  135937.150056\n",
       "std    2062.439494     0.513647    17.190314   64571.311830   68511.453297\n",
       "min       0.000000     1.000000    20.000000   50000.000000   50000.000000\n",
       "25%    1785.750000     1.000000    36.000000   50000.000000   85000.000000\n",
       "50%    3571.500000     1.000000    50.000000  102500.000000  120000.000000\n",
       "75%    5357.250000     1.000000    65.000000  187500.000000  210000.000000\n",
       "max    7143.000000     4.000000    80.000000  210000.000000  420000.000000"
      ]
     },
     "execution_count": 34,
     "metadata": {},
     "output_type": "execute_result"
    }
   ],
   "source": [
    "df_join.describe()"
   ]
  },
  {
   "cell_type": "markdown",
   "id": "c3467100",
   "metadata": {},
   "source": [
    "## 1.8 월별로 데이터를 집계해보자"
   ]
  },
  {
   "cell_type": "code",
   "execution_count": 35,
   "id": "3484ad3a",
   "metadata": {},
   "outputs": [
    {
     "data": {
      "text/plain": [
       "detail_id             int64\n",
       "transaction_id       object\n",
       "item_id              object\n",
       "quantity              int64\n",
       "payment_date         object\n",
       "customer_id          object\n",
       "customer_name        object\n",
       "registration_date    object\n",
       "email                object\n",
       "gender               object\n",
       "age                   int64\n",
       "birth                object\n",
       "pref                 object\n",
       "item_name            object\n",
       "item_price            int64\n",
       "price                 int64\n",
       "dtype: object"
      ]
     },
     "execution_count": 35,
     "metadata": {},
     "output_type": "execute_result"
    }
   ],
   "source": [
    "df_join.dtypes"
   ]
  },
  {
   "cell_type": "code",
   "execution_count": 36,
   "id": "9ed0afdf",
   "metadata": {
    "scrolled": true
   },
   "outputs": [
    {
     "data": {
      "text/html": [
       "<div>\n",
       "<style scoped>\n",
       "    .dataframe tbody tr th:only-of-type {\n",
       "        vertical-align: middle;\n",
       "    }\n",
       "\n",
       "    .dataframe tbody tr th {\n",
       "        vertical-align: top;\n",
       "    }\n",
       "\n",
       "    .dataframe thead th {\n",
       "        text-align: right;\n",
       "    }\n",
       "</style>\n",
       "<table border=\"1\" class=\"dataframe\">\n",
       "  <thead>\n",
       "    <tr style=\"text-align: right;\">\n",
       "      <th></th>\n",
       "      <th>payment_date</th>\n",
       "      <th>payment_month</th>\n",
       "    </tr>\n",
       "  </thead>\n",
       "  <tbody>\n",
       "    <tr>\n",
       "      <th>0</th>\n",
       "      <td>2019-02-01 01:36:57</td>\n",
       "      <td>201902</td>\n",
       "    </tr>\n",
       "    <tr>\n",
       "      <th>1</th>\n",
       "      <td>2019-02-01 01:37:23</td>\n",
       "      <td>201902</td>\n",
       "    </tr>\n",
       "    <tr>\n",
       "      <th>2</th>\n",
       "      <td>2019-02-01 02:34:19</td>\n",
       "      <td>201902</td>\n",
       "    </tr>\n",
       "    <tr>\n",
       "      <th>3</th>\n",
       "      <td>2019-02-01 02:47:23</td>\n",
       "      <td>201902</td>\n",
       "    </tr>\n",
       "    <tr>\n",
       "      <th>4</th>\n",
       "      <td>2019-02-01 04:33:46</td>\n",
       "      <td>201902</td>\n",
       "    </tr>\n",
       "  </tbody>\n",
       "</table>\n",
       "</div>"
      ],
      "text/plain": [
       "         payment_date payment_month\n",
       "0 2019-02-01 01:36:57        201902\n",
       "1 2019-02-01 01:37:23        201902\n",
       "2 2019-02-01 02:34:19        201902\n",
       "3 2019-02-01 02:47:23        201902\n",
       "4 2019-02-01 04:33:46        201902"
      ]
     },
     "execution_count": 36,
     "metadata": {},
     "output_type": "execute_result"
    }
   ],
   "source": [
    "df_join['payment_date'] = pd.to_datetime(df_join['payment_date'])\n",
    "df_join['payment_month'] = df_join['payment_date'].dt.strftime('%Y%m')\n",
    "df_join[['payment_date', 'payment_month']].head()"
   ]
  },
  {
   "cell_type": "code",
   "execution_count": 37,
   "id": "ab729fca",
   "metadata": {},
   "outputs": [
    {
     "data": {
      "text/plain": [
       "payment_month\n",
       "201902    160185000\n",
       "201903    160370000\n",
       "201904    160510000\n",
       "201905    155420000\n",
       "201906    164030000\n",
       "201907    170620000\n",
       "Name: price, dtype: int64"
      ]
     },
     "execution_count": 37,
     "metadata": {},
     "output_type": "execute_result"
    }
   ],
   "source": [
    "df_join.groupby('payment_month').sum()['price']"
   ]
  },
  {
   "cell_type": "markdown",
   "id": "545b00ed",
   "metadata": {},
   "source": [
    "## 1.9 월별 상품별 데이터를 집계해보자"
   ]
  },
  {
   "cell_type": "code",
   "execution_count": 38,
   "id": "8025982e",
   "metadata": {},
   "outputs": [
    {
     "data": {
      "text/html": [
       "<div>\n",
       "<style scoped>\n",
       "    .dataframe tbody tr th:only-of-type {\n",
       "        vertical-align: middle;\n",
       "    }\n",
       "\n",
       "    .dataframe tbody tr th {\n",
       "        vertical-align: top;\n",
       "    }\n",
       "\n",
       "    .dataframe thead th {\n",
       "        text-align: right;\n",
       "    }\n",
       "</style>\n",
       "<table border=\"1\" class=\"dataframe\">\n",
       "  <thead>\n",
       "    <tr style=\"text-align: right;\">\n",
       "      <th></th>\n",
       "      <th></th>\n",
       "      <th>price</th>\n",
       "      <th>quantity</th>\n",
       "    </tr>\n",
       "    <tr>\n",
       "      <th>payment_month</th>\n",
       "      <th>item_name</th>\n",
       "      <th></th>\n",
       "      <th></th>\n",
       "    </tr>\n",
       "  </thead>\n",
       "  <tbody>\n",
       "    <tr>\n",
       "      <th rowspan=\"5\" valign=\"top\">201902</th>\n",
       "      <th>PC-A</th>\n",
       "      <td>24150000</td>\n",
       "      <td>483</td>\n",
       "    </tr>\n",
       "    <tr>\n",
       "      <th>PC-B</th>\n",
       "      <td>25245000</td>\n",
       "      <td>297</td>\n",
       "    </tr>\n",
       "    <tr>\n",
       "      <th>PC-C</th>\n",
       "      <td>19800000</td>\n",
       "      <td>165</td>\n",
       "    </tr>\n",
       "    <tr>\n",
       "      <th>PC-D</th>\n",
       "      <td>31140000</td>\n",
       "      <td>173</td>\n",
       "    </tr>\n",
       "    <tr>\n",
       "      <th>PC-E</th>\n",
       "      <td>59850000</td>\n",
       "      <td>285</td>\n",
       "    </tr>\n",
       "    <tr>\n",
       "      <th rowspan=\"5\" valign=\"top\">201903</th>\n",
       "      <th>PC-A</th>\n",
       "      <td>26000000</td>\n",
       "      <td>520</td>\n",
       "    </tr>\n",
       "    <tr>\n",
       "      <th>PC-B</th>\n",
       "      <td>25500000</td>\n",
       "      <td>300</td>\n",
       "    </tr>\n",
       "    <tr>\n",
       "      <th>PC-C</th>\n",
       "      <td>19080000</td>\n",
       "      <td>159</td>\n",
       "    </tr>\n",
       "    <tr>\n",
       "      <th>PC-D</th>\n",
       "      <td>25740000</td>\n",
       "      <td>143</td>\n",
       "    </tr>\n",
       "    <tr>\n",
       "      <th>PC-E</th>\n",
       "      <td>64050000</td>\n",
       "      <td>305</td>\n",
       "    </tr>\n",
       "    <tr>\n",
       "      <th rowspan=\"5\" valign=\"top\">201904</th>\n",
       "      <th>PC-A</th>\n",
       "      <td>25900000</td>\n",
       "      <td>518</td>\n",
       "    </tr>\n",
       "    <tr>\n",
       "      <th>PC-B</th>\n",
       "      <td>23460000</td>\n",
       "      <td>276</td>\n",
       "    </tr>\n",
       "    <tr>\n",
       "      <th>PC-C</th>\n",
       "      <td>21960000</td>\n",
       "      <td>183</td>\n",
       "    </tr>\n",
       "    <tr>\n",
       "      <th>PC-D</th>\n",
       "      <td>24300000</td>\n",
       "      <td>135</td>\n",
       "    </tr>\n",
       "    <tr>\n",
       "      <th>PC-E</th>\n",
       "      <td>64890000</td>\n",
       "      <td>309</td>\n",
       "    </tr>\n",
       "    <tr>\n",
       "      <th rowspan=\"5\" valign=\"top\">201905</th>\n",
       "      <th>PC-A</th>\n",
       "      <td>24850000</td>\n",
       "      <td>497</td>\n",
       "    </tr>\n",
       "    <tr>\n",
       "      <th>PC-B</th>\n",
       "      <td>25330000</td>\n",
       "      <td>298</td>\n",
       "    </tr>\n",
       "    <tr>\n",
       "      <th>PC-C</th>\n",
       "      <td>20520000</td>\n",
       "      <td>171</td>\n",
       "    </tr>\n",
       "    <tr>\n",
       "      <th>PC-D</th>\n",
       "      <td>25920000</td>\n",
       "      <td>144</td>\n",
       "    </tr>\n",
       "    <tr>\n",
       "      <th>PC-E</th>\n",
       "      <td>58800000</td>\n",
       "      <td>280</td>\n",
       "    </tr>\n",
       "    <tr>\n",
       "      <th rowspan=\"5\" valign=\"top\">201906</th>\n",
       "      <th>PC-A</th>\n",
       "      <td>26000000</td>\n",
       "      <td>520</td>\n",
       "    </tr>\n",
       "    <tr>\n",
       "      <th>PC-B</th>\n",
       "      <td>23970000</td>\n",
       "      <td>282</td>\n",
       "    </tr>\n",
       "    <tr>\n",
       "      <th>PC-C</th>\n",
       "      <td>21840000</td>\n",
       "      <td>182</td>\n",
       "    </tr>\n",
       "    <tr>\n",
       "      <th>PC-D</th>\n",
       "      <td>28800000</td>\n",
       "      <td>160</td>\n",
       "    </tr>\n",
       "    <tr>\n",
       "      <th>PC-E</th>\n",
       "      <td>63420000</td>\n",
       "      <td>302</td>\n",
       "    </tr>\n",
       "    <tr>\n",
       "      <th rowspan=\"5\" valign=\"top\">201907</th>\n",
       "      <th>PC-A</th>\n",
       "      <td>25250000</td>\n",
       "      <td>505</td>\n",
       "    </tr>\n",
       "    <tr>\n",
       "      <th>PC-B</th>\n",
       "      <td>28220000</td>\n",
       "      <td>332</td>\n",
       "    </tr>\n",
       "    <tr>\n",
       "      <th>PC-C</th>\n",
       "      <td>19440000</td>\n",
       "      <td>162</td>\n",
       "    </tr>\n",
       "    <tr>\n",
       "      <th>PC-D</th>\n",
       "      <td>26100000</td>\n",
       "      <td>145</td>\n",
       "    </tr>\n",
       "    <tr>\n",
       "      <th>PC-E</th>\n",
       "      <td>71610000</td>\n",
       "      <td>341</td>\n",
       "    </tr>\n",
       "  </tbody>\n",
       "</table>\n",
       "</div>"
      ],
      "text/plain": [
       "                            price  quantity\n",
       "payment_month item_name                    \n",
       "201902        PC-A       24150000       483\n",
       "              PC-B       25245000       297\n",
       "              PC-C       19800000       165\n",
       "              PC-D       31140000       173\n",
       "              PC-E       59850000       285\n",
       "201903        PC-A       26000000       520\n",
       "              PC-B       25500000       300\n",
       "              PC-C       19080000       159\n",
       "              PC-D       25740000       143\n",
       "              PC-E       64050000       305\n",
       "201904        PC-A       25900000       518\n",
       "              PC-B       23460000       276\n",
       "              PC-C       21960000       183\n",
       "              PC-D       24300000       135\n",
       "              PC-E       64890000       309\n",
       "201905        PC-A       24850000       497\n",
       "              PC-B       25330000       298\n",
       "              PC-C       20520000       171\n",
       "              PC-D       25920000       144\n",
       "              PC-E       58800000       280\n",
       "201906        PC-A       26000000       520\n",
       "              PC-B       23970000       282\n",
       "              PC-C       21840000       182\n",
       "              PC-D       28800000       160\n",
       "              PC-E       63420000       302\n",
       "201907        PC-A       25250000       505\n",
       "              PC-B       28220000       332\n",
       "              PC-C       19440000       162\n",
       "              PC-D       26100000       145\n",
       "              PC-E       71610000       341"
      ]
     },
     "execution_count": 38,
     "metadata": {},
     "output_type": "execute_result"
    }
   ],
   "source": [
    "df_join.groupby(['payment_month', 'item_name']).sum()[['price', 'quantity']]"
   ]
  },
  {
   "cell_type": "markdown",
   "id": "7f6d548c",
   "metadata": {},
   "source": [
    "## 1.10 상품별 매출 추이를 가시화해보자"
   ]
  },
  {
   "cell_type": "code",
   "execution_count": 39,
   "id": "6c0bd5f2",
   "metadata": {},
   "outputs": [
    {
     "data": {
      "text/html": [
       "<div>\n",
       "<style scoped>\n",
       "    .dataframe tbody tr th:only-of-type {\n",
       "        vertical-align: middle;\n",
       "    }\n",
       "\n",
       "    .dataframe tbody tr th {\n",
       "        vertical-align: top;\n",
       "    }\n",
       "\n",
       "    .dataframe thead th {\n",
       "        text-align: right;\n",
       "    }\n",
       "</style>\n",
       "<table border=\"1\" class=\"dataframe\">\n",
       "  <thead>\n",
       "    <tr style=\"text-align: right;\">\n",
       "      <th>item_name</th>\n",
       "      <th>PC-A</th>\n",
       "      <th>PC-B</th>\n",
       "      <th>PC-C</th>\n",
       "      <th>PC-D</th>\n",
       "      <th>PC-E</th>\n",
       "    </tr>\n",
       "    <tr>\n",
       "      <th>payment_month</th>\n",
       "      <th></th>\n",
       "      <th></th>\n",
       "      <th></th>\n",
       "      <th></th>\n",
       "      <th></th>\n",
       "    </tr>\n",
       "  </thead>\n",
       "  <tbody>\n",
       "    <tr>\n",
       "      <th>201902</th>\n",
       "      <td>24150000</td>\n",
       "      <td>25245000</td>\n",
       "      <td>19800000</td>\n",
       "      <td>31140000</td>\n",
       "      <td>59850000</td>\n",
       "    </tr>\n",
       "    <tr>\n",
       "      <th>201903</th>\n",
       "      <td>26000000</td>\n",
       "      <td>25500000</td>\n",
       "      <td>19080000</td>\n",
       "      <td>25740000</td>\n",
       "      <td>64050000</td>\n",
       "    </tr>\n",
       "    <tr>\n",
       "      <th>201904</th>\n",
       "      <td>25900000</td>\n",
       "      <td>23460000</td>\n",
       "      <td>21960000</td>\n",
       "      <td>24300000</td>\n",
       "      <td>64890000</td>\n",
       "    </tr>\n",
       "    <tr>\n",
       "      <th>201905</th>\n",
       "      <td>24850000</td>\n",
       "      <td>25330000</td>\n",
       "      <td>20520000</td>\n",
       "      <td>25920000</td>\n",
       "      <td>58800000</td>\n",
       "    </tr>\n",
       "    <tr>\n",
       "      <th>201906</th>\n",
       "      <td>26000000</td>\n",
       "      <td>23970000</td>\n",
       "      <td>21840000</td>\n",
       "      <td>28800000</td>\n",
       "      <td>63420000</td>\n",
       "    </tr>\n",
       "  </tbody>\n",
       "</table>\n",
       "</div>"
      ],
      "text/plain": [
       "item_name          PC-A      PC-B      PC-C      PC-D      PC-E\n",
       "payment_month                                                  \n",
       "201902         24150000  25245000  19800000  31140000  59850000\n",
       "201903         26000000  25500000  19080000  25740000  64050000\n",
       "201904         25900000  23460000  21960000  24300000  64890000\n",
       "201905         24850000  25330000  20520000  25920000  58800000\n",
       "201906         26000000  23970000  21840000  28800000  63420000"
      ]
     },
     "execution_count": 39,
     "metadata": {},
     "output_type": "execute_result"
    }
   ],
   "source": [
    "df_graph = pd.pivot_table(df_join, index='payment_month', columns='item_name', values='price', aggfunc='sum')\n",
    "df_graph.head()"
   ]
  },
  {
   "cell_type": "code",
   "execution_count": 40,
   "id": "d0e94507",
   "metadata": {},
   "outputs": [
    {
     "data": {
      "image/png": "[encoded data removed]",
      "text/plain": [
       "<Figure size 720x432 with 1 Axes>"
      ]
     },
     "metadata": {
      "needs_background": "light"
     },
     "output_type": "display_data"
    }
   ],
   "source": [
    "plt.figure(figsize=(10, 6))\n",
    "\n",
    "plt.plot(list(df_graph.index), df_graph['PC-A'], label='PC-A')\n",
    "plt.plot(list(df_graph.index), df_graph['PC-B'], label='PC-B')\n",
    "plt.plot(list(df_graph.index), df_graph['PC-C'], label='PC-C')\n",
    "plt.plot(list(df_graph.index), df_graph['PC-D'], label='PC-D')\n",
    "plt.plot(list(df_graph.index), df_graph['PC-E'], label='PC-E')\n",
    "\n",
    "plt.xlabel('payment month')\n",
    "plt.ylabel('price')\n",
    "plt.legend()\n",
    "\n",
    "plt.show()"
   ]
  }
 ],
 "metadata": {
  "kernelspec": {
   "display_name": "Python 3 (ipykernel)",
   "language": "python",
   "name": "python3"
  },
  "language_info": {
   "codemirror_mode": {
    "name": "ipython",
    "version": 3
   },
   "file_extension": ".py",
   "mimetype": "text/x-python",
   "name": "python",
   "nbconvert_exporter": "python",
   "pygments_lexer": "ipython3",
   "version": "3.9.12"
  }
 },
 "nbformat": 4,
 "nbformat_minor": 5
}
