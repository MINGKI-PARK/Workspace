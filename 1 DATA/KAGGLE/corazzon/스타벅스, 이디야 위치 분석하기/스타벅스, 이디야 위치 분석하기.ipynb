{
 "cells": [
  {
   "cell_type": "code",
   "execution_count": 1,
   "id": "dfdca4e0",
   "metadata": {
    "ExecuteTime": {
     "end_time": "2023-06-06T12:50:17.564333Z",
     "start_time": "2023-06-06T12:50:14.666081Z"
    }
   },
   "outputs": [],
   "source": [
    "import numpy as np\n",
    "import pandas as pd\n",
    "import matplotlib.pyplot as plt \n",
    "import seaborn as sns \n",
    "\n",
    "# 커널을 구성하다보면 에러는 아니지만, 빨간색 네모 박스 warning이 뜨는 경우가 많다. \n",
    "# 그런 보기 싫은 부분들을 제거해주겠다.\n",
    "import warnings\n",
    "warnings.filterwarnings('ignore')\n",
    "\n",
    "# notebook을 실행한 브라우저에서 바로 그림을 볼 수 있게 해주는 것\n",
    "%matplotlib inline\n",
    "\n",
    "# os 패키지를 통해 현재 디렉토리 위치를 변경하고, read_csv를 더 편리하게 할 수 있음\n",
    "import os\n",
    "os.getcwd() # 현재 디렉토리 파악\n",
    "# os.chdir(r\"______\") # 불러오고 싶은 파일이 위치한 주소를 ___에 입력\n",
    "\n",
    "# 다른 노트북 작성할 때도 이 셀만 떼서 사용 가능하다.\n",
    "import matplotlib.pyplot as plt \n",
    "import platform                \n",
    "\n",
    "# 웬만하면 해주는 것이 좋다.\n",
    "from matplotlib import font_manager, rc\n",
    "plt.rcParams['axes.unicode_minus'] = False\n",
    "\n",
    "if platform.system() == 'Darwin': #맥os 사용자의 경우에\n",
    "    plt.style.use('seaborn-darkgrid') \n",
    "    rc('font', family = 'AppleGothic')\n",
    "    \n",
    "elif platform.system() == 'Windows':#윈도우 사용자의 경우에\n",
    "    path = 'c:/Windows/Fonts/malgun.ttf'\n",
    "    font_name = font_manager.FontProperties(fname=path).get_name()\n",
    "    plt.style.use('seaborn-darkgrid') # https://python-graph-gallery.com/199-matplotlib-style-sheets/\n",
    "    rc('font', family=font_name)"
   ]
  },
  {
   "cell_type": "code",
   "execution_count": 2,
   "id": "d750aa24",
   "metadata": {
    "ExecuteTime": {
     "end_time": "2023-06-06T12:50:29.025683Z",
     "start_time": "2023-06-06T12:50:17.574313Z"
    }
   },
   "outputs": [
    {
     "data": {
      "text/plain": [
       "(573680, 39)"
      ]
     },
     "execution_count": 2,
     "metadata": {},
     "output_type": "execute_result"
    }
   ],
   "source": [
    "df = pd.read_csv('c:/reposit/data/corazzon/상가업소정보_201912_01.csv', sep='|')\n",
    "df.shape"
   ]
  },
  {
   "cell_type": "code",
   "execution_count": 3,
   "id": "2dff96c2",
   "metadata": {
    "ExecuteTime": {
     "end_time": "2023-06-06T12:50:29.121429Z",
     "start_time": "2023-06-06T12:50:29.030657Z"
    }
   },
   "outputs": [
    {
     "data": {
      "text/html": [
       "<div>\n",
       "<style scoped>\n",
       "    .dataframe tbody tr th:only-of-type {\n",
       "        vertical-align: middle;\n",
       "    }\n",
       "\n",
       "    .dataframe tbody tr th {\n",
       "        vertical-align: top;\n",
       "    }\n",
       "\n",
       "    .dataframe thead th {\n",
       "        text-align: right;\n",
       "    }\n",
       "</style>\n",
       "<table border=\"1\" class=\"dataframe\">\n",
       "  <thead>\n",
       "    <tr style=\"text-align: right;\">\n",
       "      <th></th>\n",
       "      <th>상가업소번호</th>\n",
       "      <th>상호명</th>\n",
       "      <th>지점명</th>\n",
       "      <th>상권업종대분류코드</th>\n",
       "      <th>상권업종대분류명</th>\n",
       "      <th>상권업종중분류코드</th>\n",
       "      <th>상권업종중분류명</th>\n",
       "      <th>상권업종소분류코드</th>\n",
       "      <th>상권업종소분류명</th>\n",
       "      <th>표준산업분류코드</th>\n",
       "      <th>...</th>\n",
       "      <th>건물관리번호</th>\n",
       "      <th>건물명</th>\n",
       "      <th>도로명주소</th>\n",
       "      <th>구우편번호</th>\n",
       "      <th>신우편번호</th>\n",
       "      <th>동정보</th>\n",
       "      <th>층정보</th>\n",
       "      <th>호정보</th>\n",
       "      <th>경도</th>\n",
       "      <th>위도</th>\n",
       "    </tr>\n",
       "  </thead>\n",
       "  <tbody>\n",
       "    <tr>\n",
       "      <th>0</th>\n",
       "      <td>19905471</td>\n",
       "      <td>와라와라호프</td>\n",
       "      <td>NaN</td>\n",
       "      <td>Q</td>\n",
       "      <td>음식</td>\n",
       "      <td>Q09</td>\n",
       "      <td>유흥주점</td>\n",
       "      <td>Q09A01</td>\n",
       "      <td>호프/맥주</td>\n",
       "      <td>I56219</td>\n",
       "      <td>...</td>\n",
       "      <td>1168010600106040000014378</td>\n",
       "      <td>대치상가</td>\n",
       "      <td>서울특별시 강남구 남부순환로 2933</td>\n",
       "      <td>135280</td>\n",
       "      <td>6280.0</td>\n",
       "      <td>NaN</td>\n",
       "      <td>1</td>\n",
       "      <td>NaN</td>\n",
       "      <td>127.061026</td>\n",
       "      <td>37.493922</td>\n",
       "    </tr>\n",
       "    <tr>\n",
       "      <th>1</th>\n",
       "      <td>19911397</td>\n",
       "      <td>커피빈코리아선릉로93길점</td>\n",
       "      <td>코리아선릉로93길점</td>\n",
       "      <td>Q</td>\n",
       "      <td>음식</td>\n",
       "      <td>Q12</td>\n",
       "      <td>커피점/카페</td>\n",
       "      <td>Q12A01</td>\n",
       "      <td>커피전문점/카페/다방</td>\n",
       "      <td>I56220</td>\n",
       "      <td>...</td>\n",
       "      <td>1168010100106960042022041</td>\n",
       "      <td>NaN</td>\n",
       "      <td>서울특별시 강남구 선릉로93길 6</td>\n",
       "      <td>135080</td>\n",
       "      <td>6149.0</td>\n",
       "      <td>NaN</td>\n",
       "      <td>1</td>\n",
       "      <td>NaN</td>\n",
       "      <td>127.047883</td>\n",
       "      <td>37.505675</td>\n",
       "    </tr>\n",
       "    <tr>\n",
       "      <th>2</th>\n",
       "      <td>19911801</td>\n",
       "      <td>프로포즈</td>\n",
       "      <td>NaN</td>\n",
       "      <td>Q</td>\n",
       "      <td>음식</td>\n",
       "      <td>Q09</td>\n",
       "      <td>유흥주점</td>\n",
       "      <td>Q09A01</td>\n",
       "      <td>호프/맥주</td>\n",
       "      <td>I56219</td>\n",
       "      <td>...</td>\n",
       "      <td>1154510200101620001017748</td>\n",
       "      <td>NaN</td>\n",
       "      <td>서울특별시 금천구 가산로 34-6</td>\n",
       "      <td>153010</td>\n",
       "      <td>8545.0</td>\n",
       "      <td>NaN</td>\n",
       "      <td>1</td>\n",
       "      <td>NaN</td>\n",
       "      <td>126.899220</td>\n",
       "      <td>37.471711</td>\n",
       "    </tr>\n",
       "  </tbody>\n",
       "</table>\n",
       "<p>3 rows × 39 columns</p>\n",
       "</div>"
      ],
      "text/plain": [
       "     상가업소번호            상호명         지점명 상권업종대분류코드 상권업종대분류명 상권업종중분류코드 상권업종중분류명  \\\n",
       "0  19905471         와라와라호프         NaN         Q       음식       Q09     유흥주점   \n",
       "1  19911397  커피빈코리아선릉로93길점  코리아선릉로93길점         Q       음식       Q12   커피점/카페   \n",
       "2  19911801           프로포즈         NaN         Q       음식       Q09     유흥주점   \n",
       "\n",
       "  상권업종소분류코드     상권업종소분류명 표준산업분류코드  ...                     건물관리번호   건물명  \\\n",
       "0    Q09A01        호프/맥주   I56219  ...  1168010600106040000014378  대치상가   \n",
       "1    Q12A01  커피전문점/카페/다방   I56220  ...  1168010100106960042022041   NaN   \n",
       "2    Q09A01        호프/맥주   I56219  ...  1154510200101620001017748   NaN   \n",
       "\n",
       "                  도로명주소   구우편번호   신우편번호  동정보 층정보  호정보          경도         위도  \n",
       "0  서울특별시 강남구 남부순환로 2933  135280  6280.0  NaN   1  NaN  127.061026  37.493922  \n",
       "1    서울특별시 강남구 선릉로93길 6  135080  6149.0  NaN   1  NaN  127.047883  37.505675  \n",
       "2    서울특별시 금천구 가산로 34-6  153010  8545.0  NaN   1  NaN  126.899220  37.471711  \n",
       "\n",
       "[3 rows x 39 columns]"
      ]
     },
     "execution_count": 3,
     "metadata": {},
     "output_type": "execute_result"
    }
   ],
   "source": [
    "df.head(3)"
   ]
  },
  {
   "cell_type": "code",
   "execution_count": 4,
   "id": "478c6534",
   "metadata": {
    "ExecuteTime": {
     "end_time": "2023-06-06T12:50:31.020269Z",
     "start_time": "2023-06-06T12:50:29.131387Z"
    }
   },
   "outputs": [
    {
     "name": "stdout",
     "output_type": "stream",
     "text": [
      "<class 'pandas.core.frame.DataFrame'>\n",
      "RangeIndex: 573680 entries, 0 to 573679\n",
      "Data columns (total 39 columns):\n",
      " #   Column     Non-Null Count   Dtype  \n",
      "---  ------     --------------   -----  \n",
      " 0   상가업소번호     573680 non-null  int64  \n",
      " 1   상호명        573679 non-null  object \n",
      " 2   지점명        76674 non-null   object \n",
      " 3   상권업종대분류코드  573680 non-null  object \n",
      " 4   상권업종대분류명   573680 non-null  object \n",
      " 5   상권업종중분류코드  573680 non-null  object \n",
      " 6   상권업종중분류명   573680 non-null  object \n",
      " 7   상권업종소분류코드  573680 non-null  object \n",
      " 8   상권업종소분류명   573680 non-null  object \n",
      " 9   표준산업분류코드   539290 non-null  object \n",
      " 10  표준산업분류명    539290 non-null  object \n",
      " 11  시도코드       573680 non-null  int64  \n",
      " 12  시도명        573680 non-null  object \n",
      " 13  시군구코드      573680 non-null  int64  \n",
      " 14  시군구명       573680 non-null  object \n",
      " 15  행정동코드      573680 non-null  int64  \n",
      " 16  행정동명       573680 non-null  object \n",
      " 17  법정동코드      573680 non-null  int64  \n",
      " 18  법정동명       573680 non-null  object \n",
      " 19  지번코드       573680 non-null  int64  \n",
      " 20  대지구분코드     573680 non-null  int64  \n",
      " 21  대지구분명      573680 non-null  object \n",
      " 22  지번본번지      573680 non-null  int64  \n",
      " 23  지번부번지      474924 non-null  float64\n",
      " 24  지번주소       573680 non-null  object \n",
      " 25  도로명코드      573680 non-null  int64  \n",
      " 26  도로명        573680 non-null  object \n",
      " 27  건물본번지      573680 non-null  int64  \n",
      " 28  건물부번지      71988 non-null   float64\n",
      " 29  건물관리번호     573680 non-null  object \n",
      " 30  건물명        265608 non-null  object \n",
      " 31  도로명주소      573680 non-null  object \n",
      " 32  구우편번호      573680 non-null  int64  \n",
      " 33  신우편번호      573671 non-null  float64\n",
      " 34  동정보        50856 non-null   object \n",
      " 35  층정보        347127 non-null  object \n",
      " 36  호정보        85266 non-null   object \n",
      " 37  경도         573680 non-null  float64\n",
      " 38  위도         573680 non-null  float64\n",
      "dtypes: float64(5), int64(11), object(23)\n",
      "memory usage: 170.7+ MB\n"
     ]
    }
   ],
   "source": [
    "df.info()"
   ]
  },
  {
   "cell_type": "code",
   "execution_count": 5,
   "id": "1b19e83b",
   "metadata": {
    "ExecuteTime": {
     "end_time": "2023-06-06T12:50:32.994225Z",
     "start_time": "2023-06-06T12:50:31.023498Z"
    }
   },
   "outputs": [
    {
     "data": {
      "text/html": [
       "<div>\n",
       "<style scoped>\n",
       "    .dataframe tbody tr th:only-of-type {\n",
       "        vertical-align: middle;\n",
       "    }\n",
       "\n",
       "    .dataframe tbody tr th {\n",
       "        vertical-align: top;\n",
       "    }\n",
       "\n",
       "    .dataframe thead th {\n",
       "        text-align: right;\n",
       "    }\n",
       "</style>\n",
       "<table border=\"1\" class=\"dataframe\">\n",
       "  <thead>\n",
       "    <tr style=\"text-align: right;\">\n",
       "      <th></th>\n",
       "      <th>null_count</th>\n",
       "    </tr>\n",
       "  </thead>\n",
       "  <tbody>\n",
       "    <tr>\n",
       "      <th>상가업소번호</th>\n",
       "      <td>0</td>\n",
       "    </tr>\n",
       "    <tr>\n",
       "      <th>상호명</th>\n",
       "      <td>1</td>\n",
       "    </tr>\n",
       "    <tr>\n",
       "      <th>지점명</th>\n",
       "      <td>497006</td>\n",
       "    </tr>\n",
       "    <tr>\n",
       "      <th>상권업종대분류코드</th>\n",
       "      <td>0</td>\n",
       "    </tr>\n",
       "    <tr>\n",
       "      <th>상권업종대분류명</th>\n",
       "      <td>0</td>\n",
       "    </tr>\n",
       "    <tr>\n",
       "      <th>상권업종중분류코드</th>\n",
       "      <td>0</td>\n",
       "    </tr>\n",
       "    <tr>\n",
       "      <th>상권업종중분류명</th>\n",
       "      <td>0</td>\n",
       "    </tr>\n",
       "    <tr>\n",
       "      <th>상권업종소분류코드</th>\n",
       "      <td>0</td>\n",
       "    </tr>\n",
       "    <tr>\n",
       "      <th>상권업종소분류명</th>\n",
       "      <td>0</td>\n",
       "    </tr>\n",
       "    <tr>\n",
       "      <th>표준산업분류코드</th>\n",
       "      <td>34390</td>\n",
       "    </tr>\n",
       "    <tr>\n",
       "      <th>표준산업분류명</th>\n",
       "      <td>34390</td>\n",
       "    </tr>\n",
       "    <tr>\n",
       "      <th>시도코드</th>\n",
       "      <td>0</td>\n",
       "    </tr>\n",
       "    <tr>\n",
       "      <th>시도명</th>\n",
       "      <td>0</td>\n",
       "    </tr>\n",
       "    <tr>\n",
       "      <th>시군구코드</th>\n",
       "      <td>0</td>\n",
       "    </tr>\n",
       "    <tr>\n",
       "      <th>시군구명</th>\n",
       "      <td>0</td>\n",
       "    </tr>\n",
       "    <tr>\n",
       "      <th>행정동코드</th>\n",
       "      <td>0</td>\n",
       "    </tr>\n",
       "    <tr>\n",
       "      <th>행정동명</th>\n",
       "      <td>0</td>\n",
       "    </tr>\n",
       "    <tr>\n",
       "      <th>법정동코드</th>\n",
       "      <td>0</td>\n",
       "    </tr>\n",
       "    <tr>\n",
       "      <th>법정동명</th>\n",
       "      <td>0</td>\n",
       "    </tr>\n",
       "    <tr>\n",
       "      <th>지번코드</th>\n",
       "      <td>0</td>\n",
       "    </tr>\n",
       "    <tr>\n",
       "      <th>대지구분코드</th>\n",
       "      <td>0</td>\n",
       "    </tr>\n",
       "    <tr>\n",
       "      <th>대지구분명</th>\n",
       "      <td>0</td>\n",
       "    </tr>\n",
       "    <tr>\n",
       "      <th>지번본번지</th>\n",
       "      <td>0</td>\n",
       "    </tr>\n",
       "    <tr>\n",
       "      <th>지번부번지</th>\n",
       "      <td>98756</td>\n",
       "    </tr>\n",
       "    <tr>\n",
       "      <th>지번주소</th>\n",
       "      <td>0</td>\n",
       "    </tr>\n",
       "    <tr>\n",
       "      <th>도로명코드</th>\n",
       "      <td>0</td>\n",
       "    </tr>\n",
       "    <tr>\n",
       "      <th>도로명</th>\n",
       "      <td>0</td>\n",
       "    </tr>\n",
       "    <tr>\n",
       "      <th>건물본번지</th>\n",
       "      <td>0</td>\n",
       "    </tr>\n",
       "    <tr>\n",
       "      <th>건물부번지</th>\n",
       "      <td>501692</td>\n",
       "    </tr>\n",
       "    <tr>\n",
       "      <th>건물관리번호</th>\n",
       "      <td>0</td>\n",
       "    </tr>\n",
       "    <tr>\n",
       "      <th>건물명</th>\n",
       "      <td>308072</td>\n",
       "    </tr>\n",
       "    <tr>\n",
       "      <th>도로명주소</th>\n",
       "      <td>0</td>\n",
       "    </tr>\n",
       "    <tr>\n",
       "      <th>구우편번호</th>\n",
       "      <td>0</td>\n",
       "    </tr>\n",
       "    <tr>\n",
       "      <th>신우편번호</th>\n",
       "      <td>9</td>\n",
       "    </tr>\n",
       "    <tr>\n",
       "      <th>동정보</th>\n",
       "      <td>522824</td>\n",
       "    </tr>\n",
       "    <tr>\n",
       "      <th>층정보</th>\n",
       "      <td>226553</td>\n",
       "    </tr>\n",
       "    <tr>\n",
       "      <th>호정보</th>\n",
       "      <td>488414</td>\n",
       "    </tr>\n",
       "    <tr>\n",
       "      <th>경도</th>\n",
       "      <td>0</td>\n",
       "    </tr>\n",
       "    <tr>\n",
       "      <th>위도</th>\n",
       "      <td>0</td>\n",
       "    </tr>\n",
       "  </tbody>\n",
       "</table>\n",
       "</div>"
      ],
      "text/plain": [
       "           null_count\n",
       "상가업소번호              0\n",
       "상호명                 1\n",
       "지점명            497006\n",
       "상권업종대분류코드           0\n",
       "상권업종대분류명            0\n",
       "상권업종중분류코드           0\n",
       "상권업종중분류명            0\n",
       "상권업종소분류코드           0\n",
       "상권업종소분류명            0\n",
       "표준산업분류코드        34390\n",
       "표준산업분류명         34390\n",
       "시도코드                0\n",
       "시도명                 0\n",
       "시군구코드               0\n",
       "시군구명                0\n",
       "행정동코드               0\n",
       "행정동명                0\n",
       "법정동코드               0\n",
       "법정동명                0\n",
       "지번코드                0\n",
       "대지구분코드              0\n",
       "대지구분명               0\n",
       "지번본번지               0\n",
       "지번부번지           98756\n",
       "지번주소                0\n",
       "도로명코드               0\n",
       "도로명                 0\n",
       "건물본번지               0\n",
       "건물부번지          501692\n",
       "건물관리번호              0\n",
       "건물명            308072\n",
       "도로명주소               0\n",
       "구우편번호               0\n",
       "신우편번호               9\n",
       "동정보            522824\n",
       "층정보            226553\n",
       "호정보            488414\n",
       "경도                  0\n",
       "위도                  0"
      ]
     },
     "execution_count": 5,
     "metadata": {},
     "output_type": "execute_result"
    }
   ],
   "source": [
    "df.isnull().sum().to_frame('null_count')"
   ]
  },
  {
   "cell_type": "code",
   "execution_count": 6,
   "id": "2e842e25",
   "metadata": {
    "ExecuteTime": {
     "end_time": "2023-06-06T12:50:35.502845Z",
     "start_time": "2023-06-06T12:50:32.999211Z"
    }
   },
   "outputs": [
    {
     "data": {
      "image/png": "[encoded data removed]",
      "text/plain": [
       "<Figure size 800x900 with 1 Axes>"
      ]
     },
     "metadata": {},
     "output_type": "display_data"
    }
   ],
   "source": [
    "plt.figure(figsize=(8, 9))\n",
    "df.isnull().sum().plot(kind='barh')\n",
    "plt.show()"
   ]
  },
  {
   "cell_type": "code",
   "execution_count": 7,
   "id": "a3fdafcf",
   "metadata": {
    "ExecuteTime": {
     "end_time": "2023-06-06T12:50:37.825402Z",
     "start_time": "2023-06-06T12:50:35.505806Z"
    }
   },
   "outputs": [
    {
     "data": {
      "image/png": "[encoded data removed]",
      "text/plain": [
       "<Figure size 800x900 with 1 Axes>"
      ]
     },
     "metadata": {},
     "output_type": "display_data"
    }
   ],
   "source": [
    "df.isnull().sum().plot.barh(figsize=(8, 9))\n",
    "plt.show()"
   ]
  },
  {
   "cell_type": "markdown",
   "id": "f981d0bb",
   "metadata": {},
   "source": [
    "### 사용하지 않는 컬럼 제거하기"
   ]
  },
  {
   "cell_type": "code",
   "execution_count": 8,
   "id": "c525f318",
   "metadata": {
    "ExecuteTime": {
     "end_time": "2023-06-06T12:52:06.268333Z",
     "start_time": "2023-06-06T12:52:06.252381Z"
    }
   },
   "outputs": [
    {
     "data": {
      "text/plain": [
       "Index(['상가업소번호', '상호명', '지점명', '상권업종대분류코드', '상권업종대분류명', '상권업종중분류코드',\n",
       "       '상권업종중분류명', '상권업종소분류코드', '상권업종소분류명', '표준산업분류코드', '표준산업분류명', '시도코드',\n",
       "       '시도명', '시군구코드', '시군구명', '행정동코드', '행정동명', '법정동코드', '법정동명', '지번코드',\n",
       "       '대지구분코드', '대지구분명', '지번본번지', '지번부번지', '지번주소', '도로명코드', '도로명', '건물본번지',\n",
       "       '건물부번지', '건물관리번호', '건물명', '도로명주소', '구우편번호', '신우편번호', '동정보', '층정보',\n",
       "       '호정보', '경도', '위도'],\n",
       "      dtype='object')"
      ]
     },
     "execution_count": 8,
     "metadata": {},
     "output_type": "execute_result"
    }
   ],
   "source": [
    "df.columns"
   ]
  },
  {
   "cell_type": "code",
   "execution_count": 9,
   "id": "4c8111fc",
   "metadata": {
    "ExecuteTime": {
     "end_time": "2023-06-06T12:53:06.638589Z",
     "start_time": "2023-06-06T12:53:06.500235Z"
    }
   },
   "outputs": [
    {
     "data": {
      "text/plain": [
       "(573680, 11)"
      ]
     },
     "execution_count": 9,
     "metadata": {},
     "output_type": "execute_result"
    }
   ],
   "source": [
    "columns =['상호명', '상권업종대분류명', '상권업종중분류명', '상권업종소분류명', '시도명', '시군구명', '행정동명', '법정동명', '도로명주소', '경도', '위도']\n",
    "\n",
    "df = df[columns].copy()\n",
    "df.shape"
   ]
  },
  {
   "cell_type": "markdown",
   "id": "1003d1d9",
   "metadata": {},
   "source": [
    "## 색인으로 서브셋 가져오기"
   ]
  },
  {
   "cell_type": "markdown",
   "id": "180c4990",
   "metadata": {},
   "source": [
    "### 서울만 따로 보기"
   ]
  },
  {
   "cell_type": "code",
   "execution_count": 10,
   "id": "b8dcd287",
   "metadata": {
    "ExecuteTime": {
     "end_time": "2023-06-06T12:54:11.715833Z",
     "start_time": "2023-06-06T12:54:11.659217Z"
    },
    "scrolled": true
   },
   "outputs": [
    {
     "data": {
      "text/plain": [
       "array(['서울특별시', '부산광역시'], dtype=object)"
      ]
     },
     "execution_count": 10,
     "metadata": {},
     "output_type": "execute_result"
    }
   ],
   "source": [
    "df['시도명'].unique()"
   ]
  },
  {
   "cell_type": "code",
   "execution_count": 11,
   "id": "abbae5a8",
   "metadata": {
    "ExecuteTime": {
     "end_time": "2023-06-06T12:54:45.518658Z",
     "start_time": "2023-06-06T12:54:45.346918Z"
    }
   },
   "outputs": [
    {
     "data": {
      "text/plain": [
       "(407376, 11)"
      ]
     },
     "execution_count": 11,
     "metadata": {},
     "output_type": "execute_result"
    }
   ],
   "source": [
    "df_seoul = df[df['시도명']=='서울특별시'].copy()\n",
    "df_seoul.shape"
   ]
  },
  {
   "cell_type": "markdown",
   "id": "ad8ed40f",
   "metadata": {},
   "source": [
    "### 일부 텍스트가 들어가는 데이터만 가져오기"
   ]
  },
  {
   "cell_type": "code",
   "execution_count": 12,
   "id": "db2ec353",
   "metadata": {
    "ExecuteTime": {
     "end_time": "2023-06-06T12:55:57.353736Z",
     "start_time": "2023-06-06T12:55:57.188053Z"
    }
   },
   "outputs": [
    {
     "data": {
      "text/plain": [
       "278706"
      ]
     },
     "execution_count": 12,
     "metadata": {},
     "output_type": "execute_result"
    }
   ],
   "source": [
    "df_seoul['상호명'].nunique()"
   ]
  },
  {
   "cell_type": "code",
   "execution_count": 13,
   "id": "6532036a",
   "metadata": {
    "ExecuteTime": {
     "end_time": "2023-06-06T12:56:30.611151Z",
     "start_time": "2023-06-06T12:56:30.427407Z"
    }
   },
   "outputs": [],
   "source": [
    "df_seoul['상호명_소문자'] = df_seoul['상호명'].str.lower()"
   ]
  },
  {
   "cell_type": "code",
   "execution_count": 18,
   "id": "507666c5",
   "metadata": {
    "ExecuteTime": {
     "end_time": "2023-06-06T12:58:14.250141Z",
     "start_time": "2023-06-06T12:58:13.986834Z"
    }
   },
   "outputs": [
    {
     "data": {
      "text/html": [
       "<div>\n",
       "<style scoped>\n",
       "    .dataframe tbody tr th:only-of-type {\n",
       "        vertical-align: middle;\n",
       "    }\n",
       "\n",
       "    .dataframe tbody tr th {\n",
       "        vertical-align: top;\n",
       "    }\n",
       "\n",
       "    .dataframe thead th {\n",
       "        text-align: right;\n",
       "    }\n",
       "</style>\n",
       "<table border=\"1\" class=\"dataframe\">\n",
       "  <thead>\n",
       "    <tr style=\"text-align: right;\">\n",
       "      <th></th>\n",
       "      <th>상호명</th>\n",
       "      <th>상권업종대분류명</th>\n",
       "      <th>상권업종중분류명</th>\n",
       "      <th>상권업종소분류명</th>\n",
       "      <th>시도명</th>\n",
       "      <th>시군구명</th>\n",
       "      <th>행정동명</th>\n",
       "      <th>법정동명</th>\n",
       "      <th>도로명주소</th>\n",
       "      <th>경도</th>\n",
       "      <th>위도</th>\n",
       "      <th>상호명_소문자</th>\n",
       "    </tr>\n",
       "  </thead>\n",
       "  <tbody>\n",
       "    <tr>\n",
       "      <th>1675</th>\n",
       "      <td>이디야커피</td>\n",
       "      <td>음식</td>\n",
       "      <td>커피점/카페</td>\n",
       "      <td>커피전문점/카페/다방</td>\n",
       "      <td>서울특별시</td>\n",
       "      <td>영등포구</td>\n",
       "      <td>신길1동</td>\n",
       "      <td>신길동</td>\n",
       "      <td>서울특별시 영등포구 영등포로 353</td>\n",
       "      <td>126.918062</td>\n",
       "      <td>37.515118</td>\n",
       "      <td>이디야커피</td>\n",
       "    </tr>\n",
       "    <tr>\n",
       "      <th>2957</th>\n",
       "      <td>이디야커피</td>\n",
       "      <td>음식</td>\n",
       "      <td>커피점/카페</td>\n",
       "      <td>커피전문점/카페/다방</td>\n",
       "      <td>서울특별시</td>\n",
       "      <td>구로구</td>\n",
       "      <td>구로3동</td>\n",
       "      <td>구로동</td>\n",
       "      <td>서울특별시 구로구 디지털로32길 43</td>\n",
       "      <td>126.897870</td>\n",
       "      <td>37.484385</td>\n",
       "      <td>이디야커피</td>\n",
       "    </tr>\n",
       "    <tr>\n",
       "      <th>8534</th>\n",
       "      <td>이디야커피</td>\n",
       "      <td>음식</td>\n",
       "      <td>커피점/카페</td>\n",
       "      <td>커피전문점/카페/다방</td>\n",
       "      <td>서울특별시</td>\n",
       "      <td>노원구</td>\n",
       "      <td>중계1동</td>\n",
       "      <td>중계동</td>\n",
       "      <td>서울특별시 노원구 노원로22길 34</td>\n",
       "      <td>127.072754</td>\n",
       "      <td>37.646364</td>\n",
       "      <td>이디야커피</td>\n",
       "    </tr>\n",
       "    <tr>\n",
       "      <th>13913</th>\n",
       "      <td>이디아</td>\n",
       "      <td>음식</td>\n",
       "      <td>커피점/카페</td>\n",
       "      <td>커피전문점/카페/다방</td>\n",
       "      <td>서울특별시</td>\n",
       "      <td>마포구</td>\n",
       "      <td>상암동</td>\n",
       "      <td>상암동</td>\n",
       "      <td>서울특별시 마포구 월드컵북로 375</td>\n",
       "      <td>126.890828</td>\n",
       "      <td>37.577397</td>\n",
       "      <td>이디아</td>\n",
       "    </tr>\n",
       "    <tr>\n",
       "      <th>14605</th>\n",
       "      <td>이디야커피</td>\n",
       "      <td>음식</td>\n",
       "      <td>커피점/카페</td>\n",
       "      <td>커피전문점/카페/다방</td>\n",
       "      <td>서울특별시</td>\n",
       "      <td>성동구</td>\n",
       "      <td>금호2.3가동</td>\n",
       "      <td>금호동3가</td>\n",
       "      <td>서울특별시 성동구 장터길 17-1</td>\n",
       "      <td>127.017791</td>\n",
       "      <td>37.548427</td>\n",
       "      <td>이디야커피</td>\n",
       "    </tr>\n",
       "    <tr>\n",
       "      <th>...</th>\n",
       "      <td>...</td>\n",
       "      <td>...</td>\n",
       "      <td>...</td>\n",
       "      <td>...</td>\n",
       "      <td>...</td>\n",
       "      <td>...</td>\n",
       "      <td>...</td>\n",
       "      <td>...</td>\n",
       "      <td>...</td>\n",
       "      <td>...</td>\n",
       "      <td>...</td>\n",
       "      <td>...</td>\n",
       "    </tr>\n",
       "    <tr>\n",
       "      <th>557161</th>\n",
       "      <td>이디야커피</td>\n",
       "      <td>음식</td>\n",
       "      <td>커피점/카페</td>\n",
       "      <td>커피전문점/카페/다방</td>\n",
       "      <td>서울특별시</td>\n",
       "      <td>은평구</td>\n",
       "      <td>불광1동</td>\n",
       "      <td>불광동</td>\n",
       "      <td>서울특별시 은평구 불광로 59</td>\n",
       "      <td>126.931719</td>\n",
       "      <td>37.612329</td>\n",
       "      <td>이디야커피</td>\n",
       "    </tr>\n",
       "    <tr>\n",
       "      <th>557163</th>\n",
       "      <td>이디야커피</td>\n",
       "      <td>음식</td>\n",
       "      <td>커피점/카페</td>\n",
       "      <td>커피전문점/카페/다방</td>\n",
       "      <td>서울특별시</td>\n",
       "      <td>광진구</td>\n",
       "      <td>자양3동</td>\n",
       "      <td>자양동</td>\n",
       "      <td>서울특별시 광진구 능동로 90</td>\n",
       "      <td>127.070902</td>\n",
       "      <td>37.538350</td>\n",
       "      <td>이디야커피</td>\n",
       "    </tr>\n",
       "    <tr>\n",
       "      <th>557498</th>\n",
       "      <td>이디야커피</td>\n",
       "      <td>음식</td>\n",
       "      <td>커피점/카페</td>\n",
       "      <td>커피전문점/카페/다방</td>\n",
       "      <td>서울특별시</td>\n",
       "      <td>강서구</td>\n",
       "      <td>가양1동</td>\n",
       "      <td>마곡동</td>\n",
       "      <td>서울특별시 강서구 공항대로 247</td>\n",
       "      <td>126.835118</td>\n",
       "      <td>37.559191</td>\n",
       "      <td>이디야커피</td>\n",
       "    </tr>\n",
       "    <tr>\n",
       "      <th>565196</th>\n",
       "      <td>이디아스포츠</td>\n",
       "      <td>소매</td>\n",
       "      <td>운동/경기용품소매</td>\n",
       "      <td>운동/경기용품</td>\n",
       "      <td>서울특별시</td>\n",
       "      <td>금천구</td>\n",
       "      <td>가산동</td>\n",
       "      <td>가산동</td>\n",
       "      <td>서울특별시 금천구 디지털로 121</td>\n",
       "      <td>126.880083</td>\n",
       "      <td>37.476127</td>\n",
       "      <td>이디아스포츠</td>\n",
       "    </tr>\n",
       "    <tr>\n",
       "      <th>568636</th>\n",
       "      <td>이디야커피</td>\n",
       "      <td>음식</td>\n",
       "      <td>커피점/카페</td>\n",
       "      <td>커피전문점/카페/다방</td>\n",
       "      <td>서울특별시</td>\n",
       "      <td>서초구</td>\n",
       "      <td>양재1동</td>\n",
       "      <td>우면동</td>\n",
       "      <td>서울특별시 서초구 바우뫼로 20</td>\n",
       "      <td>127.025274</td>\n",
       "      <td>37.469980</td>\n",
       "      <td>이디야커피</td>\n",
       "    </tr>\n",
       "  </tbody>\n",
       "</table>\n",
       "<p>543 rows × 12 columns</p>\n",
       "</div>"
      ],
      "text/plain": [
       "           상호명 상권업종대분류명   상권업종중분류명     상권업종소분류명    시도명  시군구명     행정동명   법정동명  \\\n",
       "1675     이디야커피       음식     커피점/카페  커피전문점/카페/다방  서울특별시  영등포구     신길1동    신길동   \n",
       "2957     이디야커피       음식     커피점/카페  커피전문점/카페/다방  서울특별시   구로구     구로3동    구로동   \n",
       "8534     이디야커피       음식     커피점/카페  커피전문점/카페/다방  서울특별시   노원구     중계1동    중계동   \n",
       "13913      이디아       음식     커피점/카페  커피전문점/카페/다방  서울특별시   마포구      상암동    상암동   \n",
       "14605    이디야커피       음식     커피점/카페  커피전문점/카페/다방  서울특별시   성동구  금호2.3가동  금호동3가   \n",
       "...        ...      ...        ...          ...    ...   ...      ...    ...   \n",
       "557161   이디야커피       음식     커피점/카페  커피전문점/카페/다방  서울특별시   은평구     불광1동    불광동   \n",
       "557163   이디야커피       음식     커피점/카페  커피전문점/카페/다방  서울특별시   광진구     자양3동    자양동   \n",
       "557498   이디야커피       음식     커피점/카페  커피전문점/카페/다방  서울특별시   강서구     가양1동    마곡동   \n",
       "565196  이디아스포츠       소매  운동/경기용품소매      운동/경기용품  서울특별시   금천구      가산동    가산동   \n",
       "568636   이디야커피       음식     커피점/카페  커피전문점/카페/다방  서울특별시   서초구     양재1동    우면동   \n",
       "\n",
       "                       도로명주소          경도         위도 상호명_소문자  \n",
       "1675     서울특별시 영등포구 영등포로 353  126.918062  37.515118   이디야커피  \n",
       "2957    서울특별시 구로구 디지털로32길 43  126.897870  37.484385   이디야커피  \n",
       "8534     서울특별시 노원구 노원로22길 34  127.072754  37.646364   이디야커피  \n",
       "13913    서울특별시 마포구 월드컵북로 375  126.890828  37.577397     이디아  \n",
       "14605     서울특별시 성동구 장터길 17-1  127.017791  37.548427   이디야커피  \n",
       "...                      ...         ...        ...     ...  \n",
       "557161      서울특별시 은평구 불광로 59  126.931719  37.612329   이디야커피  \n",
       "557163      서울특별시 광진구 능동로 90  127.070902  37.538350   이디야커피  \n",
       "557498    서울특별시 강서구 공항대로 247  126.835118  37.559191   이디야커피  \n",
       "565196    서울특별시 금천구 디지털로 121  126.880083  37.476127  이디아스포츠  \n",
       "568636     서울특별시 서초구 바우뫼로 20  127.025274  37.469980   이디야커피  \n",
       "\n",
       "[543 rows x 12 columns]"
      ]
     },
     "execution_count": 18,
     "metadata": {},
     "output_type": "execute_result"
    }
   ],
   "source": [
    "df_seoul[df_seoul['상호명_소문자'].str.contains('이디야|이디아|ediya')]"
   ]
  },
  {
   "cell_type": "code",
   "execution_count": 20,
   "id": "1e969d46",
   "metadata": {
    "ExecuteTime": {
     "end_time": "2023-06-06T12:59:04.087990Z",
     "start_time": "2023-06-06T12:59:03.868579Z"
    }
   },
   "outputs": [
    {
     "data": {
      "text/plain": [
       "(543,)"
      ]
     },
     "execution_count": 20,
     "metadata": {},
     "output_type": "execute_result"
    }
   ],
   "source": [
    "df_seoul.loc[df_seoul['상호명_소문자'].str.contains('이디야|이디아|ediya'), '상호명_소문자'].shape"
   ]
  },
  {
   "cell_type": "code",
   "execution_count": 21,
   "id": "330a5c7a",
   "metadata": {
    "ExecuteTime": {
     "end_time": "2023-06-06T12:59:51.771442Z",
     "start_time": "2023-06-06T12:59:51.558048Z"
    }
   },
   "outputs": [
    {
     "data": {
      "text/plain": [
       "(506,)"
      ]
     },
     "execution_count": 21,
     "metadata": {},
     "output_type": "execute_result"
    }
   ],
   "source": [
    "df_seoul.loc[df_seoul['상호명_소문자'].str.contains('스타벅스|starbucks'), '상호명_소문자'].shape"
   ]
  },
  {
   "cell_type": "code",
   "execution_count": 24,
   "id": "60e68597",
   "metadata": {
    "ExecuteTime": {
     "end_time": "2023-06-06T13:01:25.293074Z",
     "start_time": "2023-06-06T13:01:25.067032Z"
    }
   },
   "outputs": [
    {
     "data": {
      "text/plain": [
       "(1049, 12)"
      ]
     },
     "execution_count": 24,
     "metadata": {},
     "output_type": "execute_result"
    }
   ],
   "source": [
    "df_cafe = df_seoul[df_seoul['상호명_소문자'].str.contains('스타벅스|starbucks|이디야|이디아|ediya')].copy()\n",
    "df_cafe.shape"
   ]
  },
  {
   "cell_type": "code",
   "execution_count": 26,
   "id": "447d2a00",
   "metadata": {
    "ExecuteTime": {
     "end_time": "2023-06-06T13:08:41.156609Z",
     "start_time": "2023-06-06T13:08:41.133670Z"
    }
   },
   "outputs": [
    {
     "data": {
      "text/html": [
       "<div>\n",
       "<style scoped>\n",
       "    .dataframe tbody tr th:only-of-type {\n",
       "        vertical-align: middle;\n",
       "    }\n",
       "\n",
       "    .dataframe tbody tr th {\n",
       "        vertical-align: top;\n",
       "    }\n",
       "\n",
       "    .dataframe thead th {\n",
       "        text-align: right;\n",
       "    }\n",
       "</style>\n",
       "<table border=\"1\" class=\"dataframe\">\n",
       "  <thead>\n",
       "    <tr style=\"text-align: right;\">\n",
       "      <th></th>\n",
       "      <th>상호명_소문자</th>\n",
       "      <th>브랜드명</th>\n",
       "    </tr>\n",
       "  </thead>\n",
       "  <tbody>\n",
       "    <tr>\n",
       "      <th>1104</th>\n",
       "      <td>스타벅스</td>\n",
       "      <td>스타벅스</td>\n",
       "    </tr>\n",
       "    <tr>\n",
       "      <th>1675</th>\n",
       "      <td>이디야커피</td>\n",
       "      <td>이디야</td>\n",
       "    </tr>\n",
       "    <tr>\n",
       "      <th>2023</th>\n",
       "      <td>스타벅스종로3가점</td>\n",
       "      <td>스타벅스</td>\n",
       "    </tr>\n",
       "    <tr>\n",
       "      <th>2770</th>\n",
       "      <td>스타벅스</td>\n",
       "      <td>스타벅스</td>\n",
       "    </tr>\n",
       "    <tr>\n",
       "      <th>2957</th>\n",
       "      <td>이디야커피</td>\n",
       "      <td>이디야</td>\n",
       "    </tr>\n",
       "  </tbody>\n",
       "</table>\n",
       "</div>"
      ],
      "text/plain": [
       "        상호명_소문자  브랜드명\n",
       "1104       스타벅스  스타벅스\n",
       "1675      이디야커피   이디야\n",
       "2023  스타벅스종로3가점  스타벅스\n",
       "2770       스타벅스  스타벅스\n",
       "2957      이디야커피   이디야"
      ]
     },
     "execution_count": 26,
     "metadata": {},
     "output_type": "execute_result"
    }
   ],
   "source": [
    "df_cafe.loc[df_cafe['상호명_소문자'].str.contains('스타벅스|starbucks'), '브랜드명'] = '스타벅스'\n",
    "df_cafe.loc[~df_cafe['상호명_소문자'].str.contains('스타벅스|starbucks'), '브랜드명'] = '이디야'\n",
    "df_cafe[['상호명_소문자', '브랜드명']].head()\n",
    "\n",
    "# 스타벅스를 제외한 데이터는 이디야이기 때문에 이디야로 브랜드명을 만듭니다.\n",
    "# df_cafe[\"브랜드명\"].fillna(\"이디야\")"
   ]
  },
  {
   "cell_type": "code",
   "execution_count": 27,
   "id": "155a26e8",
   "metadata": {
    "ExecuteTime": {
     "end_time": "2023-06-06T13:09:49.562375Z",
     "start_time": "2023-06-06T13:09:49.538442Z"
    }
   },
   "outputs": [
    {
     "data": {
      "text/html": [
       "<div>\n",
       "<style scoped>\n",
       "    .dataframe tbody tr th:only-of-type {\n",
       "        vertical-align: middle;\n",
       "    }\n",
       "\n",
       "    .dataframe tbody tr th {\n",
       "        vertical-align: top;\n",
       "    }\n",
       "\n",
       "    .dataframe thead th {\n",
       "        text-align: right;\n",
       "    }\n",
       "</style>\n",
       "<table border=\"1\" class=\"dataframe\">\n",
       "  <thead>\n",
       "    <tr style=\"text-align: right;\">\n",
       "      <th></th>\n",
       "      <th>상호명_소문자</th>\n",
       "      <th>브랜드명</th>\n",
       "    </tr>\n",
       "  </thead>\n",
       "  <tbody>\n",
       "    <tr>\n",
       "      <th>567090</th>\n",
       "      <td>스타벅스</td>\n",
       "      <td>스타벅스</td>\n",
       "    </tr>\n",
       "    <tr>\n",
       "      <th>567828</th>\n",
       "      <td>스타벅스</td>\n",
       "      <td>스타벅스</td>\n",
       "    </tr>\n",
       "    <tr>\n",
       "      <th>568636</th>\n",
       "      <td>이디야커피</td>\n",
       "      <td>이디야</td>\n",
       "    </tr>\n",
       "    <tr>\n",
       "      <th>570096</th>\n",
       "      <td>스타벅스</td>\n",
       "      <td>스타벅스</td>\n",
       "    </tr>\n",
       "    <tr>\n",
       "      <th>571052</th>\n",
       "      <td>스타벅스</td>\n",
       "      <td>스타벅스</td>\n",
       "    </tr>\n",
       "  </tbody>\n",
       "</table>\n",
       "</div>"
      ],
      "text/plain": [
       "       상호명_소문자  브랜드명\n",
       "567090    스타벅스  스타벅스\n",
       "567828    스타벅스  스타벅스\n",
       "568636   이디야커피   이디야\n",
       "570096    스타벅스  스타벅스\n",
       "571052    스타벅스  스타벅스"
      ]
     },
     "execution_count": 27,
     "metadata": {},
     "output_type": "execute_result"
    }
   ],
   "source": [
    "df_cafe[['상호명_소문자', '브랜드명']].tail()"
   ]
  },
  {
   "cell_type": "markdown",
   "id": "41f7b0ce",
   "metadata": {},
   "source": [
    "## 시각화"
   ]
  },
  {
   "cell_type": "markdown",
   "id": "37f69608",
   "metadata": {},
   "source": [
    "### 분류별 countplot 그리기"
   ]
  },
  {
   "cell_type": "code",
   "execution_count": 32,
   "id": "db3f8f4a",
   "metadata": {
    "ExecuteTime": {
     "end_time": "2023-06-06T13:11:47.239495Z",
     "start_time": "2023-06-06T13:11:47.217553Z"
    }
   },
   "outputs": [
    {
     "data": {
      "text/html": [
       "<div>\n",
       "<style scoped>\n",
       "    .dataframe tbody tr th:only-of-type {\n",
       "        vertical-align: middle;\n",
       "    }\n",
       "\n",
       "    .dataframe tbody tr th {\n",
       "        vertical-align: top;\n",
       "    }\n",
       "\n",
       "    .dataframe thead th {\n",
       "        text-align: right;\n",
       "    }\n",
       "</style>\n",
       "<table border=\"1\" class=\"dataframe\">\n",
       "  <thead>\n",
       "    <tr style=\"text-align: right;\">\n",
       "      <th></th>\n",
       "      <th>상권업종중분류명</th>\n",
       "    </tr>\n",
       "  </thead>\n",
       "  <tbody>\n",
       "    <tr>\n",
       "      <th>커피점/카페</th>\n",
       "      <td>1036</td>\n",
       "    </tr>\n",
       "    <tr>\n",
       "      <th>학원-어학</th>\n",
       "      <td>3</td>\n",
       "    </tr>\n",
       "    <tr>\n",
       "      <th>광고/인쇄</th>\n",
       "      <td>2</td>\n",
       "    </tr>\n",
       "    <tr>\n",
       "      <th>주유소/충전소</th>\n",
       "      <td>1</td>\n",
       "    </tr>\n",
       "    <tr>\n",
       "      <th>유흥주점</th>\n",
       "      <td>1</td>\n",
       "    </tr>\n",
       "    <tr>\n",
       "      <th>분양</th>\n",
       "      <td>1</td>\n",
       "    </tr>\n",
       "    <tr>\n",
       "      <th>주택수리</th>\n",
       "      <td>1</td>\n",
       "    </tr>\n",
       "    <tr>\n",
       "      <th>기타판매업</th>\n",
       "      <td>1</td>\n",
       "    </tr>\n",
       "    <tr>\n",
       "      <th>종합소매점</th>\n",
       "      <td>1</td>\n",
       "    </tr>\n",
       "    <tr>\n",
       "      <th>패스트푸드</th>\n",
       "      <td>1</td>\n",
       "    </tr>\n",
       "    <tr>\n",
       "      <th>운동/경기용품소매</th>\n",
       "      <td>1</td>\n",
       "    </tr>\n",
       "  </tbody>\n",
       "</table>\n",
       "</div>"
      ],
      "text/plain": [
       "           상권업종중분류명\n",
       "커피점/카페         1036\n",
       "학원-어학             3\n",
       "광고/인쇄             2\n",
       "주유소/충전소           1\n",
       "유흥주점              1\n",
       "분양                1\n",
       "주택수리              1\n",
       "기타판매업             1\n",
       "종합소매점             1\n",
       "패스트푸드             1\n",
       "운동/경기용품소매         1"
      ]
     },
     "execution_count": 32,
     "metadata": {},
     "output_type": "execute_result"
    }
   ],
   "source": [
    "df_cafe['상권업종중분류명'].value_counts().to_frame()"
   ]
  },
  {
   "cell_type": "code",
   "execution_count": 29,
   "id": "ad880141",
   "metadata": {
    "ExecuteTime": {
     "end_time": "2023-06-06T13:10:56.709823Z",
     "start_time": "2023-06-06T13:10:56.522156Z"
    }
   },
   "outputs": [
    {
     "data": {
      "image/png": "[encoded data removed]",
      "text/plain": [
       "<Figure size 640x480 with 1 Axes>"
      ]
     },
     "metadata": {},
     "output_type": "display_data"
    }
   ],
   "source": [
    "df_cafe['상권업종중분류명'].value_counts().plot.barh()\n",
    "plt.show()"
   ]
  },
  {
   "cell_type": "code",
   "execution_count": 33,
   "id": "547ba199",
   "metadata": {
    "ExecuteTime": {
     "end_time": "2023-06-06T13:12:41.907252Z",
     "start_time": "2023-06-06T13:12:41.889300Z"
    }
   },
   "outputs": [
    {
     "name": "stdout",
     "output_type": "stream",
     "text": [
      "(1049, 13)\n"
     ]
    },
    {
     "data": {
      "text/plain": [
       "(1036, 13)"
      ]
     },
     "execution_count": 33,
     "metadata": {},
     "output_type": "execute_result"
    }
   ],
   "source": [
    "print(df_cafe.shape)\n",
    "df_cafe = df_cafe[df_cafe['상권업종중분류명']=='커피점/카페'].copy()\n",
    "df_cafe.shape"
   ]
  },
  {
   "cell_type": "code",
   "execution_count": 34,
   "id": "b153175e",
   "metadata": {
    "ExecuteTime": {
     "end_time": "2023-06-06T13:13:06.645491Z",
     "start_time": "2023-06-06T13:13:06.618338Z"
    }
   },
   "outputs": [
    {
     "data": {
      "text/html": [
       "<div>\n",
       "<style scoped>\n",
       "    .dataframe tbody tr th:only-of-type {\n",
       "        vertical-align: middle;\n",
       "    }\n",
       "\n",
       "    .dataframe tbody tr th {\n",
       "        vertical-align: top;\n",
       "    }\n",
       "\n",
       "    .dataframe thead th {\n",
       "        text-align: right;\n",
       "    }\n",
       "</style>\n",
       "<table border=\"1\" class=\"dataframe\">\n",
       "  <thead>\n",
       "    <tr style=\"text-align: right;\">\n",
       "      <th></th>\n",
       "      <th>브랜드명</th>\n",
       "    </tr>\n",
       "  </thead>\n",
       "  <tbody>\n",
       "    <tr>\n",
       "      <th>이디야</th>\n",
       "      <td>532</td>\n",
       "    </tr>\n",
       "    <tr>\n",
       "      <th>스타벅스</th>\n",
       "      <td>504</td>\n",
       "    </tr>\n",
       "  </tbody>\n",
       "</table>\n",
       "</div>"
      ],
      "text/plain": [
       "      브랜드명\n",
       "이디야    532\n",
       "스타벅스   504"
      ]
     },
     "execution_count": 34,
     "metadata": {},
     "output_type": "execute_result"
    }
   ],
   "source": [
    "df_cafe['브랜드명'].value_counts().to_frame()"
   ]
  },
  {
   "cell_type": "code",
   "execution_count": 37,
   "id": "9a5fa18b",
   "metadata": {
    "ExecuteTime": {
     "end_time": "2023-06-06T13:17:27.410257Z",
     "start_time": "2023-06-06T13:17:27.265142Z"
    }
   },
   "outputs": [
    {
     "data": {
      "image/png": "[encoded data removed]",
      "text/plain": [
       "<Figure size 600x400 with 1 Axes>"
      ]
     },
     "metadata": {},
     "output_type": "display_data"
    }
   ],
   "source": [
    "fig = plt.figure(figsize=(6, 4))\n",
    "ax = fig.add_subplot(111)\n",
    "sns.countplot(data=df_cafe, x='브랜드명')\n",
    "plt.show()"
   ]
  },
  {
   "cell_type": "code",
   "execution_count": null,
   "id": "9e8c8580",
   "metadata": {},
   "outputs": [],
   "source": []
  },
  {
   "cell_type": "code",
   "execution_count": null,
   "id": "43739ea7",
   "metadata": {},
   "outputs": [],
   "source": []
  },
  {
   "cell_type": "code",
   "execution_count": null,
   "id": "31672704",
   "metadata": {},
   "outputs": [],
   "source": []
  },
  {
   "cell_type": "code",
   "execution_count": null,
   "id": "7fe0c70e",
   "metadata": {},
   "outputs": [],
   "source": []
  }
 ],
 "metadata": {
  "hide_input": false,
  "kernelspec": {
   "display_name": "Python 3 (ipykernel)",
   "language": "python",
   "name": "python3"
  },
  "language_info": {
   "codemirror_mode": {
    "name": "ipython",
    "version": 3
   },
   "file_extension": ".py",
   "mimetype": "text/x-python",
   "name": "python",
   "nbconvert_exporter": "python",
   "pygments_lexer": "ipython3",
   "version": "3.9.13"
  },
  "toc": {
   "base_numbering": 1,
   "nav_menu": {},
   "number_sections": false,
   "sideBar": true,
   "skip_h1_title": true,
   "title_cell": "Table of Contents",
   "title_sidebar": "Contents",
   "toc_cell": false,
   "toc_position": {
    "height": "calc(100% - 180px)",
    "left": "10px",
    "top": "150px",
    "width": "284px"
   },
   "toc_section_display": true,
   "toc_window_display": true
  }
 },
 "nbformat": 4,
 "nbformat_minor": 5
}
