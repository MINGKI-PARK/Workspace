{
 "cells": [
  {
   "cell_type": "markdown",
   "metadata": {
    "id": "9apiyNE20qIk"
   },
   "source": [
    "## Kaggle Survey 소개\n",
    "- Kaggle이라는 Data Science Community가 있습니다. Kaggle에서는 매년 Kaggle 사용자들을 중심으로 설문조사를 시행합니다. 해당 설문조사 결과는 전세계에 뛰어난 Data Scientist들이 어떻게 일하고 어떤 것들을 공부하고 있는지 알 수 있는 좋은 자료입니다.\n",
    "\n",
    "- 이번에 사용하는 데이터셋은 2021 Kaggle Machine Learning Survey 데이터셋을 사용 활동하는 Kaggler들에 대해 살펴보려고 합니다."
   ]
  },
  {
   "cell_type": "markdown",
   "metadata": {
    "id": "W3ZWNPF20qIo"
   },
   "source": [
    "### 0. 데이터 소개\n",
    " \n",
    "- 데이터의 첫번째 Row에는 각 질문이 어떤 것이었는지 대한 내용이 적혀 있습니다.\n",
    "\n",
    "- 해당 데이터가 어떻게 수집되었는지, 활용하려면 어떻게 해야하는지 관심 있는 분들은 해당 데이터셋을 다운로드 하면 supplementary_data 폴더에서 해당 내용을 활용할 수 있습니다.\n",
    "\n",
    "- 아래 링크에서 데이터를 다운로드 받아봅시다. 해당 데이터셋을 받기 위해서는 Kaggle에 회원가입이 되어있어야 하며, 대회 규정에 대해 동의하여야 합니다.\n",
    "\n",
    "Source : https://www.kaggle.com/c/kaggle-survey-2021/data"
   ]
  },
  {
   "cell_type": "markdown",
   "metadata": {
    "id": "7cNsxgXVmm0M"
   },
   "source": [
    "### 1. 라이브러리 및 데이터 불러오기"
   ]
  },
  {
   "cell_type": "code",
   "execution_count": 1,
   "metadata": {
    "ExecuteTime": {
     "end_time": "2023-06-29T12:06:55.622401Z",
     "start_time": "2023-06-29T12:06:51.435652Z"
    },
    "id": "yEUiebcx0qIq"
   },
   "outputs": [],
   "source": [
    "import numpy as np\n",
    "import pandas as pd\n",
    "import matplotlib.pyplot as plt \n",
    "import seaborn as sns \n",
    "\n",
    "# 커널을 구성하다보면 에러는 아니지만, 빨간색 네모 박스 warning이 뜨는 경우가 많다. \n",
    "# 그런 보기 싫은 부분들을 제거해주겠다.\n",
    "import warnings\n",
    "warnings.filterwarnings('ignore')\n",
    "\n",
    "# notebook을 실행한 브라우저에서 바로 그림을 볼 수 있게 해주는 것\n",
    "# %matplotlib inline\n",
    "\n",
    "# os 패키지를 통해 현재 디렉토리 위치를 변경하고, read_csv를 더 편리하게 할 수 있음\n",
    "import os\n",
    "os.getcwd() # 현재 디렉토리 파악\n",
    "# os.chdir(r\"______\") # 불러오고 싶은 파일이 위치한 주소를 ___에 입력\n",
    "\n",
    "# 다른 노트북 작성할 때도 이 셀만 떼서 사용 가능하다.\n",
    "import platform                \n",
    "\n",
    "# 웬만하면 해주는 것이 좋다.\n",
    "from matplotlib import font_manager, rc\n",
    "plt.rcParams['axes.unicode_minus'] = False\n",
    "\n",
    "if platform.system() == 'Darwin': #맥os 사용자의 경우에\n",
    "    plt.style.use('seaborn-darkgrid') \n",
    "    rc('font', family = 'AppleGothic')\n",
    "    \n",
    "elif platform.system() == 'Windows':#윈도우 사용자의 경우에\n",
    "    path = 'c:/Windows/Fonts/malgun.ttf'\n",
    "    font_name = font_manager.FontProperties(fname=path).get_name()\n",
    "    plt.style.use('seaborn-darkgrid') # https://python-graph-gallery.com/199-matplotlib-style-sheets/\n",
    "    rc('font', family=font_name)\n",
    "\n",
    "# tqdm\n",
    "from tqdm.notebook import tqdm"
   ]
  },
  {
   "cell_type": "code",
   "execution_count": 2,
   "metadata": {
    "ExecuteTime": {
     "end_time": "2023-06-29T12:06:57.068130Z",
     "start_time": "2023-06-29T12:06:55.628814Z"
    },
    "id": "DRCsZ6CBEBM5"
   },
   "outputs": [
    {
     "data": {
      "text/plain": [
       "(25974, 369)"
      ]
     },
     "execution_count": 2,
     "metadata": {},
     "output_type": "execute_result"
    }
   ],
   "source": [
    "# 모든 실습 문제의 데이터 경로의 시작은 Colab Notebook/data로 통일합니다.\n",
    "# 데이터 경로를 문제의 세팅대로 적고, kaggle_survey_2021_responese.csv 파일을 불러옵니다.\n",
    "df = pd.read_csv('c:/reposit/data/kaggle-survey-2021/kaggle_survey_2021_responses.csv')\n",
    "df.shape"
   ]
  },
  {
   "cell_type": "code",
   "execution_count": 3,
   "metadata": {
    "ExecuteTime": {
     "end_time": "2023-06-29T12:06:57.122394Z",
     "start_time": "2023-06-29T12:06:57.072903Z"
    }
   },
   "outputs": [
    {
     "data": {
      "text/html": [
       "<div>\n",
       "<style scoped>\n",
       "    .dataframe tbody tr th:only-of-type {\n",
       "        vertical-align: middle;\n",
       "    }\n",
       "\n",
       "    .dataframe tbody tr th {\n",
       "        vertical-align: top;\n",
       "    }\n",
       "\n",
       "    .dataframe thead th {\n",
       "        text-align: right;\n",
       "    }\n",
       "</style>\n",
       "<table border=\"1\" class=\"dataframe\">\n",
       "  <thead>\n",
       "    <tr style=\"text-align: right;\">\n",
       "      <th></th>\n",
       "      <th>Time from Start to Finish (seconds)</th>\n",
       "      <th>Q1</th>\n",
       "      <th>Q2</th>\n",
       "      <th>Q3</th>\n",
       "      <th>Q4</th>\n",
       "      <th>Q5</th>\n",
       "      <th>Q6</th>\n",
       "      <th>Q7_Part_1</th>\n",
       "      <th>Q7_Part_2</th>\n",
       "      <th>Q7_Part_3</th>\n",
       "      <th>...</th>\n",
       "      <th>Q38_B_Part_3</th>\n",
       "      <th>Q38_B_Part_4</th>\n",
       "      <th>Q38_B_Part_5</th>\n",
       "      <th>Q38_B_Part_6</th>\n",
       "      <th>Q38_B_Part_7</th>\n",
       "      <th>Q38_B_Part_8</th>\n",
       "      <th>Q38_B_Part_9</th>\n",
       "      <th>Q38_B_Part_10</th>\n",
       "      <th>Q38_B_Part_11</th>\n",
       "      <th>Q38_B_OTHER</th>\n",
       "    </tr>\n",
       "  </thead>\n",
       "  <tbody>\n",
       "    <tr>\n",
       "      <th>0</th>\n",
       "      <td>Duration (in seconds)</td>\n",
       "      <td>What is your age (# years)?</td>\n",
       "      <td>What is your gender? - Selected Choice</td>\n",
       "      <td>In which country do you currently reside?</td>\n",
       "      <td>What is the highest level of formal education ...</td>\n",
       "      <td>Select the title most similar to your current ...</td>\n",
       "      <td>For how many years have you been writing code ...</td>\n",
       "      <td>What programming languages do you use on a reg...</td>\n",
       "      <td>What programming languages do you use on a reg...</td>\n",
       "      <td>What programming languages do you use on a reg...</td>\n",
       "      <td>...</td>\n",
       "      <td>In the next 2 years, do you hope to become mor...</td>\n",
       "      <td>In the next 2 years, do you hope to become mor...</td>\n",
       "      <td>In the next 2 years, do you hope to become mor...</td>\n",
       "      <td>In the next 2 years, do you hope to become mor...</td>\n",
       "      <td>In the next 2 years, do you hope to become mor...</td>\n",
       "      <td>In the next 2 years, do you hope to become mor...</td>\n",
       "      <td>In the next 2 years, do you hope to become mor...</td>\n",
       "      <td>In the next 2 years, do you hope to become mor...</td>\n",
       "      <td>In the next 2 years, do you hope to become mor...</td>\n",
       "      <td>In the next 2 years, do you hope to become mor...</td>\n",
       "    </tr>\n",
       "    <tr>\n",
       "      <th>1</th>\n",
       "      <td>910</td>\n",
       "      <td>50-54</td>\n",
       "      <td>Man</td>\n",
       "      <td>India</td>\n",
       "      <td>Bachelor’s degree</td>\n",
       "      <td>Other</td>\n",
       "      <td>5-10 years</td>\n",
       "      <td>Python</td>\n",
       "      <td>R</td>\n",
       "      <td>NaN</td>\n",
       "      <td>...</td>\n",
       "      <td>NaN</td>\n",
       "      <td>NaN</td>\n",
       "      <td>NaN</td>\n",
       "      <td>NaN</td>\n",
       "      <td>NaN</td>\n",
       "      <td>NaN</td>\n",
       "      <td>NaN</td>\n",
       "      <td>NaN</td>\n",
       "      <td>NaN</td>\n",
       "      <td>NaN</td>\n",
       "    </tr>\n",
       "    <tr>\n",
       "      <th>2</th>\n",
       "      <td>784</td>\n",
       "      <td>50-54</td>\n",
       "      <td>Man</td>\n",
       "      <td>Indonesia</td>\n",
       "      <td>Master’s degree</td>\n",
       "      <td>Program/Project Manager</td>\n",
       "      <td>20+ years</td>\n",
       "      <td>NaN</td>\n",
       "      <td>NaN</td>\n",
       "      <td>SQL</td>\n",
       "      <td>...</td>\n",
       "      <td>NaN</td>\n",
       "      <td>NaN</td>\n",
       "      <td>NaN</td>\n",
       "      <td>NaN</td>\n",
       "      <td>NaN</td>\n",
       "      <td>NaN</td>\n",
       "      <td>NaN</td>\n",
       "      <td>NaN</td>\n",
       "      <td>None</td>\n",
       "      <td>NaN</td>\n",
       "    </tr>\n",
       "  </tbody>\n",
       "</table>\n",
       "<p>3 rows × 369 columns</p>\n",
       "</div>"
      ],
      "text/plain": [
       "  Time from Start to Finish (seconds)                           Q1  \\\n",
       "0               Duration (in seconds)  What is your age (# years)?   \n",
       "1                                 910                        50-54   \n",
       "2                                 784                        50-54   \n",
       "\n",
       "                                       Q2  \\\n",
       "0  What is your gender? - Selected Choice   \n",
       "1                                     Man   \n",
       "2                                     Man   \n",
       "\n",
       "                                          Q3  \\\n",
       "0  In which country do you currently reside?   \n",
       "1                                      India   \n",
       "2                                  Indonesia   \n",
       "\n",
       "                                                  Q4  \\\n",
       "0  What is the highest level of formal education ...   \n",
       "1                                  Bachelor’s degree   \n",
       "2                                    Master’s degree   \n",
       "\n",
       "                                                  Q5  \\\n",
       "0  Select the title most similar to your current ...   \n",
       "1                                              Other   \n",
       "2                            Program/Project Manager   \n",
       "\n",
       "                                                  Q6  \\\n",
       "0  For how many years have you been writing code ...   \n",
       "1                                         5-10 years   \n",
       "2                                          20+ years   \n",
       "\n",
       "                                           Q7_Part_1  \\\n",
       "0  What programming languages do you use on a reg...   \n",
       "1                                             Python   \n",
       "2                                                NaN   \n",
       "\n",
       "                                           Q7_Part_2  \\\n",
       "0  What programming languages do you use on a reg...   \n",
       "1                                                  R   \n",
       "2                                                NaN   \n",
       "\n",
       "                                           Q7_Part_3  ...  \\\n",
       "0  What programming languages do you use on a reg...  ...   \n",
       "1                                                NaN  ...   \n",
       "2                                                SQL  ...   \n",
       "\n",
       "                                        Q38_B_Part_3  \\\n",
       "0  In the next 2 years, do you hope to become mor...   \n",
       "1                                                NaN   \n",
       "2                                                NaN   \n",
       "\n",
       "                                        Q38_B_Part_4  \\\n",
       "0  In the next 2 years, do you hope to become mor...   \n",
       "1                                                NaN   \n",
       "2                                                NaN   \n",
       "\n",
       "                                        Q38_B_Part_5  \\\n",
       "0  In the next 2 years, do you hope to become mor...   \n",
       "1                                                NaN   \n",
       "2                                                NaN   \n",
       "\n",
       "                                        Q38_B_Part_6  \\\n",
       "0  In the next 2 years, do you hope to become mor...   \n",
       "1                                                NaN   \n",
       "2                                                NaN   \n",
       "\n",
       "                                        Q38_B_Part_7  \\\n",
       "0  In the next 2 years, do you hope to become mor...   \n",
       "1                                                NaN   \n",
       "2                                                NaN   \n",
       "\n",
       "                                        Q38_B_Part_8  \\\n",
       "0  In the next 2 years, do you hope to become mor...   \n",
       "1                                                NaN   \n",
       "2                                                NaN   \n",
       "\n",
       "                                        Q38_B_Part_9  \\\n",
       "0  In the next 2 years, do you hope to become mor...   \n",
       "1                                                NaN   \n",
       "2                                                NaN   \n",
       "\n",
       "                                       Q38_B_Part_10  \\\n",
       "0  In the next 2 years, do you hope to become mor...   \n",
       "1                                                NaN   \n",
       "2                                                NaN   \n",
       "\n",
       "                                       Q38_B_Part_11  \\\n",
       "0  In the next 2 years, do you hope to become mor...   \n",
       "1                                                NaN   \n",
       "2                                               None   \n",
       "\n",
       "                                         Q38_B_OTHER  \n",
       "0  In the next 2 years, do you hope to become mor...  \n",
       "1                                                NaN  \n",
       "2                                                NaN  \n",
       "\n",
       "[3 rows x 369 columns]"
      ]
     },
     "execution_count": 3,
     "metadata": {},
     "output_type": "execute_result"
    }
   ],
   "source": [
    "df.head(3)"
   ]
  },
  {
   "cell_type": "markdown",
   "metadata": {
    "id": "cupV8lpw0qIr"
   },
   "source": [
    "### 2. 데이터 전처리"
   ]
  },
  {
   "cell_type": "code",
   "execution_count": 4,
   "metadata": {
    "ExecuteTime": {
     "end_time": "2023-06-29T12:06:57.258388Z",
     "start_time": "2023-06-29T12:06:57.131645Z"
    },
    "id": "rrtfD32hD-yz"
   },
   "outputs": [
    {
     "name": "stdout",
     "output_type": "stream",
     "text": [
      "<class 'pandas.core.frame.DataFrame'>\n",
      "RangeIndex: 25974 entries, 0 to 25973\n",
      "Columns: 369 entries, Time from Start to Finish (seconds) to Q38_B_OTHER\n",
      "dtypes: object(369)\n",
      "memory usage: 73.1+ MB\n"
     ]
    }
   ],
   "source": [
    "# 불러온 dataframe의 정보를 요약 정보를 확인합니다.\n",
    "df.info()"
   ]
  },
  {
   "cell_type": "code",
   "execution_count": 5,
   "metadata": {
    "ExecuteTime": {
     "end_time": "2023-06-29T12:06:57.285586Z",
     "start_time": "2023-06-29T12:06:57.265375Z"
    }
   },
   "outputs": [
    {
     "data": {
      "text/plain": [
       "Index(['Time from Start to Finish (seconds)', 'Q1', 'Q2', 'Q3', 'Q4', 'Q5',\n",
       "       'Q6', 'Q7_Part_1', 'Q7_Part_2', 'Q7_Part_3',\n",
       "       ...\n",
       "       'Q38_B_Part_3', 'Q38_B_Part_4', 'Q38_B_Part_5', 'Q38_B_Part_6',\n",
       "       'Q38_B_Part_7', 'Q38_B_Part_8', 'Q38_B_Part_9', 'Q38_B_Part_10',\n",
       "       'Q38_B_Part_11', 'Q38_B_OTHER'],\n",
       "      dtype='object', length=369)"
      ]
     },
     "execution_count": 5,
     "metadata": {},
     "output_type": "execute_result"
    }
   ],
   "source": [
    "df.columns"
   ]
  },
  {
   "cell_type": "code",
   "execution_count": 6,
   "metadata": {
    "ExecuteTime": {
     "end_time": "2023-06-29T12:06:57.333306Z",
     "start_time": "2023-06-29T12:06:57.296191Z"
    }
   },
   "outputs": [
    {
     "name": "stdout",
     "output_type": "stream",
     "text": [
      "Time from Start to Finish (seconds)\n",
      "Q1\n",
      "Q2\n",
      "Q3\n",
      "Q4\n",
      "Q5\n",
      "Q6\n",
      "Q7_Part_1\n",
      "Q7_Part_2\n",
      "Q7_Part_3\n",
      "Q7_Part_4\n",
      "Q7_Part_5\n",
      "Q7_Part_6\n",
      "Q7_Part_7\n",
      "Q7_Part_8\n",
      "Q7_Part_9\n",
      "Q7_Part_10\n",
      "Q7_Part_11\n",
      "Q7_Part_12\n",
      "Q7_OTHER\n",
      "Q8\n",
      "Q9_Part_1\n",
      "Q9_Part_2\n",
      "Q9_Part_3\n",
      "Q9_Part_4\n",
      "Q9_Part_5\n",
      "Q9_Part_6\n",
      "Q9_Part_7\n",
      "Q9_Part_8\n",
      "Q9_Part_9\n",
      "Q9_Part_10\n",
      "Q9_Part_11\n",
      "Q9_Part_12\n",
      "Q9_OTHER\n",
      "Q10_Part_1\n",
      "Q10_Part_2\n",
      "Q10_Part_3\n",
      "Q10_Part_4\n",
      "Q10_Part_5\n",
      "Q10_Part_6\n",
      "Q10_Part_7\n",
      "Q10_Part_8\n",
      "Q10_Part_9\n",
      "Q10_Part_10\n",
      "Q10_Part_11\n",
      "Q10_Part_12\n",
      "Q10_Part_13\n",
      "Q10_Part_14\n",
      "Q10_Part_15\n",
      "Q10_Part_16\n",
      "Q10_OTHER\n",
      "Q11\n",
      "Q12_Part_1\n",
      "Q12_Part_2\n",
      "Q12_Part_3\n",
      "Q12_Part_4\n",
      "Q12_Part_5\n",
      "Q12_OTHER\n",
      "Q13\n",
      "Q14_Part_1\n",
      "Q14_Part_2\n",
      "Q14_Part_3\n",
      "Q14_Part_4\n",
      "Q14_Part_5\n",
      "Q14_Part_6\n",
      "Q14_Part_7\n",
      "Q14_Part_8\n",
      "Q14_Part_9\n",
      "Q14_Part_10\n",
      "Q14_Part_11\n",
      "Q14_OTHER\n",
      "Q15\n",
      "Q16_Part_1\n",
      "Q16_Part_2\n",
      "Q16_Part_3\n",
      "Q16_Part_4\n",
      "Q16_Part_5\n",
      "Q16_Part_6\n",
      "Q16_Part_7\n",
      "Q16_Part_8\n",
      "Q16_Part_9\n",
      "Q16_Part_10\n",
      "Q16_Part_11\n",
      "Q16_Part_12\n",
      "Q16_Part_13\n",
      "Q16_Part_14\n",
      "Q16_Part_15\n",
      "Q16_Part_16\n",
      "Q16_Part_17\n",
      "Q16_OTHER\n",
      "Q17_Part_1\n",
      "Q17_Part_2\n",
      "Q17_Part_3\n",
      "Q17_Part_4\n",
      "Q17_Part_5\n",
      "Q17_Part_6\n",
      "Q17_Part_7\n",
      "Q17_Part_8\n",
      "Q17_Part_9\n",
      "Q17_Part_10\n",
      "Q17_Part_11\n",
      "Q17_OTHER\n",
      "Q18_Part_1\n",
      "Q18_Part_2\n",
      "Q18_Part_3\n",
      "Q18_Part_4\n",
      "Q18_Part_5\n",
      "Q18_Part_6\n",
      "Q18_OTHER\n",
      "Q19_Part_1\n",
      "Q19_Part_2\n",
      "Q19_Part_3\n",
      "Q19_Part_4\n",
      "Q19_Part_5\n",
      "Q19_OTHER\n",
      "Q20\n",
      "Q21\n",
      "Q22\n",
      "Q23\n",
      "Q24_Part_1\n",
      "Q24_Part_2\n",
      "Q24_Part_3\n",
      "Q24_Part_4\n",
      "Q24_Part_5\n",
      "Q24_Part_6\n",
      "Q24_Part_7\n",
      "Q24_OTHER\n",
      "Q25\n",
      "Q26\n",
      "Q27_A_Part_1\n",
      "Q27_A_Part_2\n",
      "Q27_A_Part_3\n",
      "Q27_A_Part_4\n",
      "Q27_A_Part_5\n",
      "Q27_A_Part_6\n",
      "Q27_A_Part_7\n",
      "Q27_A_Part_8\n",
      "Q27_A_Part_9\n",
      "Q27_A_Part_10\n",
      "Q27_A_Part_11\n",
      "Q27_A_OTHER\n",
      "Q28\n",
      "Q29_A_Part_1\n",
      "Q29_A_Part_2\n",
      "Q29_A_Part_3\n",
      "Q29_A_Part_4\n",
      "Q29_A_OTHER\n",
      "Q30_A_Part_1\n",
      "Q30_A_Part_2\n",
      "Q30_A_Part_3\n",
      "Q30_A_Part_4\n",
      "Q30_A_Part_5\n",
      "Q30_A_Part_6\n",
      "Q30_A_Part_7\n",
      "Q30_A_OTHER\n",
      "Q31_A_Part_1\n",
      "Q31_A_Part_2\n",
      "Q31_A_Part_3\n",
      "Q31_A_Part_4\n",
      "Q31_A_Part_5\n",
      "Q31_A_Part_6\n",
      "Q31_A_Part_7\n",
      "Q31_A_Part_8\n",
      "Q31_A_Part_9\n",
      "Q31_A_OTHER\n",
      "Q32_A_Part_1\n",
      "Q32_A_Part_2\n",
      "Q32_A_Part_3\n",
      "Q32_A_Part_4\n",
      "Q32_A_Part_5\n",
      "Q32_A_Part_6\n",
      "Q32_A_Part_7\n",
      "Q32_A_Part_8\n",
      "Q32_A_Part_9\n",
      "Q32_A_Part_10\n",
      "Q32_A_Part_11\n",
      "Q32_A_Part_12\n",
      "Q32_A_Part_13\n",
      "Q32_A_Part_14\n",
      "Q32_A_Part_15\n",
      "Q32_A_Part_16\n",
      "Q32_A_Part_17\n",
      "Q32_A_Part_18\n",
      "Q32_A_Part_19\n",
      "Q32_A_Part_20\n",
      "Q32_A_OTHER\n",
      "Q33\n",
      "Q34_A_Part_1\n",
      "Q34_A_Part_2\n",
      "Q34_A_Part_3\n",
      "Q34_A_Part_4\n",
      "Q34_A_Part_5\n",
      "Q34_A_Part_6\n",
      "Q34_A_Part_7\n",
      "Q34_A_Part_8\n",
      "Q34_A_Part_9\n",
      "Q34_A_Part_10\n",
      "Q34_A_Part_11\n",
      "Q34_A_Part_12\n",
      "Q34_A_Part_13\n",
      "Q34_A_Part_14\n",
      "Q34_A_Part_15\n",
      "Q34_A_Part_16\n",
      "Q34_A_OTHER\n",
      "Q35\n",
      "Q36_A_Part_1\n",
      "Q36_A_Part_2\n",
      "Q36_A_Part_3\n",
      "Q36_A_Part_4\n",
      "Q36_A_Part_5\n",
      "Q36_A_Part_6\n",
      "Q36_A_Part_7\n",
      "Q36_A_OTHER\n",
      "Q37_A_Part_1\n",
      "Q37_A_Part_2\n",
      "Q37_A_Part_3\n",
      "Q37_A_Part_4\n",
      "Q37_A_Part_5\n",
      "Q37_A_Part_6\n",
      "Q37_A_Part_7\n",
      "Q37_A_OTHER\n",
      "Q38_A_Part_1\n",
      "Q38_A_Part_2\n",
      "Q38_A_Part_3\n",
      "Q38_A_Part_4\n",
      "Q38_A_Part_5\n",
      "Q38_A_Part_6\n",
      "Q38_A_Part_7\n",
      "Q38_A_Part_8\n",
      "Q38_A_Part_9\n",
      "Q38_A_Part_10\n",
      "Q38_A_Part_11\n",
      "Q38_A_OTHER\n",
      "Q39_Part_1\n",
      "Q39_Part_2\n",
      "Q39_Part_3\n",
      "Q39_Part_4\n",
      "Q39_Part_5\n",
      "Q39_Part_6\n",
      "Q39_Part_7\n",
      "Q39_Part_8\n",
      "Q39_Part_9\n",
      "Q39_OTHER\n",
      "Q40_Part_1\n",
      "Q40_Part_2\n",
      "Q40_Part_3\n",
      "Q40_Part_4\n",
      "Q40_Part_5\n",
      "Q40_Part_6\n",
      "Q40_Part_7\n",
      "Q40_Part_8\n",
      "Q40_Part_9\n",
      "Q40_Part_10\n",
      "Q40_Part_11\n",
      "Q40_OTHER\n",
      "Q41\n",
      "Q42_Part_1\n",
      "Q42_Part_2\n",
      "Q42_Part_3\n",
      "Q42_Part_4\n",
      "Q42_Part_5\n",
      "Q42_Part_6\n",
      "Q42_Part_7\n",
      "Q42_Part_8\n",
      "Q42_Part_9\n",
      "Q42_Part_10\n",
      "Q42_Part_11\n",
      "Q42_OTHER\n",
      "Q27_B_Part_1\n",
      "Q27_B_Part_2\n",
      "Q27_B_Part_3\n",
      "Q27_B_Part_4\n",
      "Q27_B_Part_5\n",
      "Q27_B_Part_6\n",
      "Q27_B_Part_7\n",
      "Q27_B_Part_8\n",
      "Q27_B_Part_9\n",
      "Q27_B_Part_10\n",
      "Q27_B_Part_11\n",
      "Q27_B_OTHER\n",
      "Q29_B_Part_1\n",
      "Q29_B_Part_2\n",
      "Q29_B_Part_3\n",
      "Q29_B_Part_4\n",
      "Q29_B_OTHER\n",
      "Q30_B_Part_1\n",
      "Q30_B_Part_2\n",
      "Q30_B_Part_3\n",
      "Q30_B_Part_4\n",
      "Q30_B_Part_5\n",
      "Q30_B_Part_6\n",
      "Q30_B_Part_7\n",
      "Q30_B_OTHER\n",
      "Q31_B_Part_1\n",
      "Q31_B_Part_2\n",
      "Q31_B_Part_3\n",
      "Q31_B_Part_4\n",
      "Q31_B_Part_5\n",
      "Q31_B_Part_6\n",
      "Q31_B_Part_7\n",
      "Q31_B_Part_8\n",
      "Q31_B_Part_9\n",
      "Q31_B_OTHER\n",
      "Q32_B_Part_1\n",
      "Q32_B_Part_2\n",
      "Q32_B_Part_3\n",
      "Q32_B_Part_4\n",
      "Q32_B_Part_5\n",
      "Q32_B_Part_6\n",
      "Q32_B_Part_7\n",
      "Q32_B_Part_8\n",
      "Q32_B_Part_9\n",
      "Q32_B_Part_10\n",
      "Q32_B_Part_11\n",
      "Q32_B_Part_12\n",
      "Q32_B_Part_13\n",
      "Q32_B_Part_14\n",
      "Q32_B_Part_15\n",
      "Q32_B_Part_16\n",
      "Q32_B_Part_17\n",
      "Q32_B_Part_18\n",
      "Q32_B_Part_19\n",
      "Q32_B_Part_20\n",
      "Q32_B_OTHER\n",
      "Q34_B_Part_1\n",
      "Q34_B_Part_2\n",
      "Q34_B_Part_3\n",
      "Q34_B_Part_4\n",
      "Q34_B_Part_5\n",
      "Q34_B_Part_6\n",
      "Q34_B_Part_7\n",
      "Q34_B_Part_8\n",
      "Q34_B_Part_9\n",
      "Q34_B_Part_10\n",
      "Q34_B_Part_11\n",
      "Q34_B_Part_12\n",
      "Q34_B_Part_13\n",
      "Q34_B_Part_14\n",
      "Q34_B_Part_15\n",
      "Q34_B_Part_16\n",
      "Q34_B_OTHER\n",
      "Q36_B_Part_1\n",
      "Q36_B_Part_2\n",
      "Q36_B_Part_3\n",
      "Q36_B_Part_4\n",
      "Q36_B_Part_5\n",
      "Q36_B_Part_6\n",
      "Q36_B_Part_7\n",
      "Q36_B_OTHER\n",
      "Q37_B_Part_1\n",
      "Q37_B_Part_2\n",
      "Q37_B_Part_3\n",
      "Q37_B_Part_4\n",
      "Q37_B_Part_5\n",
      "Q37_B_Part_6\n",
      "Q37_B_Part_7\n",
      "Q37_B_OTHER\n",
      "Q38_B_Part_1\n",
      "Q38_B_Part_2\n",
      "Q38_B_Part_3\n",
      "Q38_B_Part_4\n",
      "Q38_B_Part_5\n",
      "Q38_B_Part_6\n",
      "Q38_B_Part_7\n",
      "Q38_B_Part_8\n",
      "Q38_B_Part_9\n",
      "Q38_B_Part_10\n",
      "Q38_B_Part_11\n",
      "Q38_B_OTHER\n"
     ]
    }
   ],
   "source": [
    "for i in df.columns:\n",
    "    print(i)"
   ]
  },
  {
   "cell_type": "code",
   "execution_count": 7,
   "metadata": {
    "ExecuteTime": {
     "end_time": "2023-06-29T12:06:57.583417Z",
     "start_time": "2023-06-29T12:06:57.342265Z"
    },
    "id": "Tf2QeYdKRAL7"
   },
   "outputs": [
    {
     "name": "stdout",
     "output_type": "stream",
     "text": [
      "<class 'pandas.core.frame.DataFrame'>\n",
      "RangeIndex: 25974 entries, 0 to 25973\n",
      "Data columns (total 15 columns):\n",
      " #   Column                               Non-Null Count  Dtype \n",
      "---  ------                               --------------  ----- \n",
      " 0   Time from Start to Finish (seconds)  25974 non-null  object\n",
      " 1   Q1                                   25974 non-null  object\n",
      " 2   Q2                                   25974 non-null  object\n",
      " 3   Q3                                   25974 non-null  object\n",
      " 4   Q4                                   25974 non-null  object\n",
      " 5   Q5                                   25974 non-null  object\n",
      " 6   Q6                                   25974 non-null  object\n",
      " 7   Q7_Part_1                            21861 non-null  object\n",
      " 8   Q7_Part_2                            5335 non-null   object\n",
      " 9   Q7_Part_3                            10757 non-null  object\n",
      " 10  Q7_Part_4                            4710 non-null   object\n",
      " 11  Q7_Part_5                            5536 non-null   object\n",
      " 12  Q7_Part_6                            4770 non-null   object\n",
      " 13  Q7_Part_7                            4333 non-null   object\n",
      " 14  Q7_Part_8                            306 non-null    object\n",
      "dtypes: object(15)\n",
      "memory usage: 3.0+ MB\n"
     ]
    }
   ],
   "source": [
    "## 함수를 작성해보세요.\n",
    "df.iloc[:, :15].info()"
   ]
  },
  {
   "cell_type": "code",
   "execution_count": 8,
   "metadata": {
    "ExecuteTime": {
     "end_time": "2023-06-29T12:06:57.629583Z",
     "start_time": "2023-06-29T12:06:57.590239Z"
    },
    "id": "SWLusfet0qIt"
   },
   "outputs": [
    {
     "data": {
      "text/html": [
       "<div>\n",
       "<style scoped>\n",
       "    .dataframe tbody tr th:only-of-type {\n",
       "        vertical-align: middle;\n",
       "    }\n",
       "\n",
       "    .dataframe tbody tr th {\n",
       "        vertical-align: top;\n",
       "    }\n",
       "\n",
       "    .dataframe thead th {\n",
       "        text-align: right;\n",
       "    }\n",
       "</style>\n",
       "<table border=\"1\" class=\"dataframe\">\n",
       "  <thead>\n",
       "    <tr style=\"text-align: right;\">\n",
       "      <th></th>\n",
       "      <th>Time from Start to Finish (seconds)</th>\n",
       "      <th>Q1</th>\n",
       "      <th>Q2</th>\n",
       "      <th>Q3</th>\n",
       "      <th>Q4</th>\n",
       "      <th>Q5</th>\n",
       "      <th>Q6</th>\n",
       "    </tr>\n",
       "  </thead>\n",
       "  <tbody>\n",
       "    <tr>\n",
       "      <th>0</th>\n",
       "      <td>Duration (in seconds)</td>\n",
       "      <td>What is your age (# years)?</td>\n",
       "      <td>What is your gender? - Selected Choice</td>\n",
       "      <td>In which country do you currently reside?</td>\n",
       "      <td>What is the highest level of formal education ...</td>\n",
       "      <td>Select the title most similar to your current ...</td>\n",
       "      <td>For how many years have you been writing code ...</td>\n",
       "    </tr>\n",
       "    <tr>\n",
       "      <th>1</th>\n",
       "      <td>910</td>\n",
       "      <td>50-54</td>\n",
       "      <td>Man</td>\n",
       "      <td>India</td>\n",
       "      <td>Bachelor’s degree</td>\n",
       "      <td>Other</td>\n",
       "      <td>5-10 years</td>\n",
       "    </tr>\n",
       "    <tr>\n",
       "      <th>2</th>\n",
       "      <td>784</td>\n",
       "      <td>50-54</td>\n",
       "      <td>Man</td>\n",
       "      <td>Indonesia</td>\n",
       "      <td>Master’s degree</td>\n",
       "      <td>Program/Project Manager</td>\n",
       "      <td>20+ years</td>\n",
       "    </tr>\n",
       "    <tr>\n",
       "      <th>3</th>\n",
       "      <td>924</td>\n",
       "      <td>22-24</td>\n",
       "      <td>Man</td>\n",
       "      <td>Pakistan</td>\n",
       "      <td>Master’s degree</td>\n",
       "      <td>Software Engineer</td>\n",
       "      <td>1-3 years</td>\n",
       "    </tr>\n",
       "    <tr>\n",
       "      <th>4</th>\n",
       "      <td>575</td>\n",
       "      <td>45-49</td>\n",
       "      <td>Man</td>\n",
       "      <td>Mexico</td>\n",
       "      <td>Doctoral degree</td>\n",
       "      <td>Research Scientist</td>\n",
       "      <td>20+ years</td>\n",
       "    </tr>\n",
       "  </tbody>\n",
       "</table>\n",
       "</div>"
      ],
      "text/plain": [
       "  Time from Start to Finish (seconds)                           Q1  \\\n",
       "0               Duration (in seconds)  What is your age (# years)?   \n",
       "1                                 910                        50-54   \n",
       "2                                 784                        50-54   \n",
       "3                                 924                        22-24   \n",
       "4                                 575                        45-49   \n",
       "\n",
       "                                       Q2  \\\n",
       "0  What is your gender? - Selected Choice   \n",
       "1                                     Man   \n",
       "2                                     Man   \n",
       "3                                     Man   \n",
       "4                                     Man   \n",
       "\n",
       "                                          Q3  \\\n",
       "0  In which country do you currently reside?   \n",
       "1                                      India   \n",
       "2                                  Indonesia   \n",
       "3                                   Pakistan   \n",
       "4                                     Mexico   \n",
       "\n",
       "                                                  Q4  \\\n",
       "0  What is the highest level of formal education ...   \n",
       "1                                  Bachelor’s degree   \n",
       "2                                    Master’s degree   \n",
       "3                                    Master’s degree   \n",
       "4                                    Doctoral degree   \n",
       "\n",
       "                                                  Q5  \\\n",
       "0  Select the title most similar to your current ...   \n",
       "1                                              Other   \n",
       "2                            Program/Project Manager   \n",
       "3                                  Software Engineer   \n",
       "4                                 Research Scientist   \n",
       "\n",
       "                                                  Q6  \n",
       "0  For how many years have you been writing code ...  \n",
       "1                                         5-10 years  \n",
       "2                                          20+ years  \n",
       "3                                          1-3 years  \n",
       "4                                          20+ years  "
      ]
     },
     "execution_count": 8,
     "metadata": {},
     "output_type": "execute_result"
    }
   ],
   "source": [
    "# 해당 데이터셋은 column이 너무 많아 전체적인 정보를 확인하기 힘듭니다.\n",
    "df.iloc[:, :7].head()"
   ]
  },
  {
   "cell_type": "markdown",
   "metadata": {
    "id": "6ria9cma0qIx"
   },
   "source": [
    "### 3. 한국사람 찾기"
   ]
  },
  {
   "cell_type": "code",
   "execution_count": 9,
   "metadata": {
    "ExecuteTime": {
     "end_time": "2023-06-29T12:06:57.674161Z",
     "start_time": "2023-06-29T12:06:57.637651Z"
    },
    "id": "sXb93NER0qIy"
   },
   "outputs": [
    {
     "data": {
      "text/plain": [
       "67"
      ]
     },
     "execution_count": 9,
     "metadata": {},
     "output_type": "execute_result"
    }
   ],
   "source": [
    "# 잘라온 데이터에서 한국은 어떤 텍스트로 표현이 되는지 찾아보세요.\n",
    "# df.Q3.value_counts()\n",
    "df.Q3.nunique()"
   ]
  },
  {
   "cell_type": "code",
   "execution_count": 10,
   "metadata": {
    "ExecuteTime": {
     "end_time": "2023-06-29T12:06:57.738925Z",
     "start_time": "2023-06-29T12:06:57.692236Z"
    }
   },
   "outputs": [
    {
     "data": {
      "text/plain": [
       "0    in which country do you currently reside?\n",
       "1                                        india\n",
       "2                                    indonesia\n",
       "Name: Q3_lower, dtype: object"
      ]
     },
     "execution_count": 10,
     "metadata": {},
     "output_type": "execute_result"
    }
   ],
   "source": [
    "# 소문자 변경\n",
    "df['Q3_lower'] = df.loc[:, 'Q3'].str.lower()\n",
    "df['Q3_lower'].head(3)"
   ]
  },
  {
   "cell_type": "code",
   "execution_count": 11,
   "metadata": {
    "ExecuteTime": {
     "end_time": "2023-06-29T12:06:57.891003Z",
     "start_time": "2023-06-29T12:06:57.744405Z"
    },
    "id": "kBi2dBqr0qIz"
   },
   "outputs": [
    {
     "data": {
      "text/plain": [
       "(359, 370)"
      ]
     },
     "execution_count": 11,
     "metadata": {},
     "output_type": "execute_result"
    }
   ],
   "source": [
    "# 한국 사람들을 불러와 봅시다\n",
    "df_korea = df[df['Q3_lower']=='south korea']\n",
    "df_korea.shape"
   ]
  },
  {
   "cell_type": "markdown",
   "metadata": {
    "id": "e6E-UYGQncYS"
   },
   "source": [
    "#### 성별에 대한 분석"
   ]
  },
  {
   "cell_type": "code",
   "execution_count": 12,
   "metadata": {
    "ExecuteTime": {
     "end_time": "2023-06-29T12:06:57.932449Z",
     "start_time": "2023-06-29T12:06:57.907166Z"
    },
    "id": "5Qz-n54aEDfj"
   },
   "outputs": [],
   "source": [
    "# 성별에 해당하는 column의 countplot을 그려보세요.\n"
   ]
  },
  {
   "cell_type": "code",
   "execution_count": 13,
   "metadata": {
    "ExecuteTime": {
     "end_time": "2023-06-29T12:06:57.996171Z",
     "start_time": "2023-06-29T12:06:57.947416Z"
    }
   },
   "outputs": [
    {
     "data": {
      "text/html": [
       "<div>\n",
       "<style scoped>\n",
       "    .dataframe tbody tr th:only-of-type {\n",
       "        vertical-align: middle;\n",
       "    }\n",
       "\n",
       "    .dataframe tbody tr th {\n",
       "        vertical-align: top;\n",
       "    }\n",
       "\n",
       "    .dataframe thead th {\n",
       "        text-align: right;\n",
       "    }\n",
       "</style>\n",
       "<table border=\"1\" class=\"dataframe\">\n",
       "  <thead>\n",
       "    <tr style=\"text-align: right;\">\n",
       "      <th></th>\n",
       "      <th>Q2</th>\n",
       "    </tr>\n",
       "  </thead>\n",
       "  <tbody>\n",
       "    <tr>\n",
       "      <th>Man</th>\n",
       "      <td>283</td>\n",
       "    </tr>\n",
       "    <tr>\n",
       "      <th>Woman</th>\n",
       "      <td>72</td>\n",
       "    </tr>\n",
       "    <tr>\n",
       "      <th>Prefer not to say</th>\n",
       "      <td>4</td>\n",
       "    </tr>\n",
       "  </tbody>\n",
       "</table>\n",
       "</div>"
      ],
      "text/plain": [
       "                    Q2\n",
       "Man                283\n",
       "Woman               72\n",
       "Prefer not to say    4"
      ]
     },
     "execution_count": 13,
     "metadata": {},
     "output_type": "execute_result"
    }
   ],
   "source": [
    "df_korea.Q2.value_counts().to_frame()"
   ]
  },
  {
   "cell_type": "code",
   "execution_count": 14,
   "metadata": {
    "ExecuteTime": {
     "end_time": "2023-06-29T12:06:58.329980Z",
     "start_time": "2023-06-29T12:06:58.008915Z"
    }
   },
   "outputs": [
    {
     "data": {
      "image/png": "[encoded data removed]",
      "text/plain": [
       "<Figure size 600x600 with 1 Axes>"
      ]
     },
     "metadata": {},
     "output_type": "display_data"
    }
   ],
   "source": [
    "plt.figure(figsize=(6, 6))\n",
    "sns.countplot(data=df_korea, x='Q2')\n",
    "plt.show()"
   ]
  },
  {
   "cell_type": "markdown",
   "metadata": {
    "id": "PKavo6WRneYX"
   },
   "source": [
    "#### 최종학력에 대한 분석"
   ]
  },
  {
   "cell_type": "code",
   "execution_count": 15,
   "metadata": {
    "ExecuteTime": {
     "end_time": "2023-06-29T12:06:58.408479Z",
     "start_time": "2023-06-29T12:06:58.337533Z"
    }
   },
   "outputs": [
    {
     "data": {
      "text/html": [
       "<div>\n",
       "<style scoped>\n",
       "    .dataframe tbody tr th:only-of-type {\n",
       "        vertical-align: middle;\n",
       "    }\n",
       "\n",
       "    .dataframe tbody tr th {\n",
       "        vertical-align: top;\n",
       "    }\n",
       "\n",
       "    .dataframe thead th {\n",
       "        text-align: right;\n",
       "    }\n",
       "</style>\n",
       "<table border=\"1\" class=\"dataframe\">\n",
       "  <thead>\n",
       "    <tr style=\"text-align: right;\">\n",
       "      <th></th>\n",
       "      <th>Time from Start to Finish (seconds)</th>\n",
       "      <th>Q1</th>\n",
       "      <th>Q2</th>\n",
       "      <th>Q3</th>\n",
       "      <th>Q4</th>\n",
       "      <th>Q5</th>\n",
       "      <th>Q6</th>\n",
       "      <th>Q7_Part_1</th>\n",
       "      <th>Q7_Part_2</th>\n",
       "      <th>Q7_Part_3</th>\n",
       "      <th>...</th>\n",
       "      <th>Q38_B_Part_4</th>\n",
       "      <th>Q38_B_Part_5</th>\n",
       "      <th>Q38_B_Part_6</th>\n",
       "      <th>Q38_B_Part_7</th>\n",
       "      <th>Q38_B_Part_8</th>\n",
       "      <th>Q38_B_Part_9</th>\n",
       "      <th>Q38_B_Part_10</th>\n",
       "      <th>Q38_B_Part_11</th>\n",
       "      <th>Q38_B_OTHER</th>\n",
       "      <th>Q3_lower</th>\n",
       "    </tr>\n",
       "  </thead>\n",
       "  <tbody>\n",
       "    <tr>\n",
       "      <th>1</th>\n",
       "      <td>910</td>\n",
       "      <td>50-54</td>\n",
       "      <td>Man</td>\n",
       "      <td>India</td>\n",
       "      <td>Bachelor’s degree</td>\n",
       "      <td>Other</td>\n",
       "      <td>5-10 years</td>\n",
       "      <td>Python</td>\n",
       "      <td>R</td>\n",
       "      <td>NaN</td>\n",
       "      <td>...</td>\n",
       "      <td>NaN</td>\n",
       "      <td>NaN</td>\n",
       "      <td>NaN</td>\n",
       "      <td>NaN</td>\n",
       "      <td>NaN</td>\n",
       "      <td>NaN</td>\n",
       "      <td>NaN</td>\n",
       "      <td>NaN</td>\n",
       "      <td>NaN</td>\n",
       "      <td>india</td>\n",
       "    </tr>\n",
       "    <tr>\n",
       "      <th>2</th>\n",
       "      <td>784</td>\n",
       "      <td>50-54</td>\n",
       "      <td>Man</td>\n",
       "      <td>Indonesia</td>\n",
       "      <td>Master’s degree</td>\n",
       "      <td>Program/Project Manager</td>\n",
       "      <td>20+ years</td>\n",
       "      <td>NaN</td>\n",
       "      <td>NaN</td>\n",
       "      <td>SQL</td>\n",
       "      <td>...</td>\n",
       "      <td>NaN</td>\n",
       "      <td>NaN</td>\n",
       "      <td>NaN</td>\n",
       "      <td>NaN</td>\n",
       "      <td>NaN</td>\n",
       "      <td>NaN</td>\n",
       "      <td>NaN</td>\n",
       "      <td>None</td>\n",
       "      <td>NaN</td>\n",
       "      <td>indonesia</td>\n",
       "    </tr>\n",
       "    <tr>\n",
       "      <th>3</th>\n",
       "      <td>924</td>\n",
       "      <td>22-24</td>\n",
       "      <td>Man</td>\n",
       "      <td>Pakistan</td>\n",
       "      <td>Master’s degree</td>\n",
       "      <td>Software Engineer</td>\n",
       "      <td>1-3 years</td>\n",
       "      <td>Python</td>\n",
       "      <td>NaN</td>\n",
       "      <td>NaN</td>\n",
       "      <td>...</td>\n",
       "      <td>NaN</td>\n",
       "      <td>TensorBoard</td>\n",
       "      <td>NaN</td>\n",
       "      <td>NaN</td>\n",
       "      <td>NaN</td>\n",
       "      <td>NaN</td>\n",
       "      <td>NaN</td>\n",
       "      <td>NaN</td>\n",
       "      <td>NaN</td>\n",
       "      <td>pakistan</td>\n",
       "    </tr>\n",
       "  </tbody>\n",
       "</table>\n",
       "<p>3 rows × 370 columns</p>\n",
       "</div>"
      ],
      "text/plain": [
       "  Time from Start to Finish (seconds)     Q1   Q2         Q3  \\\n",
       "1                                 910  50-54  Man      India   \n",
       "2                                 784  50-54  Man  Indonesia   \n",
       "3                                 924  22-24  Man   Pakistan   \n",
       "\n",
       "                  Q4                       Q5          Q6 Q7_Part_1 Q7_Part_2  \\\n",
       "1  Bachelor’s degree                    Other  5-10 years    Python         R   \n",
       "2    Master’s degree  Program/Project Manager   20+ years       NaN       NaN   \n",
       "3    Master’s degree        Software Engineer   1-3 years    Python       NaN   \n",
       "\n",
       "  Q7_Part_3  ... Q38_B_Part_4   Q38_B_Part_5 Q38_B_Part_6 Q38_B_Part_7  \\\n",
       "1       NaN  ...          NaN            NaN          NaN          NaN   \n",
       "2       SQL  ...          NaN            NaN          NaN          NaN   \n",
       "3       NaN  ...          NaN   TensorBoard           NaN          NaN   \n",
       "\n",
       "  Q38_B_Part_8 Q38_B_Part_9 Q38_B_Part_10 Q38_B_Part_11 Q38_B_OTHER   Q3_lower  \n",
       "1          NaN          NaN           NaN           NaN         NaN      india  \n",
       "2          NaN          NaN           NaN          None         NaN  indonesia  \n",
       "3          NaN          NaN           NaN           NaN         NaN   pakistan  \n",
       "\n",
       "[3 rows x 370 columns]"
      ]
     },
     "execution_count": 15,
     "metadata": {},
     "output_type": "execute_result"
    }
   ],
   "source": [
    "df[1:].head(3)"
   ]
  },
  {
   "cell_type": "code",
   "execution_count": 16,
   "metadata": {
    "ExecuteTime": {
     "end_time": "2023-06-29T12:06:58.640548Z",
     "start_time": "2023-06-29T12:06:58.415379Z"
    },
    "id": "w_T-BCbe0qI3"
   },
   "outputs": [
    {
     "data": {
      "image/png": "[encoded data removed]",
      "text/plain": [
       "<Figure size 800x600 with 1 Axes>"
      ]
     },
     "metadata": {},
     "output_type": "display_data"
    }
   ],
   "source": [
    "# 최종학력에 해당하는 column의 countplot을 그려보세요.\n",
    "plt.figure(figsize=(8, 6))\n",
    "sns.countplot(data=df[1:], y='Q4', palette='Set3')\n",
    "plt.show()"
   ]
  },
  {
   "cell_type": "markdown",
   "metadata": {
    "id": "ko2A7KZX0qJE"
   },
   "source": [
    "### 4. 각 나라별 학력 통계 계산하기\n",
    "\n",
    "- pivot table을 이용하여 나라별 통계를 계산해봅시다."
   ]
  },
  {
   "cell_type": "markdown",
   "metadata": {
    "id": "qASAE5ow0qJG"
   },
   "source": [
    "#### pivot table 만들기"
   ]
  },
  {
   "cell_type": "code",
   "execution_count": 17,
   "metadata": {
    "ExecuteTime": {
     "end_time": "2023-06-29T12:06:58.665641Z",
     "start_time": "2023-06-29T12:06:58.643756Z"
    }
   },
   "outputs": [
    {
     "data": {
      "text/html": [
       "<div>\n",
       "<style scoped>\n",
       "    .dataframe tbody tr th:only-of-type {\n",
       "        vertical-align: middle;\n",
       "    }\n",
       "\n",
       "    .dataframe tbody tr th {\n",
       "        vertical-align: top;\n",
       "    }\n",
       "\n",
       "    .dataframe thead th {\n",
       "        text-align: right;\n",
       "    }\n",
       "</style>\n",
       "<table border=\"1\" class=\"dataframe\">\n",
       "  <thead>\n",
       "    <tr style=\"text-align: right;\">\n",
       "      <th></th>\n",
       "      <th>Q3</th>\n",
       "      <th>Q4</th>\n",
       "    </tr>\n",
       "  </thead>\n",
       "  <tbody>\n",
       "    <tr>\n",
       "      <th>1</th>\n",
       "      <td>India</td>\n",
       "      <td>Bachelor’s degree</td>\n",
       "    </tr>\n",
       "    <tr>\n",
       "      <th>2</th>\n",
       "      <td>Indonesia</td>\n",
       "      <td>Master’s degree</td>\n",
       "    </tr>\n",
       "    <tr>\n",
       "      <th>3</th>\n",
       "      <td>Pakistan</td>\n",
       "      <td>Master’s degree</td>\n",
       "    </tr>\n",
       "  </tbody>\n",
       "</table>\n",
       "</div>"
      ],
      "text/plain": [
       "          Q3                 Q4\n",
       "1      India  Bachelor’s degree\n",
       "2  Indonesia    Master’s degree\n",
       "3   Pakistan    Master’s degree"
      ]
     },
     "execution_count": 17,
     "metadata": {},
     "output_type": "execute_result"
    }
   ],
   "source": [
    "df.loc[1:, ['Q3', 'Q4']].head(3)"
   ]
  },
  {
   "cell_type": "code",
   "execution_count": 18,
   "metadata": {
    "ExecuteTime": {
     "end_time": "2023-06-29T12:06:58.730646Z",
     "start_time": "2023-06-29T12:06:58.670244Z"
    },
    "id": "PdVYH6PV0qJG"
   },
   "outputs": [
    {
     "data": {
      "text/html": [
       "<div>\n",
       "<style scoped>\n",
       "    .dataframe tbody tr th:only-of-type {\n",
       "        vertical-align: middle;\n",
       "    }\n",
       "\n",
       "    .dataframe tbody tr th {\n",
       "        vertical-align: top;\n",
       "    }\n",
       "\n",
       "    .dataframe thead tr th {\n",
       "        text-align: left;\n",
       "    }\n",
       "\n",
       "    .dataframe thead tr:last-of-type th {\n",
       "        text-align: right;\n",
       "    }\n",
       "</style>\n",
       "<table border=\"1\" class=\"dataframe\">\n",
       "  <thead>\n",
       "    <tr>\n",
       "      <th></th>\n",
       "      <th colspan=\"7\" halign=\"left\">Q4</th>\n",
       "    </tr>\n",
       "    <tr>\n",
       "      <th>Q4</th>\n",
       "      <th>Bachelor’s degree</th>\n",
       "      <th>Doctoral degree</th>\n",
       "      <th>I prefer not to answer</th>\n",
       "      <th>Master’s degree</th>\n",
       "      <th>No formal education past high school</th>\n",
       "      <th>Professional doctorate</th>\n",
       "      <th>Some college/university study without earning a bachelor’s degree</th>\n",
       "    </tr>\n",
       "    <tr>\n",
       "      <th>Q3</th>\n",
       "      <th></th>\n",
       "      <th></th>\n",
       "      <th></th>\n",
       "      <th></th>\n",
       "      <th></th>\n",
       "      <th></th>\n",
       "      <th></th>\n",
       "    </tr>\n",
       "  </thead>\n",
       "  <tbody>\n",
       "    <tr>\n",
       "      <th>Algeria</th>\n",
       "      <td>3</td>\n",
       "      <td>12</td>\n",
       "      <td>0</td>\n",
       "      <td>24</td>\n",
       "      <td>1</td>\n",
       "      <td>2</td>\n",
       "      <td>2</td>\n",
       "    </tr>\n",
       "    <tr>\n",
       "      <th>Argentina</th>\n",
       "      <td>47</td>\n",
       "      <td>17</td>\n",
       "      <td>3</td>\n",
       "      <td>78</td>\n",
       "      <td>7</td>\n",
       "      <td>0</td>\n",
       "      <td>30</td>\n",
       "    </tr>\n",
       "    <tr>\n",
       "      <th>Australia</th>\n",
       "      <td>79</td>\n",
       "      <td>40</td>\n",
       "      <td>1</td>\n",
       "      <td>118</td>\n",
       "      <td>6</td>\n",
       "      <td>4</td>\n",
       "      <td>16</td>\n",
       "    </tr>\n",
       "    <tr>\n",
       "      <th>Austria</th>\n",
       "      <td>10</td>\n",
       "      <td>8</td>\n",
       "      <td>1</td>\n",
       "      <td>24</td>\n",
       "      <td>2</td>\n",
       "      <td>3</td>\n",
       "      <td>3</td>\n",
       "    </tr>\n",
       "    <tr>\n",
       "      <th>Bangladesh</th>\n",
       "      <td>172</td>\n",
       "      <td>14</td>\n",
       "      <td>7</td>\n",
       "      <td>88</td>\n",
       "      <td>4</td>\n",
       "      <td>3</td>\n",
       "      <td>29</td>\n",
       "    </tr>\n",
       "    <tr>\n",
       "      <th>...</th>\n",
       "      <td>...</td>\n",
       "      <td>...</td>\n",
       "      <td>...</td>\n",
       "      <td>...</td>\n",
       "      <td>...</td>\n",
       "      <td>...</td>\n",
       "      <td>...</td>\n",
       "    </tr>\n",
       "    <tr>\n",
       "      <th>Ukraine</th>\n",
       "      <td>42</td>\n",
       "      <td>27</td>\n",
       "      <td>8</td>\n",
       "      <td>93</td>\n",
       "      <td>4</td>\n",
       "      <td>2</td>\n",
       "      <td>10</td>\n",
       "    </tr>\n",
       "    <tr>\n",
       "      <th>United Arab Emirates</th>\n",
       "      <td>39</td>\n",
       "      <td>8</td>\n",
       "      <td>0</td>\n",
       "      <td>53</td>\n",
       "      <td>3</td>\n",
       "      <td>2</td>\n",
       "      <td>6</td>\n",
       "    </tr>\n",
       "    <tr>\n",
       "      <th>United Kingdom of Great Britain and Northern Ireland</th>\n",
       "      <td>122</td>\n",
       "      <td>107</td>\n",
       "      <td>4</td>\n",
       "      <td>263</td>\n",
       "      <td>4</td>\n",
       "      <td>10</td>\n",
       "      <td>40</td>\n",
       "    </tr>\n",
       "    <tr>\n",
       "      <th>United States of America</th>\n",
       "      <td>714</td>\n",
       "      <td>436</td>\n",
       "      <td>30</td>\n",
       "      <td>1235</td>\n",
       "      <td>18</td>\n",
       "      <td>45</td>\n",
       "      <td>172</td>\n",
       "    </tr>\n",
       "    <tr>\n",
       "      <th>Viet Nam</th>\n",
       "      <td>128</td>\n",
       "      <td>9</td>\n",
       "      <td>20</td>\n",
       "      <td>61</td>\n",
       "      <td>12</td>\n",
       "      <td>5</td>\n",
       "      <td>42</td>\n",
       "    </tr>\n",
       "  </tbody>\n",
       "</table>\n",
       "<p>66 rows × 7 columns</p>\n",
       "</div>"
      ],
      "text/plain": [
       "                                                                  Q4  \\\n",
       "Q4                                                 Bachelor’s degree   \n",
       "Q3                                                                     \n",
       "Algeria                                                            3   \n",
       "Argentina                                                         47   \n",
       "Australia                                                         79   \n",
       "Austria                                                           10   \n",
       "Bangladesh                                                       172   \n",
       "...                                                              ...   \n",
       "Ukraine                                                           42   \n",
       "United Arab Emirates                                              39   \n",
       "United Kingdom of Great Britain and Northern Ir...               122   \n",
       "United States of America                                         714   \n",
       "Viet Nam                                                         128   \n",
       "\n",
       "                                                                    \\\n",
       "Q4                                                 Doctoral degree   \n",
       "Q3                                                                   \n",
       "Algeria                                                         12   \n",
       "Argentina                                                       17   \n",
       "Australia                                                       40   \n",
       "Austria                                                          8   \n",
       "Bangladesh                                                      14   \n",
       "...                                                            ...   \n",
       "Ukraine                                                         27   \n",
       "United Arab Emirates                                             8   \n",
       "United Kingdom of Great Britain and Northern Ir...             107   \n",
       "United States of America                                       436   \n",
       "Viet Nam                                                         9   \n",
       "\n",
       "                                                                           \\\n",
       "Q4                                                 I prefer not to answer   \n",
       "Q3                                                                          \n",
       "Algeria                                                                 0   \n",
       "Argentina                                                               3   \n",
       "Australia                                                               1   \n",
       "Austria                                                                 1   \n",
       "Bangladesh                                                              7   \n",
       "...                                                                   ...   \n",
       "Ukraine                                                                 8   \n",
       "United Arab Emirates                                                    0   \n",
       "United Kingdom of Great Britain and Northern Ir...                      4   \n",
       "United States of America                                               30   \n",
       "Viet Nam                                                               20   \n",
       "\n",
       "                                                                    \\\n",
       "Q4                                                 Master’s degree   \n",
       "Q3                                                                   \n",
       "Algeria                                                         24   \n",
       "Argentina                                                       78   \n",
       "Australia                                                      118   \n",
       "Austria                                                         24   \n",
       "Bangladesh                                                      88   \n",
       "...                                                            ...   \n",
       "Ukraine                                                         93   \n",
       "United Arab Emirates                                            53   \n",
       "United Kingdom of Great Britain and Northern Ir...             263   \n",
       "United States of America                                      1235   \n",
       "Viet Nam                                                        61   \n",
       "\n",
       "                                                                                         \\\n",
       "Q4                                                 No formal education past high school   \n",
       "Q3                                                                                        \n",
       "Algeria                                                                               1   \n",
       "Argentina                                                                             7   \n",
       "Australia                                                                             6   \n",
       "Austria                                                                               2   \n",
       "Bangladesh                                                                            4   \n",
       "...                                                                                 ...   \n",
       "Ukraine                                                                               4   \n",
       "United Arab Emirates                                                                  3   \n",
       "United Kingdom of Great Britain and Northern Ir...                                    4   \n",
       "United States of America                                                             18   \n",
       "Viet Nam                                                                             12   \n",
       "\n",
       "                                                                           \\\n",
       "Q4                                                 Professional doctorate   \n",
       "Q3                                                                          \n",
       "Algeria                                                                 2   \n",
       "Argentina                                                               0   \n",
       "Australia                                                               4   \n",
       "Austria                                                                 3   \n",
       "Bangladesh                                                              3   \n",
       "...                                                                   ...   \n",
       "Ukraine                                                                 2   \n",
       "United Arab Emirates                                                    2   \n",
       "United Kingdom of Great Britain and Northern Ir...                     10   \n",
       "United States of America                                               45   \n",
       "Viet Nam                                                                5   \n",
       "\n",
       "                                                                                                                      \n",
       "Q4                                                 Some college/university study without earning a bachelor’s degree  \n",
       "Q3                                                                                                                    \n",
       "Algeria                                                                                             2                 \n",
       "Argentina                                                                                          30                 \n",
       "Australia                                                                                          16                 \n",
       "Austria                                                                                             3                 \n",
       "Bangladesh                                                                                         29                 \n",
       "...                                                                                               ...                 \n",
       "Ukraine                                                                                            10                 \n",
       "United Arab Emirates                                                                                6                 \n",
       "United Kingdom of Great Britain and Northern Ir...                                                 40                 \n",
       "United States of America                                                                          172                 \n",
       "Viet Nam                                                                                           42                 \n",
       "\n",
       "[66 rows x 7 columns]"
      ]
     },
     "execution_count": 18,
     "metadata": {},
     "output_type": "execute_result"
    }
   ],
   "source": [
    "df_countries = pd.pivot_table(data=df.loc[1:, ['Q3', 'Q4']], index='Q3', columns='Q4', aggfunc={'Q4': 'count'}, fill_value=0)\n",
    "df_countries"
   ]
  },
  {
   "cell_type": "markdown",
   "metadata": {
    "id": "HUiwueNHoOZp"
   },
   "source": [
    "#### 특정 국가 가져오기"
   ]
  },
  {
   "cell_type": "code",
   "execution_count": 19,
   "metadata": {
    "ExecuteTime": {
     "end_time": "2023-06-29T12:06:58.746399Z",
     "start_time": "2023-06-29T12:06:58.733638Z"
    }
   },
   "outputs": [
    {
     "data": {
      "text/plain": [
       "'What is the highest level of formal education that you have attained or plan to attain within the next 2 years?'"
      ]
     },
     "execution_count": 19,
     "metadata": {},
     "output_type": "execute_result"
    }
   ],
   "source": [
    "df.Q4[0]"
   ]
  },
  {
   "cell_type": "code",
   "execution_count": 20,
   "metadata": {
    "ExecuteTime": {
     "end_time": "2023-06-29T12:07:00.213685Z",
     "start_time": "2023-06-29T12:06:58.749887Z"
    },
    "id": "qp15ChOf0qJJ"
   },
   "outputs": [
    {
     "data": {
      "image/png": "[encoded data removed]",
      "text/plain": [
       "<Figure size 2000x600 with 1 Axes>"
      ]
     },
     "metadata": {},
     "output_type": "display_data"
    }
   ],
   "source": [
    "# 미국과 캐나다를 가져와봅시다.\n",
    "plt.figure(figsize=(20, 6))\n",
    "sns.countplot(data=df[1:], x='Q3')\n",
    "plt.xticks(rotation=90)\n",
    "plt.show()"
   ]
  },
  {
   "cell_type": "code",
   "execution_count": 21,
   "metadata": {
    "ExecuteTime": {
     "end_time": "2023-06-29T12:07:00.809942Z",
     "start_time": "2023-06-29T12:07:00.217921Z"
    }
   },
   "outputs": [
    {
     "data": {
      "image/png": "[encoded data removed]",
      "text/plain": [
       "<Figure size 600x1200 with 2 Axes>"
      ]
     },
     "metadata": {},
     "output_type": "display_data"
    }
   ],
   "source": [
    "usa = df_countries.loc['United States of America']\n",
    "canada = df_countries.loc['Canada']\n",
    "\n",
    "plt.figure(figsize=(6, 12))\n",
    "plt.subplot(2, 1, 1)\n",
    "usa.plot(kind='barh')\n",
    "plt.title('the highest level of formal education in USA', fontsize=14)\n",
    "\n",
    "plt.subplot(2, 1, 2)\n",
    "canada.plot(kind='barh')\n",
    "plt.title('the highest level of formal education in Canada', fontsize=14)\n",
    "plt.show()"
   ]
  },
  {
   "cell_type": "code",
   "execution_count": 22,
   "metadata": {
    "ExecuteTime": {
     "end_time": "2023-06-29T12:07:00.833241Z",
     "start_time": "2023-06-29T12:07:00.812934Z"
    }
   },
   "outputs": [
    {
     "data": {
      "text/plain": [
       "(25973, 2)"
      ]
     },
     "execution_count": 22,
     "metadata": {},
     "output_type": "execute_result"
    }
   ],
   "source": [
    "df1 = df.iloc[1:][['Q3', 'Q4']].copy()\n",
    "df1.shape"
   ]
  },
  {
   "cell_type": "code",
   "execution_count": 23,
   "metadata": {
    "ExecuteTime": {
     "end_time": "2023-06-29T12:07:00.850401Z",
     "start_time": "2023-06-29T12:07:00.837182Z"
    }
   },
   "outputs": [
    {
     "data": {
      "text/plain": [
       "66"
      ]
     },
     "execution_count": 23,
     "metadata": {},
     "output_type": "execute_result"
    }
   ],
   "source": [
    "df1.Q3.nunique()"
   ]
  },
  {
   "cell_type": "code",
   "execution_count": 24,
   "metadata": {
    "ExecuteTime": {
     "end_time": "2023-06-29T12:07:00.884197Z",
     "start_time": "2023-06-29T12:07:00.854113Z"
    }
   },
   "outputs": [
    {
     "data": {
      "text/plain": [
       "(2981, 2)"
      ]
     },
     "execution_count": 24,
     "metadata": {},
     "output_type": "execute_result"
    }
   ],
   "source": [
    "df_eng = df1[(df1['Q3']=='Canada') | (df1['Q3']=='United States of America')]\n",
    "df_eng.shape"
   ]
  },
  {
   "cell_type": "code",
   "execution_count": 25,
   "metadata": {
    "ExecuteTime": {
     "end_time": "2023-06-29T12:07:01.233176Z",
     "start_time": "2023-06-29T12:07:00.888593Z"
    }
   },
   "outputs": [
    {
     "data": {
      "image/png": "[encoded data removed]",
      "text/plain": [
       "<Figure size 800x600 with 1 Axes>"
      ]
     },
     "metadata": {},
     "output_type": "display_data"
    }
   ],
   "source": [
    "plt.figure(figsize=(8, 6))\n",
    "sns.countplot(data=df_eng, y='Q4', hue='Q3')\n",
    "plt.show()"
   ]
  },
  {
   "cell_type": "markdown",
   "metadata": {
    "id": "VMTv3nmeqrgD"
   },
   "source": [
    "### 5. 프로그래밍 언어 선호도 분석\n",
    "\n",
    "- 어떤 column을 가져와야 할까요?\n",
    "\n",
    "- Q7과 관련된 column들은 어떻게 다 가져올까요?"
   ]
  },
  {
   "cell_type": "markdown",
   "metadata": {
    "id": "ooWrAIOjofa1"
   },
   "source": [
    "#### 프로그래밍 언어 선호도를 포함하는 column들을 불러오기"
   ]
  },
  {
   "cell_type": "code",
   "execution_count": 26,
   "metadata": {
    "ExecuteTime": {
     "end_time": "2023-06-29T12:07:01.285094Z",
     "start_time": "2023-06-29T12:07:01.238299Z"
    },
    "id": "85hujiQXhRF0"
   },
   "outputs": [
    {
     "data": {
      "text/html": [
       "<div>\n",
       "<style scoped>\n",
       "    .dataframe tbody tr th:only-of-type {\n",
       "        vertical-align: middle;\n",
       "    }\n",
       "\n",
       "    .dataframe tbody tr th {\n",
       "        vertical-align: top;\n",
       "    }\n",
       "\n",
       "    .dataframe thead th {\n",
       "        text-align: right;\n",
       "    }\n",
       "</style>\n",
       "<table border=\"1\" class=\"dataframe\">\n",
       "  <thead>\n",
       "    <tr style=\"text-align: right;\">\n",
       "      <th></th>\n",
       "      <th>Q7_Part_1</th>\n",
       "      <th>Q7_Part_2</th>\n",
       "      <th>Q7_Part_3</th>\n",
       "      <th>Q7_Part_4</th>\n",
       "      <th>Q7_Part_5</th>\n",
       "      <th>Q7_Part_6</th>\n",
       "      <th>Q7_Part_7</th>\n",
       "      <th>Q7_Part_8</th>\n",
       "      <th>Q7_Part_9</th>\n",
       "      <th>Q7_Part_10</th>\n",
       "      <th>...</th>\n",
       "      <th>Q38_B_Part_4</th>\n",
       "      <th>Q38_B_Part_5</th>\n",
       "      <th>Q38_B_Part_6</th>\n",
       "      <th>Q38_B_Part_7</th>\n",
       "      <th>Q38_B_Part_8</th>\n",
       "      <th>Q38_B_Part_9</th>\n",
       "      <th>Q38_B_Part_10</th>\n",
       "      <th>Q38_B_Part_11</th>\n",
       "      <th>Q38_B_OTHER</th>\n",
       "      <th>Q3_lower</th>\n",
       "    </tr>\n",
       "  </thead>\n",
       "  <tbody>\n",
       "    <tr>\n",
       "      <th>0</th>\n",
       "      <td>What programming languages do you use on a reg...</td>\n",
       "      <td>What programming languages do you use on a reg...</td>\n",
       "      <td>What programming languages do you use on a reg...</td>\n",
       "      <td>What programming languages do you use on a reg...</td>\n",
       "      <td>What programming languages do you use on a reg...</td>\n",
       "      <td>What programming languages do you use on a reg...</td>\n",
       "      <td>What programming languages do you use on a reg...</td>\n",
       "      <td>What programming languages do you use on a reg...</td>\n",
       "      <td>What programming languages do you use on a reg...</td>\n",
       "      <td>What programming languages do you use on a reg...</td>\n",
       "      <td>...</td>\n",
       "      <td>In the next 2 years, do you hope to become mor...</td>\n",
       "      <td>In the next 2 years, do you hope to become mor...</td>\n",
       "      <td>In the next 2 years, do you hope to become mor...</td>\n",
       "      <td>In the next 2 years, do you hope to become mor...</td>\n",
       "      <td>In the next 2 years, do you hope to become mor...</td>\n",
       "      <td>In the next 2 years, do you hope to become mor...</td>\n",
       "      <td>In the next 2 years, do you hope to become mor...</td>\n",
       "      <td>In the next 2 years, do you hope to become mor...</td>\n",
       "      <td>In the next 2 years, do you hope to become mor...</td>\n",
       "      <td>in which country do you currently reside?</td>\n",
       "    </tr>\n",
       "    <tr>\n",
       "      <th>1</th>\n",
       "      <td>Python</td>\n",
       "      <td>R</td>\n",
       "      <td>NaN</td>\n",
       "      <td>NaN</td>\n",
       "      <td>NaN</td>\n",
       "      <td>NaN</td>\n",
       "      <td>NaN</td>\n",
       "      <td>NaN</td>\n",
       "      <td>NaN</td>\n",
       "      <td>NaN</td>\n",
       "      <td>...</td>\n",
       "      <td>NaN</td>\n",
       "      <td>NaN</td>\n",
       "      <td>NaN</td>\n",
       "      <td>NaN</td>\n",
       "      <td>NaN</td>\n",
       "      <td>NaN</td>\n",
       "      <td>NaN</td>\n",
       "      <td>NaN</td>\n",
       "      <td>NaN</td>\n",
       "      <td>india</td>\n",
       "    </tr>\n",
       "    <tr>\n",
       "      <th>2</th>\n",
       "      <td>NaN</td>\n",
       "      <td>NaN</td>\n",
       "      <td>SQL</td>\n",
       "      <td>C</td>\n",
       "      <td>C++</td>\n",
       "      <td>Java</td>\n",
       "      <td>NaN</td>\n",
       "      <td>NaN</td>\n",
       "      <td>NaN</td>\n",
       "      <td>NaN</td>\n",
       "      <td>...</td>\n",
       "      <td>NaN</td>\n",
       "      <td>NaN</td>\n",
       "      <td>NaN</td>\n",
       "      <td>NaN</td>\n",
       "      <td>NaN</td>\n",
       "      <td>NaN</td>\n",
       "      <td>NaN</td>\n",
       "      <td>None</td>\n",
       "      <td>NaN</td>\n",
       "      <td>indonesia</td>\n",
       "    </tr>\n",
       "  </tbody>\n",
       "</table>\n",
       "<p>3 rows × 363 columns</p>\n",
       "</div>"
      ],
      "text/plain": [
       "                                           Q7_Part_1  \\\n",
       "0  What programming languages do you use on a reg...   \n",
       "1                                             Python   \n",
       "2                                                NaN   \n",
       "\n",
       "                                           Q7_Part_2  \\\n",
       "0  What programming languages do you use on a reg...   \n",
       "1                                                  R   \n",
       "2                                                NaN   \n",
       "\n",
       "                                           Q7_Part_3  \\\n",
       "0  What programming languages do you use on a reg...   \n",
       "1                                                NaN   \n",
       "2                                                SQL   \n",
       "\n",
       "                                           Q7_Part_4  \\\n",
       "0  What programming languages do you use on a reg...   \n",
       "1                                                NaN   \n",
       "2                                                  C   \n",
       "\n",
       "                                           Q7_Part_5  \\\n",
       "0  What programming languages do you use on a reg...   \n",
       "1                                                NaN   \n",
       "2                                                C++   \n",
       "\n",
       "                                           Q7_Part_6  \\\n",
       "0  What programming languages do you use on a reg...   \n",
       "1                                                NaN   \n",
       "2                                               Java   \n",
       "\n",
       "                                           Q7_Part_7  \\\n",
       "0  What programming languages do you use on a reg...   \n",
       "1                                                NaN   \n",
       "2                                                NaN   \n",
       "\n",
       "                                           Q7_Part_8  \\\n",
       "0  What programming languages do you use on a reg...   \n",
       "1                                                NaN   \n",
       "2                                                NaN   \n",
       "\n",
       "                                           Q7_Part_9  \\\n",
       "0  What programming languages do you use on a reg...   \n",
       "1                                                NaN   \n",
       "2                                                NaN   \n",
       "\n",
       "                                          Q7_Part_10  ...  \\\n",
       "0  What programming languages do you use on a reg...  ...   \n",
       "1                                                NaN  ...   \n",
       "2                                                NaN  ...   \n",
       "\n",
       "                                        Q38_B_Part_4  \\\n",
       "0  In the next 2 years, do you hope to become mor...   \n",
       "1                                                NaN   \n",
       "2                                                NaN   \n",
       "\n",
       "                                        Q38_B_Part_5  \\\n",
       "0  In the next 2 years, do you hope to become mor...   \n",
       "1                                                NaN   \n",
       "2                                                NaN   \n",
       "\n",
       "                                        Q38_B_Part_6  \\\n",
       "0  In the next 2 years, do you hope to become mor...   \n",
       "1                                                NaN   \n",
       "2                                                NaN   \n",
       "\n",
       "                                        Q38_B_Part_7  \\\n",
       "0  In the next 2 years, do you hope to become mor...   \n",
       "1                                                NaN   \n",
       "2                                                NaN   \n",
       "\n",
       "                                        Q38_B_Part_8  \\\n",
       "0  In the next 2 years, do you hope to become mor...   \n",
       "1                                                NaN   \n",
       "2                                                NaN   \n",
       "\n",
       "                                        Q38_B_Part_9  \\\n",
       "0  In the next 2 years, do you hope to become mor...   \n",
       "1                                                NaN   \n",
       "2                                                NaN   \n",
       "\n",
       "                                       Q38_B_Part_10  \\\n",
       "0  In the next 2 years, do you hope to become mor...   \n",
       "1                                                NaN   \n",
       "2                                                NaN   \n",
       "\n",
       "                                       Q38_B_Part_11  \\\n",
       "0  In the next 2 years, do you hope to become mor...   \n",
       "1                                                NaN   \n",
       "2                                               None   \n",
       "\n",
       "                                         Q38_B_OTHER  \\\n",
       "0  In the next 2 years, do you hope to become mor...   \n",
       "1                                                NaN   \n",
       "2                                                NaN   \n",
       "\n",
       "                                    Q3_lower  \n",
       "0  in which country do you currently reside?  \n",
       "1                                      india  \n",
       "2                                  indonesia  \n",
       "\n",
       "[3 rows x 363 columns]"
      ]
     },
     "execution_count": 26,
     "metadata": {},
     "output_type": "execute_result"
    }
   ],
   "source": [
    "df.iloc[:, 7:].head(3)\n",
    "# Q7만 가져올 수 없을까?"
   ]
  },
  {
   "cell_type": "code",
   "execution_count": 27,
   "metadata": {
    "ExecuteTime": {
     "end_time": "2023-06-29T12:07:01.300311Z",
     "start_time": "2023-06-29T12:07:01.287882Z"
    }
   },
   "outputs": [
    {
     "data": {
      "text/plain": [
       "Index(['Q7_Part_1', 'Q7_Part_2', 'Q7_Part_3', 'Q7_Part_4', 'Q7_Part_5',\n",
       "       'Q7_Part_6', 'Q7_Part_7', 'Q7_Part_8', 'Q7_Part_9', 'Q7_Part_10',\n",
       "       'Q7_Part_11', 'Q7_Part_12', 'Q7_OTHER'],\n",
       "      dtype='object')"
      ]
     },
     "execution_count": 27,
     "metadata": {},
     "output_type": "execute_result"
    }
   ],
   "source": [
    "df.columns[df.columns.str.startswith('Q7')]"
   ]
  },
  {
   "cell_type": "code",
   "execution_count": 28,
   "metadata": {
    "ExecuteTime": {
     "end_time": "2023-06-29T12:07:01.358547Z",
     "start_time": "2023-06-29T12:07:01.315304Z"
    }
   },
   "outputs": [
    {
     "data": {
      "text/html": [
       "<div>\n",
       "<style scoped>\n",
       "    .dataframe tbody tr th:only-of-type {\n",
       "        vertical-align: middle;\n",
       "    }\n",
       "\n",
       "    .dataframe tbody tr th {\n",
       "        vertical-align: top;\n",
       "    }\n",
       "\n",
       "    .dataframe thead th {\n",
       "        text-align: right;\n",
       "    }\n",
       "</style>\n",
       "<table border=\"1\" class=\"dataframe\">\n",
       "  <thead>\n",
       "    <tr style=\"text-align: right;\">\n",
       "      <th></th>\n",
       "      <th>Q3</th>\n",
       "      <th>Q7_Part_1</th>\n",
       "      <th>Q7_Part_2</th>\n",
       "      <th>Q7_Part_3</th>\n",
       "      <th>Q7_Part_4</th>\n",
       "      <th>Q7_Part_5</th>\n",
       "      <th>Q7_Part_6</th>\n",
       "      <th>Q7_Part_7</th>\n",
       "      <th>Q7_Part_8</th>\n",
       "      <th>Q7_Part_9</th>\n",
       "      <th>Q7_Part_10</th>\n",
       "      <th>Q7_Part_11</th>\n",
       "      <th>Q7_Part_12</th>\n",
       "      <th>Q7_OTHER</th>\n",
       "    </tr>\n",
       "  </thead>\n",
       "  <tbody>\n",
       "    <tr>\n",
       "      <th>0</th>\n",
       "      <td>In which country do you currently reside?</td>\n",
       "      <td>What programming languages do you use on a reg...</td>\n",
       "      <td>What programming languages do you use on a reg...</td>\n",
       "      <td>What programming languages do you use on a reg...</td>\n",
       "      <td>What programming languages do you use on a reg...</td>\n",
       "      <td>What programming languages do you use on a reg...</td>\n",
       "      <td>What programming languages do you use on a reg...</td>\n",
       "      <td>What programming languages do you use on a reg...</td>\n",
       "      <td>What programming languages do you use on a reg...</td>\n",
       "      <td>What programming languages do you use on a reg...</td>\n",
       "      <td>What programming languages do you use on a reg...</td>\n",
       "      <td>What programming languages do you use on a reg...</td>\n",
       "      <td>What programming languages do you use on a reg...</td>\n",
       "      <td>What programming languages do you use on a reg...</td>\n",
       "    </tr>\n",
       "    <tr>\n",
       "      <th>1</th>\n",
       "      <td>India</td>\n",
       "      <td>Python</td>\n",
       "      <td>R</td>\n",
       "      <td>NaN</td>\n",
       "      <td>NaN</td>\n",
       "      <td>NaN</td>\n",
       "      <td>NaN</td>\n",
       "      <td>NaN</td>\n",
       "      <td>NaN</td>\n",
       "      <td>NaN</td>\n",
       "      <td>NaN</td>\n",
       "      <td>NaN</td>\n",
       "      <td>NaN</td>\n",
       "      <td>NaN</td>\n",
       "    </tr>\n",
       "    <tr>\n",
       "      <th>2</th>\n",
       "      <td>Indonesia</td>\n",
       "      <td>NaN</td>\n",
       "      <td>NaN</td>\n",
       "      <td>SQL</td>\n",
       "      <td>C</td>\n",
       "      <td>C++</td>\n",
       "      <td>Java</td>\n",
       "      <td>NaN</td>\n",
       "      <td>NaN</td>\n",
       "      <td>NaN</td>\n",
       "      <td>NaN</td>\n",
       "      <td>NaN</td>\n",
       "      <td>NaN</td>\n",
       "      <td>NaN</td>\n",
       "    </tr>\n",
       "  </tbody>\n",
       "</table>\n",
       "</div>"
      ],
      "text/plain": [
       "                                          Q3  \\\n",
       "0  In which country do you currently reside?   \n",
       "1                                      India   \n",
       "2                                  Indonesia   \n",
       "\n",
       "                                           Q7_Part_1  \\\n",
       "0  What programming languages do you use on a reg...   \n",
       "1                                             Python   \n",
       "2                                                NaN   \n",
       "\n",
       "                                           Q7_Part_2  \\\n",
       "0  What programming languages do you use on a reg...   \n",
       "1                                                  R   \n",
       "2                                                NaN   \n",
       "\n",
       "                                           Q7_Part_3  \\\n",
       "0  What programming languages do you use on a reg...   \n",
       "1                                                NaN   \n",
       "2                                                SQL   \n",
       "\n",
       "                                           Q7_Part_4  \\\n",
       "0  What programming languages do you use on a reg...   \n",
       "1                                                NaN   \n",
       "2                                                  C   \n",
       "\n",
       "                                           Q7_Part_5  \\\n",
       "0  What programming languages do you use on a reg...   \n",
       "1                                                NaN   \n",
       "2                                                C++   \n",
       "\n",
       "                                           Q7_Part_6  \\\n",
       "0  What programming languages do you use on a reg...   \n",
       "1                                                NaN   \n",
       "2                                               Java   \n",
       "\n",
       "                                           Q7_Part_7  \\\n",
       "0  What programming languages do you use on a reg...   \n",
       "1                                                NaN   \n",
       "2                                                NaN   \n",
       "\n",
       "                                           Q7_Part_8  \\\n",
       "0  What programming languages do you use on a reg...   \n",
       "1                                                NaN   \n",
       "2                                                NaN   \n",
       "\n",
       "                                           Q7_Part_9  \\\n",
       "0  What programming languages do you use on a reg...   \n",
       "1                                                NaN   \n",
       "2                                                NaN   \n",
       "\n",
       "                                          Q7_Part_10  \\\n",
       "0  What programming languages do you use on a reg...   \n",
       "1                                                NaN   \n",
       "2                                                NaN   \n",
       "\n",
       "                                          Q7_Part_11  \\\n",
       "0  What programming languages do you use on a reg...   \n",
       "1                                                NaN   \n",
       "2                                                NaN   \n",
       "\n",
       "                                          Q7_Part_12  \\\n",
       "0  What programming languages do you use on a reg...   \n",
       "1                                                NaN   \n",
       "2                                                NaN   \n",
       "\n",
       "                                            Q7_OTHER  \n",
       "0  What programming languages do you use on a reg...  \n",
       "1                                                NaN  \n",
       "2                                                NaN  "
      ]
     },
     "execution_count": 28,
     "metadata": {},
     "output_type": "execute_result"
    }
   ],
   "source": [
    "Q7_col = df.columns[df.columns.str.startswith('Q7')].to_list()\n",
    "df[['Q3'] + Q7_col].head(3)"
   ]
  },
  {
   "cell_type": "markdown",
   "metadata": {
    "id": "xW-J_4JCoxBa"
   },
   "source": [
    "#### 언어별 정보가 합쳐진 DataFrame 만들기"
   ]
  },
  {
   "cell_type": "code",
   "execution_count": 29,
   "metadata": {
    "ExecuteTime": {
     "end_time": "2023-06-29T12:07:01.414268Z",
     "start_time": "2023-06-29T12:07:01.361930Z"
    }
   },
   "outputs": [
    {
     "data": {
      "text/html": [
       "<div>\n",
       "<style scoped>\n",
       "    .dataframe tbody tr th:only-of-type {\n",
       "        vertical-align: middle;\n",
       "    }\n",
       "\n",
       "    .dataframe tbody tr th {\n",
       "        vertical-align: top;\n",
       "    }\n",
       "\n",
       "    .dataframe thead th {\n",
       "        text-align: right;\n",
       "    }\n",
       "</style>\n",
       "<table border=\"1\" class=\"dataframe\">\n",
       "  <thead>\n",
       "    <tr style=\"text-align: right;\">\n",
       "      <th></th>\n",
       "      <th>Q7_Part_1</th>\n",
       "      <th>Q7_Part_2</th>\n",
       "      <th>Q7_Part_3</th>\n",
       "      <th>Q7_Part_4</th>\n",
       "      <th>Q7_Part_5</th>\n",
       "      <th>Q7_Part_6</th>\n",
       "      <th>Q7_Part_7</th>\n",
       "      <th>Q7_Part_8</th>\n",
       "      <th>Q7_Part_9</th>\n",
       "      <th>Q7_Part_10</th>\n",
       "      <th>Q7_Part_11</th>\n",
       "      <th>Q7_Part_12</th>\n",
       "      <th>Q7_OTHER</th>\n",
       "    </tr>\n",
       "  </thead>\n",
       "  <tbody>\n",
       "    <tr>\n",
       "      <th>1</th>\n",
       "      <td>Python</td>\n",
       "      <td>R</td>\n",
       "      <td>NaN</td>\n",
       "      <td>NaN</td>\n",
       "      <td>NaN</td>\n",
       "      <td>NaN</td>\n",
       "      <td>NaN</td>\n",
       "      <td>NaN</td>\n",
       "      <td>NaN</td>\n",
       "      <td>NaN</td>\n",
       "      <td>NaN</td>\n",
       "      <td>NaN</td>\n",
       "      <td>NaN</td>\n",
       "    </tr>\n",
       "    <tr>\n",
       "      <th>2</th>\n",
       "      <td>NaN</td>\n",
       "      <td>NaN</td>\n",
       "      <td>SQL</td>\n",
       "      <td>C</td>\n",
       "      <td>C++</td>\n",
       "      <td>Java</td>\n",
       "      <td>NaN</td>\n",
       "      <td>NaN</td>\n",
       "      <td>NaN</td>\n",
       "      <td>NaN</td>\n",
       "      <td>NaN</td>\n",
       "      <td>NaN</td>\n",
       "      <td>NaN</td>\n",
       "    </tr>\n",
       "    <tr>\n",
       "      <th>3</th>\n",
       "      <td>Python</td>\n",
       "      <td>NaN</td>\n",
       "      <td>NaN</td>\n",
       "      <td>NaN</td>\n",
       "      <td>C++</td>\n",
       "      <td>Java</td>\n",
       "      <td>NaN</td>\n",
       "      <td>NaN</td>\n",
       "      <td>NaN</td>\n",
       "      <td>NaN</td>\n",
       "      <td>NaN</td>\n",
       "      <td>NaN</td>\n",
       "      <td>NaN</td>\n",
       "    </tr>\n",
       "    <tr>\n",
       "      <th>4</th>\n",
       "      <td>Python</td>\n",
       "      <td>NaN</td>\n",
       "      <td>NaN</td>\n",
       "      <td>NaN</td>\n",
       "      <td>NaN</td>\n",
       "      <td>NaN</td>\n",
       "      <td>NaN</td>\n",
       "      <td>NaN</td>\n",
       "      <td>NaN</td>\n",
       "      <td>NaN</td>\n",
       "      <td>NaN</td>\n",
       "      <td>NaN</td>\n",
       "      <td>NaN</td>\n",
       "    </tr>\n",
       "    <tr>\n",
       "      <th>5</th>\n",
       "      <td>Python</td>\n",
       "      <td>NaN</td>\n",
       "      <td>NaN</td>\n",
       "      <td>C</td>\n",
       "      <td>NaN</td>\n",
       "      <td>NaN</td>\n",
       "      <td>NaN</td>\n",
       "      <td>NaN</td>\n",
       "      <td>NaN</td>\n",
       "      <td>NaN</td>\n",
       "      <td>MATLAB</td>\n",
       "      <td>NaN</td>\n",
       "      <td>NaN</td>\n",
       "    </tr>\n",
       "    <tr>\n",
       "      <th>...</th>\n",
       "      <td>...</td>\n",
       "      <td>...</td>\n",
       "      <td>...</td>\n",
       "      <td>...</td>\n",
       "      <td>...</td>\n",
       "      <td>...</td>\n",
       "      <td>...</td>\n",
       "      <td>...</td>\n",
       "      <td>...</td>\n",
       "      <td>...</td>\n",
       "      <td>...</td>\n",
       "      <td>...</td>\n",
       "      <td>...</td>\n",
       "    </tr>\n",
       "    <tr>\n",
       "      <th>25969</th>\n",
       "      <td>Python</td>\n",
       "      <td>NaN</td>\n",
       "      <td>SQL</td>\n",
       "      <td>NaN</td>\n",
       "      <td>NaN</td>\n",
       "      <td>NaN</td>\n",
       "      <td>Javascript</td>\n",
       "      <td>NaN</td>\n",
       "      <td>NaN</td>\n",
       "      <td>Bash</td>\n",
       "      <td>NaN</td>\n",
       "      <td>NaN</td>\n",
       "      <td>NaN</td>\n",
       "    </tr>\n",
       "    <tr>\n",
       "      <th>25970</th>\n",
       "      <td>Python</td>\n",
       "      <td>NaN</td>\n",
       "      <td>NaN</td>\n",
       "      <td>NaN</td>\n",
       "      <td>NaN</td>\n",
       "      <td>NaN</td>\n",
       "      <td>NaN</td>\n",
       "      <td>NaN</td>\n",
       "      <td>NaN</td>\n",
       "      <td>NaN</td>\n",
       "      <td>NaN</td>\n",
       "      <td>NaN</td>\n",
       "      <td>NaN</td>\n",
       "    </tr>\n",
       "    <tr>\n",
       "      <th>25971</th>\n",
       "      <td>NaN</td>\n",
       "      <td>NaN</td>\n",
       "      <td>NaN</td>\n",
       "      <td>NaN</td>\n",
       "      <td>NaN</td>\n",
       "      <td>NaN</td>\n",
       "      <td>NaN</td>\n",
       "      <td>NaN</td>\n",
       "      <td>NaN</td>\n",
       "      <td>NaN</td>\n",
       "      <td>NaN</td>\n",
       "      <td>NaN</td>\n",
       "      <td>NaN</td>\n",
       "    </tr>\n",
       "    <tr>\n",
       "      <th>25972</th>\n",
       "      <td>Python</td>\n",
       "      <td>NaN</td>\n",
       "      <td>SQL</td>\n",
       "      <td>NaN</td>\n",
       "      <td>NaN</td>\n",
       "      <td>NaN</td>\n",
       "      <td>NaN</td>\n",
       "      <td>NaN</td>\n",
       "      <td>NaN</td>\n",
       "      <td>NaN</td>\n",
       "      <td>NaN</td>\n",
       "      <td>NaN</td>\n",
       "      <td>NaN</td>\n",
       "    </tr>\n",
       "    <tr>\n",
       "      <th>25973</th>\n",
       "      <td>NaN</td>\n",
       "      <td>NaN</td>\n",
       "      <td>NaN</td>\n",
       "      <td>NaN</td>\n",
       "      <td>NaN</td>\n",
       "      <td>NaN</td>\n",
       "      <td>NaN</td>\n",
       "      <td>NaN</td>\n",
       "      <td>NaN</td>\n",
       "      <td>NaN</td>\n",
       "      <td>NaN</td>\n",
       "      <td>NaN</td>\n",
       "      <td>NaN</td>\n",
       "    </tr>\n",
       "  </tbody>\n",
       "</table>\n",
       "<p>25973 rows × 13 columns</p>\n",
       "</div>"
      ],
      "text/plain": [
       "      Q7_Part_1 Q7_Part_2 Q7_Part_3 Q7_Part_4 Q7_Part_5 Q7_Part_6   Q7_Part_7  \\\n",
       "1        Python         R       NaN       NaN       NaN       NaN         NaN   \n",
       "2           NaN       NaN       SQL         C       C++      Java         NaN   \n",
       "3        Python       NaN       NaN       NaN       C++      Java         NaN   \n",
       "4        Python       NaN       NaN       NaN       NaN       NaN         NaN   \n",
       "5        Python       NaN       NaN         C       NaN       NaN         NaN   \n",
       "...         ...       ...       ...       ...       ...       ...         ...   \n",
       "25969    Python       NaN       SQL       NaN       NaN       NaN  Javascript   \n",
       "25970    Python       NaN       NaN       NaN       NaN       NaN         NaN   \n",
       "25971       NaN       NaN       NaN       NaN       NaN       NaN         NaN   \n",
       "25972    Python       NaN       SQL       NaN       NaN       NaN         NaN   \n",
       "25973       NaN       NaN       NaN       NaN       NaN       NaN         NaN   \n",
       "\n",
       "      Q7_Part_8 Q7_Part_9 Q7_Part_10 Q7_Part_11 Q7_Part_12 Q7_OTHER  \n",
       "1           NaN       NaN        NaN        NaN        NaN      NaN  \n",
       "2           NaN       NaN        NaN        NaN        NaN      NaN  \n",
       "3           NaN       NaN        NaN        NaN        NaN      NaN  \n",
       "4           NaN       NaN        NaN        NaN        NaN      NaN  \n",
       "5           NaN       NaN        NaN     MATLAB        NaN      NaN  \n",
       "...         ...       ...        ...        ...        ...      ...  \n",
       "25969       NaN       NaN       Bash        NaN        NaN      NaN  \n",
       "25970       NaN       NaN        NaN        NaN        NaN      NaN  \n",
       "25971       NaN       NaN        NaN        NaN        NaN      NaN  \n",
       "25972       NaN       NaN        NaN        NaN        NaN      NaN  \n",
       "25973       NaN       NaN        NaN        NaN        NaN      NaN  \n",
       "\n",
       "[25973 rows x 13 columns]"
      ]
     },
     "execution_count": 29,
     "metadata": {},
     "output_type": "execute_result"
    }
   ],
   "source": [
    "df[Q7_col][1:]"
   ]
  },
  {
   "cell_type": "code",
   "execution_count": 30,
   "metadata": {
    "ExecuteTime": {
     "end_time": "2023-06-29T12:07:09.782450Z",
     "start_time": "2023-06-29T12:07:01.418451Z"
    },
    "scrolled": true
   },
   "outputs": [
    {
     "data": {
      "application/vnd.jupyter.widget-view+json": {
       "model_id": "e02440dc58894ac4a0d33ef117a5665d",
       "version_major": 2,
       "version_minor": 0
      },
      "text/plain": [
       "0it [00:00, ?it/s]"
      ]
     },
     "metadata": {},
     "output_type": "display_data"
    },
    {
     "data": {
      "text/plain": [
       "[array(['Python', 'R'], dtype=object),\n",
       " array(['SQL', 'C', 'C++', 'Java'], dtype=object)]"
      ]
     },
     "execution_count": 30,
     "metadata": {},
     "output_type": "execute_result"
    }
   ],
   "source": [
    "q7_list = []\n",
    "\n",
    "for _, row in tqdm(df[Q7_col][1:].iterrows()):\n",
    "#     print(j[~j.isnull()].values)\n",
    "    q7_list.append(row[~row.isnull()].values)\n",
    "    \n",
    "q7_list[:2]"
   ]
  },
  {
   "cell_type": "code",
   "execution_count": 31,
   "metadata": {
    "ExecuteTime": {
     "end_time": "2023-06-29T12:07:09.831100Z",
     "start_time": "2023-06-29T12:07:09.787987Z"
    }
   },
   "outputs": [
    {
     "data": {
      "text/plain": [
       "0                     PL\n",
       "1            [Python, R]\n",
       "2    [SQL, C, C++, Java]\n",
       "3    [Python, C++, Java]\n",
       "4               [Python]\n",
       "Name: PL, dtype: object"
      ]
     },
     "execution_count": 31,
     "metadata": {},
     "output_type": "execute_result"
    }
   ],
   "source": [
    "df['PL'] = ['PL'] + q7_list\n",
    "df.iloc[:, -1].head()"
   ]
  },
  {
   "cell_type": "markdown",
   "metadata": {
    "id": "sN55iDGXg6CE"
   },
   "source": [
    "#### 한국인 응답자의 데이터만 뽑아보세요."
   ]
  },
  {
   "cell_type": "code",
   "execution_count": 32,
   "metadata": {
    "ExecuteTime": {
     "end_time": "2023-06-29T12:07:10.002303Z",
     "start_time": "2023-06-29T12:07:09.836791Z"
    },
    "id": "bqn6Iu0Ng6CE"
   },
   "outputs": [
    {
     "data": {
      "text/html": [
       "<div>\n",
       "<style scoped>\n",
       "    .dataframe tbody tr th:only-of-type {\n",
       "        vertical-align: middle;\n",
       "    }\n",
       "\n",
       "    .dataframe tbody tr th {\n",
       "        vertical-align: top;\n",
       "    }\n",
       "\n",
       "    .dataframe thead th {\n",
       "        text-align: right;\n",
       "    }\n",
       "</style>\n",
       "<table border=\"1\" class=\"dataframe\">\n",
       "  <thead>\n",
       "    <tr style=\"text-align: right;\">\n",
       "      <th></th>\n",
       "      <th>Q3</th>\n",
       "      <th>Q7_Part_1</th>\n",
       "      <th>Q7_Part_2</th>\n",
       "      <th>Q7_Part_3</th>\n",
       "      <th>Q7_Part_4</th>\n",
       "      <th>Q7_Part_5</th>\n",
       "      <th>Q7_Part_6</th>\n",
       "      <th>Q7_Part_7</th>\n",
       "      <th>Q7_Part_8</th>\n",
       "      <th>Q7_Part_9</th>\n",
       "      <th>Q7_Part_10</th>\n",
       "      <th>Q7_Part_11</th>\n",
       "      <th>Q7_Part_12</th>\n",
       "      <th>Q7_OTHER</th>\n",
       "    </tr>\n",
       "  </thead>\n",
       "  <tbody>\n",
       "    <tr>\n",
       "      <th>276</th>\n",
       "      <td>South Korea</td>\n",
       "      <td>Python</td>\n",
       "      <td>NaN</td>\n",
       "      <td>NaN</td>\n",
       "      <td>NaN</td>\n",
       "      <td>NaN</td>\n",
       "      <td>NaN</td>\n",
       "      <td>NaN</td>\n",
       "      <td>NaN</td>\n",
       "      <td>NaN</td>\n",
       "      <td>NaN</td>\n",
       "      <td>NaN</td>\n",
       "      <td>NaN</td>\n",
       "      <td>NaN</td>\n",
       "    </tr>\n",
       "    <tr>\n",
       "      <th>373</th>\n",
       "      <td>South Korea</td>\n",
       "      <td>Python</td>\n",
       "      <td>NaN</td>\n",
       "      <td>SQL</td>\n",
       "      <td>NaN</td>\n",
       "      <td>NaN</td>\n",
       "      <td>Java</td>\n",
       "      <td>Javascript</td>\n",
       "      <td>NaN</td>\n",
       "      <td>NaN</td>\n",
       "      <td>NaN</td>\n",
       "      <td>NaN</td>\n",
       "      <td>NaN</td>\n",
       "      <td>NaN</td>\n",
       "    </tr>\n",
       "    <tr>\n",
       "      <th>410</th>\n",
       "      <td>South Korea</td>\n",
       "      <td>Python</td>\n",
       "      <td>NaN</td>\n",
       "      <td>NaN</td>\n",
       "      <td>NaN</td>\n",
       "      <td>NaN</td>\n",
       "      <td>NaN</td>\n",
       "      <td>NaN</td>\n",
       "      <td>NaN</td>\n",
       "      <td>NaN</td>\n",
       "      <td>NaN</td>\n",
       "      <td>NaN</td>\n",
       "      <td>NaN</td>\n",
       "      <td>NaN</td>\n",
       "    </tr>\n",
       "  </tbody>\n",
       "</table>\n",
       "</div>"
      ],
      "text/plain": [
       "              Q3 Q7_Part_1 Q7_Part_2 Q7_Part_3 Q7_Part_4 Q7_Part_5 Q7_Part_6  \\\n",
       "276  South Korea    Python       NaN       NaN       NaN       NaN       NaN   \n",
       "373  South Korea    Python       NaN       SQL       NaN       NaN      Java   \n",
       "410  South Korea    Python       NaN       NaN       NaN       NaN       NaN   \n",
       "\n",
       "      Q7_Part_7 Q7_Part_8 Q7_Part_9 Q7_Part_10 Q7_Part_11 Q7_Part_12 Q7_OTHER  \n",
       "276         NaN       NaN       NaN        NaN        NaN        NaN      NaN  \n",
       "373  Javascript       NaN       NaN        NaN        NaN        NaN      NaN  \n",
       "410         NaN       NaN       NaN        NaN        NaN        NaN      NaN  "
      ]
     },
     "execution_count": 32,
     "metadata": {},
     "output_type": "execute_result"
    }
   ],
   "source": [
    "df_kor = df.loc[df.Q3=='South Korea', ['Q3'] + Q7_col]\n",
    "df_kor.head(3)"
   ]
  },
  {
   "cell_type": "markdown",
   "metadata": {
    "id": "OQZfiij6g6CE"
   },
   "source": [
    "### countplot을 그리기"
   ]
  },
  {
   "cell_type": "code",
   "execution_count": 33,
   "metadata": {
    "ExecuteTime": {
     "end_time": "2023-06-29T12:07:10.011921Z",
     "start_time": "2023-06-29T12:07:10.007195Z"
    },
    "id": "NXapANaBg6CF"
   },
   "outputs": [],
   "source": [
    "# x축을 나이대 별로 정렬하여 countplot을 출력해보세요.\n"
   ]
  },
  {
   "cell_type": "code",
   "execution_count": 34,
   "metadata": {
    "ExecuteTime": {
     "end_time": "2023-06-29T12:07:10.170464Z",
     "start_time": "2023-06-29T12:07:10.014007Z"
    }
   },
   "outputs": [
    {
     "data": {
      "text/plain": [
       "[array(['Python'], dtype=object),\n",
       " array(['Python', 'SQL', 'Java', 'Javascript'], dtype=object),\n",
       " array(['Python'], dtype=object),\n",
       " array(['Java', 'Javascript'], dtype=object),\n",
       " array(['Python', 'C', 'C++'], dtype=object)]"
      ]
     },
     "execution_count": 34,
     "metadata": {},
     "output_type": "execute_result"
    }
   ],
   "source": [
    "q7_list_kor = []\n",
    "\n",
    "for _, row in df_kor[Q7_col].iterrows():\n",
    "#     print(row[~row.isnull()].values)\n",
    "#     break\n",
    "    \n",
    "    q7_list_kor.append(row[~row.isnull()].values)\n",
    "\n",
    "q7_list_kor[:5]"
   ]
  },
  {
   "cell_type": "code",
   "execution_count": 35,
   "metadata": {
    "ExecuteTime": {
     "end_time": "2023-06-29T12:07:10.302733Z",
     "start_time": "2023-06-29T12:07:10.173878Z"
    }
   },
   "outputs": [
    {
     "data": {
      "text/plain": [
       "[['Python'],\n",
       " ['Python', 'SQL', 'Java', 'Javascript'],\n",
       " ['Python'],\n",
       " ['Java', 'Javascript'],\n",
       " ['Python', 'C', 'C++']]"
      ]
     },
     "execution_count": 35,
     "metadata": {},
     "output_type": "execute_result"
    }
   ],
   "source": [
    "q7_list_kor = []\n",
    "\n",
    "for _, row in df_kor[Q7_col].iterrows():\n",
    "#     print(row[~row.isnull()].values)\n",
    "#     break\n",
    "    \n",
    "    q7_list_kor.append(row[~row.isnull()].values.tolist())\n",
    "\n",
    "q7_list_kor[:5]"
   ]
  },
  {
   "cell_type": "code",
   "execution_count": 36,
   "metadata": {
    "ExecuteTime": {
     "end_time": "2023-06-29T12:07:10.337379Z",
     "start_time": "2023-06-29T12:07:10.308825Z"
    }
   },
   "outputs": [
    {
     "data": {
      "text/plain": [
       "807"
      ]
     },
     "execution_count": 36,
     "metadata": {},
     "output_type": "execute_result"
    }
   ],
   "source": [
    "from collections import Counter\n",
    "\n",
    "q7_data = []\n",
    "\n",
    "for row in q7_list_kor:\n",
    "    q7_data += row\n",
    "\n",
    "len(q7_data)"
   ]
  },
  {
   "cell_type": "code",
   "execution_count": 37,
   "metadata": {
    "ExecuteTime": {
     "end_time": "2023-06-29T12:07:10.372725Z",
     "start_time": "2023-06-29T12:07:10.346290Z"
    }
   },
   "outputs": [
    {
     "data": {
      "text/plain": [
       "Counter({'Python': 303,\n",
       "         'SQL': 89,\n",
       "         'Java': 57,\n",
       "         'Javascript': 42,\n",
       "         'C': 81,\n",
       "         'C++': 68,\n",
       "         'MATLAB': 38,\n",
       "         'R': 89,\n",
       "         'Bash': 14,\n",
       "         'None': 3,\n",
       "         'Other': 15,\n",
       "         'Swift': 6,\n",
       "         'Julia': 2})"
      ]
     },
     "execution_count": 37,
     "metadata": {},
     "output_type": "execute_result"
    }
   ],
   "source": [
    "counter = Counter(q7_data)\n",
    "counter"
   ]
  },
  {
   "cell_type": "code",
   "execution_count": 38,
   "metadata": {
    "ExecuteTime": {
     "end_time": "2023-06-29T12:07:10.440947Z",
     "start_time": "2023-06-29T12:07:10.377968Z"
    }
   },
   "outputs": [
    {
     "data": {
      "text/html": [
       "<div>\n",
       "<style scoped>\n",
       "    .dataframe tbody tr th:only-of-type {\n",
       "        vertical-align: middle;\n",
       "    }\n",
       "\n",
       "    .dataframe tbody tr th {\n",
       "        vertical-align: top;\n",
       "    }\n",
       "\n",
       "    .dataframe thead th {\n",
       "        text-align: right;\n",
       "    }\n",
       "</style>\n",
       "<table border=\"1\" class=\"dataframe\">\n",
       "  <thead>\n",
       "    <tr style=\"text-align: right;\">\n",
       "      <th></th>\n",
       "      <th>Languages</th>\n",
       "      <th>Count</th>\n",
       "    </tr>\n",
       "  </thead>\n",
       "  <tbody>\n",
       "    <tr>\n",
       "      <th>0</th>\n",
       "      <td>Python</td>\n",
       "      <td>303</td>\n",
       "    </tr>\n",
       "    <tr>\n",
       "      <th>1</th>\n",
       "      <td>SQL</td>\n",
       "      <td>89</td>\n",
       "    </tr>\n",
       "    <tr>\n",
       "      <th>2</th>\n",
       "      <td>Java</td>\n",
       "      <td>57</td>\n",
       "    </tr>\n",
       "    <tr>\n",
       "      <th>3</th>\n",
       "      <td>Javascript</td>\n",
       "      <td>42</td>\n",
       "    </tr>\n",
       "    <tr>\n",
       "      <th>4</th>\n",
       "      <td>C</td>\n",
       "      <td>81</td>\n",
       "    </tr>\n",
       "  </tbody>\n",
       "</table>\n",
       "</div>"
      ],
      "text/plain": [
       "    Languages  Count\n",
       "0      Python    303\n",
       "1         SQL     89\n",
       "2        Java     57\n",
       "3  Javascript     42\n",
       "4           C     81"
      ]
     },
     "execution_count": 38,
     "metadata": {},
     "output_type": "execute_result"
    }
   ],
   "source": [
    "df_cnt = pd.DataFrame({'Languages': counter.keys(), 'Count': counter.values()})\n",
    "df_cnt.head()"
   ]
  },
  {
   "cell_type": "code",
   "execution_count": 39,
   "metadata": {
    "ExecuteTime": {
     "end_time": "2023-06-29T12:07:10.870328Z",
     "start_time": "2023-06-29T12:07:10.445783Z"
    },
    "scrolled": false
   },
   "outputs": [
    {
     "data": {
      "image/png": "[encoded data removed]",
      "text/plain": [
       "<Figure size 600x400 with 1 Axes>"
      ]
     },
     "metadata": {},
     "output_type": "display_data"
    }
   ],
   "source": [
    "plt.figure(figsize=(6, 4))\n",
    "sns.barplot(data=df_cnt, x='Count', y='Languages')\n",
    "plt.show()"
   ]
  }
 ],
 "metadata": {
  "colab": {
   "collapsed_sections": [],
   "name": "Chapter.03 탐색적 데이터 분석-03. Case2. Kaggle Survey.ipynb",
   "provenance": []
  },
  "hide_input": false,
  "kernelspec": {
   "display_name": "Python 3 (ipykernel)",
   "language": "python",
   "name": "python3"
  },
  "language_info": {
   "codemirror_mode": {
    "name": "ipython",
    "version": 3
   },
   "file_extension": ".py",
   "mimetype": "text/x-python",
   "name": "python",
   "nbconvert_exporter": "python",
   "pygments_lexer": "ipython3",
   "version": "3.9.13"
  },
  "toc": {
   "base_numbering": 1,
   "nav_menu": {},
   "number_sections": true,
   "sideBar": true,
   "skip_h1_title": false,
   "title_cell": "Table of Contents",
   "title_sidebar": "Contents",
   "toc_cell": false,
   "toc_position": {},
   "toc_section_display": true,
   "toc_window_display": false
  }
 },
 "nbformat": 4,
 "nbformat_minor": 4
}
