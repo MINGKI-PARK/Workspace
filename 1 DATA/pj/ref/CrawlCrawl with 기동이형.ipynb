{
 "cells": [
  {
   "cell_type": "markdown",
   "id": "b4ca1c55",
   "metadata": {},
   "source": [
    "+ 크롤러의 중요한 덕목은 안전하게 지속적으로 도는 것!"
   ]
  },
  {
   "cell_type": "code",
   "execution_count": 1,
   "id": "1116a485",
   "metadata": {
    "ExecuteTime": {
     "end_time": "2023-06-30T11:37:33.465072Z",
     "start_time": "2023-06-30T11:37:33.138957Z"
    }
   },
   "outputs": [],
   "source": [
    "import time, os, sys\n",
    "\n",
    "import chromedriver_autoinstaller as ca\n",
    "from selenium import webdriver"
   ]
  },
  {
   "cell_type": "code",
   "execution_count": 2,
   "id": "675d0f67",
   "metadata": {
    "ExecuteTime": {
     "end_time": "2023-06-30T05:51:39.064912Z",
     "start_time": "2023-06-30T05:51:39.046938Z"
    }
   },
   "outputs": [],
   "source": [
    "# 웹사이트 오픈\n",
    "\n",
    "# driver = webdriver.Chrome(ca.install())\n",
    "\n",
    "# time.sleep(2)\n",
    "\n",
    "# driver.get('https://www.naver.com')\n",
    "\n",
    "# driver.close()"
   ]
  },
  {
   "cell_type": "code",
   "execution_count": 10,
   "id": "f4d8236a",
   "metadata": {
    "ExecuteTime": {
     "end_time": "2023-06-30T05:54:48.304071Z",
     "start_time": "2023-06-30T05:54:48.266564Z"
    }
   },
   "outputs": [
    {
     "data": {
      "text/plain": [
       "'114.0.5735.199'"
      ]
     },
     "execution_count": 10,
     "metadata": {},
     "output_type": "execute_result"
    }
   ],
   "source": [
    "ca.get_chrome_version()"
   ]
  },
  {
   "cell_type": "code",
   "execution_count": 11,
   "id": "a91eebfe",
   "metadata": {
    "ExecuteTime": {
     "end_time": "2023-06-30T05:55:03.932471Z",
     "start_time": "2023-06-30T05:55:01.562782Z"
    }
   },
   "outputs": [
    {
     "data": {
      "text/plain": [
       "'C:\\\\Users\\\\Playdata\\\\anaconda3\\\\lib\\\\site-packages\\\\chromedriver_autoinstaller\\\\114\\\\chromedriver.exe'"
      ]
     },
     "execution_count": 11,
     "metadata": {},
     "output_type": "execute_result"
    }
   ],
   "source": [
    "ca.install()"
   ]
  },
  {
   "cell_type": "code",
   "execution_count": 3,
   "id": "90a9aebf",
   "metadata": {
    "ExecuteTime": {
     "end_time": "2023-06-30T11:38:37.594127Z",
     "start_time": "2023-06-30T11:38:37.585238Z"
    }
   },
   "outputs": [],
   "source": [
    "def ts(x):\n",
    "    time.sleep(x)"
   ]
  },
  {
   "cell_type": "code",
   "execution_count": 7,
   "id": "27a96e2e",
   "metadata": {
    "ExecuteTime": {
     "end_time": "2023-06-30T05:53:17.103318Z",
     "start_time": "2023-06-30T05:52:32.861801Z"
    }
   },
   "outputs": [],
   "source": [
    "# 위보다 조금 더 간결하게\n",
    "driver = webdriver.Chrome(ca.install())\n",
    "\n",
    "ts(2); driver.get('https://www.naver.com')\n",
    "ts(2); driver.maximize_window()\n",
    "ts(2); driver.close()"
   ]
  },
  {
   "cell_type": "code",
   "execution_count": 8,
   "id": "798dfc83",
   "metadata": {
    "ExecuteTime": {
     "end_time": "2023-06-30T05:53:40.244940Z",
     "start_time": "2023-06-30T05:53:40.225991Z"
    }
   },
   "outputs": [],
   "source": [
    "# # 드라이버 필요없이 최신 버전 셀리니움으로 가능?\n",
    "# driver = webdriver.Chrome()\n",
    "\n",
    "# ts(2); driver.get('https://www.naver.com')\n",
    "# ts(2); driver.maximize_window()\n",
    "# ts(2); driver.close()\n",
    "\n",
    "# # 불가"
   ]
  },
  {
   "cell_type": "code",
   "execution_count": null,
   "id": "6d9fd2ed",
   "metadata": {},
   "outputs": [],
   "source": [
    "# 팝업창 제거\n",
    "main = driver.window_handles\n",
    "\n",
    "for handle in main:\n",
    "    if handle != main[0]:\n",
    "        driver.switch_to.window(handle)\n",
    "        driver.close()\n",
    "        \n",
    "\n",
    "# 원래 창으로 돌아가기\n",
    "driver.switch_to.window(driver.window_handles[0])\n",
    "\n",
    "ts(5)\n",
    "driver.close()"
   ]
  },
  {
   "cell_type": "code",
   "execution_count": 12,
   "id": "b98d8b27",
   "metadata": {
    "ExecuteTime": {
     "end_time": "2023-06-30T06:47:14.056611Z",
     "start_time": "2023-06-30T06:46:29.386020Z"
    }
   },
   "outputs": [],
   "source": [
    "driver = webdriver.Chrome(ca.install())\n",
    "\n",
    "ts(2); driver.get('https://www.riss.kr')\n",
    "ts(2); driver.maximize_window()\n",
    "ts(2); driver.close()"
   ]
  },
  {
   "cell_type": "code",
   "execution_count": 17,
   "id": "cffc3b42",
   "metadata": {
    "ExecuteTime": {
     "end_time": "2023-06-30T06:52:20.723828Z",
     "start_time": "2023-06-30T06:50:59.588115Z"
    }
   },
   "outputs": [],
   "source": [
    "# handle 확인 테스트 코드\n",
    "driver = webdriver.Chrome(ca.install())\n",
    "\n",
    "ts(2); driver.get('https://www.riss.kr')\n",
    "ts(2); driver.maximize_window()\n",
    "\n",
    "print(driver.window_handles)\n",
    "\n",
    "driver.close()"
   ]
  },
  {
   "cell_type": "code",
   "execution_count": 24,
   "id": "ea859933",
   "metadata": {
    "ExecuteTime": {
     "end_time": "2023-06-30T06:56:44.276363Z",
     "start_time": "2023-06-30T06:56:23.494270Z"
    }
   },
   "outputs": [],
   "source": [
    "# 팝업창 닫기\n",
    "driver = webdriver.Chrome(ca.install())\n",
    "\n",
    "ts(2); driver.get('https://www.riss.kr')\n",
    "ts(2); driver.maximize_window()\n",
    "\n",
    "main = driver.window_handles\n",
    "\n",
    "for handle in main:\n",
    "    if handle != main[0]:\n",
    "        driver.switch_to.window(handle)\n",
    "        driver.close()\n",
    "        ts(1)\n",
    "\n",
    "driver.switch_to.window(main[0])\n",
    "\n",
    "driver.close()"
   ]
  },
  {
   "cell_type": "code",
   "execution_count": null,
   "id": "0cb0bc5e",
   "metadata": {},
   "outputs": [],
   "source": [
    "driver = webdriver.Chrome(ca.install())\n",
    "\n",
    "ts(2); driver.get('https://www.riss.kr')\n",
    "ts(2); driver.maximize_window()\n",
    "\n",
    "main = driver.window_handles\n",
    "\n",
    "for handle in main:\n",
    "    if handle != main[0]:\n",
    "        driver.switch_to.window(handle)\n",
    "        driver.close()\n",
    "        ts(1)\n",
    "\n",
    "driver.switch_to.window(main[0])\n",
    "\n",
    "driver.find_elements()\n",
    "\n",
    "\n",
    "driver.close()"
   ]
  },
  {
   "cell_type": "code",
   "execution_count": 8,
   "id": "a6af8d8f",
   "metadata": {
    "ExecuteTime": {
     "end_time": "2023-06-30T11:42:13.353596Z",
     "start_time": "2023-06-30T11:42:13.336273Z"
    }
   },
   "outputs": [],
   "source": []
  },
  {
   "cell_type": "code",
   "execution_count": 12,
   "id": "51d5985c",
   "metadata": {
    "ExecuteTime": {
     "end_time": "2023-06-30T11:44:25.676512Z",
     "start_time": "2023-06-30T11:44:17.289100Z"
    }
   },
   "outputs": [
    {
     "ename": "NoAlertPresentException",
     "evalue": "Message: no such alert\n  (Session info: chrome=114.0.5735.199)\n",
     "output_type": "error",
     "traceback": [
      "\u001b[1;31m---------------------------------------------------------------------------\u001b[0m",
      "\u001b[1;31mNoAlertPresentException\u001b[0m                   Traceback (most recent call last)",
      "\u001b[1;32m~\\AppData\\Local\\Temp\\ipykernel_13628\\702367098.py\u001b[0m in \u001b[0;36m<module>\u001b[1;34m\u001b[0m\n\u001b[0;32m     16\u001b[0m \u001b[1;31m# driver.find_elements()\u001b[0m\u001b[1;33m\u001b[0m\u001b[1;33m\u001b[0m\u001b[0m\n\u001b[0;32m     17\u001b[0m \u001b[1;33m\u001b[0m\u001b[0m\n\u001b[1;32m---> 18\u001b[1;33m \u001b[0malert\u001b[0m \u001b[1;33m=\u001b[0m \u001b[0mdriver\u001b[0m\u001b[1;33m.\u001b[0m\u001b[0mswitch_to\u001b[0m\u001b[1;33m.\u001b[0m\u001b[0malert\u001b[0m\u001b[1;33m\u001b[0m\u001b[1;33m\u001b[0m\u001b[0m\n\u001b[0m\u001b[0;32m     19\u001b[0m \u001b[0malert\u001b[0m\u001b[1;33m.\u001b[0m\u001b[0maccept\u001b[0m\u001b[1;33m(\u001b[0m\u001b[1;33m)\u001b[0m\u001b[1;33m\u001b[0m\u001b[1;33m\u001b[0m\u001b[0m\n\u001b[0;32m     20\u001b[0m \u001b[1;33m\u001b[0m\u001b[0m\n",
      "\u001b[1;32m~\\anaconda3\\lib\\site-packages\\selenium\\webdriver\\remote\\switch_to.py\u001b[0m in \u001b[0;36malert\u001b[1;34m(self)\u001b[0m\n\u001b[0;32m     53\u001b[0m         \"\"\"\n\u001b[0;32m     54\u001b[0m         \u001b[0malert\u001b[0m \u001b[1;33m=\u001b[0m \u001b[0mAlert\u001b[0m\u001b[1;33m(\u001b[0m\u001b[0mself\u001b[0m\u001b[1;33m.\u001b[0m\u001b[0m_driver\u001b[0m\u001b[1;33m)\u001b[0m\u001b[1;33m\u001b[0m\u001b[1;33m\u001b[0m\u001b[0m\n\u001b[1;32m---> 55\u001b[1;33m         \u001b[0malert\u001b[0m\u001b[1;33m.\u001b[0m\u001b[0mtext\u001b[0m\u001b[1;33m\u001b[0m\u001b[1;33m\u001b[0m\u001b[0m\n\u001b[0m\u001b[0;32m     56\u001b[0m         \u001b[1;32mreturn\u001b[0m \u001b[0malert\u001b[0m\u001b[1;33m\u001b[0m\u001b[1;33m\u001b[0m\u001b[0m\n\u001b[0;32m     57\u001b[0m \u001b[1;33m\u001b[0m\u001b[0m\n",
      "\u001b[1;32m~\\anaconda3\\lib\\site-packages\\selenium\\webdriver\\common\\alert.py\u001b[0m in \u001b[0;36mtext\u001b[1;34m(self)\u001b[0m\n\u001b[0;32m     65\u001b[0m         \"\"\"\n\u001b[0;32m     66\u001b[0m         \u001b[1;32mif\u001b[0m \u001b[0mself\u001b[0m\u001b[1;33m.\u001b[0m\u001b[0mdriver\u001b[0m\u001b[1;33m.\u001b[0m\u001b[0mw3c\u001b[0m\u001b[1;33m:\u001b[0m\u001b[1;33m\u001b[0m\u001b[1;33m\u001b[0m\u001b[0m\n\u001b[1;32m---> 67\u001b[1;33m             \u001b[1;32mreturn\u001b[0m \u001b[0mself\u001b[0m\u001b[1;33m.\u001b[0m\u001b[0mdriver\u001b[0m\u001b[1;33m.\u001b[0m\u001b[0mexecute\u001b[0m\u001b[1;33m(\u001b[0m\u001b[0mCommand\u001b[0m\u001b[1;33m.\u001b[0m\u001b[0mW3C_GET_ALERT_TEXT\u001b[0m\u001b[1;33m)\u001b[0m\u001b[1;33m[\u001b[0m\u001b[1;34m\"value\"\u001b[0m\u001b[1;33m]\u001b[0m\u001b[1;33m\u001b[0m\u001b[1;33m\u001b[0m\u001b[0m\n\u001b[0m\u001b[0;32m     68\u001b[0m         \u001b[1;32melse\u001b[0m\u001b[1;33m:\u001b[0m\u001b[1;33m\u001b[0m\u001b[1;33m\u001b[0m\u001b[0m\n\u001b[0;32m     69\u001b[0m             \u001b[1;32mreturn\u001b[0m \u001b[0mself\u001b[0m\u001b[1;33m.\u001b[0m\u001b[0mdriver\u001b[0m\u001b[1;33m.\u001b[0m\u001b[0mexecute\u001b[0m\u001b[1;33m(\u001b[0m\u001b[0mCommand\u001b[0m\u001b[1;33m.\u001b[0m\u001b[0mGET_ALERT_TEXT\u001b[0m\u001b[1;33m)\u001b[0m\u001b[1;33m[\u001b[0m\u001b[1;34m\"value\"\u001b[0m\u001b[1;33m]\u001b[0m\u001b[1;33m\u001b[0m\u001b[1;33m\u001b[0m\u001b[0m\n",
      "\u001b[1;32m~\\anaconda3\\lib\\site-packages\\selenium\\webdriver\\remote\\webdriver.py\u001b[0m in \u001b[0;36mexecute\u001b[1;34m(self, driver_command, params)\u001b[0m\n\u001b[0;32m    319\u001b[0m         \u001b[0mresponse\u001b[0m \u001b[1;33m=\u001b[0m \u001b[0mself\u001b[0m\u001b[1;33m.\u001b[0m\u001b[0mcommand_executor\u001b[0m\u001b[1;33m.\u001b[0m\u001b[0mexecute\u001b[0m\u001b[1;33m(\u001b[0m\u001b[0mdriver_command\u001b[0m\u001b[1;33m,\u001b[0m \u001b[0mparams\u001b[0m\u001b[1;33m)\u001b[0m\u001b[1;33m\u001b[0m\u001b[1;33m\u001b[0m\u001b[0m\n\u001b[0;32m    320\u001b[0m         \u001b[1;32mif\u001b[0m \u001b[0mresponse\u001b[0m\u001b[1;33m:\u001b[0m\u001b[1;33m\u001b[0m\u001b[1;33m\u001b[0m\u001b[0m\n\u001b[1;32m--> 321\u001b[1;33m             \u001b[0mself\u001b[0m\u001b[1;33m.\u001b[0m\u001b[0merror_handler\u001b[0m\u001b[1;33m.\u001b[0m\u001b[0mcheck_response\u001b[0m\u001b[1;33m(\u001b[0m\u001b[0mresponse\u001b[0m\u001b[1;33m)\u001b[0m\u001b[1;33m\u001b[0m\u001b[1;33m\u001b[0m\u001b[0m\n\u001b[0m\u001b[0;32m    322\u001b[0m             response['value'] = self._unwrap_value(\n\u001b[0;32m    323\u001b[0m                 response.get('value', None))\n",
      "\u001b[1;32m~\\anaconda3\\lib\\site-packages\\selenium\\webdriver\\remote\\errorhandler.py\u001b[0m in \u001b[0;36mcheck_response\u001b[1;34m(self, response)\u001b[0m\n\u001b[0;32m    240\u001b[0m                 \u001b[0malert_text\u001b[0m \u001b[1;33m=\u001b[0m \u001b[0mvalue\u001b[0m\u001b[1;33m[\u001b[0m\u001b[1;34m'alert'\u001b[0m\u001b[1;33m]\u001b[0m\u001b[1;33m.\u001b[0m\u001b[0mget\u001b[0m\u001b[1;33m(\u001b[0m\u001b[1;34m'text'\u001b[0m\u001b[1;33m)\u001b[0m\u001b[1;33m\u001b[0m\u001b[1;33m\u001b[0m\u001b[0m\n\u001b[0;32m    241\u001b[0m             \u001b[1;32mraise\u001b[0m \u001b[0mexception_class\u001b[0m\u001b[1;33m(\u001b[0m\u001b[0mmessage\u001b[0m\u001b[1;33m,\u001b[0m \u001b[0mscreen\u001b[0m\u001b[1;33m,\u001b[0m \u001b[0mstacktrace\u001b[0m\u001b[1;33m,\u001b[0m \u001b[0malert_text\u001b[0m\u001b[1;33m)\u001b[0m\u001b[1;33m\u001b[0m\u001b[1;33m\u001b[0m\u001b[0m\n\u001b[1;32m--> 242\u001b[1;33m         \u001b[1;32mraise\u001b[0m \u001b[0mexception_class\u001b[0m\u001b[1;33m(\u001b[0m\u001b[0mmessage\u001b[0m\u001b[1;33m,\u001b[0m \u001b[0mscreen\u001b[0m\u001b[1;33m,\u001b[0m \u001b[0mstacktrace\u001b[0m\u001b[1;33m)\u001b[0m\u001b[1;33m\u001b[0m\u001b[1;33m\u001b[0m\u001b[0m\n\u001b[0m\u001b[0;32m    243\u001b[0m \u001b[1;33m\u001b[0m\u001b[0m\n\u001b[0;32m    244\u001b[0m     \u001b[1;32mdef\u001b[0m \u001b[0m_value_or_default\u001b[0m\u001b[1;33m(\u001b[0m\u001b[0mself\u001b[0m\u001b[1;33m,\u001b[0m \u001b[0mobj\u001b[0m\u001b[1;33m,\u001b[0m \u001b[0mkey\u001b[0m\u001b[1;33m,\u001b[0m \u001b[0mdefault\u001b[0m\u001b[1;33m)\u001b[0m\u001b[1;33m:\u001b[0m\u001b[1;33m\u001b[0m\u001b[1;33m\u001b[0m\u001b[0m\n",
      "\u001b[1;31mNoAlertPresentException\u001b[0m: Message: no such alert\n  (Session info: chrome=114.0.5735.199)\n"
     ]
    }
   ],
   "source": [
    "driver = webdriver.Chrome(ca.install())\n",
    "\n",
    "ts(2); driver.get('https://lms.ictcog.or.kr/page/index.do#')\n",
    "ts(2); driver.maximize_window()\n",
    "\n",
    "# main = driver.window_handles\n",
    "\n",
    "# for handle in main:\n",
    "#     if handle != main[0]:\n",
    "#         driver.switch_to.window(handle)\n",
    "#         driver.close()\n",
    "#         ts(1)\n",
    "\n",
    "# driver.switch_to.window(main[0])\n",
    "\n",
    "# driver.find_elements()\n",
    "\n",
    "alert = driver.switch_to.alert\n",
    "alert.accept()\n",
    "\n",
    "# driver.close()"
   ]
  }
 ],
 "metadata": {
  "hide_input": false,
  "kernelspec": {
   "display_name": "Python 3 (ipykernel)",
   "language": "python",
   "name": "python3"
  },
  "language_info": {
   "codemirror_mode": {
    "name": "ipython",
    "version": 3
   },
   "file_extension": ".py",
   "mimetype": "text/x-python",
   "name": "python",
   "nbconvert_exporter": "python",
   "pygments_lexer": "ipython3",
   "version": "3.9.16"
  },
  "toc": {
   "base_numbering": 1,
   "nav_menu": {},
   "number_sections": true,
   "sideBar": true,
   "skip_h1_title": true,
   "title_cell": "Table of Contents",
   "title_sidebar": "Contents",
   "toc_cell": false,
   "toc_position": {},
   "toc_section_display": true,
   "toc_window_display": false
  }
 },
 "nbformat": 4,
 "nbformat_minor": 5
}
