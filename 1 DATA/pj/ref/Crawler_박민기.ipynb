{
 "cells": [
  {
   "cell_type": "code",
   "execution_count": 1,
   "metadata": {
    "ExecuteTime": {
     "end_time": "2023-07-04T15:03:43.401376Z",
     "start_time": "2023-07-04T15:03:06.784063Z"
    }
   },
   "outputs": [],
   "source": [
    "from selenium import webdriver\n",
    "from selenium.webdriver.common.by import By\n",
    "import chromedriver_autoinstaller as ca\n",
    "\n",
    "import time, os, sys\n",
    "\n",
    "# site = 'https://www.naver.com'\n",
    "site = 'https://korean.visitkorea.or.kr/search/search_list.do?keyword=여름여행&popKeywordYn=n'\n",
    "\n",
    "def ts(second : int):\n",
    "    time.sleep(second)\n",
    "\n",
    "# 웹사이트 오픈\n",
    "driver = webdriver.Chrome(ca.install())\n",
    "# driver = webdriver.Chrome()\n",
    "ts(2); driver.get(site)\n",
    "ts(2); driver.maximize_window()\n",
    "\n",
    "# 웹 사이트 제어하기\n",
    "main = driver.window_handles\n",
    "\n",
    "# 팝업창이 떠 있으면 전부 닫기\n",
    "for handle in main:\n",
    "    if handle != main[0]:\n",
    "        ts(1); driver.switch_to.window(handle)\n",
    "        ts(2); driver.close()\n",
    "        driver.switch_to.window(driver.window_handles[0])\n",
    "\n",
    "# 검색창에 검색어 넣기\n",
    "try :\n",
    "    ts(2); driver.find_element(By.CSS_SELECTOR, '#sa-campaign__v2 > div > button > span').click()\n",
    "except:\n",
    "    pass\n",
    "\n",
    "ts(2); driver.find_element(By.XPATH, '//*[@id=\"sorting_options\"]/button[4]/span').click() \n",
    "ts(3); driver.find_element(By.ID, '32').click()\n",
    "ts(3); elements = driver.find_elements(By.XPATH, '//*[@id=\"listBody\"]/ul/li/div[2]/div[1]/a')\n",
    "\n",
    "# file 저장하기\n",
    "with open(\"list.txt\", \"w\") as file:\n",
    "    for i, e in enumerate(elements):\n",
    "        link_text = e.text\n",
    "        link_text = link_text.replace('\\n', '')\n",
    "        print(i, link_text)\n",
    "        \n",
    "        file.write(link_text + '\\n')\n",
    "\n",
    "ts(5); driver.close()\n",
    "\n",
    "driver.quit()"
   ]
  }
 ],
 "metadata": {
  "hide_input": false,
  "kernelspec": {
   "display_name": "Python 3 (ipykernel)",
   "language": "python",
   "name": "python3"
  },
  "language_info": {
   "codemirror_mode": {
    "name": "ipython",
    "version": 3
   },
   "file_extension": ".py",
   "mimetype": "text/x-python",
   "name": "python",
   "nbconvert_exporter": "python",
   "pygments_lexer": "ipython3",
   "version": "3.9.16"
  },
  "toc": {
   "base_numbering": 1,
   "nav_menu": {},
   "number_sections": true,
   "sideBar": true,
   "skip_h1_title": true,
   "title_cell": "Table of Contents",
   "title_sidebar": "Contents",
   "toc_cell": false,
   "toc_position": {},
   "toc_section_display": true,
   "toc_window_display": false
  }
 },
 "nbformat": 4,
 "nbformat_minor": 4
}
