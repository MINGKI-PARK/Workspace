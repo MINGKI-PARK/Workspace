{
 "cells": [
  {
   "cell_type": "markdown",
   "id": "8fee74ab",
   "metadata": {},
   "source": [
    "## 1. 구글 이미지 크롤링"
   ]
  },
  {
   "cell_type": "markdown",
   "id": "0fc339f2",
   "metadata": {},
   "source": [
    "### 1.1 모듈 로딩"
   ]
  },
  {
   "cell_type": "code",
   "execution_count": 1,
   "id": "eb191f53",
   "metadata": {
    "ExecuteTime": {
     "end_time": "2023-07-07T01:31:54.107268Z",
     "start_time": "2023-07-07T01:31:53.224050Z"
    }
   },
   "outputs": [],
   "source": [
    "from bs4 import BeautifulSoup\n",
    "from selenium import webdriver\n",
    "from selenium.webdriver.common.keys import Keys\n",
    "from selenium.webdriver.common.by import By\n",
    "import chromedriver_autoinstaller as ca\n",
    "import urllib.request, time, os"
   ]
  },
  {
   "cell_type": "code",
   "execution_count": 2,
   "id": "dcb5f3e2",
   "metadata": {
    "ExecuteTime": {
     "end_time": "2023-07-07T02:03:56.432822Z",
     "start_time": "2023-07-07T02:03:56.412840Z"
    }
   },
   "outputs": [],
   "source": [
    "def ts(x):\n",
    "    time.sleep(x)"
   ]
  },
  {
   "cell_type": "markdown",
   "id": "d70dd75f",
   "metadata": {},
   "source": [
    "### 1.2 크롤링 코드"
   ]
  },
  {
   "cell_type": "code",
   "execution_count": 121,
   "id": "2d4fa3be",
   "metadata": {
    "ExecuteTime": {
     "end_time": "2023-07-07T05:08:07.244365Z",
     "start_time": "2023-07-07T05:07:21.647397Z"
    },
    "jupyter": {
     "source_hidden": true
    },
    "tags": []
   },
   "outputs": [],
   "source": [
    "# 필요한 정보 받기\n",
    "query_txt = '새끼고양이'\n",
    "cnt = 50\n",
    "\n",
    "\n",
    "# 현재시간 활용 폴더 생성\n",
    "os.chdir('C:\\\\Users\\\\Playdata\\\\Desktop\\\\BigLeader\\\\Crawaler')\n",
    "now = os.getcwd() + '\\\\' + time.strftime('%Y%m%d') + '-' + query_txt  \n",
    "os.makedirs(now)\n",
    "os.chdir(now)\n",
    "\n",
    "\n",
    "try :\n",
    "    driver = webdriver.Chrome(ca.install())\n",
    "    driver.get('https://www.google.com')\n",
    "except :\n",
    "    pass\n",
    "\n",
    "\n",
    "# 검색어 입력 및 이미지 이동\n",
    "ts(2); driver.find_element(By.ID, 'APjFqb').send_keys(query_txt + '\\n')\n",
    "ts(2); driver.find_element(By.LINK_TEXT, '이미지').click()\n",
    "\n",
    "\n",
    "# 맨 아래까지 내리기 (END키*5, 이미지 더보기 버튼 클릭. END키*5)\n",
    "for i in range(5):\n",
    "    ts(2)\n",
    "    driver.find_element_by_xpath('//body').send_keys(Keys.END)\n",
    "\n",
    "ts(2); driver.find_element(By.XPATH, '//*[@id=\"islmp\"]/div/div/div/div/div[1]/div[2]/div[2]/input').click()   \n",
    "\n",
    "for i in range(5):\n",
    "    ts(2)\n",
    "    driver.find_element_by_xpath('//body').send_keys(Keys.END)\n",
    "\n",
    "# 이미지 추출하기  \n",
    "img_src = []\n",
    "soup = BeautifulSoup(driver.page_source, 'html.parser')\n",
    "\n",
    "for i in soup.find_all('img', 'rg_i Q4LuWd'):\n",
    "    try:\n",
    "        img_src.append(i['src'])\n",
    "    \n",
    "    # src가 아닌 data-src로 된 태그도 포함해서 분류\n",
    "    except:\n",
    "        img_src.append(i['data-src'])\n",
    "\n",
    "# 저장하기\n",
    "for idx, save_img in enumerate(img_src, start = 1) :\n",
    "    urllib.request.urlretrieve(save_img, str(idx) + '.png')\n",
    "    \n",
    "    if idx == cnt :\n",
    "        break\n",
    "\n",
    "driver.close()"
   ]
  },
  {
   "cell_type": "markdown",
   "id": "3abf3562",
   "metadata": {},
   "source": [
    "## 2. Pixabay 크롤링"
   ]
  },
  {
   "cell_type": "markdown",
   "id": "775f12f8",
   "metadata": {},
   "source": [
    "### 2.1 모듈 로딩"
   ]
  },
  {
   "cell_type": "code",
   "execution_count": 1,
   "id": "692e2917",
   "metadata": {
    "ExecuteTime": {
     "end_time": "2023-07-07T06:27:02.500468Z",
     "start_time": "2023-07-07T06:27:02.140340Z"
    }
   },
   "outputs": [],
   "source": [
    "from bs4 import BeautifulSoup\n",
    "import chromedriver_autoinstaller as ca\n",
    "import os, time\n",
    "from selenium import webdriver\n",
    "from selenium.webdriver.common.by import By\n",
    "from selenium.webdriver.common.keys import Keys\n",
    "import urllib.request"
   ]
  },
  {
   "cell_type": "code",
   "execution_count": 20,
   "id": "dbbcd7c1",
   "metadata": {
    "ExecuteTime": {
     "end_time": "2023-07-07T06:43:09.718775Z",
     "start_time": "2023-07-07T06:43:09.707806Z"
    }
   },
   "outputs": [],
   "source": [
    "# 필요한 정보 받기\n",
    "query_txt = 'kitten' # 검색어\n",
    "page_num = 30 # 페이지 수\n",
    "img_cnt = 50 # 저장할 이미지 수\n",
    "\n",
    "\n",
    "# 현재시간 활용 폴더 생성\n",
    "os.chdir('C:\\\\Users\\\\Playdata\\\\Desktop\\\\BigLeader\\\\Crawaler')\n",
    "now = os.getcwd() + '\\\\' + time.strftime('%Y%m%d') + '-' + query_txt  \n",
    "os.makedirs(now)\n",
    "os.chdir(now)"
   ]
  },
  {
   "cell_type": "code",
   "execution_count": 21,
   "id": "53a3aaf2",
   "metadata": {
    "ExecuteTime": {
     "end_time": "2023-07-07T06:43:29.580685Z",
     "start_time": "2023-07-07T06:43:29.566722Z"
    }
   },
   "outputs": [
    {
     "data": {
      "text/plain": [
       "'https://pixabay.com/ko/images/search/kitten/?pagi=1'"
      ]
     },
     "execution_count": 21,
     "metadata": {},
     "output_type": "execute_result"
    }
   ],
   "source": [
    "f'https://pixabay.com/ko/images/search/{query_txt}/?pagi=1'"
   ]
  },
  {
   "cell_type": "code",
   "execution_count": 22,
   "id": "f4340455",
   "metadata": {
    "ExecuteTime": {
     "end_time": "2023-07-07T06:43:42.888050Z",
     "start_time": "2023-07-07T06:43:39.264421Z"
    }
   },
   "outputs": [],
   "source": [
    "try :\n",
    "    driver = webdriver.Chrome(ca.install())\n",
    "    driver.get(f'https://pixabay.com/ko/images/search/{query_txt}/?pagi=1')\n",
    "except :\n",
    "    pass"
   ]
  },
  {
   "cell_type": "code",
   "execution_count": 23,
   "id": "ec0a4a77",
   "metadata": {
    "ExecuteTime": {
     "end_time": "2023-07-07T06:43:50.515441Z",
     "start_time": "2023-07-07T06:43:50.265733Z"
    }
   },
   "outputs": [],
   "source": [
    "# 이미지 추출하기  \n",
    "img_src = []\n",
    "soup = BeautifulSoup(driver.page_source, 'html.parser')\n",
    "\n",
    "for i in soup.find_all('img'):\n",
    "    try:\n",
    "        img_src.append(i['src'])\n",
    "    \n",
    "    # src가 아닌 data-src로 된 태그는 pass\n",
    "    except:\n",
    "        pass\n"
   ]
  },
  {
   "cell_type": "code",
   "execution_count": 17,
   "id": "98251f1b",
   "metadata": {
    "ExecuteTime": {
     "end_time": "2023-07-07T06:39:00.351116Z",
     "start_time": "2023-07-07T06:39:00.333867Z"
    }
   },
   "outputs": [
    {
     "data": {
      "text/plain": [
       "<img class=\"linkPixel--ufTPP\"/>"
      ]
     },
     "execution_count": 17,
     "metadata": {},
     "output_type": "execute_result"
    }
   ],
   "source": [
    "soup.find_all('img')[101]"
   ]
  },
  {
   "cell_type": "code",
   "execution_count": 12,
   "id": "1cb2c830",
   "metadata": {
    "ExecuteTime": {
     "end_time": "2023-07-07T06:36:07.369918Z",
     "start_time": "2023-07-07T06:36:07.353639Z"
    },
    "scrolled": true
   },
   "outputs": [
    {
     "data": {
      "text/plain": [
       "102"
      ]
     },
     "execution_count": 12,
     "metadata": {},
     "output_type": "execute_result"
    }
   ],
   "source": [
    "len(soup.find_all('img'))"
   ]
  },
  {
   "cell_type": "code",
   "execution_count": 16,
   "id": "465448ff",
   "metadata": {
    "ExecuteTime": {
     "end_time": "2023-07-07T06:38:50.489094Z",
     "start_time": "2023-07-07T06:38:50.478123Z"
    }
   },
   "outputs": [
    {
     "name": "stdout",
     "output_type": "stream",
     "text": [
      "101\n"
     ]
    }
   ],
   "source": [
    "a = 0\n",
    "\n",
    "for i in soup.find_all('img'):\n",
    "    try:\n",
    "        i['src']\n",
    "        a += 1\n",
    "    except:\n",
    "        pass"
   ]
  },
  {
   "cell_type": "code",
   "execution_count": 24,
   "id": "c3a12ebb",
   "metadata": {
    "ExecuteTime": {
     "end_time": "2023-07-07T06:44:03.601320Z",
     "start_time": "2023-07-07T06:44:03.586370Z"
    }
   },
   "outputs": [
    {
     "data": {
      "text/plain": [
       "['/link/?ua=cd3%3Dimage%26cd7%3Dko%253Akitten%253AKOR%26ec%3Dapi_ad%26ea%3Dpixel%26el%3Dgetty%26tid%3DUA-20223345-1%26dr%3D&sp=%2524%3Dadvertisement_viewed%26user_action%3Dpixel%26ad_partner%3Dgetty%26ad_content%3Dapi_ad%26ad_type%3D%26media_type%3Dphoto%26media_subtype%3D%26media_id%3D&next=https%3A%2F%2Fpixabay.com%2Fstatic%2Fimg%2Fblank.gif&hash=a4c0f421b012563a24437f7d55ea7639a6a45c90&=',\n",
       " 'https://cdn.pixabay.com/photo/2017/02/20/18/03/cat-2083492_1280.jpg',\n",
       " 'https://cdn.pixabay.com/photo/2019/11/08/11/56/kitten-4611189_640.jpg',\n",
       " 'https://cdn.pixabay.com/photo/2016/03/28/10/05/kitten-1285341_640.jpg',\n",
       " 'https://cdn.pixabay.com/photo/2018/09/11/11/47/animal-3669244_640.jpg',\n",
       " 'https://cdn.pixabay.com/photo/2014/11/13/02/53/girl-529013_640.jpg',\n",
       " '/static/img/blank.gif',\n",
       " '/static/img/blank.gif',\n",
       " '/static/img/blank.gif',\n",
       " '/static/img/blank.gif',\n",
       " '/static/img/blank.gif',\n",
       " '/static/img/blank.gif',\n",
       " '/static/img/blank.gif',\n",
       " '/static/img/blank.gif',\n",
       " '/static/img/blank.gif',\n",
       " '/static/img/blank.gif',\n",
       " '/static/img/blank.gif',\n",
       " '/static/img/blank.gif',\n",
       " '/static/img/blank.gif',\n",
       " '/static/img/blank.gif',\n",
       " '/static/img/blank.gif',\n",
       " '/static/img/blank.gif',\n",
       " '/static/img/blank.gif',\n",
       " '/static/img/blank.gif',\n",
       " '/static/img/blank.gif',\n",
       " '/static/img/blank.gif',\n",
       " 'https://cdn.pixabay.com/photo/2014/11/30/14/11/cat-551554_640.jpg',\n",
       " 'https://cdn.pixabay.com/photo/2023/06/14/06/22/cat-8062388_640.jpg',\n",
       " 'https://cdn.pixabay.com/photo/2017/11/14/13/06/kitty-2948404_640.jpg',\n",
       " 'https://cdn.pixabay.com/photo/2014/03/12/01/36/eyes-285825_640.png',\n",
       " 'https://cdn.pixabay.com/photo/2017/02/15/12/12/cat-2068462_640.jpg',\n",
       " '/static/img/blank.gif',\n",
       " '/static/img/blank.gif',\n",
       " '/static/img/blank.gif',\n",
       " '/static/img/blank.gif',\n",
       " '/static/img/blank.gif',\n",
       " '/static/img/blank.gif',\n",
       " '/static/img/blank.gif',\n",
       " '/static/img/blank.gif',\n",
       " '/static/img/blank.gif',\n",
       " '/static/img/blank.gif',\n",
       " '/static/img/blank.gif',\n",
       " '/static/img/blank.gif',\n",
       " '/static/img/blank.gif',\n",
       " '/static/img/blank.gif',\n",
       " '/static/img/blank.gif',\n",
       " '/static/img/blank.gif',\n",
       " '/static/img/blank.gif',\n",
       " '/static/img/blank.gif',\n",
       " '/static/img/blank.gif',\n",
       " '/static/img/blank.gif',\n",
       " 'https://cdn.pixabay.com/photo/2017/11/09/21/41/cat-2934720_640.jpg',\n",
       " 'https://cdn.pixabay.com/photo/2016/06/14/00/14/cat-1455468_640.jpg',\n",
       " 'https://cdn.pixabay.com/photo/2016/09/05/21/37/cat-1647775_640.jpg',\n",
       " 'https://cdn.pixabay.com/photo/2020/03/01/21/12/cat-4894153_640.jpg',\n",
       " 'https://cdn.pixabay.com/photo/2019/10/18/09/29/cat-4558651_640.jpg',\n",
       " '/static/img/blank.gif',\n",
       " '/static/img/blank.gif',\n",
       " '/static/img/blank.gif',\n",
       " '/static/img/blank.gif',\n",
       " '/static/img/blank.gif',\n",
       " '/static/img/blank.gif',\n",
       " '/static/img/blank.gif',\n",
       " '/static/img/blank.gif',\n",
       " '/static/img/blank.gif',\n",
       " '/static/img/blank.gif',\n",
       " '/static/img/blank.gif',\n",
       " '/static/img/blank.gif',\n",
       " '/static/img/blank.gif',\n",
       " '/static/img/blank.gif',\n",
       " '/static/img/blank.gif',\n",
       " '/static/img/blank.gif',\n",
       " '/static/img/blank.gif',\n",
       " '/static/img/blank.gif',\n",
       " '/static/img/blank.gif',\n",
       " '/static/img/blank.gif',\n",
       " 'https://cdn.pixabay.com/photo/2017/07/25/01/22/cat-2536662_640.jpg',\n",
       " 'https://cdn.pixabay.com/photo/2016/02/10/16/37/cat-1192026_640.jpg',\n",
       " 'https://cdn.pixabay.com/photo/2016/12/30/17/27/cat-1941089_640.jpg',\n",
       " 'https://cdn.pixabay.com/photo/2018/05/30/19/29/kitten-3442257_640.jpg',\n",
       " 'https://cdn.pixabay.com/photo/2016/11/21/14/47/kitten-1845789_640.jpg',\n",
       " '/static/img/blank.gif',\n",
       " '/static/img/blank.gif',\n",
       " '/static/img/blank.gif',\n",
       " '/static/img/blank.gif',\n",
       " '/static/img/blank.gif',\n",
       " '/static/img/blank.gif',\n",
       " '/static/img/blank.gif',\n",
       " '/static/img/blank.gif',\n",
       " '/static/img/blank.gif',\n",
       " '/static/img/blank.gif',\n",
       " '/static/img/blank.gif',\n",
       " '/static/img/blank.gif',\n",
       " '/static/img/blank.gif',\n",
       " '/static/img/blank.gif',\n",
       " '/static/img/blank.gif',\n",
       " '/static/img/blank.gif',\n",
       " '/static/img/blank.gif',\n",
       " '/static/img/blank.gif',\n",
       " '/static/img/blank.gif',\n",
       " '/static/img/blank.gif']"
      ]
     },
     "execution_count": 24,
     "metadata": {},
     "output_type": "execute_result"
    }
   ],
   "source": [
    "img_src"
   ]
  },
  {
   "cell_type": "code",
   "execution_count": null,
   "id": "de24e27b",
   "metadata": {},
   "outputs": [],
   "source": [
    "# # 검색어 입력 및 이미지 이동\n",
    "# ts(2); driver.find_element(By.ID, 'APjFqb').send_keys(query_txt + '\\n')\n",
    "# ts(2); driver.find_element(By.LINK_TEXT, '이미지').click()\n",
    "\n",
    "\n",
    "# 페이지 맨 아래까지 내리기 (END키*5, 이미지 더보기 버튼 클릭. END키*5)\n",
    "for i in range(5):\n",
    "    ts(2)\n",
    "    driver.find_element_by_xpath('//body').send_keys(Keys.END)\n",
    "\n",
    "ts(2); driver.find_element(By.XPATH, '//*[@id=\"islmp\"]/div/div/div/div/div[1]/div[2]/div[2]/input').click()   \n",
    "\n",
    "for i in range(5):\n",
    "    ts(2)\n",
    "    driver.find_element_by_xpath('//body').send_keys(Keys.END)\n",
    "\n",
    "# 이미지 추출하기  \n",
    "img_src = []\n",
    "soup = BeautifulSoup(driver.page_source, 'html.parser')\n",
    "\n",
    "for i in soup.find_all('img', 'rg_i Q4LuWd'):\n",
    "    try:\n",
    "        img_src.append(i['src'])\n",
    "    \n",
    "    # src가 아닌 data-src로 된 태그도 포함해서 분류\n",
    "    except:\n",
    "        img_src.append(i['data-src'])\n",
    "\n",
    "# 저장하기\n",
    "for idx, save_img in enumerate(img_src, start = 1) :\n",
    "    urllib.request.urlretrieve(save_img, str(idx) + '.png')\n",
    "    \n",
    "    if idx == cnt :\n",
    "        break"
   ]
  },
  {
   "cell_type": "code",
   "execution_count": 25,
   "id": "19b9bd8b",
   "metadata": {
    "ExecuteTime": {
     "end_time": "2023-07-07T06:48:33.391364Z",
     "start_time": "2023-07-07T06:48:33.292731Z"
    }
   },
   "outputs": [],
   "source": [
    "driver.close()"
   ]
  },
  {
   "cell_type": "code",
   "execution_count": null,
   "id": "49e562db",
   "metadata": {},
   "outputs": [],
   "source": []
  },
  {
   "cell_type": "code",
   "execution_count": null,
   "id": "fc39a17b",
   "metadata": {},
   "outputs": [],
   "source": []
  },
  {
   "cell_type": "code",
   "execution_count": null,
   "id": "dbdfebab",
   "metadata": {},
   "outputs": [],
   "source": []
  },
  {
   "cell_type": "code",
   "execution_count": null,
   "id": "b7b0c4fd",
   "metadata": {},
   "outputs": [],
   "source": []
  },
  {
   "cell_type": "code",
   "execution_count": null,
   "id": "4bff5820",
   "metadata": {},
   "outputs": [],
   "source": []
  },
  {
   "cell_type": "code",
   "execution_count": null,
   "id": "70c9f25e",
   "metadata": {},
   "outputs": [],
   "source": []
  },
  {
   "cell_type": "code",
   "execution_count": null,
   "id": "9eee7241",
   "metadata": {},
   "outputs": [],
   "source": []
  },
  {
   "cell_type": "code",
   "execution_count": null,
   "id": "bb0a0eab",
   "metadata": {},
   "outputs": [],
   "source": []
  },
  {
   "cell_type": "code",
   "execution_count": null,
   "id": "27115f2d",
   "metadata": {},
   "outputs": [],
   "source": []
  },
  {
   "cell_type": "code",
   "execution_count": null,
   "id": "90827583",
   "metadata": {},
   "outputs": [],
   "source": []
  }
 ],
 "metadata": {
  "hide_input": false,
  "kernelspec": {
   "display_name": "Python 3 (ipykernel)",
   "language": "python",
   "name": "python3"
  },
  "language_info": {
   "codemirror_mode": {
    "name": "ipython",
    "version": 3
   },
   "file_extension": ".py",
   "mimetype": "text/x-python",
   "name": "python",
   "nbconvert_exporter": "python",
   "pygments_lexer": "ipython3",
   "version": "3.9.16"
  },
  "toc": {
   "base_numbering": 1,
   "nav_menu": {},
   "number_sections": false,
   "sideBar": true,
   "skip_h1_title": false,
   "title_cell": "Table of Contents",
   "title_sidebar": "Contents",
   "toc_cell": false,
   "toc_position": {},
   "toc_section_display": true,
   "toc_window_display": false
  }
 },
 "nbformat": 4,
 "nbformat_minor": 5
}
