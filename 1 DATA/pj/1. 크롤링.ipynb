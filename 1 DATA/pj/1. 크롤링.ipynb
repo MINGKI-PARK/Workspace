{
 "cells": [
  {
   "cell_type": "code",
   "execution_count": 1,
   "id": "79735a8b-442a-4461-aba3-de3af130d820",
   "metadata": {},
   "outputs": [],
   "source": [
    "from bs4 import BeautifulSoup as bs\n",
    "from selenium import webdriver\n",
    "from selenium.webdriver.chrome.service import Service as ChromeService\n",
    "from selenium.webdriver.common.keys import Keys\n",
    "from selenium.webdriver.common.by import By\n",
    "from webdriver_manager.chrome import ChromeDriverManager\n",
    "\n",
    "import urllib.request, time, os"
   ]
  },
  {
   "cell_type": "code",
   "execution_count": 2,
   "id": "dd35db45-a888-425a-bf2c-24129585906e",
   "metadata": {},
   "outputs": [],
   "source": [
    "def ts(x):\n",
    "    time.sleep(x)"
   ]
  },
  {
   "cell_type": "markdown",
   "id": "1d530d85-61b7-4627-9424-08bc0ec0e428",
   "metadata": {},
   "source": [
    "## 1. "
   ]
  },
  {
   "cell_type": "code",
   "execution_count": 17,
   "id": "ffd1fb37-fd28-43c1-be91-e1da84e42e8d",
   "metadata": {},
   "outputs": [],
   "source": [
    "driver = webdriver.Chrome(service=ChromeService(ChromeDriverManager().install())); ts(2)\n",
    "driver.get('https://www.naver.com'); ts(2)\n",
    "\n",
    "\n",
    "driver.find_element(By.ID, 'query').send_keys('관악구 돈가스' + '\\n'); ts(3)\n",
    "driver.find_element(By.XPATH, '//*[@id=\"place-main-section-root\"]/section/div/div[6]/a').click()\n",
    "driver.switch_to.window(driver.window_handles[1])\n",
    "\n",
    "\n",
    "# iframe 안으로 들어가기\n",
    "driver.switch_to.frame('searchIframe')\n",
    "\n",
    "# iframe 안쪽을 한번 클릭하기\n",
    "driver.find_element(By.ID, '_pcmap_list_scroll_container').click()\n",
    "\n",
    "# 로딩된 데이터 개수 확인\n",
    "res = driver.find_elements(By.CSS_SELECTOR, '#_pcmap_list_scroll_container > ul > li')\n",
    "before_len = len(res)\n",
    "\n",
    "# 페이지 아래로 내리기\n",
    "while True:\n",
    "    # 맨 아래로 스크롤 내린다.\n",
    "    driver.find_element(By.CSS_SELECTOR, 'body').send_keys(Keys.END)\n",
    "\n",
    "    # 스크롤 사이 페이지 로딩 시간\n",
    "    ts(2)\n",
    "\n",
    "    # 스크롤 후 로딩된 데이터 개수 확인\n",
    "    res = driver.find_elements(By.CSS_SELECTOR, '#_pcmap_list_scroll_container > ul > li')\n",
    "    after_len = len(res)\n",
    "\n",
    "    # 로딩된 데이터 개수가 같다면 반복 멈춤\n",
    "    if before_len == after_len:\n",
    "        break\n",
    "    before_len = after_len\n",
    "\n",
    "# 첫 번째 음식점부터 클릭\n",
    "driver.find_element(By.CSS_SELECTOR, '#_pcmap_list_scroll_container > ul > li:nth-child(1)').click()\n",
    "ts(1)\n",
    "\n",
    "# iFrame 나가 기본 콘텐츠로 돌아가기\n",
    "driver.switch_to.default_content()\n",
    "\n",
    "# iframe 전환하기\n",
    "driver.switch_to.frame('entryIframe') # 상세정보"
   ]
  },
  {
   "cell_type": "code",
   "execution_count": 36,
   "id": "27f4e7b4-ca84-46ff-bb96-7206cb21beab",
   "metadata": {},
   "outputs": [
    {
     "ename": "NoSuchElementException",
     "evalue": "Message: no such element: Unable to locate element: {\"method\":\"xpath\",\"selector\":\"//*[@id=\"app-root\"]/div/div/div/div[7]/div/div[2]/div/div/div[9]/div/a/span[1]\"}\n  (Session info: chrome=115.0.5790.171); For documentation on this error, please visit: https://www.selenium.dev/documentation/webdriver/troubleshooting/errors#no-such-element-exception\nStacktrace:\nBacktrace:\n\tGetHandleVerifier [0x00E32B63+47795]\n\t(No symbol) [0x00DC67E1]\n\t(No symbol) [0x00CCC7ED]\n\t(No symbol) [0x00CF9AC8]\n\t(No symbol) [0x00CF9B8B]\n\t(No symbol) [0x00D28A82]\n\t(No symbol) [0x00D14D14]\n\t(No symbol) [0x00D271DA]\n\t(No symbol) [0x00D14AC6]\n\t(No symbol) [0x00CF13D7]\n\t(No symbol) [0x00CF255D]\n\tGetHandleVerifier [0x01086F89+2490073]\n\tGetHandleVerifier [0x010CC361+2773681]\n\tGetHandleVerifier [0x010C6211+2748769]\n\tGetHandleVerifier [0x00EB16B0+566784]\n\t(No symbol) [0x00DD019A]\n\t(No symbol) [0x00DCC418]\n\t(No symbol) [0x00DCC4FB]\n\t(No symbol) [0x00DBF317]\n\tBaseThreadInitThunk [0x754600C9+25]\n\tRtlGetAppContainerNamedObjectPath [0x76EC7B1E+286]\n\tRtlGetAppContainerNamedObjectPath [0x76EC7AEE+238]\n",
     "output_type": "error",
     "traceback": [
      "\u001b[1;31m---------------------------------------------------------------------------\u001b[0m",
      "\u001b[1;31mNoSuchElementException\u001b[0m                    Traceback (most recent call last)",
      "Cell \u001b[1;32mIn[36], line 21\u001b[0m\n\u001b[0;32m     17\u001b[0m res_broad \u001b[38;5;241m=\u001b[39m driver\u001b[38;5;241m.\u001b[39mfind_element(By\u001b[38;5;241m.\u001b[39mXPATH, \u001b[38;5;124m'\u001b[39m\u001b[38;5;124m//*[@id=\u001b[39m\u001b[38;5;124m\"\u001b[39m\u001b[38;5;124mapp-root\u001b[39m\u001b[38;5;124m\"\u001b[39m\u001b[38;5;124m]/div/div/div/div[6]/div/div[2]/div/div/div[7]\u001b[39m\u001b[38;5;124m'\u001b[39m)\u001b[38;5;241m.\u001b[39mtext\n\u001b[0;32m     19\u001b[0m \u001b[38;5;66;03m# 정보 클릭\u001b[39;00m\n\u001b[0;32m     20\u001b[0m \u001b[38;5;66;03m# driver.find_element(By.XPATH, '//*[@id=\"app-root\"]/div/div/div/div[7]/div/div[2]/div/div/div[9]/div/a/span[1]').click()\u001b[39;00m\n\u001b[1;32m---> 21\u001b[0m res_info \u001b[38;5;241m=\u001b[39m \u001b[43mdriver\u001b[49m\u001b[38;5;241;43m.\u001b[39;49m\u001b[43mfind_element\u001b[49m\u001b[43m(\u001b[49m\u001b[43mBy\u001b[49m\u001b[38;5;241;43m.\u001b[39;49m\u001b[43mXPATH\u001b[49m\u001b[43m,\u001b[49m\u001b[43m \u001b[49m\u001b[38;5;124;43m'\u001b[39;49m\u001b[38;5;124;43m//*[@id=\u001b[39;49m\u001b[38;5;124;43m\"\u001b[39;49m\u001b[38;5;124;43mapp-root\u001b[39;49m\u001b[38;5;124;43m\"\u001b[39;49m\u001b[38;5;124;43m]/div/div/div/div[7]/div/div[2]/div/div/div[9]/div/a/span[1]\u001b[39;49m\u001b[38;5;124;43m'\u001b[39;49m\u001b[43m)\u001b[49m\u001b[38;5;241m.\u001b[39mtext\n",
      "File \u001b[1;32m~\\anaconda3\\envs\\work\\lib\\site-packages\\selenium\\webdriver\\remote\\webdriver.py:739\u001b[0m, in \u001b[0;36mWebDriver.find_element\u001b[1;34m(self, by, value)\u001b[0m\n\u001b[0;32m    736\u001b[0m     by \u001b[38;5;241m=\u001b[39m By\u001b[38;5;241m.\u001b[39mCSS_SELECTOR\n\u001b[0;32m    737\u001b[0m     value \u001b[38;5;241m=\u001b[39m \u001b[38;5;124mf\u001b[39m\u001b[38;5;124m'\u001b[39m\u001b[38;5;124m[name=\u001b[39m\u001b[38;5;124m\"\u001b[39m\u001b[38;5;132;01m{\u001b[39;00mvalue\u001b[38;5;132;01m}\u001b[39;00m\u001b[38;5;124m\"\u001b[39m\u001b[38;5;124m]\u001b[39m\u001b[38;5;124m'\u001b[39m\n\u001b[1;32m--> 739\u001b[0m \u001b[38;5;28;01mreturn\u001b[39;00m \u001b[38;5;28;43mself\u001b[39;49m\u001b[38;5;241;43m.\u001b[39;49m\u001b[43mexecute\u001b[49m\u001b[43m(\u001b[49m\u001b[43mCommand\u001b[49m\u001b[38;5;241;43m.\u001b[39;49m\u001b[43mFIND_ELEMENT\u001b[49m\u001b[43m,\u001b[49m\u001b[43m \u001b[49m\u001b[43m{\u001b[49m\u001b[38;5;124;43m\"\u001b[39;49m\u001b[38;5;124;43musing\u001b[39;49m\u001b[38;5;124;43m\"\u001b[39;49m\u001b[43m:\u001b[49m\u001b[43m \u001b[49m\u001b[43mby\u001b[49m\u001b[43m,\u001b[49m\u001b[43m \u001b[49m\u001b[38;5;124;43m\"\u001b[39;49m\u001b[38;5;124;43mvalue\u001b[39;49m\u001b[38;5;124;43m\"\u001b[39;49m\u001b[43m:\u001b[49m\u001b[43m \u001b[49m\u001b[43mvalue\u001b[49m\u001b[43m}\u001b[49m\u001b[43m)\u001b[49m[\u001b[38;5;124m\"\u001b[39m\u001b[38;5;124mvalue\u001b[39m\u001b[38;5;124m\"\u001b[39m]\n",
      "File \u001b[1;32m~\\anaconda3\\envs\\work\\lib\\site-packages\\selenium\\webdriver\\remote\\webdriver.py:345\u001b[0m, in \u001b[0;36mWebDriver.execute\u001b[1;34m(self, driver_command, params)\u001b[0m\n\u001b[0;32m    343\u001b[0m response \u001b[38;5;241m=\u001b[39m \u001b[38;5;28mself\u001b[39m\u001b[38;5;241m.\u001b[39mcommand_executor\u001b[38;5;241m.\u001b[39mexecute(driver_command, params)\n\u001b[0;32m    344\u001b[0m \u001b[38;5;28;01mif\u001b[39;00m response:\n\u001b[1;32m--> 345\u001b[0m     \u001b[38;5;28;43mself\u001b[39;49m\u001b[38;5;241;43m.\u001b[39;49m\u001b[43merror_handler\u001b[49m\u001b[38;5;241;43m.\u001b[39;49m\u001b[43mcheck_response\u001b[49m\u001b[43m(\u001b[49m\u001b[43mresponse\u001b[49m\u001b[43m)\u001b[49m\n\u001b[0;32m    346\u001b[0m     response[\u001b[38;5;124m\"\u001b[39m\u001b[38;5;124mvalue\u001b[39m\u001b[38;5;124m\"\u001b[39m] \u001b[38;5;241m=\u001b[39m \u001b[38;5;28mself\u001b[39m\u001b[38;5;241m.\u001b[39m_unwrap_value(response\u001b[38;5;241m.\u001b[39mget(\u001b[38;5;124m\"\u001b[39m\u001b[38;5;124mvalue\u001b[39m\u001b[38;5;124m\"\u001b[39m, \u001b[38;5;28;01mNone\u001b[39;00m))\n\u001b[0;32m    347\u001b[0m     \u001b[38;5;28;01mreturn\u001b[39;00m response\n",
      "File \u001b[1;32m~\\anaconda3\\envs\\work\\lib\\site-packages\\selenium\\webdriver\\remote\\errorhandler.py:229\u001b[0m, in \u001b[0;36mErrorHandler.check_response\u001b[1;34m(self, response)\u001b[0m\n\u001b[0;32m    227\u001b[0m         alert_text \u001b[38;5;241m=\u001b[39m value[\u001b[38;5;124m\"\u001b[39m\u001b[38;5;124malert\u001b[39m\u001b[38;5;124m\"\u001b[39m]\u001b[38;5;241m.\u001b[39mget(\u001b[38;5;124m\"\u001b[39m\u001b[38;5;124mtext\u001b[39m\u001b[38;5;124m\"\u001b[39m)\n\u001b[0;32m    228\u001b[0m     \u001b[38;5;28;01mraise\u001b[39;00m exception_class(message, screen, stacktrace, alert_text)  \u001b[38;5;66;03m# type: ignore[call-arg]  # mypy is not smart enough here\u001b[39;00m\n\u001b[1;32m--> 229\u001b[0m \u001b[38;5;28;01mraise\u001b[39;00m exception_class(message, screen, stacktrace)\n",
      "\u001b[1;31mNoSuchElementException\u001b[0m: Message: no such element: Unable to locate element: {\"method\":\"xpath\",\"selector\":\"//*[@id=\"app-root\"]/div/div/div/div[7]/div/div[2]/div/div/div[9]/div/a/span[1]\"}\n  (Session info: chrome=115.0.5790.171); For documentation on this error, please visit: https://www.selenium.dev/documentation/webdriver/troubleshooting/errors#no-such-element-exception\nStacktrace:\nBacktrace:\n\tGetHandleVerifier [0x00E32B63+47795]\n\t(No symbol) [0x00DC67E1]\n\t(No symbol) [0x00CCC7ED]\n\t(No symbol) [0x00CF9AC8]\n\t(No symbol) [0x00CF9B8B]\n\t(No symbol) [0x00D28A82]\n\t(No symbol) [0x00D14D14]\n\t(No symbol) [0x00D271DA]\n\t(No symbol) [0x00D14AC6]\n\t(No symbol) [0x00CF13D7]\n\t(No symbol) [0x00CF255D]\n\tGetHandleVerifier [0x01086F89+2490073]\n\tGetHandleVerifier [0x010CC361+2773681]\n\tGetHandleVerifier [0x010C6211+2748769]\n\tGetHandleVerifier [0x00EB16B0+566784]\n\t(No symbol) [0x00DD019A]\n\t(No symbol) [0x00DCC418]\n\t(No symbol) [0x00DCC4FB]\n\t(No symbol) [0x00DBF317]\n\tBaseThreadInitThunk [0x754600C9+25]\n\tRtlGetAppContainerNamedObjectPath [0x76EC7B1E+286]\n\tRtlGetAppContainerNamedObjectPath [0x76EC7AEE+238]\n"
     ]
    }
   ],
   "source": [
    "# 이름\n",
    "res_name = driver.find_element(By.CSS_SELECTOR, '#_title > span.Fc1rA').text\n",
    "\n",
    "# 카테고리\n",
    "res_cate = driver.find_element(By.XPATH, '//*[@id=\"_title\"]/span[2]').text\n",
    "\n",
    "# 별점\n",
    "res_score = driver.find_element(By.XPATH, '//*[@id=\"app-root\"]/div/div/div/div[2]/div[1]/div[2]/span[1]/em').text\n",
    "\n",
    "# 리뷰 수\n",
    "res_review_cnt = driver.find_element(By.XPATH, '//*[@id=\"app-root\"]/div/div/div/div[2]/div[1]/div[2]/span[2]/a/em').text\n",
    "\n",
    "# 블로그 글 수\n",
    "res_blog_cnt = driver.find_element(By.XPATH, '//*[@id=\"app-root\"]/div/div/div/div[2]/div[1]/div[2]/span[3]/a/em').text\n",
    "\n",
    "# 홈 버튼 클릭 \n",
    "driver.find_element(By.XPATH, '//*[@id=\"app-root\"]/div/div/div/div[5]/div/div/div/div/a[1]/span').click()\n",
    "\n",
    "# 주소\n",
    "driver.find_element(By.XPATH, '//*[@id=\"app-root\"]/div/div/div/div[6]/div/div[2]/div/div/div[1]/div/a/span[1]').click()\n",
    "res_address = driver.find_element(By.XPATH, '//*[@id=\"app-root\"]/div/div/div/div[6]/div/div[2]/div/div/div[1]/div/div[1]/div[1]').text\n",
    "\n",
    "# 편의\n",
    "res_facility = driver.find_element(By.XPATH, '//*[@id=\"app-root\"]/div/div/div/div[6]/div/div[2]/div/div/div[6]').text\n",
    "\n",
    "# 방송\n",
    "driver.find_element(By.XPATH, '//*[@id=\"app-root\"]/div/div/div/div[6]/div/div[2]/div/div/div[7]/div/a/div[1]/div/span[1]').click()\n",
    "res_broad = driver.find_element(By.XPATH, '//*[@id=\"app-root\"]/div/div/div/div[6]/div/div[2]/div/div/div[7]').text\n",
    "\n",
    "# 소개글\n",
    "# driver.find_element(By.XPATH, '//*[@id=\"app-root\"]/div/div/div/div[7]/div/div[2]/div/div/div[9]/div/a/span[1]').click()\n",
    "res_info = driver.find_element(By.XPATH, '//*[@id=\"app-root\"]/div/div/div/div[7]/div/div[2]/div/div/div[9]/div/a/span[1]').text\n",
    "\n",
    "\n"
   ]
  },
  {
   "cell_type": "code",
   "execution_count": 11,
   "id": "9d2aea3a-4b54-4dab-9bc3-2f7eb556a339",
   "metadata": {},
   "outputs": [
    {
     "data": {
      "text/plain": [
       "('킷사서울', '일식당', '4.37', '2,444', '2,382')"
      ]
     },
     "execution_count": 11,
     "metadata": {},
     "output_type": "execute_result"
    }
   ],
   "source": [
    "res_name, res_cate, res_score, res_review_cnt, res_blog_cnt"
   ]
  },
  {
   "cell_type": "code",
   "execution_count": 26,
   "id": "030cd79d-e1cd-4999-a3f9-e468f997358e",
   "metadata": {},
   "outputs": [
    {
     "data": {
      "text/plain": [
       "'도로명서울 관악구 남부순환로226길 31 2층 킷사서울복사'"
      ]
     },
     "execution_count": 26,
     "metadata": {},
     "output_type": "execute_result"
    }
   ],
   "source": [
    "res_address"
   ]
  },
  {
   "cell_type": "code",
   "execution_count": 28,
   "id": "c381ca16-920e-4263-a9bd-653509e3d6d4",
   "metadata": {},
   "outputs": [
    {
     "data": {
      "text/plain": [
       "'편의\\n단체석, 무선 인터넷'"
      ]
     },
     "execution_count": 28,
     "metadata": {},
     "output_type": "execute_result"
    }
   ],
   "source": [
    "res_facility"
   ]
  },
  {
   "cell_type": "code",
   "execution_count": 30,
   "id": "227f2160-6f30-4143-8819-4fd172875c56",
   "metadata": {},
   "outputs": [
    {
     "data": {
      "text/plain": [
       "'TV방송정보\\n줄서는식당 43회, 22.11.28.\\n2022년 11월 28일\\n 두툼달걀샌드위치/새우연어장덮밥/매콤소고기전골/오믈렛볶음면\\n생방송투데이 2709회, 20.12.01.\\n2020년 12월 1일\\n 해물덮밥/꽃돼지덮밥\\n접기'"
      ]
     },
     "execution_count": 30,
     "metadata": {},
     "output_type": "execute_result"
    }
   ],
   "source": [
    "res_broad"
   ]
  },
  {
   "cell_type": "code",
   "execution_count": null,
   "id": "3e884e80-1c51-41ad-abee-e0392ffa7ae7",
   "metadata": {},
   "outputs": [],
   "source": []
  },
  {
   "cell_type": "code",
   "execution_count": 37,
   "id": "e6d506b8-cc3c-40ab-a1d3-ef9cccb9af5c",
   "metadata": {},
   "outputs": [
    {
     "ename": "WebDriverException",
     "evalue": "Message: disconnected: not connected to DevTools\n  (failed to check if window was closed: disconnected: not connected to DevTools)\n  (Session info: chrome=115.0.5790.171)\nStacktrace:\nBacktrace:\n\tGetHandleVerifier [0x00E32B63+47795]\n\t(No symbol) [0x00DC67E1]\n\t(No symbol) [0x00CCC7ED]\n\t(No symbol) [0x00CBCE49]\n\t(No symbol) [0x00CBD39A]\n\t(No symbol) [0x00CBD338]\n\t(No symbol) [0x00CB250D]\n\t(No symbol) [0x00CB2DAD]\n\t(No symbol) [0x00D1CE88]\n\t(No symbol) [0x00D14C93]\n\t(No symbol) [0x00CF13D7]\n\t(No symbol) [0x00CF255D]\n\tGetHandleVerifier [0x01086F89+2490073]\n\tGetHandleVerifier [0x010CC361+2773681]\n\tGetHandleVerifier [0x010C6211+2748769]\n\tGetHandleVerifier [0x00EB16B0+566784]\n\t(No symbol) [0x00DD019A]\n\t(No symbol) [0x00DCC418]\n\t(No symbol) [0x00DCC4FB]\n\t(No symbol) [0x00DBF317]\n\tBaseThreadInitThunk [0x754600C9+25]\n\tRtlGetAppContainerNamedObjectPath [0x76EC7B1E+286]\n\tRtlGetAppContainerNamedObjectPath [0x76EC7AEE+238]\n",
     "output_type": "error",
     "traceback": [
      "\u001b[1;31m---------------------------------------------------------------------------\u001b[0m",
      "\u001b[1;31mWebDriverException\u001b[0m                        Traceback (most recent call last)",
      "Cell \u001b[1;32mIn[37], line 1\u001b[0m\n\u001b[1;32m----> 1\u001b[0m \u001b[43mdriver\u001b[49m\u001b[38;5;241;43m.\u001b[39;49m\u001b[43mclose\u001b[49m\u001b[43m(\u001b[49m\u001b[43m)\u001b[49m; ts(\u001b[38;5;241m1\u001b[39m)\n\u001b[0;32m      2\u001b[0m driver\u001b[38;5;241m.\u001b[39mswitch_to\u001b[38;5;241m.\u001b[39mwindow(driver\u001b[38;5;241m.\u001b[39mwindow_handles[\u001b[38;5;241m0\u001b[39m])\n\u001b[0;32m      3\u001b[0m driver\u001b[38;5;241m.\u001b[39mclose()\n",
      "File \u001b[1;32m~\\anaconda3\\envs\\work\\lib\\site-packages\\selenium\\webdriver\\remote\\webdriver.py:456\u001b[0m, in \u001b[0;36mWebDriver.close\u001b[1;34m(self)\u001b[0m\n\u001b[0;32m    448\u001b[0m \u001b[38;5;28;01mdef\u001b[39;00m \u001b[38;5;21mclose\u001b[39m(\u001b[38;5;28mself\u001b[39m) \u001b[38;5;241m-\u001b[39m\u001b[38;5;241m>\u001b[39m \u001b[38;5;28;01mNone\u001b[39;00m:\n\u001b[0;32m    449\u001b[0m \u001b[38;5;250m    \u001b[39m\u001b[38;5;124;03m\"\"\"Closes the current window.\u001b[39;00m\n\u001b[0;32m    450\u001b[0m \n\u001b[0;32m    451\u001b[0m \u001b[38;5;124;03m    :Usage:\u001b[39;00m\n\u001b[1;32m   (...)\u001b[0m\n\u001b[0;32m    454\u001b[0m \u001b[38;5;124;03m            driver.close()\u001b[39;00m\n\u001b[0;32m    455\u001b[0m \u001b[38;5;124;03m    \"\"\"\u001b[39;00m\n\u001b[1;32m--> 456\u001b[0m     \u001b[38;5;28;43mself\u001b[39;49m\u001b[38;5;241;43m.\u001b[39;49m\u001b[43mexecute\u001b[49m\u001b[43m(\u001b[49m\u001b[43mCommand\u001b[49m\u001b[38;5;241;43m.\u001b[39;49m\u001b[43mCLOSE\u001b[49m\u001b[43m)\u001b[49m\n",
      "File \u001b[1;32m~\\anaconda3\\envs\\work\\lib\\site-packages\\selenium\\webdriver\\remote\\webdriver.py:345\u001b[0m, in \u001b[0;36mWebDriver.execute\u001b[1;34m(self, driver_command, params)\u001b[0m\n\u001b[0;32m    343\u001b[0m response \u001b[38;5;241m=\u001b[39m \u001b[38;5;28mself\u001b[39m\u001b[38;5;241m.\u001b[39mcommand_executor\u001b[38;5;241m.\u001b[39mexecute(driver_command, params)\n\u001b[0;32m    344\u001b[0m \u001b[38;5;28;01mif\u001b[39;00m response:\n\u001b[1;32m--> 345\u001b[0m     \u001b[38;5;28;43mself\u001b[39;49m\u001b[38;5;241;43m.\u001b[39;49m\u001b[43merror_handler\u001b[49m\u001b[38;5;241;43m.\u001b[39;49m\u001b[43mcheck_response\u001b[49m\u001b[43m(\u001b[49m\u001b[43mresponse\u001b[49m\u001b[43m)\u001b[49m\n\u001b[0;32m    346\u001b[0m     response[\u001b[38;5;124m\"\u001b[39m\u001b[38;5;124mvalue\u001b[39m\u001b[38;5;124m\"\u001b[39m] \u001b[38;5;241m=\u001b[39m \u001b[38;5;28mself\u001b[39m\u001b[38;5;241m.\u001b[39m_unwrap_value(response\u001b[38;5;241m.\u001b[39mget(\u001b[38;5;124m\"\u001b[39m\u001b[38;5;124mvalue\u001b[39m\u001b[38;5;124m\"\u001b[39m, \u001b[38;5;28;01mNone\u001b[39;00m))\n\u001b[0;32m    347\u001b[0m     \u001b[38;5;28;01mreturn\u001b[39;00m response\n",
      "File \u001b[1;32m~\\anaconda3\\envs\\work\\lib\\site-packages\\selenium\\webdriver\\remote\\errorhandler.py:229\u001b[0m, in \u001b[0;36mErrorHandler.check_response\u001b[1;34m(self, response)\u001b[0m\n\u001b[0;32m    227\u001b[0m         alert_text \u001b[38;5;241m=\u001b[39m value[\u001b[38;5;124m\"\u001b[39m\u001b[38;5;124malert\u001b[39m\u001b[38;5;124m\"\u001b[39m]\u001b[38;5;241m.\u001b[39mget(\u001b[38;5;124m\"\u001b[39m\u001b[38;5;124mtext\u001b[39m\u001b[38;5;124m\"\u001b[39m)\n\u001b[0;32m    228\u001b[0m     \u001b[38;5;28;01mraise\u001b[39;00m exception_class(message, screen, stacktrace, alert_text)  \u001b[38;5;66;03m# type: ignore[call-arg]  # mypy is not smart enough here\u001b[39;00m\n\u001b[1;32m--> 229\u001b[0m \u001b[38;5;28;01mraise\u001b[39;00m exception_class(message, screen, stacktrace)\n",
      "\u001b[1;31mWebDriverException\u001b[0m: Message: disconnected: not connected to DevTools\n  (failed to check if window was closed: disconnected: not connected to DevTools)\n  (Session info: chrome=115.0.5790.171)\nStacktrace:\nBacktrace:\n\tGetHandleVerifier [0x00E32B63+47795]\n\t(No symbol) [0x00DC67E1]\n\t(No symbol) [0x00CCC7ED]\n\t(No symbol) [0x00CBCE49]\n\t(No symbol) [0x00CBD39A]\n\t(No symbol) [0x00CBD338]\n\t(No symbol) [0x00CB250D]\n\t(No symbol) [0x00CB2DAD]\n\t(No symbol) [0x00D1CE88]\n\t(No symbol) [0x00D14C93]\n\t(No symbol) [0x00CF13D7]\n\t(No symbol) [0x00CF255D]\n\tGetHandleVerifier [0x01086F89+2490073]\n\tGetHandleVerifier [0x010CC361+2773681]\n\tGetHandleVerifier [0x010C6211+2748769]\n\tGetHandleVerifier [0x00EB16B0+566784]\n\t(No symbol) [0x00DD019A]\n\t(No symbol) [0x00DCC418]\n\t(No symbol) [0x00DCC4FB]\n\t(No symbol) [0x00DBF317]\n\tBaseThreadInitThunk [0x754600C9+25]\n\tRtlGetAppContainerNamedObjectPath [0x76EC7B1E+286]\n\tRtlGetAppContainerNamedObjectPath [0x76EC7AEE+238]\n"
     ]
    }
   ],
   "source": [
    "driver.close(); ts(1)\n",
    "driver.switch_to.window(driver.window_handles[0])\n",
    "driver.close()\n",
    "driver.quit()"
   ]
  },
  {
   "cell_type": "code",
   "execution_count": null,
   "id": "8830369e-6f38-426b-a9b7-bcb01364613f",
   "metadata": {},
   "outputs": [],
   "source": []
  },
  {
   "cell_type": "code",
   "execution_count": null,
   "id": "cb484a53-67ff-4c62-801d-c882578e7606",
   "metadata": {},
   "outputs": [],
   "source": []
  },
  {
   "cell_type": "code",
   "execution_count": null,
   "id": "b3671730-3559-46fb-9a42-02d800ebed6b",
   "metadata": {},
   "outputs": [],
   "source": []
  },
  {
   "cell_type": "code",
   "execution_count": null,
   "id": "4fbc040d-2927-452a-a940-69adae900583",
   "metadata": {},
   "outputs": [],
   "source": []
  }
 ],
 "metadata": {
  "kernelspec": {
   "display_name": "Python 3 (ipykernel)",
   "language": "python",
   "name": "python3"
  },
  "language_info": {
   "codemirror_mode": {
    "name": "ipython",
    "version": 3
   },
   "file_extension": ".py",
   "mimetype": "text/x-python",
   "name": "python",
   "nbconvert_exporter": "python",
   "pygments_lexer": "ipython3",
   "version": "3.9.16"
  }
 },
 "nbformat": 4,
 "nbformat_minor": 5
}
