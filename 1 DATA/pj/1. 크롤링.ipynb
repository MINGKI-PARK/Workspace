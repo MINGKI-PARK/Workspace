{
 "cells": [
  {
   "cell_type": "code",
   "execution_count": 1,
   "id": "79735a8b-442a-4461-aba3-de3af130d820",
   "metadata": {},
   "outputs": [],
   "source": [
    "from bs4 import BeautifulSoup\n",
    "from selenium import webdriver\n",
    "from selenium.webdriver.chrome.service import Service as ChromeService\n",
    "from selenium.webdriver.common.keys import Keys\n",
    "from selenium.webdriver.common.by import By\n",
    "from webdriver_manager.chrome import ChromeDriverManager\n",
    "\n",
    "import urllib.request, time, os"
   ]
  },
  {
   "cell_type": "code",
   "execution_count": 2,
   "id": "dd35db45-a888-425a-bf2c-24129585906e",
   "metadata": {},
   "outputs": [],
   "source": [
    "def ts(x):\n",
    "    time.sleep(x)"
   ]
  },
  {
   "cell_type": "markdown",
   "id": "1d530d85-61b7-4627-9424-08bc0ec0e428",
   "metadata": {},
   "source": [
    "## 1. "
   ]
  },
  {
   "cell_type": "code",
   "execution_count": 3,
   "id": "c21c8430-255d-41c1-a241-cfb400e2e747",
   "metadata": {},
   "outputs": [],
   "source": [
    "# //*[@id=\"query\"]\n",
    "# //*[@id=\"place-main-section-root\"]/section/div/div[6]/a"
   ]
  },
  {
   "cell_type": "code",
   "execution_count": 4,
   "id": "c5a4e858-3712-465e-9831-11a62f3e9d28",
   "metadata": {},
   "outputs": [],
   "source": [
    "driver = webdriver.Chrome(service=ChromeService(ChromeDriverManager().install())); ts(2)\n",
    "driver.get('https://www.google.co.kr/'); ts(3)\n",
    "driver.get('https://www.naver.com'); ts(2)\n",
    "\n",
    "driver.find_element(By.ID, 'query').send_keys('관악구 돈가스' + '\\n'); ts(3)\n",
    "driver.find_element(By.XPATH, '//*[@id=\"place-main-section-root\"]/section/div/div[6]/a').click()\n",
    "\n",
    "driver.switch_to.window(driver.window_handles[1])\n",
    "\n",
    "# iframe 안으로 들어가기\n",
    "driver.switch_to.frame('searchIframe')\n",
    "\n",
    "# iframe 안쪽을 한번 클릭하기\n",
    "driver.find_element(By.ID, '_pcmap_list_scroll_container').click()\n",
    "\n",
    "# 로딩된 데이터 개수 확인\n",
    "res = driver.find_elements(By.CSS_SELECTOR, '#_pcmap_list_scroll_container > ul > li')\n",
    "before_len = len(res)\n",
    "\n",
    "# 페이지 아래로 내리기\n",
    "while True:\n",
    "    # 맨 아래로 스크롤 내린다.\n",
    "    driver.find_element(By.CSS_SELECTOR, 'body').send_keys(Keys.END)\n",
    "\n",
    "    # 스크롤 사이 페이지 로딩 시간\n",
    "    ts(1.5)\n",
    "\n",
    "    # 스크롤 후 로딩된 데이터 개수 확인\n",
    "    res = driver.find_elements(By.CSS_SELECTOR, '#_pcmap_list_scroll_container > ul > li')\n",
    "    after_len = len(res)\n",
    "\n",
    "    # 로딩된 데이터 개수가 같다면 반복 멈춤\n",
    "    if before_len == after_len:\n",
    "        break\n",
    "    before_len = after_len"
   ]
  },
  {
   "cell_type": "code",
   "execution_count": null,
   "id": "920a2d7a-d241-405c-ae93-c05a4a320e16",
   "metadata": {},
   "outputs": [],
   "source": [
    "# #_pcmap_list_scroll_container > ul > li:nth-child(1)\n",
    "# #_pcmap_list_scroll_container > ul > li:nth-child(50)\n",
    "\n",
    "# #_pcmap_list_scroll_container > ul > li:nth-child(50)"
   ]
  },
  {
   "cell_type": "code",
   "execution_count": 5,
   "id": "ce69b2b1-7c22-4cd7-b394-31f882a31896",
   "metadata": {},
   "outputs": [
    {
     "data": {
      "text/plain": [
       "50"
      ]
     },
     "execution_count": 5,
     "metadata": {},
     "output_type": "execute_result"
    }
   ],
   "source": [
    "after_len"
   ]
  },
  {
   "cell_type": "code",
   "execution_count": 5,
   "id": "dbda165f-171b-40c6-9c60-acadc7cdcab0",
   "metadata": {},
   "outputs": [
    {
     "data": {
      "text/plain": [
       "['82FCFEFD43638380FCBB4011D298D985', 'DE5E1DAC4932DA21BBA20C8351C26695']"
      ]
     },
     "execution_count": 5,
     "metadata": {},
     "output_type": "execute_result"
    }
   ],
   "source": [
    "driver.window_handles"
   ]
  },
  {
   "cell_type": "code",
   "execution_count": null,
   "id": "8a2bfe3d-d39f-42e6-a2bd-0da69ecce51d",
   "metadata": {},
   "outputs": [],
   "source": [
    "driver.switch_to.frame()"
   ]
  },
  {
   "cell_type": "code",
   "execution_count": 6,
   "id": "a06f6653-bbd7-4971-91cc-756cb2d72084",
   "metadata": {},
   "outputs": [],
   "source": [
    "driver.close()"
   ]
  },
  {
   "cell_type": "code",
   "execution_count": 7,
   "id": "e6d506b8-cc3c-40ab-a1d3-ef9cccb9af5c",
   "metadata": {},
   "outputs": [],
   "source": [
    "driver.switch_to.window(driver.window_handles[0])\n",
    "driver.close()"
   ]
  },
  {
   "cell_type": "code",
   "execution_count": 15,
   "id": "1880c4a8-cf9d-4847-ae60-5e8b1ff5b874",
   "metadata": {},
   "outputs": [
    {
     "ename": "NoSuchWindowException",
     "evalue": "Message: no such window: target window already closed\nfrom unknown error: web view not found\n  (Session info: chrome=115.0.5790.171)\nStacktrace:\nBacktrace:\n\tGetHandleVerifier [0x00C92B63+47795]\n\t(No symbol) [0x00C267E1]\n\t(No symbol) [0x00B2C7ED]\n\t(No symbol) [0x00B13495]\n\t(No symbol) [0x00B7893B]\n\t(No symbol) [0x00B7CED4]\n\t(No symbol) [0x00B74C93]\n\t(No symbol) [0x00B513D7]\n\t(No symbol) [0x00B5255D]\n\tGetHandleVerifier [0x00EE6F89+2490073]\n\tGetHandleVerifier [0x00F2C361+2773681]\n\tGetHandleVerifier [0x00F26211+2748769]\n\tGetHandleVerifier [0x00D116B0+566784]\n\t(No symbol) [0x00C3019A]\n\t(No symbol) [0x00C2C418]\n\t(No symbol) [0x00C2C4FB]\n\t(No symbol) [0x00C1F317]\n\tBaseThreadInitThunk [0x75D000C9+25]\n\tRtlGetAppContainerNamedObjectPath [0x77EA7B1E+286]\n\tRtlGetAppContainerNamedObjectPath [0x77EA7AEE+238]\n",
     "output_type": "error",
     "traceback": [
      "\u001b[1;31m---------------------------------------------------------------------------\u001b[0m",
      "\u001b[1;31mNoSuchWindowException\u001b[0m                     Traceback (most recent call last)",
      "Cell \u001b[1;32mIn[15], line 1\u001b[0m\n\u001b[1;32m----> 1\u001b[0m \u001b[43mdriver\u001b[49m\u001b[38;5;241;43m.\u001b[39;49m\u001b[43mclose\u001b[49m\u001b[43m(\u001b[49m\u001b[43m)\u001b[49m\n",
      "File \u001b[1;32m~\\anaconda3\\envs\\work\\lib\\site-packages\\selenium\\webdriver\\remote\\webdriver.py:456\u001b[0m, in \u001b[0;36mWebDriver.close\u001b[1;34m(self)\u001b[0m\n\u001b[0;32m    448\u001b[0m \u001b[38;5;28;01mdef\u001b[39;00m \u001b[38;5;21mclose\u001b[39m(\u001b[38;5;28mself\u001b[39m) \u001b[38;5;241m-\u001b[39m\u001b[38;5;241m>\u001b[39m \u001b[38;5;28;01mNone\u001b[39;00m:\n\u001b[0;32m    449\u001b[0m \u001b[38;5;250m    \u001b[39m\u001b[38;5;124;03m\"\"\"Closes the current window.\u001b[39;00m\n\u001b[0;32m    450\u001b[0m \n\u001b[0;32m    451\u001b[0m \u001b[38;5;124;03m    :Usage:\u001b[39;00m\n\u001b[1;32m   (...)\u001b[0m\n\u001b[0;32m    454\u001b[0m \u001b[38;5;124;03m            driver.close()\u001b[39;00m\n\u001b[0;32m    455\u001b[0m \u001b[38;5;124;03m    \"\"\"\u001b[39;00m\n\u001b[1;32m--> 456\u001b[0m     \u001b[38;5;28;43mself\u001b[39;49m\u001b[38;5;241;43m.\u001b[39;49m\u001b[43mexecute\u001b[49m\u001b[43m(\u001b[49m\u001b[43mCommand\u001b[49m\u001b[38;5;241;43m.\u001b[39;49m\u001b[43mCLOSE\u001b[49m\u001b[43m)\u001b[49m\n",
      "File \u001b[1;32m~\\anaconda3\\envs\\work\\lib\\site-packages\\selenium\\webdriver\\remote\\webdriver.py:345\u001b[0m, in \u001b[0;36mWebDriver.execute\u001b[1;34m(self, driver_command, params)\u001b[0m\n\u001b[0;32m    343\u001b[0m response \u001b[38;5;241m=\u001b[39m \u001b[38;5;28mself\u001b[39m\u001b[38;5;241m.\u001b[39mcommand_executor\u001b[38;5;241m.\u001b[39mexecute(driver_command, params)\n\u001b[0;32m    344\u001b[0m \u001b[38;5;28;01mif\u001b[39;00m response:\n\u001b[1;32m--> 345\u001b[0m     \u001b[38;5;28;43mself\u001b[39;49m\u001b[38;5;241;43m.\u001b[39;49m\u001b[43merror_handler\u001b[49m\u001b[38;5;241;43m.\u001b[39;49m\u001b[43mcheck_response\u001b[49m\u001b[43m(\u001b[49m\u001b[43mresponse\u001b[49m\u001b[43m)\u001b[49m\n\u001b[0;32m    346\u001b[0m     response[\u001b[38;5;124m\"\u001b[39m\u001b[38;5;124mvalue\u001b[39m\u001b[38;5;124m\"\u001b[39m] \u001b[38;5;241m=\u001b[39m \u001b[38;5;28mself\u001b[39m\u001b[38;5;241m.\u001b[39m_unwrap_value(response\u001b[38;5;241m.\u001b[39mget(\u001b[38;5;124m\"\u001b[39m\u001b[38;5;124mvalue\u001b[39m\u001b[38;5;124m\"\u001b[39m, \u001b[38;5;28;01mNone\u001b[39;00m))\n\u001b[0;32m    347\u001b[0m     \u001b[38;5;28;01mreturn\u001b[39;00m response\n",
      "File \u001b[1;32m~\\anaconda3\\envs\\work\\lib\\site-packages\\selenium\\webdriver\\remote\\errorhandler.py:229\u001b[0m, in \u001b[0;36mErrorHandler.check_response\u001b[1;34m(self, response)\u001b[0m\n\u001b[0;32m    227\u001b[0m         alert_text \u001b[38;5;241m=\u001b[39m value[\u001b[38;5;124m\"\u001b[39m\u001b[38;5;124malert\u001b[39m\u001b[38;5;124m\"\u001b[39m]\u001b[38;5;241m.\u001b[39mget(\u001b[38;5;124m\"\u001b[39m\u001b[38;5;124mtext\u001b[39m\u001b[38;5;124m\"\u001b[39m)\n\u001b[0;32m    228\u001b[0m     \u001b[38;5;28;01mraise\u001b[39;00m exception_class(message, screen, stacktrace, alert_text)  \u001b[38;5;66;03m# type: ignore[call-arg]  # mypy is not smart enough here\u001b[39;00m\n\u001b[1;32m--> 229\u001b[0m \u001b[38;5;28;01mraise\u001b[39;00m exception_class(message, screen, stacktrace)\n",
      "\u001b[1;31mNoSuchWindowException\u001b[0m: Message: no such window: target window already closed\nfrom unknown error: web view not found\n  (Session info: chrome=115.0.5790.171)\nStacktrace:\nBacktrace:\n\tGetHandleVerifier [0x00C92B63+47795]\n\t(No symbol) [0x00C267E1]\n\t(No symbol) [0x00B2C7ED]\n\t(No symbol) [0x00B13495]\n\t(No symbol) [0x00B7893B]\n\t(No symbol) [0x00B7CED4]\n\t(No symbol) [0x00B74C93]\n\t(No symbol) [0x00B513D7]\n\t(No symbol) [0x00B5255D]\n\tGetHandleVerifier [0x00EE6F89+2490073]\n\tGetHandleVerifier [0x00F2C361+2773681]\n\tGetHandleVerifier [0x00F26211+2748769]\n\tGetHandleVerifier [0x00D116B0+566784]\n\t(No symbol) [0x00C3019A]\n\t(No symbol) [0x00C2C418]\n\t(No symbol) [0x00C2C4FB]\n\t(No symbol) [0x00C1F317]\n\tBaseThreadInitThunk [0x75D000C9+25]\n\tRtlGetAppContainerNamedObjectPath [0x77EA7B1E+286]\n\tRtlGetAppContainerNamedObjectPath [0x77EA7AEE+238]\n"
     ]
    }
   ],
   "source": [
    "driver.close()"
   ]
  },
  {
   "cell_type": "code",
   "execution_count": null,
   "id": "8830369e-6f38-426b-a9b7-bcb01364613f",
   "metadata": {},
   "outputs": [],
   "source": []
  },
  {
   "cell_type": "code",
   "execution_count": null,
   "id": "cb484a53-67ff-4c62-801d-c882578e7606",
   "metadata": {},
   "outputs": [],
   "source": []
  },
  {
   "cell_type": "code",
   "execution_count": null,
   "id": "b3671730-3559-46fb-9a42-02d800ebed6b",
   "metadata": {},
   "outputs": [],
   "source": []
  },
  {
   "cell_type": "code",
   "execution_count": null,
   "id": "4fbc040d-2927-452a-a940-69adae900583",
   "metadata": {},
   "outputs": [],
   "source": []
  }
 ],
 "metadata": {
  "kernelspec": {
   "display_name": "Python 3 (ipykernel)",
   "language": "python",
   "name": "python3"
  },
  "language_info": {
   "codemirror_mode": {
    "name": "ipython",
    "version": 3
   },
   "file_extension": ".py",
   "mimetype": "text/x-python",
   "name": "python",
   "nbconvert_exporter": "python",
   "pygments_lexer": "ipython3",
   "version": "3.9.16"
  }
 },
 "nbformat": 4,
 "nbformat_minor": 5
}
