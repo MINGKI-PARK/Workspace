{
 "cells": [
  {
   "cell_type": "code",
   "execution_count": 1,
   "id": "79735a8b-442a-4461-aba3-de3af130d820",
   "metadata": {},
   "outputs": [],
   "source": [
    "from bs4 import BeautifulSoup as bs\n",
    "from selenium import webdriver\n",
    "from selenium.webdriver.chrome.service import Service as ChromeService\n",
    "from selenium.webdriver.common.keys import Keys\n",
    "from selenium.webdriver.common.by import By\n",
    "from webdriver_manager.chrome import ChromeDriverManager\n",
    "\n",
    "import urllib.request, time, os"
   ]
  },
  {
   "cell_type": "code",
   "execution_count": 2,
   "id": "dd35db45-a888-425a-bf2c-24129585906e",
   "metadata": {},
   "outputs": [],
   "source": [
    "def ts(x):\n",
    "    time.sleep(x)"
   ]
  },
  {
   "cell_type": "markdown",
   "id": "1d530d85-61b7-4627-9424-08bc0ec0e428",
   "metadata": {},
   "source": [
    "## 1. "
   ]
  },
  {
   "cell_type": "code",
   "execution_count": 3,
   "id": "c21c8430-255d-41c1-a241-cfb400e2e747",
   "metadata": {},
   "outputs": [],
   "source": [
    "# //*[@id=\"query\"]\n",
    "# //*[@id=\"place-main-section-root\"]/section/div/div[6]/a"
   ]
  },
  {
   "cell_type": "code",
   "execution_count": 20,
   "id": "d6da83b7-e8d9-42b7-a6e6-208fb5ed748e",
   "metadata": {},
   "outputs": [],
   "source": [
    "driver = webdriver.Chrome(service=ChromeService(ChromeDriverManager().install())); ts(2)\n",
    "driver.get('https://www.naver.com'); ts(2)\n",
    "\n",
    "driver.find_element(By.ID, 'query').send_keys('관악구 돈가스' + '\\n'); ts(3)\n",
    "\n",
    "driver.find_element(By.XPATH, '//*[@id=\"place-main-section-root\"]/section/div/div[6]/a').click()\n",
    "\n",
    "driver.switch_to.window(driver.window_handles[1])\n",
    "\n",
    "\n",
    "# iframe 안으로 들어가기\n",
    "driver.switch_to.frame('searchIframe')\n",
    "\n",
    "# iframe 안쪽을 한번 클릭하기\n",
    "driver.find_element(By.ID, '_pcmap_list_scroll_container').click()\n",
    "\n",
    "# 로딩된 데이터 개수 확인\n",
    "res = driver.find_elements(By.CSS_SELECTOR, '#_pcmap_list_scroll_container > ul > li')\n",
    "before_len = len(res)\n",
    "\n",
    "# 페이지 아래로 내리기\n",
    "while True:\n",
    "    # 맨 아래로 스크롤 내린다.\n",
    "    driver.find_element(By.CSS_SELECTOR, 'body').send_keys(Keys.END)\n",
    "\n",
    "    # 스크롤 사이 페이지 로딩 시간\n",
    "    ts(2)\n",
    "\n",
    "    # 스크롤 후 로딩된 데이터 개수 확인\n",
    "    res = driver.find_elements(By.CSS_SELECTOR, '#_pcmap_list_scroll_container > ul > li')\n",
    "    after_len = len(res)\n",
    "\n",
    "    # 로딩된 데이터 개수가 같다면 반복 멈춤\n",
    "    if before_len == after_len:\n",
    "        break\n",
    "    before_len = after_len\n",
    "\n",
    "# 첫 번째 음식점부터 클릭\n",
    "driver.find_element(By.CSS_SELECTOR, '#_pcmap_list_scroll_container > ul > li:nth-child(1)').click()\n",
    "ts(1)"
   ]
  },
  {
   "cell_type": "code",
   "execution_count": 22,
   "id": "94395935-0e45-4c64-b1eb-26057e1a223c",
   "metadata": {},
   "outputs": [
    {
     "ename": "ElementClickInterceptedException",
     "evalue": "Message: element click intercepted: Element <div id=\"_title\" class=\"YouOG\">...</div> is not clickable at point (192, 13). Other element would receive the click: <h1 id=\"_header\" class=\"bh9OH\" style=\"opacity: 1;\">...</h1>\n  (Session info: chrome=115.0.5790.171)\nStacktrace:\nBacktrace:\n\tGetHandleVerifier [0x002B2B63+47795]\n\t(No symbol) [0x002467E1]\n\t(No symbol) [0x0014C7ED]\n\t(No symbol) [0x0017DF96]\n\t(No symbol) [0x0017CC09]\n\t(No symbol) [0x0017B3DB]\n\t(No symbol) [0x0017A835]\n\t(No symbol) [0x00173130]\n\t(No symbol) [0x00194CCC]\n\t(No symbol) [0x00172BC6]\n\t(No symbol) [0x00195024]\n\t(No symbol) [0x001A71DA]\n\t(No symbol) [0x00194AC6]\n\t(No symbol) [0x001713D7]\n\t(No symbol) [0x0017255D]\n\tGetHandleVerifier [0x00506F89+2490073]\n\tGetHandleVerifier [0x0054C361+2773681]\n\tGetHandleVerifier [0x00546211+2748769]\n\tGetHandleVerifier [0x003316B0+566784]\n\t(No symbol) [0x0025019A]\n\t(No symbol) [0x0024C418]\n\t(No symbol) [0x0024C4FB]\n\t(No symbol) [0x0023F317]\n\tBaseThreadInitThunk [0x75D000C9+25]\n\tRtlGetAppContainerNamedObjectPath [0x77EA7B1E+286]\n\tRtlGetAppContainerNamedObjectPath [0x77EA7AEE+238]\n\t(No symbol) [0x00000000]\n",
     "output_type": "error",
     "traceback": [
      "\u001b[1;31m---------------------------------------------------------------------------\u001b[0m",
      "\u001b[1;31mElementClickInterceptedException\u001b[0m          Traceback (most recent call last)",
      "Cell \u001b[1;32mIn[22], line 8\u001b[0m\n\u001b[0;32m      5\u001b[0m driver\u001b[38;5;241m.\u001b[39mswitch_to\u001b[38;5;241m.\u001b[39mframe(\u001b[38;5;124m'\u001b[39m\u001b[38;5;124mentryIframe\u001b[39m\u001b[38;5;124m'\u001b[39m)\n\u001b[0;32m      7\u001b[0m \u001b[38;5;66;03m# iframe 안쪽을 한번 클릭하기\u001b[39;00m\n\u001b[1;32m----> 8\u001b[0m \u001b[43mdriver\u001b[49m\u001b[38;5;241;43m.\u001b[39;49m\u001b[43mfind_element\u001b[49m\u001b[43m(\u001b[49m\u001b[43mBy\u001b[49m\u001b[38;5;241;43m.\u001b[39;49m\u001b[43mXPATH\u001b[49m\u001b[43m,\u001b[49m\u001b[43m \u001b[49m\u001b[38;5;124;43m'\u001b[39;49m\u001b[38;5;124;43m//*[@id=\u001b[39;49m\u001b[38;5;124;43m\"\u001b[39;49m\u001b[38;5;124;43m_title\u001b[39;49m\u001b[38;5;124;43m\"\u001b[39;49m\u001b[38;5;124;43m]\u001b[39;49m\u001b[38;5;124;43m'\u001b[39;49m\u001b[43m)\u001b[49m\u001b[38;5;241;43m.\u001b[39;49m\u001b[43mclick\u001b[49m\u001b[43m(\u001b[49m\u001b[43m)\u001b[49m\n",
      "File \u001b[1;32m~\\anaconda3\\envs\\work\\lib\\site-packages\\selenium\\webdriver\\remote\\webelement.py:94\u001b[0m, in \u001b[0;36mWebElement.click\u001b[1;34m(self)\u001b[0m\n\u001b[0;32m     92\u001b[0m \u001b[38;5;28;01mdef\u001b[39;00m \u001b[38;5;21mclick\u001b[39m(\u001b[38;5;28mself\u001b[39m) \u001b[38;5;241m-\u001b[39m\u001b[38;5;241m>\u001b[39m \u001b[38;5;28;01mNone\u001b[39;00m:\n\u001b[0;32m     93\u001b[0m \u001b[38;5;250m    \u001b[39m\u001b[38;5;124;03m\"\"\"Clicks the element.\"\"\"\u001b[39;00m\n\u001b[1;32m---> 94\u001b[0m     \u001b[38;5;28;43mself\u001b[39;49m\u001b[38;5;241;43m.\u001b[39;49m\u001b[43m_execute\u001b[49m\u001b[43m(\u001b[49m\u001b[43mCommand\u001b[49m\u001b[38;5;241;43m.\u001b[39;49m\u001b[43mCLICK_ELEMENT\u001b[49m\u001b[43m)\u001b[49m\n",
      "File \u001b[1;32m~\\anaconda3\\envs\\work\\lib\\site-packages\\selenium\\webdriver\\remote\\webelement.py:395\u001b[0m, in \u001b[0;36mWebElement._execute\u001b[1;34m(self, command, params)\u001b[0m\n\u001b[0;32m    393\u001b[0m     params \u001b[38;5;241m=\u001b[39m {}\n\u001b[0;32m    394\u001b[0m params[\u001b[38;5;124m\"\u001b[39m\u001b[38;5;124mid\u001b[39m\u001b[38;5;124m\"\u001b[39m] \u001b[38;5;241m=\u001b[39m \u001b[38;5;28mself\u001b[39m\u001b[38;5;241m.\u001b[39m_id\n\u001b[1;32m--> 395\u001b[0m \u001b[38;5;28;01mreturn\u001b[39;00m \u001b[38;5;28;43mself\u001b[39;49m\u001b[38;5;241;43m.\u001b[39;49m\u001b[43m_parent\u001b[49m\u001b[38;5;241;43m.\u001b[39;49m\u001b[43mexecute\u001b[49m\u001b[43m(\u001b[49m\u001b[43mcommand\u001b[49m\u001b[43m,\u001b[49m\u001b[43m \u001b[49m\u001b[43mparams\u001b[49m\u001b[43m)\u001b[49m\n",
      "File \u001b[1;32m~\\anaconda3\\envs\\work\\lib\\site-packages\\selenium\\webdriver\\remote\\webdriver.py:345\u001b[0m, in \u001b[0;36mWebDriver.execute\u001b[1;34m(self, driver_command, params)\u001b[0m\n\u001b[0;32m    343\u001b[0m response \u001b[38;5;241m=\u001b[39m \u001b[38;5;28mself\u001b[39m\u001b[38;5;241m.\u001b[39mcommand_executor\u001b[38;5;241m.\u001b[39mexecute(driver_command, params)\n\u001b[0;32m    344\u001b[0m \u001b[38;5;28;01mif\u001b[39;00m response:\n\u001b[1;32m--> 345\u001b[0m     \u001b[38;5;28;43mself\u001b[39;49m\u001b[38;5;241;43m.\u001b[39;49m\u001b[43merror_handler\u001b[49m\u001b[38;5;241;43m.\u001b[39;49m\u001b[43mcheck_response\u001b[49m\u001b[43m(\u001b[49m\u001b[43mresponse\u001b[49m\u001b[43m)\u001b[49m\n\u001b[0;32m    346\u001b[0m     response[\u001b[38;5;124m\"\u001b[39m\u001b[38;5;124mvalue\u001b[39m\u001b[38;5;124m\"\u001b[39m] \u001b[38;5;241m=\u001b[39m \u001b[38;5;28mself\u001b[39m\u001b[38;5;241m.\u001b[39m_unwrap_value(response\u001b[38;5;241m.\u001b[39mget(\u001b[38;5;124m\"\u001b[39m\u001b[38;5;124mvalue\u001b[39m\u001b[38;5;124m\"\u001b[39m, \u001b[38;5;28;01mNone\u001b[39;00m))\n\u001b[0;32m    347\u001b[0m     \u001b[38;5;28;01mreturn\u001b[39;00m response\n",
      "File \u001b[1;32m~\\anaconda3\\envs\\work\\lib\\site-packages\\selenium\\webdriver\\remote\\errorhandler.py:229\u001b[0m, in \u001b[0;36mErrorHandler.check_response\u001b[1;34m(self, response)\u001b[0m\n\u001b[0;32m    227\u001b[0m         alert_text \u001b[38;5;241m=\u001b[39m value[\u001b[38;5;124m\"\u001b[39m\u001b[38;5;124malert\u001b[39m\u001b[38;5;124m\"\u001b[39m]\u001b[38;5;241m.\u001b[39mget(\u001b[38;5;124m\"\u001b[39m\u001b[38;5;124mtext\u001b[39m\u001b[38;5;124m\"\u001b[39m)\n\u001b[0;32m    228\u001b[0m     \u001b[38;5;28;01mraise\u001b[39;00m exception_class(message, screen, stacktrace, alert_text)  \u001b[38;5;66;03m# type: ignore[call-arg]  # mypy is not smart enough here\u001b[39;00m\n\u001b[1;32m--> 229\u001b[0m \u001b[38;5;28;01mraise\u001b[39;00m exception_class(message, screen, stacktrace)\n",
      "\u001b[1;31mElementClickInterceptedException\u001b[0m: Message: element click intercepted: Element <div id=\"_title\" class=\"YouOG\">...</div> is not clickable at point (192, 13). Other element would receive the click: <h1 id=\"_header\" class=\"bh9OH\" style=\"opacity: 1;\">...</h1>\n  (Session info: chrome=115.0.5790.171)\nStacktrace:\nBacktrace:\n\tGetHandleVerifier [0x002B2B63+47795]\n\t(No symbol) [0x002467E1]\n\t(No symbol) [0x0014C7ED]\n\t(No symbol) [0x0017DF96]\n\t(No symbol) [0x0017CC09]\n\t(No symbol) [0x0017B3DB]\n\t(No symbol) [0x0017A835]\n\t(No symbol) [0x00173130]\n\t(No symbol) [0x00194CCC]\n\t(No symbol) [0x00172BC6]\n\t(No symbol) [0x00195024]\n\t(No symbol) [0x001A71DA]\n\t(No symbol) [0x00194AC6]\n\t(No symbol) [0x001713D7]\n\t(No symbol) [0x0017255D]\n\tGetHandleVerifier [0x00506F89+2490073]\n\tGetHandleVerifier [0x0054C361+2773681]\n\tGetHandleVerifier [0x00546211+2748769]\n\tGetHandleVerifier [0x003316B0+566784]\n\t(No symbol) [0x0025019A]\n\t(No symbol) [0x0024C418]\n\t(No symbol) [0x0024C4FB]\n\t(No symbol) [0x0023F317]\n\tBaseThreadInitThunk [0x75D000C9+25]\n\tRtlGetAppContainerNamedObjectPath [0x77EA7B1E+286]\n\tRtlGetAppContainerNamedObjectPath [0x77EA7AEE+238]\n\t(No symbol) [0x00000000]\n"
     ]
    }
   ],
   "source": [
    "# iFrame 나가 기본 콘텐츠로 돌아가기\n",
    "driver.switch_to.default_content()\n",
    "\n",
    "# iframe 전환하기\n",
    "driver.switch_to.frame('entryIframe') # 상세정보"
   ]
  },
  {
   "cell_type": "code",
   "execution_count": 4,
   "id": "27f4e7b4-ca84-46ff-bb96-7206cb21beab",
   "metadata": {},
   "outputs": [
    {
     "ename": "NoSuchElementException",
     "evalue": "Message: no such element: Unable to locate element: {\"method\":\"css selector\",\"selector\":\"[id=\"_title\"]\"}\n  (Session info: chrome=115.0.5790.171); For documentation on this error, please visit: https://www.selenium.dev/documentation/webdriver/troubleshooting/errors#no-such-element-exception\nStacktrace:\nBacktrace:\n\tGetHandleVerifier [0x00C82B63+47795]\n\t(No symbol) [0x00C167E1]\n\t(No symbol) [0x00B1C7ED]\n\t(No symbol) [0x00B49AC8]\n\t(No symbol) [0x00B49B8B]\n\t(No symbol) [0x00B78A82]\n\t(No symbol) [0x00B64D14]\n\t(No symbol) [0x00B771DA]\n\t(No symbol) [0x00B64AC6]\n\t(No symbol) [0x00B413D7]\n\t(No symbol) [0x00B4255D]\n\tGetHandleVerifier [0x00ED6F89+2490073]\n\tGetHandleVerifier [0x00F1C361+2773681]\n\tGetHandleVerifier [0x00F16211+2748769]\n\tGetHandleVerifier [0x00D016B0+566784]\n\t(No symbol) [0x00C2019A]\n\t(No symbol) [0x00C1C418]\n\t(No symbol) [0x00C1C4FB]\n\t(No symbol) [0x00C0F317]\n\tBaseThreadInitThunk [0x75D000C9+25]\n\tRtlGetAppContainerNamedObjectPath [0x77EA7B1E+286]\n\tRtlGetAppContainerNamedObjectPath [0x77EA7AEE+238]\n",
     "output_type": "error",
     "traceback": [
      "\u001b[1;31m---------------------------------------------------------------------------\u001b[0m",
      "\u001b[1;31mNoSuchElementException\u001b[0m                    Traceback (most recent call last)",
      "Cell \u001b[1;32mIn[4], line 43\u001b[0m\n\u001b[0;32m     39\u001b[0m ts(\u001b[38;5;241m1\u001b[39m)\n\u001b[0;32m     41\u001b[0m soup \u001b[38;5;241m=\u001b[39m bs(driver\u001b[38;5;241m.\u001b[39mpage_source, \u001b[38;5;124m'\u001b[39m\u001b[38;5;124mhtml.parser\u001b[39m\u001b[38;5;124m'\u001b[39m)\n\u001b[1;32m---> 43\u001b[0m res_name \u001b[38;5;241m=\u001b[39m \u001b[43mdriver\u001b[49m\u001b[38;5;241;43m.\u001b[39;49m\u001b[43mfind_element\u001b[49m\u001b[43m(\u001b[49m\u001b[43mBy\u001b[49m\u001b[38;5;241;43m.\u001b[39;49m\u001b[43mID\u001b[49m\u001b[43m,\u001b[49m\u001b[43m \u001b[49m\u001b[38;5;124;43m'\u001b[39;49m\u001b[38;5;124;43m_title\u001b[39;49m\u001b[38;5;124;43m'\u001b[39;49m\u001b[43m)\u001b[49m\n\u001b[0;32m     44\u001b[0m res_name2 \u001b[38;5;241m=\u001b[39m driver\u001b[38;5;241m.\u001b[39mfind_element(By\u001b[38;5;241m.\u001b[39mCSS_SELECTOR, \u001b[38;5;124m'\u001b[39m\u001b[38;5;124m#_title > span.Fc1rA\u001b[39m\u001b[38;5;124m'\u001b[39m)\n\u001b[0;32m     45\u001b[0m res_cate \u001b[38;5;241m=\u001b[39m driver\u001b[38;5;241m.\u001b[39mfind_element(By\u001b[38;5;241m.\u001b[39mXPATH, \u001b[38;5;124m'\u001b[39m\u001b[38;5;124m//*[@id=\u001b[39m\u001b[38;5;124m\"\u001b[39m\u001b[38;5;124m_title\u001b[39m\u001b[38;5;124m\"\u001b[39m\u001b[38;5;124m]/span[2]\u001b[39m\u001b[38;5;124m'\u001b[39m)\n",
      "File \u001b[1;32m~\\anaconda3\\envs\\work\\lib\\site-packages\\selenium\\webdriver\\remote\\webdriver.py:739\u001b[0m, in \u001b[0;36mWebDriver.find_element\u001b[1;34m(self, by, value)\u001b[0m\n\u001b[0;32m    736\u001b[0m     by \u001b[38;5;241m=\u001b[39m By\u001b[38;5;241m.\u001b[39mCSS_SELECTOR\n\u001b[0;32m    737\u001b[0m     value \u001b[38;5;241m=\u001b[39m \u001b[38;5;124mf\u001b[39m\u001b[38;5;124m'\u001b[39m\u001b[38;5;124m[name=\u001b[39m\u001b[38;5;124m\"\u001b[39m\u001b[38;5;132;01m{\u001b[39;00mvalue\u001b[38;5;132;01m}\u001b[39;00m\u001b[38;5;124m\"\u001b[39m\u001b[38;5;124m]\u001b[39m\u001b[38;5;124m'\u001b[39m\n\u001b[1;32m--> 739\u001b[0m \u001b[38;5;28;01mreturn\u001b[39;00m \u001b[38;5;28;43mself\u001b[39;49m\u001b[38;5;241;43m.\u001b[39;49m\u001b[43mexecute\u001b[49m\u001b[43m(\u001b[49m\u001b[43mCommand\u001b[49m\u001b[38;5;241;43m.\u001b[39;49m\u001b[43mFIND_ELEMENT\u001b[49m\u001b[43m,\u001b[49m\u001b[43m \u001b[49m\u001b[43m{\u001b[49m\u001b[38;5;124;43m\"\u001b[39;49m\u001b[38;5;124;43musing\u001b[39;49m\u001b[38;5;124;43m\"\u001b[39;49m\u001b[43m:\u001b[49m\u001b[43m \u001b[49m\u001b[43mby\u001b[49m\u001b[43m,\u001b[49m\u001b[43m \u001b[49m\u001b[38;5;124;43m\"\u001b[39;49m\u001b[38;5;124;43mvalue\u001b[39;49m\u001b[38;5;124;43m\"\u001b[39;49m\u001b[43m:\u001b[49m\u001b[43m \u001b[49m\u001b[43mvalue\u001b[49m\u001b[43m}\u001b[49m\u001b[43m)\u001b[49m[\u001b[38;5;124m\"\u001b[39m\u001b[38;5;124mvalue\u001b[39m\u001b[38;5;124m\"\u001b[39m]\n",
      "File \u001b[1;32m~\\anaconda3\\envs\\work\\lib\\site-packages\\selenium\\webdriver\\remote\\webdriver.py:345\u001b[0m, in \u001b[0;36mWebDriver.execute\u001b[1;34m(self, driver_command, params)\u001b[0m\n\u001b[0;32m    343\u001b[0m response \u001b[38;5;241m=\u001b[39m \u001b[38;5;28mself\u001b[39m\u001b[38;5;241m.\u001b[39mcommand_executor\u001b[38;5;241m.\u001b[39mexecute(driver_command, params)\n\u001b[0;32m    344\u001b[0m \u001b[38;5;28;01mif\u001b[39;00m response:\n\u001b[1;32m--> 345\u001b[0m     \u001b[38;5;28;43mself\u001b[39;49m\u001b[38;5;241;43m.\u001b[39;49m\u001b[43merror_handler\u001b[49m\u001b[38;5;241;43m.\u001b[39;49m\u001b[43mcheck_response\u001b[49m\u001b[43m(\u001b[49m\u001b[43mresponse\u001b[49m\u001b[43m)\u001b[49m\n\u001b[0;32m    346\u001b[0m     response[\u001b[38;5;124m\"\u001b[39m\u001b[38;5;124mvalue\u001b[39m\u001b[38;5;124m\"\u001b[39m] \u001b[38;5;241m=\u001b[39m \u001b[38;5;28mself\u001b[39m\u001b[38;5;241m.\u001b[39m_unwrap_value(response\u001b[38;5;241m.\u001b[39mget(\u001b[38;5;124m\"\u001b[39m\u001b[38;5;124mvalue\u001b[39m\u001b[38;5;124m\"\u001b[39m, \u001b[38;5;28;01mNone\u001b[39;00m))\n\u001b[0;32m    347\u001b[0m     \u001b[38;5;28;01mreturn\u001b[39;00m response\n",
      "File \u001b[1;32m~\\anaconda3\\envs\\work\\lib\\site-packages\\selenium\\webdriver\\remote\\errorhandler.py:229\u001b[0m, in \u001b[0;36mErrorHandler.check_response\u001b[1;34m(self, response)\u001b[0m\n\u001b[0;32m    227\u001b[0m         alert_text \u001b[38;5;241m=\u001b[39m value[\u001b[38;5;124m\"\u001b[39m\u001b[38;5;124malert\u001b[39m\u001b[38;5;124m\"\u001b[39m]\u001b[38;5;241m.\u001b[39mget(\u001b[38;5;124m\"\u001b[39m\u001b[38;5;124mtext\u001b[39m\u001b[38;5;124m\"\u001b[39m)\n\u001b[0;32m    228\u001b[0m     \u001b[38;5;28;01mraise\u001b[39;00m exception_class(message, screen, stacktrace, alert_text)  \u001b[38;5;66;03m# type: ignore[call-arg]  # mypy is not smart enough here\u001b[39;00m\n\u001b[1;32m--> 229\u001b[0m \u001b[38;5;28;01mraise\u001b[39;00m exception_class(message, screen, stacktrace)\n",
      "\u001b[1;31mNoSuchElementException\u001b[0m: Message: no such element: Unable to locate element: {\"method\":\"css selector\",\"selector\":\"[id=\"_title\"]\"}\n  (Session info: chrome=115.0.5790.171); For documentation on this error, please visit: https://www.selenium.dev/documentation/webdriver/troubleshooting/errors#no-such-element-exception\nStacktrace:\nBacktrace:\n\tGetHandleVerifier [0x00C82B63+47795]\n\t(No symbol) [0x00C167E1]\n\t(No symbol) [0x00B1C7ED]\n\t(No symbol) [0x00B49AC8]\n\t(No symbol) [0x00B49B8B]\n\t(No symbol) [0x00B78A82]\n\t(No symbol) [0x00B64D14]\n\t(No symbol) [0x00B771DA]\n\t(No symbol) [0x00B64AC6]\n\t(No symbol) [0x00B413D7]\n\t(No symbol) [0x00B4255D]\n\tGetHandleVerifier [0x00ED6F89+2490073]\n\tGetHandleVerifier [0x00F1C361+2773681]\n\tGetHandleVerifier [0x00F16211+2748769]\n\tGetHandleVerifier [0x00D016B0+566784]\n\t(No symbol) [0x00C2019A]\n\t(No symbol) [0x00C1C418]\n\t(No symbol) [0x00C1C4FB]\n\t(No symbol) [0x00C0F317]\n\tBaseThreadInitThunk [0x75D000C9+25]\n\tRtlGetAppContainerNamedObjectPath [0x77EA7B1E+286]\n\tRtlGetAppContainerNamedObjectPath [0x77EA7AEE+238]\n"
     ]
    }
   ],
   "source": [
    "\n",
    "res_name = driver.find_element(By.CSS_SELECTOR, '#_title > span.Fc1rA').text\n",
    "res_cate = driver.find_element(By.XPATH, '//*[@id=\"_title\"]/span[2]').text\n",
    "res_score = driver.find_element(By.XPATH, '//*[@id=\"app-root\"]/div/div/div/div[2]/div[1]/div[2]/span[1]/em').text\n",
    "res_review_cnt = driver.find_element(By.XPATH, '//*[@id=\"app-root\"]/div/div/div/div[2]/div[1]/div[2]/span[2]/a/em').text\n",
    "res_blog_cnt = driver.find_element(By.XPATH, '//*[@id=\"app-root\"]/div/div/div/div[2]/div[1]/div[2]/span[3]/a/em').text\n",
    "res_address = driver.find_element(By.XPATH, '//*[@id=\"app-root\"]/div/div/div/div[6]/div/div[2]/div/div/div[1]/div/a/span[1]').text\n",
    "res_facility = driver.find_element(By.XPATH, '//*[@id=\"app-root\"]/div/div/div/div[7]/div/div[2]/div/div/div[6]/div').text\n",
    "res_broad = driver.find_element(By.XPATH, '//*[@id=\"app-root\"]/div/div/div/div[7]/div/div[2]/div/div/div[7]/div/a/div[1]/div/span[1]').text\n",
    "res_info = driver.find_element(By.XPATH, '//*[@id=\"app-root\"]/div/div/div/div[7]/div/div[2]/div/div/div[9]/div/a/span[1]').text\n",
    "\n",
    "\n",
    "\n",
    "\n",
    "\n",
    "# //*[@id=\"_title\"]/span[1]\n",
    "\n",
    "# #app-root > div > div > div"
   ]
  },
  {
   "cell_type": "code",
   "execution_count": null,
   "id": "920a2d7a-d241-405c-ae93-c05a4a320e16",
   "metadata": {},
   "outputs": [],
   "source": [
    "# #_pcmap_list_scroll_container > ul > li:nth-child(1)\n",
    "# #_pcmap_list_scroll_container > ul > li:nth-child(50)\n",
    "\n",
    "# #_pcmap_list_scroll_container > ul > li:nth-child(50)"
   ]
  },
  {
   "cell_type": "code",
   "execution_count": 19,
   "id": "9d757416-f22c-4621-960e-987786e7b8e1",
   "metadata": {
    "tags": []
   },
   "outputs": [
    {
     "data": {
      "text/plain": [
       "[]"
      ]
     },
     "execution_count": 19,
     "metadata": {},
     "output_type": "execute_result"
    }
   ],
   "source": [
    "soup.select('iframe')"
   ]
  },
  {
   "cell_type": "code",
   "execution_count": 5,
   "id": "ce69b2b1-7c22-4cd7-b394-31f882a31896",
   "metadata": {},
   "outputs": [
    {
     "data": {
      "text/plain": [
       "50"
      ]
     },
     "execution_count": 5,
     "metadata": {},
     "output_type": "execute_result"
    }
   ],
   "source": [
    "after_len"
   ]
  },
  {
   "cell_type": "code",
   "execution_count": 5,
   "id": "dbda165f-171b-40c6-9c60-acadc7cdcab0",
   "metadata": {},
   "outputs": [
    {
     "data": {
      "text/plain": [
       "['82FCFEFD43638380FCBB4011D298D985', 'DE5E1DAC4932DA21BBA20C8351C26695']"
      ]
     },
     "execution_count": 5,
     "metadata": {},
     "output_type": "execute_result"
    }
   ],
   "source": [
    "driver.window_handles"
   ]
  },
  {
   "cell_type": "code",
   "execution_count": null,
   "id": "8a2bfe3d-d39f-42e6-a2bd-0da69ecce51d",
   "metadata": {},
   "outputs": [],
   "source": [
    "driver.switch_to.frame()"
   ]
  },
  {
   "cell_type": "code",
   "execution_count": 30,
   "id": "e6d506b8-cc3c-40ab-a1d3-ef9cccb9af5c",
   "metadata": {},
   "outputs": [],
   "source": [
    "driver.close(); ts(1)\n",
    "driver.switch_to.window(driver.window_handles[0])\n",
    "driver.close()\n",
    "driver.quit()"
   ]
  },
  {
   "cell_type": "code",
   "execution_count": null,
   "id": "8830369e-6f38-426b-a9b7-bcb01364613f",
   "metadata": {},
   "outputs": [],
   "source": []
  },
  {
   "cell_type": "code",
   "execution_count": null,
   "id": "cb484a53-67ff-4c62-801d-c882578e7606",
   "metadata": {},
   "outputs": [],
   "source": []
  },
  {
   "cell_type": "code",
   "execution_count": null,
   "id": "b3671730-3559-46fb-9a42-02d800ebed6b",
   "metadata": {},
   "outputs": [],
   "source": []
  },
  {
   "cell_type": "code",
   "execution_count": null,
   "id": "4fbc040d-2927-452a-a940-69adae900583",
   "metadata": {},
   "outputs": [],
   "source": []
  }
 ],
 "metadata": {
  "kernelspec": {
   "display_name": "Python 3 (ipykernel)",
   "language": "python",
   "name": "python3"
  },
  "language_info": {
   "codemirror_mode": {
    "name": "ipython",
    "version": 3
   },
   "file_extension": ".py",
   "mimetype": "text/x-python",
   "name": "python",
   "nbconvert_exporter": "python",
   "pygments_lexer": "ipython3",
   "version": "3.9.16"
  }
 },
 "nbformat": 4,
 "nbformat_minor": 5
}
